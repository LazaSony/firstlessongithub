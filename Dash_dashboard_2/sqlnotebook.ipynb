{
 "cells": [
  {
   "cell_type": "code",
   "execution_count": 1,
   "metadata": {},
   "outputs": [],
   "source": [
    "import pandas as pd\n",
    "import sqlite3\n",
    "conn = sqlite3.connect(r'data/flights.db')\n",
    "# https://www.dataquest.io/blog/python-pandas-databases/\n",
    "\n",
    "# tables - airports, airlines, routes\n",
    "\n",
    "\n",
    "# return all tables in database\n",
    "# query =\"\"\"SELECT name from sqlite_master where type= \"table\";\"\"\"\n"
   ]
  },
  {
   "cell_type": "code",
   "execution_count": 20,
   "metadata": {},
   "outputs": [
    {
     "ename": "TypeError",
     "evalue": "'autocommit' is an invalid keyword argument for this function",
     "output_type": "error",
     "traceback": [
      "\u001b[1;31m---------------------------------------------------------------------------\u001b[0m",
      "\u001b[1;31mTypeError\u001b[0m                                 Traceback (most recent call last)",
      "\u001b[1;32m~\\AppData\\Local\\Temp/ipykernel_17332/1178952728.py\u001b[0m in \u001b[0;36m<module>\u001b[1;34m\u001b[0m\n\u001b[1;32m----> 1\u001b[1;33m \u001b[0mconn\u001b[0m \u001b[1;33m=\u001b[0m \u001b[0msqlite3\u001b[0m\u001b[1;33m.\u001b[0m\u001b[0mconnect\u001b[0m\u001b[1;33m(\u001b[0m\u001b[1;34mr'data/flights.db'\u001b[0m\u001b[1;33m,\u001b[0m \u001b[0mautocommit\u001b[0m\u001b[1;33m=\u001b[0m\u001b[1;32mTrue\u001b[0m\u001b[1;33m)\u001b[0m\u001b[1;33m\u001b[0m\u001b[1;33m\u001b[0m\u001b[0m\n\u001b[0m\u001b[0;32m      2\u001b[0m \u001b[1;33m\u001b[0m\u001b[0m\n\u001b[0;32m      3\u001b[0m query = \"\"\"INSERT INTO airlines ('name', 'alias', 'iata', 'icao', 'callsign', 'country', 'active')\n\u001b[0;32m      4\u001b[0m            VALUES (?, ?, ?, ?, ?, ?, ?)\"\"\"\n\u001b[0;32m      5\u001b[0m \u001b[0mparams\u001b[0m \u001b[1;33m=\u001b[0m \u001b[1;33m(\u001b[0m\u001b[1;34m\"my_ariline_1\"\u001b[0m\u001b[1;33m,\u001b[0m \u001b[1;34m\"MA1\"\u001b[0m\u001b[1;33m,\u001b[0m \u001b[1;34m\"A\"\u001b[0m\u001b[1;33m,\u001b[0m \u001b[1;34m\"B\"\u001b[0m\u001b[1;33m,\u001b[0m \u001b[1;34m\"MA1\"\u001b[0m\u001b[1;33m,\u001b[0m \u001b[1;34m\"EU\"\u001b[0m\u001b[1;33m,\u001b[0m \u001b[1;34m\"Y\"\u001b[0m\u001b[1;33m,\u001b[0m\u001b[1;33m)\u001b[0m\u001b[1;33m\u001b[0m\u001b[1;33m\u001b[0m\u001b[0m\n",
      "\u001b[1;31mTypeError\u001b[0m: 'autocommit' is an invalid keyword argument for this function"
     ]
    }
   ],
   "source": [
    "conn = sqlite3.connect(r'data/flights.db')\n",
    "\n",
    "query = \"\"\"INSERT INTO airlines ('name', 'alias', 'iata', 'icao', 'callsign', 'country', 'active')\n",
    "           VALUES (?, ?, ?, ?, ?, ?, ?)\"\"\"\n",
    "params = (\"my_ariline_1\", \"MA1\", \"A\", \"B\", \"MA1\", \"EU\", \"Y\",)\n",
    "\n",
    "cursor = conn.cursor()\n",
    "cursor.execute(query, params)\n",
    "conn.commit()\n",
    "cursor.close()"
   ]
  },
  {
   "cell_type": "code",
   "execution_count": 18,
   "metadata": {},
   "outputs": [
    {
     "data": {
      "text/html": [
       "<div>\n",
       "<style scoped>\n",
       "    .dataframe tbody tr th:only-of-type {\n",
       "        vertical-align: middle;\n",
       "    }\n",
       "\n",
       "    .dataframe tbody tr th {\n",
       "        vertical-align: top;\n",
       "    }\n",
       "\n",
       "    .dataframe thead th {\n",
       "        text-align: right;\n",
       "    }\n",
       "</style>\n",
       "<table border=\"1\" class=\"dataframe\">\n",
       "  <thead>\n",
       "    <tr style=\"text-align: right;\">\n",
       "      <th></th>\n",
       "      <th>index</th>\n",
       "      <th>id</th>\n",
       "      <th>name</th>\n",
       "      <th>alias</th>\n",
       "      <th>iata</th>\n",
       "      <th>icao</th>\n",
       "      <th>callsign</th>\n",
       "      <th>country</th>\n",
       "      <th>active</th>\n",
       "    </tr>\n",
       "  </thead>\n",
       "  <tbody>\n",
       "    <tr>\n",
       "      <th>6045</th>\n",
       "      <td>6045.0</td>\n",
       "      <td>19831</td>\n",
       "      <td>Fly Europa</td>\n",
       "      <td>None</td>\n",
       "      <td>ER</td>\n",
       "      <td>RWW</td>\n",
       "      <td>None</td>\n",
       "      <td>Spain</td>\n",
       "      <td>Y</td>\n",
       "    </tr>\n",
       "    <tr>\n",
       "      <th>6046</th>\n",
       "      <td>6046.0</td>\n",
       "      <td>19834</td>\n",
       "      <td>FlyPortugal</td>\n",
       "      <td>None</td>\n",
       "      <td>PO</td>\n",
       "      <td>FPT</td>\n",
       "      <td>FlyPortugal</td>\n",
       "      <td>Portugal</td>\n",
       "      <td>Y</td>\n",
       "    </tr>\n",
       "    <tr>\n",
       "      <th>6047</th>\n",
       "      <td>6047.0</td>\n",
       "      <td>19845</td>\n",
       "      <td>FTI Fluggesellschaft</td>\n",
       "      <td>None</td>\n",
       "      <td>None</td>\n",
       "      <td>FTI</td>\n",
       "      <td>None</td>\n",
       "      <td>Germany</td>\n",
       "      <td>N</td>\n",
       "    </tr>\n",
       "    <tr>\n",
       "      <th>6048</th>\n",
       "      <td>NaN</td>\n",
       "      <td>None</td>\n",
       "      <td>my_ariline_1</td>\n",
       "      <td>MA1</td>\n",
       "      <td>A</td>\n",
       "      <td>B</td>\n",
       "      <td>MA1</td>\n",
       "      <td>EU</td>\n",
       "      <td>Y</td>\n",
       "    </tr>\n",
       "    <tr>\n",
       "      <th>6049</th>\n",
       "      <td>NaN</td>\n",
       "      <td>None</td>\n",
       "      <td>None</td>\n",
       "      <td>None</td>\n",
       "      <td>A</td>\n",
       "      <td>B</td>\n",
       "      <td>MA1</td>\n",
       "      <td>EU</td>\n",
       "      <td>Y</td>\n",
       "    </tr>\n",
       "  </tbody>\n",
       "</table>\n",
       "</div>"
      ],
      "text/plain": [
       "       index     id                  name alias  iata icao     callsign  \\\n",
       "6045  6045.0  19831            Fly Europa  None    ER  RWW         None   \n",
       "6046  6046.0  19834           FlyPortugal  None    PO  FPT  FlyPortugal   \n",
       "6047  6047.0  19845  FTI Fluggesellschaft  None  None  FTI         None   \n",
       "6048     NaN   None          my_ariline_1   MA1     A    B          MA1   \n",
       "6049     NaN   None                  None  None     A    B          MA1   \n",
       "\n",
       "       country active  \n",
       "6045     Spain      Y  \n",
       "6046  Portugal      Y  \n",
       "6047   Germany      N  \n",
       "6048        EU      Y  \n",
       "6049        EU      Y  "
      ]
     },
     "execution_count": 18,
     "metadata": {},
     "output_type": "execute_result"
    }
   ],
   "source": [
    "\n",
    "query =\"\"\"SELECT * \n",
    "            FROM airlines\"\"\"\n",
    "df = pd.read_sql(query, \n",
    "                conn,)\n",
    "df.tail()"
   ]
  },
  {
   "cell_type": "code",
   "execution_count": 2,
   "metadata": {},
   "outputs": [
    {
     "data": {
      "text/html": [
       "<div>\n",
       "<style scoped>\n",
       "    .dataframe tbody tr th:only-of-type {\n",
       "        vertical-align: middle;\n",
       "    }\n",
       "\n",
       "    .dataframe tbody tr th {\n",
       "        vertical-align: top;\n",
       "    }\n",
       "\n",
       "    .dataframe thead th {\n",
       "        text-align: right;\n",
       "    }\n",
       "</style>\n",
       "<table border=\"1\" class=\"dataframe\">\n",
       "  <thead>\n",
       "    <tr style=\"text-align: right;\">\n",
       "      <th></th>\n",
       "      <th>index</th>\n",
       "      <th>id</th>\n",
       "      <th>name</th>\n",
       "      <th>city</th>\n",
       "      <th>country</th>\n",
       "      <th>code</th>\n",
       "      <th>icao</th>\n",
       "      <th>latitude</th>\n",
       "      <th>longitude</th>\n",
       "      <th>altitude</th>\n",
       "      <th>offset</th>\n",
       "      <th>dst</th>\n",
       "      <th>timezone</th>\n",
       "    </tr>\n",
       "  </thead>\n",
       "  <tbody>\n",
       "    <tr>\n",
       "      <th>0</th>\n",
       "      <td>318</td>\n",
       "      <td>6891</td>\n",
       "      <td>Putnam County Airport</td>\n",
       "      <td>Greencastle</td>\n",
       "      <td>United States</td>\n",
       "      <td>4I7</td>\n",
       "      <td>\\N</td>\n",
       "      <td>39.633556</td>\n",
       "      <td>-86.813806</td>\n",
       "      <td>842</td>\n",
       "      <td>-5</td>\n",
       "      <td>U</td>\n",
       "      <td>America/New_York</td>\n",
       "    </tr>\n",
       "    <tr>\n",
       "      <th>1</th>\n",
       "      <td>1104</td>\n",
       "      <td>6890</td>\n",
       "      <td>Dowagiac Municipal Airport</td>\n",
       "      <td>Dowagiac</td>\n",
       "      <td>United States</td>\n",
       "      <td>C91</td>\n",
       "      <td>\\N</td>\n",
       "      <td>41.992934</td>\n",
       "      <td>-86.128012</td>\n",
       "      <td>748</td>\n",
       "      <td>-5</td>\n",
       "      <td>U</td>\n",
       "      <td>America/New_York</td>\n",
       "    </tr>\n",
       "    <tr>\n",
       "      <th>2</th>\n",
       "      <td>1121</td>\n",
       "      <td>6889</td>\n",
       "      <td>Cambridge Municipal Airport</td>\n",
       "      <td>Cambridge</td>\n",
       "      <td>United States</td>\n",
       "      <td>CDI</td>\n",
       "      <td>\\N</td>\n",
       "      <td>39.975028</td>\n",
       "      <td>-81.577583</td>\n",
       "      <td>799</td>\n",
       "      <td>-5</td>\n",
       "      <td>U</td>\n",
       "      <td>America/New_York</td>\n",
       "    </tr>\n",
       "    <tr>\n",
       "      <th>3</th>\n",
       "      <td>1470</td>\n",
       "      <td>6885</td>\n",
       "      <td>Door County Cherryland Airport</td>\n",
       "      <td>Sturgeon Bay</td>\n",
       "      <td>United States</td>\n",
       "      <td>SUE</td>\n",
       "      <td>\\N</td>\n",
       "      <td>44.843667</td>\n",
       "      <td>-87.421556</td>\n",
       "      <td>725</td>\n",
       "      <td>-6</td>\n",
       "      <td>U</td>\n",
       "      <td>America/Chicago</td>\n",
       "    </tr>\n",
       "    <tr>\n",
       "      <th>4</th>\n",
       "      <td>1507</td>\n",
       "      <td>6884</td>\n",
       "      <td>Shoestring Aviation Airfield</td>\n",
       "      <td>Stewartstown</td>\n",
       "      <td>United States</td>\n",
       "      <td>0P2</td>\n",
       "      <td>\\N</td>\n",
       "      <td>39.794824</td>\n",
       "      <td>-76.647191</td>\n",
       "      <td>1000</td>\n",
       "      <td>-5</td>\n",
       "      <td>U</td>\n",
       "      <td>America/New_York</td>\n",
       "    </tr>\n",
       "    <tr>\n",
       "      <th>...</th>\n",
       "      <td>...</td>\n",
       "      <td>...</td>\n",
       "      <td>...</td>\n",
       "      <td>...</td>\n",
       "      <td>...</td>\n",
       "      <td>...</td>\n",
       "      <td>...</td>\n",
       "      <td>...</td>\n",
       "      <td>...</td>\n",
       "      <td>...</td>\n",
       "      <td>...</td>\n",
       "      <td>...</td>\n",
       "      <td>...</td>\n",
       "    </tr>\n",
       "    <tr>\n",
       "      <th>195</th>\n",
       "      <td>3470</td>\n",
       "      <td>3569</td>\n",
       "      <td>Palmer Muni</td>\n",
       "      <td>Palmer</td>\n",
       "      <td>United States</td>\n",
       "      <td>PAQ</td>\n",
       "      <td>PAAQ</td>\n",
       "      <td>61.594914</td>\n",
       "      <td>-149.088711</td>\n",
       "      <td>242</td>\n",
       "      <td>-9</td>\n",
       "      <td>A</td>\n",
       "      <td>America/Anchorage</td>\n",
       "    </tr>\n",
       "    <tr>\n",
       "      <th>196</th>\n",
       "      <td>3471</td>\n",
       "      <td>3570</td>\n",
       "      <td>Pittsburgh Intl</td>\n",
       "      <td>Pittsburgh</td>\n",
       "      <td>United States</td>\n",
       "      <td>PIT</td>\n",
       "      <td>KPIT</td>\n",
       "      <td>40.491467</td>\n",
       "      <td>-80.232872</td>\n",
       "      <td>1204</td>\n",
       "      <td>-5</td>\n",
       "      <td>A</td>\n",
       "      <td>America/New_York</td>\n",
       "    </tr>\n",
       "    <tr>\n",
       "      <th>197</th>\n",
       "      <td>3472</td>\n",
       "      <td>3571</td>\n",
       "      <td>Wiley Post Will Rogers Mem</td>\n",
       "      <td>Barrow</td>\n",
       "      <td>United States</td>\n",
       "      <td>BRW</td>\n",
       "      <td>PABR</td>\n",
       "      <td>71.285446</td>\n",
       "      <td>-156.766003</td>\n",
       "      <td>44</td>\n",
       "      <td>-9</td>\n",
       "      <td>A</td>\n",
       "      <td>America/Anchorage</td>\n",
       "    </tr>\n",
       "    <tr>\n",
       "      <th>198</th>\n",
       "      <td>3473</td>\n",
       "      <td>3572</td>\n",
       "      <td>Ellington Fld</td>\n",
       "      <td>Houston</td>\n",
       "      <td>United States</td>\n",
       "      <td>EFD</td>\n",
       "      <td>KEFD</td>\n",
       "      <td>29.607333</td>\n",
       "      <td>-95.158750</td>\n",
       "      <td>32</td>\n",
       "      <td>-6</td>\n",
       "      <td>A</td>\n",
       "      <td>America/Chicago</td>\n",
       "    </tr>\n",
       "    <tr>\n",
       "      <th>199</th>\n",
       "      <td>3474</td>\n",
       "      <td>3573</td>\n",
       "      <td>Whidbey Island Nas</td>\n",
       "      <td>Whidbey Island</td>\n",
       "      <td>United States</td>\n",
       "      <td>NUW</td>\n",
       "      <td>KNUW</td>\n",
       "      <td>48.351803</td>\n",
       "      <td>-122.655906</td>\n",
       "      <td>47</td>\n",
       "      <td>-8</td>\n",
       "      <td>A</td>\n",
       "      <td>America/Los_Angeles</td>\n",
       "    </tr>\n",
       "  </tbody>\n",
       "</table>\n",
       "<p>200 rows × 13 columns</p>\n",
       "</div>"
      ],
      "text/plain": [
       "     index    id                            name            city  \\\n",
       "0      318  6891           Putnam County Airport     Greencastle   \n",
       "1     1104  6890      Dowagiac Municipal Airport        Dowagiac   \n",
       "2     1121  6889     Cambridge Municipal Airport       Cambridge   \n",
       "3     1470  6885  Door County Cherryland Airport    Sturgeon Bay   \n",
       "4     1507  6884    Shoestring Aviation Airfield    Stewartstown   \n",
       "..     ...   ...                             ...             ...   \n",
       "195   3470  3569                     Palmer Muni          Palmer   \n",
       "196   3471  3570                 Pittsburgh Intl      Pittsburgh   \n",
       "197   3472  3571      Wiley Post Will Rogers Mem          Barrow   \n",
       "198   3473  3572                   Ellington Fld         Houston   \n",
       "199   3474  3573              Whidbey Island Nas  Whidbey Island   \n",
       "\n",
       "           country code  icao   latitude   longitude altitude offset dst  \\\n",
       "0    United States  4I7    \\N  39.633556  -86.813806      842     -5   U   \n",
       "1    United States  C91    \\N  41.992934  -86.128012      748     -5   U   \n",
       "2    United States  CDI    \\N  39.975028  -81.577583      799     -5   U   \n",
       "3    United States  SUE    \\N  44.843667  -87.421556      725     -6   U   \n",
       "4    United States  0P2    \\N  39.794824  -76.647191     1000     -5   U   \n",
       "..             ...  ...   ...        ...         ...      ...    ...  ..   \n",
       "195  United States  PAQ  PAAQ  61.594914 -149.088711      242     -9   A   \n",
       "196  United States  PIT  KPIT  40.491467  -80.232872     1204     -5   A   \n",
       "197  United States  BRW  PABR  71.285446 -156.766003       44     -9   A   \n",
       "198  United States  EFD  KEFD  29.607333  -95.158750       32     -6   A   \n",
       "199  United States  NUW  KNUW  48.351803 -122.655906       47     -8   A   \n",
       "\n",
       "                timezone  \n",
       "0       America/New_York  \n",
       "1       America/New_York  \n",
       "2       America/New_York  \n",
       "3        America/Chicago  \n",
       "4       America/New_York  \n",
       "..                   ...  \n",
       "195    America/Anchorage  \n",
       "196     America/New_York  \n",
       "197    America/Anchorage  \n",
       "198      America/Chicago  \n",
       "199  America/Los_Angeles  \n",
       "\n",
       "[200 rows x 13 columns]"
      ]
     },
     "execution_count": 2,
     "metadata": {},
     "output_type": "execute_result"
    }
   ],
   "source": [
    "\n",
    "query =\"\"\"SELECT * \n",
    "            FROM airports\n",
    "            WHERE country = '{}' \n",
    "            LIMIT {}\"\"\".format(\"United States\", 200)\n",
    "df = pd.read_sql(query, \n",
    "                conn,)\n",
    "df[[\"latitude\",\"longitude\"]] = df[[\"latitude\",\"longitude\"]].astype(float)\n",
    "df"
   ]
  },
  {
   "cell_type": "code",
   "execution_count": 89,
   "metadata": {},
   "outputs": [
    {
     "ename": "TypeError",
     "evalue": "scatter_mapbox() got an unexpected keyword argument 'hoverinfo'",
     "output_type": "error",
     "traceback": [
      "\u001b[1;31m---------------------------------------------------------------------------\u001b[0m",
      "\u001b[1;31mTypeError\u001b[0m                                 Traceback (most recent call last)",
      "\u001b[1;32m~\\AppData\\Local\\Temp/ipykernel_12104/3139806107.py\u001b[0m in \u001b[0;36m<module>\u001b[1;34m\u001b[0m\n\u001b[1;32m----> 1\u001b[1;33m fig = px.scatter_mapbox(df, \n\u001b[0m\u001b[0;32m      2\u001b[0m                         \u001b[0mlat\u001b[0m\u001b[1;33m=\u001b[0m\u001b[1;34m\"latitude\"\u001b[0m\u001b[1;33m,\u001b[0m\u001b[1;33m\u001b[0m\u001b[1;33m\u001b[0m\u001b[0m\n\u001b[0;32m      3\u001b[0m                         \u001b[0mlon\u001b[0m\u001b[1;33m=\u001b[0m\u001b[1;34m\"longitude\"\u001b[0m\u001b[1;33m,\u001b[0m\u001b[1;33m\u001b[0m\u001b[1;33m\u001b[0m\u001b[0m\n\u001b[0;32m      4\u001b[0m                         \u001b[0mzoom\u001b[0m\u001b[1;33m=\u001b[0m\u001b[1;36m3\u001b[0m\u001b[1;33m,\u001b[0m\u001b[1;33m\u001b[0m\u001b[1;33m\u001b[0m\u001b[0m\n\u001b[0;32m      5\u001b[0m                         \u001b[0mheight\u001b[0m\u001b[1;33m=\u001b[0m\u001b[1;36m300\u001b[0m\u001b[1;33m,\u001b[0m\u001b[1;33m\u001b[0m\u001b[1;33m\u001b[0m\u001b[0m\n",
      "\u001b[1;31mTypeError\u001b[0m: scatter_mapbox() got an unexpected keyword argument 'hoverinfo'"
     ]
    }
   ],
   "source": [
    "fig = px.scatter_mapbox(df, \n",
    "                        lat=\"latitude\",\n",
    "                        lon=\"longitude\",\n",
    "                        zoom=3, \n",
    "                        height=300, \n",
    "                        hover_name=\"name\", \n",
    "                        hoverinfo=\"text\",\n",
    "                        hover_data=[\"city\", \"code\"])\n",
    "fig.update_layout(\n",
    "    mapbox_style=\"white-bg\",\n",
    "    mapbox_layers=[\n",
    "        {\n",
    "            \"below\": 'traces',\n",
    "            \"sourcetype\": \"raster\",\n",
    "            \"sourceattribution\": \"United States Geological Survey\",\n",
    "            \"source\": [\n",
    "                \"https://basemap.nationalmap.gov/arcgis/rest/services/USGSImageryOnly/MapServer/tile/{z}/{y}/{x}\"\n",
    "            ]\n",
    "        }\n",
    "      ])\n",
    "fig.update_layout(margin={\"r\":0,\"t\":0,\"l\":0,\"b\":0})\n",
    "fig.show()"
   ]
  },
  {
   "cell_type": "code",
   "execution_count": 90,
   "metadata": {},
   "outputs": [
    {
     "data": {
      "application/vnd.plotly.v1+json": {
       "config": {
        "plotlyServerURL": "https://plot.ly"
       },
       "data": [
        {
         "geo": "geo",
         "hovertemplate": "continent=Asia<br>iso_alpha=%{location}<extra></extra>",
         "legendgroup": "Asia",
         "line": {
          "color": "#636efa",
          "dash": "solid"
         },
         "locations": [
          "AFG",
          "BHR",
          "BGD",
          "KHM",
          "CHN",
          "HKG",
          "IND",
          "IDN",
          "IRN",
          "IRQ",
          "ISR",
          "JPN",
          "JOR",
          "KOR",
          "KOR",
          "KWT",
          "LBN",
          "MYS",
          "MNG",
          "MMR",
          "NPL",
          "OMN",
          "PAK",
          "PHL",
          "SAU",
          "SGP",
          "LKA",
          "SYR",
          "TWN",
          "THA",
          "VNM",
          "PSE",
          "YEM"
         ],
         "marker": {
          "symbol": "circle"
         },
         "mode": "lines",
         "name": "Asia",
         "showlegend": true,
         "type": "scattergeo"
        },
        {
         "geo": "geo",
         "hovertemplate": "continent=Europe<br>iso_alpha=%{location}<extra></extra>",
         "legendgroup": "Europe",
         "line": {
          "color": "#EF553B",
          "dash": "solid"
         },
         "locations": [
          "ALB",
          "AUT",
          "BEL",
          "BIH",
          "BGR",
          "HRV",
          "CZE",
          "DNK",
          "FIN",
          "FRA",
          "DEU",
          "GRC",
          "HUN",
          "ISL",
          "IRL",
          "ITA",
          "MNE",
          "NLD",
          "NOR",
          "POL",
          "PRT",
          "ROU",
          "SRB",
          "SVK",
          "SVN",
          "ESP",
          "SWE",
          "CHE",
          "TUR",
          "GBR"
         ],
         "marker": {
          "symbol": "circle"
         },
         "mode": "lines",
         "name": "Europe",
         "showlegend": true,
         "type": "scattergeo"
        },
        {
         "geo": "geo",
         "hovertemplate": "continent=Africa<br>iso_alpha=%{location}<extra></extra>",
         "legendgroup": "Africa",
         "line": {
          "color": "#00cc96",
          "dash": "solid"
         },
         "locations": [
          "DZA",
          "AGO",
          "BEN",
          "BWA",
          "BFA",
          "BDI",
          "CMR",
          "CAF",
          "TCD",
          "COM",
          "COD",
          "COG",
          "CIV",
          "DJI",
          "EGY",
          "GNQ",
          "ERI",
          "ETH",
          "GAB",
          "GMB",
          "GHA",
          "GIN",
          "GNB",
          "KEN",
          "LSO",
          "LBR",
          "LBY",
          "MDG",
          "MWI",
          "MLI",
          "MRT",
          "MUS",
          "MAR",
          "MOZ",
          "NAM",
          "NER",
          "NGA",
          "REU",
          "RWA",
          "STP",
          "SEN",
          "SLE",
          "SOM",
          "ZAF",
          "SDN",
          "SWZ",
          "TZA",
          "TGO",
          "TUN",
          "UGA",
          "ZMB",
          "ZWE"
         ],
         "marker": {
          "symbol": "circle"
         },
         "mode": "lines",
         "name": "Africa",
         "showlegend": true,
         "type": "scattergeo"
        },
        {
         "geo": "geo",
         "hovertemplate": "continent=Americas<br>iso_alpha=%{location}<extra></extra>",
         "legendgroup": "Americas",
         "line": {
          "color": "#ab63fa",
          "dash": "solid"
         },
         "locations": [
          "ARG",
          "BOL",
          "BRA",
          "CAN",
          "CHL",
          "COL",
          "CRI",
          "CUB",
          "DOM",
          "ECU",
          "SLV",
          "GTM",
          "HTI",
          "HND",
          "JAM",
          "MEX",
          "NIC",
          "PAN",
          "PRY",
          "PER",
          "PRI",
          "TTO",
          "USA",
          "URY",
          "VEN"
         ],
         "marker": {
          "symbol": "circle"
         },
         "mode": "lines",
         "name": "Americas",
         "showlegend": true,
         "type": "scattergeo"
        },
        {
         "geo": "geo",
         "hovertemplate": "continent=Oceania<br>iso_alpha=%{location}<extra></extra>",
         "legendgroup": "Oceania",
         "line": {
          "color": "#FFA15A",
          "dash": "solid"
         },
         "locations": [
          "AUS",
          "NZL"
         ],
         "marker": {
          "symbol": "circle"
         },
         "mode": "lines",
         "name": "Oceania",
         "showlegend": true,
         "type": "scattergeo"
        }
       ],
       "layout": {
        "geo": {
         "center": {},
         "domain": {
          "x": [
           0,
           1
          ],
          "y": [
           0,
           1
          ]
         },
         "projection": {
          "type": "orthographic"
         }
        },
        "legend": {
         "title": {
          "text": "continent"
         },
         "tracegroupgap": 0
        },
        "margin": {
         "t": 60
        },
        "template": {
         "data": {
          "bar": [
           {
            "error_x": {
             "color": "#2a3f5f"
            },
            "error_y": {
             "color": "#2a3f5f"
            },
            "marker": {
             "line": {
              "color": "#E5ECF6",
              "width": 0.5
             },
             "pattern": {
              "fillmode": "overlay",
              "size": 10,
              "solidity": 0.2
             }
            },
            "type": "bar"
           }
          ],
          "barpolar": [
           {
            "marker": {
             "line": {
              "color": "#E5ECF6",
              "width": 0.5
             },
             "pattern": {
              "fillmode": "overlay",
              "size": 10,
              "solidity": 0.2
             }
            },
            "type": "barpolar"
           }
          ],
          "carpet": [
           {
            "aaxis": {
             "endlinecolor": "#2a3f5f",
             "gridcolor": "white",
             "linecolor": "white",
             "minorgridcolor": "white",
             "startlinecolor": "#2a3f5f"
            },
            "baxis": {
             "endlinecolor": "#2a3f5f",
             "gridcolor": "white",
             "linecolor": "white",
             "minorgridcolor": "white",
             "startlinecolor": "#2a3f5f"
            },
            "type": "carpet"
           }
          ],
          "choropleth": [
           {
            "colorbar": {
             "outlinewidth": 0,
             "ticks": ""
            },
            "type": "choropleth"
           }
          ],
          "contour": [
           {
            "colorbar": {
             "outlinewidth": 0,
             "ticks": ""
            },
            "colorscale": [
             [
              0,
              "#0d0887"
             ],
             [
              0.1111111111111111,
              "#46039f"
             ],
             [
              0.2222222222222222,
              "#7201a8"
             ],
             [
              0.3333333333333333,
              "#9c179e"
             ],
             [
              0.4444444444444444,
              "#bd3786"
             ],
             [
              0.5555555555555556,
              "#d8576b"
             ],
             [
              0.6666666666666666,
              "#ed7953"
             ],
             [
              0.7777777777777778,
              "#fb9f3a"
             ],
             [
              0.8888888888888888,
              "#fdca26"
             ],
             [
              1,
              "#f0f921"
             ]
            ],
            "type": "contour"
           }
          ],
          "contourcarpet": [
           {
            "colorbar": {
             "outlinewidth": 0,
             "ticks": ""
            },
            "type": "contourcarpet"
           }
          ],
          "heatmap": [
           {
            "colorbar": {
             "outlinewidth": 0,
             "ticks": ""
            },
            "colorscale": [
             [
              0,
              "#0d0887"
             ],
             [
              0.1111111111111111,
              "#46039f"
             ],
             [
              0.2222222222222222,
              "#7201a8"
             ],
             [
              0.3333333333333333,
              "#9c179e"
             ],
             [
              0.4444444444444444,
              "#bd3786"
             ],
             [
              0.5555555555555556,
              "#d8576b"
             ],
             [
              0.6666666666666666,
              "#ed7953"
             ],
             [
              0.7777777777777778,
              "#fb9f3a"
             ],
             [
              0.8888888888888888,
              "#fdca26"
             ],
             [
              1,
              "#f0f921"
             ]
            ],
            "type": "heatmap"
           }
          ],
          "heatmapgl": [
           {
            "colorbar": {
             "outlinewidth": 0,
             "ticks": ""
            },
            "colorscale": [
             [
              0,
              "#0d0887"
             ],
             [
              0.1111111111111111,
              "#46039f"
             ],
             [
              0.2222222222222222,
              "#7201a8"
             ],
             [
              0.3333333333333333,
              "#9c179e"
             ],
             [
              0.4444444444444444,
              "#bd3786"
             ],
             [
              0.5555555555555556,
              "#d8576b"
             ],
             [
              0.6666666666666666,
              "#ed7953"
             ],
             [
              0.7777777777777778,
              "#fb9f3a"
             ],
             [
              0.8888888888888888,
              "#fdca26"
             ],
             [
              1,
              "#f0f921"
             ]
            ],
            "type": "heatmapgl"
           }
          ],
          "histogram": [
           {
            "marker": {
             "pattern": {
              "fillmode": "overlay",
              "size": 10,
              "solidity": 0.2
             }
            },
            "type": "histogram"
           }
          ],
          "histogram2d": [
           {
            "colorbar": {
             "outlinewidth": 0,
             "ticks": ""
            },
            "colorscale": [
             [
              0,
              "#0d0887"
             ],
             [
              0.1111111111111111,
              "#46039f"
             ],
             [
              0.2222222222222222,
              "#7201a8"
             ],
             [
              0.3333333333333333,
              "#9c179e"
             ],
             [
              0.4444444444444444,
              "#bd3786"
             ],
             [
              0.5555555555555556,
              "#d8576b"
             ],
             [
              0.6666666666666666,
              "#ed7953"
             ],
             [
              0.7777777777777778,
              "#fb9f3a"
             ],
             [
              0.8888888888888888,
              "#fdca26"
             ],
             [
              1,
              "#f0f921"
             ]
            ],
            "type": "histogram2d"
           }
          ],
          "histogram2dcontour": [
           {
            "colorbar": {
             "outlinewidth": 0,
             "ticks": ""
            },
            "colorscale": [
             [
              0,
              "#0d0887"
             ],
             [
              0.1111111111111111,
              "#46039f"
             ],
             [
              0.2222222222222222,
              "#7201a8"
             ],
             [
              0.3333333333333333,
              "#9c179e"
             ],
             [
              0.4444444444444444,
              "#bd3786"
             ],
             [
              0.5555555555555556,
              "#d8576b"
             ],
             [
              0.6666666666666666,
              "#ed7953"
             ],
             [
              0.7777777777777778,
              "#fb9f3a"
             ],
             [
              0.8888888888888888,
              "#fdca26"
             ],
             [
              1,
              "#f0f921"
             ]
            ],
            "type": "histogram2dcontour"
           }
          ],
          "mesh3d": [
           {
            "colorbar": {
             "outlinewidth": 0,
             "ticks": ""
            },
            "type": "mesh3d"
           }
          ],
          "parcoords": [
           {
            "line": {
             "colorbar": {
              "outlinewidth": 0,
              "ticks": ""
             }
            },
            "type": "parcoords"
           }
          ],
          "pie": [
           {
            "automargin": true,
            "type": "pie"
           }
          ],
          "scatter": [
           {
            "marker": {
             "colorbar": {
              "outlinewidth": 0,
              "ticks": ""
             }
            },
            "type": "scatter"
           }
          ],
          "scatter3d": [
           {
            "line": {
             "colorbar": {
              "outlinewidth": 0,
              "ticks": ""
             }
            },
            "marker": {
             "colorbar": {
              "outlinewidth": 0,
              "ticks": ""
             }
            },
            "type": "scatter3d"
           }
          ],
          "scattercarpet": [
           {
            "marker": {
             "colorbar": {
              "outlinewidth": 0,
              "ticks": ""
             }
            },
            "type": "scattercarpet"
           }
          ],
          "scattergeo": [
           {
            "marker": {
             "colorbar": {
              "outlinewidth": 0,
              "ticks": ""
             }
            },
            "type": "scattergeo"
           }
          ],
          "scattergl": [
           {
            "marker": {
             "colorbar": {
              "outlinewidth": 0,
              "ticks": ""
             }
            },
            "type": "scattergl"
           }
          ],
          "scattermapbox": [
           {
            "marker": {
             "colorbar": {
              "outlinewidth": 0,
              "ticks": ""
             }
            },
            "type": "scattermapbox"
           }
          ],
          "scatterpolar": [
           {
            "marker": {
             "colorbar": {
              "outlinewidth": 0,
              "ticks": ""
             }
            },
            "type": "scatterpolar"
           }
          ],
          "scatterpolargl": [
           {
            "marker": {
             "colorbar": {
              "outlinewidth": 0,
              "ticks": ""
             }
            },
            "type": "scatterpolargl"
           }
          ],
          "scatterternary": [
           {
            "marker": {
             "colorbar": {
              "outlinewidth": 0,
              "ticks": ""
             }
            },
            "type": "scatterternary"
           }
          ],
          "surface": [
           {
            "colorbar": {
             "outlinewidth": 0,
             "ticks": ""
            },
            "colorscale": [
             [
              0,
              "#0d0887"
             ],
             [
              0.1111111111111111,
              "#46039f"
             ],
             [
              0.2222222222222222,
              "#7201a8"
             ],
             [
              0.3333333333333333,
              "#9c179e"
             ],
             [
              0.4444444444444444,
              "#bd3786"
             ],
             [
              0.5555555555555556,
              "#d8576b"
             ],
             [
              0.6666666666666666,
              "#ed7953"
             ],
             [
              0.7777777777777778,
              "#fb9f3a"
             ],
             [
              0.8888888888888888,
              "#fdca26"
             ],
             [
              1,
              "#f0f921"
             ]
            ],
            "type": "surface"
           }
          ],
          "table": [
           {
            "cells": {
             "fill": {
              "color": "#EBF0F8"
             },
             "line": {
              "color": "white"
             }
            },
            "header": {
             "fill": {
              "color": "#C8D4E3"
             },
             "line": {
              "color": "white"
             }
            },
            "type": "table"
           }
          ]
         },
         "layout": {
          "annotationdefaults": {
           "arrowcolor": "#2a3f5f",
           "arrowhead": 0,
           "arrowwidth": 1
          },
          "autotypenumbers": "strict",
          "coloraxis": {
           "colorbar": {
            "outlinewidth": 0,
            "ticks": ""
           }
          },
          "colorscale": {
           "diverging": [
            [
             0,
             "#8e0152"
            ],
            [
             0.1,
             "#c51b7d"
            ],
            [
             0.2,
             "#de77ae"
            ],
            [
             0.3,
             "#f1b6da"
            ],
            [
             0.4,
             "#fde0ef"
            ],
            [
             0.5,
             "#f7f7f7"
            ],
            [
             0.6,
             "#e6f5d0"
            ],
            [
             0.7,
             "#b8e186"
            ],
            [
             0.8,
             "#7fbc41"
            ],
            [
             0.9,
             "#4d9221"
            ],
            [
             1,
             "#276419"
            ]
           ],
           "sequential": [
            [
             0,
             "#0d0887"
            ],
            [
             0.1111111111111111,
             "#46039f"
            ],
            [
             0.2222222222222222,
             "#7201a8"
            ],
            [
             0.3333333333333333,
             "#9c179e"
            ],
            [
             0.4444444444444444,
             "#bd3786"
            ],
            [
             0.5555555555555556,
             "#d8576b"
            ],
            [
             0.6666666666666666,
             "#ed7953"
            ],
            [
             0.7777777777777778,
             "#fb9f3a"
            ],
            [
             0.8888888888888888,
             "#fdca26"
            ],
            [
             1,
             "#f0f921"
            ]
           ],
           "sequentialminus": [
            [
             0,
             "#0d0887"
            ],
            [
             0.1111111111111111,
             "#46039f"
            ],
            [
             0.2222222222222222,
             "#7201a8"
            ],
            [
             0.3333333333333333,
             "#9c179e"
            ],
            [
             0.4444444444444444,
             "#bd3786"
            ],
            [
             0.5555555555555556,
             "#d8576b"
            ],
            [
             0.6666666666666666,
             "#ed7953"
            ],
            [
             0.7777777777777778,
             "#fb9f3a"
            ],
            [
             0.8888888888888888,
             "#fdca26"
            ],
            [
             1,
             "#f0f921"
            ]
           ]
          },
          "colorway": [
           "#636efa",
           "#EF553B",
           "#00cc96",
           "#ab63fa",
           "#FFA15A",
           "#19d3f3",
           "#FF6692",
           "#B6E880",
           "#FF97FF",
           "#FECB52"
          ],
          "font": {
           "color": "#2a3f5f"
          },
          "geo": {
           "bgcolor": "white",
           "lakecolor": "white",
           "landcolor": "#E5ECF6",
           "showlakes": true,
           "showland": true,
           "subunitcolor": "white"
          },
          "hoverlabel": {
           "align": "left"
          },
          "hovermode": "closest",
          "mapbox": {
           "style": "light"
          },
          "paper_bgcolor": "white",
          "plot_bgcolor": "#E5ECF6",
          "polar": {
           "angularaxis": {
            "gridcolor": "white",
            "linecolor": "white",
            "ticks": ""
           },
           "bgcolor": "#E5ECF6",
           "radialaxis": {
            "gridcolor": "white",
            "linecolor": "white",
            "ticks": ""
           }
          },
          "scene": {
           "xaxis": {
            "backgroundcolor": "#E5ECF6",
            "gridcolor": "white",
            "gridwidth": 2,
            "linecolor": "white",
            "showbackground": true,
            "ticks": "",
            "zerolinecolor": "white"
           },
           "yaxis": {
            "backgroundcolor": "#E5ECF6",
            "gridcolor": "white",
            "gridwidth": 2,
            "linecolor": "white",
            "showbackground": true,
            "ticks": "",
            "zerolinecolor": "white"
           },
           "zaxis": {
            "backgroundcolor": "#E5ECF6",
            "gridcolor": "white",
            "gridwidth": 2,
            "linecolor": "white",
            "showbackground": true,
            "ticks": "",
            "zerolinecolor": "white"
           }
          },
          "shapedefaults": {
           "line": {
            "color": "#2a3f5f"
           }
          },
          "ternary": {
           "aaxis": {
            "gridcolor": "white",
            "linecolor": "white",
            "ticks": ""
           },
           "baxis": {
            "gridcolor": "white",
            "linecolor": "white",
            "ticks": ""
           },
           "bgcolor": "#E5ECF6",
           "caxis": {
            "gridcolor": "white",
            "linecolor": "white",
            "ticks": ""
           }
          },
          "title": {
           "x": 0.05
          },
          "xaxis": {
           "automargin": true,
           "gridcolor": "white",
           "linecolor": "white",
           "ticks": "",
           "title": {
            "standoff": 15
           },
           "zerolinecolor": "white",
           "zerolinewidth": 2
          },
          "yaxis": {
           "automargin": true,
           "gridcolor": "white",
           "linecolor": "white",
           "ticks": "",
           "title": {
            "standoff": 15
           },
           "zerolinecolor": "white",
           "zerolinewidth": 2
          }
         }
        }
       }
      }
     },
     "metadata": {},
     "output_type": "display_data"
    }
   ],
   "source": [
    "import plotly.express as px\n",
    "df = px.data.gapminder().query(\"year == 2007\")\n",
    "fig = px.line_geo(df, locations=\"iso_alpha\",\n",
    "                  color=\"continent\", # \"continent\" is one of the columns of gapminder\n",
    "                  projection=\"orthographic\")\n",
    "fig.show()"
   ]
  },
  {
   "cell_type": "code",
   "execution_count": 91,
   "metadata": {},
   "outputs": [
    {
     "data": {
      "application/vnd.plotly.v1+json": {
       "config": {
        "plotlyServerURL": "https://plot.ly"
       },
       "data": [
        {
         "hoverinfo": "text",
         "lat": [
          41.979595,
          33.64044444,
          32.89595056,
          33.43416667,
          39.85840806,
          29.98047222,
          37.61900194,
          33.94253611,
          28.42888889,
          35.21401111,
          40.78838778,
          27.97547222,
          40.69249722,
          36.08036111,
          39.87195278,
          44.88054694,
          47.44898194,
          40.77724306,
          41.7859825,
          38.94453194,
          32.73355611,
          38.74768694,
          42.21205889,
          40.63975111,
          25.79325,
          42.3643475,
          38.69542167,
          39.17540167,
          33.67565861,
          29.99338889,
          37.36186194,
          38.85208333,
          45.58872222,
          26.53616667,
          26.68316194,
          35.87763889,
          29.64541861,
          29.53369444,
          26.07258333,
          39.29760528,
          37.72129083,
          40.49146583,
          35.04241667,
          42.94722222,
          41.41089417,
          30.49405556,
          32.11608333,
          39.71732917,
          39.49857611,
          35.39308833,
          41.72399917,
          36.19837222,
          39.04614278,
          39.99798528,
          38.17438889,
          34.056,
          34.72939611,
          32.84711389,
          41.30251861,
          36.89461111,
          39.90237583,
          43.11886611,
          36.28186944,
          36.12447667,
          35.04022222,
          32.31116667,
          31.80666667,
          37.50516667,
          41.93887417,
          31.94252778,
          30.53316083,
          35.81248722,
          38.80580556,
          30.47330556,
          43.11118694,
          33.56294306,
          42.93451639,
          33.82921556,
          27.39533333,
          27.77036083,
          34.6404475,
          33.93884,
          30.20527972,
          34.42621194,
          47.61985556,
          30.69141667,
          37.64995889,
          42.94052472,
          41.53493306,
          40.19349528,
          43.64616667,
          32.30064417,
          37.13189556,
          41.06695778,
          36.5869825,
          42.88081972,
          30.448674,
          32.65658333,
          39.22316,
          30.39652778,
          30.40728028,
          44.04532139,
          33.81772222,
          34.27061111,
          38.03697222,
          43.13985778,
          44.12326,
          32.12758333,
          33.66363889,
          41.88458833,
          34.89566722,
          36.09774694,
          40.7952425,
          41.44852639,
          35.43619444,
          40.91631194,
          40.47798556,
          26.22850611,
          30.48325,
          32.4466275,
          46.91934889,
          40.48118028,
          42.37422778,
          40.66424333,
          27.54373861,
          30.19453278,
          32.41132,
          37.24432611,
          42.96550333,
          36.47521417,
          31.06489778,
          32.89864639,
          44.48507333,
          44.25406722,
          32.51633333,
          41.70895361,
          43.56444444,
          33.67975,
          48.25937778,
          40.03925,
          37.32546833,
          39.64256778,
          43.60732417,
          45.77690139,
          39.1224125,
          34.20061917,
          38.03799139,
          38.53396333,
          43.51455556,
          36.77619444,
          39.84395194,
          26.17583333,
          40.50898361,
          47.949255,
          43.58135111,
          42.48180389,
          34.89924833,
          42.91130556,
          31.32133917,
          34.82916444,
          38.50886722,
          46.77411111,
          42.90835556,
          44.74144472,
          32.51086556,
          46.26468028,
          39.14096722,
          31.32737167,
          43.41713889,
          35.61677778,
          42.15614361,
          41.50409361,
          38.13863889,
          30.7825,
          44.77761917,
          35.65884306,
          40.97811528,
          31.25902778,
          40.85097222,
          40.97846583,
          44.52019417,
          37.06083333,
          35.23705806,
          41.33814944,
          33.45033444,
          44.34889806,
          35.07297222,
          33.369955,
          35.33659028,
          32.35413889,
          46.60681806,
          47.48200194,
          32.33313333,
          46.353639,
          37.95375861,
          35.03526833,
          46.37449806,
          37.70097028,
          42.74811944,
          44.47300361,
          48.31140472,
          28.10275,
          29.17991667,
          40.65236278,
          46.84209028,
          41.1557225,
          41.5942175,
          37.85830556,
          38.37315083,
          48.79275,
          37.62404861,
          44.25740806,
          36.385913,
          27.91076333,
          33.98879611,
          34.99147222,
          44.86525722,
          42.40295944,
          43.90882639,
          34.681499,
          45.8076625
         ],
         "locationmode": "USA-states",
         "lon": [
          -87.90446417,
          -84.42694444,
          -97.0372,
          -112.0080556,
          -104.6670019,
          -95.33972222,
          -122.3748433,
          -118.4080744,
          -81.31602778,
          -80.94312583,
          -111.9777731,
          -82.53325,
          -74.16866056,
          -115.1523333,
          -75.24114083,
          -93.2169225,
          -122.3093131,
          -73.87260917,
          -87.75242444,
          -77.45580972,
          -117.1896567,
          -90.35998972,
          -83.34883583,
          -73.77892556,
          -80.29055556,
          -71.00517917,
          -121.5907669,
          -76.66819833,
          -117.8682225,
          -90.25802778,
          -121.9290089,
          -77.03772222,
          -122.5975,
          -81.75516667,
          -80.09559417,
          -78.78747222,
          -95.27888889,
          -98.46977778,
          -80.15275,
          -94.71390556,
          -122.2207167,
          -80.23287083,
          -89.97666667,
          -87.89658333,
          -81.84939667,
          -81.68786111,
          -110.9410278,
          -86.29438417,
          -119.7680647,
          -97.60073389,
          -71.42822111,
          -95.88824167,
          -84.6621725,
          -82.89188278,
          -85.736,
          -117.6011944,
          -92.22424556,
          -96.85177222,
          -95.89417306,
          -76.20122222,
          -84.219375,
          -77.67238389,
          -94.30681111,
          -86.67818222,
          -106.6091944,
          -90.07588889,
          -106.3778056,
          -77.31966667,
          -72.68322833,
          -102.2019139,
          -91.14963444,
          -83.99285583,
          -104.70025,
          -87.18744444,
          -76.10631056,
          -86.75354972,
          -71.43705583,
          -116.5062531,
          -82.55411111,
          -97.50121528,
          -86.77310944,
          -81.11953944,
          -91.987655,
          -119.8403733,
          -117.5338425,
          -88.24283333,
          -97.43304583,
          -78.73216667,
          -93.66068222,
          -76.76340361,
          -70.30875,
          -86.39397611,
          -76.4929875,
          -73.70757444,
          -121.8429478,
          -85.52276778,
          -84.550781,
          -114.6059722,
          -106.868845,
          -84.35033333,
          -89.07009278,
          -103.0573708,
          -118.1516111,
          -77.90255556,
          -84.60538889,
          -89.33751361,
          -123.2186856,
          -81.20213889,
          -101.8227778,
          -91.71087222,
          -82.21885833,
          -79.9372975,
          -73.10021194,
          -90.50753917,
          -82.54180556,
          -81.44246556,
          -88.91595278,
          -97.65439389,
          -86.5254,
          -93.82559833,
          -96.81498889,
          -107.2176597,
          -122.8734978,
          -89.69330556,
          -99.46154361,
          -97.66987194,
          -99.68189722,
          -93.38685806,
          -83.74345639,
          -82.40742056,
          -97.82779778,
          -80.04050583,
          -88.12959,
          -121.1499633,
          -84.93886111,
          -86.31847417,
          -116.2227778,
          -78.92833333,
          -101.2803339,
          -88.27805556,
          -79.97542833,
          -106.9176953,
          -110.7377389,
          -111.1530072,
          -108.5267347,
          -118.3584969,
          -87.53062667,
          -106.9331817,
          -112.0701667,
          -119.7181389,
          -89.67761861,
          -98.23861111,
          -122.2934019,
          -97.17611111,
          -96.74170028,
          -114.4877356,
          -120.4575825,
          -112.5958611,
          -85.44962889,
          -77.61213778,
          -107.8938333,
          -100.7467222,
          -106.4644661,
          -85.582235,
          -92.03768778,
          -119.1190292,
          -96.67083278,
          -92.54855611,
          -124.2460278,
          -106.0881389,
          -121.7332081,
          -74.10483833,
          -78.45286111,
          -83.27672222,
          -89.66677944,
          -117.8295122,
          -124.1086189,
          -81.46630556,
          -96.75925,
          -85.19514639,
          -109.0237961,
          -88.77375,
          -120.6423931,
          -75.7242675,
          -88.59136861,
          -105.5393614,
          -77.04294444,
          -81.96449611,
          -94.36744111,
          -95.40238611,
          -111.9827503,
          -111.3706853,
          -88.75120556,
          -87.395361,
          -107.90848,
          -85.20378778,
          -117.0153944,
          -113.098575,
          -73.80297861,
          -73.1503125,
          -114.2550694,
          -80.64580556,
          -81.05805556,
          -75.44040167,
          -92.19364861,
          -104.8118381,
          -109.0651928,
          -80.39947222,
          -81.59318972,
          -122.5375278,
          -118.8377722,
          -88.51947556,
          -92.548828,
          -82.68743944,
          -98.49189333,
          -78.88,
          -91.48507194,
          -90.70916722,
          -92.49798722,
          -90.348816,
          -108.5428611
         ],
         "marker": {
          "color": "rgb(255, 0, 0)",
          "line": {
           "color": "rgba(68, 68, 68, 0)",
           "width": 3
          },
          "size": 2
         },
         "mode": "markers",
         "text": [
          "Chicago O'Hare International",
          "William B Hartsfield-Atlanta Intl",
          "Dallas-Fort Worth International",
          "Phoenix Sky Harbor International",
          "Denver Intl",
          "George Bush Intercontinental",
          "San Francisco International",
          "Los Angeles International",
          "Orlando International",
          "Charlotte/Douglas International",
          "Salt Lake City Intl",
          "Tampa International ",
          "Newark Intl",
          "McCarran International",
          "Philadelphia Intl",
          "Minneapolis-St Paul Intl",
          "Seattle-Tacoma Intl",
          "LaGuardia",
          "Chicago Midway",
          "Washington Dulles International",
          "San Diego International-Lindbergh ",
          "Lambert-St Louis International",
          "Detroit Metropolitan-Wayne County",
          "John F Kennedy Intl",
          "Miami International",
          "Gen Edw L Logan Intl",
          "Sacramento International",
          "Baltimore-Washington International",
          "John Wayne /Orange Co",
          "New Orleans International ",
          "San Jose International",
          "Ronald Reagan Washington National",
          "Portland Intl",
          "Southwest Florida International",
          "Palm Beach International",
          "Raleigh-Durham International",
          "William P Hobby",
          "San Antonio International",
          "Fort Lauderdale-Hollywood Int'l",
          "Kansas City International",
          "Metropolitan Oakland International",
          "Pittsburgh International",
          "Memphis International",
          "General Mitchell International",
          "Cleveland-Hopkins Intl",
          "Jacksonville International",
          "Tucson International",
          "Indianapolis International",
          "Reno/Tahoe International",
          "Will Rogers World",
          "Theodore F Green State",
          "Tulsa International",
          "Cincinnati Northern Kentucky Intl",
          "Port Columbus Intl",
          "Louisville International-Standiford ",
          "Ontario International",
          "Adams ",
          "Dallas Love ",
          "Eppley Airfield",
          "Norfolk International",
          "James M Cox Dayton Intl",
          "Greater Rochester Int'l",
          "Northwest Arkansas Regional",
          "Nashville International",
          "Albuquerque International",
          "Jackson International",
          "El Paso International",
          "Richmond International",
          "Bradley International",
          "Midland International",
          "Baton Rouge Metropolitan, Ryan ",
          "McGhee-Tyson",
          "City of Colorado Springs Muni",
          "Pensacola Regional",
          "Syracuse-Hancock Intl",
          "Birmingham International",
          "Manchester",
          "Palm Springs International",
          "Sarasota Bradenton International",
          "Corpus Christi International",
          "Huntsville International ",
          "Columbia Metropolitan",
          "Lafayette Regional",
          "Santa Barbara Municipal",
          "Spokane Intl",
          "Mobile Regional",
          "Wichita Mid-Continent",
          "Buffalo Niagara Intl",
          "Des Moines International",
          "Harrisburg Intl",
          "Portland International Jetport",
          "Montgomery Regional Apt",
          "Newport News/Williamsburg International",
          "Westchester Cty",
          "Monterey Peninsula",
          "Kent County International",
          "Florida Beach",
          "Yuma MCAS-Yuma International",
          "Aspen-Pitkin Co/Sardy ",
          "Tallahassee Regional",
          "Gulfport-Biloxi Regional",
          "Rapid City Regional",
          "Long Beach (Daugherty )",
          "Wilmington International",
          "Blue Grass ",
          "Dane County Regional",
          "Mahlon Sweet ",
          "Savannah International",
          "Lubbock International",
          "Eastern Iowa ",
          "Greenville-Spartanburg",
          "Piedmont Triad International",
          "Long Island - MacArthur",
          "Quad City",
          "Asheville Regional",
          "Akron-Canton Regional",
          "Central Illinois Regional",
          "Valley International",
          "Eglin Air Force Base",
          "Shreveport Regional",
          "Hector International",
          "Yampa Valley",
          "Rogue Valley International",
          "Greater Peoria Regional",
          "Laredo International",
          "Austin-Bergstrom International",
          "Abilene Regional",
          "Springfield-Branson Regional",
          "Bishop",
          "Tri-Cities Regional",
          "Robert Gray AAF",
          "Charleston AFB/International",
          "Austin Straubel International",
          "Roberts ",
          "Columbus Metropolitan",
          "South Bend Regional",
          "Boise Air Terminal",
          "Myrtle Beach International",
          "Minot International",
          "University of Illinois-Willard",
          "Roanoke Regional/ Woodrum ",
          "Eagle County Regional",
          "Jackson Hole",
          "Gallatin ",
          "Walker ",
          "Burbank-Glendale-Pasadena",
          "Evansville Regional",
          "Gunnison County",
          "Idaho Falls Regional",
          "Fresno Yosemite International",
          "Capital",
          "McAllen Miller International",
          "Redding Municipal",
          "Grand Forks International",
          "Joe Foss ",
          "Joslin Field - Magic Valley",
          "Santa Maria Pub/Capt G Allan Hancock ",
          "Pocatello Regional",
          "Dothan ",
          "Albert J Ellis",
          "Montrose Regional",
          "Bismarck Municipal",
          "Natrona County Intl",
          "Cherry Capital",
          "Monroe Regional",
          "Tri-Cities",
          "Manhattan Regional",
          "Alexandria International",
          "North Bend Muni",
          "Santa Fe Municipal",
          "Klamath Falls International",
          "Stewart",
          "Charlottesville-Albermarle",
          "Valdosta Regional",
          "Central Wisconsin",
          "Inyokern",
          "Arcata",
          "Glynco Jetport",
          "Lincoln Municipal",
          "Fort Wayne International",
          "Yellowstone Regional",
          "Barkley Regional",
          "San Luis Obispo Co-McChesney ",
          "Wilkes-Barre/Scranton Intl",
          "Golden Triangle Regional",
          "Gillette-Campbell County",
          "Craven County Regional",
          "Bush ",
          "Fort Smith Regional",
          "Tyler Pounds ",
          "Helena Regional",
          "Great Falls Intl",
          "Key ",
          "Marquette County Airport",
          "Telluride Regional",
          "Lovell ",
          "Lewiston-Nez Perce County",
          "Cedar City Muni",
          "Albany Cty",
          "Burlington International",
          "Glacier Park Intl",
          "Melbourne International ",
          "Daytona Beach International",
          "Lehigh Valley International",
          "Duluth International",
          "Cheyenne",
          "Rock Springs-Sweetwater County",
          "Greenbrier Valley",
          "Yeager",
          "Bellingham Intl",
          "Mammoth Yosemite",
          "Outagamie County Regional",
          "Branson Airport",
          "St. Petersburg-Clearwater International",
          "Sheppard AFB/Wichita Falls Municipal",
          "Fayetteville Municipal",
          "Chippewa Valley Regional",
          "Dubuque Municipal",
          "Rochester International",
          "Tunica Municipal Airport",
          "Billings Logan Intl"
         ],
         "type": "scattergeo"
        },
        {
         "lat": [
          32.89595056,
          35.04022222,
          null,
          41.979595,
          30.19453278,
          null,
          32.89595056,
          41.93887417,
          null,
          18.43941667,
          41.93887417,
          null,
          32.89595056,
          33.56294306,
          null,
          25.79325,
          36.12447667,
          null,
          32.89595056,
          42.3643475,
          null,
          25.79325,
          42.3643475,
          null,
          41.979595,
          42.3643475,
          null,
          18.43941667,
          42.3643475,
          null,
          18.33730556,
          42.3643475,
          null,
          25.79325,
          39.17540167,
          null,
          18.43941667,
          39.17540167,
          null,
          32.89595056,
          35.21401111,
          null,
          32.89595056,
          38.80580556,
          null,
          32.89595056,
          39.90237583,
          null,
          32.89595056,
          38.85208333,
          null,
          25.79325,
          39.85840806,
          null,
          41.979595,
          39.85840806,
          null,
          33.64044444,
          32.89595056,
          null,
          30.19453278,
          32.89595056,
          null,
          36.12447667,
          32.89595056,
          null,
          34.20061917,
          32.89595056,
          null,
          39.17540167,
          32.89595056,
          null,
          39.99798528,
          32.89595056,
          null,
          39.85840806,
          32.89595056,
          null,
          42.21205889,
          32.89595056,
          null,
          39.64256778,
          32.89595056,
          null,
          40.69249722,
          32.89595056,
          null,
          36.77619444,
          32.89595056,
          null,
          26.07258333,
          32.89595056,
          null,
          34.6404475,
          32.89595056,
          null,
          29.98047222,
          32.89595056,
          null,
          33.94253611,
          32.89595056,
          null,
          39.29760528,
          32.89595056,
          null,
          28.42888889,
          32.89595056,
          null,
          35.04241667,
          32.89595056,
          null,
          26.17583333,
          32.89595056,
          null,
          25.79325,
          32.89595056,
          null,
          44.88054694,
          32.89595056,
          null,
          38.50886722,
          32.89595056,
          null,
          20.89864972,
          32.89595056,
          null,
          35.39308833,
          32.89595056,
          null,
          41.30251861,
          32.89595056,
          null,
          41.979595,
          32.89595056,
          null,
          39.87195278,
          32.89595056,
          null,
          33.43416667,
          32.89595056,
          null,
          37.50516667,
          32.89595056,
          null,
          39.49857611,
          32.89595056,
          null,
          32.73355611,
          32.89595056,
          null,
          29.53369444,
          32.89595056,
          null,
          38.17438889,
          32.89595056,
          null,
          37.61900194,
          32.89595056,
          null,
          37.36186194,
          32.89595056,
          null,
          40.78838778,
          32.89595056,
          null,
          38.74768694,
          32.89595056,
          null,
          36.28186944,
          32.89595056,
          null,
          25.79325,
          42.21205889,
          null,
          40.77724306,
          39.64256778,
          null,
          41.979595,
          39.64256778,
          null,
          32.89595056,
          31.80666667,
          null,
          33.94253611,
          40.69249722,
          null,
          25.79325,
          40.69249722,
          null,
          40.63975111,
          26.07258333,
          null,
          32.89595056,
          40.48118028,
          null,
          32.89595056,
          21.31869111,
          null,
          33.94253611,
          21.31869111,
          null,
          32.89595056,
          38.94453194,
          null,
          33.94253611,
          38.94453194,
          null,
          25.79325,
          38.94453194,
          null,
          25.79325,
          29.98047222,
          null,
          32.89595056,
          37.64995889,
          null,
          32.89595056,
          39.71732917,
          null,
          32.89595056,
          43.60732417,
          null,
          32.89595056,
          30.49405556,
          null,
          30.19453278,
          40.63975111,
          null,
          32.89595056,
          40.63975111,
          null,
          39.64256778,
          40.63975111,
          null,
          28.42888889,
          40.63975111,
          null,
          25.79325,
          40.63975111,
          null,
          47.44898194,
          40.63975111,
          null,
          37.61900194,
          40.63975111,
          null,
          18.33730556,
          40.63975111,
          null,
          27.97547222,
          40.63975111,
          null,
          32.89595056,
          36.08036111,
          null,
          40.63975111,
          36.08036111,
          null,
          33.94253611,
          36.08036111,
          null,
          41.979595,
          36.08036111,
          null,
          30.19453278,
          33.94253611,
          null,
          36.12447667,
          33.94253611,
          null,
          42.3643475,
          33.94253611,
          null,
          39.64256778,
          33.94253611,
          null,
          40.63975111,
          33.94253611,
          null,
          19.73876583,
          33.94253611,
          null,
          20.89864972,
          33.94253611,
          null,
          41.979595,
          33.94253611,
          null,
          38.74768694,
          33.94253611,
          null,
          36.12447667,
          40.77724306,
          null,
          32.89595056,
          40.77724306,
          null,
          38.74768694,
          40.77724306,
          null,
          33.94253611,
          21.97598306,
          null,
          33.94253611,
          28.42888889,
          null,
          25.79325,
          28.42888889,
          null,
          33.64044444,
          25.79325,
          null,
          41.93887417,
          25.79325,
          null,
          38.85208333,
          25.79325,
          null,
          39.64256778,
          25.79325,
          null,
          36.08036111,
          25.79325,
          null,
          33.94253611,
          25.79325,
          null,
          40.77724306,
          25.79325,
          null,
          44.88054694,
          25.79325,
          null,
          41.979595,
          25.79325,
          null,
          39.87195278,
          25.79325,
          null,
          33.43416667,
          25.79325,
          null,
          37.61900194,
          25.79325,
          null,
          18.43941667,
          25.79325,
          null,
          36.19837222,
          25.79325,
          null,
          41.979595,
          44.88054694,
          null,
          32.89595056,
          29.99338889,
          null,
          25.79325,
          29.99338889,
          null,
          41.979595,
          29.99338889,
          null,
          32.89595056,
          34.056,
          null,
          38.85208333,
          41.979595,
          null,
          40.69249722,
          41.979595,
          null,
          26.07258333,
          41.979595,
          null,
          40.48118028,
          41.979595,
          null,
          21.31869111,
          41.979595,
          null,
          43.60732417,
          41.979595,
          null,
          40.63975111,
          41.979595,
          null,
          40.77724306,
          41.979595,
          null,
          39.29760528,
          41.979595,
          null,
          28.42888889,
          41.979595,
          null,
          35.87763889,
          41.979595,
          null,
          39.49857611,
          41.979595,
          null,
          32.73355611,
          41.979595,
          null,
          29.53369444,
          41.979595,
          null,
          37.36186194,
          41.979595,
          null,
          18.43941667,
          41.979595,
          null,
          38.74768694,
          41.979595,
          null,
          36.19837222,
          41.979595,
          null,
          32.11608333,
          41.979595,
          null,
          32.89595056,
          36.89461111,
          null,
          32.89595056,
          26.68316194,
          null,
          41.979595,
          26.68316194,
          null,
          32.89595056,
          45.58872222,
          null,
          41.979595,
          39.87195278,
          null,
          18.43941667,
          39.87195278,
          null,
          41.979595,
          33.43416667,
          null,
          32.89595056,
          40.49146583,
          null,
          32.89595056,
          33.82921556,
          null,
          41.979595,
          33.82921556,
          null,
          32.89595056,
          35.87763889,
          null,
          25.79325,
          35.87763889,
          null,
          32.89595056,
          26.53616667,
          null,
          41.979595,
          26.53616667,
          null,
          40.63975111,
          32.73355611,
          null,
          32.89595056,
          47.44898194,
          null,
          41.979595,
          47.44898194,
          null,
          21.31869111,
          37.61900194,
          null,
          33.94253611,
          37.61900194,
          null,
          41.979595,
          37.61900194,
          null,
          32.89595056,
          18.43941667,
          null,
          38.94453194,
          18.43941667,
          null,
          40.63975111,
          18.43941667,
          null,
          33.94253611,
          18.43941667,
          null,
          32.89595056,
          38.69542167,
          null,
          32.89595056,
          33.67565861,
          null,
          41.979595,
          33.67565861,
          null,
          38.85208333,
          38.74768694,
          null,
          25.79325,
          38.74768694,
          null,
          25.79325,
          18.33730556,
          null,
          25.79325,
          17.70188889,
          null,
          32.89595056,
          27.97547222,
          null,
          25.79325,
          27.97547222,
          null,
          41.979595,
          27.97547222,
          null,
          18.43941667,
          27.97547222,
          null,
          32.89595056,
          36.19837222,
          null,
          32.89595056,
          32.11608333,
          null
         ],
         "line": {
          "color": "red",
          "width": 1
         },
         "locationmode": "USA-states",
         "lon": [
          -97.0372,
          -106.6091944,
          null,
          -87.90446417,
          -97.66987194,
          null,
          -97.0372,
          -72.68322833,
          null,
          -66.00183333,
          -72.68322833,
          null,
          -97.0372,
          -86.75354972,
          null,
          -80.29055556,
          -86.67818222,
          null,
          -97.0372,
          -71.00517917,
          null,
          -80.29055556,
          -71.00517917,
          null,
          -87.90446417,
          -71.00517917,
          null,
          -66.00183333,
          -71.00517917,
          null,
          -64.97336111,
          -71.00517917,
          null,
          -80.29055556,
          -76.66819833,
          null,
          -66.00183333,
          -76.66819833,
          null,
          -97.0372,
          -80.94312583,
          null,
          -97.0372,
          -104.70025,
          null,
          -97.0372,
          -84.219375,
          null,
          -97.0372,
          -77.03772222,
          null,
          -80.29055556,
          -104.6670019,
          null,
          -87.90446417,
          -104.6670019,
          null,
          -84.42694444,
          -97.0372,
          null,
          -97.66987194,
          -97.0372,
          null,
          -86.67818222,
          -97.0372,
          null,
          -118.3584969,
          -97.0372,
          null,
          -76.66819833,
          -97.0372,
          null,
          -82.89188278,
          -97.0372,
          null,
          -104.6670019,
          -97.0372,
          null,
          -83.34883583,
          -97.0372,
          null,
          -106.9176953,
          -97.0372,
          null,
          -74.16866056,
          -97.0372,
          null,
          -119.7181389,
          -97.0372,
          null,
          -80.15275,
          -97.0372,
          null,
          -86.77310944,
          -97.0372,
          null,
          -95.33972222,
          -97.0372,
          null,
          -118.4080744,
          -97.0372,
          null,
          -94.71390556,
          -97.0372,
          null,
          -81.31602778,
          -97.0372,
          null,
          -89.97666667,
          -97.0372,
          null,
          -98.23861111,
          -97.0372,
          null,
          -80.29055556,
          -97.0372,
          null,
          -93.2169225,
          -97.0372,
          null,
          -107.8938333,
          -97.0372,
          null,
          -156.4304578,
          -97.0372,
          null,
          -97.60073389,
          -97.0372,
          null,
          -95.89417306,
          -97.0372,
          null,
          -87.90446417,
          -97.0372,
          null,
          -75.24114083,
          -97.0372,
          null,
          -112.0080556,
          -97.0372,
          null,
          -77.31966667,
          -97.0372,
          null,
          -119.7680647,
          -97.0372,
          null,
          -117.1896567,
          -97.0372,
          null,
          -98.46977778,
          -97.0372,
          null,
          -85.736,
          -97.0372,
          null,
          -122.3748433,
          -97.0372,
          null,
          -121.9290089,
          -97.0372,
          null,
          -111.9777731,
          -97.0372,
          null,
          -90.35998972,
          -97.0372,
          null,
          -94.30681111,
          -97.0372,
          null,
          -80.29055556,
          -83.34883583,
          null,
          -73.87260917,
          -106.9176953,
          null,
          -87.90446417,
          -106.9176953,
          null,
          -97.0372,
          -106.3778056,
          null,
          -118.4080744,
          -74.16866056,
          null,
          -80.29055556,
          -74.16866056,
          null,
          -73.77892556,
          -80.15275,
          null,
          -97.0372,
          -107.2176597,
          null,
          -97.0372,
          -157.9224072,
          null,
          -118.4080744,
          -157.9224072,
          null,
          -97.0372,
          -77.45580972,
          null,
          -118.4080744,
          -77.45580972,
          null,
          -80.29055556,
          -77.45580972,
          null,
          -80.29055556,
          -95.33972222,
          null,
          -97.0372,
          -97.43304583,
          null,
          -97.0372,
          -86.29438417,
          null,
          -97.0372,
          -110.7377389,
          null,
          -97.0372,
          -81.68786111,
          null,
          -97.66987194,
          -73.77892556,
          null,
          -97.0372,
          -73.77892556,
          null,
          -106.9176953,
          -73.77892556,
          null,
          -81.31602778,
          -73.77892556,
          null,
          -80.29055556,
          -73.77892556,
          null,
          -122.3093131,
          -73.77892556,
          null,
          -122.3748433,
          -73.77892556,
          null,
          -64.97336111,
          -73.77892556,
          null,
          -82.53325,
          -73.77892556,
          null,
          -97.0372,
          -115.1523333,
          null,
          -73.77892556,
          -115.1523333,
          null,
          -118.4080744,
          -115.1523333,
          null,
          -87.90446417,
          -115.1523333,
          null,
          -97.66987194,
          -118.4080744,
          null,
          -86.67818222,
          -118.4080744,
          null,
          -71.00517917,
          -118.4080744,
          null,
          -106.9176953,
          -118.4080744,
          null,
          -73.77892556,
          -118.4080744,
          null,
          -156.0456314,
          -118.4080744,
          null,
          -156.4304578,
          -118.4080744,
          null,
          -87.90446417,
          -118.4080744,
          null,
          -90.35998972,
          -118.4080744,
          null,
          -86.67818222,
          -73.87260917,
          null,
          -97.0372,
          -73.87260917,
          null,
          -90.35998972,
          -73.87260917,
          null,
          -118.4080744,
          -159.3389581,
          null,
          -118.4080744,
          -81.31602778,
          null,
          -80.29055556,
          -81.31602778,
          null,
          -84.42694444,
          -80.29055556,
          null,
          -72.68322833,
          -80.29055556,
          null,
          -77.03772222,
          -80.29055556,
          null,
          -106.9176953,
          -80.29055556,
          null,
          -115.1523333,
          -80.29055556,
          null,
          -118.4080744,
          -80.29055556,
          null,
          -73.87260917,
          -80.29055556,
          null,
          -93.2169225,
          -80.29055556,
          null,
          -87.90446417,
          -80.29055556,
          null,
          -75.24114083,
          -80.29055556,
          null,
          -112.0080556,
          -80.29055556,
          null,
          -122.3748433,
          -80.29055556,
          null,
          -66.00183333,
          -80.29055556,
          null,
          -95.88824167,
          -80.29055556,
          null,
          -87.90446417,
          -93.2169225,
          null,
          -97.0372,
          -90.25802778,
          null,
          -80.29055556,
          -90.25802778,
          null,
          -87.90446417,
          -90.25802778,
          null,
          -97.0372,
          -117.6011944,
          null,
          -77.03772222,
          -87.90446417,
          null,
          -74.16866056,
          -87.90446417,
          null,
          -80.15275,
          -87.90446417,
          null,
          -107.2176597,
          -87.90446417,
          null,
          -157.9224072,
          -87.90446417,
          null,
          -110.7377389,
          -87.90446417,
          null,
          -73.77892556,
          -87.90446417,
          null,
          -73.87260917,
          -87.90446417,
          null,
          -94.71390556,
          -87.90446417,
          null,
          -81.31602778,
          -87.90446417,
          null,
          -78.78747222,
          -87.90446417,
          null,
          -119.7680647,
          -87.90446417,
          null,
          -117.1896567,
          -87.90446417,
          null,
          -98.46977778,
          -87.90446417,
          null,
          -121.9290089,
          -87.90446417,
          null,
          -66.00183333,
          -87.90446417,
          null,
          -90.35998972,
          -87.90446417,
          null,
          -95.88824167,
          -87.90446417,
          null,
          -110.9410278,
          -87.90446417,
          null,
          -97.0372,
          -76.20122222,
          null,
          -97.0372,
          -80.09559417,
          null,
          -87.90446417,
          -80.09559417,
          null,
          -97.0372,
          -122.5975,
          null,
          -87.90446417,
          -75.24114083,
          null,
          -66.00183333,
          -75.24114083,
          null,
          -87.90446417,
          -112.0080556,
          null,
          -97.0372,
          -80.23287083,
          null,
          -97.0372,
          -116.5062531,
          null,
          -87.90446417,
          -116.5062531,
          null,
          -97.0372,
          -78.78747222,
          null,
          -80.29055556,
          -78.78747222,
          null,
          -97.0372,
          -81.75516667,
          null,
          -87.90446417,
          -81.75516667,
          null,
          -73.77892556,
          -117.1896567,
          null,
          -97.0372,
          -122.3093131,
          null,
          -87.90446417,
          -122.3093131,
          null,
          -157.9224072,
          -122.3748433,
          null,
          -118.4080744,
          -122.3748433,
          null,
          -87.90446417,
          -122.3748433,
          null,
          -97.0372,
          -66.00183333,
          null,
          -77.45580972,
          -66.00183333,
          null,
          -73.77892556,
          -66.00183333,
          null,
          -118.4080744,
          -66.00183333,
          null,
          -97.0372,
          -121.5907669,
          null,
          -97.0372,
          -117.8682225,
          null,
          -87.90446417,
          -117.8682225,
          null,
          -77.03772222,
          -90.35998972,
          null,
          -80.29055556,
          -90.35998972,
          null,
          -80.29055556,
          -64.97336111,
          null,
          -80.29055556,
          -64.79855556,
          null,
          -97.0372,
          -82.53325,
          null,
          -80.29055556,
          -82.53325,
          null,
          -87.90446417,
          -82.53325,
          null,
          -66.00183333,
          -82.53325,
          null,
          -97.0372,
          -95.88824167,
          null,
          -97.0372,
          -110.9410278,
          null
         ],
         "mode": "lines",
         "opacity": 0.5,
         "type": "scattergeo"
        }
       ],
       "layout": {
        "geo": {
         "countrycolor": "rgb(204, 204, 204)",
         "landcolor": "rgb(243, 243, 243)",
         "projection": {
          "type": "azimuthal equal area"
         },
         "scope": "north america",
         "showland": true
        },
        "height": 700,
        "showlegend": false,
        "template": {
         "data": {
          "bar": [
           {
            "error_x": {
             "color": "#2a3f5f"
            },
            "error_y": {
             "color": "#2a3f5f"
            },
            "marker": {
             "line": {
              "color": "#E5ECF6",
              "width": 0.5
             },
             "pattern": {
              "fillmode": "overlay",
              "size": 10,
              "solidity": 0.2
             }
            },
            "type": "bar"
           }
          ],
          "barpolar": [
           {
            "marker": {
             "line": {
              "color": "#E5ECF6",
              "width": 0.5
             },
             "pattern": {
              "fillmode": "overlay",
              "size": 10,
              "solidity": 0.2
             }
            },
            "type": "barpolar"
           }
          ],
          "carpet": [
           {
            "aaxis": {
             "endlinecolor": "#2a3f5f",
             "gridcolor": "white",
             "linecolor": "white",
             "minorgridcolor": "white",
             "startlinecolor": "#2a3f5f"
            },
            "baxis": {
             "endlinecolor": "#2a3f5f",
             "gridcolor": "white",
             "linecolor": "white",
             "minorgridcolor": "white",
             "startlinecolor": "#2a3f5f"
            },
            "type": "carpet"
           }
          ],
          "choropleth": [
           {
            "colorbar": {
             "outlinewidth": 0,
             "ticks": ""
            },
            "type": "choropleth"
           }
          ],
          "contour": [
           {
            "colorbar": {
             "outlinewidth": 0,
             "ticks": ""
            },
            "colorscale": [
             [
              0,
              "#0d0887"
             ],
             [
              0.1111111111111111,
              "#46039f"
             ],
             [
              0.2222222222222222,
              "#7201a8"
             ],
             [
              0.3333333333333333,
              "#9c179e"
             ],
             [
              0.4444444444444444,
              "#bd3786"
             ],
             [
              0.5555555555555556,
              "#d8576b"
             ],
             [
              0.6666666666666666,
              "#ed7953"
             ],
             [
              0.7777777777777778,
              "#fb9f3a"
             ],
             [
              0.8888888888888888,
              "#fdca26"
             ],
             [
              1,
              "#f0f921"
             ]
            ],
            "type": "contour"
           }
          ],
          "contourcarpet": [
           {
            "colorbar": {
             "outlinewidth": 0,
             "ticks": ""
            },
            "type": "contourcarpet"
           }
          ],
          "heatmap": [
           {
            "colorbar": {
             "outlinewidth": 0,
             "ticks": ""
            },
            "colorscale": [
             [
              0,
              "#0d0887"
             ],
             [
              0.1111111111111111,
              "#46039f"
             ],
             [
              0.2222222222222222,
              "#7201a8"
             ],
             [
              0.3333333333333333,
              "#9c179e"
             ],
             [
              0.4444444444444444,
              "#bd3786"
             ],
             [
              0.5555555555555556,
              "#d8576b"
             ],
             [
              0.6666666666666666,
              "#ed7953"
             ],
             [
              0.7777777777777778,
              "#fb9f3a"
             ],
             [
              0.8888888888888888,
              "#fdca26"
             ],
             [
              1,
              "#f0f921"
             ]
            ],
            "type": "heatmap"
           }
          ],
          "heatmapgl": [
           {
            "colorbar": {
             "outlinewidth": 0,
             "ticks": ""
            },
            "colorscale": [
             [
              0,
              "#0d0887"
             ],
             [
              0.1111111111111111,
              "#46039f"
             ],
             [
              0.2222222222222222,
              "#7201a8"
             ],
             [
              0.3333333333333333,
              "#9c179e"
             ],
             [
              0.4444444444444444,
              "#bd3786"
             ],
             [
              0.5555555555555556,
              "#d8576b"
             ],
             [
              0.6666666666666666,
              "#ed7953"
             ],
             [
              0.7777777777777778,
              "#fb9f3a"
             ],
             [
              0.8888888888888888,
              "#fdca26"
             ],
             [
              1,
              "#f0f921"
             ]
            ],
            "type": "heatmapgl"
           }
          ],
          "histogram": [
           {
            "marker": {
             "pattern": {
              "fillmode": "overlay",
              "size": 10,
              "solidity": 0.2
             }
            },
            "type": "histogram"
           }
          ],
          "histogram2d": [
           {
            "colorbar": {
             "outlinewidth": 0,
             "ticks": ""
            },
            "colorscale": [
             [
              0,
              "#0d0887"
             ],
             [
              0.1111111111111111,
              "#46039f"
             ],
             [
              0.2222222222222222,
              "#7201a8"
             ],
             [
              0.3333333333333333,
              "#9c179e"
             ],
             [
              0.4444444444444444,
              "#bd3786"
             ],
             [
              0.5555555555555556,
              "#d8576b"
             ],
             [
              0.6666666666666666,
              "#ed7953"
             ],
             [
              0.7777777777777778,
              "#fb9f3a"
             ],
             [
              0.8888888888888888,
              "#fdca26"
             ],
             [
              1,
              "#f0f921"
             ]
            ],
            "type": "histogram2d"
           }
          ],
          "histogram2dcontour": [
           {
            "colorbar": {
             "outlinewidth": 0,
             "ticks": ""
            },
            "colorscale": [
             [
              0,
              "#0d0887"
             ],
             [
              0.1111111111111111,
              "#46039f"
             ],
             [
              0.2222222222222222,
              "#7201a8"
             ],
             [
              0.3333333333333333,
              "#9c179e"
             ],
             [
              0.4444444444444444,
              "#bd3786"
             ],
             [
              0.5555555555555556,
              "#d8576b"
             ],
             [
              0.6666666666666666,
              "#ed7953"
             ],
             [
              0.7777777777777778,
              "#fb9f3a"
             ],
             [
              0.8888888888888888,
              "#fdca26"
             ],
             [
              1,
              "#f0f921"
             ]
            ],
            "type": "histogram2dcontour"
           }
          ],
          "mesh3d": [
           {
            "colorbar": {
             "outlinewidth": 0,
             "ticks": ""
            },
            "type": "mesh3d"
           }
          ],
          "parcoords": [
           {
            "line": {
             "colorbar": {
              "outlinewidth": 0,
              "ticks": ""
             }
            },
            "type": "parcoords"
           }
          ],
          "pie": [
           {
            "automargin": true,
            "type": "pie"
           }
          ],
          "scatter": [
           {
            "marker": {
             "colorbar": {
              "outlinewidth": 0,
              "ticks": ""
             }
            },
            "type": "scatter"
           }
          ],
          "scatter3d": [
           {
            "line": {
             "colorbar": {
              "outlinewidth": 0,
              "ticks": ""
             }
            },
            "marker": {
             "colorbar": {
              "outlinewidth": 0,
              "ticks": ""
             }
            },
            "type": "scatter3d"
           }
          ],
          "scattercarpet": [
           {
            "marker": {
             "colorbar": {
              "outlinewidth": 0,
              "ticks": ""
             }
            },
            "type": "scattercarpet"
           }
          ],
          "scattergeo": [
           {
            "marker": {
             "colorbar": {
              "outlinewidth": 0,
              "ticks": ""
             }
            },
            "type": "scattergeo"
           }
          ],
          "scattergl": [
           {
            "marker": {
             "colorbar": {
              "outlinewidth": 0,
              "ticks": ""
             }
            },
            "type": "scattergl"
           }
          ],
          "scattermapbox": [
           {
            "marker": {
             "colorbar": {
              "outlinewidth": 0,
              "ticks": ""
             }
            },
            "type": "scattermapbox"
           }
          ],
          "scatterpolar": [
           {
            "marker": {
             "colorbar": {
              "outlinewidth": 0,
              "ticks": ""
             }
            },
            "type": "scatterpolar"
           }
          ],
          "scatterpolargl": [
           {
            "marker": {
             "colorbar": {
              "outlinewidth": 0,
              "ticks": ""
             }
            },
            "type": "scatterpolargl"
           }
          ],
          "scatterternary": [
           {
            "marker": {
             "colorbar": {
              "outlinewidth": 0,
              "ticks": ""
             }
            },
            "type": "scatterternary"
           }
          ],
          "surface": [
           {
            "colorbar": {
             "outlinewidth": 0,
             "ticks": ""
            },
            "colorscale": [
             [
              0,
              "#0d0887"
             ],
             [
              0.1111111111111111,
              "#46039f"
             ],
             [
              0.2222222222222222,
              "#7201a8"
             ],
             [
              0.3333333333333333,
              "#9c179e"
             ],
             [
              0.4444444444444444,
              "#bd3786"
             ],
             [
              0.5555555555555556,
              "#d8576b"
             ],
             [
              0.6666666666666666,
              "#ed7953"
             ],
             [
              0.7777777777777778,
              "#fb9f3a"
             ],
             [
              0.8888888888888888,
              "#fdca26"
             ],
             [
              1,
              "#f0f921"
             ]
            ],
            "type": "surface"
           }
          ],
          "table": [
           {
            "cells": {
             "fill": {
              "color": "#EBF0F8"
             },
             "line": {
              "color": "white"
             }
            },
            "header": {
             "fill": {
              "color": "#C8D4E3"
             },
             "line": {
              "color": "white"
             }
            },
            "type": "table"
           }
          ]
         },
         "layout": {
          "annotationdefaults": {
           "arrowcolor": "#2a3f5f",
           "arrowhead": 0,
           "arrowwidth": 1
          },
          "autotypenumbers": "strict",
          "coloraxis": {
           "colorbar": {
            "outlinewidth": 0,
            "ticks": ""
           }
          },
          "colorscale": {
           "diverging": [
            [
             0,
             "#8e0152"
            ],
            [
             0.1,
             "#c51b7d"
            ],
            [
             0.2,
             "#de77ae"
            ],
            [
             0.3,
             "#f1b6da"
            ],
            [
             0.4,
             "#fde0ef"
            ],
            [
             0.5,
             "#f7f7f7"
            ],
            [
             0.6,
             "#e6f5d0"
            ],
            [
             0.7,
             "#b8e186"
            ],
            [
             0.8,
             "#7fbc41"
            ],
            [
             0.9,
             "#4d9221"
            ],
            [
             1,
             "#276419"
            ]
           ],
           "sequential": [
            [
             0,
             "#0d0887"
            ],
            [
             0.1111111111111111,
             "#46039f"
            ],
            [
             0.2222222222222222,
             "#7201a8"
            ],
            [
             0.3333333333333333,
             "#9c179e"
            ],
            [
             0.4444444444444444,
             "#bd3786"
            ],
            [
             0.5555555555555556,
             "#d8576b"
            ],
            [
             0.6666666666666666,
             "#ed7953"
            ],
            [
             0.7777777777777778,
             "#fb9f3a"
            ],
            [
             0.8888888888888888,
             "#fdca26"
            ],
            [
             1,
             "#f0f921"
            ]
           ],
           "sequentialminus": [
            [
             0,
             "#0d0887"
            ],
            [
             0.1111111111111111,
             "#46039f"
            ],
            [
             0.2222222222222222,
             "#7201a8"
            ],
            [
             0.3333333333333333,
             "#9c179e"
            ],
            [
             0.4444444444444444,
             "#bd3786"
            ],
            [
             0.5555555555555556,
             "#d8576b"
            ],
            [
             0.6666666666666666,
             "#ed7953"
            ],
            [
             0.7777777777777778,
             "#fb9f3a"
            ],
            [
             0.8888888888888888,
             "#fdca26"
            ],
            [
             1,
             "#f0f921"
            ]
           ]
          },
          "colorway": [
           "#636efa",
           "#EF553B",
           "#00cc96",
           "#ab63fa",
           "#FFA15A",
           "#19d3f3",
           "#FF6692",
           "#B6E880",
           "#FF97FF",
           "#FECB52"
          ],
          "font": {
           "color": "#2a3f5f"
          },
          "geo": {
           "bgcolor": "white",
           "lakecolor": "white",
           "landcolor": "#E5ECF6",
           "showlakes": true,
           "showland": true,
           "subunitcolor": "white"
          },
          "hoverlabel": {
           "align": "left"
          },
          "hovermode": "closest",
          "mapbox": {
           "style": "light"
          },
          "paper_bgcolor": "white",
          "plot_bgcolor": "#E5ECF6",
          "polar": {
           "angularaxis": {
            "gridcolor": "white",
            "linecolor": "white",
            "ticks": ""
           },
           "bgcolor": "#E5ECF6",
           "radialaxis": {
            "gridcolor": "white",
            "linecolor": "white",
            "ticks": ""
           }
          },
          "scene": {
           "xaxis": {
            "backgroundcolor": "#E5ECF6",
            "gridcolor": "white",
            "gridwidth": 2,
            "linecolor": "white",
            "showbackground": true,
            "ticks": "",
            "zerolinecolor": "white"
           },
           "yaxis": {
            "backgroundcolor": "#E5ECF6",
            "gridcolor": "white",
            "gridwidth": 2,
            "linecolor": "white",
            "showbackground": true,
            "ticks": "",
            "zerolinecolor": "white"
           },
           "zaxis": {
            "backgroundcolor": "#E5ECF6",
            "gridcolor": "white",
            "gridwidth": 2,
            "linecolor": "white",
            "showbackground": true,
            "ticks": "",
            "zerolinecolor": "white"
           }
          },
          "shapedefaults": {
           "line": {
            "color": "#2a3f5f"
           }
          },
          "ternary": {
           "aaxis": {
            "gridcolor": "white",
            "linecolor": "white",
            "ticks": ""
           },
           "baxis": {
            "gridcolor": "white",
            "linecolor": "white",
            "ticks": ""
           },
           "bgcolor": "#E5ECF6",
           "caxis": {
            "gridcolor": "white",
            "linecolor": "white",
            "ticks": ""
           }
          },
          "title": {
           "x": 0.05
          },
          "xaxis": {
           "automargin": true,
           "gridcolor": "white",
           "linecolor": "white",
           "ticks": "",
           "title": {
            "standoff": 15
           },
           "zerolinecolor": "white",
           "zerolinewidth": 2
          },
          "yaxis": {
           "automargin": true,
           "gridcolor": "white",
           "linecolor": "white",
           "ticks": "",
           "title": {
            "standoff": 15
           },
           "zerolinecolor": "white",
           "zerolinewidth": 2
          }
         }
        },
        "title": {
         "text": "Feb. 2011 American Airline flight paths<br>(Hover for airport names)"
        }
       }
      }
     },
     "metadata": {},
     "output_type": "display_data"
    }
   ],
   "source": [
    "import plotly.graph_objects as go\n",
    "import pandas as pd\n",
    "\n",
    "df_airports = pd.read_csv('https://raw.githubusercontent.com/plotly/datasets/master/2011_february_us_airport_traffic.csv')\n",
    "df_airports.head()\n",
    "\n",
    "df_flight_paths = pd.read_csv('https://raw.githubusercontent.com/plotly/datasets/master/2011_february_aa_flight_paths.csv')\n",
    "df_flight_paths.head()\n",
    "\n",
    "fig = go.Figure()\n",
    "\n",
    "fig.add_trace(go.Scattergeo(\n",
    "    locationmode = 'USA-states',\n",
    "    lon = df_airports['long'],\n",
    "    lat = df_airports['lat'],\n",
    "    hoverinfo = 'text',\n",
    "    text = df_airports['airport'],\n",
    "    mode = 'markers',\n",
    "    marker = dict(\n",
    "        size = 2,\n",
    "        color = 'rgb(255, 0, 0)',\n",
    "        line = dict(\n",
    "            width = 3,\n",
    "            color = 'rgba(68, 68, 68, 0)'\n",
    "        )\n",
    "    )))\n",
    "\n",
    "lons = []\n",
    "lats = []\n",
    "import numpy as np\n",
    "lons = np.empty(3 * len(df_flight_paths))\n",
    "lons[::3] = df_flight_paths['start_lon']\n",
    "lons[1::3] = df_flight_paths['end_lon']\n",
    "lons[2::3] = None\n",
    "lats = np.empty(3 * len(df_flight_paths))\n",
    "lats[::3] = df_flight_paths['start_lat']\n",
    "lats[1::3] = df_flight_paths['end_lat']\n",
    "lats[2::3] = None\n",
    "\n",
    "fig.add_trace(\n",
    "    go.Scattergeo(\n",
    "        locationmode = 'USA-states',\n",
    "        lon = lons,\n",
    "        lat = lats,\n",
    "        mode = 'lines',\n",
    "        line = dict(width = 1,color = 'red'),\n",
    "        opacity = 0.5\n",
    "    )\n",
    ")\n",
    "\n",
    "fig.update_layout(\n",
    "    title_text = 'Feb. 2011 American Airline flight paths<br>(Hover for airport names)',\n",
    "    showlegend = False,\n",
    "    geo = go.layout.Geo(\n",
    "        scope = 'north america',\n",
    "        projection_type = 'azimuthal equal area',\n",
    "        showland = True,\n",
    "        landcolor = 'rgb(243, 243, 243)',\n",
    "        countrycolor = 'rgb(204, 204, 204)',\n",
    "    ),\n",
    "    height=700,\n",
    ")\n",
    "\n",
    "fig.show()"
   ]
  },
  {
   "cell_type": "markdown",
   "metadata": {},
   "source": [
    "# Different ways to add parameters"
   ]
  },
  {
   "cell_type": "code",
   "execution_count": 68,
   "metadata": {},
   "outputs": [
    {
     "ename": "NameError",
     "evalue": "name 'datetime' is not defined",
     "output_type": "error",
     "traceback": [
      "\u001b[1;31m---------------------------------------------------------------------------\u001b[0m",
      "\u001b[1;31mNameError\u001b[0m                                 Traceback (most recent call last)",
      "\u001b[1;32m~\\AppData\\Local\\Temp/ipykernel_12104/3085000623.py\u001b[0m in \u001b[0;36m<module>\u001b[1;34m\u001b[0m\n\u001b[0;32m      1\u001b[0m query = \"\"\"select \"Timestamp\",\"Value\" from \"MyTable\" \n\u001b[0;32m      2\u001b[0m                       where \"Timestamp\" BETWEEN %(dstart)s AND %(dfinish)s\"\"\"\n\u001b[1;32m----> 3\u001b[1;33m params = {\"dstart\":datetime(2014,6,24,16,0),\n\u001b[0m\u001b[0;32m      4\u001b[0m             \"dfinish\":datetime(2014,6,24,17,0)}\n\u001b[0;32m      5\u001b[0m df = psql.read_sql(query,\n",
      "\u001b[1;31mNameError\u001b[0m: name 'datetime' is not defined"
     ]
    }
   ],
   "source": [
    "query = \"\"\"select \"Timestamp\",\"Value\" from \"MyTable\" \n",
    "                      where \"Timestamp\" BETWEEN %(dstart)s AND %(dfinish)s\"\"\"\n",
    "params = {\"dstart\":datetime(2014,6,24,16,0),\n",
    "            \"dfinish\":datetime(2014,6,24,17,0)}\n",
    "df = psql.read_sql(query,\n",
    "                   db,\n",
    "                   params=params,\n",
    "                   index_col=['Timestamp'])"
   ]
  },
  {
   "cell_type": "code",
   "execution_count": null,
   "metadata": {},
   "outputs": [],
   "source": []
  },
  {
   "cell_type": "code",
   "execution_count": null,
   "metadata": {},
   "outputs": [],
   "source": [
    "query = \"\"\"select \"Timestamp\",\"Value\" from \"MyTable\" \n",
    "                      where \"Timestamp\" BETWEEN %s AND %s\"\"\"\n",
    "params = (datetime(2014,6,24,16,0), datetime(2014,6,24,17,0))\n",
    "df = psql.read_sql(query,\n",
    "                   db,params=params,\n",
    "                   index_col=['Timestamp'])"
   ]
  }
 ],
 "metadata": {
  "interpreter": {
   "hash": "7987c57931f2365761dc2a5f85e647decf73af6edff0c78918b92bfe7c5512ba"
  },
  "kernelspec": {
   "display_name": "Python 3.8.5 32-bit",
   "name": "python3"
  },
  "language_info": {
   "codemirror_mode": {
    "name": "ipython",
    "version": 3
   },
   "file_extension": ".py",
   "mimetype": "text/x-python",
   "name": "python",
   "nbconvert_exporter": "python",
   "pygments_lexer": "ipython3",
   "version": "3.8.5"
  },
  "orig_nbformat": 4
 },
 "nbformat": 4,
 "nbformat_minor": 2
}
