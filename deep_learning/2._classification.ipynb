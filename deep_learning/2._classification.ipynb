{
 "cells": [
  {
   "cell_type": "code",
   "execution_count": 24,
   "metadata": {},
   "outputs": [],
   "source": [
    "from tensorflow.keras.models import Sequential\n",
    "from tensorflow.keras.layers import Dense, Dropout, Flatten\n",
    "from tensorflow.keras.optimizers import SGD\n",
    "from tensorflow.keras.datasets import mnist\n",
    "import tensorflow as tf\n",
    "import matplotlib.pyplot as plt\n",
    "%matplotlib inline\n",
    "import seaborn as sns\n",
    "import numpy as np"
   ]
  },
  {
   "cell_type": "code",
   "execution_count": 7,
   "metadata": {},
   "outputs": [],
   "source": [
    "mnist = tf.keras.datasets.mnist\n",
    "\n",
    "(x_train, y_train), (x_test, y_test) = mnist.load_data()\n",
    "x_train, x_test = x_train / 255.0, x_test / 255.0"
   ]
  },
  {
   "cell_type": "code",
   "execution_count": 8,
   "metadata": {},
   "outputs": [
    {
     "data": {
      "image/png": "[encoded data removed]",
      "text/plain": [
       "<Figure size 720x720 with 25 Axes>"
      ]
     },
     "metadata": {},
     "output_type": "display_data"
    }
   ],
   "source": [
    "plt.figure(figsize=(10,10))\n",
    "for i in range(25):\n",
    "    plt.subplot(5,5,i+1)\n",
    "    plt.xticks([])\n",
    "    plt.yticks([])\n",
    "    plt.grid(False)\n",
    "    plt.imshow(x_train[i], cmap=plt.cm.binary)\n",
    "    plt.xlabel(y_train[i])\n",
    "plt.show()"
   ]
  },
  {
   "cell_type": "code",
   "execution_count": 32,
   "metadata": {},
   "outputs": [
    {
     "name": "stdout",
     "output_type": "stream",
     "text": [
      "Model: \"sequential_1\"\n",
      "_________________________________________________________________\n",
      " Layer (type)                Output Shape              Param #   \n",
      "=================================================================\n",
      " flatten_1 (Flatten)         (None, 784)               0         \n",
      "                                                                 \n",
      " dense_4 (Dense)             (None, 128)               100480    \n",
      "                                                                 \n",
      " dropout_3 (Dropout)         (None, 128)               0         \n",
      "                                                                 \n",
      " dense_5 (Dense)             (None, 64)                8256      \n",
      "                                                                 \n",
      " dropout_4 (Dropout)         (None, 64)                0         \n",
      "                                                                 \n",
      " dense_6 (Dense)             (None, 32)                2080      \n",
      "                                                                 \n",
      " dropout_5 (Dropout)         (None, 32)                0         \n",
      "                                                                 \n",
      " dense_7 (Dense)             (None, 10)                330       \n",
      "                                                                 \n",
      "=================================================================\n",
      "Total params: 111,146\n",
      "Trainable params: 111,146\n",
      "Non-trainable params: 0\n",
      "_________________________________________________________________\n"
     ]
    }
   ],
   "source": [
    "nb_classes = len(set(y_train))\n",
    "\n",
    "model = Sequential([\n",
    "  Flatten(input_shape=(28, 28)),\n",
    "  Dense(128, activation='relu'),\n",
    "  Dropout(0.2),\n",
    "  Dense(64, activation='relu'),\n",
    "  Dropout(0.2),\n",
    "  Dense(32, activation='relu'),\n",
    "  Dropout(0.2),\n",
    "  Dense(nb_classes)\n",
    "])\n",
    "\n",
    "model.summary()"
   ]
  },
  {
   "cell_type": "code",
   "execution_count": 18,
   "metadata": {},
   "outputs": [
    {
     "data": {
      "text/plain": [
       "array([[ 0.28130051,  0.20847604,  0.03922432,  0.09864812,  0.03623736,\n",
       "        -0.03888116, -0.0889548 , -0.14671242,  0.0058768 ,  0.33546662]],\n",
       "      dtype=float32)"
      ]
     },
     "execution_count": 18,
     "metadata": {},
     "output_type": "execute_result"
    }
   ],
   "source": [
    "predictions = model(x_train[:1]).numpy()\n",
    "predictions"
   ]
  },
  {
   "cell_type": "code",
   "execution_count": 19,
   "metadata": {},
   "outputs": [
    {
     "data": {
      "text/plain": [
       "array([[0.1217469 , 0.11319589, 0.09557087, 0.10142218, 0.09528583,\n",
       "        0.08839034, 0.08407329, 0.07935499, 0.09243637, 0.12852332]],\n",
       "      dtype=float32)"
      ]
     },
     "execution_count": 19,
     "metadata": {},
     "output_type": "execute_result"
    }
   ],
   "source": [
    "tf.nn.softmax(predictions).numpy()"
   ]
  },
  {
   "cell_type": "code",
   "execution_count": 33,
   "metadata": {},
   "outputs": [],
   "source": [
    "model.compile(optimizer='adam',\n",
    "              loss = tf.keras.losses.SparseCategoricalCrossentropy(from_logits=True),\n",
    "              metrics=['accuracy'])"
   ]
  },
  {
   "cell_type": "code",
   "execution_count": 34,
   "metadata": {},
   "outputs": [
    {
     "name": "stdout",
     "output_type": "stream",
     "text": [
      "Epoch 1/100\n",
      "329/329 [==============================] - 1s 3ms/step - loss: 0.6980 - accuracy: 0.7808 - val_loss: 0.2335 - val_accuracy: 0.9312\n",
      "Epoch 2/100\n",
      "329/329 [==============================] - 1s 3ms/step - loss: 0.2886 - accuracy: 0.9193 - val_loss: 0.1563 - val_accuracy: 0.9533\n",
      "Epoch 3/100\n",
      "329/329 [==============================] - 1s 2ms/step - loss: 0.2166 - accuracy: 0.9390 - val_loss: 0.1373 - val_accuracy: 0.9599\n",
      "Epoch 4/100\n",
      "329/329 [==============================] - 1s 3ms/step - loss: 0.1759 - accuracy: 0.9504 - val_loss: 0.1244 - val_accuracy: 0.9642\n",
      "Epoch 5/100\n",
      "329/329 [==============================] - 1s 3ms/step - loss: 0.1488 - accuracy: 0.9578 - val_loss: 0.1201 - val_accuracy: 0.9664\n",
      "Epoch 6/100\n",
      "329/329 [==============================] - 1s 2ms/step - loss: 0.1311 - accuracy: 0.9642 - val_loss: 0.1158 - val_accuracy: 0.9687\n",
      "Epoch 7/100\n",
      "329/329 [==============================] - 1s 3ms/step - loss: 0.1206 - accuracy: 0.9669 - val_loss: 0.1127 - val_accuracy: 0.9686\n",
      "Epoch 8/100\n",
      "329/329 [==============================] - 1s 2ms/step - loss: 0.1057 - accuracy: 0.9703 - val_loss: 0.1108 - val_accuracy: 0.9702\n",
      "Epoch 9/100\n",
      "329/329 [==============================] - 1s 2ms/step - loss: 0.0978 - accuracy: 0.9728 - val_loss: 0.1091 - val_accuracy: 0.9706\n",
      "Epoch 10/100\n",
      "329/329 [==============================] - 1s 3ms/step - loss: 0.0906 - accuracy: 0.9735 - val_loss: 0.1158 - val_accuracy: 0.9702\n",
      "Epoch 11/100\n",
      "329/329 [==============================] - 1s 2ms/step - loss: 0.0842 - accuracy: 0.9766 - val_loss: 0.1087 - val_accuracy: 0.9716\n",
      "Epoch 12/100\n",
      "329/329 [==============================] - 1s 3ms/step - loss: 0.0785 - accuracy: 0.9772 - val_loss: 0.1002 - val_accuracy: 0.9739\n",
      "Epoch 13/100\n",
      "329/329 [==============================] - 1s 2ms/step - loss: 0.0757 - accuracy: 0.9787 - val_loss: 0.0976 - val_accuracy: 0.9751\n",
      "Epoch 14/100\n",
      "329/329 [==============================] - 1s 2ms/step - loss: 0.0742 - accuracy: 0.9790 - val_loss: 0.1042 - val_accuracy: 0.9726\n",
      "Epoch 15/100\n",
      "329/329 [==============================] - 1s 3ms/step - loss: 0.0635 - accuracy: 0.9816 - val_loss: 0.1025 - val_accuracy: 0.9744\n",
      "Epoch 16/100\n",
      "329/329 [==============================] - 1s 2ms/step - loss: 0.0633 - accuracy: 0.9813 - val_loss: 0.1070 - val_accuracy: 0.9738\n",
      "Epoch 17/100\n",
      "329/329 [==============================] - 1s 3ms/step - loss: 0.0613 - accuracy: 0.9821 - val_loss: 0.1095 - val_accuracy: 0.9731\n",
      "Epoch 18/100\n",
      "329/329 [==============================] - 1s 2ms/step - loss: 0.0596 - accuracy: 0.9830 - val_loss: 0.1057 - val_accuracy: 0.9734\n",
      "Epoch 19/100\n",
      "329/329 [==============================] - 1s 2ms/step - loss: 0.0554 - accuracy: 0.9836 - val_loss: 0.1089 - val_accuracy: 0.9736\n",
      "Epoch 20/100\n",
      "329/329 [==============================] - 1s 3ms/step - loss: 0.0556 - accuracy: 0.9838 - val_loss: 0.1029 - val_accuracy: 0.9737\n",
      "Epoch 21/100\n",
      "329/329 [==============================] - 1s 3ms/step - loss: 0.0495 - accuracy: 0.9862 - val_loss: 0.1045 - val_accuracy: 0.9741\n",
      "Epoch 22/100\n",
      "329/329 [==============================] - 1s 3ms/step - loss: 0.0490 - accuracy: 0.9854 - val_loss: 0.1119 - val_accuracy: 0.9737\n",
      "Epoch 23/100\n",
      "329/329 [==============================] - 1s 3ms/step - loss: 0.0481 - accuracy: 0.9860 - val_loss: 0.1078 - val_accuracy: 0.9752\n",
      "Epoch 24/100\n",
      "329/329 [==============================] - 1s 3ms/step - loss: 0.0513 - accuracy: 0.9850 - val_loss: 0.1074 - val_accuracy: 0.9748\n",
      "Epoch 25/100\n",
      "329/329 [==============================] - 1s 3ms/step - loss: 0.0447 - accuracy: 0.9861 - val_loss: 0.1115 - val_accuracy: 0.9742\n",
      "Epoch 26/100\n",
      "329/329 [==============================] - 1s 2ms/step - loss: 0.0454 - accuracy: 0.9872 - val_loss: 0.1096 - val_accuracy: 0.9742\n",
      "Epoch 27/100\n",
      "329/329 [==============================] - 1s 2ms/step - loss: 0.0459 - accuracy: 0.9865 - val_loss: 0.1068 - val_accuracy: 0.9762\n",
      "Epoch 28/100\n",
      "329/329 [==============================] - 1s 2ms/step - loss: 0.0398 - accuracy: 0.9879 - val_loss: 0.1153 - val_accuracy: 0.9754\n",
      "Epoch 29/100\n",
      "329/329 [==============================] - 1s 2ms/step - loss: 0.0386 - accuracy: 0.9881 - val_loss: 0.1124 - val_accuracy: 0.9753\n",
      "Epoch 30/100\n",
      "329/329 [==============================] - 1s 2ms/step - loss: 0.0417 - accuracy: 0.9883 - val_loss: 0.1142 - val_accuracy: 0.9755\n",
      "Epoch 31/100\n",
      "329/329 [==============================] - 1s 2ms/step - loss: 0.0371 - accuracy: 0.9889 - val_loss: 0.1092 - val_accuracy: 0.9739\n",
      "Epoch 32/100\n",
      "329/329 [==============================] - 1s 2ms/step - loss: 0.0368 - accuracy: 0.9889 - val_loss: 0.1154 - val_accuracy: 0.9749\n",
      "Epoch 33/100\n",
      "329/329 [==============================] - 1s 2ms/step - loss: 0.0324 - accuracy: 0.9901 - val_loss: 0.1200 - val_accuracy: 0.9748\n",
      "Epoch 34/100\n",
      "329/329 [==============================] - 1s 2ms/step - loss: 0.0393 - accuracy: 0.9887 - val_loss: 0.1106 - val_accuracy: 0.9756\n",
      "Epoch 35/100\n",
      "329/329 [==============================] - 1s 2ms/step - loss: 0.0339 - accuracy: 0.9895 - val_loss: 0.1215 - val_accuracy: 0.9738\n",
      "Epoch 36/100\n",
      "329/329 [==============================] - 1s 2ms/step - loss: 0.0364 - accuracy: 0.9896 - val_loss: 0.1141 - val_accuracy: 0.9766\n",
      "Epoch 37/100\n",
      "329/329 [==============================] - 1s 3ms/step - loss: 0.0334 - accuracy: 0.9904 - val_loss: 0.1135 - val_accuracy: 0.9761\n",
      "Epoch 38/100\n",
      "329/329 [==============================] - 1s 3ms/step - loss: 0.0320 - accuracy: 0.9906 - val_loss: 0.1149 - val_accuracy: 0.9762\n",
      "Epoch 39/100\n",
      "329/329 [==============================] - 1s 2ms/step - loss: 0.0327 - accuracy: 0.9900 - val_loss: 0.1325 - val_accuracy: 0.9746\n",
      "Epoch 40/100\n",
      "329/329 [==============================] - 1s 2ms/step - loss: 0.0331 - accuracy: 0.9904 - val_loss: 0.1178 - val_accuracy: 0.9748\n",
      "Epoch 41/100\n",
      "329/329 [==============================] - 1s 2ms/step - loss: 0.0330 - accuracy: 0.9908 - val_loss: 0.1068 - val_accuracy: 0.9767\n",
      "Epoch 42/100\n",
      "329/329 [==============================] - 1s 2ms/step - loss: 0.0293 - accuracy: 0.9914 - val_loss: 0.1181 - val_accuracy: 0.9752\n",
      "Epoch 43/100\n",
      "329/329 [==============================] - 1s 2ms/step - loss: 0.0311 - accuracy: 0.9906 - val_loss: 0.1161 - val_accuracy: 0.9753\n",
      "Epoch 44/100\n",
      "329/329 [==============================] - 1s 2ms/step - loss: 0.0333 - accuracy: 0.9905 - val_loss: 0.1157 - val_accuracy: 0.9761\n",
      "Epoch 45/100\n",
      "329/329 [==============================] - 1s 2ms/step - loss: 0.0294 - accuracy: 0.9917 - val_loss: 0.1226 - val_accuracy: 0.9752\n",
      "Epoch 46/100\n",
      "329/329 [==============================] - 1s 3ms/step - loss: 0.0301 - accuracy: 0.9910 - val_loss: 0.1199 - val_accuracy: 0.9757\n",
      "Epoch 47/100\n",
      "329/329 [==============================] - 1s 2ms/step - loss: 0.0286 - accuracy: 0.9911 - val_loss: 0.1255 - val_accuracy: 0.9753\n",
      "Epoch 48/100\n",
      "329/329 [==============================] - 1s 2ms/step - loss: 0.0300 - accuracy: 0.9910 - val_loss: 0.1186 - val_accuracy: 0.9764\n",
      "Epoch 49/100\n",
      "329/329 [==============================] - 1s 2ms/step - loss: 0.0317 - accuracy: 0.9907 - val_loss: 0.1169 - val_accuracy: 0.9759\n",
      "Epoch 50/100\n",
      "329/329 [==============================] - 1s 3ms/step - loss: 0.0267 - accuracy: 0.9920 - val_loss: 0.1250 - val_accuracy: 0.9753\n",
      "Epoch 51/100\n",
      "329/329 [==============================] - 1s 2ms/step - loss: 0.0263 - accuracy: 0.9920 - val_loss: 0.1212 - val_accuracy: 0.9764\n",
      "Epoch 52/100\n",
      "329/329 [==============================] - 1s 2ms/step - loss: 0.0277 - accuracy: 0.9918 - val_loss: 0.1140 - val_accuracy: 0.9768\n",
      "Epoch 53/100\n",
      "329/329 [==============================] - 1s 3ms/step - loss: 0.0261 - accuracy: 0.9922 - val_loss: 0.1270 - val_accuracy: 0.9747\n",
      "Epoch 54/100\n",
      "329/329 [==============================] - 1s 2ms/step - loss: 0.0275 - accuracy: 0.9923 - val_loss: 0.1174 - val_accuracy: 0.9754\n",
      "Epoch 55/100\n",
      "329/329 [==============================] - 1s 2ms/step - loss: 0.0250 - accuracy: 0.9929 - val_loss: 0.1290 - val_accuracy: 0.9756\n",
      "Epoch 56/100\n",
      "329/329 [==============================] - 1s 2ms/step - loss: 0.0272 - accuracy: 0.9917 - val_loss: 0.1223 - val_accuracy: 0.9764\n",
      "Epoch 57/100\n",
      "329/329 [==============================] - 1s 2ms/step - loss: 0.0248 - accuracy: 0.9928 - val_loss: 0.1294 - val_accuracy: 0.9744\n",
      "Epoch 58/100\n",
      "329/329 [==============================] - 1s 2ms/step - loss: 0.0256 - accuracy: 0.9925 - val_loss: 0.1244 - val_accuracy: 0.9766\n",
      "Epoch 59/100\n",
      "329/329 [==============================] - 1s 2ms/step - loss: 0.0262 - accuracy: 0.9924 - val_loss: 0.1262 - val_accuracy: 0.9756\n",
      "Epoch 60/100\n",
      "329/329 [==============================] - 1s 2ms/step - loss: 0.0231 - accuracy: 0.9935 - val_loss: 0.1248 - val_accuracy: 0.9764\n",
      "Epoch 61/100\n",
      "329/329 [==============================] - 1s 2ms/step - loss: 0.0234 - accuracy: 0.9925 - val_loss: 0.1226 - val_accuracy: 0.9774\n",
      "Epoch 62/100\n",
      "329/329 [==============================] - 1s 3ms/step - loss: 0.0227 - accuracy: 0.9934 - val_loss: 0.1259 - val_accuracy: 0.9772\n",
      "Epoch 63/100\n",
      "329/329 [==============================] - 1s 3ms/step - loss: 0.0248 - accuracy: 0.9926 - val_loss: 0.1334 - val_accuracy: 0.9751\n",
      "Epoch 64/100\n",
      "329/329 [==============================] - 1s 2ms/step - loss: 0.0242 - accuracy: 0.9929 - val_loss: 0.1324 - val_accuracy: 0.9753\n",
      "Epoch 65/100\n",
      "329/329 [==============================] - 1s 2ms/step - loss: 0.0256 - accuracy: 0.9925 - val_loss: 0.1258 - val_accuracy: 0.9758\n",
      "Epoch 66/100\n",
      "329/329 [==============================] - 1s 2ms/step - loss: 0.0224 - accuracy: 0.9932 - val_loss: 0.1265 - val_accuracy: 0.9759\n",
      "Epoch 67/100\n",
      "329/329 [==============================] - 1s 2ms/step - loss: 0.0221 - accuracy: 0.9935 - val_loss: 0.1323 - val_accuracy: 0.9747\n",
      "Epoch 68/100\n",
      "329/329 [==============================] - 1s 2ms/step - loss: 0.0221 - accuracy: 0.9940 - val_loss: 0.1276 - val_accuracy: 0.9767\n",
      "Epoch 69/100\n",
      "329/329 [==============================] - 1s 2ms/step - loss: 0.0211 - accuracy: 0.9936 - val_loss: 0.1233 - val_accuracy: 0.9772\n",
      "Epoch 70/100\n",
      "329/329 [==============================] - 1s 2ms/step - loss: 0.0228 - accuracy: 0.9931 - val_loss: 0.1182 - val_accuracy: 0.9774\n",
      "Epoch 71/100\n",
      "329/329 [==============================] - 1s 2ms/step - loss: 0.0217 - accuracy: 0.9936 - val_loss: 0.1335 - val_accuracy: 0.9757\n",
      "Epoch 72/100\n",
      "329/329 [==============================] - 1s 2ms/step - loss: 0.0224 - accuracy: 0.9937 - val_loss: 0.1286 - val_accuracy: 0.9768\n",
      "Epoch 73/100\n",
      "329/329 [==============================] - 1s 3ms/step - loss: 0.0188 - accuracy: 0.9940 - val_loss: 0.1325 - val_accuracy: 0.9760\n",
      "Epoch 74/100\n",
      "329/329 [==============================] - 1s 2ms/step - loss: 0.0202 - accuracy: 0.9940 - val_loss: 0.1361 - val_accuracy: 0.9757\n",
      "Epoch 75/100\n",
      "329/329 [==============================] - 1s 3ms/step - loss: 0.0198 - accuracy: 0.9941 - val_loss: 0.1394 - val_accuracy: 0.9744\n",
      "Epoch 76/100\n",
      "329/329 [==============================] - 1s 2ms/step - loss: 0.0218 - accuracy: 0.9936 - val_loss: 0.1353 - val_accuracy: 0.9761\n",
      "Epoch 77/100\n",
      "329/329 [==============================] - 1s 2ms/step - loss: 0.0221 - accuracy: 0.9934 - val_loss: 0.1361 - val_accuracy: 0.9763\n",
      "Epoch 78/100\n",
      "329/329 [==============================] - 1s 2ms/step - loss: 0.0192 - accuracy: 0.9941 - val_loss: 0.1363 - val_accuracy: 0.9758\n",
      "Epoch 79/100\n",
      "329/329 [==============================] - 1s 2ms/step - loss: 0.0184 - accuracy: 0.9948 - val_loss: 0.1427 - val_accuracy: 0.9753\n",
      "Epoch 80/100\n",
      "329/329 [==============================] - 1s 2ms/step - loss: 0.0215 - accuracy: 0.9937 - val_loss: 0.1377 - val_accuracy: 0.9758\n",
      "Epoch 81/100\n",
      "329/329 [==============================] - 1s 2ms/step - loss: 0.0175 - accuracy: 0.9946 - val_loss: 0.1364 - val_accuracy: 0.9769\n",
      "Epoch 82/100\n",
      "329/329 [==============================] - 1s 3ms/step - loss: 0.0226 - accuracy: 0.9934 - val_loss: 0.1419 - val_accuracy: 0.9755\n",
      "Epoch 83/100\n",
      "329/329 [==============================] - 1s 3ms/step - loss: 0.0187 - accuracy: 0.9942 - val_loss: 0.1414 - val_accuracy: 0.9760\n",
      "Epoch 84/100\n",
      "329/329 [==============================] - 1s 3ms/step - loss: 0.0196 - accuracy: 0.9939 - val_loss: 0.1339 - val_accuracy: 0.9753\n",
      "Epoch 85/100\n",
      "329/329 [==============================] - 1s 3ms/step - loss: 0.0221 - accuracy: 0.9934 - val_loss: 0.1204 - val_accuracy: 0.9772\n",
      "Epoch 86/100\n",
      "329/329 [==============================] - 1s 3ms/step - loss: 0.0167 - accuracy: 0.9946 - val_loss: 0.1363 - val_accuracy: 0.9758\n",
      "Epoch 87/100\n",
      "329/329 [==============================] - 1s 3ms/step - loss: 0.0197 - accuracy: 0.9940 - val_loss: 0.1481 - val_accuracy: 0.9751\n",
      "Epoch 88/100\n",
      "329/329 [==============================] - 1s 2ms/step - loss: 0.0191 - accuracy: 0.9945 - val_loss: 0.1409 - val_accuracy: 0.9747\n",
      "Epoch 89/100\n",
      "329/329 [==============================] - 1s 2ms/step - loss: 0.0209 - accuracy: 0.9940 - val_loss: 0.1328 - val_accuracy: 0.9764\n",
      "Epoch 90/100\n",
      "329/329 [==============================] - 1s 2ms/step - loss: 0.0198 - accuracy: 0.9944 - val_loss: 0.1385 - val_accuracy: 0.9746\n",
      "Epoch 91/100\n",
      "329/329 [==============================] - 1s 3ms/step - loss: 0.0198 - accuracy: 0.9941 - val_loss: 0.1338 - val_accuracy: 0.9760\n",
      "Epoch 92/100\n",
      "329/329 [==============================] - 1s 2ms/step - loss: 0.0176 - accuracy: 0.9948 - val_loss: 0.1462 - val_accuracy: 0.9763\n",
      "Epoch 93/100\n",
      "329/329 [==============================] - 1s 2ms/step - loss: 0.0175 - accuracy: 0.9949 - val_loss: 0.1453 - val_accuracy: 0.9752\n",
      "Epoch 94/100\n",
      "329/329 [==============================] - 1s 2ms/step - loss: 0.0202 - accuracy: 0.9939 - val_loss: 0.1364 - val_accuracy: 0.9758\n",
      "Epoch 95/100\n",
      "329/329 [==============================] - 1s 2ms/step - loss: 0.0191 - accuracy: 0.9941 - val_loss: 0.1426 - val_accuracy: 0.9754\n",
      "Epoch 96/100\n",
      "329/329 [==============================] - 1s 2ms/step - loss: 0.0197 - accuracy: 0.9940 - val_loss: 0.1411 - val_accuracy: 0.9759\n",
      "Epoch 97/100\n",
      "329/329 [==============================] - 1s 2ms/step - loss: 0.0211 - accuracy: 0.9936 - val_loss: 0.1388 - val_accuracy: 0.9749\n",
      "Epoch 98/100\n",
      "329/329 [==============================] - 1s 2ms/step - loss: 0.0183 - accuracy: 0.9946 - val_loss: 0.1292 - val_accuracy: 0.9767\n",
      "Epoch 99/100\n",
      "329/329 [==============================] - 1s 3ms/step - loss: 0.0178 - accuracy: 0.9949 - val_loss: 0.1451 - val_accuracy: 0.9744\n",
      "Epoch 100/100\n",
      "329/329 [==============================] - 1s 2ms/step - loss: 0.0163 - accuracy: 0.9949 - val_loss: 0.1389 - val_accuracy: 0.9763\n"
     ]
    }
   ],
   "source": [
    "# Train\n",
    "early_stopping = tf.keras.callbacks.EarlyStopping(monitor='val_loss',\n",
    "                                                  min_delta=0.01, \n",
    "                                                  patience=3)\n",
    "# checkpoint = tf.keras.callbacks.ModelCheckpoint(filepath=\"model_checkpoints/\",\n",
    "#                                                 save_weights_only=True,\n",
    "#                                                 monitor='accuracy',\n",
    "#                                                 mode='max',\n",
    "#                                                 save_best_only=True)\n",
    "\n",
    "history = model.fit(x_train, \n",
    "                    y_train, \n",
    "                    epochs=100, \n",
    "                    batch_size=128, \n",
    "                    validation_split=0.3,\n",
    "                    # callbacks=[early_stopping]\n",
    "                    ) #, checkpoint"
   ]
  },
  {
   "cell_type": "code",
   "execution_count": 35,
   "metadata": {},
   "outputs": [
    {
     "name": "stdout",
     "output_type": "stream",
     "text": [
      "313/313 [==============================] - 0s 972us/step - loss: 0.1097 - accuracy: 0.9807\n",
      "Summary: Loss over the test dataset: 0.11, Accuracy: 0.98\n"
     ]
    }
   ],
   "source": [
    "# Evaluate\n",
    "evaluation = model.evaluate(x_test, y_test)\n",
    "print('Summary: Loss over the test dataset: %.2f, Accuracy: %.2f' % (evaluation[0], evaluation[1]))"
   ]
  },
  {
   "cell_type": "code",
   "execution_count": 36,
   "metadata": {},
   "outputs": [
    {
     "data": {
      "text/plain": [
       "<AxesSubplot:>"
      ]
     },
     "execution_count": 36,
     "metadata": {},
     "output_type": "execute_result"
    },
    {
     "data": {
      "image/png": "[encoded data removed]",
      "text/plain": [
       "<Figure size 432x288 with 1 Axes>"
      ]
     },
     "metadata": {
      "needs_background": "light"
     },
     "output_type": "display_data"
    }
   ],
   "source": [
    "x = np.arange(len(history.history['loss']))\n",
    "\n",
    "sns.lineplot(x = x, \n",
    "             y = history.history['loss'],\n",
    "             label = \"loss/training error\")\n",
    "\n",
    "sns.lineplot(x = x, \n",
    "             y = history.history['val_loss'],\n",
    "             label = \"val_loss/validation error\")"
   ]
  },
  {
   "cell_type": "code",
   "execution_count": 37,
   "metadata": {},
   "outputs": [
    {
     "data": {
      "text/plain": [
       "<AxesSubplot:>"
      ]
     },
     "execution_count": 37,
     "metadata": {},
     "output_type": "execute_result"
    },
    {
     "data": {
      "image/png": "[encoded data removed]",
      "text/plain": [
       "<Figure size 432x288 with 1 Axes>"
      ]
     },
     "metadata": {
      "needs_background": "light"
     },
     "output_type": "display_data"
    }
   ],
   "source": [
    "x = np.arange(len(history.history['accuracy']))\n",
    "\n",
    "sns.lineplot(x = x, \n",
    "             y = history.history['accuracy'],\n",
    "             label = \"accuracy/ training accuracy\")\n",
    "\n",
    "sns.lineplot(x = x, \n",
    "             y = history.history['val_accuracy'],\n",
    "             label = \"val_accuracy/validation accuracy\")"
   ]
  },
  {
   "cell_type": "code",
   "execution_count": 38,
   "metadata": {},
   "outputs": [
    {
     "data": {
      "text/plain": [
       "array([[-14.26829  , -11.285513 ,  -5.418706 , -10.205147 , -10.128488 ,\n",
       "        -12.269221 , -42.854683 ,  21.266346 , -17.143148 ,  -5.2028284]],\n",
       "      dtype=float32)"
      ]
     },
     "execution_count": 38,
     "metadata": {},
     "output_type": "execute_result"
    }
   ],
   "source": [
    "predictions = model(x_test[:1]).numpy()\n",
    "predictions"
   ]
  },
  {
   "cell_type": "code",
   "execution_count": 39,
   "metadata": {},
   "outputs": [
    {
     "data": {
      "text/plain": [
       "array([[3.6940523e-16, 7.2930316e-15, 2.5753106e-12, 2.1483466e-14,\n",
       "        2.3195162e-14, 2.7270164e-15, 1.4209843e-28, 1.0000000e+00,\n",
       "        2.0843438e-17, 3.1958327e-12]], dtype=float32)"
      ]
     },
     "execution_count": 39,
     "metadata": {},
     "output_type": "execute_result"
    }
   ],
   "source": [
    "tf.nn.softmax(predictions).numpy()"
   ]
  },
  {
   "cell_type": "code",
   "execution_count": 42,
   "metadata": {},
   "outputs": [
    {
     "name": "stdout",
     "output_type": "stream",
     "text": [
      "Model: \"sequential_4\"\n",
      "_________________________________________________________________\n",
      " Layer (type)                Output Shape              Param #   \n",
      "=================================================================\n",
      " sequential_1 (Sequential)   (None, 10)                111146    \n",
      "                                                                 \n",
      " softmax_2 (Softmax)         (None, 10)                0         \n",
      "                                                                 \n",
      "=================================================================\n",
      "Total params: 111,146\n",
      "Trainable params: 111,146\n",
      "Non-trainable params: 0\n",
      "_________________________________________________________________\n"
     ]
    }
   ],
   "source": [
    "probability_model = Sequential([\n",
    "  model,\n",
    "  tf.keras.layers.Softmax()\n",
    "])\n",
    "\n",
    "probability_model.summary()"
   ]
  },
  {
   "cell_type": "code",
   "execution_count": 43,
   "metadata": {},
   "outputs": [
    {
     "data": {
      "text/plain": [
       "<tf.Tensor: shape=(10,), dtype=float32, numpy=\n",
       "array([3.6940663e-16, 7.2930316e-15, 2.5753106e-12, 2.1483547e-14,\n",
       "       2.3195162e-14, 2.7270268e-15, 1.4209843e-28, 1.0000000e+00,\n",
       "       2.0843438e-17, 3.1958327e-12], dtype=float32)>"
      ]
     },
     "execution_count": 43,
     "metadata": {},
     "output_type": "execute_result"
    }
   ],
   "source": [
    "predictions = probability_model(x_test)\n",
    "predictions[0]"
   ]
  },
  {
   "cell_type": "code",
   "execution_count": 45,
   "metadata": {},
   "outputs": [],
   "source": [
    "def plot_image(i, predictions_array, true_label, img):\n",
    "  true_label, img = true_label[i], img[i]\n",
    "  plt.grid(False)\n",
    "  plt.xticks([])\n",
    "  plt.yticks([])\n",
    "\n",
    "  plt.imshow(img, cmap=plt.cm.binary)\n",
    "\n",
    "  predicted_label = np.argmax(predictions_array)\n",
    "  if predicted_label == true_label:\n",
    "    color = 'blue'\n",
    "  else:\n",
    "    color = 'red'\n",
    "\n",
    "  plt.xlabel(\"{} {:2.0f}% ({})\".format(predicted_label,\n",
    "                                100*np.max(predictions_array),\n",
    "                                true_label),\n",
    "                                color=color)\n",
    "\n",
    "def plot_value_array(i, predictions_array, true_label):\n",
    "  true_label = true_label[i]\n",
    "  plt.grid(False)\n",
    "  plt.xticks(range(10))\n",
    "  plt.yticks([])\n",
    "  thisplot = plt.bar(range(10), predictions_array, color=\"#777777\")\n",
    "  plt.ylim([0, 1])\n",
    "  predicted_label = np.argmax(predictions_array)\n",
    "\n",
    "  thisplot[predicted_label].set_color('red')\n",
    "  thisplot[true_label].set_color('blue')"
   ]
  },
  {
   "cell_type": "code",
   "execution_count": 46,
   "metadata": {},
   "outputs": [
    {
     "data": {
      "image/png": "[encoded data removed]",
      "text/plain": [
       "<Figure size 432x216 with 2 Axes>"
      ]
     },
     "metadata": {
      "needs_background": "light"
     },
     "output_type": "display_data"
    }
   ],
   "source": [
    "i = 0\n",
    "plt.figure(figsize=(6,3))\n",
    "plt.subplot(1,2,1)\n",
    "plot_image(i, predictions[i], y_test, x_test)\n",
    "plt.subplot(1,2,2)\n",
    "plot_value_array(i, predictions[i], y_test)\n",
    "plt.show()"
   ]
  },
  {
   "cell_type": "code",
   "execution_count": 48,
   "metadata": {},
   "outputs": [
    {
     "data": {
      "image/png": "[encoded data removed]",
      "text/plain": [
       "<Figure size 864x720 with 30 Axes>"
      ]
     },
     "metadata": {
      "needs_background": "light"
     },
     "output_type": "display_data"
    }
   ],
   "source": [
    "num_rows = 5\n",
    "num_cols = 3\n",
    "num_images = num_rows*num_cols\n",
    "plt.figure(figsize=(2*2*num_cols, 2*num_rows))\n",
    "for i in range(num_images):\n",
    "  plus = 25\n",
    "  plt.subplot(num_rows, 2*num_cols, 2*i+1)\n",
    "  plot_image(i, predictions[i+plus],  y_test, x_test)\n",
    "  plt.subplot(num_rows, 2*num_cols, 2*i+2)\n",
    "  plot_value_array(i, predictions[i+plus], y_test)\n",
    "plt.tight_layout()\n",
    "plt.show()"
   ]
  }
 ],
 "metadata": {
  "interpreter": {
   "hash": "f23faf4bfe871c203c8bec80520af5927fc7cb1ae3bd834ddf554ee587ad1c05"
  },
  "kernelspec": {
   "display_name": "Python 3.8.0 64-bit",
   "language": "python",
   "name": "python3"
  },
  "language_info": {
   "codemirror_mode": {
    "name": "ipython",
    "version": 3
   },
   "file_extension": ".py",
   "mimetype": "text/x-python",
   "name": "python",
   "nbconvert_exporter": "python",
   "pygments_lexer": "ipython3",
   "version": "3.8.0"
  },
  "orig_nbformat": 4
 },
 "nbformat": 4,
 "nbformat_minor": 2
}
