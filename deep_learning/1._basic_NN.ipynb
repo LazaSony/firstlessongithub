{
 "cells": [
  {
   "cell_type": "code",
   "execution_count": 27,
   "metadata": {},
   "outputs": [],
   "source": [
    "import tensorflow as tf\n",
    "from tensorflow.keras.models import Sequential\n",
    "from tensorflow.keras.layers import Dense\n",
    "import numpy as np\n",
    "import seaborn as sns\n",
    "\n",
    "import matplotlib.pyplot as plt\n",
    "%matplotlib inline"
   ]
  },
  {
   "cell_type": "markdown",
   "metadata": {},
   "source": [
    "# Generate dataset\n"
   ]
  },
  {
   "cell_type": "code",
   "execution_count": 6,
   "metadata": {},
   "outputs": [],
   "source": [
    "trX = np.linspace(-1, 1, 101)\n",
    "trY = 2 * trX + np.random.randn(*trX.shape) * 0.33 # create a y value which is approximately linear but with some random noise"
   ]
  },
  {
   "cell_type": "markdown",
   "metadata": {},
   "source": [
    "# Linear regression model"
   ]
  },
  {
   "cell_type": "code",
   "execution_count": 10,
   "metadata": {},
   "outputs": [
    {
     "name": "stdout",
     "output_type": "stream",
     "text": [
      "Model: \"sequential_2\"\n",
      "_________________________________________________________________\n",
      " Layer (type)                Output Shape              Param #   \n",
      "=================================================================\n",
      " dense_4 (Dense)             (None, 1)                 2         \n",
      "                                                                 \n",
      "=================================================================\n",
      "Total params: 2\n",
      "Trainable params: 2\n",
      "Non-trainable params: 0\n",
      "_________________________________________________________________\n"
     ]
    }
   ],
   "source": [
    "from tensorflow.keras.models import Sequential\n",
    "\n",
    "# define model\n",
    "model = Sequential()\n",
    "model.add(Dense(1, input_dim=1, activation='linear'))\n",
    "\n",
    "# compile the model\n",
    "model.compile(optimizer='sgd', \n",
    "                loss='mse')\n",
    "\n",
    "model.summary()"
   ]
  },
  {
   "cell_type": "code",
   "execution_count": 11,
   "metadata": {},
   "outputs": [
    {
     "name": "stdout",
     "output_type": "stream",
     "text": [
      "Linear regression model is initialized with weight w: 0.39, b: 0.00\n"
     ]
    }
   ],
   "source": [
    "# Print initial weights\n",
    "weights = model.layers[0].get_weights()\n",
    "w_init = weights[0][0][0]\n",
    "b_init = weights[1][0]\n",
    "print('Linear regression model is initialized with weight w: %.2f, b: %.2f' % (w_init, b_init))"
   ]
  },
  {
   "cell_type": "markdown",
   "metadata": {},
   "source": [
    "# Train"
   ]
  },
  {
   "cell_type": "code",
   "execution_count": 14,
   "metadata": {},
   "outputs": [
    {
     "name": "stdout",
     "output_type": "stream",
     "text": [
      "Epoch 1/100\n",
      "4/4 [==============================] - 0s 997us/step - loss: 0.1103\n",
      "Epoch 2/100\n",
      "4/4 [==============================] - 0s 998us/step - loss: 0.1104\n",
      "Epoch 3/100\n",
      "4/4 [==============================] - 0s 997us/step - loss: 0.1104\n",
      "Epoch 4/100\n",
      "4/4 [==============================] - 0s 998us/step - loss: 0.1104\n",
      "Epoch 5/100\n",
      "4/4 [==============================] - 0s 998us/step - loss: 0.1104\n",
      "Epoch 6/100\n",
      "4/4 [==============================] - 0s 992us/step - loss: 0.1104\n",
      "Epoch 7/100\n",
      "4/4 [==============================] - 0s 665us/step - loss: 0.1104\n",
      "Epoch 8/100\n",
      "4/4 [==============================] - 0s 997us/step - loss: 0.1104\n",
      "Epoch 9/100\n",
      "4/4 [==============================] - 0s 1ms/step - loss: 0.1103\n",
      "Epoch 10/100\n",
      "4/4 [==============================] - 0s 997us/step - loss: 0.1103\n",
      "Epoch 11/100\n",
      "4/4 [==============================] - 0s 1ms/step - loss: 0.1104\n",
      "Epoch 12/100\n",
      "4/4 [==============================] - 0s 1ms/step - loss: 0.1103\n",
      "Epoch 13/100\n",
      "4/4 [==============================] - 0s 1ms/step - loss: 0.1103\n",
      "Epoch 14/100\n",
      "4/4 [==============================] - 0s 1ms/step - loss: 0.1103\n",
      "Epoch 15/100\n",
      "4/4 [==============================] - 0s 2ms/step - loss: 0.1103\n",
      "Epoch 16/100\n",
      "4/4 [==============================] - 0s 1ms/step - loss: 0.1103\n",
      "Epoch 17/100\n",
      "4/4 [==============================] - 0s 997us/step - loss: 0.1103\n",
      "Epoch 18/100\n",
      "4/4 [==============================] - 0s 1ms/step - loss: 0.1103\n",
      "Epoch 19/100\n",
      "4/4 [==============================] - 0s 2ms/step - loss: 0.1103\n",
      "Epoch 20/100\n",
      "4/4 [==============================] - 0s 997us/step - loss: 0.1105\n",
      "Epoch 21/100\n",
      "4/4 [==============================] - 0s 997us/step - loss: 0.1105\n",
      "Epoch 22/100\n",
      "4/4 [==============================] - 0s 997us/step - loss: 0.1105\n",
      "Epoch 23/100\n",
      "4/4 [==============================] - 0s 1ms/step - loss: 0.1104\n",
      "Epoch 24/100\n",
      "4/4 [==============================] - 0s 1ms/step - loss: 0.1105\n",
      "Epoch 25/100\n",
      "4/4 [==============================] - 0s 2ms/step - loss: 0.1104\n",
      "Epoch 26/100\n",
      "4/4 [==============================] - 0s 997us/step - loss: 0.1104\n",
      "Epoch 27/100\n",
      "4/4 [==============================] - 0s 997us/step - loss: 0.1105\n",
      "Epoch 28/100\n",
      "4/4 [==============================] - 0s 1ms/step - loss: 0.1104\n",
      "Epoch 29/100\n",
      "4/4 [==============================] - 0s 2ms/step - loss: 0.1105\n",
      "Epoch 30/100\n",
      "4/4 [==============================] - 0s 1ms/step - loss: 0.1104\n",
      "Epoch 31/100\n",
      "4/4 [==============================] - 0s 665us/step - loss: 0.1104\n",
      "Epoch 32/100\n",
      "4/4 [==============================] - 0s 2ms/step - loss: 0.1104\n",
      "Epoch 33/100\n",
      "4/4 [==============================] - 0s 997us/step - loss: 0.1105\n",
      "Epoch 34/100\n",
      "4/4 [==============================] - 0s 998us/step - loss: 0.1105\n",
      "Epoch 35/100\n",
      "4/4 [==============================] - 0s 997us/step - loss: 0.1104\n",
      "Epoch 36/100\n",
      "4/4 [==============================] - 0s 1ms/step - loss: 0.1105\n",
      "Epoch 37/100\n",
      "4/4 [==============================] - 0s 997us/step - loss: 0.1104\n",
      "Epoch 38/100\n",
      "4/4 [==============================] - 0s 665us/step - loss: 0.1104\n",
      "Epoch 39/100\n",
      "4/4 [==============================] - 0s 665us/step - loss: 0.1103\n",
      "Epoch 40/100\n",
      "4/4 [==============================] - 0s 997us/step - loss: 0.1104\n",
      "Epoch 41/100\n",
      "4/4 [==============================] - 0s 1ms/step - loss: 0.1104\n",
      "Epoch 42/100\n",
      "4/4 [==============================] - 0s 997us/step - loss: 0.1103\n",
      "Epoch 43/100\n",
      "4/4 [==============================] - 0s 1ms/step - loss: 0.1104\n",
      "Epoch 44/100\n",
      "4/4 [==============================] - 0s 4ms/step - loss: 0.1103\n",
      "Epoch 45/100\n",
      "4/4 [==============================] - 0s 997us/step - loss: 0.1103\n",
      "Epoch 46/100\n",
      "4/4 [==============================] - 0s 997us/step - loss: 0.1103\n",
      "Epoch 47/100\n",
      "4/4 [==============================] - 0s 1ms/step - loss: 0.1103\n",
      "Epoch 48/100\n",
      "4/4 [==============================] - 0s 2ms/step - loss: 0.1103\n",
      "Epoch 49/100\n",
      "4/4 [==============================] - 0s 997us/step - loss: 0.1103\n",
      "Epoch 50/100\n",
      "4/4 [==============================] - 0s 997us/step - loss: 0.1103\n",
      "Epoch 51/100\n",
      "4/4 [==============================] - 0s 1ms/step - loss: 0.1103\n",
      "Epoch 52/100\n",
      "4/4 [==============================] - 0s 1ms/step - loss: 0.1104\n",
      "Epoch 53/100\n",
      "4/4 [==============================] - 0s 997us/step - loss: 0.1104\n",
      "Epoch 54/100\n",
      "4/4 [==============================] - 0s 997us/step - loss: 0.1103\n",
      "Epoch 55/100\n",
      "4/4 [==============================] - 0s 976us/step - loss: 0.1103\n",
      "Epoch 56/100\n",
      "4/4 [==============================] - 0s 1ms/step - loss: 0.1103\n",
      "Epoch 57/100\n",
      "4/4 [==============================] - 0s 1ms/step - loss: 0.1103\n",
      "Epoch 58/100\n",
      "4/4 [==============================] - 0s 2ms/step - loss: 0.1104\n",
      "Epoch 59/100\n",
      "4/4 [==============================] - 0s 997us/step - loss: 0.1103\n",
      "Epoch 60/100\n",
      "4/4 [==============================] - 0s 1ms/step - loss: 0.1104\n",
      "Epoch 61/100\n",
      "4/4 [==============================] - 0s 1ms/step - loss: 0.1103\n",
      "Epoch 62/100\n",
      "4/4 [==============================] - 0s 997us/step - loss: 0.1104\n",
      "Epoch 63/100\n",
      "4/4 [==============================] - 0s 997us/step - loss: 0.1103\n",
      "Epoch 64/100\n",
      "4/4 [==============================] - 0s 1ms/step - loss: 0.1103\n",
      "Epoch 65/100\n",
      "4/4 [==============================] - 0s 665us/step - loss: 0.1103\n",
      "Epoch 66/100\n",
      "4/4 [==============================] - 0s 997us/step - loss: 0.1103\n",
      "Epoch 67/100\n",
      "4/4 [==============================] - 0s 997us/step - loss: 0.1103\n",
      "Epoch 68/100\n",
      "4/4 [==============================] - 0s 665us/step - loss: 0.1104\n",
      "Epoch 69/100\n",
      "4/4 [==============================] - 0s 1ms/step - loss: 0.1103\n",
      "Epoch 70/100\n",
      "4/4 [==============================] - 0s 4ms/step - loss: 0.1103\n",
      "Epoch 71/100\n",
      "4/4 [==============================] - 0s 1ms/step - loss: 0.1103\n",
      "Epoch 72/100\n",
      "4/4 [==============================] - 0s 997us/step - loss: 0.1104\n",
      "Epoch 73/100\n",
      "4/4 [==============================] - 0s 997us/step - loss: 0.1104\n",
      "Epoch 74/100\n",
      "4/4 [==============================] - 0s 2ms/step - loss: 0.1104\n",
      "Epoch 75/100\n",
      "4/4 [==============================] - 0s 1ms/step - loss: 0.1103\n",
      "Epoch 76/100\n",
      "4/4 [==============================] - 0s 1ms/step - loss: 0.1104\n",
      "Epoch 77/100\n",
      "4/4 [==============================] - 0s 1ms/step - loss: 0.1104\n",
      "Epoch 78/100\n",
      "4/4 [==============================] - 0s 1ms/step - loss: 0.1104\n",
      "Epoch 79/100\n",
      "4/4 [==============================] - 0s 997us/step - loss: 0.1103\n",
      "Epoch 80/100\n",
      "4/4 [==============================] - 0s 997us/step - loss: 0.1103\n",
      "Epoch 81/100\n",
      "4/4 [==============================] - 0s 997us/step - loss: 0.1104\n",
      "Epoch 82/100\n",
      "4/4 [==============================] - 0s 1ms/step - loss: 0.1103\n",
      "Epoch 83/100\n",
      "4/4 [==============================] - 0s 2ms/step - loss: 0.1103\n",
      "Epoch 84/100\n",
      "4/4 [==============================] - 0s 997us/step - loss: 0.1103\n",
      "Epoch 85/100\n",
      "4/4 [==============================] - 0s 1ms/step - loss: 0.1104\n",
      "Epoch 86/100\n",
      "4/4 [==============================] - 0s 997us/step - loss: 0.1104\n",
      "Epoch 87/100\n",
      "4/4 [==============================] - 0s 997us/step - loss: 0.1104\n",
      "Epoch 88/100\n",
      "4/4 [==============================] - 0s 2ms/step - loss: 0.1104\n",
      "Epoch 89/100\n",
      "4/4 [==============================] - 0s 665us/step - loss: 0.1105\n",
      "Epoch 90/100\n",
      "4/4 [==============================] - 0s 997us/step - loss: 0.1103\n",
      "Epoch 91/100\n",
      "4/4 [==============================] - 0s 997us/step - loss: 0.1103\n",
      "Epoch 92/100\n",
      "4/4 [==============================] - 0s 997us/step - loss: 0.1103\n",
      "Epoch 93/100\n",
      "4/4 [==============================] - 0s 1ms/step - loss: 0.1104\n",
      "Epoch 94/100\n",
      "4/4 [==============================] - 0s 665us/step - loss: 0.1104\n",
      "Epoch 95/100\n",
      "4/4 [==============================] - 0s 1ms/step - loss: 0.1105\n",
      "Epoch 96/100\n",
      "4/4 [==============================] - 0s 2ms/step - loss: 0.1106\n",
      "Epoch 97/100\n",
      "4/4 [==============================] - 0s 1ms/step - loss: 0.1104\n",
      "Epoch 98/100\n",
      "4/4 [==============================] - 0s 665us/step - loss: 0.1104\n",
      "Epoch 99/100\n",
      "4/4 [==============================] - 0s 997us/step - loss: 0.1105\n",
      "Epoch 100/100\n",
      "4/4 [==============================] - 0s 997us/step - loss: 0.1103\n"
     ]
    },
    {
     "data": {
      "text/plain": [
       "<keras.callbacks.History at 0x25ba233cc40>"
      ]
     },
     "execution_count": 14,
     "metadata": {},
     "output_type": "execute_result"
    }
   ],
   "source": [
    "model.fit(trX, \n",
    "        trY, \n",
    "        epochs=100, \n",
    "        batch_size=32)"
   ]
  },
  {
   "cell_type": "markdown",
   "metadata": {},
   "source": [
    "# Print trained weights"
   ]
  },
  {
   "cell_type": "code",
   "execution_count": 15,
   "metadata": {},
   "outputs": [
    {
     "name": "stdout",
     "output_type": "stream",
     "text": [
      "Linear regression model is trained with weight w: 2.01, b: -0.01\n"
     ]
    }
   ],
   "source": [
    "\n",
    "weights = model.layers[0].get_weights()\n",
    "w = weights[0][0][0]\n",
    "b = weights[1][0]\n",
    "print('Linear regression model is trained with weight w: %.2f, b: %.2f' % (w, b))"
   ]
  },
  {
   "cell_type": "code",
   "execution_count": 19,
   "metadata": {},
   "outputs": [
    {
     "data": {
      "text/plain": [
       "<AxesSubplot:>"
      ]
     },
     "execution_count": 19,
     "metadata": {},
     "output_type": "execute_result"
    },
    {
     "data": {
      "image/png": "[encoded data removed]",
      "text/plain": [
       "<Figure size 432x288 with 1 Axes>"
      ]
     },
     "metadata": {
      "needs_background": "light"
     },
     "output_type": "display_data"
    }
   ],
   "source": [
    "sns.lineplot(x = trX, \n",
    "             y = trY,\n",
    "             label = \"target data\")\n",
    "\n",
    "sns.lineplot(x = trX, \n",
    "             y = w_init*trX + b_init,\n",
    "             label = \"baseline\")\n",
    "\n",
    "sns.lineplot(x = trX, \n",
    "             y = w*trX + b,\n",
    "             label = \"prediction\")"
   ]
  },
  {
   "cell_type": "markdown",
   "metadata": {},
   "source": [
    "# More layers"
   ]
  },
  {
   "cell_type": "code",
   "execution_count": 28,
   "metadata": {},
   "outputs": [
    {
     "name": "stdout",
     "output_type": "stream",
     "text": [
      "Epoch 1/100\n",
      "3/3 [==============================] - 0s 51ms/step - loss: 1.4512 - val_loss: 2.1616\n",
      "Epoch 2/100\n",
      "3/3 [==============================] - 0s 8ms/step - loss: 1.4342 - val_loss: 2.1616\n",
      "Epoch 3/100\n",
      "3/3 [==============================] - 0s 8ms/step - loss: 1.4185 - val_loss: 2.1616\n",
      "Epoch 4/100\n",
      "3/3 [==============================] - 0s 8ms/step - loss: 1.4026 - val_loss: 2.1616\n",
      "Epoch 5/100\n",
      "3/3 [==============================] - 0s 8ms/step - loss: 1.3866 - val_loss: 2.1616\n",
      "Epoch 6/100\n",
      "3/3 [==============================] - 0s 8ms/step - loss: 1.3719 - val_loss: 2.1616\n"
     ]
    },
    {
     "data": {
      "text/plain": [
       "<keras.callbacks.History at 0x25bb2f7bfa0>"
      ]
     },
     "execution_count": 28,
     "metadata": {},
     "output_type": "execute_result"
    }
   ],
   "source": [
    "early_stopping = tf.keras.callbacks.EarlyStopping(monitor='val_loss',\n",
    "                                                  min_delta=0.01, \n",
    "                                                  patience=5)\n",
    "\n",
    "# define model\n",
    "model = Sequential()\n",
    "model.add(Dense(5, input_dim=1, activation='relu'))\n",
    "model.add(Dense(2, activation='relu'))\n",
    "\n",
    "# compile the model\n",
    "model.compile(optimizer='adam', \n",
    "                loss='mse')\n",
    "\n",
    "model.fit(trX, \n",
    "        trY, \n",
    "        epochs=100, \n",
    "        batch_size=32,\n",
    "        validation_split=0.3,\n",
    "        callbacks=[early_stopping])"
   ]
  },
  {
   "cell_type": "code",
   "execution_count": 29,
   "metadata": {},
   "outputs": [
    {
     "name": "stdout",
     "output_type": "stream",
     "text": [
      "Linear regression model is trained with weight w: -0.75, b: 0.02\n"
     ]
    },
    {
     "data": {
      "text/plain": [
       "<AxesSubplot:>"
      ]
     },
     "execution_count": 29,
     "metadata": {},
     "output_type": "execute_result"
    },
    {
     "data": {
      "image/png": "[encoded data removed]",
      "text/plain": [
       "<Figure size 432x288 with 1 Axes>"
      ]
     },
     "metadata": {
      "needs_background": "light"
     },
     "output_type": "display_data"
    }
   ],
   "source": [
    "weights = model.layers[0].get_weights()\n",
    "w = weights[0][0][0]\n",
    "b = weights[1][0]\n",
    "print('Linear regression model is trained with weight w: %.2f, b: %.2f' % (w, b))\n",
    "\n",
    "sns.lineplot(x = trX, \n",
    "             y = trY,\n",
    "             label = \"target data\")\n",
    "\n",
    "sns.lineplot(x = trX, \n",
    "             y = w*trX + b,\n",
    "             label = \"prediction\")"
   ]
  }
 ],
 "metadata": {
  "interpreter": {
   "hash": "f23faf4bfe871c203c8bec80520af5927fc7cb1ae3bd834ddf554ee587ad1c05"
  },
  "kernelspec": {
   "display_name": "Python 3.8.0 64-bit",
   "language": "python",
   "name": "python3"
  },
  "language_info": {
   "codemirror_mode": {
    "name": "ipython",
    "version": 3
   },
   "file_extension": ".py",
   "mimetype": "text/x-python",
   "name": "python",
   "nbconvert_exporter": "python",
   "pygments_lexer": "ipython3",
   "version": "3.8.0"
  },
  "orig_nbformat": 4
 },
 "nbformat": 4,
 "nbformat_minor": 2
}
