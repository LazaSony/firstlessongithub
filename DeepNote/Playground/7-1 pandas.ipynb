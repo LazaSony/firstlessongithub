{
 "cells": [
  {
   "cell_type": "code",
   "metadata": {
    "tags": [],
    "cell_id": "00000-205026ed-8962-43f2-ab70-e9b9466d2bb6",
    "deepnote_to_be_reexecuted": false,
    "source_hash": "cc3829dd",
    "execution_start": 1625156312359,
    "execution_millis": 4,
    "deepnote_cell_type": "code"
   },
   "source": "raw_data_1 = {\n        'subject_id': ['1', '2', '3', '4', '5'],\n        'first_name': ['Peter', 'Bombei', 'Bear', 'Alice', 'Stephan'], \n        'last_name': ['Stevenson', 'Alloo', 'Grills', 'Antony', 'Fish']}\n\nraw_data_2 = {\n        'test_id': ['51', '15', '15', '61', '16'],\n        'first_name': ['Billy', 'John', 'Will', 'Kitty', 'Britney'], \n        'last_name': ['Bonder', 'Smith', 'Smith', 'Bilu', 'Silk']}\n\nraw_data_3 = {\n        'subject_id': ['1', '2', '3', '4', '5', '7', '8', '9', '10', '11'],\n        'test_id': [51, 15, 15, 61, 16, 14, 15, 1, 61, 16]}",
   "execution_count": null,
   "outputs": []
  },
  {
   "cell_type": "code",
   "metadata": {
    "tags": [],
    "cell_id": "00001-6080e60a-da13-470d-9a5e-5d1a2b6ed3de",
    "deepnote_to_be_reexecuted": false,
    "source_hash": "2981cb56",
    "execution_start": 1625156370179,
    "execution_millis": 3,
    "deepnote_cell_type": "code"
   },
   "source": "import pandas as pd\n\ndf_1 = pd.DataFrame(raw_data_1, columns=[\"subject_id\", \"first_name\", \"last_name\"])\ndf_2 = pd.DataFrame(raw_data_2, columns = [\"test_id\", \"first_name\", \"last_name\"])\ndf_3 = pd.DataFrame(raw_data_3, columns=['subject_id','test_id'])\n\ndf_2[\"test_id\"] = df_2[\"test_id\"].astype(int)",
   "execution_count": null,
   "outputs": []
  },
  {
   "cell_type": "code",
   "metadata": {
    "tags": [],
    "cell_id": "00002-b5a665d1-2731-4cc0-9f60-398d41147362",
    "deepnote_to_be_reexecuted": false,
    "source_hash": "8f2ad720",
    "execution_start": 1625156012417,
    "execution_millis": 24,
    "deepnote_cell_type": "code"
   },
   "source": "_lst = [df_1, df_2]\ndf_concat = pd.concat(_lst) #, ignore_index=True\n\ndf_concat = df_concat.reset_index(drop=True)\ndf_concat",
   "execution_count": null,
   "outputs": [
    {
     "output_type": "execute_result",
     "execution_count": 49,
     "data": {
      "application/vnd.deepnote.dataframe.v2+json": {
       "row_count": 10,
       "column_count": 3,
       "columns": [
        {
         "name": "subject_id",
         "dtype": "object",
         "stats": {
          "unique_count": 9,
          "nan_count": 0,
          "categories": [
           {
            "name": "15",
            "count": 2
           },
           {
            "name": "1",
            "count": 1
           },
           {
            "name": "7 others",
            "count": 7
           }
          ]
         }
        },
        {
         "name": "first_name",
         "dtype": "object",
         "stats": {
          "unique_count": 10,
          "nan_count": 0,
          "categories": [
           {
            "name": "Peter",
            "count": 1
           },
           {
            "name": "Bombei",
            "count": 1
           },
           {
            "name": "8 others",
            "count": 8
           }
          ]
         }
        },
        {
         "name": "last_name",
         "dtype": "object",
         "stats": {
          "unique_count": 9,
          "nan_count": 0,
          "categories": [
           {
            "name": "Smith",
            "count": 2
           },
           {
            "name": "Stevenson",
            "count": 1
           },
           {
            "name": "7 others",
            "count": 7
           }
          ]
         }
        },
        {
         "name": "_deepnote_index_column",
         "dtype": "int64"
        }
       ],
       "rows_top": [
        {
         "subject_id": "1",
         "first_name": "Peter",
         "last_name": "Stevenson",
         "_deepnote_index_column": 0
        },
        {
         "subject_id": "2",
         "first_name": "Bombei",
         "last_name": "Alloo",
         "_deepnote_index_column": 1
        },
        {
         "subject_id": "3",
         "first_name": "Bear",
         "last_name": "Grills",
         "_deepnote_index_column": 2
        },
        {
         "subject_id": "4",
         "first_name": "Alice",
         "last_name": "Antony",
         "_deepnote_index_column": 3
        },
        {
         "subject_id": "5",
         "first_name": "Stephan",
         "last_name": "Fish",
         "_deepnote_index_column": 4
        },
        {
         "subject_id": "51",
         "first_name": "Billy",
         "last_name": "Bonder",
         "_deepnote_index_column": 5
        },
        {
         "subject_id": "15",
         "first_name": "John",
         "last_name": "Smith",
         "_deepnote_index_column": 6
        },
        {
         "subject_id": "15",
         "first_name": "Will",
         "last_name": "Smith",
         "_deepnote_index_column": 7
        },
        {
         "subject_id": "61",
         "first_name": "Kitty",
         "last_name": "Bilu",
         "_deepnote_index_column": 8
        },
        {
         "subject_id": "16",
         "first_name": "Britney",
         "last_name": "Silk",
         "_deepnote_index_column": 9
        }
       ],
       "rows_bottom": null
      },
      "text/plain": "  subject_id first_name  last_name\n0          1      Peter  Stevenson\n1          2     Bombei      Alloo\n2          3       Bear     Grills\n3          4      Alice     Antony\n4          5    Stephan       Fish\n5         51      Billy     Bonder\n6         15       John      Smith\n7         15       Will      Smith\n8         61      Kitty       Bilu\n9         16    Britney       Silk",
      "text/html": "<div>\n<style scoped>\n    .dataframe tbody tr th:only-of-type {\n        vertical-align: middle;\n    }\n\n    .dataframe tbody tr th {\n        vertical-align: top;\n    }\n\n    .dataframe thead th {\n        text-align: right;\n    }\n</style>\n<table border=\"1\" class=\"dataframe\">\n  <thead>\n    <tr style=\"text-align: right;\">\n      <th></th>\n      <th>subject_id</th>\n      <th>first_name</th>\n      <th>last_name</th>\n    </tr>\n  </thead>\n  <tbody>\n    <tr>\n      <th>0</th>\n      <td>1</td>\n      <td>Peter</td>\n      <td>Stevenson</td>\n    </tr>\n    <tr>\n      <th>1</th>\n      <td>2</td>\n      <td>Bombei</td>\n      <td>Alloo</td>\n    </tr>\n    <tr>\n      <th>2</th>\n      <td>3</td>\n      <td>Bear</td>\n      <td>Grills</td>\n    </tr>\n    <tr>\n      <th>3</th>\n      <td>4</td>\n      <td>Alice</td>\n      <td>Antony</td>\n    </tr>\n    <tr>\n      <th>4</th>\n      <td>5</td>\n      <td>Stephan</td>\n      <td>Fish</td>\n    </tr>\n    <tr>\n      <th>5</th>\n      <td>51</td>\n      <td>Billy</td>\n      <td>Bonder</td>\n    </tr>\n    <tr>\n      <th>6</th>\n      <td>15</td>\n      <td>John</td>\n      <td>Smith</td>\n    </tr>\n    <tr>\n      <th>7</th>\n      <td>15</td>\n      <td>Will</td>\n      <td>Smith</td>\n    </tr>\n    <tr>\n      <th>8</th>\n      <td>61</td>\n      <td>Kitty</td>\n      <td>Bilu</td>\n    </tr>\n    <tr>\n      <th>9</th>\n      <td>16</td>\n      <td>Britney</td>\n      <td>Silk</td>\n    </tr>\n  </tbody>\n</table>\n</div>"
     },
     "metadata": {}
    }
   ]
  },
  {
   "cell_type": "code",
   "metadata": {
    "tags": [],
    "cell_id": "00003-b7aa0fba-7c7e-4a46-973e-e3915f858069",
    "deepnote_to_be_reexecuted": false,
    "source_hash": "d4edd016",
    "execution_start": 1625156805868,
    "execution_millis": 5,
    "output_cleared": false,
    "deepnote_cell_type": "code"
   },
   "source": "df_joint = pd.merge(df_3, df_2, left_on=\"test_id\", right_on=\"test_id\")\ndf_final = pd.merge(df_joint, df_1, left_on=\"subject_id\", right_on=\"subject_id\")",
   "execution_count": null,
   "outputs": []
  },
  {
   "cell_type": "markdown",
   "source": "# Practice",
   "metadata": {
    "tags": [],
    "cell_id": "00004-4807c6fe-f2bf-4361-824c-8cd6f62b0dba",
    "is_collapsed": false,
    "deepnote_cell_type": "text-cell-h1"
   }
  },
  {
   "cell_type": "code",
   "metadata": {
    "tags": [],
    "cell_id": "00006-0dd6364a-00a6-4dce-b4e9-ec37d411c261",
    "deepnote_to_be_reexecuted": false,
    "source_hash": "5c1275f5",
    "execution_start": 1625157503856,
    "execution_millis": 94,
    "deepnote_cell_type": "code"
   },
   "source": "url = 'https://raw.githubusercontent.com/justmarkham/DAT8/master/data/drinks.csv'\n\ndf = pd.read_csv(url)\ndf",
   "execution_count": null,
   "outputs": [
    {
     "output_type": "execute_result",
     "execution_count": 130,
     "data": {
      "application/vnd.deepnote.dataframe.v2+json": {
       "row_count": 193,
       "column_count": 6,
       "columns": [
        {
         "name": "country",
         "dtype": "object",
         "stats": {
          "unique_count": 193,
          "nan_count": 0,
          "categories": [
           {
            "name": "Afghanistan",
            "count": 1
           },
           {
            "name": "Albania",
            "count": 1
           },
           {
            "name": "191 others",
            "count": 191
           }
          ]
         }
        },
        {
         "name": "beer_servings",
         "dtype": "int64",
         "stats": {
          "unique_count": 130,
          "nan_count": 0,
          "min": "0",
          "max": "376",
          "histogram": [
           {
            "bin_start": 0,
            "bin_end": 37.6,
            "count": 72
           },
           {
            "bin_start": 37.6,
            "bin_end": 75.2,
            "count": 24
           },
           {
            "bin_start": 75.2,
            "bin_end": 112.80000000000001,
            "count": 23
           },
           {
            "bin_start": 112.80000000000001,
            "bin_end": 150.4,
            "count": 15
           },
           {
            "bin_start": 150.4,
            "bin_end": 188,
            "count": 10
           },
           {
            "bin_start": 188,
            "bin_end": 225.60000000000002,
            "count": 17
           },
           {
            "bin_start": 225.60000000000002,
            "bin_end": 263.2,
            "count": 15
           },
           {
            "bin_start": 263.2,
            "bin_end": 300.8,
            "count": 8
           },
           {
            "bin_start": 300.8,
            "bin_end": 338.40000000000003,
            "count": 3
           },
           {
            "bin_start": 338.40000000000003,
            "bin_end": 376,
            "count": 6
           }
          ]
         }
        },
        {
         "name": "spirit_servings",
         "dtype": "int64",
         "stats": {
          "unique_count": 109,
          "nan_count": 0,
          "min": "0",
          "max": "438",
          "histogram": [
           {
            "bin_start": 0,
            "bin_end": 43.8,
            "count": 91
           },
           {
            "bin_start": 43.8,
            "bin_end": 87.6,
            "count": 29
           },
           {
            "bin_start": 87.6,
            "bin_end": 131.39999999999998,
            "count": 26
           },
           {
            "bin_start": 131.39999999999998,
            "bin_end": 175.2,
            "count": 18
           },
           {
            "bin_start": 175.2,
            "bin_end": 219,
            "count": 13
           },
           {
            "bin_start": 219,
            "bin_end": 262.79999999999995,
            "count": 8
           },
           {
            "bin_start": 262.79999999999995,
            "bin_end": 306.59999999999997,
            "count": 3
           },
           {
            "bin_start": 306.59999999999997,
            "bin_end": 350.4,
            "count": 3
           },
           {
            "bin_start": 350.4,
            "bin_end": 394.2,
            "count": 1
           },
           {
            "bin_start": 394.2,
            "bin_end": 438,
            "count": 1
           }
          ]
         }
        },
        {
         "name": "wine_servings",
         "dtype": "int64",
         "stats": {
          "unique_count": 79,
          "nan_count": 0,
          "min": "0",
          "max": "370",
          "histogram": [
           {
            "bin_start": 0,
            "bin_end": 37,
            "count": 134
           },
           {
            "bin_start": 37,
            "bin_end": 74,
            "count": 14
           },
           {
            "bin_start": 74,
            "bin_end": 111,
            "count": 9
           },
           {
            "bin_start": 111,
            "bin_end": 148,
            "count": 10
           },
           {
            "bin_start": 148,
            "bin_end": 185,
            "count": 6
           },
           {
            "bin_start": 185,
            "bin_end": 222,
            "count": 10
           },
           {
            "bin_start": 222,
            "bin_end": 259,
            "count": 3
           },
           {
            "bin_start": 259,
            "bin_end": 296,
            "count": 4
           },
           {
            "bin_start": 296,
            "bin_end": 333,
            "count": 1
           },
           {
            "bin_start": 333,
            "bin_end": 370,
            "count": 2
           }
          ]
         }
        },
        {
         "name": "total_litres_of_pure_alcohol",
         "dtype": "float64",
         "stats": {
          "unique_count": 90,
          "nan_count": 0,
          "min": "0.0",
          "max": "14.4",
          "histogram": [
           {
            "bin_start": 0,
            "bin_end": 1.44,
            "count": 53
           },
           {
            "bin_start": 1.44,
            "bin_end": 2.88,
            "count": 30
           },
           {
            "bin_start": 2.88,
            "bin_end": 4.32,
            "count": 15
           },
           {
            "bin_start": 4.32,
            "bin_end": 5.76,
            "count": 15
           },
           {
            "bin_start": 5.76,
            "bin_end": 7.199999999999999,
            "count": 30
           },
           {
            "bin_start": 7.199999999999999,
            "bin_end": 8.64,
            "count": 13
           },
           {
            "bin_start": 8.64,
            "bin_end": 10.08,
            "count": 12
           },
           {
            "bin_start": 10.08,
            "bin_end": 11.52,
            "count": 19
           },
           {
            "bin_start": 11.52,
            "bin_end": 12.959999999999999,
            "count": 5
           },
           {
            "bin_start": 12.959999999999999,
            "bin_end": 14.4,
            "count": 1
           }
          ]
         }
        },
        {
         "name": "continent",
         "dtype": "object",
         "stats": {
          "unique_count": 5,
          "nan_count": 23,
          "categories": [
           {
            "name": "AF",
            "count": 53
           },
           {
            "name": "4 others",
            "count": 117
           },
           {
            "name": "Missing",
            "count": 23
           }
          ]
         }
        },
        {
         "name": "_deepnote_index_column",
         "dtype": "int64"
        }
       ],
       "rows_top": [
        {
         "country": "Afghanistan",
         "beer_servings": 0,
         "spirit_servings": 0,
         "wine_servings": 0,
         "total_litres_of_pure_alcohol": 0,
         "continent": "AS",
         "_deepnote_index_column": 0
        },
        {
         "country": "Albania",
         "beer_servings": 89,
         "spirit_servings": 132,
         "wine_servings": 54,
         "total_litres_of_pure_alcohol": 4.9,
         "continent": "EU",
         "_deepnote_index_column": 1
        },
        {
         "country": "Algeria",
         "beer_servings": 25,
         "spirit_servings": 0,
         "wine_servings": 14,
         "total_litres_of_pure_alcohol": 0.7,
         "continent": "AF",
         "_deepnote_index_column": 2
        },
        {
         "country": "Andorra",
         "beer_servings": 245,
         "spirit_servings": 138,
         "wine_servings": 312,
         "total_litres_of_pure_alcohol": 12.4,
         "continent": "EU",
         "_deepnote_index_column": 3
        },
        {
         "country": "Angola",
         "beer_servings": 217,
         "spirit_servings": 57,
         "wine_servings": 45,
         "total_litres_of_pure_alcohol": 5.9,
         "continent": "AF",
         "_deepnote_index_column": 4
        },
        {
         "country": "Antigua & Barbuda",
         "beer_servings": 102,
         "spirit_servings": 128,
         "wine_servings": 45,
         "total_litres_of_pure_alcohol": 4.9,
         "continent": "nan",
         "_deepnote_index_column": 5
        },
        {
         "country": "Argentina",
         "beer_servings": 193,
         "spirit_servings": 25,
         "wine_servings": 221,
         "total_litres_of_pure_alcohol": 8.3,
         "continent": "SA",
         "_deepnote_index_column": 6
        },
        {
         "country": "Armenia",
         "beer_servings": 21,
         "spirit_servings": 179,
         "wine_servings": 11,
         "total_litres_of_pure_alcohol": 3.8,
         "continent": "EU",
         "_deepnote_index_column": 7
        },
        {
         "country": "Australia",
         "beer_servings": 261,
         "spirit_servings": 72,
         "wine_servings": 212,
         "total_litres_of_pure_alcohol": 10.4,
         "continent": "OC",
         "_deepnote_index_column": 8
        },
        {
         "country": "Austria",
         "beer_servings": 279,
         "spirit_servings": 75,
         "wine_servings": 191,
         "total_litres_of_pure_alcohol": 9.7,
         "continent": "EU",
         "_deepnote_index_column": 9
        },
        {
         "country": "Azerbaijan",
         "beer_servings": 21,
         "spirit_servings": 46,
         "wine_servings": 5,
         "total_litres_of_pure_alcohol": 1.3,
         "continent": "EU",
         "_deepnote_index_column": 10
        },
        {
         "country": "Bahamas",
         "beer_servings": 122,
         "spirit_servings": 176,
         "wine_servings": 51,
         "total_litres_of_pure_alcohol": 6.3,
         "continent": "nan",
         "_deepnote_index_column": 11
        },
        {
         "country": "Bahrain",
         "beer_servings": 42,
         "spirit_servings": 63,
         "wine_servings": 7,
         "total_litres_of_pure_alcohol": 2,
         "continent": "AS",
         "_deepnote_index_column": 12
        },
        {
         "country": "Bangladesh",
         "beer_servings": 0,
         "spirit_servings": 0,
         "wine_servings": 0,
         "total_litres_of_pure_alcohol": 0,
         "continent": "AS",
         "_deepnote_index_column": 13
        },
        {
         "country": "Barbados",
         "beer_servings": 143,
         "spirit_servings": 173,
         "wine_servings": 36,
         "total_litres_of_pure_alcohol": 6.3,
         "continent": "nan",
         "_deepnote_index_column": 14
        },
        {
         "country": "Belarus",
         "beer_servings": 142,
         "spirit_servings": 373,
         "wine_servings": 42,
         "total_litres_of_pure_alcohol": 14.4,
         "continent": "EU",
         "_deepnote_index_column": 15
        },
        {
         "country": "Belgium",
         "beer_servings": 295,
         "spirit_servings": 84,
         "wine_servings": 212,
         "total_litres_of_pure_alcohol": 10.5,
         "continent": "EU",
         "_deepnote_index_column": 16
        },
        {
         "country": "Belize",
         "beer_servings": 263,
         "spirit_servings": 114,
         "wine_servings": 8,
         "total_litres_of_pure_alcohol": 6.8,
         "continent": "nan",
         "_deepnote_index_column": 17
        },
        {
         "country": "Benin",
         "beer_servings": 34,
         "spirit_servings": 4,
         "wine_servings": 13,
         "total_litres_of_pure_alcohol": 1.1,
         "continent": "AF",
         "_deepnote_index_column": 18
        },
        {
         "country": "Bhutan",
         "beer_servings": 23,
         "spirit_servings": 0,
         "wine_servings": 0,
         "total_litres_of_pure_alcohol": 0.4,
         "continent": "AS",
         "_deepnote_index_column": 19
        },
        {
         "country": "Bolivia",
         "beer_servings": 167,
         "spirit_servings": 41,
         "wine_servings": 8,
         "total_litres_of_pure_alcohol": 3.8,
         "continent": "SA",
         "_deepnote_index_column": 20
        },
        {
         "country": "Bosnia-Herzegovina",
         "beer_servings": 76,
         "spirit_servings": 173,
         "wine_servings": 8,
         "total_litres_of_pure_alcohol": 4.6,
         "continent": "EU",
         "_deepnote_index_column": 21
        },
        {
         "country": "Botswana",
         "beer_servings": 173,
         "spirit_servings": 35,
         "wine_servings": 35,
         "total_litres_of_pure_alcohol": 5.4,
         "continent": "AF",
         "_deepnote_index_column": 22
        },
        {
         "country": "Brazil",
         "beer_servings": 245,
         "spirit_servings": 145,
         "wine_servings": 16,
         "total_litres_of_pure_alcohol": 7.2,
         "continent": "SA",
         "_deepnote_index_column": 23
        },
        {
         "country": "Brunei",
         "beer_servings": 31,
         "spirit_servings": 2,
         "wine_servings": 1,
         "total_litres_of_pure_alcohol": 0.6,
         "continent": "AS",
         "_deepnote_index_column": 24
        },
        {
         "country": "Bulgaria",
         "beer_servings": 231,
         "spirit_servings": 252,
         "wine_servings": 94,
         "total_litres_of_pure_alcohol": 10.3,
         "continent": "EU",
         "_deepnote_index_column": 25
        },
        {
         "country": "Burkina Faso",
         "beer_servings": 25,
         "spirit_servings": 7,
         "wine_servings": 7,
         "total_litres_of_pure_alcohol": 4.3,
         "continent": "AF",
         "_deepnote_index_column": 26
        },
        {
         "country": "Burundi",
         "beer_servings": 88,
         "spirit_servings": 0,
         "wine_servings": 0,
         "total_litres_of_pure_alcohol": 6.3,
         "continent": "AF",
         "_deepnote_index_column": 27
        },
        {
         "country": "Cote d'Ivoire",
         "beer_servings": 37,
         "spirit_servings": 1,
         "wine_servings": 7,
         "total_litres_of_pure_alcohol": 4,
         "continent": "AF",
         "_deepnote_index_column": 28
        },
        {
         "country": "Cabo Verde",
         "beer_servings": 144,
         "spirit_servings": 56,
         "wine_servings": 16,
         "total_litres_of_pure_alcohol": 4,
         "continent": "AF",
         "_deepnote_index_column": 29
        },
        {
         "country": "Cambodia",
         "beer_servings": 57,
         "spirit_servings": 65,
         "wine_servings": 1,
         "total_litres_of_pure_alcohol": 2.2,
         "continent": "AS",
         "_deepnote_index_column": 30
        },
        {
         "country": "Cameroon",
         "beer_servings": 147,
         "spirit_servings": 1,
         "wine_servings": 4,
         "total_litres_of_pure_alcohol": 5.8,
         "continent": "AF",
         "_deepnote_index_column": 31
        },
        {
         "country": "Canada",
         "beer_servings": 240,
         "spirit_servings": 122,
         "wine_servings": 100,
         "total_litres_of_pure_alcohol": 8.2,
         "continent": "nan",
         "_deepnote_index_column": 32
        },
        {
         "country": "Central African Republic",
         "beer_servings": 17,
         "spirit_servings": 2,
         "wine_servings": 1,
         "total_litres_of_pure_alcohol": 1.8,
         "continent": "AF",
         "_deepnote_index_column": 33
        },
        {
         "country": "Chad",
         "beer_servings": 15,
         "spirit_servings": 1,
         "wine_servings": 1,
         "total_litres_of_pure_alcohol": 0.4,
         "continent": "AF",
         "_deepnote_index_column": 34
        },
        {
         "country": "Chile",
         "beer_servings": 130,
         "spirit_servings": 124,
         "wine_servings": 172,
         "total_litres_of_pure_alcohol": 7.6,
         "continent": "SA",
         "_deepnote_index_column": 35
        },
        {
         "country": "China",
         "beer_servings": 79,
         "spirit_servings": 192,
         "wine_servings": 8,
         "total_litres_of_pure_alcohol": 5,
         "continent": "AS",
         "_deepnote_index_column": 36
        },
        {
         "country": "Colombia",
         "beer_servings": 159,
         "spirit_servings": 76,
         "wine_servings": 3,
         "total_litres_of_pure_alcohol": 4.2,
         "continent": "SA",
         "_deepnote_index_column": 37
        },
        {
         "country": "Comoros",
         "beer_servings": 1,
         "spirit_servings": 3,
         "wine_servings": 1,
         "total_litres_of_pure_alcohol": 0.1,
         "continent": "AF",
         "_deepnote_index_column": 38
        },
        {
         "country": "Congo",
         "beer_servings": 76,
         "spirit_servings": 1,
         "wine_servings": 9,
         "total_litres_of_pure_alcohol": 1.7,
         "continent": "AF",
         "_deepnote_index_column": 39
        },
        {
         "country": "Cook Islands",
         "beer_servings": 0,
         "spirit_servings": 254,
         "wine_servings": 74,
         "total_litres_of_pure_alcohol": 5.9,
         "continent": "OC",
         "_deepnote_index_column": 40
        },
        {
         "country": "Costa Rica",
         "beer_servings": 149,
         "spirit_servings": 87,
         "wine_servings": 11,
         "total_litres_of_pure_alcohol": 4.4,
         "continent": "nan",
         "_deepnote_index_column": 41
        },
        {
         "country": "Croatia",
         "beer_servings": 230,
         "spirit_servings": 87,
         "wine_servings": 254,
         "total_litres_of_pure_alcohol": 10.2,
         "continent": "EU",
         "_deepnote_index_column": 42
        },
        {
         "country": "Cuba",
         "beer_servings": 93,
         "spirit_servings": 137,
         "wine_servings": 5,
         "total_litres_of_pure_alcohol": 4.2,
         "continent": "nan",
         "_deepnote_index_column": 43
        },
        {
         "country": "Cyprus",
         "beer_servings": 192,
         "spirit_servings": 154,
         "wine_servings": 113,
         "total_litres_of_pure_alcohol": 8.2,
         "continent": "EU",
         "_deepnote_index_column": 44
        },
        {
         "country": "Czech Republic",
         "beer_servings": 361,
         "spirit_servings": 170,
         "wine_servings": 134,
         "total_litres_of_pure_alcohol": 11.8,
         "continent": "EU",
         "_deepnote_index_column": 45
        },
        {
         "country": "North Korea",
         "beer_servings": 0,
         "spirit_servings": 0,
         "wine_servings": 0,
         "total_litres_of_pure_alcohol": 0,
         "continent": "AS",
         "_deepnote_index_column": 46
        },
        {
         "country": "DR Congo",
         "beer_servings": 32,
         "spirit_servings": 3,
         "wine_servings": 1,
         "total_litres_of_pure_alcohol": 2.3,
         "continent": "AF",
         "_deepnote_index_column": 47
        },
        {
         "country": "Denmark",
         "beer_servings": 224,
         "spirit_servings": 81,
         "wine_servings": 278,
         "total_litres_of_pure_alcohol": 10.4,
         "continent": "EU",
         "_deepnote_index_column": 48
        },
        {
         "country": "Djibouti",
         "beer_servings": 15,
         "spirit_servings": 44,
         "wine_servings": 3,
         "total_litres_of_pure_alcohol": 1.1,
         "continent": "AF",
         "_deepnote_index_column": 49
        },
        {
         "country": "Dominica",
         "beer_servings": 52,
         "spirit_servings": 286,
         "wine_servings": 26,
         "total_litres_of_pure_alcohol": 6.6,
         "continent": "nan",
         "_deepnote_index_column": 50
        },
        {
         "country": "Dominican Republic",
         "beer_servings": 193,
         "spirit_servings": 147,
         "wine_servings": 9,
         "total_litres_of_pure_alcohol": 6.2,
         "continent": "nan",
         "_deepnote_index_column": 51
        },
        {
         "country": "Ecuador",
         "beer_servings": 162,
         "spirit_servings": 74,
         "wine_servings": 3,
         "total_litres_of_pure_alcohol": 4.2,
         "continent": "SA",
         "_deepnote_index_column": 52
        },
        {
         "country": "Egypt",
         "beer_servings": 6,
         "spirit_servings": 4,
         "wine_servings": 1,
         "total_litres_of_pure_alcohol": 0.2,
         "continent": "AF",
         "_deepnote_index_column": 53
        },
        {
         "country": "El Salvador",
         "beer_servings": 52,
         "spirit_servings": 69,
         "wine_servings": 2,
         "total_litres_of_pure_alcohol": 2.2,
         "continent": "nan",
         "_deepnote_index_column": 54
        },
        {
         "country": "Equatorial Guinea",
         "beer_servings": 92,
         "spirit_servings": 0,
         "wine_servings": 233,
         "total_litres_of_pure_alcohol": 5.8,
         "continent": "AF",
         "_deepnote_index_column": 55
        },
        {
         "country": "Eritrea",
         "beer_servings": 18,
         "spirit_servings": 0,
         "wine_servings": 0,
         "total_litres_of_pure_alcohol": 0.5,
         "continent": "AF",
         "_deepnote_index_column": 56
        },
        {
         "country": "Estonia",
         "beer_servings": 224,
         "spirit_servings": 194,
         "wine_servings": 59,
         "total_litres_of_pure_alcohol": 9.5,
         "continent": "EU",
         "_deepnote_index_column": 57
        },
        {
         "country": "Ethiopia",
         "beer_servings": 20,
         "spirit_servings": 3,
         "wine_servings": 0,
         "total_litres_of_pure_alcohol": 0.7,
         "continent": "AF",
         "_deepnote_index_column": 58
        },
        {
         "country": "Fiji",
         "beer_servings": 77,
         "spirit_servings": 35,
         "wine_servings": 1,
         "total_litres_of_pure_alcohol": 2,
         "continent": "OC",
         "_deepnote_index_column": 59
        },
        {
         "country": "Finland",
         "beer_servings": 263,
         "spirit_servings": 133,
         "wine_servings": 97,
         "total_litres_of_pure_alcohol": 10,
         "continent": "EU",
         "_deepnote_index_column": 60
        },
        {
         "country": "France",
         "beer_servings": 127,
         "spirit_servings": 151,
         "wine_servings": 370,
         "total_litres_of_pure_alcohol": 11.8,
         "continent": "EU",
         "_deepnote_index_column": 61
        },
        {
         "country": "Gabon",
         "beer_servings": 347,
         "spirit_servings": 98,
         "wine_servings": 59,
         "total_litres_of_pure_alcohol": 8.9,
         "continent": "AF",
         "_deepnote_index_column": 62
        },
        {
         "country": "Gambia",
         "beer_servings": 8,
         "spirit_servings": 0,
         "wine_servings": 1,
         "total_litres_of_pure_alcohol": 2.4,
         "continent": "AF",
         "_deepnote_index_column": 63
        },
        {
         "country": "Georgia",
         "beer_servings": 52,
         "spirit_servings": 100,
         "wine_servings": 149,
         "total_litres_of_pure_alcohol": 5.4,
         "continent": "EU",
         "_deepnote_index_column": 64
        },
        {
         "country": "Germany",
         "beer_servings": 346,
         "spirit_servings": 117,
         "wine_servings": 175,
         "total_litres_of_pure_alcohol": 11.3,
         "continent": "EU",
         "_deepnote_index_column": 65
        },
        {
         "country": "Ghana",
         "beer_servings": 31,
         "spirit_servings": 3,
         "wine_servings": 10,
         "total_litres_of_pure_alcohol": 1.8,
         "continent": "AF",
         "_deepnote_index_column": 66
        },
        {
         "country": "Greece",
         "beer_servings": 133,
         "spirit_servings": 112,
         "wine_servings": 218,
         "total_litres_of_pure_alcohol": 8.3,
         "continent": "EU",
         "_deepnote_index_column": 67
        },
        {
         "country": "Grenada",
         "beer_servings": 199,
         "spirit_servings": 438,
         "wine_servings": 28,
         "total_litres_of_pure_alcohol": 11.9,
         "continent": "nan",
         "_deepnote_index_column": 68
        },
        {
         "country": "Guatemala",
         "beer_servings": 53,
         "spirit_servings": 69,
         "wine_servings": 2,
         "total_litres_of_pure_alcohol": 2.2,
         "continent": "nan",
         "_deepnote_index_column": 69
        },
        {
         "country": "Guinea",
         "beer_servings": 9,
         "spirit_servings": 0,
         "wine_servings": 2,
         "total_litres_of_pure_alcohol": 0.2,
         "continent": "AF",
         "_deepnote_index_column": 70
        },
        {
         "country": "Guinea-Bissau",
         "beer_servings": 28,
         "spirit_servings": 31,
         "wine_servings": 21,
         "total_litres_of_pure_alcohol": 2.5,
         "continent": "AF",
         "_deepnote_index_column": 71
        },
        {
         "country": "Guyana",
         "beer_servings": 93,
         "spirit_servings": 302,
         "wine_servings": 1,
         "total_litres_of_pure_alcohol": 7.1,
         "continent": "SA",
         "_deepnote_index_column": 72
        },
        {
         "country": "Haiti",
         "beer_servings": 1,
         "spirit_servings": 326,
         "wine_servings": 1,
         "total_litres_of_pure_alcohol": 5.9,
         "continent": "nan",
         "_deepnote_index_column": 73
        },
        {
         "country": "Honduras",
         "beer_servings": 69,
         "spirit_servings": 98,
         "wine_servings": 2,
         "total_litres_of_pure_alcohol": 3,
         "continent": "nan",
         "_deepnote_index_column": 74
        },
        {
         "country": "Hungary",
         "beer_servings": 234,
         "spirit_servings": 215,
         "wine_servings": 185,
         "total_litres_of_pure_alcohol": 11.3,
         "continent": "EU",
         "_deepnote_index_column": 75
        },
        {
         "country": "Iceland",
         "beer_servings": 233,
         "spirit_servings": 61,
         "wine_servings": 78,
         "total_litres_of_pure_alcohol": 6.6,
         "continent": "EU",
         "_deepnote_index_column": 76
        },
        {
         "country": "India",
         "beer_servings": 9,
         "spirit_servings": 114,
         "wine_servings": 0,
         "total_litres_of_pure_alcohol": 2.2,
         "continent": "AS",
         "_deepnote_index_column": 77
        },
        {
         "country": "Indonesia",
         "beer_servings": 5,
         "spirit_servings": 1,
         "wine_servings": 0,
         "total_litres_of_pure_alcohol": 0.1,
         "continent": "AS",
         "_deepnote_index_column": 78
        },
        {
         "country": "Iran",
         "beer_servings": 0,
         "spirit_servings": 0,
         "wine_servings": 0,
         "total_litres_of_pure_alcohol": 0,
         "continent": "AS",
         "_deepnote_index_column": 79
        },
        {
         "country": "Iraq",
         "beer_servings": 9,
         "spirit_servings": 3,
         "wine_servings": 0,
         "total_litres_of_pure_alcohol": 0.2,
         "continent": "AS",
         "_deepnote_index_column": 80
        },
        {
         "country": "Ireland",
         "beer_servings": 313,
         "spirit_servings": 118,
         "wine_servings": 165,
         "total_litres_of_pure_alcohol": 11.4,
         "continent": "EU",
         "_deepnote_index_column": 81
        },
        {
         "country": "Israel",
         "beer_servings": 63,
         "spirit_servings": 69,
         "wine_servings": 9,
         "total_litres_of_pure_alcohol": 2.5,
         "continent": "AS",
         "_deepnote_index_column": 82
        }
       ],
       "rows_bottom": [
        {
         "country": "Micronesia",
         "beer_servings": 62,
         "spirit_servings": 50,
         "wine_servings": 18,
         "total_litres_of_pure_alcohol": 2.3,
         "continent": "OC",
         "_deepnote_index_column": 110
        },
        {
         "country": "Monaco",
         "beer_servings": 0,
         "spirit_servings": 0,
         "wine_servings": 0,
         "total_litres_of_pure_alcohol": 0,
         "continent": "EU",
         "_deepnote_index_column": 111
        },
        {
         "country": "Mongolia",
         "beer_servings": 77,
         "spirit_servings": 189,
         "wine_servings": 8,
         "total_litres_of_pure_alcohol": 4.9,
         "continent": "AS",
         "_deepnote_index_column": 112
        },
        {
         "country": "Montenegro",
         "beer_servings": 31,
         "spirit_servings": 114,
         "wine_servings": 128,
         "total_litres_of_pure_alcohol": 4.9,
         "continent": "EU",
         "_deepnote_index_column": 113
        },
        {
         "country": "Morocco",
         "beer_servings": 12,
         "spirit_servings": 6,
         "wine_servings": 10,
         "total_litres_of_pure_alcohol": 0.5,
         "continent": "AF",
         "_deepnote_index_column": 114
        },
        {
         "country": "Mozambique",
         "beer_servings": 47,
         "spirit_servings": 18,
         "wine_servings": 5,
         "total_litres_of_pure_alcohol": 1.3,
         "continent": "AF",
         "_deepnote_index_column": 115
        },
        {
         "country": "Myanmar",
         "beer_servings": 5,
         "spirit_servings": 1,
         "wine_servings": 0,
         "total_litres_of_pure_alcohol": 0.1,
         "continent": "AS",
         "_deepnote_index_column": 116
        },
        {
         "country": "Namibia",
         "beer_servings": 376,
         "spirit_servings": 3,
         "wine_servings": 1,
         "total_litres_of_pure_alcohol": 6.8,
         "continent": "AF",
         "_deepnote_index_column": 117
        },
        {
         "country": "Nauru",
         "beer_servings": 49,
         "spirit_servings": 0,
         "wine_servings": 8,
         "total_litres_of_pure_alcohol": 1,
         "continent": "OC",
         "_deepnote_index_column": 118
        },
        {
         "country": "Nepal",
         "beer_servings": 5,
         "spirit_servings": 6,
         "wine_servings": 0,
         "total_litres_of_pure_alcohol": 0.2,
         "continent": "AS",
         "_deepnote_index_column": 119
        },
        {
         "country": "Netherlands",
         "beer_servings": 251,
         "spirit_servings": 88,
         "wine_servings": 190,
         "total_litres_of_pure_alcohol": 9.4,
         "continent": "EU",
         "_deepnote_index_column": 120
        },
        {
         "country": "New Zealand",
         "beer_servings": 203,
         "spirit_servings": 79,
         "wine_servings": 175,
         "total_litres_of_pure_alcohol": 9.3,
         "continent": "OC",
         "_deepnote_index_column": 121
        },
        {
         "country": "Nicaragua",
         "beer_servings": 78,
         "spirit_servings": 118,
         "wine_servings": 1,
         "total_litres_of_pure_alcohol": 3.5,
         "continent": "nan",
         "_deepnote_index_column": 122
        },
        {
         "country": "Niger",
         "beer_servings": 3,
         "spirit_servings": 2,
         "wine_servings": 1,
         "total_litres_of_pure_alcohol": 0.1,
         "continent": "AF",
         "_deepnote_index_column": 123
        },
        {
         "country": "Nigeria",
         "beer_servings": 42,
         "spirit_servings": 5,
         "wine_servings": 2,
         "total_litres_of_pure_alcohol": 9.1,
         "continent": "AF",
         "_deepnote_index_column": 124
        },
        {
         "country": "Niue",
         "beer_servings": 188,
         "spirit_servings": 200,
         "wine_servings": 7,
         "total_litres_of_pure_alcohol": 7,
         "continent": "OC",
         "_deepnote_index_column": 125
        },
        {
         "country": "Norway",
         "beer_servings": 169,
         "spirit_servings": 71,
         "wine_servings": 129,
         "total_litres_of_pure_alcohol": 6.7,
         "continent": "EU",
         "_deepnote_index_column": 126
        },
        {
         "country": "Oman",
         "beer_servings": 22,
         "spirit_servings": 16,
         "wine_servings": 1,
         "total_litres_of_pure_alcohol": 0.7,
         "continent": "AS",
         "_deepnote_index_column": 127
        },
        {
         "country": "Pakistan",
         "beer_servings": 0,
         "spirit_servings": 0,
         "wine_servings": 0,
         "total_litres_of_pure_alcohol": 0,
         "continent": "AS",
         "_deepnote_index_column": 128
        },
        {
         "country": "Palau",
         "beer_servings": 306,
         "spirit_servings": 63,
         "wine_servings": 23,
         "total_litres_of_pure_alcohol": 6.9,
         "continent": "OC",
         "_deepnote_index_column": 129
        },
        {
         "country": "Panama",
         "beer_servings": 285,
         "spirit_servings": 104,
         "wine_servings": 18,
         "total_litres_of_pure_alcohol": 7.2,
         "continent": "nan",
         "_deepnote_index_column": 130
        },
        {
         "country": "Papua New Guinea",
         "beer_servings": 44,
         "spirit_servings": 39,
         "wine_servings": 1,
         "total_litres_of_pure_alcohol": 1.5,
         "continent": "OC",
         "_deepnote_index_column": 131
        },
        {
         "country": "Paraguay",
         "beer_servings": 213,
         "spirit_servings": 117,
         "wine_servings": 74,
         "total_litres_of_pure_alcohol": 7.3,
         "continent": "SA",
         "_deepnote_index_column": 132
        },
        {
         "country": "Peru",
         "beer_servings": 163,
         "spirit_servings": 160,
         "wine_servings": 21,
         "total_litres_of_pure_alcohol": 6.1,
         "continent": "SA",
         "_deepnote_index_column": 133
        },
        {
         "country": "Philippines",
         "beer_servings": 71,
         "spirit_servings": 186,
         "wine_servings": 1,
         "total_litres_of_pure_alcohol": 4.6,
         "continent": "AS",
         "_deepnote_index_column": 134
        },
        {
         "country": "Poland",
         "beer_servings": 343,
         "spirit_servings": 215,
         "wine_servings": 56,
         "total_litres_of_pure_alcohol": 10.9,
         "continent": "EU",
         "_deepnote_index_column": 135
        },
        {
         "country": "Portugal",
         "beer_servings": 194,
         "spirit_servings": 67,
         "wine_servings": 339,
         "total_litres_of_pure_alcohol": 11,
         "continent": "EU",
         "_deepnote_index_column": 136
        },
        {
         "country": "Qatar",
         "beer_servings": 1,
         "spirit_servings": 42,
         "wine_servings": 7,
         "total_litres_of_pure_alcohol": 0.9,
         "continent": "AS",
         "_deepnote_index_column": 137
        },
        {
         "country": "South Korea",
         "beer_servings": 140,
         "spirit_servings": 16,
         "wine_servings": 9,
         "total_litres_of_pure_alcohol": 9.8,
         "continent": "AS",
         "_deepnote_index_column": 138
        },
        {
         "country": "Moldova",
         "beer_servings": 109,
         "spirit_servings": 226,
         "wine_servings": 18,
         "total_litres_of_pure_alcohol": 6.3,
         "continent": "EU",
         "_deepnote_index_column": 139
        },
        {
         "country": "Romania",
         "beer_servings": 297,
         "spirit_servings": 122,
         "wine_servings": 167,
         "total_litres_of_pure_alcohol": 10.4,
         "continent": "EU",
         "_deepnote_index_column": 140
        },
        {
         "country": "Russian Federation",
         "beer_servings": 247,
         "spirit_servings": 326,
         "wine_servings": 73,
         "total_litres_of_pure_alcohol": 11.5,
         "continent": "AS",
         "_deepnote_index_column": 141
        },
        {
         "country": "Rwanda",
         "beer_servings": 43,
         "spirit_servings": 2,
         "wine_servings": 0,
         "total_litres_of_pure_alcohol": 6.8,
         "continent": "AF",
         "_deepnote_index_column": 142
        },
        {
         "country": "St. Kitts & Nevis",
         "beer_servings": 194,
         "spirit_servings": 205,
         "wine_servings": 32,
         "total_litres_of_pure_alcohol": 7.7,
         "continent": "nan",
         "_deepnote_index_column": 143
        },
        {
         "country": "St. Lucia",
         "beer_servings": 171,
         "spirit_servings": 315,
         "wine_servings": 71,
         "total_litres_of_pure_alcohol": 10.1,
         "continent": "nan",
         "_deepnote_index_column": 144
        },
        {
         "country": "St. Vincent & the Grenadines",
         "beer_servings": 120,
         "spirit_servings": 221,
         "wine_servings": 11,
         "total_litres_of_pure_alcohol": 6.3,
         "continent": "nan",
         "_deepnote_index_column": 145
        },
        {
         "country": "Samoa",
         "beer_servings": 105,
         "spirit_servings": 18,
         "wine_servings": 24,
         "total_litres_of_pure_alcohol": 2.6,
         "continent": "OC",
         "_deepnote_index_column": 146
        },
        {
         "country": "San Marino",
         "beer_servings": 0,
         "spirit_servings": 0,
         "wine_servings": 0,
         "total_litres_of_pure_alcohol": 0,
         "continent": "EU",
         "_deepnote_index_column": 147
        },
        {
         "country": "Sao Tome & Principe",
         "beer_servings": 56,
         "spirit_servings": 38,
         "wine_servings": 140,
         "total_litres_of_pure_alcohol": 4.2,
         "continent": "AF",
         "_deepnote_index_column": 148
        },
        {
         "country": "Saudi Arabia",
         "beer_servings": 0,
         "spirit_servings": 5,
         "wine_servings": 0,
         "total_litres_of_pure_alcohol": 0.1,
         "continent": "AS",
         "_deepnote_index_column": 149
        },
        {
         "country": "Senegal",
         "beer_servings": 9,
         "spirit_servings": 1,
         "wine_servings": 7,
         "total_litres_of_pure_alcohol": 0.3,
         "continent": "AF",
         "_deepnote_index_column": 150
        },
        {
         "country": "Serbia",
         "beer_servings": 283,
         "spirit_servings": 131,
         "wine_servings": 127,
         "total_litres_of_pure_alcohol": 9.6,
         "continent": "EU",
         "_deepnote_index_column": 151
        },
        {
         "country": "Seychelles",
         "beer_servings": 157,
         "spirit_servings": 25,
         "wine_servings": 51,
         "total_litres_of_pure_alcohol": 4.1,
         "continent": "AF",
         "_deepnote_index_column": 152
        },
        {
         "country": "Sierra Leone",
         "beer_servings": 25,
         "spirit_servings": 3,
         "wine_servings": 2,
         "total_litres_of_pure_alcohol": 6.7,
         "continent": "AF",
         "_deepnote_index_column": 153
        },
        {
         "country": "Singapore",
         "beer_servings": 60,
         "spirit_servings": 12,
         "wine_servings": 11,
         "total_litres_of_pure_alcohol": 1.5,
         "continent": "AS",
         "_deepnote_index_column": 154
        },
        {
         "country": "Slovakia",
         "beer_servings": 196,
         "spirit_servings": 293,
         "wine_servings": 116,
         "total_litres_of_pure_alcohol": 11.4,
         "continent": "EU",
         "_deepnote_index_column": 155
        },
        {
         "country": "Slovenia",
         "beer_servings": 270,
         "spirit_servings": 51,
         "wine_servings": 276,
         "total_litres_of_pure_alcohol": 10.6,
         "continent": "EU",
         "_deepnote_index_column": 156
        },
        {
         "country": "Solomon Islands",
         "beer_servings": 56,
         "spirit_servings": 11,
         "wine_servings": 1,
         "total_litres_of_pure_alcohol": 1.2,
         "continent": "OC",
         "_deepnote_index_column": 157
        },
        {
         "country": "Somalia",
         "beer_servings": 0,
         "spirit_servings": 0,
         "wine_servings": 0,
         "total_litres_of_pure_alcohol": 0,
         "continent": "AF",
         "_deepnote_index_column": 158
        },
        {
         "country": "South Africa",
         "beer_servings": 225,
         "spirit_servings": 76,
         "wine_servings": 81,
         "total_litres_of_pure_alcohol": 8.2,
         "continent": "AF",
         "_deepnote_index_column": 159
        },
        {
         "country": "Spain",
         "beer_servings": 284,
         "spirit_servings": 157,
         "wine_servings": 112,
         "total_litres_of_pure_alcohol": 10,
         "continent": "EU",
         "_deepnote_index_column": 160
        },
        {
         "country": "Sri Lanka",
         "beer_servings": 16,
         "spirit_servings": 104,
         "wine_servings": 0,
         "total_litres_of_pure_alcohol": 2.2,
         "continent": "AS",
         "_deepnote_index_column": 161
        },
        {
         "country": "Sudan",
         "beer_servings": 8,
         "spirit_servings": 13,
         "wine_servings": 0,
         "total_litres_of_pure_alcohol": 1.7,
         "continent": "AF",
         "_deepnote_index_column": 162
        },
        {
         "country": "Suriname",
         "beer_servings": 128,
         "spirit_servings": 178,
         "wine_servings": 7,
         "total_litres_of_pure_alcohol": 5.6,
         "continent": "SA",
         "_deepnote_index_column": 163
        },
        {
         "country": "Swaziland",
         "beer_servings": 90,
         "spirit_servings": 2,
         "wine_servings": 2,
         "total_litres_of_pure_alcohol": 4.7,
         "continent": "AF",
         "_deepnote_index_column": 164
        },
        {
         "country": "Sweden",
         "beer_servings": 152,
         "spirit_servings": 60,
         "wine_servings": 186,
         "total_litres_of_pure_alcohol": 7.2,
         "continent": "EU",
         "_deepnote_index_column": 165
        },
        {
         "country": "Switzerland",
         "beer_servings": 185,
         "spirit_servings": 100,
         "wine_servings": 280,
         "total_litres_of_pure_alcohol": 10.2,
         "continent": "EU",
         "_deepnote_index_column": 166
        },
        {
         "country": "Syria",
         "beer_servings": 5,
         "spirit_servings": 35,
         "wine_servings": 16,
         "total_litres_of_pure_alcohol": 1,
         "continent": "AS",
         "_deepnote_index_column": 167
        },
        {
         "country": "Tajikistan",
         "beer_servings": 2,
         "spirit_servings": 15,
         "wine_servings": 0,
         "total_litres_of_pure_alcohol": 0.3,
         "continent": "AS",
         "_deepnote_index_column": 168
        },
        {
         "country": "Thailand",
         "beer_servings": 99,
         "spirit_servings": 258,
         "wine_servings": 1,
         "total_litres_of_pure_alcohol": 6.4,
         "continent": "AS",
         "_deepnote_index_column": 169
        },
        {
         "country": "Macedonia",
         "beer_servings": 106,
         "spirit_servings": 27,
         "wine_servings": 86,
         "total_litres_of_pure_alcohol": 3.9,
         "continent": "EU",
         "_deepnote_index_column": 170
        },
        {
         "country": "Timor-Leste",
         "beer_servings": 1,
         "spirit_servings": 1,
         "wine_servings": 4,
         "total_litres_of_pure_alcohol": 0.1,
         "continent": "AS",
         "_deepnote_index_column": 171
        },
        {
         "country": "Togo",
         "beer_servings": 36,
         "spirit_servings": 2,
         "wine_servings": 19,
         "total_litres_of_pure_alcohol": 1.3,
         "continent": "AF",
         "_deepnote_index_column": 172
        },
        {
         "country": "Tonga",
         "beer_servings": 36,
         "spirit_servings": 21,
         "wine_servings": 5,
         "total_litres_of_pure_alcohol": 1.1,
         "continent": "OC",
         "_deepnote_index_column": 173
        },
        {
         "country": "Trinidad & Tobago",
         "beer_servings": 197,
         "spirit_servings": 156,
         "wine_servings": 7,
         "total_litres_of_pure_alcohol": 6.4,
         "continent": "nan",
         "_deepnote_index_column": 174
        },
        {
         "country": "Tunisia",
         "beer_servings": 51,
         "spirit_servings": 3,
         "wine_servings": 20,
         "total_litres_of_pure_alcohol": 1.3,
         "continent": "AF",
         "_deepnote_index_column": 175
        },
        {
         "country": "Turkey",
         "beer_servings": 51,
         "spirit_servings": 22,
         "wine_servings": 7,
         "total_litres_of_pure_alcohol": 1.4,
         "continent": "AS",
         "_deepnote_index_column": 176
        },
        {
         "country": "Turkmenistan",
         "beer_servings": 19,
         "spirit_servings": 71,
         "wine_servings": 32,
         "total_litres_of_pure_alcohol": 2.2,
         "continent": "AS",
         "_deepnote_index_column": 177
        },
        {
         "country": "Tuvalu",
         "beer_servings": 6,
         "spirit_servings": 41,
         "wine_servings": 9,
         "total_litres_of_pure_alcohol": 1,
         "continent": "OC",
         "_deepnote_index_column": 178
        },
        {
         "country": "Uganda",
         "beer_servings": 45,
         "spirit_servings": 9,
         "wine_servings": 0,
         "total_litres_of_pure_alcohol": 8.3,
         "continent": "AF",
         "_deepnote_index_column": 179
        },
        {
         "country": "Ukraine",
         "beer_servings": 206,
         "spirit_servings": 237,
         "wine_servings": 45,
         "total_litres_of_pure_alcohol": 8.9,
         "continent": "EU",
         "_deepnote_index_column": 180
        },
        {
         "country": "United Arab Emirates",
         "beer_servings": 16,
         "spirit_servings": 135,
         "wine_servings": 5,
         "total_litres_of_pure_alcohol": 2.8,
         "continent": "AS",
         "_deepnote_index_column": 181
        },
        {
         "country": "United Kingdom",
         "beer_servings": 219,
         "spirit_servings": 126,
         "wine_servings": 195,
         "total_litres_of_pure_alcohol": 10.4,
         "continent": "EU",
         "_deepnote_index_column": 182
        },
        {
         "country": "Tanzania",
         "beer_servings": 36,
         "spirit_servings": 6,
         "wine_servings": 1,
         "total_litres_of_pure_alcohol": 5.7,
         "continent": "AF",
         "_deepnote_index_column": 183
        },
        {
         "country": "USA",
         "beer_servings": 249,
         "spirit_servings": 158,
         "wine_servings": 84,
         "total_litres_of_pure_alcohol": 8.7,
         "continent": "nan",
         "_deepnote_index_column": 184
        },
        {
         "country": "Uruguay",
         "beer_servings": 115,
         "spirit_servings": 35,
         "wine_servings": 220,
         "total_litres_of_pure_alcohol": 6.6,
         "continent": "SA",
         "_deepnote_index_column": 185
        },
        {
         "country": "Uzbekistan",
         "beer_servings": 25,
         "spirit_servings": 101,
         "wine_servings": 8,
         "total_litres_of_pure_alcohol": 2.4,
         "continent": "AS",
         "_deepnote_index_column": 186
        },
        {
         "country": "Vanuatu",
         "beer_servings": 21,
         "spirit_servings": 18,
         "wine_servings": 11,
         "total_litres_of_pure_alcohol": 0.9,
         "continent": "OC",
         "_deepnote_index_column": 187
        },
        {
         "country": "Venezuela",
         "beer_servings": 333,
         "spirit_servings": 100,
         "wine_servings": 3,
         "total_litres_of_pure_alcohol": 7.7,
         "continent": "SA",
         "_deepnote_index_column": 188
        },
        {
         "country": "Vietnam",
         "beer_servings": 111,
         "spirit_servings": 2,
         "wine_servings": 1,
         "total_litres_of_pure_alcohol": 2,
         "continent": "AS",
         "_deepnote_index_column": 189
        },
        {
         "country": "Yemen",
         "beer_servings": 6,
         "spirit_servings": 0,
         "wine_servings": 0,
         "total_litres_of_pure_alcohol": 0.1,
         "continent": "AS",
         "_deepnote_index_column": 190
        },
        {
         "country": "Zambia",
         "beer_servings": 32,
         "spirit_servings": 19,
         "wine_servings": 4,
         "total_litres_of_pure_alcohol": 2.5,
         "continent": "AF",
         "_deepnote_index_column": 191
        },
        {
         "country": "Zimbabwe",
         "beer_servings": 64,
         "spirit_servings": 18,
         "wine_servings": 4,
         "total_litres_of_pure_alcohol": 4.7,
         "continent": "AF",
         "_deepnote_index_column": 192
        }
       ]
      },
      "text/plain": "         country  beer_servings  spirit_servings  wine_servings  \\\n0    Afghanistan              0                0              0   \n1        Albania             89              132             54   \n2        Algeria             25                0             14   \n3        Andorra            245              138            312   \n4         Angola            217               57             45   \n..           ...            ...              ...            ...   \n188    Venezuela            333              100              3   \n189      Vietnam            111                2              1   \n190        Yemen              6                0              0   \n191       Zambia             32               19              4   \n192     Zimbabwe             64               18              4   \n\n     total_litres_of_pure_alcohol continent  \n0                             0.0        AS  \n1                             4.9        EU  \n2                             0.7        AF  \n3                            12.4        EU  \n4                             5.9        AF  \n..                            ...       ...  \n188                           7.7        SA  \n189                           2.0        AS  \n190                           0.1        AS  \n191                           2.5        AF  \n192                           4.7        AF  \n\n[193 rows x 6 columns]",
      "text/html": "<div>\n<style scoped>\n    .dataframe tbody tr th:only-of-type {\n        vertical-align: middle;\n    }\n\n    .dataframe tbody tr th {\n        vertical-align: top;\n    }\n\n    .dataframe thead th {\n        text-align: right;\n    }\n</style>\n<table border=\"1\" class=\"dataframe\">\n  <thead>\n    <tr style=\"text-align: right;\">\n      <th></th>\n      <th>country</th>\n      <th>beer_servings</th>\n      <th>spirit_servings</th>\n      <th>wine_servings</th>\n      <th>total_litres_of_pure_alcohol</th>\n      <th>continent</th>\n    </tr>\n  </thead>\n  <tbody>\n    <tr>\n      <th>0</th>\n      <td>Afghanistan</td>\n      <td>0</td>\n      <td>0</td>\n      <td>0</td>\n      <td>0.0</td>\n      <td>AS</td>\n    </tr>\n    <tr>\n      <th>1</th>\n      <td>Albania</td>\n      <td>89</td>\n      <td>132</td>\n      <td>54</td>\n      <td>4.9</td>\n      <td>EU</td>\n    </tr>\n    <tr>\n      <th>2</th>\n      <td>Algeria</td>\n      <td>25</td>\n      <td>0</td>\n      <td>14</td>\n      <td>0.7</td>\n      <td>AF</td>\n    </tr>\n    <tr>\n      <th>3</th>\n      <td>Andorra</td>\n      <td>245</td>\n      <td>138</td>\n      <td>312</td>\n      <td>12.4</td>\n      <td>EU</td>\n    </tr>\n    <tr>\n      <th>4</th>\n      <td>Angola</td>\n      <td>217</td>\n      <td>57</td>\n      <td>45</td>\n      <td>5.9</td>\n      <td>AF</td>\n    </tr>\n    <tr>\n      <th>...</th>\n      <td>...</td>\n      <td>...</td>\n      <td>...</td>\n      <td>...</td>\n      <td>...</td>\n      <td>...</td>\n    </tr>\n    <tr>\n      <th>188</th>\n      <td>Venezuela</td>\n      <td>333</td>\n      <td>100</td>\n      <td>3</td>\n      <td>7.7</td>\n      <td>SA</td>\n    </tr>\n    <tr>\n      <th>189</th>\n      <td>Vietnam</td>\n      <td>111</td>\n      <td>2</td>\n      <td>1</td>\n      <td>2.0</td>\n      <td>AS</td>\n    </tr>\n    <tr>\n      <th>190</th>\n      <td>Yemen</td>\n      <td>6</td>\n      <td>0</td>\n      <td>0</td>\n      <td>0.1</td>\n      <td>AS</td>\n    </tr>\n    <tr>\n      <th>191</th>\n      <td>Zambia</td>\n      <td>32</td>\n      <td>19</td>\n      <td>4</td>\n      <td>2.5</td>\n      <td>AF</td>\n    </tr>\n    <tr>\n      <th>192</th>\n      <td>Zimbabwe</td>\n      <td>64</td>\n      <td>18</td>\n      <td>4</td>\n      <td>4.7</td>\n      <td>AF</td>\n    </tr>\n  </tbody>\n</table>\n<p>193 rows × 6 columns</p>\n</div>"
     },
     "metadata": {}
    }
   ]
  },
  {
   "cell_type": "code",
   "metadata": {
    "tags": [],
    "cell_id": "00006-94d50349-8c7e-41d1-a851-1372881195e6",
    "deepnote_to_be_reexecuted": false,
    "source_hash": "60af8ad6",
    "execution_start": 1625156956375,
    "execution_millis": 44,
    "deepnote_cell_type": "code"
   },
   "source": "df.info()\ndf.describe()\ndf.isnull().sum()",
   "execution_count": null,
   "outputs": [
    {
     "name": "stdout",
     "text": "<class 'pandas.core.frame.DataFrame'>\nRangeIndex: 193 entries, 0 to 192\nData columns (total 6 columns):\n #   Column                        Non-Null Count  Dtype  \n---  ------                        --------------  -----  \n 0   country                       193 non-null    object \n 1   beer_servings                 193 non-null    int64  \n 2   spirit_servings               193 non-null    int64  \n 3   wine_servings                 193 non-null    int64  \n 4   total_litres_of_pure_alcohol  193 non-null    float64\n 5   continent                     170 non-null    object \ndtypes: float64(1), int64(3), object(2)\nmemory usage: 9.2+ KB\n",
     "output_type": "stream"
    },
    {
     "output_type": "execute_result",
     "execution_count": 101,
     "data": {
      "text/plain": "country                          0\nbeer_servings                    0\nspirit_servings                  0\nwine_servings                    0\ntotal_litres_of_pure_alcohol     0\ncontinent                       23\ndtype: int64"
     },
     "metadata": {}
    }
   ]
  },
  {
   "cell_type": "code",
   "metadata": {
    "tags": [],
    "cell_id": "00007-ab47961c-fe8a-4a3b-a0e0-5626029a3fff",
    "deepnote_to_be_reexecuted": false,
    "source_hash": "472b51a3",
    "execution_start": 1625157506591,
    "execution_millis": 30,
    "deepnote_cell_type": "code"
   },
   "source": "df_null = df[df[\"continent\"].isnull()]\ndf_null.sum()",
   "execution_count": null,
   "outputs": [
    {
     "output_type": "execute_result",
     "execution_count": 131,
     "data": {
      "text/plain": "country                         Antigua & BarbudaBahamasBarbadosBelizeCanadaCo...\nbeer_servings                                                                3345\nspirit_servings                                                              3812\nwine_servings                                                                 564\ntotal_litres_of_pure_alcohol                                                137.9\ncontinent                                                                       0\ndtype: object"
     },
     "metadata": {}
    }
   ]
  },
  {
   "cell_type": "code",
   "metadata": {
    "tags": [],
    "cell_id": "00008-e2fca3f0-bd80-4c44-89e0-21c9aab1ea2f",
    "deepnote_to_be_reexecuted": false,
    "source_hash": "a7f9fb48",
    "execution_start": 1625157508004,
    "execution_millis": 70,
    "deepnote_cell_type": "code"
   },
   "source": "df = df[df[\"continent\"].notnull()].reset_index(drop=True)\ndf",
   "execution_count": null,
   "outputs": [
    {
     "output_type": "execute_result",
     "execution_count": 132,
     "data": {
      "application/vnd.deepnote.dataframe.v2+json": {
       "row_count": 170,
       "column_count": 6,
       "columns": [
        {
         "name": "country",
         "dtype": "object",
         "stats": {
          "unique_count": 170,
          "nan_count": 0,
          "categories": [
           {
            "name": "Afghanistan",
            "count": 1
           },
           {
            "name": "Albania",
            "count": 1
           },
           {
            "name": "168 others",
            "count": 168
           }
          ]
         }
        },
        {
         "name": "beer_servings",
         "dtype": "int64",
         "stats": {
          "unique_count": 116,
          "nan_count": 0,
          "min": "0",
          "max": "376",
          "histogram": [
           {
            "bin_start": 0,
            "bin_end": 37.6,
            "count": 71
           },
           {
            "bin_start": 37.6,
            "bin_end": 75.2,
            "count": 20
           },
           {
            "bin_start": 75.2,
            "bin_end": 112.80000000000001,
            "count": 19
           },
           {
            "bin_start": 112.80000000000001,
            "bin_end": 150.4,
            "count": 11
           },
           {
            "bin_start": 150.4,
            "bin_end": 188,
            "count": 9
           },
           {
            "bin_start": 188,
            "bin_end": 225.60000000000002,
            "count": 13
           },
           {
            "bin_start": 225.60000000000002,
            "bin_end": 263.2,
            "count": 11
           },
           {
            "bin_start": 263.2,
            "bin_end": 300.8,
            "count": 7
           },
           {
            "bin_start": 300.8,
            "bin_end": 338.40000000000003,
            "count": 3
           },
           {
            "bin_start": 338.40000000000003,
            "bin_end": 376,
            "count": 6
           }
          ]
         }
        },
        {
         "name": "spirit_servings",
         "dtype": "int64",
         "stats": {
          "unique_count": 97,
          "nan_count": 0,
          "min": "0",
          "max": "373",
          "histogram": [
           {
            "bin_start": 0,
            "bin_end": 37.3,
            "count": 85
           },
           {
            "bin_start": 37.3,
            "bin_end": 74.6,
            "count": 24
           },
           {
            "bin_start": 74.6,
            "bin_end": 111.89999999999999,
            "count": 16
           },
           {
            "bin_start": 111.89999999999999,
            "bin_end": 149.2,
            "count": 16
           },
           {
            "bin_start": 149.2,
            "bin_end": 186.5,
            "count": 10
           },
           {
            "bin_start": 186.5,
            "bin_end": 223.79999999999998,
            "count": 8
           },
           {
            "bin_start": 223.79999999999998,
            "bin_end": 261.09999999999997,
            "count": 7
           },
           {
            "bin_start": 261.09999999999997,
            "bin_end": 298.4,
            "count": 1
           },
           {
            "bin_start": 298.4,
            "bin_end": 335.7,
            "count": 2
           },
           {
            "bin_start": 335.7,
            "bin_end": 373,
            "count": 1
           }
          ]
         }
        },
        {
         "name": "wine_servings",
         "dtype": "int64",
         "stats": {
          "unique_count": 73,
          "nan_count": 0,
          "min": "0",
          "max": "370",
          "histogram": [
           {
            "bin_start": 0,
            "bin_end": 37,
            "count": 116
           },
           {
            "bin_start": 37,
            "bin_end": 74,
            "count": 11
           },
           {
            "bin_start": 74,
            "bin_end": 111,
            "count": 7
           },
           {
            "bin_start": 111,
            "bin_end": 148,
            "count": 10
           },
           {
            "bin_start": 148,
            "bin_end": 185,
            "count": 6
           },
           {
            "bin_start": 185,
            "bin_end": 222,
            "count": 10
           },
           {
            "bin_start": 222,
            "bin_end": 259,
            "count": 3
           },
           {
            "bin_start": 259,
            "bin_end": 296,
            "count": 4
           },
           {
            "bin_start": 296,
            "bin_end": 333,
            "count": 1
           },
           {
            "bin_start": 333,
            "bin_end": 370,
            "count": 2
           }
          ]
         }
        },
        {
         "name": "total_litres_of_pure_alcohol",
         "dtype": "float64",
         "stats": {
          "unique_count": 82,
          "nan_count": 0,
          "min": "0.0",
          "max": "14.4",
          "histogram": [
           {
            "bin_start": 0,
            "bin_end": 1.44,
            "count": 53
           },
           {
            "bin_start": 1.44,
            "bin_end": 2.88,
            "count": 28
           },
           {
            "bin_start": 2.88,
            "bin_end": 4.32,
            "count": 11
           },
           {
            "bin_start": 4.32,
            "bin_end": 5.76,
            "count": 12
           },
           {
            "bin_start": 5.76,
            "bin_end": 7.199999999999999,
            "count": 22
           },
           {
            "bin_start": 7.199999999999999,
            "bin_end": 8.64,
            "count": 10
           },
           {
            "bin_start": 8.64,
            "bin_end": 10.08,
            "count": 11
           },
           {
            "bin_start": 10.08,
            "bin_end": 11.52,
            "count": 18
           },
           {
            "bin_start": 11.52,
            "bin_end": 12.959999999999999,
            "count": 4
           },
           {
            "bin_start": 12.959999999999999,
            "bin_end": 14.4,
            "count": 1
           }
          ]
         }
        },
        {
         "name": "continent",
         "dtype": "object",
         "stats": {
          "unique_count": 5,
          "nan_count": 0,
          "categories": [
           {
            "name": "AF",
            "count": 53
           },
           {
            "name": "EU",
            "count": 45
           },
           {
            "name": "3 others",
            "count": 72
           }
          ]
         }
        },
        {
         "name": "_deepnote_index_column",
         "dtype": "int64"
        }
       ],
       "rows_top": [
        {
         "country": "Afghanistan",
         "beer_servings": 0,
         "spirit_servings": 0,
         "wine_servings": 0,
         "total_litres_of_pure_alcohol": 0,
         "continent": "AS",
         "_deepnote_index_column": 0
        },
        {
         "country": "Albania",
         "beer_servings": 89,
         "spirit_servings": 132,
         "wine_servings": 54,
         "total_litres_of_pure_alcohol": 4.9,
         "continent": "EU",
         "_deepnote_index_column": 1
        },
        {
         "country": "Algeria",
         "beer_servings": 25,
         "spirit_servings": 0,
         "wine_servings": 14,
         "total_litres_of_pure_alcohol": 0.7,
         "continent": "AF",
         "_deepnote_index_column": 2
        },
        {
         "country": "Andorra",
         "beer_servings": 245,
         "spirit_servings": 138,
         "wine_servings": 312,
         "total_litres_of_pure_alcohol": 12.4,
         "continent": "EU",
         "_deepnote_index_column": 3
        },
        {
         "country": "Angola",
         "beer_servings": 217,
         "spirit_servings": 57,
         "wine_servings": 45,
         "total_litres_of_pure_alcohol": 5.9,
         "continent": "AF",
         "_deepnote_index_column": 4
        },
        {
         "country": "Argentina",
         "beer_servings": 193,
         "spirit_servings": 25,
         "wine_servings": 221,
         "total_litres_of_pure_alcohol": 8.3,
         "continent": "SA",
         "_deepnote_index_column": 5
        },
        {
         "country": "Armenia",
         "beer_servings": 21,
         "spirit_servings": 179,
         "wine_servings": 11,
         "total_litres_of_pure_alcohol": 3.8,
         "continent": "EU",
         "_deepnote_index_column": 6
        },
        {
         "country": "Australia",
         "beer_servings": 261,
         "spirit_servings": 72,
         "wine_servings": 212,
         "total_litres_of_pure_alcohol": 10.4,
         "continent": "OC",
         "_deepnote_index_column": 7
        },
        {
         "country": "Austria",
         "beer_servings": 279,
         "spirit_servings": 75,
         "wine_servings": 191,
         "total_litres_of_pure_alcohol": 9.7,
         "continent": "EU",
         "_deepnote_index_column": 8
        },
        {
         "country": "Azerbaijan",
         "beer_servings": 21,
         "spirit_servings": 46,
         "wine_servings": 5,
         "total_litres_of_pure_alcohol": 1.3,
         "continent": "EU",
         "_deepnote_index_column": 9
        },
        {
         "country": "Bahrain",
         "beer_servings": 42,
         "spirit_servings": 63,
         "wine_servings": 7,
         "total_litres_of_pure_alcohol": 2,
         "continent": "AS",
         "_deepnote_index_column": 10
        },
        {
         "country": "Bangladesh",
         "beer_servings": 0,
         "spirit_servings": 0,
         "wine_servings": 0,
         "total_litres_of_pure_alcohol": 0,
         "continent": "AS",
         "_deepnote_index_column": 11
        },
        {
         "country": "Belarus",
         "beer_servings": 142,
         "spirit_servings": 373,
         "wine_servings": 42,
         "total_litres_of_pure_alcohol": 14.4,
         "continent": "EU",
         "_deepnote_index_column": 12
        },
        {
         "country": "Belgium",
         "beer_servings": 295,
         "spirit_servings": 84,
         "wine_servings": 212,
         "total_litres_of_pure_alcohol": 10.5,
         "continent": "EU",
         "_deepnote_index_column": 13
        },
        {
         "country": "Benin",
         "beer_servings": 34,
         "spirit_servings": 4,
         "wine_servings": 13,
         "total_litres_of_pure_alcohol": 1.1,
         "continent": "AF",
         "_deepnote_index_column": 14
        },
        {
         "country": "Bhutan",
         "beer_servings": 23,
         "spirit_servings": 0,
         "wine_servings": 0,
         "total_litres_of_pure_alcohol": 0.4,
         "continent": "AS",
         "_deepnote_index_column": 15
        },
        {
         "country": "Bolivia",
         "beer_servings": 167,
         "spirit_servings": 41,
         "wine_servings": 8,
         "total_litres_of_pure_alcohol": 3.8,
         "continent": "SA",
         "_deepnote_index_column": 16
        },
        {
         "country": "Bosnia-Herzegovina",
         "beer_servings": 76,
         "spirit_servings": 173,
         "wine_servings": 8,
         "total_litres_of_pure_alcohol": 4.6,
         "continent": "EU",
         "_deepnote_index_column": 17
        },
        {
         "country": "Botswana",
         "beer_servings": 173,
         "spirit_servings": 35,
         "wine_servings": 35,
         "total_litres_of_pure_alcohol": 5.4,
         "continent": "AF",
         "_deepnote_index_column": 18
        },
        {
         "country": "Brazil",
         "beer_servings": 245,
         "spirit_servings": 145,
         "wine_servings": 16,
         "total_litres_of_pure_alcohol": 7.2,
         "continent": "SA",
         "_deepnote_index_column": 19
        },
        {
         "country": "Brunei",
         "beer_servings": 31,
         "spirit_servings": 2,
         "wine_servings": 1,
         "total_litres_of_pure_alcohol": 0.6,
         "continent": "AS",
         "_deepnote_index_column": 20
        },
        {
         "country": "Bulgaria",
         "beer_servings": 231,
         "spirit_servings": 252,
         "wine_servings": 94,
         "total_litres_of_pure_alcohol": 10.3,
         "continent": "EU",
         "_deepnote_index_column": 21
        },
        {
         "country": "Burkina Faso",
         "beer_servings": 25,
         "spirit_servings": 7,
         "wine_servings": 7,
         "total_litres_of_pure_alcohol": 4.3,
         "continent": "AF",
         "_deepnote_index_column": 22
        },
        {
         "country": "Burundi",
         "beer_servings": 88,
         "spirit_servings": 0,
         "wine_servings": 0,
         "total_litres_of_pure_alcohol": 6.3,
         "continent": "AF",
         "_deepnote_index_column": 23
        },
        {
         "country": "Cote d'Ivoire",
         "beer_servings": 37,
         "spirit_servings": 1,
         "wine_servings": 7,
         "total_litres_of_pure_alcohol": 4,
         "continent": "AF",
         "_deepnote_index_column": 24
        },
        {
         "country": "Cabo Verde",
         "beer_servings": 144,
         "spirit_servings": 56,
         "wine_servings": 16,
         "total_litres_of_pure_alcohol": 4,
         "continent": "AF",
         "_deepnote_index_column": 25
        },
        {
         "country": "Cambodia",
         "beer_servings": 57,
         "spirit_servings": 65,
         "wine_servings": 1,
         "total_litres_of_pure_alcohol": 2.2,
         "continent": "AS",
         "_deepnote_index_column": 26
        },
        {
         "country": "Cameroon",
         "beer_servings": 147,
         "spirit_servings": 1,
         "wine_servings": 4,
         "total_litres_of_pure_alcohol": 5.8,
         "continent": "AF",
         "_deepnote_index_column": 27
        },
        {
         "country": "Central African Republic",
         "beer_servings": 17,
         "spirit_servings": 2,
         "wine_servings": 1,
         "total_litres_of_pure_alcohol": 1.8,
         "continent": "AF",
         "_deepnote_index_column": 28
        },
        {
         "country": "Chad",
         "beer_servings": 15,
         "spirit_servings": 1,
         "wine_servings": 1,
         "total_litres_of_pure_alcohol": 0.4,
         "continent": "AF",
         "_deepnote_index_column": 29
        },
        {
         "country": "Chile",
         "beer_servings": 130,
         "spirit_servings": 124,
         "wine_servings": 172,
         "total_litres_of_pure_alcohol": 7.6,
         "continent": "SA",
         "_deepnote_index_column": 30
        },
        {
         "country": "China",
         "beer_servings": 79,
         "spirit_servings": 192,
         "wine_servings": 8,
         "total_litres_of_pure_alcohol": 5,
         "continent": "AS",
         "_deepnote_index_column": 31
        },
        {
         "country": "Colombia",
         "beer_servings": 159,
         "spirit_servings": 76,
         "wine_servings": 3,
         "total_litres_of_pure_alcohol": 4.2,
         "continent": "SA",
         "_deepnote_index_column": 32
        },
        {
         "country": "Comoros",
         "beer_servings": 1,
         "spirit_servings": 3,
         "wine_servings": 1,
         "total_litres_of_pure_alcohol": 0.1,
         "continent": "AF",
         "_deepnote_index_column": 33
        },
        {
         "country": "Congo",
         "beer_servings": 76,
         "spirit_servings": 1,
         "wine_servings": 9,
         "total_litres_of_pure_alcohol": 1.7,
         "continent": "AF",
         "_deepnote_index_column": 34
        },
        {
         "country": "Cook Islands",
         "beer_servings": 0,
         "spirit_servings": 254,
         "wine_servings": 74,
         "total_litres_of_pure_alcohol": 5.9,
         "continent": "OC",
         "_deepnote_index_column": 35
        },
        {
         "country": "Croatia",
         "beer_servings": 230,
         "spirit_servings": 87,
         "wine_servings": 254,
         "total_litres_of_pure_alcohol": 10.2,
         "continent": "EU",
         "_deepnote_index_column": 36
        },
        {
         "country": "Cyprus",
         "beer_servings": 192,
         "spirit_servings": 154,
         "wine_servings": 113,
         "total_litres_of_pure_alcohol": 8.2,
         "continent": "EU",
         "_deepnote_index_column": 37
        },
        {
         "country": "Czech Republic",
         "beer_servings": 361,
         "spirit_servings": 170,
         "wine_servings": 134,
         "total_litres_of_pure_alcohol": 11.8,
         "continent": "EU",
         "_deepnote_index_column": 38
        },
        {
         "country": "North Korea",
         "beer_servings": 0,
         "spirit_servings": 0,
         "wine_servings": 0,
         "total_litres_of_pure_alcohol": 0,
         "continent": "AS",
         "_deepnote_index_column": 39
        },
        {
         "country": "DR Congo",
         "beer_servings": 32,
         "spirit_servings": 3,
         "wine_servings": 1,
         "total_litres_of_pure_alcohol": 2.3,
         "continent": "AF",
         "_deepnote_index_column": 40
        },
        {
         "country": "Denmark",
         "beer_servings": 224,
         "spirit_servings": 81,
         "wine_servings": 278,
         "total_litres_of_pure_alcohol": 10.4,
         "continent": "EU",
         "_deepnote_index_column": 41
        },
        {
         "country": "Djibouti",
         "beer_servings": 15,
         "spirit_servings": 44,
         "wine_servings": 3,
         "total_litres_of_pure_alcohol": 1.1,
         "continent": "AF",
         "_deepnote_index_column": 42
        },
        {
         "country": "Ecuador",
         "beer_servings": 162,
         "spirit_servings": 74,
         "wine_servings": 3,
         "total_litres_of_pure_alcohol": 4.2,
         "continent": "SA",
         "_deepnote_index_column": 43
        },
        {
         "country": "Egypt",
         "beer_servings": 6,
         "spirit_servings": 4,
         "wine_servings": 1,
         "total_litres_of_pure_alcohol": 0.2,
         "continent": "AF",
         "_deepnote_index_column": 44
        },
        {
         "country": "Equatorial Guinea",
         "beer_servings": 92,
         "spirit_servings": 0,
         "wine_servings": 233,
         "total_litres_of_pure_alcohol": 5.8,
         "continent": "AF",
         "_deepnote_index_column": 45
        },
        {
         "country": "Eritrea",
         "beer_servings": 18,
         "spirit_servings": 0,
         "wine_servings": 0,
         "total_litres_of_pure_alcohol": 0.5,
         "continent": "AF",
         "_deepnote_index_column": 46
        },
        {
         "country": "Estonia",
         "beer_servings": 224,
         "spirit_servings": 194,
         "wine_servings": 59,
         "total_litres_of_pure_alcohol": 9.5,
         "continent": "EU",
         "_deepnote_index_column": 47
        },
        {
         "country": "Ethiopia",
         "beer_servings": 20,
         "spirit_servings": 3,
         "wine_servings": 0,
         "total_litres_of_pure_alcohol": 0.7,
         "continent": "AF",
         "_deepnote_index_column": 48
        },
        {
         "country": "Fiji",
         "beer_servings": 77,
         "spirit_servings": 35,
         "wine_servings": 1,
         "total_litres_of_pure_alcohol": 2,
         "continent": "OC",
         "_deepnote_index_column": 49
        },
        {
         "country": "Finland",
         "beer_servings": 263,
         "spirit_servings": 133,
         "wine_servings": 97,
         "total_litres_of_pure_alcohol": 10,
         "continent": "EU",
         "_deepnote_index_column": 50
        },
        {
         "country": "France",
         "beer_servings": 127,
         "spirit_servings": 151,
         "wine_servings": 370,
         "total_litres_of_pure_alcohol": 11.8,
         "continent": "EU",
         "_deepnote_index_column": 51
        },
        {
         "country": "Gabon",
         "beer_servings": 347,
         "spirit_servings": 98,
         "wine_servings": 59,
         "total_litres_of_pure_alcohol": 8.9,
         "continent": "AF",
         "_deepnote_index_column": 52
        },
        {
         "country": "Gambia",
         "beer_servings": 8,
         "spirit_servings": 0,
         "wine_servings": 1,
         "total_litres_of_pure_alcohol": 2.4,
         "continent": "AF",
         "_deepnote_index_column": 53
        },
        {
         "country": "Georgia",
         "beer_servings": 52,
         "spirit_servings": 100,
         "wine_servings": 149,
         "total_litres_of_pure_alcohol": 5.4,
         "continent": "EU",
         "_deepnote_index_column": 54
        },
        {
         "country": "Germany",
         "beer_servings": 346,
         "spirit_servings": 117,
         "wine_servings": 175,
         "total_litres_of_pure_alcohol": 11.3,
         "continent": "EU",
         "_deepnote_index_column": 55
        },
        {
         "country": "Ghana",
         "beer_servings": 31,
         "spirit_servings": 3,
         "wine_servings": 10,
         "total_litres_of_pure_alcohol": 1.8,
         "continent": "AF",
         "_deepnote_index_column": 56
        },
        {
         "country": "Greece",
         "beer_servings": 133,
         "spirit_servings": 112,
         "wine_servings": 218,
         "total_litres_of_pure_alcohol": 8.3,
         "continent": "EU",
         "_deepnote_index_column": 57
        },
        {
         "country": "Guinea",
         "beer_servings": 9,
         "spirit_servings": 0,
         "wine_servings": 2,
         "total_litres_of_pure_alcohol": 0.2,
         "continent": "AF",
         "_deepnote_index_column": 58
        },
        {
         "country": "Guinea-Bissau",
         "beer_servings": 28,
         "spirit_servings": 31,
         "wine_servings": 21,
         "total_litres_of_pure_alcohol": 2.5,
         "continent": "AF",
         "_deepnote_index_column": 59
        },
        {
         "country": "Guyana",
         "beer_servings": 93,
         "spirit_servings": 302,
         "wine_servings": 1,
         "total_litres_of_pure_alcohol": 7.1,
         "continent": "SA",
         "_deepnote_index_column": 60
        },
        {
         "country": "Hungary",
         "beer_servings": 234,
         "spirit_servings": 215,
         "wine_servings": 185,
         "total_litres_of_pure_alcohol": 11.3,
         "continent": "EU",
         "_deepnote_index_column": 61
        },
        {
         "country": "Iceland",
         "beer_servings": 233,
         "spirit_servings": 61,
         "wine_servings": 78,
         "total_litres_of_pure_alcohol": 6.6,
         "continent": "EU",
         "_deepnote_index_column": 62
        },
        {
         "country": "India",
         "beer_servings": 9,
         "spirit_servings": 114,
         "wine_servings": 0,
         "total_litres_of_pure_alcohol": 2.2,
         "continent": "AS",
         "_deepnote_index_column": 63
        },
        {
         "country": "Indonesia",
         "beer_servings": 5,
         "spirit_servings": 1,
         "wine_servings": 0,
         "total_litres_of_pure_alcohol": 0.1,
         "continent": "AS",
         "_deepnote_index_column": 64
        },
        {
         "country": "Iran",
         "beer_servings": 0,
         "spirit_servings": 0,
         "wine_servings": 0,
         "total_litres_of_pure_alcohol": 0,
         "continent": "AS",
         "_deepnote_index_column": 65
        },
        {
         "country": "Iraq",
         "beer_servings": 9,
         "spirit_servings": 3,
         "wine_servings": 0,
         "total_litres_of_pure_alcohol": 0.2,
         "continent": "AS",
         "_deepnote_index_column": 66
        },
        {
         "country": "Ireland",
         "beer_servings": 313,
         "spirit_servings": 118,
         "wine_servings": 165,
         "total_litres_of_pure_alcohol": 11.4,
         "continent": "EU",
         "_deepnote_index_column": 67
        },
        {
         "country": "Israel",
         "beer_servings": 63,
         "spirit_servings": 69,
         "wine_servings": 9,
         "total_litres_of_pure_alcohol": 2.5,
         "continent": "AS",
         "_deepnote_index_column": 68
        },
        {
         "country": "Italy",
         "beer_servings": 85,
         "spirit_servings": 42,
         "wine_servings": 237,
         "total_litres_of_pure_alcohol": 6.5,
         "continent": "EU",
         "_deepnote_index_column": 69
        },
        {
         "country": "Japan",
         "beer_servings": 77,
         "spirit_servings": 202,
         "wine_servings": 16,
         "total_litres_of_pure_alcohol": 7,
         "continent": "AS",
         "_deepnote_index_column": 70
        },
        {
         "country": "Jordan",
         "beer_servings": 6,
         "spirit_servings": 21,
         "wine_servings": 1,
         "total_litres_of_pure_alcohol": 0.5,
         "continent": "AS",
         "_deepnote_index_column": 71
        },
        {
         "country": "Kazakhstan",
         "beer_servings": 124,
         "spirit_servings": 246,
         "wine_servings": 12,
         "total_litres_of_pure_alcohol": 6.8,
         "continent": "AS",
         "_deepnote_index_column": 72
        },
        {
         "country": "Kenya",
         "beer_servings": 58,
         "spirit_servings": 22,
         "wine_servings": 2,
         "total_litres_of_pure_alcohol": 1.8,
         "continent": "AF",
         "_deepnote_index_column": 73
        },
        {
         "country": "Kiribati",
         "beer_servings": 21,
         "spirit_servings": 34,
         "wine_servings": 1,
         "total_litres_of_pure_alcohol": 1,
         "continent": "OC",
         "_deepnote_index_column": 74
        },
        {
         "country": "Kuwait",
         "beer_servings": 0,
         "spirit_servings": 0,
         "wine_servings": 0,
         "total_litres_of_pure_alcohol": 0,
         "continent": "AS",
         "_deepnote_index_column": 75
        },
        {
         "country": "Kyrgyzstan",
         "beer_servings": 31,
         "spirit_servings": 97,
         "wine_servings": 6,
         "total_litres_of_pure_alcohol": 2.4,
         "continent": "AS",
         "_deepnote_index_column": 76
        },
        {
         "country": "Laos",
         "beer_servings": 62,
         "spirit_servings": 0,
         "wine_servings": 123,
         "total_litres_of_pure_alcohol": 6.2,
         "continent": "AS",
         "_deepnote_index_column": 77
        },
        {
         "country": "Latvia",
         "beer_servings": 281,
         "spirit_servings": 216,
         "wine_servings": 62,
         "total_litres_of_pure_alcohol": 10.5,
         "continent": "EU",
         "_deepnote_index_column": 78
        },
        {
         "country": "Lebanon",
         "beer_servings": 20,
         "spirit_servings": 55,
         "wine_servings": 31,
         "total_litres_of_pure_alcohol": 1.9,
         "continent": "AS",
         "_deepnote_index_column": 79
        },
        {
         "country": "Lesotho",
         "beer_servings": 82,
         "spirit_servings": 29,
         "wine_servings": 0,
         "total_litres_of_pure_alcohol": 2.8,
         "continent": "AF",
         "_deepnote_index_column": 80
        },
        {
         "country": "Liberia",
         "beer_servings": 19,
         "spirit_servings": 152,
         "wine_servings": 2,
         "total_litres_of_pure_alcohol": 3.1,
         "continent": "AF",
         "_deepnote_index_column": 81
        },
        {
         "country": "Libya",
         "beer_servings": 0,
         "spirit_servings": 0,
         "wine_servings": 0,
         "total_litres_of_pure_alcohol": 0,
         "continent": "AF",
         "_deepnote_index_column": 82
        }
       ],
       "rows_bottom": [
        {
         "country": "Malaysia",
         "beer_servings": 13,
         "spirit_servings": 4,
         "wine_servings": 0,
         "total_litres_of_pure_alcohol": 0.3,
         "continent": "AS",
         "_deepnote_index_column": 87
        },
        {
         "country": "Maldives",
         "beer_servings": 0,
         "spirit_servings": 0,
         "wine_servings": 0,
         "total_litres_of_pure_alcohol": 0,
         "continent": "AS",
         "_deepnote_index_column": 88
        },
        {
         "country": "Mali",
         "beer_servings": 5,
         "spirit_servings": 1,
         "wine_servings": 1,
         "total_litres_of_pure_alcohol": 0.6,
         "continent": "AF",
         "_deepnote_index_column": 89
        },
        {
         "country": "Malta",
         "beer_servings": 149,
         "spirit_servings": 100,
         "wine_servings": 120,
         "total_litres_of_pure_alcohol": 6.6,
         "continent": "EU",
         "_deepnote_index_column": 90
        },
        {
         "country": "Marshall Islands",
         "beer_servings": 0,
         "spirit_servings": 0,
         "wine_servings": 0,
         "total_litres_of_pure_alcohol": 0,
         "continent": "OC",
         "_deepnote_index_column": 91
        },
        {
         "country": "Mauritania",
         "beer_servings": 0,
         "spirit_servings": 0,
         "wine_servings": 0,
         "total_litres_of_pure_alcohol": 0,
         "continent": "AF",
         "_deepnote_index_column": 92
        },
        {
         "country": "Mauritius",
         "beer_servings": 98,
         "spirit_servings": 31,
         "wine_servings": 18,
         "total_litres_of_pure_alcohol": 2.6,
         "continent": "AF",
         "_deepnote_index_column": 93
        },
        {
         "country": "Micronesia",
         "beer_servings": 62,
         "spirit_servings": 50,
         "wine_servings": 18,
         "total_litres_of_pure_alcohol": 2.3,
         "continent": "OC",
         "_deepnote_index_column": 94
        },
        {
         "country": "Monaco",
         "beer_servings": 0,
         "spirit_servings": 0,
         "wine_servings": 0,
         "total_litres_of_pure_alcohol": 0,
         "continent": "EU",
         "_deepnote_index_column": 95
        },
        {
         "country": "Mongolia",
         "beer_servings": 77,
         "spirit_servings": 189,
         "wine_servings": 8,
         "total_litres_of_pure_alcohol": 4.9,
         "continent": "AS",
         "_deepnote_index_column": 96
        },
        {
         "country": "Montenegro",
         "beer_servings": 31,
         "spirit_servings": 114,
         "wine_servings": 128,
         "total_litres_of_pure_alcohol": 4.9,
         "continent": "EU",
         "_deepnote_index_column": 97
        },
        {
         "country": "Morocco",
         "beer_servings": 12,
         "spirit_servings": 6,
         "wine_servings": 10,
         "total_litres_of_pure_alcohol": 0.5,
         "continent": "AF",
         "_deepnote_index_column": 98
        },
        {
         "country": "Mozambique",
         "beer_servings": 47,
         "spirit_servings": 18,
         "wine_servings": 5,
         "total_litres_of_pure_alcohol": 1.3,
         "continent": "AF",
         "_deepnote_index_column": 99
        },
        {
         "country": "Myanmar",
         "beer_servings": 5,
         "spirit_servings": 1,
         "wine_servings": 0,
         "total_litres_of_pure_alcohol": 0.1,
         "continent": "AS",
         "_deepnote_index_column": 100
        },
        {
         "country": "Namibia",
         "beer_servings": 376,
         "spirit_servings": 3,
         "wine_servings": 1,
         "total_litres_of_pure_alcohol": 6.8,
         "continent": "AF",
         "_deepnote_index_column": 101
        },
        {
         "country": "Nauru",
         "beer_servings": 49,
         "spirit_servings": 0,
         "wine_servings": 8,
         "total_litres_of_pure_alcohol": 1,
         "continent": "OC",
         "_deepnote_index_column": 102
        },
        {
         "country": "Nepal",
         "beer_servings": 5,
         "spirit_servings": 6,
         "wine_servings": 0,
         "total_litres_of_pure_alcohol": 0.2,
         "continent": "AS",
         "_deepnote_index_column": 103
        },
        {
         "country": "Netherlands",
         "beer_servings": 251,
         "spirit_servings": 88,
         "wine_servings": 190,
         "total_litres_of_pure_alcohol": 9.4,
         "continent": "EU",
         "_deepnote_index_column": 104
        },
        {
         "country": "New Zealand",
         "beer_servings": 203,
         "spirit_servings": 79,
         "wine_servings": 175,
         "total_litres_of_pure_alcohol": 9.3,
         "continent": "OC",
         "_deepnote_index_column": 105
        },
        {
         "country": "Niger",
         "beer_servings": 3,
         "spirit_servings": 2,
         "wine_servings": 1,
         "total_litres_of_pure_alcohol": 0.1,
         "continent": "AF",
         "_deepnote_index_column": 106
        },
        {
         "country": "Nigeria",
         "beer_servings": 42,
         "spirit_servings": 5,
         "wine_servings": 2,
         "total_litres_of_pure_alcohol": 9.1,
         "continent": "AF",
         "_deepnote_index_column": 107
        },
        {
         "country": "Niue",
         "beer_servings": 188,
         "spirit_servings": 200,
         "wine_servings": 7,
         "total_litres_of_pure_alcohol": 7,
         "continent": "OC",
         "_deepnote_index_column": 108
        },
        {
         "country": "Norway",
         "beer_servings": 169,
         "spirit_servings": 71,
         "wine_servings": 129,
         "total_litres_of_pure_alcohol": 6.7,
         "continent": "EU",
         "_deepnote_index_column": 109
        },
        {
         "country": "Oman",
         "beer_servings": 22,
         "spirit_servings": 16,
         "wine_servings": 1,
         "total_litres_of_pure_alcohol": 0.7,
         "continent": "AS",
         "_deepnote_index_column": 110
        },
        {
         "country": "Pakistan",
         "beer_servings": 0,
         "spirit_servings": 0,
         "wine_servings": 0,
         "total_litres_of_pure_alcohol": 0,
         "continent": "AS",
         "_deepnote_index_column": 111
        },
        {
         "country": "Palau",
         "beer_servings": 306,
         "spirit_servings": 63,
         "wine_servings": 23,
         "total_litres_of_pure_alcohol": 6.9,
         "continent": "OC",
         "_deepnote_index_column": 112
        },
        {
         "country": "Papua New Guinea",
         "beer_servings": 44,
         "spirit_servings": 39,
         "wine_servings": 1,
         "total_litres_of_pure_alcohol": 1.5,
         "continent": "OC",
         "_deepnote_index_column": 113
        },
        {
         "country": "Paraguay",
         "beer_servings": 213,
         "spirit_servings": 117,
         "wine_servings": 74,
         "total_litres_of_pure_alcohol": 7.3,
         "continent": "SA",
         "_deepnote_index_column": 114
        },
        {
         "country": "Peru",
         "beer_servings": 163,
         "spirit_servings": 160,
         "wine_servings": 21,
         "total_litres_of_pure_alcohol": 6.1,
         "continent": "SA",
         "_deepnote_index_column": 115
        },
        {
         "country": "Philippines",
         "beer_servings": 71,
         "spirit_servings": 186,
         "wine_servings": 1,
         "total_litres_of_pure_alcohol": 4.6,
         "continent": "AS",
         "_deepnote_index_column": 116
        },
        {
         "country": "Poland",
         "beer_servings": 343,
         "spirit_servings": 215,
         "wine_servings": 56,
         "total_litres_of_pure_alcohol": 10.9,
         "continent": "EU",
         "_deepnote_index_column": 117
        },
        {
         "country": "Portugal",
         "beer_servings": 194,
         "spirit_servings": 67,
         "wine_servings": 339,
         "total_litres_of_pure_alcohol": 11,
         "continent": "EU",
         "_deepnote_index_column": 118
        },
        {
         "country": "Qatar",
         "beer_servings": 1,
         "spirit_servings": 42,
         "wine_servings": 7,
         "total_litres_of_pure_alcohol": 0.9,
         "continent": "AS",
         "_deepnote_index_column": 119
        },
        {
         "country": "South Korea",
         "beer_servings": 140,
         "spirit_servings": 16,
         "wine_servings": 9,
         "total_litres_of_pure_alcohol": 9.8,
         "continent": "AS",
         "_deepnote_index_column": 120
        },
        {
         "country": "Moldova",
         "beer_servings": 109,
         "spirit_servings": 226,
         "wine_servings": 18,
         "total_litres_of_pure_alcohol": 6.3,
         "continent": "EU",
         "_deepnote_index_column": 121
        },
        {
         "country": "Romania",
         "beer_servings": 297,
         "spirit_servings": 122,
         "wine_servings": 167,
         "total_litres_of_pure_alcohol": 10.4,
         "continent": "EU",
         "_deepnote_index_column": 122
        },
        {
         "country": "Russian Federation",
         "beer_servings": 247,
         "spirit_servings": 326,
         "wine_servings": 73,
         "total_litres_of_pure_alcohol": 11.5,
         "continent": "AS",
         "_deepnote_index_column": 123
        },
        {
         "country": "Rwanda",
         "beer_servings": 43,
         "spirit_servings": 2,
         "wine_servings": 0,
         "total_litres_of_pure_alcohol": 6.8,
         "continent": "AF",
         "_deepnote_index_column": 124
        },
        {
         "country": "Samoa",
         "beer_servings": 105,
         "spirit_servings": 18,
         "wine_servings": 24,
         "total_litres_of_pure_alcohol": 2.6,
         "continent": "OC",
         "_deepnote_index_column": 125
        },
        {
         "country": "San Marino",
         "beer_servings": 0,
         "spirit_servings": 0,
         "wine_servings": 0,
         "total_litres_of_pure_alcohol": 0,
         "continent": "EU",
         "_deepnote_index_column": 126
        },
        {
         "country": "Sao Tome & Principe",
         "beer_servings": 56,
         "spirit_servings": 38,
         "wine_servings": 140,
         "total_litres_of_pure_alcohol": 4.2,
         "continent": "AF",
         "_deepnote_index_column": 127
        },
        {
         "country": "Saudi Arabia",
         "beer_servings": 0,
         "spirit_servings": 5,
         "wine_servings": 0,
         "total_litres_of_pure_alcohol": 0.1,
         "continent": "AS",
         "_deepnote_index_column": 128
        },
        {
         "country": "Senegal",
         "beer_servings": 9,
         "spirit_servings": 1,
         "wine_servings": 7,
         "total_litres_of_pure_alcohol": 0.3,
         "continent": "AF",
         "_deepnote_index_column": 129
        },
        {
         "country": "Serbia",
         "beer_servings": 283,
         "spirit_servings": 131,
         "wine_servings": 127,
         "total_litres_of_pure_alcohol": 9.6,
         "continent": "EU",
         "_deepnote_index_column": 130
        },
        {
         "country": "Seychelles",
         "beer_servings": 157,
         "spirit_servings": 25,
         "wine_servings": 51,
         "total_litres_of_pure_alcohol": 4.1,
         "continent": "AF",
         "_deepnote_index_column": 131
        },
        {
         "country": "Sierra Leone",
         "beer_servings": 25,
         "spirit_servings": 3,
         "wine_servings": 2,
         "total_litres_of_pure_alcohol": 6.7,
         "continent": "AF",
         "_deepnote_index_column": 132
        },
        {
         "country": "Singapore",
         "beer_servings": 60,
         "spirit_servings": 12,
         "wine_servings": 11,
         "total_litres_of_pure_alcohol": 1.5,
         "continent": "AS",
         "_deepnote_index_column": 133
        },
        {
         "country": "Slovakia",
         "beer_servings": 196,
         "spirit_servings": 293,
         "wine_servings": 116,
         "total_litres_of_pure_alcohol": 11.4,
         "continent": "EU",
         "_deepnote_index_column": 134
        },
        {
         "country": "Slovenia",
         "beer_servings": 270,
         "spirit_servings": 51,
         "wine_servings": 276,
         "total_litres_of_pure_alcohol": 10.6,
         "continent": "EU",
         "_deepnote_index_column": 135
        },
        {
         "country": "Solomon Islands",
         "beer_servings": 56,
         "spirit_servings": 11,
         "wine_servings": 1,
         "total_litres_of_pure_alcohol": 1.2,
         "continent": "OC",
         "_deepnote_index_column": 136
        },
        {
         "country": "Somalia",
         "beer_servings": 0,
         "spirit_servings": 0,
         "wine_servings": 0,
         "total_litres_of_pure_alcohol": 0,
         "continent": "AF",
         "_deepnote_index_column": 137
        },
        {
         "country": "South Africa",
         "beer_servings": 225,
         "spirit_servings": 76,
         "wine_servings": 81,
         "total_litres_of_pure_alcohol": 8.2,
         "continent": "AF",
         "_deepnote_index_column": 138
        },
        {
         "country": "Spain",
         "beer_servings": 284,
         "spirit_servings": 157,
         "wine_servings": 112,
         "total_litres_of_pure_alcohol": 10,
         "continent": "EU",
         "_deepnote_index_column": 139
        },
        {
         "country": "Sri Lanka",
         "beer_servings": 16,
         "spirit_servings": 104,
         "wine_servings": 0,
         "total_litres_of_pure_alcohol": 2.2,
         "continent": "AS",
         "_deepnote_index_column": 140
        },
        {
         "country": "Sudan",
         "beer_servings": 8,
         "spirit_servings": 13,
         "wine_servings": 0,
         "total_litres_of_pure_alcohol": 1.7,
         "continent": "AF",
         "_deepnote_index_column": 141
        },
        {
         "country": "Suriname",
         "beer_servings": 128,
         "spirit_servings": 178,
         "wine_servings": 7,
         "total_litres_of_pure_alcohol": 5.6,
         "continent": "SA",
         "_deepnote_index_column": 142
        },
        {
         "country": "Swaziland",
         "beer_servings": 90,
         "spirit_servings": 2,
         "wine_servings": 2,
         "total_litres_of_pure_alcohol": 4.7,
         "continent": "AF",
         "_deepnote_index_column": 143
        },
        {
         "country": "Sweden",
         "beer_servings": 152,
         "spirit_servings": 60,
         "wine_servings": 186,
         "total_litres_of_pure_alcohol": 7.2,
         "continent": "EU",
         "_deepnote_index_column": 144
        },
        {
         "country": "Switzerland",
         "beer_servings": 185,
         "spirit_servings": 100,
         "wine_servings": 280,
         "total_litres_of_pure_alcohol": 10.2,
         "continent": "EU",
         "_deepnote_index_column": 145
        },
        {
         "country": "Syria",
         "beer_servings": 5,
         "spirit_servings": 35,
         "wine_servings": 16,
         "total_litres_of_pure_alcohol": 1,
         "continent": "AS",
         "_deepnote_index_column": 146
        },
        {
         "country": "Tajikistan",
         "beer_servings": 2,
         "spirit_servings": 15,
         "wine_servings": 0,
         "total_litres_of_pure_alcohol": 0.3,
         "continent": "AS",
         "_deepnote_index_column": 147
        },
        {
         "country": "Thailand",
         "beer_servings": 99,
         "spirit_servings": 258,
         "wine_servings": 1,
         "total_litres_of_pure_alcohol": 6.4,
         "continent": "AS",
         "_deepnote_index_column": 148
        },
        {
         "country": "Macedonia",
         "beer_servings": 106,
         "spirit_servings": 27,
         "wine_servings": 86,
         "total_litres_of_pure_alcohol": 3.9,
         "continent": "EU",
         "_deepnote_index_column": 149
        },
        {
         "country": "Timor-Leste",
         "beer_servings": 1,
         "spirit_servings": 1,
         "wine_servings": 4,
         "total_litres_of_pure_alcohol": 0.1,
         "continent": "AS",
         "_deepnote_index_column": 150
        },
        {
         "country": "Togo",
         "beer_servings": 36,
         "spirit_servings": 2,
         "wine_servings": 19,
         "total_litres_of_pure_alcohol": 1.3,
         "continent": "AF",
         "_deepnote_index_column": 151
        },
        {
         "country": "Tonga",
         "beer_servings": 36,
         "spirit_servings": 21,
         "wine_servings": 5,
         "total_litres_of_pure_alcohol": 1.1,
         "continent": "OC",
         "_deepnote_index_column": 152
        },
        {
         "country": "Tunisia",
         "beer_servings": 51,
         "spirit_servings": 3,
         "wine_servings": 20,
         "total_litres_of_pure_alcohol": 1.3,
         "continent": "AF",
         "_deepnote_index_column": 153
        },
        {
         "country": "Turkey",
         "beer_servings": 51,
         "spirit_servings": 22,
         "wine_servings": 7,
         "total_litres_of_pure_alcohol": 1.4,
         "continent": "AS",
         "_deepnote_index_column": 154
        },
        {
         "country": "Turkmenistan",
         "beer_servings": 19,
         "spirit_servings": 71,
         "wine_servings": 32,
         "total_litres_of_pure_alcohol": 2.2,
         "continent": "AS",
         "_deepnote_index_column": 155
        },
        {
         "country": "Tuvalu",
         "beer_servings": 6,
         "spirit_servings": 41,
         "wine_servings": 9,
         "total_litres_of_pure_alcohol": 1,
         "continent": "OC",
         "_deepnote_index_column": 156
        },
        {
         "country": "Uganda",
         "beer_servings": 45,
         "spirit_servings": 9,
         "wine_servings": 0,
         "total_litres_of_pure_alcohol": 8.3,
         "continent": "AF",
         "_deepnote_index_column": 157
        },
        {
         "country": "Ukraine",
         "beer_servings": 206,
         "spirit_servings": 237,
         "wine_servings": 45,
         "total_litres_of_pure_alcohol": 8.9,
         "continent": "EU",
         "_deepnote_index_column": 158
        },
        {
         "country": "United Arab Emirates",
         "beer_servings": 16,
         "spirit_servings": 135,
         "wine_servings": 5,
         "total_litres_of_pure_alcohol": 2.8,
         "continent": "AS",
         "_deepnote_index_column": 159
        },
        {
         "country": "United Kingdom",
         "beer_servings": 219,
         "spirit_servings": 126,
         "wine_servings": 195,
         "total_litres_of_pure_alcohol": 10.4,
         "continent": "EU",
         "_deepnote_index_column": 160
        },
        {
         "country": "Tanzania",
         "beer_servings": 36,
         "spirit_servings": 6,
         "wine_servings": 1,
         "total_litres_of_pure_alcohol": 5.7,
         "continent": "AF",
         "_deepnote_index_column": 161
        },
        {
         "country": "Uruguay",
         "beer_servings": 115,
         "spirit_servings": 35,
         "wine_servings": 220,
         "total_litres_of_pure_alcohol": 6.6,
         "continent": "SA",
         "_deepnote_index_column": 162
        },
        {
         "country": "Uzbekistan",
         "beer_servings": 25,
         "spirit_servings": 101,
         "wine_servings": 8,
         "total_litres_of_pure_alcohol": 2.4,
         "continent": "AS",
         "_deepnote_index_column": 163
        },
        {
         "country": "Vanuatu",
         "beer_servings": 21,
         "spirit_servings": 18,
         "wine_servings": 11,
         "total_litres_of_pure_alcohol": 0.9,
         "continent": "OC",
         "_deepnote_index_column": 164
        },
        {
         "country": "Venezuela",
         "beer_servings": 333,
         "spirit_servings": 100,
         "wine_servings": 3,
         "total_litres_of_pure_alcohol": 7.7,
         "continent": "SA",
         "_deepnote_index_column": 165
        },
        {
         "country": "Vietnam",
         "beer_servings": 111,
         "spirit_servings": 2,
         "wine_servings": 1,
         "total_litres_of_pure_alcohol": 2,
         "continent": "AS",
         "_deepnote_index_column": 166
        },
        {
         "country": "Yemen",
         "beer_servings": 6,
         "spirit_servings": 0,
         "wine_servings": 0,
         "total_litres_of_pure_alcohol": 0.1,
         "continent": "AS",
         "_deepnote_index_column": 167
        },
        {
         "country": "Zambia",
         "beer_servings": 32,
         "spirit_servings": 19,
         "wine_servings": 4,
         "total_litres_of_pure_alcohol": 2.5,
         "continent": "AF",
         "_deepnote_index_column": 168
        },
        {
         "country": "Zimbabwe",
         "beer_servings": 64,
         "spirit_servings": 18,
         "wine_servings": 4,
         "total_litres_of_pure_alcohol": 4.7,
         "continent": "AF",
         "_deepnote_index_column": 169
        }
       ]
      },
      "text/plain": "         country  beer_servings  spirit_servings  wine_servings  \\\n0    Afghanistan              0                0              0   \n1        Albania             89              132             54   \n2        Algeria             25                0             14   \n3        Andorra            245              138            312   \n4         Angola            217               57             45   \n..           ...            ...              ...            ...   \n165    Venezuela            333              100              3   \n166      Vietnam            111                2              1   \n167        Yemen              6                0              0   \n168       Zambia             32               19              4   \n169     Zimbabwe             64               18              4   \n\n     total_litres_of_pure_alcohol continent  \n0                             0.0        AS  \n1                             4.9        EU  \n2                             0.7        AF  \n3                            12.4        EU  \n4                             5.9        AF  \n..                            ...       ...  \n165                           7.7        SA  \n166                           2.0        AS  \n167                           0.1        AS  \n168                           2.5        AF  \n169                           4.7        AF  \n\n[170 rows x 6 columns]",
      "text/html": "<div>\n<style scoped>\n    .dataframe tbody tr th:only-of-type {\n        vertical-align: middle;\n    }\n\n    .dataframe tbody tr th {\n        vertical-align: top;\n    }\n\n    .dataframe thead th {\n        text-align: right;\n    }\n</style>\n<table border=\"1\" class=\"dataframe\">\n  <thead>\n    <tr style=\"text-align: right;\">\n      <th></th>\n      <th>country</th>\n      <th>beer_servings</th>\n      <th>spirit_servings</th>\n      <th>wine_servings</th>\n      <th>total_litres_of_pure_alcohol</th>\n      <th>continent</th>\n    </tr>\n  </thead>\n  <tbody>\n    <tr>\n      <th>0</th>\n      <td>Afghanistan</td>\n      <td>0</td>\n      <td>0</td>\n      <td>0</td>\n      <td>0.0</td>\n      <td>AS</td>\n    </tr>\n    <tr>\n      <th>1</th>\n      <td>Albania</td>\n      <td>89</td>\n      <td>132</td>\n      <td>54</td>\n      <td>4.9</td>\n      <td>EU</td>\n    </tr>\n    <tr>\n      <th>2</th>\n      <td>Algeria</td>\n      <td>25</td>\n      <td>0</td>\n      <td>14</td>\n      <td>0.7</td>\n      <td>AF</td>\n    </tr>\n    <tr>\n      <th>3</th>\n      <td>Andorra</td>\n      <td>245</td>\n      <td>138</td>\n      <td>312</td>\n      <td>12.4</td>\n      <td>EU</td>\n    </tr>\n    <tr>\n      <th>4</th>\n      <td>Angola</td>\n      <td>217</td>\n      <td>57</td>\n      <td>45</td>\n      <td>5.9</td>\n      <td>AF</td>\n    </tr>\n    <tr>\n      <th>...</th>\n      <td>...</td>\n      <td>...</td>\n      <td>...</td>\n      <td>...</td>\n      <td>...</td>\n      <td>...</td>\n    </tr>\n    <tr>\n      <th>165</th>\n      <td>Venezuela</td>\n      <td>333</td>\n      <td>100</td>\n      <td>3</td>\n      <td>7.7</td>\n      <td>SA</td>\n    </tr>\n    <tr>\n      <th>166</th>\n      <td>Vietnam</td>\n      <td>111</td>\n      <td>2</td>\n      <td>1</td>\n      <td>2.0</td>\n      <td>AS</td>\n    </tr>\n    <tr>\n      <th>167</th>\n      <td>Yemen</td>\n      <td>6</td>\n      <td>0</td>\n      <td>0</td>\n      <td>0.1</td>\n      <td>AS</td>\n    </tr>\n    <tr>\n      <th>168</th>\n      <td>Zambia</td>\n      <td>32</td>\n      <td>19</td>\n      <td>4</td>\n      <td>2.5</td>\n      <td>AF</td>\n    </tr>\n    <tr>\n      <th>169</th>\n      <td>Zimbabwe</td>\n      <td>64</td>\n      <td>18</td>\n      <td>4</td>\n      <td>4.7</td>\n      <td>AF</td>\n    </tr>\n  </tbody>\n</table>\n<p>170 rows × 6 columns</p>\n</div>"
     },
     "metadata": {}
    }
   ]
  },
  {
   "cell_type": "code",
   "metadata": {
    "tags": [],
    "cell_id": "00011-9a0f73d4-706c-4886-9605-0cda02dac883",
    "deepnote_to_be_reexecuted": false,
    "source_hash": "2897ed3d",
    "execution_start": 1625157666899,
    "execution_millis": 10,
    "deepnote_cell_type": "code"
   },
   "source": "print(round(df_null.sum()[\"beer_servings\"] / df.sum()[\"beer_servings\"],3)*100)\nprint(round(df_null.sum()[\"spirit_servings\"] / df.sum()[\"spirit_servings\"],3)*100)\nprint(round(df_null.sum()[\"wine_servings\"] / df.sum()[\"wine_servings\"],3)*100)\nprint(round(df_null.sum()[\"total_litres_of_pure_alcohol\"] / df.sum()[\"total_litres_of_pure_alcohol\"],3)*100)",
   "execution_count": null,
   "outputs": [
    {
     "name": "stdout",
     "text": "19.5\n32.300000000000004\n6.3\n17.9\n",
     "output_type": "stream"
    }
   ]
  },
  {
   "cell_type": "code",
   "metadata": {
    "tags": [],
    "cell_id": "00010-80304dbe-3cfe-4d78-a7f1-61982f349bec",
    "deepnote_to_be_reexecuted": false,
    "source_hash": "bb8327c8",
    "execution_start": 1625157882365,
    "execution_millis": 11,
    "deepnote_cell_type": "code"
   },
   "source": "df[[\"beer_servings\", \"continent\"]].groupby(\"continent\").sum()11",
   "execution_count": null,
   "outputs": [
    {
     "output_type": "execute_result",
     "execution_count": 154,
     "data": {
      "application/vnd.deepnote.dataframe.v2+json": {
       "row_count": 5,
       "column_count": 1,
       "columns": [
        {
         "name": "beer_servings",
         "dtype": "int64",
         "stats": {
          "unique_count": 5,
          "nan_count": 0,
          "min": "1435",
          "max": "8720",
          "histogram": [
           {
            "bin_start": 1435,
            "bin_end": 2163.5,
            "count": 3
           },
           {
            "bin_start": 2163.5,
            "bin_end": 2892,
            "count": 0
           },
           {
            "bin_start": 2892,
            "bin_end": 3620.5,
            "count": 1
           },
           {
            "bin_start": 3620.5,
            "bin_end": 4349,
            "count": 0
           },
           {
            "bin_start": 4349,
            "bin_end": 5077.5,
            "count": 0
           },
           {
            "bin_start": 5077.5,
            "bin_end": 5806,
            "count": 0
           },
           {
            "bin_start": 5806,
            "bin_end": 6534.5,
            "count": 0
           },
           {
            "bin_start": 6534.5,
            "bin_end": 7263,
            "count": 0
           },
           {
            "bin_start": 7263,
            "bin_end": 7991.5,
            "count": 0
           },
           {
            "bin_start": 7991.5,
            "bin_end": 8720,
            "count": 1
           }
          ]
         }
        },
        {
         "name": "_deepnote_index_column",
         "dtype": "object"
        }
       ],
       "rows_top": [
        {
         "beer_servings": 3258,
         "_deepnote_index_column": "AF"
        },
        {
         "beer_servings": 1630,
         "_deepnote_index_column": "AS"
        },
        {
         "beer_servings": 8720,
         "_deepnote_index_column": "EU"
        },
        {
         "beer_servings": 1435,
         "_deepnote_index_column": "OC"
        },
        {
         "beer_servings": 2101,
         "_deepnote_index_column": "SA"
        }
       ],
       "rows_bottom": null
      },
      "text/plain": "           beer_servings\ncontinent               \nAF                  3258\nAS                  1630\nEU                  8720\nOC                  1435\nSA                  2101",
      "text/html": "<div>\n<style scoped>\n    .dataframe tbody tr th:only-of-type {\n        vertical-align: middle;\n    }\n\n    .dataframe tbody tr th {\n        vertical-align: top;\n    }\n\n    .dataframe thead th {\n        text-align: right;\n    }\n</style>\n<table border=\"1\" class=\"dataframe\">\n  <thead>\n    <tr style=\"text-align: right;\">\n      <th></th>\n      <th>beer_servings</th>\n    </tr>\n    <tr>\n      <th>continent</th>\n      <th></th>\n    </tr>\n  </thead>\n  <tbody>\n    <tr>\n      <th>AF</th>\n      <td>3258</td>\n    </tr>\n    <tr>\n      <th>AS</th>\n      <td>1630</td>\n    </tr>\n    <tr>\n      <th>EU</th>\n      <td>8720</td>\n    </tr>\n    <tr>\n      <th>OC</th>\n      <td>1435</td>\n    </tr>\n    <tr>\n      <th>SA</th>\n      <td>2101</td>\n    </tr>\n  </tbody>\n</table>\n</div>"
     },
     "metadata": {}
    }
   ]
  },
  {
   "cell_type": "code",
   "metadata": {
    "tags": [],
    "cell_id": "00011-3c234d85-1d3a-42c1-a48f-a3d97f415d35",
    "deepnote_to_be_reexecuted": false,
    "source_hash": "1a8831a",
    "execution_start": 1626454649704,
    "execution_millis": 590,
    "deepnote_cell_type": "code"
   },
   "source": "df.value_counts()",
   "execution_count": null,
   "outputs": [
    {
     "output_type": "error",
     "ename": "NameError",
     "evalue": "name 'df' is not defined",
     "traceback": [
      "\u001b[0;31m---------------------------------------------------------------------------\u001b[0m",
      "\u001b[0;31mNameError\u001b[0m                                 Traceback (most recent call last)",
      "\u001b[0;32m/tmp/ipykernel_189/3788378716.py\u001b[0m in \u001b[0;36m<module>\u001b[0;34m\u001b[0m\n\u001b[0;32m----> 1\u001b[0;31m \u001b[0mdf\u001b[0m\u001b[0;34m.\u001b[0m\u001b[0mvalue_counts\u001b[0m\u001b[0;34m(\u001b[0m\u001b[0;34m)\u001b[0m\u001b[0;34m\u001b[0m\u001b[0;34m\u001b[0m\u001b[0m\n\u001b[0m",
      "\u001b[0;31mNameError\u001b[0m: name 'df' is not defined"
     ]
    }
   ]
  },
  {
   "cell_type": "code",
   "metadata": {
    "tags": [],
    "cell_id": "00012-51b5ee1d-9861-4704-a888-5546acb4eedd",
    "deepnote_to_be_reexecuted": false,
    "source_hash": "c90c1b06",
    "execution_start": 1625158340065,
    "execution_millis": 0,
    "deepnote_cell_type": "code"
   },
   "source": "df[\"beer_servings\"].sum()",
   "execution_count": null,
   "outputs": [
    {
     "output_type": "execute_result",
     "execution_count": 170,
     "data": {
      "text/plain": "17144"
     },
     "metadata": {}
    }
   ]
  },
  {
   "cell_type": "code",
   "metadata": {
    "tags": [],
    "cell_id": "00012-02413bfd-895c-45f8-a772-7408220e6d44",
    "deepnote_to_be_reexecuted": false,
    "source_hash": "23a530ba",
    "execution_start": 1625158530951,
    "execution_millis": 11,
    "deepnote_cell_type": "code"
   },
   "source": "for group_name, df_group in df.groupby(\"continent\"):\n    total_beer_servings = df_group[\"beer_servings\"].sum()\n    if total_beer_servings > 2000:\n        print(f\"THIIIIIIIIIIIIIIIIIIIIS, {total_beer_servings}\")\n    else:\n        print(f\"else, {total_beer_servings}\")    ",
   "execution_count": null,
   "outputs": [
    {
     "name": "stdout",
     "text": "THIIIIIIIIIIIIIIIIIIIIS, 3258\nelse, 1630\nTHIIIIIIIIIIIIIIIIIIIIS, 8720\nelse, 1435\nTHIIIIIIIIIIIIIIIIIIIIS, 2101\n",
     "output_type": "stream"
    }
   ]
  },
  {
   "cell_type": "markdown",
   "source": "# Occupation",
   "metadata": {
    "tags": [],
    "cell_id": "00013-11cbd863-9daa-49d0-9bff-656e63c20954",
    "is_collapsed": false,
    "deepnote_cell_type": "text-cell-h1"
   }
  },
  {
   "cell_type": "code",
   "metadata": {
    "tags": [],
    "cell_id": "00014-bfae79eb-d27d-4ba8-86e5-2be574654d3d",
    "deepnote_to_be_reexecuted": false,
    "source_hash": "14a845c1",
    "execution_start": 1625158621231,
    "execution_millis": 172,
    "deepnote_cell_type": "code"
   },
   "source": "url = \"https://raw.githubusercontent.com/justmarkham/DAT8/master/data/u.user\"\n\ndf = pd.read_csv(url, sep=\"|\", index_col=\"user_id\")\ndf",
   "execution_count": null,
   "outputs": [
    {
     "output_type": "execute_result",
     "execution_count": 182,
     "data": {
      "application/vnd.deepnote.dataframe.v2+json": {
       "row_count": 943,
       "column_count": 4,
       "columns": [
        {
         "name": "age",
         "dtype": "int64",
         "stats": {
          "unique_count": 61,
          "nan_count": 0,
          "min": "7",
          "max": "73",
          "histogram": [
           {
            "bin_start": 7,
            "bin_end": 13.6,
            "count": 8
           },
           {
            "bin_start": 13.6,
            "bin_end": 20.2,
            "count": 101
           },
           {
            "bin_start": 20.2,
            "bin_end": 26.799999999999997,
            "count": 197
           },
           {
            "bin_start": 26.799999999999997,
            "bin_end": 33.4,
            "count": 221
           },
           {
            "bin_start": 33.4,
            "bin_end": 40,
            "count": 123
           },
           {
            "bin_start": 40,
            "bin_end": 46.599999999999994,
            "count": 115
           },
           {
            "bin_start": 46.599999999999994,
            "bin_end": 53.199999999999996,
            "count": 111
           },
           {
            "bin_start": 53.199999999999996,
            "bin_end": 59.8,
            "count": 36
           },
           {
            "bin_start": 59.8,
            "bin_end": 66.4,
            "count": 23
           },
           {
            "bin_start": 66.4,
            "bin_end": 73,
            "count": 8
           }
          ]
         }
        },
        {
         "name": "gender",
         "dtype": "object",
         "stats": {
          "unique_count": 2,
          "nan_count": 0,
          "categories": [
           {
            "name": "M",
            "count": 670
           },
           {
            "name": "F",
            "count": 273
           }
          ]
         }
        },
        {
         "name": "occupation",
         "dtype": "object",
         "stats": {
          "unique_count": 21,
          "nan_count": 0,
          "categories": [
           {
            "name": "student",
            "count": 196
           },
           {
            "name": "other",
            "count": 105
           },
           {
            "name": "19 others",
            "count": 642
           }
          ]
         }
        },
        {
         "name": "zip_code",
         "dtype": "object",
         "stats": {
          "unique_count": 795,
          "nan_count": 0,
          "categories": [
           {
            "name": "55414",
            "count": 9
           },
           {
            "name": "55105",
            "count": 6
           },
           {
            "name": "793 others",
            "count": 928
           }
          ]
         }
        },
        {
         "name": "_deepnote_index_column",
         "dtype": "int64"
        }
       ],
       "rows_top": [
        {
         "age": 24,
         "gender": "M",
         "occupation": "technician",
         "zip_code": "85711",
         "_deepnote_index_column": 1
        },
        {
         "age": 53,
         "gender": "F",
         "occupation": "other",
         "zip_code": "94043",
         "_deepnote_index_column": 2
        },
        {
         "age": 23,
         "gender": "M",
         "occupation": "writer",
         "zip_code": "32067",
         "_deepnote_index_column": 3
        },
        {
         "age": 24,
         "gender": "M",
         "occupation": "technician",
         "zip_code": "43537",
         "_deepnote_index_column": 4
        },
        {
         "age": 33,
         "gender": "F",
         "occupation": "other",
         "zip_code": "15213",
         "_deepnote_index_column": 5
        },
        {
         "age": 42,
         "gender": "M",
         "occupation": "executive",
         "zip_code": "98101",
         "_deepnote_index_column": 6
        },
        {
         "age": 57,
         "gender": "M",
         "occupation": "administrator",
         "zip_code": "91344",
         "_deepnote_index_column": 7
        },
        {
         "age": 36,
         "gender": "M",
         "occupation": "administrator",
         "zip_code": "05201",
         "_deepnote_index_column": 8
        },
        {
         "age": 29,
         "gender": "M",
         "occupation": "student",
         "zip_code": "01002",
         "_deepnote_index_column": 9
        },
        {
         "age": 53,
         "gender": "M",
         "occupation": "lawyer",
         "zip_code": "90703",
         "_deepnote_index_column": 10
        },
        {
         "age": 39,
         "gender": "F",
         "occupation": "other",
         "zip_code": "30329",
         "_deepnote_index_column": 11
        },
        {
         "age": 28,
         "gender": "F",
         "occupation": "other",
         "zip_code": "06405",
         "_deepnote_index_column": 12
        },
        {
         "age": 47,
         "gender": "M",
         "occupation": "educator",
         "zip_code": "29206",
         "_deepnote_index_column": 13
        },
        {
         "age": 45,
         "gender": "M",
         "occupation": "scientist",
         "zip_code": "55106",
         "_deepnote_index_column": 14
        },
        {
         "age": 49,
         "gender": "F",
         "occupation": "educator",
         "zip_code": "97301",
         "_deepnote_index_column": 15
        },
        {
         "age": 21,
         "gender": "M",
         "occupation": "entertainment",
         "zip_code": "10309",
         "_deepnote_index_column": 16
        },
        {
         "age": 30,
         "gender": "M",
         "occupation": "programmer",
         "zip_code": "06355",
         "_deepnote_index_column": 17
        },
        {
         "age": 35,
         "gender": "F",
         "occupation": "other",
         "zip_code": "37212",
         "_deepnote_index_column": 18
        },
        {
         "age": 40,
         "gender": "M",
         "occupation": "librarian",
         "zip_code": "02138",
         "_deepnote_index_column": 19
        },
        {
         "age": 42,
         "gender": "F",
         "occupation": "homemaker",
         "zip_code": "95660",
         "_deepnote_index_column": 20
        },
        {
         "age": 26,
         "gender": "M",
         "occupation": "writer",
         "zip_code": "30068",
         "_deepnote_index_column": 21
        },
        {
         "age": 25,
         "gender": "M",
         "occupation": "writer",
         "zip_code": "40206",
         "_deepnote_index_column": 22
        },
        {
         "age": 30,
         "gender": "F",
         "occupation": "artist",
         "zip_code": "48197",
         "_deepnote_index_column": 23
        },
        {
         "age": 21,
         "gender": "F",
         "occupation": "artist",
         "zip_code": "94533",
         "_deepnote_index_column": 24
        },
        {
         "age": 39,
         "gender": "M",
         "occupation": "engineer",
         "zip_code": "55107",
         "_deepnote_index_column": 25
        },
        {
         "age": 49,
         "gender": "M",
         "occupation": "engineer",
         "zip_code": "21044",
         "_deepnote_index_column": 26
        },
        {
         "age": 40,
         "gender": "F",
         "occupation": "librarian",
         "zip_code": "30030",
         "_deepnote_index_column": 27
        },
        {
         "age": 32,
         "gender": "M",
         "occupation": "writer",
         "zip_code": "55369",
         "_deepnote_index_column": 28
        },
        {
         "age": 41,
         "gender": "M",
         "occupation": "programmer",
         "zip_code": "94043",
         "_deepnote_index_column": 29
        },
        {
         "age": 7,
         "gender": "M",
         "occupation": "student",
         "zip_code": "55436",
         "_deepnote_index_column": 30
        },
        {
         "age": 24,
         "gender": "M",
         "occupation": "artist",
         "zip_code": "10003",
         "_deepnote_index_column": 31
        },
        {
         "age": 28,
         "gender": "F",
         "occupation": "student",
         "zip_code": "78741",
         "_deepnote_index_column": 32
        },
        {
         "age": 23,
         "gender": "M",
         "occupation": "student",
         "zip_code": "27510",
         "_deepnote_index_column": 33
        },
        {
         "age": 38,
         "gender": "F",
         "occupation": "administrator",
         "zip_code": "42141",
         "_deepnote_index_column": 34
        },
        {
         "age": 20,
         "gender": "F",
         "occupation": "homemaker",
         "zip_code": "42459",
         "_deepnote_index_column": 35
        },
        {
         "age": 19,
         "gender": "F",
         "occupation": "student",
         "zip_code": "93117",
         "_deepnote_index_column": 36
        },
        {
         "age": 23,
         "gender": "M",
         "occupation": "student",
         "zip_code": "55105",
         "_deepnote_index_column": 37
        },
        {
         "age": 28,
         "gender": "F",
         "occupation": "other",
         "zip_code": "54467",
         "_deepnote_index_column": 38
        },
        {
         "age": 41,
         "gender": "M",
         "occupation": "entertainment",
         "zip_code": "01040",
         "_deepnote_index_column": 39
        },
        {
         "age": 38,
         "gender": "M",
         "occupation": "scientist",
         "zip_code": "27514",
         "_deepnote_index_column": 40
        },
        {
         "age": 33,
         "gender": "M",
         "occupation": "engineer",
         "zip_code": "80525",
         "_deepnote_index_column": 41
        },
        {
         "age": 30,
         "gender": "M",
         "occupation": "administrator",
         "zip_code": "17870",
         "_deepnote_index_column": 42
        },
        {
         "age": 29,
         "gender": "F",
         "occupation": "librarian",
         "zip_code": "20854",
         "_deepnote_index_column": 43
        },
        {
         "age": 26,
         "gender": "M",
         "occupation": "technician",
         "zip_code": "46260",
         "_deepnote_index_column": 44
        },
        {
         "age": 29,
         "gender": "M",
         "occupation": "programmer",
         "zip_code": "50233",
         "_deepnote_index_column": 45
        },
        {
         "age": 27,
         "gender": "F",
         "occupation": "marketing",
         "zip_code": "46538",
         "_deepnote_index_column": 46
        },
        {
         "age": 53,
         "gender": "M",
         "occupation": "marketing",
         "zip_code": "07102",
         "_deepnote_index_column": 47
        },
        {
         "age": 45,
         "gender": "M",
         "occupation": "administrator",
         "zip_code": "12550",
         "_deepnote_index_column": 48
        },
        {
         "age": 23,
         "gender": "F",
         "occupation": "student",
         "zip_code": "76111",
         "_deepnote_index_column": 49
        },
        {
         "age": 21,
         "gender": "M",
         "occupation": "writer",
         "zip_code": "52245",
         "_deepnote_index_column": 50
        },
        {
         "age": 28,
         "gender": "M",
         "occupation": "educator",
         "zip_code": "16509",
         "_deepnote_index_column": 51
        },
        {
         "age": 18,
         "gender": "F",
         "occupation": "student",
         "zip_code": "55105",
         "_deepnote_index_column": 52
        },
        {
         "age": 26,
         "gender": "M",
         "occupation": "programmer",
         "zip_code": "55414",
         "_deepnote_index_column": 53
        },
        {
         "age": 22,
         "gender": "M",
         "occupation": "executive",
         "zip_code": "66315",
         "_deepnote_index_column": 54
        },
        {
         "age": 37,
         "gender": "M",
         "occupation": "programmer",
         "zip_code": "01331",
         "_deepnote_index_column": 55
        },
        {
         "age": 25,
         "gender": "M",
         "occupation": "librarian",
         "zip_code": "46260",
         "_deepnote_index_column": 56
        },
        {
         "age": 16,
         "gender": "M",
         "occupation": "none",
         "zip_code": "84010",
         "_deepnote_index_column": 57
        },
        {
         "age": 27,
         "gender": "M",
         "occupation": "programmer",
         "zip_code": "52246",
         "_deepnote_index_column": 58
        },
        {
         "age": 49,
         "gender": "M",
         "occupation": "educator",
         "zip_code": "08403",
         "_deepnote_index_column": 59
        },
        {
         "age": 50,
         "gender": "M",
         "occupation": "healthcare",
         "zip_code": "06472",
         "_deepnote_index_column": 60
        },
        {
         "age": 36,
         "gender": "M",
         "occupation": "engineer",
         "zip_code": "30040",
         "_deepnote_index_column": 61
        },
        {
         "age": 27,
         "gender": "F",
         "occupation": "administrator",
         "zip_code": "97214",
         "_deepnote_index_column": 62
        },
        {
         "age": 31,
         "gender": "M",
         "occupation": "marketing",
         "zip_code": "75240",
         "_deepnote_index_column": 63
        },
        {
         "age": 32,
         "gender": "M",
         "occupation": "educator",
         "zip_code": "43202",
         "_deepnote_index_column": 64
        },
        {
         "age": 51,
         "gender": "F",
         "occupation": "educator",
         "zip_code": "48118",
         "_deepnote_index_column": 65
        },
        {
         "age": 23,
         "gender": "M",
         "occupation": "student",
         "zip_code": "80521",
         "_deepnote_index_column": 66
        },
        {
         "age": 17,
         "gender": "M",
         "occupation": "student",
         "zip_code": "60402",
         "_deepnote_index_column": 67
        },
        {
         "age": 19,
         "gender": "M",
         "occupation": "student",
         "zip_code": "22904",
         "_deepnote_index_column": 68
        },
        {
         "age": 24,
         "gender": "M",
         "occupation": "engineer",
         "zip_code": "55337",
         "_deepnote_index_column": 69
        },
        {
         "age": 27,
         "gender": "M",
         "occupation": "engineer",
         "zip_code": "60067",
         "_deepnote_index_column": 70
        },
        {
         "age": 39,
         "gender": "M",
         "occupation": "scientist",
         "zip_code": "98034",
         "_deepnote_index_column": 71
        },
        {
         "age": 48,
         "gender": "F",
         "occupation": "administrator",
         "zip_code": "73034",
         "_deepnote_index_column": 72
        },
        {
         "age": 24,
         "gender": "M",
         "occupation": "student",
         "zip_code": "41850",
         "_deepnote_index_column": 73
        },
        {
         "age": 39,
         "gender": "M",
         "occupation": "scientist",
         "zip_code": "T8H1N",
         "_deepnote_index_column": 74
        },
        {
         "age": 24,
         "gender": "M",
         "occupation": "entertainment",
         "zip_code": "08816",
         "_deepnote_index_column": 75
        },
        {
         "age": 20,
         "gender": "M",
         "occupation": "student",
         "zip_code": "02215",
         "_deepnote_index_column": 76
        },
        {
         "age": 30,
         "gender": "M",
         "occupation": "technician",
         "zip_code": "29379",
         "_deepnote_index_column": 77
        },
        {
         "age": 26,
         "gender": "M",
         "occupation": "administrator",
         "zip_code": "61801",
         "_deepnote_index_column": 78
        },
        {
         "age": 39,
         "gender": "F",
         "occupation": "administrator",
         "zip_code": "03755",
         "_deepnote_index_column": 79
        },
        {
         "age": 34,
         "gender": "F",
         "occupation": "administrator",
         "zip_code": "52241",
         "_deepnote_index_column": 80
        },
        {
         "age": 21,
         "gender": "M",
         "occupation": "student",
         "zip_code": "21218",
         "_deepnote_index_column": 81
        },
        {
         "age": 50,
         "gender": "M",
         "occupation": "programmer",
         "zip_code": "22902",
         "_deepnote_index_column": 82
        },
        {
         "age": 40,
         "gender": "M",
         "occupation": "other",
         "zip_code": "44133",
         "_deepnote_index_column": 83
        },
        {
         "age": 32,
         "gender": "M",
         "occupation": "executive",
         "zip_code": "55369",
         "_deepnote_index_column": 84
        },
        {
         "age": 51,
         "gender": "M",
         "occupation": "educator",
         "zip_code": "20003",
         "_deepnote_index_column": 85
        },
        {
         "age": 26,
         "gender": "M",
         "occupation": "administrator",
         "zip_code": "46005",
         "_deepnote_index_column": 86
        },
        {
         "age": 47,
         "gender": "M",
         "occupation": "administrator",
         "zip_code": "89503",
         "_deepnote_index_column": 87
        },
        {
         "age": 49,
         "gender": "F",
         "occupation": "librarian",
         "zip_code": "11701",
         "_deepnote_index_column": 88
        },
        {
         "age": 43,
         "gender": "F",
         "occupation": "administrator",
         "zip_code": "68106",
         "_deepnote_index_column": 89
        },
        {
         "age": 60,
         "gender": "M",
         "occupation": "educator",
         "zip_code": "78155",
         "_deepnote_index_column": 90
        },
        {
         "age": 55,
         "gender": "M",
         "occupation": "marketing",
         "zip_code": "01913",
         "_deepnote_index_column": 91
        },
        {
         "age": 32,
         "gender": "M",
         "occupation": "entertainment",
         "zip_code": "80525",
         "_deepnote_index_column": 92
        },
        {
         "age": 48,
         "gender": "M",
         "occupation": "executive",
         "zip_code": "23112",
         "_deepnote_index_column": 93
        },
        {
         "age": 26,
         "gender": "M",
         "occupation": "student",
         "zip_code": "71457",
         "_deepnote_index_column": 94
        },
        {
         "age": 31,
         "gender": "M",
         "occupation": "administrator",
         "zip_code": "10707",
         "_deepnote_index_column": 95
        },
        {
         "age": 25,
         "gender": "F",
         "occupation": "artist",
         "zip_code": "75206",
         "_deepnote_index_column": 96
        },
        {
         "age": 43,
         "gender": "M",
         "occupation": "artist",
         "zip_code": "98006",
         "_deepnote_index_column": 97
        },
        {
         "age": 49,
         "gender": "F",
         "occupation": "executive",
         "zip_code": "90291",
         "_deepnote_index_column": 98
        },
        {
         "age": 20,
         "gender": "M",
         "occupation": "student",
         "zip_code": "63129",
         "_deepnote_index_column": 99
        },
        {
         "age": 36,
         "gender": "M",
         "occupation": "executive",
         "zip_code": "90254",
         "_deepnote_index_column": 100
        },
        {
         "age": 15,
         "gender": "M",
         "occupation": "student",
         "zip_code": "05146",
         "_deepnote_index_column": 101
        },
        {
         "age": 38,
         "gender": "M",
         "occupation": "programmer",
         "zip_code": "30220",
         "_deepnote_index_column": 102
        },
        {
         "age": 26,
         "gender": "M",
         "occupation": "student",
         "zip_code": "55108",
         "_deepnote_index_column": 103
        },
        {
         "age": 27,
         "gender": "M",
         "occupation": "student",
         "zip_code": "55108",
         "_deepnote_index_column": 104
        },
        {
         "age": 24,
         "gender": "M",
         "occupation": "engineer",
         "zip_code": "94043",
         "_deepnote_index_column": 105
        },
        {
         "age": 61,
         "gender": "M",
         "occupation": "retired",
         "zip_code": "55125",
         "_deepnote_index_column": 106
        },
        {
         "age": 39,
         "gender": "M",
         "occupation": "scientist",
         "zip_code": "60466",
         "_deepnote_index_column": 107
        },
        {
         "age": 44,
         "gender": "M",
         "occupation": "educator",
         "zip_code": "63130",
         "_deepnote_index_column": 108
        },
        {
         "age": 29,
         "gender": "M",
         "occupation": "other",
         "zip_code": "55423",
         "_deepnote_index_column": 109
        },
        {
         "age": 19,
         "gender": "M",
         "occupation": "student",
         "zip_code": "77840",
         "_deepnote_index_column": 110
        },
        {
         "age": 57,
         "gender": "M",
         "occupation": "engineer",
         "zip_code": "90630",
         "_deepnote_index_column": 111
        },
        {
         "age": 30,
         "gender": "M",
         "occupation": "salesman",
         "zip_code": "60613",
         "_deepnote_index_column": 112
        },
        {
         "age": 47,
         "gender": "M",
         "occupation": "executive",
         "zip_code": "95032",
         "_deepnote_index_column": 113
        },
        {
         "age": 27,
         "gender": "M",
         "occupation": "programmer",
         "zip_code": "75013",
         "_deepnote_index_column": 114
        },
        {
         "age": 31,
         "gender": "M",
         "occupation": "engineer",
         "zip_code": "17110",
         "_deepnote_index_column": 115
        },
        {
         "age": 40,
         "gender": "M",
         "occupation": "healthcare",
         "zip_code": "97232",
         "_deepnote_index_column": 116
        },
        {
         "age": 20,
         "gender": "M",
         "occupation": "student",
         "zip_code": "16125",
         "_deepnote_index_column": 117
        },
        {
         "age": 21,
         "gender": "M",
         "occupation": "administrator",
         "zip_code": "90210",
         "_deepnote_index_column": 118
        },
        {
         "age": 32,
         "gender": "M",
         "occupation": "programmer",
         "zip_code": "67401",
         "_deepnote_index_column": 119
        },
        {
         "age": 47,
         "gender": "F",
         "occupation": "other",
         "zip_code": "06260",
         "_deepnote_index_column": 120
        },
        {
         "age": 54,
         "gender": "M",
         "occupation": "librarian",
         "zip_code": "99603",
         "_deepnote_index_column": 121
        },
        {
         "age": 32,
         "gender": "F",
         "occupation": "writer",
         "zip_code": "22206",
         "_deepnote_index_column": 122
        },
        {
         "age": 48,
         "gender": "F",
         "occupation": "artist",
         "zip_code": "20008",
         "_deepnote_index_column": 123
        },
        {
         "age": 34,
         "gender": "M",
         "occupation": "student",
         "zip_code": "60615",
         "_deepnote_index_column": 124
        },
        {
         "age": 30,
         "gender": "M",
         "occupation": "lawyer",
         "zip_code": "22202",
         "_deepnote_index_column": 125
        }
       ],
       "rows_bottom": [
        {
         "age": 59,
         "gender": "M",
         "occupation": "administrator",
         "zip_code": "40205",
         "_deepnote_index_column": 819
        },
        {
         "age": 22,
         "gender": "M",
         "occupation": "student",
         "zip_code": "37725",
         "_deepnote_index_column": 820
        },
        {
         "age": 37,
         "gender": "M",
         "occupation": "engineer",
         "zip_code": "77845",
         "_deepnote_index_column": 821
        },
        {
         "age": 29,
         "gender": "F",
         "occupation": "librarian",
         "zip_code": "53144",
         "_deepnote_index_column": 822
        },
        {
         "age": 27,
         "gender": "M",
         "occupation": "artist",
         "zip_code": "50322",
         "_deepnote_index_column": 823
        },
        {
         "age": 31,
         "gender": "M",
         "occupation": "other",
         "zip_code": "15017",
         "_deepnote_index_column": 824
        },
        {
         "age": 44,
         "gender": "M",
         "occupation": "engineer",
         "zip_code": "05452",
         "_deepnote_index_column": 825
        },
        {
         "age": 28,
         "gender": "M",
         "occupation": "artist",
         "zip_code": "77048",
         "_deepnote_index_column": 826
        },
        {
         "age": 23,
         "gender": "F",
         "occupation": "engineer",
         "zip_code": "80228",
         "_deepnote_index_column": 827
        },
        {
         "age": 28,
         "gender": "M",
         "occupation": "librarian",
         "zip_code": "85282",
         "_deepnote_index_column": 828
        },
        {
         "age": 48,
         "gender": "M",
         "occupation": "writer",
         "zip_code": "80209",
         "_deepnote_index_column": 829
        },
        {
         "age": 46,
         "gender": "M",
         "occupation": "programmer",
         "zip_code": "53066",
         "_deepnote_index_column": 830
        },
        {
         "age": 21,
         "gender": "M",
         "occupation": "other",
         "zip_code": "33765",
         "_deepnote_index_column": 831
        },
        {
         "age": 24,
         "gender": "M",
         "occupation": "technician",
         "zip_code": "77042",
         "_deepnote_index_column": 832
        },
        {
         "age": 34,
         "gender": "M",
         "occupation": "writer",
         "zip_code": "90019",
         "_deepnote_index_column": 833
        },
        {
         "age": 26,
         "gender": "M",
         "occupation": "other",
         "zip_code": "64153",
         "_deepnote_index_column": 834
        },
        {
         "age": 44,
         "gender": "F",
         "occupation": "executive",
         "zip_code": "11577",
         "_deepnote_index_column": 835
        },
        {
         "age": 44,
         "gender": "M",
         "occupation": "artist",
         "zip_code": "10018",
         "_deepnote_index_column": 836
        },
        {
         "age": 36,
         "gender": "F",
         "occupation": "artist",
         "zip_code": "55409",
         "_deepnote_index_column": 837
        },
        {
         "age": 23,
         "gender": "M",
         "occupation": "student",
         "zip_code": "01375",
         "_deepnote_index_column": 838
        },
        {
         "age": 38,
         "gender": "F",
         "occupation": "entertainment",
         "zip_code": "90814",
         "_deepnote_index_column": 839
        },
        {
         "age": 39,
         "gender": "M",
         "occupation": "artist",
         "zip_code": "55406",
         "_deepnote_index_column": 840
        },
        {
         "age": 45,
         "gender": "M",
         "occupation": "doctor",
         "zip_code": "47401",
         "_deepnote_index_column": 841
        },
        {
         "age": 40,
         "gender": "M",
         "occupation": "writer",
         "zip_code": "93055",
         "_deepnote_index_column": 842
        },
        {
         "age": 35,
         "gender": "M",
         "occupation": "librarian",
         "zip_code": "44212",
         "_deepnote_index_column": 843
        },
        {
         "age": 22,
         "gender": "M",
         "occupation": "engineer",
         "zip_code": "95662",
         "_deepnote_index_column": 844
        },
        {
         "age": 64,
         "gender": "M",
         "occupation": "doctor",
         "zip_code": "97405",
         "_deepnote_index_column": 845
        },
        {
         "age": 27,
         "gender": "M",
         "occupation": "lawyer",
         "zip_code": "47130",
         "_deepnote_index_column": 846
        },
        {
         "age": 29,
         "gender": "M",
         "occupation": "student",
         "zip_code": "55417",
         "_deepnote_index_column": 847
        },
        {
         "age": 46,
         "gender": "M",
         "occupation": "engineer",
         "zip_code": "02146",
         "_deepnote_index_column": 848
        },
        {
         "age": 15,
         "gender": "F",
         "occupation": "student",
         "zip_code": "25652",
         "_deepnote_index_column": 849
        },
        {
         "age": 34,
         "gender": "M",
         "occupation": "technician",
         "zip_code": "78390",
         "_deepnote_index_column": 850
        },
        {
         "age": 18,
         "gender": "M",
         "occupation": "other",
         "zip_code": "29646",
         "_deepnote_index_column": 851
        },
        {
         "age": 46,
         "gender": "M",
         "occupation": "administrator",
         "zip_code": "94086",
         "_deepnote_index_column": 852
        },
        {
         "age": 49,
         "gender": "M",
         "occupation": "writer",
         "zip_code": "40515",
         "_deepnote_index_column": 853
        },
        {
         "age": 29,
         "gender": "F",
         "occupation": "student",
         "zip_code": "55408",
         "_deepnote_index_column": 854
        },
        {
         "age": 53,
         "gender": "M",
         "occupation": "librarian",
         "zip_code": "04988",
         "_deepnote_index_column": 855
        },
        {
         "age": 43,
         "gender": "F",
         "occupation": "marketing",
         "zip_code": "97215",
         "_deepnote_index_column": 856
        },
        {
         "age": 35,
         "gender": "F",
         "occupation": "administrator",
         "zip_code": "V1G4L",
         "_deepnote_index_column": 857
        },
        {
         "age": 63,
         "gender": "M",
         "occupation": "educator",
         "zip_code": "09645",
         "_deepnote_index_column": 858
        },
        {
         "age": 18,
         "gender": "F",
         "occupation": "other",
         "zip_code": "06492",
         "_deepnote_index_column": 859
        },
        {
         "age": 70,
         "gender": "F",
         "occupation": "retired",
         "zip_code": "48322",
         "_deepnote_index_column": 860
        },
        {
         "age": 38,
         "gender": "F",
         "occupation": "student",
         "zip_code": "14085",
         "_deepnote_index_column": 861
        },
        {
         "age": 25,
         "gender": "M",
         "occupation": "executive",
         "zip_code": "13820",
         "_deepnote_index_column": 862
        },
        {
         "age": 17,
         "gender": "M",
         "occupation": "student",
         "zip_code": "60089",
         "_deepnote_index_column": 863
        },
        {
         "age": 27,
         "gender": "M",
         "occupation": "programmer",
         "zip_code": "63021",
         "_deepnote_index_column": 864
        },
        {
         "age": 25,
         "gender": "M",
         "occupation": "artist",
         "zip_code": "11231",
         "_deepnote_index_column": 865
        },
        {
         "age": 45,
         "gender": "M",
         "occupation": "other",
         "zip_code": "60302",
         "_deepnote_index_column": 866
        },
        {
         "age": 24,
         "gender": "M",
         "occupation": "scientist",
         "zip_code": "92507",
         "_deepnote_index_column": 867
        },
        {
         "age": 21,
         "gender": "M",
         "occupation": "programmer",
         "zip_code": "55303",
         "_deepnote_index_column": 868
        },
        {
         "age": 30,
         "gender": "M",
         "occupation": "student",
         "zip_code": "10025",
         "_deepnote_index_column": 869
        },
        {
         "age": 22,
         "gender": "M",
         "occupation": "student",
         "zip_code": "65203",
         "_deepnote_index_column": 870
        },
        {
         "age": 31,
         "gender": "M",
         "occupation": "executive",
         "zip_code": "44648",
         "_deepnote_index_column": 871
        },
        {
         "age": 19,
         "gender": "F",
         "occupation": "student",
         "zip_code": "74078",
         "_deepnote_index_column": 872
        },
        {
         "age": 48,
         "gender": "F",
         "occupation": "administrator",
         "zip_code": "33763",
         "_deepnote_index_column": 873
        },
        {
         "age": 36,
         "gender": "M",
         "occupation": "scientist",
         "zip_code": "37076",
         "_deepnote_index_column": 874
        },
        {
         "age": 24,
         "gender": "F",
         "occupation": "student",
         "zip_code": "35802",
         "_deepnote_index_column": 875
        },
        {
         "age": 41,
         "gender": "M",
         "occupation": "other",
         "zip_code": "20902",
         "_deepnote_index_column": 876
        },
        {
         "age": 30,
         "gender": "M",
         "occupation": "other",
         "zip_code": "77504",
         "_deepnote_index_column": 877
        },
        {
         "age": 50,
         "gender": "F",
         "occupation": "educator",
         "zip_code": "98027",
         "_deepnote_index_column": 878
        },
        {
         "age": 33,
         "gender": "F",
         "occupation": "administrator",
         "zip_code": "55337",
         "_deepnote_index_column": 879
        },
        {
         "age": 13,
         "gender": "M",
         "occupation": "student",
         "zip_code": "83702",
         "_deepnote_index_column": 880
        },
        {
         "age": 39,
         "gender": "M",
         "occupation": "marketing",
         "zip_code": "43017",
         "_deepnote_index_column": 881
        },
        {
         "age": 35,
         "gender": "M",
         "occupation": "engineer",
         "zip_code": "40503",
         "_deepnote_index_column": 882
        },
        {
         "age": 49,
         "gender": "M",
         "occupation": "librarian",
         "zip_code": "50266",
         "_deepnote_index_column": 883
        },
        {
         "age": 44,
         "gender": "M",
         "occupation": "engineer",
         "zip_code": "55337",
         "_deepnote_index_column": 884
        },
        {
         "age": 30,
         "gender": "F",
         "occupation": "other",
         "zip_code": "95316",
         "_deepnote_index_column": 885
        },
        {
         "age": 20,
         "gender": "M",
         "occupation": "student",
         "zip_code": "61820",
         "_deepnote_index_column": 886
        },
        {
         "age": 14,
         "gender": "F",
         "occupation": "student",
         "zip_code": "27249",
         "_deepnote_index_column": 887
        },
        {
         "age": 41,
         "gender": "M",
         "occupation": "scientist",
         "zip_code": "17036",
         "_deepnote_index_column": 888
        },
        {
         "age": 24,
         "gender": "M",
         "occupation": "technician",
         "zip_code": "78704",
         "_deepnote_index_column": 889
        },
        {
         "age": 32,
         "gender": "M",
         "occupation": "student",
         "zip_code": "97301",
         "_deepnote_index_column": 890
        },
        {
         "age": 51,
         "gender": "F",
         "occupation": "administrator",
         "zip_code": "03062",
         "_deepnote_index_column": 891
        },
        {
         "age": 36,
         "gender": "M",
         "occupation": "other",
         "zip_code": "45243",
         "_deepnote_index_column": 892
        },
        {
         "age": 25,
         "gender": "M",
         "occupation": "student",
         "zip_code": "95823",
         "_deepnote_index_column": 893
        },
        {
         "age": 47,
         "gender": "M",
         "occupation": "educator",
         "zip_code": "74075",
         "_deepnote_index_column": 894
        },
        {
         "age": 31,
         "gender": "F",
         "occupation": "librarian",
         "zip_code": "32301",
         "_deepnote_index_column": 895
        },
        {
         "age": 28,
         "gender": "M",
         "occupation": "writer",
         "zip_code": "91505",
         "_deepnote_index_column": 896
        },
        {
         "age": 30,
         "gender": "M",
         "occupation": "other",
         "zip_code": "33484",
         "_deepnote_index_column": 897
        },
        {
         "age": 23,
         "gender": "M",
         "occupation": "homemaker",
         "zip_code": "61755",
         "_deepnote_index_column": 898
        },
        {
         "age": 32,
         "gender": "M",
         "occupation": "other",
         "zip_code": "55116",
         "_deepnote_index_column": 899
        },
        {
         "age": 60,
         "gender": "M",
         "occupation": "retired",
         "zip_code": "18505",
         "_deepnote_index_column": 900
        },
        {
         "age": 38,
         "gender": "M",
         "occupation": "executive",
         "zip_code": "L1V3W",
         "_deepnote_index_column": 901
        },
        {
         "age": 45,
         "gender": "F",
         "occupation": "artist",
         "zip_code": "97203",
         "_deepnote_index_column": 902
        },
        {
         "age": 28,
         "gender": "M",
         "occupation": "educator",
         "zip_code": "20850",
         "_deepnote_index_column": 903
        },
        {
         "age": 17,
         "gender": "F",
         "occupation": "student",
         "zip_code": "61073",
         "_deepnote_index_column": 904
        },
        {
         "age": 27,
         "gender": "M",
         "occupation": "other",
         "zip_code": "30350",
         "_deepnote_index_column": 905
        },
        {
         "age": 45,
         "gender": "M",
         "occupation": "librarian",
         "zip_code": "70124",
         "_deepnote_index_column": 906
        },
        {
         "age": 25,
         "gender": "F",
         "occupation": "other",
         "zip_code": "80526",
         "_deepnote_index_column": 907
        },
        {
         "age": 44,
         "gender": "F",
         "occupation": "librarian",
         "zip_code": "68504",
         "_deepnote_index_column": 908
        },
        {
         "age": 50,
         "gender": "F",
         "occupation": "educator",
         "zip_code": "53171",
         "_deepnote_index_column": 909
        },
        {
         "age": 28,
         "gender": "M",
         "occupation": "healthcare",
         "zip_code": "29301",
         "_deepnote_index_column": 910
        },
        {
         "age": 37,
         "gender": "F",
         "occupation": "writer",
         "zip_code": "53210",
         "_deepnote_index_column": 911
        },
        {
         "age": 51,
         "gender": "M",
         "occupation": "other",
         "zip_code": "06512",
         "_deepnote_index_column": 912
        },
        {
         "age": 27,
         "gender": "M",
         "occupation": "student",
         "zip_code": "76201",
         "_deepnote_index_column": 913
        },
        {
         "age": 44,
         "gender": "F",
         "occupation": "other",
         "zip_code": "08105",
         "_deepnote_index_column": 914
        },
        {
         "age": 50,
         "gender": "M",
         "occupation": "entertainment",
         "zip_code": "60614",
         "_deepnote_index_column": 915
        },
        {
         "age": 27,
         "gender": "M",
         "occupation": "engineer",
         "zip_code": "N2L5N",
         "_deepnote_index_column": 916
        },
        {
         "age": 22,
         "gender": "F",
         "occupation": "student",
         "zip_code": "20006",
         "_deepnote_index_column": 917
        },
        {
         "age": 40,
         "gender": "M",
         "occupation": "scientist",
         "zip_code": "70116",
         "_deepnote_index_column": 918
        },
        {
         "age": 25,
         "gender": "M",
         "occupation": "other",
         "zip_code": "14216",
         "_deepnote_index_column": 919
        },
        {
         "age": 30,
         "gender": "F",
         "occupation": "artist",
         "zip_code": "90008",
         "_deepnote_index_column": 920
        },
        {
         "age": 20,
         "gender": "F",
         "occupation": "student",
         "zip_code": "98801",
         "_deepnote_index_column": 921
        },
        {
         "age": 29,
         "gender": "F",
         "occupation": "administrator",
         "zip_code": "21114",
         "_deepnote_index_column": 922
        },
        {
         "age": 21,
         "gender": "M",
         "occupation": "student",
         "zip_code": "E2E3R",
         "_deepnote_index_column": 923
        },
        {
         "age": 29,
         "gender": "M",
         "occupation": "other",
         "zip_code": "11753",
         "_deepnote_index_column": 924
        },
        {
         "age": 18,
         "gender": "F",
         "occupation": "salesman",
         "zip_code": "49036",
         "_deepnote_index_column": 925
        },
        {
         "age": 49,
         "gender": "M",
         "occupation": "entertainment",
         "zip_code": "01701",
         "_deepnote_index_column": 926
        },
        {
         "age": 23,
         "gender": "M",
         "occupation": "programmer",
         "zip_code": "55428",
         "_deepnote_index_column": 927
        },
        {
         "age": 21,
         "gender": "M",
         "occupation": "student",
         "zip_code": "55408",
         "_deepnote_index_column": 928
        },
        {
         "age": 44,
         "gender": "M",
         "occupation": "scientist",
         "zip_code": "53711",
         "_deepnote_index_column": 929
        },
        {
         "age": 28,
         "gender": "F",
         "occupation": "scientist",
         "zip_code": "07310",
         "_deepnote_index_column": 930
        },
        {
         "age": 60,
         "gender": "M",
         "occupation": "educator",
         "zip_code": "33556",
         "_deepnote_index_column": 931
        },
        {
         "age": 58,
         "gender": "M",
         "occupation": "educator",
         "zip_code": "06437",
         "_deepnote_index_column": 932
        },
        {
         "age": 28,
         "gender": "M",
         "occupation": "student",
         "zip_code": "48105",
         "_deepnote_index_column": 933
        },
        {
         "age": 61,
         "gender": "M",
         "occupation": "engineer",
         "zip_code": "22902",
         "_deepnote_index_column": 934
        },
        {
         "age": 42,
         "gender": "M",
         "occupation": "doctor",
         "zip_code": "66221",
         "_deepnote_index_column": 935
        },
        {
         "age": 24,
         "gender": "M",
         "occupation": "other",
         "zip_code": "32789",
         "_deepnote_index_column": 936
        },
        {
         "age": 48,
         "gender": "M",
         "occupation": "educator",
         "zip_code": "98072",
         "_deepnote_index_column": 937
        },
        {
         "age": 38,
         "gender": "F",
         "occupation": "technician",
         "zip_code": "55038",
         "_deepnote_index_column": 938
        },
        {
         "age": 26,
         "gender": "F",
         "occupation": "student",
         "zip_code": "33319",
         "_deepnote_index_column": 939
        },
        {
         "age": 32,
         "gender": "M",
         "occupation": "administrator",
         "zip_code": "02215",
         "_deepnote_index_column": 940
        },
        {
         "age": 20,
         "gender": "M",
         "occupation": "student",
         "zip_code": "97229",
         "_deepnote_index_column": 941
        },
        {
         "age": 48,
         "gender": "F",
         "occupation": "librarian",
         "zip_code": "78209",
         "_deepnote_index_column": 942
        },
        {
         "age": 22,
         "gender": "M",
         "occupation": "student",
         "zip_code": "77841",
         "_deepnote_index_column": 943
        }
       ]
      },
      "text/plain": "         age gender     occupation zip_code\nuser_id                                    \n1         24      M     technician    85711\n2         53      F          other    94043\n3         23      M         writer    32067\n4         24      M     technician    43537\n5         33      F          other    15213\n...      ...    ...            ...      ...\n939       26      F        student    33319\n940       32      M  administrator    02215\n941       20      M        student    97229\n942       48      F      librarian    78209\n943       22      M        student    77841\n\n[943 rows x 4 columns]",
      "text/html": "<div>\n<style scoped>\n    .dataframe tbody tr th:only-of-type {\n        vertical-align: middle;\n    }\n\n    .dataframe tbody tr th {\n        vertical-align: top;\n    }\n\n    .dataframe thead th {\n        text-align: right;\n    }\n</style>\n<table border=\"1\" class=\"dataframe\">\n  <thead>\n    <tr style=\"text-align: right;\">\n      <th></th>\n      <th>age</th>\n      <th>gender</th>\n      <th>occupation</th>\n      <th>zip_code</th>\n    </tr>\n    <tr>\n      <th>user_id</th>\n      <th></th>\n      <th></th>\n      <th></th>\n      <th></th>\n    </tr>\n  </thead>\n  <tbody>\n    <tr>\n      <th>1</th>\n      <td>24</td>\n      <td>M</td>\n      <td>technician</td>\n      <td>85711</td>\n    </tr>\n    <tr>\n      <th>2</th>\n      <td>53</td>\n      <td>F</td>\n      <td>other</td>\n      <td>94043</td>\n    </tr>\n    <tr>\n      <th>3</th>\n      <td>23</td>\n      <td>M</td>\n      <td>writer</td>\n      <td>32067</td>\n    </tr>\n    <tr>\n      <th>4</th>\n      <td>24</td>\n      <td>M</td>\n      <td>technician</td>\n      <td>43537</td>\n    </tr>\n    <tr>\n      <th>5</th>\n      <td>33</td>\n      <td>F</td>\n      <td>other</td>\n      <td>15213</td>\n    </tr>\n    <tr>\n      <th>...</th>\n      <td>...</td>\n      <td>...</td>\n      <td>...</td>\n      <td>...</td>\n    </tr>\n    <tr>\n      <th>939</th>\n      <td>26</td>\n      <td>F</td>\n      <td>student</td>\n      <td>33319</td>\n    </tr>\n    <tr>\n      <th>940</th>\n      <td>32</td>\n      <td>M</td>\n      <td>administrator</td>\n      <td>02215</td>\n    </tr>\n    <tr>\n      <th>941</th>\n      <td>20</td>\n      <td>M</td>\n      <td>student</td>\n      <td>97229</td>\n    </tr>\n    <tr>\n      <th>942</th>\n      <td>48</td>\n      <td>F</td>\n      <td>librarian</td>\n      <td>78209</td>\n    </tr>\n    <tr>\n      <th>943</th>\n      <td>22</td>\n      <td>M</td>\n      <td>student</td>\n      <td>77841</td>\n    </tr>\n  </tbody>\n</table>\n<p>943 rows × 4 columns</p>\n</div>"
     },
     "metadata": {}
    }
   ]
  },
  {
   "cell_type": "code",
   "metadata": {
    "tags": [],
    "cell_id": "00016-2eff8f2a-1e3e-40eb-ae23-feef2a9bf988",
    "deepnote_to_be_reexecuted": false,
    "source_hash": "e345d44",
    "execution_start": 1625158661110,
    "execution_millis": 9,
    "deepnote_cell_type": "code"
   },
   "source": "df.isnull().sum()\ndf.info()",
   "execution_count": null,
   "outputs": [
    {
     "name": "stdout",
     "text": "<class 'pandas.core.frame.DataFrame'>\nInt64Index: 943 entries, 1 to 943\nData columns (total 4 columns):\n #   Column      Non-Null Count  Dtype \n---  ------      --------------  ----- \n 0   age         943 non-null    int64 \n 1   gender      943 non-null    object\n 2   occupation  943 non-null    object\n 3   zip_code    943 non-null    object\ndtypes: int64(1), object(3)\nmemory usage: 69.1+ KB\n",
     "output_type": "stream"
    }
   ]
  },
  {
   "cell_type": "code",
   "metadata": {
    "tags": [],
    "cell_id": "00017-4a92ebd5-a227-4a16-a654-033c747d45c5",
    "deepnote_to_be_reexecuted": false,
    "source_hash": "def6367a",
    "execution_start": 1625158759328,
    "execution_millis": 8,
    "deepnote_cell_type": "code"
   },
   "source": "df[\"occupation\"].value_counts()",
   "execution_count": null,
   "outputs": [
    {
     "output_type": "execute_result",
     "execution_count": 191,
     "data": {
      "text/plain": "student          196\nother            105\neducator          95\nadministrator     79\nengineer          67\nprogrammer        66\nlibrarian         51\nwriter            45\nexecutive         32\nscientist         31\nartist            28\ntechnician        27\nmarketing         26\nentertainment     18\nhealthcare        16\nretired           14\nlawyer            12\nsalesman          12\nnone               9\nhomemaker          7\ndoctor             7\nName: occupation, dtype: int64"
     },
     "metadata": {}
    }
   ]
  },
  {
   "cell_type": "code",
   "metadata": {
    "tags": [],
    "cell_id": "00019-d63e3fe6-6865-43e4-a5a2-ae0322da8b1a",
    "deepnote_to_be_reexecuted": false,
    "source_hash": "c19874d",
    "execution_start": 1625159018561,
    "execution_millis": 26,
    "deepnote_cell_type": "code"
   },
   "source": "def gender_to_numberic(x):\n    if x == \"M\":\n        return 1\n    else:\n        return 0    \n\ndf[\"gender_numeric\"]  =df[\"gender\"].apply(gender_to_numberic)\ndf.head()",
   "execution_count": null,
   "outputs": [
    {
     "output_type": "execute_result",
     "execution_count": 198,
     "data": {
      "application/vnd.deepnote.dataframe.v2+json": {
       "row_count": 5,
       "column_count": 5,
       "columns": [
        {
         "name": "age",
         "dtype": "int64",
         "stats": {
          "unique_count": 4,
          "nan_count": 0,
          "min": "23",
          "max": "53",
          "histogram": [
           {
            "bin_start": 23,
            "bin_end": 26,
            "count": 3
           },
           {
            "bin_start": 26,
            "bin_end": 29,
            "count": 0
           },
           {
            "bin_start": 29,
            "bin_end": 32,
            "count": 0
           },
           {
            "bin_start": 32,
            "bin_end": 35,
            "count": 1
           },
           {
            "bin_start": 35,
            "bin_end": 38,
            "count": 0
           },
           {
            "bin_start": 38,
            "bin_end": 41,
            "count": 0
           },
           {
            "bin_start": 41,
            "bin_end": 44,
            "count": 0
           },
           {
            "bin_start": 44,
            "bin_end": 47,
            "count": 0
           },
           {
            "bin_start": 47,
            "bin_end": 50,
            "count": 0
           },
           {
            "bin_start": 50,
            "bin_end": 53,
            "count": 1
           }
          ]
         }
        },
        {
         "name": "gender",
         "dtype": "object",
         "stats": {
          "unique_count": 2,
          "nan_count": 0,
          "categories": [
           {
            "name": "M",
            "count": 3
           },
           {
            "name": "F",
            "count": 2
           }
          ]
         }
        },
        {
         "name": "occupation",
         "dtype": "object",
         "stats": {
          "unique_count": 3,
          "nan_count": 0,
          "categories": [
           {
            "name": "technician",
            "count": 2
           },
           {
            "name": "other",
            "count": 2
           },
           {
            "name": "writer",
            "count": 1
           }
          ]
         }
        },
        {
         "name": "zip_code",
         "dtype": "object",
         "stats": {
          "unique_count": 5,
          "nan_count": 0,
          "categories": [
           {
            "name": "85711",
            "count": 1
           },
           {
            "name": "94043",
            "count": 1
           },
           {
            "name": "3 others",
            "count": 3
           }
          ]
         }
        },
        {
         "name": "gender_numeric",
         "dtype": "int64",
         "stats": {
          "unique_count": 2,
          "nan_count": 0,
          "min": "0",
          "max": "1",
          "histogram": [
           {
            "bin_start": 0,
            "bin_end": 0.1,
            "count": 2
           },
           {
            "bin_start": 0.1,
            "bin_end": 0.2,
            "count": 0
           },
           {
            "bin_start": 0.2,
            "bin_end": 0.30000000000000004,
            "count": 0
           },
           {
            "bin_start": 0.30000000000000004,
            "bin_end": 0.4,
            "count": 0
           },
           {
            "bin_start": 0.4,
            "bin_end": 0.5,
            "count": 0
           },
           {
            "bin_start": 0.5,
            "bin_end": 0.6000000000000001,
            "count": 0
           },
           {
            "bin_start": 0.6000000000000001,
            "bin_end": 0.7000000000000001,
            "count": 0
           },
           {
            "bin_start": 0.7000000000000001,
            "bin_end": 0.8,
            "count": 0
           },
           {
            "bin_start": 0.8,
            "bin_end": 0.9,
            "count": 0
           },
           {
            "bin_start": 0.9,
            "bin_end": 1,
            "count": 3
           }
          ]
         }
        },
        {
         "name": "_deepnote_index_column",
         "dtype": "int64"
        }
       ],
       "rows_top": [
        {
         "age": 24,
         "gender": "M",
         "occupation": "technician",
         "zip_code": "85711",
         "gender_numeric": 1,
         "_deepnote_index_column": 1
        },
        {
         "age": 53,
         "gender": "F",
         "occupation": "other",
         "zip_code": "94043",
         "gender_numeric": 0,
         "_deepnote_index_column": 2
        },
        {
         "age": 23,
         "gender": "M",
         "occupation": "writer",
         "zip_code": "32067",
         "gender_numeric": 1,
         "_deepnote_index_column": 3
        },
        {
         "age": 24,
         "gender": "M",
         "occupation": "technician",
         "zip_code": "43537",
         "gender_numeric": 1,
         "_deepnote_index_column": 4
        },
        {
         "age": 33,
         "gender": "F",
         "occupation": "other",
         "zip_code": "15213",
         "gender_numeric": 0,
         "_deepnote_index_column": 5
        }
       ],
       "rows_bottom": null
      },
      "text/plain": "         age gender  occupation zip_code  gender_numeric\nuser_id                                                 \n1         24      M  technician    85711               1\n2         53      F       other    94043               0\n3         23      M      writer    32067               1\n4         24      M  technician    43537               1\n5         33      F       other    15213               0",
      "text/html": "<div>\n<style scoped>\n    .dataframe tbody tr th:only-of-type {\n        vertical-align: middle;\n    }\n\n    .dataframe tbody tr th {\n        vertical-align: top;\n    }\n\n    .dataframe thead th {\n        text-align: right;\n    }\n</style>\n<table border=\"1\" class=\"dataframe\">\n  <thead>\n    <tr style=\"text-align: right;\">\n      <th></th>\n      <th>age</th>\n      <th>gender</th>\n      <th>occupation</th>\n      <th>zip_code</th>\n      <th>gender_numeric</th>\n    </tr>\n    <tr>\n      <th>user_id</th>\n      <th></th>\n      <th></th>\n      <th></th>\n      <th></th>\n      <th></th>\n    </tr>\n  </thead>\n  <tbody>\n    <tr>\n      <th>1</th>\n      <td>24</td>\n      <td>M</td>\n      <td>technician</td>\n      <td>85711</td>\n      <td>1</td>\n    </tr>\n    <tr>\n      <th>2</th>\n      <td>53</td>\n      <td>F</td>\n      <td>other</td>\n      <td>94043</td>\n      <td>0</td>\n    </tr>\n    <tr>\n      <th>3</th>\n      <td>23</td>\n      <td>M</td>\n      <td>writer</td>\n      <td>32067</td>\n      <td>1</td>\n    </tr>\n    <tr>\n      <th>4</th>\n      <td>24</td>\n      <td>M</td>\n      <td>technician</td>\n      <td>43537</td>\n      <td>1</td>\n    </tr>\n    <tr>\n      <th>5</th>\n      <td>33</td>\n      <td>F</td>\n      <td>other</td>\n      <td>15213</td>\n      <td>0</td>\n    </tr>\n  </tbody>\n</table>\n</div>"
     },
     "metadata": {}
    }
   ]
  },
  {
   "cell_type": "code",
   "metadata": {
    "tags": [],
    "cell_id": "00019-a242d7f5-54d3-4a83-a9b8-ea3eb59c7467",
    "deepnote_to_be_reexecuted": false,
    "source_hash": "6b2dded8",
    "execution_start": 1625159104521,
    "execution_millis": 12,
    "deepnote_cell_type": "code"
   },
   "source": "df.groupby(\"occupation\")[\"gender_numeric\"].sum()",
   "execution_count": null,
   "outputs": [
    {
     "output_type": "execute_result",
     "execution_count": 202,
     "data": {
      "text/plain": "occupation\nadministrator     43\nartist            15\ndoctor             7\neducator          69\nengineer          65\nentertainment     16\nexecutive         29\nhealthcare         5\nhomemaker          1\nlawyer            10\nlibrarian         22\nmarketing         16\nnone               5\nother             69\nprogrammer        60\nretired           13\nsalesman           9\nscientist         28\nstudent          136\ntechnician        26\nwriter            26\nName: gender_numeric, dtype: int64"
     },
     "metadata": {}
    }
   ]
  },
  {
   "cell_type": "code",
   "metadata": {
    "tags": [],
    "cell_id": "00020-0c89c2b7-c2f4-4e42-8988-b272d03ea4c3",
    "deepnote_to_be_reexecuted": false,
    "source_hash": "f2153776",
    "execution_start": 1625159297621,
    "execution_millis": 11,
    "deepnote_cell_type": "code"
   },
   "source": "male_to_female_ration = round(df.groupby(\"occupation\")[\"gender_numeric\"].sum() / df[\"occupation\"].value_counts()*100,1)\nmale_to_female_ration.sort_values(ascending=False)",
   "execution_count": null,
   "outputs": [
    {
     "output_type": "execute_result",
     "execution_count": 218,
     "data": {
      "text/plain": "doctor           100.0\nengineer          97.0\ntechnician        96.3\nretired           92.9\nprogrammer        90.9\nexecutive         90.6\nscientist         90.3\nentertainment     88.9\nlawyer            83.3\nsalesman          75.0\neducator          72.6\nstudent           69.4\nother             65.7\nmarketing         61.5\nwriter            57.8\nnone              55.6\nadministrator     54.4\nartist            53.6\nlibrarian         43.1\nhealthcare        31.2\nhomemaker         14.3\ndtype: float64"
     },
     "metadata": {}
    }
   ]
  },
  {
   "cell_type": "code",
   "metadata": {
    "tags": [],
    "cell_id": "00021-0c8020bd-a1f4-4399-af3f-75cce082e448",
    "deepnote_to_be_reexecuted": false,
    "source_hash": "86b2813e",
    "execution_start": 1625159364417,
    "execution_millis": 39,
    "deepnote_cell_type": "code"
   },
   "source": "df[df[\"occupation\"] == \"doctor\"]",
   "execution_count": null,
   "outputs": [
    {
     "output_type": "execute_result",
     "execution_count": 222,
     "data": {
      "application/vnd.deepnote.dataframe.v2+json": {
       "row_count": 7,
       "column_count": 5,
       "columns": [
        {
         "name": "age",
         "dtype": "int64",
         "stats": {
          "unique_count": 7,
          "nan_count": 0,
          "min": "28",
          "max": "64",
          "histogram": [
           {
            "bin_start": 28,
            "bin_end": 31.6,
            "count": 2
           },
           {
            "bin_start": 31.6,
            "bin_end": 35.2,
            "count": 0
           },
           {
            "bin_start": 35.2,
            "bin_end": 38.8,
            "count": 0
           },
           {
            "bin_start": 38.8,
            "bin_end": 42.4,
            "count": 1
           },
           {
            "bin_start": 42.4,
            "bin_end": 46,
            "count": 1
           },
           {
            "bin_start": 46,
            "bin_end": 49.6,
            "count": 1
           },
           {
            "bin_start": 49.6,
            "bin_end": 53.2,
            "count": 1
           },
           {
            "bin_start": 53.2,
            "bin_end": 56.8,
            "count": 0
           },
           {
            "bin_start": 56.8,
            "bin_end": 60.4,
            "count": 0
           },
           {
            "bin_start": 60.4,
            "bin_end": 64,
            "count": 1
           }
          ]
         }
        },
        {
         "name": "gender",
         "dtype": "object",
         "stats": {
          "unique_count": 1,
          "nan_count": 0,
          "categories": [
           {
            "name": "M",
            "count": 7
           }
          ]
         }
        },
        {
         "name": "occupation",
         "dtype": "object",
         "stats": {
          "unique_count": 1,
          "nan_count": 0,
          "categories": [
           {
            "name": "doctor",
            "count": 7
           }
          ]
         }
        },
        {
         "name": "zip_code",
         "dtype": "object",
         "stats": {
          "unique_count": 7,
          "nan_count": 0,
          "categories": [
           {
            "name": "53211",
            "count": 1
           },
           {
            "name": "85032",
            "count": 1
           },
           {
            "name": "5 others",
            "count": 5
           }
          ]
         }
        },
        {
         "name": "gender_numeric",
         "dtype": "int64",
         "stats": {
          "unique_count": 1,
          "nan_count": 0,
          "min": "1",
          "max": "1",
          "histogram": [
           {
            "bin_start": 0.5,
            "bin_end": 0.6,
            "count": 0
           },
           {
            "bin_start": 0.6,
            "bin_end": 0.7,
            "count": 0
           },
           {
            "bin_start": 0.7,
            "bin_end": 0.8,
            "count": 0
           },
           {
            "bin_start": 0.8,
            "bin_end": 0.9,
            "count": 0
           },
           {
            "bin_start": 0.9,
            "bin_end": 1,
            "count": 0
           },
           {
            "bin_start": 1,
            "bin_end": 1.1,
            "count": 7
           },
           {
            "bin_start": 1.1,
            "bin_end": 1.2000000000000002,
            "count": 0
           },
           {
            "bin_start": 1.2000000000000002,
            "bin_end": 1.3,
            "count": 0
           },
           {
            "bin_start": 1.3,
            "bin_end": 1.4,
            "count": 0
           },
           {
            "bin_start": 1.4,
            "bin_end": 1.5,
            "count": 0
           }
          ]
         }
        },
        {
         "name": "_deepnote_index_column",
         "dtype": "int64"
        }
       ],
       "rows_top": [
        {
         "age": 46,
         "gender": "M",
         "occupation": "doctor",
         "zip_code": "53211",
         "gender_numeric": 1,
         "_deepnote_index_column": 138
        },
        {
         "age": 28,
         "gender": "M",
         "occupation": "doctor",
         "zip_code": "85032",
         "gender_numeric": 1,
         "_deepnote_index_column": 251
        },
        {
         "age": 29,
         "gender": "M",
         "occupation": "doctor",
         "zip_code": "63108",
         "gender_numeric": 1,
         "_deepnote_index_column": 299
        },
        {
         "age": 51,
         "gender": "M",
         "occupation": "doctor",
         "zip_code": "85258",
         "gender_numeric": 1,
         "_deepnote_index_column": 427
        },
        {
         "age": 45,
         "gender": "M",
         "occupation": "doctor",
         "zip_code": "47401",
         "gender_numeric": 1,
         "_deepnote_index_column": 841
        },
        {
         "age": 64,
         "gender": "M",
         "occupation": "doctor",
         "zip_code": "97405",
         "gender_numeric": 1,
         "_deepnote_index_column": 845
        },
        {
         "age": 42,
         "gender": "M",
         "occupation": "doctor",
         "zip_code": "66221",
         "gender_numeric": 1,
         "_deepnote_index_column": 935
        }
       ],
       "rows_bottom": null
      },
      "text/plain": "         age gender occupation zip_code  gender_numeric\nuser_id                                                \n138       46      M     doctor    53211               1\n251       28      M     doctor    85032               1\n299       29      M     doctor    63108               1\n427       51      M     doctor    85258               1\n841       45      M     doctor    47401               1\n845       64      M     doctor    97405               1\n935       42      M     doctor    66221               1",
      "text/html": "<div>\n<style scoped>\n    .dataframe tbody tr th:only-of-type {\n        vertical-align: middle;\n    }\n\n    .dataframe tbody tr th {\n        vertical-align: top;\n    }\n\n    .dataframe thead th {\n        text-align: right;\n    }\n</style>\n<table border=\"1\" class=\"dataframe\">\n  <thead>\n    <tr style=\"text-align: right;\">\n      <th></th>\n      <th>age</th>\n      <th>gender</th>\n      <th>occupation</th>\n      <th>zip_code</th>\n      <th>gender_numeric</th>\n    </tr>\n    <tr>\n      <th>user_id</th>\n      <th></th>\n      <th></th>\n      <th></th>\n      <th></th>\n      <th></th>\n    </tr>\n  </thead>\n  <tbody>\n    <tr>\n      <th>138</th>\n      <td>46</td>\n      <td>M</td>\n      <td>doctor</td>\n      <td>53211</td>\n      <td>1</td>\n    </tr>\n    <tr>\n      <th>251</th>\n      <td>28</td>\n      <td>M</td>\n      <td>doctor</td>\n      <td>85032</td>\n      <td>1</td>\n    </tr>\n    <tr>\n      <th>299</th>\n      <td>29</td>\n      <td>M</td>\n      <td>doctor</td>\n      <td>63108</td>\n      <td>1</td>\n    </tr>\n    <tr>\n      <th>427</th>\n      <td>51</td>\n      <td>M</td>\n      <td>doctor</td>\n      <td>85258</td>\n      <td>1</td>\n    </tr>\n    <tr>\n      <th>841</th>\n      <td>45</td>\n      <td>M</td>\n      <td>doctor</td>\n      <td>47401</td>\n      <td>1</td>\n    </tr>\n    <tr>\n      <th>845</th>\n      <td>64</td>\n      <td>M</td>\n      <td>doctor</td>\n      <td>97405</td>\n      <td>1</td>\n    </tr>\n    <tr>\n      <th>935</th>\n      <td>42</td>\n      <td>M</td>\n      <td>doctor</td>\n      <td>66221</td>\n      <td>1</td>\n    </tr>\n  </tbody>\n</table>\n</div>"
     },
     "metadata": {}
    }
   ]
  },
  {
   "cell_type": "code",
   "metadata": {
    "tags": [],
    "cell_id": "00022-d86ac284-95ed-46cf-a3f1-1dd80ce0f25c",
    "deepnote_to_be_reexecuted": false,
    "source_hash": "7c4aa945",
    "execution_start": 1625159573756,
    "execution_millis": 9,
    "deepnote_cell_type": "code"
   },
   "source": "df.groupby(\"occupation\")[\"age\"].agg([\"min\",\"max\"]) ",
   "execution_count": null,
   "outputs": [
    {
     "output_type": "execute_result",
     "execution_count": 235,
     "data": {
      "application/vnd.deepnote.dataframe.v2+json": {
       "row_count": 21,
       "column_count": 2,
       "columns": [
        {
         "name": "min",
         "dtype": "int64",
         "stats": {
          "unique_count": 13,
          "nan_count": 0,
          "min": "7",
          "max": "51",
          "histogram": [
           {
            "bin_start": 7,
            "bin_end": 11.4,
            "count": 2
           },
           {
            "bin_start": 11.4,
            "bin_end": 15.8,
            "count": 2
           },
           {
            "bin_start": 15.8,
            "bin_end": 20.200000000000003,
            "count": 5
           },
           {
            "bin_start": 20.200000000000003,
            "bin_end": 24.6,
            "count": 10
           },
           {
            "bin_start": 24.6,
            "bin_end": 29,
            "count": 1
           },
           {
            "bin_start": 29,
            "bin_end": 33.400000000000006,
            "count": 0
           },
           {
            "bin_start": 33.400000000000006,
            "bin_end": 37.800000000000004,
            "count": 0
           },
           {
            "bin_start": 37.800000000000004,
            "bin_end": 42.2,
            "count": 0
           },
           {
            "bin_start": 42.2,
            "bin_end": 46.6,
            "count": 0
           },
           {
            "bin_start": 46.6,
            "bin_end": 51,
            "count": 1
           }
          ]
         }
        },
        {
         "name": "max",
         "dtype": "int64",
         "stats": {
          "unique_count": 13,
          "nan_count": 0,
          "min": "42",
          "max": "73",
          "histogram": [
           {
            "bin_start": 42,
            "bin_end": 45.1,
            "count": 1
           },
           {
            "bin_start": 45.1,
            "bin_end": 48.2,
            "count": 1
           },
           {
            "bin_start": 48.2,
            "bin_end": 51.3,
            "count": 2
           },
           {
            "bin_start": 51.3,
            "bin_end": 54.4,
            "count": 1
           },
           {
            "bin_start": 54.4,
            "bin_end": 57.5,
            "count": 4
           },
           {
            "bin_start": 57.5,
            "bin_end": 60.6,
            "count": 1
           },
           {
            "bin_start": 60.6,
            "bin_end": 63.7,
            "count": 3
           },
           {
            "bin_start": 63.7,
            "bin_end": 66.8,
            "count": 3
           },
           {
            "bin_start": 66.8,
            "bin_end": 69.9,
            "count": 2
           },
           {
            "bin_start": 69.9,
            "bin_end": 73,
            "count": 3
           }
          ]
         }
        },
        {
         "name": "_deepnote_index_column",
         "dtype": "object"
        }
       ],
       "rows_top": [
        {
         "min": 21,
         "max": 70,
         "_deepnote_index_column": "administrator"
        },
        {
         "min": 19,
         "max": 48,
         "_deepnote_index_column": "artist"
        },
        {
         "min": 28,
         "max": 64,
         "_deepnote_index_column": "doctor"
        },
        {
         "min": 23,
         "max": 63,
         "_deepnote_index_column": "educator"
        },
        {
         "min": 22,
         "max": 70,
         "_deepnote_index_column": "engineer"
        },
        {
         "min": 15,
         "max": 50,
         "_deepnote_index_column": "entertainment"
        },
        {
         "min": 22,
         "max": 69,
         "_deepnote_index_column": "executive"
        },
        {
         "min": 22,
         "max": 62,
         "_deepnote_index_column": "healthcare"
        },
        {
         "min": 20,
         "max": 50,
         "_deepnote_index_column": "homemaker"
        },
        {
         "min": 21,
         "max": 53,
         "_deepnote_index_column": "lawyer"
        },
        {
         "min": 23,
         "max": 69,
         "_deepnote_index_column": "librarian"
        },
        {
         "min": 24,
         "max": 55,
         "_deepnote_index_column": "marketing"
        },
        {
         "min": 11,
         "max": 55,
         "_deepnote_index_column": "none"
        },
        {
         "min": 13,
         "max": 64,
         "_deepnote_index_column": "other"
        },
        {
         "min": 20,
         "max": 63,
         "_deepnote_index_column": "programmer"
        },
        {
         "min": 51,
         "max": 73,
         "_deepnote_index_column": "retired"
        },
        {
         "min": 18,
         "max": 66,
         "_deepnote_index_column": "salesman"
        },
        {
         "min": 23,
         "max": 55,
         "_deepnote_index_column": "scientist"
        },
        {
         "min": 7,
         "max": 42,
         "_deepnote_index_column": "student"
        },
        {
         "min": 21,
         "max": 55,
         "_deepnote_index_column": "technician"
        },
        {
         "min": 18,
         "max": 60,
         "_deepnote_index_column": "writer"
        }
       ],
       "rows_bottom": null
      },
      "text/plain": "               min  max\noccupation             \nadministrator   21   70\nartist          19   48\ndoctor          28   64\neducator        23   63\nengineer        22   70\nentertainment   15   50\nexecutive       22   69\nhealthcare      22   62\nhomemaker       20   50\nlawyer          21   53\nlibrarian       23   69\nmarketing       24   55\nnone            11   55\nother           13   64\nprogrammer      20   63\nretired         51   73\nsalesman        18   66\nscientist       23   55\nstudent          7   42\ntechnician      21   55\nwriter          18   60",
      "text/html": "<div>\n<style scoped>\n    .dataframe tbody tr th:only-of-type {\n        vertical-align: middle;\n    }\n\n    .dataframe tbody tr th {\n        vertical-align: top;\n    }\n\n    .dataframe thead th {\n        text-align: right;\n    }\n</style>\n<table border=\"1\" class=\"dataframe\">\n  <thead>\n    <tr style=\"text-align: right;\">\n      <th></th>\n      <th>min</th>\n      <th>max</th>\n    </tr>\n    <tr>\n      <th>occupation</th>\n      <th></th>\n      <th></th>\n    </tr>\n  </thead>\n  <tbody>\n    <tr>\n      <th>administrator</th>\n      <td>21</td>\n      <td>70</td>\n    </tr>\n    <tr>\n      <th>artist</th>\n      <td>19</td>\n      <td>48</td>\n    </tr>\n    <tr>\n      <th>doctor</th>\n      <td>28</td>\n      <td>64</td>\n    </tr>\n    <tr>\n      <th>educator</th>\n      <td>23</td>\n      <td>63</td>\n    </tr>\n    <tr>\n      <th>engineer</th>\n      <td>22</td>\n      <td>70</td>\n    </tr>\n    <tr>\n      <th>entertainment</th>\n      <td>15</td>\n      <td>50</td>\n    </tr>\n    <tr>\n      <th>executive</th>\n      <td>22</td>\n      <td>69</td>\n    </tr>\n    <tr>\n      <th>healthcare</th>\n      <td>22</td>\n      <td>62</td>\n    </tr>\n    <tr>\n      <th>homemaker</th>\n      <td>20</td>\n      <td>50</td>\n    </tr>\n    <tr>\n      <th>lawyer</th>\n      <td>21</td>\n      <td>53</td>\n    </tr>\n    <tr>\n      <th>librarian</th>\n      <td>23</td>\n      <td>69</td>\n    </tr>\n    <tr>\n      <th>marketing</th>\n      <td>24</td>\n      <td>55</td>\n    </tr>\n    <tr>\n      <th>none</th>\n      <td>11</td>\n      <td>55</td>\n    </tr>\n    <tr>\n      <th>other</th>\n      <td>13</td>\n      <td>64</td>\n    </tr>\n    <tr>\n      <th>programmer</th>\n      <td>20</td>\n      <td>63</td>\n    </tr>\n    <tr>\n      <th>retired</th>\n      <td>51</td>\n      <td>73</td>\n    </tr>\n    <tr>\n      <th>salesman</th>\n      <td>18</td>\n      <td>66</td>\n    </tr>\n    <tr>\n      <th>scientist</th>\n      <td>23</td>\n      <td>55</td>\n    </tr>\n    <tr>\n      <th>student</th>\n      <td>7</td>\n      <td>42</td>\n    </tr>\n    <tr>\n      <th>technician</th>\n      <td>21</td>\n      <td>55</td>\n    </tr>\n    <tr>\n      <th>writer</th>\n      <td>18</td>\n      <td>60</td>\n    </tr>\n  </tbody>\n</table>\n</div>"
     },
     "metadata": {}
    }
   ]
  },
  {
   "cell_type": "code",
   "metadata": {
    "tags": [],
    "cell_id": "00023-3ab56901-d32f-4799-b469-e6d0861a0974",
    "deepnote_to_be_reexecuted": false,
    "source_hash": "ed2e82c0",
    "execution_start": 1625159655430,
    "execution_millis": 21,
    "deepnote_cell_type": "code"
   },
   "source": "df.groupby([\"occupation\", \"gender\"])[\"age\"].mean()",
   "execution_count": null,
   "outputs": [
    {
     "output_type": "execute_result",
     "execution_count": 240,
     "data": {
      "text/plain": "occupation     gender\nadministrator  F         40.638889\n               M         37.162791\nartist         F         30.307692\n               M         32.333333\ndoctor         M         43.571429\neducator       F         39.115385\n               M         43.101449\nengineer       F         29.500000\n               M         36.600000\nentertainment  F         31.000000\n               M         29.000000\nexecutive      F         44.000000\n               M         38.172414\nhealthcare     F         39.818182\n               M         45.400000\nhomemaker      F         34.166667\n               M         23.000000\nlawyer         F         39.500000\n               M         36.200000\nlibrarian      F         40.000000\n               M         40.000000\nmarketing      F         37.200000\n               M         37.875000\nnone           F         36.500000\n               M         18.600000\nother          F         35.472222\n               M         34.028986\nprogrammer     F         32.166667\n               M         33.216667\nretired        F         70.000000\n               M         62.538462\nsalesman       F         27.000000\n               M         38.555556\nscientist      F         28.333333\n               M         36.321429\nstudent        F         20.750000\n               M         22.669118\ntechnician     F         38.000000\n               M         32.961538\nwriter         F         37.631579\n               M         35.346154\nName: age, dtype: float64"
     },
     "metadata": {}
    }
   ]
  },
  {
   "cell_type": "markdown",
   "source": "<a style='text-decoration:none;line-height:16px;display:flex;color:#5B5B62;padding:10px;justify-content:end;' href='https://deepnote.com?utm_source=created-in-deepnote-cell&projectId=7d3ce7c8-a514-49e4-9ba4-a5899ac52ea5' target=\"_blank\">\n<img alt='Created in deepnote.com' style='display:inline;max-height:16px;margin:0px;margin-right:7.5px;' src='data:image/svg+xml;base64,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' > </img>\nCreated in <span style='font-weight:600;margin-left:4px;'>Deepnote</span></a>",
   "metadata": {
    "tags": [],
    "created_in_deepnote_cell": true,
    "deepnote_cell_type": "markdown"
   }
  }
 ],
 "nbformat": 4,
 "nbformat_minor": 2,
 "metadata": {
  "orig_nbformat": 2,
  "deepnote": {
   "is_reactive": false
  },
  "deepnote_notebook_id": "5b7fd659-4f59-4e4f-a7e1-aaffbc128df9",
  "deepnote_execution_queue": []
 }
}