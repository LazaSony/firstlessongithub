{
 "cells": [
  {
   "cell_type": "code",
   "metadata": {
    "tags": [],
    "cell_id": "00000-630ecb7f-5015-40fa-a0f7-141e867e181d",
    "deepnote_to_be_reexecuted": false,
    "source_hash": "909ef59e",
    "execution_start": 1629392248658,
    "execution_millis": 52,
    "deepnote_cell_type": "code"
   },
   "source": "import pandas as pd\n\nfrom sklearn import preprocessing\nfrom sklearn.linear_model import LinearRegression\nfrom sklearn.metrics import mean_squared_error, r2_score\nimport numpy as np\nfrom sklearn.model_selection import train_test_split\n\n\ndf = pd.read_csv(\"/work/data/lesson 2/california_housing_test.csv\")\ndf.head()",
   "execution_count": null,
   "outputs": [
    {
     "output_type": "execute_result",
     "execution_count": 4,
     "data": {
      "application/vnd.deepnote.dataframe.v2+json": {
       "row_count": 5,
       "column_count": 9,
       "columns": [
        {
         "name": "longitude",
         "dtype": "float64",
         "stats": {
          "unique_count": 5,
          "nan_count": 0,
          "min": "-122.05",
          "max": "-117.81",
          "histogram": [
           {
            "bin_start": -122.05,
            "bin_end": -121.626,
            "count": 1
           },
           {
            "bin_start": -121.626,
            "bin_end": -121.202,
            "count": 0
           },
           {
            "bin_start": -121.202,
            "bin_end": -120.77799999999999,
            "count": 0
           },
           {
            "bin_start": -120.77799999999999,
            "bin_end": -120.354,
            "count": 0
           },
           {
            "bin_start": -120.354,
            "bin_end": -119.93,
            "count": 0
           },
           {
            "bin_start": -119.93,
            "bin_end": -119.506,
            "count": 1
           },
           {
            "bin_start": -119.506,
            "bin_end": -119.082,
            "count": 0
           },
           {
            "bin_start": -119.082,
            "bin_end": -118.658,
            "count": 0
           },
           {
            "bin_start": -118.658,
            "bin_end": -118.23400000000001,
            "count": 2
           },
           {
            "bin_start": -118.23400000000001,
            "bin_end": -117.81,
            "count": 1
           }
          ]
         }
        },
        {
         "name": "latitude",
         "dtype": "float64",
         "stats": {
          "unique_count": 5,
          "nan_count": 0,
          "min": "33.78",
          "max": "37.37",
          "histogram": [
           {
            "bin_start": 33.78,
            "bin_end": 34.139,
            "count": 2
           },
           {
            "bin_start": 34.139,
            "bin_end": 34.498,
            "count": 1
           },
           {
            "bin_start": 34.498,
            "bin_end": 34.857,
            "count": 0
           },
           {
            "bin_start": 34.857,
            "bin_end": 35.216,
            "count": 0
           },
           {
            "bin_start": 35.216,
            "bin_end": 35.575,
            "count": 0
           },
           {
            "bin_start": 35.575,
            "bin_end": 35.934,
            "count": 0
           },
           {
            "bin_start": 35.934,
            "bin_end": 36.293,
            "count": 0
           },
           {
            "bin_start": 36.293,
            "bin_end": 36.652,
            "count": 1
           },
           {
            "bin_start": 36.652,
            "bin_end": 37.010999999999996,
            "count": 0
           },
           {
            "bin_start": 37.010999999999996,
            "bin_end": 37.37,
            "count": 1
           }
          ]
         }
        },
        {
         "name": "housing_median_age",
         "dtype": "float64",
         "stats": {
          "unique_count": 4,
          "nan_count": 0,
          "min": "19.0",
          "max": "43.0",
          "histogram": [
           {
            "bin_start": 19,
            "bin_end": 21.4,
            "count": 1
           },
           {
            "bin_start": 21.4,
            "bin_end": 23.8,
            "count": 0
           },
           {
            "bin_start": 23.8,
            "bin_end": 26.2,
            "count": 0
           },
           {
            "bin_start": 26.2,
            "bin_end": 28.6,
            "count": 3
           },
           {
            "bin_start": 28.6,
            "bin_end": 31,
            "count": 0
           },
           {
            "bin_start": 31,
            "bin_end": 33.4,
            "count": 0
           },
           {
            "bin_start": 33.4,
            "bin_end": 35.8,
            "count": 0
           },
           {
            "bin_start": 35.8,
            "bin_end": 38.2,
            "count": 0
           },
           {
            "bin_start": 38.2,
            "bin_end": 40.599999999999994,
            "count": 0
           },
           {
            "bin_start": 40.599999999999994,
            "bin_end": 43,
            "count": 1
           }
          ]
         }
        },
        {
         "name": "total_rooms",
         "dtype": "float64",
         "stats": {
          "unique_count": 5,
          "nan_count": 0,
          "min": "67.0",
          "max": "3885.0",
          "histogram": [
           {
            "bin_start": 67,
            "bin_end": 448.8,
            "count": 1
           },
           {
            "bin_start": 448.8,
            "bin_end": 830.6,
            "count": 0
           },
           {
            "bin_start": 830.6,
            "bin_end": 1212.4,
            "count": 0
           },
           {
            "bin_start": 1212.4,
            "bin_end": 1594.2,
            "count": 2
           },
           {
            "bin_start": 1594.2,
            "bin_end": 1976,
            "count": 0
           },
           {
            "bin_start": 1976,
            "bin_end": 2357.8,
            "count": 0
           },
           {
            "bin_start": 2357.8,
            "bin_end": 2739.6,
            "count": 0
           },
           {
            "bin_start": 2739.6,
            "bin_end": 3121.4,
            "count": 0
           },
           {
            "bin_start": 3121.4,
            "bin_end": 3503.2000000000003,
            "count": 0
           },
           {
            "bin_start": 3503.2000000000003,
            "bin_end": 3885,
            "count": 2
           }
          ]
         }
        },
        {
         "name": "total_bedrooms",
         "dtype": "float64",
         "stats": {
          "unique_count": 5,
          "nan_count": 0,
          "min": "15.0",
          "max": "661.0",
          "histogram": [
           {
            "bin_start": 15,
            "bin_end": 79.6,
            "count": 1
           },
           {
            "bin_start": 79.6,
            "bin_end": 144.2,
            "count": 0
           },
           {
            "bin_start": 144.2,
            "bin_end": 208.79999999999998,
            "count": 0
           },
           {
            "bin_start": 208.79999999999998,
            "bin_end": 273.4,
            "count": 1
           },
           {
            "bin_start": 273.4,
            "bin_end": 338,
            "count": 1
           },
           {
            "bin_start": 338,
            "bin_end": 402.59999999999997,
            "count": 0
           },
           {
            "bin_start": 402.59999999999997,
            "bin_end": 467.19999999999993,
            "count": 0
           },
           {
            "bin_start": 467.19999999999993,
            "bin_end": 531.8,
            "count": 1
           },
           {
            "bin_start": 531.8,
            "bin_end": 596.4,
            "count": 0
           },
           {
            "bin_start": 596.4,
            "bin_end": 661,
            "count": 1
           }
          ]
         }
        },
        {
         "name": "population",
         "dtype": "float64",
         "stats": {
          "unique_count": 5,
          "nan_count": 0,
          "min": "49.0",
          "max": "1537.0",
          "histogram": [
           {
            "bin_start": 49,
            "bin_end": 197.8,
            "count": 1
           },
           {
            "bin_start": 197.8,
            "bin_end": 346.6,
            "count": 0
           },
           {
            "bin_start": 346.6,
            "bin_end": 495.40000000000003,
            "count": 0
           },
           {
            "bin_start": 495.40000000000003,
            "bin_end": 644.2,
            "count": 0
           },
           {
            "bin_start": 644.2,
            "bin_end": 793,
            "count": 0
           },
           {
            "bin_start": 793,
            "bin_end": 941.8000000000001,
            "count": 2
           },
           {
            "bin_start": 941.8000000000001,
            "bin_end": 1090.6000000000001,
            "count": 0
           },
           {
            "bin_start": 1090.6000000000001,
            "bin_end": 1239.4,
            "count": 0
           },
           {
            "bin_start": 1239.4,
            "bin_end": 1388.2,
            "count": 0
           },
           {
            "bin_start": 1388.2,
            "bin_end": 1537,
            "count": 2
           }
          ]
         }
        },
        {
         "name": "households",
         "dtype": "float64",
         "stats": {
          "unique_count": 5,
          "nan_count": 0,
          "min": "11.0",
          "max": "606.0",
          "histogram": [
           {
            "bin_start": 11,
            "bin_end": 70.5,
            "count": 1
           },
           {
            "bin_start": 70.5,
            "bin_end": 130,
            "count": 0
           },
           {
            "bin_start": 130,
            "bin_end": 189.5,
            "count": 0
           },
           {
            "bin_start": 189.5,
            "bin_end": 249,
            "count": 1
           },
           {
            "bin_start": 249,
            "bin_end": 308.5,
            "count": 1
           },
           {
            "bin_start": 308.5,
            "bin_end": 368,
            "count": 0
           },
           {
            "bin_start": 368,
            "bin_end": 427.5,
            "count": 0
           },
           {
            "bin_start": 427.5,
            "bin_end": 487,
            "count": 0
           },
           {
            "bin_start": 487,
            "bin_end": 546.5,
            "count": 1
           },
           {
            "bin_start": 546.5,
            "bin_end": 606,
            "count": 1
           }
          ]
         }
        },
        {
         "name": "median_income",
         "dtype": "float64",
         "stats": {
          "unique_count": 5,
          "nan_count": 0,
          "min": "2.9375",
          "max": "6.6085",
          "histogram": [
           {
            "bin_start": 2.9375,
            "bin_end": 3.3046,
            "count": 1
           },
           {
            "bin_start": 3.3046,
            "bin_end": 3.6717,
            "count": 1
           },
           {
            "bin_start": 3.6717,
            "bin_end": 4.0388,
            "count": 0
           },
           {
            "bin_start": 4.0388,
            "bin_end": 4.4059,
            "count": 0
           },
           {
            "bin_start": 4.4059,
            "bin_end": 4.773,
            "count": 0
           },
           {
            "bin_start": 4.773,
            "bin_end": 5.1401,
            "count": 0
           },
           {
            "bin_start": 5.1401,
            "bin_end": 5.5072,
            "count": 0
           },
           {
            "bin_start": 5.5072,
            "bin_end": 5.8743,
            "count": 1
           },
           {
            "bin_start": 5.8743,
            "bin_end": 6.2414000000000005,
            "count": 1
           },
           {
            "bin_start": 6.2414000000000005,
            "bin_end": 6.6085,
            "count": 1
           }
          ]
         }
        },
        {
         "name": "median_house_value",
         "dtype": "float64",
         "stats": {
          "unique_count": 5,
          "nan_count": 0,
          "min": "81700.0",
          "max": "344700.0",
          "histogram": [
           {
            "bin_start": 81700,
            "bin_end": 108000,
            "count": 1
           },
           {
            "bin_start": 108000,
            "bin_end": 134300,
            "count": 0
           },
           {
            "bin_start": 134300,
            "bin_end": 160600,
            "count": 0
           },
           {
            "bin_start": 160600,
            "bin_end": 186900,
            "count": 1
           },
           {
            "bin_start": 186900,
            "bin_end": 213200,
            "count": 0
           },
           {
            "bin_start": 213200,
            "bin_end": 239500,
            "count": 0
           },
           {
            "bin_start": 239500,
            "bin_end": 265800,
            "count": 0
           },
           {
            "bin_start": 265800,
            "bin_end": 292100,
            "count": 1
           },
           {
            "bin_start": 292100,
            "bin_end": 318400,
            "count": 0
           },
           {
            "bin_start": 318400,
            "bin_end": 344700,
            "count": 2
           }
          ]
         }
        },
        {
         "name": "_deepnote_index_column",
         "dtype": "int64"
        }
       ],
       "rows_top": [
        {
         "longitude": -122.05,
         "latitude": 37.37,
         "housing_median_age": 27,
         "total_rooms": 3885,
         "total_bedrooms": 661,
         "population": 1537,
         "households": 606,
         "median_income": 6.6085,
         "median_house_value": 344700,
         "_deepnote_index_column": 0
        },
        {
         "longitude": -118.3,
         "latitude": 34.26,
         "housing_median_age": 43,
         "total_rooms": 1510,
         "total_bedrooms": 310,
         "population": 809,
         "households": 277,
         "median_income": 3.599,
         "median_house_value": 176500,
         "_deepnote_index_column": 1
        },
        {
         "longitude": -117.81,
         "latitude": 33.78,
         "housing_median_age": 27,
         "total_rooms": 3589,
         "total_bedrooms": 507,
         "population": 1484,
         "households": 495,
         "median_income": 5.7934,
         "median_house_value": 270500,
         "_deepnote_index_column": 2
        },
        {
         "longitude": -118.36,
         "latitude": 33.82,
         "housing_median_age": 28,
         "total_rooms": 67,
         "total_bedrooms": 15,
         "population": 49,
         "households": 11,
         "median_income": 6.1359,
         "median_house_value": 330000,
         "_deepnote_index_column": 3
        },
        {
         "longitude": -119.67,
         "latitude": 36.33,
         "housing_median_age": 19,
         "total_rooms": 1241,
         "total_bedrooms": 244,
         "population": 850,
         "households": 237,
         "median_income": 2.9375,
         "median_house_value": 81700,
         "_deepnote_index_column": 4
        }
       ],
       "rows_bottom": null
      },
      "text/plain": "   longitude  latitude  housing_median_age  total_rooms  total_bedrooms  \\\n0    -122.05     37.37                27.0       3885.0           661.0   \n1    -118.30     34.26                43.0       1510.0           310.0   \n2    -117.81     33.78                27.0       3589.0           507.0   \n3    -118.36     33.82                28.0         67.0            15.0   \n4    -119.67     36.33                19.0       1241.0           244.0   \n\n   population  households  median_income  median_house_value  \n0      1537.0       606.0         6.6085            344700.0  \n1       809.0       277.0         3.5990            176500.0  \n2      1484.0       495.0         5.7934            270500.0  \n3        49.0        11.0         6.1359            330000.0  \n4       850.0       237.0         2.9375             81700.0  ",
      "text/html": "<div>\n<style scoped>\n    .dataframe tbody tr th:only-of-type {\n        vertical-align: middle;\n    }\n\n    .dataframe tbody tr th {\n        vertical-align: top;\n    }\n\n    .dataframe thead th {\n        text-align: right;\n    }\n</style>\n<table border=\"1\" class=\"dataframe\">\n  <thead>\n    <tr style=\"text-align: right;\">\n      <th></th>\n      <th>longitude</th>\n      <th>latitude</th>\n      <th>housing_median_age</th>\n      <th>total_rooms</th>\n      <th>total_bedrooms</th>\n      <th>population</th>\n      <th>households</th>\n      <th>median_income</th>\n      <th>median_house_value</th>\n    </tr>\n  </thead>\n  <tbody>\n    <tr>\n      <th>0</th>\n      <td>-122.05</td>\n      <td>37.37</td>\n      <td>27.0</td>\n      <td>3885.0</td>\n      <td>661.0</td>\n      <td>1537.0</td>\n      <td>606.0</td>\n      <td>6.6085</td>\n      <td>344700.0</td>\n    </tr>\n    <tr>\n      <th>1</th>\n      <td>-118.30</td>\n      <td>34.26</td>\n      <td>43.0</td>\n      <td>1510.0</td>\n      <td>310.0</td>\n      <td>809.0</td>\n      <td>277.0</td>\n      <td>3.5990</td>\n      <td>176500.0</td>\n    </tr>\n    <tr>\n      <th>2</th>\n      <td>-117.81</td>\n      <td>33.78</td>\n      <td>27.0</td>\n      <td>3589.0</td>\n      <td>507.0</td>\n      <td>1484.0</td>\n      <td>495.0</td>\n      <td>5.7934</td>\n      <td>270500.0</td>\n    </tr>\n    <tr>\n      <th>3</th>\n      <td>-118.36</td>\n      <td>33.82</td>\n      <td>28.0</td>\n      <td>67.0</td>\n      <td>15.0</td>\n      <td>49.0</td>\n      <td>11.0</td>\n      <td>6.1359</td>\n      <td>330000.0</td>\n    </tr>\n    <tr>\n      <th>4</th>\n      <td>-119.67</td>\n      <td>36.33</td>\n      <td>19.0</td>\n      <td>1241.0</td>\n      <td>244.0</td>\n      <td>850.0</td>\n      <td>237.0</td>\n      <td>2.9375</td>\n      <td>81700.0</td>\n    </tr>\n  </tbody>\n</table>\n</div>"
     },
     "metadata": {}
    }
   ]
  },
  {
   "cell_type": "code",
   "metadata": {
    "tags": [],
    "cell_id": "00001-87f7584a-1708-4173-ba15-a3e62bf1b6ae",
    "deepnote_to_be_reexecuted": false,
    "source_hash": "ea8ff8d2",
    "execution_start": 1629393738109,
    "execution_millis": 4,
    "deepnote_cell_type": "code"
   },
   "source": "from sklearn.tree import DecisionTreeRegressor",
   "execution_count": null,
   "outputs": []
  },
  {
   "cell_type": "code",
   "metadata": {
    "tags": [],
    "cell_id": "00002-34f25bb8-9b6c-423d-a31c-f691927b1089",
    "deepnote_to_be_reexecuted": false,
    "source_hash": "fca74293",
    "execution_start": 1629393749063,
    "execution_millis": 34,
    "deepnote_cell_type": "code"
   },
   "source": "# X = df[[\"housing_median_age\", 'total_rooms','total_bedrooms', 'population', 'households', 'median_income']]\ny = df[[\"median_house_value\"]]\n# FEATURE ENGINEERING\n# NEW COLUMNS\n# INPUTE MISSING VALUES\n\n# PREPROCESSING - SCALING?\nscaler = preprocessing.StandardScaler().fit(X)\nX = scaler.transform(X)\n\n# SEPARATE DATA INTO TRAINING AND TESTING\nX_train, X_test, Y_train, Y_test = train_test_split(X, y, test_size = 0.3, random_state=5, shuffle=True)\n\n# CREATE MODEL WITH PARAMETERS\n# model = LinearRegression()\nmodel = DecisionTreeRegressor(random_state=0)\n#TRAIN\nmodel.fit(X_train, Y_train)\n\n#PREDICT\ny_test_predict = model.predict(X_test)\nrmse = np.sqrt(mean_squared_error(Y_test, y_test_predict))\nrmse",
   "execution_count": null,
   "outputs": [
    {
     "output_type": "execute_result",
     "execution_count": 59,
     "data": {
      "text/plain": "114373.6036694824"
     },
     "metadata": {}
    }
   ]
  },
  {
   "cell_type": "markdown",
   "source": "<a style='text-decoration:none;line-height:16px;display:flex;color:#5B5B62;padding:10px;justify-content:end;' href='https://deepnote.com?utm_source=created-in-deepnote-cell&projectId=7d3ce7c8-a514-49e4-9ba4-a5899ac52ea5' target=\"_blank\">\n<img alt='Created in deepnote.com' style='display:inline;max-height:16px;margin:0px;margin-right:7.5px;' src='data:image/svg+xml;base64,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' > </img>\nCreated in <span style='font-weight:600;margin-left:4px;'>Deepnote</span></a>",
   "metadata": {
    "tags": [],
    "created_in_deepnote_cell": true,
    "deepnote_cell_type": "markdown"
   }
  }
 ],
 "nbformat": 4,
 "nbformat_minor": 2,
 "metadata": {
  "orig_nbformat": 2,
  "deepnote": {
   "is_reactive": false
  },
  "deepnote_notebook_id": "238b1b71-e07d-460c-bb2d-de34d1150f32",
  "deepnote_execution_queue": []
 }
}