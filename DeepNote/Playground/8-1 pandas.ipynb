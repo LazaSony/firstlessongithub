{
 "cells": [
  {
   "cell_type": "code",
   "metadata": {
    "tags": [],
    "cell_id": "00000-77a752bc-7e69-4d99-a9c9-6ba3106c9d48",
    "deepnote_to_be_reexecuted": false,
    "source_hash": "6abe2d7c",
    "execution_start": 1626107618753,
    "execution_millis": 155,
    "deepnote_cell_type": "code"
   },
   "source": "url = \"https://gist.githubusercontent.com/michhar/2dfd2de0d4f8727f873422c5d959fff5/raw/fa71405126017e6a37bea592440b4bee94bf7b9e/titanic.csv\"\n\nimport pandas as pd\n\ndf= pd.read_csv(url,error_bad_lines=False)\ndf.head()",
   "execution_count": null,
   "outputs": [
    {
     "output_type": "execute_result",
     "execution_count": 68,
     "data": {
      "application/vnd.deepnote.dataframe.v2+json": {
       "row_count": 5,
       "column_count": 12,
       "columns": [
        {
         "name": "PassengerId",
         "dtype": "int64",
         "stats": {
          "unique_count": 5,
          "nan_count": 0,
          "min": "1",
          "max": "5",
          "histogram": [
           {
            "bin_start": 1,
            "bin_end": 1.4,
            "count": 1
           },
           {
            "bin_start": 1.4,
            "bin_end": 1.8,
            "count": 0
           },
           {
            "bin_start": 1.8,
            "bin_end": 2.2,
            "count": 1
           },
           {
            "bin_start": 2.2,
            "bin_end": 2.6,
            "count": 0
           },
           {
            "bin_start": 2.6,
            "bin_end": 3,
            "count": 0
           },
           {
            "bin_start": 3,
            "bin_end": 3.4000000000000004,
            "count": 1
           },
           {
            "bin_start": 3.4000000000000004,
            "bin_end": 3.8000000000000003,
            "count": 0
           },
           {
            "bin_start": 3.8000000000000003,
            "bin_end": 4.2,
            "count": 1
           },
           {
            "bin_start": 4.2,
            "bin_end": 4.6,
            "count": 0
           },
           {
            "bin_start": 4.6,
            "bin_end": 5,
            "count": 1
           }
          ]
         }
        },
        {
         "name": "Survived",
         "dtype": "int64",
         "stats": {
          "unique_count": 2,
          "nan_count": 0,
          "min": "0",
          "max": "1",
          "histogram": [
           {
            "bin_start": 0,
            "bin_end": 0.1,
            "count": 2
           },
           {
            "bin_start": 0.1,
            "bin_end": 0.2,
            "count": 0
           },
           {
            "bin_start": 0.2,
            "bin_end": 0.30000000000000004,
            "count": 0
           },
           {
            "bin_start": 0.30000000000000004,
            "bin_end": 0.4,
            "count": 0
           },
           {
            "bin_start": 0.4,
            "bin_end": 0.5,
            "count": 0
           },
           {
            "bin_start": 0.5,
            "bin_end": 0.6000000000000001,
            "count": 0
           },
           {
            "bin_start": 0.6000000000000001,
            "bin_end": 0.7000000000000001,
            "count": 0
           },
           {
            "bin_start": 0.7000000000000001,
            "bin_end": 0.8,
            "count": 0
           },
           {
            "bin_start": 0.8,
            "bin_end": 0.9,
            "count": 0
           },
           {
            "bin_start": 0.9,
            "bin_end": 1,
            "count": 3
           }
          ]
         }
        },
        {
         "name": "Pclass",
         "dtype": "int64",
         "stats": {
          "unique_count": 2,
          "nan_count": 0,
          "min": "1",
          "max": "3",
          "histogram": [
           {
            "bin_start": 1,
            "bin_end": 1.2,
            "count": 2
           },
           {
            "bin_start": 1.2,
            "bin_end": 1.4,
            "count": 0
           },
           {
            "bin_start": 1.4,
            "bin_end": 1.6,
            "count": 0
           },
           {
            "bin_start": 1.6,
            "bin_end": 1.8,
            "count": 0
           },
           {
            "bin_start": 1.8,
            "bin_end": 2,
            "count": 0
           },
           {
            "bin_start": 2,
            "bin_end": 2.2,
            "count": 0
           },
           {
            "bin_start": 2.2,
            "bin_end": 2.4000000000000004,
            "count": 0
           },
           {
            "bin_start": 2.4000000000000004,
            "bin_end": 2.6,
            "count": 0
           },
           {
            "bin_start": 2.6,
            "bin_end": 2.8,
            "count": 0
           },
           {
            "bin_start": 2.8,
            "bin_end": 3,
            "count": 3
           }
          ]
         }
        },
        {
         "name": "Name",
         "dtype": "object",
         "stats": {
          "unique_count": 5,
          "nan_count": 0,
          "categories": [
           {
            "name": "Braund, Mr. Owen Harris",
            "count": 1
           },
           {
            "name": "Cumings, Mrs. John Bradley (Florence Briggs Thayer)",
            "count": 1
           },
           {
            "name": "3 others",
            "count": 3
           }
          ]
         }
        },
        {
         "name": "Sex",
         "dtype": "object",
         "stats": {
          "unique_count": 2,
          "nan_count": 0,
          "categories": [
           {
            "name": "female",
            "count": 3
           },
           {
            "name": "male",
            "count": 2
           }
          ]
         }
        },
        {
         "name": "Age",
         "dtype": "float64",
         "stats": {
          "unique_count": 4,
          "nan_count": 0,
          "min": "22.0",
          "max": "38.0",
          "histogram": [
           {
            "bin_start": 22,
            "bin_end": 23.6,
            "count": 1
           },
           {
            "bin_start": 23.6,
            "bin_end": 25.2,
            "count": 0
           },
           {
            "bin_start": 25.2,
            "bin_end": 26.8,
            "count": 1
           },
           {
            "bin_start": 26.8,
            "bin_end": 28.4,
            "count": 0
           },
           {
            "bin_start": 28.4,
            "bin_end": 30,
            "count": 0
           },
           {
            "bin_start": 30,
            "bin_end": 31.6,
            "count": 0
           },
           {
            "bin_start": 31.6,
            "bin_end": 33.2,
            "count": 0
           },
           {
            "bin_start": 33.2,
            "bin_end": 34.8,
            "count": 0
           },
           {
            "bin_start": 34.8,
            "bin_end": 36.4,
            "count": 2
           },
           {
            "bin_start": 36.4,
            "bin_end": 38,
            "count": 1
           }
          ]
         }
        },
        {
         "name": "SibSp",
         "dtype": "int64",
         "stats": {
          "unique_count": 2,
          "nan_count": 0,
          "min": "0",
          "max": "1",
          "histogram": [
           {
            "bin_start": 0,
            "bin_end": 0.1,
            "count": 2
           },
           {
            "bin_start": 0.1,
            "bin_end": 0.2,
            "count": 0
           },
           {
            "bin_start": 0.2,
            "bin_end": 0.30000000000000004,
            "count": 0
           },
           {
            "bin_start": 0.30000000000000004,
            "bin_end": 0.4,
            "count": 0
           },
           {
            "bin_start": 0.4,
            "bin_end": 0.5,
            "count": 0
           },
           {
            "bin_start": 0.5,
            "bin_end": 0.6000000000000001,
            "count": 0
           },
           {
            "bin_start": 0.6000000000000001,
            "bin_end": 0.7000000000000001,
            "count": 0
           },
           {
            "bin_start": 0.7000000000000001,
            "bin_end": 0.8,
            "count": 0
           },
           {
            "bin_start": 0.8,
            "bin_end": 0.9,
            "count": 0
           },
           {
            "bin_start": 0.9,
            "bin_end": 1,
            "count": 3
           }
          ]
         }
        },
        {
         "name": "Parch",
         "dtype": "int64",
         "stats": {
          "unique_count": 1,
          "nan_count": 0,
          "min": "0",
          "max": "0",
          "histogram": [
           {
            "bin_start": -0.5,
            "bin_end": -0.4,
            "count": 0
           },
           {
            "bin_start": -0.4,
            "bin_end": -0.3,
            "count": 0
           },
           {
            "bin_start": -0.3,
            "bin_end": -0.19999999999999996,
            "count": 0
           },
           {
            "bin_start": -0.19999999999999996,
            "bin_end": -0.09999999999999998,
            "count": 0
           },
           {
            "bin_start": -0.09999999999999998,
            "bin_end": 0,
            "count": 0
           },
           {
            "bin_start": 0,
            "bin_end": 0.10000000000000009,
            "count": 5
           },
           {
            "bin_start": 0.10000000000000009,
            "bin_end": 0.20000000000000007,
            "count": 0
           },
           {
            "bin_start": 0.20000000000000007,
            "bin_end": 0.30000000000000004,
            "count": 0
           },
           {
            "bin_start": 0.30000000000000004,
            "bin_end": 0.4,
            "count": 0
           },
           {
            "bin_start": 0.4,
            "bin_end": 0.5,
            "count": 0
           }
          ]
         }
        },
        {
         "name": "Ticket",
         "dtype": "object",
         "stats": {
          "unique_count": 5,
          "nan_count": 0,
          "categories": [
           {
            "name": "A/5 21171",
            "count": 1
           },
           {
            "name": "PC 17599",
            "count": 1
           },
           {
            "name": "3 others",
            "count": 3
           }
          ]
         }
        },
        {
         "name": "Fare",
         "dtype": "float64",
         "stats": {
          "unique_count": 5,
          "nan_count": 0,
          "min": "7.25",
          "max": "71.2833",
          "histogram": [
           {
            "bin_start": 7.25,
            "bin_end": 13.65333,
            "count": 3
           },
           {
            "bin_start": 13.65333,
            "bin_end": 20.05666,
            "count": 0
           },
           {
            "bin_start": 20.05666,
            "bin_end": 26.459989999999998,
            "count": 0
           },
           {
            "bin_start": 26.459989999999998,
            "bin_end": 32.86332,
            "count": 0
           },
           {
            "bin_start": 32.86332,
            "bin_end": 39.26665,
            "count": 0
           },
           {
            "bin_start": 39.26665,
            "bin_end": 45.669979999999995,
            "count": 0
           },
           {
            "bin_start": 45.669979999999995,
            "bin_end": 52.07331,
            "count": 0
           },
           {
            "bin_start": 52.07331,
            "bin_end": 58.476639999999996,
            "count": 1
           },
           {
            "bin_start": 58.476639999999996,
            "bin_end": 64.87996999999999,
            "count": 0
           },
           {
            "bin_start": 64.87996999999999,
            "bin_end": 71.2833,
            "count": 1
           }
          ]
         }
        },
        {
         "name": "Cabin",
         "dtype": "object",
         "stats": {
          "unique_count": 2,
          "nan_count": 3,
          "categories": [
           {
            "name": "C85",
            "count": 1
           },
           {
            "name": "C123",
            "count": 1
           },
           {
            "name": "Missing",
            "count": 3
           }
          ]
         }
        },
        {
         "name": "Embarked",
         "dtype": "object",
         "stats": {
          "unique_count": 2,
          "nan_count": 0,
          "categories": [
           {
            "name": "S",
            "count": 4
           },
           {
            "name": "C",
            "count": 1
           }
          ]
         }
        },
        {
         "name": "_deepnote_index_column",
         "dtype": "int64"
        }
       ],
       "rows_top": [
        {
         "PassengerId": 1,
         "Survived": 0,
         "Pclass": 3,
         "Name": "Braund, Mr. Owen Harris",
         "Sex": "male",
         "Age": 22,
         "SibSp": 1,
         "Parch": 0,
         "Ticket": "A/5 21171",
         "Fare": 7.25,
         "Cabin": "nan",
         "Embarked": "S",
         "_deepnote_index_column": 0
        },
        {
         "PassengerId": 2,
         "Survived": 1,
         "Pclass": 1,
         "Name": "Cumings, Mrs. John Bradley (Florence Briggs Thayer)",
         "Sex": "female",
         "Age": 38,
         "SibSp": 1,
         "Parch": 0,
         "Ticket": "PC 17599",
         "Fare": 71.2833,
         "Cabin": "C85",
         "Embarked": "C",
         "_deepnote_index_column": 1
        },
        {
         "PassengerId": 3,
         "Survived": 1,
         "Pclass": 3,
         "Name": "Heikkinen, Miss. Laina",
         "Sex": "female",
         "Age": 26,
         "SibSp": 0,
         "Parch": 0,
         "Ticket": "STON/O2. 3101282",
         "Fare": 7.925,
         "Cabin": "nan",
         "Embarked": "S",
         "_deepnote_index_column": 2
        },
        {
         "PassengerId": 4,
         "Survived": 1,
         "Pclass": 1,
         "Name": "Futrelle, Mrs. Jacques Heath (Lily May Peel)",
         "Sex": "female",
         "Age": 35,
         "SibSp": 1,
         "Parch": 0,
         "Ticket": "113803",
         "Fare": 53.1,
         "Cabin": "C123",
         "Embarked": "S",
         "_deepnote_index_column": 3
        },
        {
         "PassengerId": 5,
         "Survived": 0,
         "Pclass": 3,
         "Name": "Allen, Mr. William Henry",
         "Sex": "male",
         "Age": 35,
         "SibSp": 0,
         "Parch": 0,
         "Ticket": "373450",
         "Fare": 8.05,
         "Cabin": "nan",
         "Embarked": "S",
         "_deepnote_index_column": 4
        }
       ],
       "rows_bottom": null
      },
      "text/plain": "   PassengerId  Survived  Pclass  \\\n0            1         0       3   \n1            2         1       1   \n2            3         1       3   \n3            4         1       1   \n4            5         0       3   \n\n                                                Name     Sex   Age  SibSp  \\\n0                            Braund, Mr. Owen Harris    male  22.0      1   \n1  Cumings, Mrs. John Bradley (Florence Briggs Th...  female  38.0      1   \n2                             Heikkinen, Miss. Laina  female  26.0      0   \n3       Futrelle, Mrs. Jacques Heath (Lily May Peel)  female  35.0      1   \n4                           Allen, Mr. William Henry    male  35.0      0   \n\n   Parch            Ticket     Fare Cabin Embarked  \n0      0         A/5 21171   7.2500   NaN        S  \n1      0          PC 17599  71.2833   C85        C  \n2      0  STON/O2. 3101282   7.9250   NaN        S  \n3      0            113803  53.1000  C123        S  \n4      0            373450   8.0500   NaN        S  ",
      "text/html": "<div>\n<style scoped>\n    .dataframe tbody tr th:only-of-type {\n        vertical-align: middle;\n    }\n\n    .dataframe tbody tr th {\n        vertical-align: top;\n    }\n\n    .dataframe thead th {\n        text-align: right;\n    }\n</style>\n<table border=\"1\" class=\"dataframe\">\n  <thead>\n    <tr style=\"text-align: right;\">\n      <th></th>\n      <th>PassengerId</th>\n      <th>Survived</th>\n      <th>Pclass</th>\n      <th>Name</th>\n      <th>Sex</th>\n      <th>Age</th>\n      <th>SibSp</th>\n      <th>Parch</th>\n      <th>Ticket</th>\n      <th>Fare</th>\n      <th>Cabin</th>\n      <th>Embarked</th>\n    </tr>\n  </thead>\n  <tbody>\n    <tr>\n      <th>0</th>\n      <td>1</td>\n      <td>0</td>\n      <td>3</td>\n      <td>Braund, Mr. Owen Harris</td>\n      <td>male</td>\n      <td>22.0</td>\n      <td>1</td>\n      <td>0</td>\n      <td>A/5 21171</td>\n      <td>7.2500</td>\n      <td>NaN</td>\n      <td>S</td>\n    </tr>\n    <tr>\n      <th>1</th>\n      <td>2</td>\n      <td>1</td>\n      <td>1</td>\n      <td>Cumings, Mrs. John Bradley (Florence Briggs Th...</td>\n      <td>female</td>\n      <td>38.0</td>\n      <td>1</td>\n      <td>0</td>\n      <td>PC 17599</td>\n      <td>71.2833</td>\n      <td>C85</td>\n      <td>C</td>\n    </tr>\n    <tr>\n      <th>2</th>\n      <td>3</td>\n      <td>1</td>\n      <td>3</td>\n      <td>Heikkinen, Miss. Laina</td>\n      <td>female</td>\n      <td>26.0</td>\n      <td>0</td>\n      <td>0</td>\n      <td>STON/O2. 3101282</td>\n      <td>7.9250</td>\n      <td>NaN</td>\n      <td>S</td>\n    </tr>\n    <tr>\n      <th>3</th>\n      <td>4</td>\n      <td>1</td>\n      <td>1</td>\n      <td>Futrelle, Mrs. Jacques Heath (Lily May Peel)</td>\n      <td>female</td>\n      <td>35.0</td>\n      <td>1</td>\n      <td>0</td>\n      <td>113803</td>\n      <td>53.1000</td>\n      <td>C123</td>\n      <td>S</td>\n    </tr>\n    <tr>\n      <th>4</th>\n      <td>5</td>\n      <td>0</td>\n      <td>3</td>\n      <td>Allen, Mr. William Henry</td>\n      <td>male</td>\n      <td>35.0</td>\n      <td>0</td>\n      <td>0</td>\n      <td>373450</td>\n      <td>8.0500</td>\n      <td>NaN</td>\n      <td>S</td>\n    </tr>\n  </tbody>\n</table>\n</div>"
     },
     "metadata": {}
    }
   ]
  },
  {
   "cell_type": "code",
   "metadata": {
    "tags": [],
    "cell_id": "00001-2bfcdc95-9408-412c-875f-e5c6aa7c27ad",
    "deepnote_to_be_reexecuted": false,
    "source_hash": "cc19d3e6",
    "execution_start": 1626109216615,
    "execution_millis": 21,
    "deepnote_cell_type": "code"
   },
   "source": "",
   "execution_count": null,
   "outputs": [
    {
     "output_type": "execute_result",
     "execution_count": 156,
     "data": {
      "application/vnd.deepnote.dataframe.v2+json": {
       "row_count": 2,
       "column_count": 3,
       "columns": [
        {
         "name": "min",
         "dtype": "float64",
         "stats": {
          "unique_count": 2,
          "nan_count": 0,
          "min": "0.42",
          "max": "0.75",
          "histogram": [
           {
            "bin_start": 0.42,
            "bin_end": 0.45299999999999996,
            "count": 1
           },
           {
            "bin_start": 0.45299999999999996,
            "bin_end": 0.486,
            "count": 0
           },
           {
            "bin_start": 0.486,
            "bin_end": 0.519,
            "count": 0
           },
           {
            "bin_start": 0.519,
            "bin_end": 0.552,
            "count": 0
           },
           {
            "bin_start": 0.552,
            "bin_end": 0.585,
            "count": 0
           },
           {
            "bin_start": 0.585,
            "bin_end": 0.618,
            "count": 0
           },
           {
            "bin_start": 0.618,
            "bin_end": 0.651,
            "count": 0
           },
           {
            "bin_start": 0.651,
            "bin_end": 0.6839999999999999,
            "count": 0
           },
           {
            "bin_start": 0.6839999999999999,
            "bin_end": 0.7170000000000001,
            "count": 0
           },
           {
            "bin_start": 0.7170000000000001,
            "bin_end": 0.75,
            "count": 1
           }
          ]
         }
        },
        {
         "name": "max",
         "dtype": "float64",
         "stats": {
          "unique_count": 2,
          "nan_count": 0,
          "min": "63.0",
          "max": "80.0",
          "histogram": [
           {
            "bin_start": 63,
            "bin_end": 64.7,
            "count": 1
           },
           {
            "bin_start": 64.7,
            "bin_end": 66.4,
            "count": 0
           },
           {
            "bin_start": 66.4,
            "bin_end": 68.1,
            "count": 0
           },
           {
            "bin_start": 68.1,
            "bin_end": 69.8,
            "count": 0
           },
           {
            "bin_start": 69.8,
            "bin_end": 71.5,
            "count": 0
           },
           {
            "bin_start": 71.5,
            "bin_end": 73.2,
            "count": 0
           },
           {
            "bin_start": 73.2,
            "bin_end": 74.9,
            "count": 0
           },
           {
            "bin_start": 74.9,
            "bin_end": 76.6,
            "count": 0
           },
           {
            "bin_start": 76.6,
            "bin_end": 78.3,
            "count": 0
           },
           {
            "bin_start": 78.3,
            "bin_end": 80,
            "count": 1
           }
          ]
         }
        },
        {
         "name": "mean",
         "dtype": "float64",
         "stats": {
          "unique_count": 2,
          "nan_count": 0,
          "min": "28.067406772183823",
          "max": "30.493569314353582",
          "histogram": [
           {
            "bin_start": 28.067406772183823,
            "bin_end": 28.3100230264008,
            "count": 1
           },
           {
            "bin_start": 28.3100230264008,
            "bin_end": 28.552639280617775,
            "count": 0
           },
           {
            "bin_start": 28.552639280617775,
            "bin_end": 28.79525553483475,
            "count": 0
           },
           {
            "bin_start": 28.79525553483475,
            "bin_end": 29.037871789051728,
            "count": 0
           },
           {
            "bin_start": 29.037871789051728,
            "bin_end": 29.280488043268704,
            "count": 0
           },
           {
            "bin_start": 29.280488043268704,
            "bin_end": 29.523104297485677,
            "count": 0
           },
           {
            "bin_start": 29.523104297485677,
            "bin_end": 29.765720551702653,
            "count": 0
           },
           {
            "bin_start": 29.765720551702653,
            "bin_end": 30.00833680591963,
            "count": 0
           },
           {
            "bin_start": 30.00833680591963,
            "bin_end": 30.250953060136606,
            "count": 0
           },
           {
            "bin_start": 30.250953060136606,
            "bin_end": 30.493569314353582,
            "count": 1
           }
          ]
         }
        },
        {
         "name": "_deepnote_index_column",
         "dtype": "object"
        }
       ],
       "rows_top": [
        {
         "min": 0.75,
         "max": 63,
         "mean": 28.067406772183823,
         "_deepnote_index_column": "female"
        },
        {
         "min": 0.42,
         "max": 80,
         "mean": 30.493569314353582,
         "_deepnote_index_column": "male"
        }
       ],
       "rows_bottom": null
      },
      "text/plain": "         min   max       mean\nsex                          \nfemale  0.75  63.0  28.067407\nmale    0.42  80.0  30.493569",
      "text/html": "<div>\n<style scoped>\n    .dataframe tbody tr th:only-of-type {\n        vertical-align: middle;\n    }\n\n    .dataframe tbody tr th {\n        vertical-align: top;\n    }\n\n    .dataframe thead th {\n        text-align: right;\n    }\n</style>\n<table border=\"1\" class=\"dataframe\">\n  <thead>\n    <tr style=\"text-align: right;\">\n      <th></th>\n      <th>min</th>\n      <th>max</th>\n      <th>mean</th>\n    </tr>\n    <tr>\n      <th>sex</th>\n      <th></th>\n      <th></th>\n      <th></th>\n    </tr>\n  </thead>\n  <tbody>\n    <tr>\n      <th>female</th>\n      <td>0.75</td>\n      <td>63.0</td>\n      <td>28.067407</td>\n    </tr>\n    <tr>\n      <th>male</th>\n      <td>0.42</td>\n      <td>80.0</td>\n      <td>30.493569</td>\n    </tr>\n  </tbody>\n</table>\n</div>"
     },
     "metadata": {}
    }
   ]
  },
  {
   "cell_type": "code",
   "metadata": {
    "tags": [],
    "cell_id": "00001-dac369fc-d442-4c22-a9ea-9c4f44f024ac",
    "deepnote_to_be_reexecuted": false,
    "source_hash": "cc19d3e6",
    "execution_start": 1626109079250,
    "execution_millis": 23,
    "deepnote_cell_type": "code"
   },
   "source": "",
   "execution_count": null,
   "outputs": [
    {
     "output_type": "execute_result",
     "execution_count": 141,
     "data": {
      "application/vnd.deepnote.dataframe.v2+json": {
       "row_count": 2,
       "column_count": 3,
       "columns": [
        {
         "name": "min",
         "dtype": "float64",
         "stats": {
          "unique_count": 2,
          "nan_count": 0,
          "min": "0.42",
          "max": "0.75",
          "histogram": [
           {
            "bin_start": 0.42,
            "bin_end": 0.45299999999999996,
            "count": 1
           },
           {
            "bin_start": 0.45299999999999996,
            "bin_end": 0.486,
            "count": 0
           },
           {
            "bin_start": 0.486,
            "bin_end": 0.519,
            "count": 0
           },
           {
            "bin_start": 0.519,
            "bin_end": 0.552,
            "count": 0
           },
           {
            "bin_start": 0.552,
            "bin_end": 0.585,
            "count": 0
           },
           {
            "bin_start": 0.585,
            "bin_end": 0.618,
            "count": 0
           },
           {
            "bin_start": 0.618,
            "bin_end": 0.651,
            "count": 0
           },
           {
            "bin_start": 0.651,
            "bin_end": 0.6839999999999999,
            "count": 0
           },
           {
            "bin_start": 0.6839999999999999,
            "bin_end": 0.7170000000000001,
            "count": 0
           },
           {
            "bin_start": 0.7170000000000001,
            "bin_end": 0.75,
            "count": 1
           }
          ]
         }
        },
        {
         "name": "max",
         "dtype": "float64",
         "stats": {
          "unique_count": 2,
          "nan_count": 0,
          "min": "63.0",
          "max": "80.0",
          "histogram": [
           {
            "bin_start": 63,
            "bin_end": 64.7,
            "count": 1
           },
           {
            "bin_start": 64.7,
            "bin_end": 66.4,
            "count": 0
           },
           {
            "bin_start": 66.4,
            "bin_end": 68.1,
            "count": 0
           },
           {
            "bin_start": 68.1,
            "bin_end": 69.8,
            "count": 0
           },
           {
            "bin_start": 69.8,
            "bin_end": 71.5,
            "count": 0
           },
           {
            "bin_start": 71.5,
            "bin_end": 73.2,
            "count": 0
           },
           {
            "bin_start": 73.2,
            "bin_end": 74.9,
            "count": 0
           },
           {
            "bin_start": 74.9,
            "bin_end": 76.6,
            "count": 0
           },
           {
            "bin_start": 76.6,
            "bin_end": 78.3,
            "count": 0
           },
           {
            "bin_start": 78.3,
            "bin_end": 80,
            "count": 1
           }
          ]
         }
        },
        {
         "name": "mean",
         "dtype": "float64",
         "stats": {
          "unique_count": 2,
          "nan_count": 0,
          "min": "28.067406772183823",
          "max": "30.493569314353582",
          "histogram": [
           {
            "bin_start": 28.067406772183823,
            "bin_end": 28.3100230264008,
            "count": 1
           },
           {
            "bin_start": 28.3100230264008,
            "bin_end": 28.552639280617775,
            "count": 0
           },
           {
            "bin_start": 28.552639280617775,
            "bin_end": 28.79525553483475,
            "count": 0
           },
           {
            "bin_start": 28.79525553483475,
            "bin_end": 29.037871789051728,
            "count": 0
           },
           {
            "bin_start": 29.037871789051728,
            "bin_end": 29.280488043268704,
            "count": 0
           },
           {
            "bin_start": 29.280488043268704,
            "bin_end": 29.523104297485677,
            "count": 0
           },
           {
            "bin_start": 29.523104297485677,
            "bin_end": 29.765720551702653,
            "count": 0
           },
           {
            "bin_start": 29.765720551702653,
            "bin_end": 30.00833680591963,
            "count": 0
           },
           {
            "bin_start": 30.00833680591963,
            "bin_end": 30.250953060136606,
            "count": 0
           },
           {
            "bin_start": 30.250953060136606,
            "bin_end": 30.493569314353582,
            "count": 1
           }
          ]
         }
        },
        {
         "name": "_deepnote_index_column",
         "dtype": "object"
        }
       ],
       "rows_top": [
        {
         "min": 0.75,
         "max": 63,
         "mean": 28.067406772183823,
         "_deepnote_index_column": "female"
        },
        {
         "min": 0.42,
         "max": 80,
         "mean": 30.493569314353582,
         "_deepnote_index_column": "male"
        }
       ],
       "rows_bottom": null
      },
      "text/plain": "         min   max       mean\nsex                          \nfemale  0.75  63.0  28.067407\nmale    0.42  80.0  30.493569",
      "text/html": "<div>\n<style scoped>\n    .dataframe tbody tr th:only-of-type {\n        vertical-align: middle;\n    }\n\n    .dataframe tbody tr th {\n        vertical-align: top;\n    }\n\n    .dataframe thead th {\n        text-align: right;\n    }\n</style>\n<table border=\"1\" class=\"dataframe\">\n  <thead>\n    <tr style=\"text-align: right;\">\n      <th></th>\n      <th>min</th>\n      <th>max</th>\n      <th>mean</th>\n    </tr>\n    <tr>\n      <th>sex</th>\n      <th></th>\n      <th></th>\n      <th></th>\n    </tr>\n  </thead>\n  <tbody>\n    <tr>\n      <th>female</th>\n      <td>0.75</td>\n      <td>63.0</td>\n      <td>28.067407</td>\n    </tr>\n    <tr>\n      <th>male</th>\n      <td>0.42</td>\n      <td>80.0</td>\n      <td>30.493569</td>\n    </tr>\n  </tbody>\n</table>\n</div>"
     },
     "metadata": {}
    }
   ]
  },
  {
   "cell_type": "code",
   "metadata": {
    "tags": [],
    "cell_id": "00001-accbbcb8-36ea-4140-804b-c44c6a078756",
    "deepnote_to_be_reexecuted": false,
    "source_hash": "e6eb6047",
    "execution_start": 1626109253389,
    "execution_millis": 102,
    "deepnote_cell_type": "code"
   },
   "source": "class TitanicData():\n\n    def __init__(self, url):\n        self.load_df(url)\n        self.lowercase_colums()\n        self.remove_na()\n\n        self.survived_people()\n        self.age_statistics()\n\n    def show_report(self):\n        print(f\"{self.people_survived} survived the accident.\")\n        print(f\"Average age of the passanger is {self.age_average}, minimum is {self.age_min}, and maximum is {self.age_max}\")\n\n    def load_df(self, url):\n        self.df= pd.read_csv(url)\n        \n    def lowercase_colums(self):\n        self.df.columns = self.df.columns.str.lower()\n    \n    def remove_na(self):\n        self.df = self.df.drop(\"cabin\", axis=1)\n\n        _idx_to_drop = self.df[self.df[\"embarked\"].isna()].index\n        self.df = self.df.drop(_idx_to_drop, axis = 0)\n\n        value_to_fill = self.df[\"age\"].mean()\n        self.df[\"age\"] = self.df[\"age\"].fillna(value_to_fill)\n\n    def survived_people(self):\n        self.people_survived = self.df[self.df[\"survived\"] == 1][\"survived\"].count()\n\n    def age_statistics(self):\n        self.age_average = test.df[\"age\"].mean()\n        self.age_min = test.df[\"age\"].min()\n        self.age_max = test.df[\"age\"].max()\n\n        test.df.groupby(\"sex\")[\"age\"].agg([\"min\", \"max\", \"mean\"])\n        \n\ntest = TitanicData(url)\ntest.show_report()",
   "execution_count": null,
   "outputs": [
    {
     "name": "stdout",
     "text": "340 survived the accident.\nAverage age of the passanger is 29.642092696629216, minimum is 0.42, and maximum is 80.0\n",
     "output_type": "stream"
    }
   ]
  },
  {
   "cell_type": "code",
   "metadata": {
    "tags": [],
    "cell_id": "00003-bc890c9e-3d04-4592-bbef-380b152a5776",
    "deepnote_to_be_reexecuted": false,
    "source_hash": "2fb06b14",
    "execution_start": 1626108636814,
    "execution_millis": 719,
    "deepnote_cell_type": "code"
   },
   "source": "import numpy as np\n\nimport seaborn as sns\nimport matplotlib.pyplot as plt\n%matplotlib inline",
   "execution_count": null,
   "outputs": []
  },
  {
   "cell_type": "code",
   "metadata": {
    "tags": [],
    "cell_id": "00004-19f750be-96a1-4b60-9eee-7c148bf3f4b9",
    "deepnote_to_be_reexecuted": false,
    "source_hash": "2f3be55d",
    "execution_start": 1626108671547,
    "execution_millis": 679,
    "deepnote_cell_type": "code"
   },
   "source": "sns.jointplot(data = test.df, x='fare', y='age')",
   "execution_count": null,
   "outputs": [
    {
     "output_type": "execute_result",
     "execution_count": 104,
     "data": {
      "text/plain": "<seaborn.axisgrid.JointGrid at 0x7fb349ead190>"
     },
     "metadata": {}
    },
    {
     "data": {
      "text/plain": "<Figure size 432x432 with 3 Axes>",
      "image/png": "[encoded data removed]"
     },
     "metadata": {
      "needs_background": "light",
      "image/png": {
       "width": 421,
       "height": 424
      }
     },
     "output_type": "display_data"
    }
   ]
  },
  {
   "cell_type": "code",
   "metadata": {
    "tags": [],
    "cell_id": "00006-461a9e65-9fe7-4816-91d2-e91f998b1c69",
    "deepnote_to_be_reexecuted": false,
    "source_hash": "38390f42",
    "execution_start": 1626108798284,
    "execution_millis": 213,
    "deepnote_cell_type": "code"
   },
   "source": "sns.distplot(test.df[\"fare\"], kde=False)",
   "execution_count": null,
   "outputs": [
    {
     "name": "stderr",
     "text": "/shared-libs/python3.7/py/lib/python3.7/site-packages/seaborn/distributions.py:2557: FutureWarning: `distplot` is a deprecated function and will be removed in a future version. Please adapt your code to use either `displot` (a figure-level function with similar flexibility) or `histplot` (an axes-level function for histograms).\n  warnings.warn(msg, FutureWarning)\n",
     "output_type": "stream"
    },
    {
     "output_type": "execute_result",
     "execution_count": 115,
     "data": {
      "text/plain": "<AxesSubplot:xlabel='fare'>"
     },
     "metadata": {}
    },
    {
     "data": {
      "text/plain": "<Figure size 432x288 with 1 Axes>",
      "image/png": "[encoded data removed]"
     },
     "metadata": {
      "needs_background": "light",
      "image/png": {
       "width": 375,
       "height": 264
      }
     },
     "output_type": "display_data"
    }
   ]
  },
  {
   "cell_type": "code",
   "metadata": {
    "tags": [],
    "cell_id": "00008-7d8c632b-a496-4d38-998d-6aca97b966fb",
    "deepnote_to_be_reexecuted": false,
    "source_hash": "efe54fd9",
    "execution_start": 1626109512573,
    "execution_millis": 121,
    "deepnote_cell_type": "code"
   },
   "source": "sns.boxplot(data=test.df, x='pclass',y='age')\n",
   "execution_count": null,
   "outputs": [
    {
     "output_type": "execute_result",
     "execution_count": 161,
     "data": {
      "text/plain": "<AxesSubplot:xlabel='pclass', ylabel='age'>"
     },
     "metadata": {}
    },
    {
     "data": {
      "text/plain": "<Figure size 432x288 with 1 Axes>",
      "image/png": "[encoded data removed]"
     },
     "metadata": {
      "needs_background": "light",
      "image/png": {
       "width": 382,
       "height": 262
      }
     },
     "output_type": "display_data"
    }
   ]
  },
  {
   "cell_type": "code",
   "metadata": {
    "tags": [],
    "cell_id": "00008-7f757140-1e68-4440-a384-66327f585f73",
    "deepnote_to_be_reexecuted": false,
    "source_hash": "1e434680",
    "execution_start": 1626109559863,
    "execution_millis": 7,
    "deepnote_cell_type": "code"
   },
   "source": "test.df[\"sex\"].value_counts()",
   "execution_count": null,
   "outputs": [
    {
     "output_type": "execute_result",
     "execution_count": 164,
     "data": {
      "text/plain": "male      577\nfemale    312\nName: sex, dtype: int64"
     },
     "metadata": {}
    }
   ]
  },
  {
   "cell_type": "code",
   "metadata": {
    "tags": [],
    "cell_id": "00009-e24443d0-960a-49b5-80dc-467504029464",
    "deepnote_to_be_reexecuted": false,
    "source_hash": "45f1f1b3",
    "execution_start": 1626109540472,
    "execution_millis": 112,
    "deepnote_cell_type": "code"
   },
   "source": "sns.countplot(x='sex',data=test.df)",
   "execution_count": null,
   "outputs": [
    {
     "output_type": "execute_result",
     "execution_count": 163,
     "data": {
      "text/plain": "<AxesSubplot:xlabel='sex', ylabel='count'>"
     },
     "metadata": {}
    },
    {
     "data": {
      "text/plain": "<Figure size 432x288 with 1 Axes>",
      "image/png": "[encoded data removed]"
     },
     "metadata": {
      "needs_background": "light",
      "image/png": {
       "width": 389,
       "height": 264
      }
     },
     "output_type": "display_data"
    }
   ]
  },
  {
   "cell_type": "code",
   "metadata": {
    "tags": [],
    "cell_id": "00003-187a2664-e88e-44e4-90b1-560a70ae3454",
    "deepnote_to_be_reexecuted": false,
    "source_hash": "efd1d395",
    "execution_start": 1626109606621,
    "execution_millis": 887,
    "deepnote_cell_type": "code"
   },
   "source": "cols = ['survived', 'sex', 'pclass', 'sibsp', 'parch', 'embarked']\nnr_rows = 2\nnr_cols = 3\n\nfig, axs = plt.subplots(nr_rows, nr_cols, figsize=(nr_cols*3.5,nr_rows*3))\n\nfor r in range(0,nr_rows):\n    for c in range(0,nr_cols):  \n        \n        i = r*nr_cols+c       \n        ax = axs[r][c]\n        sns.countplot(test.df[cols[i]], hue=test.df[\"survived\"], ax=ax)\n        ax.set_title(cols[i], fontsize=14, fontweight='bold')\n        ax.legend(title=\"survived\", loc='upper center') \n        \nplt.tight_layout()   ",
   "execution_count": null,
   "outputs": [
    {
     "name": "stderr",
     "text": "/shared-libs/python3.7/py/lib/python3.7/site-packages/seaborn/_decorators.py:43: FutureWarning: Pass the following variable as a keyword arg: x. From version 0.12, the only valid positional argument will be `data`, and passing other arguments without an explicit keyword will result in an error or misinterpretation.\n  FutureWarning\n/shared-libs/python3.7/py/lib/python3.7/site-packages/seaborn/_decorators.py:43: FutureWarning: Pass the following variable as a keyword arg: x. From version 0.12, the only valid positional argument will be `data`, and passing other arguments without an explicit keyword will result in an error or misinterpretation.\n  FutureWarning\n/shared-libs/python3.7/py/lib/python3.7/site-packages/seaborn/_decorators.py:43: FutureWarning: Pass the following variable as a keyword arg: x. From version 0.12, the only valid positional argument will be `data`, and passing other arguments without an explicit keyword will result in an error or misinterpretation.\n  FutureWarning\n/shared-libs/python3.7/py/lib/python3.7/site-packages/seaborn/_decorators.py:43: FutureWarning: Pass the following variable as a keyword arg: x. From version 0.12, the only valid positional argument will be `data`, and passing other arguments without an explicit keyword will result in an error or misinterpretation.\n  FutureWarning\n/shared-libs/python3.7/py/lib/python3.7/site-packages/seaborn/_decorators.py:43: FutureWarning: Pass the following variable as a keyword arg: x. From version 0.12, the only valid positional argument will be `data`, and passing other arguments without an explicit keyword will result in an error or misinterpretation.\n  FutureWarning\n/shared-libs/python3.7/py/lib/python3.7/site-packages/seaborn/_decorators.py:43: FutureWarning: Pass the following variable as a keyword arg: x. From version 0.12, the only valid positional argument will be `data`, and passing other arguments without an explicit keyword will result in an error or misinterpretation.\n  FutureWarning\n",
     "output_type": "stream"
    },
    {
     "data": {
      "text/plain": "<Figure size 756x432 with 6 Axes>",
      "image/png": "[encoded data removed]"
     },
     "metadata": {
      "needs_background": "light",
      "image/png": {
       "width": 748,
       "height": 424
      }
     },
     "output_type": "display_data"
    }
   ]
  },
  {
   "cell_type": "code",
   "metadata": {
    "tags": [],
    "cell_id": "00002-c40521ad-1fa3-439c-905f-a659ba87a399",
    "deepnote_to_be_reexecuted": false,
    "source_hash": "75eed48a",
    "execution_start": 1626109785275,
    "execution_millis": 341,
    "deepnote_cell_type": "code"
   },
   "source": "tc = test.df.corr()\nsns.heatmap(tc, cmap=\"coolwarm\")",
   "execution_count": null,
   "outputs": [
    {
     "output_type": "execute_result",
     "execution_count": 167,
     "data": {
      "text/plain": "<AxesSubplot:>"
     },
     "metadata": {}
    },
    {
     "data": {
      "text/plain": "<Figure size 432x288 with 2 Axes>",
      "image/png": "[encoded data removed]"
     },
     "metadata": {
      "needs_background": "light",
      "image/png": {
       "width": 409,
       "height": 304
      }
     },
     "output_type": "display_data"
    }
   ]
  },
  {
   "cell_type": "code",
   "metadata": {
    "tags": [],
    "cell_id": "00012-66509678-35da-4dee-8c16-e5cc980c8a21",
    "deepnote_to_be_reexecuted": false,
    "source_hash": "45f1f1b3",
    "execution_start": 1626109906551,
    "execution_millis": 68,
    "deepnote_cell_type": "code"
   },
   "source": "sns.countplot(x='sex',data=test.df)",
   "execution_count": null,
   "outputs": [
    {
     "output_type": "execute_result",
     "execution_count": 168,
     "data": {
      "text/plain": "<AxesSubplot:xlabel='sex', ylabel='count'>"
     },
     "metadata": {}
    },
    {
     "data": {
      "text/plain": "<Figure size 432x288 with 1 Axes>",
      "image/png": "[encoded data removed]"
     },
     "metadata": {
      "needs_background": "light",
      "image/png": {
       "width": 389,
       "height": 264
      }
     },
     "output_type": "display_data"
    }
   ]
  },
  {
   "cell_type": "code",
   "metadata": {
    "tags": [],
    "cell_id": "00013-3a65a33a-8a01-4d08-915b-8dcd01bc26e5",
    "deepnote_to_be_reexecuted": false,
    "source_hash": "eadfb84d",
    "execution_start": 1626109962167,
    "execution_millis": 447,
    "deepnote_cell_type": "code"
   },
   "source": "graph = sns.FacetGrid(data=test.df, col=\"sex\")\ngraph.map(sns.distplot, \"age\", kde=False)",
   "execution_count": null,
   "outputs": [
    {
     "name": "stderr",
     "text": "/shared-libs/python3.7/py/lib/python3.7/site-packages/seaborn/distributions.py:2557: FutureWarning: `distplot` is a deprecated function and will be removed in a future version. Please adapt your code to use either `displot` (a figure-level function with similar flexibility) or `histplot` (an axes-level function for histograms).\n  warnings.warn(msg, FutureWarning)\n",
     "output_type": "stream"
    },
    {
     "output_type": "execute_result",
     "execution_count": 171,
     "data": {
      "text/plain": "<seaborn.axisgrid.FacetGrid at 0x7fb32d9bbad0>"
     },
     "metadata": {}
    },
    {
     "data": {
      "text/plain": "<Figure size 432x216 with 2 Axes>",
      "image/png": "[encoded data removed]"
     },
     "metadata": {
      "needs_background": "light",
      "image/png": {
       "width": 424,
       "height": 208
      }
     },
     "output_type": "display_data"
    }
   ]
  },
  {
   "cell_type": "code",
   "metadata": {
    "tags": [],
    "cell_id": "00014-5bb5879d-ce9b-4d4a-bc9f-fc801810d7a2",
    "deepnote_to_be_reexecuted": false,
    "source_hash": "ad560bfe",
    "execution_start": 1626110060805,
    "execution_millis": 195,
    "deepnote_cell_type": "code"
   },
   "source": "sns.boxplot(data=test.df, \n            x='pclass',\n            y='age')",
   "execution_count": null,
   "outputs": [
    {
     "output_type": "execute_result",
     "execution_count": 174,
     "data": {
      "text/plain": "<AxesSubplot:xlabel='pclass', ylabel='age'>"
     },
     "metadata": {}
    },
    {
     "data": {
      "text/plain": "<Figure size 432x288 with 1 Axes>",
      "image/png": "[encoded data removed]"
     },
     "metadata": {
      "needs_background": "light",
      "image/png": {
       "width": 382,
       "height": 262
      }
     },
     "output_type": "display_data"
    }
   ]
  },
  {
   "cell_type": "markdown",
   "source": "<a style='text-decoration:none;line-height:16px;display:flex;color:#5B5B62;padding:10px;justify-content:end;' href='https://deepnote.com?utm_source=created-in-deepnote-cell&projectId=7d3ce7c8-a514-49e4-9ba4-a5899ac52ea5' target=\"_blank\">\n<img alt='Created in deepnote.com' style='display:inline;max-height:16px;margin:0px;margin-right:7.5px;' src='data:image/svg+xml;base64,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' > </img>\nCreated in <span style='font-weight:600;margin-left:4px;'>Deepnote</span></a>",
   "metadata": {
    "tags": [],
    "created_in_deepnote_cell": true,
    "deepnote_cell_type": "markdown"
   }
  }
 ],
 "nbformat": 4,
 "nbformat_minor": 2,
 "metadata": {
  "orig_nbformat": 2,
  "deepnote": {
   "is_reactive": false
  },
  "deepnote_notebook_id": "dfd2049d-c6e7-455a-a27e-72e97710c050",
  "deepnote_execution_queue": []
 }
}