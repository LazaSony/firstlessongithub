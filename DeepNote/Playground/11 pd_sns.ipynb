{
 "cells": [
  {
   "cell_type": "code",
   "metadata": {
    "tags": [],
    "cell_id": "00000-ce18a44f-2903-44d0-88d6-15537896171e",
    "deepnote_to_be_reexecuted": false,
    "source_hash": "789fcfaf",
    "execution_start": 1628788202018,
    "execution_millis": 259,
    "deepnote_cell_type": "code"
   },
   "source": "import pandas as pd \nimport numpy as np\nimport seaborn as sns\nimport matplotlib.pyplot as plt\n\nurl = \"https://raw.githubusercontent.com/guipsamora/pandas_exercises/master/09_Time_Series/Apple_Stock/appl_1980_2014.csv\"\ndf = pd.read_csv(url)\ndf.columns = df.columns.str.lower()\ndf[\"date\"] = pd.to_datetime(df[\"date\"], format=\"%Y-%m-%d\")\ndf.set_index(df[\"date\"], inplace =True)\ndf.drop(\"date\", axis =1,inplace = True)\ndf.sort_index(ascending=False, inplace=True)\ndf = df.loc[\"2018\": \"2000\"]\n\ndf",
   "execution_count": null,
   "outputs": [
    {
     "output_type": "execute_result",
     "execution_count": 74,
     "data": {
      "application/vnd.deepnote.dataframe.v2+json": {
       "row_count": 3650,
       "column_count": 6,
       "columns": [
        {
         "name": "open",
         "dtype": "float64",
         "stats": {
          "unique_count": 3226,
          "nan_count": 0,
          "min": "12.99",
          "max": "702.41",
          "histogram": [
           {
            "bin_start": 12.99,
            "bin_end": 81.93199999999999,
            "count": 1599
           },
           {
            "bin_start": 81.93199999999999,
            "bin_end": 150.874,
            "count": 632
           },
           {
            "bin_start": 150.874,
            "bin_end": 219.81599999999997,
            "count": 349
           },
           {
            "bin_start": 219.81599999999997,
            "bin_end": 288.758,
            "count": 143
           },
           {
            "bin_start": 288.758,
            "bin_end": 357.7,
            "count": 192
           },
           {
            "bin_start": 357.7,
            "bin_end": 426.64199999999994,
            "count": 171
           },
           {
            "bin_start": 426.64199999999994,
            "bin_end": 495.58399999999995,
            "count": 152
           },
           {
            "bin_start": 495.58399999999995,
            "bin_end": 564.526,
            "count": 211
           },
           {
            "bin_start": 564.526,
            "bin_end": 633.468,
            "count": 152
           },
           {
            "bin_start": 633.468,
            "bin_end": 702.41,
            "count": 49
           }
          ]
         }
        },
        {
         "name": "high",
         "dtype": "float64",
         "stats": {
          "unique_count": 3144,
          "nan_count": 0,
          "min": "13.19",
          "max": "705.07",
          "histogram": [
           {
            "bin_start": 13.19,
            "bin_end": 82.378,
            "count": 1592
           },
           {
            "bin_start": 82.378,
            "bin_end": 151.566,
            "count": 634
           },
           {
            "bin_start": 151.566,
            "bin_end": 220.75400000000002,
            "count": 354
           },
           {
            "bin_start": 220.75400000000002,
            "bin_end": 289.942,
            "count": 142
           },
           {
            "bin_start": 289.942,
            "bin_end": 359.13,
            "count": 187
           },
           {
            "bin_start": 359.13,
            "bin_end": 428.31800000000004,
            "count": 172
           },
           {
            "bin_start": 428.31800000000004,
            "bin_end": 497.50600000000003,
            "count": 152
           },
           {
            "bin_start": 497.50600000000003,
            "bin_end": 566.6940000000001,
            "count": 206
           },
           {
            "bin_start": 566.6940000000001,
            "bin_end": 635.8820000000001,
            "count": 158
           },
           {
            "bin_start": 635.8820000000001,
            "bin_end": 705.07,
            "count": 53
           }
          ]
         }
        },
        {
         "name": "low",
         "dtype": "float64",
         "stats": {
          "unique_count": 3157,
          "nan_count": 0,
          "min": "12.72",
          "max": "699.57",
          "histogram": [
           {
            "bin_start": 12.72,
            "bin_end": 81.405,
            "count": 1602
           },
           {
            "bin_start": 81.405,
            "bin_end": 150.09,
            "count": 634
           },
           {
            "bin_start": 150.09,
            "bin_end": 218.775,
            "count": 346
           },
           {
            "bin_start": 218.775,
            "bin_end": 287.46000000000004,
            "count": 145
           },
           {
            "bin_start": 287.46000000000004,
            "bin_end": 356.14500000000004,
            "count": 193
           },
           {
            "bin_start": 356.14500000000004,
            "bin_end": 424.83000000000004,
            "count": 174
           },
           {
            "bin_start": 424.83000000000004,
            "bin_end": 493.51500000000004,
            "count": 150
           },
           {
            "bin_start": 493.51500000000004,
            "bin_end": 562.2,
            "count": 218
           },
           {
            "bin_start": 562.2,
            "bin_end": 630.885,
            "count": 146
           },
           {
            "bin_start": 630.885,
            "bin_end": 699.57,
            "count": 42
           }
          ]
         }
        },
        {
         "name": "close",
         "dtype": "float64",
         "stats": {
          "unique_count": 3235,
          "nan_count": 0,
          "min": "13.12",
          "max": "702.1",
          "histogram": [
           {
            "bin_start": 13.12,
            "bin_end": 82.018,
            "count": 1595
           },
           {
            "bin_start": 82.018,
            "bin_end": 150.916,
            "count": 632
           },
           {
            "bin_start": 150.916,
            "bin_end": 219.814,
            "count": 353
           },
           {
            "bin_start": 219.814,
            "bin_end": 288.712,
            "count": 143
           },
           {
            "bin_start": 288.712,
            "bin_end": 357.61,
            "count": 192
           },
           {
            "bin_start": 357.61,
            "bin_end": 426.508,
            "count": 169
           },
           {
            "bin_start": 426.508,
            "bin_end": 495.40599999999995,
            "count": 155
           },
           {
            "bin_start": 495.40599999999995,
            "bin_end": 564.304,
            "count": 211
           },
           {
            "bin_start": 564.304,
            "bin_end": 633.202,
            "count": 150
           },
           {
            "bin_start": 633.202,
            "bin_end": 702.1,
            "count": 50
           }
          ]
         }
        },
        {
         "name": "volume",
         "dtype": "int64",
         "stats": {
          "unique_count": 3626,
          "nan_count": 0,
          "min": "9835000",
          "max": "1855410200",
          "histogram": [
           {
            "bin_start": 9835000,
            "bin_end": 194392520,
            "count": 2840
           },
           {
            "bin_start": 194392520,
            "bin_end": 378950040,
            "count": 692
           },
           {
            "bin_start": 378950040,
            "bin_end": 563507560,
            "count": 97
           },
           {
            "bin_start": 563507560,
            "bin_end": 748065080,
            "count": 17
           },
           {
            "bin_start": 748065080,
            "bin_end": 932622600,
            "count": 3
           },
           {
            "bin_start": 932622600,
            "bin_end": 1117180120,
            "count": 0
           },
           {
            "bin_start": 1117180120,
            "bin_end": 1301737640,
            "count": 0
           },
           {
            "bin_start": 1301737640,
            "bin_end": 1486295160,
            "count": 0
           },
           {
            "bin_start": 1486295160,
            "bin_end": 1670852680,
            "count": 0
           },
           {
            "bin_start": 1670852680,
            "bin_end": 1855410200,
            "count": 1
           }
          ]
         }
        },
        {
         "name": "adj close",
         "dtype": "float64",
         "stats": {
          "unique_count": 2223,
          "nan_count": 0,
          "min": "0.9",
          "max": "96.28",
          "histogram": [
           {
            "bin_start": 0.9,
            "bin_end": 10.438,
            "count": 1698
           },
           {
            "bin_start": 10.438,
            "bin_end": 19.976,
            "count": 499
           },
           {
            "bin_start": 19.976,
            "bin_end": 29.514,
            "count": 360
           },
           {
            "bin_start": 29.514,
            "bin_end": 39.052,
            "count": 142
           },
           {
            "bin_start": 39.052,
            "bin_end": 48.589999999999996,
            "count": 191
           },
           {
            "bin_start": 48.589999999999996,
            "bin_end": 58.128,
            "count": 157
           },
           {
            "bin_start": 58.128,
            "bin_end": 67.66600000000001,
            "count": 151
           },
           {
            "bin_start": 67.66600000000001,
            "bin_end": 77.20400000000001,
            "count": 206
           },
           {
            "bin_start": 77.20400000000001,
            "bin_end": 86.742,
            "count": 169
           },
           {
            "bin_start": 86.742,
            "bin_end": 96.28,
            "count": 77
           }
          ]
         }
        },
        {
         "name": "_deepnote_index_column",
         "dtype": "datetime64[ns]"
        }
       ],
       "rows_top": [
        {
         "open": 96.27,
         "high": 96.8,
         "low": 93.92,
         "close": 95.35,
         "volume": 65130000,
         "adj close": 95.35,
         "_deepnote_index_column": "2014-07-08T00:00:00.000000"
        },
        {
         "open": 94.14,
         "high": 95.99,
         "low": 94.1,
         "close": 95.97,
         "volume": 56305400,
         "adj close": 95.97,
         "_deepnote_index_column": "2014-07-07T00:00:00.000000"
        },
        {
         "open": 93.67,
         "high": 94.1,
         "low": 93.2,
         "close": 94.03,
         "volume": 22891800,
         "adj close": 94.03,
         "_deepnote_index_column": "2014-07-03T00:00:00.000000"
        },
        {
         "open": 93.87,
         "high": 94.06,
         "low": 93.09,
         "close": 93.48,
         "volume": 28420900,
         "adj close": 93.48,
         "_deepnote_index_column": "2014-07-02T00:00:00.000000"
        },
        {
         "open": 93.52,
         "high": 94.07,
         "low": 93.13,
         "close": 93.52,
         "volume": 38170200,
         "adj close": 93.52,
         "_deepnote_index_column": "2014-07-01T00:00:00.000000"
        },
        {
         "open": 92.1,
         "high": 93.73,
         "low": 92.09,
         "close": 92.93,
         "volume": 49482300,
         "adj close": 92.93,
         "_deepnote_index_column": "2014-06-30T00:00:00.000000"
        },
        {
         "open": 90.82,
         "high": 92,
         "low": 90.77,
         "close": 91.98,
         "volume": 64006800,
         "adj close": 91.98,
         "_deepnote_index_column": "2014-06-27T00:00:00.000000"
        },
        {
         "open": 90.37,
         "high": 91.05,
         "low": 89.8,
         "close": 90.9,
         "volume": 32595800,
         "adj close": 90.9,
         "_deepnote_index_column": "2014-06-26T00:00:00.000000"
        },
        {
         "open": 90.21,
         "high": 90.7,
         "low": 89.65,
         "close": 90.36,
         "volume": 36852200,
         "adj close": 90.36,
         "_deepnote_index_column": "2014-06-25T00:00:00.000000"
        },
        {
         "open": 90.75,
         "high": 91.74,
         "low": 90.19,
         "close": 90.28,
         "volume": 38988300,
         "adj close": 90.28,
         "_deepnote_index_column": "2014-06-24T00:00:00.000000"
        },
        {
         "open": 91.32,
         "high": 91.62,
         "low": 90.6,
         "close": 90.83,
         "volume": 43618200,
         "adj close": 90.83,
         "_deepnote_index_column": "2014-06-23T00:00:00.000000"
        },
        {
         "open": 91.85,
         "high": 92.55,
         "low": 90.9,
         "close": 90.91,
         "volume": 100813200,
         "adj close": 90.91,
         "_deepnote_index_column": "2014-06-20T00:00:00.000000"
        },
        {
         "open": 92.29,
         "high": 92.3,
         "low": 91.34,
         "close": 91.86,
         "volume": 35486400,
         "adj close": 91.86,
         "_deepnote_index_column": "2014-06-19T00:00:00.000000"
        },
        {
         "open": 92.27,
         "high": 92.29,
         "low": 91.35,
         "close": 92.18,
         "volume": 33493800,
         "adj close": 92.18,
         "_deepnote_index_column": "2014-06-18T00:00:00.000000"
        },
        {
         "open": 92.31,
         "high": 92.7,
         "low": 91.8,
         "close": 92.08,
         "volume": 29689800,
         "adj close": 92.08,
         "_deepnote_index_column": "2014-06-17T00:00:00.000000"
        },
        {
         "open": 91.51,
         "high": 92.75,
         "low": 91.45,
         "close": 92.2,
         "volume": 35561000,
         "adj close": 92.2,
         "_deepnote_index_column": "2014-06-16T00:00:00.000000"
        },
        {
         "open": 92.2,
         "high": 92.44,
         "low": 90.88,
         "close": 91.28,
         "volume": 54525000,
         "adj close": 91.28,
         "_deepnote_index_column": "2014-06-13T00:00:00.000000"
        },
        {
         "open": 94.04,
         "high": 94.12,
         "low": 91.9,
         "close": 92.29,
         "volume": 54749000,
         "adj close": 92.29,
         "_deepnote_index_column": "2014-06-12T00:00:00.000000"
        },
        {
         "open": 94.13,
         "high": 94.76,
         "low": 93.47,
         "close": 93.86,
         "volume": 45681000,
         "adj close": 93.86,
         "_deepnote_index_column": "2014-06-11T00:00:00.000000"
        },
        {
         "open": 94.73,
         "high": 95.05,
         "low": 93.57,
         "close": 94.25,
         "volume": 62777000,
         "adj close": 94.25,
         "_deepnote_index_column": "2014-06-10T00:00:00.000000"
        },
        {
         "open": 92.7,
         "high": 93.88,
         "low": 91.75,
         "close": 93.7,
         "volume": 75415000,
         "adj close": 93.7,
         "_deepnote_index_column": "2014-06-09T00:00:00.000000"
        },
        {
         "open": 649.9,
         "high": 651.26,
         "low": 644.47,
         "close": 645.57,
         "volume": 87484600,
         "adj close": 92.22,
         "_deepnote_index_column": "2014-06-06T00:00:00.000000"
        },
        {
         "open": 646.2,
         "high": 649.37,
         "low": 642.61,
         "close": 647.35,
         "volume": 75951400,
         "adj close": 92.48,
         "_deepnote_index_column": "2014-06-05T00:00:00.000000"
        },
        {
         "open": 637.44,
         "high": 647.89,
         "low": 636.11,
         "close": 644.82,
         "volume": 83870500,
         "adj close": 92.12,
         "_deepnote_index_column": "2014-06-04T00:00:00.000000"
        },
        {
         "open": 628.46,
         "high": 638.74,
         "low": 628.25,
         "close": 637.54,
         "volume": 73177300,
         "adj close": 91.08,
         "_deepnote_index_column": "2014-06-03T00:00:00.000000"
        },
        {
         "open": 633.96,
         "high": 634.83,
         "low": 622.5,
         "close": 628.65,
         "volume": 92337700,
         "adj close": 89.81,
         "_deepnote_index_column": "2014-06-02T00:00:00.000000"
        },
        {
         "open": 637.98,
         "high": 644.17,
         "low": 628.9,
         "close": 633,
         "volume": 141005200,
         "adj close": 90.43,
         "_deepnote_index_column": "2014-05-30T00:00:00.000000"
        },
        {
         "open": 627.85,
         "high": 636.87,
         "low": 627.77,
         "close": 635.38,
         "volume": 94118500,
         "adj close": 90.77,
         "_deepnote_index_column": "2014-05-29T00:00:00.000000"
        },
        {
         "open": 626.02,
         "high": 629.83,
         "low": 623.78,
         "close": 624.01,
         "volume": 78870400,
         "adj close": 89.14,
         "_deepnote_index_column": "2014-05-28T00:00:00.000000"
        },
        {
         "open": 615.88,
         "high": 625.86,
         "low": 615.63,
         "close": 625.63,
         "volume": 87216500,
         "adj close": 89.38,
         "_deepnote_index_column": "2014-05-27T00:00:00.000000"
        },
        {
         "open": 607.25,
         "high": 614.73,
         "low": 606.47,
         "close": 614.13,
         "volume": 58052400,
         "adj close": 87.73,
         "_deepnote_index_column": "2014-05-23T00:00:00.000000"
        },
        {
         "open": 606.6,
         "high": 609.85,
         "low": 604.1,
         "close": 607.27,
         "volume": 50190000,
         "adj close": 86.75,
         "_deepnote_index_column": "2014-05-22T00:00:00.000000"
        },
        {
         "open": 603.83,
         "high": 606.7,
         "low": 602.06,
         "close": 606.31,
         "volume": 49214900,
         "adj close": 86.62,
         "_deepnote_index_column": "2014-05-21T00:00:00.000000"
        },
        {
         "open": 604.51,
         "high": 606.4,
         "low": 600.73,
         "close": 604.71,
         "volume": 58709000,
         "adj close": 86.39,
         "_deepnote_index_column": "2014-05-20T00:00:00.000000"
        },
        {
         "open": 597.85,
         "high": 607.33,
         "low": 597.33,
         "close": 604.59,
         "volume": 79438800,
         "adj close": 86.37,
         "_deepnote_index_column": "2014-05-19T00:00:00.000000"
        },
        {
         "open": 588.63,
         "high": 597.53,
         "low": 585.4,
         "close": 597.51,
         "volume": 69064100,
         "adj close": 85.36,
         "_deepnote_index_column": "2014-05-16T00:00:00.000000"
        },
        {
         "open": 594.7,
         "high": 596.6,
         "low": 588.04,
         "close": 588.82,
         "volume": 57711500,
         "adj close": 84.12,
         "_deepnote_index_column": "2014-05-15T00:00:00.000000"
        },
        {
         "open": 592.43,
         "high": 597.4,
         "low": 591.74,
         "close": 593.87,
         "volume": 41601000,
         "adj close": 84.84,
         "_deepnote_index_column": "2014-05-14T00:00:00.000000"
        },
        {
         "open": 592,
         "high": 594.54,
         "low": 590.7,
         "close": 593.76,
         "volume": 39934300,
         "adj close": 84.82,
         "_deepnote_index_column": "2014-05-13T00:00:00.000000"
        },
        {
         "open": 587.49,
         "high": 593.66,
         "low": 587.4,
         "close": 592.83,
         "volume": 53302200,
         "adj close": 84.69,
         "_deepnote_index_column": "2014-05-12T00:00:00.000000"
        },
        {
         "open": 584.54,
         "high": 586.25,
         "low": 580.33,
         "close": 585.54,
         "volume": 72899400,
         "adj close": 83.65,
         "_deepnote_index_column": "2014-05-09T00:00:00.000000"
        },
        {
         "open": 588.25,
         "high": 594.41,
         "low": 586.4,
         "close": 587.99,
         "volume": 57574300,
         "adj close": 84,
         "_deepnote_index_column": "2014-05-08T00:00:00.000000"
        },
        {
         "open": 595.25,
         "high": 597.29,
         "low": 587.73,
         "close": 592.33,
         "volume": 70716100,
         "adj close": 84.15,
         "_deepnote_index_column": "2014-05-07T00:00:00.000000"
        },
        {
         "open": 601.8,
         "high": 604.41,
         "low": 594.41,
         "close": 594.41,
         "volume": 93641100,
         "adj close": 84.44,
         "_deepnote_index_column": "2014-05-06T00:00:00.000000"
        },
        {
         "open": 590.14,
         "high": 601,
         "low": 590,
         "close": 600.96,
         "volume": 71766800,
         "adj close": 85.37,
         "_deepnote_index_column": "2014-05-05T00:00:00.000000"
        },
        {
         "open": 592.34,
         "high": 594.2,
         "low": 589.71,
         "close": 592.58,
         "volume": 47878600,
         "adj close": 84.18,
         "_deepnote_index_column": "2014-05-02T00:00:00.000000"
        },
        {
         "open": 592,
         "high": 594.8,
         "low": 586.36,
         "close": 591.48,
         "volume": 61012000,
         "adj close": 84.03,
         "_deepnote_index_column": "2014-05-01T00:00:00.000000"
        },
        {
         "open": 592.64,
         "high": 599.43,
         "low": 589.8,
         "close": 590.09,
         "volume": 114160200,
         "adj close": 83.83,
         "_deepnote_index_column": "2014-04-30T00:00:00.000000"
        },
        {
         "open": 593.74,
         "high": 595.98,
         "low": 589.51,
         "close": 592.33,
         "volume": 84344400,
         "adj close": 84.15,
         "_deepnote_index_column": "2014-04-29T00:00:00.000000"
        },
        {
         "open": 572.8,
         "high": 595.75,
         "low": 572.55,
         "close": 594.09,
         "volume": 167371400,
         "adj close": 84.4,
         "_deepnote_index_column": "2014-04-28T00:00:00.000000"
        },
        {
         "open": 564.53,
         "high": 571.99,
         "low": 563.96,
         "close": 571.94,
         "volume": 97568800,
         "adj close": 81.25,
         "_deepnote_index_column": "2014-04-25T00:00:00.000000"
        },
        {
         "open": 568.21,
         "high": 570,
         "low": 560.73,
         "close": 567.77,
         "volume": 189977900,
         "adj close": 80.66,
         "_deepnote_index_column": "2014-04-24T00:00:00.000000"
        },
        {
         "open": 529.06,
         "high": 531.13,
         "low": 524.45,
         "close": 524.75,
         "volume": 98735000,
         "adj close": 74.55,
         "_deepnote_index_column": "2014-04-23T00:00:00.000000"
        },
        {
         "open": 528.31,
         "high": 531.83,
         "low": 526.5,
         "close": 531.7,
         "volume": 50640800,
         "adj close": 75.54,
         "_deepnote_index_column": "2014-04-22T00:00:00.000000"
        },
        {
         "open": 525.34,
         "high": 532.14,
         "low": 523.96,
         "close": 531.17,
         "volume": 45637200,
         "adj close": 75.46,
         "_deepnote_index_column": "2014-04-21T00:00:00.000000"
        },
        {
         "open": 520,
         "high": 527.76,
         "low": 519.2,
         "close": 524.94,
         "volume": 71083600,
         "adj close": 74.57,
         "_deepnote_index_column": "2014-04-17T00:00:00.000000"
        },
        {
         "open": 518.05,
         "high": 521.09,
         "low": 514.14,
         "close": 519.01,
         "volume": 53691400,
         "adj close": 73.73,
         "_deepnote_index_column": "2014-04-16T00:00:00.000000"
        },
        {
         "open": 520.27,
         "high": 521.64,
         "low": 511.33,
         "close": 517.96,
         "volume": 66622500,
         "adj close": 73.58,
         "_deepnote_index_column": "2014-04-15T00:00:00.000000"
        },
        {
         "open": 521.9,
         "high": 522.16,
         "low": 517.21,
         "close": 521.68,
         "volume": 51418500,
         "adj close": 74.11,
         "_deepnote_index_column": "2014-04-14T00:00:00.000000"
        },
        {
         "open": 519,
         "high": 522.83,
         "low": 517.14,
         "close": 519.61,
         "volume": 67929400,
         "adj close": 73.82,
         "_deepnote_index_column": "2014-04-11T00:00:00.000000"
        },
        {
         "open": 530.68,
         "high": 532.24,
         "low": 523.17,
         "close": 523.48,
         "volume": 59913000,
         "adj close": 74.37,
         "_deepnote_index_column": "2014-04-10T00:00:00.000000"
        },
        {
         "open": 522.64,
         "high": 530.49,
         "low": 522.02,
         "close": 530.32,
         "volume": 51542400,
         "adj close": 75.34,
         "_deepnote_index_column": "2014-04-09T00:00:00.000000"
        },
        {
         "open": 525.19,
         "high": 526.12,
         "low": 518.7,
         "close": 523.44,
         "volume": 60972100,
         "adj close": 74.36,
         "_deepnote_index_column": "2014-04-08T00:00:00.000000"
        },
        {
         "open": 528.02,
         "high": 530.9,
         "low": 521.89,
         "close": 523.47,
         "volume": 72462600,
         "adj close": 74.37,
         "_deepnote_index_column": "2014-04-07T00:00:00.000000"
        },
        {
         "open": 539.81,
         "high": 540,
         "low": 530.58,
         "close": 531.82,
         "volume": 68812800,
         "adj close": 75.55,
         "_deepnote_index_column": "2014-04-04T00:00:00.000000"
        },
        {
         "open": 541.39,
         "high": 542.5,
         "low": 537.64,
         "close": 538.79,
         "volume": 40586000,
         "adj close": 76.54,
         "_deepnote_index_column": "2014-04-03T00:00:00.000000"
        },
        {
         "open": 542.38,
         "high": 543.48,
         "low": 540.26,
         "close": 542.55,
         "volume": 45105200,
         "adj close": 77.08,
         "_deepnote_index_column": "2014-04-02T00:00:00.000000"
        },
        {
         "open": 537.76,
         "high": 541.87,
         "low": 536.77,
         "close": 541.65,
         "volume": 50190000,
         "adj close": 76.95,
         "_deepnote_index_column": "2014-04-01T00:00:00.000000"
        },
        {
         "open": 539.23,
         "high": 540.81,
         "low": 535.93,
         "close": 536.74,
         "volume": 42167300,
         "adj close": 76.25,
         "_deepnote_index_column": "2014-03-31T00:00:00.000000"
        },
        {
         "open": 538.32,
         "high": 538.94,
         "low": 534.25,
         "close": 536.86,
         "volume": 50141000,
         "adj close": 76.27,
         "_deepnote_index_column": "2014-03-28T00:00:00.000000"
        },
        {
         "open": 540.02,
         "high": 541.5,
         "low": 535.12,
         "close": 537.46,
         "volume": 55507900,
         "adj close": 76.35,
         "_deepnote_index_column": "2014-03-27T00:00:00.000000"
        },
        {
         "open": 546.52,
         "high": 549,
         "low": 538.86,
         "close": 539.78,
         "volume": 74942000,
         "adj close": 76.68,
         "_deepnote_index_column": "2014-03-26T00:00:00.000000"
        },
        {
         "open": 541.5,
         "high": 545.75,
         "low": 539.59,
         "close": 544.99,
         "volume": 70573300,
         "adj close": 77.42,
         "_deepnote_index_column": "2014-03-25T00:00:00.000000"
        },
        {
         "open": 538.42,
         "high": 540.5,
         "low": 535.06,
         "close": 539.19,
         "volume": 88925200,
         "adj close": 76.6,
         "_deepnote_index_column": "2014-03-24T00:00:00.000000"
        },
        {
         "open": 531.93,
         "high": 533.75,
         "low": 526.33,
         "close": 532.87,
         "volume": 93511600,
         "adj close": 75.7,
         "_deepnote_index_column": "2014-03-21T00:00:00.000000"
        },
        {
         "open": 529.89,
         "high": 532.67,
         "low": 527.35,
         "close": 528.7,
         "volume": 52099600,
         "adj close": 75.11,
         "_deepnote_index_column": "2014-03-20T00:00:00.000000"
        },
        {
         "open": 532.26,
         "high": 536.24,
         "low": 529,
         "close": 531.26,
         "volume": 56189000,
         "adj close": 75.47,
         "_deepnote_index_column": "2014-03-19T00:00:00.000000"
        },
        {
         "open": 525.9,
         "high": 531.97,
         "low": 525.2,
         "close": 531.4,
         "volume": 52411800,
         "adj close": 75.49,
         "_deepnote_index_column": "2014-03-18T00:00:00.000000"
        },
        {
         "open": 527.7,
         "high": 529.97,
         "low": 525.85,
         "close": 526.74,
         "volume": 49886200,
         "adj close": 74.83,
         "_deepnote_index_column": "2014-03-17T00:00:00.000000"
        },
        {
         "open": 528.79,
         "high": 530.89,
         "low": 523,
         "close": 524.69,
         "volume": 59299800,
         "adj close": 74.54,
         "_deepnote_index_column": "2014-03-14T00:00:00.000000"
        },
        {
         "open": 537.44,
         "high": 539.66,
         "low": 529.16,
         "close": 530.65,
         "volume": 64435700,
         "adj close": 75.39,
         "_deepnote_index_column": "2014-03-13T00:00:00.000000"
        },
        {
         "open": 534.51,
         "high": 537.35,
         "low": 532,
         "close": 536.61,
         "volume": 49831600,
         "adj close": 76.23,
         "_deepnote_index_column": "2014-03-12T00:00:00.000000"
        },
        {
         "open": 535.45,
         "high": 538.74,
         "low": 532.59,
         "close": 536.09,
         "volume": 69806100,
         "adj close": 76.16,
         "_deepnote_index_column": "2014-03-11T00:00:00.000000"
        }
       ],
       "rows_bottom": [
        {
         "open": 124.87,
         "high": 125.12,
         "low": 121.88,
         "close": 124.31,
         "volume": 56548800,
         "adj close": 4.24,
         "_deepnote_index_column": "2000-05-01T00:00:00.000000"
        },
        {
         "open": 127.13,
         "high": 127.5,
         "low": 121.31,
         "close": 124.06,
         "volume": 62395200,
         "adj close": 4.24,
         "_deepnote_index_column": "2000-04-28T00:00:00.000000"
        },
        {
         "open": 117.19,
         "high": 127,
         "low": 116.58,
         "close": 126.75,
         "volume": 81650800,
         "adj close": 4.33,
         "_deepnote_index_column": "2000-04-27T00:00:00.000000"
        },
        {
         "open": 126.62,
         "high": 128,
         "low": 120,
         "close": 121.31,
         "volume": 91728000,
         "adj close": 4.14,
         "_deepnote_index_column": "2000-04-26T00:00:00.000000"
        },
        {
         "open": 122.13,
         "high": 128.75,
         "low": 122.06,
         "close": 128.31,
         "volume": 97910400,
         "adj close": 4.38,
         "_deepnote_index_column": "2000-04-25T00:00:00.000000"
        },
        {
         "open": 115,
         "high": 120.5,
         "low": 114.75,
         "close": 120.5,
         "volume": 110905200,
         "adj close": 4.11,
         "_deepnote_index_column": "2000-04-24T00:00:00.000000"
        },
        {
         "open": 123.69,
         "high": 124.75,
         "low": 117.06,
         "close": 118.88,
         "volume": 180530000,
         "adj close": 4.06,
         "_deepnote_index_column": "2000-04-20T00:00:00.000000"
        },
        {
         "open": 126.19,
         "high": 130.25,
         "low": 119.75,
         "close": 121.12,
         "volume": 130037600,
         "adj close": 4.13,
         "_deepnote_index_column": "2000-04-19T00:00:00.000000"
        },
        {
         "open": 123.5,
         "high": 126.88,
         "low": 119.37,
         "close": 126.88,
         "volume": 97731200,
         "adj close": 4.33,
         "_deepnote_index_column": "2000-04-18T00:00:00.000000"
        },
        {
         "open": 109.5,
         "high": 123.94,
         "low": 109.06,
         "close": 123.88,
         "volume": 102390400,
         "adj close": 4.23,
         "_deepnote_index_column": "2000-04-17T00:00:00.000000"
        },
        {
         "open": 109.31,
         "high": 118,
         "low": 109,
         "close": 111.88,
         "volume": 166905200,
         "adj close": 3.82,
         "_deepnote_index_column": "2000-04-14T00:00:00.000000"
        },
        {
         "open": 111.5,
         "high": 120,
         "low": 108.5,
         "close": 113.81,
         "volume": 132456800,
         "adj close": 3.89,
         "_deepnote_index_column": "2000-04-13T00:00:00.000000"
        },
        {
         "open": 119,
         "high": 119,
         "low": 104.88,
         "close": 109.25,
         "volume": 235284000,
         "adj close": 3.73,
         "_deepnote_index_column": "2000-04-12T00:00:00.000000"
        },
        {
         "open": 123.5,
         "high": 124.87,
         "low": 118.06,
         "close": 119.44,
         "volume": 135455600,
         "adj close": 4.08,
         "_deepnote_index_column": "2000-04-11T00:00:00.000000"
        },
        {
         "open": 131.69,
         "high": 132.75,
         "low": 124.75,
         "close": 125,
         "volume": 53065600,
         "adj close": 4.27,
         "_deepnote_index_column": "2000-04-10T00:00:00.000000"
        },
        {
         "open": 127.25,
         "high": 131.87,
         "low": 125.5,
         "close": 131.75,
         "volume": 60608800,
         "adj close": 4.5,
         "_deepnote_index_column": "2000-04-07T00:00:00.000000"
        },
        {
         "open": 130.63,
         "high": 134.5,
         "low": 123.25,
         "close": 125.19,
         "volume": 64906800,
         "adj close": 4.27,
         "_deepnote_index_column": "2000-04-06T00:00:00.000000"
        },
        {
         "open": 126.47,
         "high": 132.88,
         "low": 124,
         "close": 130.38,
         "volume": 114416400,
         "adj close": 4.45,
         "_deepnote_index_column": "2000-04-05T00:00:00.000000"
        },
        {
         "open": 132.63,
         "high": 133,
         "low": 116.75,
         "close": 127.31,
         "volume": 165082400,
         "adj close": 4.35,
         "_deepnote_index_column": "2000-04-04T00:00:00.000000"
        },
        {
         "open": 135.5,
         "high": 139.5,
         "low": 129.44,
         "close": 133.31,
         "volume": 82140800,
         "adj close": 4.55,
         "_deepnote_index_column": "2000-04-03T00:00:00.000000"
        },
        {
         "open": 127.44,
         "high": 137.25,
         "low": 126,
         "close": 135.81,
         "volume": 101158400,
         "adj close": 4.64,
         "_deepnote_index_column": "2000-03-31T00:00:00.000000"
        },
        {
         "open": 133.56,
         "high": 137.69,
         "low": 125.44,
         "close": 125.75,
         "volume": 103600000,
         "adj close": 4.29,
         "_deepnote_index_column": "2000-03-30T00:00:00.000000"
        },
        {
         "open": 139.38,
         "high": 139.44,
         "low": 133.83,
         "close": 135.94,
         "volume": 59959200,
         "adj close": 4.64,
         "_deepnote_index_column": "2000-03-29T00:00:00.000000"
        },
        {
         "open": 137.25,
         "high": 142,
         "low": 137.12,
         "close": 139.12,
         "volume": 50741600,
         "adj close": 4.75,
         "_deepnote_index_column": "2000-03-28T00:00:00.000000"
        },
        {
         "open": 137.63,
         "high": 144.75,
         "low": 136.87,
         "close": 139.56,
         "volume": 69795600,
         "adj close": 4.76,
         "_deepnote_index_column": "2000-03-27T00:00:00.000000"
        },
        {
         "open": 142.44,
         "high": 143.94,
         "low": 135.5,
         "close": 138.69,
         "volume": 111728400,
         "adj close": 4.73,
         "_deepnote_index_column": "2000-03-24T00:00:00.000000"
        },
        {
         "open": 142,
         "high": 150.38,
         "low": 140,
         "close": 141.31,
         "volume": 140641200,
         "adj close": 4.82,
         "_deepnote_index_column": "2000-03-23T00:00:00.000000"
        },
        {
         "open": 132.78,
         "high": 144.38,
         "low": 131.56,
         "close": 144.19,
         "volume": 141999200,
         "adj close": 4.92,
         "_deepnote_index_column": "2000-03-22T00:00:00.000000"
        },
        {
         "open": 122.56,
         "high": 136.75,
         "low": 121.62,
         "close": 134.94,
         "volume": 131082000,
         "adj close": 4.61,
         "_deepnote_index_column": "2000-03-21T00:00:00.000000"
        },
        {
         "open": 123.5,
         "high": 126.25,
         "low": 122.38,
         "close": 123,
         "volume": 51122400,
         "adj close": 4.2,
         "_deepnote_index_column": "2000-03-20T00:00:00.000000"
        },
        {
         "open": 120.13,
         "high": 125,
         "low": 119.62,
         "close": 125,
         "volume": 76260800,
         "adj close": 4.27,
         "_deepnote_index_column": "2000-03-17T00:00:00.000000"
        },
        {
         "open": 117.31,
         "high": 122,
         "low": 114.5,
         "close": 121.56,
         "volume": 94525200,
         "adj close": 4.15,
         "_deepnote_index_column": "2000-03-16T00:00:00.000000"
        },
        {
         "open": 115.62,
         "high": 120.25,
         "low": 114.12,
         "close": 116.25,
         "volume": 110902400,
         "adj close": 3.97,
         "_deepnote_index_column": "2000-03-15T00:00:00.000000"
        },
        {
         "open": 121.22,
         "high": 124.25,
         "low": 114,
         "close": 114.25,
         "volume": 107144800,
         "adj close": 3.9,
         "_deepnote_index_column": "2000-03-14T00:00:00.000000"
        },
        {
         "open": 122.13,
         "high": 126.5,
         "low": 119.5,
         "close": 121.31,
         "volume": 75989200,
         "adj close": 4.14,
         "_deepnote_index_column": "2000-03-13T00:00:00.000000"
        },
        {
         "open": 121.69,
         "high": 127.94,
         "low": 121,
         "close": 125.75,
         "volume": 62151600,
         "adj close": 4.29,
         "_deepnote_index_column": "2000-03-10T00:00:00.000000"
        },
        {
         "open": 120.87,
         "high": 125,
         "low": 118.25,
         "close": 122.25,
         "volume": 69179600,
         "adj close": 4.17,
         "_deepnote_index_column": "2000-03-09T00:00:00.000000"
        },
        {
         "open": 122.87,
         "high": 123.94,
         "low": 118.56,
         "close": 122,
         "volume": 67807600,
         "adj close": 4.16,
         "_deepnote_index_column": "2000-03-08T00:00:00.000000"
        },
        {
         "open": 126.44,
         "high": 127.44,
         "low": 121.12,
         "close": 122.87,
         "volume": 68252800,
         "adj close": 4.19,
         "_deepnote_index_column": "2000-03-07T00:00:00.000000"
        },
        {
         "open": 126,
         "high": 129.13,
         "low": 125,
         "close": 125.69,
         "volume": 52640000,
         "adj close": 4.29,
         "_deepnote_index_column": "2000-03-06T00:00:00.000000"
        },
        {
         "open": 124.87,
         "high": 128.23,
         "low": 120,
         "close": 128,
         "volume": 80841600,
         "adj close": 4.37,
         "_deepnote_index_column": "2000-03-03T00:00:00.000000"
        },
        {
         "open": 127,
         "high": 127.94,
         "low": 120.69,
         "close": 122,
         "volume": 77814800,
         "adj close": 4.16,
         "_deepnote_index_column": "2000-03-02T00:00:00.000000"
        },
        {
         "open": 118.56,
         "high": 132.06,
         "low": 118.5,
         "close": 130.31,
         "volume": 269250800,
         "adj close": 4.45,
         "_deepnote_index_column": "2000-03-01T00:00:00.000000"
        },
        {
         "open": 113.56,
         "high": 117.25,
         "low": 112.56,
         "close": 114.62,
         "volume": 92240400,
         "adj close": 3.91,
         "_deepnote_index_column": "2000-02-29T00:00:00.000000"
        },
        {
         "open": 110.13,
         "high": 115,
         "low": 108.38,
         "close": 113.25,
         "volume": 82082000,
         "adj close": 3.87,
         "_deepnote_index_column": "2000-02-28T00:00:00.000000"
        },
        {
         "open": 114.81,
         "high": 117,
         "low": 110.13,
         "close": 110.37,
         "volume": 62286000,
         "adj close": 3.77,
         "_deepnote_index_column": "2000-02-25T00:00:00.000000"
        },
        {
         "open": 117.31,
         "high": 119.12,
         "low": 111.75,
         "close": 115.2,
         "volume": 94108000,
         "adj close": 3.93,
         "_deepnote_index_column": "2000-02-24T00:00:00.000000"
        },
        {
         "open": 113.23,
         "high": 119,
         "low": 111,
         "close": 116.25,
         "volume": 118274800,
         "adj close": 3.97,
         "_deepnote_index_column": "2000-02-23T00:00:00.000000"
        },
        {
         "open": 110.13,
         "high": 116.94,
         "low": 106.69,
         "close": 113.81,
         "volume": 105574000,
         "adj close": 3.89,
         "_deepnote_index_column": "2000-02-22T00:00:00.000000"
        },
        {
         "open": 114.62,
         "high": 115.38,
         "low": 110.87,
         "close": 111.25,
         "volume": 58360400,
         "adj close": 3.8,
         "_deepnote_index_column": "2000-02-18T00:00:00.000000"
        },
        {
         "open": 115.19,
         "high": 115.5,
         "low": 113.13,
         "close": 114.88,
         "volume": 72374400,
         "adj close": 3.92,
         "_deepnote_index_column": "2000-02-17T00:00:00.000000"
        },
        {
         "open": 117.75,
         "high": 118.12,
         "low": 112.12,
         "close": 114.12,
         "volume": 94561600,
         "adj close": 3.9,
         "_deepnote_index_column": "2000-02-16T00:00:00.000000"
        },
        {
         "open": 115.25,
         "high": 119.94,
         "low": 115.19,
         "close": 119,
         "volume": 121436000,
         "adj close": 4.06,
         "_deepnote_index_column": "2000-02-15T00:00:00.000000"
        },
        {
         "open": 109.31,
         "high": 115.87,
         "low": 108.62,
         "close": 115.81,
         "volume": 91884800,
         "adj close": 3.95,
         "_deepnote_index_column": "2000-02-14T00:00:00.000000"
        },
        {
         "open": 113.63,
         "high": 114.12,
         "low": 108.25,
         "close": 108.75,
         "volume": 53062800,
         "adj close": 3.71,
         "_deepnote_index_column": "2000-02-11T00:00:00.000000"
        },
        {
         "open": 112.88,
         "high": 113.87,
         "low": 110,
         "close": 113.5,
         "volume": 75745600,
         "adj close": 3.87,
         "_deepnote_index_column": "2000-02-10T00:00:00.000000"
        },
        {
         "open": 114.12,
         "high": 117.13,
         "low": 112.44,
         "close": 112.62,
         "volume": 74841200,
         "adj close": 3.84,
         "_deepnote_index_column": "2000-02-09T00:00:00.000000"
        },
        {
         "open": 114,
         "high": 116.12,
         "low": 111.25,
         "close": 114.88,
         "volume": 102160800,
         "adj close": 3.92,
         "_deepnote_index_column": "2000-02-08T00:00:00.000000"
        },
        {
         "open": 108,
         "high": 114.25,
         "low": 105.94,
         "close": 114.06,
         "volume": 110266800,
         "adj close": 3.89,
         "_deepnote_index_column": "2000-02-07T00:00:00.000000"
        },
        {
         "open": 103.94,
         "high": 110,
         "low": 103.62,
         "close": 108,
         "volume": 106330000,
         "adj close": 3.69,
         "_deepnote_index_column": "2000-02-04T00:00:00.000000"
        },
        {
         "open": 100.31,
         "high": 104.25,
         "low": 100.25,
         "close": 103.31,
         "volume": 118798400,
         "adj close": 3.53,
         "_deepnote_index_column": "2000-02-03T00:00:00.000000"
        },
        {
         "open": 100.75,
         "high": 102.12,
         "low": 97,
         "close": 98.81,
         "volume": 116048800,
         "adj close": 3.37,
         "_deepnote_index_column": "2000-02-02T00:00:00.000000"
        },
        {
         "open": 104,
         "high": 105,
         "low": 100,
         "close": 100.25,
         "volume": 79508800,
         "adj close": 3.42,
         "_deepnote_index_column": "2000-02-01T00:00:00.000000"
        },
        {
         "open": 101,
         "high": 103.87,
         "low": 94.5,
         "close": 103.75,
         "volume": 175420000,
         "adj close": 3.54,
         "_deepnote_index_column": "2000-01-31T00:00:00.000000"
        },
        {
         "open": 108.19,
         "high": 110.87,
         "low": 100.62,
         "close": 101.62,
         "volume": 105837200,
         "adj close": 3.47,
         "_deepnote_index_column": "2000-01-28T00:00:00.000000"
        },
        {
         "open": 108.81,
         "high": 113,
         "low": 107,
         "close": 110,
         "volume": 85036000,
         "adj close": 3.75,
         "_deepnote_index_column": "2000-01-27T00:00:00.000000"
        },
        {
         "open": 110,
         "high": 114.19,
         "low": 109.75,
         "close": 110.19,
         "volume": 91789600,
         "adj close": 3.76,
         "_deepnote_index_column": "2000-01-26T00:00:00.000000"
        },
        {
         "open": 105,
         "high": 113.13,
         "low": 102.38,
         "close": 112.25,
         "volume": 124286400,
         "adj close": 3.83,
         "_deepnote_index_column": "2000-01-25T00:00:00.000000"
        },
        {
         "open": 108.44,
         "high": 112.75,
         "low": 105.12,
         "close": 106.25,
         "volume": 110219200,
         "adj close": 3.63,
         "_deepnote_index_column": "2000-01-24T00:00:00.000000"
        },
        {
         "open": 114.25,
         "high": 114.25,
         "low": 110.19,
         "close": 111.31,
         "volume": 123981200,
         "adj close": 3.8,
         "_deepnote_index_column": "2000-01-21T00:00:00.000000"
        },
        {
         "open": 115.5,
         "high": 121.5,
         "low": 113.5,
         "close": 113.5,
         "volume": 457783200,
         "adj close": 3.87,
         "_deepnote_index_column": "2000-01-20T00:00:00.000000"
        },
        {
         "open": 105.62,
         "high": 108.75,
         "low": 103.37,
         "close": 106.56,
         "volume": 149410800,
         "adj close": 3.64,
         "_deepnote_index_column": "2000-01-19T00:00:00.000000"
        },
        {
         "open": 101,
         "high": 106,
         "low": 100.44,
         "close": 103.94,
         "volume": 114794400,
         "adj close": 3.55,
         "_deepnote_index_column": "2000-01-18T00:00:00.000000"
        },
        {
         "open": 100,
         "high": 102.25,
         "low": 99.38,
         "close": 100.44,
         "volume": 97594000,
         "adj close": 3.43,
         "_deepnote_index_column": "2000-01-14T00:00:00.000000"
        },
        {
         "open": 94.48,
         "high": 98.75,
         "low": 92.5,
         "close": 96.75,
         "volume": 258171200,
         "adj close": 3.3,
         "_deepnote_index_column": "2000-01-13T00:00:00.000000"
        },
        {
         "open": 95,
         "high": 95.5,
         "low": 86.5,
         "close": 87.19,
         "volume": 244017200,
         "adj close": 2.98,
         "_deepnote_index_column": "2000-01-12T00:00:00.000000"
        },
        {
         "open": 95.94,
         "high": 99.38,
         "low": 90.5,
         "close": 92.75,
         "volume": 110387200,
         "adj close": 3.17,
         "_deepnote_index_column": "2000-01-11T00:00:00.000000"
        },
        {
         "open": 102,
         "high": 102.25,
         "low": 94.75,
         "close": 97.75,
         "volume": 126266000,
         "adj close": 3.34,
         "_deepnote_index_column": "2000-01-10T00:00:00.000000"
        },
        {
         "open": 96.5,
         "high": 101,
         "low": 95.5,
         "close": 99.5,
         "volume": 115183600,
         "adj close": 3.4,
         "_deepnote_index_column": "2000-01-07T00:00:00.000000"
        },
        {
         "open": 106.13,
         "high": 107,
         "low": 95,
         "close": 95,
         "volume": 191993200,
         "adj close": 3.24,
         "_deepnote_index_column": "2000-01-06T00:00:00.000000"
        },
        {
         "open": 103.75,
         "high": 110.56,
         "low": 103,
         "close": 104,
         "volume": 194580400,
         "adj close": 3.55,
         "_deepnote_index_column": "2000-01-05T00:00:00.000000"
        },
        {
         "open": 108.25,
         "high": 110.62,
         "low": 101.19,
         "close": 102.5,
         "volume": 128094400,
         "adj close": 3.5,
         "_deepnote_index_column": "2000-01-04T00:00:00.000000"
        },
        {
         "open": 104.88,
         "high": 112.5,
         "low": 101.69,
         "close": 111.94,
         "volume": 133949200,
         "adj close": 3.82,
         "_deepnote_index_column": "2000-01-03T00:00:00.000000"
        }
       ]
      },
      "text/plain": "              open    high     low   close     volume  adj close\ndate                                                            \n2014-07-08   96.27   96.80   93.92   95.35   65130000      95.35\n2014-07-07   94.14   95.99   94.10   95.97   56305400      95.97\n2014-07-03   93.67   94.10   93.20   94.03   22891800      94.03\n2014-07-02   93.87   94.06   93.09   93.48   28420900      93.48\n2014-07-01   93.52   94.07   93.13   93.52   38170200      93.52\n...            ...     ...     ...     ...        ...        ...\n2000-01-07   96.50  101.00   95.50   99.50  115183600       3.40\n2000-01-06  106.13  107.00   95.00   95.00  191993200       3.24\n2000-01-05  103.75  110.56  103.00  104.00  194580400       3.55\n2000-01-04  108.25  110.62  101.19  102.50  128094400       3.50\n2000-01-03  104.88  112.50  101.69  111.94  133949200       3.82\n\n[3650 rows x 6 columns]",
      "text/html": "<div>\n<style scoped>\n    .dataframe tbody tr th:only-of-type {\n        vertical-align: middle;\n    }\n\n    .dataframe tbody tr th {\n        vertical-align: top;\n    }\n\n    .dataframe thead th {\n        text-align: right;\n    }\n</style>\n<table border=\"1\" class=\"dataframe\">\n  <thead>\n    <tr style=\"text-align: right;\">\n      <th></th>\n      <th>open</th>\n      <th>high</th>\n      <th>low</th>\n      <th>close</th>\n      <th>volume</th>\n      <th>adj close</th>\n    </tr>\n    <tr>\n      <th>date</th>\n      <th></th>\n      <th></th>\n      <th></th>\n      <th></th>\n      <th></th>\n      <th></th>\n    </tr>\n  </thead>\n  <tbody>\n    <tr>\n      <th>2014-07-08</th>\n      <td>96.27</td>\n      <td>96.80</td>\n      <td>93.92</td>\n      <td>95.35</td>\n      <td>65130000</td>\n      <td>95.35</td>\n    </tr>\n    <tr>\n      <th>2014-07-07</th>\n      <td>94.14</td>\n      <td>95.99</td>\n      <td>94.10</td>\n      <td>95.97</td>\n      <td>56305400</td>\n      <td>95.97</td>\n    </tr>\n    <tr>\n      <th>2014-07-03</th>\n      <td>93.67</td>\n      <td>94.10</td>\n      <td>93.20</td>\n      <td>94.03</td>\n      <td>22891800</td>\n      <td>94.03</td>\n    </tr>\n    <tr>\n      <th>2014-07-02</th>\n      <td>93.87</td>\n      <td>94.06</td>\n      <td>93.09</td>\n      <td>93.48</td>\n      <td>28420900</td>\n      <td>93.48</td>\n    </tr>\n    <tr>\n      <th>2014-07-01</th>\n      <td>93.52</td>\n      <td>94.07</td>\n      <td>93.13</td>\n      <td>93.52</td>\n      <td>38170200</td>\n      <td>93.52</td>\n    </tr>\n    <tr>\n      <th>...</th>\n      <td>...</td>\n      <td>...</td>\n      <td>...</td>\n      <td>...</td>\n      <td>...</td>\n      <td>...</td>\n    </tr>\n    <tr>\n      <th>2000-01-07</th>\n      <td>96.50</td>\n      <td>101.00</td>\n      <td>95.50</td>\n      <td>99.50</td>\n      <td>115183600</td>\n      <td>3.40</td>\n    </tr>\n    <tr>\n      <th>2000-01-06</th>\n      <td>106.13</td>\n      <td>107.00</td>\n      <td>95.00</td>\n      <td>95.00</td>\n      <td>191993200</td>\n      <td>3.24</td>\n    </tr>\n    <tr>\n      <th>2000-01-05</th>\n      <td>103.75</td>\n      <td>110.56</td>\n      <td>103.00</td>\n      <td>104.00</td>\n      <td>194580400</td>\n      <td>3.55</td>\n    </tr>\n    <tr>\n      <th>2000-01-04</th>\n      <td>108.25</td>\n      <td>110.62</td>\n      <td>101.19</td>\n      <td>102.50</td>\n      <td>128094400</td>\n      <td>3.50</td>\n    </tr>\n    <tr>\n      <th>2000-01-03</th>\n      <td>104.88</td>\n      <td>112.50</td>\n      <td>101.69</td>\n      <td>111.94</td>\n      <td>133949200</td>\n      <td>3.82</td>\n    </tr>\n  </tbody>\n</table>\n<p>3650 rows × 6 columns</p>\n</div>"
     },
     "metadata": {}
    }
   ]
  },
  {
   "cell_type": "code",
   "metadata": {
    "tags": [],
    "cell_id": "00001-2a048d5d-f0ba-4f2b-8a14-4b2d8bae9a64",
    "deepnote_to_be_reexecuted": false,
    "source_hash": "e39891e8",
    "execution_start": 1628788204407,
    "execution_millis": 11,
    "deepnote_cell_type": "code"
   },
   "source": "df_adj_close_rolling = df[\"adj close\"].rolling(window=365).mean()\ndf_adj_close_rolling",
   "execution_count": null,
   "outputs": [
    {
     "output_type": "execute_result",
     "execution_count": 75,
     "data": {
      "text/plain": "date\n2014-07-08         NaN\n2014-07-07         NaN\n2014-07-03         NaN\n2014-07-02         NaN\n2014-07-01         NaN\n                ...   \n2000-01-07    2.575616\n2000-01-06    2.580712\n2000-01-05    2.586630\n2000-01-04    2.592384\n2000-01-03    2.599123\nName: adj close, Length: 3650, dtype: float64"
     },
     "metadata": {}
    }
   ]
  },
  {
   "cell_type": "code",
   "metadata": {
    "tags": [],
    "cell_id": "00001-b0747fb7-eb9b-4d8d-b74a-b4413c6b1892",
    "deepnote_to_be_reexecuted": false,
    "source_hash": "b399c242",
    "execution_start": 1628788206634,
    "execution_millis": 770,
    "output_cleared": false,
    "deepnote_cell_type": "code"
   },
   "source": "plt.figure(figsize=(12,8))\nsns.lineplot(data= df,\n             x = df.index,\n             y= \"adj close\")\n             \nsns.lineplot(data= df_adj_close_rolling,\n             x = df_adj_close_rolling.index,\n             y= df_adj_close_rolling.values)\n\nresampled_month = df.resample(\"M\").mean()\nresampled_year = df.resample(\"Y\").mean()\n\n             \nsns.lineplot(data= resampled_month,\n             x = resampled_month.index,\n             y= \"adj close\")\nsns.lineplot(data= resampled_year,\n             x = resampled_year.index,\n             y= \"adj close\")",
   "execution_count": null,
   "outputs": [
    {
     "output_type": "execute_result",
     "execution_count": 76,
     "data": {
      "text/plain": "<AxesSubplot:xlabel='date', ylabel='adj close'>"
     },
     "metadata": {}
    },
    {
     "data": {
      "text/plain": "<Figure size 864x576 with 1 Axes>",
      "image/png": "[encoded data removed]"
     },
     "metadata": {
      "needs_background": "light",
      "image/png": {
       "width": 723,
       "height": 480
      }
     },
     "output_type": "display_data"
    }
   ]
  },
  {
   "cell_type": "markdown",
   "source": "<a style='text-decoration:none;line-height:16px;display:flex;color:#5B5B62;padding:10px;justify-content:end;' href='https://deepnote.com?utm_source=created-in-deepnote-cell&projectId=7d3ce7c8-a514-49e4-9ba4-a5899ac52ea5' target=\"_blank\">\n<img alt='Created in deepnote.com' style='display:inline;max-height:16px;margin:0px;margin-right:7.5px;' src='data:image/svg+xml;base64,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' > </img>\nCreated in <span style='font-weight:600;margin-left:4px;'>Deepnote</span></a>",
   "metadata": {
    "tags": [],
    "created_in_deepnote_cell": true,
    "deepnote_cell_type": "markdown"
   }
  }
 ],
 "nbformat": 4,
 "nbformat_minor": 2,
 "metadata": {
  "orig_nbformat": 2,
  "deepnote": {
   "is_reactive": false
  },
  "deepnote_notebook_id": "db437503-bdb0-44ae-8974-f1fb085226a8",
  "deepnote_execution_queue": []
 }
}