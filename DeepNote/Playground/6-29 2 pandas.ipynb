{
 "cells": [
  {
   "cell_type": "code",
   "metadata": {
    "tags": [],
    "cell_id": "00000-34bf73f9-d06b-4a44-8cbf-edaf325ff227",
    "deepnote_to_be_reexecuted": false,
    "source_hash": "84664b76",
    "execution_start": 1624983743528,
    "execution_millis": 147,
    "deepnote_cell_type": "code"
   },
   "source": "import pandas as pd\nurl = 'https://raw.githubusercontent.com/justmarkham/DAT8/master/data/drinks.csv'\ndf = pd.read_csv(url)\ndf.head()",
   "execution_count": null,
   "outputs": [
    {
     "output_type": "execute_result",
     "execution_count": 6,
     "data": {
      "application/vnd.deepnote.dataframe.v2+json": {
       "row_count": 5,
       "column_count": 6,
       "columns": [
        {
         "name": "country",
         "dtype": "object",
         "stats": {
          "unique_count": 5,
          "nan_count": 0,
          "categories": [
           {
            "name": "Afghanistan",
            "count": 1
           },
           {
            "name": "Albania",
            "count": 1
           },
           {
            "name": "3 others",
            "count": 3
           }
          ]
         }
        },
        {
         "name": "beer_servings",
         "dtype": "int64",
         "stats": {
          "unique_count": 5,
          "nan_count": 0,
          "min": "0",
          "max": "245",
          "histogram": [
           {
            "bin_start": 0,
            "bin_end": 24.5,
            "count": 1
           },
           {
            "bin_start": 24.5,
            "bin_end": 49,
            "count": 1
           },
           {
            "bin_start": 49,
            "bin_end": 73.5,
            "count": 0
           },
           {
            "bin_start": 73.5,
            "bin_end": 98,
            "count": 1
           },
           {
            "bin_start": 98,
            "bin_end": 122.5,
            "count": 0
           },
           {
            "bin_start": 122.5,
            "bin_end": 147,
            "count": 0
           },
           {
            "bin_start": 147,
            "bin_end": 171.5,
            "count": 0
           },
           {
            "bin_start": 171.5,
            "bin_end": 196,
            "count": 0
           },
           {
            "bin_start": 196,
            "bin_end": 220.5,
            "count": 1
           },
           {
            "bin_start": 220.5,
            "bin_end": 245,
            "count": 1
           }
          ]
         }
        },
        {
         "name": "spirit_servings",
         "dtype": "int64",
         "stats": {
          "unique_count": 4,
          "nan_count": 0,
          "min": "0",
          "max": "138",
          "histogram": [
           {
            "bin_start": 0,
            "bin_end": 13.8,
            "count": 2
           },
           {
            "bin_start": 13.8,
            "bin_end": 27.6,
            "count": 0
           },
           {
            "bin_start": 27.6,
            "bin_end": 41.400000000000006,
            "count": 0
           },
           {
            "bin_start": 41.400000000000006,
            "bin_end": 55.2,
            "count": 0
           },
           {
            "bin_start": 55.2,
            "bin_end": 69,
            "count": 1
           },
           {
            "bin_start": 69,
            "bin_end": 82.80000000000001,
            "count": 0
           },
           {
            "bin_start": 82.80000000000001,
            "bin_end": 96.60000000000001,
            "count": 0
           },
           {
            "bin_start": 96.60000000000001,
            "bin_end": 110.4,
            "count": 0
           },
           {
            "bin_start": 110.4,
            "bin_end": 124.2,
            "count": 0
           },
           {
            "bin_start": 124.2,
            "bin_end": 138,
            "count": 2
           }
          ]
         }
        },
        {
         "name": "wine_servings",
         "dtype": "int64",
         "stats": {
          "unique_count": 5,
          "nan_count": 0,
          "min": "0",
          "max": "312",
          "histogram": [
           {
            "bin_start": 0,
            "bin_end": 31.2,
            "count": 2
           },
           {
            "bin_start": 31.2,
            "bin_end": 62.4,
            "count": 2
           },
           {
            "bin_start": 62.4,
            "bin_end": 93.6,
            "count": 0
           },
           {
            "bin_start": 93.6,
            "bin_end": 124.8,
            "count": 0
           },
           {
            "bin_start": 124.8,
            "bin_end": 156,
            "count": 0
           },
           {
            "bin_start": 156,
            "bin_end": 187.2,
            "count": 0
           },
           {
            "bin_start": 187.2,
            "bin_end": 218.4,
            "count": 0
           },
           {
            "bin_start": 218.4,
            "bin_end": 249.6,
            "count": 0
           },
           {
            "bin_start": 249.6,
            "bin_end": 280.8,
            "count": 0
           },
           {
            "bin_start": 280.8,
            "bin_end": 312,
            "count": 1
           }
          ]
         }
        },
        {
         "name": "total_litres_of_pure_alcohol",
         "dtype": "float64",
         "stats": {
          "unique_count": 5,
          "nan_count": 0,
          "min": "0.0",
          "max": "12.4",
          "histogram": [
           {
            "bin_start": 0,
            "bin_end": 1.24,
            "count": 2
           },
           {
            "bin_start": 1.24,
            "bin_end": 2.48,
            "count": 0
           },
           {
            "bin_start": 2.48,
            "bin_end": 3.7199999999999998,
            "count": 0
           },
           {
            "bin_start": 3.7199999999999998,
            "bin_end": 4.96,
            "count": 1
           },
           {
            "bin_start": 4.96,
            "bin_end": 6.2,
            "count": 1
           },
           {
            "bin_start": 6.2,
            "bin_end": 7.4399999999999995,
            "count": 0
           },
           {
            "bin_start": 7.4399999999999995,
            "bin_end": 8.68,
            "count": 0
           },
           {
            "bin_start": 8.68,
            "bin_end": 9.92,
            "count": 0
           },
           {
            "bin_start": 9.92,
            "bin_end": 11.16,
            "count": 0
           },
           {
            "bin_start": 11.16,
            "bin_end": 12.4,
            "count": 1
           }
          ]
         }
        },
        {
         "name": "continent",
         "dtype": "object",
         "stats": {
          "unique_count": 3,
          "nan_count": 0,
          "categories": [
           {
            "name": "EU",
            "count": 2
           },
           {
            "name": "AF",
            "count": 2
           },
           {
            "name": "AS",
            "count": 1
           }
          ]
         }
        },
        {
         "name": "_deepnote_index_column",
         "dtype": "int64"
        }
       ],
       "rows_top": [
        {
         "country": "Afghanistan",
         "beer_servings": 0,
         "spirit_servings": 0,
         "wine_servings": 0,
         "total_litres_of_pure_alcohol": 0,
         "continent": "AS",
         "_deepnote_index_column": 0
        },
        {
         "country": "Albania",
         "beer_servings": 89,
         "spirit_servings": 132,
         "wine_servings": 54,
         "total_litres_of_pure_alcohol": 4.9,
         "continent": "EU",
         "_deepnote_index_column": 1
        },
        {
         "country": "Algeria",
         "beer_servings": 25,
         "spirit_servings": 0,
         "wine_servings": 14,
         "total_litres_of_pure_alcohol": 0.7,
         "continent": "AF",
         "_deepnote_index_column": 2
        },
        {
         "country": "Andorra",
         "beer_servings": 245,
         "spirit_servings": 138,
         "wine_servings": 312,
         "total_litres_of_pure_alcohol": 12.4,
         "continent": "EU",
         "_deepnote_index_column": 3
        },
        {
         "country": "Angola",
         "beer_servings": 217,
         "spirit_servings": 57,
         "wine_servings": 45,
         "total_litres_of_pure_alcohol": 5.9,
         "continent": "AF",
         "_deepnote_index_column": 4
        }
       ],
       "rows_bottom": null
      },
      "text/plain": "       country  beer_servings  spirit_servings  wine_servings  \\\n0  Afghanistan              0                0              0   \n1      Albania             89              132             54   \n2      Algeria             25                0             14   \n3      Andorra            245              138            312   \n4       Angola            217               57             45   \n\n   total_litres_of_pure_alcohol continent  \n0                           0.0        AS  \n1                           4.9        EU  \n2                           0.7        AF  \n3                          12.4        EU  \n4                           5.9        AF  ",
      "text/html": "<div>\n<style scoped>\n    .dataframe tbody tr th:only-of-type {\n        vertical-align: middle;\n    }\n\n    .dataframe tbody tr th {\n        vertical-align: top;\n    }\n\n    .dataframe thead th {\n        text-align: right;\n    }\n</style>\n<table border=\"1\" class=\"dataframe\">\n  <thead>\n    <tr style=\"text-align: right;\">\n      <th></th>\n      <th>country</th>\n      <th>beer_servings</th>\n      <th>spirit_servings</th>\n      <th>wine_servings</th>\n      <th>total_litres_of_pure_alcohol</th>\n      <th>continent</th>\n    </tr>\n  </thead>\n  <tbody>\n    <tr>\n      <th>0</th>\n      <td>Afghanistan</td>\n      <td>0</td>\n      <td>0</td>\n      <td>0</td>\n      <td>0.0</td>\n      <td>AS</td>\n    </tr>\n    <tr>\n      <th>1</th>\n      <td>Albania</td>\n      <td>89</td>\n      <td>132</td>\n      <td>54</td>\n      <td>4.9</td>\n      <td>EU</td>\n    </tr>\n    <tr>\n      <th>2</th>\n      <td>Algeria</td>\n      <td>25</td>\n      <td>0</td>\n      <td>14</td>\n      <td>0.7</td>\n      <td>AF</td>\n    </tr>\n    <tr>\n      <th>3</th>\n      <td>Andorra</td>\n      <td>245</td>\n      <td>138</td>\n      <td>312</td>\n      <td>12.4</td>\n      <td>EU</td>\n    </tr>\n    <tr>\n      <th>4</th>\n      <td>Angola</td>\n      <td>217</td>\n      <td>57</td>\n      <td>45</td>\n      <td>5.9</td>\n      <td>AF</td>\n    </tr>\n  </tbody>\n</table>\n</div>"
     },
     "metadata": {}
    }
   ]
  },
  {
   "cell_type": "code",
   "metadata": {
    "tags": [],
    "cell_id": "00001-2ca3c862-3a5a-4670-9bc9-038409b7c757",
    "deepnote_to_be_reexecuted": false,
    "source_hash": "c8ce4db0",
    "execution_start": 1624983956320,
    "execution_millis": 12,
    "deepnote_cell_type": "code"
   },
   "source": "unique_countries_count = df[\"country\"].nunique()\nprint(f\"There are {unique_countries_count} unique countries\")\n\nunique_continents_count = df[\"continent\"].unique()\nunique_continents = df[\"continent\"].unique()\nprint(f\"There are {unique_continents_count} unique continents and they are {unique_continents}\")\n\n",
   "execution_count": null,
   "outputs": [
    {
     "name": "stdout",
     "text": "There are 193 unique countries\nThere are ['AS' 'EU' 'AF' nan 'SA' 'OC'] unique continents and they are ['AS' 'EU' 'AF' nan 'SA' 'OC']\n",
     "output_type": "stream"
    }
   ]
  },
  {
   "cell_type": "code",
   "metadata": {
    "tags": [],
    "cell_id": "00002-b3f72c58-4e69-4332-a982-00605c9ef7a7",
    "deepnote_to_be_reexecuted": false,
    "source_hash": "f88152d9",
    "execution_start": 1624983901937,
    "execution_millis": 40,
    "deepnote_cell_type": "code"
   },
   "source": "df.describe()",
   "execution_count": null,
   "outputs": [
    {
     "output_type": "execute_result",
     "execution_count": 12,
     "data": {
      "application/vnd.deepnote.dataframe.v2+json": {
       "row_count": 8,
       "column_count": 4,
       "columns": [
        {
         "name": "beer_servings",
         "dtype": "float64",
         "stats": {
          "unique_count": 8,
          "nan_count": 0,
          "min": "0.0",
          "max": "376.0",
          "histogram": [
           {
            "bin_start": 0,
            "bin_end": 37.6,
            "count": 2
           },
           {
            "bin_start": 37.6,
            "bin_end": 75.2,
            "count": 0
           },
           {
            "bin_start": 75.2,
            "bin_end": 112.80000000000001,
            "count": 3
           },
           {
            "bin_start": 112.80000000000001,
            "bin_end": 150.4,
            "count": 0
           },
           {
            "bin_start": 150.4,
            "bin_end": 188,
            "count": 0
           },
           {
            "bin_start": 188,
            "bin_end": 225.60000000000002,
            "count": 2
           },
           {
            "bin_start": 225.60000000000002,
            "bin_end": 263.2,
            "count": 0
           },
           {
            "bin_start": 263.2,
            "bin_end": 300.8,
            "count": 0
           },
           {
            "bin_start": 300.8,
            "bin_end": 338.40000000000003,
            "count": 0
           },
           {
            "bin_start": 338.40000000000003,
            "bin_end": 376,
            "count": 1
           }
          ]
         }
        },
        {
         "name": "spirit_servings",
         "dtype": "float64",
         "stats": {
          "unique_count": 8,
          "nan_count": 0,
          "min": "0.0",
          "max": "438.0",
          "histogram": [
           {
            "bin_start": 0,
            "bin_end": 43.8,
            "count": 2
           },
           {
            "bin_start": 43.8,
            "bin_end": 87.6,
            "count": 2
           },
           {
            "bin_start": 87.6,
            "bin_end": 131.39999999999998,
            "count": 2
           },
           {
            "bin_start": 131.39999999999998,
            "bin_end": 175.2,
            "count": 0
           },
           {
            "bin_start": 175.2,
            "bin_end": 219,
            "count": 1
           },
           {
            "bin_start": 219,
            "bin_end": 262.79999999999995,
            "count": 0
           },
           {
            "bin_start": 262.79999999999995,
            "bin_end": 306.59999999999997,
            "count": 0
           },
           {
            "bin_start": 306.59999999999997,
            "bin_end": 350.4,
            "count": 0
           },
           {
            "bin_start": 350.4,
            "bin_end": 394.2,
            "count": 0
           },
           {
            "bin_start": 394.2,
            "bin_end": 438,
            "count": 1
           }
          ]
         }
        },
        {
         "name": "wine_servings",
         "dtype": "float64",
         "stats": {
          "unique_count": 8,
          "nan_count": 0,
          "min": "0.0",
          "max": "370.0",
          "histogram": [
           {
            "bin_start": 0,
            "bin_end": 37,
            "count": 3
           },
           {
            "bin_start": 37,
            "bin_end": 74,
            "count": 2
           },
           {
            "bin_start": 74,
            "bin_end": 111,
            "count": 1
           },
           {
            "bin_start": 111,
            "bin_end": 148,
            "count": 0
           },
           {
            "bin_start": 148,
            "bin_end": 185,
            "count": 0
           },
           {
            "bin_start": 185,
            "bin_end": 222,
            "count": 1
           },
           {
            "bin_start": 222,
            "bin_end": 259,
            "count": 0
           },
           {
            "bin_start": 259,
            "bin_end": 296,
            "count": 0
           },
           {
            "bin_start": 296,
            "bin_end": 333,
            "count": 0
           },
           {
            "bin_start": 333,
            "bin_end": 370,
            "count": 1
           }
          ]
         }
        },
        {
         "name": "total_litres_of_pure_alcohol",
         "dtype": "float64",
         "stats": {
          "unique_count": 8,
          "nan_count": 0,
          "min": "0.0",
          "max": "193.0",
          "histogram": [
           {
            "bin_start": 0,
            "bin_end": 19.3,
            "count": 7
           },
           {
            "bin_start": 19.3,
            "bin_end": 38.6,
            "count": 0
           },
           {
            "bin_start": 38.6,
            "bin_end": 57.900000000000006,
            "count": 0
           },
           {
            "bin_start": 57.900000000000006,
            "bin_end": 77.2,
            "count": 0
           },
           {
            "bin_start": 77.2,
            "bin_end": 96.5,
            "count": 0
           },
           {
            "bin_start": 96.5,
            "bin_end": 115.80000000000001,
            "count": 0
           },
           {
            "bin_start": 115.80000000000001,
            "bin_end": 135.1,
            "count": 0
           },
           {
            "bin_start": 135.1,
            "bin_end": 154.4,
            "count": 0
           },
           {
            "bin_start": 154.4,
            "bin_end": 173.70000000000002,
            "count": 0
           },
           {
            "bin_start": 173.70000000000002,
            "bin_end": 193,
            "count": 1
           }
          ]
         }
        },
        {
         "name": "_deepnote_index_column",
         "dtype": "object"
        }
       ],
       "rows_top": [
        {
         "beer_servings": 193,
         "spirit_servings": 193,
         "wine_servings": 193,
         "total_litres_of_pure_alcohol": 193,
         "_deepnote_index_column": "count"
        },
        {
         "beer_servings": 106.16062176165804,
         "spirit_servings": 80.99481865284974,
         "wine_servings": 49.45077720207254,
         "total_litres_of_pure_alcohol": 4.717098445595855,
         "_deepnote_index_column": "mean"
        },
        {
         "beer_servings": 101.1431025393134,
         "spirit_servings": 88.2843121096862,
         "wine_servings": 79.6975984576301,
         "total_litres_of_pure_alcohol": 3.7732981643560835,
         "_deepnote_index_column": "std"
        },
        {
         "beer_servings": 0,
         "spirit_servings": 0,
         "wine_servings": 0,
         "total_litres_of_pure_alcohol": 0,
         "_deepnote_index_column": "min"
        },
        {
         "beer_servings": 20,
         "spirit_servings": 4,
         "wine_servings": 1,
         "total_litres_of_pure_alcohol": 1.3,
         "_deepnote_index_column": "25%"
        },
        {
         "beer_servings": 76,
         "spirit_servings": 56,
         "wine_servings": 8,
         "total_litres_of_pure_alcohol": 4.2,
         "_deepnote_index_column": "50%"
        },
        {
         "beer_servings": 188,
         "spirit_servings": 128,
         "wine_servings": 59,
         "total_litres_of_pure_alcohol": 7.2,
         "_deepnote_index_column": "75%"
        },
        {
         "beer_servings": 376,
         "spirit_servings": 438,
         "wine_servings": 370,
         "total_litres_of_pure_alcohol": 14.4,
         "_deepnote_index_column": "max"
        }
       ],
       "rows_bottom": null
      },
      "text/plain": "       beer_servings  spirit_servings  wine_servings  \\\ncount     193.000000       193.000000     193.000000   \nmean      106.160622        80.994819      49.450777   \nstd       101.143103        88.284312      79.697598   \nmin         0.000000         0.000000       0.000000   \n25%        20.000000         4.000000       1.000000   \n50%        76.000000        56.000000       8.000000   \n75%       188.000000       128.000000      59.000000   \nmax       376.000000       438.000000     370.000000   \n\n       total_litres_of_pure_alcohol  \ncount                    193.000000  \nmean                       4.717098  \nstd                        3.773298  \nmin                        0.000000  \n25%                        1.300000  \n50%                        4.200000  \n75%                        7.200000  \nmax                       14.400000  ",
      "text/html": "<div>\n<style scoped>\n    .dataframe tbody tr th:only-of-type {\n        vertical-align: middle;\n    }\n\n    .dataframe tbody tr th {\n        vertical-align: top;\n    }\n\n    .dataframe thead th {\n        text-align: right;\n    }\n</style>\n<table border=\"1\" class=\"dataframe\">\n  <thead>\n    <tr style=\"text-align: right;\">\n      <th></th>\n      <th>beer_servings</th>\n      <th>spirit_servings</th>\n      <th>wine_servings</th>\n      <th>total_litres_of_pure_alcohol</th>\n    </tr>\n  </thead>\n  <tbody>\n    <tr>\n      <th>count</th>\n      <td>193.000000</td>\n      <td>193.000000</td>\n      <td>193.000000</td>\n      <td>193.000000</td>\n    </tr>\n    <tr>\n      <th>mean</th>\n      <td>106.160622</td>\n      <td>80.994819</td>\n      <td>49.450777</td>\n      <td>4.717098</td>\n    </tr>\n    <tr>\n      <th>std</th>\n      <td>101.143103</td>\n      <td>88.284312</td>\n      <td>79.697598</td>\n      <td>3.773298</td>\n    </tr>\n    <tr>\n      <th>min</th>\n      <td>0.000000</td>\n      <td>0.000000</td>\n      <td>0.000000</td>\n      <td>0.000000</td>\n    </tr>\n    <tr>\n      <th>25%</th>\n      <td>20.000000</td>\n      <td>4.000000</td>\n      <td>1.000000</td>\n      <td>1.300000</td>\n    </tr>\n    <tr>\n      <th>50%</th>\n      <td>76.000000</td>\n      <td>56.000000</td>\n      <td>8.000000</td>\n      <td>4.200000</td>\n    </tr>\n    <tr>\n      <th>75%</th>\n      <td>188.000000</td>\n      <td>128.000000</td>\n      <td>59.000000</td>\n      <td>7.200000</td>\n    </tr>\n    <tr>\n      <th>max</th>\n      <td>376.000000</td>\n      <td>438.000000</td>\n      <td>370.000000</td>\n      <td>14.400000</td>\n    </tr>\n  </tbody>\n</table>\n</div>"
     },
     "metadata": {}
    }
   ]
  },
  {
   "cell_type": "code",
   "metadata": {
    "tags": [],
    "cell_id": "00003-61b3d4ab-a284-4ad0-b072-6a913a755e95",
    "deepnote_to_be_reexecuted": false,
    "source_hash": "e640778",
    "execution_start": 1624984217880,
    "execution_millis": 21,
    "deepnote_cell_type": "code"
   },
   "source": "df.head(7)",
   "execution_count": null,
   "outputs": [
    {
     "output_type": "execute_result",
     "execution_count": 21,
     "data": {
      "application/vnd.deepnote.dataframe.v2+json": {
       "row_count": 7,
       "column_count": 6,
       "columns": [
        {
         "name": "country",
         "dtype": "object",
         "stats": {
          "unique_count": 7,
          "nan_count": 0,
          "categories": [
           {
            "name": "Afghanistan",
            "count": 1
           },
           {
            "name": "Albania",
            "count": 1
           },
           {
            "name": "5 others",
            "count": 5
           }
          ]
         }
        },
        {
         "name": "beer_servings",
         "dtype": "int64",
         "stats": {
          "unique_count": 7,
          "nan_count": 0,
          "min": "0",
          "max": "245",
          "histogram": [
           {
            "bin_start": 0,
            "bin_end": 24.5,
            "count": 1
           },
           {
            "bin_start": 24.5,
            "bin_end": 49,
            "count": 1
           },
           {
            "bin_start": 49,
            "bin_end": 73.5,
            "count": 0
           },
           {
            "bin_start": 73.5,
            "bin_end": 98,
            "count": 1
           },
           {
            "bin_start": 98,
            "bin_end": 122.5,
            "count": 1
           },
           {
            "bin_start": 122.5,
            "bin_end": 147,
            "count": 0
           },
           {
            "bin_start": 147,
            "bin_end": 171.5,
            "count": 0
           },
           {
            "bin_start": 171.5,
            "bin_end": 196,
            "count": 1
           },
           {
            "bin_start": 196,
            "bin_end": 220.5,
            "count": 1
           },
           {
            "bin_start": 220.5,
            "bin_end": 245,
            "count": 1
           }
          ]
         }
        },
        {
         "name": "spirit_servings",
         "dtype": "int64",
         "stats": {
          "unique_count": 6,
          "nan_count": 0,
          "min": "0",
          "max": "138",
          "histogram": [
           {
            "bin_start": 0,
            "bin_end": 13.8,
            "count": 2
           },
           {
            "bin_start": 13.8,
            "bin_end": 27.6,
            "count": 1
           },
           {
            "bin_start": 27.6,
            "bin_end": 41.400000000000006,
            "count": 0
           },
           {
            "bin_start": 41.400000000000006,
            "bin_end": 55.2,
            "count": 0
           },
           {
            "bin_start": 55.2,
            "bin_end": 69,
            "count": 1
           },
           {
            "bin_start": 69,
            "bin_end": 82.80000000000001,
            "count": 0
           },
           {
            "bin_start": 82.80000000000001,
            "bin_end": 96.60000000000001,
            "count": 0
           },
           {
            "bin_start": 96.60000000000001,
            "bin_end": 110.4,
            "count": 0
           },
           {
            "bin_start": 110.4,
            "bin_end": 124.2,
            "count": 0
           },
           {
            "bin_start": 124.2,
            "bin_end": 138,
            "count": 3
           }
          ]
         }
        },
        {
         "name": "wine_servings",
         "dtype": "int64",
         "stats": {
          "unique_count": 6,
          "nan_count": 0,
          "min": "0",
          "max": "312",
          "histogram": [
           {
            "bin_start": 0,
            "bin_end": 31.2,
            "count": 2
           },
           {
            "bin_start": 31.2,
            "bin_end": 62.4,
            "count": 3
           },
           {
            "bin_start": 62.4,
            "bin_end": 93.6,
            "count": 0
           },
           {
            "bin_start": 93.6,
            "bin_end": 124.8,
            "count": 0
           },
           {
            "bin_start": 124.8,
            "bin_end": 156,
            "count": 0
           },
           {
            "bin_start": 156,
            "bin_end": 187.2,
            "count": 0
           },
           {
            "bin_start": 187.2,
            "bin_end": 218.4,
            "count": 0
           },
           {
            "bin_start": 218.4,
            "bin_end": 249.6,
            "count": 1
           },
           {
            "bin_start": 249.6,
            "bin_end": 280.8,
            "count": 0
           },
           {
            "bin_start": 280.8,
            "bin_end": 312,
            "count": 1
           }
          ]
         }
        },
        {
         "name": "total_litres_of_pure_alcohol",
         "dtype": "float64",
         "stats": {
          "unique_count": 6,
          "nan_count": 0,
          "min": "0.0",
          "max": "12.4",
          "histogram": [
           {
            "bin_start": 0,
            "bin_end": 1.24,
            "count": 2
           },
           {
            "bin_start": 1.24,
            "bin_end": 2.48,
            "count": 0
           },
           {
            "bin_start": 2.48,
            "bin_end": 3.7199999999999998,
            "count": 0
           },
           {
            "bin_start": 3.7199999999999998,
            "bin_end": 4.96,
            "count": 2
           },
           {
            "bin_start": 4.96,
            "bin_end": 6.2,
            "count": 1
           },
           {
            "bin_start": 6.2,
            "bin_end": 7.4399999999999995,
            "count": 0
           },
           {
            "bin_start": 7.4399999999999995,
            "bin_end": 8.68,
            "count": 1
           },
           {
            "bin_start": 8.68,
            "bin_end": 9.92,
            "count": 0
           },
           {
            "bin_start": 9.92,
            "bin_end": 11.16,
            "count": 0
           },
           {
            "bin_start": 11.16,
            "bin_end": 12.4,
            "count": 1
           }
          ]
         }
        },
        {
         "name": "continent",
         "dtype": "object",
         "stats": {
          "unique_count": 4,
          "nan_count": 1,
          "categories": [
           {
            "name": "EU",
            "count": 2
           },
           {
            "name": "3 others",
            "count": 4
           },
           {
            "name": "Missing",
            "count": 1
           }
          ]
         }
        },
        {
         "name": "_deepnote_index_column",
         "dtype": "int64"
        }
       ],
       "rows_top": [
        {
         "country": "Afghanistan",
         "beer_servings": 0,
         "spirit_servings": 0,
         "wine_servings": 0,
         "total_litres_of_pure_alcohol": 0,
         "continent": "AS",
         "_deepnote_index_column": 0
        },
        {
         "country": "Albania",
         "beer_servings": 89,
         "spirit_servings": 132,
         "wine_servings": 54,
         "total_litres_of_pure_alcohol": 4.9,
         "continent": "EU",
         "_deepnote_index_column": 1
        },
        {
         "country": "Algeria",
         "beer_servings": 25,
         "spirit_servings": 0,
         "wine_servings": 14,
         "total_litres_of_pure_alcohol": 0.7,
         "continent": "AF",
         "_deepnote_index_column": 2
        },
        {
         "country": "Andorra",
         "beer_servings": 245,
         "spirit_servings": 138,
         "wine_servings": 312,
         "total_litres_of_pure_alcohol": 12.4,
         "continent": "EU",
         "_deepnote_index_column": 3
        },
        {
         "country": "Angola",
         "beer_servings": 217,
         "spirit_servings": 57,
         "wine_servings": 45,
         "total_litres_of_pure_alcohol": 5.9,
         "continent": "AF",
         "_deepnote_index_column": 4
        },
        {
         "country": "Antigua & Barbuda",
         "beer_servings": 102,
         "spirit_servings": 128,
         "wine_servings": 45,
         "total_litres_of_pure_alcohol": 4.9,
         "continent": "nan",
         "_deepnote_index_column": 5
        },
        {
         "country": "Argentina",
         "beer_servings": 193,
         "spirit_servings": 25,
         "wine_servings": 221,
         "total_litres_of_pure_alcohol": 8.3,
         "continent": "SA",
         "_deepnote_index_column": 6
        }
       ],
       "rows_bottom": null
      },
      "text/plain": "             country  beer_servings  spirit_servings  wine_servings  \\\n0        Afghanistan              0                0              0   \n1            Albania             89              132             54   \n2            Algeria             25                0             14   \n3            Andorra            245              138            312   \n4             Angola            217               57             45   \n5  Antigua & Barbuda            102              128             45   \n6          Argentina            193               25            221   \n\n   total_litres_of_pure_alcohol continent  \n0                           0.0        AS  \n1                           4.9        EU  \n2                           0.7        AF  \n3                          12.4        EU  \n4                           5.9        AF  \n5                           4.9       NaN  \n6                           8.3        SA  ",
      "text/html": "<div>\n<style scoped>\n    .dataframe tbody tr th:only-of-type {\n        vertical-align: middle;\n    }\n\n    .dataframe tbody tr th {\n        vertical-align: top;\n    }\n\n    .dataframe thead th {\n        text-align: right;\n    }\n</style>\n<table border=\"1\" class=\"dataframe\">\n  <thead>\n    <tr style=\"text-align: right;\">\n      <th></th>\n      <th>country</th>\n      <th>beer_servings</th>\n      <th>spirit_servings</th>\n      <th>wine_servings</th>\n      <th>total_litres_of_pure_alcohol</th>\n      <th>continent</th>\n    </tr>\n  </thead>\n  <tbody>\n    <tr>\n      <th>0</th>\n      <td>Afghanistan</td>\n      <td>0</td>\n      <td>0</td>\n      <td>0</td>\n      <td>0.0</td>\n      <td>AS</td>\n    </tr>\n    <tr>\n      <th>1</th>\n      <td>Albania</td>\n      <td>89</td>\n      <td>132</td>\n      <td>54</td>\n      <td>4.9</td>\n      <td>EU</td>\n    </tr>\n    <tr>\n      <th>2</th>\n      <td>Algeria</td>\n      <td>25</td>\n      <td>0</td>\n      <td>14</td>\n      <td>0.7</td>\n      <td>AF</td>\n    </tr>\n    <tr>\n      <th>3</th>\n      <td>Andorra</td>\n      <td>245</td>\n      <td>138</td>\n      <td>312</td>\n      <td>12.4</td>\n      <td>EU</td>\n    </tr>\n    <tr>\n      <th>4</th>\n      <td>Angola</td>\n      <td>217</td>\n      <td>57</td>\n      <td>45</td>\n      <td>5.9</td>\n      <td>AF</td>\n    </tr>\n    <tr>\n      <th>5</th>\n      <td>Antigua &amp; Barbuda</td>\n      <td>102</td>\n      <td>128</td>\n      <td>45</td>\n      <td>4.9</td>\n      <td>NaN</td>\n    </tr>\n    <tr>\n      <th>6</th>\n      <td>Argentina</td>\n      <td>193</td>\n      <td>25</td>\n      <td>221</td>\n      <td>8.3</td>\n      <td>SA</td>\n    </tr>\n  </tbody>\n</table>\n</div>"
     },
     "metadata": {}
    }
   ]
  },
  {
   "cell_type": "code",
   "metadata": {
    "tags": [],
    "cell_id": "00004-b88207c4-3158-4922-8a97-42ee381181ff",
    "deepnote_to_be_reexecuted": false,
    "source_hash": "f40e72ed",
    "execution_start": 1624984572505,
    "execution_millis": 18,
    "deepnote_cell_type": "code"
   },
   "source": "df.groupby(\"continent\").sum()",
   "execution_count": null,
   "outputs": [
    {
     "output_type": "execute_result",
     "execution_count": 25,
     "data": {
      "application/vnd.deepnote.dataframe.v2+json": {
       "row_count": 5,
       "column_count": 4,
       "columns": [
        {
         "name": "beer_servings",
         "dtype": "int64",
         "stats": {
          "unique_count": 5,
          "nan_count": 0,
          "min": "1435",
          "max": "8720",
          "histogram": [
           {
            "bin_start": 1435,
            "bin_end": 2163.5,
            "count": 3
           },
           {
            "bin_start": 2163.5,
            "bin_end": 2892,
            "count": 0
           },
           {
            "bin_start": 2892,
            "bin_end": 3620.5,
            "count": 1
           },
           {
            "bin_start": 3620.5,
            "bin_end": 4349,
            "count": 0
           },
           {
            "bin_start": 4349,
            "bin_end": 5077.5,
            "count": 0
           },
           {
            "bin_start": 5077.5,
            "bin_end": 5806,
            "count": 0
           },
           {
            "bin_start": 5806,
            "bin_end": 6534.5,
            "count": 0
           },
           {
            "bin_start": 6534.5,
            "bin_end": 7263,
            "count": 0
           },
           {
            "bin_start": 7263,
            "bin_end": 7991.5,
            "count": 0
           },
           {
            "bin_start": 7991.5,
            "bin_end": 8720,
            "count": 1
           }
          ]
         }
        },
        {
         "name": "spirit_servings",
         "dtype": "int64",
         "stats": {
          "unique_count": 5,
          "nan_count": 0,
          "min": "866",
          "max": "5965",
          "histogram": [
           {
            "bin_start": 866,
            "bin_end": 1375.9,
            "count": 2
           },
           {
            "bin_start": 1375.9,
            "bin_end": 1885.8,
            "count": 1
           },
           {
            "bin_start": 1885.8,
            "bin_end": 2395.7,
            "count": 0
           },
           {
            "bin_start": 2395.7,
            "bin_end": 2905.6,
            "count": 1
           },
           {
            "bin_start": 2905.6,
            "bin_end": 3415.5,
            "count": 0
           },
           {
            "bin_start": 3415.5,
            "bin_end": 3925.3999999999996,
            "count": 0
           },
           {
            "bin_start": 3925.3999999999996,
            "bin_end": 4435.299999999999,
            "count": 0
           },
           {
            "bin_start": 4435.299999999999,
            "bin_end": 4945.2,
            "count": 0
           },
           {
            "bin_start": 4945.2,
            "bin_end": 5455.099999999999,
            "count": 0
           },
           {
            "bin_start": 5455.099999999999,
            "bin_end": 5965,
            "count": 1
           }
          ]
         }
        },
        {
         "name": "wine_servings",
         "dtype": "int64",
         "stats": {
          "unique_count": 5,
          "nan_count": 0,
          "min": "399",
          "max": "6400",
          "histogram": [
           {
            "bin_start": 399,
            "bin_end": 999.1,
            "count": 4
           },
           {
            "bin_start": 999.1,
            "bin_end": 1599.2,
            "count": 0
           },
           {
            "bin_start": 1599.2,
            "bin_end": 2199.3,
            "count": 0
           },
           {
            "bin_start": 2199.3,
            "bin_end": 2799.4,
            "count": 0
           },
           {
            "bin_start": 2799.4,
            "bin_end": 3399.5,
            "count": 0
           },
           {
            "bin_start": 3399.5,
            "bin_end": 3999.6000000000004,
            "count": 0
           },
           {
            "bin_start": 3999.6000000000004,
            "bin_end": 4599.7,
            "count": 0
           },
           {
            "bin_start": 4599.7,
            "bin_end": 5199.8,
            "count": 0
           },
           {
            "bin_start": 5199.8,
            "bin_end": 5799.900000000001,
            "count": 0
           },
           {
            "bin_start": 5799.900000000001,
            "bin_end": 6400,
            "count": 1
           }
          ]
         }
        },
        {
         "name": "total_litres_of_pure_alcohol",
         "dtype": "float64",
         "stats": {
          "unique_count": 5,
          "nan_count": 0,
          "min": "54.10000000000001",
          "max": "387.79999999999995",
          "histogram": [
           {
            "bin_start": 54.10000000000001,
            "bin_end": 87.47,
            "count": 2
           },
           {
            "bin_start": 87.47,
            "bin_end": 120.83999999999999,
            "count": 1
           },
           {
            "bin_start": 120.83999999999999,
            "bin_end": 154.20999999999998,
            "count": 0
           },
           {
            "bin_start": 154.20999999999998,
            "bin_end": 187.57999999999998,
            "count": 1
           },
           {
            "bin_start": 187.57999999999998,
            "bin_end": 220.95,
            "count": 0
           },
           {
            "bin_start": 220.95,
            "bin_end": 254.31999999999994,
            "count": 0
           },
           {
            "bin_start": 254.31999999999994,
            "bin_end": 287.68999999999994,
            "count": 0
           },
           {
            "bin_start": 287.68999999999994,
            "bin_end": 321.05999999999995,
            "count": 0
           },
           {
            "bin_start": 321.05999999999995,
            "bin_end": 354.42999999999995,
            "count": 0
           },
           {
            "bin_start": 354.42999999999995,
            "bin_end": 387.79999999999995,
            "count": 1
           }
          ]
         }
        },
        {
         "name": "_deepnote_index_column",
         "dtype": "object"
        }
       ],
       "rows_top": [
        {
         "beer_servings": 3258,
         "spirit_servings": 866,
         "wine_servings": 862,
         "total_litres_of_pure_alcohol": 159.39999999999995,
         "_deepnote_index_column": "AF"
        },
        {
         "beer_servings": 1630,
         "spirit_servings": 2677,
         "wine_servings": 399,
         "total_litres_of_pure_alcohol": 95.5,
         "_deepnote_index_column": "AS"
        },
        {
         "beer_servings": 8720,
         "spirit_servings": 5965,
         "wine_servings": 6400,
         "total_litres_of_pure_alcohol": 387.79999999999995,
         "_deepnote_index_column": "EU"
        },
        {
         "beer_servings": 1435,
         "spirit_servings": 935,
         "wine_servings": 570,
         "total_litres_of_pure_alcohol": 54.10000000000001,
         "_deepnote_index_column": "OC"
        },
        {
         "beer_servings": 2101,
         "spirit_servings": 1377,
         "wine_servings": 749,
         "total_litres_of_pure_alcohol": 75.7,
         "_deepnote_index_column": "SA"
        }
       ],
       "rows_bottom": null
      },
      "text/plain": "           beer_servings  spirit_servings  wine_servings  \\\ncontinent                                                  \nAF                  3258              866            862   \nAS                  1630             2677            399   \nEU                  8720             5965           6400   \nOC                  1435              935            570   \nSA                  2101             1377            749   \n\n           total_litres_of_pure_alcohol  \ncontinent                                \nAF                                159.4  \nAS                                 95.5  \nEU                                387.8  \nOC                                 54.1  \nSA                                 75.7  ",
      "text/html": "<div>\n<style scoped>\n    .dataframe tbody tr th:only-of-type {\n        vertical-align: middle;\n    }\n\n    .dataframe tbody tr th {\n        vertical-align: top;\n    }\n\n    .dataframe thead th {\n        text-align: right;\n    }\n</style>\n<table border=\"1\" class=\"dataframe\">\n  <thead>\n    <tr style=\"text-align: right;\">\n      <th></th>\n      <th>beer_servings</th>\n      <th>spirit_servings</th>\n      <th>wine_servings</th>\n      <th>total_litres_of_pure_alcohol</th>\n    </tr>\n    <tr>\n      <th>continent</th>\n      <th></th>\n      <th></th>\n      <th></th>\n      <th></th>\n    </tr>\n  </thead>\n  <tbody>\n    <tr>\n      <th>AF</th>\n      <td>3258</td>\n      <td>866</td>\n      <td>862</td>\n      <td>159.4</td>\n    </tr>\n    <tr>\n      <th>AS</th>\n      <td>1630</td>\n      <td>2677</td>\n      <td>399</td>\n      <td>95.5</td>\n    </tr>\n    <tr>\n      <th>EU</th>\n      <td>8720</td>\n      <td>5965</td>\n      <td>6400</td>\n      <td>387.8</td>\n    </tr>\n    <tr>\n      <th>OC</th>\n      <td>1435</td>\n      <td>935</td>\n      <td>570</td>\n      <td>54.1</td>\n    </tr>\n    <tr>\n      <th>SA</th>\n      <td>2101</td>\n      <td>1377</td>\n      <td>749</td>\n      <td>75.7</td>\n    </tr>\n  </tbody>\n</table>\n</div>"
     },
     "metadata": {}
    }
   ]
  },
  {
   "cell_type": "code",
   "metadata": {
    "tags": [],
    "cell_id": "00005-84ffac4f-7699-495c-92a2-cdd09f42079e",
    "deepnote_to_be_reexecuted": false,
    "source_hash": "f88152d9",
    "execution_start": 1624984616795,
    "execution_millis": 9,
    "deepnote_cell_type": "code"
   },
   "source": "df.describe()",
   "execution_count": null,
   "outputs": [
    {
     "output_type": "execute_result",
     "execution_count": 27,
     "data": {
      "application/vnd.deepnote.dataframe.v2+json": {
       "row_count": 8,
       "column_count": 4,
       "columns": [
        {
         "name": "beer_servings",
         "dtype": "float64",
         "stats": {
          "unique_count": 8,
          "nan_count": 0,
          "min": "0.0",
          "max": "376.0",
          "histogram": [
           {
            "bin_start": 0,
            "bin_end": 37.6,
            "count": 2
           },
           {
            "bin_start": 37.6,
            "bin_end": 75.2,
            "count": 0
           },
           {
            "bin_start": 75.2,
            "bin_end": 112.80000000000001,
            "count": 3
           },
           {
            "bin_start": 112.80000000000001,
            "bin_end": 150.4,
            "count": 0
           },
           {
            "bin_start": 150.4,
            "bin_end": 188,
            "count": 0
           },
           {
            "bin_start": 188,
            "bin_end": 225.60000000000002,
            "count": 2
           },
           {
            "bin_start": 225.60000000000002,
            "bin_end": 263.2,
            "count": 0
           },
           {
            "bin_start": 263.2,
            "bin_end": 300.8,
            "count": 0
           },
           {
            "bin_start": 300.8,
            "bin_end": 338.40000000000003,
            "count": 0
           },
           {
            "bin_start": 338.40000000000003,
            "bin_end": 376,
            "count": 1
           }
          ]
         }
        },
        {
         "name": "spirit_servings",
         "dtype": "float64",
         "stats": {
          "unique_count": 8,
          "nan_count": 0,
          "min": "0.0",
          "max": "438.0",
          "histogram": [
           {
            "bin_start": 0,
            "bin_end": 43.8,
            "count": 2
           },
           {
            "bin_start": 43.8,
            "bin_end": 87.6,
            "count": 2
           },
           {
            "bin_start": 87.6,
            "bin_end": 131.39999999999998,
            "count": 2
           },
           {
            "bin_start": 131.39999999999998,
            "bin_end": 175.2,
            "count": 0
           },
           {
            "bin_start": 175.2,
            "bin_end": 219,
            "count": 1
           },
           {
            "bin_start": 219,
            "bin_end": 262.79999999999995,
            "count": 0
           },
           {
            "bin_start": 262.79999999999995,
            "bin_end": 306.59999999999997,
            "count": 0
           },
           {
            "bin_start": 306.59999999999997,
            "bin_end": 350.4,
            "count": 0
           },
           {
            "bin_start": 350.4,
            "bin_end": 394.2,
            "count": 0
           },
           {
            "bin_start": 394.2,
            "bin_end": 438,
            "count": 1
           }
          ]
         }
        },
        {
         "name": "wine_servings",
         "dtype": "float64",
         "stats": {
          "unique_count": 8,
          "nan_count": 0,
          "min": "0.0",
          "max": "370.0",
          "histogram": [
           {
            "bin_start": 0,
            "bin_end": 37,
            "count": 3
           },
           {
            "bin_start": 37,
            "bin_end": 74,
            "count": 2
           },
           {
            "bin_start": 74,
            "bin_end": 111,
            "count": 1
           },
           {
            "bin_start": 111,
            "bin_end": 148,
            "count": 0
           },
           {
            "bin_start": 148,
            "bin_end": 185,
            "count": 0
           },
           {
            "bin_start": 185,
            "bin_end": 222,
            "count": 1
           },
           {
            "bin_start": 222,
            "bin_end": 259,
            "count": 0
           },
           {
            "bin_start": 259,
            "bin_end": 296,
            "count": 0
           },
           {
            "bin_start": 296,
            "bin_end": 333,
            "count": 0
           },
           {
            "bin_start": 333,
            "bin_end": 370,
            "count": 1
           }
          ]
         }
        },
        {
         "name": "total_litres_of_pure_alcohol",
         "dtype": "float64",
         "stats": {
          "unique_count": 8,
          "nan_count": 0,
          "min": "0.0",
          "max": "193.0",
          "histogram": [
           {
            "bin_start": 0,
            "bin_end": 19.3,
            "count": 7
           },
           {
            "bin_start": 19.3,
            "bin_end": 38.6,
            "count": 0
           },
           {
            "bin_start": 38.6,
            "bin_end": 57.900000000000006,
            "count": 0
           },
           {
            "bin_start": 57.900000000000006,
            "bin_end": 77.2,
            "count": 0
           },
           {
            "bin_start": 77.2,
            "bin_end": 96.5,
            "count": 0
           },
           {
            "bin_start": 96.5,
            "bin_end": 115.80000000000001,
            "count": 0
           },
           {
            "bin_start": 115.80000000000001,
            "bin_end": 135.1,
            "count": 0
           },
           {
            "bin_start": 135.1,
            "bin_end": 154.4,
            "count": 0
           },
           {
            "bin_start": 154.4,
            "bin_end": 173.70000000000002,
            "count": 0
           },
           {
            "bin_start": 173.70000000000002,
            "bin_end": 193,
            "count": 1
           }
          ]
         }
        },
        {
         "name": "_deepnote_index_column",
         "dtype": "object"
        }
       ],
       "rows_top": [
        {
         "beer_servings": 193,
         "spirit_servings": 193,
         "wine_servings": 193,
         "total_litres_of_pure_alcohol": 193,
         "_deepnote_index_column": "count"
        },
        {
         "beer_servings": 106.16062176165804,
         "spirit_servings": 80.99481865284974,
         "wine_servings": 49.45077720207254,
         "total_litres_of_pure_alcohol": 4.717098445595855,
         "_deepnote_index_column": "mean"
        },
        {
         "beer_servings": 101.1431025393134,
         "spirit_servings": 88.2843121096862,
         "wine_servings": 79.6975984576301,
         "total_litres_of_pure_alcohol": 3.7732981643560835,
         "_deepnote_index_column": "std"
        },
        {
         "beer_servings": 0,
         "spirit_servings": 0,
         "wine_servings": 0,
         "total_litres_of_pure_alcohol": 0,
         "_deepnote_index_column": "min"
        },
        {
         "beer_servings": 20,
         "spirit_servings": 4,
         "wine_servings": 1,
         "total_litres_of_pure_alcohol": 1.3,
         "_deepnote_index_column": "25%"
        },
        {
         "beer_servings": 76,
         "spirit_servings": 56,
         "wine_servings": 8,
         "total_litres_of_pure_alcohol": 4.2,
         "_deepnote_index_column": "50%"
        },
        {
         "beer_servings": 188,
         "spirit_servings": 128,
         "wine_servings": 59,
         "total_litres_of_pure_alcohol": 7.2,
         "_deepnote_index_column": "75%"
        },
        {
         "beer_servings": 376,
         "spirit_servings": 438,
         "wine_servings": 370,
         "total_litres_of_pure_alcohol": 14.4,
         "_deepnote_index_column": "max"
        }
       ],
       "rows_bottom": null
      },
      "text/plain": "       beer_servings  spirit_servings  wine_servings  \\\ncount     193.000000       193.000000     193.000000   \nmean      106.160622        80.994819      49.450777   \nstd       101.143103        88.284312      79.697598   \nmin         0.000000         0.000000       0.000000   \n25%        20.000000         4.000000       1.000000   \n50%        76.000000        56.000000       8.000000   \n75%       188.000000       128.000000      59.000000   \nmax       376.000000       438.000000     370.000000   \n\n       total_litres_of_pure_alcohol  \ncount                    193.000000  \nmean                       4.717098  \nstd                        3.773298  \nmin                        0.000000  \n25%                        1.300000  \n50%                        4.200000  \n75%                        7.200000  \nmax                       14.400000  ",
      "text/html": "<div>\n<style scoped>\n    .dataframe tbody tr th:only-of-type {\n        vertical-align: middle;\n    }\n\n    .dataframe tbody tr th {\n        vertical-align: top;\n    }\n\n    .dataframe thead th {\n        text-align: right;\n    }\n</style>\n<table border=\"1\" class=\"dataframe\">\n  <thead>\n    <tr style=\"text-align: right;\">\n      <th></th>\n      <th>beer_servings</th>\n      <th>spirit_servings</th>\n      <th>wine_servings</th>\n      <th>total_litres_of_pure_alcohol</th>\n    </tr>\n  </thead>\n  <tbody>\n    <tr>\n      <th>count</th>\n      <td>193.000000</td>\n      <td>193.000000</td>\n      <td>193.000000</td>\n      <td>193.000000</td>\n    </tr>\n    <tr>\n      <th>mean</th>\n      <td>106.160622</td>\n      <td>80.994819</td>\n      <td>49.450777</td>\n      <td>4.717098</td>\n    </tr>\n    <tr>\n      <th>std</th>\n      <td>101.143103</td>\n      <td>88.284312</td>\n      <td>79.697598</td>\n      <td>3.773298</td>\n    </tr>\n    <tr>\n      <th>min</th>\n      <td>0.000000</td>\n      <td>0.000000</td>\n      <td>0.000000</td>\n      <td>0.000000</td>\n    </tr>\n    <tr>\n      <th>25%</th>\n      <td>20.000000</td>\n      <td>4.000000</td>\n      <td>1.000000</td>\n      <td>1.300000</td>\n    </tr>\n    <tr>\n      <th>50%</th>\n      <td>76.000000</td>\n      <td>56.000000</td>\n      <td>8.000000</td>\n      <td>4.200000</td>\n    </tr>\n    <tr>\n      <th>75%</th>\n      <td>188.000000</td>\n      <td>128.000000</td>\n      <td>59.000000</td>\n      <td>7.200000</td>\n    </tr>\n    <tr>\n      <th>max</th>\n      <td>376.000000</td>\n      <td>438.000000</td>\n      <td>370.000000</td>\n      <td>14.400000</td>\n    </tr>\n  </tbody>\n</table>\n</div>"
     },
     "metadata": {}
    }
   ]
  },
  {
   "cell_type": "code",
   "metadata": {
    "tags": [],
    "cell_id": "00005-50d07219-62f0-47ca-b624-a3c47b150911",
    "deepnote_to_be_reexecuted": false,
    "source_hash": "b1395af",
    "execution_start": 1624984605189,
    "execution_millis": 24,
    "deepnote_cell_type": "code"
   },
   "source": "df.groupby(\"continent\").mean()",
   "execution_count": null,
   "outputs": [
    {
     "output_type": "execute_result",
     "execution_count": 26,
     "data": {
      "application/vnd.deepnote.dataframe.v2+json": {
       "row_count": 5,
       "column_count": 4,
       "columns": [
        {
         "name": "beer_servings",
         "dtype": "float64",
         "stats": {
          "unique_count": 5,
          "nan_count": 0,
          "min": "37.04545454545455",
          "max": "193.77777777777777",
          "histogram": [
           {
            "bin_start": 37.04545454545455,
            "bin_end": 52.718686868686866,
            "count": 1
           },
           {
            "bin_start": 52.718686868686866,
            "bin_end": 68.39191919191919,
            "count": 1
           },
           {
            "bin_start": 68.39191919191919,
            "bin_end": 84.06515151515151,
            "count": 0
           },
           {
            "bin_start": 84.06515151515151,
            "bin_end": 99.73838383838384,
            "count": 1
           },
           {
            "bin_start": 99.73838383838384,
            "bin_end": 115.41161616161615,
            "count": 0
           },
           {
            "bin_start": 115.41161616161615,
            "bin_end": 131.08484848484846,
            "count": 0
           },
           {
            "bin_start": 131.08484848484846,
            "bin_end": 146.7580808080808,
            "count": 0
           },
           {
            "bin_start": 146.7580808080808,
            "bin_end": 162.43131313131312,
            "count": 0
           },
           {
            "bin_start": 162.43131313131312,
            "bin_end": 178.10454545454542,
            "count": 1
           },
           {
            "bin_start": 178.10454545454542,
            "bin_end": 193.77777777777777,
            "count": 1
           }
          ]
         }
        },
        {
         "name": "spirit_servings",
         "dtype": "float64",
         "stats": {
          "unique_count": 5,
          "nan_count": 0,
          "min": "16.339622641509433",
          "max": "132.55555555555554",
          "histogram": [
           {
            "bin_start": 16.339622641509433,
            "bin_end": 27.961215932914044,
            "count": 1
           },
           {
            "bin_start": 27.961215932914044,
            "bin_end": 39.58280922431865,
            "count": 0
           },
           {
            "bin_start": 39.58280922431865,
            "bin_end": 51.204402515723274,
            "count": 0
           },
           {
            "bin_start": 51.204402515723274,
            "bin_end": 62.82599580712788,
            "count": 2
           },
           {
            "bin_start": 62.82599580712788,
            "bin_end": 74.44758909853249,
            "count": 0
           },
           {
            "bin_start": 74.44758909853249,
            "bin_end": 86.06918238993711,
            "count": 0
           },
           {
            "bin_start": 86.06918238993711,
            "bin_end": 97.69077568134172,
            "count": 0
           },
           {
            "bin_start": 97.69077568134172,
            "bin_end": 109.31236897274633,
            "count": 0
           },
           {
            "bin_start": 109.31236897274633,
            "bin_end": 120.93396226415094,
            "count": 1
           },
           {
            "bin_start": 120.93396226415094,
            "bin_end": 132.55555555555554,
            "count": 1
           }
          ]
         }
        },
        {
         "name": "wine_servings",
         "dtype": "float64",
         "stats": {
          "unique_count": 5,
          "nan_count": 0,
          "min": "9.068181818181818",
          "max": "142.22222222222223",
          "histogram": [
           {
            "bin_start": 9.068181818181818,
            "bin_end": 22.38358585858586,
            "count": 2
           },
           {
            "bin_start": 22.38358585858586,
            "bin_end": 35.6989898989899,
            "count": 1
           },
           {
            "bin_start": 35.6989898989899,
            "bin_end": 49.01439393939395,
            "count": 0
           },
           {
            "bin_start": 49.01439393939395,
            "bin_end": 62.32979797979799,
            "count": 0
           },
           {
            "bin_start": 62.32979797979799,
            "bin_end": 75.64520202020202,
            "count": 1
           },
           {
            "bin_start": 75.64520202020202,
            "bin_end": 88.96060606060607,
            "count": 0
           },
           {
            "bin_start": 88.96060606060607,
            "bin_end": 102.2760101010101,
            "count": 0
           },
           {
            "bin_start": 102.2760101010101,
            "bin_end": 115.59141414141415,
            "count": 0
           },
           {
            "bin_start": 115.59141414141415,
            "bin_end": 128.9068181818182,
            "count": 0
           },
           {
            "bin_start": 128.9068181818182,
            "bin_end": 142.22222222222223,
            "count": 1
           }
          ]
         }
        },
        {
         "name": "total_litres_of_pure_alcohol",
         "dtype": "float64",
         "stats": {
          "unique_count": 5,
          "nan_count": 0,
          "min": "2.1704545454545454",
          "max": "8.617777777777777",
          "histogram": [
           {
            "bin_start": 2.1704545454545454,
            "bin_end": 2.815186868686869,
            "count": 1
           },
           {
            "bin_start": 2.815186868686869,
            "bin_end": 3.459919191919192,
            "count": 2
           },
           {
            "bin_start": 3.459919191919192,
            "bin_end": 4.104651515151515,
            "count": 0
           },
           {
            "bin_start": 4.104651515151515,
            "bin_end": 4.749383838383839,
            "count": 0
           },
           {
            "bin_start": 4.749383838383839,
            "bin_end": 5.394116161616161,
            "count": 0
           },
           {
            "bin_start": 5.394116161616161,
            "bin_end": 6.038848484848485,
            "count": 0
           },
           {
            "bin_start": 6.038848484848485,
            "bin_end": 6.683580808080809,
            "count": 1
           },
           {
            "bin_start": 6.683580808080809,
            "bin_end": 7.328313131313131,
            "count": 0
           },
           {
            "bin_start": 7.328313131313131,
            "bin_end": 7.9730454545454545,
            "count": 0
           },
           {
            "bin_start": 7.9730454545454545,
            "bin_end": 8.617777777777777,
            "count": 1
           }
          ]
         }
        },
        {
         "name": "_deepnote_index_column",
         "dtype": "object"
        }
       ],
       "rows_top": [
        {
         "beer_servings": 61.471698113207545,
         "spirit_servings": 16.339622641509433,
         "wine_servings": 16.264150943396228,
         "total_litres_of_pure_alcohol": 3.00754716981132,
         "_deepnote_index_column": "AF"
        },
        {
         "beer_servings": 37.04545454545455,
         "spirit_servings": 60.84090909090909,
         "wine_servings": 9.068181818181818,
         "total_litres_of_pure_alcohol": 2.1704545454545454,
         "_deepnote_index_column": "AS"
        },
        {
         "beer_servings": 193.77777777777777,
         "spirit_servings": 132.55555555555554,
         "wine_servings": 142.22222222222223,
         "total_litres_of_pure_alcohol": 8.617777777777777,
         "_deepnote_index_column": "EU"
        },
        {
         "beer_servings": 89.6875,
         "spirit_servings": 58.4375,
         "wine_servings": 35.625,
         "total_litres_of_pure_alcohol": 3.3812500000000005,
         "_deepnote_index_column": "OC"
        },
        {
         "beer_servings": 175.08333333333334,
         "spirit_servings": 114.75,
         "wine_servings": 62.416666666666664,
         "total_litres_of_pure_alcohol": 6.308333333333334,
         "_deepnote_index_column": "SA"
        }
       ],
       "rows_bottom": null
      },
      "text/plain": "           beer_servings  spirit_servings  wine_servings  \\\ncontinent                                                  \nAF             61.471698        16.339623      16.264151   \nAS             37.045455        60.840909       9.068182   \nEU            193.777778       132.555556     142.222222   \nOC             89.687500        58.437500      35.625000   \nSA            175.083333       114.750000      62.416667   \n\n           total_litres_of_pure_alcohol  \ncontinent                                \nAF                             3.007547  \nAS                             2.170455  \nEU                             8.617778  \nOC                             3.381250  \nSA                             6.308333  ",
      "text/html": "<div>\n<style scoped>\n    .dataframe tbody tr th:only-of-type {\n        vertical-align: middle;\n    }\n\n    .dataframe tbody tr th {\n        vertical-align: top;\n    }\n\n    .dataframe thead th {\n        text-align: right;\n    }\n</style>\n<table border=\"1\" class=\"dataframe\">\n  <thead>\n    <tr style=\"text-align: right;\">\n      <th></th>\n      <th>beer_servings</th>\n      <th>spirit_servings</th>\n      <th>wine_servings</th>\n      <th>total_litres_of_pure_alcohol</th>\n    </tr>\n    <tr>\n      <th>continent</th>\n      <th></th>\n      <th></th>\n      <th></th>\n      <th></th>\n    </tr>\n  </thead>\n  <tbody>\n    <tr>\n      <th>AF</th>\n      <td>61.471698</td>\n      <td>16.339623</td>\n      <td>16.264151</td>\n      <td>3.007547</td>\n    </tr>\n    <tr>\n      <th>AS</th>\n      <td>37.045455</td>\n      <td>60.840909</td>\n      <td>9.068182</td>\n      <td>2.170455</td>\n    </tr>\n    <tr>\n      <th>EU</th>\n      <td>193.777778</td>\n      <td>132.555556</td>\n      <td>142.222222</td>\n      <td>8.617778</td>\n    </tr>\n    <tr>\n      <th>OC</th>\n      <td>89.687500</td>\n      <td>58.437500</td>\n      <td>35.625000</td>\n      <td>3.381250</td>\n    </tr>\n    <tr>\n      <th>SA</th>\n      <td>175.083333</td>\n      <td>114.750000</td>\n      <td>62.416667</td>\n      <td>6.308333</td>\n    </tr>\n  </tbody>\n</table>\n</div>"
     },
     "metadata": {}
    }
   ]
  },
  {
   "cell_type": "code",
   "metadata": {
    "tags": [],
    "cell_id": "00007-d5f370b5-c968-4d0e-a777-679ff958d511",
    "deepnote_to_be_reexecuted": false,
    "source_hash": "e4d25ceb",
    "execution_start": 1624985085601,
    "execution_millis": 28,
    "deepnote_cell_type": "code"
   },
   "source": "df.groupby(\"continent\")[\"wine_servings\"].agg([\"mean\", \"min\", \"max\", \"std\", \"sum\"])",
   "execution_count": null,
   "outputs": [
    {
     "output_type": "execute_result",
     "execution_count": 47,
     "data": {
      "application/vnd.deepnote.dataframe.v2+json": {
       "row_count": 5,
       "column_count": 5,
       "columns": [
        {
         "name": "mean",
         "dtype": "float64",
         "stats": {
          "unique_count": 5,
          "nan_count": 0,
          "min": "9.068181818181818",
          "max": "142.22222222222223",
          "histogram": [
           {
            "bin_start": 9.068181818181818,
            "bin_end": 22.38358585858586,
            "count": 2
           },
           {
            "bin_start": 22.38358585858586,
            "bin_end": 35.6989898989899,
            "count": 1
           },
           {
            "bin_start": 35.6989898989899,
            "bin_end": 49.01439393939395,
            "count": 0
           },
           {
            "bin_start": 49.01439393939395,
            "bin_end": 62.32979797979799,
            "count": 0
           },
           {
            "bin_start": 62.32979797979799,
            "bin_end": 75.64520202020202,
            "count": 1
           },
           {
            "bin_start": 75.64520202020202,
            "bin_end": 88.96060606060607,
            "count": 0
           },
           {
            "bin_start": 88.96060606060607,
            "bin_end": 102.2760101010101,
            "count": 0
           },
           {
            "bin_start": 102.2760101010101,
            "bin_end": 115.59141414141415,
            "count": 0
           },
           {
            "bin_start": 115.59141414141415,
            "bin_end": 128.9068181818182,
            "count": 0
           },
           {
            "bin_start": 128.9068181818182,
            "bin_end": 142.22222222222223,
            "count": 1
           }
          ]
         }
        },
        {
         "name": "min",
         "dtype": "int64",
         "stats": {
          "unique_count": 2,
          "nan_count": 0,
          "min": "0",
          "max": "1",
          "histogram": [
           {
            "bin_start": 0,
            "bin_end": 0.1,
            "count": 4
           },
           {
            "bin_start": 0.1,
            "bin_end": 0.2,
            "count": 0
           },
           {
            "bin_start": 0.2,
            "bin_end": 0.30000000000000004,
            "count": 0
           },
           {
            "bin_start": 0.30000000000000004,
            "bin_end": 0.4,
            "count": 0
           },
           {
            "bin_start": 0.4,
            "bin_end": 0.5,
            "count": 0
           },
           {
            "bin_start": 0.5,
            "bin_end": 0.6000000000000001,
            "count": 0
           },
           {
            "bin_start": 0.6000000000000001,
            "bin_end": 0.7000000000000001,
            "count": 0
           },
           {
            "bin_start": 0.7000000000000001,
            "bin_end": 0.8,
            "count": 0
           },
           {
            "bin_start": 0.8,
            "bin_end": 0.9,
            "count": 0
           },
           {
            "bin_start": 0.9,
            "bin_end": 1,
            "count": 1
           }
          ]
         }
        },
        {
         "name": "max",
         "dtype": "int64",
         "stats": {
          "unique_count": 5,
          "nan_count": 0,
          "min": "123",
          "max": "370",
          "histogram": [
           {
            "bin_start": 123,
            "bin_end": 147.7,
            "count": 1
           },
           {
            "bin_start": 147.7,
            "bin_end": 172.4,
            "count": 0
           },
           {
            "bin_start": 172.4,
            "bin_end": 197.1,
            "count": 0
           },
           {
            "bin_start": 197.1,
            "bin_end": 221.8,
            "count": 2
           },
           {
            "bin_start": 221.8,
            "bin_end": 246.5,
            "count": 1
           },
           {
            "bin_start": 246.5,
            "bin_end": 271.2,
            "count": 0
           },
           {
            "bin_start": 271.2,
            "bin_end": 295.9,
            "count": 0
           },
           {
            "bin_start": 295.9,
            "bin_end": 320.6,
            "count": 0
           },
           {
            "bin_start": 320.6,
            "bin_end": 345.29999999999995,
            "count": 0
           },
           {
            "bin_start": 345.29999999999995,
            "bin_end": 370,
            "count": 1
           }
          ]
         }
        },
        {
         "name": "std",
         "dtype": "float64",
         "stats": {
          "unique_count": 5,
          "nan_count": 0,
          "min": "21.667033931944484",
          "max": "97.42173756146497",
          "histogram": [
           {
            "bin_start": 21.667033931944484,
            "bin_end": 29.242504294896534,
            "count": 1
           },
           {
            "bin_start": 29.242504294896534,
            "bin_end": 36.81797465784858,
            "count": 0
           },
           {
            "bin_start": 36.81797465784858,
            "bin_end": 44.39344502080063,
            "count": 1
           },
           {
            "bin_start": 44.39344502080063,
            "bin_end": 51.96891538375267,
            "count": 0
           },
           {
            "bin_start": 51.96891538375267,
            "bin_end": 59.54438574670472,
            "count": 0
           },
           {
            "bin_start": 59.54438574670472,
            "bin_end": 67.11985610965678,
            "count": 1
           },
           {
            "bin_start": 67.11985610965678,
            "bin_end": 74.69532647260883,
            "count": 0
           },
           {
            "bin_start": 74.69532647260883,
            "bin_end": 82.27079683556087,
            "count": 0
           },
           {
            "bin_start": 82.27079683556087,
            "bin_end": 89.84626719851292,
            "count": 1
           },
           {
            "bin_start": 89.84626719851292,
            "bin_end": 97.42173756146497,
            "count": 1
           }
          ]
         }
        },
        {
         "name": "sum",
         "dtype": "int64",
         "stats": {
          "unique_count": 5,
          "nan_count": 0,
          "min": "399",
          "max": "6400",
          "histogram": [
           {
            "bin_start": 399,
            "bin_end": 999.1,
            "count": 4
           },
           {
            "bin_start": 999.1,
            "bin_end": 1599.2,
            "count": 0
           },
           {
            "bin_start": 1599.2,
            "bin_end": 2199.3,
            "count": 0
           },
           {
            "bin_start": 2199.3,
            "bin_end": 2799.4,
            "count": 0
           },
           {
            "bin_start": 2799.4,
            "bin_end": 3399.5,
            "count": 0
           },
           {
            "bin_start": 3399.5,
            "bin_end": 3999.6000000000004,
            "count": 0
           },
           {
            "bin_start": 3999.6000000000004,
            "bin_end": 4599.7,
            "count": 0
           },
           {
            "bin_start": 4599.7,
            "bin_end": 5199.8,
            "count": 0
           },
           {
            "bin_start": 5199.8,
            "bin_end": 5799.900000000001,
            "count": 0
           },
           {
            "bin_start": 5799.900000000001,
            "bin_end": 6400,
            "count": 1
           }
          ]
         }
        },
        {
         "name": "_deepnote_index_column",
         "dtype": "object"
        }
       ],
       "rows_top": [
        {
         "mean": 16.264150943396228,
         "min": 0,
         "max": 233,
         "std": 38.84641897335842,
         "sum": 862,
         "_deepnote_index_column": "AF"
        },
        {
         "mean": 9.068181818181818,
         "min": 0,
         "max": 123,
         "std": 21.667033931944484,
         "sum": 399,
         "_deepnote_index_column": "AS"
        },
        {
         "mean": 142.22222222222223,
         "min": 0,
         "max": 370,
         "std": 97.42173756146497,
         "sum": 6400,
         "_deepnote_index_column": "EU"
        },
        {
         "mean": 35.625,
         "min": 0,
         "max": 212,
         "std": 64.55578982554547,
         "sum": 570,
         "_deepnote_index_column": "OC"
        },
        {
         "mean": 62.416666666666664,
         "min": 1,
         "max": 221,
         "std": 88.62018888937148,
         "sum": 749,
         "_deepnote_index_column": "SA"
        }
       ],
       "rows_bottom": null
      },
      "text/plain": "                 mean  min  max        std   sum\ncontinent                                       \nAF          16.264151    0  233  38.846419   862\nAS           9.068182    0  123  21.667034   399\nEU         142.222222    0  370  97.421738  6400\nOC          35.625000    0  212  64.555790   570\nSA          62.416667    1  221  88.620189   749",
      "text/html": "<div>\n<style scoped>\n    .dataframe tbody tr th:only-of-type {\n        vertical-align: middle;\n    }\n\n    .dataframe tbody tr th {\n        vertical-align: top;\n    }\n\n    .dataframe thead th {\n        text-align: right;\n    }\n</style>\n<table border=\"1\" class=\"dataframe\">\n  <thead>\n    <tr style=\"text-align: right;\">\n      <th></th>\n      <th>mean</th>\n      <th>min</th>\n      <th>max</th>\n      <th>std</th>\n      <th>sum</th>\n    </tr>\n    <tr>\n      <th>continent</th>\n      <th></th>\n      <th></th>\n      <th></th>\n      <th></th>\n      <th></th>\n    </tr>\n  </thead>\n  <tbody>\n    <tr>\n      <th>AF</th>\n      <td>16.264151</td>\n      <td>0</td>\n      <td>233</td>\n      <td>38.846419</td>\n      <td>862</td>\n    </tr>\n    <tr>\n      <th>AS</th>\n      <td>9.068182</td>\n      <td>0</td>\n      <td>123</td>\n      <td>21.667034</td>\n      <td>399</td>\n    </tr>\n    <tr>\n      <th>EU</th>\n      <td>142.222222</td>\n      <td>0</td>\n      <td>370</td>\n      <td>97.421738</td>\n      <td>6400</td>\n    </tr>\n    <tr>\n      <th>OC</th>\n      <td>35.625000</td>\n      <td>0</td>\n      <td>212</td>\n      <td>64.555790</td>\n      <td>570</td>\n    </tr>\n    <tr>\n      <th>SA</th>\n      <td>62.416667</td>\n      <td>1</td>\n      <td>221</td>\n      <td>88.620189</td>\n      <td>749</td>\n    </tr>\n  </tbody>\n</table>\n</div>"
     },
     "metadata": {}
    }
   ]
  },
  {
   "cell_type": "markdown",
   "source": "now I am checking distributions per country..\n",
   "metadata": {
    "tags": [],
    "cell_id": "00008-5521d284-cd4b-483e-be04-a164604086ae",
    "deepnote_cell_type": "markdown"
   }
  },
  {
   "cell_type": "code",
   "metadata": {
    "tags": [],
    "cell_id": "00009-310187b2-36ee-40a5-a3ca-2e66d1331576",
    "deepnote_to_be_reexecuted": false,
    "source_hash": "dd4013bf",
    "execution_start": 1624985492595,
    "execution_millis": 0,
    "deepnote_cell_type": "code"
   },
   "source": "df['missing_continent'] = df['continent'].isnull()",
   "execution_count": null,
   "outputs": []
  },
  {
   "cell_type": "code",
   "metadata": {
    "tags": [],
    "cell_id": "00010-861e9bf6-e67c-49ae-8a98-b268e9d2b7d3",
    "deepnote_to_be_reexecuted": false,
    "source_hash": "fa324d89",
    "execution_start": 1624985734616,
    "execution_millis": 7,
    "deepnote_cell_type": "code"
   },
   "source": "df[\"continent\"].isnull()",
   "execution_count": null,
   "outputs": [
    {
     "output_type": "execute_result",
     "execution_count": 69,
     "data": {
      "text/plain": "0      False\n1      False\n2      False\n3      False\n4      False\n       ...  \n188    False\n189    False\n190    False\n191    False\n192    False\nName: continent, Length: 193, dtype: bool"
     },
     "metadata": {}
    }
   ]
  },
  {
   "cell_type": "code",
   "metadata": {
    "tags": [],
    "cell_id": "00011-d69ce259-15d0-4983-8ba9-f9de51e2dc28",
    "deepnote_to_be_reexecuted": false,
    "source_hash": "da9d6a85",
    "execution_start": 1624986208749,
    "execution_millis": 35,
    "deepnote_cell_type": "code"
   },
   "source": "df[df[\"beer_servings\"]<100]",
   "execution_count": null,
   "outputs": [
    {
     "output_type": "execute_result",
     "execution_count": 102,
     "data": {
      "application/vnd.deepnote.dataframe.v2+json": {
       "row_count": 114,
       "column_count": 7,
       "columns": [
        {
         "name": "country",
         "dtype": "object",
         "stats": {
          "unique_count": 114,
          "nan_count": 0,
          "categories": [
           {
            "name": "Afghanistan",
            "count": 1
           },
           {
            "name": "Albania",
            "count": 1
           },
           {
            "name": "112 others",
            "count": 112
           }
          ]
         }
        },
        {
         "name": "beer_servings",
         "dtype": "int64",
         "stats": {
          "unique_count": 58,
          "nan_count": 0,
          "min": "0",
          "max": "99",
          "histogram": [
           {
            "bin_start": 0,
            "bin_end": 9.9,
            "count": 37
           },
           {
            "bin_start": 9.9,
            "bin_end": 19.8,
            "count": 10
           },
           {
            "bin_start": 19.8,
            "bin_end": 29.700000000000003,
            "count": 14
           },
           {
            "bin_start": 29.700000000000003,
            "bin_end": 39.6,
            "count": 11
           },
           {
            "bin_start": 39.6,
            "bin_end": 49.5,
            "count": 7
           },
           {
            "bin_start": 49.5,
            "bin_end": 59.400000000000006,
            "count": 10
           },
           {
            "bin_start": 59.400000000000006,
            "bin_end": 69.3,
            "count": 6
           },
           {
            "bin_start": 69.3,
            "bin_end": 79.2,
            "count": 8
           },
           {
            "bin_start": 79.2,
            "bin_end": 89.10000000000001,
            "count": 5
           },
           {
            "bin_start": 89.10000000000001,
            "bin_end": 99,
            "count": 6
           }
          ]
         }
        },
        {
         "name": "spirit_servings",
         "dtype": "int64",
         "stats": {
          "unique_count": 56,
          "nan_count": 0,
          "min": "0",
          "max": "326",
          "histogram": [
           {
            "bin_start": 0,
            "bin_end": 32.6,
            "count": 72
           },
           {
            "bin_start": 32.6,
            "bin_end": 65.2,
            "count": 14
           },
           {
            "bin_start": 65.2,
            "bin_end": 97.80000000000001,
            "count": 6
           },
           {
            "bin_start": 97.80000000000001,
            "bin_end": 130.4,
            "count": 7
           },
           {
            "bin_start": 130.4,
            "bin_end": 163,
            "count": 4
           },
           {
            "bin_start": 163,
            "bin_end": 195.60000000000002,
            "count": 5
           },
           {
            "bin_start": 195.60000000000002,
            "bin_end": 228.20000000000002,
            "count": 1
           },
           {
            "bin_start": 228.20000000000002,
            "bin_end": 260.8,
            "count": 2
           },
           {
            "bin_start": 260.8,
            "bin_end": 293.40000000000003,
            "count": 1
           },
           {
            "bin_start": 293.40000000000003,
            "bin_end": 326,
            "count": 2
           }
          ]
         }
        },
        {
         "name": "wine_servings",
         "dtype": "int64",
         "stats": {
          "unique_count": 30,
          "nan_count": 0,
          "min": "0",
          "max": "237",
          "histogram": [
           {
            "bin_start": 0,
            "bin_end": 23.7,
            "count": 103
           },
           {
            "bin_start": 23.7,
            "bin_end": 47.4,
            "count": 3
           },
           {
            "bin_start": 47.4,
            "bin_end": 71.1,
            "count": 1
           },
           {
            "bin_start": 71.1,
            "bin_end": 94.8,
            "count": 1
           },
           {
            "bin_start": 94.8,
            "bin_end": 118.5,
            "count": 0
           },
           {
            "bin_start": 118.5,
            "bin_end": 142.2,
            "count": 3
           },
           {
            "bin_start": 142.2,
            "bin_end": 165.9,
            "count": 1
           },
           {
            "bin_start": 165.9,
            "bin_end": 189.6,
            "count": 0
           },
           {
            "bin_start": 189.6,
            "bin_end": 213.29999999999998,
            "count": 0
           },
           {
            "bin_start": 213.29999999999998,
            "bin_end": 237,
            "count": 2
           }
          ]
         }
        },
        {
         "name": "total_litres_of_pure_alcohol",
         "dtype": "float64",
         "stats": {
          "unique_count": 53,
          "nan_count": 0,
          "min": "0.0",
          "max": "9.1",
          "histogram": [
           {
            "bin_start": 0,
            "bin_end": 0.9099999999999999,
            "count": 40
           },
           {
            "bin_start": 0.9099999999999999,
            "bin_end": 1.8199999999999998,
            "count": 21
           },
           {
            "bin_start": 1.8199999999999998,
            "bin_end": 2.7299999999999995,
            "count": 18
           },
           {
            "bin_start": 2.7299999999999995,
            "bin_end": 3.6399999999999997,
            "count": 6
           },
           {
            "bin_start": 3.6399999999999997,
            "bin_end": 4.55,
            "count": 5
           },
           {
            "bin_start": 4.55,
            "bin_end": 5.459999999999999,
            "count": 9
           },
           {
            "bin_start": 5.459999999999999,
            "bin_end": 6.369999999999999,
            "count": 6
           },
           {
            "bin_start": 6.369999999999999,
            "bin_end": 7.279999999999999,
            "count": 7
           },
           {
            "bin_start": 7.279999999999999,
            "bin_end": 8.19,
            "count": 0
           },
           {
            "bin_start": 8.19,
            "bin_end": 9.1,
            "count": 2
           }
          ]
         }
        },
        {
         "name": "continent",
         "dtype": "object",
         "stats": {
          "unique_count": 5,
          "nan_count": 8,
          "categories": [
           {
            "name": "AF",
            "count": 45
           },
           {
            "name": "4 others",
            "count": 61
           },
           {
            "name": "Missing",
            "count": 8
           }
          ]
         }
        },
        {
         "name": "missing_continent",
         "dtype": "bool",
         "stats": {
          "unique_count": 2,
          "nan_count": 0,
          "categories": [
           {
            "name": "False",
            "count": 106
           },
           {
            "name": "True",
            "count": 8
           }
          ]
         }
        },
        {
         "name": "_deepnote_index_column",
         "dtype": "int64"
        }
       ],
       "rows_top": [
        {
         "country": "Afghanistan",
         "beer_servings": 0,
         "spirit_servings": 0,
         "wine_servings": 0,
         "total_litres_of_pure_alcohol": 0,
         "continent": "AS",
         "missing_continent": "False",
         "_deepnote_index_column": 0
        },
        {
         "country": "Albania",
         "beer_servings": 89,
         "spirit_servings": 132,
         "wine_servings": 54,
         "total_litres_of_pure_alcohol": 4.9,
         "continent": "EU",
         "missing_continent": "False",
         "_deepnote_index_column": 1
        },
        {
         "country": "Algeria",
         "beer_servings": 25,
         "spirit_servings": 0,
         "wine_servings": 14,
         "total_litres_of_pure_alcohol": 0.7,
         "continent": "AF",
         "missing_continent": "False",
         "_deepnote_index_column": 2
        },
        {
         "country": "Armenia",
         "beer_servings": 21,
         "spirit_servings": 179,
         "wine_servings": 11,
         "total_litres_of_pure_alcohol": 3.8,
         "continent": "EU",
         "missing_continent": "False",
         "_deepnote_index_column": 7
        },
        {
         "country": "Azerbaijan",
         "beer_servings": 21,
         "spirit_servings": 46,
         "wine_servings": 5,
         "total_litres_of_pure_alcohol": 1.3,
         "continent": "EU",
         "missing_continent": "False",
         "_deepnote_index_column": 10
        },
        {
         "country": "Bahrain",
         "beer_servings": 42,
         "spirit_servings": 63,
         "wine_servings": 7,
         "total_litres_of_pure_alcohol": 2,
         "continent": "AS",
         "missing_continent": "False",
         "_deepnote_index_column": 12
        },
        {
         "country": "Bangladesh",
         "beer_servings": 0,
         "spirit_servings": 0,
         "wine_servings": 0,
         "total_litres_of_pure_alcohol": 0,
         "continent": "AS",
         "missing_continent": "False",
         "_deepnote_index_column": 13
        },
        {
         "country": "Benin",
         "beer_servings": 34,
         "spirit_servings": 4,
         "wine_servings": 13,
         "total_litres_of_pure_alcohol": 1.1,
         "continent": "AF",
         "missing_continent": "False",
         "_deepnote_index_column": 18
        },
        {
         "country": "Bhutan",
         "beer_servings": 23,
         "spirit_servings": 0,
         "wine_servings": 0,
         "total_litres_of_pure_alcohol": 0.4,
         "continent": "AS",
         "missing_continent": "False",
         "_deepnote_index_column": 19
        },
        {
         "country": "Bosnia-Herzegovina",
         "beer_servings": 76,
         "spirit_servings": 173,
         "wine_servings": 8,
         "total_litres_of_pure_alcohol": 4.6,
         "continent": "EU",
         "missing_continent": "False",
         "_deepnote_index_column": 21
        },
        {
         "country": "Brunei",
         "beer_servings": 31,
         "spirit_servings": 2,
         "wine_servings": 1,
         "total_litres_of_pure_alcohol": 0.6,
         "continent": "AS",
         "missing_continent": "False",
         "_deepnote_index_column": 24
        },
        {
         "country": "Burkina Faso",
         "beer_servings": 25,
         "spirit_servings": 7,
         "wine_servings": 7,
         "total_litres_of_pure_alcohol": 4.3,
         "continent": "AF",
         "missing_continent": "False",
         "_deepnote_index_column": 26
        },
        {
         "country": "Burundi",
         "beer_servings": 88,
         "spirit_servings": 0,
         "wine_servings": 0,
         "total_litres_of_pure_alcohol": 6.3,
         "continent": "AF",
         "missing_continent": "False",
         "_deepnote_index_column": 27
        },
        {
         "country": "Cote d'Ivoire",
         "beer_servings": 37,
         "spirit_servings": 1,
         "wine_servings": 7,
         "total_litres_of_pure_alcohol": 4,
         "continent": "AF",
         "missing_continent": "False",
         "_deepnote_index_column": 28
        },
        {
         "country": "Cambodia",
         "beer_servings": 57,
         "spirit_servings": 65,
         "wine_servings": 1,
         "total_litres_of_pure_alcohol": 2.2,
         "continent": "AS",
         "missing_continent": "False",
         "_deepnote_index_column": 30
        },
        {
         "country": "Central African Republic",
         "beer_servings": 17,
         "spirit_servings": 2,
         "wine_servings": 1,
         "total_litres_of_pure_alcohol": 1.8,
         "continent": "AF",
         "missing_continent": "False",
         "_deepnote_index_column": 33
        },
        {
         "country": "Chad",
         "beer_servings": 15,
         "spirit_servings": 1,
         "wine_servings": 1,
         "total_litres_of_pure_alcohol": 0.4,
         "continent": "AF",
         "missing_continent": "False",
         "_deepnote_index_column": 34
        },
        {
         "country": "China",
         "beer_servings": 79,
         "spirit_servings": 192,
         "wine_servings": 8,
         "total_litres_of_pure_alcohol": 5,
         "continent": "AS",
         "missing_continent": "False",
         "_deepnote_index_column": 36
        },
        {
         "country": "Comoros",
         "beer_servings": 1,
         "spirit_servings": 3,
         "wine_servings": 1,
         "total_litres_of_pure_alcohol": 0.1,
         "continent": "AF",
         "missing_continent": "False",
         "_deepnote_index_column": 38
        },
        {
         "country": "Congo",
         "beer_servings": 76,
         "spirit_servings": 1,
         "wine_servings": 9,
         "total_litres_of_pure_alcohol": 1.7,
         "continent": "AF",
         "missing_continent": "False",
         "_deepnote_index_column": 39
        },
        {
         "country": "Cook Islands",
         "beer_servings": 0,
         "spirit_servings": 254,
         "wine_servings": 74,
         "total_litres_of_pure_alcohol": 5.9,
         "continent": "OC",
         "missing_continent": "False",
         "_deepnote_index_column": 40
        },
        {
         "country": "Cuba",
         "beer_servings": 93,
         "spirit_servings": 137,
         "wine_servings": 5,
         "total_litres_of_pure_alcohol": 4.2,
         "continent": "nan",
         "missing_continent": "True",
         "_deepnote_index_column": 43
        },
        {
         "country": "North Korea",
         "beer_servings": 0,
         "spirit_servings": 0,
         "wine_servings": 0,
         "total_litres_of_pure_alcohol": 0,
         "continent": "AS",
         "missing_continent": "False",
         "_deepnote_index_column": 46
        },
        {
         "country": "DR Congo",
         "beer_servings": 32,
         "spirit_servings": 3,
         "wine_servings": 1,
         "total_litres_of_pure_alcohol": 2.3,
         "continent": "AF",
         "missing_continent": "False",
         "_deepnote_index_column": 47
        },
        {
         "country": "Djibouti",
         "beer_servings": 15,
         "spirit_servings": 44,
         "wine_servings": 3,
         "total_litres_of_pure_alcohol": 1.1,
         "continent": "AF",
         "missing_continent": "False",
         "_deepnote_index_column": 49
        },
        {
         "country": "Dominica",
         "beer_servings": 52,
         "spirit_servings": 286,
         "wine_servings": 26,
         "total_litres_of_pure_alcohol": 6.6,
         "continent": "nan",
         "missing_continent": "True",
         "_deepnote_index_column": 50
        },
        {
         "country": "Egypt",
         "beer_servings": 6,
         "spirit_servings": 4,
         "wine_servings": 1,
         "total_litres_of_pure_alcohol": 0.2,
         "continent": "AF",
         "missing_continent": "False",
         "_deepnote_index_column": 53
        },
        {
         "country": "El Salvador",
         "beer_servings": 52,
         "spirit_servings": 69,
         "wine_servings": 2,
         "total_litres_of_pure_alcohol": 2.2,
         "continent": "nan",
         "missing_continent": "True",
         "_deepnote_index_column": 54
        },
        {
         "country": "Equatorial Guinea",
         "beer_servings": 92,
         "spirit_servings": 0,
         "wine_servings": 233,
         "total_litres_of_pure_alcohol": 5.8,
         "continent": "AF",
         "missing_continent": "False",
         "_deepnote_index_column": 55
        },
        {
         "country": "Eritrea",
         "beer_servings": 18,
         "spirit_servings": 0,
         "wine_servings": 0,
         "total_litres_of_pure_alcohol": 0.5,
         "continent": "AF",
         "missing_continent": "False",
         "_deepnote_index_column": 56
        },
        {
         "country": "Ethiopia",
         "beer_servings": 20,
         "spirit_servings": 3,
         "wine_servings": 0,
         "total_litres_of_pure_alcohol": 0.7,
         "continent": "AF",
         "missing_continent": "False",
         "_deepnote_index_column": 58
        },
        {
         "country": "Fiji",
         "beer_servings": 77,
         "spirit_servings": 35,
         "wine_servings": 1,
         "total_litres_of_pure_alcohol": 2,
         "continent": "OC",
         "missing_continent": "False",
         "_deepnote_index_column": 59
        },
        {
         "country": "Gambia",
         "beer_servings": 8,
         "spirit_servings": 0,
         "wine_servings": 1,
         "total_litres_of_pure_alcohol": 2.4,
         "continent": "AF",
         "missing_continent": "False",
         "_deepnote_index_column": 63
        },
        {
         "country": "Georgia",
         "beer_servings": 52,
         "spirit_servings": 100,
         "wine_servings": 149,
         "total_litres_of_pure_alcohol": 5.4,
         "continent": "EU",
         "missing_continent": "False",
         "_deepnote_index_column": 64
        },
        {
         "country": "Ghana",
         "beer_servings": 31,
         "spirit_servings": 3,
         "wine_servings": 10,
         "total_litres_of_pure_alcohol": 1.8,
         "continent": "AF",
         "missing_continent": "False",
         "_deepnote_index_column": 66
        },
        {
         "country": "Guatemala",
         "beer_servings": 53,
         "spirit_servings": 69,
         "wine_servings": 2,
         "total_litres_of_pure_alcohol": 2.2,
         "continent": "nan",
         "missing_continent": "True",
         "_deepnote_index_column": 69
        },
        {
         "country": "Guinea",
         "beer_servings": 9,
         "spirit_servings": 0,
         "wine_servings": 2,
         "total_litres_of_pure_alcohol": 0.2,
         "continent": "AF",
         "missing_continent": "False",
         "_deepnote_index_column": 70
        },
        {
         "country": "Guinea-Bissau",
         "beer_servings": 28,
         "spirit_servings": 31,
         "wine_servings": 21,
         "total_litres_of_pure_alcohol": 2.5,
         "continent": "AF",
         "missing_continent": "False",
         "_deepnote_index_column": 71
        },
        {
         "country": "Guyana",
         "beer_servings": 93,
         "spirit_servings": 302,
         "wine_servings": 1,
         "total_litres_of_pure_alcohol": 7.1,
         "continent": "SA",
         "missing_continent": "False",
         "_deepnote_index_column": 72
        },
        {
         "country": "Haiti",
         "beer_servings": 1,
         "spirit_servings": 326,
         "wine_servings": 1,
         "total_litres_of_pure_alcohol": 5.9,
         "continent": "nan",
         "missing_continent": "True",
         "_deepnote_index_column": 73
        },
        {
         "country": "Honduras",
         "beer_servings": 69,
         "spirit_servings": 98,
         "wine_servings": 2,
         "total_litres_of_pure_alcohol": 3,
         "continent": "nan",
         "missing_continent": "True",
         "_deepnote_index_column": 74
        },
        {
         "country": "India",
         "beer_servings": 9,
         "spirit_servings": 114,
         "wine_servings": 0,
         "total_litres_of_pure_alcohol": 2.2,
         "continent": "AS",
         "missing_continent": "False",
         "_deepnote_index_column": 77
        },
        {
         "country": "Indonesia",
         "beer_servings": 5,
         "spirit_servings": 1,
         "wine_servings": 0,
         "total_litres_of_pure_alcohol": 0.1,
         "continent": "AS",
         "missing_continent": "False",
         "_deepnote_index_column": 78
        },
        {
         "country": "Iran",
         "beer_servings": 0,
         "spirit_servings": 0,
         "wine_servings": 0,
         "total_litres_of_pure_alcohol": 0,
         "continent": "AS",
         "missing_continent": "False",
         "_deepnote_index_column": 79
        },
        {
         "country": "Iraq",
         "beer_servings": 9,
         "spirit_servings": 3,
         "wine_servings": 0,
         "total_litres_of_pure_alcohol": 0.2,
         "continent": "AS",
         "missing_continent": "False",
         "_deepnote_index_column": 80
        },
        {
         "country": "Israel",
         "beer_servings": 63,
         "spirit_servings": 69,
         "wine_servings": 9,
         "total_litres_of_pure_alcohol": 2.5,
         "continent": "AS",
         "missing_continent": "False",
         "_deepnote_index_column": 82
        },
        {
         "country": "Italy",
         "beer_servings": 85,
         "spirit_servings": 42,
         "wine_servings": 237,
         "total_litres_of_pure_alcohol": 6.5,
         "continent": "EU",
         "missing_continent": "False",
         "_deepnote_index_column": 83
        },
        {
         "country": "Jamaica",
         "beer_servings": 82,
         "spirit_servings": 97,
         "wine_servings": 9,
         "total_litres_of_pure_alcohol": 3.4,
         "continent": "nan",
         "missing_continent": "True",
         "_deepnote_index_column": 84
        },
        {
         "country": "Japan",
         "beer_servings": 77,
         "spirit_servings": 202,
         "wine_servings": 16,
         "total_litres_of_pure_alcohol": 7,
         "continent": "AS",
         "missing_continent": "False",
         "_deepnote_index_column": 85
        },
        {
         "country": "Jordan",
         "beer_servings": 6,
         "spirit_servings": 21,
         "wine_servings": 1,
         "total_litres_of_pure_alcohol": 0.5,
         "continent": "AS",
         "missing_continent": "False",
         "_deepnote_index_column": 86
        },
        {
         "country": "Kenya",
         "beer_servings": 58,
         "spirit_servings": 22,
         "wine_servings": 2,
         "total_litres_of_pure_alcohol": 1.8,
         "continent": "AF",
         "missing_continent": "False",
         "_deepnote_index_column": 88
        },
        {
         "country": "Kiribati",
         "beer_servings": 21,
         "spirit_servings": 34,
         "wine_servings": 1,
         "total_litres_of_pure_alcohol": 1,
         "continent": "OC",
         "missing_continent": "False",
         "_deepnote_index_column": 89
        },
        {
         "country": "Kuwait",
         "beer_servings": 0,
         "spirit_servings": 0,
         "wine_servings": 0,
         "total_litres_of_pure_alcohol": 0,
         "continent": "AS",
         "missing_continent": "False",
         "_deepnote_index_column": 90
        },
        {
         "country": "Kyrgyzstan",
         "beer_servings": 31,
         "spirit_servings": 97,
         "wine_servings": 6,
         "total_litres_of_pure_alcohol": 2.4,
         "continent": "AS",
         "missing_continent": "False",
         "_deepnote_index_column": 91
        },
        {
         "country": "Laos",
         "beer_servings": 62,
         "spirit_servings": 0,
         "wine_servings": 123,
         "total_litres_of_pure_alcohol": 6.2,
         "continent": "AS",
         "missing_continent": "False",
         "_deepnote_index_column": 92
        },
        {
         "country": "Lebanon",
         "beer_servings": 20,
         "spirit_servings": 55,
         "wine_servings": 31,
         "total_litres_of_pure_alcohol": 1.9,
         "continent": "AS",
         "missing_continent": "False",
         "_deepnote_index_column": 94
        },
        {
         "country": "Lesotho",
         "beer_servings": 82,
         "spirit_servings": 29,
         "wine_servings": 0,
         "total_litres_of_pure_alcohol": 2.8,
         "continent": "AF",
         "missing_continent": "False",
         "_deepnote_index_column": 95
        },
        {
         "country": "Liberia",
         "beer_servings": 19,
         "spirit_servings": 152,
         "wine_servings": 2,
         "total_litres_of_pure_alcohol": 3.1,
         "continent": "AF",
         "missing_continent": "False",
         "_deepnote_index_column": 96
        },
        {
         "country": "Libya",
         "beer_servings": 0,
         "spirit_servings": 0,
         "wine_servings": 0,
         "total_litres_of_pure_alcohol": 0,
         "continent": "AF",
         "missing_continent": "False",
         "_deepnote_index_column": 97
        },
        {
         "country": "Madagascar",
         "beer_servings": 26,
         "spirit_servings": 15,
         "wine_servings": 4,
         "total_litres_of_pure_alcohol": 0.8,
         "continent": "AF",
         "missing_continent": "False",
         "_deepnote_index_column": 100
        },
        {
         "country": "Malawi",
         "beer_servings": 8,
         "spirit_servings": 11,
         "wine_servings": 1,
         "total_litres_of_pure_alcohol": 1.5,
         "continent": "AF",
         "missing_continent": "False",
         "_deepnote_index_column": 101
        },
        {
         "country": "Malaysia",
         "beer_servings": 13,
         "spirit_servings": 4,
         "wine_servings": 0,
         "total_litres_of_pure_alcohol": 0.3,
         "continent": "AS",
         "missing_continent": "False",
         "_deepnote_index_column": 102
        },
        {
         "country": "Maldives",
         "beer_servings": 0,
         "spirit_servings": 0,
         "wine_servings": 0,
         "total_litres_of_pure_alcohol": 0,
         "continent": "AS",
         "missing_continent": "False",
         "_deepnote_index_column": 103
        },
        {
         "country": "Mali",
         "beer_servings": 5,
         "spirit_servings": 1,
         "wine_servings": 1,
         "total_litres_of_pure_alcohol": 0.6,
         "continent": "AF",
         "missing_continent": "False",
         "_deepnote_index_column": 104
        },
        {
         "country": "Marshall Islands",
         "beer_servings": 0,
         "spirit_servings": 0,
         "wine_servings": 0,
         "total_litres_of_pure_alcohol": 0,
         "continent": "OC",
         "missing_continent": "False",
         "_deepnote_index_column": 106
        },
        {
         "country": "Mauritania",
         "beer_servings": 0,
         "spirit_servings": 0,
         "wine_servings": 0,
         "total_litres_of_pure_alcohol": 0,
         "continent": "AF",
         "missing_continent": "False",
         "_deepnote_index_column": 107
        },
        {
         "country": "Mauritius",
         "beer_servings": 98,
         "spirit_servings": 31,
         "wine_servings": 18,
         "total_litres_of_pure_alcohol": 2.6,
         "continent": "AF",
         "missing_continent": "False",
         "_deepnote_index_column": 108
        },
        {
         "country": "Micronesia",
         "beer_servings": 62,
         "spirit_servings": 50,
         "wine_servings": 18,
         "total_litres_of_pure_alcohol": 2.3,
         "continent": "OC",
         "missing_continent": "False",
         "_deepnote_index_column": 110
        },
        {
         "country": "Monaco",
         "beer_servings": 0,
         "spirit_servings": 0,
         "wine_servings": 0,
         "total_litres_of_pure_alcohol": 0,
         "continent": "EU",
         "missing_continent": "False",
         "_deepnote_index_column": 111
        },
        {
         "country": "Mongolia",
         "beer_servings": 77,
         "spirit_servings": 189,
         "wine_servings": 8,
         "total_litres_of_pure_alcohol": 4.9,
         "continent": "AS",
         "missing_continent": "False",
         "_deepnote_index_column": 112
        },
        {
         "country": "Montenegro",
         "beer_servings": 31,
         "spirit_servings": 114,
         "wine_servings": 128,
         "total_litres_of_pure_alcohol": 4.9,
         "continent": "EU",
         "missing_continent": "False",
         "_deepnote_index_column": 113
        },
        {
         "country": "Morocco",
         "beer_servings": 12,
         "spirit_servings": 6,
         "wine_servings": 10,
         "total_litres_of_pure_alcohol": 0.5,
         "continent": "AF",
         "missing_continent": "False",
         "_deepnote_index_column": 114
        },
        {
         "country": "Mozambique",
         "beer_servings": 47,
         "spirit_servings": 18,
         "wine_servings": 5,
         "total_litres_of_pure_alcohol": 1.3,
         "continent": "AF",
         "missing_continent": "False",
         "_deepnote_index_column": 115
        },
        {
         "country": "Myanmar",
         "beer_servings": 5,
         "spirit_servings": 1,
         "wine_servings": 0,
         "total_litres_of_pure_alcohol": 0.1,
         "continent": "AS",
         "missing_continent": "False",
         "_deepnote_index_column": 116
        },
        {
         "country": "Nauru",
         "beer_servings": 49,
         "spirit_servings": 0,
         "wine_servings": 8,
         "total_litres_of_pure_alcohol": 1,
         "continent": "OC",
         "missing_continent": "False",
         "_deepnote_index_column": 118
        },
        {
         "country": "Nepal",
         "beer_servings": 5,
         "spirit_servings": 6,
         "wine_servings": 0,
         "total_litres_of_pure_alcohol": 0.2,
         "continent": "AS",
         "missing_continent": "False",
         "_deepnote_index_column": 119
        },
        {
         "country": "Nicaragua",
         "beer_servings": 78,
         "spirit_servings": 118,
         "wine_servings": 1,
         "total_litres_of_pure_alcohol": 3.5,
         "continent": "nan",
         "missing_continent": "True",
         "_deepnote_index_column": 122
        },
        {
         "country": "Niger",
         "beer_servings": 3,
         "spirit_servings": 2,
         "wine_servings": 1,
         "total_litres_of_pure_alcohol": 0.1,
         "continent": "AF",
         "missing_continent": "False",
         "_deepnote_index_column": 123
        },
        {
         "country": "Nigeria",
         "beer_servings": 42,
         "spirit_servings": 5,
         "wine_servings": 2,
         "total_litres_of_pure_alcohol": 9.1,
         "continent": "AF",
         "missing_continent": "False",
         "_deepnote_index_column": 124
        },
        {
         "country": "Oman",
         "beer_servings": 22,
         "spirit_servings": 16,
         "wine_servings": 1,
         "total_litres_of_pure_alcohol": 0.7,
         "continent": "AS",
         "missing_continent": "False",
         "_deepnote_index_column": 127
        },
        {
         "country": "Pakistan",
         "beer_servings": 0,
         "spirit_servings": 0,
         "wine_servings": 0,
         "total_litres_of_pure_alcohol": 0,
         "continent": "AS",
         "missing_continent": "False",
         "_deepnote_index_column": 128
        },
        {
         "country": "Papua New Guinea",
         "beer_servings": 44,
         "spirit_servings": 39,
         "wine_servings": 1,
         "total_litres_of_pure_alcohol": 1.5,
         "continent": "OC",
         "missing_continent": "False",
         "_deepnote_index_column": 131
        },
        {
         "country": "Philippines",
         "beer_servings": 71,
         "spirit_servings": 186,
         "wine_servings": 1,
         "total_litres_of_pure_alcohol": 4.6,
         "continent": "AS",
         "missing_continent": "False",
         "_deepnote_index_column": 134
        },
        {
         "country": "Qatar",
         "beer_servings": 1,
         "spirit_servings": 42,
         "wine_servings": 7,
         "total_litres_of_pure_alcohol": 0.9,
         "continent": "AS",
         "missing_continent": "False",
         "_deepnote_index_column": 137
        },
        {
         "country": "Rwanda",
         "beer_servings": 43,
         "spirit_servings": 2,
         "wine_servings": 0,
         "total_litres_of_pure_alcohol": 6.8,
         "continent": "AF",
         "missing_continent": "False",
         "_deepnote_index_column": 142
        },
        {
         "country": "San Marino",
         "beer_servings": 0,
         "spirit_servings": 0,
         "wine_servings": 0,
         "total_litres_of_pure_alcohol": 0,
         "continent": "EU",
         "missing_continent": "False",
         "_deepnote_index_column": 147
        },
        {
         "country": "Sao Tome & Principe",
         "beer_servings": 56,
         "spirit_servings": 38,
         "wine_servings": 140,
         "total_litres_of_pure_alcohol": 4.2,
         "continent": "AF",
         "missing_continent": "False",
         "_deepnote_index_column": 148
        },
        {
         "country": "Saudi Arabia",
         "beer_servings": 0,
         "spirit_servings": 5,
         "wine_servings": 0,
         "total_litres_of_pure_alcohol": 0.1,
         "continent": "AS",
         "missing_continent": "False",
         "_deepnote_index_column": 149
        },
        {
         "country": "Senegal",
         "beer_servings": 9,
         "spirit_servings": 1,
         "wine_servings": 7,
         "total_litres_of_pure_alcohol": 0.3,
         "continent": "AF",
         "missing_continent": "False",
         "_deepnote_index_column": 150
        },
        {
         "country": "Sierra Leone",
         "beer_servings": 25,
         "spirit_servings": 3,
         "wine_servings": 2,
         "total_litres_of_pure_alcohol": 6.7,
         "continent": "AF",
         "missing_continent": "False",
         "_deepnote_index_column": 153
        },
        {
         "country": "Singapore",
         "beer_servings": 60,
         "spirit_servings": 12,
         "wine_servings": 11,
         "total_litres_of_pure_alcohol": 1.5,
         "continent": "AS",
         "missing_continent": "False",
         "_deepnote_index_column": 154
        },
        {
         "country": "Solomon Islands",
         "beer_servings": 56,
         "spirit_servings": 11,
         "wine_servings": 1,
         "total_litres_of_pure_alcohol": 1.2,
         "continent": "OC",
         "missing_continent": "False",
         "_deepnote_index_column": 157
        },
        {
         "country": "Somalia",
         "beer_servings": 0,
         "spirit_servings": 0,
         "wine_servings": 0,
         "total_litres_of_pure_alcohol": 0,
         "continent": "AF",
         "missing_continent": "False",
         "_deepnote_index_column": 158
        },
        {
         "country": "Sri Lanka",
         "beer_servings": 16,
         "spirit_servings": 104,
         "wine_servings": 0,
         "total_litres_of_pure_alcohol": 2.2,
         "continent": "AS",
         "missing_continent": "False",
         "_deepnote_index_column": 161
        },
        {
         "country": "Sudan",
         "beer_servings": 8,
         "spirit_servings": 13,
         "wine_servings": 0,
         "total_litres_of_pure_alcohol": 1.7,
         "continent": "AF",
         "missing_continent": "False",
         "_deepnote_index_column": 162
        },
        {
         "country": "Swaziland",
         "beer_servings": 90,
         "spirit_servings": 2,
         "wine_servings": 2,
         "total_litres_of_pure_alcohol": 4.7,
         "continent": "AF",
         "missing_continent": "False",
         "_deepnote_index_column": 164
        },
        {
         "country": "Syria",
         "beer_servings": 5,
         "spirit_servings": 35,
         "wine_servings": 16,
         "total_litres_of_pure_alcohol": 1,
         "continent": "AS",
         "missing_continent": "False",
         "_deepnote_index_column": 167
        },
        {
         "country": "Tajikistan",
         "beer_servings": 2,
         "spirit_servings": 15,
         "wine_servings": 0,
         "total_litres_of_pure_alcohol": 0.3,
         "continent": "AS",
         "missing_continent": "False",
         "_deepnote_index_column": 168
        },
        {
         "country": "Thailand",
         "beer_servings": 99,
         "spirit_servings": 258,
         "wine_servings": 1,
         "total_litres_of_pure_alcohol": 6.4,
         "continent": "AS",
         "missing_continent": "False",
         "_deepnote_index_column": 169
        },
        {
         "country": "Timor-Leste",
         "beer_servings": 1,
         "spirit_servings": 1,
         "wine_servings": 4,
         "total_litres_of_pure_alcohol": 0.1,
         "continent": "AS",
         "missing_continent": "False",
         "_deepnote_index_column": 171
        },
        {
         "country": "Togo",
         "beer_servings": 36,
         "spirit_servings": 2,
         "wine_servings": 19,
         "total_litres_of_pure_alcohol": 1.3,
         "continent": "AF",
         "missing_continent": "False",
         "_deepnote_index_column": 172
        },
        {
         "country": "Tonga",
         "beer_servings": 36,
         "spirit_servings": 21,
         "wine_servings": 5,
         "total_litres_of_pure_alcohol": 1.1,
         "continent": "OC",
         "missing_continent": "False",
         "_deepnote_index_column": 173
        },
        {
         "country": "Tunisia",
         "beer_servings": 51,
         "spirit_servings": 3,
         "wine_servings": 20,
         "total_litres_of_pure_alcohol": 1.3,
         "continent": "AF",
         "missing_continent": "False",
         "_deepnote_index_column": 175
        },
        {
         "country": "Turkey",
         "beer_servings": 51,
         "spirit_servings": 22,
         "wine_servings": 7,
         "total_litres_of_pure_alcohol": 1.4,
         "continent": "AS",
         "missing_continent": "False",
         "_deepnote_index_column": 176
        },
        {
         "country": "Turkmenistan",
         "beer_servings": 19,
         "spirit_servings": 71,
         "wine_servings": 32,
         "total_litres_of_pure_alcohol": 2.2,
         "continent": "AS",
         "missing_continent": "False",
         "_deepnote_index_column": 177
        },
        {
         "country": "Tuvalu",
         "beer_servings": 6,
         "spirit_servings": 41,
         "wine_servings": 9,
         "total_litres_of_pure_alcohol": 1,
         "continent": "OC",
         "missing_continent": "False",
         "_deepnote_index_column": 178
        },
        {
         "country": "Uganda",
         "beer_servings": 45,
         "spirit_servings": 9,
         "wine_servings": 0,
         "total_litres_of_pure_alcohol": 8.3,
         "continent": "AF",
         "missing_continent": "False",
         "_deepnote_index_column": 179
        },
        {
         "country": "United Arab Emirates",
         "beer_servings": 16,
         "spirit_servings": 135,
         "wine_servings": 5,
         "total_litres_of_pure_alcohol": 2.8,
         "continent": "AS",
         "missing_continent": "False",
         "_deepnote_index_column": 181
        },
        {
         "country": "Tanzania",
         "beer_servings": 36,
         "spirit_servings": 6,
         "wine_servings": 1,
         "total_litres_of_pure_alcohol": 5.7,
         "continent": "AF",
         "missing_continent": "False",
         "_deepnote_index_column": 183
        },
        {
         "country": "Uzbekistan",
         "beer_servings": 25,
         "spirit_servings": 101,
         "wine_servings": 8,
         "total_litres_of_pure_alcohol": 2.4,
         "continent": "AS",
         "missing_continent": "False",
         "_deepnote_index_column": 186
        },
        {
         "country": "Vanuatu",
         "beer_servings": 21,
         "spirit_servings": 18,
         "wine_servings": 11,
         "total_litres_of_pure_alcohol": 0.9,
         "continent": "OC",
         "missing_continent": "False",
         "_deepnote_index_column": 187
        },
        {
         "country": "Yemen",
         "beer_servings": 6,
         "spirit_servings": 0,
         "wine_servings": 0,
         "total_litres_of_pure_alcohol": 0.1,
         "continent": "AS",
         "missing_continent": "False",
         "_deepnote_index_column": 190
        },
        {
         "country": "Zambia",
         "beer_servings": 32,
         "spirit_servings": 19,
         "wine_servings": 4,
         "total_litres_of_pure_alcohol": 2.5,
         "continent": "AF",
         "missing_continent": "False",
         "_deepnote_index_column": 191
        },
        {
         "country": "Zimbabwe",
         "beer_servings": 64,
         "spirit_servings": 18,
         "wine_servings": 4,
         "total_litres_of_pure_alcohol": 4.7,
         "continent": "AF",
         "missing_continent": "False",
         "_deepnote_index_column": 192
        }
       ],
       "rows_bottom": null
      },
      "text/plain": "         country  beer_servings  spirit_servings  wine_servings  \\\n0    Afghanistan              0                0              0   \n1        Albania             89              132             54   \n2        Algeria             25                0             14   \n7        Armenia             21              179             11   \n10    Azerbaijan             21               46              5   \n..           ...            ...              ...            ...   \n186   Uzbekistan             25              101              8   \n187      Vanuatu             21               18             11   \n190        Yemen              6                0              0   \n191       Zambia             32               19              4   \n192     Zimbabwe             64               18              4   \n\n     total_litres_of_pure_alcohol continent  missing_continent  \n0                             0.0        AS              False  \n1                             4.9        EU              False  \n2                             0.7        AF              False  \n7                             3.8        EU              False  \n10                            1.3        EU              False  \n..                            ...       ...                ...  \n186                           2.4        AS              False  \n187                           0.9        OC              False  \n190                           0.1        AS              False  \n191                           2.5        AF              False  \n192                           4.7        AF              False  \n\n[114 rows x 7 columns]",
      "text/html": "<div>\n<style scoped>\n    .dataframe tbody tr th:only-of-type {\n        vertical-align: middle;\n    }\n\n    .dataframe tbody tr th {\n        vertical-align: top;\n    }\n\n    .dataframe thead th {\n        text-align: right;\n    }\n</style>\n<table border=\"1\" class=\"dataframe\">\n  <thead>\n    <tr style=\"text-align: right;\">\n      <th></th>\n      <th>country</th>\n      <th>beer_servings</th>\n      <th>spirit_servings</th>\n      <th>wine_servings</th>\n      <th>total_litres_of_pure_alcohol</th>\n      <th>continent</th>\n      <th>missing_continent</th>\n    </tr>\n  </thead>\n  <tbody>\n    <tr>\n      <th>0</th>\n      <td>Afghanistan</td>\n      <td>0</td>\n      <td>0</td>\n      <td>0</td>\n      <td>0.0</td>\n      <td>AS</td>\n      <td>False</td>\n    </tr>\n    <tr>\n      <th>1</th>\n      <td>Albania</td>\n      <td>89</td>\n      <td>132</td>\n      <td>54</td>\n      <td>4.9</td>\n      <td>EU</td>\n      <td>False</td>\n    </tr>\n    <tr>\n      <th>2</th>\n      <td>Algeria</td>\n      <td>25</td>\n      <td>0</td>\n      <td>14</td>\n      <td>0.7</td>\n      <td>AF</td>\n      <td>False</td>\n    </tr>\n    <tr>\n      <th>7</th>\n      <td>Armenia</td>\n      <td>21</td>\n      <td>179</td>\n      <td>11</td>\n      <td>3.8</td>\n      <td>EU</td>\n      <td>False</td>\n    </tr>\n    <tr>\n      <th>10</th>\n      <td>Azerbaijan</td>\n      <td>21</td>\n      <td>46</td>\n      <td>5</td>\n      <td>1.3</td>\n      <td>EU</td>\n      <td>False</td>\n    </tr>\n    <tr>\n      <th>...</th>\n      <td>...</td>\n      <td>...</td>\n      <td>...</td>\n      <td>...</td>\n      <td>...</td>\n      <td>...</td>\n      <td>...</td>\n    </tr>\n    <tr>\n      <th>186</th>\n      <td>Uzbekistan</td>\n      <td>25</td>\n      <td>101</td>\n      <td>8</td>\n      <td>2.4</td>\n      <td>AS</td>\n      <td>False</td>\n    </tr>\n    <tr>\n      <th>187</th>\n      <td>Vanuatu</td>\n      <td>21</td>\n      <td>18</td>\n      <td>11</td>\n      <td>0.9</td>\n      <td>OC</td>\n      <td>False</td>\n    </tr>\n    <tr>\n      <th>190</th>\n      <td>Yemen</td>\n      <td>6</td>\n      <td>0</td>\n      <td>0</td>\n      <td>0.1</td>\n      <td>AS</td>\n      <td>False</td>\n    </tr>\n    <tr>\n      <th>191</th>\n      <td>Zambia</td>\n      <td>32</td>\n      <td>19</td>\n      <td>4</td>\n      <td>2.5</td>\n      <td>AF</td>\n      <td>False</td>\n    </tr>\n    <tr>\n      <th>192</th>\n      <td>Zimbabwe</td>\n      <td>64</td>\n      <td>18</td>\n      <td>4</td>\n      <td>4.7</td>\n      <td>AF</td>\n      <td>False</td>\n    </tr>\n  </tbody>\n</table>\n<p>114 rows × 7 columns</p>\n</div>"
     },
     "metadata": {}
    }
   ]
  },
  {
   "cell_type": "code",
   "metadata": {
    "tags": [],
    "cell_id": "00011-e38918c4-d488-43e8-a978-f4453d03cfa3",
    "deepnote_to_be_reexecuted": false,
    "source_hash": "e06b040f",
    "execution_start": 1624986270072,
    "execution_millis": 12,
    "deepnote_cell_type": "code"
   },
   "source": "df[(df[\"beer_servings\"]<100) & (df[\"spirit_servings\"] > 100)]",
   "execution_count": null,
   "outputs": [
    {
     "output_type": "execute_result",
     "execution_count": 104,
     "data": {
      "application/vnd.deepnote.dataframe.v2+json": {
       "row_count": 20,
       "column_count": 7,
       "columns": [
        {
         "name": "country",
         "dtype": "object",
         "stats": {
          "unique_count": 20,
          "nan_count": 0,
          "categories": [
           {
            "name": "Albania",
            "count": 1
           },
           {
            "name": "Armenia",
            "count": 1
           },
           {
            "name": "18 others",
            "count": 18
           }
          ]
         }
        },
        {
         "name": "beer_servings",
         "dtype": "int64",
         "stats": {
          "unique_count": 17,
          "nan_count": 0,
          "min": "0",
          "max": "99",
          "histogram": [
           {
            "bin_start": 0,
            "bin_end": 9.9,
            "count": 3
           },
           {
            "bin_start": 9.9,
            "bin_end": 19.8,
            "count": 3
           },
           {
            "bin_start": 19.8,
            "bin_end": 29.700000000000003,
            "count": 2
           },
           {
            "bin_start": 29.700000000000003,
            "bin_end": 39.6,
            "count": 1
           },
           {
            "bin_start": 39.6,
            "bin_end": 49.5,
            "count": 0
           },
           {
            "bin_start": 49.5,
            "bin_end": 59.400000000000006,
            "count": 1
           },
           {
            "bin_start": 59.400000000000006,
            "bin_end": 69.3,
            "count": 0
           },
           {
            "bin_start": 69.3,
            "bin_end": 79.2,
            "count": 6
           },
           {
            "bin_start": 79.2,
            "bin_end": 89.10000000000001,
            "count": 1
           },
           {
            "bin_start": 89.10000000000001,
            "bin_end": 99,
            "count": 3
           }
          ]
         }
        },
        {
         "name": "spirit_servings",
         "dtype": "int64",
         "stats": {
          "unique_count": 19,
          "nan_count": 0,
          "min": "101",
          "max": "326",
          "histogram": [
           {
            "bin_start": 101,
            "bin_end": 123.5,
            "count": 5
           },
           {
            "bin_start": 123.5,
            "bin_end": 146,
            "count": 3
           },
           {
            "bin_start": 146,
            "bin_end": 168.5,
            "count": 1
           },
           {
            "bin_start": 168.5,
            "bin_end": 191,
            "count": 4
           },
           {
            "bin_start": 191,
            "bin_end": 213.5,
            "count": 2
           },
           {
            "bin_start": 213.5,
            "bin_end": 236,
            "count": 0
           },
           {
            "bin_start": 236,
            "bin_end": 258.5,
            "count": 2
           },
           {
            "bin_start": 258.5,
            "bin_end": 281,
            "count": 0
           },
           {
            "bin_start": 281,
            "bin_end": 303.5,
            "count": 2
           },
           {
            "bin_start": 303.5,
            "bin_end": 326,
            "count": 1
           }
          ]
         }
        },
        {
         "name": "wine_servings",
         "dtype": "int64",
         "stats": {
          "unique_count": 11,
          "nan_count": 0,
          "min": "0",
          "max": "128",
          "histogram": [
           {
            "bin_start": 0,
            "bin_end": 12.8,
            "count": 15
           },
           {
            "bin_start": 12.8,
            "bin_end": 25.6,
            "count": 1
           },
           {
            "bin_start": 25.6,
            "bin_end": 38.400000000000006,
            "count": 1
           },
           {
            "bin_start": 38.400000000000006,
            "bin_end": 51.2,
            "count": 0
           },
           {
            "bin_start": 51.2,
            "bin_end": 64,
            "count": 1
           },
           {
            "bin_start": 64,
            "bin_end": 76.80000000000001,
            "count": 1
           },
           {
            "bin_start": 76.80000000000001,
            "bin_end": 89.60000000000001,
            "count": 0
           },
           {
            "bin_start": 89.60000000000001,
            "bin_end": 102.4,
            "count": 0
           },
           {
            "bin_start": 102.4,
            "bin_end": 115.2,
            "count": 0
           },
           {
            "bin_start": 115.2,
            "bin_end": 128,
            "count": 1
           }
          ]
         }
        },
        {
         "name": "total_litres_of_pure_alcohol",
         "dtype": "float64",
         "stats": {
          "unique_count": 15,
          "nan_count": 0,
          "min": "2.2",
          "max": "7.1",
          "histogram": [
           {
            "bin_start": 2.2,
            "bin_end": 2.69,
            "count": 3
           },
           {
            "bin_start": 2.69,
            "bin_end": 3.18,
            "count": 2
           },
           {
            "bin_start": 3.18,
            "bin_end": 3.67,
            "count": 1
           },
           {
            "bin_start": 3.67,
            "bin_end": 4.16,
            "count": 1
           },
           {
            "bin_start": 4.16,
            "bin_end": 4.65,
            "count": 3
           },
           {
            "bin_start": 4.65,
            "bin_end": 5.14,
            "count": 4
           },
           {
            "bin_start": 5.14,
            "bin_end": 5.63,
            "count": 0
           },
           {
            "bin_start": 5.63,
            "bin_end": 6.119999999999999,
            "count": 2
           },
           {
            "bin_start": 6.119999999999999,
            "bin_end": 6.609999999999999,
            "count": 2
           },
           {
            "bin_start": 6.609999999999999,
            "bin_end": 7.1,
            "count": 2
           }
          ]
         }
        },
        {
         "name": "continent",
         "dtype": "object",
         "stats": {
          "unique_count": 5,
          "nan_count": 4,
          "categories": [
           {
            "name": "AS",
            "count": 9
           },
           {
            "name": "4 others",
            "count": 7
           },
           {
            "name": "Missing",
            "count": 4
           }
          ]
         }
        },
        {
         "name": "missing_continent",
         "dtype": "bool",
         "stats": {
          "unique_count": 2,
          "nan_count": 0,
          "categories": [
           {
            "name": "False",
            "count": 16
           },
           {
            "name": "True",
            "count": 4
           }
          ]
         }
        },
        {
         "name": "_deepnote_index_column",
         "dtype": "int64"
        }
       ],
       "rows_top": [
        {
         "country": "Albania",
         "beer_servings": 89,
         "spirit_servings": 132,
         "wine_servings": 54,
         "total_litres_of_pure_alcohol": 4.9,
         "continent": "EU",
         "missing_continent": "False",
         "_deepnote_index_column": 1
        },
        {
         "country": "Armenia",
         "beer_servings": 21,
         "spirit_servings": 179,
         "wine_servings": 11,
         "total_litres_of_pure_alcohol": 3.8,
         "continent": "EU",
         "missing_continent": "False",
         "_deepnote_index_column": 7
        },
        {
         "country": "Bosnia-Herzegovina",
         "beer_servings": 76,
         "spirit_servings": 173,
         "wine_servings": 8,
         "total_litres_of_pure_alcohol": 4.6,
         "continent": "EU",
         "missing_continent": "False",
         "_deepnote_index_column": 21
        },
        {
         "country": "China",
         "beer_servings": 79,
         "spirit_servings": 192,
         "wine_servings": 8,
         "total_litres_of_pure_alcohol": 5,
         "continent": "AS",
         "missing_continent": "False",
         "_deepnote_index_column": 36
        },
        {
         "country": "Cook Islands",
         "beer_servings": 0,
         "spirit_servings": 254,
         "wine_servings": 74,
         "total_litres_of_pure_alcohol": 5.9,
         "continent": "OC",
         "missing_continent": "False",
         "_deepnote_index_column": 40
        },
        {
         "country": "Cuba",
         "beer_servings": 93,
         "spirit_servings": 137,
         "wine_servings": 5,
         "total_litres_of_pure_alcohol": 4.2,
         "continent": "nan",
         "missing_continent": "True",
         "_deepnote_index_column": 43
        },
        {
         "country": "Dominica",
         "beer_servings": 52,
         "spirit_servings": 286,
         "wine_servings": 26,
         "total_litres_of_pure_alcohol": 6.6,
         "continent": "nan",
         "missing_continent": "True",
         "_deepnote_index_column": 50
        },
        {
         "country": "Guyana",
         "beer_servings": 93,
         "spirit_servings": 302,
         "wine_servings": 1,
         "total_litres_of_pure_alcohol": 7.1,
         "continent": "SA",
         "missing_continent": "False",
         "_deepnote_index_column": 72
        },
        {
         "country": "Haiti",
         "beer_servings": 1,
         "spirit_servings": 326,
         "wine_servings": 1,
         "total_litres_of_pure_alcohol": 5.9,
         "continent": "nan",
         "missing_continent": "True",
         "_deepnote_index_column": 73
        },
        {
         "country": "India",
         "beer_servings": 9,
         "spirit_servings": 114,
         "wine_servings": 0,
         "total_litres_of_pure_alcohol": 2.2,
         "continent": "AS",
         "missing_continent": "False",
         "_deepnote_index_column": 77
        },
        {
         "country": "Japan",
         "beer_servings": 77,
         "spirit_servings": 202,
         "wine_servings": 16,
         "total_litres_of_pure_alcohol": 7,
         "continent": "AS",
         "missing_continent": "False",
         "_deepnote_index_column": 85
        },
        {
         "country": "Liberia",
         "beer_servings": 19,
         "spirit_servings": 152,
         "wine_servings": 2,
         "total_litres_of_pure_alcohol": 3.1,
         "continent": "AF",
         "missing_continent": "False",
         "_deepnote_index_column": 96
        },
        {
         "country": "Mongolia",
         "beer_servings": 77,
         "spirit_servings": 189,
         "wine_servings": 8,
         "total_litres_of_pure_alcohol": 4.9,
         "continent": "AS",
         "missing_continent": "False",
         "_deepnote_index_column": 112
        },
        {
         "country": "Montenegro",
         "beer_servings": 31,
         "spirit_servings": 114,
         "wine_servings": 128,
         "total_litres_of_pure_alcohol": 4.9,
         "continent": "EU",
         "missing_continent": "False",
         "_deepnote_index_column": 113
        },
        {
         "country": "Nicaragua",
         "beer_servings": 78,
         "spirit_servings": 118,
         "wine_servings": 1,
         "total_litres_of_pure_alcohol": 3.5,
         "continent": "nan",
         "missing_continent": "True",
         "_deepnote_index_column": 122
        },
        {
         "country": "Philippines",
         "beer_servings": 71,
         "spirit_servings": 186,
         "wine_servings": 1,
         "total_litres_of_pure_alcohol": 4.6,
         "continent": "AS",
         "missing_continent": "False",
         "_deepnote_index_column": 134
        },
        {
         "country": "Sri Lanka",
         "beer_servings": 16,
         "spirit_servings": 104,
         "wine_servings": 0,
         "total_litres_of_pure_alcohol": 2.2,
         "continent": "AS",
         "missing_continent": "False",
         "_deepnote_index_column": 161
        },
        {
         "country": "Thailand",
         "beer_servings": 99,
         "spirit_servings": 258,
         "wine_servings": 1,
         "total_litres_of_pure_alcohol": 6.4,
         "continent": "AS",
         "missing_continent": "False",
         "_deepnote_index_column": 169
        },
        {
         "country": "United Arab Emirates",
         "beer_servings": 16,
         "spirit_servings": 135,
         "wine_servings": 5,
         "total_litres_of_pure_alcohol": 2.8,
         "continent": "AS",
         "missing_continent": "False",
         "_deepnote_index_column": 181
        },
        {
         "country": "Uzbekistan",
         "beer_servings": 25,
         "spirit_servings": 101,
         "wine_servings": 8,
         "total_litres_of_pure_alcohol": 2.4,
         "continent": "AS",
         "missing_continent": "False",
         "_deepnote_index_column": 186
        }
       ],
       "rows_bottom": null
      },
      "text/plain": "                  country  beer_servings  spirit_servings  wine_servings  \\\n1                 Albania             89              132             54   \n7                 Armenia             21              179             11   \n21     Bosnia-Herzegovina             76              173              8   \n36                  China             79              192              8   \n40           Cook Islands              0              254             74   \n43                   Cuba             93              137              5   \n50               Dominica             52              286             26   \n72                 Guyana             93              302              1   \n73                  Haiti              1              326              1   \n77                  India              9              114              0   \n85                  Japan             77              202             16   \n96                Liberia             19              152              2   \n112              Mongolia             77              189              8   \n113            Montenegro             31              114            128   \n122             Nicaragua             78              118              1   \n134           Philippines             71              186              1   \n161             Sri Lanka             16              104              0   \n169              Thailand             99              258              1   \n181  United Arab Emirates             16              135              5   \n186            Uzbekistan             25              101              8   \n\n     total_litres_of_pure_alcohol continent  missing_continent  \n1                             4.9        EU              False  \n7                             3.8        EU              False  \n21                            4.6        EU              False  \n36                            5.0        AS              False  \n40                            5.9        OC              False  \n43                            4.2       NaN               True  \n50                            6.6       NaN               True  \n72                            7.1        SA              False  \n73                            5.9       NaN               True  \n77                            2.2        AS              False  \n85                            7.0        AS              False  \n96                            3.1        AF              False  \n112                           4.9        AS              False  \n113                           4.9        EU              False  \n122                           3.5       NaN               True  \n134                           4.6        AS              False  \n161                           2.2        AS              False  \n169                           6.4        AS              False  \n181                           2.8        AS              False  \n186                           2.4        AS              False  ",
      "text/html": "<div>\n<style scoped>\n    .dataframe tbody tr th:only-of-type {\n        vertical-align: middle;\n    }\n\n    .dataframe tbody tr th {\n        vertical-align: top;\n    }\n\n    .dataframe thead th {\n        text-align: right;\n    }\n</style>\n<table border=\"1\" class=\"dataframe\">\n  <thead>\n    <tr style=\"text-align: right;\">\n      <th></th>\n      <th>country</th>\n      <th>beer_servings</th>\n      <th>spirit_servings</th>\n      <th>wine_servings</th>\n      <th>total_litres_of_pure_alcohol</th>\n      <th>continent</th>\n      <th>missing_continent</th>\n    </tr>\n  </thead>\n  <tbody>\n    <tr>\n      <th>1</th>\n      <td>Albania</td>\n      <td>89</td>\n      <td>132</td>\n      <td>54</td>\n      <td>4.9</td>\n      <td>EU</td>\n      <td>False</td>\n    </tr>\n    <tr>\n      <th>7</th>\n      <td>Armenia</td>\n      <td>21</td>\n      <td>179</td>\n      <td>11</td>\n      <td>3.8</td>\n      <td>EU</td>\n      <td>False</td>\n    </tr>\n    <tr>\n      <th>21</th>\n      <td>Bosnia-Herzegovina</td>\n      <td>76</td>\n      <td>173</td>\n      <td>8</td>\n      <td>4.6</td>\n      <td>EU</td>\n      <td>False</td>\n    </tr>\n    <tr>\n      <th>36</th>\n      <td>China</td>\n      <td>79</td>\n      <td>192</td>\n      <td>8</td>\n      <td>5.0</td>\n      <td>AS</td>\n      <td>False</td>\n    </tr>\n    <tr>\n      <th>40</th>\n      <td>Cook Islands</td>\n      <td>0</td>\n      <td>254</td>\n      <td>74</td>\n      <td>5.9</td>\n      <td>OC</td>\n      <td>False</td>\n    </tr>\n    <tr>\n      <th>43</th>\n      <td>Cuba</td>\n      <td>93</td>\n      <td>137</td>\n      <td>5</td>\n      <td>4.2</td>\n      <td>NaN</td>\n      <td>True</td>\n    </tr>\n    <tr>\n      <th>50</th>\n      <td>Dominica</td>\n      <td>52</td>\n      <td>286</td>\n      <td>26</td>\n      <td>6.6</td>\n      <td>NaN</td>\n      <td>True</td>\n    </tr>\n    <tr>\n      <th>72</th>\n      <td>Guyana</td>\n      <td>93</td>\n      <td>302</td>\n      <td>1</td>\n      <td>7.1</td>\n      <td>SA</td>\n      <td>False</td>\n    </tr>\n    <tr>\n      <th>73</th>\n      <td>Haiti</td>\n      <td>1</td>\n      <td>326</td>\n      <td>1</td>\n      <td>5.9</td>\n      <td>NaN</td>\n      <td>True</td>\n    </tr>\n    <tr>\n      <th>77</th>\n      <td>India</td>\n      <td>9</td>\n      <td>114</td>\n      <td>0</td>\n      <td>2.2</td>\n      <td>AS</td>\n      <td>False</td>\n    </tr>\n    <tr>\n      <th>85</th>\n      <td>Japan</td>\n      <td>77</td>\n      <td>202</td>\n      <td>16</td>\n      <td>7.0</td>\n      <td>AS</td>\n      <td>False</td>\n    </tr>\n    <tr>\n      <th>96</th>\n      <td>Liberia</td>\n      <td>19</td>\n      <td>152</td>\n      <td>2</td>\n      <td>3.1</td>\n      <td>AF</td>\n      <td>False</td>\n    </tr>\n    <tr>\n      <th>112</th>\n      <td>Mongolia</td>\n      <td>77</td>\n      <td>189</td>\n      <td>8</td>\n      <td>4.9</td>\n      <td>AS</td>\n      <td>False</td>\n    </tr>\n    <tr>\n      <th>113</th>\n      <td>Montenegro</td>\n      <td>31</td>\n      <td>114</td>\n      <td>128</td>\n      <td>4.9</td>\n      <td>EU</td>\n      <td>False</td>\n    </tr>\n    <tr>\n      <th>122</th>\n      <td>Nicaragua</td>\n      <td>78</td>\n      <td>118</td>\n      <td>1</td>\n      <td>3.5</td>\n      <td>NaN</td>\n      <td>True</td>\n    </tr>\n    <tr>\n      <th>134</th>\n      <td>Philippines</td>\n      <td>71</td>\n      <td>186</td>\n      <td>1</td>\n      <td>4.6</td>\n      <td>AS</td>\n      <td>False</td>\n    </tr>\n    <tr>\n      <th>161</th>\n      <td>Sri Lanka</td>\n      <td>16</td>\n      <td>104</td>\n      <td>0</td>\n      <td>2.2</td>\n      <td>AS</td>\n      <td>False</td>\n    </tr>\n    <tr>\n      <th>169</th>\n      <td>Thailand</td>\n      <td>99</td>\n      <td>258</td>\n      <td>1</td>\n      <td>6.4</td>\n      <td>AS</td>\n      <td>False</td>\n    </tr>\n    <tr>\n      <th>181</th>\n      <td>United Arab Emirates</td>\n      <td>16</td>\n      <td>135</td>\n      <td>5</td>\n      <td>2.8</td>\n      <td>AS</td>\n      <td>False</td>\n    </tr>\n    <tr>\n      <th>186</th>\n      <td>Uzbekistan</td>\n      <td>25</td>\n      <td>101</td>\n      <td>8</td>\n      <td>2.4</td>\n      <td>AS</td>\n      <td>False</td>\n    </tr>\n  </tbody>\n</table>\n</div>"
     },
     "metadata": {}
    }
   ]
  },
  {
   "cell_type": "code",
   "metadata": {
    "tags": [],
    "cell_id": "00010-2858c105-083d-4e89-88ea-0510e4b450c9",
    "deepnote_to_be_reexecuted": false,
    "source_hash": "f804c160",
    "execution_start": 1624985496969,
    "execution_millis": 47,
    "deepnote_cell_type": "code"
   },
   "source": "df[df[\"continent\"].isnull()]",
   "execution_count": null,
   "outputs": [
    {
     "output_type": "execute_result",
     "execution_count": 59,
     "data": {
      "application/vnd.deepnote.dataframe.v2+json": {
       "row_count": 193,
       "column_count": 7,
       "columns": [
        {
         "name": "country",
         "dtype": "object",
         "stats": {
          "unique_count": 193,
          "nan_count": 0,
          "categories": [
           {
            "name": "Afghanistan",
            "count": 1
           },
           {
            "name": "Albania",
            "count": 1
           },
           {
            "name": "191 others",
            "count": 191
           }
          ]
         }
        },
        {
         "name": "beer_servings",
         "dtype": "int64",
         "stats": {
          "unique_count": 130,
          "nan_count": 0,
          "min": "0",
          "max": "376",
          "histogram": [
           {
            "bin_start": 0,
            "bin_end": 37.6,
            "count": 72
           },
           {
            "bin_start": 37.6,
            "bin_end": 75.2,
            "count": 24
           },
           {
            "bin_start": 75.2,
            "bin_end": 112.80000000000001,
            "count": 23
           },
           {
            "bin_start": 112.80000000000001,
            "bin_end": 150.4,
            "count": 15
           },
           {
            "bin_start": 150.4,
            "bin_end": 188,
            "count": 10
           },
           {
            "bin_start": 188,
            "bin_end": 225.60000000000002,
            "count": 17
           },
           {
            "bin_start": 225.60000000000002,
            "bin_end": 263.2,
            "count": 15
           },
           {
            "bin_start": 263.2,
            "bin_end": 300.8,
            "count": 8
           },
           {
            "bin_start": 300.8,
            "bin_end": 338.40000000000003,
            "count": 3
           },
           {
            "bin_start": 338.40000000000003,
            "bin_end": 376,
            "count": 6
           }
          ]
         }
        },
        {
         "name": "spirit_servings",
         "dtype": "int64",
         "stats": {
          "unique_count": 109,
          "nan_count": 0,
          "min": "0",
          "max": "438",
          "histogram": [
           {
            "bin_start": 0,
            "bin_end": 43.8,
            "count": 91
           },
           {
            "bin_start": 43.8,
            "bin_end": 87.6,
            "count": 29
           },
           {
            "bin_start": 87.6,
            "bin_end": 131.39999999999998,
            "count": 26
           },
           {
            "bin_start": 131.39999999999998,
            "bin_end": 175.2,
            "count": 18
           },
           {
            "bin_start": 175.2,
            "bin_end": 219,
            "count": 13
           },
           {
            "bin_start": 219,
            "bin_end": 262.79999999999995,
            "count": 8
           },
           {
            "bin_start": 262.79999999999995,
            "bin_end": 306.59999999999997,
            "count": 3
           },
           {
            "bin_start": 306.59999999999997,
            "bin_end": 350.4,
            "count": 3
           },
           {
            "bin_start": 350.4,
            "bin_end": 394.2,
            "count": 1
           },
           {
            "bin_start": 394.2,
            "bin_end": 438,
            "count": 1
           }
          ]
         }
        },
        {
         "name": "wine_servings",
         "dtype": "int64",
         "stats": {
          "unique_count": 79,
          "nan_count": 0,
          "min": "0",
          "max": "370",
          "histogram": [
           {
            "bin_start": 0,
            "bin_end": 37,
            "count": 134
           },
           {
            "bin_start": 37,
            "bin_end": 74,
            "count": 14
           },
           {
            "bin_start": 74,
            "bin_end": 111,
            "count": 9
           },
           {
            "bin_start": 111,
            "bin_end": 148,
            "count": 10
           },
           {
            "bin_start": 148,
            "bin_end": 185,
            "count": 6
           },
           {
            "bin_start": 185,
            "bin_end": 222,
            "count": 10
           },
           {
            "bin_start": 222,
            "bin_end": 259,
            "count": 3
           },
           {
            "bin_start": 259,
            "bin_end": 296,
            "count": 4
           },
           {
            "bin_start": 296,
            "bin_end": 333,
            "count": 1
           },
           {
            "bin_start": 333,
            "bin_end": 370,
            "count": 2
           }
          ]
         }
        },
        {
         "name": "total_litres_of_pure_alcohol",
         "dtype": "float64",
         "stats": {
          "unique_count": 90,
          "nan_count": 0,
          "min": "0.0",
          "max": "14.4",
          "histogram": [
           {
            "bin_start": 0,
            "bin_end": 1.44,
            "count": 53
           },
           {
            "bin_start": 1.44,
            "bin_end": 2.88,
            "count": 30
           },
           {
            "bin_start": 2.88,
            "bin_end": 4.32,
            "count": 15
           },
           {
            "bin_start": 4.32,
            "bin_end": 5.76,
            "count": 15
           },
           {
            "bin_start": 5.76,
            "bin_end": 7.199999999999999,
            "count": 30
           },
           {
            "bin_start": 7.199999999999999,
            "bin_end": 8.64,
            "count": 13
           },
           {
            "bin_start": 8.64,
            "bin_end": 10.08,
            "count": 12
           },
           {
            "bin_start": 10.08,
            "bin_end": 11.52,
            "count": 19
           },
           {
            "bin_start": 11.52,
            "bin_end": 12.959999999999999,
            "count": 5
           },
           {
            "bin_start": 12.959999999999999,
            "bin_end": 14.4,
            "count": 1
           }
          ]
         }
        },
        {
         "name": "continent",
         "dtype": "object",
         "stats": {
          "unique_count": 5,
          "nan_count": 23,
          "categories": [
           {
            "name": "AF",
            "count": 53
           },
           {
            "name": "4 others",
            "count": 117
           },
           {
            "name": "Missing",
            "count": 23
           }
          ]
         }
        },
        {
         "name": "missing_continent",
         "dtype": "bool",
         "stats": {
          "unique_count": 2,
          "nan_count": 0,
          "categories": [
           {
            "name": "False",
            "count": 170
           },
           {
            "name": "True",
            "count": 23
           }
          ]
         }
        },
        {
         "name": "_deepnote_index_column",
         "dtype": "int64"
        }
       ],
       "rows_top": [
        {
         "country": "Afghanistan",
         "beer_servings": 0,
         "spirit_servings": 0,
         "wine_servings": 0,
         "total_litres_of_pure_alcohol": 0,
         "continent": "AS",
         "missing_continent": "False",
         "_deepnote_index_column": 0
        },
        {
         "country": "Albania",
         "beer_servings": 89,
         "spirit_servings": 132,
         "wine_servings": 54,
         "total_litres_of_pure_alcohol": 4.9,
         "continent": "EU",
         "missing_continent": "False",
         "_deepnote_index_column": 1
        },
        {
         "country": "Algeria",
         "beer_servings": 25,
         "spirit_servings": 0,
         "wine_servings": 14,
         "total_litres_of_pure_alcohol": 0.7,
         "continent": "AF",
         "missing_continent": "False",
         "_deepnote_index_column": 2
        },
        {
         "country": "Andorra",
         "beer_servings": 245,
         "spirit_servings": 138,
         "wine_servings": 312,
         "total_litres_of_pure_alcohol": 12.4,
         "continent": "EU",
         "missing_continent": "False",
         "_deepnote_index_column": 3
        },
        {
         "country": "Angola",
         "beer_servings": 217,
         "spirit_servings": 57,
         "wine_servings": 45,
         "total_litres_of_pure_alcohol": 5.9,
         "continent": "AF",
         "missing_continent": "False",
         "_deepnote_index_column": 4
        },
        {
         "country": "Antigua & Barbuda",
         "beer_servings": 102,
         "spirit_servings": 128,
         "wine_servings": 45,
         "total_litres_of_pure_alcohol": 4.9,
         "continent": "nan",
         "missing_continent": "True",
         "_deepnote_index_column": 5
        },
        {
         "country": "Argentina",
         "beer_servings": 193,
         "spirit_servings": 25,
         "wine_servings": 221,
         "total_litres_of_pure_alcohol": 8.3,
         "continent": "SA",
         "missing_continent": "False",
         "_deepnote_index_column": 6
        },
        {
         "country": "Armenia",
         "beer_servings": 21,
         "spirit_servings": 179,
         "wine_servings": 11,
         "total_litres_of_pure_alcohol": 3.8,
         "continent": "EU",
         "missing_continent": "False",
         "_deepnote_index_column": 7
        },
        {
         "country": "Australia",
         "beer_servings": 261,
         "spirit_servings": 72,
         "wine_servings": 212,
         "total_litres_of_pure_alcohol": 10.4,
         "continent": "OC",
         "missing_continent": "False",
         "_deepnote_index_column": 8
        },
        {
         "country": "Austria",
         "beer_servings": 279,
         "spirit_servings": 75,
         "wine_servings": 191,
         "total_litres_of_pure_alcohol": 9.7,
         "continent": "EU",
         "missing_continent": "False",
         "_deepnote_index_column": 9
        },
        {
         "country": "Azerbaijan",
         "beer_servings": 21,
         "spirit_servings": 46,
         "wine_servings": 5,
         "total_litres_of_pure_alcohol": 1.3,
         "continent": "EU",
         "missing_continent": "False",
         "_deepnote_index_column": 10
        },
        {
         "country": "Bahamas",
         "beer_servings": 122,
         "spirit_servings": 176,
         "wine_servings": 51,
         "total_litres_of_pure_alcohol": 6.3,
         "continent": "nan",
         "missing_continent": "True",
         "_deepnote_index_column": 11
        },
        {
         "country": "Bahrain",
         "beer_servings": 42,
         "spirit_servings": 63,
         "wine_servings": 7,
         "total_litres_of_pure_alcohol": 2,
         "continent": "AS",
         "missing_continent": "False",
         "_deepnote_index_column": 12
        },
        {
         "country": "Bangladesh",
         "beer_servings": 0,
         "spirit_servings": 0,
         "wine_servings": 0,
         "total_litres_of_pure_alcohol": 0,
         "continent": "AS",
         "missing_continent": "False",
         "_deepnote_index_column": 13
        },
        {
         "country": "Barbados",
         "beer_servings": 143,
         "spirit_servings": 173,
         "wine_servings": 36,
         "total_litres_of_pure_alcohol": 6.3,
         "continent": "nan",
         "missing_continent": "True",
         "_deepnote_index_column": 14
        },
        {
         "country": "Belarus",
         "beer_servings": 142,
         "spirit_servings": 373,
         "wine_servings": 42,
         "total_litres_of_pure_alcohol": 14.4,
         "continent": "EU",
         "missing_continent": "False",
         "_deepnote_index_column": 15
        },
        {
         "country": "Belgium",
         "beer_servings": 295,
         "spirit_servings": 84,
         "wine_servings": 212,
         "total_litres_of_pure_alcohol": 10.5,
         "continent": "EU",
         "missing_continent": "False",
         "_deepnote_index_column": 16
        },
        {
         "country": "Belize",
         "beer_servings": 263,
         "spirit_servings": 114,
         "wine_servings": 8,
         "total_litres_of_pure_alcohol": 6.8,
         "continent": "nan",
         "missing_continent": "True",
         "_deepnote_index_column": 17
        },
        {
         "country": "Benin",
         "beer_servings": 34,
         "spirit_servings": 4,
         "wine_servings": 13,
         "total_litres_of_pure_alcohol": 1.1,
         "continent": "AF",
         "missing_continent": "False",
         "_deepnote_index_column": 18
        },
        {
         "country": "Bhutan",
         "beer_servings": 23,
         "spirit_servings": 0,
         "wine_servings": 0,
         "total_litres_of_pure_alcohol": 0.4,
         "continent": "AS",
         "missing_continent": "False",
         "_deepnote_index_column": 19
        },
        {
         "country": "Bolivia",
         "beer_servings": 167,
         "spirit_servings": 41,
         "wine_servings": 8,
         "total_litres_of_pure_alcohol": 3.8,
         "continent": "SA",
         "missing_continent": "False",
         "_deepnote_index_column": 20
        },
        {
         "country": "Bosnia-Herzegovina",
         "beer_servings": 76,
         "spirit_servings": 173,
         "wine_servings": 8,
         "total_litres_of_pure_alcohol": 4.6,
         "continent": "EU",
         "missing_continent": "False",
         "_deepnote_index_column": 21
        },
        {
         "country": "Botswana",
         "beer_servings": 173,
         "spirit_servings": 35,
         "wine_servings": 35,
         "total_litres_of_pure_alcohol": 5.4,
         "continent": "AF",
         "missing_continent": "False",
         "_deepnote_index_column": 22
        },
        {
         "country": "Brazil",
         "beer_servings": 245,
         "spirit_servings": 145,
         "wine_servings": 16,
         "total_litres_of_pure_alcohol": 7.2,
         "continent": "SA",
         "missing_continent": "False",
         "_deepnote_index_column": 23
        },
        {
         "country": "Brunei",
         "beer_servings": 31,
         "spirit_servings": 2,
         "wine_servings": 1,
         "total_litres_of_pure_alcohol": 0.6,
         "continent": "AS",
         "missing_continent": "False",
         "_deepnote_index_column": 24
        },
        {
         "country": "Bulgaria",
         "beer_servings": 231,
         "spirit_servings": 252,
         "wine_servings": 94,
         "total_litres_of_pure_alcohol": 10.3,
         "continent": "EU",
         "missing_continent": "False",
         "_deepnote_index_column": 25
        },
        {
         "country": "Burkina Faso",
         "beer_servings": 25,
         "spirit_servings": 7,
         "wine_servings": 7,
         "total_litres_of_pure_alcohol": 4.3,
         "continent": "AF",
         "missing_continent": "False",
         "_deepnote_index_column": 26
        },
        {
         "country": "Burundi",
         "beer_servings": 88,
         "spirit_servings": 0,
         "wine_servings": 0,
         "total_litres_of_pure_alcohol": 6.3,
         "continent": "AF",
         "missing_continent": "False",
         "_deepnote_index_column": 27
        },
        {
         "country": "Cote d'Ivoire",
         "beer_servings": 37,
         "spirit_servings": 1,
         "wine_servings": 7,
         "total_litres_of_pure_alcohol": 4,
         "continent": "AF",
         "missing_continent": "False",
         "_deepnote_index_column": 28
        },
        {
         "country": "Cabo Verde",
         "beer_servings": 144,
         "spirit_servings": 56,
         "wine_servings": 16,
         "total_litres_of_pure_alcohol": 4,
         "continent": "AF",
         "missing_continent": "False",
         "_deepnote_index_column": 29
        },
        {
         "country": "Cambodia",
         "beer_servings": 57,
         "spirit_servings": 65,
         "wine_servings": 1,
         "total_litres_of_pure_alcohol": 2.2,
         "continent": "AS",
         "missing_continent": "False",
         "_deepnote_index_column": 30
        },
        {
         "country": "Cameroon",
         "beer_servings": 147,
         "spirit_servings": 1,
         "wine_servings": 4,
         "total_litres_of_pure_alcohol": 5.8,
         "continent": "AF",
         "missing_continent": "False",
         "_deepnote_index_column": 31
        },
        {
         "country": "Canada",
         "beer_servings": 240,
         "spirit_servings": 122,
         "wine_servings": 100,
         "total_litres_of_pure_alcohol": 8.2,
         "continent": "nan",
         "missing_continent": "True",
         "_deepnote_index_column": 32
        },
        {
         "country": "Central African Republic",
         "beer_servings": 17,
         "spirit_servings": 2,
         "wine_servings": 1,
         "total_litres_of_pure_alcohol": 1.8,
         "continent": "AF",
         "missing_continent": "False",
         "_deepnote_index_column": 33
        },
        {
         "country": "Chad",
         "beer_servings": 15,
         "spirit_servings": 1,
         "wine_servings": 1,
         "total_litres_of_pure_alcohol": 0.4,
         "continent": "AF",
         "missing_continent": "False",
         "_deepnote_index_column": 34
        },
        {
         "country": "Chile",
         "beer_servings": 130,
         "spirit_servings": 124,
         "wine_servings": 172,
         "total_litres_of_pure_alcohol": 7.6,
         "continent": "SA",
         "missing_continent": "False",
         "_deepnote_index_column": 35
        },
        {
         "country": "China",
         "beer_servings": 79,
         "spirit_servings": 192,
         "wine_servings": 8,
         "total_litres_of_pure_alcohol": 5,
         "continent": "AS",
         "missing_continent": "False",
         "_deepnote_index_column": 36
        },
        {
         "country": "Colombia",
         "beer_servings": 159,
         "spirit_servings": 76,
         "wine_servings": 3,
         "total_litres_of_pure_alcohol": 4.2,
         "continent": "SA",
         "missing_continent": "False",
         "_deepnote_index_column": 37
        },
        {
         "country": "Comoros",
         "beer_servings": 1,
         "spirit_servings": 3,
         "wine_servings": 1,
         "total_litres_of_pure_alcohol": 0.1,
         "continent": "AF",
         "missing_continent": "False",
         "_deepnote_index_column": 38
        },
        {
         "country": "Congo",
         "beer_servings": 76,
         "spirit_servings": 1,
         "wine_servings": 9,
         "total_litres_of_pure_alcohol": 1.7,
         "continent": "AF",
         "missing_continent": "False",
         "_deepnote_index_column": 39
        },
        {
         "country": "Cook Islands",
         "beer_servings": 0,
         "spirit_servings": 254,
         "wine_servings": 74,
         "total_litres_of_pure_alcohol": 5.9,
         "continent": "OC",
         "missing_continent": "False",
         "_deepnote_index_column": 40
        },
        {
         "country": "Costa Rica",
         "beer_servings": 149,
         "spirit_servings": 87,
         "wine_servings": 11,
         "total_litres_of_pure_alcohol": 4.4,
         "continent": "nan",
         "missing_continent": "True",
         "_deepnote_index_column": 41
        },
        {
         "country": "Croatia",
         "beer_servings": 230,
         "spirit_servings": 87,
         "wine_servings": 254,
         "total_litres_of_pure_alcohol": 10.2,
         "continent": "EU",
         "missing_continent": "False",
         "_deepnote_index_column": 42
        },
        {
         "country": "Cuba",
         "beer_servings": 93,
         "spirit_servings": 137,
         "wine_servings": 5,
         "total_litres_of_pure_alcohol": 4.2,
         "continent": "nan",
         "missing_continent": "True",
         "_deepnote_index_column": 43
        },
        {
         "country": "Cyprus",
         "beer_servings": 192,
         "spirit_servings": 154,
         "wine_servings": 113,
         "total_litres_of_pure_alcohol": 8.2,
         "continent": "EU",
         "missing_continent": "False",
         "_deepnote_index_column": 44
        },
        {
         "country": "Czech Republic",
         "beer_servings": 361,
         "spirit_servings": 170,
         "wine_servings": 134,
         "total_litres_of_pure_alcohol": 11.8,
         "continent": "EU",
         "missing_continent": "False",
         "_deepnote_index_column": 45
        },
        {
         "country": "North Korea",
         "beer_servings": 0,
         "spirit_servings": 0,
         "wine_servings": 0,
         "total_litres_of_pure_alcohol": 0,
         "continent": "AS",
         "missing_continent": "False",
         "_deepnote_index_column": 46
        },
        {
         "country": "DR Congo",
         "beer_servings": 32,
         "spirit_servings": 3,
         "wine_servings": 1,
         "total_litres_of_pure_alcohol": 2.3,
         "continent": "AF",
         "missing_continent": "False",
         "_deepnote_index_column": 47
        },
        {
         "country": "Denmark",
         "beer_servings": 224,
         "spirit_servings": 81,
         "wine_servings": 278,
         "total_litres_of_pure_alcohol": 10.4,
         "continent": "EU",
         "missing_continent": "False",
         "_deepnote_index_column": 48
        },
        {
         "country": "Djibouti",
         "beer_servings": 15,
         "spirit_servings": 44,
         "wine_servings": 3,
         "total_litres_of_pure_alcohol": 1.1,
         "continent": "AF",
         "missing_continent": "False",
         "_deepnote_index_column": 49
        },
        {
         "country": "Dominica",
         "beer_servings": 52,
         "spirit_servings": 286,
         "wine_servings": 26,
         "total_litres_of_pure_alcohol": 6.6,
         "continent": "nan",
         "missing_continent": "True",
         "_deepnote_index_column": 50
        },
        {
         "country": "Dominican Republic",
         "beer_servings": 193,
         "spirit_servings": 147,
         "wine_servings": 9,
         "total_litres_of_pure_alcohol": 6.2,
         "continent": "nan",
         "missing_continent": "True",
         "_deepnote_index_column": 51
        },
        {
         "country": "Ecuador",
         "beer_servings": 162,
         "spirit_servings": 74,
         "wine_servings": 3,
         "total_litres_of_pure_alcohol": 4.2,
         "continent": "SA",
         "missing_continent": "False",
         "_deepnote_index_column": 52
        },
        {
         "country": "Egypt",
         "beer_servings": 6,
         "spirit_servings": 4,
         "wine_servings": 1,
         "total_litres_of_pure_alcohol": 0.2,
         "continent": "AF",
         "missing_continent": "False",
         "_deepnote_index_column": 53
        },
        {
         "country": "El Salvador",
         "beer_servings": 52,
         "spirit_servings": 69,
         "wine_servings": 2,
         "total_litres_of_pure_alcohol": 2.2,
         "continent": "nan",
         "missing_continent": "True",
         "_deepnote_index_column": 54
        },
        {
         "country": "Equatorial Guinea",
         "beer_servings": 92,
         "spirit_servings": 0,
         "wine_servings": 233,
         "total_litres_of_pure_alcohol": 5.8,
         "continent": "AF",
         "missing_continent": "False",
         "_deepnote_index_column": 55
        },
        {
         "country": "Eritrea",
         "beer_servings": 18,
         "spirit_servings": 0,
         "wine_servings": 0,
         "total_litres_of_pure_alcohol": 0.5,
         "continent": "AF",
         "missing_continent": "False",
         "_deepnote_index_column": 56
        },
        {
         "country": "Estonia",
         "beer_servings": 224,
         "spirit_servings": 194,
         "wine_servings": 59,
         "total_litres_of_pure_alcohol": 9.5,
         "continent": "EU",
         "missing_continent": "False",
         "_deepnote_index_column": 57
        },
        {
         "country": "Ethiopia",
         "beer_servings": 20,
         "spirit_servings": 3,
         "wine_servings": 0,
         "total_litres_of_pure_alcohol": 0.7,
         "continent": "AF",
         "missing_continent": "False",
         "_deepnote_index_column": 58
        },
        {
         "country": "Fiji",
         "beer_servings": 77,
         "spirit_servings": 35,
         "wine_servings": 1,
         "total_litres_of_pure_alcohol": 2,
         "continent": "OC",
         "missing_continent": "False",
         "_deepnote_index_column": 59
        },
        {
         "country": "Finland",
         "beer_servings": 263,
         "spirit_servings": 133,
         "wine_servings": 97,
         "total_litres_of_pure_alcohol": 10,
         "continent": "EU",
         "missing_continent": "False",
         "_deepnote_index_column": 60
        },
        {
         "country": "France",
         "beer_servings": 127,
         "spirit_servings": 151,
         "wine_servings": 370,
         "total_litres_of_pure_alcohol": 11.8,
         "continent": "EU",
         "missing_continent": "False",
         "_deepnote_index_column": 61
        },
        {
         "country": "Gabon",
         "beer_servings": 347,
         "spirit_servings": 98,
         "wine_servings": 59,
         "total_litres_of_pure_alcohol": 8.9,
         "continent": "AF",
         "missing_continent": "False",
         "_deepnote_index_column": 62
        },
        {
         "country": "Gambia",
         "beer_servings": 8,
         "spirit_servings": 0,
         "wine_servings": 1,
         "total_litres_of_pure_alcohol": 2.4,
         "continent": "AF",
         "missing_continent": "False",
         "_deepnote_index_column": 63
        },
        {
         "country": "Georgia",
         "beer_servings": 52,
         "spirit_servings": 100,
         "wine_servings": 149,
         "total_litres_of_pure_alcohol": 5.4,
         "continent": "EU",
         "missing_continent": "False",
         "_deepnote_index_column": 64
        },
        {
         "country": "Germany",
         "beer_servings": 346,
         "spirit_servings": 117,
         "wine_servings": 175,
         "total_litres_of_pure_alcohol": 11.3,
         "continent": "EU",
         "missing_continent": "False",
         "_deepnote_index_column": 65
        },
        {
         "country": "Ghana",
         "beer_servings": 31,
         "spirit_servings": 3,
         "wine_servings": 10,
         "total_litres_of_pure_alcohol": 1.8,
         "continent": "AF",
         "missing_continent": "False",
         "_deepnote_index_column": 66
        },
        {
         "country": "Greece",
         "beer_servings": 133,
         "spirit_servings": 112,
         "wine_servings": 218,
         "total_litres_of_pure_alcohol": 8.3,
         "continent": "EU",
         "missing_continent": "False",
         "_deepnote_index_column": 67
        },
        {
         "country": "Grenada",
         "beer_servings": 199,
         "spirit_servings": 438,
         "wine_servings": 28,
         "total_litres_of_pure_alcohol": 11.9,
         "continent": "nan",
         "missing_continent": "True",
         "_deepnote_index_column": 68
        },
        {
         "country": "Guatemala",
         "beer_servings": 53,
         "spirit_servings": 69,
         "wine_servings": 2,
         "total_litres_of_pure_alcohol": 2.2,
         "continent": "nan",
         "missing_continent": "True",
         "_deepnote_index_column": 69
        },
        {
         "country": "Guinea",
         "beer_servings": 9,
         "spirit_servings": 0,
         "wine_servings": 2,
         "total_litres_of_pure_alcohol": 0.2,
         "continent": "AF",
         "missing_continent": "False",
         "_deepnote_index_column": 70
        }
       ],
       "rows_bottom": [
        {
         "country": "Nicaragua",
         "beer_servings": 78,
         "spirit_servings": 118,
         "wine_servings": 1,
         "total_litres_of_pure_alcohol": 3.5,
         "continent": "nan",
         "missing_continent": "True",
         "_deepnote_index_column": 122
        },
        {
         "country": "Niger",
         "beer_servings": 3,
         "spirit_servings": 2,
         "wine_servings": 1,
         "total_litres_of_pure_alcohol": 0.1,
         "continent": "AF",
         "missing_continent": "False",
         "_deepnote_index_column": 123
        },
        {
         "country": "Nigeria",
         "beer_servings": 42,
         "spirit_servings": 5,
         "wine_servings": 2,
         "total_litres_of_pure_alcohol": 9.1,
         "continent": "AF",
         "missing_continent": "False",
         "_deepnote_index_column": 124
        },
        {
         "country": "Niue",
         "beer_servings": 188,
         "spirit_servings": 200,
         "wine_servings": 7,
         "total_litres_of_pure_alcohol": 7,
         "continent": "OC",
         "missing_continent": "False",
         "_deepnote_index_column": 125
        },
        {
         "country": "Norway",
         "beer_servings": 169,
         "spirit_servings": 71,
         "wine_servings": 129,
         "total_litres_of_pure_alcohol": 6.7,
         "continent": "EU",
         "missing_continent": "False",
         "_deepnote_index_column": 126
        },
        {
         "country": "Oman",
         "beer_servings": 22,
         "spirit_servings": 16,
         "wine_servings": 1,
         "total_litres_of_pure_alcohol": 0.7,
         "continent": "AS",
         "missing_continent": "False",
         "_deepnote_index_column": 127
        },
        {
         "country": "Pakistan",
         "beer_servings": 0,
         "spirit_servings": 0,
         "wine_servings": 0,
         "total_litres_of_pure_alcohol": 0,
         "continent": "AS",
         "missing_continent": "False",
         "_deepnote_index_column": 128
        },
        {
         "country": "Palau",
         "beer_servings": 306,
         "spirit_servings": 63,
         "wine_servings": 23,
         "total_litres_of_pure_alcohol": 6.9,
         "continent": "OC",
         "missing_continent": "False",
         "_deepnote_index_column": 129
        },
        {
         "country": "Panama",
         "beer_servings": 285,
         "spirit_servings": 104,
         "wine_servings": 18,
         "total_litres_of_pure_alcohol": 7.2,
         "continent": "nan",
         "missing_continent": "True",
         "_deepnote_index_column": 130
        },
        {
         "country": "Papua New Guinea",
         "beer_servings": 44,
         "spirit_servings": 39,
         "wine_servings": 1,
         "total_litres_of_pure_alcohol": 1.5,
         "continent": "OC",
         "missing_continent": "False",
         "_deepnote_index_column": 131
        },
        {
         "country": "Paraguay",
         "beer_servings": 213,
         "spirit_servings": 117,
         "wine_servings": 74,
         "total_litres_of_pure_alcohol": 7.3,
         "continent": "SA",
         "missing_continent": "False",
         "_deepnote_index_column": 132
        },
        {
         "country": "Peru",
         "beer_servings": 163,
         "spirit_servings": 160,
         "wine_servings": 21,
         "total_litres_of_pure_alcohol": 6.1,
         "continent": "SA",
         "missing_continent": "False",
         "_deepnote_index_column": 133
        },
        {
         "country": "Philippines",
         "beer_servings": 71,
         "spirit_servings": 186,
         "wine_servings": 1,
         "total_litres_of_pure_alcohol": 4.6,
         "continent": "AS",
         "missing_continent": "False",
         "_deepnote_index_column": 134
        },
        {
         "country": "Poland",
         "beer_servings": 343,
         "spirit_servings": 215,
         "wine_servings": 56,
         "total_litres_of_pure_alcohol": 10.9,
         "continent": "EU",
         "missing_continent": "False",
         "_deepnote_index_column": 135
        },
        {
         "country": "Portugal",
         "beer_servings": 194,
         "spirit_servings": 67,
         "wine_servings": 339,
         "total_litres_of_pure_alcohol": 11,
         "continent": "EU",
         "missing_continent": "False",
         "_deepnote_index_column": 136
        },
        {
         "country": "Qatar",
         "beer_servings": 1,
         "spirit_servings": 42,
         "wine_servings": 7,
         "total_litres_of_pure_alcohol": 0.9,
         "continent": "AS",
         "missing_continent": "False",
         "_deepnote_index_column": 137
        },
        {
         "country": "South Korea",
         "beer_servings": 140,
         "spirit_servings": 16,
         "wine_servings": 9,
         "total_litres_of_pure_alcohol": 9.8,
         "continent": "AS",
         "missing_continent": "False",
         "_deepnote_index_column": 138
        },
        {
         "country": "Moldova",
         "beer_servings": 109,
         "spirit_servings": 226,
         "wine_servings": 18,
         "total_litres_of_pure_alcohol": 6.3,
         "continent": "EU",
         "missing_continent": "False",
         "_deepnote_index_column": 139
        },
        {
         "country": "Romania",
         "beer_servings": 297,
         "spirit_servings": 122,
         "wine_servings": 167,
         "total_litres_of_pure_alcohol": 10.4,
         "continent": "EU",
         "missing_continent": "False",
         "_deepnote_index_column": 140
        },
        {
         "country": "Russian Federation",
         "beer_servings": 247,
         "spirit_servings": 326,
         "wine_servings": 73,
         "total_litres_of_pure_alcohol": 11.5,
         "continent": "AS",
         "missing_continent": "False",
         "_deepnote_index_column": 141
        },
        {
         "country": "Rwanda",
         "beer_servings": 43,
         "spirit_servings": 2,
         "wine_servings": 0,
         "total_litres_of_pure_alcohol": 6.8,
         "continent": "AF",
         "missing_continent": "False",
         "_deepnote_index_column": 142
        },
        {
         "country": "St. Kitts & Nevis",
         "beer_servings": 194,
         "spirit_servings": 205,
         "wine_servings": 32,
         "total_litres_of_pure_alcohol": 7.7,
         "continent": "nan",
         "missing_continent": "True",
         "_deepnote_index_column": 143
        },
        {
         "country": "St. Lucia",
         "beer_servings": 171,
         "spirit_servings": 315,
         "wine_servings": 71,
         "total_litres_of_pure_alcohol": 10.1,
         "continent": "nan",
         "missing_continent": "True",
         "_deepnote_index_column": 144
        },
        {
         "country": "St. Vincent & the Grenadines",
         "beer_servings": 120,
         "spirit_servings": 221,
         "wine_servings": 11,
         "total_litres_of_pure_alcohol": 6.3,
         "continent": "nan",
         "missing_continent": "True",
         "_deepnote_index_column": 145
        },
        {
         "country": "Samoa",
         "beer_servings": 105,
         "spirit_servings": 18,
         "wine_servings": 24,
         "total_litres_of_pure_alcohol": 2.6,
         "continent": "OC",
         "missing_continent": "False",
         "_deepnote_index_column": 146
        },
        {
         "country": "San Marino",
         "beer_servings": 0,
         "spirit_servings": 0,
         "wine_servings": 0,
         "total_litres_of_pure_alcohol": 0,
         "continent": "EU",
         "missing_continent": "False",
         "_deepnote_index_column": 147
        },
        {
         "country": "Sao Tome & Principe",
         "beer_servings": 56,
         "spirit_servings": 38,
         "wine_servings": 140,
         "total_litres_of_pure_alcohol": 4.2,
         "continent": "AF",
         "missing_continent": "False",
         "_deepnote_index_column": 148
        },
        {
         "country": "Saudi Arabia",
         "beer_servings": 0,
         "spirit_servings": 5,
         "wine_servings": 0,
         "total_litres_of_pure_alcohol": 0.1,
         "continent": "AS",
         "missing_continent": "False",
         "_deepnote_index_column": 149
        },
        {
         "country": "Senegal",
         "beer_servings": 9,
         "spirit_servings": 1,
         "wine_servings": 7,
         "total_litres_of_pure_alcohol": 0.3,
         "continent": "AF",
         "missing_continent": "False",
         "_deepnote_index_column": 150
        },
        {
         "country": "Serbia",
         "beer_servings": 283,
         "spirit_servings": 131,
         "wine_servings": 127,
         "total_litres_of_pure_alcohol": 9.6,
         "continent": "EU",
         "missing_continent": "False",
         "_deepnote_index_column": 151
        },
        {
         "country": "Seychelles",
         "beer_servings": 157,
         "spirit_servings": 25,
         "wine_servings": 51,
         "total_litres_of_pure_alcohol": 4.1,
         "continent": "AF",
         "missing_continent": "False",
         "_deepnote_index_column": 152
        },
        {
         "country": "Sierra Leone",
         "beer_servings": 25,
         "spirit_servings": 3,
         "wine_servings": 2,
         "total_litres_of_pure_alcohol": 6.7,
         "continent": "AF",
         "missing_continent": "False",
         "_deepnote_index_column": 153
        },
        {
         "country": "Singapore",
         "beer_servings": 60,
         "spirit_servings": 12,
         "wine_servings": 11,
         "total_litres_of_pure_alcohol": 1.5,
         "continent": "AS",
         "missing_continent": "False",
         "_deepnote_index_column": 154
        },
        {
         "country": "Slovakia",
         "beer_servings": 196,
         "spirit_servings": 293,
         "wine_servings": 116,
         "total_litres_of_pure_alcohol": 11.4,
         "continent": "EU",
         "missing_continent": "False",
         "_deepnote_index_column": 155
        },
        {
         "country": "Slovenia",
         "beer_servings": 270,
         "spirit_servings": 51,
         "wine_servings": 276,
         "total_litres_of_pure_alcohol": 10.6,
         "continent": "EU",
         "missing_continent": "False",
         "_deepnote_index_column": 156
        },
        {
         "country": "Solomon Islands",
         "beer_servings": 56,
         "spirit_servings": 11,
         "wine_servings": 1,
         "total_litres_of_pure_alcohol": 1.2,
         "continent": "OC",
         "missing_continent": "False",
         "_deepnote_index_column": 157
        },
        {
         "country": "Somalia",
         "beer_servings": 0,
         "spirit_servings": 0,
         "wine_servings": 0,
         "total_litres_of_pure_alcohol": 0,
         "continent": "AF",
         "missing_continent": "False",
         "_deepnote_index_column": 158
        },
        {
         "country": "South Africa",
         "beer_servings": 225,
         "spirit_servings": 76,
         "wine_servings": 81,
         "total_litres_of_pure_alcohol": 8.2,
         "continent": "AF",
         "missing_continent": "False",
         "_deepnote_index_column": 159
        },
        {
         "country": "Spain",
         "beer_servings": 284,
         "spirit_servings": 157,
         "wine_servings": 112,
         "total_litres_of_pure_alcohol": 10,
         "continent": "EU",
         "missing_continent": "False",
         "_deepnote_index_column": 160
        },
        {
         "country": "Sri Lanka",
         "beer_servings": 16,
         "spirit_servings": 104,
         "wine_servings": 0,
         "total_litres_of_pure_alcohol": 2.2,
         "continent": "AS",
         "missing_continent": "False",
         "_deepnote_index_column": 161
        },
        {
         "country": "Sudan",
         "beer_servings": 8,
         "spirit_servings": 13,
         "wine_servings": 0,
         "total_litres_of_pure_alcohol": 1.7,
         "continent": "AF",
         "missing_continent": "False",
         "_deepnote_index_column": 162
        },
        {
         "country": "Suriname",
         "beer_servings": 128,
         "spirit_servings": 178,
         "wine_servings": 7,
         "total_litres_of_pure_alcohol": 5.6,
         "continent": "SA",
         "missing_continent": "False",
         "_deepnote_index_column": 163
        },
        {
         "country": "Swaziland",
         "beer_servings": 90,
         "spirit_servings": 2,
         "wine_servings": 2,
         "total_litres_of_pure_alcohol": 4.7,
         "continent": "AF",
         "missing_continent": "False",
         "_deepnote_index_column": 164
        },
        {
         "country": "Sweden",
         "beer_servings": 152,
         "spirit_servings": 60,
         "wine_servings": 186,
         "total_litres_of_pure_alcohol": 7.2,
         "continent": "EU",
         "missing_continent": "False",
         "_deepnote_index_column": 165
        },
        {
         "country": "Switzerland",
         "beer_servings": 185,
         "spirit_servings": 100,
         "wine_servings": 280,
         "total_litres_of_pure_alcohol": 10.2,
         "continent": "EU",
         "missing_continent": "False",
         "_deepnote_index_column": 166
        },
        {
         "country": "Syria",
         "beer_servings": 5,
         "spirit_servings": 35,
         "wine_servings": 16,
         "total_litres_of_pure_alcohol": 1,
         "continent": "AS",
         "missing_continent": "False",
         "_deepnote_index_column": 167
        },
        {
         "country": "Tajikistan",
         "beer_servings": 2,
         "spirit_servings": 15,
         "wine_servings": 0,
         "total_litres_of_pure_alcohol": 0.3,
         "continent": "AS",
         "missing_continent": "False",
         "_deepnote_index_column": 168
        },
        {
         "country": "Thailand",
         "beer_servings": 99,
         "spirit_servings": 258,
         "wine_servings": 1,
         "total_litres_of_pure_alcohol": 6.4,
         "continent": "AS",
         "missing_continent": "False",
         "_deepnote_index_column": 169
        },
        {
         "country": "Macedonia",
         "beer_servings": 106,
         "spirit_servings": 27,
         "wine_servings": 86,
         "total_litres_of_pure_alcohol": 3.9,
         "continent": "EU",
         "missing_continent": "False",
         "_deepnote_index_column": 170
        },
        {
         "country": "Timor-Leste",
         "beer_servings": 1,
         "spirit_servings": 1,
         "wine_servings": 4,
         "total_litres_of_pure_alcohol": 0.1,
         "continent": "AS",
         "missing_continent": "False",
         "_deepnote_index_column": 171
        },
        {
         "country": "Togo",
         "beer_servings": 36,
         "spirit_servings": 2,
         "wine_servings": 19,
         "total_litres_of_pure_alcohol": 1.3,
         "continent": "AF",
         "missing_continent": "False",
         "_deepnote_index_column": 172
        },
        {
         "country": "Tonga",
         "beer_servings": 36,
         "spirit_servings": 21,
         "wine_servings": 5,
         "total_litres_of_pure_alcohol": 1.1,
         "continent": "OC",
         "missing_continent": "False",
         "_deepnote_index_column": 173
        },
        {
         "country": "Trinidad & Tobago",
         "beer_servings": 197,
         "spirit_servings": 156,
         "wine_servings": 7,
         "total_litres_of_pure_alcohol": 6.4,
         "continent": "nan",
         "missing_continent": "True",
         "_deepnote_index_column": 174
        },
        {
         "country": "Tunisia",
         "beer_servings": 51,
         "spirit_servings": 3,
         "wine_servings": 20,
         "total_litres_of_pure_alcohol": 1.3,
         "continent": "AF",
         "missing_continent": "False",
         "_deepnote_index_column": 175
        },
        {
         "country": "Turkey",
         "beer_servings": 51,
         "spirit_servings": 22,
         "wine_servings": 7,
         "total_litres_of_pure_alcohol": 1.4,
         "continent": "AS",
         "missing_continent": "False",
         "_deepnote_index_column": 176
        },
        {
         "country": "Turkmenistan",
         "beer_servings": 19,
         "spirit_servings": 71,
         "wine_servings": 32,
         "total_litres_of_pure_alcohol": 2.2,
         "continent": "AS",
         "missing_continent": "False",
         "_deepnote_index_column": 177
        },
        {
         "country": "Tuvalu",
         "beer_servings": 6,
         "spirit_servings": 41,
         "wine_servings": 9,
         "total_litres_of_pure_alcohol": 1,
         "continent": "OC",
         "missing_continent": "False",
         "_deepnote_index_column": 178
        },
        {
         "country": "Uganda",
         "beer_servings": 45,
         "spirit_servings": 9,
         "wine_servings": 0,
         "total_litres_of_pure_alcohol": 8.3,
         "continent": "AF",
         "missing_continent": "False",
         "_deepnote_index_column": 179
        },
        {
         "country": "Ukraine",
         "beer_servings": 206,
         "spirit_servings": 237,
         "wine_servings": 45,
         "total_litres_of_pure_alcohol": 8.9,
         "continent": "EU",
         "missing_continent": "False",
         "_deepnote_index_column": 180
        },
        {
         "country": "United Arab Emirates",
         "beer_servings": 16,
         "spirit_servings": 135,
         "wine_servings": 5,
         "total_litres_of_pure_alcohol": 2.8,
         "continent": "AS",
         "missing_continent": "False",
         "_deepnote_index_column": 181
        },
        {
         "country": "United Kingdom",
         "beer_servings": 219,
         "spirit_servings": 126,
         "wine_servings": 195,
         "total_litres_of_pure_alcohol": 10.4,
         "continent": "EU",
         "missing_continent": "False",
         "_deepnote_index_column": 182
        },
        {
         "country": "Tanzania",
         "beer_servings": 36,
         "spirit_servings": 6,
         "wine_servings": 1,
         "total_litres_of_pure_alcohol": 5.7,
         "continent": "AF",
         "missing_continent": "False",
         "_deepnote_index_column": 183
        },
        {
         "country": "USA",
         "beer_servings": 249,
         "spirit_servings": 158,
         "wine_servings": 84,
         "total_litres_of_pure_alcohol": 8.7,
         "continent": "nan",
         "missing_continent": "True",
         "_deepnote_index_column": 184
        },
        {
         "country": "Uruguay",
         "beer_servings": 115,
         "spirit_servings": 35,
         "wine_servings": 220,
         "total_litres_of_pure_alcohol": 6.6,
         "continent": "SA",
         "missing_continent": "False",
         "_deepnote_index_column": 185
        },
        {
         "country": "Uzbekistan",
         "beer_servings": 25,
         "spirit_servings": 101,
         "wine_servings": 8,
         "total_litres_of_pure_alcohol": 2.4,
         "continent": "AS",
         "missing_continent": "False",
         "_deepnote_index_column": 186
        },
        {
         "country": "Vanuatu",
         "beer_servings": 21,
         "spirit_servings": 18,
         "wine_servings": 11,
         "total_litres_of_pure_alcohol": 0.9,
         "continent": "OC",
         "missing_continent": "False",
         "_deepnote_index_column": 187
        },
        {
         "country": "Venezuela",
         "beer_servings": 333,
         "spirit_servings": 100,
         "wine_servings": 3,
         "total_litres_of_pure_alcohol": 7.7,
         "continent": "SA",
         "missing_continent": "False",
         "_deepnote_index_column": 188
        },
        {
         "country": "Vietnam",
         "beer_servings": 111,
         "spirit_servings": 2,
         "wine_servings": 1,
         "total_litres_of_pure_alcohol": 2,
         "continent": "AS",
         "missing_continent": "False",
         "_deepnote_index_column": 189
        },
        {
         "country": "Yemen",
         "beer_servings": 6,
         "spirit_servings": 0,
         "wine_servings": 0,
         "total_litres_of_pure_alcohol": 0.1,
         "continent": "AS",
         "missing_continent": "False",
         "_deepnote_index_column": 190
        },
        {
         "country": "Zambia",
         "beer_servings": 32,
         "spirit_servings": 19,
         "wine_servings": 4,
         "total_litres_of_pure_alcohol": 2.5,
         "continent": "AF",
         "missing_continent": "False",
         "_deepnote_index_column": 191
        },
        {
         "country": "Zimbabwe",
         "beer_servings": 64,
         "spirit_servings": 18,
         "wine_servings": 4,
         "total_litres_of_pure_alcohol": 4.7,
         "continent": "AF",
         "missing_continent": "False",
         "_deepnote_index_column": 192
        }
       ]
      },
      "text/plain": "         country  beer_servings  spirit_servings  wine_servings  \\\n0    Afghanistan              0                0              0   \n1        Albania             89              132             54   \n2        Algeria             25                0             14   \n3        Andorra            245              138            312   \n4         Angola            217               57             45   \n..           ...            ...              ...            ...   \n188    Venezuela            333              100              3   \n189      Vietnam            111                2              1   \n190        Yemen              6                0              0   \n191       Zambia             32               19              4   \n192     Zimbabwe             64               18              4   \n\n     total_litres_of_pure_alcohol continent  missing_continent  \n0                             0.0        AS              False  \n1                             4.9        EU              False  \n2                             0.7        AF              False  \n3                            12.4        EU              False  \n4                             5.9        AF              False  \n..                            ...       ...                ...  \n188                           7.7        SA              False  \n189                           2.0        AS              False  \n190                           0.1        AS              False  \n191                           2.5        AF              False  \n192                           4.7        AF              False  \n\n[193 rows x 7 columns]",
      "text/html": "<div>\n<style scoped>\n    .dataframe tbody tr th:only-of-type {\n        vertical-align: middle;\n    }\n\n    .dataframe tbody tr th {\n        vertical-align: top;\n    }\n\n    .dataframe thead th {\n        text-align: right;\n    }\n</style>\n<table border=\"1\" class=\"dataframe\">\n  <thead>\n    <tr style=\"text-align: right;\">\n      <th></th>\n      <th>country</th>\n      <th>beer_servings</th>\n      <th>spirit_servings</th>\n      <th>wine_servings</th>\n      <th>total_litres_of_pure_alcohol</th>\n      <th>continent</th>\n      <th>missing_continent</th>\n    </tr>\n  </thead>\n  <tbody>\n    <tr>\n      <th>0</th>\n      <td>Afghanistan</td>\n      <td>0</td>\n      <td>0</td>\n      <td>0</td>\n      <td>0.0</td>\n      <td>AS</td>\n      <td>False</td>\n    </tr>\n    <tr>\n      <th>1</th>\n      <td>Albania</td>\n      <td>89</td>\n      <td>132</td>\n      <td>54</td>\n      <td>4.9</td>\n      <td>EU</td>\n      <td>False</td>\n    </tr>\n    <tr>\n      <th>2</th>\n      <td>Algeria</td>\n      <td>25</td>\n      <td>0</td>\n      <td>14</td>\n      <td>0.7</td>\n      <td>AF</td>\n      <td>False</td>\n    </tr>\n    <tr>\n      <th>3</th>\n      <td>Andorra</td>\n      <td>245</td>\n      <td>138</td>\n      <td>312</td>\n      <td>12.4</td>\n      <td>EU</td>\n      <td>False</td>\n    </tr>\n    <tr>\n      <th>4</th>\n      <td>Angola</td>\n      <td>217</td>\n      <td>57</td>\n      <td>45</td>\n      <td>5.9</td>\n      <td>AF</td>\n      <td>False</td>\n    </tr>\n    <tr>\n      <th>...</th>\n      <td>...</td>\n      <td>...</td>\n      <td>...</td>\n      <td>...</td>\n      <td>...</td>\n      <td>...</td>\n      <td>...</td>\n    </tr>\n    <tr>\n      <th>188</th>\n      <td>Venezuela</td>\n      <td>333</td>\n      <td>100</td>\n      <td>3</td>\n      <td>7.7</td>\n      <td>SA</td>\n      <td>False</td>\n    </tr>\n    <tr>\n      <th>189</th>\n      <td>Vietnam</td>\n      <td>111</td>\n      <td>2</td>\n      <td>1</td>\n      <td>2.0</td>\n      <td>AS</td>\n      <td>False</td>\n    </tr>\n    <tr>\n      <th>190</th>\n      <td>Yemen</td>\n      <td>6</td>\n      <td>0</td>\n      <td>0</td>\n      <td>0.1</td>\n      <td>AS</td>\n      <td>False</td>\n    </tr>\n    <tr>\n      <th>191</th>\n      <td>Zambia</td>\n      <td>32</td>\n      <td>19</td>\n      <td>4</td>\n      <td>2.5</td>\n      <td>AF</td>\n      <td>False</td>\n    </tr>\n    <tr>\n      <th>192</th>\n      <td>Zimbabwe</td>\n      <td>64</td>\n      <td>18</td>\n      <td>4</td>\n      <td>4.7</td>\n      <td>AF</td>\n      <td>False</td>\n    </tr>\n  </tbody>\n</table>\n<p>193 rows × 7 columns</p>\n</div>"
     },
     "metadata": {}
    }
   ]
  },
  {
   "cell_type": "code",
   "metadata": {
    "tags": [],
    "cell_id": "00009-a62c48ff-13c2-42ac-9778-c81e66c871f9",
    "deepnote_to_be_reexecuted": false,
    "source_hash": "f3dd26da",
    "execution_start": 1624985408755,
    "execution_millis": 8,
    "deepnote_cell_type": "code"
   },
   "source": "df.isnull().sum()",
   "execution_count": null,
   "outputs": [
    {
     "output_type": "execute_result",
     "execution_count": 56,
     "data": {
      "text/plain": "country                          0\nbeer_servings                    0\nspirit_servings                  0\nwine_servings                    0\ntotal_litres_of_pure_alcohol     0\ncontinent                       23\ndtype: int64"
     },
     "metadata": {}
    }
   ]
  },
  {
   "cell_type": "code",
   "metadata": {
    "tags": [],
    "cell_id": "00008-9a2d221e-9b2a-41cc-b7ca-402d166a2582",
    "deepnote_to_be_reexecuted": false,
    "source_hash": "beb8bb55",
    "execution_start": 1624985318987,
    "execution_millis": 390,
    "deepnote_cell_type": "code"
   },
   "source": "df[df[\"continent\"]==\"EU\"].hist()",
   "execution_count": null,
   "outputs": [
    {
     "output_type": "execute_result",
     "execution_count": 53,
     "data": {
      "text/plain": "array([[<AxesSubplot:title={'center':'beer_servings'}>,\n        <AxesSubplot:title={'center':'spirit_servings'}>],\n       [<AxesSubplot:title={'center':'wine_servings'}>,\n        <AxesSubplot:title={'center':'total_litres_of_pure_alcohol'}>]],\n      dtype=object)"
     },
     "metadata": {}
    },
    {
     "data": {
      "text/plain": "<Figure size 432x288 with 4 Axes>",
      "image/png": "[encoded data removed]"
     },
     "metadata": {
      "needs_background": "light",
      "image/png": {
       "width": 381,
       "height": 264
      }
     },
     "output_type": "display_data"
    }
   ]
  },
  {
   "cell_type": "code",
   "metadata": {
    "tags": [],
    "cell_id": "00003-df24d6ca-409a-4f08-b249-c50152188616",
    "deepnote_to_be_reexecuted": false,
    "source_hash": "22287e05",
    "execution_start": 1624985377648,
    "execution_millis": 2067,
    "deepnote_cell_type": "code"
   },
   "source": "i = 0\nfor group_id, dataframe in df.groupby(\"continent\"):\n    print(\"this group is \", group_id)\n    print(\"for loop number \", i)\n    print(dataframe.head())\n    dataframe.hist()\n    print(\"-----------------------------------------------\")\n    print(\"-----------------------------------------------\")\n    print(\"-----------------------------------------------\")\n    i += 1",
   "execution_count": null,
   "outputs": [
    {
     "name": "stdout",
     "text": "this group is  AF\nfor loop number  0\n         country  beer_servings  spirit_servings  wine_servings  \\\n2        Algeria             25                0             14   \n4         Angola            217               57             45   \n18         Benin             34                4             13   \n22      Botswana            173               35             35   \n26  Burkina Faso             25                7              7   \n\n    total_litres_of_pure_alcohol continent  \n2                            0.7        AF  \n4                            5.9        AF  \n18                           1.1        AF  \n22                           5.4        AF  \n26                           4.3        AF  \n-----------------------------------------------\n-----------------------------------------------\n-----------------------------------------------\nthis group is  AS\nfor loop number  1\n        country  beer_servings  spirit_servings  wine_servings  \\\n0   Afghanistan              0                0              0   \n12      Bahrain             42               63              7   \n13   Bangladesh              0                0              0   \n19       Bhutan             23                0              0   \n24       Brunei             31                2              1   \n\n    total_litres_of_pure_alcohol continent  \n0                            0.0        AS  \n12                           2.0        AS  \n13                           0.0        AS  \n19                           0.4        AS  \n24                           0.6        AS  \n-----------------------------------------------\n-----------------------------------------------\n-----------------------------------------------\nthis group is  EU\nfor loop number  2\n       country  beer_servings  spirit_servings  wine_servings  \\\n1      Albania             89              132             54   \n3      Andorra            245              138            312   \n7      Armenia             21              179             11   \n9      Austria            279               75            191   \n10  Azerbaijan             21               46              5   \n\n    total_litres_of_pure_alcohol continent  \n1                            4.9        EU  \n3                           12.4        EU  \n7                            3.8        EU  \n9                            9.7        EU  \n10                           1.3        EU  \n-----------------------------------------------\n-----------------------------------------------\n-----------------------------------------------\nthis group is  OC\nfor loop number  3\n              country  beer_servings  spirit_servings  wine_servings  \\\n8           Australia            261               72            212   \n40       Cook Islands              0              254             74   \n59               Fiji             77               35              1   \n89           Kiribati             21               34              1   \n106  Marshall Islands              0                0              0   \n\n     total_litres_of_pure_alcohol continent  \n8                            10.4        OC  \n40                            5.9        OC  \n59                            2.0        OC  \n89                            1.0        OC  \n106                           0.0        OC  \n-----------------------------------------------\n-----------------------------------------------\n-----------------------------------------------\nthis group is  SA\nfor loop number  4\n      country  beer_servings  spirit_servings  wine_servings  \\\n6   Argentina            193               25            221   \n20    Bolivia            167               41              8   \n23     Brazil            245              145             16   \n35      Chile            130              124            172   \n37   Colombia            159               76              3   \n\n    total_litres_of_pure_alcohol continent  \n6                            8.3        SA  \n20                           3.8        SA  \n23                           7.2        SA  \n35                           7.6        SA  \n37                           4.2        SA  \n-----------------------------------------------\n-----------------------------------------------\n-----------------------------------------------\n",
     "output_type": "stream"
    },
    {
     "data": {
      "text/plain": "<Figure size 432x288 with 4 Axes>",
      "image/png": "[encoded data removed]"
     },
     "metadata": {
      "needs_background": "light",
      "image/png": {
       "width": 377,
       "height": 264
      }
     },
     "output_type": "display_data"
    },
    {
     "data": {
      "text/plain": "<Figure size 432x288 with 4 Axes>",
      "image/png": "[encoded data removed]"
     },
     "metadata": {
      "needs_background": "light",
      "image/png": {
       "width": 377,
       "height": 264
      }
     },
     "output_type": "display_data"
    },
    {
     "data": {
      "text/plain": "<Figure size 432x288 with 4 Axes>",
      "image/png": "[encoded data removed]"
     },
     "metadata": {
      "needs_background": "light",
      "image/png": {
       "width": 381,
       "height": 264
      }
     },
     "output_type": "display_data"
    },
    {
     "data": {
      "text/plain": "<Figure size 432x288 with 4 Axes>",
      "image/png": "[encoded data removed]"
     },
     "metadata": {
      "needs_background": "light",
      "image/png": {
       "width": 377,
       "height": 264
      }
     },
     "output_type": "display_data"
    },
    {
     "data": {
      "text/plain": "<Figure size 432x288 with 4 Axes>",
      "image/png": "[encoded data removed]"
     },
     "metadata": {
      "needs_background": "light",
      "image/png": {
       "width": 381,
       "height": 264
      }
     },
     "output_type": "display_data"
    }
   ]
  },
  {
   "cell_type": "markdown",
   "source": "<a style='text-decoration:none;line-height:16px;display:flex;color:#5B5B62;padding:10px;justify-content:end;' href='https://deepnote.com?utm_source=created-in-deepnote-cell&projectId=7d3ce7c8-a514-49e4-9ba4-a5899ac52ea5' target=\"_blank\">\n<img alt='Created in deepnote.com' style='display:inline;max-height:16px;margin:0px;margin-right:7.5px;' src='data:image/svg+xml;base64,PD94bWwgdmVyc2lvbj0iMS4wIiBlbmNvZGluZz0iVVRGLTgiPz4KPHN2ZyB3aWR0aD0iODBweCIgaGVpZ2h0PSI4MHB4IiB2aWV3Qm94PSIwIDAgODAgODAiIHZlcnNpb249IjEuMSIgeG1sbnM9Imh0dHA6Ly93d3cudzMub3JnLzIwMDAvc3ZnIiB4bWxuczp4bGluaz0iaHR0cDovL3d3dy53My5vcmcvMTk5OS94bGluayI+CiAgICA8IS0tIEdlbmVyYXRvcjogU2tldGNoIDU0LjEgKDc2NDkwKSAtIGh0dHBzOi8vc2tldGNoYXBwLmNvbSAtLT4KICAgIDx0aXRsZT5Hcm91cCAzPC90aXRsZT4KICAgIDxkZXNjPkNyZWF0ZWQgd2l0aCBTa2V0Y2guPC9kZXNjPgogICAgPGcgaWQ9IkxhbmRpbmciIHN0cm9rZT0ibm9uZSIgc3Ryb2tlLXdpZHRoPSIxIiBmaWxsPSJub25lIiBmaWxsLXJ1bGU9ImV2ZW5vZGQiPgogICAgICAgIDxnIGlkPSJBcnRib2FyZCIgdHJhbnNmb3JtPSJ0cmFuc2xhdGUoLTEyMzUuMDAwMDAwLCAtNzkuMDAwMDAwKSI+CiAgICAgICAgICAgIDxnIGlkPSJHcm91cC0zIiB0cmFuc2Zvcm09InRyYW5zbGF0ZSgxMjM1LjAwMDAwMCwgNzkuMDAwMDAwKSI+CiAgICAgICAgICAgICAgICA8cG9seWdvbiBpZD0iUGF0aC0yMCIgZmlsbD0iIzAyNjVCNCIgcG9pbnRzPSIyLjM3NjIzNzYyIDgwIDM4LjA0NzY2NjcgODAgNTcuODIxNzgyMiA3My44MDU3NTkyIDU3LjgyMTc4MjIgMzIuNzU5MjczOSAzOS4xNDAyMjc4IDMxLjY4MzE2ODMiPjwvcG9seWdvbj4KICAgICAgICAgICAgICAgIDxwYXRoIGQ9Ik0zNS4wMDc3MTgsODAgQzQyLjkwNjIwMDcsNzYuNDU0OTM1OCA0Ny41NjQ5MTY3LDcxLjU0MjI2NzEgNDguOTgzODY2LDY1LjI2MTk5MzkgQzUxLjExMjI4OTksNTUuODQxNTg0MiA0MS42NzcxNzk1LDQ5LjIxMjIyODQgMjUuNjIzOTg0Niw0OS4yMTIyMjg0IEMyNS40ODQ5Mjg5LDQ5LjEyNjg0NDggMjkuODI2MTI5Niw0My4yODM4MjQ4IDM4LjY0NzU4NjksMzEuNjgzMTY4MyBMNzIuODcxMjg3MSwzMi41NTQ0MjUgTDY1LjI4MDk3Myw2Ny42NzYzNDIxIEw1MS4xMTIyODk5LDc3LjM3NjE0NCBMMzUuMDA3NzE4LDgwIFoiIGlkPSJQYXRoLTIyIiBmaWxsPSIjMDAyODY4Ij48L3BhdGg+CiAgICAgICAgICAgICAgICA8cGF0aCBkPSJNMCwzNy43MzA0NDA1IEwyNy4xMTQ1MzcsMC4yNTcxMTE0MzYgQzYyLjM3MTUxMjMsLTEuOTkwNzE3MDEgODAsMTAuNTAwMzkyNyA4MCwzNy43MzA0NDA1IEM4MCw2NC45NjA0ODgyIDY0Ljc3NjUwMzgsNzkuMDUwMzQxNCAzNC4zMjk1MTEzLDgwIEM0Ny4wNTUzNDg5LDc3LjU2NzA4MDggNTMuNDE4MjY3Nyw3MC4zMTM2MTAzIDUzLjQxODI2NzcsNTguMjM5NTg4NSBDNTMuNDE4MjY3Nyw0MC4xMjg1NTU3IDM2LjMwMzk1NDQsMzcuNzMwNDQwNSAyNS4yMjc0MTcsMzcuNzMwNDQwNSBDMTcuODQzMDU4NiwzNy43MzA0NDA1IDkuNDMzOTE5NjYsMzcuNzMwNDQwNSAwLDM3LjczMDQ0MDUgWiIgaWQ9IlBhdGgtMTkiIGZpbGw9IiMzNzkzRUYiPjwvcGF0aD4KICAgICAgICAgICAgPC9nPgogICAgICAgIDwvZz4KICAgIDwvZz4KPC9zdmc+' > </img>\nCreated in <span style='font-weight:600;margin-left:4px;'>Deepnote</span></a>",
   "metadata": {
    "tags": [],
    "created_in_deepnote_cell": true,
    "deepnote_cell_type": "markdown"
   }
  }
 ],
 "nbformat": 4,
 "nbformat_minor": 2,
 "metadata": {
  "orig_nbformat": 2,
  "deepnote": {
   "is_reactive": false
  },
  "deepnote_notebook_id": "b4b1d960-f8cc-4efb-8bbb-440c973bc3af",
  "deepnote_execution_queue": []
 }
}