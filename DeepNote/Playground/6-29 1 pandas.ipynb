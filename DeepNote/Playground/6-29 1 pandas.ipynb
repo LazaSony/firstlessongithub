{
 "cells": [
  {
   "cell_type": "code",
   "metadata": {
    "tags": [],
    "cell_id": "00000-ff267d3d-094c-44c0-a3c1-b77a61c1fbbf",
    "deepnote_to_be_reexecuted": false,
    "source_hash": "de46876e",
    "execution_start": 1624986574400,
    "execution_millis": 48,
    "deepnote_cell_type": "code"
   },
   "source": "import pandas as pd\nurl = 'https://raw.githubusercontent.com/justmarkham/DAT8/master/data/u.user'\ndf = pd.read_csv(url,sep=\"|\",index_col=\"user_id\")\ndf",
   "execution_count": null,
   "outputs": [
    {
     "output_type": "execute_result",
     "execution_count": 4,
     "data": {
      "application/vnd.deepnote.dataframe.v2+json": {
       "row_count": 943,
       "column_count": 4,
       "columns": [
        {
         "name": "age",
         "dtype": "int64",
         "stats": {
          "unique_count": 61,
          "nan_count": 0,
          "min": "7",
          "max": "73",
          "histogram": [
           {
            "bin_start": 7,
            "bin_end": 13.6,
            "count": 8
           },
           {
            "bin_start": 13.6,
            "bin_end": 20.2,
            "count": 101
           },
           {
            "bin_start": 20.2,
            "bin_end": 26.799999999999997,
            "count": 197
           },
           {
            "bin_start": 26.799999999999997,
            "bin_end": 33.4,
            "count": 221
           },
           {
            "bin_start": 33.4,
            "bin_end": 40,
            "count": 123
           },
           {
            "bin_start": 40,
            "bin_end": 46.599999999999994,
            "count": 115
           },
           {
            "bin_start": 46.599999999999994,
            "bin_end": 53.199999999999996,
            "count": 111
           },
           {
            "bin_start": 53.199999999999996,
            "bin_end": 59.8,
            "count": 36
           },
           {
            "bin_start": 59.8,
            "bin_end": 66.4,
            "count": 23
           },
           {
            "bin_start": 66.4,
            "bin_end": 73,
            "count": 8
           }
          ]
         }
        },
        {
         "name": "gender",
         "dtype": "object",
         "stats": {
          "unique_count": 2,
          "nan_count": 0,
          "categories": [
           {
            "name": "M",
            "count": 670
           },
           {
            "name": "F",
            "count": 273
           }
          ]
         }
        },
        {
         "name": "occupation",
         "dtype": "object",
         "stats": {
          "unique_count": 21,
          "nan_count": 0,
          "categories": [
           {
            "name": "student",
            "count": 196
           },
           {
            "name": "other",
            "count": 105
           },
           {
            "name": "19 others",
            "count": 642
           }
          ]
         }
        },
        {
         "name": "zip_code",
         "dtype": "object",
         "stats": {
          "unique_count": 795,
          "nan_count": 0,
          "categories": [
           {
            "name": "55414",
            "count": 9
           },
           {
            "name": "55105",
            "count": 6
           },
           {
            "name": "793 others",
            "count": 928
           }
          ]
         }
        },
        {
         "name": "_deepnote_index_column",
         "dtype": "int64"
        }
       ],
       "rows_top": [
        {
         "age": 24,
         "gender": "M",
         "occupation": "technician",
         "zip_code": "85711",
         "_deepnote_index_column": 1
        },
        {
         "age": 53,
         "gender": "F",
         "occupation": "other",
         "zip_code": "94043",
         "_deepnote_index_column": 2
        },
        {
         "age": 23,
         "gender": "M",
         "occupation": "writer",
         "zip_code": "32067",
         "_deepnote_index_column": 3
        },
        {
         "age": 24,
         "gender": "M",
         "occupation": "technician",
         "zip_code": "43537",
         "_deepnote_index_column": 4
        },
        {
         "age": 33,
         "gender": "F",
         "occupation": "other",
         "zip_code": "15213",
         "_deepnote_index_column": 5
        },
        {
         "age": 42,
         "gender": "M",
         "occupation": "executive",
         "zip_code": "98101",
         "_deepnote_index_column": 6
        },
        {
         "age": 57,
         "gender": "M",
         "occupation": "administrator",
         "zip_code": "91344",
         "_deepnote_index_column": 7
        },
        {
         "age": 36,
         "gender": "M",
         "occupation": "administrator",
         "zip_code": "05201",
         "_deepnote_index_column": 8
        },
        {
         "age": 29,
         "gender": "M",
         "occupation": "student",
         "zip_code": "01002",
         "_deepnote_index_column": 9
        },
        {
         "age": 53,
         "gender": "M",
         "occupation": "lawyer",
         "zip_code": "90703",
         "_deepnote_index_column": 10
        },
        {
         "age": 39,
         "gender": "F",
         "occupation": "other",
         "zip_code": "30329",
         "_deepnote_index_column": 11
        },
        {
         "age": 28,
         "gender": "F",
         "occupation": "other",
         "zip_code": "06405",
         "_deepnote_index_column": 12
        },
        {
         "age": 47,
         "gender": "M",
         "occupation": "educator",
         "zip_code": "29206",
         "_deepnote_index_column": 13
        },
        {
         "age": 45,
         "gender": "M",
         "occupation": "scientist",
         "zip_code": "55106",
         "_deepnote_index_column": 14
        },
        {
         "age": 49,
         "gender": "F",
         "occupation": "educator",
         "zip_code": "97301",
         "_deepnote_index_column": 15
        },
        {
         "age": 21,
         "gender": "M",
         "occupation": "entertainment",
         "zip_code": "10309",
         "_deepnote_index_column": 16
        },
        {
         "age": 30,
         "gender": "M",
         "occupation": "programmer",
         "zip_code": "06355",
         "_deepnote_index_column": 17
        },
        {
         "age": 35,
         "gender": "F",
         "occupation": "other",
         "zip_code": "37212",
         "_deepnote_index_column": 18
        },
        {
         "age": 40,
         "gender": "M",
         "occupation": "librarian",
         "zip_code": "02138",
         "_deepnote_index_column": 19
        },
        {
         "age": 42,
         "gender": "F",
         "occupation": "homemaker",
         "zip_code": "95660",
         "_deepnote_index_column": 20
        },
        {
         "age": 26,
         "gender": "M",
         "occupation": "writer",
         "zip_code": "30068",
         "_deepnote_index_column": 21
        },
        {
         "age": 25,
         "gender": "M",
         "occupation": "writer",
         "zip_code": "40206",
         "_deepnote_index_column": 22
        },
        {
         "age": 30,
         "gender": "F",
         "occupation": "artist",
         "zip_code": "48197",
         "_deepnote_index_column": 23
        },
        {
         "age": 21,
         "gender": "F",
         "occupation": "artist",
         "zip_code": "94533",
         "_deepnote_index_column": 24
        },
        {
         "age": 39,
         "gender": "M",
         "occupation": "engineer",
         "zip_code": "55107",
         "_deepnote_index_column": 25
        },
        {
         "age": 49,
         "gender": "M",
         "occupation": "engineer",
         "zip_code": "21044",
         "_deepnote_index_column": 26
        },
        {
         "age": 40,
         "gender": "F",
         "occupation": "librarian",
         "zip_code": "30030",
         "_deepnote_index_column": 27
        },
        {
         "age": 32,
         "gender": "M",
         "occupation": "writer",
         "zip_code": "55369",
         "_deepnote_index_column": 28
        },
        {
         "age": 41,
         "gender": "M",
         "occupation": "programmer",
         "zip_code": "94043",
         "_deepnote_index_column": 29
        },
        {
         "age": 7,
         "gender": "M",
         "occupation": "student",
         "zip_code": "55436",
         "_deepnote_index_column": 30
        },
        {
         "age": 24,
         "gender": "M",
         "occupation": "artist",
         "zip_code": "10003",
         "_deepnote_index_column": 31
        },
        {
         "age": 28,
         "gender": "F",
         "occupation": "student",
         "zip_code": "78741",
         "_deepnote_index_column": 32
        },
        {
         "age": 23,
         "gender": "M",
         "occupation": "student",
         "zip_code": "27510",
         "_deepnote_index_column": 33
        },
        {
         "age": 38,
         "gender": "F",
         "occupation": "administrator",
         "zip_code": "42141",
         "_deepnote_index_column": 34
        },
        {
         "age": 20,
         "gender": "F",
         "occupation": "homemaker",
         "zip_code": "42459",
         "_deepnote_index_column": 35
        },
        {
         "age": 19,
         "gender": "F",
         "occupation": "student",
         "zip_code": "93117",
         "_deepnote_index_column": 36
        },
        {
         "age": 23,
         "gender": "M",
         "occupation": "student",
         "zip_code": "55105",
         "_deepnote_index_column": 37
        },
        {
         "age": 28,
         "gender": "F",
         "occupation": "other",
         "zip_code": "54467",
         "_deepnote_index_column": 38
        },
        {
         "age": 41,
         "gender": "M",
         "occupation": "entertainment",
         "zip_code": "01040",
         "_deepnote_index_column": 39
        },
        {
         "age": 38,
         "gender": "M",
         "occupation": "scientist",
         "zip_code": "27514",
         "_deepnote_index_column": 40
        },
        {
         "age": 33,
         "gender": "M",
         "occupation": "engineer",
         "zip_code": "80525",
         "_deepnote_index_column": 41
        },
        {
         "age": 30,
         "gender": "M",
         "occupation": "administrator",
         "zip_code": "17870",
         "_deepnote_index_column": 42
        },
        {
         "age": 29,
         "gender": "F",
         "occupation": "librarian",
         "zip_code": "20854",
         "_deepnote_index_column": 43
        },
        {
         "age": 26,
         "gender": "M",
         "occupation": "technician",
         "zip_code": "46260",
         "_deepnote_index_column": 44
        },
        {
         "age": 29,
         "gender": "M",
         "occupation": "programmer",
         "zip_code": "50233",
         "_deepnote_index_column": 45
        },
        {
         "age": 27,
         "gender": "F",
         "occupation": "marketing",
         "zip_code": "46538",
         "_deepnote_index_column": 46
        },
        {
         "age": 53,
         "gender": "M",
         "occupation": "marketing",
         "zip_code": "07102",
         "_deepnote_index_column": 47
        },
        {
         "age": 45,
         "gender": "M",
         "occupation": "administrator",
         "zip_code": "12550",
         "_deepnote_index_column": 48
        },
        {
         "age": 23,
         "gender": "F",
         "occupation": "student",
         "zip_code": "76111",
         "_deepnote_index_column": 49
        },
        {
         "age": 21,
         "gender": "M",
         "occupation": "writer",
         "zip_code": "52245",
         "_deepnote_index_column": 50
        },
        {
         "age": 28,
         "gender": "M",
         "occupation": "educator",
         "zip_code": "16509",
         "_deepnote_index_column": 51
        },
        {
         "age": 18,
         "gender": "F",
         "occupation": "student",
         "zip_code": "55105",
         "_deepnote_index_column": 52
        },
        {
         "age": 26,
         "gender": "M",
         "occupation": "programmer",
         "zip_code": "55414",
         "_deepnote_index_column": 53
        },
        {
         "age": 22,
         "gender": "M",
         "occupation": "executive",
         "zip_code": "66315",
         "_deepnote_index_column": 54
        },
        {
         "age": 37,
         "gender": "M",
         "occupation": "programmer",
         "zip_code": "01331",
         "_deepnote_index_column": 55
        },
        {
         "age": 25,
         "gender": "M",
         "occupation": "librarian",
         "zip_code": "46260",
         "_deepnote_index_column": 56
        },
        {
         "age": 16,
         "gender": "M",
         "occupation": "none",
         "zip_code": "84010",
         "_deepnote_index_column": 57
        },
        {
         "age": 27,
         "gender": "M",
         "occupation": "programmer",
         "zip_code": "52246",
         "_deepnote_index_column": 58
        },
        {
         "age": 49,
         "gender": "M",
         "occupation": "educator",
         "zip_code": "08403",
         "_deepnote_index_column": 59
        },
        {
         "age": 50,
         "gender": "M",
         "occupation": "healthcare",
         "zip_code": "06472",
         "_deepnote_index_column": 60
        },
        {
         "age": 36,
         "gender": "M",
         "occupation": "engineer",
         "zip_code": "30040",
         "_deepnote_index_column": 61
        },
        {
         "age": 27,
         "gender": "F",
         "occupation": "administrator",
         "zip_code": "97214",
         "_deepnote_index_column": 62
        },
        {
         "age": 31,
         "gender": "M",
         "occupation": "marketing",
         "zip_code": "75240",
         "_deepnote_index_column": 63
        },
        {
         "age": 32,
         "gender": "M",
         "occupation": "educator",
         "zip_code": "43202",
         "_deepnote_index_column": 64
        },
        {
         "age": 51,
         "gender": "F",
         "occupation": "educator",
         "zip_code": "48118",
         "_deepnote_index_column": 65
        },
        {
         "age": 23,
         "gender": "M",
         "occupation": "student",
         "zip_code": "80521",
         "_deepnote_index_column": 66
        },
        {
         "age": 17,
         "gender": "M",
         "occupation": "student",
         "zip_code": "60402",
         "_deepnote_index_column": 67
        },
        {
         "age": 19,
         "gender": "M",
         "occupation": "student",
         "zip_code": "22904",
         "_deepnote_index_column": 68
        },
        {
         "age": 24,
         "gender": "M",
         "occupation": "engineer",
         "zip_code": "55337",
         "_deepnote_index_column": 69
        },
        {
         "age": 27,
         "gender": "M",
         "occupation": "engineer",
         "zip_code": "60067",
         "_deepnote_index_column": 70
        },
        {
         "age": 39,
         "gender": "M",
         "occupation": "scientist",
         "zip_code": "98034",
         "_deepnote_index_column": 71
        },
        {
         "age": 48,
         "gender": "F",
         "occupation": "administrator",
         "zip_code": "73034",
         "_deepnote_index_column": 72
        },
        {
         "age": 24,
         "gender": "M",
         "occupation": "student",
         "zip_code": "41850",
         "_deepnote_index_column": 73
        },
        {
         "age": 39,
         "gender": "M",
         "occupation": "scientist",
         "zip_code": "T8H1N",
         "_deepnote_index_column": 74
        },
        {
         "age": 24,
         "gender": "M",
         "occupation": "entertainment",
         "zip_code": "08816",
         "_deepnote_index_column": 75
        },
        {
         "age": 20,
         "gender": "M",
         "occupation": "student",
         "zip_code": "02215",
         "_deepnote_index_column": 76
        },
        {
         "age": 30,
         "gender": "M",
         "occupation": "technician",
         "zip_code": "29379",
         "_deepnote_index_column": 77
        },
        {
         "age": 26,
         "gender": "M",
         "occupation": "administrator",
         "zip_code": "61801",
         "_deepnote_index_column": 78
        },
        {
         "age": 39,
         "gender": "F",
         "occupation": "administrator",
         "zip_code": "03755",
         "_deepnote_index_column": 79
        },
        {
         "age": 34,
         "gender": "F",
         "occupation": "administrator",
         "zip_code": "52241",
         "_deepnote_index_column": 80
        },
        {
         "age": 21,
         "gender": "M",
         "occupation": "student",
         "zip_code": "21218",
         "_deepnote_index_column": 81
        },
        {
         "age": 50,
         "gender": "M",
         "occupation": "programmer",
         "zip_code": "22902",
         "_deepnote_index_column": 82
        },
        {
         "age": 40,
         "gender": "M",
         "occupation": "other",
         "zip_code": "44133",
         "_deepnote_index_column": 83
        },
        {
         "age": 32,
         "gender": "M",
         "occupation": "executive",
         "zip_code": "55369",
         "_deepnote_index_column": 84
        },
        {
         "age": 51,
         "gender": "M",
         "occupation": "educator",
         "zip_code": "20003",
         "_deepnote_index_column": 85
        },
        {
         "age": 26,
         "gender": "M",
         "occupation": "administrator",
         "zip_code": "46005",
         "_deepnote_index_column": 86
        },
        {
         "age": 47,
         "gender": "M",
         "occupation": "administrator",
         "zip_code": "89503",
         "_deepnote_index_column": 87
        },
        {
         "age": 49,
         "gender": "F",
         "occupation": "librarian",
         "zip_code": "11701",
         "_deepnote_index_column": 88
        },
        {
         "age": 43,
         "gender": "F",
         "occupation": "administrator",
         "zip_code": "68106",
         "_deepnote_index_column": 89
        },
        {
         "age": 60,
         "gender": "M",
         "occupation": "educator",
         "zip_code": "78155",
         "_deepnote_index_column": 90
        },
        {
         "age": 55,
         "gender": "M",
         "occupation": "marketing",
         "zip_code": "01913",
         "_deepnote_index_column": 91
        },
        {
         "age": 32,
         "gender": "M",
         "occupation": "entertainment",
         "zip_code": "80525",
         "_deepnote_index_column": 92
        },
        {
         "age": 48,
         "gender": "M",
         "occupation": "executive",
         "zip_code": "23112",
         "_deepnote_index_column": 93
        },
        {
         "age": 26,
         "gender": "M",
         "occupation": "student",
         "zip_code": "71457",
         "_deepnote_index_column": 94
        },
        {
         "age": 31,
         "gender": "M",
         "occupation": "administrator",
         "zip_code": "10707",
         "_deepnote_index_column": 95
        },
        {
         "age": 25,
         "gender": "F",
         "occupation": "artist",
         "zip_code": "75206",
         "_deepnote_index_column": 96
        },
        {
         "age": 43,
         "gender": "M",
         "occupation": "artist",
         "zip_code": "98006",
         "_deepnote_index_column": 97
        },
        {
         "age": 49,
         "gender": "F",
         "occupation": "executive",
         "zip_code": "90291",
         "_deepnote_index_column": 98
        },
        {
         "age": 20,
         "gender": "M",
         "occupation": "student",
         "zip_code": "63129",
         "_deepnote_index_column": 99
        },
        {
         "age": 36,
         "gender": "M",
         "occupation": "executive",
         "zip_code": "90254",
         "_deepnote_index_column": 100
        },
        {
         "age": 15,
         "gender": "M",
         "occupation": "student",
         "zip_code": "05146",
         "_deepnote_index_column": 101
        },
        {
         "age": 38,
         "gender": "M",
         "occupation": "programmer",
         "zip_code": "30220",
         "_deepnote_index_column": 102
        },
        {
         "age": 26,
         "gender": "M",
         "occupation": "student",
         "zip_code": "55108",
         "_deepnote_index_column": 103
        },
        {
         "age": 27,
         "gender": "M",
         "occupation": "student",
         "zip_code": "55108",
         "_deepnote_index_column": 104
        },
        {
         "age": 24,
         "gender": "M",
         "occupation": "engineer",
         "zip_code": "94043",
         "_deepnote_index_column": 105
        },
        {
         "age": 61,
         "gender": "M",
         "occupation": "retired",
         "zip_code": "55125",
         "_deepnote_index_column": 106
        },
        {
         "age": 39,
         "gender": "M",
         "occupation": "scientist",
         "zip_code": "60466",
         "_deepnote_index_column": 107
        },
        {
         "age": 44,
         "gender": "M",
         "occupation": "educator",
         "zip_code": "63130",
         "_deepnote_index_column": 108
        },
        {
         "age": 29,
         "gender": "M",
         "occupation": "other",
         "zip_code": "55423",
         "_deepnote_index_column": 109
        },
        {
         "age": 19,
         "gender": "M",
         "occupation": "student",
         "zip_code": "77840",
         "_deepnote_index_column": 110
        },
        {
         "age": 57,
         "gender": "M",
         "occupation": "engineer",
         "zip_code": "90630",
         "_deepnote_index_column": 111
        },
        {
         "age": 30,
         "gender": "M",
         "occupation": "salesman",
         "zip_code": "60613",
         "_deepnote_index_column": 112
        },
        {
         "age": 47,
         "gender": "M",
         "occupation": "executive",
         "zip_code": "95032",
         "_deepnote_index_column": 113
        },
        {
         "age": 27,
         "gender": "M",
         "occupation": "programmer",
         "zip_code": "75013",
         "_deepnote_index_column": 114
        },
        {
         "age": 31,
         "gender": "M",
         "occupation": "engineer",
         "zip_code": "17110",
         "_deepnote_index_column": 115
        },
        {
         "age": 40,
         "gender": "M",
         "occupation": "healthcare",
         "zip_code": "97232",
         "_deepnote_index_column": 116
        },
        {
         "age": 20,
         "gender": "M",
         "occupation": "student",
         "zip_code": "16125",
         "_deepnote_index_column": 117
        },
        {
         "age": 21,
         "gender": "M",
         "occupation": "administrator",
         "zip_code": "90210",
         "_deepnote_index_column": 118
        },
        {
         "age": 32,
         "gender": "M",
         "occupation": "programmer",
         "zip_code": "67401",
         "_deepnote_index_column": 119
        },
        {
         "age": 47,
         "gender": "F",
         "occupation": "other",
         "zip_code": "06260",
         "_deepnote_index_column": 120
        },
        {
         "age": 54,
         "gender": "M",
         "occupation": "librarian",
         "zip_code": "99603",
         "_deepnote_index_column": 121
        },
        {
         "age": 32,
         "gender": "F",
         "occupation": "writer",
         "zip_code": "22206",
         "_deepnote_index_column": 122
        },
        {
         "age": 48,
         "gender": "F",
         "occupation": "artist",
         "zip_code": "20008",
         "_deepnote_index_column": 123
        },
        {
         "age": 34,
         "gender": "M",
         "occupation": "student",
         "zip_code": "60615",
         "_deepnote_index_column": 124
        },
        {
         "age": 30,
         "gender": "M",
         "occupation": "lawyer",
         "zip_code": "22202",
         "_deepnote_index_column": 125
        }
       ],
       "rows_bottom": [
        {
         "age": 59,
         "gender": "M",
         "occupation": "administrator",
         "zip_code": "40205",
         "_deepnote_index_column": 819
        },
        {
         "age": 22,
         "gender": "M",
         "occupation": "student",
         "zip_code": "37725",
         "_deepnote_index_column": 820
        },
        {
         "age": 37,
         "gender": "M",
         "occupation": "engineer",
         "zip_code": "77845",
         "_deepnote_index_column": 821
        },
        {
         "age": 29,
         "gender": "F",
         "occupation": "librarian",
         "zip_code": "53144",
         "_deepnote_index_column": 822
        },
        {
         "age": 27,
         "gender": "M",
         "occupation": "artist",
         "zip_code": "50322",
         "_deepnote_index_column": 823
        },
        {
         "age": 31,
         "gender": "M",
         "occupation": "other",
         "zip_code": "15017",
         "_deepnote_index_column": 824
        },
        {
         "age": 44,
         "gender": "M",
         "occupation": "engineer",
         "zip_code": "05452",
         "_deepnote_index_column": 825
        },
        {
         "age": 28,
         "gender": "M",
         "occupation": "artist",
         "zip_code": "77048",
         "_deepnote_index_column": 826
        },
        {
         "age": 23,
         "gender": "F",
         "occupation": "engineer",
         "zip_code": "80228",
         "_deepnote_index_column": 827
        },
        {
         "age": 28,
         "gender": "M",
         "occupation": "librarian",
         "zip_code": "85282",
         "_deepnote_index_column": 828
        },
        {
         "age": 48,
         "gender": "M",
         "occupation": "writer",
         "zip_code": "80209",
         "_deepnote_index_column": 829
        },
        {
         "age": 46,
         "gender": "M",
         "occupation": "programmer",
         "zip_code": "53066",
         "_deepnote_index_column": 830
        },
        {
         "age": 21,
         "gender": "M",
         "occupation": "other",
         "zip_code": "33765",
         "_deepnote_index_column": 831
        },
        {
         "age": 24,
         "gender": "M",
         "occupation": "technician",
         "zip_code": "77042",
         "_deepnote_index_column": 832
        },
        {
         "age": 34,
         "gender": "M",
         "occupation": "writer",
         "zip_code": "90019",
         "_deepnote_index_column": 833
        },
        {
         "age": 26,
         "gender": "M",
         "occupation": "other",
         "zip_code": "64153",
         "_deepnote_index_column": 834
        },
        {
         "age": 44,
         "gender": "F",
         "occupation": "executive",
         "zip_code": "11577",
         "_deepnote_index_column": 835
        },
        {
         "age": 44,
         "gender": "M",
         "occupation": "artist",
         "zip_code": "10018",
         "_deepnote_index_column": 836
        },
        {
         "age": 36,
         "gender": "F",
         "occupation": "artist",
         "zip_code": "55409",
         "_deepnote_index_column": 837
        },
        {
         "age": 23,
         "gender": "M",
         "occupation": "student",
         "zip_code": "01375",
         "_deepnote_index_column": 838
        },
        {
         "age": 38,
         "gender": "F",
         "occupation": "entertainment",
         "zip_code": "90814",
         "_deepnote_index_column": 839
        },
        {
         "age": 39,
         "gender": "M",
         "occupation": "artist",
         "zip_code": "55406",
         "_deepnote_index_column": 840
        },
        {
         "age": 45,
         "gender": "M",
         "occupation": "doctor",
         "zip_code": "47401",
         "_deepnote_index_column": 841
        },
        {
         "age": 40,
         "gender": "M",
         "occupation": "writer",
         "zip_code": "93055",
         "_deepnote_index_column": 842
        },
        {
         "age": 35,
         "gender": "M",
         "occupation": "librarian",
         "zip_code": "44212",
         "_deepnote_index_column": 843
        },
        {
         "age": 22,
         "gender": "M",
         "occupation": "engineer",
         "zip_code": "95662",
         "_deepnote_index_column": 844
        },
        {
         "age": 64,
         "gender": "M",
         "occupation": "doctor",
         "zip_code": "97405",
         "_deepnote_index_column": 845
        },
        {
         "age": 27,
         "gender": "M",
         "occupation": "lawyer",
         "zip_code": "47130",
         "_deepnote_index_column": 846
        },
        {
         "age": 29,
         "gender": "M",
         "occupation": "student",
         "zip_code": "55417",
         "_deepnote_index_column": 847
        },
        {
         "age": 46,
         "gender": "M",
         "occupation": "engineer",
         "zip_code": "02146",
         "_deepnote_index_column": 848
        },
        {
         "age": 15,
         "gender": "F",
         "occupation": "student",
         "zip_code": "25652",
         "_deepnote_index_column": 849
        },
        {
         "age": 34,
         "gender": "M",
         "occupation": "technician",
         "zip_code": "78390",
         "_deepnote_index_column": 850
        },
        {
         "age": 18,
         "gender": "M",
         "occupation": "other",
         "zip_code": "29646",
         "_deepnote_index_column": 851
        },
        {
         "age": 46,
         "gender": "M",
         "occupation": "administrator",
         "zip_code": "94086",
         "_deepnote_index_column": 852
        },
        {
         "age": 49,
         "gender": "M",
         "occupation": "writer",
         "zip_code": "40515",
         "_deepnote_index_column": 853
        },
        {
         "age": 29,
         "gender": "F",
         "occupation": "student",
         "zip_code": "55408",
         "_deepnote_index_column": 854
        },
        {
         "age": 53,
         "gender": "M",
         "occupation": "librarian",
         "zip_code": "04988",
         "_deepnote_index_column": 855
        },
        {
         "age": 43,
         "gender": "F",
         "occupation": "marketing",
         "zip_code": "97215",
         "_deepnote_index_column": 856
        },
        {
         "age": 35,
         "gender": "F",
         "occupation": "administrator",
         "zip_code": "V1G4L",
         "_deepnote_index_column": 857
        },
        {
         "age": 63,
         "gender": "M",
         "occupation": "educator",
         "zip_code": "09645",
         "_deepnote_index_column": 858
        },
        {
         "age": 18,
         "gender": "F",
         "occupation": "other",
         "zip_code": "06492",
         "_deepnote_index_column": 859
        },
        {
         "age": 70,
         "gender": "F",
         "occupation": "retired",
         "zip_code": "48322",
         "_deepnote_index_column": 860
        },
        {
         "age": 38,
         "gender": "F",
         "occupation": "student",
         "zip_code": "14085",
         "_deepnote_index_column": 861
        },
        {
         "age": 25,
         "gender": "M",
         "occupation": "executive",
         "zip_code": "13820",
         "_deepnote_index_column": 862
        },
        {
         "age": 17,
         "gender": "M",
         "occupation": "student",
         "zip_code": "60089",
         "_deepnote_index_column": 863
        },
        {
         "age": 27,
         "gender": "M",
         "occupation": "programmer",
         "zip_code": "63021",
         "_deepnote_index_column": 864
        },
        {
         "age": 25,
         "gender": "M",
         "occupation": "artist",
         "zip_code": "11231",
         "_deepnote_index_column": 865
        },
        {
         "age": 45,
         "gender": "M",
         "occupation": "other",
         "zip_code": "60302",
         "_deepnote_index_column": 866
        },
        {
         "age": 24,
         "gender": "M",
         "occupation": "scientist",
         "zip_code": "92507",
         "_deepnote_index_column": 867
        },
        {
         "age": 21,
         "gender": "M",
         "occupation": "programmer",
         "zip_code": "55303",
         "_deepnote_index_column": 868
        },
        {
         "age": 30,
         "gender": "M",
         "occupation": "student",
         "zip_code": "10025",
         "_deepnote_index_column": 869
        },
        {
         "age": 22,
         "gender": "M",
         "occupation": "student",
         "zip_code": "65203",
         "_deepnote_index_column": 870
        },
        {
         "age": 31,
         "gender": "M",
         "occupation": "executive",
         "zip_code": "44648",
         "_deepnote_index_column": 871
        },
        {
         "age": 19,
         "gender": "F",
         "occupation": "student",
         "zip_code": "74078",
         "_deepnote_index_column": 872
        },
        {
         "age": 48,
         "gender": "F",
         "occupation": "administrator",
         "zip_code": "33763",
         "_deepnote_index_column": 873
        },
        {
         "age": 36,
         "gender": "M",
         "occupation": "scientist",
         "zip_code": "37076",
         "_deepnote_index_column": 874
        },
        {
         "age": 24,
         "gender": "F",
         "occupation": "student",
         "zip_code": "35802",
         "_deepnote_index_column": 875
        },
        {
         "age": 41,
         "gender": "M",
         "occupation": "other",
         "zip_code": "20902",
         "_deepnote_index_column": 876
        },
        {
         "age": 30,
         "gender": "M",
         "occupation": "other",
         "zip_code": "77504",
         "_deepnote_index_column": 877
        },
        {
         "age": 50,
         "gender": "F",
         "occupation": "educator",
         "zip_code": "98027",
         "_deepnote_index_column": 878
        },
        {
         "age": 33,
         "gender": "F",
         "occupation": "administrator",
         "zip_code": "55337",
         "_deepnote_index_column": 879
        },
        {
         "age": 13,
         "gender": "M",
         "occupation": "student",
         "zip_code": "83702",
         "_deepnote_index_column": 880
        },
        {
         "age": 39,
         "gender": "M",
         "occupation": "marketing",
         "zip_code": "43017",
         "_deepnote_index_column": 881
        },
        {
         "age": 35,
         "gender": "M",
         "occupation": "engineer",
         "zip_code": "40503",
         "_deepnote_index_column": 882
        },
        {
         "age": 49,
         "gender": "M",
         "occupation": "librarian",
         "zip_code": "50266",
         "_deepnote_index_column": 883
        },
        {
         "age": 44,
         "gender": "M",
         "occupation": "engineer",
         "zip_code": "55337",
         "_deepnote_index_column": 884
        },
        {
         "age": 30,
         "gender": "F",
         "occupation": "other",
         "zip_code": "95316",
         "_deepnote_index_column": 885
        },
        {
         "age": 20,
         "gender": "M",
         "occupation": "student",
         "zip_code": "61820",
         "_deepnote_index_column": 886
        },
        {
         "age": 14,
         "gender": "F",
         "occupation": "student",
         "zip_code": "27249",
         "_deepnote_index_column": 887
        },
        {
         "age": 41,
         "gender": "M",
         "occupation": "scientist",
         "zip_code": "17036",
         "_deepnote_index_column": 888
        },
        {
         "age": 24,
         "gender": "M",
         "occupation": "technician",
         "zip_code": "78704",
         "_deepnote_index_column": 889
        },
        {
         "age": 32,
         "gender": "M",
         "occupation": "student",
         "zip_code": "97301",
         "_deepnote_index_column": 890
        },
        {
         "age": 51,
         "gender": "F",
         "occupation": "administrator",
         "zip_code": "03062",
         "_deepnote_index_column": 891
        },
        {
         "age": 36,
         "gender": "M",
         "occupation": "other",
         "zip_code": "45243",
         "_deepnote_index_column": 892
        },
        {
         "age": 25,
         "gender": "M",
         "occupation": "student",
         "zip_code": "95823",
         "_deepnote_index_column": 893
        },
        {
         "age": 47,
         "gender": "M",
         "occupation": "educator",
         "zip_code": "74075",
         "_deepnote_index_column": 894
        },
        {
         "age": 31,
         "gender": "F",
         "occupation": "librarian",
         "zip_code": "32301",
         "_deepnote_index_column": 895
        },
        {
         "age": 28,
         "gender": "M",
         "occupation": "writer",
         "zip_code": "91505",
         "_deepnote_index_column": 896
        },
        {
         "age": 30,
         "gender": "M",
         "occupation": "other",
         "zip_code": "33484",
         "_deepnote_index_column": 897
        },
        {
         "age": 23,
         "gender": "M",
         "occupation": "homemaker",
         "zip_code": "61755",
         "_deepnote_index_column": 898
        },
        {
         "age": 32,
         "gender": "M",
         "occupation": "other",
         "zip_code": "55116",
         "_deepnote_index_column": 899
        },
        {
         "age": 60,
         "gender": "M",
         "occupation": "retired",
         "zip_code": "18505",
         "_deepnote_index_column": 900
        },
        {
         "age": 38,
         "gender": "M",
         "occupation": "executive",
         "zip_code": "L1V3W",
         "_deepnote_index_column": 901
        },
        {
         "age": 45,
         "gender": "F",
         "occupation": "artist",
         "zip_code": "97203",
         "_deepnote_index_column": 902
        },
        {
         "age": 28,
         "gender": "M",
         "occupation": "educator",
         "zip_code": "20850",
         "_deepnote_index_column": 903
        },
        {
         "age": 17,
         "gender": "F",
         "occupation": "student",
         "zip_code": "61073",
         "_deepnote_index_column": 904
        },
        {
         "age": 27,
         "gender": "M",
         "occupation": "other",
         "zip_code": "30350",
         "_deepnote_index_column": 905
        },
        {
         "age": 45,
         "gender": "M",
         "occupation": "librarian",
         "zip_code": "70124",
         "_deepnote_index_column": 906
        },
        {
         "age": 25,
         "gender": "F",
         "occupation": "other",
         "zip_code": "80526",
         "_deepnote_index_column": 907
        },
        {
         "age": 44,
         "gender": "F",
         "occupation": "librarian",
         "zip_code": "68504",
         "_deepnote_index_column": 908
        },
        {
         "age": 50,
         "gender": "F",
         "occupation": "educator",
         "zip_code": "53171",
         "_deepnote_index_column": 909
        },
        {
         "age": 28,
         "gender": "M",
         "occupation": "healthcare",
         "zip_code": "29301",
         "_deepnote_index_column": 910
        },
        {
         "age": 37,
         "gender": "F",
         "occupation": "writer",
         "zip_code": "53210",
         "_deepnote_index_column": 911
        },
        {
         "age": 51,
         "gender": "M",
         "occupation": "other",
         "zip_code": "06512",
         "_deepnote_index_column": 912
        },
        {
         "age": 27,
         "gender": "M",
         "occupation": "student",
         "zip_code": "76201",
         "_deepnote_index_column": 913
        },
        {
         "age": 44,
         "gender": "F",
         "occupation": "other",
         "zip_code": "08105",
         "_deepnote_index_column": 914
        },
        {
         "age": 50,
         "gender": "M",
         "occupation": "entertainment",
         "zip_code": "60614",
         "_deepnote_index_column": 915
        },
        {
         "age": 27,
         "gender": "M",
         "occupation": "engineer",
         "zip_code": "N2L5N",
         "_deepnote_index_column": 916
        },
        {
         "age": 22,
         "gender": "F",
         "occupation": "student",
         "zip_code": "20006",
         "_deepnote_index_column": 917
        },
        {
         "age": 40,
         "gender": "M",
         "occupation": "scientist",
         "zip_code": "70116",
         "_deepnote_index_column": 918
        },
        {
         "age": 25,
         "gender": "M",
         "occupation": "other",
         "zip_code": "14216",
         "_deepnote_index_column": 919
        },
        {
         "age": 30,
         "gender": "F",
         "occupation": "artist",
         "zip_code": "90008",
         "_deepnote_index_column": 920
        },
        {
         "age": 20,
         "gender": "F",
         "occupation": "student",
         "zip_code": "98801",
         "_deepnote_index_column": 921
        },
        {
         "age": 29,
         "gender": "F",
         "occupation": "administrator",
         "zip_code": "21114",
         "_deepnote_index_column": 922
        },
        {
         "age": 21,
         "gender": "M",
         "occupation": "student",
         "zip_code": "E2E3R",
         "_deepnote_index_column": 923
        },
        {
         "age": 29,
         "gender": "M",
         "occupation": "other",
         "zip_code": "11753",
         "_deepnote_index_column": 924
        },
        {
         "age": 18,
         "gender": "F",
         "occupation": "salesman",
         "zip_code": "49036",
         "_deepnote_index_column": 925
        },
        {
         "age": 49,
         "gender": "M",
         "occupation": "entertainment",
         "zip_code": "01701",
         "_deepnote_index_column": 926
        },
        {
         "age": 23,
         "gender": "M",
         "occupation": "programmer",
         "zip_code": "55428",
         "_deepnote_index_column": 927
        },
        {
         "age": 21,
         "gender": "M",
         "occupation": "student",
         "zip_code": "55408",
         "_deepnote_index_column": 928
        },
        {
         "age": 44,
         "gender": "M",
         "occupation": "scientist",
         "zip_code": "53711",
         "_deepnote_index_column": 929
        },
        {
         "age": 28,
         "gender": "F",
         "occupation": "scientist",
         "zip_code": "07310",
         "_deepnote_index_column": 930
        },
        {
         "age": 60,
         "gender": "M",
         "occupation": "educator",
         "zip_code": "33556",
         "_deepnote_index_column": 931
        },
        {
         "age": 58,
         "gender": "M",
         "occupation": "educator",
         "zip_code": "06437",
         "_deepnote_index_column": 932
        },
        {
         "age": 28,
         "gender": "M",
         "occupation": "student",
         "zip_code": "48105",
         "_deepnote_index_column": 933
        },
        {
         "age": 61,
         "gender": "M",
         "occupation": "engineer",
         "zip_code": "22902",
         "_deepnote_index_column": 934
        },
        {
         "age": 42,
         "gender": "M",
         "occupation": "doctor",
         "zip_code": "66221",
         "_deepnote_index_column": 935
        },
        {
         "age": 24,
         "gender": "M",
         "occupation": "other",
         "zip_code": "32789",
         "_deepnote_index_column": 936
        },
        {
         "age": 48,
         "gender": "M",
         "occupation": "educator",
         "zip_code": "98072",
         "_deepnote_index_column": 937
        },
        {
         "age": 38,
         "gender": "F",
         "occupation": "technician",
         "zip_code": "55038",
         "_deepnote_index_column": 938
        },
        {
         "age": 26,
         "gender": "F",
         "occupation": "student",
         "zip_code": "33319",
         "_deepnote_index_column": 939
        },
        {
         "age": 32,
         "gender": "M",
         "occupation": "administrator",
         "zip_code": "02215",
         "_deepnote_index_column": 940
        },
        {
         "age": 20,
         "gender": "M",
         "occupation": "student",
         "zip_code": "97229",
         "_deepnote_index_column": 941
        },
        {
         "age": 48,
         "gender": "F",
         "occupation": "librarian",
         "zip_code": "78209",
         "_deepnote_index_column": 942
        },
        {
         "age": 22,
         "gender": "M",
         "occupation": "student",
         "zip_code": "77841",
         "_deepnote_index_column": 943
        }
       ]
      },
      "text/plain": "         age gender     occupation zip_code\nuser_id                                    \n1         24      M     technician    85711\n2         53      F          other    94043\n3         23      M         writer    32067\n4         24      M     technician    43537\n5         33      F          other    15213\n...      ...    ...            ...      ...\n939       26      F        student    33319\n940       32      M  administrator    02215\n941       20      M        student    97229\n942       48      F      librarian    78209\n943       22      M        student    77841\n\n[943 rows x 4 columns]",
      "text/html": "<div>\n<style scoped>\n    .dataframe tbody tr th:only-of-type {\n        vertical-align: middle;\n    }\n\n    .dataframe tbody tr th {\n        vertical-align: top;\n    }\n\n    .dataframe thead th {\n        text-align: right;\n    }\n</style>\n<table border=\"1\" class=\"dataframe\">\n  <thead>\n    <tr style=\"text-align: right;\">\n      <th></th>\n      <th>age</th>\n      <th>gender</th>\n      <th>occupation</th>\n      <th>zip_code</th>\n    </tr>\n    <tr>\n      <th>user_id</th>\n      <th></th>\n      <th></th>\n      <th></th>\n      <th></th>\n    </tr>\n  </thead>\n  <tbody>\n    <tr>\n      <th>1</th>\n      <td>24</td>\n      <td>M</td>\n      <td>technician</td>\n      <td>85711</td>\n    </tr>\n    <tr>\n      <th>2</th>\n      <td>53</td>\n      <td>F</td>\n      <td>other</td>\n      <td>94043</td>\n    </tr>\n    <tr>\n      <th>3</th>\n      <td>23</td>\n      <td>M</td>\n      <td>writer</td>\n      <td>32067</td>\n    </tr>\n    <tr>\n      <th>4</th>\n      <td>24</td>\n      <td>M</td>\n      <td>technician</td>\n      <td>43537</td>\n    </tr>\n    <tr>\n      <th>5</th>\n      <td>33</td>\n      <td>F</td>\n      <td>other</td>\n      <td>15213</td>\n    </tr>\n    <tr>\n      <th>...</th>\n      <td>...</td>\n      <td>...</td>\n      <td>...</td>\n      <td>...</td>\n    </tr>\n    <tr>\n      <th>939</th>\n      <td>26</td>\n      <td>F</td>\n      <td>student</td>\n      <td>33319</td>\n    </tr>\n    <tr>\n      <th>940</th>\n      <td>32</td>\n      <td>M</td>\n      <td>administrator</td>\n      <td>02215</td>\n    </tr>\n    <tr>\n      <th>941</th>\n      <td>20</td>\n      <td>M</td>\n      <td>student</td>\n      <td>97229</td>\n    </tr>\n    <tr>\n      <th>942</th>\n      <td>48</td>\n      <td>F</td>\n      <td>librarian</td>\n      <td>78209</td>\n    </tr>\n    <tr>\n      <th>943</th>\n      <td>22</td>\n      <td>M</td>\n      <td>student</td>\n      <td>77841</td>\n    </tr>\n  </tbody>\n</table>\n<p>943 rows × 4 columns</p>\n</div>"
     },
     "metadata": {}
    }
   ]
  },
  {
   "cell_type": "code",
   "metadata": {
    "tags": [],
    "cell_id": "00001-d2462bf6-85cc-43cd-a09f-12cadcf892cc",
    "deepnote_to_be_reexecuted": false,
    "source_hash": "5f563f21",
    "execution_start": 1624986932293,
    "execution_millis": 10,
    "deepnote_cell_type": "code"
   },
   "source": "#df_without_null = df[~df[\"occupation\"].isnull()]\ndf_without_null.head(1)\n\ndf.dropna()",
   "execution_count": null,
   "outputs": [
    {
     "output_type": "execute_result",
     "execution_count": 28,
     "data": {
      "application/vnd.deepnote.dataframe.v2+json": {
       "row_count": 1,
       "column_count": 4,
       "columns": [
        {
         "name": "age",
         "dtype": "int64",
         "stats": {
          "unique_count": 1,
          "nan_count": 0,
          "min": "24",
          "max": "24",
          "histogram": [
           {
            "bin_start": 23.5,
            "bin_end": 23.6,
            "count": 0
           },
           {
            "bin_start": 23.6,
            "bin_end": 23.7,
            "count": 0
           },
           {
            "bin_start": 23.7,
            "bin_end": 23.8,
            "count": 0
           },
           {
            "bin_start": 23.8,
            "bin_end": 23.9,
            "count": 0
           },
           {
            "bin_start": 23.9,
            "bin_end": 24,
            "count": 0
           },
           {
            "bin_start": 24,
            "bin_end": 24.1,
            "count": 1
           },
           {
            "bin_start": 24.1,
            "bin_end": 24.2,
            "count": 0
           },
           {
            "bin_start": 24.2,
            "bin_end": 24.3,
            "count": 0
           },
           {
            "bin_start": 24.3,
            "bin_end": 24.4,
            "count": 0
           },
           {
            "bin_start": 24.4,
            "bin_end": 24.5,
            "count": 0
           }
          ]
         }
        },
        {
         "name": "gender",
         "dtype": "object",
         "stats": {
          "unique_count": 1,
          "nan_count": 0,
          "categories": [
           {
            "name": "M",
            "count": 1
           }
          ]
         }
        },
        {
         "name": "occupation",
         "dtype": "object",
         "stats": {
          "unique_count": 1,
          "nan_count": 0,
          "categories": [
           {
            "name": "technician",
            "count": 1
           }
          ]
         }
        },
        {
         "name": "zip_code",
         "dtype": "object",
         "stats": {
          "unique_count": 1,
          "nan_count": 0,
          "categories": [
           {
            "name": "85711",
            "count": 1
           }
          ]
         }
        },
        {
         "name": "_deepnote_index_column",
         "dtype": "int64"
        }
       ],
       "rows_top": [
        {
         "age": 24,
         "gender": "M",
         "occupation": "technician",
         "zip_code": "85711",
         "_deepnote_index_column": 1
        }
       ],
       "rows_bottom": null
      },
      "text/plain": "         age gender  occupation zip_code\nuser_id                                 \n1         24      M  technician    85711",
      "text/html": "<div>\n<style scoped>\n    .dataframe tbody tr th:only-of-type {\n        vertical-align: middle;\n    }\n\n    .dataframe tbody tr th {\n        vertical-align: top;\n    }\n\n    .dataframe thead th {\n        text-align: right;\n    }\n</style>\n<table border=\"1\" class=\"dataframe\">\n  <thead>\n    <tr style=\"text-align: right;\">\n      <th></th>\n      <th>age</th>\n      <th>gender</th>\n      <th>occupation</th>\n      <th>zip_code</th>\n    </tr>\n    <tr>\n      <th>user_id</th>\n      <th></th>\n      <th></th>\n      <th></th>\n      <th></th>\n    </tr>\n  </thead>\n  <tbody>\n    <tr>\n      <th>1</th>\n      <td>24</td>\n      <td>M</td>\n      <td>technician</td>\n      <td>85711</td>\n    </tr>\n  </tbody>\n</table>\n</div>"
     },
     "metadata": {}
    }
   ]
  },
  {
   "cell_type": "code",
   "metadata": {
    "tags": [],
    "cell_id": "00002-13340d38-87ee-4231-a0b7-a16147446881",
    "deepnote_cell_type": "code"
   },
   "source": "df.drop_duplicates()",
   "execution_count": null,
   "outputs": []
  },
  {
   "cell_type": "code",
   "metadata": {
    "tags": [],
    "cell_id": "00001-d62acfa9-f8ab-4dbd-9bf2-b28a1d965bbc",
    "deepnote_to_be_reexecuted": false,
    "source_hash": "def6367a",
    "execution_start": 1624986645235,
    "execution_millis": 13,
    "deepnote_cell_type": "code"
   },
   "source": "df[\"occupation\"].value_counts()",
   "execution_count": null,
   "outputs": [
    {
     "output_type": "execute_result",
     "execution_count": 6,
     "data": {
      "text/plain": "student          196\nother            105\neducator          95\nadministrator     79\nengineer          67\nprogrammer        66\nlibrarian         51\nwriter            45\nexecutive         32\nscientist         31\nartist            28\ntechnician        27\nmarketing         26\nentertainment     18\nhealthcare        16\nretired           14\nsalesman          12\nlawyer            12\nnone               9\nhomemaker          7\ndoctor             7\nName: occupation, dtype: int64"
     },
     "metadata": {}
    }
   ]
  },
  {
   "cell_type": "code",
   "metadata": {
    "tags": [],
    "cell_id": "00004-86eeb994-1f47-4423-bd31-e344238d72f2",
    "deepnote_to_be_reexecuted": false,
    "source_hash": "3906fdfa",
    "execution_start": 1624987180416,
    "execution_millis": 19,
    "deepnote_cell_type": "code"
   },
   "source": "df[\"age\"].sort_values()",
   "execution_count": null,
   "outputs": [
    {
     "output_type": "execute_result",
     "execution_count": 38,
     "data": {
      "text/plain": "user_id\n30      7\n471    10\n289    11\n880    13\n609    13\n       ..\n585    69\n767    70\n803    70\n860    70\n481    73\nName: age, Length: 943, dtype: int64"
     },
     "metadata": {}
    }
   ]
  },
  {
   "cell_type": "code",
   "metadata": {
    "tags": [],
    "cell_id": "00004-e5052bc4-3729-4827-bd0a-61f161756138",
    "deepnote_to_be_reexecuted": false,
    "source_hash": "f6eb08d5",
    "execution_start": 1624987390475,
    "execution_millis": 21,
    "deepnote_cell_type": "code"
   },
   "source": "df.groupby(\"occupation\").mean().round(0).sort_values(['age'])",
   "execution_count": null,
   "outputs": [
    {
     "output_type": "execute_result",
     "execution_count": 53,
     "data": {
      "application/vnd.deepnote.dataframe.v2+json": {
       "row_count": 21,
       "column_count": 1,
       "columns": [
        {
         "name": "age",
         "dtype": "float64",
         "stats": {
          "unique_count": 14,
          "nan_count": 0,
          "min": "22.0",
          "max": "63.0",
          "histogram": [
           {
            "bin_start": 22,
            "bin_end": 26.1,
            "count": 1
           },
           {
            "bin_start": 26.1,
            "bin_end": 30.2,
            "count": 2
           },
           {
            "bin_start": 30.2,
            "bin_end": 34.3,
            "count": 4
           },
           {
            "bin_start": 34.3,
            "bin_end": 38.4,
            "count": 7
           },
           {
            "bin_start": 38.4,
            "bin_end": 42.5,
            "count": 5
           },
           {
            "bin_start": 42.5,
            "bin_end": 46.599999999999994,
            "count": 1
           },
           {
            "bin_start": 46.599999999999994,
            "bin_end": 50.699999999999996,
            "count": 0
           },
           {
            "bin_start": 50.699999999999996,
            "bin_end": 54.8,
            "count": 0
           },
           {
            "bin_start": 54.8,
            "bin_end": 58.9,
            "count": 0
           },
           {
            "bin_start": 58.9,
            "bin_end": 63,
            "count": 1
           }
          ]
         }
        },
        {
         "name": "_deepnote_index_column",
         "dtype": "object"
        }
       ],
       "rows_top": [
        {
         "age": 22,
         "_deepnote_index_column": "student"
        },
        {
         "age": 27,
         "_deepnote_index_column": "none"
        },
        {
         "age": 29,
         "_deepnote_index_column": "entertainment"
        },
        {
         "age": 31,
         "_deepnote_index_column": "artist"
        },
        {
         "age": 33,
         "_deepnote_index_column": "programmer"
        },
        {
         "age": 33,
         "_deepnote_index_column": "homemaker"
        },
        {
         "age": 33,
         "_deepnote_index_column": "technician"
        },
        {
         "age": 35,
         "_deepnote_index_column": "other"
        },
        {
         "age": 36,
         "_deepnote_index_column": "writer"
        },
        {
         "age": 36,
         "_deepnote_index_column": "scientist"
        },
        {
         "age": 36,
         "_deepnote_index_column": "engineer"
        },
        {
         "age": 36,
         "_deepnote_index_column": "salesman"
        },
        {
         "age": 37,
         "_deepnote_index_column": "lawyer"
        },
        {
         "age": 38,
         "_deepnote_index_column": "marketing"
        },
        {
         "age": 39,
         "_deepnote_index_column": "administrator"
        },
        {
         "age": 39,
         "_deepnote_index_column": "executive"
        },
        {
         "age": 40,
         "_deepnote_index_column": "librarian"
        },
        {
         "age": 42,
         "_deepnote_index_column": "educator"
        },
        {
         "age": 42,
         "_deepnote_index_column": "healthcare"
        },
        {
         "age": 44,
         "_deepnote_index_column": "doctor"
        },
        {
         "age": 63,
         "_deepnote_index_column": "retired"
        }
       ],
       "rows_bottom": null
      },
      "text/plain": "                age\noccupation         \nstudent        22.0\nnone           27.0\nentertainment  29.0\nartist         31.0\nprogrammer     33.0\nhomemaker      33.0\ntechnician     33.0\nother          35.0\nwriter         36.0\nscientist      36.0\nengineer       36.0\nsalesman       36.0\nlawyer         37.0\nmarketing      38.0\nadministrator  39.0\nexecutive      39.0\nlibrarian      40.0\neducator       42.0\nhealthcare     42.0\ndoctor         44.0\nretired        63.0",
      "text/html": "<div>\n<style scoped>\n    .dataframe tbody tr th:only-of-type {\n        vertical-align: middle;\n    }\n\n    .dataframe tbody tr th {\n        vertical-align: top;\n    }\n\n    .dataframe thead th {\n        text-align: right;\n    }\n</style>\n<table border=\"1\" class=\"dataframe\">\n  <thead>\n    <tr style=\"text-align: right;\">\n      <th></th>\n      <th>age</th>\n    </tr>\n    <tr>\n      <th>occupation</th>\n      <th></th>\n    </tr>\n  </thead>\n  <tbody>\n    <tr>\n      <th>student</th>\n      <td>22.0</td>\n    </tr>\n    <tr>\n      <th>none</th>\n      <td>27.0</td>\n    </tr>\n    <tr>\n      <th>entertainment</th>\n      <td>29.0</td>\n    </tr>\n    <tr>\n      <th>artist</th>\n      <td>31.0</td>\n    </tr>\n    <tr>\n      <th>programmer</th>\n      <td>33.0</td>\n    </tr>\n    <tr>\n      <th>homemaker</th>\n      <td>33.0</td>\n    </tr>\n    <tr>\n      <th>technician</th>\n      <td>33.0</td>\n    </tr>\n    <tr>\n      <th>other</th>\n      <td>35.0</td>\n    </tr>\n    <tr>\n      <th>writer</th>\n      <td>36.0</td>\n    </tr>\n    <tr>\n      <th>scientist</th>\n      <td>36.0</td>\n    </tr>\n    <tr>\n      <th>engineer</th>\n      <td>36.0</td>\n    </tr>\n    <tr>\n      <th>salesman</th>\n      <td>36.0</td>\n    </tr>\n    <tr>\n      <th>lawyer</th>\n      <td>37.0</td>\n    </tr>\n    <tr>\n      <th>marketing</th>\n      <td>38.0</td>\n    </tr>\n    <tr>\n      <th>administrator</th>\n      <td>39.0</td>\n    </tr>\n    <tr>\n      <th>executive</th>\n      <td>39.0</td>\n    </tr>\n    <tr>\n      <th>librarian</th>\n      <td>40.0</td>\n    </tr>\n    <tr>\n      <th>educator</th>\n      <td>42.0</td>\n    </tr>\n    <tr>\n      <th>healthcare</th>\n      <td>42.0</td>\n    </tr>\n    <tr>\n      <th>doctor</th>\n      <td>44.0</td>\n    </tr>\n    <tr>\n      <th>retired</th>\n      <td>63.0</td>\n    </tr>\n  </tbody>\n</table>\n</div>"
     },
     "metadata": {}
    }
   ]
  },
  {
   "cell_type": "code",
   "metadata": {
    "tags": [],
    "cell_id": "00006-14b5a723-6fe7-4eea-a721-08c0b9506655",
    "deepnote_cell_type": "code"
   },
   "source": "",
   "execution_count": null,
   "outputs": []
  },
  {
   "cell_type": "markdown",
   "source": "<a style='text-decoration:none;line-height:16px;display:flex;color:#5B5B62;padding:10px;justify-content:end;' href='https://deepnote.com?utm_source=created-in-deepnote-cell&projectId=7d3ce7c8-a514-49e4-9ba4-a5899ac52ea5' target=\"_blank\">\n<img alt='Created in deepnote.com' style='display:inline;max-height:16px;margin:0px;margin-right:7.5px;' src='data:image/svg+xml;base64,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' > </img>\nCreated in <span style='font-weight:600;margin-left:4px;'>Deepnote</span></a>",
   "metadata": {
    "tags": [],
    "created_in_deepnote_cell": true,
    "deepnote_cell_type": "markdown"
   }
  }
 ],
 "nbformat": 4,
 "nbformat_minor": 2,
 "metadata": {
  "orig_nbformat": 2,
  "deepnote": {
   "is_reactive": false
  },
  "deepnote_notebook_id": "4f8da8a1-a628-4f26-a677-22bd3fdf13a7",
  "deepnote_execution_queue": []
 }
}