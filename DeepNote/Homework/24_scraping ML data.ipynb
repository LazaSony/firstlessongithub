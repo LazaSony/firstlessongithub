{
 "cells": [
  {
   "cell_type": "markdown",
   "source": "Objective is to scrape rotten tomatoes:https://www.rottentomatoes.com/top/bestofrt/?year=2021\nscrape this page for years 2010-2021\n\nGet all the links from the page to these pages of the movies. (<a href=\"..\" tag)\n\nAnd then on every single page of the movie find:\n\n* title\n\n* rotten tomatoes score\n* rotten tomatoes score number of  reviews\n* audience score\n* audience sore number of reviews\n\n* everything from \"MOVIE INFO\" section\n\nSave it in a list and at the end convert to pandas, and save the csv.\n\nUse try: except:\n\nFirst, create a function that scrapes everything in the year 2021\n\nonce that is working, take one movie link, for example: https://www.rottentomatoes.com/m/nomadland and scrape things from there.\n\nmake a function that converts scraped results to pandas, and then saves it to a csv.\n\nonce that is working, modify the function that scrapes 2021 year movie links, to scrape 2010-2021, and then let it srape everything.\n\nGoogle is your friend.\n\nIf you still need help, I show you how to do it at the bottom of the notebook.\n\nYou might need a bit of help with the things inside movie info section, try it yourself/google first, if you can't continue, see my example.\n\nYou might need to add 1-4 seconds wait after you scrape every page.\n",
   "metadata": {
    "tags": [],
    "cell_id": "00000-b9b717e9-1b35-4b1b-bae3-c4d7708ff57a",
    "deepnote_cell_type": "markdown"
   }
  },
  {
   "cell_type": "code",
   "metadata": {
    "tags": [],
    "cell_id": "00000-93c6780d-a5ac-4dcf-b1a0-35bea36f88ed",
    "deepnote_to_be_reexecuted": false,
    "source_hash": "8d47743",
    "execution_start": 1632745137772,
    "execution_millis": 15964,
    "deepnote_cell_type": "code"
   },
   "source": "!pip install -q bs4\n!pip install -q httplib2\n\n#Load Packages\nimport pandas as pd\nimport numpy as np\nimport re\nfrom bs4 import BeautifulSoup\nfrom urllib.parse import urlparse\nimport urllib.request\nimport requests\nprint(\"Packages loaded\")\nimport time\nimport random",
   "execution_count": null,
   "outputs": [
    {
     "name": "stdout",
     "text": "Packages loaded\n",
     "output_type": "stream"
    }
   ]
  },
  {
   "cell_type": "code",
   "metadata": {
    "tags": [],
    "cell_id": "00002-abeea2a9-9e52-4645-9627-26d0923fe6ce",
    "deepnote_cell_type": "code"
   },
   "source": "class ScrapeRottenTomatoes():\n    PAGES = range(2010,2011)\n    PAGE_BASE = \"https://www.rottentomatoes.com/\"\n\n    def __init__(self,continue_scraping=False):\n        self.write_new_save_file(continue_scraping)\n        self.links_to_scrape = self.get_links_to_scrape()\n        self.df_rotten = self.scrape_index_page()\n\n    def write_new_save_file(self,continue_scraping):\n        if continue_scraping:\n            pass\n        else:\n            with open(\"/work/data/homework 24/rotten.csv\",\"w\") as file_object:\n                file_object.write(\"\")\n\n    def get_links_to_scrape(self):\n        web_pages=[]\n        for i in PAGES:\n            page_url = \"https://www.rottentomatoes.com/top/bestofrt/?year=\" + str(i)\n            request = requests.get(page_url)\n            soup=BeautifulSoup(request.content,\"html\")\n\n            waiting_time = random.uniform(1, 3)\n            time.sleep(waiting_time)\n\n            movie_find = soup.find(\"table\",attrs={\"class\":\"table\"})\n            try:\n                movie_get = movie_find.find_all(\"a\", attrs={\"class\":\"unstyled articleLink\"}, href=True)\n            except:\n                movie_get = \"NoneType\"    \n\n            for link in movie_find.find_all('a', href=True):\n                try:\n                    movie_links=\"https://www.rottentomatoes.com/\" +link['href']\n                except:\n                    movie_links=\"NoneType\"    \n                \n                web_pages.append(movie_links)\n\n    def scrape_index_page(self):\n        records=[]\n        for link in web_pages:\n            request = requests.get(link) \n            soup = BeautifulSoup(request.content,\"lxml\")\n            waiting_time = random.uniform(1, 3)\n            time.sleep(waiting_time)\n            title = soup.find(\"h1\", attrs={\"class\":\"scoreboard__title\"}).text\n            rotten_score = soup.find(\"score-board\",attrs={\"class\":\"scoreboard\"})[\"tomatometerscore\"]\n            rotten_rating = soup.find(\"score-board\",attrs={\"class\":\"scoreboard\"})[\"rating\"]\n            rotten_audiencescore = soup.find(\"score-board\",attrs={\"class\":\"scoreboard\"})[\"audiencescore\"]\n            rotten_reviews = soup.find(\"a\",attrs={\"class\":\"scoreboard__link scoreboard__link--tomatometer\"}).text\n            rotten_verified = soup.find(\"a\",attrs={\"class\":\"scoreboard__link scoreboard__link--audience\"}).text\n            rotten_info = soup.find(\"p\",attrs={\"class\":\"scoreboard__info\"}).text\n            records.append([title,rotten_score,rotten_rating,rotten_audiencescore,rotten_reviews,rotten_verified,rotten_info])\n                \n        col_names=[\"title\",\"rotten_score\",\"rotten_rating\",\"rotten_audiencescore\",\"rotten_reviews\",\"rotten_verified\",\"rotten_info\"]\n        col_web_pages = [\"web_page\"]\n        df1 = pd.DataFrame(test,columns=col_names)\n        df2= pd.DataFrame(web_pages,columns=col_web_pages)\n\n        df_3 = pd.concat([df1,df2],axis=1)\n        df_3.to_csv(\"/work/data/homework 24/rotten.csv\")\n\n        return df_3\n\n\n\nmodel = ScrapeRottenTomatoes()\n#model.links_to_scrape\n\n\n\n",
   "execution_count": null,
   "outputs": []
  },
  {
   "cell_type": "code",
   "metadata": {
    "tags": [],
    "cell_id": "00002-a3a34fc2-82dd-4421-9452-6874bf38465c",
    "deepnote_to_be_reexecuted": false,
    "source_hash": "e2ca70a",
    "execution_start": 1632681904076,
    "execution_millis": 297,
    "deepnote_cell_type": "code"
   },
   "source": "page_url = \"https://www.rottentomatoes.com/top/bestofrt/?year=2021\"\nrequest = requests.get(page_url)\nsoup=BeautifulSoup(request.content,\"html\")\n\nmovie_find = soup.find(\"table\",attrs={\"class\":\"table\"})\nmovie_get = movie_find.find_all(\"a\", attrs={\"class\":\"unstyled articleLink\"}, href=True)\n\nenrike=[]\n\nfor link in movie_find.find_all('a', href=True):\n\n     movie_links=\"https://www.rottentomatoes.com/\" +link['href']\n     enrike.append(movie_links)\n\nenrike\n",
   "execution_count": null,
   "outputs": [
    {
     "output_type": "execute_result",
     "execution_count": 4,
     "data": {
      "text/plain": "['https://www.rottentomatoes.com//m/nomadland',\n 'https://www.rottentomatoes.com//m/judas_and_the_black_messiah',\n 'https://www.rottentomatoes.com//m/the_father_2021',\n 'https://www.rottentomatoes.com//m/in_the_heights_2021',\n 'https://www.rottentomatoes.com//m/summer_of_soul',\n 'https://www.rottentomatoes.com//m/raya_and_the_last_dragon',\n 'https://www.rottentomatoes.com//m/coda_2021',\n 'https://www.rottentomatoes.com//m/the_mitchells_vs_the_machines',\n 'https://www.rottentomatoes.com//m/a_quiet_place_part_ii',\n 'https://www.rottentomatoes.com//m/pig_2021',\n 'https://www.rottentomatoes.com//m/the_suicide_squad',\n 'https://www.rottentomatoes.com//m/shang_chi_and_the_legend_of_the_ten_rings',\n 'https://www.rottentomatoes.com//m/mlk_fbi',\n 'https://www.rottentomatoes.com//m/shiva_baby',\n 'https://www.rottentomatoes.com//m/luca_2021',\n 'https://www.rottentomatoes.com//m/quo_vadis_aida',\n 'https://www.rottentomatoes.com//m/identifying_features',\n 'https://www.rottentomatoes.com//m/flee',\n 'https://www.rottentomatoes.com//m/slalom',\n 'https://www.rottentomatoes.com//m/sabaya',\n 'https://www.rottentomatoes.com//m/two_of_us',\n 'https://www.rottentomatoes.com//m/woodlands_dark_and_days_bewitched_a_history_of_folk_horror',\n 'https://www.rottentomatoes.com//m/paper_spiders',\n 'https://www.rottentomatoes.com//m/the_sparks_brothers',\n 'https://www.rottentomatoes.com//m/riders_of_justice',\n 'https://www.rottentomatoes.com//m/i_carry_you_with_me',\n 'https://www.rottentomatoes.com//m/the_paper_tigers',\n 'https://www.rottentomatoes.com//m/rita_moreno_just_a_girl_who_decided_to_go_for_it',\n 'https://www.rottentomatoes.com//m/billie_eilish_the_worlds_a_little_blurry',\n 'https://www.rottentomatoes.com//m/the_lost_leonardo',\n 'https://www.rottentomatoes.com//m/my_heart_cant_beat_unless_you_tell_it_to',\n 'https://www.rottentomatoes.com//m/days_2021',\n 'https://www.rottentomatoes.com//m/drunk_bus',\n 'https://www.rottentomatoes.com//m/hope_2021',\n 'https://www.rottentomatoes.com//m/playing_with_sharks',\n 'https://www.rottentomatoes.com//m/demon_slayer_kimetsu_no_yaiba_the_movie_mugen_train',\n 'https://www.rottentomatoes.com//m/the_green_knight',\n 'https://www.rottentomatoes.com//m/petite_maman',\n 'https://www.rottentomatoes.com//m/the_reason_i_jump',\n 'https://www.rottentomatoes.com//m/language_lessons',\n 'https://www.rottentomatoes.com//m/stray_2021',\n 'https://www.rottentomatoes.com//m/herself',\n 'https://www.rottentomatoes.com//m/street_gang_how_we_got_to_sesame_street',\n 'https://www.rottentomatoes.com//m/im_your_man_2021',\n 'https://www.rottentomatoes.com//m/in_the_same_breath',\n 'https://www.rottentomatoes.com//m/plan_b_2021',\n 'https://www.rottentomatoes.com//m/val',\n 'https://www.rottentomatoes.com//m/zola',\n 'https://www.rottentomatoes.com//m/lapsis',\n 'https://www.rottentomatoes.com//m/rose_plays_julie',\n 'https://www.rottentomatoes.com//m/dear_comrades',\n 'https://www.rottentomatoes.com//m/black_widow_2021',\n 'https://www.rottentomatoes.com//m/supernova_2021',\n 'https://www.rottentomatoes.com//m/candyman_2021',\n 'https://www.rottentomatoes.com//m/the_killing_of_two_lovers',\n 'https://www.rottentomatoes.com//m/mogul_mowgli',\n 'https://www.rottentomatoes.com//m/limbo_2021',\n 'https://www.rottentomatoes.com//m/roadrunner_a_film_about_anthony_bourdain',\n 'https://www.rottentomatoes.com//m/test_pattern',\n 'https://www.rottentomatoes.com//m/some_kind_of_heaven',\n 'https://www.rottentomatoes.com//m/together_together',\n 'https://www.rottentomatoes.com//m/swan_song_2021',\n 'https://www.rottentomatoes.com//m/tina',\n 'https://www.rottentomatoes.com//m/nobody_2021',\n 'https://www.rottentomatoes.com//m/pg_psycho_goreman',\n 'https://www.rottentomatoes.com//m/censor_2021',\n 'https://www.rottentomatoes.com//m/the_power_of_the_dog',\n 'https://www.rottentomatoes.com//m/all_light_everywhere',\n 'https://www.rottentomatoes.com//m/lily_topples_the_world',\n 'https://www.rottentomatoes.com//m/titane',\n 'https://www.rottentomatoes.com//m/bo_burnham_inside',\n 'https://www.rottentomatoes.com//m/never_gonna_snow_again',\n 'https://www.rottentomatoes.com//m/martyrs_lane',\n 'https://www.rottentomatoes.com//m/spring_blossom',\n 'https://www.rottentomatoes.com//m/the_vigil_2021',\n 'https://www.rottentomatoes.com//m/pray_away',\n 'https://www.rottentomatoes.com//m/raging_fire',\n 'https://www.rottentomatoes.com//m/wildland_2021',\n 'https://www.rottentomatoes.com//m/mass_2021',\n 'https://www.rottentomatoes.com//m/final_account',\n 'https://www.rottentomatoes.com//m/the_dig_2021',\n 'https://www.rottentomatoes.com//m/little_fish_2021',\n 'https://www.rottentomatoes.com//m/days_of_the_bagnold_summer',\n 'https://www.rottentomatoes.com//m/truman_and_tennessee_an_intimate_conversation',\n 'https://www.rottentomatoes.com//m/the_night_house',\n 'https://www.rottentomatoes.com//m/nine_days',\n 'https://www.rottentomatoes.com//m/ema',\n 'https://www.rottentomatoes.com//m/holler',\n 'https://www.rottentomatoes.com//m/dream_horse',\n 'https://www.rottentomatoes.com//m/bloody_hell',\n 'https://www.rottentomatoes.com//m/cowboys_2021',\n 'https://www.rottentomatoes.com//m/rams_2021',\n 'https://www.rottentomatoes.com//m/the_card_counter',\n 'https://www.rottentomatoes.com//m/dune_2021',\n 'https://www.rottentomatoes.com//m/fear_street_part_three_1666',\n 'https://www.rottentomatoes.com//m/coming_home_in_the_dark',\n 'https://www.rottentomatoes.com//m/the_man_who_sold_his_skin',\n 'https://www.rottentomatoes.com//m/the_dry',\n 'https://www.rottentomatoes.com//m/fear_street_part_two_1978',\n 'https://www.rottentomatoes.com//m/violation']"
     },
     "metadata": {}
    }
   ]
  },
  {
   "cell_type": "code",
   "metadata": {
    "tags": [],
    "cell_id": "00004-4bc050ff-4f2c-4c1b-9d11-ba0f44579027",
    "deepnote_to_be_reexecuted": false,
    "source_hash": "e4f74951",
    "execution_start": 1632682222304,
    "execution_millis": 3245,
    "deepnote_cell_type": "code"
   },
   "source": "pages = range(2010,2011)\nweb_pages=[]\nfor i in pages:\n    page_url = \"https://www.rottentomatoes.com/top/bestofrt/?year=\" + str(i)\n    request = requests.get(page_url)\n    soup=BeautifulSoup(request.content,\"html\")\n\n    waiting_time = random.uniform(1, 3)\n    time.sleep(waiting_time)\n\n    movie_find = soup.find(\"table\",attrs={\"class\":\"table\"})\n    try:\n        movie_get = movie_find.find_all(\"a\", attrs={\"class\":\"unstyled articleLink\"}, href=True)\n    except:\n        movie_get = \"NoneType\"    \n\n    for link in movie_find.find_all('a', href=True):\n        try:\n            movie_links=\"https://www.rottentomatoes.com/\" +link['href']\n        except:\n            movie_links=\"NoneType\"    \n        \n        web_pages.append(movie_links)\n\n       ",
   "execution_count": null,
   "outputs": []
  },
  {
   "cell_type": "code",
   "metadata": {
    "tags": [],
    "cell_id": "00004-d808d83d-0fa4-43bb-ab66-a2829c03ce7f",
    "deepnote_to_be_reexecuted": false,
    "source_hash": "81c5fa0e",
    "execution_start": 1632683281585,
    "execution_millis": 14,
    "deepnote_cell_type": "code"
   },
   "source": "len(web_pages)",
   "execution_count": null,
   "outputs": [
    {
     "output_type": "execute_result",
     "execution_count": 21,
     "data": {
      "text/plain": "100"
     },
     "metadata": {}
    }
   ]
  },
  {
   "cell_type": "code",
   "metadata": {
    "tags": [],
    "cell_id": "00004-54a3b273-b62a-4f3b-a572-ef03c8af4294",
    "deepnote_to_be_reexecuted": false,
    "source_hash": "a63c2a11",
    "execution_start": 1632683264730,
    "execution_millis": 1,
    "deepnote_cell_type": "code"
   },
   "source": "web_pages\n\nlaza =['https://www.rottentomatoes.com//m/toy_story_3',\n 'https://www.rottentomatoes.com//m/the-social-network',\n 'https://www.rottentomatoes.com//m/how_to_train_your_dragon',\n 'https://www.rottentomatoes.com//m/true_grit_2010',\n 'https://www.rottentomatoes.com//m/the_kings_speech']",
   "execution_count": null,
   "outputs": []
  },
  {
   "cell_type": "code",
   "metadata": {
    "tags": [],
    "cell_id": "00005-27f10c8f-6bc9-4d98-bacb-c7d70c9f3179",
    "deepnote_to_be_reexecuted": false,
    "source_hash": "dcee199c",
    "execution_start": 1632682236434,
    "execution_millis": 489513,
    "deepnote_cell_type": "code"
   },
   "source": "test=[]\nfor link in web_pages:\n    request = requests.get(link) \n    soup = BeautifulSoup(request.content,\"lxml\")\n    waiting_time = random.uniform(1, 3)\n    time.sleep(waiting_time)\n    title = soup.find(\"h1\", attrs={\"class\":\"scoreboard__title\"}).text\n    rotten_score = soup.find(\"score-board\",attrs={\"class\":\"scoreboard\"})[\"tomatometerscore\"]\n    rotten_rating = soup.find(\"score-board\",attrs={\"class\":\"scoreboard\"})[\"rating\"]\n    rotten_audiencescore = soup.find(\"score-board\",attrs={\"class\":\"scoreboard\"})[\"audiencescore\"]\n    rotten_reviews = soup.find(\"a\",attrs={\"class\":\"scoreboard__link scoreboard__link--tomatometer\"}).text\n    rotten_verified = soup.find(\"a\",attrs={\"class\":\"scoreboard__link scoreboard__link--audience\"}).text\n    rotten_info = soup.find(\"p\",attrs={\"class\":\"scoreboard__info\"}).text\n    test.append([title,rotten_score,rotten_rating,rotten_audiencescore,rotten_reviews,rotten_verified,rotten_info])\n    \n    ",
   "execution_count": null,
   "outputs": []
  },
  {
   "cell_type": "code",
   "metadata": {
    "tags": [],
    "cell_id": "00006-433acc3f-79a3-4c0c-9d7b-ec3b51ff38be",
    "deepnote_to_be_reexecuted": false,
    "source_hash": "214373d8",
    "execution_start": 1632684167971,
    "execution_millis": 1,
    "deepnote_cell_type": "code"
   },
   "source": "col_names=[\"title\",\"rotten_score\",\"rotten_rating\",\"rotten_audiencescore\",\"rotten_reviews\",\"rotten_verified\",\"rotten_info\"]\ncol_web_pages = [\"web_page\"]\ndf1 = pd.DataFrame(test,columns=col_names)\ndf2= pd.DataFrame(web_pages,columns=col_web_pages)\n\ndf_3 = pd.concat([df1,df2],axis=1)\ndf_3.to_csv(\"/work/data/homework 24/rotten.csv\")\n",
   "execution_count": null,
   "outputs": []
  },
  {
   "cell_type": "code",
   "metadata": {
    "tags": [],
    "cell_id": "00007-8e7b5ff3-d3d3-43c2-8378-c5e814e0e324",
    "deepnote_to_be_reexecuted": false,
    "source_hash": "693823de",
    "execution_start": 1632684169987,
    "execution_millis": 100,
    "deepnote_cell_type": "code"
   },
   "source": "df_3",
   "execution_count": null,
   "outputs": [
    {
     "output_type": "execute_result",
     "execution_count": 30,
     "data": {
      "application/vnd.deepnote.dataframe.v2+json": {
       "row_count": 100,
       "column_count": 8,
       "columns": [
        {
         "name": "title",
         "dtype": "object",
         "stats": {
          "unique_count": 99,
          "nan_count": 0,
          "categories": [
           {
            "name": "Mesrine: Part II - Public Enemy 1",
            "count": 2
           },
           {
            "name": "Toy Story 3",
            "count": 1
           },
           {
            "name": "97 others",
            "count": 97
           }
          ]
         }
        },
        {
         "name": "rotten_score",
         "dtype": "object",
         "stats": {
          "unique_count": 27,
          "nan_count": 0,
          "categories": [
           {
            "name": "90",
            "count": 10
           },
           {
            "name": "81",
            "count": 7
           },
           {
            "name": "25 others",
            "count": 83
           }
          ]
         }
        },
        {
         "name": "rotten_rating",
         "dtype": "object",
         "stats": {
          "unique_count": 5,
          "nan_count": 0,
          "categories": [
           {
            "name": "R",
            "count": 39
           },
           {
            "name": "",
            "count": 33
           },
           {
            "name": "3 others",
            "count": 28
           }
          ]
         }
        },
        {
         "name": "rotten_audiencescore",
         "dtype": "object",
         "stats": {
          "unique_count": 38,
          "nan_count": 0,
          "categories": [
           {
            "name": "85",
            "count": 7
           },
           {
            "name": "76",
            "count": 7
           },
           {
            "name": "36 others",
            "count": 86
           }
          ]
         }
        },
        {
         "name": "rotten_reviews",
         "dtype": "object",
         "stats": {
          "unique_count": 81,
          "nan_count": 0,
          "categories": [
           {
            "name": "42 Reviews",
            "count": 3
           },
           {
            "name": "58 Reviews",
            "count": 3
           },
           {
            "name": "79 others",
            "count": 94
           }
          ]
         }
        },
        {
         "name": "rotten_verified",
         "dtype": "object",
         "stats": {
          "unique_count": 9,
          "nan_count": 0,
          "categories": [
           {
            "name": "10,000+ Ratings",
            "count": 25
           },
           {
            "name": "1,000+ Ratings",
            "count": 14
           },
           {
            "name": "7 others",
            "count": 61
           }
          ]
         }
        },
        {
         "name": "rotten_info",
         "dtype": "object",
         "stats": {
          "unique_count": 97,
          "nan_count": 0,
          "categories": [
           {
            "name": "2009, Comedy/Drama, 1h 42m",
            "count": 2
           },
           {
            "name": "2009, Drama/Romance, 1h 59m",
            "count": 2
           },
           {
            "name": "95 others",
            "count": 96
           }
          ]
         }
        },
        {
         "name": "web_page",
         "dtype": "object",
         "stats": {
          "unique_count": 100,
          "nan_count": 0,
          "categories": [
           {
            "name": "https://www.rottentomatoes.com//m/toy_story_3",
            "count": 1
           },
           {
            "name": "https://www.rottentomatoes.com//m/the-social-network",
            "count": 1
           },
           {
            "name": "98 others",
            "count": 98
           }
          ]
         }
        },
        {
         "name": "_deepnote_index_column",
         "dtype": "int64"
        }
       ],
       "rows_top": [
        {
         "title": "Toy Story 3",
         "rotten_score": "98",
         "rotten_rating": "G",
         "rotten_audiencescore": "90",
         "rotten_reviews": "309 Reviews",
         "rotten_verified": "250,000+ Ratings",
         "rotten_info": "2010, Comedy/Adventure, 1h 42m",
         "web_page": "https://www.rottentomatoes.com//m/toy_story_3",
         "_deepnote_index_column": 0
        },
        {
         "title": "The Social Network",
         "rotten_score": "96",
         "rotten_rating": "PG-13",
         "rotten_audiencescore": "86",
         "rotten_reviews": "329 Reviews",
         "rotten_verified": "100,000+ Ratings",
         "rotten_info": "2010, Drama/Biography, 2h 0m",
         "web_page": "https://www.rottentomatoes.com//m/the-social-network",
         "_deepnote_index_column": 1
        },
        {
         "title": "How to Train Your Dragon",
         "rotten_score": "99",
         "rotten_rating": "PG",
         "rotten_audiencescore": "91",
         "rotten_reviews": "212 Reviews",
         "rotten_verified": "250,000+ Ratings",
         "rotten_info": "2010, Comedy/Adventure, 1h 38m",
         "web_page": "https://www.rottentomatoes.com//m/how_to_train_your_dragon",
         "_deepnote_index_column": 2
        },
        {
         "title": "True Grit",
         "rotten_score": "95",
         "rotten_rating": "PG-13",
         "rotten_audiencescore": "85",
         "rotten_reviews": "275 Reviews",
         "rotten_verified": "100,000+ Ratings",
         "rotten_info": "2010, Western/Drama, 1h 50m",
         "web_page": "https://www.rottentomatoes.com//m/true_grit_2010",
         "_deepnote_index_column": 3
        },
        {
         "title": "The King's Speech",
         "rotten_score": "94",
         "rotten_rating": "R",
         "rotten_audiencescore": "92",
         "rotten_reviews": "298 Reviews",
         "rotten_verified": "100,000+ Ratings",
         "rotten_info": "2010, History/Drama, 1h 58m",
         "web_page": "https://www.rottentomatoes.com//m/the_kings_speech",
         "_deepnote_index_column": 4
        },
        {
         "title": "Inside Job",
         "rotten_score": "98",
         "rotten_rating": "PG-13",
         "rotten_audiencescore": "91",
         "rotten_reviews": "148 Reviews",
         "rotten_verified": "25,000+ Ratings",
         "rotten_info": "2010, Documentary, 1h 48m",
         "web_page": "https://www.rottentomatoes.com//m/inside_job_2010",
         "_deepnote_index_column": 5
        },
        {
         "title": "Waste Land",
         "rotten_score": "100",
         "rotten_rating": "PG",
         "rotten_audiencescore": "90",
         "rotten_reviews": "71 Reviews",
         "rotten_verified": "5,000+ Ratings",
         "rotten_info": "2010, Documentary, 1h 38m",
         "web_page": "https://www.rottentomatoes.com//m/waste-land",
         "_deepnote_index_column": 6
        },
        {
         "title": "Last Train Home",
         "rotten_score": "100",
         "rotten_rating": "",
         "rotten_audiencescore": "87",
         "rotten_reviews": "55 Reviews",
         "rotten_verified": "5,000+ Ratings",
         "rotten_info": "2009, Documentary, 1h 25m",
         "web_page": "https://www.rottentomatoes.com//m/last_train_home-2009",
         "_deepnote_index_column": 7
        },
        {
         "title": "A Prophet",
         "rotten_score": "96",
         "rotten_rating": "R",
         "rotten_audiencescore": "89",
         "rotten_reviews": "162 Reviews",
         "rotten_verified": "25,000+ Ratings",
         "rotten_info": "2009, Crime/Drama, 2h 34m",
         "web_page": "https://www.rottentomatoes.com//m/1213205-prophet",
         "_deepnote_index_column": 8
        },
        {
         "title": "127 Hours",
         "rotten_score": "93",
         "rotten_rating": "R",
         "rotten_audiencescore": "85",
         "rotten_reviews": "238 Reviews",
         "rotten_verified": "50,000+ Ratings",
         "rotten_info": "2010, Biography/Drama, 1h 33m",
         "web_page": "https://www.rottentomatoes.com//m/127_hours",
         "_deepnote_index_column": 9
        },
        {
         "title": "Animal Kingdom",
         "rotten_score": "95",
         "rotten_rating": "R",
         "rotten_audiencescore": "83",
         "rotten_reviews": "164 Reviews",
         "rotten_verified": "25,000+ Ratings",
         "rotten_info": "2010, Drama/Crime, 1h 52m",
         "web_page": "https://www.rottentomatoes.com//m/animal_kingdom",
         "_deepnote_index_column": 10
        },
        {
         "title": "Marwencol",
         "rotten_score": "98",
         "rotten_rating": "",
         "rotten_audiencescore": "87",
         "rotten_reviews": "63 Reviews",
         "rotten_verified": "1,000+ Ratings",
         "rotten_info": "2010, Documentary, 1h 23m",
         "web_page": "https://www.rottentomatoes.com//m/marwencol",
         "_deepnote_index_column": 11
        },
        {
         "title": "The Town",
         "rotten_score": "92",
         "rotten_rating": "R",
         "rotten_audiencescore": "85",
         "rotten_reviews": "235 Reviews",
         "rotten_verified": "100,000+ Ratings",
         "rotten_info": "2010, Mystery & thriller/Drama, 2h 4m",
         "web_page": "https://www.rottentomatoes.com//m/the_town",
         "_deepnote_index_column": 12
        },
        {
         "title": "Restrepo",
         "rotten_score": "96",
         "rotten_rating": "R",
         "rotten_audiencescore": "88",
         "rotten_reviews": "118 Reviews",
         "rotten_verified": "10,000+ Ratings",
         "rotten_info": "2010, Drama/Documentary, 1h 33m",
         "web_page": "https://www.rottentomatoes.com//m/restrepo",
         "_deepnote_index_column": 13
        },
        {
         "title": "Mother",
         "rotten_score": "96",
         "rotten_rating": "R",
         "rotten_audiencescore": "89",
         "rotten_reviews": "118 Reviews",
         "rotten_verified": "10,000+ Ratings",
         "rotten_info": "2009, Mystery & thriller/Crime, 2h 8m",
         "web_page": "https://www.rottentomatoes.com//m/madeo",
         "_deepnote_index_column": 14
        },
        {
         "title": "Winter's Bone",
         "rotten_score": "94",
         "rotten_rating": "R",
         "rotten_audiencescore": "76",
         "rotten_reviews": "175 Reviews",
         "rotten_verified": "50,000+ Ratings",
         "rotten_info": "2010, Drama, 1h 39m",
         "web_page": "https://www.rottentomatoes.com//m/10012136-winters_bone",
         "_deepnote_index_column": 15
        },
        {
         "title": "Exit Through the Gift Shop",
         "rotten_score": "96",
         "rotten_rating": "R",
         "rotten_audiencescore": "91",
         "rotten_reviews": "115 Reviews",
         "rotten_verified": "10,000+ Ratings",
         "rotten_info": "2010, Documentary, 1h 27m",
         "web_page": "https://www.rottentomatoes.com//m/exit_through_the_gift_shop",
         "_deepnote_index_column": 16
        },
        {
         "title": "The Kids Are All Right",
         "rotten_score": "92",
         "rotten_rating": "R",
         "rotten_audiencescore": "74",
         "rotten_reviews": "226 Reviews",
         "rotten_verified": "50,000+ Ratings",
         "rotten_info": "2010, Comedy/Drama, 1h 44m",
         "web_page": "https://www.rottentomatoes.com//m/10012141-kids_are_all_right",
         "_deepnote_index_column": 17
        },
        {
         "title": "The Fighter",
         "rotten_score": "91",
         "rotten_rating": "R",
         "rotten_audiencescore": "89",
         "rotten_reviews": "254 Reviews",
         "rotten_verified": "100,000+ Ratings",
         "rotten_info": "2010, Biography/Drama, 1h 56m",
         "web_page": "https://www.rottentomatoes.com//m/the_fighter_2011",
         "_deepnote_index_column": 18
        },
        {
         "title": "Inception",
         "rotten_score": "87",
         "rotten_rating": "PG-13",
         "rotten_audiencescore": "91",
         "rotten_reviews": "362 Reviews",
         "rotten_verified": "250,000+ Ratings",
         "rotten_info": "2010, Mystery & thriller/Action, 2h 28m",
         "web_page": "https://www.rottentomatoes.com//m/inception",
         "_deepnote_index_column": 19
        },
        {
         "title": "GasLand",
         "rotten_score": "98",
         "rotten_rating": "",
         "rotten_audiencescore": "85",
         "rotten_reviews": "41 Reviews",
         "rotten_verified": "5,000+ Ratings",
         "rotten_info": "2010, Documentary, 1h 45m",
         "web_page": "https://www.rottentomatoes.com//m/gasland",
         "_deepnote_index_column": 20
        },
        {
         "title": "Ajami",
         "rotten_score": "97",
         "rotten_rating": "",
         "rotten_audiencescore": "81",
         "rotten_reviews": "69 Reviews",
         "rotten_verified": "5,000+ Ratings",
         "rotten_info": "2009, Drama, 2h 0m",
         "web_page": "https://www.rottentomatoes.com//m/ajami",
         "_deepnote_index_column": 21
        },
        {
         "title": "A Film Unfinished",
         "rotten_score": "97",
         "rotten_rating": "",
         "rotten_audiencescore": "86",
         "rotten_reviews": "65 Reviews",
         "rotten_verified": "1,000+ Ratings",
         "rotten_info": "2009, Documentary, 1h 29m",
         "web_page": "https://www.rottentomatoes.com//m/film_unfinished",
         "_deepnote_index_column": 22
        },
        {
         "title": "Another Year",
         "rotten_score": "93",
         "rotten_rating": "PG-13",
         "rotten_audiencescore": "74",
         "rotten_reviews": "174 Reviews",
         "rotten_verified": "10,000+ Ratings",
         "rotten_info": "2010, Comedy/Drama, 2h 9m",
         "web_page": "https://www.rottentomatoes.com//m/another_year_2010",
         "_deepnote_index_column": 23
        },
        {
         "title": "Nobody Knows About the Persian Cats",
         "rotten_score": "95",
         "rotten_rating": "",
         "rotten_audiencescore": "76",
         "rotten_reviews": "62 Reviews",
         "rotten_verified": "2,500+ Ratings",
         "rotten_info": "2009, Drama, 1h 46m",
         "web_page": "https://www.rottentomatoes.com//m/no_one_knows_about_persian_cats",
         "_deepnote_index_column": 24
        },
        {
         "title": "Tangled",
         "rotten_score": "89",
         "rotten_rating": "PG",
         "rotten_audiencescore": "87",
         "rotten_reviews": "227 Reviews",
         "rotten_verified": "100,000+ Ratings",
         "rotten_info": "2010, Comedy/Adventure, 1h 41m",
         "web_page": "https://www.rottentomatoes.com//m/tangled",
         "_deepnote_index_column": 25
        },
        {
         "title": "Boxing Gym",
         "rotten_score": "95",
         "rotten_rating": "",
         "rotten_audiencescore": "75",
         "rotten_reviews": "42 Reviews",
         "rotten_verified": "1,000+ Ratings",
         "rotten_info": "2010, Documentary, 1h 31m",
         "web_page": "https://www.rottentomatoes.com//m/boxing_gym",
         "_deepnote_index_column": 26
        },
        {
         "title": "Best Worst Movie",
         "rotten_score": "94",
         "rotten_rating": "",
         "rotten_audiencescore": "84",
         "rotten_reviews": "70 Reviews",
         "rotten_verified": "2,500+ Ratings",
         "rotten_info": "2009, Documentary, 1h 31m",
         "web_page": "https://www.rottentomatoes.com//m/best_worst_movie",
         "_deepnote_index_column": 27
        },
        {
         "title": "Let Me In",
         "rotten_score": "88",
         "rotten_rating": "R",
         "rotten_audiencescore": "76",
         "rotten_reviews": "237 Reviews",
         "rotten_verified": "50,000+ Ratings",
         "rotten_info": "2010, Horror, 1h 55m",
         "web_page": "https://www.rottentomatoes.com//m/let_me_in",
         "_deepnote_index_column": 28
        },
        {
         "title": "Fish Tank",
         "rotten_score": "91",
         "rotten_rating": "",
         "rotten_audiencescore": "79",
         "rotten_reviews": "150 Reviews",
         "rotten_verified": "10,000+ Ratings",
         "rotten_info": "2009, Drama, 2h 4m",
         "web_page": "https://www.rottentomatoes.com//m/fish_tank",
         "_deepnote_index_column": 29
        },
        {
         "title": "The Tillman Story",
         "rotten_score": "93",
         "rotten_rating": "R",
         "rotten_audiencescore": "91",
         "rotten_reviews": "88 Reviews",
         "rotten_verified": "2,500+ Ratings",
         "rotten_info": "2010, Documentary, 1h 34m",
         "web_page": "https://www.rottentomatoes.com//m/the_tillman_story",
         "_deepnote_index_column": 30
        },
        {
         "title": "Black Swan",
         "rotten_score": "85",
         "rotten_rating": "R",
         "rotten_audiencescore": "84",
         "rotten_reviews": "318 Reviews",
         "rotten_verified": "100,000+ Ratings",
         "rotten_info": "2010, Mystery & thriller/Drama, 1h 48m",
         "web_page": "https://www.rottentomatoes.com//m/black_swan_2010",
         "_deepnote_index_column": 31
        },
        {
         "title": "Samson & Delilah",
         "rotten_score": "94",
         "rotten_rating": "",
         "rotten_audiencescore": "76",
         "rotten_reviews": "52 Reviews",
         "rotten_verified": "5,000+ Ratings",
         "rotten_info": "2009, Drama/Romance, 1h 41m",
         "web_page": "https://www.rottentomatoes.com//m/10011295-samson_and_delilah",
         "_deepnote_index_column": 32
        },
        {
         "title": "Joan Rivers: A Piece of Work",
         "rotten_score": "92",
         "rotten_rating": "R",
         "rotten_audiencescore": "82",
         "rotten_reviews": "109 Reviews",
         "rotten_verified": "10,000+ Ratings",
         "rotten_info": "2010, Biography/Documentary, 1h 24m",
         "web_page": "https://www.rottentomatoes.com//m/joan-rivers-a-piece-of-work",
         "_deepnote_index_column": 33
        },
        {
         "title": "Carlos",
         "rotten_score": "93",
         "rotten_rating": "",
         "rotten_audiencescore": "85",
         "rotten_reviews": "69 Reviews",
         "rotten_verified": "5,000+ Ratings",
         "rotten_info": "2010, Biography/Drama, 2h 30m",
         "web_page": "https://www.rottentomatoes.com//m/carlos_2010",
         "_deepnote_index_column": 34
        },
        {
         "title": "Dogtooth",
         "rotten_score": "93",
         "rotten_rating": "",
         "rotten_audiencescore": "76",
         "rotten_reviews": "68 Reviews",
         "rotten_verified": "10,000+ Ratings",
         "rotten_info": "2009, Drama, 1h 34m",
         "web_page": "https://www.rottentomatoes.com//m/dogtooth",
         "_deepnote_index_column": 35
        },
        {
         "title": "Vincere",
         "rotten_score": "92",
         "rotten_rating": "",
         "rotten_audiencescore": "68",
         "rotten_reviews": "92 Reviews",
         "rotten_verified": "10,000+ Ratings",
         "rotten_info": "2009, Biography/History, 2h 8m",
         "web_page": "https://www.rottentomatoes.com//m/vincere",
         "_deepnote_index_column": 36
        },
        {
         "title": "The Illusionist",
         "rotten_score": "90",
         "rotten_rating": "PG",
         "rotten_audiencescore": "79",
         "rotten_reviews": "134 Reviews",
         "rotten_verified": "10,000+ Ratings",
         "rotten_info": "2010, Drama/Animation, 1h 30m",
         "web_page": "https://www.rottentomatoes.com//m/the_illusionist-2009",
         "_deepnote_index_column": 37
        },
        {
         "title": "Lourdes",
         "rotten_score": "93",
         "rotten_rating": "",
         "rotten_audiencescore": "68",
         "rotten_reviews": "43 Reviews",
         "rotten_verified": "1,000+ Ratings",
         "rotten_info": "2009, Drama, 1h 39m",
         "web_page": "https://www.rottentomatoes.com//m/lourdes_2010",
         "_deepnote_index_column": 38
        },
        {
         "title": "Waiting for Superman",
         "rotten_score": "90",
         "rotten_rating": "PG",
         "rotten_audiencescore": "84",
         "rotten_reviews": "119 Reviews",
         "rotten_verified": "10,000+ Ratings",
         "rotten_info": "2010, Documentary, 1h 42m",
         "web_page": "https://www.rottentomatoes.com//m/waiting_for_superman",
         "_deepnote_index_column": 39
        },
        {
         "title": "Rabbit Hole",
         "rotten_score": "87",
         "rotten_rating": "PG-13",
         "rotten_audiencescore": "72",
         "rotten_reviews": "201 Reviews",
         "rotten_verified": "25,000+ Ratings",
         "rotten_info": "2010, Drama, 1h 31m",
         "web_page": "https://www.rottentomatoes.com//m/rabbit_hole",
         "_deepnote_index_column": 40
        },
        {
         "title": "The Secret in Their Eyes",
         "rotten_score": "89",
         "rotten_rating": "R",
         "rotten_audiencescore": "93",
         "rotten_reviews": "141 Reviews",
         "rotten_verified": "25,000+ Ratings",
         "rotten_info": "2009, Mystery & thriller/Crime, 2h 7m",
         "web_page": "https://www.rottentomatoes.com//m/secret_in_their_eyes",
         "_deepnote_index_column": 41
        },
        {
         "title": "Lebanon",
         "rotten_score": "90",
         "rotten_rating": "R",
         "rotten_audiencescore": "72",
         "rotten_reviews": "110 Reviews",
         "rotten_verified": "5,000+ Ratings",
         "rotten_info": "2009, War/Drama, 1h 33m",
         "web_page": "https://www.rottentomatoes.com//m/lebanon-2010",
         "_deepnote_index_column": 42
        },
        {
         "title": "Unstoppable",
         "rotten_score": "87",
         "rotten_rating": "PG-13",
         "rotten_audiencescore": "72",
         "rotten_reviews": "194 Reviews",
         "rotten_verified": "100,000+ Ratings",
         "rotten_info": "2010, Mystery & thriller/Action, 1h 34m",
         "web_page": "https://www.rottentomatoes.com//m/unstoppable-2010",
         "_deepnote_index_column": 43
        },
        {
         "title": "Rare Exports: A Christmas Tale",
         "rotten_score": "90",
         "rotten_rating": "R",
         "rotten_audiencescore": "70",
         "rotten_reviews": "106 Reviews",
         "rotten_verified": "10,000+ Ratings",
         "rotten_info": "2010, Comedy/Adventure, 1h 24m",
         "web_page": "https://www.rottentomatoes.com//m/rare_exports",
         "_deepnote_index_column": 44
        },
        {
         "title": "Blue Valentine",
         "rotten_score": "86",
         "rotten_rating": "R",
         "rotten_audiencescore": "77",
         "rotten_reviews": "212 Reviews",
         "rotten_verified": "50,000+ Ratings",
         "rotten_info": "2010, Drama/Romance, 2h 0m",
         "web_page": "https://www.rottentomatoes.com//m/blue_valentine",
         "_deepnote_index_column": 45
        },
        {
         "title": "The Secret of Kells",
         "rotten_score": "90",
         "rotten_rating": "",
         "rotten_audiencescore": "85",
         "rotten_reviews": "83 Reviews",
         "rotten_verified": "10,000+ Ratings",
         "rotten_info": "2009, Adventure/Kids & family, 1h 18m",
         "web_page": "https://www.rottentomatoes.com//m/the-secret-of-kells",
         "_deepnote_index_column": 46
        },
        {
         "title": "Alamar",
         "rotten_score": "91",
         "rotten_rating": "",
         "rotten_audiencescore": "84",
         "rotten_reviews": "47 Reviews",
         "rotten_verified": "1,000+ Ratings",
         "rotten_info": "2009, Drama, 1h 13m",
         "web_page": "https://www.rottentomatoes.com//m/alamar",
         "_deepnote_index_column": 47
        },
        {
         "title": "Cropsey",
         "rotten_score": "91",
         "rotten_rating": "",
         "rotten_audiencescore": "61",
         "rotten_reviews": "45 Reviews",
         "rotten_verified": "2,500+ Ratings",
         "rotten_info": "2009, Drama/Mystery & thriller, 1h 24m",
         "web_page": "https://www.rottentomatoes.com//m/cropsey",
         "_deepnote_index_column": 48
        },
        {
         "title": "Buried",
         "rotten_score": "87",
         "rotten_rating": "R",
         "rotten_audiencescore": "65",
         "rotten_reviews": "157 Reviews",
         "rotten_verified": "50,000+ Ratings",
         "rotten_info": "2010, Mystery & thriller/Drama, 1h 34m",
         "web_page": "https://www.rottentomatoes.com//m/buried",
         "_deepnote_index_column": 49
        },
        {
         "title": "Client 9: The Rise and Fall of Eliot Spitzer",
         "rotten_score": "90",
         "rotten_rating": "R",
         "rotten_audiencescore": "83",
         "rotten_reviews": "70 Reviews",
         "rotten_verified": "1,000+ Ratings",
         "rotten_info": "2010, Documentary, 1h 57m",
         "web_page": "https://www.rottentomatoes.com//m/untitled_eliot_spitzer_project",
         "_deepnote_index_column": 50
        },
        {
         "title": "Winnebago Man",
         "rotten_score": "90",
         "rotten_rating": "",
         "rotten_audiencescore": "80",
         "rotten_reviews": "62 Reviews",
         "rotten_verified": "10,000+ Ratings",
         "rotten_info": "2009, Biography/Documentary, 1h 27m",
         "web_page": "https://www.rottentomatoes.com//m/winnebago_man",
         "_deepnote_index_column": 51
        },
        {
         "title": "My Dog Tulip",
         "rotten_score": "90",
         "rotten_rating": "",
         "rotten_audiencescore": "69",
         "rotten_reviews": "60 Reviews",
         "rotten_verified": "2,500+ Ratings",
         "rotten_info": "2009, Drama/Animation, 1h 21m",
         "web_page": "https://www.rottentomatoes.com//m/my-dog-tulip",
         "_deepnote_index_column": 52
        },
        {
         "title": "The Father of My Children",
         "rotten_score": "90",
         "rotten_rating": "",
         "rotten_audiencescore": "61",
         "rotten_reviews": "58 Reviews",
         "rotten_verified": "1,000+ Ratings",
         "rotten_info": "2009, Drama, 1h 50m",
         "web_page": "https://www.rottentomatoes.com//m/father_of_my_children",
         "_deepnote_index_column": 53
        },
        {
         "title": "Please Give",
         "rotten_score": "87",
         "rotten_rating": "R",
         "rotten_audiencescore": "64",
         "rotten_reviews": "143 Reviews",
         "rotten_verified": "10,000+ Ratings",
         "rotten_info": "2010, Comedy/Drama, 1h 30m",
         "web_page": "https://www.rottentomatoes.com//m/0878835",
         "_deepnote_index_column": 54
        },
        {
         "title": "Easy A",
         "rotten_score": "85",
         "rotten_rating": "PG-13",
         "rotten_audiencescore": "77",
         "rotten_reviews": "192 Reviews",
         "rotten_verified": "100,000+ Ratings",
         "rotten_info": "2010, Comedy, 1h 33m",
         "web_page": "https://www.rottentomatoes.com//m/easy-a",
         "_deepnote_index_column": 55
        },
        {
         "title": "Scott Pilgrim vs. the World",
         "rotten_score": "82",
         "rotten_rating": "PG-13",
         "rotten_audiencescore": "84",
         "rotten_reviews": "273 Reviews",
         "rotten_verified": "100,000+ Ratings",
         "rotten_info": "2010, Action/Romance, 1h 52m",
         "web_page": "https://www.rottentomatoes.com//m/scott_pilgrims_vs_the_world",
         "_deepnote_index_column": 56
        },
        {
         "title": "Julia's Eyes",
         "rotten_score": "90",
         "rotten_rating": "",
         "rotten_audiencescore": "68",
         "rotten_reviews": "40 Reviews",
         "rotten_verified": "5,000+ Ratings",
         "rotten_info": "2010, Mystery & thriller/Horror, 1h 52m",
         "web_page": "https://www.rottentomatoes.com//m/los_ojos_de_julia",
         "_deepnote_index_column": 57
        },
        {
         "title": "The Ghost Writer",
         "rotten_score": "84",
         "rotten_rating": "PG-13",
         "rotten_audiencescore": "70",
         "rotten_reviews": "210 Reviews",
         "rotten_verified": "50,000+ Ratings",
         "rotten_info": "2010, Mystery & thriller/Drama, 2h 9m",
         "web_page": "https://www.rottentomatoes.com//m/10012063-ghost_writer",
         "_deepnote_index_column": 58
        },
        {
         "title": "Get Low",
         "rotten_score": "85",
         "rotten_rating": "PG-13",
         "rotten_audiencescore": "75",
         "rotten_reviews": "145 Reviews",
         "rotten_verified": "10,000+ Ratings",
         "rotten_info": "2009, Comedy/Drama, 1h 42m",
         "web_page": "https://www.rottentomatoes.com//m/get_low",
         "_deepnote_index_column": 59
        },
        {
         "title": "Terribly Happy",
         "rotten_score": "88",
         "rotten_rating": "",
         "rotten_audiencescore": "73",
         "rotten_reviews": "48 Reviews",
         "rotten_verified": "1,000+ Ratings",
         "rotten_info": "2008, Mystery & thriller/Drama, 1h 40m",
         "web_page": "https://www.rottentomatoes.com//m/terribly_happy",
         "_deepnote_index_column": 60
        },
        {
         "title": "Hubble",
         "rotten_score": "88",
         "rotten_rating": "G",
         "rotten_audiencescore": "86",
         "rotten_reviews": "42 Reviews",
         "rotten_verified": "10,000+ Ratings",
         "rotten_info": "2010, Documentary, 43m",
         "web_page": "https://www.rottentomatoes.com//m/hubble_3d",
         "_deepnote_index_column": 61
        },
        {
         "title": "Everyone Else",
         "rotten_score": "88",
         "rotten_rating": "",
         "rotten_audiencescore": "62",
         "rotten_reviews": "42 Reviews",
         "rotten_verified": "500+ Ratings",
         "rotten_info": "2009, Drama/Romance, 1h 59m",
         "web_page": "https://www.rottentomatoes.com//m/alle_anderen",
         "_deepnote_index_column": 62
        },
        {
         "title": "White Material",
         "rotten_score": "86",
         "rotten_rating": "",
         "rotten_audiencescore": "64",
         "rotten_reviews": "92 Reviews",
         "rotten_verified": "10,000+ Ratings",
         "rotten_info": "2009, Drama, 1h 45m",
         "web_page": "https://www.rottentomatoes.com//m/white_material",
         "_deepnote_index_column": 63
        },
        {
         "title": "The Square",
         "rotten_score": "86",
         "rotten_rating": "R",
         "rotten_audiencescore": "70",
         "rotten_reviews": "85 Reviews",
         "rotten_verified": "2,500+ Ratings",
         "rotten_info": "2008, Mystery & thriller, 1h 45m",
         "web_page": "https://www.rottentomatoes.com//m/the_square",
         "_deepnote_index_column": 64
        },
        {
         "title": "Farewell",
         "rotten_score": "86",
         "rotten_rating": "",
         "rotten_audiencescore": "76",
         "rotten_reviews": "77 Reviews",
         "rotten_verified": "5,000+ Ratings",
         "rotten_info": "2009, Mystery & thriller/Drama, 1h 53m",
         "web_page": "https://www.rottentomatoes.com//m/farewell",
         "_deepnote_index_column": 65
        },
        {
         "title": "Looking for Eric",
         "rotten_score": "85",
         "rotten_rating": "",
         "rotten_audiencescore": "78",
         "rotten_reviews": "100 Reviews",
         "rotten_verified": "5,000+ Ratings",
         "rotten_info": "2009, Comedy/Drama, 1h 56m",
         "web_page": "https://www.rottentomatoes.com//m/looking_for_eric",
         "_deepnote_index_column": 66
        },
        {
         "title": "Red Riding Trilogy",
         "rotten_score": "86",
         "rotten_rating": "",
         "rotten_audiencescore": "88",
         "rotten_reviews": "58 Reviews",
         "rotten_verified": "500+ Ratings",
         "rotten_info": "2010",
         "web_page": "https://www.rottentomatoes.com//m/red_riding_trilogy",
         "_deepnote_index_column": 67
        },
        {
         "title": "Despicable Me",
         "rotten_score": "81",
         "rotten_rating": "PG",
         "rotten_audiencescore": "82",
         "rotten_reviews": "202 Reviews",
         "rotten_verified": "250,000+ Ratings",
         "rotten_info": "2010, Comedy/Adventure, 1h 35m",
         "web_page": "https://www.rottentomatoes.com//m/1214097-despicable_me",
         "_deepnote_index_column": 68
        },
        {
         "title": "Four Lions",
         "rotten_score": "83",
         "rotten_rating": "R",
         "rotten_audiencescore": "80",
         "rotten_reviews": "139 Reviews",
         "rotten_verified": "10,000+ Ratings",
         "rotten_info": "2009, Comedy/Drama, 1h 42m",
         "web_page": "https://www.rottentomatoes.com//m/four_lions",
         "_deepnote_index_column": 69
        },
        {
         "title": "The Art of the Steal",
         "rotten_score": "85",
         "rotten_rating": "",
         "rotten_audiencescore": "87",
         "rotten_reviews": "60 Reviews",
         "rotten_verified": "1,000+ Ratings",
         "rotten_info": "2009, Documentary, 1h 41m",
         "web_page": "https://www.rottentomatoes.com//m/art_of_the_steal",
         "_deepnote_index_column": 70
        },
        {
         "title": "Harry Potter and the Deathly Hallows: Part 1",
         "rotten_score": "77",
         "rotten_rating": "PG-13",
         "rotten_audiencescore": "85",
         "rotten_reviews": "288 Reviews",
         "rotten_verified": "250,000+ Ratings",
         "rotten_info": "2010, Adventure/Fantasy, 2h 26m",
         "web_page": "https://www.rottentomatoes.com//m/harry_potter_and_the_deathly_hallows_part_1",
         "_deepnote_index_column": 71
        },
        {
         "title": "Kisses",
         "rotten_score": "85",
         "rotten_rating": "",
         "rotten_audiencescore": "79",
         "rotten_reviews": "54 Reviews",
         "rotten_verified": "1,000+ Ratings",
         "rotten_info": "2008, Drama, 1h 16m",
         "web_page": "https://www.rottentomatoes.com//m/kisses2008",
         "_deepnote_index_column": 72
        },
        {
         "title": "North Face",
         "rotten_score": "84",
         "rotten_rating": "",
         "rotten_audiencescore": "82",
         "rotten_reviews": "58 Reviews",
         "rotten_verified": "2,500+ Ratings",
         "rotten_info": "2008, Adventure/Romance, 2h 6m",
         "web_page": "https://www.rottentomatoes.com//m/north_face",
         "_deepnote_index_column": 73
        },
        {
         "title": "I Am Love",
         "rotten_score": "81",
         "rotten_rating": "R",
         "rotten_audiencescore": "68",
         "rotten_reviews": "134 Reviews",
         "rotten_verified": "10,000+ Ratings",
         "rotten_info": "2009, Drama/Romance, 1h 59m",
         "web_page": "https://www.rottentomatoes.com//m/i_am_love",
         "_deepnote_index_column": 74
        },
        {
         "title": "City Island",
         "rotten_score": "82",
         "rotten_rating": "PG-13",
         "rotten_audiencescore": "79",
         "rotten_reviews": "105 Reviews",
         "rotten_verified": "25,000+ Ratings",
         "rotten_info": "2009, Comedy, 1h 43m",
         "web_page": "https://www.rottentomatoes.com//m/city_island",
         "_deepnote_index_column": 75
        },
        {
         "title": "Cyrus",
         "rotten_score": "80",
         "rotten_rating": "R",
         "rotten_audiencescore": "53",
         "rotten_reviews": "157 Reviews",
         "rotten_verified": "25,000+ Ratings",
         "rotten_info": "2010, Comedy/Drama, 1h 31m",
         "web_page": "https://www.rottentomatoes.com//m/cyrus",
         "_deepnote_index_column": 76
        },
        {
         "title": "Catfish",
         "rotten_score": "80",
         "rotten_rating": "PG-13",
         "rotten_audiencescore": "71",
         "rotten_reviews": "154 Reviews",
         "rotten_verified": "25,000+ Ratings",
         "rotten_info": "2010, Mystery & thriller/Documentary, 1h 28m",
         "web_page": "https://www.rottentomatoes.com//m/catfish",
         "_deepnote_index_column": 77
        },
        {
         "title": "Kick-Ass",
         "rotten_score": "76",
         "rotten_rating": "R",
         "rotten_audiencescore": "81",
         "rotten_reviews": "268 Reviews",
         "rotten_verified": "250,000+ Ratings",
         "rotten_info": "2010, Comedy/Action, 1h 57m",
         "web_page": "https://www.rottentomatoes.com//m/1217700-kick_ass",
         "_deepnote_index_column": 78
        },
        {
         "title": "The Other Guys",
         "rotten_score": "78",
         "rotten_rating": "PG-13",
         "rotten_audiencescore": "60",
         "rotten_reviews": "209 Reviews",
         "rotten_verified": "100,000+ Ratings",
         "rotten_info": "2010, Comedy/Action, 1h 47m",
         "web_page": "https://www.rottentomatoes.com//m/other_guys",
         "_deepnote_index_column": 79
        },
        {
         "title": "Fair Game",
         "rotten_score": "79",
         "rotten_rating": "PG-13",
         "rotten_audiencescore": "65",
         "rotten_reviews": "177 Reviews",
         "rotten_verified": "25,000+ Ratings",
         "rotten_info": "2010, Mystery & thriller/Drama, 1h 47m",
         "web_page": "https://www.rottentomatoes.com//m/fair-game-2010",
         "_deepnote_index_column": 80
        },
        {
         "title": "Nowhere Boy",
         "rotten_score": "80",
         "rotten_rating": "R",
         "rotten_audiencescore": "74",
         "rotten_reviews": "148 Reviews",
         "rotten_verified": "25,000+ Ratings",
         "rotten_info": "2009, Biography/Drama, 1h 37m",
         "web_page": "https://www.rottentomatoes.com//m/nowhere_boy",
         "_deepnote_index_column": 81
        },
        {
         "title": "Mademoiselle Chambon",
         "rotten_score": "83",
         "rotten_rating": "",
         "rotten_audiencescore": "68",
         "rotten_reviews": "54 Reviews",
         "rotten_verified": "1,000+ Ratings",
         "rotten_info": "2009, Drama, 1h 41m",
         "web_page": "https://www.rottentomatoes.com//m/mademoiselle_chambon",
         "_deepnote_index_column": 82
        },
        {
         "title": "Made in Dagenham",
         "rotten_score": "80",
         "rotten_rating": "R",
         "rotten_audiencescore": "75",
         "rotten_reviews": "132 Reviews",
         "rotten_verified": "10,000+ Ratings",
         "rotten_info": "2010, Comedy/Biography, 1h 53m",
         "web_page": "https://www.rottentomatoes.com//m/made_in_dagenham",
         "_deepnote_index_column": 83
        },
        {
         "title": "Mesrine: Part II - Public Enemy 1",
         "rotten_score": "81",
         "rotten_rating": "R",
         "rotten_audiencescore": "82",
         "rotten_reviews": "90 Reviews",
         "rotten_verified": "10,000+ Ratings",
         "rotten_info": "2008, Drama/Mystery & thriller, 2h 10m",
         "web_page": "https://www.rottentomatoes.com//m/mesrine_killer_instinct",
         "_deepnote_index_column": 84
        },
        {
         "title": "The Disappearance of Alice Creed",
         "rotten_score": "81",
         "rotten_rating": "R",
         "rotten_audiencescore": "67",
         "rotten_reviews": "99 Reviews",
         "rotten_verified": "25,000+ Ratings",
         "rotten_info": "2009, Mystery & thriller, 1h 40m",
         "web_page": "https://www.rottentomatoes.com//m/disappearance_of_alice_creed",
         "_deepnote_index_column": 85
        },
        {
         "title": "Vision: From the Life of Hildegard von Bingen",
         "rotten_score": "83",
         "rotten_rating": "",
         "rotten_audiencescore": "71",
         "rotten_reviews": "40 Reviews",
         "rotten_verified": "1,000+ Ratings",
         "rotten_info": "2009, Biography/Drama, 1h 50m",
         "web_page": "https://www.rottentomatoes.com//m/vision_2010",
         "_deepnote_index_column": 86
        },
        {
         "title": "Casino Jack and the United States of Money",
         "rotten_score": "82",
         "rotten_rating": "R",
         "rotten_audiencescore": "80",
         "rotten_reviews": "66 Reviews",
         "rotten_verified": "500+ Ratings",
         "rotten_info": "2010, Documentary, 2h 0m",
         "web_page": "https://www.rottentomatoes.com//m/casino_jack_and_the_united_state_of_money",
         "_deepnote_index_column": 87
        },
        {
         "title": "The Good, the Bad, the Weird",
         "rotten_score": "82",
         "rotten_rating": "R",
         "rotten_audiencescore": "83",
         "rotten_reviews": "66 Reviews",
         "rotten_verified": "10,000+ Ratings",
         "rotten_info": "2008, Action/Western, 2h 7m",
         "web_page": "https://www.rottentomatoes.com//m/the_good_the_bad_the_weird",
         "_deepnote_index_column": 88
        },
        {
         "title": "Mesrine: Part II - Public Enemy 1",
         "rotten_score": "81",
         "rotten_rating": "R",
         "rotten_audiencescore": "82",
         "rotten_reviews": "90 Reviews",
         "rotten_verified": "10,000+ Ratings",
         "rotten_info": "2008, Drama/Mystery & thriller, 2h 10m",
         "web_page": "https://www.rottentomatoes.com//m/mesrine_public_enemy_1",
         "_deepnote_index_column": 89
        },
        {
         "title": "Cairo Time",
         "rotten_score": "81",
         "rotten_rating": "PG",
         "rotten_audiencescore": "62",
         "rotten_reviews": "80 Reviews",
         "rotten_verified": "2,500+ Ratings",
         "rotten_info": "2009, Drama/Romance, 1h 28m",
         "web_page": "https://www.rottentomatoes.com//m/cairo_time",
         "_deepnote_index_column": 90
        },
        {
         "title": "Tiny Furniture",
         "rotten_score": "80",
         "rotten_rating": "",
         "rotten_audiencescore": "54",
         "rotten_reviews": "98 Reviews",
         "rotten_verified": "10,000+ Ratings",
         "rotten_info": "2010, Comedy/Drama, 1h 39m",
         "web_page": "https://www.rottentomatoes.com//m/tiny_furniture-2009",
         "_deepnote_index_column": 91
        },
        {
         "title": "Night Catches Us",
         "rotten_score": "81",
         "rotten_rating": "R",
         "rotten_audiencescore": "66",
         "rotten_reviews": "57 Reviews",
         "rotten_verified": "1,000+ Ratings",
         "rotten_info": "2010, Drama, 1h 30m",
         "web_page": "https://www.rottentomatoes.com//m/night_catches_us",
         "_deepnote_index_column": 92
        },
        {
         "title": "Oceans",
         "rotten_score": "80",
         "rotten_rating": "G",
         "rotten_audiencescore": "75",
         "rotten_reviews": "81 Reviews",
         "rotten_verified": "50,000+ Ratings",
         "rotten_info": "2009, Documentary, 1h 42m",
         "web_page": "https://www.rottentomatoes.com//m/disneynature_oceans",
         "_deepnote_index_column": 93
        },
        {
         "title": "Iron Man 2",
         "rotten_score": "72",
         "rotten_rating": "PG-13",
         "rotten_audiencescore": "71",
         "rotten_reviews": "304 Reviews",
         "rotten_verified": "250,000+ Ratings",
         "rotten_info": "2010, Fantasy/Adventure, 2h 4m",
         "web_page": "https://www.rottentomatoes.com//m/iron_man_2",
         "_deepnote_index_column": 94
        },
        {
         "title": "Mother and Child",
         "rotten_score": "78",
         "rotten_rating": "R",
         "rotten_audiencescore": "76",
         "rotten_reviews": "128 Reviews",
         "rotten_verified": "5,000+ Ratings",
         "rotten_info": "2009, Drama, 2h 6m",
         "web_page": "https://www.rottentomatoes.com//m/mother_and_child",
         "_deepnote_index_column": 95
        },
        {
         "title": "Greenberg",
         "rotten_score": "76",
         "rotten_rating": "R",
         "rotten_audiencescore": "42",
         "rotten_reviews": "176 Reviews",
         "rotten_verified": "25,000+ Ratings",
         "rotten_info": "2010, Comedy/Drama, 1h 47m",
         "web_page": "https://www.rottentomatoes.com//m/greenberg",
         "_deepnote_index_column": 96
        },
        {
         "title": "Countdown to Zero",
         "rotten_score": "79",
         "rotten_rating": "PG",
         "rotten_audiencescore": "72",
         "rotten_reviews": "87 Reviews",
         "rotten_verified": "1,000+ Ratings",
         "rotten_info": "2010, Documentary, 1h 30m",
         "web_page": "https://www.rottentomatoes.com//m/countdown_to_zero",
         "_deepnote_index_column": 97
        },
        {
         "title": "Splice",
         "rotten_score": "75",
         "rotten_rating": "R",
         "rotten_audiencescore": "37",
         "rotten_reviews": "198 Reviews",
         "rotten_verified": "250,000+ Ratings",
         "rotten_info": "2009, Horror/Sci-fi, 1h 47m",
         "web_page": "https://www.rottentomatoes.com//m/1208173-splice",
         "_deepnote_index_column": 98
        },
        {
         "title": "Solitary Man",
         "rotten_score": "78",
         "rotten_rating": "R",
         "rotten_audiencescore": "50",
         "rotten_reviews": "99 Reviews",
         "rotten_verified": "10,000+ Ratings",
         "rotten_info": "2009, Comedy/Drama, 1h 29m",
         "web_page": "https://www.rottentomatoes.com//m/solitary_man",
         "_deepnote_index_column": 99
        }
       ],
       "rows_bottom": null
      },
      "text/plain": "                       title rotten_score rotten_rating rotten_audiencescore  \\\n0                Toy Story 3           98             G                   90   \n1         The Social Network           96         PG-13                   86   \n2   How to Train Your Dragon           99            PG                   91   \n3                  True Grit           95         PG-13                   85   \n4          The King's Speech           94             R                   92   \n..                       ...          ...           ...                  ...   \n95          Mother and Child           78             R                   76   \n96                 Greenberg           76             R                   42   \n97         Countdown to Zero           79            PG                   72   \n98                    Splice           75             R                   37   \n99              Solitary Man           78             R                   50   \n\n   rotten_reviews   rotten_verified                     rotten_info  \\\n0     309 Reviews  250,000+ Ratings  2010, Comedy/Adventure, 1h 42m   \n1     329 Reviews  100,000+ Ratings    2010, Drama/Biography, 2h 0m   \n2     212 Reviews  250,000+ Ratings  2010, Comedy/Adventure, 1h 38m   \n3     275 Reviews  100,000+ Ratings     2010, Western/Drama, 1h 50m   \n4     298 Reviews  100,000+ Ratings     2010, History/Drama, 1h 58m   \n..            ...               ...                             ...   \n95    128 Reviews    5,000+ Ratings              2009, Drama, 2h 6m   \n96    176 Reviews   25,000+ Ratings      2010, Comedy/Drama, 1h 47m   \n97     87 Reviews    1,000+ Ratings       2010, Documentary, 1h 30m   \n98    198 Reviews  250,000+ Ratings     2009, Horror/Sci-fi, 1h 47m   \n99     99 Reviews   10,000+ Ratings      2009, Comedy/Drama, 1h 29m   \n\n                                             web_page  \n0       https://www.rottentomatoes.com//m/toy_story_3  \n1   https://www.rottentomatoes.com//m/the-social-n...  \n2   https://www.rottentomatoes.com//m/how_to_train...  \n3    https://www.rottentomatoes.com//m/true_grit_2010  \n4   https://www.rottentomatoes.com//m/the_kings_sp...  \n..                                                ...  \n95  https://www.rottentomatoes.com//m/mother_and_c...  \n96        https://www.rottentomatoes.com//m/greenberg  \n97  https://www.rottentomatoes.com//m/countdown_to...  \n98   https://www.rottentomatoes.com//m/1208173-splice  \n99     https://www.rottentomatoes.com//m/solitary_man  \n\n[100 rows x 8 columns]",
      "text/html": "<div>\n<style scoped>\n    .dataframe tbody tr th:only-of-type {\n        vertical-align: middle;\n    }\n\n    .dataframe tbody tr th {\n        vertical-align: top;\n    }\n\n    .dataframe thead th {\n        text-align: right;\n    }\n</style>\n<table border=\"1\" class=\"dataframe\">\n  <thead>\n    <tr style=\"text-align: right;\">\n      <th></th>\n      <th>title</th>\n      <th>rotten_score</th>\n      <th>rotten_rating</th>\n      <th>rotten_audiencescore</th>\n      <th>rotten_reviews</th>\n      <th>rotten_verified</th>\n      <th>rotten_info</th>\n      <th>web_page</th>\n    </tr>\n  </thead>\n  <tbody>\n    <tr>\n      <th>0</th>\n      <td>Toy Story 3</td>\n      <td>98</td>\n      <td>G</td>\n      <td>90</td>\n      <td>309 Reviews</td>\n      <td>250,000+ Ratings</td>\n      <td>2010, Comedy/Adventure, 1h 42m</td>\n      <td>https://www.rottentomatoes.com//m/toy_story_3</td>\n    </tr>\n    <tr>\n      <th>1</th>\n      <td>The Social Network</td>\n      <td>96</td>\n      <td>PG-13</td>\n      <td>86</td>\n      <td>329 Reviews</td>\n      <td>100,000+ Ratings</td>\n      <td>2010, Drama/Biography, 2h 0m</td>\n      <td>https://www.rottentomatoes.com//m/the-social-n...</td>\n    </tr>\n    <tr>\n      <th>2</th>\n      <td>How to Train Your Dragon</td>\n      <td>99</td>\n      <td>PG</td>\n      <td>91</td>\n      <td>212 Reviews</td>\n      <td>250,000+ Ratings</td>\n      <td>2010, Comedy/Adventure, 1h 38m</td>\n      <td>https://www.rottentomatoes.com//m/how_to_train...</td>\n    </tr>\n    <tr>\n      <th>3</th>\n      <td>True Grit</td>\n      <td>95</td>\n      <td>PG-13</td>\n      <td>85</td>\n      <td>275 Reviews</td>\n      <td>100,000+ Ratings</td>\n      <td>2010, Western/Drama, 1h 50m</td>\n      <td>https://www.rottentomatoes.com//m/true_grit_2010</td>\n    </tr>\n    <tr>\n      <th>4</th>\n      <td>The King's Speech</td>\n      <td>94</td>\n      <td>R</td>\n      <td>92</td>\n      <td>298 Reviews</td>\n      <td>100,000+ Ratings</td>\n      <td>2010, History/Drama, 1h 58m</td>\n      <td>https://www.rottentomatoes.com//m/the_kings_sp...</td>\n    </tr>\n    <tr>\n      <th>...</th>\n      <td>...</td>\n      <td>...</td>\n      <td>...</td>\n      <td>...</td>\n      <td>...</td>\n      <td>...</td>\n      <td>...</td>\n      <td>...</td>\n    </tr>\n    <tr>\n      <th>95</th>\n      <td>Mother and Child</td>\n      <td>78</td>\n      <td>R</td>\n      <td>76</td>\n      <td>128 Reviews</td>\n      <td>5,000+ Ratings</td>\n      <td>2009, Drama, 2h 6m</td>\n      <td>https://www.rottentomatoes.com//m/mother_and_c...</td>\n    </tr>\n    <tr>\n      <th>96</th>\n      <td>Greenberg</td>\n      <td>76</td>\n      <td>R</td>\n      <td>42</td>\n      <td>176 Reviews</td>\n      <td>25,000+ Ratings</td>\n      <td>2010, Comedy/Drama, 1h 47m</td>\n      <td>https://www.rottentomatoes.com//m/greenberg</td>\n    </tr>\n    <tr>\n      <th>97</th>\n      <td>Countdown to Zero</td>\n      <td>79</td>\n      <td>PG</td>\n      <td>72</td>\n      <td>87 Reviews</td>\n      <td>1,000+ Ratings</td>\n      <td>2010, Documentary, 1h 30m</td>\n      <td>https://www.rottentomatoes.com//m/countdown_to...</td>\n    </tr>\n    <tr>\n      <th>98</th>\n      <td>Splice</td>\n      <td>75</td>\n      <td>R</td>\n      <td>37</td>\n      <td>198 Reviews</td>\n      <td>250,000+ Ratings</td>\n      <td>2009, Horror/Sci-fi, 1h 47m</td>\n      <td>https://www.rottentomatoes.com//m/1208173-splice</td>\n    </tr>\n    <tr>\n      <th>99</th>\n      <td>Solitary Man</td>\n      <td>78</td>\n      <td>R</td>\n      <td>50</td>\n      <td>99 Reviews</td>\n      <td>10,000+ Ratings</td>\n      <td>2009, Comedy/Drama, 1h 29m</td>\n      <td>https://www.rottentomatoes.com//m/solitary_man</td>\n    </tr>\n  </tbody>\n</table>\n<p>100 rows × 8 columns</p>\n</div>"
     },
     "metadata": {}
    }
   ]
  },
  {
   "cell_type": "markdown",
   "source": "# HELP - scraping index pages and getting movie page links",
   "metadata": {
    "tags": [],
    "is_collapsed": false,
    "cell_id": "00003-9100799a-8619-4dc9-aa09-7c47702cecb9",
    "deepnote_cell_type": "text-cell-h1"
   }
  },
  {
   "cell_type": "code",
   "metadata": {
    "tags": [],
    "cell_id": "00001-44e7858e-2aed-4a4f-a09c-40ef181c38ff",
    "deepnote_to_be_reexecuted": false,
    "source_hash": "7cfbc01f",
    "execution_start": 1632509751665,
    "execution_millis": 312,
    "output_cleared": false,
    "deepnote_cell_type": "code"
   },
   "source": "page_url = \"https://www.rottentomatoes.com/top/bestofrt/?year=2021\"\nrequest = requests.get(page_url) \nsoup = BeautifulSoup(request.content,\"html\")\n\nmovies_div = soup.find(\"table\", attrs={\"class\":\"table\"})\n\nmovie_links = movies_div.find_all(\"a\", attrs={\"class\":\"unstyled articleLink\"}, href=True)\nmovie_links = [\"https://www.rottentomatoes.com\" + movie_link[\"href\"] for movie_link in movie_links]\n\nprint(movie_links)",
   "execution_count": null,
   "outputs": [
    {
     "name": "stdout",
     "text": "['https://www.rottentomatoes.com//m/nomadland', 'https://www.rottentomatoes.com//m/judas_and_the_black_messiah', 'https://www.rottentomatoes.com//m/the_father_2021', 'https://www.rottentomatoes.com//m/in_the_heights_2021', 'https://www.rottentomatoes.com//m/summer_of_soul', 'https://www.rottentomatoes.com//m/raya_and_the_last_dragon', 'https://www.rottentomatoes.com//m/coda_2021', 'https://www.rottentomatoes.com//m/the_suicide_squad', 'https://www.rottentomatoes.com//m/a_quiet_place_part_ii', 'https://www.rottentomatoes.com//m/the_mitchells_vs_the_machines', 'https://www.rottentomatoes.com//m/pig_2021', 'https://www.rottentomatoes.com//m/shang_chi_and_the_legend_of_the_ten_rings', 'https://www.rottentomatoes.com//m/mlk_fbi', 'https://www.rottentomatoes.com//m/shiva_baby', 'https://www.rottentomatoes.com//m/luca_2021', 'https://www.rottentomatoes.com//m/quo_vadis_aida', 'https://www.rottentomatoes.com//m/identifying_features', 'https://www.rottentomatoes.com//m/flee', 'https://www.rottentomatoes.com//m/slalom', 'https://www.rottentomatoes.com//m/sabaya', 'https://www.rottentomatoes.com//m/two_of_us', 'https://www.rottentomatoes.com//m/woodlands_dark_and_days_bewitched_a_history_of_folk_horror', 'https://www.rottentomatoes.com//m/paper_spiders', 'https://www.rottentomatoes.com//m/the_sparks_brothers', 'https://www.rottentomatoes.com//m/riders_of_justice', 'https://www.rottentomatoes.com//m/i_carry_you_with_me', 'https://www.rottentomatoes.com//m/the_paper_tigers', 'https://www.rottentomatoes.com//m/rita_moreno_just_a_girl_who_decided_to_go_for_it', 'https://www.rottentomatoes.com//m/petite_maman', 'https://www.rottentomatoes.com//m/billie_eilish_the_worlds_a_little_blurry', 'https://www.rottentomatoes.com//m/the_lost_leonardo', 'https://www.rottentomatoes.com//m/my_heart_cant_beat_unless_you_tell_it_to', 'https://www.rottentomatoes.com//m/days_2021', 'https://www.rottentomatoes.com//m/drunk_bus', 'https://www.rottentomatoes.com//m/hope_2021', 'https://www.rottentomatoes.com//m/playing_with_sharks', 'https://www.rottentomatoes.com//m/demon_slayer_kimetsu_no_yaiba_the_movie_mugen_train', 'https://www.rottentomatoes.com//m/the_reason_i_jump', 'https://www.rottentomatoes.com//m/language_lessons', 'https://www.rottentomatoes.com//m/stray_2021', 'https://www.rottentomatoes.com//m/street_gang_how_we_got_to_sesame_street', 'https://www.rottentomatoes.com//m/herself', 'https://www.rottentomatoes.com//m/the_green_knight', 'https://www.rottentomatoes.com//m/in_the_same_breath', 'https://www.rottentomatoes.com//m/plan_b_2021', 'https://www.rottentomatoes.com//m/val', 'https://www.rottentomatoes.com//m/zola', 'https://www.rottentomatoes.com//m/lapsis', 'https://www.rottentomatoes.com//m/black_widow_2021', 'https://www.rottentomatoes.com//m/supernova_2021', 'https://www.rottentomatoes.com//m/dear_comrades', 'https://www.rottentomatoes.com//m/rose_plays_julie', 'https://www.rottentomatoes.com//m/the_killing_of_two_lovers', 'https://www.rottentomatoes.com//m/candyman_2021', 'https://www.rottentomatoes.com//m/mogul_mowgli', 'https://www.rottentomatoes.com//m/limbo_2021', 'https://www.rottentomatoes.com//m/roadrunner_a_film_about_anthony_bourdain', 'https://www.rottentomatoes.com//m/test_pattern', 'https://www.rottentomatoes.com//m/im_your_man_2021', 'https://www.rottentomatoes.com//m/some_kind_of_heaven', 'https://www.rottentomatoes.com//m/together_together', 'https://www.rottentomatoes.com//m/swan_song_2021', 'https://www.rottentomatoes.com//m/tina', 'https://www.rottentomatoes.com//m/nobody_2021', 'https://www.rottentomatoes.com//m/pg_psycho_goreman', 'https://www.rottentomatoes.com//m/censor_2021', 'https://www.rottentomatoes.com//m/all_light_everywhere', 'https://www.rottentomatoes.com//m/lily_topples_the_world', 'https://www.rottentomatoes.com//m/bo_burnham_inside', 'https://www.rottentomatoes.com//m/never_gonna_snow_again', 'https://www.rottentomatoes.com//m/the_man_who_sold_his_skin', 'https://www.rottentomatoes.com//m/spring_blossom', 'https://www.rottentomatoes.com//m/the_vigil_2021', 'https://www.rottentomatoes.com//m/martyrs_lane', 'https://www.rottentomatoes.com//m/titane', 'https://www.rottentomatoes.com//m/pray_away', 'https://www.rottentomatoes.com//m/raging_fire', 'https://www.rottentomatoes.com//m/wildland_2021', 'https://www.rottentomatoes.com//m/mass_2021', 'https://www.rottentomatoes.com//m/final_account', 'https://www.rottentomatoes.com//m/the_dig_2021', 'https://www.rottentomatoes.com//m/little_fish_2021', 'https://www.rottentomatoes.com//m/the_power_of_the_dog', 'https://www.rottentomatoes.com//m/days_of_the_bagnold_summer', 'https://www.rottentomatoes.com//m/truman_and_tennessee_an_intimate_conversation', 'https://www.rottentomatoes.com//m/the_night_house', 'https://www.rottentomatoes.com//m/nine_days', 'https://www.rottentomatoes.com//m/ema', 'https://www.rottentomatoes.com//m/holler', 'https://www.rottentomatoes.com//m/dream_horse', 'https://www.rottentomatoes.com//m/bloody_hell', 'https://www.rottentomatoes.com//m/cowboys_2021', 'https://www.rottentomatoes.com//m/rams_2021', 'https://www.rottentomatoes.com//m/dune_2021', 'https://www.rottentomatoes.com//m/the_card_counter', 'https://www.rottentomatoes.com//m/fear_street_part_three_1666', 'https://www.rottentomatoes.com//m/coming_home_in_the_dark', 'https://www.rottentomatoes.com//m/spencer_2021', 'https://www.rottentomatoes.com//m/the_dry', 'https://www.rottentomatoes.com//m/fear_street_part_two_1978']\n",
     "output_type": "stream"
    }
   ]
  },
  {
   "cell_type": "markdown",
   "source": "# HELP - scraping movie page",
   "metadata": {
    "tags": [],
    "is_collapsed": false,
    "cell_id": "00004-78c66557-2d9f-4d6e-9386-4ba8f1c18a34",
    "deepnote_cell_type": "text-cell-h1"
   }
  },
  {
   "cell_type": "code",
   "metadata": {
    "tags": [],
    "cell_id": "00005-5e7039e9-08c2-4eb9-971a-14a88ac41fe2",
    "deepnote_to_be_reexecuted": false,
    "source_hash": "1a6bdaa",
    "execution_start": 1632510585841,
    "execution_millis": 436,
    "deepnote_cell_type": "code"
   },
   "source": "page_url = \"https://www.rottentomatoes.com/m/nomadland\"\nrequest = requests.get(page_url) \nsoup = BeautifulSoup(request.content,\"lxml\")\n\ntitle = soup.find(\"h1\", attrs={\"data-qa\":\"score-panel-movie-title\"}).text\nrotten_tomatoes_score = soup.find(\"score-board\", attrs={\"class\": \"scoreboard\"})[\"tomatometerscore\"]\nrotten_tomatoes_score_number_of_reviews = soup.find(\"a\", attrs={\"data-qa\":\"tomatometer-review-count\"}).text\naudience_score = soup.find(\"score-board\", attrs={\"class\": \"scoreboard\"})[\"audiencescore\"]\naudience_sore_number_of_reviews = soup.find(\"a\", attrs={\"data-qa\":\"audience-rating-count\"}).text\n\nprint(title)\nprint(rotten_tomatoes_score)\nprint(rotten_tomatoes_score_number_of_reviews)\nprint(audience_score)\nprint(audience_sore_number_of_reviews)",
   "execution_count": null,
   "outputs": [
    {
     "name": "stdout",
     "text": "Nomadland\n94\n417 Reviews\n82\n500+ Verified Ratings\n",
     "output_type": "stream"
    }
   ]
  },
  {
   "cell_type": "markdown",
   "source": "# HELP - scraping more info section",
   "metadata": {
    "tags": [],
    "is_collapsed": false,
    "cell_id": "00005-4e01f690-708c-49b9-96f3-e10d45093274",
    "deepnote_cell_type": "text-cell-h1"
   }
  },
  {
   "cell_type": "code",
   "metadata": {
    "tags": [],
    "cell_id": "00007-0c6fc116-bb39-4c53-8d06-c947d016aca9",
    "deepnote_to_be_reexecuted": false,
    "source_hash": "db0e52ab",
    "execution_start": 1632510657595,
    "execution_millis": 312,
    "deepnote_cell_type": "code"
   },
   "source": "page_url = \"https://www.rottentomatoes.com/m/nomadland\"\nrequest = requests.get(page_url) \nsoup = BeautifulSoup(request.content,\"html\")\n\nmore_info_div = soup.find(\"ul\", attrs={\"class\":\"content-meta info\"})\nmore_info = more_info_div.find_all(\"li\", attrs={\"data-qa\":\"movie-info-item\"})\n\ninfo = more_info[0].text\ncategory, values = info.split(\":\")\n\nprint(category.strip())\nprint(values.strip())",
   "execution_count": null,
   "outputs": [
    {
     "name": "stdout",
     "text": "Rating\nR (Some Full Nudity)\n",
     "output_type": "stream"
    }
   ]
  },
  {
   "cell_type": "markdown",
   "source": "<a style='text-decoration:none;line-height:16px;display:flex;color:#5B5B62;padding:10px;justify-content:end;' href='https://deepnote.com?utm_source=created-in-deepnote-cell&projectId=7d3ce7c8-a514-49e4-9ba4-a5899ac52ea5' target=\"_blank\">\n<img alt='Created in deepnote.com' style='display:inline;max-height:16px;margin:0px;margin-right:7.5px;' src='data:image/svg+xml;base64,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' > </img>\nCreated in <span style='font-weight:600;margin-left:4px;'>Deepnote</span></a>",
   "metadata": {
    "tags": [],
    "created_in_deepnote_cell": true,
    "deepnote_cell_type": "markdown"
   }
  }
 ],
 "nbformat": 4,
 "nbformat_minor": 2,
 "metadata": {
  "orig_nbformat": 2,
  "deepnote": {
   "is_reactive": false
  },
  "deepnote_notebook_id": "92141ae1-ecb7-4fc8-8a99-1288546e5854",
  "deepnote_execution_queue": []
 }
}