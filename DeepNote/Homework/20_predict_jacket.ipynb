{
 "cells": [
  {
   "cell_type": "code",
   "metadata": {
    "tags": [],
    "cell_id": "00000-40b83b65-b282-4990-82dd-28a840ec1919",
    "deepnote_to_be_reexecuted": false,
    "source_hash": "a9931736",
    "execution_start": 1633780420824,
    "execution_millis": 8084,
    "output_cleared": false,
    "deepnote_cell_type": "code"
   },
   "source": "!pip install xlrd\n!pip install openpyxl\n!pip install",
   "execution_count": null,
   "outputs": [
    {
     "name": "stdout",
     "text": "Collecting xlrd\n  Downloading xlrd-2.0.1-py2.py3-none-any.whl (96 kB)\n\u001b[K     |████████████████████████████████| 96 kB 9.8 MB/s \n\u001b[?25hInstalling collected packages: xlrd\nSuccessfully installed xlrd-2.0.1\nCollecting openpyxl\n  Downloading openpyxl-3.0.9-py2.py3-none-any.whl (242 kB)\n\u001b[K     |████████████████████████████████| 242 kB 30.7 MB/s \n\u001b[?25hCollecting et-xmlfile\n  Downloading et_xmlfile-1.1.0-py3-none-any.whl (4.7 kB)\nInstalling collected packages: et-xmlfile, openpyxl\nSuccessfully installed et-xmlfile-1.1.0 openpyxl-3.0.9\n\u001b[31mERROR: You must give at least one requirement to install (see \"pip help install\")\u001b[0m\n",
     "output_type": "stream"
    }
   ]
  },
  {
   "cell_type": "code",
   "metadata": {
    "tags": [],
    "cell_id": "00001-0ab24808-6bad-4cd7-8907-24438c22c092",
    "deepnote_to_be_reexecuted": false,
    "source_hash": "2cef0959",
    "execution_start": 1633780434576,
    "execution_millis": 233,
    "deepnote_cell_type": "code"
   },
   "source": "import pandas as pd\n\nurl = \"/work/data/homework 20/data_wear_a_jacket.xlsx\"\n\ndf= pd.read_excel(url)\ndf",
   "execution_count": null,
   "outputs": [
    {
     "output_type": "execute_result",
     "execution_count": 2,
     "data": {
      "application/vnd.deepnote.dataframe.v2+json": {
       "row_count": 20,
       "column_count": 3,
       "columns": [
        {
         "name": "temperature",
         "dtype": "int64",
         "stats": {
          "unique_count": 14,
          "nan_count": 0,
          "min": "-8",
          "max": "31",
          "histogram": [
           {
            "bin_start": -8,
            "bin_end": -4.1,
            "count": 1
           },
           {
            "bin_start": -4.1,
            "bin_end": -0.20000000000000018,
            "count": 1
           },
           {
            "bin_start": -0.20000000000000018,
            "bin_end": 3.6999999999999993,
            "count": 0
           },
           {
            "bin_start": 3.6999999999999993,
            "bin_end": 7.6,
            "count": 1
           },
           {
            "bin_start": 7.6,
            "bin_end": 11.5,
            "count": 1
           },
           {
            "bin_start": 11.5,
            "bin_end": 15.399999999999999,
            "count": 4
           },
           {
            "bin_start": 15.399999999999999,
            "bin_end": 19.3,
            "count": 3
           },
           {
            "bin_start": 19.3,
            "bin_end": 23.2,
            "count": 4
           },
           {
            "bin_start": 23.2,
            "bin_end": 27.1,
            "count": 2
           },
           {
            "bin_start": 27.1,
            "bin_end": 31,
            "count": 3
           }
          ]
         }
        },
        {
         "name": "contitions",
         "dtype": "object",
         "stats": {
          "unique_count": 4,
          "nan_count": 0,
          "categories": [
           {
            "name": "clear",
            "count": 9
           },
           {
            "name": "rain",
            "count": 5
           },
           {
            "name": "2 others",
            "count": 6
           }
          ]
         }
        },
        {
         "name": "wear_a_jacket",
         "dtype": "object",
         "stats": {
          "unique_count": 2,
          "nan_count": 0,
          "categories": [
           {
            "name": "no",
            "count": 12
           },
           {
            "name": "yes",
            "count": 8
           }
          ]
         }
        },
        {
         "name": "_deepnote_index_column",
         "dtype": "int64"
        }
       ],
       "rows_top": [
        {
         "temperature": 30,
         "contitions": "sunny",
         "wear_a_jacket": "no",
         "_deepnote_index_column": 0
        },
        {
         "temperature": 25,
         "contitions": "rain",
         "wear_a_jacket": "no",
         "_deepnote_index_column": 1
        },
        {
         "temperature": 23,
         "contitions": "rain",
         "wear_a_jacket": "no",
         "_deepnote_index_column": 2
        },
        {
         "temperature": 23,
         "contitions": "sunny",
         "wear_a_jacket": "no",
         "_deepnote_index_column": 3
        },
        {
         "temperature": 25,
         "contitions": "sunny",
         "wear_a_jacket": "no",
         "_deepnote_index_column": 4
        },
        {
         "temperature": 16,
         "contitions": "rain",
         "wear_a_jacket": "yes",
         "_deepnote_index_column": 5
        },
        {
         "temperature": 10,
         "contitions": "clear",
         "wear_a_jacket": "yes",
         "_deepnote_index_column": 6
        },
        {
         "temperature": -1,
         "contitions": "snow",
         "wear_a_jacket": "yes",
         "_deepnote_index_column": 7
        },
        {
         "temperature": -8,
         "contitions": "clear",
         "wear_a_jacket": "yes",
         "_deepnote_index_column": 8
        },
        {
         "temperature": 6,
         "contitions": "snow",
         "wear_a_jacket": "yes",
         "_deepnote_index_column": 9
        },
        {
         "temperature": 13,
         "contitions": "clear",
         "wear_a_jacket": "no",
         "_deepnote_index_column": 10
        },
        {
         "temperature": 14,
         "contitions": "rain",
         "wear_a_jacket": "yes",
         "_deepnote_index_column": 11
        },
        {
         "temperature": 16,
         "contitions": "clear",
         "wear_a_jacket": "no",
         "_deepnote_index_column": 12
        },
        {
         "temperature": 17,
         "contitions": "clear",
         "wear_a_jacket": "no",
         "_deepnote_index_column": 13
        },
        {
         "temperature": 20,
         "contitions": "sunny",
         "wear_a_jacket": "no",
         "_deepnote_index_column": 14
        },
        {
         "temperature": 30,
         "contitions": "clear",
         "wear_a_jacket": "no",
         "_deepnote_index_column": 15
        },
        {
         "temperature": 20,
         "contitions": "rain",
         "wear_a_jacket": "yes",
         "_deepnote_index_column": 16
        },
        {
         "temperature": 12,
         "contitions": "clear",
         "wear_a_jacket": "yes",
         "_deepnote_index_column": 17
        },
        {
         "temperature": 31,
         "contitions": "clear",
         "wear_a_jacket": "no",
         "_deepnote_index_column": 18
        },
        {
         "temperature": 14,
         "contitions": "clear",
         "wear_a_jacket": "no",
         "_deepnote_index_column": 19
        }
       ],
       "rows_bottom": null
      },
      "text/plain": "    temperature contitions wear_a_jacket\n0            30      sunny            no\n1            25       rain            no\n2            23       rain            no\n3            23      sunny            no\n4            25      sunny            no\n5            16       rain           yes\n6            10      clear           yes\n7            -1       snow           yes\n8            -8      clear           yes\n9             6       snow           yes\n10           13      clear            no\n11           14       rain           yes\n12           16      clear            no\n13           17      clear            no\n14           20      sunny            no\n15           30      clear            no\n16           20       rain           yes\n17           12      clear           yes\n18           31      clear            no\n19           14      clear            no",
      "text/html": "<div>\n<style scoped>\n    .dataframe tbody tr th:only-of-type {\n        vertical-align: middle;\n    }\n\n    .dataframe tbody tr th {\n        vertical-align: top;\n    }\n\n    .dataframe thead th {\n        text-align: right;\n    }\n</style>\n<table border=\"1\" class=\"dataframe\">\n  <thead>\n    <tr style=\"text-align: right;\">\n      <th></th>\n      <th>temperature</th>\n      <th>contitions</th>\n      <th>wear_a_jacket</th>\n    </tr>\n  </thead>\n  <tbody>\n    <tr>\n      <th>0</th>\n      <td>30</td>\n      <td>sunny</td>\n      <td>no</td>\n    </tr>\n    <tr>\n      <th>1</th>\n      <td>25</td>\n      <td>rain</td>\n      <td>no</td>\n    </tr>\n    <tr>\n      <th>2</th>\n      <td>23</td>\n      <td>rain</td>\n      <td>no</td>\n    </tr>\n    <tr>\n      <th>3</th>\n      <td>23</td>\n      <td>sunny</td>\n      <td>no</td>\n    </tr>\n    <tr>\n      <th>4</th>\n      <td>25</td>\n      <td>sunny</td>\n      <td>no</td>\n    </tr>\n    <tr>\n      <th>5</th>\n      <td>16</td>\n      <td>rain</td>\n      <td>yes</td>\n    </tr>\n    <tr>\n      <th>6</th>\n      <td>10</td>\n      <td>clear</td>\n      <td>yes</td>\n    </tr>\n    <tr>\n      <th>7</th>\n      <td>-1</td>\n      <td>snow</td>\n      <td>yes</td>\n    </tr>\n    <tr>\n      <th>8</th>\n      <td>-8</td>\n      <td>clear</td>\n      <td>yes</td>\n    </tr>\n    <tr>\n      <th>9</th>\n      <td>6</td>\n      <td>snow</td>\n      <td>yes</td>\n    </tr>\n    <tr>\n      <th>10</th>\n      <td>13</td>\n      <td>clear</td>\n      <td>no</td>\n    </tr>\n    <tr>\n      <th>11</th>\n      <td>14</td>\n      <td>rain</td>\n      <td>yes</td>\n    </tr>\n    <tr>\n      <th>12</th>\n      <td>16</td>\n      <td>clear</td>\n      <td>no</td>\n    </tr>\n    <tr>\n      <th>13</th>\n      <td>17</td>\n      <td>clear</td>\n      <td>no</td>\n    </tr>\n    <tr>\n      <th>14</th>\n      <td>20</td>\n      <td>sunny</td>\n      <td>no</td>\n    </tr>\n    <tr>\n      <th>15</th>\n      <td>30</td>\n      <td>clear</td>\n      <td>no</td>\n    </tr>\n    <tr>\n      <th>16</th>\n      <td>20</td>\n      <td>rain</td>\n      <td>yes</td>\n    </tr>\n    <tr>\n      <th>17</th>\n      <td>12</td>\n      <td>clear</td>\n      <td>yes</td>\n    </tr>\n    <tr>\n      <th>18</th>\n      <td>31</td>\n      <td>clear</td>\n      <td>no</td>\n    </tr>\n    <tr>\n      <th>19</th>\n      <td>14</td>\n      <td>clear</td>\n      <td>no</td>\n    </tr>\n  </tbody>\n</table>\n</div>"
     },
     "metadata": {}
    }
   ]
  },
  {
   "cell_type": "code",
   "metadata": {
    "tags": [],
    "cell_id": "00001-242c72ac-960c-4a7d-acda-e53bcf7b1f16",
    "deepnote_to_be_reexecuted": false,
    "source_hash": "1dd7f61",
    "execution_start": 1630858025858,
    "execution_millis": 51,
    "deepnote_cell_type": "code"
   },
   "source": "enc = OrdinalEncoder()\nenc.fit(df[[\"contitions\",\"wear_a_jacket\"]])\ndf[[\"contitions\",\"wear_a_jacket\"]] = enc.fit_transform(df[[\"contitions\",\"wear_a_jacket\"]])\ndf.head()\n\nX=df.drop([\"wear_a_jacket\"],axis=1)\ny=df[\"wear_a_jacket\"]\n\nX_train,X_test,y_train,y_test = train_test_split(X,y,test_size=0.3,random_state=42,shuffle=True)\n\nscaler=MinMaxScaler()\nscaler.fit(X_train)\n\nscaled_X_train = scaler.transform(X_train)\nscaled_X_test = scaler.transform(X_test)\n\nmodel=KNeighborsClassifier(n_neighbors=3)\nmodel.fit(scaled_X_train,y_train)\nprediction = model.predict(scaled_X_test)\ntarget_names = ['yes', 'no']\nprint(\"classification report\",metrics.classification_report(y_test, prediction, target_names=target_names))\n\n\n",
   "execution_count": null,
   "outputs": [
    {
     "name": "stdout",
     "text": "classification report               precision    recall  f1-score   support\n\n         yes       0.50      0.67      0.57         3\n          no       0.50      0.33      0.40         3\n\n    accuracy                           0.50         6\n   macro avg       0.50      0.50      0.49         6\nweighted avg       0.50      0.50      0.49         6\n\n",
     "output_type": "stream"
    }
   ]
  },
  {
   "cell_type": "code",
   "metadata": {
    "tags": [],
    "cell_id": "00000-b8714429-1f16-42bb-9302-d5fad81834be",
    "deepnote_to_be_reexecuted": false,
    "source_hash": "c8be5895",
    "execution_start": 1633780470283,
    "execution_millis": 9,
    "deepnote_cell_type": "code"
   },
   "source": "url = \"/work/data/homework 20/data_wear_a_jacket.xlsx\"\n\nimport pandas as pd\nimport matplotlib.pyplot as plt\nimport seaborn as sns\nimport numpy as np\n\nfrom sklearn.preprocessing import OrdinalEncoder\nfrom sklearn.model_selection import train_test_split\nfrom sklearn.tree import DecisionTreeClassifier\nfrom sklearn import metrics\nfrom sklearn.preprocessing import StandardScaler, MinMaxScaler\nfrom sklearn.linear_model import Ridge\n\nclass shouldIWearAJacket():\n\n    def __init__(self):\n        self.enc_categorical = None\n        self.enc_numerical = None\n        self.model = None\n        pass\n\n    def model_training_pipeline(self):\n        df = pd.read_excel(url)\n        self.df_og = df.copy()\n        df = self.load_and_prepare_data(url, df)\n        self.create_and_train_model(df)\n    \n    def load_and_prepare_data(self,url, df):\n        enc = OrdinalEncoder()\n        enc.fit(df[[\"wear_a_jacket\"]])\n        df[[\"wear_a_jacket\"]] = enc.fit_transform(df[[\"wear_a_jacket\"]])\n        return df\n\n    def create_and_train_model(self, df):\n        enc_categorical = OrdinalEncoder()\n        enc_categorical.fit(df[[\"contitions\"]])\n        df[\"contitions\"] = enc_categorical.fit_transform(df[[\"contitions\"]])\n        \n        X=df.drop([\"wear_a_jacket\"],axis=1)\n        y=df[\"wear_a_jacket\"]\n\n        X_train,X_test,y_train,y_test = train_test_split(X,y,test_size=0.3,random_state=42,shuffle=True)\n\n        enc_numerical = MinMaxScaler()\n        enc_numerical.fit(X_train)\n\n        scaled_X_train = enc_numerical.transform(X_train)\n        scaled_X_test = enc_numerical.transform(X_test)    \n        \n        model=KNeighborsClassifier(n_neighbors=3)\n        model.fit(scaled_X_train,y_train)\n\n        self.save_model(enc_categorical, enc_numerical, model)\n\n    def save_model(self,enc_categorical,enc_numerical,model):\n        dump(enc_categorical, \"/work/data/homework 20/enc_categorical.joblib\")\n        dump(enc_numerical, \"/work/data/homework 20/enc_numerical.joblib\")\n        dump(model, \"/work/data/homework 20/classification_model.joblib\")\n\n        \n    def load_model(self):\n        #self.enc_categorical = load(\"/work/data/homework 20/enc_categorical.joblib\")\n        #self.enc_numerical = load(\"/work/data/homework 20/enc_numerical.joblib\")\n        #self.model = load(\"/work/data/homework 20/classification_model.joblib\")\n\n    def predict(self, value_to_predict):\n        if not self.enc_categorical:\n            print(\"loaded first time\")\n            self.load_model()\n        else:\n            print(\"did not load\")\n        \n        df = pd.DataFrame(value_to_predict, columns=[\"temperature\", \"contitions\"])\n        df[\"contitions\"] = self.enc_categorical.transform(df[[\"contitions\"]])\n        \n        scaled_new_data = self.enc_numerical.transform(df)\n\n        prediction = self.model.predict(scaled_new_data)\n        return prediction\n\nmodel = shouldIWearAJacket()\n# model.model_training_pipeline()\n\nvalues_to_predict = [[30, \"sunny\"], [5, \"clear\"], [24, \"rain\"]]\nmodel.predict(values_to_predict)\n\nvalues_to_predict = [[30, \"sunny\"], [5, \"clear\"], [24, \"rain\"]]\nmodel.predict(values_to_predict)",
   "execution_count": null,
   "outputs": [
    {
     "output_type": "error",
     "ename": "IndentationError",
     "evalue": "expected an indented block (4058761092.py, line 67)",
     "traceback": [
      "\u001b[0;36m  File \u001b[0;32m\"/tmp/ipykernel_291/4058761092.py\"\u001b[0;36m, line \u001b[0;32m67\u001b[0m\n\u001b[0;31m    def predict(self, value_to_predict):\u001b[0m\n\u001b[0m      ^\u001b[0m\n\u001b[0;31mIndentationError\u001b[0m\u001b[0;31m:\u001b[0m expected an indented block\n"
     ]
    }
   ]
  },
  {
   "cell_type": "markdown",
   "source": "read the datasset, no need to fill NA or anything. \n\nX values:\n- temperature outside\n- conditions outsode (sunny, rain, snow, clear)\n\ntarget:\n- wear_a_jacket - whether to wear a jacket or not (yes/no)\n\n\nYou will need to encode columns containing categorical values, so that the model can work with the data.\nYou will be predicting a class (yes/no), this means your supervised model will be a classification - not a regression (that predicts numbers). You will be predicting yes/no or 0/1.\nUser either `KNeighborsClassifier`, `DecisionTreeClassifier`, or any other classifier you find on scikit.\n\nCreate the model, train it, evaluate it, change parameters if required, and once you are satisfied with its performance... predict the following values and see what you will get: `[[30, \"sunny\"], [10, \"clear\"], [\"16, \"rain\"]]`\n\nOnce all of this works, put all of this to a class - it should clean the data, encode it, define and train the model, and then when a function `predict(value_to_predict):` is called afterwards, it should predict the values passed into the predict function.\n\n Try to do this by yourself, if you need the help with the class, i defined how it should look at the bottom of the notebook.",
   "metadata": {
    "tags": [],
    "cell_id": "00001-a7db187a-0a4f-4e36-90a8-5112f2ea97dd",
    "deepnote_cell_type": "markdown"
   }
  },
  {
   "cell_type": "markdown",
   "source": "# Defined class if you need help:",
   "metadata": {
    "tags": [],
    "is_collapsed": false,
    "cell_id": "00002-7822fab2-5927-48ff-b1c4-e10abb40b580",
    "deepnote_cell_type": "text-cell-h1"
   }
  },
  {
   "cell_type": "code",
   "metadata": {
    "tags": [],
    "cell_id": "00002-4bed27f5-bd78-4eea-8967-4715937e9757",
    "deepnote_cell_type": "code"
   },
   "source": "class shouldIWearAJacket():\n    def __init__(self):\n        self.load_and_prepare_data()\n        self.create_and_train_model()\n\n    def load_and_prepare_data(self, url):\n        \" load and preprocess (encode) the data-set here\"\n    \n    def create_and_train_model(self):\n        \" create and train the ML model here \"\n        self.model =\n    \n    def predict(self, value_to_predict):\n        \" create code that uses trained model and input value_to_predict, it predicts the output, and then return that value\"\n\nmodel = shouldIWearAJacket()\n\nvalues_to_predict = [[30, \"sunny\"], [10, \"clear\"], [\"16, \"rain\"]]\nmodel.predict(values_to_predict)",
   "execution_count": null,
   "outputs": []
  },
  {
   "cell_type": "markdown",
   "source": "<a style='text-decoration:none;line-height:16px;display:flex;color:#5B5B62;padding:10px;justify-content:end;' href='https://deepnote.com?utm_source=created-in-deepnote-cell&projectId=7d3ce7c8-a514-49e4-9ba4-a5899ac52ea5' target=\"_blank\">\n<img alt='Created in deepnote.com' style='display:inline;max-height:16px;margin:0px;margin-right:7.5px;' src='data:image/svg+xml;base64,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' > </img>\nCreated in <span style='font-weight:600;margin-left:4px;'>Deepnote</span></a>",
   "metadata": {
    "tags": [],
    "created_in_deepnote_cell": true,
    "deepnote_cell_type": "markdown"
   }
  }
 ],
 "nbformat": 4,
 "nbformat_minor": 2,
 "metadata": {
  "orig_nbformat": 2,
  "deepnote": {
   "is_reactive": false
  },
  "deepnote_notebook_id": "9cb93bf6-a950-497f-8772-9f063f2bb267",
  "deepnote_execution_queue": []
 }
}