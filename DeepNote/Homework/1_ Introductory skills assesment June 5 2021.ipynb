{
 "cells": [
  {
   "cell_type": "markdown",
   "source": "Define two variables number1, number2. Sum 2 and 3 and print the result",
   "metadata": {
    "tags": [],
    "cell_id": "00000-0908d995-bb60-43ea-ab3c-12feb4d211a7",
    "deepnote_cell_type": "text-cell-p"
   }
  },
  {
   "cell_type": "code",
   "metadata": {
    "tags": [],
    "cell_id": "00000-f6cb90a6-2cdc-4443-a776-3ec9bcfae10e",
    "deepnote_to_be_reexecuted": false,
    "source_hash": "289ff71a",
    "execution_start": 1623343369472,
    "execution_millis": 335248239,
    "output_cleared": false,
    "deepnote_cell_type": "code"
   },
   "source": "number1 = 2\nnumber2 = 3\n\nresult = number1 + number2\nprint(result)",
   "execution_count": null,
   "outputs": [
    {
     "name": "stdout",
     "text": "5\n",
     "output_type": "stream"
    }
   ]
  },
  {
   "cell_type": "markdown",
   "source": "Print the result of number1 to the power of number2",
   "metadata": {
    "tags": [],
    "cell_id": "00002-cfb9565d-19a5-44c8-aee1-e24820d9eb10",
    "deepnote_cell_type": "text-cell-p"
   }
  },
  {
   "cell_type": "code",
   "metadata": {
    "tags": [],
    "cell_id": "00003-1673d9f3-5f74-47a4-96c2-09291033a93c",
    "deepnote_to_be_reexecuted": false,
    "source_hash": "e38af9f5",
    "execution_start": 1623343369494,
    "execution_millis": 335248219,
    "output_cleared": false,
    "deepnote_cell_type": "code"
   },
   "source": "result = number1**number2\nprint(result)",
   "execution_count": null,
   "outputs": [
    {
     "name": "stdout",
     "text": "8\n",
     "output_type": "stream"
    }
   ]
  },
  {
   "cell_type": "markdown",
   "source": "Create a function \"power\" that has input consisting of two variables, and it returns number1 to the power of number2",
   "metadata": {
    "tags": [],
    "cell_id": "00002-5f8e710e-8592-4499-a636-476c31dd61d5",
    "deepnote_cell_type": "text-cell-p"
   }
  },
  {
   "cell_type": "code",
   "metadata": {
    "tags": [],
    "cell_id": "00000-7a836738-4522-4f9e-b57a-d2bf629861a1",
    "deepnote_to_be_reexecuted": false,
    "source_hash": "f38d3ec5",
    "execution_start": 1623343369494,
    "execution_millis": 335248197,
    "output_cleared": false,
    "deepnote_cell_type": "code"
   },
   "source": "def power(number1,number2):\n    return number1**number2\n    \ntest = power(2,3)\nprint(test)",
   "execution_count": null,
   "outputs": [
    {
     "name": "stdout",
     "text": "8\n",
     "output_type": "stream"
    }
   ]
  },
  {
   "cell_type": "markdown",
   "source": "Import Numpy and call the power function and print the result of 2 to the power of 3",
   "metadata": {
    "tags": [],
    "cell_id": "00005-35ae25fa-25bf-431d-9b97-d98bedf8bde7",
    "deepnote_cell_type": "text-cell-p"
   }
  },
  {
   "cell_type": "code",
   "metadata": {
    "tags": [],
    "cell_id": "00007-64dfef4f-aa64-4a50-bf51-ea9379988fc9",
    "deepnote_to_be_reexecuted": false,
    "source_hash": "f04eef61",
    "execution_start": 1623343369495,
    "execution_millis": 1506706,
    "deepnote_cell_type": "code"
   },
   "source": "import numpy as np\n\nnp.power(2,3)",
   "execution_count": null,
   "outputs": [
    {
     "output_type": "execute_result",
     "execution_count": 12,
     "data": {
      "text/plain": "8"
     },
     "metadata": {}
    }
   ]
  },
  {
   "cell_type": "markdown",
   "source": "Check if the defined_number is less than 10, if yes, print True",
   "metadata": {
    "tags": [],
    "cell_id": "00008-b665a1e8-c3b1-4285-a7c6-8157faf27b8d",
    "deepnote_cell_type": "text-cell-p"
   }
  },
  {
   "cell_type": "code",
   "metadata": {
    "tags": [],
    "cell_id": "00009-58c06c1f-0809-4779-bbca-3088e3c77b21",
    "deepnote_to_be_reexecuted": false,
    "source_hash": "99e2933f",
    "execution_start": 1623343369515,
    "execution_millis": 335248157,
    "output_cleared": false,
    "deepnote_cell_type": "code"
   },
   "source": "defined_number = 8\n\nif defined_number < 10:\n  print(True)",
   "execution_count": null,
   "outputs": [
    {
     "name": "stdout",
     "text": "True\n",
     "output_type": "stream"
    }
   ]
  },
  {
   "cell_type": "markdown",
   "source": "Following randrange(15) returns a random integer from 0 to 15. Create a code that if the random_number is less than 5 it says \"less than 5\". If it is between 5 to 10 it says \"between 5 and 10\" and if it is more than 10 it says \"more than 10\". Print the number with each response.",
   "metadata": {
    "tags": [],
    "cell_id": "00010-87af9401-6a68-4563-aa0c-ab6ac45f857b",
    "deepnote_cell_type": "text-cell-p"
   }
  },
  {
   "cell_type": "code",
   "metadata": {
    "tags": [],
    "cell_id": "00010-1245fd1b-ac2d-48e1-804c-cb019fb54195",
    "deepnote_to_be_reexecuted": false,
    "source_hash": "7a1544b9",
    "execution_start": 1623343369516,
    "execution_millis": 335248204,
    "output_cleared": false,
    "deepnote_cell_type": "code"
   },
   "source": "from random import randrange\n\nrandom_number = randrange(15) \n\nif random_number < 5:\n    print(\"less than 5\")\nelif 5 < random_number <= 10:\n    print(\"between 5 and 10\")\nelse:\n    print(\"more than 10\")\n\n",
   "execution_count": null,
   "outputs": [
    {
     "name": "stdout",
     "text": "between 5 and 10\n",
     "output_type": "stream"
    }
   ]
  },
  {
   "cell_type": "markdown",
   "source": "Create a function that has input consisting of two variables. It returns their sum but if the sum is above 100 it returns their multiplication instead.",
   "metadata": {
    "tags": [],
    "cell_id": "00001-ea923a83-42e1-4e52-ba14-e4fd6f2e47f0",
    "deepnote_cell_type": "text-cell-p"
   }
  },
  {
   "cell_type": "code",
   "metadata": {
    "tags": [],
    "cell_id": "00002-7ebc9c0f-339e-4cbb-983f-0a167b72b2a9",
    "deepnote_to_be_reexecuted": false,
    "source_hash": "aeb74fe4",
    "execution_start": 1623343369516,
    "execution_millis": 335248172,
    "output_cleared": false,
    "deepnote_cell_type": "code"
   },
   "source": "def multi (number1,number2):\n     result = number1 + number2\n     if result < 100:\n        return number1*number2\n    return result",
   "execution_count": null,
   "outputs": [
    {
     "output_type": "error",
     "ename": "IndentationError",
     "evalue": "unindent does not match any outer indentation level (<tokenize>, line 5)",
     "traceback": [
      "\u001b[0;36m  File \u001b[0;32m\"<tokenize>\"\u001b[0;36m, line \u001b[0;32m5\u001b[0m\n\u001b[0;31m    return result\u001b[0m\n\u001b[0m    ^\u001b[0m\n\u001b[0;31mIndentationError\u001b[0m\u001b[0;31m:\u001b[0m unindent does not match any outer indentation level\n"
     ]
    }
   ]
  },
  {
   "cell_type": "markdown",
   "source": "Print number from 0 to 5 in a for loop",
   "metadata": {
    "tags": [],
    "cell_id": "00010-5910cb23-b519-4449-a7fb-9a091a0a49d5",
    "deepnote_cell_type": "text-cell-p"
   }
  },
  {
   "cell_type": "code",
   "metadata": {
    "tags": [],
    "cell_id": "00011-c0993f8a-bcc9-4370-87a1-49561b7917ad",
    "deepnote_to_be_reexecuted": true,
    "source_hash": "34ba3908",
    "execution_start": 1623342419807,
    "execution_millis": 23,
    "output_cleared": false,
    "deepnote_cell_type": "code"
   },
   "source": "for i in range (0,5):\n  print(i) ",
   "execution_count": null,
   "outputs": [
    {
     "name": "stdout",
     "text": "0\n1\n2\n3\n4\n",
     "output_type": "stream"
    }
   ]
  },
  {
   "cell_type": "markdown",
   "source": "Define a number = 0 at the begning. Make a for loop that goes from 0 to 5, and in every itteration add that itteration's value onto the defined number, and print the result.",
   "metadata": {
    "tags": [],
    "cell_id": "00012-15b76df7-44f0-4b62-8b0c-751776d84d00",
    "deepnote_cell_type": "text-cell-p"
   }
  },
  {
   "cell_type": "code",
   "metadata": {
    "tags": [],
    "cell_id": "00012-2420c7a2-72e2-4103-9cc6-02b8450f46af",
    "deepnote_to_be_reexecuted": true,
    "source_hash": "a3c5e279",
    "execution_start": 1623001859133,
    "execution_millis": 7,
    "output_cleared": false,
    "deepnote_cell_type": "code"
   },
   "source": "number = 0\nfor i in range (0,5):\n  number += i\n  print(number)",
   "execution_count": null,
   "outputs": [
    {
     "name": "stdout",
     "text": "0\n1\n3\n6\n10\n",
     "output_type": "stream"
    }
   ]
  },
  {
   "cell_type": "markdown",
   "source": "Print how many times \"is\" occus in the following text ",
   "metadata": {
    "tags": [],
    "cell_id": "00014-28734edc-0553-499a-a7f6-147a557ffb58",
    "deepnote_cell_type": "text-cell-p"
   }
  },
  {
   "cell_type": "code",
   "metadata": {
    "tags": [],
    "cell_id": "00019-d168e1e5-9d73-4bfc-a511-54a434e0aa5e",
    "deepnote_to_be_reexecuted": true,
    "source_hash": "231dc117",
    "execution_start": 1623342536906,
    "execution_millis": 17,
    "deepnote_cell_type": "code"
   },
   "source": "text = \"Laza is working on his first programming homework\"\ntext.count(\"s\")",
   "execution_count": null,
   "outputs": [
    {
     "output_type": "execute_result",
     "execution_count": 38,
     "data": {
      "text/plain": "3"
     },
     "metadata": {}
    }
   ]
  },
  {
   "cell_type": "code",
   "metadata": {
    "tags": [],
    "cell_id": "00004-f25ff221-b177-4168-a287-4dfc19bcc23b",
    "deepnote_to_be_reexecuted": true,
    "source_hash": "724b10eb",
    "execution_start": 1623342613079,
    "execution_millis": 38,
    "output_cleared": false,
    "deepnote_cell_type": "code"
   },
   "source": "text = \"Laza is working on his first programming homework\"\n\nwordsplit= text.split()\nprint(wordsplit)\n\ncount = 0\n\nfor i in wordsplit:\n    if i == 'is':\n        count +=1\n\nprint(count)",
   "execution_count": null,
   "outputs": [
    {
     "name": "stdout",
     "text": "['Laza', 'is', 'working', 'on', 'his', 'first', 'programming', 'homework']\n2\n",
     "output_type": "stream"
    }
   ]
  },
  {
   "cell_type": "markdown",
   "source": "Split the text into individual words, print the result",
   "metadata": {
    "tags": [],
    "cell_id": "00016-5dfb43f8-3ba1-46f1-9d39-46f3b80946a1",
    "deepnote_cell_type": "text-cell-p"
   }
  },
  {
   "cell_type": "code",
   "metadata": {
    "tags": [],
    "cell_id": "00005-db39e0b2-2d9e-4ce5-b905-90f2c88b0246",
    "deepnote_to_be_reexecuted": true,
    "source_hash": "8880d52f",
    "execution_start": 1623343053886,
    "execution_millis": 10,
    "output_cleared": false,
    "deepnote_cell_type": "code"
   },
   "source": "split_text =  \"Nasa has announced that it is sending two new missions to Venus in order to examine the planet's atmosphere and geological features.\"\n\nwordsplit = split_text.split()\n\n\nprint(wordsplit)\n",
   "execution_count": null,
   "outputs": [
    {
     "name": "stdout",
     "text": "['Nasa', 'has', 'announced', 'that', 'it', 'is', 'sending', 'two', 'new', 'missions', 'to', 'Venus', 'in', 'order', 'to', 'examine', 'the', \"planet's\", 'atmosphere', 'and', 'geological', 'features.']\n",
     "output_type": "stream"
    }
   ]
  },
  {
   "cell_type": "markdown",
   "source": "Print how many times word \"is\" occus in the split_text",
   "metadata": {
    "tags": [],
    "cell_id": "00018-76b6c3b5-8e78-4cd3-a75d-00429e13a9cb",
    "deepnote_cell_type": "text-cell-p"
   }
  },
  {
   "cell_type": "code",
   "metadata": {
    "tags": [],
    "cell_id": "00006-bbd1d7d3-dc77-45ce-b0b2-c4aa539baf47",
    "deepnote_to_be_reexecuted": true,
    "source_hash": "33cd1cf",
    "execution_start": 1623343212158,
    "execution_millis": 11,
    "output_cleared": false,
    "deepnote_cell_type": "code"
   },
   "source": "split_text =  \"Nasa, has, announced that it is sending two new missions to Venus in order to examine the planet's atmosphere and geological features.\"\n\nword_split = split_text.split()\n{}\nlist = []\n\nfor word in word_split:\n    if word == \"is\":\n       list.append(word)\n\n\nnumber= len(list)\n\nprint(word_split)\nprint(number)",
   "execution_count": null,
   "outputs": [
    {
     "name": "stdout",
     "text": "['Nasa,', 'has,', 'announced', 'that', 'it', 'is', 'sending', 'two', 'new', 'missions', 'to', 'Venus', 'in', 'order', 'to', 'examine', 'the', \"planet's\", 'atmosphere', 'and', 'geological', 'features.']\n1\n",
     "output_type": "stream"
    }
   ]
  },
  {
   "cell_type": "markdown",
   "source": "Count how many words does the split_text contain",
   "metadata": {
    "tags": [],
    "cell_id": "00020-589b7709-ecff-4215-9e90-0bc9e137d0df",
    "deepnote_cell_type": "text-cell-p"
   }
  },
  {
   "cell_type": "code",
   "metadata": {
    "tags": [],
    "cell_id": "00020-d367b7c4-43e3-4c83-a210-d9f197fd9417",
    "deepnote_to_be_reexecuted": true,
    "source_hash": "29f02590",
    "execution_start": 1623343301593,
    "execution_millis": 6,
    "output_cleared": false,
    "deepnote_cell_type": "code"
   },
   "source": "split_text =  \"Nasa has announced that it is sending two new missions to Venus in order to examine the planet's atmosphere and geological features.\"\n\nword_split = split_text.split()\n\n\nnumber= len(word_split)\n\nprint(number)",
   "execution_count": null,
   "outputs": [
    {
     "name": "stdout",
     "text": "22\n",
     "output_type": "stream"
    }
   ]
  },
  {
   "cell_type": "markdown",
   "source": "Print the second word in the split_text",
   "metadata": {
    "tags": [],
    "cell_id": "00022-f3472575-529c-41b2-9373-fc95463201dd",
    "deepnote_cell_type": "text-cell-p"
   }
  },
  {
   "cell_type": "code",
   "metadata": {
    "tags": [],
    "cell_id": "00021-47a3f24a-33b1-44e6-9159-1b0d8f1a7ae2",
    "deepnote_to_be_reexecuted": false,
    "source_hash": "ce7ea414",
    "execution_start": 1623343389947,
    "execution_millis": 14,
    "output_cleared": false,
    "deepnote_cell_type": "code"
   },
   "source": "split_text =  \"Nasa has announced that it is sending two new missions to Venus in order to examine the planet's atmosphere and geological features.\"\n\nword_split = split_text.split()\n\n\nprint(word_split[1])",
   "execution_count": null,
   "outputs": [
    {
     "name": "stdout",
     "text": "has\n",
     "output_type": "stream"
    }
   ]
  },
  {
   "cell_type": "code",
   "metadata": {
    "tags": [],
    "cell_id": "00029-58c0834a-900f-4666-a9b0-303e79b0da7b",
    "deepnote_to_be_reexecuted": false,
    "source_hash": "cad74834",
    "execution_start": 1623343664759,
    "execution_millis": 4,
    "deepnote_cell_type": "code"
   },
   "source": "print(word_split[0:5])\nprint(word_split[-1])\nprint(word_split[-5:])",
   "execution_count": null,
   "outputs": [
    {
     "name": "stdout",
     "text": "['Nasa', 'has', 'announced', 'that', 'it']\nfeatures.\n[\"planet's\", 'atmosphere', 'and', 'geological', 'features.']\n",
     "output_type": "stream"
    }
   ]
  },
  {
   "cell_type": "markdown",
   "source": "Add word \"hello\" to the end of the split_text",
   "metadata": {
    "tags": [],
    "cell_id": "00024-b925a328-4ce7-491d-ad67-dcdd80592358",
    "deepnote_cell_type": "text-cell-p"
   }
  },
  {
   "cell_type": "code",
   "metadata": {
    "tags": [],
    "cell_id": "00023-5605a6b8-101d-449d-837c-46745111020b",
    "deepnote_to_be_reexecuted": false,
    "source_hash": "71293a0b",
    "execution_start": 1623343865682,
    "execution_millis": 15,
    "output_cleared": false,
    "deepnote_cell_type": "code"
   },
   "source": "split_text =  \"Nasa has announced that it is sending two new missions to Venus in order to examine the planet's atmosphere and geological features.\"\n\nword_split = split_text.split()\nword_split.append(\"hello\")\nprint(word_split[-1])\nprint(word_split)",
   "execution_count": null,
   "outputs": [
    {
     "name": "stdout",
     "text": "hello\n['Nasa', 'has', 'announced', 'that', 'it', 'is', 'sending', 'two', 'new', 'missions', 'to', 'Venus', 'in', 'order', 'to', 'examine', 'the', \"planet's\", 'atmosphere', 'and', 'geological', 'features.', 'hello']\n",
     "output_type": "stream"
    }
   ]
  },
  {
   "cell_type": "markdown",
   "source": "Check if word \"his\" is in split_text",
   "metadata": {
    "tags": [],
    "cell_id": "00026-a1a7cd3e-1b30-441c-b27b-17b52f93b2b7",
    "deepnote_cell_type": "text-cell-p"
   }
  },
  {
   "cell_type": "code",
   "metadata": {
    "tags": [],
    "cell_id": "00026-92b62d18-773c-4749-8edd-b542d7b5f075",
    "deepnote_to_be_reexecuted": false,
    "source_hash": "458b1e47",
    "execution_start": 1623343965214,
    "execution_millis": 12,
    "output_cleared": false,
    "deepnote_cell_type": "code"
   },
   "source": "split_text =  \"Nasa has announced his that it is sending two new missions to Venus in order to examine the planet's atmosphere and geological features.\"\nresult = \"his\" in split_text\nprint(result)\n\nif \"his\" in split_text:\n    print(True)\n\nprint(\"his\" in split_text)",
   "execution_count": null,
   "outputs": [
    {
     "name": "stdout",
     "text": "True\nTrue\nTrue\n",
     "output_type": "stream"
    }
   ]
  },
  {
   "cell_type": "markdown",
   "source": "Check if work \"homework\" is in split_text and if yes, remove it",
   "metadata": {
    "tags": [],
    "cell_id": "00032-149469c1-e1cd-4f5a-9577-5fab341df191",
    "deepnote_cell_type": "text-cell-p"
   }
  },
  {
   "cell_type": "code",
   "metadata": {
    "tags": [],
    "cell_id": "00027-0d91e5c5-1624-47dd-b682-50a8df53363f",
    "deepnote_to_be_reexecuted": false,
    "source_hash": "dd0983a7",
    "execution_start": 1623344002265,
    "execution_millis": 10,
    "output_cleared": false,
    "deepnote_cell_type": "code"
   },
   "source": "split_text =  \"Nasa has announced that it is sending two new missions to Venus in order to examine the planet's atmosphere and geological features.\"\n\nwordsplit = split_text.split()\n\nif \"Nasa\" in wordsplit:\n    split_text = split_text.replace(\"Nasa\",\"\")\n\nprint (split_text)\n",
   "execution_count": null,
   "outputs": [
    {
     "name": "stdout",
     "text": " has announced that it is sending two new missions to Venus in order to examine the planet's atmosphere and geological features.\n",
     "output_type": "stream"
    }
   ]
  },
  {
   "cell_type": "code",
   "metadata": {
    "tags": [],
    "cell_id": "00036-379cfd67-23fb-4662-abd9-f34e34ea16e4",
    "deepnote_to_be_reexecuted": false,
    "source_hash": "5404e31e",
    "execution_start": 1623344419790,
    "execution_millis": 18,
    "deepnote_cell_type": "code"
   },
   "source": "list_collection = [\"hello\"]\nstring_variable = \"hello\"\n\nlist_collection.remove(\"hello\")\n\ntry:\n    string_variable.remove(\"hello\")\nexcept:\n    print(\"An error has occured\")",
   "execution_count": null,
   "outputs": [
    {
     "name": "stdout",
     "text": "An error has occured\n",
     "output_type": "stream"
    }
   ]
  },
  {
   "cell_type": "code",
   "metadata": {
    "tags": [],
    "cell_id": "00036-2eb8d6a8-ca53-4cc1-98bf-76a2ef18cde8",
    "deepnote_to_be_reexecuted": false,
    "source_hash": "beb530c6",
    "execution_start": 1623344352434,
    "execution_millis": 14,
    "deepnote_cell_type": "code"
   },
   "source": "split_text =  \"Nasa has announced that it is sending two new missions to Venus in order to examine the planet's atmosphere and geological features.\"\n\nword_split = split_text.split()\nprint(word_split)\nif \"Nasa\" in word_split:\n    split_text = split_text.replace(\"Nasa\",\"\")\n    \n    word_split.remove(\"Nasa\")\n\nprint(split_text)\nprint(word_split)",
   "execution_count": null,
   "outputs": [
    {
     "name": "stdout",
     "text": "['Nasa', 'has', 'announced', 'that', 'it', 'is', 'sending', 'two', 'new', 'missions', 'to', 'Venus', 'in', 'order', 'to', 'examine', 'the', \"planet's\", 'atmosphere', 'and', 'geological', 'features.']\n has announced that it is sending two new missions to Venus in order to examine the planet's atmosphere and geological features.\n['has', 'announced', 'that', 'it', 'is', 'sending', 'two', 'new', 'missions', 'to', 'Venus', 'in', 'order', 'to', 'examine', 'the', \"planet's\", 'atmosphere', 'and', 'geological', 'features.']\n",
     "output_type": "stream"
    }
   ]
  },
  {
   "cell_type": "markdown",
   "source": "<a style='text-decoration:none;line-height:16px;display:flex;color:#5B5B62;padding:10px;justify-content:end;' href='https://deepnote.com?utm_source=created-in-deepnote-cell&projectId=7d3ce7c8-a514-49e4-9ba4-a5899ac52ea5' target=\"_blank\">\n<img alt='Created in deepnote.com' style='display:inline;max-height:16px;margin:0px;margin-right:7.5px;' src='data:image/svg+xml;base64,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' > </img>\nCreated in <span style='font-weight:600;margin-left:4px;'>Deepnote</span></a>",
   "metadata": {
    "tags": [],
    "created_in_deepnote_cell": true,
    "deepnote_cell_type": "markdown"
   }
  }
 ],
 "nbformat": 4,
 "nbformat_minor": 2,
 "metadata": {
  "orig_nbformat": 2,
  "deepnote": {
   "is_reactive": false
  },
  "deepnote_notebook_id": "c98149e5-520b-49ef-8d90-2aab4ac03744",
  "deepnote_execution_queue": []
 }
}