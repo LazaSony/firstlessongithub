{
 "cells": [
  {
   "cell_type": "code",
   "metadata": {
    "tags": [],
    "cell_id": "00000-8e218d84-9e59-44c7-8ec5-d276c82c7bfe",
    "deepnote_to_be_reexecuted": false,
    "source_hash": "fe57137a",
    "execution_start": 1628179770397,
    "execution_millis": 47,
    "deepnote_cell_type": "code"
   },
   "source": "import numpy as np\nimport pandas as pd\nimport seaborn as sns\nimport matplotlib.pyplot as plt\nimport datetime\n\ndf_heart_rate= pd.read_csv(\"/work/data/homework 14/heart_rate.csv\")\ndf_sleep = pd.read_csv(\"/work/data/homework 14/sleep.csv\")\ndf_activity = pd.read_csv(\"/work/data/homework 14/activity.csv\")",
   "execution_count": null,
   "outputs": []
  },
  {
   "cell_type": "markdown",
   "source": "Don't make any classes, follow instructions step-by-step",
   "metadata": {
    "tags": [],
    "cell_id": "00001-898e6029-c1f7-47d8-8fcf-e2eb4d78d269",
    "deepnote_cell_type": "markdown"
   }
  },
  {
   "cell_type": "markdown",
   "source": "# Heart rate\n`date` - date of the measurement\n\n`time` - time of the measurement (24 hour format)\n\n`heartRate` - heart rate measurement",
   "metadata": {
    "tags": [],
    "cell_id": "00002-21751b54-6598-439b-bd84-04877c255c6a",
    "deepnote_cell_type": "markdown"
   }
  },
  {
   "cell_type": "markdown",
   "source": "1. In the following cell, create index with date-time object, such the the final data-frame will have index with date+time and heart rate column.\n\n2. Create 2 new columns with the day_name, and month_name when the event happened.\n\n3. Does it need any other cleaning?\n\n4. Have a look at the time dataframe's index, to see what is the time-step length. Eg, is data taken every hour, every day, every 10 minutes? Now, create a  rolling average column with an appropriate window that you seem fit, based on the time-step you saw.",
   "metadata": {
    "tags": [],
    "cell_id": "00004-dfa4586f-aa17-4d1a-90a2-8c2a211a1a02",
    "deepnote_cell_type": "markdown"
   }
  },
  {
   "cell_type": "code",
   "metadata": {
    "tags": [],
    "cell_id": "00005-85870069-4c63-4d7b-a3c3-ac58f544fed9",
    "deepnote_to_be_reexecuted": false,
    "source_hash": "ea14eabe",
    "execution_start": 1628179776141,
    "execution_millis": 187,
    "deepnote_cell_type": "code"
   },
   "source": "df_heart_rate.columns = df_heart_rate.columns.str.lower()\ndf_heart_rate['period'] = df_heart_rate[\"date\"] + \" \" + df_heart_rate[\"time\"]\ndf_heart_rate['period'] = pd.to_datetime(df_heart_rate['period'], format = '%Y-%m-%d %H:%M')\ndf_heart_rate = df_heart_rate.set_index('period')\ndf_heart_rate = df_heart_rate.drop(['date','time'],axis = 1)\n\ndf_heart_rate ['day_name'] = df_heart_rate.index.day_name()\ndf_heart_rate ['month_name'] = df_heart_rate.index.month_name()\n\ndf_heart_rate[\"rolling_average\"] = df_heart_rate[\"heartrate\"].rolling(window=60).mean()\ndf_heart_rate['rolling_average'] = df_heart_rate['rolling_average'].fillna(method='backfill')\ndf_heart_rate.head()",
   "execution_count": null,
   "outputs": [
    {
     "output_type": "execute_result",
     "execution_count": 115,
     "data": {
      "application/vnd.deepnote.dataframe.v2+json": {
       "row_count": 5,
       "column_count": 4,
       "columns": [
        {
         "name": "heartrate",
         "dtype": "int64",
         "stats": {
          "unique_count": 5,
          "nan_count": 0,
          "min": "71",
          "max": "82",
          "histogram": [
           {
            "bin_start": 71,
            "bin_end": 72.1,
            "count": 1
           },
           {
            "bin_start": 72.1,
            "bin_end": 73.2,
            "count": 1
           },
           {
            "bin_start": 73.2,
            "bin_end": 74.3,
            "count": 0
           },
           {
            "bin_start": 74.3,
            "bin_end": 75.4,
            "count": 1
           },
           {
            "bin_start": 75.4,
            "bin_end": 76.5,
            "count": 0
           },
           {
            "bin_start": 76.5,
            "bin_end": 77.6,
            "count": 0
           },
           {
            "bin_start": 77.6,
            "bin_end": 78.7,
            "count": 0
           },
           {
            "bin_start": 78.7,
            "bin_end": 79.8,
            "count": 0
           },
           {
            "bin_start": 79.8,
            "bin_end": 80.9,
            "count": 1
           },
           {
            "bin_start": 80.9,
            "bin_end": 82,
            "count": 1
           }
          ]
         }
        },
        {
         "name": "day_name",
         "dtype": "object",
         "stats": {
          "unique_count": 1,
          "nan_count": 0,
          "categories": [
           {
            "name": "Saturday",
            "count": 5
           }
          ]
         }
        },
        {
         "name": "month_name",
         "dtype": "object",
         "stats": {
          "unique_count": 1,
          "nan_count": 0,
          "categories": [
           {
            "name": "February",
            "count": 5
           }
          ]
         }
        },
        {
         "name": "rolling_average",
         "dtype": "float64",
         "stats": {
          "unique_count": 1,
          "nan_count": 0,
          "min": "79.38333333333334",
          "max": "79.38333333333334",
          "histogram": [
           {
            "bin_start": 78.88333333333334,
            "bin_end": 78.98333333333333,
            "count": 0
           },
           {
            "bin_start": 78.98333333333333,
            "bin_end": 79.08333333333334,
            "count": 0
           },
           {
            "bin_start": 79.08333333333334,
            "bin_end": 79.18333333333334,
            "count": 0
           },
           {
            "bin_start": 79.18333333333334,
            "bin_end": 79.28333333333335,
            "count": 0
           },
           {
            "bin_start": 79.28333333333335,
            "bin_end": 79.38333333333334,
            "count": 0
           },
           {
            "bin_start": 79.38333333333334,
            "bin_end": 79.48333333333333,
            "count": 5
           },
           {
            "bin_start": 79.48333333333333,
            "bin_end": 79.58333333333334,
            "count": 0
           },
           {
            "bin_start": 79.58333333333334,
            "bin_end": 79.68333333333334,
            "count": 0
           },
           {
            "bin_start": 79.68333333333334,
            "bin_end": 79.78333333333335,
            "count": 0
           },
           {
            "bin_start": 79.78333333333335,
            "bin_end": 79.88333333333334,
            "count": 0
           }
          ]
         }
        },
        {
         "name": "_deepnote_index_column",
         "dtype": "datetime64[ns]"
        }
       ],
       "rows_top": [
        {
         "heartrate": 82,
         "day_name": "Saturday",
         "month_name": "February",
         "rolling_average": 79.38333333333334,
         "_deepnote_index_column": "2021-02-06T13:28:00.000000"
        },
        {
         "heartrate": 80,
         "day_name": "Saturday",
         "month_name": "February",
         "rolling_average": 79.38333333333334,
         "_deepnote_index_column": "2021-02-06T13:29:00.000000"
        },
        {
         "heartrate": 75,
         "day_name": "Saturday",
         "month_name": "February",
         "rolling_average": 79.38333333333334,
         "_deepnote_index_column": "2021-02-06T13:30:00.000000"
        },
        {
         "heartrate": 73,
         "day_name": "Saturday",
         "month_name": "February",
         "rolling_average": 79.38333333333334,
         "_deepnote_index_column": "2021-02-06T13:31:00.000000"
        },
        {
         "heartrate": 71,
         "day_name": "Saturday",
         "month_name": "February",
         "rolling_average": 79.38333333333334,
         "_deepnote_index_column": "2021-02-06T13:32:00.000000"
        }
       ],
       "rows_bottom": null
      },
      "text/plain": "                     heartrate  day_name month_name  rolling_average\nperiod                                                              \n2021-02-06 13:28:00         82  Saturday   February        79.383333\n2021-02-06 13:29:00         80  Saturday   February        79.383333\n2021-02-06 13:30:00         75  Saturday   February        79.383333\n2021-02-06 13:31:00         73  Saturday   February        79.383333\n2021-02-06 13:32:00         71  Saturday   February        79.383333",
      "text/html": "<div>\n<style scoped>\n    .dataframe tbody tr th:only-of-type {\n        vertical-align: middle;\n    }\n\n    .dataframe tbody tr th {\n        vertical-align: top;\n    }\n\n    .dataframe thead th {\n        text-align: right;\n    }\n</style>\n<table border=\"1\" class=\"dataframe\">\n  <thead>\n    <tr style=\"text-align: right;\">\n      <th></th>\n      <th>heartrate</th>\n      <th>day_name</th>\n      <th>month_name</th>\n      <th>rolling_average</th>\n    </tr>\n    <tr>\n      <th>period</th>\n      <th></th>\n      <th></th>\n      <th></th>\n      <th></th>\n    </tr>\n  </thead>\n  <tbody>\n    <tr>\n      <th>2021-02-06 13:28:00</th>\n      <td>82</td>\n      <td>Saturday</td>\n      <td>February</td>\n      <td>79.383333</td>\n    </tr>\n    <tr>\n      <th>2021-02-06 13:29:00</th>\n      <td>80</td>\n      <td>Saturday</td>\n      <td>February</td>\n      <td>79.383333</td>\n    </tr>\n    <tr>\n      <th>2021-02-06 13:30:00</th>\n      <td>75</td>\n      <td>Saturday</td>\n      <td>February</td>\n      <td>79.383333</td>\n    </tr>\n    <tr>\n      <th>2021-02-06 13:31:00</th>\n      <td>73</td>\n      <td>Saturday</td>\n      <td>February</td>\n      <td>79.383333</td>\n    </tr>\n    <tr>\n      <th>2021-02-06 13:32:00</th>\n      <td>71</td>\n      <td>Saturday</td>\n      <td>February</td>\n      <td>79.383333</td>\n    </tr>\n  </tbody>\n</table>\n</div>"
     },
     "metadata": {}
    }
   ]
  },
  {
   "cell_type": "markdown",
   "source": "---\n---\n---\n# Sleep\n\n`date` - date of the measurement\n\n`lastSyncTime` - when was the data uploaded\n\n`deepSleepTime` - lenght of deep sleep during the sleep, in minutes.\n\n`shallowSleepTime` - lenght of shallow sleep during the sleep, in minutes.\n\n`wakeSleepTime` - lenght of wake time during the sleep, in minutes.\n\n`start` - start of the sleep\n\n`stop` - end of the sleep",
   "metadata": {
    "tags": [],
    "cell_id": "00004-c5b9c4d3-4953-4e7b-a5c3-95182d522438",
    "deepnote_cell_type": "markdown"
   }
  },
  {
   "cell_type": "markdown",
   "source": "1. In the following cell convert columns into appropriate datetime format (long numbers stand for UNIX time)\n\n2. Create index with `date`, such that we can tell when the sleep happened.\n\n3. Create a column that stands for the duration of the sleep.\n\n4. Create 2 new columns with the day_name, and month_name when the event happened.\n\n5. Drop unnecessary column.\n\n6. Is there anything else to clean? ",
   "metadata": {
    "tags": [],
    "cell_id": "00008-c76d1957-9b99-4c9f-92ad-ec1baca983a8",
    "deepnote_cell_type": "markdown"
   }
  },
  {
   "cell_type": "code",
   "metadata": {
    "tags": [],
    "cell_id": "00009-3d48280a-58df-459c-9307-a956737ab234",
    "deepnote_to_be_reexecuted": false,
    "source_hash": "15d69024",
    "execution_start": 1628179800800,
    "execution_millis": 48,
    "output_cleared": false,
    "deepnote_cell_type": "code"
   },
   "source": "df_sleep.columns = df_sleep.columns.str.lower()\ndf_sleep['date'] = pd.to_datetime(df_sleep['date'], format = '%Y-%m-%d %H:%M')\ndf_sleep = df_sleep.set_index(['date'])\n\ndf_sleep['start'] = pd.to_datetime(df_sleep['start'], unit='s')\ndf_sleep['stop'] = pd.to_datetime(df_sleep['stop'], unit='s')\ndf_sleep['lastsynctime'] = pd.to_datetime(df_sleep['lastsynctime'], unit='s')\n\ndf_sleep[\"sleep_duration\"] = (df_sleep[\"stop\"] - df_sleep[\"start\"]).astype('timedelta64[s]')/60\n\ndf_sleep['day_name'] = df_sleep.index.day_name()\ndf_sleep['month_name'] = df_sleep.index.month_name()\ndf_sleep = df_sleep.drop(['lastsynctime'],axis = 1)\ndf_sleep.head()\n",
   "execution_count": null,
   "outputs": [
    {
     "output_type": "execute_result",
     "execution_count": 118,
     "data": {
      "application/vnd.deepnote.dataframe.v2+json": {
       "row_count": 5,
       "column_count": 8,
       "columns": [
        {
         "name": "deepsleeptime",
         "dtype": "int64",
         "stats": {
          "unique_count": 5,
          "nan_count": 0,
          "min": "0",
          "max": "57",
          "histogram": [
           {
            "bin_start": 0,
            "bin_end": 5.7,
            "count": 1
           },
           {
            "bin_start": 5.7,
            "bin_end": 11.4,
            "count": 0
           },
           {
            "bin_start": 11.4,
            "bin_end": 17.1,
            "count": 0
           },
           {
            "bin_start": 17.1,
            "bin_end": 22.8,
            "count": 0
           },
           {
            "bin_start": 22.8,
            "bin_end": 28.5,
            "count": 1
           },
           {
            "bin_start": 28.5,
            "bin_end": 34.2,
            "count": 0
           },
           {
            "bin_start": 34.2,
            "bin_end": 39.9,
            "count": 0
           },
           {
            "bin_start": 39.9,
            "bin_end": 45.6,
            "count": 0
           },
           {
            "bin_start": 45.6,
            "bin_end": 51.300000000000004,
            "count": 1
           },
           {
            "bin_start": 51.300000000000004,
            "bin_end": 57,
            "count": 2
           }
          ]
         }
        },
        {
         "name": "shallowsleeptime",
         "dtype": "int64",
         "stats": {
          "unique_count": 5,
          "nan_count": 0,
          "min": "0",
          "max": "381",
          "histogram": [
           {
            "bin_start": 0,
            "bin_end": 38.1,
            "count": 1
           },
           {
            "bin_start": 38.1,
            "bin_end": 76.2,
            "count": 0
           },
           {
            "bin_start": 76.2,
            "bin_end": 114.30000000000001,
            "count": 0
           },
           {
            "bin_start": 114.30000000000001,
            "bin_end": 152.4,
            "count": 0
           },
           {
            "bin_start": 152.4,
            "bin_end": 190.5,
            "count": 0
           },
           {
            "bin_start": 190.5,
            "bin_end": 228.60000000000002,
            "count": 1
           },
           {
            "bin_start": 228.60000000000002,
            "bin_end": 266.7,
            "count": 0
           },
           {
            "bin_start": 266.7,
            "bin_end": 304.8,
            "count": 1
           },
           {
            "bin_start": 304.8,
            "bin_end": 342.90000000000003,
            "count": 1
           },
           {
            "bin_start": 342.90000000000003,
            "bin_end": 381,
            "count": 1
           }
          ]
         }
        },
        {
         "name": "waketime",
         "dtype": "int64",
         "stats": {
          "unique_count": 5,
          "nan_count": 0,
          "min": "0",
          "max": "37",
          "histogram": [
           {
            "bin_start": 0,
            "bin_end": 3.7,
            "count": 3
           },
           {
            "bin_start": 3.7,
            "bin_end": 7.4,
            "count": 0
           },
           {
            "bin_start": 7.4,
            "bin_end": 11.100000000000001,
            "count": 0
           },
           {
            "bin_start": 11.100000000000001,
            "bin_end": 14.8,
            "count": 0
           },
           {
            "bin_start": 14.8,
            "bin_end": 18.5,
            "count": 0
           },
           {
            "bin_start": 18.5,
            "bin_end": 22.200000000000003,
            "count": 0
           },
           {
            "bin_start": 22.200000000000003,
            "bin_end": 25.900000000000002,
            "count": 1
           },
           {
            "bin_start": 25.900000000000002,
            "bin_end": 29.6,
            "count": 0
           },
           {
            "bin_start": 29.6,
            "bin_end": 33.300000000000004,
            "count": 0
           },
           {
            "bin_start": 33.300000000000004,
            "bin_end": 37,
            "count": 1
           }
          ]
         }
        },
        {
         "name": "start",
         "dtype": "datetime64[ns]",
         "stats": {
          "unique_count": 5,
          "nan_count": 0,
          "min": "2021-02-05 00:00:00",
          "max": "2021-02-10 02:26:00",
          "histogram": [
           {
            "bin_start": 1612483200000000000,
            "bin_end": 1612527276000000000,
            "count": 1
           },
           {
            "bin_start": 1612527276000000000,
            "bin_end": 1612571352000000000,
            "count": 0
           },
           {
            "bin_start": 1612571352000000000,
            "bin_end": 1612615428000000000,
            "count": 0
           },
           {
            "bin_start": 1612615428000000000,
            "bin_end": 1612659504000000000,
            "count": 0
           },
           {
            "bin_start": 1612659504000000000,
            "bin_end": 1612703580000000000,
            "count": 1
           },
           {
            "bin_start": 1612703580000000000,
            "bin_end": 1612747656000000000,
            "count": 0
           },
           {
            "bin_start": 1612747656000000000,
            "bin_end": 1612791732000000000,
            "count": 1
           },
           {
            "bin_start": 1612791732000000000,
            "bin_end": 1612835808000000000,
            "count": 1
           },
           {
            "bin_start": 1612835808000000000,
            "bin_end": 1612879884000000000,
            "count": 0
           },
           {
            "bin_start": 1612879884000000000,
            "bin_end": 1612923960000000000,
            "count": 1
           }
          ]
         }
        },
        {
         "name": "stop",
         "dtype": "datetime64[ns]",
         "stats": {
          "unique_count": 5,
          "nan_count": 0,
          "min": "2021-02-05 00:00:00",
          "max": "2021-02-10 08:43:00",
          "histogram": [
           {
            "bin_start": 1612483200000000000,
            "bin_end": 1612529538000000000,
            "count": 1
           },
           {
            "bin_start": 1612529538000000000,
            "bin_end": 1612575876000000000,
            "count": 0
           },
           {
            "bin_start": 1612575876000000000,
            "bin_end": 1612622214000000000,
            "count": 0
           },
           {
            "bin_start": 1612622214000000000,
            "bin_end": 1612668552000000000,
            "count": 0
           },
           {
            "bin_start": 1612668552000000000,
            "bin_end": 1612714890000000000,
            "count": 1
           },
           {
            "bin_start": 1612714890000000000,
            "bin_end": 1612761228000000000,
            "count": 0
           },
           {
            "bin_start": 1612761228000000000,
            "bin_end": 1612807566000000000,
            "count": 1
           },
           {
            "bin_start": 1612807566000000000,
            "bin_end": 1612853904000000000,
            "count": 0
           },
           {
            "bin_start": 1612853904000000000,
            "bin_end": 1612900242000000000,
            "count": 1
           },
           {
            "bin_start": 1612900242000000000,
            "bin_end": 1612946580000000000,
            "count": 1
           }
          ]
         }
        },
        {
         "name": "sleep_duration",
         "dtype": "float64",
         "stats": {
          "unique_count": 5,
          "nan_count": 0,
          "min": "0.0",
          "max": "581.0",
          "histogram": [
           {
            "bin_start": 0,
            "bin_end": 58.1,
            "count": 1
           },
           {
            "bin_start": 58.1,
            "bin_end": 116.2,
            "count": 0
           },
           {
            "bin_start": 116.2,
            "bin_end": 174.3,
            "count": 0
           },
           {
            "bin_start": 174.3,
            "bin_end": 232.4,
            "count": 0
           },
           {
            "bin_start": 232.4,
            "bin_end": 290.5,
            "count": 1
           },
           {
            "bin_start": 290.5,
            "bin_end": 348.6,
            "count": 0
           },
           {
            "bin_start": 348.6,
            "bin_end": 406.7,
            "count": 1
           },
           {
            "bin_start": 406.7,
            "bin_end": 464.8,
            "count": 1
           },
           {
            "bin_start": 464.8,
            "bin_end": 522.9,
            "count": 0
           },
           {
            "bin_start": 522.9,
            "bin_end": 581,
            "count": 1
           }
          ]
         }
        },
        {
         "name": "day_name",
         "dtype": "object",
         "stats": {
          "unique_count": 5,
          "nan_count": 0,
          "categories": [
           {
            "name": "Saturday",
            "count": 1
           },
           {
            "name": "Sunday",
            "count": 1
           },
           {
            "name": "3 others",
            "count": 3
           }
          ]
         }
        },
        {
         "name": "month_name",
         "dtype": "object",
         "stats": {
          "unique_count": 1,
          "nan_count": 0,
          "categories": [
           {
            "name": "February",
            "count": 5
           }
          ]
         }
        },
        {
         "name": "_deepnote_index_column",
         "dtype": "datetime64[ns]"
        }
       ],
       "rows_top": [
        {
         "deepsleeptime": 0,
         "shallowsleeptime": 0,
         "waketime": 0,
         "start": "2021-02-05T00:00:00.000000",
         "stop": "2021-02-05T00:00:00.000000",
         "sleep_duration": 0,
         "day_name": "Saturday",
         "month_name": "February",
         "_deepnote_index_column": "2021-02-06T00:00:00.000000"
        },
        {
         "deepsleeptime": 57,
         "shallowsleeptime": 381,
         "waketime": 37,
         "start": "2021-02-07T02:52:00.000000",
         "stop": "2021-02-07T12:33:00.000000",
         "sleep_duration": 581,
         "day_name": "Sunday",
         "month_name": "February",
         "_deepnote_index_column": "2021-02-07T00:00:00.000000"
        },
        {
         "deepsleeptime": 23,
         "shallowsleeptime": 199,
         "waketime": 1,
         "start": "2021-02-08T02:24:00.000000",
         "stop": "2021-02-08T06:46:00.000000",
         "sleep_duration": 262,
         "day_name": "Monday",
         "month_name": "February",
         "_deepnote_index_column": "2021-02-08T00:00:00.000000"
        },
        {
         "deepsleeptime": 54,
         "shallowsleeptime": 328,
         "waketime": 24,
         "start": "2021-02-09T01:06:00.000000",
         "stop": "2021-02-09T08:17:00.000000",
         "sleep_duration": 431,
         "day_name": "Tuesday",
         "month_name": "February",
         "_deepnote_index_column": "2021-02-09T00:00:00.000000"
        },
        {
         "deepsleeptime": 47,
         "shallowsleeptime": 294,
         "waketime": 3,
         "start": "2021-02-10T02:26:00.000000",
         "stop": "2021-02-10T08:43:00.000000",
         "sleep_duration": 377,
         "day_name": "Wednesday",
         "month_name": "February",
         "_deepnote_index_column": "2021-02-10T00:00:00.000000"
        }
       ],
       "rows_bottom": null
      },
      "text/plain": "            deepsleeptime  shallowsleeptime  waketime               start  \\\ndate                                                                        \n2021-02-06              0                 0         0 2021-02-05 00:00:00   \n2021-02-07             57               381        37 2021-02-07 02:52:00   \n2021-02-08             23               199         1 2021-02-08 02:24:00   \n2021-02-09             54               328        24 2021-02-09 01:06:00   \n2021-02-10             47               294         3 2021-02-10 02:26:00   \n\n                          stop  sleep_duration   day_name month_name  \ndate                                                                  \n2021-02-06 2021-02-05 00:00:00             0.0   Saturday   February  \n2021-02-07 2021-02-07 12:33:00           581.0     Sunday   February  \n2021-02-08 2021-02-08 06:46:00           262.0     Monday   February  \n2021-02-09 2021-02-09 08:17:00           431.0    Tuesday   February  \n2021-02-10 2021-02-10 08:43:00           377.0  Wednesday   February  ",
      "text/html": "<div>\n<style scoped>\n    .dataframe tbody tr th:only-of-type {\n        vertical-align: middle;\n    }\n\n    .dataframe tbody tr th {\n        vertical-align: top;\n    }\n\n    .dataframe thead th {\n        text-align: right;\n    }\n</style>\n<table border=\"1\" class=\"dataframe\">\n  <thead>\n    <tr style=\"text-align: right;\">\n      <th></th>\n      <th>deepsleeptime</th>\n      <th>shallowsleeptime</th>\n      <th>waketime</th>\n      <th>start</th>\n      <th>stop</th>\n      <th>sleep_duration</th>\n      <th>day_name</th>\n      <th>month_name</th>\n    </tr>\n    <tr>\n      <th>date</th>\n      <th></th>\n      <th></th>\n      <th></th>\n      <th></th>\n      <th></th>\n      <th></th>\n      <th></th>\n      <th></th>\n    </tr>\n  </thead>\n  <tbody>\n    <tr>\n      <th>2021-02-06</th>\n      <td>0</td>\n      <td>0</td>\n      <td>0</td>\n      <td>2021-02-05 00:00:00</td>\n      <td>2021-02-05 00:00:00</td>\n      <td>0.0</td>\n      <td>Saturday</td>\n      <td>February</td>\n    </tr>\n    <tr>\n      <th>2021-02-07</th>\n      <td>57</td>\n      <td>381</td>\n      <td>37</td>\n      <td>2021-02-07 02:52:00</td>\n      <td>2021-02-07 12:33:00</td>\n      <td>581.0</td>\n      <td>Sunday</td>\n      <td>February</td>\n    </tr>\n    <tr>\n      <th>2021-02-08</th>\n      <td>23</td>\n      <td>199</td>\n      <td>1</td>\n      <td>2021-02-08 02:24:00</td>\n      <td>2021-02-08 06:46:00</td>\n      <td>262.0</td>\n      <td>Monday</td>\n      <td>February</td>\n    </tr>\n    <tr>\n      <th>2021-02-09</th>\n      <td>54</td>\n      <td>328</td>\n      <td>24</td>\n      <td>2021-02-09 01:06:00</td>\n      <td>2021-02-09 08:17:00</td>\n      <td>431.0</td>\n      <td>Tuesday</td>\n      <td>February</td>\n    </tr>\n    <tr>\n      <th>2021-02-10</th>\n      <td>47</td>\n      <td>294</td>\n      <td>3</td>\n      <td>2021-02-10 02:26:00</td>\n      <td>2021-02-10 08:43:00</td>\n      <td>377.0</td>\n      <td>Wednesday</td>\n      <td>February</td>\n    </tr>\n  </tbody>\n</table>\n</div>"
     },
     "metadata": {}
    }
   ]
  },
  {
   "cell_type": "markdown",
   "source": "---\n---\n---\n# Activity\n##### Covers activities like run, bike or stationary exercies.\n\n`date` - date of the measurement\n\n`start` - start of the activity\n\n`stop` - end of the activity\n\n`distance` - distance covered during the activity, in meters\n\n`calories` - calories burned during the activity\n\n`steps` - number of steps taken during the activity\n",
   "metadata": {
    "tags": [],
    "cell_id": "00006-35772498-a9a6-4a14-a0f5-4b28611a246e",
    "deepnote_cell_type": "markdown"
   }
  },
  {
   "cell_type": "markdown",
   "source": "1. In the following cell cleate index with `date`.\n\n2. Convert appropriate columns to datetime.\n\n3. Create new column with duration of the activity.\n\n4. Create 2 new columns with the day_name, and month_name when the event happened.\n\n5. Does anything else need cleaning?",
   "metadata": {
    "tags": [],
    "cell_id": "00012-d6cf5503-d60f-4bad-845c-3313a02c8756",
    "deepnote_cell_type": "markdown"
   }
  },
  {
   "cell_type": "code",
   "metadata": {
    "tags": [],
    "cell_id": "00013-1fc1b2b9-2b19-47c1-9707-d6aa8e2deee2",
    "deepnote_to_be_reexecuted": false,
    "source_hash": "ee30f57c",
    "execution_start": 1628179802548,
    "execution_millis": 82,
    "deepnote_cell_type": "code"
   },
   "source": "df_activity['date'] = pd.to_datetime(df_activity['date'], format = '%Y-%m-%d')\ndf_activity['start'] = pd.to_datetime(df_activity['start'], format = '%H:%M')\ndf_activity['stop'] = pd.to_datetime(df_activity['stop'], errors='ignore', format = '%H:%M')\ndf_activity['start'] = df_activity['start'].dt.strftime('%H%M').astype(int)\ndf_activity['stop'] = df_activity['stop'].dt.strftime('%H%M').astype(int)\ndf_activity['duration'] = df_activity['stop'] - df_activity['start']\n# df_activity['duration'] = df_activity['duration'].astype(str) + \" min\"\ndf_activity['day_name'] = df_activity['date'].dt.day_name()\ndf_activity['month_name'] = df_activity['date'].dt.month_name()\ndf_activity = df_activity.set_index(['date'])\n\ndf_activity.head()",
   "execution_count": null,
   "outputs": [
    {
     "output_type": "execute_result",
     "execution_count": 119,
     "data": {
      "application/vnd.deepnote.dataframe.v2+json": {
       "row_count": 5,
       "column_count": 8,
       "columns": [
        {
         "name": "start",
         "dtype": "int64",
         "stats": {
          "unique_count": 5,
          "nan_count": 0,
          "min": "1347",
          "max": "2057",
          "histogram": [
           {
            "bin_start": 1347,
            "bin_end": 1418,
            "count": 2
           },
           {
            "bin_start": 1418,
            "bin_end": 1489,
            "count": 1
           },
           {
            "bin_start": 1489,
            "bin_end": 1560,
            "count": 0
           },
           {
            "bin_start": 1560,
            "bin_end": 1631,
            "count": 0
           },
           {
            "bin_start": 1631,
            "bin_end": 1702,
            "count": 0
           },
           {
            "bin_start": 1702,
            "bin_end": 1773,
            "count": 0
           },
           {
            "bin_start": 1773,
            "bin_end": 1844,
            "count": 0
           },
           {
            "bin_start": 1844,
            "bin_end": 1915,
            "count": 0
           },
           {
            "bin_start": 1915,
            "bin_end": 1986,
            "count": 1
           },
           {
            "bin_start": 1986,
            "bin_end": 2057,
            "count": 1
           }
          ]
         }
        },
        {
         "name": "stop",
         "dtype": "int64",
         "stats": {
          "unique_count": 5,
          "nan_count": 0,
          "min": "1403",
          "max": "2121",
          "histogram": [
           {
            "bin_start": 1403,
            "bin_end": 1474.8,
            "count": 2
           },
           {
            "bin_start": 1474.8,
            "bin_end": 1546.6,
            "count": 1
           },
           {
            "bin_start": 1546.6,
            "bin_end": 1618.4,
            "count": 0
           },
           {
            "bin_start": 1618.4,
            "bin_end": 1690.2,
            "count": 0
           },
           {
            "bin_start": 1690.2,
            "bin_end": 1762,
            "count": 0
           },
           {
            "bin_start": 1762,
            "bin_end": 1833.8,
            "count": 0
           },
           {
            "bin_start": 1833.8,
            "bin_end": 1905.6,
            "count": 0
           },
           {
            "bin_start": 1905.6,
            "bin_end": 1977.4,
            "count": 1
           },
           {
            "bin_start": 1977.4,
            "bin_end": 2049.2,
            "count": 0
           },
           {
            "bin_start": 2049.2,
            "bin_end": 2121,
            "count": 1
           }
          ]
         }
        },
        {
         "name": "distance",
         "dtype": "int64",
         "stats": {
          "unique_count": 5,
          "nan_count": 0,
          "min": "56",
          "max": "1469",
          "histogram": [
           {
            "bin_start": 56,
            "bin_end": 197.3,
            "count": 3
           },
           {
            "bin_start": 197.3,
            "bin_end": 338.6,
            "count": 0
           },
           {
            "bin_start": 338.6,
            "bin_end": 479.90000000000003,
            "count": 0
           },
           {
            "bin_start": 479.90000000000003,
            "bin_end": 621.2,
            "count": 0
           },
           {
            "bin_start": 621.2,
            "bin_end": 762.5,
            "count": 0
           },
           {
            "bin_start": 762.5,
            "bin_end": 903.8000000000001,
            "count": 1
           },
           {
            "bin_start": 903.8000000000001,
            "bin_end": 1045.1000000000001,
            "count": 0
           },
           {
            "bin_start": 1045.1000000000001,
            "bin_end": 1186.4,
            "count": 0
           },
           {
            "bin_start": 1186.4,
            "bin_end": 1327.7,
            "count": 0
           },
           {
            "bin_start": 1327.7,
            "bin_end": 1469,
            "count": 1
           }
          ]
         }
        },
        {
         "name": "calories",
         "dtype": "int64",
         "stats": {
          "unique_count": 4,
          "nan_count": 0,
          "min": "2",
          "max": "105",
          "histogram": [
           {
            "bin_start": 2,
            "bin_end": 12.3,
            "count": 3
           },
           {
            "bin_start": 12.3,
            "bin_end": 22.6,
            "count": 0
           },
           {
            "bin_start": 22.6,
            "bin_end": 32.900000000000006,
            "count": 0
           },
           {
            "bin_start": 32.900000000000006,
            "bin_end": 43.2,
            "count": 0
           },
           {
            "bin_start": 43.2,
            "bin_end": 53.5,
            "count": 0
           },
           {
            "bin_start": 53.5,
            "bin_end": 63.800000000000004,
            "count": 0
           },
           {
            "bin_start": 63.800000000000004,
            "bin_end": 74.10000000000001,
            "count": 1
           },
           {
            "bin_start": 74.10000000000001,
            "bin_end": 84.4,
            "count": 0
           },
           {
            "bin_start": 84.4,
            "bin_end": 94.7,
            "count": 0
           },
           {
            "bin_start": 94.7,
            "bin_end": 105,
            "count": 1
           }
          ]
         }
        },
        {
         "name": "steps",
         "dtype": "int64",
         "stats": {
          "unique_count": 5,
          "nan_count": 0,
          "min": "82",
          "max": "1873",
          "histogram": [
           {
            "bin_start": 82,
            "bin_end": 261.1,
            "count": 3
           },
           {
            "bin_start": 261.1,
            "bin_end": 440.2,
            "count": 0
           },
           {
            "bin_start": 440.2,
            "bin_end": 619.3,
            "count": 0
           },
           {
            "bin_start": 619.3,
            "bin_end": 798.4,
            "count": 0
           },
           {
            "bin_start": 798.4,
            "bin_end": 977.5,
            "count": 0
           },
           {
            "bin_start": 977.5,
            "bin_end": 1156.6,
            "count": 1
           },
           {
            "bin_start": 1156.6,
            "bin_end": 1335.7,
            "count": 0
           },
           {
            "bin_start": 1335.7,
            "bin_end": 1514.8,
            "count": 0
           },
           {
            "bin_start": 1514.8,
            "bin_end": 1693.8999999999999,
            "count": 0
           },
           {
            "bin_start": 1693.8999999999999,
            "bin_end": 1873,
            "count": 1
           }
          ]
         }
        },
        {
         "name": "duration",
         "dtype": "int64",
         "stats": {
          "unique_count": 4,
          "nan_count": 0,
          "min": "4",
          "max": "64",
          "histogram": [
           {
            "bin_start": 4,
            "bin_end": 10,
            "count": 1
           },
           {
            "bin_start": 10,
            "bin_end": 16,
            "count": 0
           },
           {
            "bin_start": 16,
            "bin_end": 22,
            "count": 0
           },
           {
            "bin_start": 22,
            "bin_end": 28,
            "count": 0
           },
           {
            "bin_start": 28,
            "bin_end": 34,
            "count": 0
           },
           {
            "bin_start": 34,
            "bin_end": 40,
            "count": 0
           },
           {
            "bin_start": 40,
            "bin_end": 46,
            "count": 1
           },
           {
            "bin_start": 46,
            "bin_end": 52,
            "count": 0
           },
           {
            "bin_start": 52,
            "bin_end": 58,
            "count": 1
           },
           {
            "bin_start": 58,
            "bin_end": 64,
            "count": 2
           }
          ]
         }
        },
        {
         "name": "day_name",
         "dtype": "object",
         "stats": {
          "unique_count": 2,
          "nan_count": 0,
          "categories": [
           {
            "name": "Saturday",
            "count": 3
           },
           {
            "name": "Sunday",
            "count": 2
           }
          ]
         }
        },
        {
         "name": "month_name",
         "dtype": "object",
         "stats": {
          "unique_count": 1,
          "nan_count": 0,
          "categories": [
           {
            "name": "February",
            "count": 5
           }
          ]
         }
        },
        {
         "name": "_deepnote_index_column",
         "dtype": "datetime64[ns]"
        }
       ],
       "rows_top": [
        {
         "start": "1450",
         "stop": "1514",
         "distance": "106",
         "calories": "4",
         "steps": "156",
         "duration": "64",
         "day_name": "Saturday",
         "month_name": "February",
         "_deepnote_index_column": "2021-02-06 00:00:00"
        },
        {
         "start": "1953",
         "stop": "1957",
         "distance": "56",
         "calories": "2",
         "steps": "82",
         "duration": "4",
         "day_name": "Saturday",
         "month_name": "February",
         "_deepnote_index_column": "2021-02-06 00:00:00"
        },
        {
         "start": "2057",
         "stop": "2121",
         "distance": "95",
         "calories": "4",
         "steps": "140",
         "duration": "64",
         "day_name": "Saturday",
         "month_name": "February",
         "_deepnote_index_column": "2021-02-06 00:00:00"
        },
        {
         "start": "1347",
         "stop": "1403",
         "distance": "1469",
         "calories": "105",
         "steps": "1873",
         "duration": "56",
         "day_name": "Sunday",
         "month_name": "February",
         "_deepnote_index_column": "2021-02-07 00:00:00"
        },
        {
         "start": "1404",
         "stop": "1448",
         "distance": "778",
         "calories": "70",
         "steps": "1135",
         "duration": "44",
         "day_name": "Sunday",
         "month_name": "February",
         "_deepnote_index_column": "2021-02-07 00:00:00"
        }
       ],
       "rows_bottom": null
      },
      "text/plain": "            start  stop  distance  calories  steps  duration  day_name  \\\ndate                                                                     \n2021-02-06   1450  1514       106         4    156        64  Saturday   \n2021-02-06   1953  1957        56         2     82         4  Saturday   \n2021-02-06   2057  2121        95         4    140        64  Saturday   \n2021-02-07   1347  1403      1469       105   1873        56    Sunday   \n2021-02-07   1404  1448       778        70   1135        44    Sunday   \n\n           month_name  \ndate                   \n2021-02-06   February  \n2021-02-06   February  \n2021-02-06   February  \n2021-02-07   February  \n2021-02-07   February  ",
      "text/html": "<div>\n<style scoped>\n    .dataframe tbody tr th:only-of-type {\n        vertical-align: middle;\n    }\n\n    .dataframe tbody tr th {\n        vertical-align: top;\n    }\n\n    .dataframe thead th {\n        text-align: right;\n    }\n</style>\n<table border=\"1\" class=\"dataframe\">\n  <thead>\n    <tr style=\"text-align: right;\">\n      <th></th>\n      <th>start</th>\n      <th>stop</th>\n      <th>distance</th>\n      <th>calories</th>\n      <th>steps</th>\n      <th>duration</th>\n      <th>day_name</th>\n      <th>month_name</th>\n    </tr>\n    <tr>\n      <th>date</th>\n      <th></th>\n      <th></th>\n      <th></th>\n      <th></th>\n      <th></th>\n      <th></th>\n      <th></th>\n      <th></th>\n    </tr>\n  </thead>\n  <tbody>\n    <tr>\n      <th>2021-02-06</th>\n      <td>1450</td>\n      <td>1514</td>\n      <td>106</td>\n      <td>4</td>\n      <td>156</td>\n      <td>64</td>\n      <td>Saturday</td>\n      <td>February</td>\n    </tr>\n    <tr>\n      <th>2021-02-06</th>\n      <td>1953</td>\n      <td>1957</td>\n      <td>56</td>\n      <td>2</td>\n      <td>82</td>\n      <td>4</td>\n      <td>Saturday</td>\n      <td>February</td>\n    </tr>\n    <tr>\n      <th>2021-02-06</th>\n      <td>2057</td>\n      <td>2121</td>\n      <td>95</td>\n      <td>4</td>\n      <td>140</td>\n      <td>64</td>\n      <td>Saturday</td>\n      <td>February</td>\n    </tr>\n    <tr>\n      <th>2021-02-07</th>\n      <td>1347</td>\n      <td>1403</td>\n      <td>1469</td>\n      <td>105</td>\n      <td>1873</td>\n      <td>56</td>\n      <td>Sunday</td>\n      <td>February</td>\n    </tr>\n    <tr>\n      <th>2021-02-07</th>\n      <td>1404</td>\n      <td>1448</td>\n      <td>778</td>\n      <td>70</td>\n      <td>1135</td>\n      <td>44</td>\n      <td>Sunday</td>\n      <td>February</td>\n    </tr>\n  </tbody>\n</table>\n</div>"
     },
     "metadata": {}
    }
   ]
  },
  {
   "cell_type": "markdown",
   "source": "---\n---\n---\n# Heart rate",
   "metadata": {
    "tags": [],
    "cell_id": "00008-cf60d543-8b56-4018-ba37-dbfb03f6f8da",
    "deepnote_cell_type": "markdown"
   }
  },
  {
   "cell_type": "markdown",
   "source": "Plot the heartrate on a line plot.\n\n`clearly label the graph, including axis names, title, legend`",
   "metadata": {
    "tags": [],
    "cell_id": "00014-ea579e9a-3f6c-4acb-b071-99508bfacbcc",
    "deepnote_cell_type": "markdown"
   }
  },
  {
   "cell_type": "code",
   "metadata": {
    "tags": [],
    "cell_id": "00016-4e14cb52-d9a2-4d64-8586-0a2852d3f152",
    "deepnote_to_be_reexecuted": false,
    "source_hash": "36f48bd",
    "execution_start": 1628179782053,
    "execution_millis": 1921,
    "deepnote_cell_type": "code"
   },
   "source": "fig, ax = plt.subplots(figsize = (20,7))\ndF_filtered = df_heart_rate.loc[\"2021-03-15\" : \"2021-03-30\"] \n\nsns.lineplot(data=df_filtered,\n            x=df_filtered.index,\n            y=\"heartrate\",\n            label=\"daily\")\n\nax.set_title('Heart_Rate')\nax.set_xlabel('')\nax.set_ylabel(\"Date\")",
   "execution_count": null,
   "outputs": [
    {
     "output_type": "execute_result",
     "execution_count": 116,
     "data": {
      "text/plain": "Text(0, 0.5, 'Date')"
     },
     "metadata": {}
    },
    {
     "data": {
      "text/plain": "<Figure size 1440x504 with 1 Axes>",
      "image/png": "[encoded data removed]"
     },
     "metadata": {
      "needs_background": "light",
      "image/png": {
       "width": 1170,
       "height": 427
      }
     },
     "output_type": "display_data"
    }
   ]
  },
  {
   "cell_type": "markdown",
   "source": "Plot the heartrate on a line plot.\n\nPlot rolling average of the heartrate on the same graph. \n\n`clearly label the graph, including axis names, title, legend`",
   "metadata": {
    "tags": [],
    "cell_id": "00017-f29ed692-c0ce-4672-8897-19c0356a3eb6",
    "deepnote_cell_type": "markdown"
   }
  },
  {
   "cell_type": "code",
   "metadata": {
    "tags": [],
    "cell_id": "00018-0ca4c1aa-e5e8-4563-800e-0db8ab9a3276",
    "deepnote_to_be_reexecuted": false,
    "source_hash": "d7f64ef2",
    "execution_start": 1628179786370,
    "execution_millis": 1930,
    "deepnote_cell_type": "code"
   },
   "source": "fig, ax = plt.subplots(figsize = (20,7))\ndf_filtered = df_heart_rate.loc[\"2021-03-15\" : \"2021-03-30\"] \n\nsns.lineplot(data=df_filtered,\n            x=df_filtered.index,\n            y=\"rolling_average\",\n            label=\"daily\")\n\nax.set_title('Heart_Rate')\nax.set_xlabel('')\nax.set_ylabel(\"Rolling_Average\")",
   "execution_count": null,
   "outputs": [
    {
     "output_type": "execute_result",
     "execution_count": 117,
     "data": {
      "text/plain": "Text(0, 0.5, 'Rolling_Average')"
     },
     "metadata": {}
    },
    {
     "data": {
      "text/plain": "<Figure size 1440x504 with 1 Axes>",
      "image/png": "[encoded data removed]"
     },
     "metadata": {
      "needs_background": "light",
      "image/png": {
       "width": 1171,
       "height": 427
      }
     },
     "output_type": "display_data"
    }
   ]
  },
  {
   "cell_type": "markdown",
   "source": "Plot histogram of all the heart rate values.",
   "metadata": {
    "tags": [],
    "cell_id": "00019-6f2b4f63-6219-457e-9a98-d048ccf7a638",
    "deepnote_cell_type": "markdown"
   }
  },
  {
   "cell_type": "code",
   "metadata": {
    "tags": [],
    "cell_id": "00019-efa4845f-eece-4216-afdd-6615488acdc1",
    "deepnote_to_be_reexecuted": false,
    "source_hash": "c12c2373",
    "execution_start": 1628179854501,
    "execution_millis": 555,
    "deepnote_cell_type": "code"
   },
   "source": "fig, ax = plt.subplots(figsize = (20,7))\n\n\nsns.histplot(data=df_heart_rate,\n            x=\"heartrate\",\n            label=\"daily\")",
   "execution_count": null,
   "outputs": [
    {
     "output_type": "execute_result",
     "execution_count": 120,
     "data": {
      "text/plain": "<AxesSubplot:xlabel='heartrate', ylabel='Count'>"
     },
     "metadata": {}
    },
    {
     "data": {
      "text/plain": "<Figure size 1440x504 with 1 Axes>",
      "image/png": "[encoded data removed]"
     },
     "metadata": {
      "needs_background": "light",
      "image/png": {
       "width": 1176,
       "height": 425
      }
     },
     "output_type": "display_data"
    }
   ]
  },
  {
   "cell_type": "markdown",
   "source": "Create a plot that show min, average, max values of heart rate, for every day of the week (boxplot)",
   "metadata": {
    "tags": [],
    "cell_id": "00021-7cd9f56c-7c2a-4709-ac95-fdea6608c4c8",
    "deepnote_cell_type": "markdown"
   }
  },
  {
   "cell_type": "code",
   "metadata": {
    "tags": [],
    "cell_id": "00019-8e86e0e8-7e14-44f6-8416-b3a0c1101735",
    "deepnote_to_be_reexecuted": false,
    "source_hash": "70a9fb00",
    "execution_start": 1628180143778,
    "execution_millis": 329,
    "deepnote_cell_type": "code"
   },
   "source": "plt.figure(figsize=(12,6))\nsns.boxplot(data=df_heart_rate,\n            x = \"day_name\",\n            y = \"heartrate\",\n            order=['Monday', 'Tuesday', 'Wednesday', 'Thursday', 'Friday','Saturday', 'Sunday'])",
   "execution_count": null,
   "outputs": [
    {
     "output_type": "execute_result",
     "execution_count": 125,
     "data": {
      "text/plain": "<AxesSubplot:xlabel='day_name', ylabel='heartrate'>"
     },
     "metadata": {}
    },
    {
     "data": {
      "text/plain": "<Figure size 864x432 with 1 Axes>",
      "image/png": "[encoded data removed]"
     },
     "metadata": {
      "needs_background": "light",
      "image/png": {
       "width": 723,
       "height": 372
      }
     },
     "output_type": "display_data"
    }
   ]
  },
  {
   "cell_type": "code",
   "metadata": {
    "tags": [],
    "cell_id": "00020-aa53661a-70eb-42be-9c50-daca37fc1cd9",
    "deepnote_to_be_reexecuted": false,
    "source_hash": "395daffa",
    "execution_start": 1628180257237,
    "execution_millis": 11,
    "deepnote_cell_type": "code"
   },
   "source": "df_filtered = df_heart_rate[df_heart_rate[\"heartrate\"] > 100]",
   "execution_count": null,
   "outputs": []
  },
  {
   "cell_type": "code",
   "metadata": {
    "tags": [],
    "cell_id": "00020-68a87698-6d7e-409f-875d-92926b8de4c8",
    "deepnote_to_be_reexecuted": false,
    "source_hash": "5e26679",
    "execution_start": 1628180272942,
    "execution_millis": 273,
    "deepnote_cell_type": "code"
   },
   "source": "plt.figure(figsize=(12,6))\ndf_filtered = df_heart_rate[df_heart_rate[\"heartrate\"] > 110]\n\nsns.boxplot(data=df_filtered,\n            x = \"day_name\",\n            y = \"heartrate\",\n            order=['Monday', 'Tuesday', 'Wednesday', 'Thursday', 'Friday','Saturday', 'Sunday'])",
   "execution_count": null,
   "outputs": [
    {
     "output_type": "execute_result",
     "execution_count": 131,
     "data": {
      "text/plain": "<AxesSubplot:xlabel='day_name', ylabel='heartrate'>"
     },
     "metadata": {}
    },
    {
     "data": {
      "text/plain": "<Figure size 864x432 with 1 Axes>",
      "image/png": "[encoded data removed]"
     },
     "metadata": {
      "needs_background": "light",
      "image/png": {
       "width": 723,
       "height": 372
      }
     },
     "output_type": "display_data"
    }
   ]
  },
  {
   "cell_type": "markdown",
   "source": "Create a plot that show min, average, max values of heart rate, for every month (boxplot)",
   "metadata": {
    "tags": [],
    "cell_id": "00023-d501173d-7f0e-4297-a7e7-2eb038a297a4",
    "deepnote_cell_type": "markdown"
   }
  },
  {
   "cell_type": "code",
   "metadata": {
    "tags": [],
    "cell_id": "00023-5aa1236a-29f5-4dce-8d2b-b83703db74e1",
    "deepnote_to_be_reexecuted": false,
    "source_hash": "2f1e5e6d",
    "execution_start": 1628180371461,
    "execution_millis": 278,
    "deepnote_cell_type": "code"
   },
   "source": "plt.figure(figsize=(12,6))\nsns.boxplot(data=df_heart_rate,\n            x = \"month_name\",\n            y = \"heartrate\",\n            order=[\"February\", \"March\", \"April\", 'May', 'June', 'July'])",
   "execution_count": null,
   "outputs": [
    {
     "output_type": "execute_result",
     "execution_count": 133,
     "data": {
      "text/plain": "<AxesSubplot:xlabel='month_name', ylabel='heartrate'>"
     },
     "metadata": {}
    },
    {
     "data": {
      "text/plain": "<Figure size 864x432 with 1 Axes>",
      "image/png": "[encoded data removed]"
     },
     "metadata": {
      "needs_background": "light",
      "image/png": {
       "width": 723,
       "height": 372
      }
     },
     "output_type": "display_data"
    }
   ]
  },
  {
   "cell_type": "code",
   "metadata": {
    "tags": [],
    "cell_id": "00024-ba3f58fb-e4eb-417f-a15e-5887901e19e3",
    "deepnote_to_be_reexecuted": false,
    "source_hash": "a48fb61c",
    "execution_start": 1628180389304,
    "execution_millis": 262,
    "deepnote_cell_type": "code"
   },
   "source": "plt.figure(figsize=(12,6))\ndf_filtered = df_heart_rate[df_heart_rate[\"heartrate\"] > 110]\n\nsns.boxplot(data=df_filtered,\n            x = \"month_name\",\n            y = \"heartrate\",\n            order=[\"February\", \"March\", \"April\", 'May', 'June', 'July'])",
   "execution_count": null,
   "outputs": [
    {
     "output_type": "execute_result",
     "execution_count": 134,
     "data": {
      "text/plain": "<AxesSubplot:xlabel='month_name', ylabel='heartrate'>"
     },
     "metadata": {}
    },
    {
     "data": {
      "text/plain": "<Figure size 864x432 with 1 Axes>",
      "image/png": "[encoded data removed]"
     },
     "metadata": {
      "needs_background": "light",
      "image/png": {
       "width": 723,
       "height": 372
      }
     },
     "output_type": "display_data"
    }
   ]
  },
  {
   "cell_type": "markdown",
   "source": "Create a new column in the `df_heartrate`, called `heart_rate_zone`. \n\nBased on the heart rate measurement, every row will have one of the following values `\"sleep\", \"relaxed\", \"light\", \"intensive\", \"aerobic\", \"anaerobic\", \"VO2 MAX\"`\n\nBased on the histogram above, you decide what are heart-rate ranges will be associated with these values.",
   "metadata": {
    "tags": [],
    "cell_id": "00021-9838dff0-0b65-4807-b809-99e4e6e4e891",
    "deepnote_cell_type": "markdown"
   }
  },
  {
   "cell_type": "code",
   "metadata": {
    "tags": [],
    "cell_id": "00022-8b97e5ba-8f32-4b33-9b6f-0689f4100fda",
    "deepnote_to_be_reexecuted": false,
    "source_hash": "f0f906f",
    "execution_start": 1628181233248,
    "execution_millis": 42,
    "deepnote_cell_type": "code"
   },
   "source": "def create_heart_rate_zone(heart):\n    if heart < 40:\n        return \"danger\"\n    elif  40 < heart <= 60:\n        return \"sleep\"\n    elif  60 < heart <= 80:\n        return \"relaxed\"\n    elif  80 < heart <= 100:\n        return \"light\"\n    elif  100 < heart <= 120:\n        return \"intensive\"\n    elif  120 < heart <= 140:\n        return \"aerobic\"\n    elif  140 < heart <= 170:\n        return \"anaerobic\"\n    elif  170 < heart:\n        return \"VO2 MAX\"\n\ndf_heart_rate[\"heart_rate_zone\"] = df_heart_rate[\"heartrate\"].apply(create_heart_rate_zone)",
   "execution_count": null,
   "outputs": []
  },
  {
   "cell_type": "markdown",
   "source": "Create a graph so that we can see the number of all `heart_rate_zone` values.",
   "metadata": {
    "tags": [],
    "cell_id": "00023-4b093eb3-cbb7-4971-82dc-d35f12a307f6",
    "deepnote_cell_type": "markdown"
   }
  },
  {
   "cell_type": "code",
   "metadata": {
    "tags": [],
    "cell_id": "00023-eeb29ec0-a51f-4039-a6c1-9563d474054d",
    "deepnote_to_be_reexecuted": false,
    "source_hash": "95ceeb69",
    "execution_start": 1628182081024,
    "execution_millis": 255,
    "deepnote_cell_type": "code"
   },
   "source": "sns.countplot(data=df_heart_rate,\n              x=\"heart_rate_zone\",\n              order=df_heart_rate[\"heart_rate_zone\"].value_counts().sort_values(ascending=False).index\n)snss",
   "execution_count": null,
   "outputs": [
    {
     "output_type": "execute_result",
     "execution_count": 208,
     "data": {
      "text/plain": "<AxesSubplot:xlabel='heart_rate_zone', ylabel='count'>"
     },
     "metadata": {}
    },
    {
     "data": {
      "text/plain": "<Figure size 432x288 with 1 Axes>",
      "image/png": "[encoded data removed]"
     },
     "metadata": {
      "needs_background": "light",
      "image/png": {
       "width": 401,
       "height": 263
      }
     },
     "output_type": "display_data"
    }
   ]
  },
  {
   "cell_type": "markdown",
   "source": "Pick a month worth of data - up to you which one.\n\nCreate a graph that will show the min, average, max values of the heart rate for every single day.",
   "metadata": {
    "tags": [],
    "cell_id": "00025-ccf028ac-f6a6-473a-a2e2-5ebaab3ec12d",
    "deepnote_cell_type": "markdown"
   }
  },
  {
   "cell_type": "code",
   "metadata": {
    "tags": [],
    "cell_id": "00026-e005dc9c-ad1f-4e3a-a9a6-e20ef2ed298f",
    "deepnote_to_be_reexecuted": false,
    "source_hash": "7acd9edb",
    "execution_start": 1628182128038,
    "execution_millis": 732,
    "deepnote_cell_type": "code"
   },
   "source": "plt.figure(figsize=(12,6))\n\ndf_filtered = df_heart_rate.loc[\"2021-3\"]\ndf_filtered[\"number_of_day\"] =df_filtered.index.day\n\nsns.boxplot(data= df_filtered,\n            x= \"number_of_day\",\n            y= \"heartrate\")",
   "execution_count": null,
   "outputs": [
    {
     "name": "stderr",
     "text": "/shared-libs/python3.7/py-core/lib/python3.7/site-packages/ipykernel_launcher.py:4: SettingWithCopyWarning: \nA value is trying to be set on a copy of a slice from a DataFrame.\nTry using .loc[row_indexer,col_indexer] = value instead\n\nSee the caveats in the documentation: https://pandas.pydata.org/pandas-docs/stable/user_guide/indexing.html#returning-a-view-versus-a-copy\n  after removing the cwd from sys.path.\n",
     "output_type": "stream"
    },
    {
     "output_type": "execute_result",
     "execution_count": 213,
     "data": {
      "text/plain": "<AxesSubplot:xlabel='number_of_day', ylabel='heartrate'>"
     },
     "metadata": {}
    },
    {
     "data": {
      "text/plain": "<Figure size 864x432 with 1 Axes>",
      "image/png": "[encoded data removed]"
     },
     "metadata": {
      "needs_background": "light",
      "image/png": {
       "width": 723,
       "height": 372
      }
     },
     "output_type": "display_data"
    }
   ]
  },
  {
   "cell_type": "markdown",
   "source": "---\n---\n---\n\n# Sleep\n",
   "metadata": {
    "tags": [],
    "cell_id": "00027-00f2cf4c-c3cd-49a0-8877-2f3a9b43ad99",
    "deepnote_cell_type": "markdown"
   }
  },
  {
   "cell_type": "markdown",
   "source": "Create a plot to show how much deep sleep, shallow sleep, and wake up time happened overall",
   "metadata": {
    "tags": [],
    "cell_id": "00032-b585d570-99b0-4236-869f-872709130f24",
    "deepnote_cell_type": "markdown"
   }
  },
  {
   "cell_type": "code",
   "metadata": {
    "tags": [],
    "cell_id": "00033-fed68879-3f36-403b-90f6-d901c0aa4da2",
    "deepnote_to_be_reexecuted": false,
    "source_hash": "ccc4b47d",
    "execution_start": 1628182501410,
    "execution_millis": 702,
    "deepnote_cell_type": "code"
   },
   "source": "df_temporary = df_sleep[[\"deepsleeptime\", \"shallowsleeptime\", \"waketime\"]].sum()\n\nsns.barplot(data=df_temporary,\n            x=df_temporary.index,\n            y=df_temporary.values)",
   "execution_count": null,
   "outputs": [
    {
     "output_type": "execute_result",
     "execution_count": 229,
     "data": {
      "text/plain": "<AxesSubplot:>"
     },
     "metadata": {}
    },
    {
     "data": {
      "text/plain": "<Figure size 432x288 with 1 Axes>",
      "image/png": "[encoded data removed]"
     },
     "metadata": {
      "needs_background": "light",
      "image/png": {
       "width": 387,
       "height": 248
      }
     },
     "output_type": "display_data"
    }
   ]
  },
  {
   "cell_type": "markdown",
   "source": "1. What is the overall duration spent sleeping?\n\n2. Over how many days?",
   "metadata": {
    "tags": [],
    "cell_id": "00034-450a5948-1742-498e-892d-a1095fbc82f4",
    "deepnote_cell_type": "markdown"
   }
  },
  {
   "cell_type": "code",
   "metadata": {
    "tags": [],
    "cell_id": "00035-316fb59f-298f-4714-9891-6f4821992ceb",
    "deepnote_to_be_reexecuted": false,
    "source_hash": "78d6f5b9",
    "execution_start": 1628183276841,
    "execution_millis": 7,
    "deepnote_cell_type": "code"
   },
   "source": "total_sleep_duration = df_sleep[\"sleep_duration\"].sum()/60\ntotal_sleep_duration",
   "execution_count": null,
   "outputs": [
    {
     "output_type": "execute_result",
     "execution_count": 253,
     "data": {
      "text/plain": "1126.3166666666666"
     },
     "metadata": {}
    }
   ]
  },
  {
   "cell_type": "code",
   "metadata": {
    "tags": [],
    "cell_id": "00037-66f119fc-78bf-4677-887f-974d046d0445",
    "deepnote_to_be_reexecuted": false,
    "source_hash": "79ef0dc0",
    "execution_start": 1628183174830,
    "execution_millis": 9,
    "deepnote_cell_type": "code"
   },
   "source": "diff = (df_sleep.index.max()- df_sleep.index.min())\ntotal_time = diff.days*24\ntotal_time",
   "execution_count": null,
   "outputs": [
    {
     "output_type": "execute_result",
     "execution_count": 244,
     "data": {
      "text/plain": "4200"
     },
     "metadata": {}
    }
   ]
  },
  {
   "cell_type": "code",
   "metadata": {
    "tags": [],
    "cell_id": "00038-68eff323-21e8-459b-9637-0cacca8b274a",
    "deepnote_to_be_reexecuted": false,
    "source_hash": "3cc6cfda",
    "execution_start": 1628183245577,
    "execution_millis": 10,
    "deepnote_cell_type": "code"
   },
   "source": "round((total_sleep_duration / total_time)*100, 2)",
   "execution_count": null,
   "outputs": [
    {
     "output_type": "execute_result",
     "execution_count": 251,
     "data": {
      "text/plain": "26.82"
     },
     "metadata": {}
    }
   ]
  },
  {
   "cell_type": "markdown",
   "source": "Plot a histogram of all the times when sleep started\n\nPlot another histogram onto the same graph with different color, of all the times when sleep ended\n\nMake sure the x-axis starts at 0 (midnight) and ents at 24 (midnight)",
   "metadata": {
    "tags": [],
    "cell_id": "00034-ab99765a-bd12-45be-bd0b-4d13e9e76b79",
    "deepnote_cell_type": "markdown"
   }
  },
  {
   "cell_type": "code",
   "metadata": {
    "tags": [],
    "cell_id": "00035-3e87448b-79f2-40d0-b20e-d212c477beef",
    "deepnote_cell_type": "code"
   },
   "source": "",
   "execution_count": null,
   "outputs": []
  },
  {
   "cell_type": "markdown",
   "source": "Create a boxplot of all fall-asleep and wake-up times.",
   "metadata": {
    "tags": [],
    "cell_id": "00038-c5885966-d15b-479c-b3e1-a270ff1028fe",
    "deepnote_cell_type": "markdown"
   }
  },
  {
   "cell_type": "code",
   "metadata": {
    "tags": [],
    "cell_id": "00039-0b89b305-87bb-4fdb-8642-7d4258fec0b1",
    "deepnote_cell_type": "code"
   },
   "source": "",
   "execution_count": null,
   "outputs": []
  },
  {
   "cell_type": "markdown",
   "source": "Create a plot showing min, average, max value of sleep duration.",
   "metadata": {
    "tags": [],
    "cell_id": "00040-f80bf9e4-5d12-49b9-b18e-9250015b1654",
    "deepnote_cell_type": "markdown"
   }
  },
  {
   "cell_type": "code",
   "metadata": {
    "tags": [],
    "cell_id": "00040-4682634b-9d32-4c5f-98fa-4db7f8378fb9",
    "deepnote_cell_type": "code"
   },
   "source": "",
   "execution_count": null,
   "outputs": []
  },
  {
   "cell_type": "markdown",
   "source": "Create a plot showing min, average, max value of sleep duration, for every day of the week.",
   "metadata": {
    "tags": [],
    "cell_id": "00042-5b513605-2fa9-4b2f-973a-af19421498c5",
    "deepnote_cell_type": "markdown"
   }
  },
  {
   "cell_type": "code",
   "metadata": {
    "tags": [],
    "cell_id": "00043-cd55056c-8d20-4f45-b6e5-82de9deb7dff",
    "deepnote_cell_type": "code"
   },
   "source": "",
   "execution_count": null,
   "outputs": []
  },
  {
   "cell_type": "markdown",
   "source": "Create a plot showing min, average, max value of sleep duration, for every month.",
   "metadata": {
    "tags": [],
    "cell_id": "00044-e880483f-ae98-4cbb-8b80-a2213617bede",
    "deepnote_cell_type": "markdown"
   }
  },
  {
   "cell_type": "code",
   "metadata": {
    "tags": [],
    "cell_id": "00045-7dc6da16-54d1-4b4f-9a81-cbe4ceaf0770",
    "deepnote_cell_type": "code"
   },
   "source": "",
   "execution_count": null,
   "outputs": []
  },
  {
   "cell_type": "markdown",
   "source": "---\n---\n---\n\n# Activity\n\nDo whatever you think can be done!",
   "metadata": {
    "tags": [],
    "cell_id": "00046-fd5b232d-b226-4224-b9e3-b210aa54933a",
    "deepnote_cell_type": "markdown"
   }
  },
  {
   "cell_type": "code",
   "metadata": {
    "tags": [],
    "cell_id": "00046-008a371a-bd02-4b57-b1e6-5b119784341b",
    "deepnote_cell_type": "code"
   },
   "source": "",
   "execution_count": null,
   "outputs": []
  },
  {
   "cell_type": "markdown",
   "source": "<a style='text-decoration:none;line-height:16px;display:flex;color:#5B5B62;padding:10px;justify-content:end;' href='https://deepnote.com?utm_source=created-in-deepnote-cell&projectId=7d3ce7c8-a514-49e4-9ba4-a5899ac52ea5' target=\"_blank\">\n<img alt='Created in deepnote.com' style='display:inline;max-height:16px;margin:0px;margin-right:7.5px;' src='data:image/svg+xml;base64,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' > </img>\nCreated in <span style='font-weight:600;margin-left:4px;'>Deepnote</span></a>",
   "metadata": {
    "tags": [],
    "created_in_deepnote_cell": true,
    "deepnote_cell_type": "markdown"
   }
  }
 ],
 "nbformat": 4,
 "nbformat_minor": 2,
 "metadata": {
  "orig_nbformat": 2,
  "deepnote": {
   "is_reactive": false
  },
  "deepnote_notebook_id": "580bbbfa-3664-4ccd-aec1-2e095c4edf09",
  "deepnote_execution_queue": []
 }
}