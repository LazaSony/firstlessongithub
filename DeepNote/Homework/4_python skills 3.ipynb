{
 "cells": [
  {
   "cell_type": "markdown",
   "source": "1.\n\nWrite code that prints numbers from 0 to 12 except for 3, and except when the number is even\n",
   "metadata": {
    "tags": [],
    "cell_id": "00000-ffb08f49-80a1-4101-ac52-8e53064e4d39",
    "deepnote_cell_type": "markdown"
   }
  },
  {
   "cell_type": "code",
   "metadata": {
    "tags": [],
    "cell_id": "00000-bc4b9ec8-d1d9-4714-b953-ba8372f3005f",
    "deepnote_to_be_reexecuted": false,
    "source_hash": "3b5fd4ad",
    "execution_start": 1624198929392,
    "execution_millis": 2602,
    "deepnote_cell_type": "code"
   },
   "source": "number = int(input(\"Please insert the number\"))\n\nif number in range(0,12) and number != 3 and number % 2 == 0:\n    print(number)\nelif number > 14:\n    print(\"Number not in range\")\nelse: \n    print(\"Wrong number\")",
   "execution_count": null,
   "outputs": [
    {
     "name": "stdout",
     "text": "Wrong number\n",
     "output_type": "stream"
    }
   ]
  },
  {
   "cell_type": "markdown",
   "source": "---\n2.\n\nCreate a function that has 1 argument input of type list, it contains date of birth (year only). Return a list of the same length, with the age (in years).",
   "metadata": {
    "tags": [],
    "cell_id": "00002-13639c9e-222d-4eae-ac43-29d1f3b20235",
    "deepnote_cell_type": "markdown"
   }
  },
  {
   "cell_type": "code",
   "metadata": {
    "tags": [],
    "cell_id": "00003-80d264c6-7359-4dc6-a07a-0a244dd80dc0",
    "deepnote_to_be_reexecuted": false,
    "source_hash": "718a8d91",
    "execution_start": 1624201168792,
    "execution_millis": 6,
    "deepnote_cell_type": "code"
   },
   "source": "years_of_birth = [1990, 1991, 1990, 1990, 1992, 1991]\ncojko = 11\n\n\ndef date_of_birth_to_age(x):\n    default_year = 2021\n    age = []\n    for year in range(len(x)):\n        coki = default_year - x[year]\n        age.append(coki)\n    return age\n\nlaki = date_of_birth_to_age(years_of_birth)\nprint(laki) ",
   "execution_count": null,
   "outputs": [
    {
     "name": "stdout",
     "text": "[31, 30, 31, 31, 29, 30]\n",
     "output_type": "stream"
    }
   ]
  },
  {
   "cell_type": "code",
   "metadata": {
    "tags": [],
    "cell_id": "00005-b08cd200-51f3-45ed-b4a4-7728d13138be",
    "deepnote_to_be_reexecuted": false,
    "source_hash": "459673b2",
    "execution_start": 1624290442691,
    "execution_millis": 7,
    "deepnote_cell_type": "code"
   },
   "source": "from datetime import datetime\n\ndef date_of_birth_to_age(age):\n    default_year = datetime.today().year\n    return default_year - age\n\nlaki = date_of_birth_to_age(28)\nprint(laki)",
   "execution_count": null,
   "outputs": [
    {
     "name": "stdout",
     "text": "1993\n",
     "output_type": "stream"
    }
   ]
  },
  {
   "cell_type": "markdown",
   "source": "---\n3.\n\nCreate a function that has 1 arugment input of type list, it contains integers. return two lists, one contains the unique numbers, and the second contains the position (index) of their first occurance.",
   "metadata": {
    "tags": [],
    "cell_id": "00004-5d96c073-8b80-4dea-a1d5-26bbdc7eb172",
    "deepnote_cell_type": "markdown"
   }
  },
  {
   "cell_type": "code",
   "metadata": {
    "tags": [],
    "cell_id": "00005-3a81fc79-2419-47bf-aac5-b65fe309bdd6",
    "deepnote_to_be_reexecuted": false,
    "source_hash": "cd95a464",
    "execution_start": 1624290693978,
    "execution_millis": 10,
    "deepnote_cell_type": "code"
   },
   "source": "_lst = [1,2,2,2,3,4,5,6,7,7,2]\n\ndef unique_numbers_and_their_index(x):\n    unique_numbers = []\n    their_index = []\n    for current_numbers in x:\n        if current_numbers not in unique_numbers:\n            unique_numbers.append(current_numbers)\n            \n    for current_numbers in unique_numbers:\n        index = x.index(current_numbers) \n        their_index.append(index) \n    return unique_numbers,their_index\n\n\nlaki = unique_numbers_and_their_index(_lst)\nprint(laki)",
   "execution_count": null,
   "outputs": [
    {
     "name": "stdout",
     "text": "([1, 2, 3, 4, 5, 6, 7], [0, 1, 4, 5, 6, 7, 8])\n",
     "output_type": "stream"
    }
   ]
  },
  {
   "cell_type": "markdown",
   "source": "---\n4.\n\nImport package `random` and use its `randint(x, y)` function to obtain a random integer in the range where `x` stands from and `y` to.\n\nDo it step by step:\n\n1.  Wen you run the code, create a random integer in range from 0 to 5.\n2.  Similarly to the \"password program\" you made, make the user then input a number into the console using `int(input())` (int() to change input string to integer) function, state if it matches the randomly generated integer number, otherwise say \"wrong number\"\n3.  If the number is wrong, make it such that it automatically asks for the next number. (TIP1: make sure you do not change the value of the random number you are trying to guess every time you guess wrong) (TIP2: while loop)\n4.  If the input number is valid, make it such the program stops after it says they guessed correct.\n5.  Make it such that if the input number is valid, programs asks for another input `\"Do you wish to play again? Y/N\"` (this case will not require `int()` around the `input()` function becasue we are asking for a string), if they type `N` game will stop like in step 4. but if they type `Y`, generate a new random number and start the game again, until they guess correctly, and then get asked if they wish to continue again. Please type in `\\nGenerating new random number for the next round` when this happens. \n6. Make it such that the program counts the number of correct and wrong input guessess. And at the very end after the game is finished, print both. (TIP: keep track of these two counts, and count them up at the correct spot in the code)",
   "metadata": {
    "tags": [],
    "cell_id": "00006-930290cd-979b-4a73-b68d-b759e4dac291",
    "deepnote_cell_type": "markdown"
   }
  },
  {
   "cell_type": "code",
   "metadata": {
    "tags": [],
    "cell_id": "00007-5564af7a-2179-4642-8987-02f9d0658a11",
    "deepnote_to_be_reexecuted": false,
    "source_hash": "2b39b2fb",
    "execution_start": 1624290882883,
    "execution_millis": 7728,
    "deepnote_cell_type": "code"
   },
   "source": "import random\ncounter = 0\nrandom_intiger = random.randint(0,1)\n\n\nwhile True:\n    password = int(input(\"What is the password? \"))\n    if password == random_intiger:\n        print(\"Good Job!\")\n        new_game = input(\"Do you wish to play again? Y/N\") \n        if new_game == \"N\" or \"n\":\n            break\n        else:\n            random_intiger = random.randint(0,1)\n    else:\n        print(\"Incorret password\")\n        counter = counter + 1\n        print(\"you have \", 3 - counter,\"attempts left\" )",
   "execution_count": null,
   "outputs": [
    {
     "name": "stdout",
     "text": "Good Job!\n",
     "output_type": "stream"
    }
   ]
  },
  {
   "cell_type": "markdown",
   "source": "---\n5.\n\nCreatate a function that takes 1 input argument of type string, a paragraph of text. Split the paragraph into sentences (TIP - sentence ends with \".\"), and check if the sentence contains any of the given words in the words_of_interest. Only if the sentence contains AT LEAST 2 words_of_interest, add the sentence to the list, otherwise do nothing. At the end, return the said list.",
   "metadata": {
    "tags": [],
    "cell_id": "00008-7b8245d4-c69c-4314-b95e-66fed72bb331",
    "deepnote_cell_type": "markdown"
   }
  },
  {
   "cell_type": "code",
   "metadata": {
    "tags": [],
    "cell_id": "00012-68807714-aa66-47d2-b5a2-602d52f89524",
    "deepnote_to_be_reexecuted": false,
    "source_hash": "2decbffb",
    "execution_start": 1624291108156,
    "execution_millis": 8,
    "deepnote_cell_type": "code"
   },
   "source": "paragraph = \"Hello, how are you. My hamster is very awesome. I love him very much.\"\nwords_of_interest = [\"very\", \"awesome\", \"Igloo\", \"him\"]\n\ndef return_desired_sentences(x):\n    paragraph_split = x.split(\".\")\n    result = []\n    for sentence in paragraph_split:\n        counter = 0\n        for word in words_of_interest:\n            if word in sentence.split(\" \"):\n                counter += 1\n        if counter >= 2:\n            result.append(sentence)\n    return result\n\nlaki = return_desired_sentences(paragraph)\nprint(laki)",
   "execution_count": null,
   "outputs": [
    {
     "name": "stdout",
     "text": "[' My hamster is very awesome', ' I love him very much']\n",
     "output_type": "stream"
    }
   ]
  },
  {
   "cell_type": "markdown",
   "source": "<a style='text-decoration:none;line-height:16px;display:flex;color:#5B5B62;padding:10px;justify-content:end;' href='https://deepnote.com?utm_source=created-in-deepnote-cell&projectId=7d3ce7c8-a514-49e4-9ba4-a5899ac52ea5' target=\"_blank\">\n<img alt='Created in deepnote.com' style='display:inline;max-height:16px;margin:0px;margin-right:7.5px;' src='data:image/svg+xml;base64,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' > </img>\nCreated in <span style='font-weight:600;margin-left:4px;'>Deepnote</span></a>",
   "metadata": {
    "tags": [],
    "created_in_deepnote_cell": true,
    "deepnote_cell_type": "markdown"
   }
  }
 ],
 "nbformat": 4,
 "nbformat_minor": 2,
 "metadata": {
  "orig_nbformat": 2,
  "deepnote": {
   "is_reactive": false
  },
  "deepnote_notebook_id": "2229db0b-0690-4571-adc1-2b9cf09e5b3b",
  "deepnote_execution_queue": []
 }
}