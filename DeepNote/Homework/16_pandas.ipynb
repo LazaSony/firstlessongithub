{
 "cells": [
  {
   "cell_type": "code",
   "metadata": {
    "tags": [],
    "cell_id": "00000-2118d4dc-e5da-4117-a2b3-2eb0b97f0491",
    "deepnote_to_be_reexecuted": false,
    "source_hash": "8f6cd9ae",
    "execution_start": 1629128543280,
    "execution_millis": 17,
    "output_cleared": false,
    "deepnote_cell_type": "code"
   },
   "source": "import pandas as pd\nimport numpy as np\nfrom numpy import median\n\n\ns1 = pd.Series(np.random.randint(1, high=4, size=100, dtype='l'))\ns2 = pd.Series(np.random.randint(1, high=4, size=100, dtype='l'))\ns3 = pd.Series(np.random.randint(10000, high=30001, size=100, dtype='l'))\n\nprint(s1, s2, s3)",
   "execution_count": null,
   "outputs": [
    {
     "name": "stdout",
     "text": "0     3\n1     2\n2     1\n3     3\n4     1\n     ..\n95    2\n96    2\n97    3\n98    2\n99    3\nLength: 100, dtype: int64 0     2\n1     2\n2     1\n3     2\n4     2\n     ..\n95    1\n96    1\n97    3\n98    3\n99    3\nLength: 100, dtype: int64 0     15227\n1     23415\n2     24034\n3     20302\n4     20427\n      ...  \n95    24773\n96    22464\n97    26846\n98    17028\n99    25000\nLength: 100, dtype: int64\n",
     "output_type": "stream"
    }
   ]
  },
  {
   "cell_type": "markdown",
   "source": "Make a dateframe out of these 3 series. Use google if you are unsure.\n\nColumn names are `bedrooms`, `hallways`, `price`",
   "metadata": {
    "tags": [],
    "cell_id": "00003-62c3e078-c500-4887-844f-1941062ae170",
    "deepnote_cell_type": "markdown"
   }
  },
  {
   "cell_type": "code",
   "metadata": {
    "tags": [],
    "cell_id": "00004-60d79b64-dd3c-463e-87b6-5865406af237",
    "deepnote_to_be_reexecuted": false,
    "source_hash": "61d05bd2",
    "execution_start": 1629128591126,
    "execution_millis": 68,
    "deepnote_cell_type": "code"
   },
   "source": "df= pd.DataFrame({\"bedrooms\":s1,\"hallways\":s2,\"price\":s3})\ndf\n\n# data = zip(s1,s2,s3)\n# columns = [\"bedrooms\", \"hallways\", \"price\"]\n# pd.DataFrame(data=data, columns=columns)",
   "execution_count": null,
   "outputs": [
    {
     "output_type": "execute_result",
     "execution_count": 2,
     "data": {
      "application/vnd.deepnote.dataframe.v2+json": {
       "row_count": 100,
       "column_count": 3,
       "columns": [
        {
         "name": "bedrooms",
         "dtype": "int64",
         "stats": {
          "unique_count": 3,
          "nan_count": 0,
          "min": "1",
          "max": "3",
          "histogram": [
           {
            "bin_start": 1,
            "bin_end": 1.2,
            "count": 24
           },
           {
            "bin_start": 1.2,
            "bin_end": 1.4,
            "count": 0
           },
           {
            "bin_start": 1.4,
            "bin_end": 1.6,
            "count": 0
           },
           {
            "bin_start": 1.6,
            "bin_end": 1.8,
            "count": 0
           },
           {
            "bin_start": 1.8,
            "bin_end": 2,
            "count": 0
           },
           {
            "bin_start": 2,
            "bin_end": 2.2,
            "count": 32
           },
           {
            "bin_start": 2.2,
            "bin_end": 2.4000000000000004,
            "count": 0
           },
           {
            "bin_start": 2.4000000000000004,
            "bin_end": 2.6,
            "count": 0
           },
           {
            "bin_start": 2.6,
            "bin_end": 2.8,
            "count": 0
           },
           {
            "bin_start": 2.8,
            "bin_end": 3,
            "count": 44
           }
          ]
         }
        },
        {
         "name": "hallways",
         "dtype": "int64",
         "stats": {
          "unique_count": 3,
          "nan_count": 0,
          "min": "1",
          "max": "3",
          "histogram": [
           {
            "bin_start": 1,
            "bin_end": 1.2,
            "count": 37
           },
           {
            "bin_start": 1.2,
            "bin_end": 1.4,
            "count": 0
           },
           {
            "bin_start": 1.4,
            "bin_end": 1.6,
            "count": 0
           },
           {
            "bin_start": 1.6,
            "bin_end": 1.8,
            "count": 0
           },
           {
            "bin_start": 1.8,
            "bin_end": 2,
            "count": 0
           },
           {
            "bin_start": 2,
            "bin_end": 2.2,
            "count": 27
           },
           {
            "bin_start": 2.2,
            "bin_end": 2.4000000000000004,
            "count": 0
           },
           {
            "bin_start": 2.4000000000000004,
            "bin_end": 2.6,
            "count": 0
           },
           {
            "bin_start": 2.6,
            "bin_end": 2.8,
            "count": 0
           },
           {
            "bin_start": 2.8,
            "bin_end": 3,
            "count": 36
           }
          ]
         }
        },
        {
         "name": "price",
         "dtype": "int64",
         "stats": {
          "unique_count": 100,
          "nan_count": 0,
          "min": "10062",
          "max": "29742",
          "histogram": [
           {
            "bin_start": 10062,
            "bin_end": 12030,
            "count": 14
           },
           {
            "bin_start": 12030,
            "bin_end": 13998,
            "count": 7
           },
           {
            "bin_start": 13998,
            "bin_end": 15966,
            "count": 7
           },
           {
            "bin_start": 15966,
            "bin_end": 17934,
            "count": 10
           },
           {
            "bin_start": 17934,
            "bin_end": 19902,
            "count": 8
           },
           {
            "bin_start": 19902,
            "bin_end": 21870,
            "count": 16
           },
           {
            "bin_start": 21870,
            "bin_end": 23838,
            "count": 14
           },
           {
            "bin_start": 23838,
            "bin_end": 25806,
            "count": 7
           },
           {
            "bin_start": 25806,
            "bin_end": 27774,
            "count": 10
           },
           {
            "bin_start": 27774,
            "bin_end": 29742,
            "count": 7
           }
          ]
         }
        },
        {
         "name": "_deepnote_index_column",
         "dtype": "int64"
        }
       ],
       "rows_top": [
        {
         "bedrooms": 3,
         "hallways": 2,
         "price": 15227,
         "_deepnote_index_column": 0
        },
        {
         "bedrooms": 2,
         "hallways": 2,
         "price": 23415,
         "_deepnote_index_column": 1
        },
        {
         "bedrooms": 1,
         "hallways": 1,
         "price": 24034,
         "_deepnote_index_column": 2
        },
        {
         "bedrooms": 3,
         "hallways": 2,
         "price": 20302,
         "_deepnote_index_column": 3
        },
        {
         "bedrooms": 1,
         "hallways": 2,
         "price": 20427,
         "_deepnote_index_column": 4
        },
        {
         "bedrooms": 2,
         "hallways": 1,
         "price": 20477,
         "_deepnote_index_column": 5
        },
        {
         "bedrooms": 3,
         "hallways": 2,
         "price": 16776,
         "_deepnote_index_column": 6
        },
        {
         "bedrooms": 2,
         "hallways": 2,
         "price": 23641,
         "_deepnote_index_column": 7
        },
        {
         "bedrooms": 1,
         "hallways": 1,
         "price": 19847,
         "_deepnote_index_column": 8
        },
        {
         "bedrooms": 3,
         "hallways": 3,
         "price": 22061,
         "_deepnote_index_column": 9
        },
        {
         "bedrooms": 3,
         "hallways": 2,
         "price": 17894,
         "_deepnote_index_column": 10
        },
        {
         "bedrooms": 3,
         "hallways": 2,
         "price": 19093,
         "_deepnote_index_column": 11
        },
        {
         "bedrooms": 2,
         "hallways": 1,
         "price": 10473,
         "_deepnote_index_column": 12
        },
        {
         "bedrooms": 1,
         "hallways": 1,
         "price": 26758,
         "_deepnote_index_column": 13
        },
        {
         "bedrooms": 3,
         "hallways": 1,
         "price": 22689,
         "_deepnote_index_column": 14
        },
        {
         "bedrooms": 3,
         "hallways": 1,
         "price": 20322,
         "_deepnote_index_column": 15
        },
        {
         "bedrooms": 3,
         "hallways": 3,
         "price": 12006,
         "_deepnote_index_column": 16
        },
        {
         "bedrooms": 3,
         "hallways": 3,
         "price": 20467,
         "_deepnote_index_column": 17
        },
        {
         "bedrooms": 1,
         "hallways": 3,
         "price": 13280,
         "_deepnote_index_column": 18
        },
        {
         "bedrooms": 3,
         "hallways": 1,
         "price": 11396,
         "_deepnote_index_column": 19
        },
        {
         "bedrooms": 1,
         "hallways": 1,
         "price": 29742,
         "_deepnote_index_column": 20
        },
        {
         "bedrooms": 1,
         "hallways": 2,
         "price": 16205,
         "_deepnote_index_column": 21
        },
        {
         "bedrooms": 3,
         "hallways": 2,
         "price": 13474,
         "_deepnote_index_column": 22
        },
        {
         "bedrooms": 3,
         "hallways": 1,
         "price": 10406,
         "_deepnote_index_column": 23
        },
        {
         "bedrooms": 3,
         "hallways": 1,
         "price": 19778,
         "_deepnote_index_column": 24
        },
        {
         "bedrooms": 2,
         "hallways": 1,
         "price": 20201,
         "_deepnote_index_column": 25
        },
        {
         "bedrooms": 2,
         "hallways": 2,
         "price": 20788,
         "_deepnote_index_column": 26
        },
        {
         "bedrooms": 2,
         "hallways": 3,
         "price": 13010,
         "_deepnote_index_column": 27
        },
        {
         "bedrooms": 2,
         "hallways": 2,
         "price": 29741,
         "_deepnote_index_column": 28
        },
        {
         "bedrooms": 2,
         "hallways": 2,
         "price": 11238,
         "_deepnote_index_column": 29
        },
        {
         "bedrooms": 2,
         "hallways": 2,
         "price": 15641,
         "_deepnote_index_column": 30
        },
        {
         "bedrooms": 1,
         "hallways": 1,
         "price": 19787,
         "_deepnote_index_column": 31
        },
        {
         "bedrooms": 1,
         "hallways": 3,
         "price": 18153,
         "_deepnote_index_column": 32
        },
        {
         "bedrooms": 3,
         "hallways": 3,
         "price": 11272,
         "_deepnote_index_column": 33
        },
        {
         "bedrooms": 2,
         "hallways": 1,
         "price": 16715,
         "_deepnote_index_column": 34
        },
        {
         "bedrooms": 3,
         "hallways": 2,
         "price": 29406,
         "_deepnote_index_column": 35
        },
        {
         "bedrooms": 3,
         "hallways": 2,
         "price": 25209,
         "_deepnote_index_column": 36
        },
        {
         "bedrooms": 2,
         "hallways": 1,
         "price": 20916,
         "_deepnote_index_column": 37
        },
        {
         "bedrooms": 3,
         "hallways": 3,
         "price": 20027,
         "_deepnote_index_column": 38
        },
        {
         "bedrooms": 1,
         "hallways": 2,
         "price": 27343,
         "_deepnote_index_column": 39
        },
        {
         "bedrooms": 1,
         "hallways": 3,
         "price": 27328,
         "_deepnote_index_column": 40
        },
        {
         "bedrooms": 3,
         "hallways": 1,
         "price": 23269,
         "_deepnote_index_column": 41
        },
        {
         "bedrooms": 3,
         "hallways": 1,
         "price": 22843,
         "_deepnote_index_column": 42
        },
        {
         "bedrooms": 2,
         "hallways": 2,
         "price": 15710,
         "_deepnote_index_column": 43
        },
        {
         "bedrooms": 2,
         "hallways": 2,
         "price": 13427,
         "_deepnote_index_column": 44
        },
        {
         "bedrooms": 2,
         "hallways": 1,
         "price": 27350,
         "_deepnote_index_column": 45
        },
        {
         "bedrooms": 1,
         "hallways": 3,
         "price": 25674,
         "_deepnote_index_column": 46
        },
        {
         "bedrooms": 3,
         "hallways": 3,
         "price": 20451,
         "_deepnote_index_column": 47
        },
        {
         "bedrooms": 3,
         "hallways": 3,
         "price": 23655,
         "_deepnote_index_column": 48
        },
        {
         "bedrooms": 1,
         "hallways": 1,
         "price": 15147,
         "_deepnote_index_column": 49
        },
        {
         "bedrooms": 1,
         "hallways": 3,
         "price": 22954,
         "_deepnote_index_column": 50
        },
        {
         "bedrooms": 3,
         "hallways": 3,
         "price": 20598,
         "_deepnote_index_column": 51
        },
        {
         "bedrooms": 2,
         "hallways": 1,
         "price": 29098,
         "_deepnote_index_column": 52
        },
        {
         "bedrooms": 2,
         "hallways": 3,
         "price": 28545,
         "_deepnote_index_column": 53
        },
        {
         "bedrooms": 1,
         "hallways": 2,
         "price": 23800,
         "_deepnote_index_column": 54
        },
        {
         "bedrooms": 3,
         "hallways": 3,
         "price": 15395,
         "_deepnote_index_column": 55
        },
        {
         "bedrooms": 2,
         "hallways": 3,
         "price": 11606,
         "_deepnote_index_column": 56
        },
        {
         "bedrooms": 3,
         "hallways": 1,
         "price": 14345,
         "_deepnote_index_column": 57
        },
        {
         "bedrooms": 3,
         "hallways": 2,
         "price": 23623,
         "_deepnote_index_column": 58
        },
        {
         "bedrooms": 2,
         "hallways": 3,
         "price": 16777,
         "_deepnote_index_column": 59
        },
        {
         "bedrooms": 1,
         "hallways": 1,
         "price": 27717,
         "_deepnote_index_column": 60
        },
        {
         "bedrooms": 3,
         "hallways": 1,
         "price": 28264,
         "_deepnote_index_column": 61
        },
        {
         "bedrooms": 2,
         "hallways": 2,
         "price": 22656,
         "_deepnote_index_column": 62
        },
        {
         "bedrooms": 2,
         "hallways": 2,
         "price": 19044,
         "_deepnote_index_column": 63
        },
        {
         "bedrooms": 3,
         "hallways": 3,
         "price": 26498,
         "_deepnote_index_column": 64
        },
        {
         "bedrooms": 2,
         "hallways": 1,
         "price": 11972,
         "_deepnote_index_column": 65
        },
        {
         "bedrooms": 1,
         "hallways": 1,
         "price": 11379,
         "_deepnote_index_column": 66
        },
        {
         "bedrooms": 3,
         "hallways": 3,
         "price": 16050,
         "_deepnote_index_column": 67
        },
        {
         "bedrooms": 2,
         "hallways": 3,
         "price": 10697,
         "_deepnote_index_column": 68
        },
        {
         "bedrooms": 1,
         "hallways": 3,
         "price": 21682,
         "_deepnote_index_column": 69
        },
        {
         "bedrooms": 2,
         "hallways": 2,
         "price": 25936,
         "_deepnote_index_column": 70
        },
        {
         "bedrooms": 3,
         "hallways": 1,
         "price": 10224,
         "_deepnote_index_column": 71
        },
        {
         "bedrooms": 3,
         "hallways": 3,
         "price": 28581,
         "_deepnote_index_column": 72
        },
        {
         "bedrooms": 2,
         "hallways": 3,
         "price": 13163,
         "_deepnote_index_column": 73
        },
        {
         "bedrooms": 2,
         "hallways": 1,
         "price": 16857,
         "_deepnote_index_column": 74
        },
        {
         "bedrooms": 3,
         "hallways": 3,
         "price": 15194,
         "_deepnote_index_column": 75
        },
        {
         "bedrooms": 3,
         "hallways": 3,
         "price": 16804,
         "_deepnote_index_column": 76
        },
        {
         "bedrooms": 2,
         "hallways": 3,
         "price": 12958,
         "_deepnote_index_column": 77
        },
        {
         "bedrooms": 1,
         "hallways": 1,
         "price": 11254,
         "_deepnote_index_column": 78
        },
        {
         "bedrooms": 1,
         "hallways": 3,
         "price": 26990,
         "_deepnote_index_column": 79
        },
        {
         "bedrooms": 1,
         "hallways": 1,
         "price": 19005,
         "_deepnote_index_column": 80
        },
        {
         "bedrooms": 2,
         "hallways": 2,
         "price": 20030,
         "_deepnote_index_column": 81
        },
        {
         "bedrooms": 3,
         "hallways": 1,
         "price": 16860,
         "_deepnote_index_column": 82
        },
        {
         "bedrooms": 3,
         "hallways": 3,
         "price": 18984,
         "_deepnote_index_column": 83
        },
        {
         "bedrooms": 3,
         "hallways": 3,
         "price": 23097,
         "_deepnote_index_column": 84
        },
        {
         "bedrooms": 1,
         "hallways": 1,
         "price": 25462,
         "_deepnote_index_column": 85
        },
        {
         "bedrooms": 1,
         "hallways": 3,
         "price": 24846,
         "_deepnote_index_column": 86
        },
        {
         "bedrooms": 1,
         "hallways": 1,
         "price": 25888,
         "_deepnote_index_column": 87
        },
        {
         "bedrooms": 3,
         "hallways": 3,
         "price": 20327,
         "_deepnote_index_column": 88
        },
        {
         "bedrooms": 3,
         "hallways": 1,
         "price": 22964,
         "_deepnote_index_column": 89
        },
        {
         "bedrooms": 3,
         "hallways": 2,
         "price": 21075,
         "_deepnote_index_column": 90
        },
        {
         "bedrooms": 3,
         "hallways": 1,
         "price": 10062,
         "_deepnote_index_column": 91
        },
        {
         "bedrooms": 2,
         "hallways": 2,
         "price": 11410,
         "_deepnote_index_column": 92
        },
        {
         "bedrooms": 3,
         "hallways": 1,
         "price": 12704,
         "_deepnote_index_column": 93
        },
        {
         "bedrooms": 3,
         "hallways": 3,
         "price": 20321,
         "_deepnote_index_column": 94
        },
        {
         "bedrooms": 2,
         "hallways": 1,
         "price": 24773,
         "_deepnote_index_column": 95
        },
        {
         "bedrooms": 2,
         "hallways": 1,
         "price": 22464,
         "_deepnote_index_column": 96
        },
        {
         "bedrooms": 3,
         "hallways": 3,
         "price": 26846,
         "_deepnote_index_column": 97
        },
        {
         "bedrooms": 2,
         "hallways": 3,
         "price": 17028,
         "_deepnote_index_column": 98
        },
        {
         "bedrooms": 3,
         "hallways": 3,
         "price": 25000,
         "_deepnote_index_column": 99
        }
       ],
       "rows_bottom": null
      },
      "text/plain": "    bedrooms  hallways  price\n0          3         2  15227\n1          2         2  23415\n2          1         1  24034\n3          3         2  20302\n4          1         2  20427\n..       ...       ...    ...\n95         2         1  24773\n96         2         1  22464\n97         3         3  26846\n98         2         3  17028\n99         3         3  25000\n\n[100 rows x 3 columns]",
      "text/html": "<div>\n<style scoped>\n    .dataframe tbody tr th:only-of-type {\n        vertical-align: middle;\n    }\n\n    .dataframe tbody tr th {\n        vertical-align: top;\n    }\n\n    .dataframe thead th {\n        text-align: right;\n    }\n</style>\n<table border=\"1\" class=\"dataframe\">\n  <thead>\n    <tr style=\"text-align: right;\">\n      <th></th>\n      <th>bedrooms</th>\n      <th>hallways</th>\n      <th>price</th>\n    </tr>\n  </thead>\n  <tbody>\n    <tr>\n      <th>0</th>\n      <td>3</td>\n      <td>2</td>\n      <td>15227</td>\n    </tr>\n    <tr>\n      <th>1</th>\n      <td>2</td>\n      <td>2</td>\n      <td>23415</td>\n    </tr>\n    <tr>\n      <th>2</th>\n      <td>1</td>\n      <td>1</td>\n      <td>24034</td>\n    </tr>\n    <tr>\n      <th>3</th>\n      <td>3</td>\n      <td>2</td>\n      <td>20302</td>\n    </tr>\n    <tr>\n      <th>4</th>\n      <td>1</td>\n      <td>2</td>\n      <td>20427</td>\n    </tr>\n    <tr>\n      <th>...</th>\n      <td>...</td>\n      <td>...</td>\n      <td>...</td>\n    </tr>\n    <tr>\n      <th>95</th>\n      <td>2</td>\n      <td>1</td>\n      <td>24773</td>\n    </tr>\n    <tr>\n      <th>96</th>\n      <td>2</td>\n      <td>1</td>\n      <td>22464</td>\n    </tr>\n    <tr>\n      <th>97</th>\n      <td>3</td>\n      <td>3</td>\n      <td>26846</td>\n    </tr>\n    <tr>\n      <th>98</th>\n      <td>2</td>\n      <td>3</td>\n      <td>17028</td>\n    </tr>\n    <tr>\n      <th>99</th>\n      <td>3</td>\n      <td>3</td>\n      <td>25000</td>\n    </tr>\n  </tbody>\n</table>\n<p>100 rows × 3 columns</p>\n</div>"
     },
     "metadata": {}
    }
   ]
  },
  {
   "cell_type": "markdown",
   "source": "You wish to rent a house and want to see which ones are worth it.\n\nUse `.apply()` (up to you how you choose to do it) to create new column `is_it_wroth_it`, with values `True` and `False`, and it is True if number of bedrooms is more than 3, and price is less than 15,000. Otherwise it's False.",
   "metadata": {
    "tags": [],
    "cell_id": "00004-3251b57e-3725-4227-87dc-6b35d8c3fbc6",
    "deepnote_cell_type": "markdown"
   }
  },
  {
   "cell_type": "code",
   "metadata": {
    "tags": [],
    "cell_id": "00004-0d61bc14-86d7-4b16-8132-2d83f18e1c1a",
    "deepnote_to_be_reexecuted": false,
    "source_hash": "dffd79dd",
    "execution_start": 1629128794515,
    "execution_millis": 54,
    "deepnote_cell_type": "code"
   },
   "source": "def nice_house(x):\n    if x[\"bedrooms\"] >= 3 and x[\"price\"] < 15000:\n        x[\"is_it_wroth_it\"] = True\n    else:\n        x[\"is_it_wroth_it\"] = False\n    # x[\"is_it_wroth_it\"] = x[\"is_it_wroth_it\"].astype(bool)        \n    return x\n\ndf = df.apply(nice_house, axis=1)\ndf",
   "execution_count": null,
   "outputs": [
    {
     "output_type": "execute_result",
     "execution_count": 12,
     "data": {
      "application/vnd.deepnote.dataframe.v2+json": {
       "row_count": 100,
       "column_count": 4,
       "columns": [
        {
         "name": "bedrooms",
         "dtype": "int64",
         "stats": {
          "unique_count": 3,
          "nan_count": 0,
          "min": "1",
          "max": "3",
          "histogram": [
           {
            "bin_start": 1,
            "bin_end": 1.2,
            "count": 24
           },
           {
            "bin_start": 1.2,
            "bin_end": 1.4,
            "count": 0
           },
           {
            "bin_start": 1.4,
            "bin_end": 1.6,
            "count": 0
           },
           {
            "bin_start": 1.6,
            "bin_end": 1.8,
            "count": 0
           },
           {
            "bin_start": 1.8,
            "bin_end": 2,
            "count": 0
           },
           {
            "bin_start": 2,
            "bin_end": 2.2,
            "count": 32
           },
           {
            "bin_start": 2.2,
            "bin_end": 2.4000000000000004,
            "count": 0
           },
           {
            "bin_start": 2.4000000000000004,
            "bin_end": 2.6,
            "count": 0
           },
           {
            "bin_start": 2.6,
            "bin_end": 2.8,
            "count": 0
           },
           {
            "bin_start": 2.8,
            "bin_end": 3,
            "count": 44
           }
          ]
         }
        },
        {
         "name": "hallways",
         "dtype": "int64",
         "stats": {
          "unique_count": 3,
          "nan_count": 0,
          "min": "1",
          "max": "3",
          "histogram": [
           {
            "bin_start": 1,
            "bin_end": 1.2,
            "count": 37
           },
           {
            "bin_start": 1.2,
            "bin_end": 1.4,
            "count": 0
           },
           {
            "bin_start": 1.4,
            "bin_end": 1.6,
            "count": 0
           },
           {
            "bin_start": 1.6,
            "bin_end": 1.8,
            "count": 0
           },
           {
            "bin_start": 1.8,
            "bin_end": 2,
            "count": 0
           },
           {
            "bin_start": 2,
            "bin_end": 2.2,
            "count": 27
           },
           {
            "bin_start": 2.2,
            "bin_end": 2.4000000000000004,
            "count": 0
           },
           {
            "bin_start": 2.4000000000000004,
            "bin_end": 2.6,
            "count": 0
           },
           {
            "bin_start": 2.6,
            "bin_end": 2.8,
            "count": 0
           },
           {
            "bin_start": 2.8,
            "bin_end": 3,
            "count": 36
           }
          ]
         }
        },
        {
         "name": "price",
         "dtype": "int64",
         "stats": {
          "unique_count": 100,
          "nan_count": 0,
          "min": "10062",
          "max": "29742",
          "histogram": [
           {
            "bin_start": 10062,
            "bin_end": 12030,
            "count": 14
           },
           {
            "bin_start": 12030,
            "bin_end": 13998,
            "count": 7
           },
           {
            "bin_start": 13998,
            "bin_end": 15966,
            "count": 7
           },
           {
            "bin_start": 15966,
            "bin_end": 17934,
            "count": 10
           },
           {
            "bin_start": 17934,
            "bin_end": 19902,
            "count": 8
           },
           {
            "bin_start": 19902,
            "bin_end": 21870,
            "count": 16
           },
           {
            "bin_start": 21870,
            "bin_end": 23838,
            "count": 14
           },
           {
            "bin_start": 23838,
            "bin_end": 25806,
            "count": 7
           },
           {
            "bin_start": 25806,
            "bin_end": 27774,
            "count": 10
           },
           {
            "bin_start": 27774,
            "bin_end": 29742,
            "count": 7
           }
          ]
         }
        },
        {
         "name": "is_it_wroth_it",
         "dtype": "bool",
         "stats": {
          "unique_count": 2,
          "nan_count": 0,
          "categories": [
           {
            "name": "False",
            "count": 91
           },
           {
            "name": "True",
            "count": 9
           }
          ]
         }
        },
        {
         "name": "_deepnote_index_column",
         "dtype": "int64"
        }
       ],
       "rows_top": [
        {
         "bedrooms": 3,
         "hallways": 2,
         "price": 15227,
         "is_it_wroth_it": "False",
         "_deepnote_index_column": 0
        },
        {
         "bedrooms": 2,
         "hallways": 2,
         "price": 23415,
         "is_it_wroth_it": "False",
         "_deepnote_index_column": 1
        },
        {
         "bedrooms": 1,
         "hallways": 1,
         "price": 24034,
         "is_it_wroth_it": "False",
         "_deepnote_index_column": 2
        },
        {
         "bedrooms": 3,
         "hallways": 2,
         "price": 20302,
         "is_it_wroth_it": "False",
         "_deepnote_index_column": 3
        },
        {
         "bedrooms": 1,
         "hallways": 2,
         "price": 20427,
         "is_it_wroth_it": "False",
         "_deepnote_index_column": 4
        },
        {
         "bedrooms": 2,
         "hallways": 1,
         "price": 20477,
         "is_it_wroth_it": "False",
         "_deepnote_index_column": 5
        },
        {
         "bedrooms": 3,
         "hallways": 2,
         "price": 16776,
         "is_it_wroth_it": "False",
         "_deepnote_index_column": 6
        },
        {
         "bedrooms": 2,
         "hallways": 2,
         "price": 23641,
         "is_it_wroth_it": "False",
         "_deepnote_index_column": 7
        },
        {
         "bedrooms": 1,
         "hallways": 1,
         "price": 19847,
         "is_it_wroth_it": "False",
         "_deepnote_index_column": 8
        },
        {
         "bedrooms": 3,
         "hallways": 3,
         "price": 22061,
         "is_it_wroth_it": "False",
         "_deepnote_index_column": 9
        },
        {
         "bedrooms": 3,
         "hallways": 2,
         "price": 17894,
         "is_it_wroth_it": "False",
         "_deepnote_index_column": 10
        },
        {
         "bedrooms": 3,
         "hallways": 2,
         "price": 19093,
         "is_it_wroth_it": "False",
         "_deepnote_index_column": 11
        },
        {
         "bedrooms": 2,
         "hallways": 1,
         "price": 10473,
         "is_it_wroth_it": "False",
         "_deepnote_index_column": 12
        },
        {
         "bedrooms": 1,
         "hallways": 1,
         "price": 26758,
         "is_it_wroth_it": "False",
         "_deepnote_index_column": 13
        },
        {
         "bedrooms": 3,
         "hallways": 1,
         "price": 22689,
         "is_it_wroth_it": "False",
         "_deepnote_index_column": 14
        },
        {
         "bedrooms": 3,
         "hallways": 1,
         "price": 20322,
         "is_it_wroth_it": "False",
         "_deepnote_index_column": 15
        },
        {
         "bedrooms": 3,
         "hallways": 3,
         "price": 12006,
         "is_it_wroth_it": "True",
         "_deepnote_index_column": 16
        },
        {
         "bedrooms": 3,
         "hallways": 3,
         "price": 20467,
         "is_it_wroth_it": "False",
         "_deepnote_index_column": 17
        },
        {
         "bedrooms": 1,
         "hallways": 3,
         "price": 13280,
         "is_it_wroth_it": "False",
         "_deepnote_index_column": 18
        },
        {
         "bedrooms": 3,
         "hallways": 1,
         "price": 11396,
         "is_it_wroth_it": "True",
         "_deepnote_index_column": 19
        },
        {
         "bedrooms": 1,
         "hallways": 1,
         "price": 29742,
         "is_it_wroth_it": "False",
         "_deepnote_index_column": 20
        },
        {
         "bedrooms": 1,
         "hallways": 2,
         "price": 16205,
         "is_it_wroth_it": "False",
         "_deepnote_index_column": 21
        },
        {
         "bedrooms": 3,
         "hallways": 2,
         "price": 13474,
         "is_it_wroth_it": "True",
         "_deepnote_index_column": 22
        },
        {
         "bedrooms": 3,
         "hallways": 1,
         "price": 10406,
         "is_it_wroth_it": "True",
         "_deepnote_index_column": 23
        },
        {
         "bedrooms": 3,
         "hallways": 1,
         "price": 19778,
         "is_it_wroth_it": "False",
         "_deepnote_index_column": 24
        },
        {
         "bedrooms": 2,
         "hallways": 1,
         "price": 20201,
         "is_it_wroth_it": "False",
         "_deepnote_index_column": 25
        },
        {
         "bedrooms": 2,
         "hallways": 2,
         "price": 20788,
         "is_it_wroth_it": "False",
         "_deepnote_index_column": 26
        },
        {
         "bedrooms": 2,
         "hallways": 3,
         "price": 13010,
         "is_it_wroth_it": "False",
         "_deepnote_index_column": 27
        },
        {
         "bedrooms": 2,
         "hallways": 2,
         "price": 29741,
         "is_it_wroth_it": "False",
         "_deepnote_index_column": 28
        },
        {
         "bedrooms": 2,
         "hallways": 2,
         "price": 11238,
         "is_it_wroth_it": "False",
         "_deepnote_index_column": 29
        },
        {
         "bedrooms": 2,
         "hallways": 2,
         "price": 15641,
         "is_it_wroth_it": "False",
         "_deepnote_index_column": 30
        },
        {
         "bedrooms": 1,
         "hallways": 1,
         "price": 19787,
         "is_it_wroth_it": "False",
         "_deepnote_index_column": 31
        },
        {
         "bedrooms": 1,
         "hallways": 3,
         "price": 18153,
         "is_it_wroth_it": "False",
         "_deepnote_index_column": 32
        },
        {
         "bedrooms": 3,
         "hallways": 3,
         "price": 11272,
         "is_it_wroth_it": "True",
         "_deepnote_index_column": 33
        },
        {
         "bedrooms": 2,
         "hallways": 1,
         "price": 16715,
         "is_it_wroth_it": "False",
         "_deepnote_index_column": 34
        },
        {
         "bedrooms": 3,
         "hallways": 2,
         "price": 29406,
         "is_it_wroth_it": "False",
         "_deepnote_index_column": 35
        },
        {
         "bedrooms": 3,
         "hallways": 2,
         "price": 25209,
         "is_it_wroth_it": "False",
         "_deepnote_index_column": 36
        },
        {
         "bedrooms": 2,
         "hallways": 1,
         "price": 20916,
         "is_it_wroth_it": "False",
         "_deepnote_index_column": 37
        },
        {
         "bedrooms": 3,
         "hallways": 3,
         "price": 20027,
         "is_it_wroth_it": "False",
         "_deepnote_index_column": 38
        },
        {
         "bedrooms": 1,
         "hallways": 2,
         "price": 27343,
         "is_it_wroth_it": "False",
         "_deepnote_index_column": 39
        },
        {
         "bedrooms": 1,
         "hallways": 3,
         "price": 27328,
         "is_it_wroth_it": "False",
         "_deepnote_index_column": 40
        },
        {
         "bedrooms": 3,
         "hallways": 1,
         "price": 23269,
         "is_it_wroth_it": "False",
         "_deepnote_index_column": 41
        },
        {
         "bedrooms": 3,
         "hallways": 1,
         "price": 22843,
         "is_it_wroth_it": "False",
         "_deepnote_index_column": 42
        },
        {
         "bedrooms": 2,
         "hallways": 2,
         "price": 15710,
         "is_it_wroth_it": "False",
         "_deepnote_index_column": 43
        },
        {
         "bedrooms": 2,
         "hallways": 2,
         "price": 13427,
         "is_it_wroth_it": "False",
         "_deepnote_index_column": 44
        },
        {
         "bedrooms": 2,
         "hallways": 1,
         "price": 27350,
         "is_it_wroth_it": "False",
         "_deepnote_index_column": 45
        },
        {
         "bedrooms": 1,
         "hallways": 3,
         "price": 25674,
         "is_it_wroth_it": "False",
         "_deepnote_index_column": 46
        },
        {
         "bedrooms": 3,
         "hallways": 3,
         "price": 20451,
         "is_it_wroth_it": "False",
         "_deepnote_index_column": 47
        },
        {
         "bedrooms": 3,
         "hallways": 3,
         "price": 23655,
         "is_it_wroth_it": "False",
         "_deepnote_index_column": 48
        },
        {
         "bedrooms": 1,
         "hallways": 1,
         "price": 15147,
         "is_it_wroth_it": "False",
         "_deepnote_index_column": 49
        },
        {
         "bedrooms": 1,
         "hallways": 3,
         "price": 22954,
         "is_it_wroth_it": "False",
         "_deepnote_index_column": 50
        },
        {
         "bedrooms": 3,
         "hallways": 3,
         "price": 20598,
         "is_it_wroth_it": "False",
         "_deepnote_index_column": 51
        },
        {
         "bedrooms": 2,
         "hallways": 1,
         "price": 29098,
         "is_it_wroth_it": "False",
         "_deepnote_index_column": 52
        },
        {
         "bedrooms": 2,
         "hallways": 3,
         "price": 28545,
         "is_it_wroth_it": "False",
         "_deepnote_index_column": 53
        },
        {
         "bedrooms": 1,
         "hallways": 2,
         "price": 23800,
         "is_it_wroth_it": "False",
         "_deepnote_index_column": 54
        },
        {
         "bedrooms": 3,
         "hallways": 3,
         "price": 15395,
         "is_it_wroth_it": "False",
         "_deepnote_index_column": 55
        },
        {
         "bedrooms": 2,
         "hallways": 3,
         "price": 11606,
         "is_it_wroth_it": "False",
         "_deepnote_index_column": 56
        },
        {
         "bedrooms": 3,
         "hallways": 1,
         "price": 14345,
         "is_it_wroth_it": "True",
         "_deepnote_index_column": 57
        },
        {
         "bedrooms": 3,
         "hallways": 2,
         "price": 23623,
         "is_it_wroth_it": "False",
         "_deepnote_index_column": 58
        },
        {
         "bedrooms": 2,
         "hallways": 3,
         "price": 16777,
         "is_it_wroth_it": "False",
         "_deepnote_index_column": 59
        },
        {
         "bedrooms": 1,
         "hallways": 1,
         "price": 27717,
         "is_it_wroth_it": "False",
         "_deepnote_index_column": 60
        },
        {
         "bedrooms": 3,
         "hallways": 1,
         "price": 28264,
         "is_it_wroth_it": "False",
         "_deepnote_index_column": 61
        },
        {
         "bedrooms": 2,
         "hallways": 2,
         "price": 22656,
         "is_it_wroth_it": "False",
         "_deepnote_index_column": 62
        },
        {
         "bedrooms": 2,
         "hallways": 2,
         "price": 19044,
         "is_it_wroth_it": "False",
         "_deepnote_index_column": 63
        },
        {
         "bedrooms": 3,
         "hallways": 3,
         "price": 26498,
         "is_it_wroth_it": "False",
         "_deepnote_index_column": 64
        },
        {
         "bedrooms": 2,
         "hallways": 1,
         "price": 11972,
         "is_it_wroth_it": "False",
         "_deepnote_index_column": 65
        },
        {
         "bedrooms": 1,
         "hallways": 1,
         "price": 11379,
         "is_it_wroth_it": "False",
         "_deepnote_index_column": 66
        },
        {
         "bedrooms": 3,
         "hallways": 3,
         "price": 16050,
         "is_it_wroth_it": "False",
         "_deepnote_index_column": 67
        },
        {
         "bedrooms": 2,
         "hallways": 3,
         "price": 10697,
         "is_it_wroth_it": "False",
         "_deepnote_index_column": 68
        },
        {
         "bedrooms": 1,
         "hallways": 3,
         "price": 21682,
         "is_it_wroth_it": "False",
         "_deepnote_index_column": 69
        },
        {
         "bedrooms": 2,
         "hallways": 2,
         "price": 25936,
         "is_it_wroth_it": "False",
         "_deepnote_index_column": 70
        },
        {
         "bedrooms": 3,
         "hallways": 1,
         "price": 10224,
         "is_it_wroth_it": "True",
         "_deepnote_index_column": 71
        },
        {
         "bedrooms": 3,
         "hallways": 3,
         "price": 28581,
         "is_it_wroth_it": "False",
         "_deepnote_index_column": 72
        },
        {
         "bedrooms": 2,
         "hallways": 3,
         "price": 13163,
         "is_it_wroth_it": "False",
         "_deepnote_index_column": 73
        },
        {
         "bedrooms": 2,
         "hallways": 1,
         "price": 16857,
         "is_it_wroth_it": "False",
         "_deepnote_index_column": 74
        },
        {
         "bedrooms": 3,
         "hallways": 3,
         "price": 15194,
         "is_it_wroth_it": "False",
         "_deepnote_index_column": 75
        },
        {
         "bedrooms": 3,
         "hallways": 3,
         "price": 16804,
         "is_it_wroth_it": "False",
         "_deepnote_index_column": 76
        },
        {
         "bedrooms": 2,
         "hallways": 3,
         "price": 12958,
         "is_it_wroth_it": "False",
         "_deepnote_index_column": 77
        },
        {
         "bedrooms": 1,
         "hallways": 1,
         "price": 11254,
         "is_it_wroth_it": "False",
         "_deepnote_index_column": 78
        },
        {
         "bedrooms": 1,
         "hallways": 3,
         "price": 26990,
         "is_it_wroth_it": "False",
         "_deepnote_index_column": 79
        },
        {
         "bedrooms": 1,
         "hallways": 1,
         "price": 19005,
         "is_it_wroth_it": "False",
         "_deepnote_index_column": 80
        },
        {
         "bedrooms": 2,
         "hallways": 2,
         "price": 20030,
         "is_it_wroth_it": "False",
         "_deepnote_index_column": 81
        },
        {
         "bedrooms": 3,
         "hallways": 1,
         "price": 16860,
         "is_it_wroth_it": "False",
         "_deepnote_index_column": 82
        },
        {
         "bedrooms": 3,
         "hallways": 3,
         "price": 18984,
         "is_it_wroth_it": "False",
         "_deepnote_index_column": 83
        },
        {
         "bedrooms": 3,
         "hallways": 3,
         "price": 23097,
         "is_it_wroth_it": "False",
         "_deepnote_index_column": 84
        },
        {
         "bedrooms": 1,
         "hallways": 1,
         "price": 25462,
         "is_it_wroth_it": "False",
         "_deepnote_index_column": 85
        },
        {
         "bedrooms": 1,
         "hallways": 3,
         "price": 24846,
         "is_it_wroth_it": "False",
         "_deepnote_index_column": 86
        },
        {
         "bedrooms": 1,
         "hallways": 1,
         "price": 25888,
         "is_it_wroth_it": "False",
         "_deepnote_index_column": 87
        },
        {
         "bedrooms": 3,
         "hallways": 3,
         "price": 20327,
         "is_it_wroth_it": "False",
         "_deepnote_index_column": 88
        },
        {
         "bedrooms": 3,
         "hallways": 1,
         "price": 22964,
         "is_it_wroth_it": "False",
         "_deepnote_index_column": 89
        },
        {
         "bedrooms": 3,
         "hallways": 2,
         "price": 21075,
         "is_it_wroth_it": "False",
         "_deepnote_index_column": 90
        },
        {
         "bedrooms": 3,
         "hallways": 1,
         "price": 10062,
         "is_it_wroth_it": "True",
         "_deepnote_index_column": 91
        },
        {
         "bedrooms": 2,
         "hallways": 2,
         "price": 11410,
         "is_it_wroth_it": "False",
         "_deepnote_index_column": 92
        },
        {
         "bedrooms": 3,
         "hallways": 1,
         "price": 12704,
         "is_it_wroth_it": "True",
         "_deepnote_index_column": 93
        },
        {
         "bedrooms": 3,
         "hallways": 3,
         "price": 20321,
         "is_it_wroth_it": "False",
         "_deepnote_index_column": 94
        },
        {
         "bedrooms": 2,
         "hallways": 1,
         "price": 24773,
         "is_it_wroth_it": "False",
         "_deepnote_index_column": 95
        },
        {
         "bedrooms": 2,
         "hallways": 1,
         "price": 22464,
         "is_it_wroth_it": "False",
         "_deepnote_index_column": 96
        },
        {
         "bedrooms": 3,
         "hallways": 3,
         "price": 26846,
         "is_it_wroth_it": "False",
         "_deepnote_index_column": 97
        },
        {
         "bedrooms": 2,
         "hallways": 3,
         "price": 17028,
         "is_it_wroth_it": "False",
         "_deepnote_index_column": 98
        },
        {
         "bedrooms": 3,
         "hallways": 3,
         "price": 25000,
         "is_it_wroth_it": "False",
         "_deepnote_index_column": 99
        }
       ],
       "rows_bottom": null
      },
      "text/plain": "    bedrooms  hallways  price  is_it_wroth_it\n0          3         2  15227           False\n1          2         2  23415           False\n2          1         1  24034           False\n3          3         2  20302           False\n4          1         2  20427           False\n..       ...       ...    ...             ...\n95         2         1  24773           False\n96         2         1  22464           False\n97         3         3  26846           False\n98         2         3  17028           False\n99         3         3  25000           False\n\n[100 rows x 4 columns]",
      "text/html": "<div>\n<style scoped>\n    .dataframe tbody tr th:only-of-type {\n        vertical-align: middle;\n    }\n\n    .dataframe tbody tr th {\n        vertical-align: top;\n    }\n\n    .dataframe thead th {\n        text-align: right;\n    }\n</style>\n<table border=\"1\" class=\"dataframe\">\n  <thead>\n    <tr style=\"text-align: right;\">\n      <th></th>\n      <th>bedrooms</th>\n      <th>hallways</th>\n      <th>price</th>\n      <th>is_it_wroth_it</th>\n    </tr>\n  </thead>\n  <tbody>\n    <tr>\n      <th>0</th>\n      <td>3</td>\n      <td>2</td>\n      <td>15227</td>\n      <td>False</td>\n    </tr>\n    <tr>\n      <th>1</th>\n      <td>2</td>\n      <td>2</td>\n      <td>23415</td>\n      <td>False</td>\n    </tr>\n    <tr>\n      <th>2</th>\n      <td>1</td>\n      <td>1</td>\n      <td>24034</td>\n      <td>False</td>\n    </tr>\n    <tr>\n      <th>3</th>\n      <td>3</td>\n      <td>2</td>\n      <td>20302</td>\n      <td>False</td>\n    </tr>\n    <tr>\n      <th>4</th>\n      <td>1</td>\n      <td>2</td>\n      <td>20427</td>\n      <td>False</td>\n    </tr>\n    <tr>\n      <th>...</th>\n      <td>...</td>\n      <td>...</td>\n      <td>...</td>\n      <td>...</td>\n    </tr>\n    <tr>\n      <th>95</th>\n      <td>2</td>\n      <td>1</td>\n      <td>24773</td>\n      <td>False</td>\n    </tr>\n    <tr>\n      <th>96</th>\n      <td>2</td>\n      <td>1</td>\n      <td>22464</td>\n      <td>False</td>\n    </tr>\n    <tr>\n      <th>97</th>\n      <td>3</td>\n      <td>3</td>\n      <td>26846</td>\n      <td>False</td>\n    </tr>\n    <tr>\n      <th>98</th>\n      <td>2</td>\n      <td>3</td>\n      <td>17028</td>\n      <td>False</td>\n    </tr>\n    <tr>\n      <th>99</th>\n      <td>3</td>\n      <td>3</td>\n      <td>25000</td>\n      <td>False</td>\n    </tr>\n  </tbody>\n</table>\n<p>100 rows × 4 columns</p>\n</div>"
     },
     "metadata": {}
    }
   ]
  },
  {
   "cell_type": "markdown",
   "source": "Select common items in `ser1` and `ser2`",
   "metadata": {
    "tags": [],
    "cell_id": "00006-20c10ce3-62e9-4c9e-bb0a-319ac737a37a",
    "deepnote_cell_type": "markdown"
   }
  },
  {
   "cell_type": "code",
   "metadata": {
    "tags": [],
    "cell_id": "00006-91b146bf-e468-44e1-9be4-08df87b1577f",
    "deepnote_to_be_reexecuted": false,
    "source_hash": "f1d479cb",
    "execution_start": 1629128810485,
    "execution_millis": 2,
    "deepnote_cell_type": "code"
   },
   "source": "ser1 = pd.Series([1, 2, 3, 4, 5])\nser2 = pd.Series([4, 5, 6, 7, 8])\n\nlaki = ser1[ser1.isin(ser2)].tolist()\nprint(laki)\n\n",
   "execution_count": null,
   "outputs": [
    {
     "name": "stdout",
     "text": "[4, 5]\n",
     "output_type": "stream"
    }
   ]
  },
  {
   "cell_type": "markdown",
   "source": "Select items present in `ser1` but not `ser2`",
   "metadata": {
    "tags": [],
    "cell_id": "00008-57d13a40-9100-4a75-8bcc-2b43381da384",
    "deepnote_cell_type": "markdown"
   }
  },
  {
   "cell_type": "code",
   "metadata": {
    "tags": [],
    "cell_id": "00009-6777add2-b679-4ad3-a171-d4ffbc0fa226",
    "deepnote_to_be_reexecuted": false,
    "source_hash": "d497f07d",
    "execution_start": 1629128848150,
    "execution_millis": 12,
    "deepnote_cell_type": "code"
   },
   "source": "items_present = ser1[~ser1.isin(ser2)].tolist()\nprint(items_present)",
   "execution_count": null,
   "outputs": [
    {
     "name": "stdout",
     "text": "[1, 2, 3]\n",
     "output_type": "stream"
    }
   ]
  },
  {
   "cell_type": "markdown",
   "source": "How many times does every item show in the dataset?",
   "metadata": {
    "tags": [],
    "cell_id": "00010-a4014896-d666-4053-8cf8-187187fba52d",
    "deepnote_cell_type": "markdown"
   }
  },
  {
   "cell_type": "code",
   "metadata": {
    "tags": [],
    "cell_id": "00010-809d6b3d-c09e-4993-bf23-8a4a6a0d03f3",
    "deepnote_to_be_reexecuted": false,
    "source_hash": "9cd8591b",
    "execution_start": 1629128859854,
    "execution_millis": 31,
    "output_cleared": false,
    "deepnote_cell_type": "code"
   },
   "source": "_lst = ['a', 'd', 'd', 'b', 'c', 'b', 'f', 'g', 'f', 'd', 'h', 'h', 'h', 'f', 'c', 'a', 'f', 'a', 'a', 'h', 'd', 'a', 'a', 'e', 'b', 'h', 'b', 'e', 'f', 'f']\nser = pd.Series(_lst)\nlaki = ser.value_counts()\nprint(laki)\n",
   "execution_count": null,
   "outputs": [
    {
     "name": "stdout",
     "text": "a    6\nf    6\nh    5\nd    4\nb    4\nc    2\ne    2\ng    1\ndtype: int64\n",
     "output_type": "stream"
    }
   ]
  },
  {
   "cell_type": "markdown",
   "source": "Keep two most frequent values, replace everything else as `0`.",
   "metadata": {
    "tags": [],
    "cell_id": "00012-df2a75e3-9cb4-420c-93fe-4c94e384d253",
    "deepnote_cell_type": "markdown"
   }
  },
  {
   "cell_type": "code",
   "metadata": {
    "tags": [],
    "cell_id": "00012-62a14fb2-b671-485e-938d-ed8a93111225",
    "deepnote_to_be_reexecuted": false,
    "source_hash": "86b78542",
    "execution_start": 1629129295396,
    "execution_millis": 12,
    "output_cleared": false,
    "deepnote_cell_type": "code"
   },
   "source": "ser = pd.Series(np.random.randint(1, 5, [30]))\nn = 2\n# print(ser.value_counts()[:n].tolist())\n# rest_of_group = ser[~ser.isin(ser.value_counts()[:n])] = '0'\n# print(rest_of_group)\n\nmost_frequent_two_numbers = ser.value_counts()[:2].index\nprint(f\"most freq numbers are: {most_frequent_two_numbers.to_list()}\")\nser[~ser.isin(most_frequent_two_numbers)] = 0\nser\n\n\n",
   "execution_count": null,
   "outputs": [
    {
     "name": "stdout",
     "text": "most freq numbers are: [3, 2]\n",
     "output_type": "stream"
    },
    {
     "output_type": "execute_result",
     "execution_count": 47,
     "data": {
      "text/plain": "0     3\n1     3\n2     3\n3     0\n4     0\n5     0\n6     2\n7     3\n8     0\n9     2\n10    0\n11    2\n12    3\n13    2\n14    0\n15    3\n16    2\n17    2\n18    3\n19    2\n20    2\n21    0\n22    3\n23    2\n24    0\n25    0\n26    3\n27    3\n28    0\n29    3\ndtype: int64"
     },
     "metadata": {}
    }
   ]
  },
  {
   "cell_type": "markdown",
   "source": "Combine these two series into two columns",
   "metadata": {
    "tags": [],
    "cell_id": "00014-675ea159-e68e-4e7d-8fd1-c9b9d156032b",
    "deepnote_cell_type": "markdown"
   }
  },
  {
   "cell_type": "code",
   "metadata": {
    "tags": [],
    "cell_id": "00014-9cb2f47a-095d-4551-b978-469f833edb7b",
    "deepnote_to_be_reexecuted": false,
    "source_hash": "a2097f3a",
    "execution_start": 1629129313452,
    "execution_millis": 75,
    "output_cleared": false,
    "deepnote_cell_type": "code"
   },
   "source": "ser1 = pd.Series(range(5))\nser2 = pd.Series(list('abcde'))\n\ndf3= pd.DataFrame({\"ser1\":ser1,\"ser2\":ser2})\ndf3",
   "execution_count": null,
   "outputs": [
    {
     "output_type": "execute_result",
     "execution_count": 48,
     "data": {
      "application/vnd.deepnote.dataframe.v2+json": {
       "row_count": 5,
       "column_count": 2,
       "columns": [
        {
         "name": "ser1",
         "dtype": "int64",
         "stats": {
          "unique_count": 5,
          "nan_count": 0,
          "min": "0",
          "max": "4",
          "histogram": [
           {
            "bin_start": 0,
            "bin_end": 0.4,
            "count": 1
           },
           {
            "bin_start": 0.4,
            "bin_end": 0.8,
            "count": 0
           },
           {
            "bin_start": 0.8,
            "bin_end": 1.2000000000000002,
            "count": 1
           },
           {
            "bin_start": 1.2000000000000002,
            "bin_end": 1.6,
            "count": 0
           },
           {
            "bin_start": 1.6,
            "bin_end": 2,
            "count": 0
           },
           {
            "bin_start": 2,
            "bin_end": 2.4000000000000004,
            "count": 1
           },
           {
            "bin_start": 2.4000000000000004,
            "bin_end": 2.8000000000000003,
            "count": 0
           },
           {
            "bin_start": 2.8000000000000003,
            "bin_end": 3.2,
            "count": 1
           },
           {
            "bin_start": 3.2,
            "bin_end": 3.6,
            "count": 0
           },
           {
            "bin_start": 3.6,
            "bin_end": 4,
            "count": 1
           }
          ]
         }
        },
        {
         "name": "ser2",
         "dtype": "object",
         "stats": {
          "unique_count": 5,
          "nan_count": 0,
          "categories": [
           {
            "name": "a",
            "count": 1
           },
           {
            "name": "b",
            "count": 1
           },
           {
            "name": "3 others",
            "count": 3
           }
          ]
         }
        },
        {
         "name": "_deepnote_index_column",
         "dtype": "int64"
        }
       ],
       "rows_top": [
        {
         "ser1": 0,
         "ser2": "a",
         "_deepnote_index_column": 0
        },
        {
         "ser1": 1,
         "ser2": "b",
         "_deepnote_index_column": 1
        },
        {
         "ser1": 2,
         "ser2": "c",
         "_deepnote_index_column": 2
        },
        {
         "ser1": 3,
         "ser2": "d",
         "_deepnote_index_column": 3
        },
        {
         "ser1": 4,
         "ser2": "e",
         "_deepnote_index_column": 4
        }
       ],
       "rows_bottom": null
      },
      "text/plain": "   ser1 ser2\n0     0    a\n1     1    b\n2     2    c\n3     3    d\n4     4    e",
      "text/html": "<div>\n<style scoped>\n    .dataframe tbody tr th:only-of-type {\n        vertical-align: middle;\n    }\n\n    .dataframe tbody tr th {\n        vertical-align: top;\n    }\n\n    .dataframe thead th {\n        text-align: right;\n    }\n</style>\n<table border=\"1\" class=\"dataframe\">\n  <thead>\n    <tr style=\"text-align: right;\">\n      <th></th>\n      <th>ser1</th>\n      <th>ser2</th>\n    </tr>\n  </thead>\n  <tbody>\n    <tr>\n      <th>0</th>\n      <td>0</td>\n      <td>a</td>\n    </tr>\n    <tr>\n      <th>1</th>\n      <td>1</td>\n      <td>b</td>\n    </tr>\n    <tr>\n      <th>2</th>\n      <td>2</td>\n      <td>c</td>\n    </tr>\n    <tr>\n      <th>3</th>\n      <td>3</td>\n      <td>d</td>\n    </tr>\n    <tr>\n      <th>4</th>\n      <td>4</td>\n      <td>e</td>\n    </tr>\n  </tbody>\n</table>\n</div>"
     },
     "metadata": {}
    }
   ]
  },
  {
   "cell_type": "markdown",
   "source": "Extend combine these two series into one column, extending `ser1` by `ser2`",
   "metadata": {
    "tags": [],
    "cell_id": "00016-5bcd58ad-ea37-475d-874f-02c4f19bafcb",
    "deepnote_cell_type": "markdown"
   }
  },
  {
   "cell_type": "code",
   "metadata": {
    "tags": [],
    "cell_id": "00016-fdb7151e-adef-4f75-8ae4-812555563a40",
    "deepnote_to_be_reexecuted": false,
    "source_hash": "d73f6719",
    "execution_start": 1629129433039,
    "execution_millis": 61,
    "deepnote_cell_type": "code"
   },
   "source": "ser1 = pd.Series(range(5))\nser2 = pd.Series(list('abcde'))\n\npd.concat([ser1, ser2], axis=0)\n# ser1.append(ser2)",
   "execution_count": null,
   "outputs": [
    {
     "output_type": "execute_result",
     "execution_count": 54,
     "data": {
      "text/plain": "0    0\n1    1\n2    2\n3    3\n4    4\n0    a\ndtype: object"
     },
     "metadata": {}
    }
   ]
  },
  {
   "cell_type": "markdown",
   "source": "Here are predictions from our machine learning model, alongside the values it was aiming to predict. What is the mean negative squared error of our model's predictions?",
   "metadata": {
    "tags": [],
    "cell_id": "00018-3f37d990-fbe6-48ff-9b80-37570f70416f",
    "deepnote_cell_type": "markdown"
   }
  },
  {
   "cell_type": "code",
   "metadata": {
    "tags": [],
    "cell_id": "00019-674280c5-4332-487c-9bda-eb888c3fd26a",
    "deepnote_to_be_reexecuted": false,
    "source_hash": "ded9a5e6",
    "execution_start": 1629130102564,
    "execution_millis": 14,
    "deepnote_cell_type": "code"
   },
   "source": "real_values = pd.Series(range(10))\npredictions = pd.Series(range(10)) + np.random.random(10)\n\ndf = pd.DataFrame({\"pred\": predictions, \"real\":real_values})\ndf[\"error\"] = - np.square(df[\"real\"] - df[\"pred\"])\ndf[\"error\"].mean()",
   "execution_count": null,
   "outputs": [
    {
     "output_type": "execute_result",
     "execution_count": 83,
     "data": {
      "text/plain": "-0.513137766419213"
     },
     "metadata": {}
    }
   ]
  },
  {
   "cell_type": "markdown",
   "source": "Capitalize first letter of every word",
   "metadata": {
    "tags": [],
    "cell_id": "00020-75116c38-ef33-42eb-ba60-cc4b61d0ae8e",
    "deepnote_cell_type": "markdown"
   }
  },
  {
   "cell_type": "code",
   "metadata": {
    "tags": [],
    "cell_id": "00021-7e77b8ed-d3a6-4fc5-8cb5-bcfa8e3f089e",
    "deepnote_to_be_reexecuted": false,
    "source_hash": "c75f4212",
    "execution_start": 1629130151112,
    "execution_millis": 10,
    "deepnote_cell_type": "code"
   },
   "source": "ser = pd.Series(['hey', 'how are', 'you', 'doing mate']).str.title() # upper, capitalize\nprint(ser)\n\n",
   "execution_count": null,
   "outputs": [
    {
     "name": "stdout",
     "text": "0           Hey\n1       How Are\n2           You\n3    Doing Mate\ndtype: object\n",
     "output_type": "stream"
    }
   ]
  },
  {
   "cell_type": "markdown",
   "source": "Create new column that is will tell us how many letters there are in the word string form the following series.",
   "metadata": {
    "tags": [],
    "cell_id": "00022-af935039-9b2a-4197-9245-c89c11ab6db8",
    "deepnote_cell_type": "markdown"
   }
  },
  {
   "cell_type": "code",
   "metadata": {
    "tags": [],
    "cell_id": "00023-dbb21b10-a093-4bb9-8cdc-f0bf0bb2464c",
    "deepnote_to_be_reexecuted": false,
    "source_hash": "3e1694f1",
    "execution_start": 1629130309409,
    "execution_millis": 32,
    "deepnote_cell_type": "code"
   },
   "source": "ser = pd.Series(['hey', 'how are', 'you', 'doing mate'])\ndf5= pd.DataFrame({\"ser\":ser})\ndf5[\"letter\"] = df5[\"ser\"].str.replace(\" \",\"\").str.len()\ndf5[\"no_of_words\"] = df5[\"ser\"].str.split().str.len()\n\ndf5",
   "execution_count": null,
   "outputs": [
    {
     "output_type": "execute_result",
     "execution_count": 97,
     "data": {
      "application/vnd.deepnote.dataframe.v2+json": {
       "row_count": 4,
       "column_count": 3,
       "columns": [
        {
         "name": "ser",
         "dtype": "object",
         "stats": {
          "unique_count": 4,
          "nan_count": 0,
          "categories": [
           {
            "name": "hey",
            "count": 1
           },
           {
            "name": "how are",
            "count": 1
           },
           {
            "name": "2 others",
            "count": 2
           }
          ]
         }
        },
        {
         "name": "letter",
         "dtype": "int64",
         "stats": {
          "unique_count": 3,
          "nan_count": 0,
          "min": "3",
          "max": "9",
          "histogram": [
           {
            "bin_start": 3,
            "bin_end": 3.6,
            "count": 2
           },
           {
            "bin_start": 3.6,
            "bin_end": 4.2,
            "count": 0
           },
           {
            "bin_start": 4.2,
            "bin_end": 4.8,
            "count": 0
           },
           {
            "bin_start": 4.8,
            "bin_end": 5.4,
            "count": 0
           },
           {
            "bin_start": 5.4,
            "bin_end": 6,
            "count": 0
           },
           {
            "bin_start": 6,
            "bin_end": 6.6,
            "count": 1
           },
           {
            "bin_start": 6.6,
            "bin_end": 7.2,
            "count": 0
           },
           {
            "bin_start": 7.2,
            "bin_end": 7.8,
            "count": 0
           },
           {
            "bin_start": 7.8,
            "bin_end": 8.399999999999999,
            "count": 0
           },
           {
            "bin_start": 8.399999999999999,
            "bin_end": 9,
            "count": 1
           }
          ]
         }
        },
        {
         "name": "no_of_words",
         "dtype": "int64",
         "stats": {
          "unique_count": 2,
          "nan_count": 0,
          "min": "1",
          "max": "2",
          "histogram": [
           {
            "bin_start": 1,
            "bin_end": 1.1,
            "count": 2
           },
           {
            "bin_start": 1.1,
            "bin_end": 1.2,
            "count": 0
           },
           {
            "bin_start": 1.2,
            "bin_end": 1.3,
            "count": 0
           },
           {
            "bin_start": 1.3,
            "bin_end": 1.4,
            "count": 0
           },
           {
            "bin_start": 1.4,
            "bin_end": 1.5,
            "count": 0
           },
           {
            "bin_start": 1.5,
            "bin_end": 1.6,
            "count": 0
           },
           {
            "bin_start": 1.6,
            "bin_end": 1.7000000000000002,
            "count": 0
           },
           {
            "bin_start": 1.7000000000000002,
            "bin_end": 1.8,
            "count": 0
           },
           {
            "bin_start": 1.8,
            "bin_end": 1.9,
            "count": 0
           },
           {
            "bin_start": 1.9,
            "bin_end": 2,
            "count": 2
           }
          ]
         }
        },
        {
         "name": "_deepnote_index_column",
         "dtype": "int64"
        }
       ],
       "rows_top": [
        {
         "ser": "hey",
         "letter": 3,
         "no_of_words": 1,
         "_deepnote_index_column": 0
        },
        {
         "ser": "how are",
         "letter": 6,
         "no_of_words": 2,
         "_deepnote_index_column": 1
        },
        {
         "ser": "you",
         "letter": 3,
         "no_of_words": 1,
         "_deepnote_index_column": 2
        },
        {
         "ser": "doing mate",
         "letter": 9,
         "no_of_words": 2,
         "_deepnote_index_column": 3
        }
       ],
       "rows_bottom": null
      },
      "text/plain": "          ser  letter  no_of_words\n0         hey       3            1\n1     how are       6            2\n2         you       3            1\n3  doing mate       9            2",
      "text/html": "<div>\n<style scoped>\n    .dataframe tbody tr th:only-of-type {\n        vertical-align: middle;\n    }\n\n    .dataframe tbody tr th {\n        vertical-align: top;\n    }\n\n    .dataframe thead th {\n        text-align: right;\n    }\n</style>\n<table border=\"1\" class=\"dataframe\">\n  <thead>\n    <tr style=\"text-align: right;\">\n      <th></th>\n      <th>ser</th>\n      <th>letter</th>\n      <th>no_of_words</th>\n    </tr>\n  </thead>\n  <tbody>\n    <tr>\n      <th>0</th>\n      <td>hey</td>\n      <td>3</td>\n      <td>1</td>\n    </tr>\n    <tr>\n      <th>1</th>\n      <td>how are</td>\n      <td>6</td>\n      <td>2</td>\n    </tr>\n    <tr>\n      <th>2</th>\n      <td>you</td>\n      <td>3</td>\n      <td>1</td>\n    </tr>\n    <tr>\n      <th>3</th>\n      <td>doing mate</td>\n      <td>9</td>\n      <td>2</td>\n    </tr>\n  </tbody>\n</table>\n</div>"
     },
     "metadata": {}
    }
   ]
  },
  {
   "cell_type": "markdown",
   "source": "Conevrt the following column into a correct data type",
   "metadata": {
    "tags": [],
    "cell_id": "00024-6cf97075-400a-4b43-b5fb-1660a87e01e6",
    "deepnote_cell_type": "markdown"
   }
  },
  {
   "cell_type": "code",
   "metadata": {
    "tags": [],
    "cell_id": "00025-1ed075e3-11ee-4697-ac38-95662fac1704",
    "deepnote_to_be_reexecuted": false,
    "source_hash": "a22ae899",
    "execution_start": 1629130400851,
    "execution_millis": 22,
    "deepnote_cell_type": "code"
   },
   "source": "ser = pd.Series(['Jan-2010', 'Feb-2011', 'Mar-2012'])\n\ndf6= pd.DataFrame({\"ser\":ser})\ndf6[\"ser\"] = pd.to_datetime(df6[\"ser\"], format=\"%b-%Y\") 2010-01\n# df6[\"ser\"] = df6[\"ser\"].dt.strftime('%b %Y')\ndf6",
   "execution_count": null,
   "outputs": [
    {
     "output_type": "execute_result",
     "execution_count": 104,
     "data": {
      "application/vnd.deepnote.dataframe.v2+json": {
       "row_count": 3,
       "column_count": 1,
       "columns": [
        {
         "name": "ser",
         "dtype": "datetime64[ns]",
         "stats": {
          "unique_count": 3,
          "nan_count": 0,
          "min": "2010-01-01 00:00:00",
          "max": "2012-03-01 00:00:00",
          "histogram": [
           {
            "bin_start": 1262304000000000000,
            "bin_end": 1269129600000000000,
            "count": 1
           },
           {
            "bin_start": 1269129600000000000,
            "bin_end": 1275955200000000000,
            "count": 0
           },
           {
            "bin_start": 1275955200000000000,
            "bin_end": 1282780800000000000,
            "count": 0
           },
           {
            "bin_start": 1282780800000000000,
            "bin_end": 1289606400000000000,
            "count": 0
           },
           {
            "bin_start": 1289606400000000000,
            "bin_end": 1296432000000000000,
            "count": 0
           },
           {
            "bin_start": 1296432000000000000,
            "bin_end": 1303257600000000000,
            "count": 1
           },
           {
            "bin_start": 1303257600000000000,
            "bin_end": 1310083200000000000,
            "count": 0
           },
           {
            "bin_start": 1310083200000000000,
            "bin_end": 1316908800000000000,
            "count": 0
           },
           {
            "bin_start": 1316908800000000000,
            "bin_end": 1323734400000000000,
            "count": 0
           },
           {
            "bin_start": 1323734400000000000,
            "bin_end": 1330560000000000000,
            "count": 1
           }
          ]
         }
        },
        {
         "name": "_deepnote_index_column",
         "dtype": "int64"
        }
       ],
       "rows_top": [
        {
         "ser": "2010-01-01T00:00:00.000000",
         "_deepnote_index_column": 0
        },
        {
         "ser": "2011-02-01T00:00:00.000000",
         "_deepnote_index_column": 1
        },
        {
         "ser": "2012-03-01T00:00:00.000000",
         "_deepnote_index_column": 2
        }
       ],
       "rows_bottom": null
      },
      "text/plain": "         ser\n0 2010-01-01\n1 2011-02-01\n2 2012-03-01",
      "text/html": "<div>\n<style scoped>\n    .dataframe tbody tr th:only-of-type {\n        vertical-align: middle;\n    }\n\n    .dataframe tbody tr th {\n        vertical-align: top;\n    }\n\n    .dataframe thead th {\n        text-align: right;\n    }\n</style>\n<table border=\"1\" class=\"dataframe\">\n  <thead>\n    <tr style=\"text-align: right;\">\n      <th></th>\n      <th>ser</th>\n    </tr>\n  </thead>\n  <tbody>\n    <tr>\n      <th>0</th>\n      <td>2010-01-01</td>\n    </tr>\n    <tr>\n      <th>1</th>\n      <td>2011-02-01</td>\n    </tr>\n    <tr>\n      <th>2</th>\n      <td>2012-03-01</td>\n    </tr>\n  </tbody>\n</table>\n</div>"
     },
     "metadata": {}
    }
   ]
  },
  {
   "cell_type": "markdown",
   "source": "Create `.apply()` function to filter out only words that contain 3 wovels",
   "metadata": {
    "tags": [],
    "cell_id": "00026-5a7cbdbc-c782-4f77-b49b-d378b34d69f0",
    "deepnote_cell_type": "markdown"
   }
  },
  {
   "cell_type": "code",
   "metadata": {
    "tags": [],
    "cell_id": "00027-14226360-d062-44a1-b3db-5fd53a5fca4b",
    "deepnote_to_be_reexecuted": false,
    "source_hash": "1e97e15b",
    "execution_start": 1629131118599,
    "execution_millis": 12,
    "deepnote_cell_type": "code"
   },
   "source": "ser = pd.Series([\"hhhhhhhhhhh\", 'Apple', 'Orange', 'Plan', 'Python', 'Money'])\n\n\ndef filter_wovels(word):\n    vowels = [\"a\", \"e\", \"i\", \"o\", \"u\", \"y\"]\n    word = word.lower()\n    for vowel in vowels:\n       if vowel in word:\n        #    print(word, vowel)\n           return word\n\nser.apply(filter_wovels).dropna()",
   "execution_count": null,
   "outputs": [
    {
     "output_type": "execute_result",
     "execution_count": 131,
     "data": {
      "text/plain": "1     apple\n2    orange\n3      plan\n4    python\n5     money\ndtype: object"
     },
     "metadata": {}
    }
   ]
  },
  {
   "cell_type": "markdown",
   "source": "Can you try to get out email of the following sentences? Nothing manual. Automatic",
   "metadata": {
    "tags": [],
    "cell_id": "00028-e97a1ab1-c19a-480f-8b16-9b271bf09111",
    "deepnote_cell_type": "markdown"
   }
  },
  {
   "cell_type": "code",
   "metadata": {
    "tags": [],
    "cell_id": "00028-308f4b59-11b6-4656-ac2c-55dc28da473b",
    "deepnote_to_be_reexecuted": false,
    "source_hash": "bbc06cb4",
    "execution_start": 1629131445588,
    "execution_millis": 11,
    "deepnote_cell_type": "code"
   },
   "source": "text = \"shopping at tesco@com\"\nwords = text.split(\" \")\n\nfor word in words:\n    if \"@\" in word:\n        print(word)\n",
   "execution_count": null,
   "outputs": [
    {
     "name": "stdout",
     "text": "tesco@com\n",
     "output_type": "stream"
    }
   ]
  },
  {
   "cell_type": "code",
   "metadata": {
    "tags": [],
    "cell_id": "00029-06ca496b-ae9f-4d22-b909-26f41c8e3590",
    "deepnote_to_be_reexecuted": false,
    "source_hash": "60b41139",
    "execution_start": 1629131466723,
    "execution_millis": 41,
    "deepnote_cell_type": "code"
   },
   "source": "emails = pd.Series(['shopping at tesco@com', ' hello there is hello@you.com text here', 'Laz@a.co', 'dan@anton.com'])\n\ndef email_extract(text):\n    words = text.split(\" \")\n    for word in words:\n        if \"@\" in word:\n            return word\n\nemails.apply(email_extract).dropna()",
   "execution_count": null,
   "outputs": [
    {
     "output_type": "execute_result",
     "execution_count": 135,
     "data": {
      "text/plain": "0        tesco@com\n1    hello@you.com\n2         Laz@a.co\n3    dan@anton.com\ndtype: object"
     },
     "metadata": {}
    }
   ]
  },
  {
   "cell_type": "markdown",
   "source": "Replace space in the following sentence with the most frequent character.",
   "metadata": {
    "tags": [],
    "cell_id": "00030-39f66ae6-3029-4ee4-a047-2dfe563a9c5c",
    "deepnote_cell_type": "markdown"
   }
  },
  {
   "cell_type": "code",
   "metadata": {
    "tags": [],
    "cell_id": "00031-b8fda814-f600-4fb2-a538-cc1952d2a6a4",
    "deepnote_to_be_reexecuted": false,
    "source_hash": "a0d4168f",
    "execution_start": 1629131756000,
    "execution_millis": 23,
    "deepnote_cell_type": "code"
   },
   "source": "text = 'Hello HOw are you doing irhgt now and hi'\n\nmost_frequent = pd.Series(list(text)).value_counts()[:2].index\nmost_frequent_character = most_frequent[0] if not \" \" else most_frequent[1]\n\ntext.replace(\" \", most_frequent_character)",
   "execution_count": null,
   "outputs": [
    {
     "output_type": "execute_result",
     "execution_count": 148,
     "data": {
      "text/plain": "'HellooHOwoareoyouodoingoirhgtonowoandohi'"
     },
     "metadata": {}
    }
   ]
  },
  {
   "cell_type": "markdown",
   "source": "Import following url to dataframe, only import `Date`, `High`, `Low` columns. Do not load it and then drop. Imagine you are importing dataset with 100M rows, your pc does not have memory to load unnecessary columns.",
   "metadata": {
    "tags": [],
    "cell_id": "00032-1b91d17b-6808-4475-bb9b-18f1931c85de",
    "deepnote_cell_type": "markdown"
   }
  },
  {
   "cell_type": "code",
   "metadata": {
    "tags": [],
    "cell_id": "00033-b5d84432-f7f2-4504-bff3-7994056d6b2c",
    "deepnote_to_be_reexecuted": false,
    "source_hash": "bafd7826",
    "execution_start": 1629131903611,
    "execution_millis": 76,
    "deepnote_cell_type": "code"
   },
   "source": "url = \"https://raw.githubusercontent.com/guipsamora/pandas_exercises/master/09_Time_Series/Apple_Stock/appl_1980_2014.csv\"\n\ndf7 = pd.read_csv(url,usecols = [\"Date\",\"High\",\"Low\"])\ndf7.info()\ndf7.shape\nprint(\"duplicates sum\", df7.duplicated().sum())\nprint(\"na sum\", df7.isnull().sum())\ndf7.describe()",
   "execution_count": null,
   "outputs": [
    {
     "name": "stdout",
     "text": "<class 'pandas.core.frame.DataFrame'>\nRangeIndex: 8465 entries, 0 to 8464\nData columns (total 3 columns):\n #   Column  Non-Null Count  Dtype  \n---  ------  --------------  -----  \n 0   Date    8465 non-null   object \n 1   High    8465 non-null   float64\n 2   Low     8465 non-null   float64\ndtypes: float64(2), object(1)\nmemory usage: 198.5+ KB\nduplicates sum 0\nna sum Date    0\nHigh    0\nLow     0\ndtype: int64\n",
     "output_type": "stream"
    },
    {
     "output_type": "execute_result",
     "execution_count": 152,
     "data": {
      "application/vnd.deepnote.dataframe.v2+json": {
       "row_count": 8,
       "column_count": 2,
       "columns": [
        {
         "name": "High",
         "dtype": "float64",
         "stats": {
          "unique_count": 8,
          "nan_count": 0,
          "min": "11.12",
          "max": "8465.0",
          "histogram": [
           {
            "bin_start": 11.12,
            "bin_end": 856.5079999999999,
            "count": 7
           },
           {
            "bin_start": 856.5079999999999,
            "bin_end": 1701.8959999999997,
            "count": 0
           },
           {
            "bin_start": 1701.8959999999997,
            "bin_end": 2547.2839999999997,
            "count": 0
           },
           {
            "bin_start": 2547.2839999999997,
            "bin_end": 3392.6719999999996,
            "count": 0
           },
           {
            "bin_start": 3392.6719999999996,
            "bin_end": 4238.0599999999995,
            "count": 0
           },
           {
            "bin_start": 4238.0599999999995,
            "bin_end": 5083.447999999999,
            "count": 0
           },
           {
            "bin_start": 5083.447999999999,
            "bin_end": 5928.835999999999,
            "count": 0
           },
           {
            "bin_start": 5928.835999999999,
            "bin_end": 6774.223999999999,
            "count": 0
           },
           {
            "bin_start": 6774.223999999999,
            "bin_end": 7619.611999999999,
            "count": 0
           },
           {
            "bin_start": 7619.611999999999,
            "bin_end": 8465,
            "count": 1
           }
          ]
         }
        },
        {
         "name": "Low",
         "dtype": "float64",
         "stats": {
          "unique_count": 8,
          "nan_count": 0,
          "min": "11.0",
          "max": "8465.0",
          "histogram": [
           {
            "bin_start": 11,
            "bin_end": 856.4,
            "count": 7
           },
           {
            "bin_start": 856.4,
            "bin_end": 1701.8,
            "count": 0
           },
           {
            "bin_start": 1701.8,
            "bin_end": 2547.2,
            "count": 0
           },
           {
            "bin_start": 2547.2,
            "bin_end": 3392.6,
            "count": 0
           },
           {
            "bin_start": 3392.6,
            "bin_end": 4238,
            "count": 0
           },
           {
            "bin_start": 4238,
            "bin_end": 5083.4,
            "count": 0
           },
           {
            "bin_start": 5083.4,
            "bin_end": 5928.8,
            "count": 0
           },
           {
            "bin_start": 5928.8,
            "bin_end": 6774.2,
            "count": 0
           },
           {
            "bin_start": 6774.2,
            "bin_end": 7619.599999999999,
            "count": 0
           },
           {
            "bin_start": 7619.599999999999,
            "bin_end": 8465,
            "count": 1
           }
          ]
         }
        },
        {
         "name": "_deepnote_index_column",
         "dtype": "object"
        }
       ],
       "rows_top": [
        {
         "High": 8465,
         "Low": 8465,
         "_deepnote_index_column": "count"
        },
        {
         "High": 99.84868281157708,
         "Low": 97.22679031305378,
         "_deepnote_index_column": "mean"
        },
        {
         "High": 143.15567390401847,
         "Low": 140.54832607685935,
         "_deepnote_index_column": "std"
        },
        {
         "High": 11.12,
         "Low": 11,
         "_deepnote_index_column": "min"
        },
        {
         "High": 26,
         "Low": 25.12,
         "_deepnote_index_column": "25%"
        },
        {
         "High": 41.5,
         "Low": 40,
         "_deepnote_index_column": "50%"
        },
        {
         "High": 81,
         "Low": 78.74,
         "_deepnote_index_column": "75%"
        },
        {
         "High": 705.07,
         "Low": 699.57,
         "_deepnote_index_column": "max"
        }
       ],
       "rows_bottom": null
      },
      "text/plain": "              High          Low\ncount  8465.000000  8465.000000\nmean     99.848683    97.226790\nstd     143.155674   140.548326\nmin      11.120000    11.000000\n25%      26.000000    25.120000\n50%      41.500000    40.000000\n75%      81.000000    78.740000\nmax     705.070000   699.570000",
      "text/html": "<div>\n<style scoped>\n    .dataframe tbody tr th:only-of-type {\n        vertical-align: middle;\n    }\n\n    .dataframe tbody tr th {\n        vertical-align: top;\n    }\n\n    .dataframe thead th {\n        text-align: right;\n    }\n</style>\n<table border=\"1\" class=\"dataframe\">\n  <thead>\n    <tr style=\"text-align: right;\">\n      <th></th>\n      <th>High</th>\n      <th>Low</th>\n    </tr>\n  </thead>\n  <tbody>\n    <tr>\n      <th>count</th>\n      <td>8465.000000</td>\n      <td>8465.000000</td>\n    </tr>\n    <tr>\n      <th>mean</th>\n      <td>99.848683</td>\n      <td>97.226790</td>\n    </tr>\n    <tr>\n      <th>std</th>\n      <td>143.155674</td>\n      <td>140.548326</td>\n    </tr>\n    <tr>\n      <th>min</th>\n      <td>11.120000</td>\n      <td>11.000000</td>\n    </tr>\n    <tr>\n      <th>25%</th>\n      <td>26.000000</td>\n      <td>25.120000</td>\n    </tr>\n    <tr>\n      <th>50%</th>\n      <td>41.500000</td>\n      <td>40.000000</td>\n    </tr>\n    <tr>\n      <th>75%</th>\n      <td>81.000000</td>\n      <td>78.740000</td>\n    </tr>\n    <tr>\n      <th>max</th>\n      <td>705.070000</td>\n      <td>699.570000</td>\n    </tr>\n  </tbody>\n</table>\n</div>"
     },
     "metadata": {}
    }
   ]
  },
  {
   "cell_type": "markdown",
   "source": "Using the previous daset, what is:\n* number of columns and rows\n* datatypes\n* are the duplicates\n* are there missing values\n* show basic statistical information about every column",
   "metadata": {
    "tags": [],
    "cell_id": "00034-fe94c182-ee57-43a1-ae2a-6d2a94c3422c",
    "deepnote_cell_type": "markdown"
   }
  },
  {
   "cell_type": "markdown",
   "source": "Load following df and clean columns",
   "metadata": {
    "tags": [],
    "cell_id": "00035-a4f519cb-0ae7-40ed-8686-4969a9174b39",
    "deepnote_cell_type": "markdown"
   }
  },
  {
   "cell_type": "markdown",
   "source": "using the cleaned dataframe from the previous step, rename ONLY `rev_per_mile` to `revolutions_per_mile`\n",
   "metadata": {
    "tags": [],
    "cell_id": "00036-72de0da6-e691-4d34-9389-e87100acfcee",
    "deepnote_cell_type": "markdown"
   }
  },
  {
   "cell_type": "markdown",
   "source": "Fill missing values with mean of the columns. If the column is categorical (string), fill the missing value in it with the most frequent value in that column.",
   "metadata": {
    "tags": [],
    "cell_id": "00037-847bd099-0531-4fc2-88f8-1f8d1303e681",
    "deepnote_cell_type": "markdown"
   }
  },
  {
   "cell_type": "code",
   "metadata": {
    "tags": [],
    "cell_id": "00036-b5434174-45ac-4561-8f04-69e9e94aab13",
    "deepnote_to_be_reexecuted": false,
    "source_hash": "d8b87368",
    "execution_start": 1629132533681,
    "execution_millis": 339,
    "deepnote_cell_type": "code"
   },
   "source": "url = \"https://raw.githubusercontent.com/selva86/datasets/master/Cars93_miss.csv\"\n\nclass Cars():\n\n  def __init__(self,url):\n        self.load_df(url)\n        self.clean_columns()\n\n  \n  def nan_in_dataframe(self):    \n        #return self.df.isna().sum()\n        return self.df\n\n  def load_df(self, url):\n        self.df = pd.read_csv(url)\n        \n  def clean_columns(self):\n        self.df.columns = self.df.columns.str.lower()\n        self.df.columns = self.df.columns.str.replace(\".\",\"_\")\n        self.df.rename(columns={'rev_per_mile':'revolutions_per_mile'}, inplace=True)\n        \n        cols = [\"Min.Price\", \"Max.Price\", \"Price\"]\n        col_mean = df[cols].mean().round(3)\n        df[cols].fillna(col_mean)\n\n      #   self.df.iloc[[18,71],:27] = \"USA\"\n      #   self.df.iloc[[46,57,88],:27] = \"non-USA\"\n        self.df[\"manufacturer\"] = self.df['make'].str.split(' ').str[0]\n        self.df[\"model\"] = self.df['make'].str.split(' ').str[1]\n        self.df.dropna(subset=[\"manufacturer\",\"model\",\"type\",\"airbags\",\"drivetrain\",\"cylinders\",\"man_trans_avail\"],inplace = True)\n        self.df['min_price'].fillna((self.df['min_price'].mean().round(1)), inplace=True)\n        self.df['price'].fillna((self.df['price'].mean().round(1)), inplace=True)\n        self.df['max_price'].fillna((self.df['price'].mean().round(1)), inplace=True)\n        self.df['mpg_city'].fillna((self.df['mpg_city'].mean().round(1)), inplace=True)\n        self.df['mpg_highway'].fillna((self.df['mpg_highway'].mean().round(1)), inplace=True)\n        self.df['horsepower'].fillna((self.df['horsepower'].mean().round(1)), inplace=True)\n        self.df['rpm'].fillna((self.df['rpm'].mean().round(1)), inplace=True)\n        self.df['fuel_tank_capacity'].fillna((self.df['fuel_tank_capacity'].mean().round(1)), inplace=True)\n        self.df.reset_index(drop=True ,inplace=True)\n\n   \n               \n\n\n\ntest= Cars(url)\ntest.nan_in_dataframe()\ntest.df",
   "execution_count": null,
   "outputs": [
    {
     "name": "stderr",
     "text": "/shared-libs/python3.7/py-core/lib/python3.7/site-packages/ipykernel_launcher.py:19: FutureWarning: The default value of regex will change from True to False in a future version. In addition, single character regular expressions will*not* be treated as literal strings when regex=True.\n",
     "output_type": "stream"
    },
    {
     "output_type": "execute_result",
     "execution_count": 176,
     "data": {
      "application/vnd.deepnote.dataframe.v2+json": {
       "row_count": 69,
       "column_count": 27,
       "columns": [
        {
         "name": "manufacturer",
         "dtype": "object",
         "stats": {
          "unique_count": 28,
          "nan_count": 0,
          "categories": [
           {
            "name": "Chevrolet",
            "count": 5
           },
           {
            "name": "Dodge",
            "count": 5
           },
           {
            "name": "26 others",
            "count": 59
           }
          ]
         }
        },
        {
         "name": "model",
         "dtype": "object",
         "stats": {
          "unique_count": 69,
          "nan_count": 0,
          "categories": [
           {
            "name": "Integra",
            "count": 1
           },
           {
            "name": "Legend",
            "count": 1
           },
           {
            "name": "67 others",
            "count": 67
           }
          ]
         }
        },
        {
         "name": "type",
         "dtype": "object",
         "stats": {
          "unique_count": 6,
          "nan_count": 0,
          "categories": [
           {
            "name": "Small",
            "count": 16
           },
           {
            "name": "Midsize",
            "count": 14
           },
           {
            "name": "4 others",
            "count": 39
           }
          ]
         }
        },
        {
         "name": "min_price",
         "dtype": "float64",
         "stats": {
          "unique_count": 57,
          "nan_count": 0,
          "min": "6.8",
          "max": "43.8",
          "histogram": [
           {
            "bin_start": 6.8,
            "bin_end": 10.5,
            "count": 11
           },
           {
            "bin_start": 10.5,
            "bin_end": 14.2,
            "count": 14
           },
           {
            "bin_start": 14.2,
            "bin_end": 17.900000000000002,
            "count": 20
           },
           {
            "bin_start": 17.900000000000002,
            "bin_end": 21.6,
            "count": 8
           },
           {
            "bin_start": 21.6,
            "bin_end": 25.3,
            "count": 4
           },
           {
            "bin_start": 25.3,
            "bin_end": 29.000000000000004,
            "count": 4
           },
           {
            "bin_start": 29.000000000000004,
            "bin_end": 32.7,
            "count": 2
           },
           {
            "bin_start": 32.7,
            "bin_end": 36.4,
            "count": 4
           },
           {
            "bin_start": 36.4,
            "bin_end": 40.1,
            "count": 1
           },
           {
            "bin_start": 40.1,
            "bin_end": 43.8,
            "count": 1
           }
          ]
         }
        },
        {
         "name": "price",
         "dtype": "float64",
         "stats": {
          "unique_count": 63,
          "nan_count": 0,
          "min": "8.0",
          "max": "61.9",
          "histogram": [
           {
            "bin_start": 8,
            "bin_end": 13.39,
            "count": 16
           },
           {
            "bin_start": 13.39,
            "bin_end": 18.78,
            "count": 18
           },
           {
            "bin_start": 18.78,
            "bin_end": 24.169999999999998,
            "count": 19
           },
           {
            "bin_start": 24.169999999999998,
            "bin_end": 29.56,
            "count": 8
           },
           {
            "bin_start": 29.56,
            "bin_end": 34.95,
            "count": 3
           },
           {
            "bin_start": 34.95,
            "bin_end": 40.339999999999996,
            "count": 4
           },
           {
            "bin_start": 40.339999999999996,
            "bin_end": 45.73,
            "count": 0
           },
           {
            "bin_start": 45.73,
            "bin_end": 51.12,
            "count": 0
           },
           {
            "bin_start": 51.12,
            "bin_end": 56.51,
            "count": 0
           },
           {
            "bin_start": 56.51,
            "bin_end": 61.9,
            "count": 1
           }
          ]
         }
        },
        {
         "name": "max_price",
         "dtype": "float64",
         "stats": {
          "unique_count": 60,
          "nan_count": 0,
          "min": "9.1",
          "max": "80.0",
          "histogram": [
           {
            "bin_start": 9.1,
            "bin_end": 16.19,
            "count": 21
           },
           {
            "bin_start": 16.19,
            "bin_end": 23.28,
            "count": 27
           },
           {
            "bin_start": 23.28,
            "bin_end": 30.370000000000005,
            "count": 11
           },
           {
            "bin_start": 30.370000000000005,
            "bin_end": 37.46,
            "count": 5
           },
           {
            "bin_start": 37.46,
            "bin_end": 44.550000000000004,
            "count": 4
           },
           {
            "bin_start": 44.550000000000004,
            "bin_end": 51.64000000000001,
            "count": 0
           },
           {
            "bin_start": 51.64000000000001,
            "bin_end": 58.730000000000004,
            "count": 0
           },
           {
            "bin_start": 58.730000000000004,
            "bin_end": 65.82000000000001,
            "count": 0
           },
           {
            "bin_start": 65.82000000000001,
            "bin_end": 72.91000000000001,
            "count": 0
           },
           {
            "bin_start": 72.91000000000001,
            "bin_end": 80,
            "count": 1
           }
          ]
         }
        },
        {
         "name": "mpg_city",
         "dtype": "float64",
         "stats": {
          "unique_count": 20,
          "nan_count": 0,
          "min": "15.0",
          "max": "42.0",
          "histogram": [
           {
            "bin_start": 15,
            "bin_end": 17.7,
            "count": 10
           },
           {
            "bin_start": 17.7,
            "bin_end": 20.4,
            "count": 23
           },
           {
            "bin_start": 20.4,
            "bin_end": 23.1,
            "count": 17
           },
           {
            "bin_start": 23.1,
            "bin_end": 25.8,
            "count": 7
           },
           {
            "bin_start": 25.8,
            "bin_end": 28.5,
            "count": 2
           },
           {
            "bin_start": 28.5,
            "bin_end": 31.200000000000003,
            "count": 7
           },
           {
            "bin_start": 31.200000000000003,
            "bin_end": 33.900000000000006,
            "count": 2
           },
           {
            "bin_start": 33.900000000000006,
            "bin_end": 36.6,
            "count": 0
           },
           {
            "bin_start": 36.6,
            "bin_end": 39.3,
            "count": 0
           },
           {
            "bin_start": 39.3,
            "bin_end": 42,
            "count": 1
           }
          ]
         }
        },
        {
         "name": "mpg_highway",
         "dtype": "float64",
         "stats": {
          "unique_count": 20,
          "nan_count": 0,
          "min": "20.0",
          "max": "46.0",
          "histogram": [
           {
            "bin_start": 20,
            "bin_end": 22.6,
            "count": 5
           },
           {
            "bin_start": 22.6,
            "bin_end": 25.2,
            "count": 15
           },
           {
            "bin_start": 25.2,
            "bin_end": 27.8,
            "count": 11
           },
           {
            "bin_start": 27.8,
            "bin_end": 30.4,
            "count": 20
           },
           {
            "bin_start": 30.4,
            "bin_end": 33,
            "count": 5
           },
           {
            "bin_start": 33,
            "bin_end": 35.6,
            "count": 5
           },
           {
            "bin_start": 35.6,
            "bin_end": 38.2,
            "count": 6
           },
           {
            "bin_start": 38.2,
            "bin_end": 40.8,
            "count": 0
           },
           {
            "bin_start": 40.8,
            "bin_end": 43.400000000000006,
            "count": 1
           },
           {
            "bin_start": 43.400000000000006,
            "bin_end": 46,
            "count": 1
           }
          ]
         }
        },
        {
         "name": "airbags",
         "dtype": "object",
         "stats": {
          "unique_count": 3,
          "nan_count": 0,
          "categories": [
           {
            "name": "Driver only",
            "count": 31
           },
           {
            "name": "None",
            "count": 26
           },
           {
            "name": "Driver & Passenger",
            "count": 12
           }
          ]
         }
        },
        {
         "name": "drivetrain",
         "dtype": "object",
         "stats": {
          "unique_count": 3,
          "nan_count": 0,
          "categories": [
           {
            "name": "Front",
            "count": 49
           },
           {
            "name": "Rear",
            "count": 10
           },
           {
            "name": "4WD",
            "count": 10
           }
          ]
         }
        },
        {
         "name": "cylinders",
         "dtype": "object",
         "stats": {
          "unique_count": 5,
          "nan_count": 0,
          "categories": [
           {
            "name": "4",
            "count": 34
           },
           {
            "name": "6",
            "count": 26
           },
           {
            "name": "3 others",
            "count": 9
           }
          ]
         }
        },
        {
         "name": "enginesize",
         "dtype": "float64",
         "stats": {
          "unique_count": 22,
          "nan_count": 0,
          "min": "1.2",
          "max": "5.7",
          "histogram": [
           {
            "bin_start": 1.2,
            "bin_end": 1.65,
            "count": 11
           },
           {
            "bin_start": 1.65,
            "bin_end": 2.1,
            "count": 10
           },
           {
            "bin_start": 2.1,
            "bin_end": 2.55,
            "count": 15
           },
           {
            "bin_start": 2.55,
            "bin_end": 3,
            "count": 2
           },
           {
            "bin_start": 3,
            "bin_end": 3.45,
            "count": 15
           },
           {
            "bin_start": 3.45,
            "bin_end": 3.9000000000000004,
            "count": 8
           },
           {
            "bin_start": 3.9000000000000004,
            "bin_end": 4.35,
            "count": 1
           },
           {
            "bin_start": 4.35,
            "bin_end": 4.8,
            "count": 3
           },
           {
            "bin_start": 4.8,
            "bin_end": 5.25,
            "count": 2
           },
           {
            "bin_start": 5.25,
            "bin_end": 5.7,
            "count": 2
           }
          ]
         }
        },
        {
         "name": "horsepower",
         "dtype": "float64",
         "stats": {
          "unique_count": 44,
          "nan_count": 0,
          "min": "73.0",
          "max": "300.0",
          "histogram": [
           {
            "bin_start": 73,
            "bin_end": 95.7,
            "count": 14
           },
           {
            "bin_start": 95.7,
            "bin_end": 118.4,
            "count": 7
           },
           {
            "bin_start": 118.4,
            "bin_end": 141.1,
            "count": 10
           },
           {
            "bin_start": 141.1,
            "bin_end": 163.8,
            "count": 14
           },
           {
            "bin_start": 163.8,
            "bin_end": 186.5,
            "count": 13
           },
           {
            "bin_start": 186.5,
            "bin_end": 209.2,
            "count": 5
           },
           {
            "bin_start": 209.2,
            "bin_end": 231.9,
            "count": 3
           },
           {
            "bin_start": 231.9,
            "bin_end": 254.6,
            "count": 0
           },
           {
            "bin_start": 254.6,
            "bin_end": 277.29999999999995,
            "count": 0
           },
           {
            "bin_start": 277.29999999999995,
            "bin_end": 300,
            "count": 3
           }
          ]
         }
        },
        {
         "name": "rpm",
         "dtype": "float64",
         "stats": {
          "unique_count": 21,
          "nan_count": 0,
          "min": "3800.0",
          "max": "6300.0",
          "histogram": [
           {
            "bin_start": 3800,
            "bin_end": 4050,
            "count": 3
           },
           {
            "bin_start": 4050,
            "bin_end": 4300,
            "count": 3
           },
           {
            "bin_start": 4300,
            "bin_end": 4550,
            "count": 1
           },
           {
            "bin_start": 4550,
            "bin_end": 4800,
            "count": 2
           },
           {
            "bin_start": 4800,
            "bin_end": 5050,
            "count": 21
           },
           {
            "bin_start": 5050,
            "bin_end": 5300,
            "count": 7
           },
           {
            "bin_start": 5300,
            "bin_end": 5550,
            "count": 9
           },
           {
            "bin_start": 5550,
            "bin_end": 5800,
            "count": 6
           },
           {
            "bin_start": 5800,
            "bin_end": 6050,
            "count": 15
           },
           {
            "bin_start": 6050,
            "bin_end": 6300,
            "count": 2
           }
          ]
         }
        },
        {
         "name": "revolutions_per_mile",
         "dtype": "float64",
         "stats": {
          "unique_count": 57,
          "nan_count": 6,
          "min": "1320.0",
          "max": "3505.0",
          "histogram": [
           {
            "bin_start": 1320,
            "bin_end": 1538.5,
            "count": 3
           },
           {
            "bin_start": 1538.5,
            "bin_end": 1757,
            "count": 6
           },
           {
            "bin_start": 1757,
            "bin_end": 1975.5,
            "count": 6
           },
           {
            "bin_start": 1975.5,
            "bin_end": 2194,
            "count": 9
           },
           {
            "bin_start": 2194,
            "bin_end": 2412.5,
            "count": 15
           },
           {
            "bin_start": 2412.5,
            "bin_end": 2631,
            "count": 11
           },
           {
            "bin_start": 2631,
            "bin_end": 2849.5,
            "count": 4
           },
           {
            "bin_start": 2849.5,
            "bin_end": 3068,
            "count": 4
           },
           {
            "bin_start": 3068,
            "bin_end": 3286.5,
            "count": 3
           },
           {
            "bin_start": 3286.5,
            "bin_end": 3505,
            "count": 2
           }
          ]
         }
        },
        {
         "name": "man_trans_avail",
         "dtype": "object",
         "stats": {
          "unique_count": 2,
          "nan_count": 0,
          "categories": [
           {
            "name": "Yes",
            "count": 42
           },
           {
            "name": "No",
            "count": 27
           }
          ]
         }
        },
        {
         "name": "fuel_tank_capacity",
         "dtype": "float64",
         "stats": {
          "unique_count": 30,
          "nan_count": 0,
          "min": "9.2",
          "max": "27.0",
          "histogram": [
           {
            "bin_start": 9.2,
            "bin_end": 10.979999999999999,
            "count": 1
           },
           {
            "bin_start": 10.979999999999999,
            "bin_end": 12.76,
            "count": 6
           },
           {
            "bin_start": 12.76,
            "bin_end": 14.54,
            "count": 10
           },
           {
            "bin_start": 14.54,
            "bin_end": 16.32,
            "count": 10
           },
           {
            "bin_start": 16.32,
            "bin_end": 18.1,
            "count": 19
           },
           {
            "bin_start": 18.1,
            "bin_end": 19.88,
            "count": 10
           },
           {
            "bin_start": 19.88,
            "bin_end": 21.66,
            "count": 10
           },
           {
            "bin_start": 21.66,
            "bin_end": 23.439999999999998,
            "count": 2
           },
           {
            "bin_start": 23.439999999999998,
            "bin_end": 25.22,
            "count": 0
           },
           {
            "bin_start": 25.22,
            "bin_end": 27,
            "count": 1
           }
          ]
         }
        },
        {
         "name": "passengers",
         "dtype": "float64",
         "stats": {
          "unique_count": 6,
          "nan_count": 2,
          "min": "2.0",
          "max": "8.0",
          "histogram": [
           {
            "bin_start": 2,
            "bin_end": 2.6,
            "count": 1
           },
           {
            "bin_start": 2.6,
            "bin_end": 3.2,
            "count": 0
           },
           {
            "bin_start": 3.2,
            "bin_end": 3.8,
            "count": 0
           },
           {
            "bin_start": 3.8,
            "bin_end": 4.4,
            "count": 15
           },
           {
            "bin_start": 4.4,
            "bin_end": 5,
            "count": 0
           },
           {
            "bin_start": 5,
            "bin_end": 5.6,
            "count": 29
           },
           {
            "bin_start": 5.6,
            "bin_end": 6.2,
            "count": 13
           },
           {
            "bin_start": 6.2,
            "bin_end": 6.8,
            "count": 0
           },
           {
            "bin_start": 6.8,
            "bin_end": 7.3999999999999995,
            "count": 8
           },
           {
            "bin_start": 7.3999999999999995,
            "bin_end": 8,
            "count": 1
           }
          ]
         }
        },
        {
         "name": "length",
         "dtype": "float64",
         "stats": {
          "unique_count": 39,
          "nan_count": 3,
          "min": "146.0",
          "max": "219.0",
          "histogram": [
           {
            "bin_start": 146,
            "bin_end": 153.3,
            "count": 1
           },
           {
            "bin_start": 153.3,
            "bin_end": 160.6,
            "count": 1
           },
           {
            "bin_start": 160.6,
            "bin_end": 167.9,
            "count": 5
           },
           {
            "bin_start": 167.9,
            "bin_end": 175.2,
            "count": 13
           },
           {
            "bin_start": 175.2,
            "bin_end": 182.5,
            "count": 15
           },
           {
            "bin_start": 182.5,
            "bin_end": 189.8,
            "count": 9
           },
           {
            "bin_start": 189.8,
            "bin_end": 197.1,
            "count": 9
           },
           {
            "bin_start": 197.1,
            "bin_end": 204.4,
            "count": 8
           },
           {
            "bin_start": 204.4,
            "bin_end": 211.7,
            "count": 1
           },
           {
            "bin_start": 211.7,
            "bin_end": 219,
            "count": 4
           }
          ]
         }
        },
        {
         "name": "wheelbase",
         "dtype": "float64",
         "stats": {
          "unique_count": 26,
          "nan_count": 1,
          "min": "90.0",
          "max": "119.0",
          "histogram": [
           {
            "bin_start": 90,
            "bin_end": 92.9,
            "count": 1
           },
           {
            "bin_start": 92.9,
            "bin_end": 95.8,
            "count": 4
           },
           {
            "bin_start": 95.8,
            "bin_end": 98.7,
            "count": 13
           },
           {
            "bin_start": 98.7,
            "bin_end": 101.6,
            "count": 3
           },
           {
            "bin_start": 101.6,
            "bin_end": 104.5,
            "count": 13
           },
           {
            "bin_start": 104.5,
            "bin_end": 107.4,
            "count": 7
           },
           {
            "bin_start": 107.4,
            "bin_end": 110.3,
            "count": 8
           },
           {
            "bin_start": 110.3,
            "bin_end": 113.2,
            "count": 11
           },
           {
            "bin_start": 113.2,
            "bin_end": 116.1,
            "count": 6
           },
           {
            "bin_start": 116.1,
            "bin_end": 119,
            "count": 2
           }
          ]
         }
        },
        {
         "name": "width",
         "dtype": "float64",
         "stats": {
          "unique_count": 14,
          "nan_count": 4,
          "min": "60.0",
          "max": "78.0",
          "histogram": [
           {
            "bin_start": 60,
            "bin_end": 61.8,
            "count": 1
           },
           {
            "bin_start": 61.8,
            "bin_end": 63.6,
            "count": 2
           },
           {
            "bin_start": 63.6,
            "bin_end": 65.4,
            "count": 2
           },
           {
            "bin_start": 65.4,
            "bin_end": 67.2,
            "count": 18
           },
           {
            "bin_start": 67.2,
            "bin_end": 69,
            "count": 5
           },
           {
            "bin_start": 69,
            "bin_end": 70.8,
            "count": 10
           },
           {
            "bin_start": 70.8,
            "bin_end": 72.6,
            "count": 10
           },
           {
            "bin_start": 72.6,
            "bin_end": 74.4,
            "count": 12
           },
           {
            "bin_start": 74.4,
            "bin_end": 76.2,
            "count": 0
           },
           {
            "bin_start": 76.2,
            "bin_end": 78,
            "count": 5
           }
          ]
         }
        },
        {
         "name": "turn_circle",
         "dtype": "float64",
         "stats": {
          "unique_count": 13,
          "nan_count": 2,
          "min": "32.0",
          "max": "45.0",
          "histogram": [
           {
            "bin_start": 32,
            "bin_end": 33.3,
            "count": 2
           },
           {
            "bin_start": 33.3,
            "bin_end": 34.6,
            "count": 3
           },
           {
            "bin_start": 34.6,
            "bin_end": 35.9,
            "count": 4
           },
           {
            "bin_start": 35.9,
            "bin_end": 37.2,
            "count": 13
           },
           {
            "bin_start": 37.2,
            "bin_end": 38.5,
            "count": 6
           },
           {
            "bin_start": 38.5,
            "bin_end": 39.8,
            "count": 6
           },
           {
            "bin_start": 39.8,
            "bin_end": 41.1,
            "count": 15
           },
           {
            "bin_start": 41.1,
            "bin_end": 42.4,
            "count": 6
           },
           {
            "bin_start": 42.4,
            "bin_end": 43.7,
            "count": 5
           },
           {
            "bin_start": 43.7,
            "bin_end": 45,
            "count": 7
           }
          ]
         }
        },
        {
         "name": "rear_seat_room",
         "dtype": "float64",
         "stats": {
          "unique_count": 23,
          "nan_count": 3,
          "min": "19.0",
          "max": "36.0",
          "histogram": [
           {
            "bin_start": 19,
            "bin_end": 20.7,
            "count": 2
           },
           {
            "bin_start": 20.7,
            "bin_end": 22.4,
            "count": 0
           },
           {
            "bin_start": 22.4,
            "bin_end": 24.1,
            "count": 5
           },
           {
            "bin_start": 24.1,
            "bin_end": 25.8,
            "count": 4
           },
           {
            "bin_start": 25.8,
            "bin_end": 27.5,
            "count": 15
           },
           {
            "bin_start": 27.5,
            "bin_end": 29.2,
            "count": 15
           },
           {
            "bin_start": 29.2,
            "bin_end": 30.9,
            "count": 14
           },
           {
            "bin_start": 30.9,
            "bin_end": 32.6,
            "count": 6
           },
           {
            "bin_start": 32.6,
            "bin_end": 34.3,
            "count": 2
           },
           {
            "bin_start": 34.3,
            "bin_end": 36,
            "count": 3
           }
          ]
         }
        },
        {
         "name": "luggage_room",
         "dtype": "float64",
         "stats": {
          "unique_count": 15,
          "nan_count": 16,
          "min": "6.0",
          "max": "22.0",
          "histogram": [
           {
            "bin_start": 6,
            "bin_end": 7.6,
            "count": 1
           },
           {
            "bin_start": 7.6,
            "bin_end": 9.2,
            "count": 3
           },
           {
            "bin_start": 9.2,
            "bin_end": 10.8,
            "count": 2
           },
           {
            "bin_start": 10.8,
            "bin_end": 12.4,
            "count": 11
           },
           {
            "bin_start": 12.4,
            "bin_end": 14,
            "count": 1
           },
           {
            "bin_start": 14,
            "bin_end": 15.600000000000001,
            "count": 19
           },
           {
            "bin_start": 15.600000000000001,
            "bin_end": 17.200000000000003,
            "count": 8
           },
           {
            "bin_start": 17.200000000000003,
            "bin_end": 18.8,
            "count": 4
           },
           {
            "bin_start": 18.8,
            "bin_end": 20.4,
            "count": 1
           },
           {
            "bin_start": 20.4,
            "bin_end": 22,
            "count": 3
           }
          ]
         }
        },
        {
         "name": "weight",
         "dtype": "float64",
         "stats": {
          "unique_count": 59,
          "nan_count": 2,
          "min": "2045.0",
          "max": "4105.0",
          "histogram": [
           {
            "bin_start": 2045,
            "bin_end": 2251,
            "count": 3
           },
           {
            "bin_start": 2251,
            "bin_end": 2457,
            "count": 8
           },
           {
            "bin_start": 2457,
            "bin_end": 2663,
            "count": 5
           },
           {
            "bin_start": 2663,
            "bin_end": 2869,
            "count": 5
           },
           {
            "bin_start": 2869,
            "bin_end": 3075,
            "count": 9
           },
           {
            "bin_start": 3075,
            "bin_end": 3281,
            "count": 4
           },
           {
            "bin_start": 3281,
            "bin_end": 3487,
            "count": 6
           },
           {
            "bin_start": 3487,
            "bin_end": 3693,
            "count": 11
           },
           {
            "bin_start": 3693,
            "bin_end": 3899,
            "count": 8
           },
           {
            "bin_start": 3899,
            "bin_end": 4105,
            "count": 8
           }
          ]
         }
        },
        {
         "name": "origin",
         "dtype": "object",
         "stats": {
          "unique_count": 2,
          "nan_count": 5,
          "categories": [
           {
            "name": "USA",
            "count": 35
           },
           {
            "name": "non-USA",
            "count": 29
           },
           {
            "name": "Missing",
            "count": 5
           }
          ]
         }
        },
        {
         "name": "make",
         "dtype": "object",
         "stats": {
          "unique_count": 69,
          "nan_count": 0,
          "categories": [
           {
            "name": "Acura Integra",
            "count": 1
           },
           {
            "name": "Acura Legend",
            "count": 1
           },
           {
            "name": "67 others",
            "count": 67
           }
          ]
         }
        },
        {
         "name": "_deepnote_index_column",
         "dtype": "int64"
        }
       ],
       "rows_top": [
        {
         "manufacturer": "Acura",
         "model": "Integra",
         "type": "Small",
         "min_price": 12.9,
         "price": 15.9,
         "max_price": 18.8,
         "mpg_city": 25,
         "mpg_highway": 31,
         "airbags": "None",
         "drivetrain": "Front",
         "cylinders": "4",
         "enginesize": 1.8,
         "horsepower": 140,
         "rpm": 6300,
         "revolutions_per_mile": 2890,
         "man_trans_avail": "Yes",
         "fuel_tank_capacity": 13.2,
         "passengers": 5,
         "length": 177,
         "wheelbase": 102,
         "width": 68,
         "turn_circle": 37,
         "rear_seat_room": 26.5,
         "luggage_room": "nan",
         "weight": 2705,
         "origin": "non-USA",
         "make": "Acura Integra",
         "_deepnote_index_column": 0
        },
        {
         "manufacturer": "Acura",
         "model": "Legend",
         "type": "Midsize",
         "min_price": 29.2,
         "price": 33.9,
         "max_price": 38.7,
         "mpg_city": 18,
         "mpg_highway": 25,
         "airbags": "Driver & Passenger",
         "drivetrain": "Front",
         "cylinders": "6",
         "enginesize": 3.2,
         "horsepower": 200,
         "rpm": 5500,
         "revolutions_per_mile": 2335,
         "man_trans_avail": "Yes",
         "fuel_tank_capacity": 18,
         "passengers": 5,
         "length": 195,
         "wheelbase": 115,
         "width": 71,
         "turn_circle": 38,
         "rear_seat_room": 30,
         "luggage_room": 15,
         "weight": 3560,
         "origin": "non-USA",
         "make": "Acura Legend",
         "_deepnote_index_column": 1
        },
        {
         "manufacturer": "Audi",
         "model": "90",
         "type": "Compact",
         "min_price": 25.9,
         "price": 29.1,
         "max_price": 32.3,
         "mpg_city": 20,
         "mpg_highway": 26,
         "airbags": "Driver only",
         "drivetrain": "Front",
         "cylinders": "6",
         "enginesize": 2.8,
         "horsepower": 172,
         "rpm": 5500,
         "revolutions_per_mile": 2280,
         "man_trans_avail": "Yes",
         "fuel_tank_capacity": 16.9,
         "passengers": 5,
         "length": 180,
         "wheelbase": 102,
         "width": 67,
         "turn_circle": 37,
         "rear_seat_room": 28,
         "luggage_room": 14,
         "weight": 3375,
         "origin": "non-USA",
         "make": "Audi 90",
         "_deepnote_index_column": 2
        },
        {
         "manufacturer": "Buick",
         "model": "LeSabre",
         "type": "Large",
         "min_price": 19.9,
         "price": 20.8,
         "max_price": 19.8,
         "mpg_city": 19,
         "mpg_highway": 28,
         "airbags": "Driver only",
         "drivetrain": "Front",
         "cylinders": "6",
         "enginesize": 3.8,
         "horsepower": 170,
         "rpm": 4800,
         "revolutions_per_mile": "nan",
         "man_trans_avail": "No",
         "fuel_tank_capacity": 16.9,
         "passengers": 6,
         "length": 200,
         "wheelbase": 111,
         "width": 74,
         "turn_circle": 42,
         "rear_seat_room": 30.5,
         "luggage_room": 17,
         "weight": 3470,
         "origin": "USA",
         "make": "Buick LeSabre",
         "_deepnote_index_column": 3
        },
        {
         "manufacturer": "Buick",
         "model": "Roadmaster",
         "type": "Large",
         "min_price": 22.6,
         "price": 23.7,
         "max_price": 24.9,
         "mpg_city": 16,
         "mpg_highway": 25,
         "airbags": "Driver only",
         "drivetrain": "Rear",
         "cylinders": "6",
         "enginesize": 5.7,
         "horsepower": 180,
         "rpm": 4000,
         "revolutions_per_mile": 1320,
         "man_trans_avail": "No",
         "fuel_tank_capacity": 23,
         "passengers": 6,
         "length": 216,
         "wheelbase": 116,
         "width": 78,
         "turn_circle": 45,
         "rear_seat_room": 30.5,
         "luggage_room": 21,
         "weight": 4105,
         "origin": "USA",
         "make": "Buick Roadmaster",
         "_deepnote_index_column": 4
        },
        {
         "manufacturer": "Buick",
         "model": "Riviera",
         "type": "Midsize",
         "min_price": 26.3,
         "price": 26.3,
         "max_price": 26.3,
         "mpg_city": 19,
         "mpg_highway": 27,
         "airbags": "Driver only",
         "drivetrain": "Front",
         "cylinders": "6",
         "enginesize": 3.8,
         "horsepower": 170,
         "rpm": 4800,
         "revolutions_per_mile": 1690,
         "man_trans_avail": "No",
         "fuel_tank_capacity": 18.8,
         "passengers": 5,
         "length": 198,
         "wheelbase": 108,
         "width": "nan",
         "turn_circle": 41,
         "rear_seat_room": 26.5,
         "luggage_room": 14,
         "weight": 3495,
         "origin": "USA",
         "make": "Buick Riviera",
         "_deepnote_index_column": 5
        },
        {
         "manufacturer": "Cadillac",
         "model": "DeVille",
         "type": "Large",
         "min_price": 33,
         "price": 34.7,
         "max_price": 36.3,
         "mpg_city": 16,
         "mpg_highway": 25,
         "airbags": "Driver only",
         "drivetrain": "Front",
         "cylinders": "8",
         "enginesize": 4.9,
         "horsepower": 200,
         "rpm": 4100,
         "revolutions_per_mile": "nan",
         "man_trans_avail": "No",
         "fuel_tank_capacity": 18,
         "passengers": 6,
         "length": 206,
         "wheelbase": 114,
         "width": 73,
         "turn_circle": 43,
         "rear_seat_room": 35,
         "luggage_room": 18,
         "weight": 3620,
         "origin": "USA",
         "make": "Cadillac DeVille",
         "_deepnote_index_column": 6
        },
        {
         "manufacturer": "Cadillac",
         "model": "Seville",
         "type": "Midsize",
         "min_price": 37.5,
         "price": 40.1,
         "max_price": 42.7,
         "mpg_city": 16,
         "mpg_highway": 25,
         "airbags": "Driver & Passenger",
         "drivetrain": "Front",
         "cylinders": "8",
         "enginesize": 4.6,
         "horsepower": 295,
         "rpm": 6000,
         "revolutions_per_mile": 1985,
         "man_trans_avail": "No",
         "fuel_tank_capacity": 20,
         "passengers": 5,
         "length": 204,
         "wheelbase": 111,
         "width": 74,
         "turn_circle": 44,
         "rear_seat_room": 31,
         "luggage_room": "nan",
         "weight": 3935,
         "origin": "USA",
         "make": "Cadillac Seville",
         "_deepnote_index_column": 7
        },
        {
         "manufacturer": "Chevrolet",
         "model": "Lumina",
         "type": "Midsize",
         "min_price": 13.4,
         "price": 15.9,
         "max_price": 18.4,
         "mpg_city": 21.9,
         "mpg_highway": 29,
         "airbags": "None",
         "drivetrain": "Front",
         "cylinders": "4",
         "enginesize": 2.2,
         "horsepower": 147.1,
         "rpm": 5200,
         "revolutions_per_mile": 2595,
         "man_trans_avail": "No",
         "fuel_tank_capacity": 16.5,
         "passengers": 6,
         "length": "nan",
         "wheelbase": 108,
         "width": 71,
         "turn_circle": "nan",
         "rear_seat_room": 28.5,
         "luggage_room": 16,
         "weight": 3195,
         "origin": "USA",
         "make": "Chevrolet Lumina",
         "_deepnote_index_column": 8
        },
        {
         "manufacturer": "Chevrolet",
         "model": "Lumina_APV",
         "type": "Van",
         "min_price": 14.7,
         "price": 16.3,
         "max_price": 18,
         "mpg_city": 18,
         "mpg_highway": 23,
         "airbags": "None",
         "drivetrain": "Front",
         "cylinders": "6",
         "enginesize": 3.8,
         "horsepower": 170,
         "rpm": 4800,
         "revolutions_per_mile": 1690,
         "man_trans_avail": "No",
         "fuel_tank_capacity": 20,
         "passengers": 7,
         "length": 178,
         "wheelbase": 110,
         "width": 74,
         "turn_circle": 44,
         "rear_seat_room": 30.5,
         "luggage_room": "nan",
         "weight": 3715,
         "origin": "USA",
         "make": "Chevrolet Lumina_APV",
         "_deepnote_index_column": 9
        },
        {
         "manufacturer": "Chevrolet",
         "model": "Astro",
         "type": "Van",
         "min_price": 14.7,
         "price": 16.6,
         "max_price": 18.6,
         "mpg_city": 15,
         "mpg_highway": 20,
         "airbags": "None",
         "drivetrain": "4WD",
         "cylinders": "6",
         "enginesize": 4.3,
         "horsepower": 147.1,
         "rpm": 4000,
         "revolutions_per_mile": 1790,
         "man_trans_avail": "No",
         "fuel_tank_capacity": 27,
         "passengers": 8,
         "length": 194,
         "wheelbase": 111,
         "width": 78,
         "turn_circle": 42,
         "rear_seat_room": 33.5,
         "luggage_room": "nan",
         "weight": 4025,
         "origin": "USA",
         "make": "Chevrolet Astro",
         "_deepnote_index_column": 10
        },
        {
         "manufacturer": "Chevrolet",
         "model": "Caprice",
         "type": "Large",
         "min_price": 18,
         "price": 18.8,
         "max_price": 19.6,
         "mpg_city": 17,
         "mpg_highway": 26,
         "airbags": "Driver only",
         "drivetrain": "Rear",
         "cylinders": "8",
         "enginesize": 5,
         "horsepower": 170,
         "rpm": 4200,
         "revolutions_per_mile": 1350,
         "man_trans_avail": "No",
         "fuel_tank_capacity": 23,
         "passengers": 6,
         "length": 214,
         "wheelbase": 116,
         "width": 77,
         "turn_circle": 42,
         "rear_seat_room": 29.5,
         "luggage_room": 20,
         "weight": 3910,
         "origin": "USA",
         "make": "Chevrolet Caprice",
         "_deepnote_index_column": 11
        },
        {
         "manufacturer": "Chevrolet",
         "model": "Corvette",
         "type": "Sporty",
         "min_price": 34.6,
         "price": 38,
         "max_price": 41.5,
         "mpg_city": 17,
         "mpg_highway": 25,
         "airbags": "Driver only",
         "drivetrain": "Rear",
         "cylinders": "8",
         "enginesize": 5.7,
         "horsepower": 300,
         "rpm": 5000,
         "revolutions_per_mile": 1450,
         "man_trans_avail": "Yes",
         "fuel_tank_capacity": 20,
         "passengers": 2,
         "length": 179,
         "wheelbase": 96,
         "width": 74,
         "turn_circle": 43,
         "rear_seat_room": "nan",
         "luggage_room": "nan",
         "weight": 3380,
         "origin": "nan",
         "make": "Chevrolet Corvette",
         "_deepnote_index_column": 12
        },
        {
         "manufacturer": "Chrylser",
         "model": "Concorde",
         "type": "Large",
         "min_price": 18.4,
         "price": 18.4,
         "max_price": 18.4,
         "mpg_city": 20,
         "mpg_highway": 28,
         "airbags": "Driver & Passenger",
         "drivetrain": "Front",
         "cylinders": "6",
         "enginesize": 3.3,
         "horsepower": 153,
         "rpm": 5300,
         "revolutions_per_mile": 1990,
         "man_trans_avail": "No",
         "fuel_tank_capacity": 18,
         "passengers": 6,
         "length": 203,
         "wheelbase": 113,
         "width": 74,
         "turn_circle": "nan",
         "rear_seat_room": 31,
         "luggage_room": 15,
         "weight": 3515,
         "origin": "USA",
         "make": "Chrylser Concorde",
         "_deepnote_index_column": 13
        },
        {
         "manufacturer": "Chrysler",
         "model": "LeBaron",
         "type": "Compact",
         "min_price": 14.5,
         "price": 15.8,
         "max_price": 17.1,
         "mpg_city": 23,
         "mpg_highway": 28,
         "airbags": "Driver & Passenger",
         "drivetrain": "Front",
         "cylinders": "4",
         "enginesize": 3,
         "horsepower": 141,
         "rpm": 5000,
         "revolutions_per_mile": 2090,
         "man_trans_avail": "No",
         "fuel_tank_capacity": 16,
         "passengers": 6,
         "length": 183,
         "wheelbase": 104,
         "width": 68,
         "turn_circle": 41,
         "rear_seat_room": 30.5,
         "luggage_room": 14,
         "weight": 3085,
         "origin": "USA",
         "make": "Chrysler LeBaron",
         "_deepnote_index_column": 14
        },
        {
         "manufacturer": "Chrysler",
         "model": "Imperial",
         "type": "Large",
         "min_price": 29.5,
         "price": 29.5,
         "max_price": 29.5,
         "mpg_city": 20,
         "mpg_highway": 26,
         "airbags": "Driver only",
         "drivetrain": "Front",
         "cylinders": "6",
         "enginesize": 3.3,
         "horsepower": 147,
         "rpm": 4800,
         "revolutions_per_mile": 1785,
         "man_trans_avail": "No",
         "fuel_tank_capacity": 16,
         "passengers": 6,
         "length": 203,
         "wheelbase": 110,
         "width": 69,
         "turn_circle": 44,
         "rear_seat_room": 36,
         "luggage_room": 17,
         "weight": 3570,
         "origin": "USA",
         "make": "Chrysler Imperial",
         "_deepnote_index_column": 15
        },
        {
         "manufacturer": "Dodge",
         "model": "Colt",
         "type": "Small",
         "min_price": 7.9,
         "price": 9.2,
         "max_price": 10.6,
         "mpg_city": 29,
         "mpg_highway": 33,
         "airbags": "None",
         "drivetrain": "Front",
         "cylinders": "4",
         "enginesize": 1.5,
         "horsepower": 92,
         "rpm": 6000,
         "revolutions_per_mile": 3285,
         "man_trans_avail": "Yes",
         "fuel_tank_capacity": 16.9,
         "passengers": 5,
         "length": 174,
         "wheelbase": 98,
         "width": 66,
         "turn_circle": 32,
         "rear_seat_room": "nan",
         "luggage_room": 11,
         "weight": 2270,
         "origin": "USA",
         "make": "Dodge Colt",
         "_deepnote_index_column": 16
        },
        {
         "manufacturer": "Dodge",
         "model": "Shadow",
         "type": "Small",
         "min_price": 8.4,
         "price": 11.3,
         "max_price": 14.2,
         "mpg_city": 23,
         "mpg_highway": 29,
         "airbags": "Driver only",
         "drivetrain": "Front",
         "cylinders": "4",
         "enginesize": 2.2,
         "horsepower": 93,
         "rpm": 4800,
         "revolutions_per_mile": "nan",
         "man_trans_avail": "Yes",
         "fuel_tank_capacity": 14,
         "passengers": 5,
         "length": 172,
         "wheelbase": 97,
         "width": 67,
         "turn_circle": 38,
         "rear_seat_room": 26.5,
         "luggage_room": "nan",
         "weight": 2670,
         "origin": "USA",
         "make": "Dodge Shadow",
         "_deepnote_index_column": 17
        }
       ],
       "rows_bottom": [
        {
         "manufacturer": "Oldsmobile",
         "model": "Achieva",
         "type": "Compact",
         "min_price": 13,
         "price": 13.5,
         "max_price": 14,
         "mpg_city": 24,
         "mpg_highway": 31,
         "airbags": "None",
         "drivetrain": "Front",
         "cylinders": "4",
         "enginesize": 2.3,
         "horsepower": 155,
         "rpm": 6000,
         "revolutions_per_mile": 2380,
         "man_trans_avail": "No",
         "fuel_tank_capacity": 15.2,
         "passengers": 5,
         "length": 188,
         "wheelbase": 103,
         "width": 67,
         "turn_circle": 39,
         "rear_seat_room": 28,
         "luggage_room": 14,
         "weight": 2910,
         "origin": "USA",
         "make": "Oldsmobile Achieva",
         "_deepnote_index_column": 50
        },
        {
         "manufacturer": "Oldsmobile",
         "model": "Cutlass_Ciera",
         "type": "Midsize",
         "min_price": 14.2,
         "price": 16.3,
         "max_price": 18.4,
         "mpg_city": 23,
         "mpg_highway": 31,
         "airbags": "Driver only",
         "drivetrain": "Front",
         "cylinders": "4",
         "enginesize": 2.2,
         "horsepower": 110,
         "rpm": 5200,
         "revolutions_per_mile": 2565,
         "man_trans_avail": "No",
         "fuel_tank_capacity": 16.9,
         "passengers": 5,
         "length": 190,
         "wheelbase": 105,
         "width": 70,
         "turn_circle": 42,
         "rear_seat_room": 28,
         "luggage_room": 16,
         "weight": 2890,
         "origin": "USA",
         "make": "Oldsmobile Cutlass_Ciera",
         "_deepnote_index_column": 51
        },
        {
         "manufacturer": "Oldsmobile",
         "model": "Silhouette",
         "type": "Van",
         "min_price": 19.5,
         "price": 19.5,
         "max_price": 19.5,
         "mpg_city": 18,
         "mpg_highway": 23,
         "airbags": "None",
         "drivetrain": "Front",
         "cylinders": "6",
         "enginesize": 3.8,
         "horsepower": 170,
         "rpm": 4800,
         "revolutions_per_mile": 1690,
         "man_trans_avail": "No",
         "fuel_tank_capacity": 20,
         "passengers": 7,
         "length": "nan",
         "wheelbase": 110,
         "width": 74,
         "turn_circle": 44,
         "rear_seat_room": 30.5,
         "luggage_room": "nan",
         "weight": 3715,
         "origin": "USA",
         "make": "Oldsmobile Silhouette",
         "_deepnote_index_column": 52
        },
        {
         "manufacturer": "Oldsmobile",
         "model": "Eighty-Eight",
         "type": "Large",
         "min_price": 19.5,
         "price": 20.7,
         "max_price": 21.9,
         "mpg_city": 21.9,
         "mpg_highway": 28,
         "airbags": "Driver only",
         "drivetrain": "Front",
         "cylinders": "6",
         "enginesize": 3.8,
         "horsepower": 170,
         "rpm": 4800,
         "revolutions_per_mile": 1570,
         "man_trans_avail": "No",
         "fuel_tank_capacity": 18,
         "passengers": 6,
         "length": 201,
         "wheelbase": 111,
         "width": 74,
         "turn_circle": 42,
         "rear_seat_room": 31.5,
         "luggage_room": 17,
         "weight": 3470,
         "origin": "USA",
         "make": "Oldsmobile Eighty-Eight",
         "_deepnote_index_column": 53
        },
        {
         "manufacturer": "Plymouth",
         "model": "Laser",
         "type": "Sporty",
         "min_price": 11.4,
         "price": 14.4,
         "max_price": 17.4,
         "mpg_city": 21.9,
         "mpg_highway": 30,
         "airbags": "None",
         "drivetrain": "4WD",
         "cylinders": "4",
         "enginesize": 1.8,
         "horsepower": 92,
         "rpm": 5000,
         "revolutions_per_mile": 2360,
         "man_trans_avail": "Yes",
         "fuel_tank_capacity": 15.9,
         "passengers": 4,
         "length": 173,
         "wheelbase": 97,
         "width": 67,
         "turn_circle": 39,
         "rear_seat_room": 24.5,
         "luggage_room": 8,
         "weight": 2640,
         "origin": "nan",
         "make": "Plymouth Laser",
         "_deepnote_index_column": 54
        },
        {
         "manufacturer": "Pontiac",
         "model": "LeMans",
         "type": "Small",
         "min_price": 17.6,
         "price": 9,
         "max_price": 9.9,
         "mpg_city": 31,
         "mpg_highway": 41,
         "airbags": "None",
         "drivetrain": "Front",
         "cylinders": "4",
         "enginesize": 1.6,
         "horsepower": 74,
         "rpm": 5600,
         "revolutions_per_mile": 3130,
         "man_trans_avail": "Yes",
         "fuel_tank_capacity": 13.2,
         "passengers": 4,
         "length": 177,
         "wheelbase": 99,
         "width": 66,
         "turn_circle": 35,
         "rear_seat_room": 25.5,
         "luggage_room": 17,
         "weight": 2350,
         "origin": "USA",
         "make": "Pontiac LeMans",
         "_deepnote_index_column": 55
        },
        {
         "manufacturer": "Pontiac",
         "model": "Grand_Prix",
         "type": "Midsize",
         "min_price": 15.4,
         "price": 18.5,
         "max_price": 21.6,
         "mpg_city": 19,
         "mpg_highway": 27,
         "airbags": "None",
         "drivetrain": "Front",
         "cylinders": "6",
         "enginesize": 3.4,
         "horsepower": 200,
         "rpm": 5000,
         "revolutions_per_mile": 1890,
         "man_trans_avail": "Yes",
         "fuel_tank_capacity": 16.5,
         "passengers": 5,
         "length": 195,
         "wheelbase": 108,
         "width": 72,
         "turn_circle": 41,
         "rear_seat_room": 28.5,
         "luggage_room": 16,
         "weight": 3450,
         "origin": "USA",
         "make": "Pontiac Grand_Prix",
         "_deepnote_index_column": 56
        },
        {
         "manufacturer": "Pontiac",
         "model": "Bonneville",
         "type": "Large",
         "min_price": 19.4,
         "price": 24.4,
         "max_price": 29.4,
         "mpg_city": 19,
         "mpg_highway": 28,
         "airbags": "Driver & Passenger",
         "drivetrain": "Front",
         "cylinders": "6",
         "enginesize": 3.8,
         "horsepower": 170,
         "rpm": 4800,
         "revolutions_per_mile": 1565,
         "man_trans_avail": "No",
         "fuel_tank_capacity": 18,
         "passengers": 6,
         "length": 177,
         "wheelbase": 111,
         "width": 74,
         "turn_circle": 43,
         "rear_seat_room": 30.5,
         "luggage_room": 18,
         "weight": 3495,
         "origin": "USA",
         "make": "Pontiac Bonneville",
         "_deepnote_index_column": 57
        },
        {
         "manufacturer": "Saturn",
         "model": "SL",
         "type": "Small",
         "min_price": 9.2,
         "price": 19.8,
         "max_price": 12.9,
         "mpg_city": 21.9,
         "mpg_highway": 38,
         "airbags": "Driver only",
         "drivetrain": "Front",
         "cylinders": "4",
         "enginesize": 1.9,
         "horsepower": 85,
         "rpm": 5000,
         "revolutions_per_mile": 2145,
         "man_trans_avail": "Yes",
         "fuel_tank_capacity": 12.8,
         "passengers": 5,
         "length": 176,
         "wheelbase": 102,
         "width": 68,
         "turn_circle": 40,
         "rear_seat_room": 26.5,
         "luggage_room": "nan",
         "weight": 2495,
         "origin": "USA",
         "make": "Saturn SL",
         "_deepnote_index_column": 58
        },
        {
         "manufacturer": "Subaru",
         "model": "Justy",
         "type": "Small",
         "min_price": 7.3,
         "price": 8.4,
         "max_price": 9.5,
         "mpg_city": 33,
         "mpg_highway": 37,
         "airbags": "None",
         "drivetrain": "4WD",
         "cylinders": "3",
         "enginesize": 1.2,
         "horsepower": 73,
         "rpm": 5600,
         "revolutions_per_mile": 2875,
         "man_trans_avail": "Yes",
         "fuel_tank_capacity": 9.2,
         "passengers": 4,
         "length": 146,
         "wheelbase": 90,
         "width": 60,
         "turn_circle": 32,
         "rear_seat_room": 23.5,
         "luggage_room": 10,
         "weight": 2045,
         "origin": "non-USA",
         "make": "Subaru Justy",
         "_deepnote_index_column": 59
        },
        {
         "manufacturer": "Subaru",
         "model": "Loyale",
         "type": "Small",
         "min_price": 10.5,
         "price": 10.9,
         "max_price": 11.3,
         "mpg_city": 25,
         "mpg_highway": 30,
         "airbags": "None",
         "drivetrain": "4WD",
         "cylinders": "4",
         "enginesize": 1.8,
         "horsepower": 90,
         "rpm": 5200,
         "revolutions_per_mile": 3375,
         "man_trans_avail": "Yes",
         "fuel_tank_capacity": 15.9,
         "passengers": 5,
         "length": 175,
         "wheelbase": 97,
         "width": 65,
         "turn_circle": 35,
         "rear_seat_room": 27.5,
         "luggage_room": 15,
         "weight": 2490,
         "origin": "non-USA",
         "make": "Subaru Loyale",
         "_deepnote_index_column": 60
        },
        {
         "manufacturer": "Subaru",
         "model": "Legacy",
         "type": "Compact",
         "min_price": 16.3,
         "price": 19.5,
         "max_price": 22.7,
         "mpg_city": 23,
         "mpg_highway": 30,
         "airbags": "Driver only",
         "drivetrain": "4WD",
         "cylinders": "4",
         "enginesize": 2.2,
         "horsepower": 130,
         "rpm": 5239.6,
         "revolutions_per_mile": 2330,
         "man_trans_avail": "Yes",
         "fuel_tank_capacity": 15.9,
         "passengers": 5,
         "length": 179,
         "wheelbase": 102,
         "width": 67,
         "turn_circle": 37,
         "rear_seat_room": 27,
         "luggage_room": 14,
         "weight": 3085,
         "origin": "non-USA",
         "make": "Subaru Legacy",
         "_deepnote_index_column": 61
        },
        {
         "manufacturer": "Toyota",
         "model": "Tercel",
         "type": "Small",
         "min_price": 17.6,
         "price": 9.8,
         "max_price": 11.8,
         "mpg_city": 32,
         "mpg_highway": 37,
         "airbags": "Driver only",
         "drivetrain": "Front",
         "cylinders": "4",
         "enginesize": 1.5,
         "horsepower": 82,
         "rpm": 5200,
         "revolutions_per_mile": 3505,
         "man_trans_avail": "Yes",
         "fuel_tank_capacity": 11.9,
         "passengers": "nan",
         "length": 162,
         "wheelbase": 94,
         "width": "nan",
         "turn_circle": 36,
         "rear_seat_room": 24,
         "luggage_room": 11,
         "weight": 2055,
         "origin": "non-USA",
         "make": "Toyota Tercel",
         "_deepnote_index_column": 62
        },
        {
         "manufacturer": "Toyota",
         "model": "Previa",
         "type": "Van",
         "min_price": 17.6,
         "price": 22.7,
         "max_price": 26.6,
         "mpg_city": 18,
         "mpg_highway": 22,
         "airbags": "Driver only",
         "drivetrain": "4WD",
         "cylinders": "4",
         "enginesize": 2.4,
         "horsepower": 138,
         "rpm": 5000,
         "revolutions_per_mile": 2515,
         "man_trans_avail": "Yes",
         "fuel_tank_capacity": 19.8,
         "passengers": 7,
         "length": 187,
         "wheelbase": 113,
         "width": 71,
         "turn_circle": 41,
         "rear_seat_room": 35,
         "luggage_room": "nan",
         "weight": 3785,
         "origin": "non-USA",
         "make": "Toyota Previa",
         "_deepnote_index_column": 63
        },
        {
         "manufacturer": "Volkswagen",
         "model": "Fox",
         "type": "Small",
         "min_price": 8.7,
         "price": 9.1,
         "max_price": 9.5,
         "mpg_city": 25,
         "mpg_highway": 33,
         "airbags": "None",
         "drivetrain": "Front",
         "cylinders": "4",
         "enginesize": 1.8,
         "horsepower": 81,
         "rpm": 5500,
         "revolutions_per_mile": 2550,
         "man_trans_avail": "Yes",
         "fuel_tank_capacity": 12.4,
         "passengers": 4,
         "length": 163,
         "wheelbase": 93,
         "width": 63,
         "turn_circle": 34,
         "rear_seat_room": 26,
         "luggage_room": 10,
         "weight": 2240,
         "origin": "non-USA",
         "make": "Volkswagen Fox",
         "_deepnote_index_column": 64
        },
        {
         "manufacturer": "Volkswagen",
         "model": "Eurovan",
         "type": "Van",
         "min_price": 16.6,
         "price": 19.7,
         "max_price": 22.7,
         "mpg_city": 17,
         "mpg_highway": 21,
         "airbags": "None",
         "drivetrain": "Front",
         "cylinders": "5",
         "enginesize": 2.5,
         "horsepower": 109,
         "rpm": 4500,
         "revolutions_per_mile": 2915,
         "man_trans_avail": "Yes",
         "fuel_tank_capacity": 21.1,
         "passengers": 7,
         "length": 187,
         "wheelbase": 115,
         "width": 72,
         "turn_circle": 38,
         "rear_seat_room": 34,
         "luggage_room": "nan",
         "weight": 3960,
         "origin": "nan",
         "make": "Volkswagen Eurovan",
         "_deepnote_index_column": 65
        },
        {
         "manufacturer": "Volkswagen",
         "model": "Passat",
         "type": "Compact",
         "min_price": 17.6,
         "price": 20,
         "max_price": 22.4,
         "mpg_city": 21,
         "mpg_highway": 30,
         "airbags": "None",
         "drivetrain": "Front",
         "cylinders": "4",
         "enginesize": 2,
         "horsepower": 134,
         "rpm": 5800,
         "revolutions_per_mile": 2685,
         "man_trans_avail": "Yes",
         "fuel_tank_capacity": 18.5,
         "passengers": 5,
         "length": 180,
         "wheelbase": 103,
         "width": 67,
         "turn_circle": 35,
         "rear_seat_room": 31.5,
         "luggage_room": 14,
         "weight": 2985,
         "origin": "non-USA",
         "make": "Volkswagen Passat",
         "_deepnote_index_column": 66
        },
        {
         "manufacturer": "Volkswagen",
         "model": "Corrado",
         "type": "Sporty",
         "min_price": 22.9,
         "price": 23.3,
         "max_price": 23.7,
         "mpg_city": 18,
         "mpg_highway": 25,
         "airbags": "None",
         "drivetrain": "Front",
         "cylinders": "6",
         "enginesize": 2.8,
         "horsepower": 178,
         "rpm": 5800,
         "revolutions_per_mile": 2385,
         "man_trans_avail": "Yes",
         "fuel_tank_capacity": 18.5,
         "passengers": 4,
         "length": 159,
         "wheelbase": 97,
         "width": 66,
         "turn_circle": 36,
         "rear_seat_room": 26,
         "luggage_room": 15,
         "weight": 2810,
         "origin": "non-USA",
         "make": "Volkswagen Corrado",
         "_deepnote_index_column": 67
        },
        {
         "manufacturer": "Volvo",
         "model": "850",
         "type": "Midsize",
         "min_price": 24.8,
         "price": 26.7,
         "max_price": 28.5,
         "mpg_city": 20,
         "mpg_highway": 28,
         "airbags": "Driver & Passenger",
         "drivetrain": "Front",
         "cylinders": "5",
         "enginesize": 2.4,
         "horsepower": 168,
         "rpm": 6200,
         "revolutions_per_mile": "nan",
         "man_trans_avail": "Yes",
         "fuel_tank_capacity": 19.3,
         "passengers": 5,
         "length": 184,
         "wheelbase": 105,
         "width": 69,
         "turn_circle": 38,
         "rear_seat_room": 30,
         "luggage_room": 15,
         "weight": 3245,
         "origin": "non-USA",
         "make": "Volvo 850",
         "_deepnote_index_column": 68
        }
       ]
      },
      "text/plain": "   manufacturer       model     type  min_price  price  max_price  mpg_city  \\\n0         Acura     Integra    Small       12.9   15.9       18.8      25.0   \n1         Acura      Legend  Midsize       29.2   33.9       38.7      18.0   \n2          Audi          90  Compact       25.9   29.1       32.3      20.0   \n3         Buick     LeSabre    Large       19.9   20.8       19.8      19.0   \n4         Buick  Roadmaster    Large       22.6   23.7       24.9      16.0   \n..          ...         ...      ...        ...    ...        ...       ...   \n64   Volkswagen         Fox    Small        8.7    9.1        9.5      25.0   \n65   Volkswagen     Eurovan      Van       16.6   19.7       22.7      17.0   \n66   Volkswagen      Passat  Compact       17.6   20.0       22.4      21.0   \n67   Volkswagen     Corrado   Sporty       22.9   23.3       23.7      18.0   \n68        Volvo         850  Midsize       24.8   26.7       28.5      20.0   \n\n    mpg_highway             airbags drivetrain  ... passengers  length  \\\n0          31.0                None      Front  ...        5.0   177.0   \n1          25.0  Driver & Passenger      Front  ...        5.0   195.0   \n2          26.0         Driver only      Front  ...        5.0   180.0   \n3          28.0         Driver only      Front  ...        6.0   200.0   \n4          25.0         Driver only       Rear  ...        6.0   216.0   \n..          ...                 ...        ...  ...        ...     ...   \n64         33.0                None      Front  ...        4.0   163.0   \n65         21.0                None      Front  ...        7.0   187.0   \n66         30.0                None      Front  ...        5.0   180.0   \n67         25.0                None      Front  ...        4.0   159.0   \n68         28.0  Driver & Passenger      Front  ...        5.0   184.0   \n\n    wheelbase  width  turn_circle rear_seat_room  luggage_room  weight  \\\n0       102.0   68.0         37.0           26.5           NaN  2705.0   \n1       115.0   71.0         38.0           30.0          15.0  3560.0   \n2       102.0   67.0         37.0           28.0          14.0  3375.0   \n3       111.0   74.0         42.0           30.5          17.0  3470.0   \n4       116.0   78.0         45.0           30.5          21.0  4105.0   \n..        ...    ...          ...            ...           ...     ...   \n64       93.0   63.0         34.0           26.0          10.0  2240.0   \n65      115.0   72.0         38.0           34.0           NaN  3960.0   \n66      103.0   67.0         35.0           31.5          14.0  2985.0   \n67       97.0   66.0         36.0           26.0          15.0  2810.0   \n68      105.0   69.0         38.0           30.0          15.0  3245.0   \n\n     origin                make  \n0   non-USA       Acura Integra  \n1   non-USA        Acura Legend  \n2   non-USA             Audi 90  \n3       USA       Buick LeSabre  \n4       USA    Buick Roadmaster  \n..      ...                 ...  \n64  non-USA      Volkswagen Fox  \n65      NaN  Volkswagen Eurovan  \n66  non-USA   Volkswagen Passat  \n67  non-USA  Volkswagen Corrado  \n68  non-USA           Volvo 850  \n\n[69 rows x 27 columns]",
      "text/html": "<div>\n<style scoped>\n    .dataframe tbody tr th:only-of-type {\n        vertical-align: middle;\n    }\n\n    .dataframe tbody tr th {\n        vertical-align: top;\n    }\n\n    .dataframe thead th {\n        text-align: right;\n    }\n</style>\n<table border=\"1\" class=\"dataframe\">\n  <thead>\n    <tr style=\"text-align: right;\">\n      <th></th>\n      <th>manufacturer</th>\n      <th>model</th>\n      <th>type</th>\n      <th>min_price</th>\n      <th>price</th>\n      <th>max_price</th>\n      <th>mpg_city</th>\n      <th>mpg_highway</th>\n      <th>airbags</th>\n      <th>drivetrain</th>\n      <th>...</th>\n      <th>passengers</th>\n      <th>length</th>\n      <th>wheelbase</th>\n      <th>width</th>\n      <th>turn_circle</th>\n      <th>rear_seat_room</th>\n      <th>luggage_room</th>\n      <th>weight</th>\n      <th>origin</th>\n      <th>make</th>\n    </tr>\n  </thead>\n  <tbody>\n    <tr>\n      <th>0</th>\n      <td>Acura</td>\n      <td>Integra</td>\n      <td>Small</td>\n      <td>12.9</td>\n      <td>15.9</td>\n      <td>18.8</td>\n      <td>25.0</td>\n      <td>31.0</td>\n      <td>None</td>\n      <td>Front</td>\n      <td>...</td>\n      <td>5.0</td>\n      <td>177.0</td>\n      <td>102.0</td>\n      <td>68.0</td>\n      <td>37.0</td>\n      <td>26.5</td>\n      <td>NaN</td>\n      <td>2705.0</td>\n      <td>non-USA</td>\n      <td>Acura Integra</td>\n    </tr>\n    <tr>\n      <th>1</th>\n      <td>Acura</td>\n      <td>Legend</td>\n      <td>Midsize</td>\n      <td>29.2</td>\n      <td>33.9</td>\n      <td>38.7</td>\n      <td>18.0</td>\n      <td>25.0</td>\n      <td>Driver &amp; Passenger</td>\n      <td>Front</td>\n      <td>...</td>\n      <td>5.0</td>\n      <td>195.0</td>\n      <td>115.0</td>\n      <td>71.0</td>\n      <td>38.0</td>\n      <td>30.0</td>\n      <td>15.0</td>\n      <td>3560.0</td>\n      <td>non-USA</td>\n      <td>Acura Legend</td>\n    </tr>\n    <tr>\n      <th>2</th>\n      <td>Audi</td>\n      <td>90</td>\n      <td>Compact</td>\n      <td>25.9</td>\n      <td>29.1</td>\n      <td>32.3</td>\n      <td>20.0</td>\n      <td>26.0</td>\n      <td>Driver only</td>\n      <td>Front</td>\n      <td>...</td>\n      <td>5.0</td>\n      <td>180.0</td>\n      <td>102.0</td>\n      <td>67.0</td>\n      <td>37.0</td>\n      <td>28.0</td>\n      <td>14.0</td>\n      <td>3375.0</td>\n      <td>non-USA</td>\n      <td>Audi 90</td>\n    </tr>\n    <tr>\n      <th>3</th>\n      <td>Buick</td>\n      <td>LeSabre</td>\n      <td>Large</td>\n      <td>19.9</td>\n      <td>20.8</td>\n      <td>19.8</td>\n      <td>19.0</td>\n      <td>28.0</td>\n      <td>Driver only</td>\n      <td>Front</td>\n      <td>...</td>\n      <td>6.0</td>\n      <td>200.0</td>\n      <td>111.0</td>\n      <td>74.0</td>\n      <td>42.0</td>\n      <td>30.5</td>\n      <td>17.0</td>\n      <td>3470.0</td>\n      <td>USA</td>\n      <td>Buick LeSabre</td>\n    </tr>\n    <tr>\n      <th>4</th>\n      <td>Buick</td>\n      <td>Roadmaster</td>\n      <td>Large</td>\n      <td>22.6</td>\n      <td>23.7</td>\n      <td>24.9</td>\n      <td>16.0</td>\n      <td>25.0</td>\n      <td>Driver only</td>\n      <td>Rear</td>\n      <td>...</td>\n      <td>6.0</td>\n      <td>216.0</td>\n      <td>116.0</td>\n      <td>78.0</td>\n      <td>45.0</td>\n      <td>30.5</td>\n      <td>21.0</td>\n      <td>4105.0</td>\n      <td>USA</td>\n      <td>Buick Roadmaster</td>\n    </tr>\n    <tr>\n      <th>...</th>\n      <td>...</td>\n      <td>...</td>\n      <td>...</td>\n      <td>...</td>\n      <td>...</td>\n      <td>...</td>\n      <td>...</td>\n      <td>...</td>\n      <td>...</td>\n      <td>...</td>\n      <td>...</td>\n      <td>...</td>\n      <td>...</td>\n      <td>...</td>\n      <td>...</td>\n      <td>...</td>\n      <td>...</td>\n      <td>...</td>\n      <td>...</td>\n      <td>...</td>\n      <td>...</td>\n    </tr>\n    <tr>\n      <th>64</th>\n      <td>Volkswagen</td>\n      <td>Fox</td>\n      <td>Small</td>\n      <td>8.7</td>\n      <td>9.1</td>\n      <td>9.5</td>\n      <td>25.0</td>\n      <td>33.0</td>\n      <td>None</td>\n      <td>Front</td>\n      <td>...</td>\n      <td>4.0</td>\n      <td>163.0</td>\n      <td>93.0</td>\n      <td>63.0</td>\n      <td>34.0</td>\n      <td>26.0</td>\n      <td>10.0</td>\n      <td>2240.0</td>\n      <td>non-USA</td>\n      <td>Volkswagen Fox</td>\n    </tr>\n    <tr>\n      <th>65</th>\n      <td>Volkswagen</td>\n      <td>Eurovan</td>\n      <td>Van</td>\n      <td>16.6</td>\n      <td>19.7</td>\n      <td>22.7</td>\n      <td>17.0</td>\n      <td>21.0</td>\n      <td>None</td>\n      <td>Front</td>\n      <td>...</td>\n      <td>7.0</td>\n      <td>187.0</td>\n      <td>115.0</td>\n      <td>72.0</td>\n      <td>38.0</td>\n      <td>34.0</td>\n      <td>NaN</td>\n      <td>3960.0</td>\n      <td>NaN</td>\n      <td>Volkswagen Eurovan</td>\n    </tr>\n    <tr>\n      <th>66</th>\n      <td>Volkswagen</td>\n      <td>Passat</td>\n      <td>Compact</td>\n      <td>17.6</td>\n      <td>20.0</td>\n      <td>22.4</td>\n      <td>21.0</td>\n      <td>30.0</td>\n      <td>None</td>\n      <td>Front</td>\n      <td>...</td>\n      <td>5.0</td>\n      <td>180.0</td>\n      <td>103.0</td>\n      <td>67.0</td>\n      <td>35.0</td>\n      <td>31.5</td>\n      <td>14.0</td>\n      <td>2985.0</td>\n      <td>non-USA</td>\n      <td>Volkswagen Passat</td>\n    </tr>\n    <tr>\n      <th>67</th>\n      <td>Volkswagen</td>\n      <td>Corrado</td>\n      <td>Sporty</td>\n      <td>22.9</td>\n      <td>23.3</td>\n      <td>23.7</td>\n      <td>18.0</td>\n      <td>25.0</td>\n      <td>None</td>\n      <td>Front</td>\n      <td>...</td>\n      <td>4.0</td>\n      <td>159.0</td>\n      <td>97.0</td>\n      <td>66.0</td>\n      <td>36.0</td>\n      <td>26.0</td>\n      <td>15.0</td>\n      <td>2810.0</td>\n      <td>non-USA</td>\n      <td>Volkswagen Corrado</td>\n    </tr>\n    <tr>\n      <th>68</th>\n      <td>Volvo</td>\n      <td>850</td>\n      <td>Midsize</td>\n      <td>24.8</td>\n      <td>26.7</td>\n      <td>28.5</td>\n      <td>20.0</td>\n      <td>28.0</td>\n      <td>Driver &amp; Passenger</td>\n      <td>Front</td>\n      <td>...</td>\n      <td>5.0</td>\n      <td>184.0</td>\n      <td>105.0</td>\n      <td>69.0</td>\n      <td>38.0</td>\n      <td>30.0</td>\n      <td>15.0</td>\n      <td>3245.0</td>\n      <td>non-USA</td>\n      <td>Volvo 850</td>\n    </tr>\n  </tbody>\n</table>\n<p>69 rows × 27 columns</p>\n</div>"
     },
     "metadata": {}
    }
   ]
  },
  {
   "cell_type": "markdown",
   "source": "Change the following numbers that represent percentage into strings with %.",
   "metadata": {
    "tags": [],
    "cell_id": "00043-231efb06-8416-4eca-a8aa-f9acee5109aa",
    "deepnote_cell_type": "markdown"
   }
  },
  {
   "cell_type": "code",
   "metadata": {
    "tags": [],
    "cell_id": "00040-df0f23b7-ddd7-4874-93ac-54160e80dc02",
    "deepnote_to_be_reexecuted": false,
    "source_hash": "18fdd511",
    "execution_start": 1629133069918,
    "execution_millis": 17,
    "deepnote_cell_type": "code"
   },
   "source": "\"0.8\".ljust(4, \"0\")",
   "execution_count": null,
   "outputs": [
    {
     "output_type": "execute_result",
     "execution_count": 211,
     "data": {
      "text/plain": "'0.80'"
     },
     "metadata": {}
    }
   ]
  },
  {
   "cell_type": "code",
   "metadata": {
    "tags": [],
    "cell_id": "00044-9552fdd9-0e53-4413-9068-90151072cfc1",
    "deepnote_to_be_reexecuted": false,
    "source_hash": "6cbb463e",
    "execution_start": 1629133217828,
    "execution_millis": 86,
    "deepnote_cell_type": "code"
   },
   "source": "df = pd.DataFrame(np.random.random(4), columns=['random'])\ndf[\"random\"] = df[\"random\"].round(3)*100\ndf[\"random\"] = df[\"random\"].astype(str).str.ljust(5, \"0\")+\" %\"\ndf",
   "execution_count": null,
   "outputs": [
    {
     "output_type": "execute_result",
     "execution_count": 236,
     "data": {
      "application/vnd.deepnote.dataframe.v2+json": {
       "row_count": 4,
       "column_count": 1,
       "columns": [
        {
         "name": "random",
         "dtype": "object",
         "stats": {
          "unique_count": 4,
          "nan_count": 0,
          "categories": [
           {
            "name": "42.50 %",
            "count": 1
           },
           {
            "name": "52.00 %",
            "count": 1
           },
           {
            "name": "2 others",
            "count": 2
           }
          ]
         }
        },
        {
         "name": "_deepnote_index_column",
         "dtype": "int64"
        }
       ],
       "rows_top": [
        {
         "random": "42.50 %",
         "_deepnote_index_column": 0
        },
        {
         "random": "52.00 %",
         "_deepnote_index_column": 1
        },
        {
         "random": "15.20 %",
         "_deepnote_index_column": 2
        },
        {
         "random": "31.00 %",
         "_deepnote_index_column": 3
        }
       ],
       "rows_bottom": null
      },
      "text/plain": "    random\n0  42.50 %\n1  52.00 %\n2  15.20 %\n3  31.00 %",
      "text/html": "<div>\n<style scoped>\n    .dataframe tbody tr th:only-of-type {\n        vertical-align: middle;\n    }\n\n    .dataframe tbody tr th {\n        vertical-align: top;\n    }\n\n    .dataframe thead th {\n        text-align: right;\n    }\n</style>\n<table border=\"1\" class=\"dataframe\">\n  <thead>\n    <tr style=\"text-align: right;\">\n      <th></th>\n      <th>random</th>\n    </tr>\n  </thead>\n  <tbody>\n    <tr>\n      <th>0</th>\n      <td>42.50 %</td>\n    </tr>\n    <tr>\n      <th>1</th>\n      <td>52.00 %</td>\n    </tr>\n    <tr>\n      <th>2</th>\n      <td>15.20 %</td>\n    </tr>\n    <tr>\n      <th>3</th>\n      <td>31.00 %</td>\n    </tr>\n  </tbody>\n</table>\n</div>"
     },
     "metadata": {}
    }
   ]
  },
  {
   "cell_type": "markdown",
   "source": "Create new col containing the `minimum` value divided by  `maximum` value of each row?",
   "metadata": {
    "tags": [],
    "cell_id": "00045-ecf96d2a-323c-4fe6-9933-b5cb9d5bc802",
    "deepnote_cell_type": "markdown"
   }
  },
  {
   "cell_type": "code",
   "metadata": {
    "tags": [],
    "cell_id": "00045-97a48e7d-ce4a-4b21-b3e2-c2c647432ca6",
    "deepnote_to_be_reexecuted": false,
    "source_hash": "7e2f2206",
    "execution_start": 1629133370441,
    "execution_millis": 73,
    "output_cleared": false,
    "deepnote_cell_type": "code"
   },
   "source": "df = pd.DataFrame(np.random.randint(1,100, 80).reshape(8, -1))\ndf[\"min_and_max\"]= (df.min(axis=1)/df.max(axis=1)).round(2)\ndf",
   "execution_count": null,
   "outputs": [
    {
     "output_type": "execute_result",
     "execution_count": 246,
     "data": {
      "application/vnd.deepnote.dataframe.v2+json": {
       "row_count": 8,
       "column_count": 11,
       "columns": [
        {
         "name": 0,
         "dtype": "int64",
         "stats": {
          "unique_count": 8,
          "nan_count": 0,
          "min": "2",
          "max": "95",
          "histogram": [
           {
            "bin_start": 2,
            "bin_end": 11.3,
            "count": 1
           },
           {
            "bin_start": 11.3,
            "bin_end": 20.6,
            "count": 1
           },
           {
            "bin_start": 20.6,
            "bin_end": 29.900000000000002,
            "count": 0
           },
           {
            "bin_start": 29.900000000000002,
            "bin_end": 39.2,
            "count": 0
           },
           {
            "bin_start": 39.2,
            "bin_end": 48.5,
            "count": 0
           },
           {
            "bin_start": 48.5,
            "bin_end": 57.800000000000004,
            "count": 1
           },
           {
            "bin_start": 57.800000000000004,
            "bin_end": 67.10000000000001,
            "count": 1
           },
           {
            "bin_start": 67.10000000000001,
            "bin_end": 76.4,
            "count": 2
           },
           {
            "bin_start": 76.4,
            "bin_end": 85.7,
            "count": 0
           },
           {
            "bin_start": 85.7,
            "bin_end": 95,
            "count": 2
           }
          ]
         }
        },
        {
         "name": 1,
         "dtype": "int64",
         "stats": {
          "unique_count": 8,
          "nan_count": 0,
          "min": "9",
          "max": "90",
          "histogram": [
           {
            "bin_start": 9,
            "bin_end": 17.1,
            "count": 2
           },
           {
            "bin_start": 17.1,
            "bin_end": 25.2,
            "count": 0
           },
           {
            "bin_start": 25.2,
            "bin_end": 33.3,
            "count": 0
           },
           {
            "bin_start": 33.3,
            "bin_end": 41.4,
            "count": 1
           },
           {
            "bin_start": 41.4,
            "bin_end": 49.5,
            "count": 0
           },
           {
            "bin_start": 49.5,
            "bin_end": 57.599999999999994,
            "count": 1
           },
           {
            "bin_start": 57.599999999999994,
            "bin_end": 65.69999999999999,
            "count": 0
           },
           {
            "bin_start": 65.69999999999999,
            "bin_end": 73.8,
            "count": 2
           },
           {
            "bin_start": 73.8,
            "bin_end": 81.89999999999999,
            "count": 0
           },
           {
            "bin_start": 81.89999999999999,
            "bin_end": 90,
            "count": 2
           }
          ]
         }
        },
        {
         "name": 2,
         "dtype": "int64",
         "stats": {
          "unique_count": 8,
          "nan_count": 0,
          "min": "2",
          "max": "79",
          "histogram": [
           {
            "bin_start": 2,
            "bin_end": 9.7,
            "count": 2
           },
           {
            "bin_start": 9.7,
            "bin_end": 17.4,
            "count": 1
           },
           {
            "bin_start": 17.4,
            "bin_end": 25.1,
            "count": 0
           },
           {
            "bin_start": 25.1,
            "bin_end": 32.8,
            "count": 1
           },
           {
            "bin_start": 32.8,
            "bin_end": 40.5,
            "count": 0
           },
           {
            "bin_start": 40.5,
            "bin_end": 48.2,
            "count": 0
           },
           {
            "bin_start": 48.2,
            "bin_end": 55.9,
            "count": 1
           },
           {
            "bin_start": 55.9,
            "bin_end": 63.6,
            "count": 1
           },
           {
            "bin_start": 63.6,
            "bin_end": 71.3,
            "count": 0
           },
           {
            "bin_start": 71.3,
            "bin_end": 79,
            "count": 2
           }
          ]
         }
        },
        {
         "name": 3,
         "dtype": "int64",
         "stats": {
          "unique_count": 7,
          "nan_count": 0,
          "min": "22",
          "max": "88",
          "histogram": [
           {
            "bin_start": 22,
            "bin_end": 28.6,
            "count": 1
           },
           {
            "bin_start": 28.6,
            "bin_end": 35.2,
            "count": 0
           },
           {
            "bin_start": 35.2,
            "bin_end": 41.8,
            "count": 0
           },
           {
            "bin_start": 41.8,
            "bin_end": 48.4,
            "count": 1
           },
           {
            "bin_start": 48.4,
            "bin_end": 55,
            "count": 1
           },
           {
            "bin_start": 55,
            "bin_end": 61.599999999999994,
            "count": 1
           },
           {
            "bin_start": 61.599999999999994,
            "bin_end": 68.19999999999999,
            "count": 1
           },
           {
            "bin_start": 68.19999999999999,
            "bin_end": 74.8,
            "count": 0
           },
           {
            "bin_start": 74.8,
            "bin_end": 81.4,
            "count": 0
           },
           {
            "bin_start": 81.4,
            "bin_end": 88,
            "count": 3
           }
          ]
         }
        },
        {
         "name": 4,
         "dtype": "int64",
         "stats": {
          "unique_count": 8,
          "nan_count": 0,
          "min": "16",
          "max": "82",
          "histogram": [
           {
            "bin_start": 16,
            "bin_end": 22.6,
            "count": 1
           },
           {
            "bin_start": 22.6,
            "bin_end": 29.2,
            "count": 0
           },
           {
            "bin_start": 29.2,
            "bin_end": 35.8,
            "count": 1
           },
           {
            "bin_start": 35.8,
            "bin_end": 42.4,
            "count": 2
           },
           {
            "bin_start": 42.4,
            "bin_end": 49,
            "count": 0
           },
           {
            "bin_start": 49,
            "bin_end": 55.599999999999994,
            "count": 0
           },
           {
            "bin_start": 55.599999999999994,
            "bin_end": 62.199999999999996,
            "count": 0
           },
           {
            "bin_start": 62.199999999999996,
            "bin_end": 68.8,
            "count": 2
           },
           {
            "bin_start": 68.8,
            "bin_end": 75.4,
            "count": 0
           },
           {
            "bin_start": 75.4,
            "bin_end": 82,
            "count": 2
           }
          ]
         }
        },
        {
         "name": 5,
         "dtype": "int64",
         "stats": {
          "unique_count": 8,
          "nan_count": 0,
          "min": "19",
          "max": "98",
          "histogram": [
           {
            "bin_start": 19,
            "bin_end": 26.9,
            "count": 2
           },
           {
            "bin_start": 26.9,
            "bin_end": 34.8,
            "count": 1
           },
           {
            "bin_start": 34.8,
            "bin_end": 42.7,
            "count": 2
           },
           {
            "bin_start": 42.7,
            "bin_end": 50.6,
            "count": 0
           },
           {
            "bin_start": 50.6,
            "bin_end": 58.5,
            "count": 1
           },
           {
            "bin_start": 58.5,
            "bin_end": 66.4,
            "count": 0
           },
           {
            "bin_start": 66.4,
            "bin_end": 74.30000000000001,
            "count": 0
           },
           {
            "bin_start": 74.30000000000001,
            "bin_end": 82.2,
            "count": 0
           },
           {
            "bin_start": 82.2,
            "bin_end": 90.10000000000001,
            "count": 1
           },
           {
            "bin_start": 90.10000000000001,
            "bin_end": 98,
            "count": 1
           }
          ]
         }
        },
        {
         "name": 6,
         "dtype": "int64",
         "stats": {
          "unique_count": 8,
          "nan_count": 0,
          "min": "3",
          "max": "85",
          "histogram": [
           {
            "bin_start": 3,
            "bin_end": 11.2,
            "count": 1
           },
           {
            "bin_start": 11.2,
            "bin_end": 19.4,
            "count": 0
           },
           {
            "bin_start": 19.4,
            "bin_end": 27.599999999999998,
            "count": 0
           },
           {
            "bin_start": 27.599999999999998,
            "bin_end": 35.8,
            "count": 1
           },
           {
            "bin_start": 35.8,
            "bin_end": 44,
            "count": 1
           },
           {
            "bin_start": 44,
            "bin_end": 52.199999999999996,
            "count": 1
           },
           {
            "bin_start": 52.199999999999996,
            "bin_end": 60.39999999999999,
            "count": 0
           },
           {
            "bin_start": 60.39999999999999,
            "bin_end": 68.6,
            "count": 1
           },
           {
            "bin_start": 68.6,
            "bin_end": 76.8,
            "count": 1
           },
           {
            "bin_start": 76.8,
            "bin_end": 85,
            "count": 2
           }
          ]
         }
        },
        {
         "name": 7,
         "dtype": "int64",
         "stats": {
          "unique_count": 7,
          "nan_count": 0,
          "min": "11",
          "max": "96",
          "histogram": [
           {
            "bin_start": 11,
            "bin_end": 19.5,
            "count": 2
           },
           {
            "bin_start": 19.5,
            "bin_end": 28,
            "count": 1
           },
           {
            "bin_start": 28,
            "bin_end": 36.5,
            "count": 0
           },
           {
            "bin_start": 36.5,
            "bin_end": 45,
            "count": 0
           },
           {
            "bin_start": 45,
            "bin_end": 53.5,
            "count": 0
           },
           {
            "bin_start": 53.5,
            "bin_end": 62,
            "count": 0
           },
           {
            "bin_start": 62,
            "bin_end": 70.5,
            "count": 1
           },
           {
            "bin_start": 70.5,
            "bin_end": 79,
            "count": 1
           },
           {
            "bin_start": 79,
            "bin_end": 87.5,
            "count": 0
           },
           {
            "bin_start": 87.5,
            "bin_end": 96,
            "count": 3
           }
          ]
         }
        },
        {
         "name": 8,
         "dtype": "int64",
         "stats": {
          "unique_count": 8,
          "nan_count": 0,
          "min": "41",
          "max": "93",
          "histogram": [
           {
            "bin_start": 41,
            "bin_end": 46.2,
            "count": 1
           },
           {
            "bin_start": 46.2,
            "bin_end": 51.4,
            "count": 1
           },
           {
            "bin_start": 51.4,
            "bin_end": 56.6,
            "count": 0
           },
           {
            "bin_start": 56.6,
            "bin_end": 61.8,
            "count": 0
           },
           {
            "bin_start": 61.8,
            "bin_end": 67,
            "count": 0
           },
           {
            "bin_start": 67,
            "bin_end": 72.2,
            "count": 1
           },
           {
            "bin_start": 72.2,
            "bin_end": 77.4,
            "count": 1
           },
           {
            "bin_start": 77.4,
            "bin_end": 82.6,
            "count": 1
           },
           {
            "bin_start": 82.6,
            "bin_end": 87.80000000000001,
            "count": 1
           },
           {
            "bin_start": 87.80000000000001,
            "bin_end": 93,
            "count": 2
           }
          ]
         }
        },
        {
         "name": 9,
         "dtype": "int64",
         "stats": {
          "unique_count": 6,
          "nan_count": 0,
          "min": "4",
          "max": "88",
          "histogram": [
           {
            "bin_start": 4,
            "bin_end": 12.4,
            "count": 4
           },
           {
            "bin_start": 12.4,
            "bin_end": 20.8,
            "count": 0
           },
           {
            "bin_start": 20.8,
            "bin_end": 29.200000000000003,
            "count": 0
           },
           {
            "bin_start": 29.200000000000003,
            "bin_end": 37.6,
            "count": 1
           },
           {
            "bin_start": 37.6,
            "bin_end": 46,
            "count": 0
           },
           {
            "bin_start": 46,
            "bin_end": 54.400000000000006,
            "count": 0
           },
           {
            "bin_start": 54.400000000000006,
            "bin_end": 62.800000000000004,
            "count": 1
           },
           {
            "bin_start": 62.800000000000004,
            "bin_end": 71.2,
            "count": 1
           },
           {
            "bin_start": 71.2,
            "bin_end": 79.60000000000001,
            "count": 0
           },
           {
            "bin_start": 79.60000000000001,
            "bin_end": 88,
            "count": 1
           }
          ]
         }
        },
        {
         "name": "min_and_max",
         "dtype": "float64",
         "stats": {
          "unique_count": 6,
          "nan_count": 0,
          "min": "0.02",
          "max": "0.18",
          "histogram": [
           {
            "bin_start": 0.02,
            "bin_end": 0.036000000000000004,
            "count": 3
           },
           {
            "bin_start": 0.036000000000000004,
            "bin_end": 0.052000000000000005,
            "count": 1
           },
           {
            "bin_start": 0.052000000000000005,
            "bin_end": 0.068,
            "count": 2
           },
           {
            "bin_start": 0.068,
            "bin_end": 0.084,
            "count": 1
           },
           {
            "bin_start": 0.084,
            "bin_end": 0.1,
            "count": 0
           },
           {
            "bin_start": 0.1,
            "bin_end": 0.116,
            "count": 0
           },
           {
            "bin_start": 0.116,
            "bin_end": 0.132,
            "count": 0
           },
           {
            "bin_start": 0.132,
            "bin_end": 0.148,
            "count": 0
           },
           {
            "bin_start": 0.148,
            "bin_end": 0.164,
            "count": 0
           },
           {
            "bin_start": 0.164,
            "bin_end": 0.18,
            "count": 1
           }
          ]
         }
        },
        {
         "name": "_deepnote_index_column",
         "dtype": "int64"
        }
       ],
       "rows_top": [
        {
         "0": 71,
         "1": 37,
         "2": 13,
         "3": 67,
         "4": 82,
         "5": 22,
         "6": 3,
         "7": 22,
         "8": 92,
         "9": 88,
         "min_and_max": 0.03,
         "_deepnote_index_column": 0
        },
        {
         "0": 95,
         "1": 71,
         "2": 74,
         "3": 42,
         "4": 32,
         "5": 86,
         "6": 39,
         "7": 17,
         "8": 87,
         "9": 62,
         "min_and_max": 0.18,
         "_deepnote_index_column": 1
        },
        {
         "0": 76,
         "1": 56,
         "2": 32,
         "3": 57,
         "4": 36,
         "5": 36,
         "6": 48,
         "7": 96,
         "8": 49,
         "9": 6,
         "min_and_max": 0.06,
         "_deepnote_index_column": 2
        },
        {
         "0": 2,
         "1": 70,
         "2": 2,
         "3": 22,
         "4": 37,
         "5": 35,
         "6": 67,
         "7": 96,
         "8": 69,
         "9": 36,
         "min_and_max": 0.02,
         "_deepnote_index_column": 3
        },
        {
         "0": 15,
         "1": 85,
         "2": 79,
         "3": 49,
         "4": 63,
         "5": 52,
         "6": 81,
         "7": 71,
         "8": 93,
         "9": 6,
         "min_and_max": 0.06,
         "_deepnote_index_column": 4
        },
        {
         "0": 93,
         "1": 13,
         "2": 3,
         "3": 88,
         "4": 79,
         "5": 98,
         "6": 73,
         "7": 11,
         "8": 76,
         "9": 64,
         "min_and_max": 0.03,
         "_deepnote_index_column": 5
        },
        {
         "0": 51,
         "1": 9,
         "2": 54,
         "3": 86,
         "4": 16,
         "5": 19,
         "6": 85,
         "7": 64,
         "8": 41,
         "9": 4,
         "min_and_max": 0.05,
         "_deepnote_index_column": 6
        },
        {
         "0": 64,
         "1": 90,
         "2": 61,
         "3": 86,
         "4": 66,
         "5": 31,
         "6": 35,
         "7": 91,
         "8": 79,
         "9": 6,
         "min_and_max": 0.07,
         "_deepnote_index_column": 7
        }
       ],
       "rows_bottom": null
      },
      "text/plain": "    0   1   2   3   4   5   6   7   8   9  min_and_max\n0  71  37  13  67  82  22   3  22  92  88         0.03\n1  95  71  74  42  32  86  39  17  87  62         0.18\n2  76  56  32  57  36  36  48  96  49   6         0.06\n3   2  70   2  22  37  35  67  96  69  36         0.02\n4  15  85  79  49  63  52  81  71  93   6         0.06\n5  93  13   3  88  79  98  73  11  76  64         0.03\n6  51   9  54  86  16  19  85  64  41   4         0.05\n7  64  90  61  86  66  31  35  91  79   6         0.07",
      "text/html": "<div>\n<style scoped>\n    .dataframe tbody tr th:only-of-type {\n        vertical-align: middle;\n    }\n\n    .dataframe tbody tr th {\n        vertical-align: top;\n    }\n\n    .dataframe thead th {\n        text-align: right;\n    }\n</style>\n<table border=\"1\" class=\"dataframe\">\n  <thead>\n    <tr style=\"text-align: right;\">\n      <th></th>\n      <th>0</th>\n      <th>1</th>\n      <th>2</th>\n      <th>3</th>\n      <th>4</th>\n      <th>5</th>\n      <th>6</th>\n      <th>7</th>\n      <th>8</th>\n      <th>9</th>\n      <th>min_and_max</th>\n    </tr>\n  </thead>\n  <tbody>\n    <tr>\n      <th>0</th>\n      <td>71</td>\n      <td>37</td>\n      <td>13</td>\n      <td>67</td>\n      <td>82</td>\n      <td>22</td>\n      <td>3</td>\n      <td>22</td>\n      <td>92</td>\n      <td>88</td>\n      <td>0.03</td>\n    </tr>\n    <tr>\n      <th>1</th>\n      <td>95</td>\n      <td>71</td>\n      <td>74</td>\n      <td>42</td>\n      <td>32</td>\n      <td>86</td>\n      <td>39</td>\n      <td>17</td>\n      <td>87</td>\n      <td>62</td>\n      <td>0.18</td>\n    </tr>\n    <tr>\n      <th>2</th>\n      <td>76</td>\n      <td>56</td>\n      <td>32</td>\n      <td>57</td>\n      <td>36</td>\n      <td>36</td>\n      <td>48</td>\n      <td>96</td>\n      <td>49</td>\n      <td>6</td>\n      <td>0.06</td>\n    </tr>\n    <tr>\n      <th>3</th>\n      <td>2</td>\n      <td>70</td>\n      <td>2</td>\n      <td>22</td>\n      <td>37</td>\n      <td>35</td>\n      <td>67</td>\n      <td>96</td>\n      <td>69</td>\n      <td>36</td>\n      <td>0.02</td>\n    </tr>\n    <tr>\n      <th>4</th>\n      <td>15</td>\n      <td>85</td>\n      <td>79</td>\n      <td>49</td>\n      <td>63</td>\n      <td>52</td>\n      <td>81</td>\n      <td>71</td>\n      <td>93</td>\n      <td>6</td>\n      <td>0.06</td>\n    </tr>\n    <tr>\n      <th>5</th>\n      <td>93</td>\n      <td>13</td>\n      <td>3</td>\n      <td>88</td>\n      <td>79</td>\n      <td>98</td>\n      <td>73</td>\n      <td>11</td>\n      <td>76</td>\n      <td>64</td>\n      <td>0.03</td>\n    </tr>\n    <tr>\n      <th>6</th>\n      <td>51</td>\n      <td>9</td>\n      <td>54</td>\n      <td>86</td>\n      <td>16</td>\n      <td>19</td>\n      <td>85</td>\n      <td>64</td>\n      <td>41</td>\n      <td>4</td>\n      <td>0.05</td>\n    </tr>\n    <tr>\n      <th>7</th>\n      <td>64</td>\n      <td>90</td>\n      <td>61</td>\n      <td>86</td>\n      <td>66</td>\n      <td>31</td>\n      <td>35</td>\n      <td>91</td>\n      <td>79</td>\n      <td>6</td>\n      <td>0.07</td>\n    </tr>\n  </tbody>\n</table>\n</div>"
     },
     "metadata": {}
    }
   ]
  },
  {
   "cell_type": "markdown",
   "source": "Create nw col containing the median value of the row",
   "metadata": {
    "tags": [],
    "cell_id": "00047-95cded99-2df0-4026-aed6-c6bd92aa1f08",
    "deepnote_cell_type": "markdown"
   }
  },
  {
   "cell_type": "code",
   "metadata": {
    "tags": [],
    "cell_id": "00048-1b804ecc-d3ad-4974-adc4-3b1b4728b71b",
    "deepnote_to_be_reexecuted": false,
    "source_hash": "ce43c92e",
    "execution_start": 1629133401114,
    "execution_millis": 103,
    "deepnote_cell_type": "code"
   },
   "source": "df = pd.DataFrame(np.random.randint(1,100, 80).reshape(8, -1))\ndf[\"median\"] = df.median(axis=1)\nprint(df.iloc[0].drop(\"median\").median())\n\ndf",
   "execution_count": null,
   "outputs": [
    {
     "name": "stdout",
     "text": "77.5\n",
     "output_type": "stream"
    },
    {
     "output_type": "execute_result",
     "execution_count": 247,
     "data": {
      "application/vnd.deepnote.dataframe.v2+json": {
       "row_count": 8,
       "column_count": 11,
       "columns": [
        {
         "name": 0,
         "dtype": "int64",
         "stats": {
          "unique_count": 8,
          "nan_count": 0,
          "min": "6",
          "max": "60",
          "histogram": [
           {
            "bin_start": 6,
            "bin_end": 11.4,
            "count": 1
           },
           {
            "bin_start": 11.4,
            "bin_end": 16.8,
            "count": 1
           },
           {
            "bin_start": 16.8,
            "bin_end": 22.200000000000003,
            "count": 0
           },
           {
            "bin_start": 22.200000000000003,
            "bin_end": 27.6,
            "count": 0
           },
           {
            "bin_start": 27.6,
            "bin_end": 33,
            "count": 0
           },
           {
            "bin_start": 33,
            "bin_end": 38.400000000000006,
            "count": 2
           },
           {
            "bin_start": 38.400000000000006,
            "bin_end": 43.800000000000004,
            "count": 0
           },
           {
            "bin_start": 43.800000000000004,
            "bin_end": 49.2,
            "count": 1
           },
           {
            "bin_start": 49.2,
            "bin_end": 54.6,
            "count": 1
           },
           {
            "bin_start": 54.6,
            "bin_end": 60,
            "count": 2
           }
          ]
         }
        },
        {
         "name": 1,
         "dtype": "int64",
         "stats": {
          "unique_count": 8,
          "nan_count": 0,
          "min": "21",
          "max": "99",
          "histogram": [
           {
            "bin_start": 21,
            "bin_end": 28.8,
            "count": 2
           },
           {
            "bin_start": 28.8,
            "bin_end": 36.6,
            "count": 0
           },
           {
            "bin_start": 36.6,
            "bin_end": 44.4,
            "count": 0
           },
           {
            "bin_start": 44.4,
            "bin_end": 52.2,
            "count": 1
           },
           {
            "bin_start": 52.2,
            "bin_end": 60,
            "count": 0
           },
           {
            "bin_start": 60,
            "bin_end": 67.8,
            "count": 0
           },
           {
            "bin_start": 67.8,
            "bin_end": 75.6,
            "count": 1
           },
           {
            "bin_start": 75.6,
            "bin_end": 83.4,
            "count": 1
           },
           {
            "bin_start": 83.4,
            "bin_end": 91.2,
            "count": 1
           },
           {
            "bin_start": 91.2,
            "bin_end": 99,
            "count": 2
           }
          ]
         }
        },
        {
         "name": 2,
         "dtype": "int64",
         "stats": {
          "unique_count": 8,
          "nan_count": 0,
          "min": "2",
          "max": "90",
          "histogram": [
           {
            "bin_start": 2,
            "bin_end": 10.8,
            "count": 1
           },
           {
            "bin_start": 10.8,
            "bin_end": 19.6,
            "count": 1
           },
           {
            "bin_start": 19.6,
            "bin_end": 28.400000000000002,
            "count": 0
           },
           {
            "bin_start": 28.400000000000002,
            "bin_end": 37.2,
            "count": 1
           },
           {
            "bin_start": 37.2,
            "bin_end": 46,
            "count": 1
           },
           {
            "bin_start": 46,
            "bin_end": 54.800000000000004,
            "count": 0
           },
           {
            "bin_start": 54.800000000000004,
            "bin_end": 63.60000000000001,
            "count": 0
           },
           {
            "bin_start": 63.60000000000001,
            "bin_end": 72.4,
            "count": 0
           },
           {
            "bin_start": 72.4,
            "bin_end": 81.2,
            "count": 1
           },
           {
            "bin_start": 81.2,
            "bin_end": 90,
            "count": 3
           }
          ]
         }
        },
        {
         "name": 3,
         "dtype": "int64",
         "stats": {
          "unique_count": 8,
          "nan_count": 0,
          "min": "9",
          "max": "93",
          "histogram": [
           {
            "bin_start": 9,
            "bin_end": 17.4,
            "count": 1
           },
           {
            "bin_start": 17.4,
            "bin_end": 25.8,
            "count": 0
           },
           {
            "bin_start": 25.8,
            "bin_end": 34.2,
            "count": 0
           },
           {
            "bin_start": 34.2,
            "bin_end": 42.6,
            "count": 0
           },
           {
            "bin_start": 42.6,
            "bin_end": 51,
            "count": 1
           },
           {
            "bin_start": 51,
            "bin_end": 59.400000000000006,
            "count": 1
           },
           {
            "bin_start": 59.400000000000006,
            "bin_end": 67.80000000000001,
            "count": 1
           },
           {
            "bin_start": 67.80000000000001,
            "bin_end": 76.2,
            "count": 0
           },
           {
            "bin_start": 76.2,
            "bin_end": 84.60000000000001,
            "count": 2
           },
           {
            "bin_start": 84.60000000000001,
            "bin_end": 93,
            "count": 2
           }
          ]
         }
        },
        {
         "name": 4,
         "dtype": "int64",
         "stats": {
          "unique_count": 7,
          "nan_count": 0,
          "min": "9",
          "max": "93",
          "histogram": [
           {
            "bin_start": 9,
            "bin_end": 17.4,
            "count": 3
           },
           {
            "bin_start": 17.4,
            "bin_end": 25.8,
            "count": 1
           },
           {
            "bin_start": 25.8,
            "bin_end": 34.2,
            "count": 1
           },
           {
            "bin_start": 34.2,
            "bin_end": 42.6,
            "count": 1
           },
           {
            "bin_start": 42.6,
            "bin_end": 51,
            "count": 0
           },
           {
            "bin_start": 51,
            "bin_end": 59.400000000000006,
            "count": 0
           },
           {
            "bin_start": 59.400000000000006,
            "bin_end": 67.80000000000001,
            "count": 0
           },
           {
            "bin_start": 67.80000000000001,
            "bin_end": 76.2,
            "count": 1
           },
           {
            "bin_start": 76.2,
            "bin_end": 84.60000000000001,
            "count": 0
           },
           {
            "bin_start": 84.60000000000001,
            "bin_end": 93,
            "count": 1
           }
          ]
         }
        },
        {
         "name": 5,
         "dtype": "int64",
         "stats": {
          "unique_count": 7,
          "nan_count": 0,
          "min": "19",
          "max": "99",
          "histogram": [
           {
            "bin_start": 19,
            "bin_end": 27,
            "count": 1
           },
           {
            "bin_start": 27,
            "bin_end": 35,
            "count": 0
           },
           {
            "bin_start": 35,
            "bin_end": 43,
            "count": 1
           },
           {
            "bin_start": 43,
            "bin_end": 51,
            "count": 1
           },
           {
            "bin_start": 51,
            "bin_end": 59,
            "count": 0
           },
           {
            "bin_start": 59,
            "bin_end": 67,
            "count": 1
           },
           {
            "bin_start": 67,
            "bin_end": 75,
            "count": 0
           },
           {
            "bin_start": 75,
            "bin_end": 83,
            "count": 0
           },
           {
            "bin_start": 83,
            "bin_end": 91,
            "count": 2
           },
           {
            "bin_start": 91,
            "bin_end": 99,
            "count": 2
           }
          ]
         }
        },
        {
         "name": 6,
         "dtype": "int64",
         "stats": {
          "unique_count": 8,
          "nan_count": 0,
          "min": "2",
          "max": "89",
          "histogram": [
           {
            "bin_start": 2,
            "bin_end": 10.7,
            "count": 4
           },
           {
            "bin_start": 10.7,
            "bin_end": 19.4,
            "count": 0
           },
           {
            "bin_start": 19.4,
            "bin_end": 28.099999999999998,
            "count": 0
           },
           {
            "bin_start": 28.099999999999998,
            "bin_end": 36.8,
            "count": 0
           },
           {
            "bin_start": 36.8,
            "bin_end": 45.5,
            "count": 1
           },
           {
            "bin_start": 45.5,
            "bin_end": 54.199999999999996,
            "count": 1
           },
           {
            "bin_start": 54.199999999999996,
            "bin_end": 62.89999999999999,
            "count": 1
           },
           {
            "bin_start": 62.89999999999999,
            "bin_end": 71.6,
            "count": 0
           },
           {
            "bin_start": 71.6,
            "bin_end": 80.3,
            "count": 0
           },
           {
            "bin_start": 80.3,
            "bin_end": 89,
            "count": 1
           }
          ]
         }
        },
        {
         "name": 7,
         "dtype": "int64",
         "stats": {
          "unique_count": 8,
          "nan_count": 0,
          "min": "47",
          "max": "98",
          "histogram": [
           {
            "bin_start": 47,
            "bin_end": 52.1,
            "count": 2
           },
           {
            "bin_start": 52.1,
            "bin_end": 57.2,
            "count": 0
           },
           {
            "bin_start": 57.2,
            "bin_end": 62.3,
            "count": 1
           },
           {
            "bin_start": 62.3,
            "bin_end": 67.4,
            "count": 0
           },
           {
            "bin_start": 67.4,
            "bin_end": 72.5,
            "count": 2
           },
           {
            "bin_start": 72.5,
            "bin_end": 77.6,
            "count": 0
           },
           {
            "bin_start": 77.6,
            "bin_end": 82.69999999999999,
            "count": 0
           },
           {
            "bin_start": 82.69999999999999,
            "bin_end": 87.8,
            "count": 0
           },
           {
            "bin_start": 87.8,
            "bin_end": 92.9,
            "count": 2
           },
           {
            "bin_start": 92.9,
            "bin_end": 98,
            "count": 1
           }
          ]
         }
        },
        {
         "name": 8,
         "dtype": "int64",
         "stats": {
          "unique_count": 8,
          "nan_count": 0,
          "min": "4",
          "max": "92",
          "histogram": [
           {
            "bin_start": 4,
            "bin_end": 12.8,
            "count": 1
           },
           {
            "bin_start": 12.8,
            "bin_end": 21.6,
            "count": 1
           },
           {
            "bin_start": 21.6,
            "bin_end": 30.400000000000002,
            "count": 1
           },
           {
            "bin_start": 30.400000000000002,
            "bin_end": 39.2,
            "count": 2
           },
           {
            "bin_start": 39.2,
            "bin_end": 48,
            "count": 0
           },
           {
            "bin_start": 48,
            "bin_end": 56.800000000000004,
            "count": 0
           },
           {
            "bin_start": 56.800000000000004,
            "bin_end": 65.60000000000001,
            "count": 0
           },
           {
            "bin_start": 65.60000000000001,
            "bin_end": 74.4,
            "count": 0
           },
           {
            "bin_start": 74.4,
            "bin_end": 83.2,
            "count": 2
           },
           {
            "bin_start": 83.2,
            "bin_end": 92,
            "count": 1
           }
          ]
         }
        },
        {
         "name": 9,
         "dtype": "int64",
         "stats": {
          "unique_count": 8,
          "nan_count": 0,
          "min": "10",
          "max": "98",
          "histogram": [
           {
            "bin_start": 10,
            "bin_end": 18.8,
            "count": 2
           },
           {
            "bin_start": 18.8,
            "bin_end": 27.6,
            "count": 3
           },
           {
            "bin_start": 27.6,
            "bin_end": 36.400000000000006,
            "count": 1
           },
           {
            "bin_start": 36.400000000000006,
            "bin_end": 45.2,
            "count": 0
           },
           {
            "bin_start": 45.2,
            "bin_end": 54,
            "count": 0
           },
           {
            "bin_start": 54,
            "bin_end": 62.800000000000004,
            "count": 1
           },
           {
            "bin_start": 62.800000000000004,
            "bin_end": 71.60000000000001,
            "count": 0
           },
           {
            "bin_start": 71.60000000000001,
            "bin_end": 80.4,
            "count": 0
           },
           {
            "bin_start": 80.4,
            "bin_end": 89.2,
            "count": 0
           },
           {
            "bin_start": 89.2,
            "bin_end": 98,
            "count": 1
           }
          ]
         }
        },
        {
         "name": "median",
         "dtype": "float64",
         "stats": {
          "unique_count": 8,
          "nan_count": 0,
          "min": "17.5",
          "max": "77.5",
          "histogram": [
           {
            "bin_start": 17.5,
            "bin_end": 23.5,
            "count": 1
           },
           {
            "bin_start": 23.5,
            "bin_end": 29.5,
            "count": 0
           },
           {
            "bin_start": 29.5,
            "bin_end": 35.5,
            "count": 1
           },
           {
            "bin_start": 35.5,
            "bin_end": 41.5,
            "count": 0
           },
           {
            "bin_start": 41.5,
            "bin_end": 47.5,
            "count": 1
           },
           {
            "bin_start": 47.5,
            "bin_end": 53.5,
            "count": 2
           },
           {
            "bin_start": 53.5,
            "bin_end": 59.5,
            "count": 0
           },
           {
            "bin_start": 59.5,
            "bin_end": 65.5,
            "count": 1
           },
           {
            "bin_start": 65.5,
            "bin_end": 71.5,
            "count": 0
           },
           {
            "bin_start": 71.5,
            "bin_end": 77.5,
            "count": 2
           }
          ]
         }
        },
        {
         "name": "_deepnote_index_column",
         "dtype": "int64"
        }
       ],
       "rows_top": [
        {
         "0": 59,
         "1": 99,
         "2": 11,
         "3": 84,
         "4": 71,
         "5": 99,
         "6": 89,
         "7": 62,
         "8": 37,
         "9": 98,
         "median": 77.5,
         "_deepnote_index_column": 0
        },
        {
         "0": 33,
         "1": 83,
         "2": 33,
         "3": 48,
         "4": 93,
         "5": 95,
         "6": 44,
         "7": 89,
         "8": 75,
         "9": 27,
         "median": 61.5,
         "_deepnote_index_column": 1
        },
        {
         "0": 60,
         "1": 87,
         "2": 2,
         "3": 9,
         "4": 9,
         "5": 19,
         "6": 2,
         "7": 47,
         "8": 16,
         "9": 29,
         "median": 17.5,
         "_deepnote_index_column": 2
        },
        {
         "0": 45,
         "1": 73,
         "2": 90,
         "3": 93,
         "4": 25,
         "5": 88,
         "6": 49,
         "7": 98,
         "8": 79,
         "9": 26,
         "median": 76,
         "_deepnote_index_column": 3
        },
        {
         "0": 38,
         "1": 49,
         "2": 78,
         "3": 79,
         "4": 40,
         "5": 61,
         "6": 56,
         "7": 90,
         "8": 4,
         "9": 20,
         "median": 52.5,
         "_deepnote_index_column": 4
        },
        {
         "0": 6,
         "1": 21,
         "2": 86,
         "3": 56,
         "4": 12,
         "5": 45,
         "6": 8,
         "7": 70,
         "8": 92,
         "9": 14,
         "median": 33,
         "_deepnote_index_column": 5
        },
        {
         "0": 50,
         "1": 28,
         "2": 44,
         "3": 60,
         "4": 34,
         "5": 40,
         "6": 7,
         "7": 52,
         "8": 26,
         "9": 62,
         "median": 42,
         "_deepnote_index_column": 6
        },
        {
         "0": 16,
         "1": 94,
         "2": 84,
         "3": 90,
         "4": 12,
         "5": 88,
         "6": 10,
         "7": 69,
         "8": 35,
         "9": 10,
         "median": 52,
         "_deepnote_index_column": 7
        }
       ],
       "rows_bottom": null
      },
      "text/plain": "    0   1   2   3   4   5   6   7   8   9  median\n0  59  99  11  84  71  99  89  62  37  98    77.5\n1  33  83  33  48  93  95  44  89  75  27    61.5\n2  60  87   2   9   9  19   2  47  16  29    17.5\n3  45  73  90  93  25  88  49  98  79  26    76.0\n4  38  49  78  79  40  61  56  90   4  20    52.5\n5   6  21  86  56  12  45   8  70  92  14    33.0\n6  50  28  44  60  34  40   7  52  26  62    42.0\n7  16  94  84  90  12  88  10  69  35  10    52.0",
      "text/html": "<div>\n<style scoped>\n    .dataframe tbody tr th:only-of-type {\n        vertical-align: middle;\n    }\n\n    .dataframe tbody tr th {\n        vertical-align: top;\n    }\n\n    .dataframe thead th {\n        text-align: right;\n    }\n</style>\n<table border=\"1\" class=\"dataframe\">\n  <thead>\n    <tr style=\"text-align: right;\">\n      <th></th>\n      <th>0</th>\n      <th>1</th>\n      <th>2</th>\n      <th>3</th>\n      <th>4</th>\n      <th>5</th>\n      <th>6</th>\n      <th>7</th>\n      <th>8</th>\n      <th>9</th>\n      <th>median</th>\n    </tr>\n  </thead>\n  <tbody>\n    <tr>\n      <th>0</th>\n      <td>59</td>\n      <td>99</td>\n      <td>11</td>\n      <td>84</td>\n      <td>71</td>\n      <td>99</td>\n      <td>89</td>\n      <td>62</td>\n      <td>37</td>\n      <td>98</td>\n      <td>77.5</td>\n    </tr>\n    <tr>\n      <th>1</th>\n      <td>33</td>\n      <td>83</td>\n      <td>33</td>\n      <td>48</td>\n      <td>93</td>\n      <td>95</td>\n      <td>44</td>\n      <td>89</td>\n      <td>75</td>\n      <td>27</td>\n      <td>61.5</td>\n    </tr>\n    <tr>\n      <th>2</th>\n      <td>60</td>\n      <td>87</td>\n      <td>2</td>\n      <td>9</td>\n      <td>9</td>\n      <td>19</td>\n      <td>2</td>\n      <td>47</td>\n      <td>16</td>\n      <td>29</td>\n      <td>17.5</td>\n    </tr>\n    <tr>\n      <th>3</th>\n      <td>45</td>\n      <td>73</td>\n      <td>90</td>\n      <td>93</td>\n      <td>25</td>\n      <td>88</td>\n      <td>49</td>\n      <td>98</td>\n      <td>79</td>\n      <td>26</td>\n      <td>76.0</td>\n    </tr>\n    <tr>\n      <th>4</th>\n      <td>38</td>\n      <td>49</td>\n      <td>78</td>\n      <td>79</td>\n      <td>40</td>\n      <td>61</td>\n      <td>56</td>\n      <td>90</td>\n      <td>4</td>\n      <td>20</td>\n      <td>52.5</td>\n    </tr>\n    <tr>\n      <th>5</th>\n      <td>6</td>\n      <td>21</td>\n      <td>86</td>\n      <td>56</td>\n      <td>12</td>\n      <td>45</td>\n      <td>8</td>\n      <td>70</td>\n      <td>92</td>\n      <td>14</td>\n      <td>33.0</td>\n    </tr>\n    <tr>\n      <th>6</th>\n      <td>50</td>\n      <td>28</td>\n      <td>44</td>\n      <td>60</td>\n      <td>34</td>\n      <td>40</td>\n      <td>7</td>\n      <td>52</td>\n      <td>26</td>\n      <td>62</td>\n      <td>42.0</td>\n    </tr>\n    <tr>\n      <th>7</th>\n      <td>16</td>\n      <td>94</td>\n      <td>84</td>\n      <td>90</td>\n      <td>12</td>\n      <td>88</td>\n      <td>10</td>\n      <td>69</td>\n      <td>35</td>\n      <td>10</td>\n      <td>52.0</td>\n    </tr>\n  </tbody>\n</table>\n</div>"
     },
     "metadata": {}
    }
   ]
  },
  {
   "cell_type": "markdown",
   "source": "Group by `apple` and then display all entries in that gorup",
   "metadata": {
    "tags": [],
    "cell_id": "00049-b20286ae-dccf-4005-9d9d-bc68c2cb0445",
    "deepnote_cell_type": "markdown"
   }
  },
  {
   "cell_type": "code",
   "metadata": {
    "tags": [],
    "cell_id": "00050-c49f9642-fef8-4e20-a140-e987c25b0fed",
    "deepnote_to_be_reexecuted": false,
    "source_hash": "d7bd23f6",
    "execution_start": 1629133507735,
    "execution_millis": 5,
    "output_cleared": false,
    "deepnote_cell_type": "code"
   },
   "source": "df = pd.DataFrame({'product': ['apple', 'banana', 'orange'] * 3,\n                   'price': np.random.rand(9),\n                   'quantity': np.random.randint(0, 15, 9)})\n\ngrouped = df.groupby(df[\"product\"])\n\nfor i, group in grouped:\n    print(i, group)\n\ngrouped.get_group(\"apple\")",
   "execution_count": null,
   "outputs": []
  },
  {
   "cell_type": "code",
   "metadata": {
    "tags": [],
    "cell_id": "00051-fedaa2c8-1e80-4421-89be-26def34aa7e7",
    "deepnote_to_be_reexecuted": false,
    "source_hash": "bd87c278",
    "execution_start": 1629060624030,
    "execution_millis": 19,
    "deepnote_cell_type": "code"
   },
   "source": "df.groupby(df[\"product\"] == \"apple\").agg(sum) ",
   "execution_count": null,
   "outputs": [
    {
     "output_type": "execute_result",
     "execution_count": 94,
     "data": {
      "application/vnd.deepnote.dataframe.v2+json": {
       "row_count": 2,
       "column_count": 2,
       "columns": [
        {
         "name": "price",
         "dtype": "float64",
         "stats": {
          "unique_count": 2,
          "nan_count": 0,
          "min": "0.5058694961083549",
          "max": "2.732819243650051",
          "histogram": [
           {
            "bin_start": 0.5058694961083549,
            "bin_end": 0.7285644708625245,
            "count": 1
           },
           {
            "bin_start": 0.7285644708625245,
            "bin_end": 0.9512594456166941,
            "count": 0
           },
           {
            "bin_start": 0.9512594456166941,
            "bin_end": 1.1739544203708636,
            "count": 0
           },
           {
            "bin_start": 1.1739544203708636,
            "bin_end": 1.3966493951250332,
            "count": 0
           },
           {
            "bin_start": 1.3966493951250332,
            "bin_end": 1.6193443698792027,
            "count": 0
           },
           {
            "bin_start": 1.6193443698792027,
            "bin_end": 1.8420393446333727,
            "count": 0
           },
           {
            "bin_start": 1.8420393446333727,
            "bin_end": 2.0647343193875423,
            "count": 0
           },
           {
            "bin_start": 2.0647343193875423,
            "bin_end": 2.287429294141712,
            "count": 0
           },
           {
            "bin_start": 2.287429294141712,
            "bin_end": 2.5101242688958814,
            "count": 0
           },
           {
            "bin_start": 2.5101242688958814,
            "bin_end": 2.732819243650051,
            "count": 1
           }
          ]
         }
        },
        {
         "name": "quantity",
         "dtype": "int64",
         "stats": {
          "unique_count": 2,
          "nan_count": 0,
          "min": "15",
          "max": "42",
          "histogram": [
           {
            "bin_start": 15,
            "bin_end": 17.7,
            "count": 1
           },
           {
            "bin_start": 17.7,
            "bin_end": 20.4,
            "count": 0
           },
           {
            "bin_start": 20.4,
            "bin_end": 23.1,
            "count": 0
           },
           {
            "bin_start": 23.1,
            "bin_end": 25.8,
            "count": 0
           },
           {
            "bin_start": 25.8,
            "bin_end": 28.5,
            "count": 0
           },
           {
            "bin_start": 28.5,
            "bin_end": 31.200000000000003,
            "count": 0
           },
           {
            "bin_start": 31.200000000000003,
            "bin_end": 33.900000000000006,
            "count": 0
           },
           {
            "bin_start": 33.900000000000006,
            "bin_end": 36.6,
            "count": 0
           },
           {
            "bin_start": 36.6,
            "bin_end": 39.3,
            "count": 0
           },
           {
            "bin_start": 39.3,
            "bin_end": 42,
            "count": 1
           }
          ]
         }
        },
        {
         "name": "_deepnote_index_column",
         "dtype": "object"
        }
       ],
       "rows_top": [
        {
         "price": 2.732819243650051,
         "quantity": 42,
         "_deepnote_index_column": "False"
        },
        {
         "price": 0.5058694961083549,
         "quantity": 15,
         "_deepnote_index_column": "True"
        }
       ],
       "rows_bottom": null
      },
      "text/plain": "            price  quantity\nproduct                    \nFalse    2.732819        42\nTrue     0.505869        15",
      "text/html": "<div>\n<style scoped>\n    .dataframe tbody tr th:only-of-type {\n        vertical-align: middle;\n    }\n\n    .dataframe tbody tr th {\n        vertical-align: top;\n    }\n\n    .dataframe thead th {\n        text-align: right;\n    }\n</style>\n<table border=\"1\" class=\"dataframe\">\n  <thead>\n    <tr style=\"text-align: right;\">\n      <th></th>\n      <th>price</th>\n      <th>quantity</th>\n    </tr>\n    <tr>\n      <th>product</th>\n      <th></th>\n      <th></th>\n    </tr>\n  </thead>\n  <tbody>\n    <tr>\n      <th>False</th>\n      <td>2.732819</td>\n      <td>42</td>\n    </tr>\n    <tr>\n      <th>True</th>\n      <td>0.505869</td>\n      <td>15</td>\n    </tr>\n  </tbody>\n</table>\n</div>"
     },
     "metadata": {}
    }
   ]
  },
  {
   "cell_type": "markdown",
   "source": "What is the mean `price`and `qunatity` of evry `product`? ",
   "metadata": {
    "tags": [],
    "cell_id": "00051-f5f4bcc6-d4b3-43ee-bdbd-77615a95c60f",
    "deepnote_cell_type": "markdown"
   }
  },
  {
   "cell_type": "code",
   "metadata": {
    "tags": [],
    "cell_id": "00051-64b0ebd0-e7a1-4417-acfb-bf6081436f8a",
    "deepnote_to_be_reexecuted": false,
    "source_hash": "5241e24e",
    "execution_start": 1629133797632,
    "execution_millis": 42,
    "deepnote_cell_type": "code"
   },
   "source": "df = pd.DataFrame({'product': ['apple', 'banana', 'orange'] * 3,\n                   'price': np.random.rand(9),\n                   'quantity': np.random.randint(0, 15, 9)})\n                   \ndf.groupby(\"product\")[\"price\", \"quantity\"].agg([\"min\", \"max\"])",
   "execution_count": null,
   "outputs": [
    {
     "name": "stderr",
     "text": "/shared-libs/python3.7/py-core/lib/python3.7/site-packages/ipykernel_launcher.py:5: FutureWarning: Indexing with multiple keys (implicitly converted to a tuple of keys) will be deprecated, use a list instead.\n  \"\"\"\n",
     "output_type": "stream"
    },
    {
     "output_type": "execute_result",
     "execution_count": 276,
     "data": {
      "application/vnd.deepnote.dataframe.v2+json": {
       "row_count": 3,
       "column_count": 4,
       "columns": [
        {
         "name": [
          "price",
          "min"
         ],
         "dtype": "float64",
         "stats": {
          "unique_count": 3,
          "nan_count": 0,
          "min": "0.14313953056301043",
          "max": "0.4191985288725033",
          "histogram": [
           {
            "bin_start": 0.14313953056301043,
            "bin_end": 0.17074543039395973,
            "count": 1
           },
           {
            "bin_start": 0.17074543039395973,
            "bin_end": 0.198351330224909,
            "count": 0
           },
           {
            "bin_start": 0.198351330224909,
            "bin_end": 0.2259572300558583,
            "count": 0
           },
           {
            "bin_start": 0.2259572300558583,
            "bin_end": 0.25356312988680757,
            "count": 0
           },
           {
            "bin_start": 0.25356312988680757,
            "bin_end": 0.28116902971775687,
            "count": 0
           },
           {
            "bin_start": 0.28116902971775687,
            "bin_end": 0.30877492954870617,
            "count": 0
           },
           {
            "bin_start": 0.30877492954870617,
            "bin_end": 0.3363808293796554,
            "count": 0
           },
           {
            "bin_start": 0.3363808293796554,
            "bin_end": 0.3639867292106047,
            "count": 1
           },
           {
            "bin_start": 0.3639867292106047,
            "bin_end": 0.391592629041554,
            "count": 0
           },
           {
            "bin_start": 0.391592629041554,
            "bin_end": 0.4191985288725033,
            "count": 1
           }
          ]
         }
        },
        {
         "name": [
          "price",
          "max"
         ],
         "dtype": "float64",
         "stats": {
          "unique_count": 3,
          "nan_count": 0,
          "min": "0.5379117602704724",
          "max": "0.8842084798223475",
          "histogram": [
           {
            "bin_start": 0.5379117602704724,
            "bin_end": 0.5725414322256599,
            "count": 1
           },
           {
            "bin_start": 0.5725414322256599,
            "bin_end": 0.6071711041808474,
            "count": 0
           },
           {
            "bin_start": 0.6071711041808474,
            "bin_end": 0.6418007761360349,
            "count": 0
           },
           {
            "bin_start": 0.6418007761360349,
            "bin_end": 0.6764304480912224,
            "count": 0
           },
           {
            "bin_start": 0.6764304480912224,
            "bin_end": 0.71106012004641,
            "count": 1
           },
           {
            "bin_start": 0.71106012004641,
            "bin_end": 0.7456897920015975,
            "count": 0
           },
           {
            "bin_start": 0.7456897920015975,
            "bin_end": 0.780319463956785,
            "count": 0
           },
           {
            "bin_start": 0.780319463956785,
            "bin_end": 0.8149491359119725,
            "count": 0
           },
           {
            "bin_start": 0.8149491359119725,
            "bin_end": 0.84957880786716,
            "count": 0
           },
           {
            "bin_start": 0.84957880786716,
            "bin_end": 0.8842084798223475,
            "count": 1
           }
          ]
         }
        },
        {
         "name": [
          "quantity",
          "min"
         ],
         "dtype": "int64",
         "stats": {
          "unique_count": 3,
          "nan_count": 0,
          "min": "3",
          "max": "10",
          "histogram": [
           {
            "bin_start": 3,
            "bin_end": 3.7,
            "count": 1
           },
           {
            "bin_start": 3.7,
            "bin_end": 4.4,
            "count": 1
           },
           {
            "bin_start": 4.4,
            "bin_end": 5.1,
            "count": 0
           },
           {
            "bin_start": 5.1,
            "bin_end": 5.8,
            "count": 0
           },
           {
            "bin_start": 5.8,
            "bin_end": 6.5,
            "count": 0
           },
           {
            "bin_start": 6.5,
            "bin_end": 7.199999999999999,
            "count": 0
           },
           {
            "bin_start": 7.199999999999999,
            "bin_end": 7.8999999999999995,
            "count": 0
           },
           {
            "bin_start": 7.8999999999999995,
            "bin_end": 8.6,
            "count": 0
           },
           {
            "bin_start": 8.6,
            "bin_end": 9.3,
            "count": 0
           },
           {
            "bin_start": 9.3,
            "bin_end": 10,
            "count": 1
           }
          ]
         }
        },
        {
         "name": [
          "quantity",
          "max"
         ],
         "dtype": "int64",
         "stats": {
          "unique_count": 3,
          "nan_count": 0,
          "min": "9",
          "max": "14",
          "histogram": [
           {
            "bin_start": 9,
            "bin_end": 9.5,
            "count": 1
           },
           {
            "bin_start": 9.5,
            "bin_end": 10,
            "count": 0
           },
           {
            "bin_start": 10,
            "bin_end": 10.5,
            "count": 0
           },
           {
            "bin_start": 10.5,
            "bin_end": 11,
            "count": 0
           },
           {
            "bin_start": 11,
            "bin_end": 11.5,
            "count": 0
           },
           {
            "bin_start": 11.5,
            "bin_end": 12,
            "count": 0
           },
           {
            "bin_start": 12,
            "bin_end": 12.5,
            "count": 0
           },
           {
            "bin_start": 12.5,
            "bin_end": 13,
            "count": 0
           },
           {
            "bin_start": 13,
            "bin_end": 13.5,
            "count": 1
           },
           {
            "bin_start": 13.5,
            "bin_end": 14,
            "count": 1
           }
          ]
         }
        },
        {
         "name": "_deepnote_index_column",
         "dtype": "object"
        }
       ],
       "rows_top": [
        {
         "('price', 'min')": 0.3581357383260755,
         "('price', 'max')": 0.5379117602704724,
         "('quantity', 'min')": 3,
         "('quantity', 'max')": 14,
         "_deepnote_index_column": "apple"
        },
        {
         "('price', 'min')": 0.14313953056301043,
         "('price', 'max')": 0.8842084798223475,
         "('quantity', 'min')": 4,
         "('quantity', 'max')": 9,
         "_deepnote_index_column": "banana"
        },
        {
         "('price', 'min')": 0.4191985288725033,
         "('price', 'max')": 0.6902266786053388,
         "('quantity', 'min')": 10,
         "('quantity', 'max')": 13,
         "_deepnote_index_column": "orange"
        }
       ],
       "rows_bottom": null
      },
      "text/plain": "            price           quantity    \n              min       max      min max\nproduct                                 \napple    0.358136  0.537912        3  14\nbanana   0.143140  0.884208        4   9\norange   0.419199  0.690227       10  13",
      "text/html": "<div>\n<style scoped>\n    .dataframe tbody tr th:only-of-type {\n        vertical-align: middle;\n    }\n\n    .dataframe tbody tr th {\n        vertical-align: top;\n    }\n\n    .dataframe thead tr th {\n        text-align: left;\n    }\n\n    .dataframe thead tr:last-of-type th {\n        text-align: right;\n    }\n</style>\n<table border=\"1\" class=\"dataframe\">\n  <thead>\n    <tr>\n      <th></th>\n      <th colspan=\"2\" halign=\"left\">price</th>\n      <th colspan=\"2\" halign=\"left\">quantity</th>\n    </tr>\n    <tr>\n      <th></th>\n      <th>min</th>\n      <th>max</th>\n      <th>min</th>\n      <th>max</th>\n    </tr>\n    <tr>\n      <th>product</th>\n      <th></th>\n      <th></th>\n      <th></th>\n      <th></th>\n    </tr>\n  </thead>\n  <tbody>\n    <tr>\n      <th>apple</th>\n      <td>0.358136</td>\n      <td>0.537912</td>\n      <td>3</td>\n      <td>14</td>\n    </tr>\n    <tr>\n      <th>banana</th>\n      <td>0.143140</td>\n      <td>0.884208</td>\n      <td>4</td>\n      <td>9</td>\n    </tr>\n    <tr>\n      <th>orange</th>\n      <td>0.419199</td>\n      <td>0.690227</td>\n      <td>10</td>\n      <td>13</td>\n    </tr>\n  </tbody>\n</table>\n</div>"
     },
     "metadata": {}
    }
   ]
  },
  {
   "cell_type": "markdown",
   "source": "Join these dataframes by 2 columns `fruit` > `froot`, `weight` > `kilo`, so they have only the common rows.",
   "metadata": {
    "tags": [],
    "cell_id": "00053-79d15df4-ba5f-473b-9d6a-7e4ae33a61d8",
    "deepnote_cell_type": "markdown"
   }
  },
  {
   "cell_type": "code",
   "metadata": {
    "tags": [],
    "cell_id": "00053-ed4b0d81-7cd0-414e-9cca-a0b28c0b0848",
    "deepnote_to_be_reexecuted": false,
    "source_hash": "dd081cce",
    "execution_start": 1629110548668,
    "execution_millis": 45,
    "deepnote_cell_type": "code"
   },
   "source": "df1 = pd.DataFrame({'fruit': ['apple', 'banana', 'orange'] * 3,\n                    'weight': ['high', 'medium', 'low'] * 3,\n                    'price': np.random.randint(0, 15, 9)})\n\ndf2 = pd.DataFrame({'froot': ['apple', 'orange', 'pine'] * 2,\n                    'kilo': ['high', 'low'] * 3,\n                    'price': np.random.randint(0, 15, 6)})\n\nresult = pd.merge(df1,df2,left_on=['fruit','weight'],right_on=['froot','kilo'])\n\nresult                    ",
   "execution_count": null,
   "outputs": [
    {
     "output_type": "execute_result",
     "execution_count": 20,
     "data": {
      "application/vnd.deepnote.dataframe.v2+json": {
       "row_count": 6,
       "column_count": 6,
       "columns": [
        {
         "name": "fruit",
         "dtype": "object",
         "stats": {
          "unique_count": 2,
          "nan_count": 0,
          "categories": [
           {
            "name": "apple",
            "count": 3
           },
           {
            "name": "orange",
            "count": 3
           }
          ]
         }
        },
        {
         "name": "weight",
         "dtype": "object",
         "stats": {
          "unique_count": 2,
          "nan_count": 0,
          "categories": [
           {
            "name": "high",
            "count": 3
           },
           {
            "name": "low",
            "count": 3
           }
          ]
         }
        },
        {
         "name": "price_x",
         "dtype": "int64",
         "stats": {
          "unique_count": 5,
          "nan_count": 0,
          "min": "5",
          "max": "14",
          "histogram": [
           {
            "bin_start": 5,
            "bin_end": 5.9,
            "count": 1
           },
           {
            "bin_start": 5.9,
            "bin_end": 6.8,
            "count": 0
           },
           {
            "bin_start": 6.8,
            "bin_end": 7.7,
            "count": 1
           },
           {
            "bin_start": 7.7,
            "bin_end": 8.6,
            "count": 0
           },
           {
            "bin_start": 8.6,
            "bin_end": 9.5,
            "count": 0
           },
           {
            "bin_start": 9.5,
            "bin_end": 10.4,
            "count": 1
           },
           {
            "bin_start": 10.4,
            "bin_end": 11.3,
            "count": 0
           },
           {
            "bin_start": 11.3,
            "bin_end": 12.2,
            "count": 1
           },
           {
            "bin_start": 12.2,
            "bin_end": 13.1,
            "count": 0
           },
           {
            "bin_start": 13.1,
            "bin_end": 14,
            "count": 2
           }
          ]
         }
        },
        {
         "name": "froot",
         "dtype": "object",
         "stats": {
          "unique_count": 2,
          "nan_count": 0,
          "categories": [
           {
            "name": "apple",
            "count": 3
           },
           {
            "name": "orange",
            "count": 3
           }
          ]
         }
        },
        {
         "name": "kilo",
         "dtype": "object",
         "stats": {
          "unique_count": 2,
          "nan_count": 0,
          "categories": [
           {
            "name": "high",
            "count": 3
           },
           {
            "name": "low",
            "count": 3
           }
          ]
         }
        },
        {
         "name": "price_y",
         "dtype": "int64",
         "stats": {
          "unique_count": 2,
          "nan_count": 0,
          "min": "4",
          "max": "14",
          "histogram": [
           {
            "bin_start": 4,
            "bin_end": 5,
            "count": 3
           },
           {
            "bin_start": 5,
            "bin_end": 6,
            "count": 0
           },
           {
            "bin_start": 6,
            "bin_end": 7,
            "count": 0
           },
           {
            "bin_start": 7,
            "bin_end": 8,
            "count": 0
           },
           {
            "bin_start": 8,
            "bin_end": 9,
            "count": 0
           },
           {
            "bin_start": 9,
            "bin_end": 10,
            "count": 0
           },
           {
            "bin_start": 10,
            "bin_end": 11,
            "count": 0
           },
           {
            "bin_start": 11,
            "bin_end": 12,
            "count": 0
           },
           {
            "bin_start": 12,
            "bin_end": 13,
            "count": 0
           },
           {
            "bin_start": 13,
            "bin_end": 14,
            "count": 3
           }
          ]
         }
        },
        {
         "name": "_deepnote_index_column",
         "dtype": "int64"
        }
       ],
       "rows_top": [
        {
         "fruit": "apple",
         "weight": "high",
         "price_x": 10,
         "froot": "apple",
         "kilo": "high",
         "price_y": 14,
         "_deepnote_index_column": 0
        },
        {
         "fruit": "apple",
         "weight": "high",
         "price_x": 5,
         "froot": "apple",
         "kilo": "high",
         "price_y": 14,
         "_deepnote_index_column": 1
        },
        {
         "fruit": "apple",
         "weight": "high",
         "price_x": 7,
         "froot": "apple",
         "kilo": "high",
         "price_y": 14,
         "_deepnote_index_column": 2
        },
        {
         "fruit": "orange",
         "weight": "low",
         "price_x": 14,
         "froot": "orange",
         "kilo": "low",
         "price_y": 4,
         "_deepnote_index_column": 3
        },
        {
         "fruit": "orange",
         "weight": "low",
         "price_x": 14,
         "froot": "orange",
         "kilo": "low",
         "price_y": 4,
         "_deepnote_index_column": 4
        },
        {
         "fruit": "orange",
         "weight": "low",
         "price_x": 12,
         "froot": "orange",
         "kilo": "low",
         "price_y": 4,
         "_deepnote_index_column": 5
        }
       ],
       "rows_bottom": null
      },
      "text/plain": "    fruit weight  price_x   froot  kilo  price_y\n0   apple   high       10   apple  high       14\n1   apple   high        5   apple  high       14\n2   apple   high        7   apple  high       14\n3  orange    low       14  orange   low        4\n4  orange    low       14  orange   low        4\n5  orange    low       12  orange   low        4",
      "text/html": "<div>\n<style scoped>\n    .dataframe tbody tr th:only-of-type {\n        vertical-align: middle;\n    }\n\n    .dataframe tbody tr th {\n        vertical-align: top;\n    }\n\n    .dataframe thead th {\n        text-align: right;\n    }\n</style>\n<table border=\"1\" class=\"dataframe\">\n  <thead>\n    <tr style=\"text-align: right;\">\n      <th></th>\n      <th>fruit</th>\n      <th>weight</th>\n      <th>price_x</th>\n      <th>froot</th>\n      <th>kilo</th>\n      <th>price_y</th>\n    </tr>\n  </thead>\n  <tbody>\n    <tr>\n      <th>0</th>\n      <td>apple</td>\n      <td>high</td>\n      <td>10</td>\n      <td>apple</td>\n      <td>high</td>\n      <td>14</td>\n    </tr>\n    <tr>\n      <th>1</th>\n      <td>apple</td>\n      <td>high</td>\n      <td>5</td>\n      <td>apple</td>\n      <td>high</td>\n      <td>14</td>\n    </tr>\n    <tr>\n      <th>2</th>\n      <td>apple</td>\n      <td>high</td>\n      <td>7</td>\n      <td>apple</td>\n      <td>high</td>\n      <td>14</td>\n    </tr>\n    <tr>\n      <th>3</th>\n      <td>orange</td>\n      <td>low</td>\n      <td>14</td>\n      <td>orange</td>\n      <td>low</td>\n      <td>4</td>\n    </tr>\n    <tr>\n      <th>4</th>\n      <td>orange</td>\n      <td>low</td>\n      <td>14</td>\n      <td>orange</td>\n      <td>low</td>\n      <td>4</td>\n    </tr>\n    <tr>\n      <th>5</th>\n      <td>orange</td>\n      <td>low</td>\n      <td>12</td>\n      <td>orange</td>\n      <td>low</td>\n      <td>4</td>\n    </tr>\n  </tbody>\n</table>\n</div>"
     },
     "metadata": {}
    }
   ]
  },
  {
   "cell_type": "markdown",
   "source": "Remove rows from `df1` that are present in `df2`",
   "metadata": {
    "tags": [],
    "cell_id": "00055-1d2d22de-83d5-4678-843b-45ec6f604419",
    "deepnote_cell_type": "markdown"
   }
  },
  {
   "cell_type": "code",
   "metadata": {
    "tags": [],
    "cell_id": "00055-03ae6d43-6423-4d40-82a1-88a3f4a7e6cb",
    "deepnote_to_be_reexecuted": false,
    "source_hash": "1a40d744",
    "execution_start": 1629113103692,
    "execution_millis": 40,
    "deepnote_cell_type": "code"
   },
   "source": "df1 = pd.DataFrame({'fruit': ['apple', 'orange', 'banana'] * 3,\n                    'weight': ['high', 'medium', 'low'] * 3,\n                    'price': np.arange(9)})\n\ndf2 = pd.DataFrame({'fruit': ['apple', 'orange', 'pine'] * 2,\n                    'weight': ['high', 'medium'] * 3,\n                    'price': np.arange(6)})\n\ndf1= df1[~df1.isin(df2)].dropna()\n\ndf1\n",
   "execution_count": null,
   "outputs": [
    {
     "output_type": "execute_result",
     "execution_count": 67,
     "data": {
      "application/vnd.deepnote.dataframe.v2+json": {
       "row_count": 3,
       "column_count": 3,
       "columns": [
        {
         "name": "fruit",
         "dtype": "object",
         "stats": {
          "unique_count": 3,
          "nan_count": 0,
          "categories": [
           {
            "name": "apple",
            "count": 1
           },
           {
            "name": "orange",
            "count": 1
           },
           {
            "name": "banana",
            "count": 1
           }
          ]
         }
        },
        {
         "name": "weight",
         "dtype": "object",
         "stats": {
          "unique_count": 3,
          "nan_count": 0,
          "categories": [
           {
            "name": "high",
            "count": 1
           },
           {
            "name": "medium",
            "count": 1
           },
           {
            "name": "low",
            "count": 1
           }
          ]
         }
        },
        {
         "name": "price",
         "dtype": "float64",
         "stats": {
          "unique_count": 3,
          "nan_count": 0,
          "min": "6.0",
          "max": "8.0",
          "histogram": [
           {
            "bin_start": 6,
            "bin_end": 6.2,
            "count": 1
           },
           {
            "bin_start": 6.2,
            "bin_end": 6.4,
            "count": 0
           },
           {
            "bin_start": 6.4,
            "bin_end": 6.6,
            "count": 0
           },
           {
            "bin_start": 6.6,
            "bin_end": 6.8,
            "count": 0
           },
           {
            "bin_start": 6.8,
            "bin_end": 7,
            "count": 0
           },
           {
            "bin_start": 7,
            "bin_end": 7.2,
            "count": 1
           },
           {
            "bin_start": 7.2,
            "bin_end": 7.4,
            "count": 0
           },
           {
            "bin_start": 7.4,
            "bin_end": 7.6,
            "count": 0
           },
           {
            "bin_start": 7.6,
            "bin_end": 7.8,
            "count": 0
           },
           {
            "bin_start": 7.8,
            "bin_end": 8,
            "count": 1
           }
          ]
         }
        },
        {
         "name": "_deepnote_index_column",
         "dtype": "int64"
        }
       ],
       "rows_top": [
        {
         "fruit": "apple",
         "weight": "high",
         "price": 6,
         "_deepnote_index_column": 6
        },
        {
         "fruit": "orange",
         "weight": "medium",
         "price": 7,
         "_deepnote_index_column": 7
        },
        {
         "fruit": "banana",
         "weight": "low",
         "price": 8,
         "_deepnote_index_column": 8
        }
       ],
       "rows_bottom": null
      },
      "text/plain": "    fruit  weight  price\n6   apple    high    6.0\n7  orange  medium    7.0\n8  banana     low    8.0",
      "text/html": "<div>\n<style scoped>\n    .dataframe tbody tr th:only-of-type {\n        vertical-align: middle;\n    }\n\n    .dataframe tbody tr th {\n        vertical-align: top;\n    }\n\n    .dataframe thead th {\n        text-align: right;\n    }\n</style>\n<table border=\"1\" class=\"dataframe\">\n  <thead>\n    <tr style=\"text-align: right;\">\n      <th></th>\n      <th>fruit</th>\n      <th>weight</th>\n      <th>price</th>\n    </tr>\n  </thead>\n  <tbody>\n    <tr>\n      <th>6</th>\n      <td>apple</td>\n      <td>high</td>\n      <td>6.0</td>\n    </tr>\n    <tr>\n      <th>7</th>\n      <td>orange</td>\n      <td>medium</td>\n      <td>7.0</td>\n    </tr>\n    <tr>\n      <th>8</th>\n      <td>banana</td>\n      <td>low</td>\n      <td>8.0</td>\n    </tr>\n  </tbody>\n</table>\n</div>"
     },
     "metadata": {}
    }
   ]
  },
  {
   "cell_type": "markdown",
   "source": "How many times is every value present in the dataframe?",
   "metadata": {
    "tags": [],
    "cell_id": "00057-d5817456-8bf9-42d5-906f-ffe8f0fcadfe",
    "deepnote_cell_type": "markdown"
   }
  },
  {
   "cell_type": "code",
   "metadata": {
    "tags": [],
    "cell_id": "00057-48059c7e-994b-411a-8c34-f2877eba04b3",
    "deepnote_to_be_reexecuted": false,
    "source_hash": "b3264a98",
    "execution_start": 1629113943342,
    "execution_millis": 0,
    "deepnote_cell_type": "code"
   },
   "source": "df = pd.DataFrame(np.random.randint(1, 10, 20).reshape(-1, 4), columns = list('abcd'))\ndf.value_counts()\n",
   "execution_count": null,
   "outputs": [
    {
     "output_type": "execute_result",
     "execution_count": 72,
     "data": {
      "application/vnd.deepnote.dataframe.v2+json": {
       "row_count": 5,
       "column_count": 4,
       "columns": [
        {
         "name": "a",
         "dtype": "int64",
         "stats": {
          "unique_count": 4,
          "nan_count": 0,
          "min": "2",
          "max": "6",
          "histogram": [
           {
            "bin_start": 2,
            "bin_end": 2.4,
            "count": 2
           },
           {
            "bin_start": 2.4,
            "bin_end": 2.8,
            "count": 0
           },
           {
            "bin_start": 2.8,
            "bin_end": 3.2,
            "count": 1
           },
           {
            "bin_start": 3.2,
            "bin_end": 3.6,
            "count": 0
           },
           {
            "bin_start": 3.6,
            "bin_end": 4,
            "count": 0
           },
           {
            "bin_start": 4,
            "bin_end": 4.4,
            "count": 1
           },
           {
            "bin_start": 4.4,
            "bin_end": 4.800000000000001,
            "count": 0
           },
           {
            "bin_start": 4.800000000000001,
            "bin_end": 5.2,
            "count": 0
           },
           {
            "bin_start": 5.2,
            "bin_end": 5.6,
            "count": 0
           },
           {
            "bin_start": 5.6,
            "bin_end": 6,
            "count": 1
           }
          ]
         }
        },
        {
         "name": "b",
         "dtype": "int64",
         "stats": {
          "unique_count": 3,
          "nan_count": 0,
          "min": "4",
          "max": "8",
          "histogram": [
           {
            "bin_start": 4,
            "bin_end": 4.4,
            "count": 1
           },
           {
            "bin_start": 4.4,
            "bin_end": 4.8,
            "count": 0
           },
           {
            "bin_start": 4.8,
            "bin_end": 5.2,
            "count": 0
           },
           {
            "bin_start": 5.2,
            "bin_end": 5.6,
            "count": 0
           },
           {
            "bin_start": 5.6,
            "bin_end": 6,
            "count": 0
           },
           {
            "bin_start": 6,
            "bin_end": 6.4,
            "count": 3
           },
           {
            "bin_start": 6.4,
            "bin_end": 6.800000000000001,
            "count": 0
           },
           {
            "bin_start": 6.800000000000001,
            "bin_end": 7.2,
            "count": 0
           },
           {
            "bin_start": 7.2,
            "bin_end": 7.6,
            "count": 0
           },
           {
            "bin_start": 7.6,
            "bin_end": 8,
            "count": 1
           }
          ]
         }
        },
        {
         "name": "c",
         "dtype": "int64",
         "stats": {
          "unique_count": 3,
          "nan_count": 0,
          "min": "4",
          "max": "9",
          "histogram": [
           {
            "bin_start": 4,
            "bin_end": 4.5,
            "count": 1
           },
           {
            "bin_start": 4.5,
            "bin_end": 5,
            "count": 0
           },
           {
            "bin_start": 5,
            "bin_end": 5.5,
            "count": 0
           },
           {
            "bin_start": 5.5,
            "bin_end": 6,
            "count": 0
           },
           {
            "bin_start": 6,
            "bin_end": 6.5,
            "count": 2
           },
           {
            "bin_start": 6.5,
            "bin_end": 7,
            "count": 0
           },
           {
            "bin_start": 7,
            "bin_end": 7.5,
            "count": 0
           },
           {
            "bin_start": 7.5,
            "bin_end": 8,
            "count": 0
           },
           {
            "bin_start": 8,
            "bin_end": 8.5,
            "count": 0
           },
           {
            "bin_start": 8.5,
            "bin_end": 9,
            "count": 2
           }
          ]
         }
        },
        {
         "name": "d",
         "dtype": "int64",
         "stats": {
          "unique_count": 5,
          "nan_count": 0,
          "min": "1",
          "max": "8",
          "histogram": [
           {
            "bin_start": 1,
            "bin_end": 1.7,
            "count": 1
           },
           {
            "bin_start": 1.7,
            "bin_end": 2.4,
            "count": 1
           },
           {
            "bin_start": 2.4,
            "bin_end": 3.0999999999999996,
            "count": 1
           },
           {
            "bin_start": 3.0999999999999996,
            "bin_end": 3.8,
            "count": 0
           },
           {
            "bin_start": 3.8,
            "bin_end": 4.5,
            "count": 0
           },
           {
            "bin_start": 4.5,
            "bin_end": 5.199999999999999,
            "count": 0
           },
           {
            "bin_start": 5.199999999999999,
            "bin_end": 5.8999999999999995,
            "count": 0
           },
           {
            "bin_start": 5.8999999999999995,
            "bin_end": 6.6,
            "count": 1
           },
           {
            "bin_start": 6.6,
            "bin_end": 7.3,
            "count": 0
           },
           {
            "bin_start": 7.3,
            "bin_end": 8,
            "count": 1
           }
          ]
         }
        },
        {
         "name": "_deepnote_index_column",
         "dtype": "int64"
        }
       ],
       "rows_top": [
        {
         "a": 3,
         "b": 6,
         "c": 6,
         "d": 2,
         "_deepnote_index_column": 0
        },
        {
         "a": 2,
         "b": 4,
         "c": 4,
         "d": 3,
         "_deepnote_index_column": 1
        },
        {
         "a": 4,
         "b": 8,
         "c": 9,
         "d": 8,
         "_deepnote_index_column": 2
        },
        {
         "a": 6,
         "b": 6,
         "c": 9,
         "d": 6,
         "_deepnote_index_column": 3
        },
        {
         "a": 2,
         "b": 6,
         "c": 6,
         "d": 1,
         "_deepnote_index_column": 4
        }
       ],
       "rows_bottom": null
      },
      "text/plain": "   a  b  c  d\n0  3  6  6  2\n1  2  4  4  3\n2  4  8  9  8\n3  6  6  9  6\n4  2  6  6  1",
      "text/html": "<div>\n<style scoped>\n    .dataframe tbody tr th:only-of-type {\n        vertical-align: middle;\n    }\n\n    .dataframe tbody tr th {\n        vertical-align: top;\n    }\n\n    .dataframe thead th {\n        text-align: right;\n    }\n</style>\n<table border=\"1\" class=\"dataframe\">\n  <thead>\n    <tr style=\"text-align: right;\">\n      <th></th>\n      <th>a</th>\n      <th>b</th>\n      <th>c</th>\n      <th>d</th>\n    </tr>\n  </thead>\n  <tbody>\n    <tr>\n      <th>0</th>\n      <td>3</td>\n      <td>6</td>\n      <td>6</td>\n      <td>2</td>\n    </tr>\n    <tr>\n      <th>1</th>\n      <td>2</td>\n      <td>4</td>\n      <td>4</td>\n      <td>3</td>\n    </tr>\n    <tr>\n      <th>2</th>\n      <td>4</td>\n      <td>8</td>\n      <td>9</td>\n      <td>8</td>\n    </tr>\n    <tr>\n      <th>3</th>\n      <td>6</td>\n      <td>6</td>\n      <td>9</td>\n      <td>6</td>\n    </tr>\n    <tr>\n      <th>4</th>\n      <td>2</td>\n      <td>6</td>\n      <td>6</td>\n      <td>1</td>\n    </tr>\n  </tbody>\n</table>\n</div>"
     },
     "metadata": {}
    }
   ]
  },
  {
   "cell_type": "code",
   "metadata": {
    "tags": [],
    "cell_id": "00060-f39234e0-b3e2-4c6b-9d79-9964d1d5af86",
    "deepnote_to_be_reexecuted": false,
    "source_hash": "1a8831a",
    "execution_start": 1629113959554,
    "execution_millis": 7,
    "deepnote_cell_type": "code"
   },
   "source": "df.value_counts()",
   "execution_count": null,
   "outputs": [
    {
     "output_type": "execute_result",
     "execution_count": 73,
     "data": {
      "text/plain": "a  b  c  d\n2  4  4  3    1\n   6  6  1    1\n3  6  6  2    1\n4  8  9  8    1\n6  6  9  6    1\ndtype: int64"
     },
     "metadata": {}
    }
   ]
  },
  {
   "cell_type": "markdown",
   "source": "Split the string column into 3 columns.\n\nAfter that, make first colum a header.",
   "metadata": {
    "tags": [],
    "cell_id": "00059-8d22be45-8c0e-427f-98c5-69d4d1e2c763",
    "deepnote_cell_type": "markdown"
   }
  },
  {
   "cell_type": "code",
   "metadata": {
    "tags": [],
    "cell_id": "00059-875786a7-7ca0-4d0e-8dec-e000a65037d4",
    "deepnote_to_be_reexecuted": false,
    "source_hash": "8fcbea4d",
    "execution_start": 1629114932693,
    "execution_millis": 12,
    "output_cleared": false,
    "deepnote_cell_type": "code"
   },
   "source": "df = pd.DataFrame([\"STD, City    State\",\n                    \"33, Kolkata    West Bengal\",\n                    \"44, Chennai    Tamil Nadu\",\n                    \"40, Hyderabad    Telengana\",\n                    \"80, Bangalore    Karnataka\"], columns=['row'])\nresult = pd.DataFrame(df.row.str.split(' ',2).tolist(),columns=['STD','City','State'])\nresult.drop(index=0,inplace=True)\nresult\n",
   "execution_count": null,
   "outputs": [
    {
     "output_type": "execute_result",
     "execution_count": 90,
     "data": {
      "application/vnd.deepnote.dataframe.v2+json": {
       "row_count": 4,
       "column_count": 3,
       "columns": [
        {
         "name": "STD",
         "dtype": "object",
         "stats": {
          "unique_count": 4,
          "nan_count": 0,
          "categories": [
           {
            "name": "33,",
            "count": 1
           },
           {
            "name": "44,",
            "count": 1
           },
           {
            "name": "2 others",
            "count": 2
           }
          ]
         }
        },
        {
         "name": "City",
         "dtype": "object",
         "stats": {
          "unique_count": 4,
          "nan_count": 0,
          "categories": [
           {
            "name": "Kolkata",
            "count": 1
           },
           {
            "name": "Chennai",
            "count": 1
           },
           {
            "name": "2 others",
            "count": 2
           }
          ]
         }
        },
        {
         "name": "State",
         "dtype": "object",
         "stats": {
          "unique_count": 4,
          "nan_count": 0,
          "categories": [
           {
            "name": "   West Bengal",
            "count": 1
           },
           {
            "name": "   Tamil Nadu",
            "count": 1
           },
           {
            "name": "2 others",
            "count": 2
           }
          ]
         }
        },
        {
         "name": "_deepnote_index_column",
         "dtype": "int64"
        }
       ],
       "rows_top": [
        {
         "STD": "33,",
         "City": "Kolkata",
         "State": "   West Bengal",
         "_deepnote_index_column": 1
        },
        {
         "STD": "44,",
         "City": "Chennai",
         "State": "   Tamil Nadu",
         "_deepnote_index_column": 2
        },
        {
         "STD": "40,",
         "City": "Hyderabad",
         "State": "   Telengana",
         "_deepnote_index_column": 3
        },
        {
         "STD": "80,",
         "City": "Bangalore",
         "State": "   Karnataka",
         "_deepnote_index_column": 4
        }
       ],
       "rows_bottom": null
      },
      "text/plain": "   STD       City           State\n1  33,    Kolkata     West Bengal\n2  44,    Chennai      Tamil Nadu\n3  40,  Hyderabad       Telengana\n4  80,  Bangalore       Karnataka",
      "text/html": "<div>\n<style scoped>\n    .dataframe tbody tr th:only-of-type {\n        vertical-align: middle;\n    }\n\n    .dataframe tbody tr th {\n        vertical-align: top;\n    }\n\n    .dataframe thead th {\n        text-align: right;\n    }\n</style>\n<table border=\"1\" class=\"dataframe\">\n  <thead>\n    <tr style=\"text-align: right;\">\n      <th></th>\n      <th>STD</th>\n      <th>City</th>\n      <th>State</th>\n    </tr>\n  </thead>\n  <tbody>\n    <tr>\n      <th>1</th>\n      <td>33,</td>\n      <td>Kolkata</td>\n      <td>West Bengal</td>\n    </tr>\n    <tr>\n      <th>2</th>\n      <td>44,</td>\n      <td>Chennai</td>\n      <td>Tamil Nadu</td>\n    </tr>\n    <tr>\n      <th>3</th>\n      <td>40,</td>\n      <td>Hyderabad</td>\n      <td>Telengana</td>\n    </tr>\n    <tr>\n      <th>4</th>\n      <td>80,</td>\n      <td>Bangalore</td>\n      <td>Karnataka</td>\n    </tr>\n  </tbody>\n</table>\n</div>"
     },
     "metadata": {}
    }
   ]
  },
  {
   "cell_type": "code",
   "metadata": {
    "tags": [],
    "cell_id": "00063-b91d0232-1905-4368-a20e-9d4b9c35ee7e",
    "deepnote_to_be_reexecuted": false,
    "source_hash": "8b99822d",
    "execution_start": 1629114850938,
    "execution_millis": 8,
    "deepnote_cell_type": "code"
   },
   "source": "df = pd.DataFrame([\"STD, City    State\",\n                    \"33, Kolkata    West Bengal\",\n                    \"44, Chennai    Tamil Nadu\",\n                    \"40, Hyderabad    Telengana\",\n                    \"80, Bangalore    Karnataka\"], columns=['row'])\n\ndf                    ",
   "execution_count": null,
   "outputs": [
    {
     "output_type": "execute_result",
     "execution_count": 86,
     "data": {
      "application/vnd.deepnote.dataframe.v2+json": {
       "row_count": 5,
       "column_count": 1,
       "columns": [
        {
         "name": "row",
         "dtype": "object",
         "stats": {
          "unique_count": 5,
          "nan_count": 0,
          "categories": [
           {
            "name": "STD, City    State",
            "count": 1
           },
           {
            "name": "33, Kolkata    West Bengal",
            "count": 1
           },
           {
            "name": "3 others",
            "count": 3
           }
          ]
         }
        },
        {
         "name": "_deepnote_index_column",
         "dtype": "int64"
        }
       ],
       "rows_top": [
        {
         "row": "STD, City    State",
         "_deepnote_index_column": 0
        },
        {
         "row": "33, Kolkata    West Bengal",
         "_deepnote_index_column": 1
        },
        {
         "row": "44, Chennai    Tamil Nadu",
         "_deepnote_index_column": 2
        },
        {
         "row": "40, Hyderabad    Telengana",
         "_deepnote_index_column": 3
        },
        {
         "row": "80, Bangalore    Karnataka",
         "_deepnote_index_column": 4
        }
       ],
       "rows_bottom": null
      },
      "text/plain": "                          row\n0          STD, City    State\n1  33, Kolkata    West Bengal\n2   44, Chennai    Tamil Nadu\n3  40, Hyderabad    Telengana\n4  80, Bangalore    Karnataka",
      "text/html": "<div>\n<style scoped>\n    .dataframe tbody tr th:only-of-type {\n        vertical-align: middle;\n    }\n\n    .dataframe tbody tr th {\n        vertical-align: top;\n    }\n\n    .dataframe thead th {\n        text-align: right;\n    }\n</style>\n<table border=\"1\" class=\"dataframe\">\n  <thead>\n    <tr style=\"text-align: right;\">\n      <th></th>\n      <th>row</th>\n    </tr>\n  </thead>\n  <tbody>\n    <tr>\n      <th>0</th>\n      <td>STD, City    State</td>\n    </tr>\n    <tr>\n      <th>1</th>\n      <td>33, Kolkata    West Bengal</td>\n    </tr>\n    <tr>\n      <th>2</th>\n      <td>44, Chennai    Tamil Nadu</td>\n    </tr>\n    <tr>\n      <th>3</th>\n      <td>40, Hyderabad    Telengana</td>\n    </tr>\n    <tr>\n      <th>4</th>\n      <td>80, Bangalore    Karnataka</td>\n    </tr>\n  </tbody>\n</table>\n</div>"
     },
     "metadata": {}
    }
   ]
  },
  {
   "cell_type": "markdown",
   "source": "<a style='text-decoration:none;line-height:16px;display:flex;color:#5B5B62;padding:10px;justify-content:end;' href='https://deepnote.com?utm_source=created-in-deepnote-cell&projectId=7d3ce7c8-a514-49e4-9ba4-a5899ac52ea5' target=\"_blank\">\n<img alt='Created in deepnote.com' style='display:inline;max-height:16px;margin:0px;margin-right:7.5px;' src='data:image/svg+xml;base64,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' > </img>\nCreated in <span style='font-weight:600;margin-left:4px;'>Deepnote</span></a>",
   "metadata": {
    "tags": [],
    "created_in_deepnote_cell": true,
    "deepnote_cell_type": "markdown"
   }
  }
 ],
 "nbformat": 4,
 "nbformat_minor": 2,
 "metadata": {
  "orig_nbformat": 2,
  "deepnote": {
   "is_reactive": false
  },
  "deepnote_notebook_id": "7210e499-87b6-4763-b963-2fae422dba57",
  "deepnote_execution_queue": []
 }
}