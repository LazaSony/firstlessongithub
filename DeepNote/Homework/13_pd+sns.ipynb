{
 "cells": [
  {
   "cell_type": "code",
   "metadata": {
    "tags": [],
    "cell_id": "00000-0a105d74-2d20-4602-8a88-e8fd74c78b3c",
    "deepnote_to_be_reexecuted": false,
    "source_hash": "bc566c39",
    "execution_start": 1627916444257,
    "execution_millis": 351,
    "deepnote_cell_type": "code"
   },
   "source": "import numpy as np\nimport pandas as pd\nimport seaborn as sns\nimport matplotlib.pyplot as plt\nimport numpy as np\nurl = \"https://gist.githubusercontent.com/curran/a08a1080b88344b0c8a7/raw/0e7a9b0a5d22642a06d3d5b9bcbad9890c8ee534/iris.csv\"\n\nclass FlowerParts():\n     \n    def __init__(self,url):\n        self.load_df(url)\n        self.clean_columns()\n\n    def load_df(self, url):\n        self.df= pd.read_csv(url)\n\n    def check_columns(self):\n       return self.df.isna().sum    \n       return self.df.isnull().sum \n    \n    def clean_columns(self):\n        self.df.drop_duplicates(subset=[\"sepal_length\",\"sepal_width\", \"petal_length\", \"species\"], keep= \"last\", inplace=True)\n        return self.df[self.df.duplicated(keep=False)]\n    \n    def count_plot_content_type(self):\n        plt.figure(figsize=(20, 8))\n        ax= sns.countplot(data=self.df,\n                          x=\"species\")\n\n    def pairplotcontent_type(self):\n        plt.figure(figsize=(20, 8))\n        ax= sns.pairplot(data=self.df,\n                          markers=['o','x','+'],\n                          hue=\"species\",\n                          diag_kind=\"kde\")\n    def heatmap_type(self):\n        plt.figure(figsize=(25, 10))\n        _correlation = self.df.corr()\n        sns.heatmap(data= _correlation, annot = True)                      \n    \n    def boxplot_df(self):\n        plt.figure(figsize=(25, 10))\n        ax= sns.boxplot(data=self.df,\n                  x=\"species\",\n                  y=\"petal_length\")\n\n\n       \n\ntest = FlowerParts(url)\n#test.count_plot_content_type()\n#test.pairplotcontent_type()\n#test.heatmap_type() \n#test.boxplot_df()\n",
   "execution_count": null,
   "outputs": [
    {
     "data": {
      "text/plain": "<Figure size 1800x720 with 1 Axes>",
      "image/png": "[encoded data removed]"
     },
     "metadata": {
      "needs_background": "light",
      "image/png": {
       "width": 1437,
       "height": 589
      }
     },
     "output_type": "display_data"
    }
   ]
  },
  {
   "cell_type": "code",
   "metadata": {
    "tags": [],
    "cell_id": "00001-cabc51d6-56df-41b3-9860-ddfb66b75d42",
    "deepnote_to_be_reexecuted": false,
    "source_hash": "6738c9ba",
    "execution_start": 1627833715318,
    "execution_millis": 26,
    "deepnote_cell_type": "code"
   },
   "source": "test.df.loc[test.df.duplicated(), :]",
   "execution_count": null,
   "outputs": [
    {
     "output_type": "execute_result",
     "execution_count": 59,
     "data": {
      "application/vnd.deepnote.dataframe.v2+json": {
       "row_count": 3,
       "column_count": 5,
       "columns": [
        {
         "name": "sepal_length",
         "dtype": "float64",
         "stats": {
          "unique_count": 2,
          "nan_count": 0,
          "min": "4.9",
          "max": "5.8",
          "histogram": [
           {
            "bin_start": 4.9,
            "bin_end": 4.99,
            "count": 2
           },
           {
            "bin_start": 4.99,
            "bin_end": 5.08,
            "count": 0
           },
           {
            "bin_start": 5.08,
            "bin_end": 5.17,
            "count": 0
           },
           {
            "bin_start": 5.17,
            "bin_end": 5.26,
            "count": 0
           },
           {
            "bin_start": 5.26,
            "bin_end": 5.35,
            "count": 0
           },
           {
            "bin_start": 5.35,
            "bin_end": 5.4399999999999995,
            "count": 0
           },
           {
            "bin_start": 5.4399999999999995,
            "bin_end": 5.53,
            "count": 0
           },
           {
            "bin_start": 5.53,
            "bin_end": 5.62,
            "count": 0
           },
           {
            "bin_start": 5.62,
            "bin_end": 5.71,
            "count": 0
           },
           {
            "bin_start": 5.71,
            "bin_end": 5.8,
            "count": 1
           }
          ]
         }
        },
        {
         "name": "sepal_width",
         "dtype": "float64",
         "stats": {
          "unique_count": 2,
          "nan_count": 0,
          "min": "2.7",
          "max": "3.1",
          "histogram": [
           {
            "bin_start": 2.7,
            "bin_end": 2.74,
            "count": 1
           },
           {
            "bin_start": 2.74,
            "bin_end": 2.7800000000000002,
            "count": 0
           },
           {
            "bin_start": 2.7800000000000002,
            "bin_end": 2.8200000000000003,
            "count": 0
           },
           {
            "bin_start": 2.8200000000000003,
            "bin_end": 2.8600000000000003,
            "count": 0
           },
           {
            "bin_start": 2.8600000000000003,
            "bin_end": 2.9000000000000004,
            "count": 0
           },
           {
            "bin_start": 2.9000000000000004,
            "bin_end": 2.94,
            "count": 0
           },
           {
            "bin_start": 2.94,
            "bin_end": 2.98,
            "count": 0
           },
           {
            "bin_start": 2.98,
            "bin_end": 3.02,
            "count": 0
           },
           {
            "bin_start": 3.02,
            "bin_end": 3.06,
            "count": 0
           },
           {
            "bin_start": 3.06,
            "bin_end": 3.1,
            "count": 2
           }
          ]
         }
        },
        {
         "name": "petal_length",
         "dtype": "float64",
         "stats": {
          "unique_count": 2,
          "nan_count": 0,
          "min": "1.5",
          "max": "5.1",
          "histogram": [
           {
            "bin_start": 1.5,
            "bin_end": 1.8599999999999999,
            "count": 2
           },
           {
            "bin_start": 1.8599999999999999,
            "bin_end": 2.2199999999999998,
            "count": 0
           },
           {
            "bin_start": 2.2199999999999998,
            "bin_end": 2.58,
            "count": 0
           },
           {
            "bin_start": 2.58,
            "bin_end": 2.94,
            "count": 0
           },
           {
            "bin_start": 2.94,
            "bin_end": 3.3,
            "count": 0
           },
           {
            "bin_start": 3.3,
            "bin_end": 3.66,
            "count": 0
           },
           {
            "bin_start": 3.66,
            "bin_end": 4.02,
            "count": 0
           },
           {
            "bin_start": 4.02,
            "bin_end": 4.38,
            "count": 0
           },
           {
            "bin_start": 4.38,
            "bin_end": 4.74,
            "count": 0
           },
           {
            "bin_start": 4.74,
            "bin_end": 5.1,
            "count": 1
           }
          ]
         }
        },
        {
         "name": "petal_width",
         "dtype": "float64",
         "stats": {
          "unique_count": 2,
          "nan_count": 0,
          "min": "0.1",
          "max": "1.9",
          "histogram": [
           {
            "bin_start": 0.1,
            "bin_end": 0.28,
            "count": 2
           },
           {
            "bin_start": 0.28,
            "bin_end": 0.45999999999999996,
            "count": 0
           },
           {
            "bin_start": 0.45999999999999996,
            "bin_end": 0.64,
            "count": 0
           },
           {
            "bin_start": 0.64,
            "bin_end": 0.82,
            "count": 0
           },
           {
            "bin_start": 0.82,
            "bin_end": 0.9999999999999999,
            "count": 0
           },
           {
            "bin_start": 0.9999999999999999,
            "bin_end": 1.1800000000000002,
            "count": 0
           },
           {
            "bin_start": 1.1800000000000002,
            "bin_end": 1.36,
            "count": 0
           },
           {
            "bin_start": 1.36,
            "bin_end": 1.54,
            "count": 0
           },
           {
            "bin_start": 1.54,
            "bin_end": 1.72,
            "count": 0
           },
           {
            "bin_start": 1.72,
            "bin_end": 1.9,
            "count": 1
           }
          ]
         }
        },
        {
         "name": "species",
         "dtype": "object",
         "stats": {
          "unique_count": 2,
          "nan_count": 0,
          "categories": [
           {
            "name": "setosa",
            "count": 2
           },
           {
            "name": "virginica",
            "count": 1
           }
          ]
         }
        },
        {
         "name": "_deepnote_index_column",
         "dtype": "int64"
        }
       ],
       "rows_top": [
        {
         "sepal_length": 4.9,
         "sepal_width": 3.1,
         "petal_length": 1.5,
         "petal_width": 0.1,
         "species": "setosa",
         "_deepnote_index_column": 34
        },
        {
         "sepal_length": 4.9,
         "sepal_width": 3.1,
         "petal_length": 1.5,
         "petal_width": 0.1,
         "species": "setosa",
         "_deepnote_index_column": 37
        },
        {
         "sepal_length": 5.8,
         "sepal_width": 2.7,
         "petal_length": 5.1,
         "petal_width": 1.9,
         "species": "virginica",
         "_deepnote_index_column": 142
        }
       ],
       "rows_bottom": null
      },
      "text/plain": "     sepal_length  sepal_width  petal_length  petal_width    species\n34            4.9          3.1           1.5          0.1     setosa\n37            4.9          3.1           1.5          0.1     setosa\n142           5.8          2.7           5.1          1.9  virginica",
      "text/html": "<div>\n<style scoped>\n    .dataframe tbody tr th:only-of-type {\n        vertical-align: middle;\n    }\n\n    .dataframe tbody tr th {\n        vertical-align: top;\n    }\n\n    .dataframe thead th {\n        text-align: right;\n    }\n</style>\n<table border=\"1\" class=\"dataframe\">\n  <thead>\n    <tr style=\"text-align: right;\">\n      <th></th>\n      <th>sepal_length</th>\n      <th>sepal_width</th>\n      <th>petal_length</th>\n      <th>petal_width</th>\n      <th>species</th>\n    </tr>\n  </thead>\n  <tbody>\n    <tr>\n      <th>34</th>\n      <td>4.9</td>\n      <td>3.1</td>\n      <td>1.5</td>\n      <td>0.1</td>\n      <td>setosa</td>\n    </tr>\n    <tr>\n      <th>37</th>\n      <td>4.9</td>\n      <td>3.1</td>\n      <td>1.5</td>\n      <td>0.1</td>\n      <td>setosa</td>\n    </tr>\n    <tr>\n      <th>142</th>\n      <td>5.8</td>\n      <td>2.7</td>\n      <td>5.1</td>\n      <td>1.9</td>\n      <td>virginica</td>\n    </tr>\n  </tbody>\n</table>\n</div>"
     },
     "metadata": {}
    }
   ]
  },
  {
   "cell_type": "code",
   "metadata": {
    "tags": [],
    "cell_id": "00002-5eda7408-6e84-4a41-9849-c9fb8b450f00",
    "deepnote_to_be_reexecuted": false,
    "source_hash": "885ef87f",
    "execution_start": 1627833811767,
    "execution_millis": 10,
    "deepnote_cell_type": "code"
   },
   "source": "test.df[test.df.duplicated(keep=False)]",
   "execution_count": null,
   "outputs": [
    {
     "output_type": "execute_result",
     "execution_count": 61,
     "data": {
      "application/vnd.deepnote.dataframe.v2+json": {
       "row_count": 5,
       "column_count": 5,
       "columns": [
        {
         "name": "sepal_length",
         "dtype": "float64",
         "stats": {
          "unique_count": 2,
          "nan_count": 0,
          "min": "4.9",
          "max": "5.8",
          "histogram": [
           {
            "bin_start": 4.9,
            "bin_end": 4.99,
            "count": 3
           },
           {
            "bin_start": 4.99,
            "bin_end": 5.08,
            "count": 0
           },
           {
            "bin_start": 5.08,
            "bin_end": 5.17,
            "count": 0
           },
           {
            "bin_start": 5.17,
            "bin_end": 5.26,
            "count": 0
           },
           {
            "bin_start": 5.26,
            "bin_end": 5.35,
            "count": 0
           },
           {
            "bin_start": 5.35,
            "bin_end": 5.4399999999999995,
            "count": 0
           },
           {
            "bin_start": 5.4399999999999995,
            "bin_end": 5.53,
            "count": 0
           },
           {
            "bin_start": 5.53,
            "bin_end": 5.62,
            "count": 0
           },
           {
            "bin_start": 5.62,
            "bin_end": 5.71,
            "count": 0
           },
           {
            "bin_start": 5.71,
            "bin_end": 5.8,
            "count": 2
           }
          ]
         }
        },
        {
         "name": "sepal_width",
         "dtype": "float64",
         "stats": {
          "unique_count": 2,
          "nan_count": 0,
          "min": "2.7",
          "max": "3.1",
          "histogram": [
           {
            "bin_start": 2.7,
            "bin_end": 2.74,
            "count": 2
           },
           {
            "bin_start": 2.74,
            "bin_end": 2.7800000000000002,
            "count": 0
           },
           {
            "bin_start": 2.7800000000000002,
            "bin_end": 2.8200000000000003,
            "count": 0
           },
           {
            "bin_start": 2.8200000000000003,
            "bin_end": 2.8600000000000003,
            "count": 0
           },
           {
            "bin_start": 2.8600000000000003,
            "bin_end": 2.9000000000000004,
            "count": 0
           },
           {
            "bin_start": 2.9000000000000004,
            "bin_end": 2.94,
            "count": 0
           },
           {
            "bin_start": 2.94,
            "bin_end": 2.98,
            "count": 0
           },
           {
            "bin_start": 2.98,
            "bin_end": 3.02,
            "count": 0
           },
           {
            "bin_start": 3.02,
            "bin_end": 3.06,
            "count": 0
           },
           {
            "bin_start": 3.06,
            "bin_end": 3.1,
            "count": 3
           }
          ]
         }
        },
        {
         "name": "petal_length",
         "dtype": "float64",
         "stats": {
          "unique_count": 2,
          "nan_count": 0,
          "min": "1.5",
          "max": "5.1",
          "histogram": [
           {
            "bin_start": 1.5,
            "bin_end": 1.8599999999999999,
            "count": 3
           },
           {
            "bin_start": 1.8599999999999999,
            "bin_end": 2.2199999999999998,
            "count": 0
           },
           {
            "bin_start": 2.2199999999999998,
            "bin_end": 2.58,
            "count": 0
           },
           {
            "bin_start": 2.58,
            "bin_end": 2.94,
            "count": 0
           },
           {
            "bin_start": 2.94,
            "bin_end": 3.3,
            "count": 0
           },
           {
            "bin_start": 3.3,
            "bin_end": 3.66,
            "count": 0
           },
           {
            "bin_start": 3.66,
            "bin_end": 4.02,
            "count": 0
           },
           {
            "bin_start": 4.02,
            "bin_end": 4.38,
            "count": 0
           },
           {
            "bin_start": 4.38,
            "bin_end": 4.74,
            "count": 0
           },
           {
            "bin_start": 4.74,
            "bin_end": 5.1,
            "count": 2
           }
          ]
         }
        },
        {
         "name": "petal_width",
         "dtype": "float64",
         "stats": {
          "unique_count": 2,
          "nan_count": 0,
          "min": "0.1",
          "max": "1.9",
          "histogram": [
           {
            "bin_start": 0.1,
            "bin_end": 0.28,
            "count": 3
           },
           {
            "bin_start": 0.28,
            "bin_end": 0.45999999999999996,
            "count": 0
           },
           {
            "bin_start": 0.45999999999999996,
            "bin_end": 0.64,
            "count": 0
           },
           {
            "bin_start": 0.64,
            "bin_end": 0.82,
            "count": 0
           },
           {
            "bin_start": 0.82,
            "bin_end": 0.9999999999999999,
            "count": 0
           },
           {
            "bin_start": 0.9999999999999999,
            "bin_end": 1.1800000000000002,
            "count": 0
           },
           {
            "bin_start": 1.1800000000000002,
            "bin_end": 1.36,
            "count": 0
           },
           {
            "bin_start": 1.36,
            "bin_end": 1.54,
            "count": 0
           },
           {
            "bin_start": 1.54,
            "bin_end": 1.72,
            "count": 0
           },
           {
            "bin_start": 1.72,
            "bin_end": 1.9,
            "count": 2
           }
          ]
         }
        },
        {
         "name": "species",
         "dtype": "object",
         "stats": {
          "unique_count": 2,
          "nan_count": 0,
          "categories": [
           {
            "name": "setosa",
            "count": 3
           },
           {
            "name": "virginica",
            "count": 2
           }
          ]
         }
        },
        {
         "name": "_deepnote_index_column",
         "dtype": "int64"
        }
       ],
       "rows_top": [
        {
         "sepal_length": 4.9,
         "sepal_width": 3.1,
         "petal_length": 1.5,
         "petal_width": 0.1,
         "species": "setosa",
         "_deepnote_index_column": 9
        },
        {
         "sepal_length": 4.9,
         "sepal_width": 3.1,
         "petal_length": 1.5,
         "petal_width": 0.1,
         "species": "setosa",
         "_deepnote_index_column": 34
        },
        {
         "sepal_length": 4.9,
         "sepal_width": 3.1,
         "petal_length": 1.5,
         "petal_width": 0.1,
         "species": "setosa",
         "_deepnote_index_column": 37
        },
        {
         "sepal_length": 5.8,
         "sepal_width": 2.7,
         "petal_length": 5.1,
         "petal_width": 1.9,
         "species": "virginica",
         "_deepnote_index_column": 101
        },
        {
         "sepal_length": 5.8,
         "sepal_width": 2.7,
         "petal_length": 5.1,
         "petal_width": 1.9,
         "species": "virginica",
         "_deepnote_index_column": 142
        }
       ],
       "rows_bottom": null
      },
      "text/plain": "     sepal_length  sepal_width  petal_length  petal_width    species\n9             4.9          3.1           1.5          0.1     setosa\n34            4.9          3.1           1.5          0.1     setosa\n37            4.9          3.1           1.5          0.1     setosa\n101           5.8          2.7           5.1          1.9  virginica\n142           5.8          2.7           5.1          1.9  virginica",
      "text/html": "<div>\n<style scoped>\n    .dataframe tbody tr th:only-of-type {\n        vertical-align: middle;\n    }\n\n    .dataframe tbody tr th {\n        vertical-align: top;\n    }\n\n    .dataframe thead th {\n        text-align: right;\n    }\n</style>\n<table border=\"1\" class=\"dataframe\">\n  <thead>\n    <tr style=\"text-align: right;\">\n      <th></th>\n      <th>sepal_length</th>\n      <th>sepal_width</th>\n      <th>petal_length</th>\n      <th>petal_width</th>\n      <th>species</th>\n    </tr>\n  </thead>\n  <tbody>\n    <tr>\n      <th>9</th>\n      <td>4.9</td>\n      <td>3.1</td>\n      <td>1.5</td>\n      <td>0.1</td>\n      <td>setosa</td>\n    </tr>\n    <tr>\n      <th>34</th>\n      <td>4.9</td>\n      <td>3.1</td>\n      <td>1.5</td>\n      <td>0.1</td>\n      <td>setosa</td>\n    </tr>\n    <tr>\n      <th>37</th>\n      <td>4.9</td>\n      <td>3.1</td>\n      <td>1.5</td>\n      <td>0.1</td>\n      <td>setosa</td>\n    </tr>\n    <tr>\n      <th>101</th>\n      <td>5.8</td>\n      <td>2.7</td>\n      <td>5.1</td>\n      <td>1.9</td>\n      <td>virginica</td>\n    </tr>\n    <tr>\n      <th>142</th>\n      <td>5.8</td>\n      <td>2.7</td>\n      <td>5.1</td>\n      <td>1.9</td>\n      <td>virginica</td>\n    </tr>\n  </tbody>\n</table>\n</div>"
     },
     "metadata": {}
    }
   ]
  },
  {
   "cell_type": "code",
   "metadata": {
    "tags": [],
    "cell_id": "00003-47a51f86-ad98-4a4e-b583-87d3e131e380",
    "deepnote_to_be_reexecuted": false,
    "source_hash": "d8ae37a2",
    "execution_start": 1627846780562,
    "execution_millis": 4,
    "deepnote_cell_type": "code"
   },
   "source": "test.df.drop_duplicates(subset=[\"sepal_length\",\"sepal_width\", \"petal_length\", \"species\"], keep= \"last\", inplace=True)",
   "execution_count": null,
   "outputs": []
  },
  {
   "cell_type": "code",
   "metadata": {
    "tags": [],
    "cell_id": "00004-2549b9ce-1708-49dc-9aa2-023a7630a1aa",
    "deepnote_to_be_reexecuted": false,
    "source_hash": "885ef87f",
    "execution_start": 1627846782504,
    "execution_millis": 31,
    "deepnote_cell_type": "code"
   },
   "source": "test.df[test.df.duplicated(keep=False)]",
   "execution_count": null,
   "outputs": [
    {
     "output_type": "execute_result",
     "execution_count": 12,
     "data": {
      "application/vnd.deepnote.dataframe.v2+json": {
       "row_count": 0,
       "column_count": 5,
       "columns": [
        {
         "name": "sepal_length",
         "dtype": "float64",
         "stats": {
          "unique_count": 0,
          "nan_count": 0,
          "min": null,
          "max": null,
          "histogram": [
           {
            "bin_start": 0,
            "bin_end": 0.1,
            "count": 0
           },
           {
            "bin_start": 0.1,
            "bin_end": 0.2,
            "count": 0
           },
           {
            "bin_start": 0.2,
            "bin_end": 0.30000000000000004,
            "count": 0
           },
           {
            "bin_start": 0.30000000000000004,
            "bin_end": 0.4,
            "count": 0
           },
           {
            "bin_start": 0.4,
            "bin_end": 0.5,
            "count": 0
           },
           {
            "bin_start": 0.5,
            "bin_end": 0.6000000000000001,
            "count": 0
           },
           {
            "bin_start": 0.6000000000000001,
            "bin_end": 0.7000000000000001,
            "count": 0
           },
           {
            "bin_start": 0.7000000000000001,
            "bin_end": 0.8,
            "count": 0
           },
           {
            "bin_start": 0.8,
            "bin_end": 0.9,
            "count": 0
           },
           {
            "bin_start": 0.9,
            "bin_end": 1,
            "count": 0
           }
          ]
         }
        },
        {
         "name": "sepal_width",
         "dtype": "float64",
         "stats": {
          "unique_count": 0,
          "nan_count": 0,
          "min": null,
          "max": null,
          "histogram": [
           {
            "bin_start": 0,
            "bin_end": 0.1,
            "count": 0
           },
           {
            "bin_start": 0.1,
            "bin_end": 0.2,
            "count": 0
           },
           {
            "bin_start": 0.2,
            "bin_end": 0.30000000000000004,
            "count": 0
           },
           {
            "bin_start": 0.30000000000000004,
            "bin_end": 0.4,
            "count": 0
           },
           {
            "bin_start": 0.4,
            "bin_end": 0.5,
            "count": 0
           },
           {
            "bin_start": 0.5,
            "bin_end": 0.6000000000000001,
            "count": 0
           },
           {
            "bin_start": 0.6000000000000001,
            "bin_end": 0.7000000000000001,
            "count": 0
           },
           {
            "bin_start": 0.7000000000000001,
            "bin_end": 0.8,
            "count": 0
           },
           {
            "bin_start": 0.8,
            "bin_end": 0.9,
            "count": 0
           },
           {
            "bin_start": 0.9,
            "bin_end": 1,
            "count": 0
           }
          ]
         }
        },
        {
         "name": "petal_length",
         "dtype": "float64",
         "stats": {
          "unique_count": 0,
          "nan_count": 0,
          "min": null,
          "max": null,
          "histogram": [
           {
            "bin_start": 0,
            "bin_end": 0.1,
            "count": 0
           },
           {
            "bin_start": 0.1,
            "bin_end": 0.2,
            "count": 0
           },
           {
            "bin_start": 0.2,
            "bin_end": 0.30000000000000004,
            "count": 0
           },
           {
            "bin_start": 0.30000000000000004,
            "bin_end": 0.4,
            "count": 0
           },
           {
            "bin_start": 0.4,
            "bin_end": 0.5,
            "count": 0
           },
           {
            "bin_start": 0.5,
            "bin_end": 0.6000000000000001,
            "count": 0
           },
           {
            "bin_start": 0.6000000000000001,
            "bin_end": 0.7000000000000001,
            "count": 0
           },
           {
            "bin_start": 0.7000000000000001,
            "bin_end": 0.8,
            "count": 0
           },
           {
            "bin_start": 0.8,
            "bin_end": 0.9,
            "count": 0
           },
           {
            "bin_start": 0.9,
            "bin_end": 1,
            "count": 0
           }
          ]
         }
        },
        {
         "name": "petal_width",
         "dtype": "float64",
         "stats": {
          "unique_count": 0,
          "nan_count": 0,
          "min": null,
          "max": null,
          "histogram": [
           {
            "bin_start": 0,
            "bin_end": 0.1,
            "count": 0
           },
           {
            "bin_start": 0.1,
            "bin_end": 0.2,
            "count": 0
           },
           {
            "bin_start": 0.2,
            "bin_end": 0.30000000000000004,
            "count": 0
           },
           {
            "bin_start": 0.30000000000000004,
            "bin_end": 0.4,
            "count": 0
           },
           {
            "bin_start": 0.4,
            "bin_end": 0.5,
            "count": 0
           },
           {
            "bin_start": 0.5,
            "bin_end": 0.6000000000000001,
            "count": 0
           },
           {
            "bin_start": 0.6000000000000001,
            "bin_end": 0.7000000000000001,
            "count": 0
           },
           {
            "bin_start": 0.7000000000000001,
            "bin_end": 0.8,
            "count": 0
           },
           {
            "bin_start": 0.8,
            "bin_end": 0.9,
            "count": 0
           },
           {
            "bin_start": 0.9,
            "bin_end": 1,
            "count": 0
           }
          ]
         }
        },
        {
         "name": "species",
         "dtype": "object",
         "stats": {
          "unique_count": 0,
          "nan_count": 0,
          "categories": []
         }
        },
        {
         "name": "_deepnote_index_column",
         "dtype": "int64"
        }
       ],
       "rows_top": [],
       "rows_bottom": null
      },
      "text/plain": "Empty DataFrame\nColumns: [sepal_length, sepal_width, petal_length, petal_width, species]\nIndex: []",
      "text/html": "<div>\n<style scoped>\n    .dataframe tbody tr th:only-of-type {\n        vertical-align: middle;\n    }\n\n    .dataframe tbody tr th {\n        vertical-align: top;\n    }\n\n    .dataframe thead th {\n        text-align: right;\n    }\n</style>\n<table border=\"1\" class=\"dataframe\">\n  <thead>\n    <tr style=\"text-align: right;\">\n      <th></th>\n      <th>sepal_length</th>\n      <th>sepal_width</th>\n      <th>petal_length</th>\n      <th>petal_width</th>\n      <th>species</th>\n    </tr>\n  </thead>\n  <tbody>\n  </tbody>\n</table>\n</div>"
     },
     "metadata": {}
    }
   ]
  },
  {
   "cell_type": "markdown",
   "source": "The dataframe has measurements of the flower parts and the respective species. Variables:\n\n`species` - name of the flower species\n\npetal_width, petal_length, sepal_width, sepal_lenght - see the photo\n\n![](https://www.python-course.eu/images/sepals_and_petals.webp \"Title\")",
   "metadata": {
    "tags": [],
    "cell_id": "00001-ed6cc4fa-d490-4d21-b208-22bfb6c24df1",
    "deepnote_cell_type": "markdown"
   }
  },
  {
   "cell_type": "markdown",
   "source": "# Pandas\n\nSee if the dataset needs cleaning, make sure columns are right data-types. Duplicates? Missing values?\n\nHave a look on basic statistics per columns/per group of the species.",
   "metadata": {
    "tags": [],
    "cell_id": "00001-d53cc4b5-5095-43f6-85db-030dfb8427b2",
    "deepnote_cell_type": "markdown"
   }
  },
  {
   "cell_type": "code",
   "metadata": {
    "tags": [],
    "cell_id": "00003-8997ae10-a09e-4f7a-bf3a-3acaa12b4ec6",
    "deepnote_to_be_reexecuted": false,
    "source_hash": "33e20963",
    "execution_start": 1627833481883,
    "execution_millis": 41,
    "deepnote_cell_type": "code"
   },
   "source": "test.df.groupby(\"species\")[\"sepal_width\"].agg([sum,min,max])",
   "execution_count": null,
   "outputs": [
    {
     "output_type": "execute_result",
     "execution_count": 54,
     "data": {
      "application/vnd.deepnote.dataframe.v2+json": {
       "row_count": 3,
       "column_count": 3,
       "columns": [
        {
         "name": "sum",
         "dtype": "float64",
         "stats": {
          "unique_count": 3,
          "nan_count": 0,
          "min": "138.50000000000003",
          "max": "170.90000000000003",
          "histogram": [
           {
            "bin_start": 138.50000000000003,
            "bin_end": 141.74000000000004,
            "count": 1
           },
           {
            "bin_start": 141.74000000000004,
            "bin_end": 144.98000000000002,
            "count": 0
           },
           {
            "bin_start": 144.98000000000002,
            "bin_end": 148.22000000000003,
            "count": 0
           },
           {
            "bin_start": 148.22000000000003,
            "bin_end": 151.46000000000004,
            "count": 1
           },
           {
            "bin_start": 151.46000000000004,
            "bin_end": 154.70000000000005,
            "count": 0
           },
           {
            "bin_start": 154.70000000000005,
            "bin_end": 157.94000000000003,
            "count": 0
           },
           {
            "bin_start": 157.94000000000003,
            "bin_end": 161.18000000000004,
            "count": 0
           },
           {
            "bin_start": 161.18000000000004,
            "bin_end": 164.42000000000004,
            "count": 0
           },
           {
            "bin_start": 164.42000000000004,
            "bin_end": 167.66000000000003,
            "count": 0
           },
           {
            "bin_start": 167.66000000000003,
            "bin_end": 170.90000000000003,
            "count": 1
           }
          ]
         }
        },
        {
         "name": "min",
         "dtype": "float64",
         "stats": {
          "unique_count": 3,
          "nan_count": 0,
          "min": "2.0",
          "max": "2.3",
          "histogram": [
           {
            "bin_start": 2,
            "bin_end": 2.03,
            "count": 1
           },
           {
            "bin_start": 2.03,
            "bin_end": 2.06,
            "count": 0
           },
           {
            "bin_start": 2.06,
            "bin_end": 2.09,
            "count": 0
           },
           {
            "bin_start": 2.09,
            "bin_end": 2.12,
            "count": 0
           },
           {
            "bin_start": 2.12,
            "bin_end": 2.15,
            "count": 0
           },
           {
            "bin_start": 2.15,
            "bin_end": 2.1799999999999997,
            "count": 0
           },
           {
            "bin_start": 2.1799999999999997,
            "bin_end": 2.21,
            "count": 1
           },
           {
            "bin_start": 2.21,
            "bin_end": 2.2399999999999998,
            "count": 0
           },
           {
            "bin_start": 2.2399999999999998,
            "bin_end": 2.27,
            "count": 0
           },
           {
            "bin_start": 2.27,
            "bin_end": 2.3,
            "count": 1
           }
          ]
         }
        },
        {
         "name": "max",
         "dtype": "float64",
         "stats": {
          "unique_count": 3,
          "nan_count": 0,
          "min": "3.4",
          "max": "4.4",
          "histogram": [
           {
            "bin_start": 3.4,
            "bin_end": 3.5,
            "count": 1
           },
           {
            "bin_start": 3.5,
            "bin_end": 3.6,
            "count": 0
           },
           {
            "bin_start": 3.6,
            "bin_end": 3.7,
            "count": 0
           },
           {
            "bin_start": 3.7,
            "bin_end": 3.8000000000000003,
            "count": 1
           },
           {
            "bin_start": 3.8000000000000003,
            "bin_end": 3.9000000000000004,
            "count": 0
           },
           {
            "bin_start": 3.9000000000000004,
            "bin_end": 4,
            "count": 0
           },
           {
            "bin_start": 4,
            "bin_end": 4.1000000000000005,
            "count": 0
           },
           {
            "bin_start": 4.1000000000000005,
            "bin_end": 4.2,
            "count": 0
           },
           {
            "bin_start": 4.2,
            "bin_end": 4.300000000000001,
            "count": 0
           },
           {
            "bin_start": 4.300000000000001,
            "bin_end": 4.4,
            "count": 1
           }
          ]
         }
        },
        {
         "name": "_deepnote_index_column",
         "dtype": "object"
        }
       ],
       "rows_top": [
        {
         "sum": 170.90000000000003,
         "min": 2.3,
         "max": 4.4,
         "_deepnote_index_column": "setosa"
        },
        {
         "sum": 138.50000000000003,
         "min": 2,
         "max": 3.4,
         "_deepnote_index_column": "versicolor"
        },
        {
         "sum": 148.7,
         "min": 2.2,
         "max": 3.8,
         "_deepnote_index_column": "virginica"
        }
       ],
       "rows_bottom": null
      },
      "text/plain": "              sum  min  max\nspecies                    \nsetosa      170.9  2.3  4.4\nversicolor  138.5  2.0  3.4\nvirginica   148.7  2.2  3.8",
      "text/html": "<div>\n<style scoped>\n    .dataframe tbody tr th:only-of-type {\n        vertical-align: middle;\n    }\n\n    .dataframe tbody tr th {\n        vertical-align: top;\n    }\n\n    .dataframe thead th {\n        text-align: right;\n    }\n</style>\n<table border=\"1\" class=\"dataframe\">\n  <thead>\n    <tr style=\"text-align: right;\">\n      <th></th>\n      <th>sum</th>\n      <th>min</th>\n      <th>max</th>\n    </tr>\n    <tr>\n      <th>species</th>\n      <th></th>\n      <th></th>\n      <th></th>\n    </tr>\n  </thead>\n  <tbody>\n    <tr>\n      <th>setosa</th>\n      <td>170.9</td>\n      <td>2.3</td>\n      <td>4.4</td>\n    </tr>\n    <tr>\n      <th>versicolor</th>\n      <td>138.5</td>\n      <td>2.0</td>\n      <td>3.4</td>\n    </tr>\n    <tr>\n      <th>virginica</th>\n      <td>148.7</td>\n      <td>2.2</td>\n      <td>3.8</td>\n    </tr>\n  </tbody>\n</table>\n</div>"
     },
     "metadata": {}
    }
   ]
  },
  {
   "cell_type": "markdown",
   "source": "# Graphs\n\nHave a look on all the graphs to see if you can tell something out of them.",
   "metadata": {
    "tags": [],
    "cell_id": "00004-eefeae36-8a8d-494a-bd08-2204d182f420",
    "deepnote_cell_type": "markdown"
   }
  },
  {
   "cell_type": "markdown",
   "source": "create a `countplot` of species.",
   "metadata": {
    "tags": [],
    "cell_id": "00005-75c4e620-d445-4040-80c7-3de603893adf",
    "deepnote_cell_type": "markdown"
   }
  },
  {
   "cell_type": "code",
   "metadata": {
    "tags": [],
    "cell_id": "00006-20c052fd-127e-4e3c-afc2-45d34512f3cd",
    "deepnote_cell_type": "code"
   },
   "source": "",
   "execution_count": null,
   "outputs": []
  },
  {
   "cell_type": "markdown",
   "source": "create a `parirplot` add argument `markers=['o','x','+']` so that we can easily distinguish the three flower species on the grpah. Colour it by species. Try `diag_kind=\"kde\"`, is it better?\n\nHave a long look at everything you see, what can you tell?",
   "metadata": {
    "tags": [],
    "cell_id": "00005-de44f462-16f7-4770-9d33-5e6f39128ca5",
    "deepnote_cell_type": "markdown"
   }
  },
  {
   "cell_type": "code",
   "metadata": {
    "tags": [],
    "cell_id": "00006-6de78b13-f24a-4c2a-85b2-630f8c21de89",
    "deepnote_cell_type": "code"
   },
   "source": "",
   "execution_count": null,
   "outputs": []
  },
  {
   "cell_type": "markdown",
   "source": "create a `hetmap`. Colour it by species. What can you tell out if it? Are there any correlations, what are the most influential factors, do they make sense?",
   "metadata": {
    "tags": [],
    "cell_id": "00007-64cf819c-85fc-4b3e-bee7-59bdf17d0245",
    "deepnote_cell_type": "markdown"
   }
  },
  {
   "cell_type": "code",
   "metadata": {
    "tags": [],
    "cell_id": "00010-04b9c8f4-d1cd-4b8c-afc5-058df942b7db",
    "deepnote_cell_type": "code"
   },
   "source": "",
   "execution_count": null,
   "outputs": []
  },
  {
   "cell_type": "markdown",
   "source": "Create a boxplot of species, with `PetalLengthCm` in the y axis. ",
   "metadata": {
    "tags": [],
    "cell_id": "00010-6c6a4ddc-c6dd-4a6d-be2e-62d5c660800d",
    "deepnote_cell_type": "markdown"
   }
  },
  {
   "cell_type": "code",
   "metadata": {
    "tags": [],
    "cell_id": "00011-884546ed-d37b-403a-90ee-d4d765b1a877",
    "deepnote_cell_type": "code"
   },
   "source": "",
   "execution_count": null,
   "outputs": []
  },
  {
   "cell_type": "markdown",
   "source": "create a subplot graph with 4 boxplots (2 in a row, 2 rows overall), with all 4 variables we have in y axis. Which one is better - `boxplot` or `boxenplot`?",
   "metadata": {
    "tags": [],
    "cell_id": "00013-2d5857a1-bf69-42a6-8058-6201d4f932bf",
    "deepnote_cell_type": "markdown"
   }
  },
  {
   "cell_type": "code",
   "metadata": {
    "tags": [],
    "cell_id": "00014-03b4ecb6-9ee0-477a-a43f-fb4a64816221",
    "deepnote_cell_type": "code"
   },
   "source": "",
   "execution_count": null,
   "outputs": []
  },
  {
   "cell_type": "markdown",
   "source": "Create boxplot of sepal_len vs sepal_width by species. \n\nCreate boxplot of petal_len vs petal_width by species. \n",
   "metadata": {
    "tags": [],
    "cell_id": "00015-aed0e55c-e559-464c-a58b-ccb275482e77",
    "deepnote_cell_type": "markdown"
   }
  },
  {
   "cell_type": "code",
   "metadata": {
    "tags": [],
    "cell_id": "00016-3c5e36f9-0927-4144-b2ab-0e7e1adfe609",
    "deepnote_cell_type": "code"
   },
   "source": "",
   "execution_count": null,
   "outputs": []
  },
  {
   "cell_type": "markdown",
   "source": "<a style='text-decoration:none;line-height:16px;display:flex;color:#5B5B62;padding:10px;justify-content:end;' href='https://deepnote.com?utm_source=created-in-deepnote-cell&projectId=7d3ce7c8-a514-49e4-9ba4-a5899ac52ea5' target=\"_blank\">\n<img alt='Created in deepnote.com' style='display:inline;max-height:16px;margin:0px;margin-right:7.5px;' src='data:image/svg+xml;base64,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' > </img>\nCreated in <span style='font-weight:600;margin-left:4px;'>Deepnote</span></a>",
   "metadata": {
    "tags": [],
    "created_in_deepnote_cell": true,
    "deepnote_cell_type": "markdown"
   }
  }
 ],
 "nbformat": 4,
 "nbformat_minor": 2,
 "metadata": {
  "orig_nbformat": 2,
  "deepnote": {
   "is_reactive": false
  },
  "deepnote_notebook_id": "28212f61-9aa9-44b6-a9e0-4d5da178e06f",
  "deepnote_execution_queue": []
 }
}