{
 "cells": [
  {
   "cell_type": "code",
   "metadata": {
    "tags": [],
    "cell_id": "00000-c0d9da88-cb39-4d62-abab-a30ff1a89043",
    "deepnote_to_be_reexecuted": false,
    "source_hash": "34ad2d5b",
    "execution_start": 1626968041040,
    "execution_millis": 4897,
    "deepnote_cell_type": "code"
   },
   "source": "import numpy as np\nimport pandas as pd\nimport seaborn as sns\nimport matplotlib.pyplot as plt",
   "execution_count": null,
   "outputs": []
  },
  {
   "cell_type": "markdown",
   "source": "You will work with data from olympics. We will only be using `sex, age, height, weight, year, season, medal` columns",
   "metadata": {
    "tags": [],
    "cell_id": "00001-0940ab29-22fd-4fed-b3b3-558f836777aa",
    "deepnote_cell_type": "markdown"
   }
  },
  {
   "cell_type": "code",
   "metadata": {
    "tags": [],
    "cell_id": "00001-7741f69d-982e-444c-9254-713b952e4825",
    "deepnote_to_be_reexecuted": false,
    "source_hash": "23b88569",
    "execution_start": 1626968066686,
    "execution_millis": 775,
    "deepnote_cell_type": "code"
   },
   "source": "df = pd.read_csv(\"/work/data/homework 10/athlete_events.csv\")\ndf.columns = df.columns.str.lower()\ndf.head(6)",
   "execution_count": null,
   "outputs": [
    {
     "output_type": "execute_result",
     "execution_count": 2,
     "data": {
      "application/vnd.deepnote.dataframe.v2+json": {
       "row_count": 6,
       "column_count": 15,
       "columns": [
        {
         "name": "id",
         "dtype": "int64",
         "stats": {
          "unique_count": 5,
          "nan_count": 0,
          "min": "1",
          "max": "5",
          "histogram": [
           {
            "bin_start": 1,
            "bin_end": 1.4,
            "count": 1
           },
           {
            "bin_start": 1.4,
            "bin_end": 1.8,
            "count": 0
           },
           {
            "bin_start": 1.8,
            "bin_end": 2.2,
            "count": 1
           },
           {
            "bin_start": 2.2,
            "bin_end": 2.6,
            "count": 0
           },
           {
            "bin_start": 2.6,
            "bin_end": 3,
            "count": 0
           },
           {
            "bin_start": 3,
            "bin_end": 3.4000000000000004,
            "count": 1
           },
           {
            "bin_start": 3.4000000000000004,
            "bin_end": 3.8000000000000003,
            "count": 0
           },
           {
            "bin_start": 3.8000000000000003,
            "bin_end": 4.2,
            "count": 1
           },
           {
            "bin_start": 4.2,
            "bin_end": 4.6,
            "count": 0
           },
           {
            "bin_start": 4.6,
            "bin_end": 5,
            "count": 2
           }
          ]
         }
        },
        {
         "name": "name",
         "dtype": "object",
         "stats": {
          "unique_count": 5,
          "nan_count": 0,
          "categories": [
           {
            "name": "Christine Jacoba Aaftink",
            "count": 2
           },
           {
            "name": "A Dijiang",
            "count": 1
           },
           {
            "name": "3 others",
            "count": 3
           }
          ]
         }
        },
        {
         "name": "sex",
         "dtype": "object",
         "stats": {
          "unique_count": 2,
          "nan_count": 0,
          "categories": [
           {
            "name": "M",
            "count": 4
           },
           {
            "name": "F",
            "count": 2
           }
          ]
         }
        },
        {
         "name": "age",
         "dtype": "float64",
         "stats": {
          "unique_count": 4,
          "nan_count": 0,
          "min": "21.0",
          "max": "34.0",
          "histogram": [
           {
            "bin_start": 21,
            "bin_end": 22.3,
            "count": 2
           },
           {
            "bin_start": 22.3,
            "bin_end": 23.6,
            "count": 1
           },
           {
            "bin_start": 23.6,
            "bin_end": 24.9,
            "count": 2
           },
           {
            "bin_start": 24.9,
            "bin_end": 26.2,
            "count": 0
           },
           {
            "bin_start": 26.2,
            "bin_end": 27.5,
            "count": 0
           },
           {
            "bin_start": 27.5,
            "bin_end": 28.8,
            "count": 0
           },
           {
            "bin_start": 28.8,
            "bin_end": 30.1,
            "count": 0
           },
           {
            "bin_start": 30.1,
            "bin_end": 31.4,
            "count": 0
           },
           {
            "bin_start": 31.4,
            "bin_end": 32.7,
            "count": 0
           },
           {
            "bin_start": 32.7,
            "bin_end": 34,
            "count": 1
           }
          ]
         }
        },
        {
         "name": "height",
         "dtype": "float64",
         "stats": {
          "unique_count": 3,
          "nan_count": 2,
          "min": "170.0",
          "max": "185.0",
          "histogram": [
           {
            "bin_start": 170,
            "bin_end": 171.5,
            "count": 1
           },
           {
            "bin_start": 171.5,
            "bin_end": 173,
            "count": 0
           },
           {
            "bin_start": 173,
            "bin_end": 174.5,
            "count": 0
           },
           {
            "bin_start": 174.5,
            "bin_end": 176,
            "count": 0
           },
           {
            "bin_start": 176,
            "bin_end": 177.5,
            "count": 0
           },
           {
            "bin_start": 177.5,
            "bin_end": 179,
            "count": 0
           },
           {
            "bin_start": 179,
            "bin_end": 180.5,
            "count": 1
           },
           {
            "bin_start": 180.5,
            "bin_end": 182,
            "count": 0
           },
           {
            "bin_start": 182,
            "bin_end": 183.5,
            "count": 0
           },
           {
            "bin_start": 183.5,
            "bin_end": 185,
            "count": 2
           }
          ]
         }
        },
        {
         "name": "weight",
         "dtype": "float64",
         "stats": {
          "unique_count": 3,
          "nan_count": 2,
          "min": "60.0",
          "max": "82.0",
          "histogram": [
           {
            "bin_start": 60,
            "bin_end": 62.2,
            "count": 1
           },
           {
            "bin_start": 62.2,
            "bin_end": 64.4,
            "count": 0
           },
           {
            "bin_start": 64.4,
            "bin_end": 66.6,
            "count": 0
           },
           {
            "bin_start": 66.6,
            "bin_end": 68.8,
            "count": 0
           },
           {
            "bin_start": 68.8,
            "bin_end": 71,
            "count": 0
           },
           {
            "bin_start": 71,
            "bin_end": 73.2,
            "count": 0
           },
           {
            "bin_start": 73.2,
            "bin_end": 75.4,
            "count": 0
           },
           {
            "bin_start": 75.4,
            "bin_end": 77.6,
            "count": 0
           },
           {
            "bin_start": 77.6,
            "bin_end": 79.8,
            "count": 0
           },
           {
            "bin_start": 79.8,
            "bin_end": 82,
            "count": 3
           }
          ]
         }
        },
        {
         "name": "team",
         "dtype": "object",
         "stats": {
          "unique_count": 4,
          "nan_count": 0,
          "categories": [
           {
            "name": "China",
            "count": 2
           },
           {
            "name": "Netherlands",
            "count": 2
           },
           {
            "name": "2 others",
            "count": 2
           }
          ]
         }
        },
        {
         "name": "noc",
         "dtype": "object",
         "stats": {
          "unique_count": 3,
          "nan_count": 0,
          "categories": [
           {
            "name": "CHN",
            "count": 2
           },
           {
            "name": "DEN",
            "count": 2
           },
           {
            "name": "NED",
            "count": 2
           }
          ]
         }
        },
        {
         "name": "games",
         "dtype": "object",
         "stats": {
          "unique_count": 5,
          "nan_count": 0,
          "categories": [
           {
            "name": "1988 Winter",
            "count": 2
           },
           {
            "name": "1992 Summer",
            "count": 1
           },
           {
            "name": "3 others",
            "count": 3
           }
          ]
         }
        },
        {
         "name": "year",
         "dtype": "int64",
         "stats": {
          "unique_count": 5,
          "nan_count": 0,
          "min": "1900",
          "max": "2012",
          "histogram": [
           {
            "bin_start": 1900,
            "bin_end": 1911.2,
            "count": 1
           },
           {
            "bin_start": 1911.2,
            "bin_end": 1922.4,
            "count": 1
           },
           {
            "bin_start": 1922.4,
            "bin_end": 1933.6,
            "count": 0
           },
           {
            "bin_start": 1933.6,
            "bin_end": 1944.8,
            "count": 0
           },
           {
            "bin_start": 1944.8,
            "bin_end": 1956,
            "count": 0
           },
           {
            "bin_start": 1956,
            "bin_end": 1967.2,
            "count": 0
           },
           {
            "bin_start": 1967.2,
            "bin_end": 1978.4,
            "count": 0
           },
           {
            "bin_start": 1978.4,
            "bin_end": 1989.6,
            "count": 2
           },
           {
            "bin_start": 1989.6,
            "bin_end": 2000.8,
            "count": 1
           },
           {
            "bin_start": 2000.8,
            "bin_end": 2012,
            "count": 1
           }
          ]
         }
        },
        {
         "name": "season",
         "dtype": "object",
         "stats": {
          "unique_count": 2,
          "nan_count": 0,
          "categories": [
           {
            "name": "Summer",
            "count": 4
           },
           {
            "name": "Winter",
            "count": 2
           }
          ]
         }
        },
        {
         "name": "city",
         "dtype": "object",
         "stats": {
          "unique_count": 5,
          "nan_count": 0,
          "categories": [
           {
            "name": "Calgary",
            "count": 2
           },
           {
            "name": "Barcelona",
            "count": 1
           },
           {
            "name": "3 others",
            "count": 3
           }
          ]
         }
        },
        {
         "name": "sport",
         "dtype": "object",
         "stats": {
          "unique_count": 5,
          "nan_count": 0,
          "categories": [
           {
            "name": "Speed Skating",
            "count": 2
           },
           {
            "name": "Basketball",
            "count": 1
           },
           {
            "name": "3 others",
            "count": 3
           }
          ]
         }
        },
        {
         "name": "event",
         "dtype": "object",
         "stats": {
          "unique_count": 6,
          "nan_count": 0,
          "categories": [
           {
            "name": "Basketball Men's Basketball",
            "count": 1
           },
           {
            "name": "Judo Men's Extra-Lightweight",
            "count": 1
           },
           {
            "name": "4 others",
            "count": 4
           }
          ]
         }
        },
        {
         "name": "medal",
         "dtype": "object",
         "stats": {
          "unique_count": 1,
          "nan_count": 5,
          "categories": [
           {
            "name": "Gold",
            "count": 1
           },
           {
            "name": "Missing",
            "count": 5
           }
          ]
         }
        },
        {
         "name": "_deepnote_index_column",
         "dtype": "int64"
        }
       ],
       "rows_top": [
        {
         "id": 1,
         "name": "A Dijiang",
         "sex": "M",
         "age": 24,
         "height": 180,
         "weight": 80,
         "team": "China",
         "noc": "CHN",
         "games": "1992 Summer",
         "year": 1992,
         "season": "Summer",
         "city": "Barcelona",
         "sport": "Basketball",
         "event": "Basketball Men's Basketball",
         "medal": "nan",
         "_deepnote_index_column": 0
        },
        {
         "id": 2,
         "name": "A Lamusi",
         "sex": "M",
         "age": 23,
         "height": 170,
         "weight": 60,
         "team": "China",
         "noc": "CHN",
         "games": "2012 Summer",
         "year": 2012,
         "season": "Summer",
         "city": "London",
         "sport": "Judo",
         "event": "Judo Men's Extra-Lightweight",
         "medal": "nan",
         "_deepnote_index_column": 1
        },
        {
         "id": 3,
         "name": "Gunnar Nielsen Aaby",
         "sex": "M",
         "age": 24,
         "height": "nan",
         "weight": "nan",
         "team": "Denmark",
         "noc": "DEN",
         "games": "1920 Summer",
         "year": 1920,
         "season": "Summer",
         "city": "Antwerpen",
         "sport": "Football",
         "event": "Football Men's Football",
         "medal": "nan",
         "_deepnote_index_column": 2
        },
        {
         "id": 4,
         "name": "Edgar Lindenau Aabye",
         "sex": "M",
         "age": 34,
         "height": "nan",
         "weight": "nan",
         "team": "Denmark/Sweden",
         "noc": "DEN",
         "games": "1900 Summer",
         "year": 1900,
         "season": "Summer",
         "city": "Paris",
         "sport": "Tug-Of-War",
         "event": "Tug-Of-War Men's Tug-Of-War",
         "medal": "Gold",
         "_deepnote_index_column": 3
        },
        {
         "id": 5,
         "name": "Christine Jacoba Aaftink",
         "sex": "F",
         "age": 21,
         "height": 185,
         "weight": 82,
         "team": "Netherlands",
         "noc": "NED",
         "games": "1988 Winter",
         "year": 1988,
         "season": "Winter",
         "city": "Calgary",
         "sport": "Speed Skating",
         "event": "Speed Skating Women's 500 metres",
         "medal": "nan",
         "_deepnote_index_column": 4
        },
        {
         "id": 5,
         "name": "Christine Jacoba Aaftink",
         "sex": "F",
         "age": 21,
         "height": 185,
         "weight": 82,
         "team": "Netherlands",
         "noc": "NED",
         "games": "1988 Winter",
         "year": 1988,
         "season": "Winter",
         "city": "Calgary",
         "sport": "Speed Skating",
         "event": "Speed Skating Women's 1,000 metres",
         "medal": "nan",
         "_deepnote_index_column": 5
        }
       ],
       "rows_bottom": null
      },
      "text/plain": "   id                      name sex   age  height  weight            team  \\\n0   1                 A Dijiang   M  24.0   180.0    80.0           China   \n1   2                  A Lamusi   M  23.0   170.0    60.0           China   \n2   3       Gunnar Nielsen Aaby   M  24.0     NaN     NaN         Denmark   \n3   4      Edgar Lindenau Aabye   M  34.0     NaN     NaN  Denmark/Sweden   \n4   5  Christine Jacoba Aaftink   F  21.0   185.0    82.0     Netherlands   \n5   5  Christine Jacoba Aaftink   F  21.0   185.0    82.0     Netherlands   \n\n   noc        games  year  season       city          sport  \\\n0  CHN  1992 Summer  1992  Summer  Barcelona     Basketball   \n1  CHN  2012 Summer  2012  Summer     London           Judo   \n2  DEN  1920 Summer  1920  Summer  Antwerpen       Football   \n3  DEN  1900 Summer  1900  Summer      Paris     Tug-Of-War   \n4  NED  1988 Winter  1988  Winter    Calgary  Speed Skating   \n5  NED  1988 Winter  1988  Winter    Calgary  Speed Skating   \n\n                                event medal  \n0         Basketball Men's Basketball   NaN  \n1        Judo Men's Extra-Lightweight   NaN  \n2             Football Men's Football   NaN  \n3         Tug-Of-War Men's Tug-Of-War  Gold  \n4    Speed Skating Women's 500 metres   NaN  \n5  Speed Skating Women's 1,000 metres   NaN  ",
      "text/html": "<div>\n<style scoped>\n    .dataframe tbody tr th:only-of-type {\n        vertical-align: middle;\n    }\n\n    .dataframe tbody tr th {\n        vertical-align: top;\n    }\n\n    .dataframe thead th {\n        text-align: right;\n    }\n</style>\n<table border=\"1\" class=\"dataframe\">\n  <thead>\n    <tr style=\"text-align: right;\">\n      <th></th>\n      <th>id</th>\n      <th>name</th>\n      <th>sex</th>\n      <th>age</th>\n      <th>height</th>\n      <th>weight</th>\n      <th>team</th>\n      <th>noc</th>\n      <th>games</th>\n      <th>year</th>\n      <th>season</th>\n      <th>city</th>\n      <th>sport</th>\n      <th>event</th>\n      <th>medal</th>\n    </tr>\n  </thead>\n  <tbody>\n    <tr>\n      <th>0</th>\n      <td>1</td>\n      <td>A Dijiang</td>\n      <td>M</td>\n      <td>24.0</td>\n      <td>180.0</td>\n      <td>80.0</td>\n      <td>China</td>\n      <td>CHN</td>\n      <td>1992 Summer</td>\n      <td>1992</td>\n      <td>Summer</td>\n      <td>Barcelona</td>\n      <td>Basketball</td>\n      <td>Basketball Men's Basketball</td>\n      <td>NaN</td>\n    </tr>\n    <tr>\n      <th>1</th>\n      <td>2</td>\n      <td>A Lamusi</td>\n      <td>M</td>\n      <td>23.0</td>\n      <td>170.0</td>\n      <td>60.0</td>\n      <td>China</td>\n      <td>CHN</td>\n      <td>2012 Summer</td>\n      <td>2012</td>\n      <td>Summer</td>\n      <td>London</td>\n      <td>Judo</td>\n      <td>Judo Men's Extra-Lightweight</td>\n      <td>NaN</td>\n    </tr>\n    <tr>\n      <th>2</th>\n      <td>3</td>\n      <td>Gunnar Nielsen Aaby</td>\n      <td>M</td>\n      <td>24.0</td>\n      <td>NaN</td>\n      <td>NaN</td>\n      <td>Denmark</td>\n      <td>DEN</td>\n      <td>1920 Summer</td>\n      <td>1920</td>\n      <td>Summer</td>\n      <td>Antwerpen</td>\n      <td>Football</td>\n      <td>Football Men's Football</td>\n      <td>NaN</td>\n    </tr>\n    <tr>\n      <th>3</th>\n      <td>4</td>\n      <td>Edgar Lindenau Aabye</td>\n      <td>M</td>\n      <td>34.0</td>\n      <td>NaN</td>\n      <td>NaN</td>\n      <td>Denmark/Sweden</td>\n      <td>DEN</td>\n      <td>1900 Summer</td>\n      <td>1900</td>\n      <td>Summer</td>\n      <td>Paris</td>\n      <td>Tug-Of-War</td>\n      <td>Tug-Of-War Men's Tug-Of-War</td>\n      <td>Gold</td>\n    </tr>\n    <tr>\n      <th>4</th>\n      <td>5</td>\n      <td>Christine Jacoba Aaftink</td>\n      <td>F</td>\n      <td>21.0</td>\n      <td>185.0</td>\n      <td>82.0</td>\n      <td>Netherlands</td>\n      <td>NED</td>\n      <td>1988 Winter</td>\n      <td>1988</td>\n      <td>Winter</td>\n      <td>Calgary</td>\n      <td>Speed Skating</td>\n      <td>Speed Skating Women's 500 metres</td>\n      <td>NaN</td>\n    </tr>\n    <tr>\n      <th>5</th>\n      <td>5</td>\n      <td>Christine Jacoba Aaftink</td>\n      <td>F</td>\n      <td>21.0</td>\n      <td>185.0</td>\n      <td>82.0</td>\n      <td>Netherlands</td>\n      <td>NED</td>\n      <td>1988 Winter</td>\n      <td>1988</td>\n      <td>Winter</td>\n      <td>Calgary</td>\n      <td>Speed Skating</td>\n      <td>Speed Skating Women's 1,000 metres</td>\n      <td>NaN</td>\n    </tr>\n  </tbody>\n</table>\n</div>"
     },
     "metadata": {}
    }
   ]
  },
  {
   "cell_type": "markdown",
   "source": "# Weight",
   "metadata": {
    "tags": [],
    "is_collapsed": false,
    "cell_id": "00002-b6b12862-04c2-4136-bec1-09e82ae9fb17",
    "deepnote_cell_type": "text-cell-h1"
   }
  },
  {
   "cell_type": "markdown",
   "source": "Use `sns.histplot()` arguments `data=..`, `x=..`, `bins=..`\n\nSet the target dataframe, target x axis as weight, and selecct appropriate amount of bins (try different amounts, to see what do you think is alright)",
   "metadata": {
    "tags": [],
    "cell_id": "00003-0f026f2c-1a7b-44ee-9ff9-a4737b2622fd",
    "deepnote_cell_type": "markdown"
   }
  },
  {
   "cell_type": "code",
   "metadata": {
    "tags": [],
    "cell_id": "00002-612ebac2-ba23-49d4-9cea-4e724ead7d54",
    "deepnote_to_be_reexecuted": false,
    "source_hash": "b31e4dbe",
    "execution_start": 1626968132075,
    "execution_millis": 292,
    "output_cleared": false,
    "deepnote_cell_type": "code"
   },
   "source": "plt.subplots(figsize=(15,5))\n\nsns.histplot(data=df,\n             x=\"weight\",\n             bins= 50,\n             )\nplt.xlim(25, 140)\n",
   "execution_count": null,
   "outputs": [
    {
     "output_type": "execute_result",
     "execution_count": 6,
     "data": {
      "text/plain": "(25.0, 140.0)"
     },
     "metadata": {}
    },
    {
     "data": {
      "text/plain": "<Figure size 1080x360 with 1 Axes>",
      "image/png": "[encoded data removed]"
     },
     "metadata": {
      "needs_background": "light",
      "image/png": {
       "width": 913,
       "height": 317
      }
     },
     "output_type": "display_data"
    }
   ]
  },
  {
   "cell_type": "markdown",
   "source": "# Height",
   "metadata": {
    "tags": [],
    "is_collapsed": false,
    "cell_id": "00005-2eda3a48-dc0e-4724-a04b-457c0625fc3d",
    "deepnote_cell_type": "text-cell-h1"
   }
  },
  {
   "cell_type": "markdown",
   "source": "similarly to the code above, do the same, but for height",
   "metadata": {
    "tags": [],
    "cell_id": "00006-6f7e1300-d890-43b8-9448-384f92a314c7",
    "deepnote_cell_type": "markdown"
   }
  },
  {
   "cell_type": "code",
   "metadata": {
    "tags": [],
    "cell_id": "00005-db1ac8cb-9604-464a-979e-af2857b6c317",
    "deepnote_to_be_reexecuted": false,
    "source_hash": "e9c55af7",
    "execution_start": 1626968161600,
    "execution_millis": 313,
    "output_cleared": false,
    "deepnote_cell_type": "code"
   },
   "source": "plt.subplots(figsize=(15,5))\n\nsns.histplot(data=df,\n             x=\"height\",\n             bins= 40,\n             )\n",
   "execution_count": null,
   "outputs": [
    {
     "output_type": "execute_result",
     "execution_count": 9,
     "data": {
      "text/plain": "<AxesSubplot:xlabel='height', ylabel='Count'>"
     },
     "metadata": {}
    },
    {
     "data": {
      "text/plain": "<Figure size 1080x360 with 1 Axes>",
      "image/png": "[encoded data removed]"
     },
     "metadata": {
      "needs_background": "light",
      "image/png": {
       "width": 903,
       "height": 317
      }
     },
     "output_type": "display_data"
    }
   ]
  },
  {
   "cell_type": "markdown",
   "source": "# Combine both onto the same graph",
   "metadata": {
    "tags": [],
    "is_collapsed": false,
    "cell_id": "00008-b93d6147-e3e2-46aa-b9a6-8d2ddb0fb3a4",
    "deepnote_cell_type": "text-cell-h1"
   }
  },
  {
   "cell_type": "markdown",
   "source": "Copy both your codes above into one code cell. To the weight graph add argument `color=\"red\"` and to the height argument add `color=\"green\"`",
   "metadata": {
    "tags": [],
    "cell_id": "00008-f7ad3152-e469-4ca5-94ad-b0ba27601b28",
    "deepnote_cell_type": "markdown"
   }
  },
  {
   "cell_type": "code",
   "metadata": {
    "tags": [],
    "cell_id": "00008-aa67ff1e-b64e-44e1-b907-74da69f8e873",
    "deepnote_to_be_reexecuted": false,
    "source_hash": "a70a11fe",
    "execution_start": 1626968163986,
    "execution_millis": 518,
    "output_cleared": false,
    "deepnote_cell_type": "code"
   },
   "source": "plt.subplots(figsize=(15,5))\n\nsns.histplot(data=df,\n             x=\"weight\",\n             bins= 50,\n             color=\"red\"\n             )\n\n\nsns.histplot(data=df,\n             x=\"height\",\n             bins= 40,\n             color=\"green\"\n             )",
   "execution_count": null,
   "outputs": [
    {
     "output_type": "execute_result",
     "execution_count": 10,
     "data": {
      "text/plain": "<AxesSubplot:xlabel='weight', ylabel='Count'>"
     },
     "metadata": {}
    },
    {
     "data": {
      "text/plain": "<Figure size 1080x360 with 1 Axes>",
      "image/png": "[encoded data removed]"
     },
     "metadata": {
      "needs_background": "light",
      "image/png": {
       "width": 903,
       "height": 317
      }
     },
     "output_type": "display_data"
    }
   ]
  },
  {
   "cell_type": "markdown",
   "source": "copy the code above and let's add information about sex, to both graphs add argument `hue=\"sex\"`.\n\nthe histograms become transparent and they are not really visible. Add argument `multiple=\"stack\"` to stack them, and to make them readable.",
   "metadata": {
    "tags": [],
    "cell_id": "00011-2babc88e-bd26-4f99-b4f8-9761cd8af9be",
    "deepnote_cell_type": "markdown"
   }
  },
  {
   "cell_type": "code",
   "metadata": {
    "tags": [],
    "cell_id": "00011-ebc37b04-52e6-4ba5-8045-97dd7ac8b851",
    "deepnote_to_be_reexecuted": false,
    "source_hash": "27771bfb",
    "execution_start": 1626968200237,
    "execution_millis": 1566,
    "output_cleared": false,
    "deepnote_cell_type": "code"
   },
   "source": "plt.subplots(figsize=(15,5))\n\nsns.histplot(data=df,\n             x=\"weight\",\n             bins= 50,\n             color= \"red\",\n             hue=\"sex\",\n             multiple=\"stack\"\n             )\n\nsns.histplot(data=df,\n             x=\"height\",\n             bins= 50,\n             color= \"green\",\n             hue=\"sex\",\n             multiple=\"stack\"\n             )             ",
   "execution_count": null,
   "outputs": [
    {
     "output_type": "execute_result",
     "execution_count": 11,
     "data": {
      "text/plain": "<AxesSubplot:xlabel='weight', ylabel='Count'>"
     },
     "metadata": {}
    },
    {
     "data": {
      "text/plain": "<Figure size 1080x360 with 1 Axes>",
      "image/png": "[encoded data removed]"
     },
     "metadata": {
      "needs_background": "light",
      "image/png": {
       "width": 903,
       "height": 317
      }
     },
     "output_type": "display_data"
    }
   ]
  },
  {
   "cell_type": "markdown",
   "source": "# WHAT WOULD YOU TELL SOMEONE IF YOU PRESENTED THEM THIS GRAPH?",
   "metadata": {
    "tags": [],
    "is_collapsed": false,
    "cell_id": "00013-ff277e9c-a072-4c69-a0a2-d40f7b57927b",
    "deepnote_cell_type": "text-cell-h1"
   }
  },
  {
   "cell_type": "markdown",
   "source": "using `sns.jointplot` plot `x` weight and `y` height",
   "metadata": {
    "tags": [],
    "cell_id": "00011-57d1bc2c-85ac-4aa0-9b0f-638f66b34466",
    "deepnote_cell_type": "markdown"
   }
  },
  {
   "cell_type": "code",
   "metadata": {
    "tags": [],
    "cell_id": "00011-a2a87b41-495f-438d-ae36-f9e74a33bcb7",
    "deepnote_to_be_reexecuted": false,
    "source_hash": "bcf4cd22",
    "execution_start": 1626968450007,
    "execution_millis": 2305,
    "output_cleared": false,
    "deepnote_cell_type": "code"
   },
   "source": "sns.jointplot(data=df,\n            x=\"weight\", \n            y=\"height\")",
   "execution_count": null,
   "outputs": [
    {
     "output_type": "execute_result",
     "execution_count": 19,
     "data": {
      "text/plain": "<seaborn.axisgrid.JointGrid at 0x7ff530ba8a50>"
     },
     "metadata": {}
    },
    {
     "data": {
      "text/plain": "<Figure size 432x432 with 3 Axes>",
      "image/png": "[encoded data removed]"
     },
     "metadata": {
      "needs_background": "light",
      "image/png": {
       "width": 427,
       "height": 424
      }
     },
     "output_type": "display_data"
    }
   ]
  },
  {
   "cell_type": "markdown",
   "source": "Copy the code above and add argument `kind=\"hex`, you will see that it looks rather bad because most of the grpah is just a white space.\n\nAdd arguments `xlim=(x1,x2)` and `ylim=(y1,y2)`, where the two numbers inside the limits will limit visible axis on the plot. For example having `xlim=(100,200)` - the graph will only show `x` axis from 100 to 200. Experiment with these two arguments, to make the hex jointplot nice and useful.",
   "metadata": {
    "tags": [],
    "cell_id": "00013-e26872dc-db2b-488f-afc6-e69aabdbf567",
    "deepnote_cell_type": "markdown"
   }
  },
  {
   "cell_type": "code",
   "metadata": {
    "tags": [],
    "cell_id": "00013-626148e1-1dac-4450-86df-7dfdaa70ce9c",
    "deepnote_to_be_reexecuted": false,
    "source_hash": "ab341d75",
    "execution_start": 1626968468709,
    "execution_millis": 766,
    "output_cleared": false,
    "deepnote_cell_type": "code"
   },
   "source": "sns.jointplot(height = 8,\n             x=\"weight\",\n             y=\"height\",\n             data=df,\n             kind=\"hex\",\n             color =\"red\",\n             xlim=(100,40), \n             ylim=(140,205), \n             marginal_kws=dict(bins=25)\n             )",
   "execution_count": null,
   "outputs": [
    {
     "output_type": "execute_result",
     "execution_count": 20,
     "data": {
      "text/plain": "<seaborn.axisgrid.JointGrid at 0x7ff530604d90>"
     },
     "metadata": {}
    },
    {
     "data": {
      "text/plain": "<Figure size 576x576 with 3 Axes>",
      "image/png": "[encoded data removed]"
     },
     "metadata": {
      "needs_background": "light",
      "image/png": {
       "width": 568,
       "height": 568
      }
     },
     "output_type": "display_data"
    }
   ]
  },
  {
   "cell_type": "markdown",
   "source": "# WHAT WOULD YOU SAY ARE ARE MOST COMMON VALUES?",
   "metadata": {
    "tags": [],
    "is_collapsed": false,
    "cell_id": "00017-681b1c0b-49f6-4d95-aed5-bf5160de7651",
    "deepnote_cell_type": "text-cell-h1"
   }
  },
  {
   "cell_type": "markdown",
   "source": "Let's have a look at correlation between variables. Use `sns.heatmap(data)` where `data=df.corr()`\n\nOnce you create it, add following arguments one by one, to improve the way it looks because what you have right now, is not really usable. `vmax=.8`, `annot=True`, `fmt=\".2f\"`, `cmap=\"summer\"`",
   "metadata": {
    "tags": [],
    "cell_id": "00017-1a489a00-1576-4951-b42e-3350b87ef0b9",
    "deepnote_cell_type": "markdown"
   }
  },
  {
   "cell_type": "code",
   "metadata": {
    "tags": [],
    "cell_id": "00018-15d56123-e68d-4caf-bd6e-487c8e92ed42",
    "deepnote_to_be_reexecuted": false,
    "source_hash": "600e6313",
    "execution_start": 1626868583527,
    "execution_millis": 536,
    "output_cleared": false,
    "deepnote_cell_type": "code"
   },
   "source": "plt.subplots(figsize=(10,10))\n\nsns.heatmap(data=df.corr(),\n            vmax=.8,\n            annot=True,\n            fmt=\".2f\",\n            cmap=\"summer\" )",
   "execution_count": null,
   "outputs": [
    {
     "output_type": "execute_result",
     "execution_count": 8,
     "data": {
      "text/plain": "<AxesSubplot:>"
     },
     "metadata": {}
    },
    {
     "data": {
      "text/plain": "<Figure size 720x720 with 2 Axes>",
      "image/png": "[encoded data removed]"
     },
     "metadata": {
      "needs_background": "light",
      "image/png": {
       "width": 555,
       "height": 578
      }
     },
     "output_type": "display_data"
    }
   ]
  },
  {
   "cell_type": "markdown",
   "source": "# WHAT CAN YOU ASY ABOUT THE VARIABLE CORRELATION?",
   "metadata": {
    "tags": [],
    "is_collapsed": false,
    "cell_id": "00019-af6e1740-02b7-4e21-bde0-39b7994ab83c",
    "deepnote_cell_type": "text-cell-h1"
   }
  },
  {
   "cell_type": "markdown",
   "source": "Let's plot the age of all the winners of the golden medal. Use `sns.countplot()` with `data` and `x=\"age\"`.\n\nYou need to filter the df you pass to `data` since you only want to plot the golden winners - filter only those.\n\nYou will also need to filter those golden winners, such that \"Age\" column, does not contain missing data.\n\nWhen you plot it, you will notice `x` axis has decimal places values, making it unreadable. You will need to change panda's column type of `age` to `int` (google)",
   "metadata": {
    "tags": [],
    "cell_id": "00022-7ea23e23-94ba-4e2a-856b-821711a36bf9",
    "deepnote_cell_type": "markdown"
   }
  },
  {
   "cell_type": "code",
   "metadata": {
    "tags": [],
    "cell_id": "00024-5a6996fa-1da6-4b51-aedd-98c7f2d18fee",
    "deepnote_to_be_reexecuted": false,
    "source_hash": "e79025bc",
    "execution_start": 1626968854871,
    "execution_millis": 19,
    "deepnote_cell_type": "code"
   },
   "source": "df_gold_medals = df[df[\"medal\"] == \"Gold\"]\ndf_gold_medals = df_gold_medals[~df_gold_medals[\"age\"].isna()]\n\n# df[\"age\"]=df[\"age\"].fillna(0.0).astype(int)\n# df= df[df[\"age\"] != 0]\n\ndf_gold_medals[\"age\"] = df_gold_medals[\"age\"].astype('int32')\n\ndf_gold_medals[\"medal\"].value_counts()",
   "execution_count": null,
   "outputs": [
    {
     "output_type": "execute_result",
     "execution_count": 27,
     "data": {
      "text/plain": "Gold    13224\nName: medal, dtype: int64"
     },
     "metadata": {}
    }
   ]
  },
  {
   "cell_type": "code",
   "metadata": {
    "tags": [],
    "cell_id": "00026-8ff4e340-0cb1-471e-bad3-c5f7b39e01b4",
    "deepnote_to_be_reexecuted": false,
    "source_hash": "21d138ca",
    "execution_start": 1626968919231,
    "execution_millis": 1162,
    "deepnote_cell_type": "code"
   },
   "source": "ax = plt.subplots(figsize = (30,7))\nax= sns.countplot(data=df_gold_medals,\n              x=\"age\")\n              \nplt.xlim(0, 40)",
   "execution_count": null,
   "outputs": [
    {
     "output_type": "execute_result",
     "execution_count": 31,
     "data": {
      "text/plain": "(0.0, 40.0)"
     },
     "metadata": {}
    },
    {
     "data": {
      "text/plain": "<Figure size 2160x504 with 1 Axes>",
      "image/png": "[encoded data removed]"
     },
     "metadata": {
      "needs_background": "light",
      "image/png": {
       "width": 1740,
       "height": 425
      }
     },
     "output_type": "display_data"
    }
   ]
  },
  {
   "cell_type": "markdown",
   "source": "# What can you tell about this graph?",
   "metadata": {
    "tags": [],
    "is_collapsed": false,
    "cell_id": "00024-93c0e99b-1418-49e0-9508-5b065f016814",
    "deepnote_cell_type": "text-cell-h1"
   }
  },
  {
   "cell_type": "markdown",
   "source": "Using the previous plot, determine at what age \"most\" people stop winning golden medals. Use that age to filter out all the golden winners older than that into `df_people_older_than_majority`. (remember to use the filtered dataset from the previous step otherwise you will have to filter missing values, and cast it as int again)",
   "metadata": {
    "tags": [],
    "cell_id": "00025-31f12f50-3ae7-4801-a66d-99cbe3f4b6f0",
    "deepnote_cell_type": "markdown"
   }
  },
  {
   "cell_type": "code",
   "metadata": {
    "tags": [],
    "cell_id": "00026-64c5d22a-a9fd-4f18-bcb3-a34b5838badc",
    "deepnote_to_be_reexecuted": false,
    "source_hash": "295b6ad4",
    "execution_start": 1626968952804,
    "execution_millis": 76,
    "deepnote_cell_type": "code"
   },
   "source": "df_people_older_than_majority = df_gold_medals[df_gold_medals[\"age\"] >= 48]\ndf_people_older_than_majority.head(3)",
   "execution_count": null,
   "outputs": [
    {
     "output_type": "execute_result",
     "execution_count": 33,
     "data": {
      "application/vnd.deepnote.dataframe.v2+json": {
       "row_count": 3,
       "column_count": 15,
       "columns": [
        {
         "name": "id",
         "dtype": "int64",
         "stats": {
          "unique_count": 3,
          "nan_count": 0,
          "min": "1858",
          "max": "4404",
          "histogram": [
           {
            "bin_start": 1858,
            "bin_end": 2112.6,
            "count": 1
           },
           {
            "bin_start": 2112.6,
            "bin_end": 2367.2,
            "count": 0
           },
           {
            "bin_start": 2367.2,
            "bin_end": 2621.8,
            "count": 0
           },
           {
            "bin_start": 2621.8,
            "bin_end": 2876.4,
            "count": 0
           },
           {
            "bin_start": 2876.4,
            "bin_end": 3131,
            "count": 1
           },
           {
            "bin_start": 3131,
            "bin_end": 3385.6,
            "count": 0
           },
           {
            "bin_start": 3385.6,
            "bin_end": 3640.2,
            "count": 0
           },
           {
            "bin_start": 3640.2,
            "bin_end": 3894.8,
            "count": 0
           },
           {
            "bin_start": 3894.8,
            "bin_end": 4149.4,
            "count": 0
           },
           {
            "bin_start": 4149.4,
            "bin_end": 4404,
            "count": 1
           }
          ]
         }
        },
        {
         "name": "name",
         "dtype": "object",
         "stats": {
          "unique_count": 3,
          "nan_count": 0,
          "categories": [
           {
            "name": "Fehaid Al-Deehani",
            "count": 1
           },
           {
            "name": "Derek Swithin Allhusen",
            "count": 1
           },
           {
            "name": "Johan August Anker",
            "count": 1
           }
          ]
         }
        },
        {
         "name": "sex",
         "dtype": "object",
         "stats": {
          "unique_count": 1,
          "nan_count": 0,
          "categories": [
           {
            "name": "M",
            "count": 3
           }
          ]
         }
        },
        {
         "name": "age",
         "dtype": "int32",
         "stats": {
          "unique_count": 3,
          "nan_count": 0,
          "min": "49",
          "max": "56",
          "histogram": [
           {
            "bin_start": 49,
            "bin_end": 49.7,
            "count": 1
           },
           {
            "bin_start": 49.7,
            "bin_end": 50.4,
            "count": 0
           },
           {
            "bin_start": 50.4,
            "bin_end": 51.1,
            "count": 0
           },
           {
            "bin_start": 51.1,
            "bin_end": 51.8,
            "count": 0
           },
           {
            "bin_start": 51.8,
            "bin_end": 52.5,
            "count": 0
           },
           {
            "bin_start": 52.5,
            "bin_end": 53.2,
            "count": 0
           },
           {
            "bin_start": 53.2,
            "bin_end": 53.9,
            "count": 0
           },
           {
            "bin_start": 53.9,
            "bin_end": 54.6,
            "count": 1
           },
           {
            "bin_start": 54.6,
            "bin_end": 55.3,
            "count": 0
           },
           {
            "bin_start": 55.3,
            "bin_end": 56,
            "count": 1
           }
          ]
         }
        },
        {
         "name": "height",
         "dtype": "float64",
         "stats": {
          "unique_count": 2,
          "nan_count": 1,
          "min": "178.0",
          "max": "180.0",
          "histogram": [
           {
            "bin_start": 178,
            "bin_end": 178.2,
            "count": 1
           },
           {
            "bin_start": 178.2,
            "bin_end": 178.4,
            "count": 0
           },
           {
            "bin_start": 178.4,
            "bin_end": 178.6,
            "count": 0
           },
           {
            "bin_start": 178.6,
            "bin_end": 178.8,
            "count": 0
           },
           {
            "bin_start": 178.8,
            "bin_end": 179,
            "count": 0
           },
           {
            "bin_start": 179,
            "bin_end": 179.2,
            "count": 0
           },
           {
            "bin_start": 179.2,
            "bin_end": 179.4,
            "count": 0
           },
           {
            "bin_start": 179.4,
            "bin_end": 179.6,
            "count": 0
           },
           {
            "bin_start": 179.6,
            "bin_end": 179.8,
            "count": 0
           },
           {
            "bin_start": 179.8,
            "bin_end": 180,
            "count": 1
           }
          ]
         }
        },
        {
         "name": "weight",
         "dtype": "float64",
         "stats": {
          "unique_count": 2,
          "nan_count": 1,
          "min": "71.0",
          "max": "95.0",
          "histogram": [
           {
            "bin_start": 71,
            "bin_end": 73.4,
            "count": 1
           },
           {
            "bin_start": 73.4,
            "bin_end": 75.8,
            "count": 0
           },
           {
            "bin_start": 75.8,
            "bin_end": 78.2,
            "count": 0
           },
           {
            "bin_start": 78.2,
            "bin_end": 80.6,
            "count": 0
           },
           {
            "bin_start": 80.6,
            "bin_end": 83,
            "count": 0
           },
           {
            "bin_start": 83,
            "bin_end": 85.4,
            "count": 0
           },
           {
            "bin_start": 85.4,
            "bin_end": 87.8,
            "count": 0
           },
           {
            "bin_start": 87.8,
            "bin_end": 90.2,
            "count": 0
           },
           {
            "bin_start": 90.2,
            "bin_end": 92.6,
            "count": 0
           },
           {
            "bin_start": 92.6,
            "bin_end": 95,
            "count": 1
           }
          ]
         }
        },
        {
         "name": "team",
         "dtype": "object",
         "stats": {
          "unique_count": 3,
          "nan_count": 0,
          "categories": [
           {
            "name": "Individual Olympic Athletes",
            "count": 1
           },
           {
            "name": "Great Britain",
            "count": 1
           },
           {
            "name": "Norna",
            "count": 1
           }
          ]
         }
        },
        {
         "name": "noc",
         "dtype": "object",
         "stats": {
          "unique_count": 3,
          "nan_count": 0,
          "categories": [
           {
            "name": "IOA",
            "count": 1
           },
           {
            "name": "GBR",
            "count": 1
           },
           {
            "name": "NOR",
            "count": 1
           }
          ]
         }
        },
        {
         "name": "games",
         "dtype": "object",
         "stats": {
          "unique_count": 3,
          "nan_count": 0,
          "categories": [
           {
            "name": "2016 Summer",
            "count": 1
           },
           {
            "name": "1968 Summer",
            "count": 1
           },
           {
            "name": "1928 Summer",
            "count": 1
           }
          ]
         }
        },
        {
         "name": "year",
         "dtype": "int64",
         "stats": {
          "unique_count": 3,
          "nan_count": 0,
          "min": "1928",
          "max": "2016",
          "histogram": [
           {
            "bin_start": 1928,
            "bin_end": 1936.8,
            "count": 1
           },
           {
            "bin_start": 1936.8,
            "bin_end": 1945.6,
            "count": 0
           },
           {
            "bin_start": 1945.6,
            "bin_end": 1954.4,
            "count": 0
           },
           {
            "bin_start": 1954.4,
            "bin_end": 1963.2,
            "count": 0
           },
           {
            "bin_start": 1963.2,
            "bin_end": 1972,
            "count": 1
           },
           {
            "bin_start": 1972,
            "bin_end": 1980.8,
            "count": 0
           },
           {
            "bin_start": 1980.8,
            "bin_end": 1989.6,
            "count": 0
           },
           {
            "bin_start": 1989.6,
            "bin_end": 1998.4,
            "count": 0
           },
           {
            "bin_start": 1998.4,
            "bin_end": 2007.2,
            "count": 0
           },
           {
            "bin_start": 2007.2,
            "bin_end": 2016,
            "count": 1
           }
          ]
         }
        },
        {
         "name": "season",
         "dtype": "object",
         "stats": {
          "unique_count": 1,
          "nan_count": 0,
          "categories": [
           {
            "name": "Summer",
            "count": 3
           }
          ]
         }
        },
        {
         "name": "city",
         "dtype": "object",
         "stats": {
          "unique_count": 3,
          "nan_count": 0,
          "categories": [
           {
            "name": "Rio de Janeiro",
            "count": 1
           },
           {
            "name": "Mexico City",
            "count": 1
           },
           {
            "name": "Amsterdam",
            "count": 1
           }
          ]
         }
        },
        {
         "name": "sport",
         "dtype": "object",
         "stats": {
          "unique_count": 3,
          "nan_count": 0,
          "categories": [
           {
            "name": "Shooting",
            "count": 1
           },
           {
            "name": "Equestrianism",
            "count": 1
           },
           {
            "name": "Sailing",
            "count": 1
           }
          ]
         }
        },
        {
         "name": "event",
         "dtype": "object",
         "stats": {
          "unique_count": 3,
          "nan_count": 0,
          "categories": [
           {
            "name": "Shooting Men's Double Trap",
            "count": 1
           },
           {
            "name": "Equestrianism Mixed Three-Day Event, Team",
            "count": 1
           },
           {
            "name": "Sailing Mixed 6 metres",
            "count": 1
           }
          ]
         }
        },
        {
         "name": "medal",
         "dtype": "object",
         "stats": {
          "unique_count": 1,
          "nan_count": 0,
          "categories": [
           {
            "name": "Gold",
            "count": 3
           }
          ]
         }
        },
        {
         "name": "_deepnote_index_column",
         "dtype": "int64"
        }
       ],
       "rows_top": [
        {
         "id": 1858,
         "name": "Fehaid Al-Deehani",
         "sex": "M",
         "age": 49,
         "height": 178,
         "weight": 95,
         "team": "Individual Olympic Athletes",
         "noc": "IOA",
         "games": "2016 Summer",
         "year": 2016,
         "season": "Summer",
         "city": "Rio de Janeiro",
         "sport": "Shooting",
         "event": "Shooting Men's Double Trap",
         "medal": "Gold",
         "_deepnote_index_column": 3306
        },
        {
         "id": 2894,
         "name": "Derek Swithin Allhusen",
         "sex": "M",
         "age": 54,
         "height": 180,
         "weight": 71,
         "team": "Great Britain",
         "noc": "GBR",
         "games": "1968 Summer",
         "year": 1968,
         "season": "Summer",
         "city": "Mexico City",
         "sport": "Equestrianism",
         "event": "Equestrianism Mixed Three-Day Event, Team",
         "medal": "Gold",
         "_deepnote_index_column": 5078
        },
        {
         "id": 4404,
         "name": "Johan August Anker",
         "sex": "M",
         "age": 56,
         "height": "nan",
         "weight": "nan",
         "team": "Norna",
         "noc": "NOR",
         "games": "1928 Summer",
         "year": 1928,
         "season": "Summer",
         "city": "Amsterdam",
         "sport": "Sailing",
         "event": "Sailing Mixed 6 metres",
         "medal": "Gold",
         "_deepnote_index_column": 7961
        }
       ],
       "rows_bottom": null
      },
      "text/plain": "        id                    name sex  age  height  weight  \\\n3306  1858       Fehaid Al-Deehani   M   49   178.0    95.0   \n5078  2894  Derek Swithin Allhusen   M   54   180.0    71.0   \n7961  4404      Johan August Anker   M   56     NaN     NaN   \n\n                             team  noc        games  year  season  \\\n3306  Individual Olympic Athletes  IOA  2016 Summer  2016  Summer   \n5078                Great Britain  GBR  1968 Summer  1968  Summer   \n7961                        Norna  NOR  1928 Summer  1928  Summer   \n\n                city          sport  \\\n3306  Rio de Janeiro       Shooting   \n5078     Mexico City  Equestrianism   \n7961       Amsterdam        Sailing   \n\n                                          event medal  \n3306                 Shooting Men's Double Trap  Gold  \n5078  Equestrianism Mixed Three-Day Event, Team  Gold  \n7961                     Sailing Mixed 6 metres  Gold  ",
      "text/html": "<div>\n<style scoped>\n    .dataframe tbody tr th:only-of-type {\n        vertical-align: middle;\n    }\n\n    .dataframe tbody tr th {\n        vertical-align: top;\n    }\n\n    .dataframe thead th {\n        text-align: right;\n    }\n</style>\n<table border=\"1\" class=\"dataframe\">\n  <thead>\n    <tr style=\"text-align: right;\">\n      <th></th>\n      <th>id</th>\n      <th>name</th>\n      <th>sex</th>\n      <th>age</th>\n      <th>height</th>\n      <th>weight</th>\n      <th>team</th>\n      <th>noc</th>\n      <th>games</th>\n      <th>year</th>\n      <th>season</th>\n      <th>city</th>\n      <th>sport</th>\n      <th>event</th>\n      <th>medal</th>\n    </tr>\n  </thead>\n  <tbody>\n    <tr>\n      <th>3306</th>\n      <td>1858</td>\n      <td>Fehaid Al-Deehani</td>\n      <td>M</td>\n      <td>49</td>\n      <td>178.0</td>\n      <td>95.0</td>\n      <td>Individual Olympic Athletes</td>\n      <td>IOA</td>\n      <td>2016 Summer</td>\n      <td>2016</td>\n      <td>Summer</td>\n      <td>Rio de Janeiro</td>\n      <td>Shooting</td>\n      <td>Shooting Men's Double Trap</td>\n      <td>Gold</td>\n    </tr>\n    <tr>\n      <th>5078</th>\n      <td>2894</td>\n      <td>Derek Swithin Allhusen</td>\n      <td>M</td>\n      <td>54</td>\n      <td>180.0</td>\n      <td>71.0</td>\n      <td>Great Britain</td>\n      <td>GBR</td>\n      <td>1968 Summer</td>\n      <td>1968</td>\n      <td>Summer</td>\n      <td>Mexico City</td>\n      <td>Equestrianism</td>\n      <td>Equestrianism Mixed Three-Day Event, Team</td>\n      <td>Gold</td>\n    </tr>\n    <tr>\n      <th>7961</th>\n      <td>4404</td>\n      <td>Johan August Anker</td>\n      <td>M</td>\n      <td>56</td>\n      <td>NaN</td>\n      <td>NaN</td>\n      <td>Norna</td>\n      <td>NOR</td>\n      <td>1928 Summer</td>\n      <td>1928</td>\n      <td>Summer</td>\n      <td>Amsterdam</td>\n      <td>Sailing</td>\n      <td>Sailing Mixed 6 metres</td>\n      <td>Gold</td>\n    </tr>\n  </tbody>\n</table>\n</div>"
     },
     "metadata": {}
    }
   ]
  },
  {
   "cell_type": "markdown",
   "source": "Now let's plot all the sports these \"older athletes\" won their medals in. Let's use `sns.countplot()` with `data` and `x=\"sport\"`",
   "metadata": {
    "tags": [],
    "cell_id": "00027-de26946f-af3e-48ef-815f-3775ac8f1aa0",
    "deepnote_cell_type": "markdown"
   }
  },
  {
   "cell_type": "code",
   "metadata": {
    "tags": [],
    "cell_id": "00030-480bb3d4-afd8-4d29-8fd1-58a7ae778b68",
    "deepnote_to_be_reexecuted": false,
    "source_hash": "727677d2",
    "execution_start": 1626969124155,
    "execution_millis": 12,
    "deepnote_cell_type": "code"
   },
   "source": "df_people_older_than_majority['sport'].value_counts()",
   "execution_count": null,
   "outputs": [
    {
     "output_type": "execute_result",
     "execution_count": 43,
     "data": {
      "text/plain": "Equestrianism       28\nSailing             25\nShooting            23\nArchery             12\nArt Competitions    11\nAlpinism             4\nCurling              3\nFencing              3\nBobsleigh            1\nPolo                 1\nCroquet              1\nRoque                1\nName: sport, dtype: int64"
     },
     "metadata": {}
    }
   ]
  },
  {
   "cell_type": "code",
   "metadata": {
    "tags": [],
    "cell_id": "00026-8dbd1678-8e3a-439e-9bda-92e90047a231",
    "deepnote_to_be_reexecuted": false,
    "source_hash": "3f70af",
    "execution_start": 1626969147911,
    "execution_millis": 303,
    "output_cleared": false,
    "deepnote_cell_type": "code"
   },
   "source": "plt.figure(figsize=(14, 8))\n\nax= sns.countplot(data=df_people_older_than_majority,\n              x=\"sport\",\n              order = df_people_older_than_majority['sport'].value_counts().sort_values(ascending=True).index)",
   "execution_count": null,
   "outputs": [
    {
     "data": {
      "text/plain": "<Figure size 1008x576 with 1 Axes>",
      "image/png": "[encoded data removed]"
     },
     "metadata": {
      "needs_background": "light",
      "image/png": {
       "width": 832,
       "height": 480
      }
     },
     "output_type": "display_data"
    }
   ]
  },
  {
   "cell_type": "markdown",
   "source": "# WHAT CAN YOU COMMENT ABOUT THE GRAPH ABOVE?",
   "metadata": {
    "tags": [],
    "is_collapsed": false,
    "cell_id": "00027-486c4f9f-ac13-4698-97b5-e66614bcf2af",
    "deepnote_cell_type": "text-cell-h1"
   }
  },
  {
   "cell_type": "markdown",
   "source": "Filter the original dataframe where you select only female `F` from `sex` and `summer` olympics in `season`. You should have a filtered dataframe of only women, attending summer olympics.",
   "metadata": {
    "tags": [],
    "cell_id": "00028-efb5cce0-bee5-4cf4-88c6-cea540232488",
    "deepnote_cell_type": "markdown"
   }
  },
  {
   "cell_type": "code",
   "metadata": {
    "tags": [],
    "cell_id": "00034-86347ef8-1378-4920-b704-82b307bb4504",
    "deepnote_to_be_reexecuted": false,
    "source_hash": "c6508917",
    "execution_start": 1626969811295,
    "execution_millis": 79,
    "deepnote_cell_type": "code"
   },
   "source": "\ndf_women_golden = df[(df[\"sex\"] == 'F') ] #& (df[\"season\"] == 'Winter')\ndf_women_golden.head(2)",
   "execution_count": null,
   "outputs": [
    {
     "output_type": "execute_result",
     "execution_count": 73,
     "data": {
      "application/vnd.deepnote.dataframe.v2+json": {
       "row_count": 2,
       "column_count": 15,
       "columns": [
        {
         "name": "id",
         "dtype": "int64",
         "stats": {
          "unique_count": 1,
          "nan_count": 0,
          "min": "5",
          "max": "5",
          "histogram": [
           {
            "bin_start": 4.5,
            "bin_end": 4.6,
            "count": 0
           },
           {
            "bin_start": 4.6,
            "bin_end": 4.7,
            "count": 0
           },
           {
            "bin_start": 4.7,
            "bin_end": 4.8,
            "count": 0
           },
           {
            "bin_start": 4.8,
            "bin_end": 4.9,
            "count": 0
           },
           {
            "bin_start": 4.9,
            "bin_end": 5,
            "count": 0
           },
           {
            "bin_start": 5,
            "bin_end": 5.1,
            "count": 2
           },
           {
            "bin_start": 5.1,
            "bin_end": 5.2,
            "count": 0
           },
           {
            "bin_start": 5.2,
            "bin_end": 5.3,
            "count": 0
           },
           {
            "bin_start": 5.3,
            "bin_end": 5.4,
            "count": 0
           },
           {
            "bin_start": 5.4,
            "bin_end": 5.5,
            "count": 0
           }
          ]
         }
        },
        {
         "name": "name",
         "dtype": "object",
         "stats": {
          "unique_count": 1,
          "nan_count": 0,
          "categories": [
           {
            "name": "Christine Jacoba Aaftink",
            "count": 2
           }
          ]
         }
        },
        {
         "name": "sex",
         "dtype": "object",
         "stats": {
          "unique_count": 1,
          "nan_count": 0,
          "categories": [
           {
            "name": "F",
            "count": 2
           }
          ]
         }
        },
        {
         "name": "age",
         "dtype": "float64",
         "stats": {
          "unique_count": 1,
          "nan_count": 0,
          "min": "21.0",
          "max": "21.0",
          "histogram": [
           {
            "bin_start": 20.5,
            "bin_end": 20.6,
            "count": 0
           },
           {
            "bin_start": 20.6,
            "bin_end": 20.7,
            "count": 0
           },
           {
            "bin_start": 20.7,
            "bin_end": 20.8,
            "count": 0
           },
           {
            "bin_start": 20.8,
            "bin_end": 20.9,
            "count": 0
           },
           {
            "bin_start": 20.9,
            "bin_end": 21,
            "count": 0
           },
           {
            "bin_start": 21,
            "bin_end": 21.1,
            "count": 2
           },
           {
            "bin_start": 21.1,
            "bin_end": 21.2,
            "count": 0
           },
           {
            "bin_start": 21.2,
            "bin_end": 21.3,
            "count": 0
           },
           {
            "bin_start": 21.3,
            "bin_end": 21.4,
            "count": 0
           },
           {
            "bin_start": 21.4,
            "bin_end": 21.5,
            "count": 0
           }
          ]
         }
        },
        {
         "name": "height",
         "dtype": "float64",
         "stats": {
          "unique_count": 1,
          "nan_count": 0,
          "min": "185.0",
          "max": "185.0",
          "histogram": [
           {
            "bin_start": 184.5,
            "bin_end": 184.6,
            "count": 0
           },
           {
            "bin_start": 184.6,
            "bin_end": 184.7,
            "count": 0
           },
           {
            "bin_start": 184.7,
            "bin_end": 184.8,
            "count": 0
           },
           {
            "bin_start": 184.8,
            "bin_end": 184.9,
            "count": 0
           },
           {
            "bin_start": 184.9,
            "bin_end": 185,
            "count": 0
           },
           {
            "bin_start": 185,
            "bin_end": 185.1,
            "count": 2
           },
           {
            "bin_start": 185.1,
            "bin_end": 185.2,
            "count": 0
           },
           {
            "bin_start": 185.2,
            "bin_end": 185.3,
            "count": 0
           },
           {
            "bin_start": 185.3,
            "bin_end": 185.4,
            "count": 0
           },
           {
            "bin_start": 185.4,
            "bin_end": 185.5,
            "count": 0
           }
          ]
         }
        },
        {
         "name": "weight",
         "dtype": "float64",
         "stats": {
          "unique_count": 1,
          "nan_count": 0,
          "min": "82.0",
          "max": "82.0",
          "histogram": [
           {
            "bin_start": 81.5,
            "bin_end": 81.6,
            "count": 0
           },
           {
            "bin_start": 81.6,
            "bin_end": 81.7,
            "count": 0
           },
           {
            "bin_start": 81.7,
            "bin_end": 81.8,
            "count": 0
           },
           {
            "bin_start": 81.8,
            "bin_end": 81.9,
            "count": 0
           },
           {
            "bin_start": 81.9,
            "bin_end": 82,
            "count": 0
           },
           {
            "bin_start": 82,
            "bin_end": 82.1,
            "count": 2
           },
           {
            "bin_start": 82.1,
            "bin_end": 82.2,
            "count": 0
           },
           {
            "bin_start": 82.2,
            "bin_end": 82.3,
            "count": 0
           },
           {
            "bin_start": 82.3,
            "bin_end": 82.4,
            "count": 0
           },
           {
            "bin_start": 82.4,
            "bin_end": 82.5,
            "count": 0
           }
          ]
         }
        },
        {
         "name": "team",
         "dtype": "object",
         "stats": {
          "unique_count": 1,
          "nan_count": 0,
          "categories": [
           {
            "name": "Netherlands",
            "count": 2
           }
          ]
         }
        },
        {
         "name": "noc",
         "dtype": "object",
         "stats": {
          "unique_count": 1,
          "nan_count": 0,
          "categories": [
           {
            "name": "NED",
            "count": 2
           }
          ]
         }
        },
        {
         "name": "games",
         "dtype": "object",
         "stats": {
          "unique_count": 1,
          "nan_count": 0,
          "categories": [
           {
            "name": "1988 Winter",
            "count": 2
           }
          ]
         }
        },
        {
         "name": "year",
         "dtype": "int64",
         "stats": {
          "unique_count": 1,
          "nan_count": 0,
          "min": "1988",
          "max": "1988",
          "histogram": [
           {
            "bin_start": 1987.5,
            "bin_end": 1987.6,
            "count": 0
           },
           {
            "bin_start": 1987.6,
            "bin_end": 1987.7,
            "count": 0
           },
           {
            "bin_start": 1987.7,
            "bin_end": 1987.8,
            "count": 0
           },
           {
            "bin_start": 1987.8,
            "bin_end": 1987.9,
            "count": 0
           },
           {
            "bin_start": 1987.9,
            "bin_end": 1988,
            "count": 0
           },
           {
            "bin_start": 1988,
            "bin_end": 1988.1,
            "count": 2
           },
           {
            "bin_start": 1988.1,
            "bin_end": 1988.2,
            "count": 0
           },
           {
            "bin_start": 1988.2,
            "bin_end": 1988.3,
            "count": 0
           },
           {
            "bin_start": 1988.3,
            "bin_end": 1988.4,
            "count": 0
           },
           {
            "bin_start": 1988.4,
            "bin_end": 1988.5,
            "count": 0
           }
          ]
         }
        },
        {
         "name": "season",
         "dtype": "object",
         "stats": {
          "unique_count": 1,
          "nan_count": 0,
          "categories": [
           {
            "name": "Winter",
            "count": 2
           }
          ]
         }
        },
        {
         "name": "city",
         "dtype": "object",
         "stats": {
          "unique_count": 1,
          "nan_count": 0,
          "categories": [
           {
            "name": "Calgary",
            "count": 2
           }
          ]
         }
        },
        {
         "name": "sport",
         "dtype": "object",
         "stats": {
          "unique_count": 1,
          "nan_count": 0,
          "categories": [
           {
            "name": "Speed Skating",
            "count": 2
           }
          ]
         }
        },
        {
         "name": "event",
         "dtype": "object",
         "stats": {
          "unique_count": 2,
          "nan_count": 0,
          "categories": [
           {
            "name": "Speed Skating Women's 500 metres",
            "count": 1
           },
           {
            "name": "Speed Skating Women's 1,000 metres",
            "count": 1
           }
          ]
         }
        },
        {
         "name": "medal",
         "dtype": "object",
         "stats": {
          "unique_count": 0,
          "nan_count": 2,
          "categories": [
           {
            "name": "Missing",
            "count": 2
           }
          ]
         }
        },
        {
         "name": "_deepnote_index_column",
         "dtype": "int64"
        }
       ],
       "rows_top": [
        {
         "id": 5,
         "name": "Christine Jacoba Aaftink",
         "sex": "F",
         "age": 21,
         "height": 185,
         "weight": 82,
         "team": "Netherlands",
         "noc": "NED",
         "games": "1988 Winter",
         "year": 1988,
         "season": "Winter",
         "city": "Calgary",
         "sport": "Speed Skating",
         "event": "Speed Skating Women's 500 metres",
         "medal": "nan",
         "_deepnote_index_column": 4
        },
        {
         "id": 5,
         "name": "Christine Jacoba Aaftink",
         "sex": "F",
         "age": 21,
         "height": 185,
         "weight": 82,
         "team": "Netherlands",
         "noc": "NED",
         "games": "1988 Winter",
         "year": 1988,
         "season": "Winter",
         "city": "Calgary",
         "sport": "Speed Skating",
         "event": "Speed Skating Women's 1,000 metres",
         "medal": "nan",
         "_deepnote_index_column": 5
        }
       ],
       "rows_bottom": null
      },
      "text/plain": "   id                      name sex   age  height  weight         team  noc  \\\n4   5  Christine Jacoba Aaftink   F  21.0   185.0    82.0  Netherlands  NED   \n5   5  Christine Jacoba Aaftink   F  21.0   185.0    82.0  Netherlands  NED   \n\n         games  year  season     city          sport  \\\n4  1988 Winter  1988  Winter  Calgary  Speed Skating   \n5  1988 Winter  1988  Winter  Calgary  Speed Skating   \n\n                                event medal  \n4    Speed Skating Women's 500 metres   NaN  \n5  Speed Skating Women's 1,000 metres   NaN  ",
      "text/html": "<div>\n<style scoped>\n    .dataframe tbody tr th:only-of-type {\n        vertical-align: middle;\n    }\n\n    .dataframe tbody tr th {\n        vertical-align: top;\n    }\n\n    .dataframe thead th {\n        text-align: right;\n    }\n</style>\n<table border=\"1\" class=\"dataframe\">\n  <thead>\n    <tr style=\"text-align: right;\">\n      <th></th>\n      <th>id</th>\n      <th>name</th>\n      <th>sex</th>\n      <th>age</th>\n      <th>height</th>\n      <th>weight</th>\n      <th>team</th>\n      <th>noc</th>\n      <th>games</th>\n      <th>year</th>\n      <th>season</th>\n      <th>city</th>\n      <th>sport</th>\n      <th>event</th>\n      <th>medal</th>\n    </tr>\n  </thead>\n  <tbody>\n    <tr>\n      <th>4</th>\n      <td>5</td>\n      <td>Christine Jacoba Aaftink</td>\n      <td>F</td>\n      <td>21.0</td>\n      <td>185.0</td>\n      <td>82.0</td>\n      <td>Netherlands</td>\n      <td>NED</td>\n      <td>1988 Winter</td>\n      <td>1988</td>\n      <td>Winter</td>\n      <td>Calgary</td>\n      <td>Speed Skating</td>\n      <td>Speed Skating Women's 500 metres</td>\n      <td>NaN</td>\n    </tr>\n    <tr>\n      <th>5</th>\n      <td>5</td>\n      <td>Christine Jacoba Aaftink</td>\n      <td>F</td>\n      <td>21.0</td>\n      <td>185.0</td>\n      <td>82.0</td>\n      <td>Netherlands</td>\n      <td>NED</td>\n      <td>1988 Winter</td>\n      <td>1988</td>\n      <td>Winter</td>\n      <td>Calgary</td>\n      <td>Speed Skating</td>\n      <td>Speed Skating Women's 1,000 metres</td>\n      <td>NaN</td>\n    </tr>\n  </tbody>\n</table>\n</div>"
     },
     "metadata": {}
    }
   ]
  },
  {
   "cell_type": "markdown",
   "source": "Let's plot women's attendance per year. We will use `sns.countplot()` where `data=df_women_summer` and `x=\"year\"` ",
   "metadata": {
    "tags": [],
    "cell_id": "00030-f3c3ead9-1bce-410d-adc6-0fa82f472a87",
    "deepnote_cell_type": "markdown"
   }
  },
  {
   "cell_type": "code",
   "metadata": {
    "tags": [],
    "cell_id": "00029-b1adc9f3-85bb-4271-8b03-e9b61e7ce4a8",
    "deepnote_to_be_reexecuted": false,
    "source_hash": "ff470654",
    "execution_start": 1626969818476,
    "execution_millis": 835,
    "output_cleared": false,
    "deepnote_cell_type": "code"
   },
   "source": "ax = plt.subplots(figsize = (20,8))\nax= sns.countplot(data=df_women_golden,\n              x=\"year\",\n              hue=\"season\")",
   "execution_count": null,
   "outputs": [
    {
     "data": {
      "text/plain": "<Figure size 1440x576 with 1 Axes>",
      "image/png": "[encoded data removed]"
     },
     "metadata": {
      "needs_background": "light",
      "image/png": {
       "width": 1176,
       "height": 480
      }
     },
     "output_type": "display_data"
    }
   ]
  },
  {
   "cell_type": "code",
   "metadata": {
    "tags": [],
    "cell_id": "00037-5dcb2275-bb46-4540-8ea4-7450f8f78c81",
    "deepnote_to_be_reexecuted": false,
    "source_hash": "a153acd6",
    "execution_start": 1626969999338,
    "execution_millis": 11,
    "deepnote_cell_type": "code"
   },
   "source": "df_women_golden_winter = df_women_golden[df_women_golden[\"season\"] == \"Winter\"]",
   "execution_count": null,
   "outputs": []
  },
  {
   "cell_type": "code",
   "metadata": {
    "tags": [],
    "cell_id": "00038-9646f2c6-180d-4176-8c09-99c606332567",
    "deepnote_to_be_reexecuted": false,
    "source_hash": "466d46c5",
    "execution_start": 1626970344611,
    "execution_millis": 424,
    "deepnote_cell_type": "code"
   },
   "source": "ax = plt.subplots(figsize = (20,8))\nax= sns.countplot(data=df_women_golden_winter,\n              x=\"sport\",\n              order = df_women_golden_winter[\"sport\"].value_counts().sort_values(ascending=False).index)\nplt.xticks(rotation=35, horizontalalignment=\"right\")",
   "execution_count": null,
   "outputs": [
    {
     "output_type": "execute_result",
     "execution_count": 111,
     "data": {
      "text/plain": "(array([ 0,  1,  2,  3,  4,  5,  6,  7,  8,  9, 10, 11, 12, 13]),\n [Text(0, 0, 'Alpine Skiing'),\n  Text(1, 0, 'Cross Country Skiing'),\n  Text(2, 0, 'Speed Skating'),\n  Text(3, 0, 'Biathlon'),\n  Text(4, 0, 'Figure Skating'),\n  Text(5, 0, 'Short Track Speed Skating'),\n  Text(6, 0, 'Ice Hockey'),\n  Text(7, 0, 'Freestyle Skiing'),\n  Text(8, 0, 'Snowboarding'),\n  Text(9, 0, 'Luge'),\n  Text(10, 0, 'Curling'),\n  Text(11, 0, 'Bobsleigh'),\n  Text(12, 0, 'Skeleton'),\n  Text(13, 0, 'Ski Jumping')])"
     },
     "metadata": {}
    },
    {
     "data": {
      "text/plain": "<Figure size 1440x576 with 1 Axes>",
      "image/png": "[encoded data removed]"
     },
     "metadata": {
      "needs_background": "light",
      "image/png": {
       "width": 1176,
       "height": 553
      }
     },
     "output_type": "display_data"
    }
   ]
  },
  {
   "cell_type": "markdown",
   "source": "# WHAT CAN YOU SAY ABOUT THIS?",
   "metadata": {
    "tags": [],
    "is_collapsed": false,
    "cell_id": "00032-0b22b38a-f059-4828-9527-014048d7a395",
    "deepnote_cell_type": "text-cell-h1"
   }
  },
  {
   "cell_type": "markdown",
   "source": "Let's expand on the above idea, and take the filtered women's dataset, and plot their ages for every single year.\n\nTo do this, we will use `sns.boxplot()` where `data=filtered_women_summer`, `x=\"year\"` and `y=\"age\"`",
   "metadata": {
    "tags": [],
    "cell_id": "00033-aaeb2fad-c5bb-4908-bf03-da2376affca6",
    "deepnote_cell_type": "markdown"
   }
  },
  {
   "cell_type": "code",
   "metadata": {
    "tags": [],
    "cell_id": "00033-35f239f5-4cad-4b80-ac80-944b9753a95a",
    "deepnote_to_be_reexecuted": false,
    "source_hash": "9b523e31",
    "execution_start": 1626970453059,
    "execution_millis": 932,
    "output_cleared": false,
    "deepnote_cell_type": "code"
   },
   "source": "plt.figure(figsize=(20, 8))\n\nax= sns.boxplot(data=df_women_summer,\n                  x=\"year\",\n                  y=\"age\", showfliers = False)\n",
   "execution_count": null,
   "outputs": [
    {
     "data": {
      "text/plain": "<Figure size 1440x576 with 1 Axes>",
      "image/png": "[encoded data removed]"
     },
     "metadata": {
      "needs_background": "light",
      "image/png": {
       "width": 1164,
       "height": 480
      }
     },
     "output_type": "display_data"
    }
   ]
  },
  {
   "cell_type": "code",
   "metadata": {
    "tags": [],
    "cell_id": "00042-a88cde67-d95c-43a0-a45a-c3e0a57f7008",
    "deepnote_to_be_reexecuted": false,
    "source_hash": "600ca233",
    "execution_start": 1626970950013,
    "execution_millis": 438,
    "deepnote_cell_type": "code"
   },
   "source": "plt.figure(figsize=(20, 8))\n\nax= sns.boxplot(data=df_women_summer[df_women_summer[\"year\"] == 1932],\n                  x=\"sport\",\n                  y=\"age\", showfliers = False)",
   "execution_count": null,
   "outputs": [
    {
     "data": {
      "text/plain": "<Figure size 1440x576 with 1 Axes>",
      "image/png": "[encoded data removed]"
     },
     "metadata": {
      "needs_background": "light",
      "image/png": {
       "width": 1164,
       "height": 480
      }
     },
     "output_type": "display_data"
    }
   ]
  },
  {
   "cell_type": "code",
   "metadata": {
    "tags": [],
    "cell_id": "00043-7fbc60af-f54d-404c-a6b1-7bba2d380440",
    "deepnote_to_be_reexecuted": false,
    "source_hash": "9e3de5bf",
    "execution_start": 1626970851391,
    "execution_millis": 60,
    "deepnote_cell_type": "code"
   },
   "source": "df[df[\"sport\"]== \"Art Competitions\"].groupby(\"year\").count()",
   "execution_count": null,
   "outputs": [
    {
     "output_type": "execute_result",
     "execution_count": 120,
     "data": {
      "application/vnd.deepnote.dataframe.v2+json": {
       "row_count": 7,
       "column_count": 14,
       "columns": [
        {
         "name": "id",
         "dtype": "int64",
         "stats": {
          "unique_count": 7,
          "nan_count": 0,
          "min": "11",
          "max": "1124",
          "histogram": [
           {
            "bin_start": 11,
            "bin_end": 122.3,
            "count": 2
           },
           {
            "bin_start": 122.3,
            "bin_end": 233.6,
            "count": 0
           },
           {
            "bin_start": 233.6,
            "bin_end": 344.9,
            "count": 1
           },
           {
            "bin_start": 344.9,
            "bin_end": 456.2,
            "count": 0
           },
           {
            "bin_start": 456.2,
            "bin_end": 567.5,
            "count": 1
           },
           {
            "bin_start": 567.5,
            "bin_end": 678.8,
            "count": 0
           },
           {
            "bin_start": 678.8,
            "bin_end": 790.1,
            "count": 0
           },
           {
            "bin_start": 790.1,
            "bin_end": 901.4,
            "count": 2
           },
           {
            "bin_start": 901.4,
            "bin_end": 1012.6999999999999,
            "count": 0
           },
           {
            "bin_start": 1012.6999999999999,
            "bin_end": 1124,
            "count": 1
           }
          ]
         }
        },
        {
         "name": "name",
         "dtype": "int64",
         "stats": {
          "unique_count": 7,
          "nan_count": 0,
          "min": "11",
          "max": "1124",
          "histogram": [
           {
            "bin_start": 11,
            "bin_end": 122.3,
            "count": 2
           },
           {
            "bin_start": 122.3,
            "bin_end": 233.6,
            "count": 0
           },
           {
            "bin_start": 233.6,
            "bin_end": 344.9,
            "count": 1
           },
           {
            "bin_start": 344.9,
            "bin_end": 456.2,
            "count": 0
           },
           {
            "bin_start": 456.2,
            "bin_end": 567.5,
            "count": 1
           },
           {
            "bin_start": 567.5,
            "bin_end": 678.8,
            "count": 0
           },
           {
            "bin_start": 678.8,
            "bin_end": 790.1,
            "count": 0
           },
           {
            "bin_start": 790.1,
            "bin_end": 901.4,
            "count": 2
           },
           {
            "bin_start": 901.4,
            "bin_end": 1012.6999999999999,
            "count": 0
           },
           {
            "bin_start": 1012.6999999999999,
            "bin_end": 1124,
            "count": 1
           }
          ]
         }
        },
        {
         "name": "sex",
         "dtype": "int64",
         "stats": {
          "unique_count": 7,
          "nan_count": 0,
          "min": "11",
          "max": "1124",
          "histogram": [
           {
            "bin_start": 11,
            "bin_end": 122.3,
            "count": 2
           },
           {
            "bin_start": 122.3,
            "bin_end": 233.6,
            "count": 0
           },
           {
            "bin_start": 233.6,
            "bin_end": 344.9,
            "count": 1
           },
           {
            "bin_start": 344.9,
            "bin_end": 456.2,
            "count": 0
           },
           {
            "bin_start": 456.2,
            "bin_end": 567.5,
            "count": 1
           },
           {
            "bin_start": 567.5,
            "bin_end": 678.8,
            "count": 0
           },
           {
            "bin_start": 678.8,
            "bin_end": 790.1,
            "count": 0
           },
           {
            "bin_start": 790.1,
            "bin_end": 901.4,
            "count": 2
           },
           {
            "bin_start": 901.4,
            "bin_end": 1012.6999999999999,
            "count": 0
           },
           {
            "bin_start": 1012.6999999999999,
            "bin_end": 1124,
            "count": 1
           }
          ]
         }
        },
        {
         "name": "age",
         "dtype": "int64",
         "stats": {
          "unique_count": 7,
          "nan_count": 0,
          "min": "11",
          "max": "1015",
          "histogram": [
           {
            "bin_start": 11,
            "bin_end": 111.4,
            "count": 2
           },
           {
            "bin_start": 111.4,
            "bin_end": 211.8,
            "count": 0
           },
           {
            "bin_start": 211.8,
            "bin_end": 312.20000000000005,
            "count": 1
           },
           {
            "bin_start": 312.20000000000005,
            "bin_end": 412.6,
            "count": 1
           },
           {
            "bin_start": 412.6,
            "bin_end": 513,
            "count": 0
           },
           {
            "bin_start": 513,
            "bin_end": 613.4000000000001,
            "count": 0
           },
           {
            "bin_start": 613.4000000000001,
            "bin_end": 713.8000000000001,
            "count": 2
           },
           {
            "bin_start": 713.8000000000001,
            "bin_end": 814.2,
            "count": 0
           },
           {
            "bin_start": 814.2,
            "bin_end": 914.6,
            "count": 0
           },
           {
            "bin_start": 914.6,
            "bin_end": 1015,
            "count": 1
           }
          ]
         }
        },
        {
         "name": "height",
         "dtype": "int64",
         "stats": {
          "unique_count": 6,
          "nan_count": 0,
          "min": "0",
          "max": "42",
          "histogram": [
           {
            "bin_start": 0,
            "bin_end": 4.2,
            "count": 5
           },
           {
            "bin_start": 4.2,
            "bin_end": 8.4,
            "count": 0
           },
           {
            "bin_start": 8.4,
            "bin_end": 12.600000000000001,
            "count": 1
           },
           {
            "bin_start": 12.600000000000001,
            "bin_end": 16.8,
            "count": 0
           },
           {
            "bin_start": 16.8,
            "bin_end": 21,
            "count": 0
           },
           {
            "bin_start": 21,
            "bin_end": 25.200000000000003,
            "count": 0
           },
           {
            "bin_start": 25.200000000000003,
            "bin_end": 29.400000000000002,
            "count": 0
           },
           {
            "bin_start": 29.400000000000002,
            "bin_end": 33.6,
            "count": 0
           },
           {
            "bin_start": 33.6,
            "bin_end": 37.800000000000004,
            "count": 0
           },
           {
            "bin_start": 37.800000000000004,
            "bin_end": 42,
            "count": 1
           }
          ]
         }
        },
        {
         "name": "weight",
         "dtype": "int64",
         "stats": {
          "unique_count": 6,
          "nan_count": 0,
          "min": "0",
          "max": "45",
          "histogram": [
           {
            "bin_start": 0,
            "bin_end": 4.5,
            "count": 6
           },
           {
            "bin_start": 4.5,
            "bin_end": 9,
            "count": 0
           },
           {
            "bin_start": 9,
            "bin_end": 13.5,
            "count": 0
           },
           {
            "bin_start": 13.5,
            "bin_end": 18,
            "count": 0
           },
           {
            "bin_start": 18,
            "bin_end": 22.5,
            "count": 0
           },
           {
            "bin_start": 22.5,
            "bin_end": 27,
            "count": 0
           },
           {
            "bin_start": 27,
            "bin_end": 31.5,
            "count": 0
           },
           {
            "bin_start": 31.5,
            "bin_end": 36,
            "count": 0
           },
           {
            "bin_start": 36,
            "bin_end": 40.5,
            "count": 0
           },
           {
            "bin_start": 40.5,
            "bin_end": 45,
            "count": 1
           }
          ]
         }
        },
        {
         "name": "team",
         "dtype": "int64",
         "stats": {
          "unique_count": 7,
          "nan_count": 0,
          "min": "11",
          "max": "1124",
          "histogram": [
           {
            "bin_start": 11,
            "bin_end": 122.3,
            "count": 2
           },
           {
            "bin_start": 122.3,
            "bin_end": 233.6,
            "count": 0
           },
           {
            "bin_start": 233.6,
            "bin_end": 344.9,
            "count": 1
           },
           {
            "bin_start": 344.9,
            "bin_end": 456.2,
            "count": 0
           },
           {
            "bin_start": 456.2,
            "bin_end": 567.5,
            "count": 1
           },
           {
            "bin_start": 567.5,
            "bin_end": 678.8,
            "count": 0
           },
           {
            "bin_start": 678.8,
            "bin_end": 790.1,
            "count": 0
           },
           {
            "bin_start": 790.1,
            "bin_end": 901.4,
            "count": 2
           },
           {
            "bin_start": 901.4,
            "bin_end": 1012.6999999999999,
            "count": 0
           },
           {
            "bin_start": 1012.6999999999999,
            "bin_end": 1124,
            "count": 1
           }
          ]
         }
        },
        {
         "name": "noc",
         "dtype": "int64",
         "stats": {
          "unique_count": 7,
          "nan_count": 0,
          "min": "11",
          "max": "1124",
          "histogram": [
           {
            "bin_start": 11,
            "bin_end": 122.3,
            "count": 2
           },
           {
            "bin_start": 122.3,
            "bin_end": 233.6,
            "count": 0
           },
           {
            "bin_start": 233.6,
            "bin_end": 344.9,
            "count": 1
           },
           {
            "bin_start": 344.9,
            "bin_end": 456.2,
            "count": 0
           },
           {
            "bin_start": 456.2,
            "bin_end": 567.5,
            "count": 1
           },
           {
            "bin_start": 567.5,
            "bin_end": 678.8,
            "count": 0
           },
           {
            "bin_start": 678.8,
            "bin_end": 790.1,
            "count": 0
           },
           {
            "bin_start": 790.1,
            "bin_end": 901.4,
            "count": 2
           },
           {
            "bin_start": 901.4,
            "bin_end": 1012.6999999999999,
            "count": 0
           },
           {
            "bin_start": 1012.6999999999999,
            "bin_end": 1124,
            "count": 1
           }
          ]
         }
        },
        {
         "name": "games",
         "dtype": "int64",
         "stats": {
          "unique_count": 7,
          "nan_count": 0,
          "min": "11",
          "max": "1124",
          "histogram": [
           {
            "bin_start": 11,
            "bin_end": 122.3,
            "count": 2
           },
           {
            "bin_start": 122.3,
            "bin_end": 233.6,
            "count": 0
           },
           {
            "bin_start": 233.6,
            "bin_end": 344.9,
            "count": 1
           },
           {
            "bin_start": 344.9,
            "bin_end": 456.2,
            "count": 0
           },
           {
            "bin_start": 456.2,
            "bin_end": 567.5,
            "count": 1
           },
           {
            "bin_start": 567.5,
            "bin_end": 678.8,
            "count": 0
           },
           {
            "bin_start": 678.8,
            "bin_end": 790.1,
            "count": 0
           },
           {
            "bin_start": 790.1,
            "bin_end": 901.4,
            "count": 2
           },
           {
            "bin_start": 901.4,
            "bin_end": 1012.6999999999999,
            "count": 0
           },
           {
            "bin_start": 1012.6999999999999,
            "bin_end": 1124,
            "count": 1
           }
          ]
         }
        },
        {
         "name": "season",
         "dtype": "int64",
         "stats": {
          "unique_count": 7,
          "nan_count": 0,
          "min": "11",
          "max": "1124",
          "histogram": [
           {
            "bin_start": 11,
            "bin_end": 122.3,
            "count": 2
           },
           {
            "bin_start": 122.3,
            "bin_end": 233.6,
            "count": 0
           },
           {
            "bin_start": 233.6,
            "bin_end": 344.9,
            "count": 1
           },
           {
            "bin_start": 344.9,
            "bin_end": 456.2,
            "count": 0
           },
           {
            "bin_start": 456.2,
            "bin_end": 567.5,
            "count": 1
           },
           {
            "bin_start": 567.5,
            "bin_end": 678.8,
            "count": 0
           },
           {
            "bin_start": 678.8,
            "bin_end": 790.1,
            "count": 0
           },
           {
            "bin_start": 790.1,
            "bin_end": 901.4,
            "count": 2
           },
           {
            "bin_start": 901.4,
            "bin_end": 1012.6999999999999,
            "count": 0
           },
           {
            "bin_start": 1012.6999999999999,
            "bin_end": 1124,
            "count": 1
           }
          ]
         }
        },
        {
         "name": "city",
         "dtype": "int64",
         "stats": {
          "unique_count": 7,
          "nan_count": 0,
          "min": "11",
          "max": "1124",
          "histogram": [
           {
            "bin_start": 11,
            "bin_end": 122.3,
            "count": 2
           },
           {
            "bin_start": 122.3,
            "bin_end": 233.6,
            "count": 0
           },
           {
            "bin_start": 233.6,
            "bin_end": 344.9,
            "count": 1
           },
           {
            "bin_start": 344.9,
            "bin_end": 456.2,
            "count": 0
           },
           {
            "bin_start": 456.2,
            "bin_end": 567.5,
            "count": 1
           },
           {
            "bin_start": 567.5,
            "bin_end": 678.8,
            "count": 0
           },
           {
            "bin_start": 678.8,
            "bin_end": 790.1,
            "count": 0
           },
           {
            "bin_start": 790.1,
            "bin_end": 901.4,
            "count": 2
           },
           {
            "bin_start": 901.4,
            "bin_end": 1012.6999999999999,
            "count": 0
           },
           {
            "bin_start": 1012.6999999999999,
            "bin_end": 1124,
            "count": 1
           }
          ]
         }
        },
        {
         "name": "sport",
         "dtype": "int64",
         "stats": {
          "unique_count": 7,
          "nan_count": 0,
          "min": "11",
          "max": "1124",
          "histogram": [
           {
            "bin_start": 11,
            "bin_end": 122.3,
            "count": 2
           },
           {
            "bin_start": 122.3,
            "bin_end": 233.6,
            "count": 0
           },
           {
            "bin_start": 233.6,
            "bin_end": 344.9,
            "count": 1
           },
           {
            "bin_start": 344.9,
            "bin_end": 456.2,
            "count": 0
           },
           {
            "bin_start": 456.2,
            "bin_end": 567.5,
            "count": 1
           },
           {
            "bin_start": 567.5,
            "bin_end": 678.8,
            "count": 0
           },
           {
            "bin_start": 678.8,
            "bin_end": 790.1,
            "count": 0
           },
           {
            "bin_start": 790.1,
            "bin_end": 901.4,
            "count": 2
           },
           {
            "bin_start": 901.4,
            "bin_end": 1012.6999999999999,
            "count": 0
           },
           {
            "bin_start": 1012.6999999999999,
            "bin_end": 1124,
            "count": 1
           }
          ]
         }
        },
        {
         "name": "event",
         "dtype": "int64",
         "stats": {
          "unique_count": 7,
          "nan_count": 0,
          "min": "11",
          "max": "1124",
          "histogram": [
           {
            "bin_start": 11,
            "bin_end": 122.3,
            "count": 2
           },
           {
            "bin_start": 122.3,
            "bin_end": 233.6,
            "count": 0
           },
           {
            "bin_start": 233.6,
            "bin_end": 344.9,
            "count": 1
           },
           {
            "bin_start": 344.9,
            "bin_end": 456.2,
            "count": 0
           },
           {
            "bin_start": 456.2,
            "bin_end": 567.5,
            "count": 1
           },
           {
            "bin_start": 567.5,
            "bin_end": 678.8,
            "count": 0
           },
           {
            "bin_start": 678.8,
            "bin_end": 790.1,
            "count": 0
           },
           {
            "bin_start": 790.1,
            "bin_end": 901.4,
            "count": 2
           },
           {
            "bin_start": 901.4,
            "bin_end": 1012.6999999999999,
            "count": 0
           },
           {
            "bin_start": 1012.6999999999999,
            "bin_end": 1124,
            "count": 1
           }
          ]
         }
        },
        {
         "name": "medal",
         "dtype": "int64",
         "stats": {
          "unique_count": 7,
          "nan_count": 0,
          "min": "7",
          "max": "35",
          "histogram": [
           {
            "bin_start": 7,
            "bin_end": 9.8,
            "count": 1
           },
           {
            "bin_start": 9.8,
            "bin_end": 12.6,
            "count": 1
           },
           {
            "bin_start": 12.6,
            "bin_end": 15.399999999999999,
            "count": 1
           },
           {
            "bin_start": 15.399999999999999,
            "bin_end": 18.2,
            "count": 0
           },
           {
            "bin_start": 18.2,
            "bin_end": 21,
            "count": 0
           },
           {
            "bin_start": 21,
            "bin_end": 23.799999999999997,
            "count": 0
           },
           {
            "bin_start": 23.799999999999997,
            "bin_end": 26.599999999999998,
            "count": 1
           },
           {
            "bin_start": 26.599999999999998,
            "bin_end": 29.4,
            "count": 0
           },
           {
            "bin_start": 29.4,
            "bin_end": 32.2,
            "count": 1
           },
           {
            "bin_start": 32.2,
            "bin_end": 35,
            "count": 2
           }
          ]
         }
        },
        {
         "name": "_deepnote_index_column",
         "dtype": "int64"
        }
       ],
       "rows_top": [
        {
         "id": 33,
         "name": 33,
         "sex": 33,
         "age": 25,
         "height": 0,
         "weight": 0,
         "team": 33,
         "noc": 33,
         "games": 33,
         "season": 33,
         "city": 33,
         "sport": 33,
         "event": 33,
         "medal": 7,
         "_deepnote_index_column": 1912
        },
        {
         "id": 11,
         "name": 11,
         "sex": 11,
         "age": 11,
         "height": 0,
         "weight": 0,
         "team": 11,
         "noc": 11,
         "games": 11,
         "season": 11,
         "city": 11,
         "sport": 11,
         "event": 11,
         "medal": 11,
         "_deepnote_index_column": 1920
        },
        {
         "id": 318,
         "name": 318,
         "sex": 318,
         "age": 226,
         "height": 9,
         "weight": 3,
         "team": 318,
         "noc": 318,
         "games": 318,
         "season": 318,
         "city": 318,
         "sport": 318,
         "event": 318,
         "medal": 15,
         "_deepnote_index_column": 1924
        },
        {
         "id": 808,
         "name": 808,
         "sex": 808,
         "age": 698,
         "height": 4,
         "weight": 4,
         "team": 808,
         "noc": 808,
         "games": 808,
         "season": 808,
         "city": 808,
         "sport": 808,
         "event": 808,
         "medal": 30,
         "_deepnote_index_column": 1928
        },
        {
         "id": 1124,
         "name": 1124,
         "sex": 1124,
         "age": 1015,
         "height": 42,
         "weight": 45,
         "team": 1124,
         "noc": 1124,
         "games": 1124,
         "season": 1124,
         "city": 1124,
         "sport": 1124,
         "event": 1124,
         "medal": 25,
         "_deepnote_index_column": 1932
        },
        {
         "id": 813,
         "name": 813,
         "sex": 813,
         "age": 702,
         "height": 3,
         "weight": 2,
         "team": 813,
         "noc": 813,
         "games": 813,
         "season": 813,
         "city": 813,
         "sport": 813,
         "event": 813,
         "medal": 35,
         "_deepnote_index_column": 1936
        },
        {
         "id": 471,
         "name": 471,
         "sex": 471,
         "age": 394,
         "height": 1,
         "weight": 1,
         "team": 471,
         "noc": 471,
         "games": 471,
         "season": 471,
         "city": 471,
         "sport": 471,
         "event": 471,
         "medal": 33,
         "_deepnote_index_column": 1948
        }
       ],
       "rows_bottom": null
      },
      "text/plain": "        id  name   sex   age  height  weight  team   noc  games  season  city  \\\nyear                                                                            \n1912    33    33    33    25       0       0    33    33     33      33    33   \n1920    11    11    11    11       0       0    11    11     11      11    11   \n1924   318   318   318   226       9       3   318   318    318     318   318   \n1928   808   808   808   698       4       4   808   808    808     808   808   \n1932  1124  1124  1124  1015      42      45  1124  1124   1124    1124  1124   \n1936   813   813   813   702       3       2   813   813    813     813   813   \n1948   471   471   471   394       1       1   471   471    471     471   471   \n\n      sport  event  medal  \nyear                       \n1912     33     33      7  \n1920     11     11     11  \n1924    318    318     15  \n1928    808    808     30  \n1932   1124   1124     25  \n1936    813    813     35  \n1948    471    471     33  ",
      "text/html": "<div>\n<style scoped>\n    .dataframe tbody tr th:only-of-type {\n        vertical-align: middle;\n    }\n\n    .dataframe tbody tr th {\n        vertical-align: top;\n    }\n\n    .dataframe thead th {\n        text-align: right;\n    }\n</style>\n<table border=\"1\" class=\"dataframe\">\n  <thead>\n    <tr style=\"text-align: right;\">\n      <th></th>\n      <th>id</th>\n      <th>name</th>\n      <th>sex</th>\n      <th>age</th>\n      <th>height</th>\n      <th>weight</th>\n      <th>team</th>\n      <th>noc</th>\n      <th>games</th>\n      <th>season</th>\n      <th>city</th>\n      <th>sport</th>\n      <th>event</th>\n      <th>medal</th>\n    </tr>\n    <tr>\n      <th>year</th>\n      <th></th>\n      <th></th>\n      <th></th>\n      <th></th>\n      <th></th>\n      <th></th>\n      <th></th>\n      <th></th>\n      <th></th>\n      <th></th>\n      <th></th>\n      <th></th>\n      <th></th>\n      <th></th>\n    </tr>\n  </thead>\n  <tbody>\n    <tr>\n      <th>1912</th>\n      <td>33</td>\n      <td>33</td>\n      <td>33</td>\n      <td>25</td>\n      <td>0</td>\n      <td>0</td>\n      <td>33</td>\n      <td>33</td>\n      <td>33</td>\n      <td>33</td>\n      <td>33</td>\n      <td>33</td>\n      <td>33</td>\n      <td>7</td>\n    </tr>\n    <tr>\n      <th>1920</th>\n      <td>11</td>\n      <td>11</td>\n      <td>11</td>\n      <td>11</td>\n      <td>0</td>\n      <td>0</td>\n      <td>11</td>\n      <td>11</td>\n      <td>11</td>\n      <td>11</td>\n      <td>11</td>\n      <td>11</td>\n      <td>11</td>\n      <td>11</td>\n    </tr>\n    <tr>\n      <th>1924</th>\n      <td>318</td>\n      <td>318</td>\n      <td>318</td>\n      <td>226</td>\n      <td>9</td>\n      <td>3</td>\n      <td>318</td>\n      <td>318</td>\n      <td>318</td>\n      <td>318</td>\n      <td>318</td>\n      <td>318</td>\n      <td>318</td>\n      <td>15</td>\n    </tr>\n    <tr>\n      <th>1928</th>\n      <td>808</td>\n      <td>808</td>\n      <td>808</td>\n      <td>698</td>\n      <td>4</td>\n      <td>4</td>\n      <td>808</td>\n      <td>808</td>\n      <td>808</td>\n      <td>808</td>\n      <td>808</td>\n      <td>808</td>\n      <td>808</td>\n      <td>30</td>\n    </tr>\n    <tr>\n      <th>1932</th>\n      <td>1124</td>\n      <td>1124</td>\n      <td>1124</td>\n      <td>1015</td>\n      <td>42</td>\n      <td>45</td>\n      <td>1124</td>\n      <td>1124</td>\n      <td>1124</td>\n      <td>1124</td>\n      <td>1124</td>\n      <td>1124</td>\n      <td>1124</td>\n      <td>25</td>\n    </tr>\n    <tr>\n      <th>1936</th>\n      <td>813</td>\n      <td>813</td>\n      <td>813</td>\n      <td>702</td>\n      <td>3</td>\n      <td>2</td>\n      <td>813</td>\n      <td>813</td>\n      <td>813</td>\n      <td>813</td>\n      <td>813</td>\n      <td>813</td>\n      <td>813</td>\n      <td>35</td>\n    </tr>\n    <tr>\n      <th>1948</th>\n      <td>471</td>\n      <td>471</td>\n      <td>471</td>\n      <td>394</td>\n      <td>1</td>\n      <td>1</td>\n      <td>471</td>\n      <td>471</td>\n      <td>471</td>\n      <td>471</td>\n      <td>471</td>\n      <td>471</td>\n      <td>471</td>\n      <td>33</td>\n    </tr>\n  </tbody>\n</table>\n</div>"
     },
     "metadata": {}
    }
   ]
  },
  {
   "cell_type": "code",
   "metadata": {
    "tags": [],
    "cell_id": "00044-75f67d03-7518-408c-9abb-a14b24ea0fc2",
    "deepnote_to_be_reexecuted": false,
    "source_hash": "9cb8e18e",
    "execution_start": 1626971492346,
    "execution_millis": 3285,
    "deepnote_cell_type": "code"
   },
   "source": "plt.figure(figsize=(20, 8))\n\nsns.pointplot(data=df_women_summer,\n                  x=\"year\",\n                  y=\"age\", showfliers = False)\n\nsns.boxplot(data=df_women_summer,\n                  x=\"year\",\n                  y=\"age\", showfliers = False)\n",
   "execution_count": null,
   "outputs": [
    {
     "output_type": "execute_result",
     "execution_count": 137,
     "data": {
      "text/plain": "<AxesSubplot:xlabel='year', ylabel='age'>"
     },
     "metadata": {}
    },
    {
     "data": {
      "text/plain": "<Figure size 1440x576 with 1 Axes>",
      "image/png": "[encoded data removed]"
     },
     "metadata": {
      "needs_background": "light",
      "image/png": {
       "width": 1164,
       "height": 480
      }
     },
     "output_type": "display_data"
    }
   ]
  },
  {
   "cell_type": "markdown",
   "source": "# What can you see on the graph",
   "metadata": {
    "tags": [],
    "is_collapsed": false,
    "cell_id": "00035-c1e5ed49-2302-40dc-914e-7d3626841f84",
    "deepnote_cell_type": "text-cell-h1"
   }
  },
  {
   "cell_type": "markdown",
   "source": "Take the same filtered dataframe, and let's plot weight variation over time.\n\nUse the same code as above, but for this, let's use `sns.pointplot` instead of `sns.boxplot`, and change `y=\"weight\"` since we want to see weight. Try both though, and see the difference.",
   "metadata": {
    "tags": [],
    "cell_id": "00036-990223e0-956e-41ce-bbca-7a1ca7455e9e",
    "deepnote_cell_type": "markdown"
   }
  },
  {
   "cell_type": "code",
   "metadata": {
    "tags": [],
    "cell_id": "00035-fb76e3ed-8677-4fae-b408-0e7eedc6c091",
    "deepnote_to_be_reexecuted": false,
    "source_hash": "c5630a3",
    "execution_start": 1626971419415,
    "execution_millis": 3296,
    "output_cleared": false,
    "deepnote_cell_type": "code"
   },
   "source": "plt.figure(figsize=(20, 8))\nax= sns.pointplot(data=df_women_summer,\n                  x=\"year\",\n                  y=\"weight\")\n\nplt.figure(figsize=(20, 8))\nax= sns.boxplot(data=df_women_summer,\n                  x=\"year\",\n                  y=\"weight\", showfliers = False)",
   "execution_count": null,
   "outputs": [
    {
     "data": {
      "text/plain": "<Figure size 1440x576 with 1 Axes>",
      "image/png": "[encoded data removed]"
     },
     "metadata": {
      "needs_background": "light",
      "image/png": {
       "width": 1164,
       "height": 480
      }
     },
     "output_type": "display_data"
    },
    {
     "data": {
      "text/plain": "<Figure size 1440x576 with 1 Axes>",
      "image/png": "[encoded data removed]"
     },
     "metadata": {
      "needs_background": "light",
      "image/png": {
       "width": 1164,
       "height": 480
      }
     },
     "output_type": "display_data"
    }
   ]
  },
  {
   "cell_type": "code",
   "metadata": {
    "tags": [],
    "cell_id": "00048-3859bb72-4dce-4ef4-a5fa-39f3cf7415aa",
    "deepnote_to_be_reexecuted": false,
    "source_hash": "233f37ba",
    "execution_start": 1626971302832,
    "execution_millis": 463,
    "deepnote_cell_type": "code"
   },
   "source": "plt.subplots(figsize=(15,5))\n\nsns.histplot(data=df_women_summer[df_women_summer[\"year\"] == 1924],\n             x=\"weight\",\n             hue=\"sport\"\n             )\n",
   "execution_count": null,
   "outputs": [
    {
     "output_type": "execute_result",
     "execution_count": 131,
     "data": {
      "text/plain": "<AxesSubplot:xlabel='weight', ylabel='Count'>"
     },
     "metadata": {}
    },
    {
     "data": {
      "text/plain": "<Figure size 1080x360 with 1 Axes>",
      "image/png": "[encoded data removed]"
     },
     "metadata": {
      "needs_background": "light",
      "image/png": {
       "width": 888,
       "height": 317
      }
     },
     "output_type": "display_data"
    }
   ]
  },
  {
   "cell_type": "markdown",
   "source": "# Which one is more better for this type of data? Box or point plot",
   "metadata": {
    "tags": [],
    "is_collapsed": false,
    "cell_id": "00038-f49ee41e-febd-46eb-a786-5166b4c1440c",
    "deepnote_cell_type": "text-cell-h1"
   }
  },
  {
   "cell_type": "markdown",
   "source": "Do the same thing but with height.\n\nGo here https://seaborn.pydata.org/tutorial/color_palettes.html?highlight=palette and try using argument `palette=...\" with whatever pallete you choose. Does it improve the graph?",
   "metadata": {
    "tags": [],
    "cell_id": "00039-8f61b20e-724c-4ed9-a29d-1effa3527890",
    "deepnote_cell_type": "markdown"
   }
  },
  {
   "cell_type": "code",
   "metadata": {
    "tags": [],
    "cell_id": "00039-01ecc4f7-1dd2-42d9-bda2-2994a7374d6b",
    "deepnote_to_be_reexecuted": false,
    "source_hash": "4dac3100",
    "execution_start": 1626971575311,
    "execution_millis": 2420,
    "output_cleared": false,
    "deepnote_cell_type": "code"
   },
   "source": "plt.figure(figsize=(20, 8))\nax= sns.pointplot(data=df_women_summer,\n                  x=\"year\",\n                  y=\"height\",\n                  palette=\"husl\")\n",
   "execution_count": null,
   "outputs": [
    {
     "data": {
      "text/plain": "<Figure size 1440x576 with 1 Axes>",
      "image/png": "[encoded data removed]"
     },
     "metadata": {
      "needs_background": "light",
      "image/png": {
       "width": 1170,
       "height": 480
      }
     },
     "output_type": "display_data"
    }
   ]
  },
  {
   "cell_type": "markdown",
   "source": "<a style='text-decoration:none;line-height:16px;display:flex;color:#5B5B62;padding:10px;justify-content:end;' href='https://deepnote.com?utm_source=created-in-deepnote-cell&projectId=7d3ce7c8-a514-49e4-9ba4-a5899ac52ea5' target=\"_blank\">\n<img alt='Created in deepnote.com' style='display:inline;max-height:16px;margin:0px;margin-right:7.5px;' src='data:image/svg+xml;base64,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' > </img>\nCreated in <span style='font-weight:600;margin-left:4px;'>Deepnote</span></a>",
   "metadata": {
    "tags": [],
    "created_in_deepnote_cell": true,
    "deepnote_cell_type": "markdown"
   }
  }
 ],
 "nbformat": 4,
 "nbformat_minor": 2,
 "metadata": {
  "orig_nbformat": 2,
  "deepnote": {
   "is_reactive": false
  },
  "deepnote_notebook_id": "d31c246c-7bcd-4dbc-9099-9beb76bd8439",
  "deepnote_execution_queue": []
 }
}