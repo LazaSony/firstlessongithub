{
 "cells": [
  {
   "cell_type": "markdown",
   "source": "At the bottom of the document you have a scetion ---HINTS--- where you can find a hint for the current task if you are stuck.\n\nTry to solve these tasks by thinking \"without thinking about how to do it in Python, what would be the procedure to complete the task\", and once you have said that out loud, you can type bullets points down too if it helps, have a look at it and look how to divide it into the simplets steps possible, and only then, you can start thinking how to code it up.\n\nExample: task - Sum all the positive numbers in the list.\n* without thinking how to do it in Python reword it a little: add up all the numbers that are greater than 0\n* simplify it: for every single number, see if it is greater than 0, and if yes, add it to the total sum\n* start thinking how to code it: for every number in list - to loop through them all, if number > 0: add number to the total sum\n\nIf you start thinking like this, any task will become a step-by-step composition of very simple tasks.\n\nFor example, if we added a bit at the end of the previous tasl - Sum all the positive numbers in the list, count the number twice if it is odd.\nwe can divide it into simple tasks using same approach, and we would only add a small change at the end of our though-process:\n* start thinking how to code it: for every number in list - to loop through them all, if number > 0: if number is odd add add number to the total sum twice, else just once.",
   "metadata": {
    "tags": [],
    "cell_id": "00000-57cb48ce-17c3-4c39-88b6-e15505784d8d",
    "deepnote_cell_type": "markdown"
   }
  },
  {
   "cell_type": "markdown",
   "source": "---\n---\nTASKS\n---\n---\n---\n1. \n\nWrite a function that takes a string as an input and returns the number of words in it.",
   "metadata": {
    "tags": [],
    "cell_id": "00000-6cefa497-f9e2-43a9-be02-4fd91e73025f",
    "deepnote_cell_type": "markdown"
   }
  },
  {
   "cell_type": "code",
   "metadata": {
    "tags": [],
    "cell_id": "00001-c5bdb92a-e706-4767-bd3b-4d5f8d0cffa4",
    "deepnote_to_be_reexecuted": false,
    "source_hash": "8869a6d6",
    "execution_start": 1623945390417,
    "execution_millis": 1,
    "deepnote_cell_type": "code"
   },
   "source": "example_sentence = \"I am working on the homework right now\"\nenrike = \"function that takes a\"\n\ndef string_word_count(_str):\n    _str = _str.split()\n    _str = len(_str)\n    return _str\n\nnumber_of_words = string_word_count(example_sentence)\nnumber_of_words_second = string_word_count(enrike)\n\nprint(number_of_words, number_of_words_second)",
   "execution_count": null,
   "outputs": [
    {
     "name": "stdout",
     "text": "8 4\n",
     "output_type": "stream"
    }
   ]
  },
  {
   "cell_type": "markdown",
   "source": "---\n\n2.\n\nCreate a function with two numerical arguments, and return their division as well as multiplication.",
   "metadata": {
    "tags": [],
    "cell_id": "00002-3b561ad8-721f-4537-8144-d3aa28700927",
    "deepnote_cell_type": "markdown"
   }
  },
  {
   "cell_type": "code",
   "metadata": {
    "tags": [],
    "cell_id": "00002-b012cc12-51a5-472c-a80f-78db3ba3d0b6",
    "deepnote_to_be_reexecuted": false,
    "source_hash": "1fb7543f",
    "execution_start": 1623945466365,
    "execution_millis": 5,
    "deepnote_cell_type": "code"
   },
   "source": "number_a = 10\nnumber_b = 2\n\ndef div_and_mult(num1, num2):\n    division = num1/num2\n    multiplication = num1*num2\n    \n    return division,multiplication\n\ndivision, multiple = div_and_mult(number_a,number_b)\n\nprint (division)\nprint (multiple)",
   "execution_count": null,
   "outputs": [
    {
     "name": "stdout",
     "text": "5.0\n20\n",
     "output_type": "stream"
    }
   ]
  },
  {
   "cell_type": "markdown",
   "source": "---\n\n3.\n\nCreate a function that takes a string as an input and return the longest word, as well as the shortest word",
   "metadata": {
    "tags": [],
    "cell_id": "00002-26f05aac-3224-4fd0-ba31-2aec50a6488d",
    "deepnote_cell_type": "markdown"
   }
  },
  {
   "cell_type": "code",
   "metadata": {
    "tags": [],
    "cell_id": "00003-8d33eb76-b218-47f7-98e0-e84fb23cfdd7",
    "deepnote_to_be_reexecuted": false,
    "source_hash": "976a46ea",
    "execution_start": 1623945606574,
    "execution_millis": 4,
    "deepnote_cell_type": "code"
   },
   "source": "example_sentence = \"I am working on the homework right now\"\n\ndef shortest_and_longest_word(sentence):\n    longest_word =  max(sentence.split(), key=len)\n    shortest_word = min(sentence.split(), key =len)\n    print(\"Longest word:\",longest_word)\n    print(\"Shortest word:\",shortest_word)\n\nwords2 = shortest_and_longest(example_sentence)",
   "execution_count": null,
   "outputs": [
    {
     "output_type": "error",
     "ename": "TypeError",
     "evalue": "'>' not supported between instances of 'int' and 'list'",
     "traceback": [
      "\u001b[0;31m---------------------------------------------------------------------------\u001b[0m",
      "\u001b[0;31mTypeError\u001b[0m                                 Traceback (most recent call last)",
      "\u001b[0;32m<ipython-input-14-4da4f7261232>\u001b[0m in \u001b[0;36m<module>\u001b[0;34m\u001b[0m\n\u001b[1;32m     15\u001b[0m \u001b[0;34m\u001b[0m\u001b[0m\n\u001b[1;32m     16\u001b[0m \u001b[0;34m\u001b[0m\u001b[0m\n\u001b[0;32m---> 17\u001b[0;31m \u001b[0mwords2\u001b[0m \u001b[0;34m=\u001b[0m \u001b[0mshortest_and_longest\u001b[0m\u001b[0;34m(\u001b[0m\u001b[0mexample_sentence\u001b[0m\u001b[0;34m)\u001b[0m\u001b[0;34m\u001b[0m\u001b[0;34m\u001b[0m\u001b[0m\n\u001b[0m\u001b[1;32m     18\u001b[0m \u001b[0mwords\u001b[0m \u001b[0;34m=\u001b[0m \u001b[0mshortest_and_longest_word\u001b[0m\u001b[0;34m(\u001b[0m\u001b[0mexample_sentence\u001b[0m\u001b[0;34m)\u001b[0m\u001b[0;34m\u001b[0m\u001b[0;34m\u001b[0m\u001b[0m\n",
      "\u001b[0;32m<ipython-input-14-4da4f7261232>\u001b[0m in \u001b[0;36mshortest_and_longest\u001b[0;34m(line)\u001b[0m\n\u001b[1;32m     11\u001b[0m     \u001b[0mlaza\u001b[0m \u001b[0;34m=\u001b[0m \u001b[0mline\u001b[0m\u001b[0;34m.\u001b[0m\u001b[0msplit\u001b[0m\u001b[0;34m(\u001b[0m\u001b[0;34m)\u001b[0m\u001b[0;34m\u001b[0m\u001b[0;34m\u001b[0m\u001b[0m\n\u001b[1;32m     12\u001b[0m     \u001b[0;32mfor\u001b[0m \u001b[0mitem\u001b[0m \u001b[0;32min\u001b[0m \u001b[0mrange\u001b[0m\u001b[0;34m(\u001b[0m\u001b[0mlen\u001b[0m\u001b[0;34m(\u001b[0m\u001b[0mlaza\u001b[0m\u001b[0;34m)\u001b[0m\u001b[0;34m)\u001b[0m\u001b[0;34m:\u001b[0m\u001b[0;34m\u001b[0m\u001b[0;34m\u001b[0m\u001b[0m\n\u001b[0;32m---> 13\u001b[0;31m         \u001b[0;32mif\u001b[0m \u001b[0mitem\u001b[0m \u001b[0;34m>\u001b[0m \u001b[0mlaza\u001b[0m\u001b[0;34m:\u001b[0m\u001b[0;34m\u001b[0m\u001b[0;34m\u001b[0m\u001b[0m\n\u001b[0m\u001b[1;32m     14\u001b[0m             \u001b[0mprint\u001b[0m\u001b[0;34m(\u001b[0m\u001b[0mitem\u001b[0m\u001b[0;34m)\u001b[0m\u001b[0;34m\u001b[0m\u001b[0;34m\u001b[0m\u001b[0m\n\u001b[1;32m     15\u001b[0m \u001b[0;34m\u001b[0m\u001b[0m\n",
      "\u001b[0;31mTypeError\u001b[0m: '>' not supported between instances of 'int' and 'list'"
     ]
    }
   ]
  },
  {
   "cell_type": "code",
   "metadata": {
    "tags": [],
    "cell_id": "00007-7d3214e1-4aa9-4acf-8cc5-d3e7e0291dd4",
    "deepnote_to_be_reexecuted": false,
    "source_hash": "93f01822",
    "execution_start": 1623946272413,
    "execution_millis": 6,
    "deepnote_cell_type": "code"
   },
   "source": "example_sentence = \"I am working on the homework right now\"\nlongest_word_len = 0\nlongest_word = \"\"\n\nfor word in example_sentence.split():\n    if len(word) > longest_word_len:\n        longest_word_len = len(word)\n        longest_word = word\n \nprint(longest_word)",
   "execution_count": null,
   "outputs": [
    {
     "name": "stdout",
     "text": "homework\n",
     "output_type": "stream"
    }
   ]
  },
  {
   "cell_type": "markdown",
   "source": "---\n\n4.\n\nWe have a ML model that is trying to learn about parcicular set of interesting words (words_of_interest). We want to create a function that will go through the paragraphs of the book (example_paragrahp), and from those paragraphs, return only sentences containing these words of interest.",
   "metadata": {
    "tags": [],
    "cell_id": "00004-27d167cc-80bd-471b-86a4-b918405e9afb",
    "deepnote_cell_type": "markdown"
   }
  },
  {
   "cell_type": "code",
   "metadata": {
    "tags": [],
    "cell_id": "00009-2cbc401f-9b4b-4f72-b83f-817ed649be70",
    "deepnote_to_be_reexecuted": false,
    "source_hash": "3a3aca3e",
    "execution_start": 1623949952877,
    "execution_millis": 14,
    "deepnote_cell_type": "code"
   },
   "source": "example_paragraph = \"Spending time at national parks can be an exciting adventure, but this wasn't the type of excitement she was hoping to experience. As she contemplated the situation she found herself in, she knew she'd gotten herself in a little more than she bargained for. It wasn't often that she found herself in a tree staring down at a pack of wolves that were looking to make her their next meal wolf.\"\nexample_paragraph = example_paragraph.lower()\nwords_of_interest = [\"wolf\", \"alpaca\", \"adventure\", \"park\", \"bear\"]\n\nparagraph_split = example_paragraph.split(\".\")\nresult = []\nfor sentence in paragraph_split:\n    for word in words_of_interest:\n        if word in sentence:\n            result.append(sentence)\n            break\nresult",
   "execution_count": null,
   "outputs": [
    {
     "output_type": "execute_result",
     "execution_count": 137,
     "data": {
      "text/plain": "[\"spending time at national parks can be an exciting adventure, but this wasn't the type of excitement she was hoping to experience\",\n \" it wasn't often that she found herself in a tree staring down at a pack of wolves that were looking to make her their next meal wolf\"]"
     },
     "metadata": {}
    }
   ]
  },
  {
   "cell_type": "markdown",
   "source": "---\n\n5.\n\nCreate a code that prints accuracy score we obtain from our model every itteration. If the accuracy score improved, say so.\n\nDo not use `accuracy_score[i-1] == accuracy score[i]` ",
   "metadata": {
    "tags": [],
    "cell_id": "00006-b97b5549-42f1-4932-9887-86bd58c18495",
    "deepnote_cell_type": "markdown"
   }
  },
  {
   "cell_type": "code",
   "metadata": {
    "tags": [],
    "cell_id": "00009-25af1430-35c4-49fe-b89a-ef36b13cce14",
    "deepnote_to_be_reexecuted": false,
    "source_hash": "58a938de",
    "execution_start": 1623948942308,
    "execution_millis": 27,
    "deepnote_cell_type": "code"
   },
   "source": "                                                                                      ",
   "execution_count": null,
   "outputs": [
    {
     "name": "stdout",
     "text": "This is training step number 1 and the best score 0\nOus best score improved by 60\n\n\nThis is training step number 2 and the best score 60\nOus best score improved by 6\n\n\nThis is training step number 3 and the best score 66\nOus best score improved by 3\n\n\nThis is training step number 4 and the best score 69\n\n\nThis is training step number 5 and the best score 69\nOus best score improved by 11\n\n\nThis is training step number 6 and the best score 80\n\n\nThis is training step number 7 and the best score 80\nOus best score improved by 9\n\n\n",
     "output_type": "stream"
    }
   ]
  },
  {
   "cell_type": "markdown",
   "source": "----\n6.\n\n\nUsing input() function, create a program that asks for a password (input() is explained in the code bolow). \n\nCreate the program in the following steps (do not skip steps, implement it in the order):\n\n1. Check if the input password matches \"hello\" string and say if it does, otherwise say it does not.\n2. Make it such that if the password is wrong, it automatically checks 2 more times. (3 in total)\n3. Add so that if the input password is correct, it does not ask for further passwords.\n4. Improve step 2. by adding a counter to the case when the enetered password is wrong, saying how many attempts are left. (there are 3 attempts in total)\n5. Add a message that says \"locked out\" in case all 3 input attempts were incorrect.",
   "metadata": {
    "tags": [],
    "cell_id": "00000-a1bd9fec-3488-4866-b8fa-6ef6d8ca8d3e",
    "deepnote_cell_type": "markdown"
   }
  },
  {
   "cell_type": "code",
   "metadata": {
    "tags": [],
    "cell_id": "00000-409fea05-0687-4570-9e3c-98863112743b",
    "deepnote_to_be_reexecuted": false,
    "source_hash": "9d1b0d1d",
    "execution_start": 1623949386932,
    "execution_millis": 0,
    "output_cleared": false,
    "deepnote_cell_type": "code"
   },
   "source": "password = input(\"What is the password? \") # when you run this the output of this code box will prompt you to type in a password \ncounter = 3\n\nwhile password != \"hello\":\n    counter -= 1\n    password = input(\"Wrong is the password? \")\n    print(\"{} times left\".format(counter)) \n    if counter == 0:\n        print(\"Locked out\")\n        break\n  \n",
   "execution_count": null,
   "outputs": []
  },
  {
   "cell_type": "code",
   "metadata": {
    "tags": [],
    "cell_id": "00015-0db510f6-93b9-46c3-89c8-45a00b8eea2c",
    "deepnote_to_be_reexecuted": false,
    "source_hash": "5f0aad36",
    "execution_start": 1623949623986,
    "execution_millis": 4839,
    "deepnote_cell_type": "code"
   },
   "source": "correct_password = \"hello\"\ncounter = 0\n\nfor i in range(3):\n  password = input(\"What is the password? \")  \n  if password == correct_password:\n    print(\"Password match\")\n    break\n  else:\n    print(\"Incorrect password\")\n    counter = counter + 1\n    print(\"you have \", 3 - counter,\"attempts left\" )",
   "execution_count": null,
   "outputs": [
    {
     "name": "stdout",
     "text": "Incorrect password\nyou have  2 attempts left\nIncorrect password\nyou have  1 attempts left\nIncorrect password\nyou have  0 attempts left\nlocked out\n",
     "output_type": "stream"
    }
   ]
  },
  {
   "cell_type": "markdown",
   "source": "---\n---\nHITNS\n---\n---\n---\n\n1. split(\" \")\n2. return with multiple variables\n3. either you do it with for loop and keeping a track of shortest and longest word and compare every word's len(), or google python's max() functions and its \"key\" argument and try to use that. If the latter option seems confusing, don't worry will explain :)\n4. split sentences by . and then for every single sentence see if if contains any of the words of interest and: either remove sentences which don't, or store sentences that do in a new list.\n5. keep track of the last accuracy score\n\n\n6.\n\n    1. if else\n    2. for i in range...\n    3. something using continue or  break or return\n    4. define \"counter\" variable at the begining and then in the appropriate place add to it, and print it at an appropriate place too\n    5. approach sugin if, else\n\n---",
   "metadata": {
    "tags": [],
    "cell_id": "00002-4bc8d164-a90e-4a6a-8631-c9a4accd300b",
    "deepnote_cell_type": "markdown"
   }
  },
  {
   "cell_type": "markdown",
   "source": "<a style='text-decoration:none;line-height:16px;display:flex;color:#5B5B62;padding:10px;justify-content:end;' href='https://deepnote.com?utm_source=created-in-deepnote-cell&projectId=7d3ce7c8-a514-49e4-9ba4-a5899ac52ea5' target=\"_blank\">\n<img alt='Created in deepnote.com' style='display:inline;max-height:16px;margin:0px;margin-right:7.5px;' src='data:image/svg+xml;base64,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' > </img>\nCreated in <span style='font-weight:600;margin-left:4px;'>Deepnote</span></a>",
   "metadata": {
    "tags": [],
    "created_in_deepnote_cell": true,
    "deepnote_cell_type": "markdown"
   }
  }
 ],
 "nbformat": 4,
 "nbformat_minor": 2,
 "metadata": {
  "orig_nbformat": 2,
  "deepnote": {
   "is_reactive": false
  },
  "deepnote_notebook_id": "7a0522cd-c0d5-43cb-b4b2-6221237b1bce",
  "deepnote_execution_queue": []
 }
}