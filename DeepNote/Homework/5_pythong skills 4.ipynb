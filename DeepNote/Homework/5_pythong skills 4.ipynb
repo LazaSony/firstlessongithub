{
 "cells": [
  {
   "cell_type": "markdown",
   "source": "1.\n\nYou are presented a list, returns a list that continas a 3-day moving average, starting at index 1 and ending at index len(_lst)-1.\n\n3 day moving average example: [1,2,3,4,5]. Starting at index 1 (number 2), the 3 day moving average is 1+2+3/3 - return this number for this iteration. After that, next index is 2: number (3).. the moving average is 2+3+4/3... etc\n\nIn other words 3_day_moving_average = [i-1] + i + [i+1] /3., where i starts at 1 and ends at lenght of the list - 1",
   "metadata": {
    "tags": [],
    "cell_id": "00000-77fb8e8f-5dfb-412b-8cfb-4b1cd5dea77a",
    "deepnote_cell_type": "markdown"
   }
  },
  {
   "cell_type": "code",
   "source": "data = [1,1,1,2,1,1,2,4,4,5,6,7,7,8,5,4,4,11,14,16,19,22,22,16,16,16,15,12,6,6,6,3,1,1]\n\n\ndef three_day_moving_average(_lst):\n    averages = []\n    for i in range(0, len(_lst)-1):\n        averages.append(_lst[i-1] + _lst[i] + _lst[i+1] /3 )\n    return averages\n\nthree_day_moving_average(data)",
   "metadata": {
    "tags": [],
    "cell_id": "00001-30c65ad6-9e35-4163-94c6-f2013ab1eb29",
    "deepnote_to_be_reexecuted": false,
    "source_hash": "70931784",
    "execution_start": 1624548238266,
    "execution_millis": 12,
    "deepnote_cell_type": "code"
   },
   "outputs": [
    {
     "output_type": "execute_result",
     "execution_count": 22,
     "data": {
      "text/plain": "[2.3333333333333335,\n 2.6666666666666665,\n 3.3333333333333335,\n 3.3333333333333335,\n 2.6666666666666665,\n 4.333333333333333,\n 7.333333333333333,\n 9.666666666666666,\n 11.0,\n 13.333333333333334,\n 15.333333333333334,\n 16.666666666666668,\n 16.666666666666668,\n 14.333333333333334,\n 10.333333333333334,\n 11.666666666666666,\n 19.666666666666668,\n 30.333333333333332,\n 36.333333333333336,\n 42.333333333333336,\n 48.333333333333336,\n 49.333333333333336,\n 43.333333333333336,\n 37.333333333333336,\n 37.0,\n 35.0,\n 29.0,\n 20.0,\n 14.0,\n 13.0,\n 9.333333333333334,\n 4.333333333333333]"
     },
     "metadata": {}
    }
   ],
   "execution_count": null
  },
  {
   "cell_type": "markdown",
   "source": "---\n\n2.\n\nCreate a function that takes float as an argument. Return \"low\" / \"medium\" / \"high\" if the float is: `x < 10`, `10 < x < 40`, `x<50` respectively.\nIf the float is `x<0` return \"invalid data\", and if `50< x` return \"out of range\"",
   "metadata": {
    "tags": [],
    "cell_id": "00002-3f2f1fa1-f939-4fe1-b096-d6c0e7e21501",
    "deepnote_cell_type": "markdown"
   }
  },
  {
   "cell_type": "code",
   "metadata": {
    "tags": [],
    "cell_id": "00003-09445db6-ce07-40f0-a96f-34cb83776515",
    "deepnote_to_be_reexecuted": false,
    "source_hash": "5e013f2b",
    "execution_start": 1624548567338,
    "execution_millis": 4,
    "deepnote_cell_type": "code"
   },
   "source": "def transform_float(number):\n    if number < 0:\n        return \"invalid data\"\n    elif number < 10:\n        return \"low\"\n    elif number < 40:\n        return \"medium\"\n    elif number < 50:\n        return \"high\"\n    elif  50 < number:\n        return \"out of range\"  \n\n\n# Run the  code to test your function\nnumber1 = -10\nnumber2 = 8\nnumber3 = 39\nnumber4 = 44\nnumber5 = 80\n\nprint(number1, transform_float(number1))\nprint(number2, transform_float(number2))\nprint(number3, transform_float(number3))\nprint(number4, transform_float(number4))\nprint(number5, transform_float(number5))",
   "outputs": [
    {
     "name": "stdout",
     "text": "-10 invalid data\n8 low\n39 medium\n44 high\n80 out of range\n",
     "output_type": "stream"
    }
   ],
   "execution_count": null
  },
  {
   "cell_type": "markdown",
   "source": "---\n3.\n\nYou are presented with a list, find all outliers and remove them. \n\nHINT: Try to use mean and median to help you determine how to select the outliers.",
   "metadata": {
    "tags": [],
    "cell_id": "00004-f1e25ba3-5107-4278-9f70-8009d57c15ba",
    "deepnote_cell_type": "markdown"
   }
  },
  {
   "cell_type": "code",
   "metadata": {
    "tags": [],
    "cell_id": "00005-19640bc0-9192-496e-ae82-0d1c85988e77",
    "deepnote_to_be_reexecuted": false,
    "source_hash": "cf2b97ea",
    "execution_start": 1624548595924,
    "execution_millis": 8,
    "deepnote_cell_type": "code"
   },
   "source": "import numpy as np\n_lst = [0.1, 0.7, 0.1, 4.1, 0.9, 1.3, 81.1, 2.6, -0.3, 44.9, 3.2, 0.21, 0.37, 0.61, 11.1, 0.9, 2.3, 69.69, 3.6, -1.3, 44.9, -0.4]\nmean_value = np.mean(_lst)\nprint(mean_value)\nmedian_value = np.median(_lst)\nprint(median_value)\n\nmean_lst= []\nmedian_lst = []\n\nfor number in _lst:\n    if number < mean_value:\n        mean_lst.append(number)\nfor x in mean_lst:\n    if x < median_value:\n        median_lst.append(x)    \n\n\nprint(\"mean\",mean_lst)\nprint(\"medium\",median_lst)",
   "outputs": [
    {
     "name": "stdout",
     "text": "12.303636363636365\n1.1\nmean [0.1, 0.7, 0.1, 4.1, 0.9, 1.3, 2.6, -0.3, 3.2, 0.21, 0.37, 0.61, 11.1, 0.9, 2.3, 3.6, -1.3, -0.4]\nmedium [0.1, 0.7, 0.1, 0.9, -0.3, 0.21, 0.37, 0.61, 0.9, -1.3, -0.4]\n",
     "output_type": "stream"
    }
   ],
   "execution_count": null
  },
  {
   "cell_type": "markdown",
   "source": "---\n4.\n\nYou have a list that contains age of people today (in years). Return a list of the same size, of how old they were in 2010.\n\nThis would be done if we did a comparison analysis for an ML model, for example. To see how different would the predictions be, at different point of time.",
   "metadata": {
    "tags": [],
    "cell_id": "00006-e054399b-fd07-4228-8fa8-66d93e25781c",
    "deepnote_cell_type": "markdown"
   }
  },
  {
   "cell_type": "code",
   "metadata": {
    "tags": [],
    "cell_id": "00007-629ce145-61cb-4869-8f0f-4201aae24589",
    "deepnote_to_be_reexecuted": false,
    "source_hash": "f506bf2c",
    "execution_start": 1624548900536,
    "execution_millis": 8,
    "deepnote_cell_type": "code"
   },
   "source": "from datetime import datetime\nages = [44,22,11,15,17,18,21,20,33,30,27,24,6,2,11,17,19]\ntarget_year = 10\ncurrent_year = datetime.today().year\n\nmy_target_year = int(datetime(year=2010, month= 1, day= 1,).strftime('%Y'))\n\nborn_year = []\nfinal_lst = []\n\nfor year in ages:\n    test_year = current_year - year\n    born_year.append(test_year)\n\nfor age in born_year:\n    find_year= my_target_year - age\n    final_lst.append(find_year)\n    if find_year < 0:\n        final_lst.remove(find_year)\n    \nprint(born_year)\nprint(final_lst)",
   "outputs": [
    {
     "name": "stdout",
     "text": "[1977, 1999, 2010, 2006, 2004, 2003, 2000, 2001, 1988, 1991, 1994, 1997, 2015, 2019, 2010, 2004, 2002]\n[33, 11, 0, 4, 6, 7, 10, 9, 22, 19, 16, 13, 0, 6, 8]\n",
     "output_type": "stream"
    }
   ],
   "execution_count": null
  },
  {
   "cell_type": "markdown",
   "source": "----\n5.\n\nLoad the following link into Pandas DataFrame",
   "metadata": {
    "tags": [],
    "cell_id": "00008-cbc75e63-1e2f-41d8-b774-eeb7f41686a5",
    "deepnote_cell_type": "markdown"
   }
  },
  {
   "cell_type": "code",
   "metadata": {
    "tags": [],
    "cell_id": "00009-7db55243-79b8-45ed-a687-b935356ef49e",
    "deepnote_to_be_reexecuted": false,
    "source_hash": "b1e5e478",
    "execution_start": 1624548913110,
    "execution_millis": 230,
    "deepnote_cell_type": "code"
   },
   "source": "import pandas as pd\nurl=\"https://raw.githubusercontent.com/cs109/2014_data/master/countries.csv\"\n\ndf = pd.read_csv(url)\ndf",
   "outputs": [
    {
     "output_type": "execute_result",
     "execution_count": 46,
     "data": {
      "application/vnd.deepnote.dataframe.v2+json": {
       "row_count": 194,
       "column_count": 2,
       "columns": [
        {
         "name": "Country",
         "dtype": "object",
         "stats": {
          "unique_count": 194,
          "nan_count": 0,
          "categories": [
           {
            "name": "Algeria",
            "count": 1
           },
           {
            "name": "Angola",
            "count": 1
           },
           {
            "name": "192 others",
            "count": 192
           }
          ]
         }
        },
        {
         "name": "Region",
         "dtype": "object",
         "stats": {
          "unique_count": 6,
          "nan_count": 0,
          "categories": [
           {
            "name": "AFRICA",
            "count": 54
           },
           {
            "name": "EUROPE",
            "count": 47
           },
           {
            "name": "4 others",
            "count": 93
           }
          ]
         }
        },
        {
         "name": "_deepnote_index_column",
         "dtype": "int64"
        }
       ],
       "rows_top": [
        {
         "Country": "Algeria",
         "Region": "AFRICA",
         "_deepnote_index_column": 0
        },
        {
         "Country": "Angola",
         "Region": "AFRICA",
         "_deepnote_index_column": 1
        },
        {
         "Country": "Benin",
         "Region": "AFRICA",
         "_deepnote_index_column": 2
        },
        {
         "Country": "Botswana",
         "Region": "AFRICA",
         "_deepnote_index_column": 3
        },
        {
         "Country": "Burkina",
         "Region": "AFRICA",
         "_deepnote_index_column": 4
        },
        {
         "Country": "Burundi",
         "Region": "AFRICA",
         "_deepnote_index_column": 5
        },
        {
         "Country": "Cameroon",
         "Region": "AFRICA",
         "_deepnote_index_column": 6
        },
        {
         "Country": "Cape Verde",
         "Region": "AFRICA",
         "_deepnote_index_column": 7
        },
        {
         "Country": "Central African Republic",
         "Region": "AFRICA",
         "_deepnote_index_column": 8
        },
        {
         "Country": "Chad",
         "Region": "AFRICA",
         "_deepnote_index_column": 9
        },
        {
         "Country": "Comoros",
         "Region": "AFRICA",
         "_deepnote_index_column": 10
        },
        {
         "Country": "Congo",
         "Region": "AFRICA",
         "_deepnote_index_column": 11
        },
        {
         "Country": "Congo, Democratic Republic of",
         "Region": "AFRICA",
         "_deepnote_index_column": 12
        },
        {
         "Country": "Djibouti",
         "Region": "AFRICA",
         "_deepnote_index_column": 13
        },
        {
         "Country": "Egypt",
         "Region": "AFRICA",
         "_deepnote_index_column": 14
        },
        {
         "Country": "Equatorial Guinea",
         "Region": "AFRICA",
         "_deepnote_index_column": 15
        },
        {
         "Country": "Eritrea",
         "Region": "AFRICA",
         "_deepnote_index_column": 16
        },
        {
         "Country": "Ethiopia",
         "Region": "AFRICA",
         "_deepnote_index_column": 17
        },
        {
         "Country": "Gabon",
         "Region": "AFRICA",
         "_deepnote_index_column": 18
        },
        {
         "Country": "Gambia",
         "Region": "AFRICA",
         "_deepnote_index_column": 19
        },
        {
         "Country": "Ghana",
         "Region": "AFRICA",
         "_deepnote_index_column": 20
        },
        {
         "Country": "Guinea",
         "Region": "AFRICA",
         "_deepnote_index_column": 21
        },
        {
         "Country": "Guinea-Bissau",
         "Region": "AFRICA",
         "_deepnote_index_column": 22
        },
        {
         "Country": "Ivory Coast",
         "Region": "AFRICA",
         "_deepnote_index_column": 23
        },
        {
         "Country": "Kenya",
         "Region": "AFRICA",
         "_deepnote_index_column": 24
        },
        {
         "Country": "Lesotho",
         "Region": "AFRICA",
         "_deepnote_index_column": 25
        },
        {
         "Country": "Liberia",
         "Region": "AFRICA",
         "_deepnote_index_column": 26
        },
        {
         "Country": "Libya",
         "Region": "AFRICA",
         "_deepnote_index_column": 27
        },
        {
         "Country": "Madagascar",
         "Region": "AFRICA",
         "_deepnote_index_column": 28
        },
        {
         "Country": "Malawi",
         "Region": "AFRICA",
         "_deepnote_index_column": 29
        },
        {
         "Country": "Mali",
         "Region": "AFRICA",
         "_deepnote_index_column": 30
        },
        {
         "Country": "Mauritania",
         "Region": "AFRICA",
         "_deepnote_index_column": 31
        },
        {
         "Country": "Mauritius",
         "Region": "AFRICA",
         "_deepnote_index_column": 32
        },
        {
         "Country": "Morocco",
         "Region": "AFRICA",
         "_deepnote_index_column": 33
        },
        {
         "Country": "Mozambique",
         "Region": "AFRICA",
         "_deepnote_index_column": 34
        },
        {
         "Country": "Namibia",
         "Region": "AFRICA",
         "_deepnote_index_column": 35
        },
        {
         "Country": "Niger",
         "Region": "AFRICA",
         "_deepnote_index_column": 36
        },
        {
         "Country": "Nigeria",
         "Region": "AFRICA",
         "_deepnote_index_column": 37
        },
        {
         "Country": "Rwanda",
         "Region": "AFRICA",
         "_deepnote_index_column": 38
        },
        {
         "Country": "Sao Tome and Principe",
         "Region": "AFRICA",
         "_deepnote_index_column": 39
        },
        {
         "Country": "Senegal",
         "Region": "AFRICA",
         "_deepnote_index_column": 40
        },
        {
         "Country": "Seychelles",
         "Region": "AFRICA",
         "_deepnote_index_column": 41
        },
        {
         "Country": "Sierra Leone",
         "Region": "AFRICA",
         "_deepnote_index_column": 42
        },
        {
         "Country": "Somalia",
         "Region": "AFRICA",
         "_deepnote_index_column": 43
        },
        {
         "Country": "South Africa",
         "Region": "AFRICA",
         "_deepnote_index_column": 44
        },
        {
         "Country": "South Sudan",
         "Region": "AFRICA",
         "_deepnote_index_column": 45
        },
        {
         "Country": "Sudan",
         "Region": "AFRICA",
         "_deepnote_index_column": 46
        },
        {
         "Country": "Swaziland",
         "Region": "AFRICA",
         "_deepnote_index_column": 47
        },
        {
         "Country": "Tanzania",
         "Region": "AFRICA",
         "_deepnote_index_column": 48
        },
        {
         "Country": "Togo",
         "Region": "AFRICA",
         "_deepnote_index_column": 49
        },
        {
         "Country": "Tunisia",
         "Region": "AFRICA",
         "_deepnote_index_column": 50
        },
        {
         "Country": "Uganda",
         "Region": "AFRICA",
         "_deepnote_index_column": 51
        },
        {
         "Country": "Zambia",
         "Region": "AFRICA",
         "_deepnote_index_column": 52
        },
        {
         "Country": "Zimbabwe",
         "Region": "AFRICA",
         "_deepnote_index_column": 53
        },
        {
         "Country": "Afghanistan",
         "Region": "ASIA",
         "_deepnote_index_column": 54
        },
        {
         "Country": "Bahrain",
         "Region": "ASIA",
         "_deepnote_index_column": 55
        },
        {
         "Country": "Bangladesh",
         "Region": "ASIA",
         "_deepnote_index_column": 56
        },
        {
         "Country": "Bhutan",
         "Region": "ASIA",
         "_deepnote_index_column": 57
        },
        {
         "Country": "Brunei",
         "Region": "ASIA",
         "_deepnote_index_column": 58
        },
        {
         "Country": "Burma",
         "Region": "ASIA",
         "_deepnote_index_column": 59
        },
        {
         "Country": "Cambodia",
         "Region": "ASIA",
         "_deepnote_index_column": 60
        },
        {
         "Country": "China",
         "Region": "ASIA",
         "_deepnote_index_column": 61
        },
        {
         "Country": "East Timor",
         "Region": "ASIA",
         "_deepnote_index_column": 62
        },
        {
         "Country": "India",
         "Region": "ASIA",
         "_deepnote_index_column": 63
        },
        {
         "Country": "Indonesia",
         "Region": "ASIA",
         "_deepnote_index_column": 64
        },
        {
         "Country": "Iran",
         "Region": "ASIA",
         "_deepnote_index_column": 65
        },
        {
         "Country": "Iraq",
         "Region": "ASIA",
         "_deepnote_index_column": 66
        },
        {
         "Country": "Israel",
         "Region": "ASIA",
         "_deepnote_index_column": 67
        },
        {
         "Country": "Japan",
         "Region": "ASIA",
         "_deepnote_index_column": 68
        },
        {
         "Country": "Jordan",
         "Region": "ASIA",
         "_deepnote_index_column": 69
        },
        {
         "Country": "Kazakhstan",
         "Region": "ASIA",
         "_deepnote_index_column": 70
        },
        {
         "Country": "Korea, North",
         "Region": "ASIA",
         "_deepnote_index_column": 71
        },
        {
         "Country": "Korea, South",
         "Region": "ASIA",
         "_deepnote_index_column": 72
        },
        {
         "Country": "Kuwait",
         "Region": "ASIA",
         "_deepnote_index_column": 73
        },
        {
         "Country": "Kyrgyzstan",
         "Region": "ASIA",
         "_deepnote_index_column": 74
        },
        {
         "Country": "Laos",
         "Region": "ASIA",
         "_deepnote_index_column": 75
        },
        {
         "Country": "Lebanon",
         "Region": "ASIA",
         "_deepnote_index_column": 76
        },
        {
         "Country": "Malaysia",
         "Region": "ASIA",
         "_deepnote_index_column": 77
        },
        {
         "Country": "Maldives",
         "Region": "ASIA",
         "_deepnote_index_column": 78
        },
        {
         "Country": "Mongolia",
         "Region": "ASIA",
         "_deepnote_index_column": 79
        },
        {
         "Country": "Nepal",
         "Region": "ASIA",
         "_deepnote_index_column": 80
        },
        {
         "Country": "Oman",
         "Region": "ASIA",
         "_deepnote_index_column": 81
        },
        {
         "Country": "Pakistan",
         "Region": "ASIA",
         "_deepnote_index_column": 82
        },
        {
         "Country": "Philippines",
         "Region": "ASIA",
         "_deepnote_index_column": 83
        },
        {
         "Country": "Qatar",
         "Region": "ASIA",
         "_deepnote_index_column": 84
        },
        {
         "Country": "Russian Federation",
         "Region": "ASIA",
         "_deepnote_index_column": 85
        },
        {
         "Country": "Saudi Arabia",
         "Region": "ASIA",
         "_deepnote_index_column": 86
        },
        {
         "Country": "Singapore",
         "Region": "ASIA",
         "_deepnote_index_column": 87
        },
        {
         "Country": "Sri Lanka",
         "Region": "ASIA",
         "_deepnote_index_column": 88
        },
        {
         "Country": "Syria",
         "Region": "ASIA",
         "_deepnote_index_column": 89
        },
        {
         "Country": "Tajikistan",
         "Region": "ASIA",
         "_deepnote_index_column": 90
        },
        {
         "Country": "Thailand",
         "Region": "ASIA",
         "_deepnote_index_column": 91
        },
        {
         "Country": "Turkey",
         "Region": "ASIA",
         "_deepnote_index_column": 92
        },
        {
         "Country": "Turkmenistan",
         "Region": "ASIA",
         "_deepnote_index_column": 93
        },
        {
         "Country": "United Arab Emirates",
         "Region": "ASIA",
         "_deepnote_index_column": 94
        },
        {
         "Country": "Uzbekistan",
         "Region": "ASIA",
         "_deepnote_index_column": 95
        },
        {
         "Country": "Vietnam",
         "Region": "ASIA",
         "_deepnote_index_column": 96
        },
        {
         "Country": "Yemen",
         "Region": "ASIA",
         "_deepnote_index_column": 97
        },
        {
         "Country": "Albania",
         "Region": "EUROPE",
         "_deepnote_index_column": 98
        },
        {
         "Country": "Andorra",
         "Region": "EUROPE",
         "_deepnote_index_column": 99
        },
        {
         "Country": "Armenia",
         "Region": "EUROPE",
         "_deepnote_index_column": 100
        },
        {
         "Country": "Austria",
         "Region": "EUROPE",
         "_deepnote_index_column": 101
        },
        {
         "Country": "Azerbaijan",
         "Region": "EUROPE",
         "_deepnote_index_column": 102
        },
        {
         "Country": "Belarus",
         "Region": "EUROPE",
         "_deepnote_index_column": 103
        },
        {
         "Country": "Belgium",
         "Region": "EUROPE",
         "_deepnote_index_column": 104
        },
        {
         "Country": "Bosnia and Herzegovina",
         "Region": "EUROPE",
         "_deepnote_index_column": 105
        },
        {
         "Country": "Bulgaria",
         "Region": "EUROPE",
         "_deepnote_index_column": 106
        },
        {
         "Country": "Croatia",
         "Region": "EUROPE",
         "_deepnote_index_column": 107
        },
        {
         "Country": "Cyprus",
         "Region": "EUROPE",
         "_deepnote_index_column": 108
        },
        {
         "Country": "Czech Republic",
         "Region": "EUROPE",
         "_deepnote_index_column": 109
        },
        {
         "Country": "Denmark",
         "Region": "EUROPE",
         "_deepnote_index_column": 110
        },
        {
         "Country": "Estonia",
         "Region": "EUROPE",
         "_deepnote_index_column": 111
        },
        {
         "Country": "Finland",
         "Region": "EUROPE",
         "_deepnote_index_column": 112
        },
        {
         "Country": "France",
         "Region": "EUROPE",
         "_deepnote_index_column": 113
        },
        {
         "Country": "Georgia",
         "Region": "EUROPE",
         "_deepnote_index_column": 114
        },
        {
         "Country": "Germany",
         "Region": "EUROPE",
         "_deepnote_index_column": 115
        },
        {
         "Country": "Greece",
         "Region": "EUROPE",
         "_deepnote_index_column": 116
        },
        {
         "Country": "Hungary",
         "Region": "EUROPE",
         "_deepnote_index_column": 117
        },
        {
         "Country": "Iceland",
         "Region": "EUROPE",
         "_deepnote_index_column": 118
        },
        {
         "Country": "Ireland",
         "Region": "EUROPE",
         "_deepnote_index_column": 119
        },
        {
         "Country": "Italy",
         "Region": "EUROPE",
         "_deepnote_index_column": 120
        },
        {
         "Country": "Latvia",
         "Region": "EUROPE",
         "_deepnote_index_column": 121
        },
        {
         "Country": "Liechtenstein",
         "Region": "EUROPE",
         "_deepnote_index_column": 122
        },
        {
         "Country": "Lithuania",
         "Region": "EUROPE",
         "_deepnote_index_column": 123
        },
        {
         "Country": "Luxembourg",
         "Region": "EUROPE",
         "_deepnote_index_column": 124
        },
        {
         "Country": "Macedonia",
         "Region": "EUROPE",
         "_deepnote_index_column": 125
        },
        {
         "Country": "Malta",
         "Region": "EUROPE",
         "_deepnote_index_column": 126
        },
        {
         "Country": "Moldova",
         "Region": "EUROPE",
         "_deepnote_index_column": 127
        },
        {
         "Country": "Monaco",
         "Region": "EUROPE",
         "_deepnote_index_column": 128
        },
        {
         "Country": "Montenegro",
         "Region": "EUROPE",
         "_deepnote_index_column": 129
        },
        {
         "Country": "Netherlands",
         "Region": "EUROPE",
         "_deepnote_index_column": 130
        },
        {
         "Country": "Norway",
         "Region": "EUROPE",
         "_deepnote_index_column": 131
        },
        {
         "Country": "Poland",
         "Region": "EUROPE",
         "_deepnote_index_column": 132
        },
        {
         "Country": "Portugal",
         "Region": "EUROPE",
         "_deepnote_index_column": 133
        },
        {
         "Country": "Romania",
         "Region": "EUROPE",
         "_deepnote_index_column": 134
        },
        {
         "Country": "San Marino",
         "Region": "EUROPE",
         "_deepnote_index_column": 135
        },
        {
         "Country": "Serbia",
         "Region": "EUROPE",
         "_deepnote_index_column": 136
        },
        {
         "Country": "Slovakia",
         "Region": "EUROPE",
         "_deepnote_index_column": 137
        },
        {
         "Country": "Slovenia",
         "Region": "EUROPE",
         "_deepnote_index_column": 138
        },
        {
         "Country": "Spain",
         "Region": "EUROPE",
         "_deepnote_index_column": 139
        },
        {
         "Country": "Sweden",
         "Region": "EUROPE",
         "_deepnote_index_column": 140
        },
        {
         "Country": "Switzerland",
         "Region": "EUROPE",
         "_deepnote_index_column": 141
        },
        {
         "Country": "Ukraine",
         "Region": "EUROPE",
         "_deepnote_index_column": 142
        },
        {
         "Country": "United Kingdom",
         "Region": "EUROPE",
         "_deepnote_index_column": 143
        },
        {
         "Country": "Vatican City",
         "Region": "EUROPE",
         "_deepnote_index_column": 144
        },
        {
         "Country": "Antigua and Barbuda",
         "Region": "NORTH AMERICA",
         "_deepnote_index_column": 145
        },
        {
         "Country": "Bahamas",
         "Region": "NORTH AMERICA",
         "_deepnote_index_column": 146
        },
        {
         "Country": "Barbados",
         "Region": "NORTH AMERICA",
         "_deepnote_index_column": 147
        },
        {
         "Country": "Belize",
         "Region": "NORTH AMERICA",
         "_deepnote_index_column": 148
        },
        {
         "Country": "Canada",
         "Region": "NORTH AMERICA",
         "_deepnote_index_column": 149
        },
        {
         "Country": "Costa Rica",
         "Region": "NORTH AMERICA",
         "_deepnote_index_column": 150
        },
        {
         "Country": "Cuba",
         "Region": "NORTH AMERICA",
         "_deepnote_index_column": 151
        },
        {
         "Country": "Dominica",
         "Region": "NORTH AMERICA",
         "_deepnote_index_column": 152
        },
        {
         "Country": "Dominican Republic",
         "Region": "NORTH AMERICA",
         "_deepnote_index_column": 153
        },
        {
         "Country": "El Salvador",
         "Region": "NORTH AMERICA",
         "_deepnote_index_column": 154
        },
        {
         "Country": "Grenada",
         "Region": "NORTH AMERICA",
         "_deepnote_index_column": 155
        },
        {
         "Country": "Guatemala",
         "Region": "NORTH AMERICA",
         "_deepnote_index_column": 156
        },
        {
         "Country": "Haiti",
         "Region": "NORTH AMERICA",
         "_deepnote_index_column": 157
        },
        {
         "Country": "Honduras",
         "Region": "NORTH AMERICA",
         "_deepnote_index_column": 158
        },
        {
         "Country": "Jamaica",
         "Region": "NORTH AMERICA",
         "_deepnote_index_column": 159
        },
        {
         "Country": "Mexico",
         "Region": "NORTH AMERICA",
         "_deepnote_index_column": 160
        },
        {
         "Country": "Nicaragua",
         "Region": "NORTH AMERICA",
         "_deepnote_index_column": 161
        },
        {
         "Country": "Panama",
         "Region": "NORTH AMERICA",
         "_deepnote_index_column": 162
        },
        {
         "Country": "Saint Kitts and Nevis",
         "Region": "NORTH AMERICA",
         "_deepnote_index_column": 163
        },
        {
         "Country": "Saint Lucia",
         "Region": "NORTH AMERICA",
         "_deepnote_index_column": 164
        },
        {
         "Country": "Saint Vincent and the Grenadines",
         "Region": "NORTH AMERICA",
         "_deepnote_index_column": 165
        },
        {
         "Country": "Trinidad and Tobago",
         "Region": "NORTH AMERICA",
         "_deepnote_index_column": 166
        },
        {
         "Country": "United States",
         "Region": "NORTH AMERICA",
         "_deepnote_index_column": 167
        },
        {
         "Country": "Australia",
         "Region": "OCEANIA",
         "_deepnote_index_column": 168
        },
        {
         "Country": "Fiji",
         "Region": "OCEANIA",
         "_deepnote_index_column": 169
        },
        {
         "Country": "Kiribati",
         "Region": "OCEANIA",
         "_deepnote_index_column": 170
        },
        {
         "Country": "Marshall Islands",
         "Region": "OCEANIA",
         "_deepnote_index_column": 171
        },
        {
         "Country": "Micronesia",
         "Region": "OCEANIA",
         "_deepnote_index_column": 172
        },
        {
         "Country": "Nauru",
         "Region": "OCEANIA",
         "_deepnote_index_column": 173
        },
        {
         "Country": "New Zealand",
         "Region": "OCEANIA",
         "_deepnote_index_column": 174
        },
        {
         "Country": "Palau",
         "Region": "OCEANIA",
         "_deepnote_index_column": 175
        },
        {
         "Country": "Papua New Guinea",
         "Region": "OCEANIA",
         "_deepnote_index_column": 176
        },
        {
         "Country": "Samoa",
         "Region": "OCEANIA",
         "_deepnote_index_column": 177
        },
        {
         "Country": "Solomon Islands",
         "Region": "OCEANIA",
         "_deepnote_index_column": 178
        },
        {
         "Country": "Tonga",
         "Region": "OCEANIA",
         "_deepnote_index_column": 179
        },
        {
         "Country": "Tuvalu",
         "Region": "OCEANIA",
         "_deepnote_index_column": 180
        },
        {
         "Country": "Vanuatu",
         "Region": "OCEANIA",
         "_deepnote_index_column": 181
        },
        {
         "Country": "Argentina",
         "Region": "SOUTH AMERICA",
         "_deepnote_index_column": 182
        },
        {
         "Country": "Bolivia",
         "Region": "SOUTH AMERICA",
         "_deepnote_index_column": 183
        },
        {
         "Country": "Brazil",
         "Region": "SOUTH AMERICA",
         "_deepnote_index_column": 184
        },
        {
         "Country": "Chile",
         "Region": "SOUTH AMERICA",
         "_deepnote_index_column": 185
        },
        {
         "Country": "Colombia",
         "Region": "SOUTH AMERICA",
         "_deepnote_index_column": 186
        },
        {
         "Country": "Ecuador",
         "Region": "SOUTH AMERICA",
         "_deepnote_index_column": 187
        },
        {
         "Country": "Guyana",
         "Region": "SOUTH AMERICA",
         "_deepnote_index_column": 188
        },
        {
         "Country": "Paraguay",
         "Region": "SOUTH AMERICA",
         "_deepnote_index_column": 189
        },
        {
         "Country": "Peru",
         "Region": "SOUTH AMERICA",
         "_deepnote_index_column": 190
        },
        {
         "Country": "Suriname",
         "Region": "SOUTH AMERICA",
         "_deepnote_index_column": 191
        },
        {
         "Country": "Uruguay",
         "Region": "SOUTH AMERICA",
         "_deepnote_index_column": 192
        },
        {
         "Country": "Venezuela",
         "Region": "SOUTH AMERICA",
         "_deepnote_index_column": 193
        }
       ],
       "rows_bottom": null
      },
      "text/plain": "       Country         Region\n0      Algeria         AFRICA\n1       Angola         AFRICA\n2        Benin         AFRICA\n3     Botswana         AFRICA\n4      Burkina         AFRICA\n..         ...            ...\n189   Paraguay  SOUTH AMERICA\n190       Peru  SOUTH AMERICA\n191   Suriname  SOUTH AMERICA\n192    Uruguay  SOUTH AMERICA\n193  Venezuela  SOUTH AMERICA\n\n[194 rows x 2 columns]",
      "text/html": "<div>\n<style scoped>\n    .dataframe tbody tr th:only-of-type {\n        vertical-align: middle;\n    }\n\n    .dataframe tbody tr th {\n        vertical-align: top;\n    }\n\n    .dataframe thead th {\n        text-align: right;\n    }\n</style>\n<table border=\"1\" class=\"dataframe\">\n  <thead>\n    <tr style=\"text-align: right;\">\n      <th></th>\n      <th>Country</th>\n      <th>Region</th>\n    </tr>\n  </thead>\n  <tbody>\n    <tr>\n      <th>0</th>\n      <td>Algeria</td>\n      <td>AFRICA</td>\n    </tr>\n    <tr>\n      <th>1</th>\n      <td>Angola</td>\n      <td>AFRICA</td>\n    </tr>\n    <tr>\n      <th>2</th>\n      <td>Benin</td>\n      <td>AFRICA</td>\n    </tr>\n    <tr>\n      <th>3</th>\n      <td>Botswana</td>\n      <td>AFRICA</td>\n    </tr>\n    <tr>\n      <th>4</th>\n      <td>Burkina</td>\n      <td>AFRICA</td>\n    </tr>\n    <tr>\n      <th>...</th>\n      <td>...</td>\n      <td>...</td>\n    </tr>\n    <tr>\n      <th>189</th>\n      <td>Paraguay</td>\n      <td>SOUTH AMERICA</td>\n    </tr>\n    <tr>\n      <th>190</th>\n      <td>Peru</td>\n      <td>SOUTH AMERICA</td>\n    </tr>\n    <tr>\n      <th>191</th>\n      <td>Suriname</td>\n      <td>SOUTH AMERICA</td>\n    </tr>\n    <tr>\n      <th>192</th>\n      <td>Uruguay</td>\n      <td>SOUTH AMERICA</td>\n    </tr>\n    <tr>\n      <th>193</th>\n      <td>Venezuela</td>\n      <td>SOUTH AMERICA</td>\n    </tr>\n  </tbody>\n</table>\n<p>194 rows × 2 columns</p>\n</div>"
     },
     "metadata": {}
    }
   ],
   "execution_count": null
  },
  {
   "cell_type": "markdown",
   "source": "---\n6.\n\nAutomatically rename the columns of the DataFrame from task 5, so that we can work with them later.",
   "metadata": {
    "tags": [],
    "cell_id": "00010-96067ee0-4174-4ad3-900b-e28002d21c2a",
    "deepnote_cell_type": "markdown"
   }
  },
  {
   "cell_type": "code",
   "metadata": {
    "tags": [],
    "cell_id": "00011-9430aa3c-8662-4130-a3a1-bfbb3237948c",
    "deepnote_to_be_reexecuted": false,
    "source_hash": "5b21b794",
    "execution_start": 1624548922883,
    "execution_millis": 10,
    "deepnote_cell_type": "code"
   },
   "source": "df.columns = df.columns.str.lower()\ndf.columns\n",
   "outputs": [
    {
     "output_type": "execute_result",
     "execution_count": 47,
     "data": {
      "text/plain": "Index(['country', 'region'], dtype='object')"
     },
     "metadata": {}
    }
   ],
   "execution_count": null
  },
  {
   "cell_type": "markdown",
   "source": "---\n7.\n\nSave the DataFrame from task 6, into `Homework -> saved files` folder.",
   "metadata": {
    "tags": [],
    "cell_id": "00012-3160cd58-b891-4a3a-ae0a-16bd2b661eb0",
    "deepnote_cell_type": "markdown"
   }
  },
  {
   "cell_type": "code",
   "metadata": {
    "tags": [],
    "cell_id": "00013-5a00613c-12cf-4e0f-b2d2-b059fe76a20c",
    "deepnote_to_be_reexecuted": false,
    "source_hash": "6028d0d4",
    "execution_start": 1624548952222,
    "execution_millis": 0,
    "deepnote_cell_type": "code"
   },
   "source": "df.to_csv(\"/work/Homework/saved files/test.csv\")",
   "outputs": [],
   "execution_count": null
  },
  {
   "cell_type": "markdown",
   "source": "",
   "metadata": {
    "tags": [],
    "cell_id": "00010-91de37d8-5c81-4a6a-86ca-06495ab76421",
    "deepnote_cell_type": "markdown"
   }
  },
  {
   "cell_type": "markdown",
   "source": "<a style='text-decoration:none;line-height:16px;display:flex;color:#5B5B62;padding:10px;justify-content:end;' href='https://deepnote.com?utm_source=created-in-deepnote-cell&projectId=7d3ce7c8-a514-49e4-9ba4-a5899ac52ea5' target=\"_blank\">\n<img alt='Created in deepnote.com' style='display:inline;max-height:16px;margin:0px;margin-right:7.5px;' src='data:image/svg+xml;base64,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' > </img>\nCreated in <span style='font-weight:600;margin-left:4px;'>Deepnote</span></a>",
   "metadata": {
    "tags": [],
    "created_in_deepnote_cell": true,
    "deepnote_cell_type": "markdown"
   }
  }
 ],
 "nbformat": 4,
 "nbformat_minor": 2,
 "metadata": {
  "orig_nbformat": 2,
  "deepnote": {
   "is_reactive": false
  },
  "deepnote_notebook_id": "b8aafbef-50a0-4fd9-8756-eca3874965a4",
  "deepnote_execution_queue": []
 }
}