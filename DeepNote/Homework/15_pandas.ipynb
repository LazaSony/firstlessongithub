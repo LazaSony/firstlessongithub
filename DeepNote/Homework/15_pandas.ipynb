{
 "cells": [
  {
   "cell_type": "code",
   "metadata": {
    "tags": [],
    "cell_id": "00000-3363f26d-2218-424d-abeb-357e50d84470",
    "deepnote_to_be_reexecuted": false,
    "source_hash": "7a2d03ee",
    "execution_start": 1628784043870,
    "execution_millis": 3,
    "deepnote_cell_type": "code"
   },
   "source": "import pandas as pd\nimport numpy as np\n\ndf = pd.DataFrame({ 'A': [1,2,3,4], \n                   'B': [10,20,30,40],\n                   'C': [20,40,60,80]\n                  }, \n                  index=['Row 1', 'Row 2', 'Row 3', 'Row 4'])\n\n",
   "execution_count": null,
   "outputs": []
  },
  {
   "cell_type": "markdown",
   "source": "Use `.apply()` to create new column named `sum_divide`.\n\nYour apply function will sum each row, and then divide it by 3.",
   "metadata": {
    "tags": [],
    "cell_id": "00002-8cae2f03-2ff9-4c9a-8fcd-ab1cc3da6800",
    "deepnote_cell_type": "markdown"
   }
  },
  {
   "cell_type": "code",
   "metadata": {
    "tags": [],
    "cell_id": "00003-7445fe52-72c9-4ec3-81fa-f92955fef3bd",
    "deepnote_to_be_reexecuted": false,
    "source_hash": "753ef742",
    "execution_start": 1628783450205,
    "execution_millis": 36,
    "deepnote_cell_type": "code"
   },
   "source": "def sum_divide(row):\n    row[\"sum_divide\"]= row.sum()/3\n    return row\n\ndf.apply(sum_divide, axis = 1)",
   "execution_count": null,
   "outputs": [
    {
     "output_type": "execute_result",
     "execution_count": 10,
     "data": {
      "application/vnd.deepnote.dataframe.v2+json": {
       "row_count": 4,
       "column_count": 4,
       "columns": [
        {
         "name": "A",
         "dtype": "float64",
         "stats": {
          "unique_count": 4,
          "nan_count": 0,
          "min": "1.0",
          "max": "4.0",
          "histogram": [
           {
            "bin_start": 1,
            "bin_end": 1.3,
            "count": 1
           },
           {
            "bin_start": 1.3,
            "bin_end": 1.6,
            "count": 0
           },
           {
            "bin_start": 1.6,
            "bin_end": 1.9,
            "count": 0
           },
           {
            "bin_start": 1.9,
            "bin_end": 2.2,
            "count": 1
           },
           {
            "bin_start": 2.2,
            "bin_end": 2.5,
            "count": 0
           },
           {
            "bin_start": 2.5,
            "bin_end": 2.8,
            "count": 0
           },
           {
            "bin_start": 2.8,
            "bin_end": 3.1,
            "count": 1
           },
           {
            "bin_start": 3.1,
            "bin_end": 3.4,
            "count": 0
           },
           {
            "bin_start": 3.4,
            "bin_end": 3.6999999999999997,
            "count": 0
           },
           {
            "bin_start": 3.6999999999999997,
            "bin_end": 4,
            "count": 1
           }
          ]
         }
        },
        {
         "name": "B",
         "dtype": "float64",
         "stats": {
          "unique_count": 4,
          "nan_count": 0,
          "min": "10.0",
          "max": "40.0",
          "histogram": [
           {
            "bin_start": 10,
            "bin_end": 13,
            "count": 1
           },
           {
            "bin_start": 13,
            "bin_end": 16,
            "count": 0
           },
           {
            "bin_start": 16,
            "bin_end": 19,
            "count": 0
           },
           {
            "bin_start": 19,
            "bin_end": 22,
            "count": 1
           },
           {
            "bin_start": 22,
            "bin_end": 25,
            "count": 0
           },
           {
            "bin_start": 25,
            "bin_end": 28,
            "count": 0
           },
           {
            "bin_start": 28,
            "bin_end": 31,
            "count": 1
           },
           {
            "bin_start": 31,
            "bin_end": 34,
            "count": 0
           },
           {
            "bin_start": 34,
            "bin_end": 37,
            "count": 0
           },
           {
            "bin_start": 37,
            "bin_end": 40,
            "count": 1
           }
          ]
         }
        },
        {
         "name": "C",
         "dtype": "float64",
         "stats": {
          "unique_count": 4,
          "nan_count": 0,
          "min": "20.0",
          "max": "80.0",
          "histogram": [
           {
            "bin_start": 20,
            "bin_end": 26,
            "count": 1
           },
           {
            "bin_start": 26,
            "bin_end": 32,
            "count": 0
           },
           {
            "bin_start": 32,
            "bin_end": 38,
            "count": 0
           },
           {
            "bin_start": 38,
            "bin_end": 44,
            "count": 1
           },
           {
            "bin_start": 44,
            "bin_end": 50,
            "count": 0
           },
           {
            "bin_start": 50,
            "bin_end": 56,
            "count": 0
           },
           {
            "bin_start": 56,
            "bin_end": 62,
            "count": 1
           },
           {
            "bin_start": 62,
            "bin_end": 68,
            "count": 0
           },
           {
            "bin_start": 68,
            "bin_end": 74,
            "count": 0
           },
           {
            "bin_start": 74,
            "bin_end": 80,
            "count": 1
           }
          ]
         }
        },
        {
         "name": "sum_divide",
         "dtype": "float64",
         "stats": {
          "unique_count": 4,
          "nan_count": 0,
          "min": "10.333333333333334",
          "max": "41.333333333333336",
          "histogram": [
           {
            "bin_start": 10.333333333333334,
            "bin_end": 13.433333333333334,
            "count": 1
           },
           {
            "bin_start": 13.433333333333334,
            "bin_end": 16.533333333333335,
            "count": 0
           },
           {
            "bin_start": 16.533333333333335,
            "bin_end": 19.633333333333333,
            "count": 0
           },
           {
            "bin_start": 19.633333333333333,
            "bin_end": 22.733333333333334,
            "count": 1
           },
           {
            "bin_start": 22.733333333333334,
            "bin_end": 25.833333333333336,
            "count": 0
           },
           {
            "bin_start": 25.833333333333336,
            "bin_end": 28.933333333333337,
            "count": 0
           },
           {
            "bin_start": 28.933333333333337,
            "bin_end": 32.03333333333333,
            "count": 1
           },
           {
            "bin_start": 32.03333333333333,
            "bin_end": 35.13333333333333,
            "count": 0
           },
           {
            "bin_start": 35.13333333333333,
            "bin_end": 38.233333333333334,
            "count": 0
           },
           {
            "bin_start": 38.233333333333334,
            "bin_end": 41.333333333333336,
            "count": 1
           }
          ]
         }
        },
        {
         "name": "_deepnote_index_column",
         "dtype": "object"
        }
       ],
       "rows_top": [
        {
         "A": 1,
         "B": 10,
         "C": 20,
         "sum_divide": 10.333333333333334,
         "_deepnote_index_column": "Row 1"
        },
        {
         "A": 2,
         "B": 20,
         "C": 40,
         "sum_divide": 20.666666666666668,
         "_deepnote_index_column": "Row 2"
        },
        {
         "A": 3,
         "B": 30,
         "C": 60,
         "sum_divide": 31,
         "_deepnote_index_column": "Row 3"
        },
        {
         "A": 4,
         "B": 40,
         "C": 80,
         "sum_divide": 41.333333333333336,
         "_deepnote_index_column": "Row 4"
        }
       ],
       "rows_bottom": null
      },
      "text/plain": "         A     B     C  sum_divide\nRow 1  1.0  10.0  20.0   10.333333\nRow 2  2.0  20.0  40.0   20.666667\nRow 3  3.0  30.0  60.0   31.000000\nRow 4  4.0  40.0  80.0   41.333333",
      "text/html": "<div>\n<style scoped>\n    .dataframe tbody tr th:only-of-type {\n        vertical-align: middle;\n    }\n\n    .dataframe tbody tr th {\n        vertical-align: top;\n    }\n\n    .dataframe thead th {\n        text-align: right;\n    }\n</style>\n<table border=\"1\" class=\"dataframe\">\n  <thead>\n    <tr style=\"text-align: right;\">\n      <th></th>\n      <th>A</th>\n      <th>B</th>\n      <th>C</th>\n      <th>sum_divide</th>\n    </tr>\n  </thead>\n  <tbody>\n    <tr>\n      <th>Row 1</th>\n      <td>1.0</td>\n      <td>10.0</td>\n      <td>20.0</td>\n      <td>10.333333</td>\n    </tr>\n    <tr>\n      <th>Row 2</th>\n      <td>2.0</td>\n      <td>20.0</td>\n      <td>40.0</td>\n      <td>20.666667</td>\n    </tr>\n    <tr>\n      <th>Row 3</th>\n      <td>3.0</td>\n      <td>30.0</td>\n      <td>60.0</td>\n      <td>31.000000</td>\n    </tr>\n    <tr>\n      <th>Row 4</th>\n      <td>4.0</td>\n      <td>40.0</td>\n      <td>80.0</td>\n      <td>41.333333</td>\n    </tr>\n  </tbody>\n</table>\n</div>"
     },
     "metadata": {}
    }
   ]
  },
  {
   "cell_type": "markdown",
   "source": "Use `.apply()` to create new row.\n\nThe new row will be average of all values in that column.",
   "metadata": {
    "tags": [],
    "cell_id": "00004-43af9461-a6b0-411b-a9dd-4adf835500e7",
    "deepnote_cell_type": "markdown"
   }
  },
  {
   "cell_type": "code",
   "metadata": {
    "tags": [],
    "cell_id": "00005-da0fc2f8-928f-443e-8068-159b37b61737",
    "deepnote_to_be_reexecuted": false,
    "source_hash": "39a460d1",
    "execution_start": 1628784658290,
    "execution_millis": 22,
    "deepnote_cell_type": "code"
   },
   "source": "def new_row(col):\n    new = pd.DataFrame(\"1\")\n    col = col.append(new)\n    # df.loc[\"Row 5\"] = df.mean()\n\n\ndf.apply(new_row, axis = 0)",
   "execution_count": null,
   "outputs": [
    {
     "output_type": "error",
     "ename": "ValueError",
     "evalue": "DataFrame constructor not properly called!",
     "traceback": [
      "\u001b[0;31m---------------------------------------------------------------------------\u001b[0m",
      "\u001b[0;31mValueError\u001b[0m                                Traceback (most recent call last)",
      "\u001b[0;32m/tmp/ipykernel_73/795446647.py\u001b[0m in \u001b[0;36m<module>\u001b[0;34m\u001b[0m\n\u001b[1;32m      5\u001b[0m \u001b[0;34m\u001b[0m\u001b[0m\n\u001b[1;32m      6\u001b[0m \u001b[0;34m\u001b[0m\u001b[0m\n\u001b[0;32m----> 7\u001b[0;31m \u001b[0mdf\u001b[0m\u001b[0;34m.\u001b[0m\u001b[0mapply\u001b[0m\u001b[0;34m(\u001b[0m\u001b[0mnew_row\u001b[0m\u001b[0;34m,\u001b[0m \u001b[0maxis\u001b[0m \u001b[0;34m=\u001b[0m \u001b[0;36m0\u001b[0m\u001b[0;34m)\u001b[0m\u001b[0;34m\u001b[0m\u001b[0;34m\u001b[0m\u001b[0m\n\u001b[0m",
      "\u001b[0;32m/shared-libs/python3.7/py/lib/python3.7/site-packages/pandas/core/frame.py\u001b[0m in \u001b[0;36mapply\u001b[0;34m(self, func, axis, raw, result_type, args, **kwds)\u001b[0m\n\u001b[1;32m   7766\u001b[0m             \u001b[0mkwds\u001b[0m\u001b[0;34m=\u001b[0m\u001b[0mkwds\u001b[0m\u001b[0;34m,\u001b[0m\u001b[0;34m\u001b[0m\u001b[0;34m\u001b[0m\u001b[0m\n\u001b[1;32m   7767\u001b[0m         )\n\u001b[0;32m-> 7768\u001b[0;31m         \u001b[0;32mreturn\u001b[0m \u001b[0mop\u001b[0m\u001b[0;34m.\u001b[0m\u001b[0mget_result\u001b[0m\u001b[0;34m(\u001b[0m\u001b[0;34m)\u001b[0m\u001b[0;34m\u001b[0m\u001b[0;34m\u001b[0m\u001b[0m\n\u001b[0m\u001b[1;32m   7769\u001b[0m \u001b[0;34m\u001b[0m\u001b[0m\n\u001b[1;32m   7770\u001b[0m     \u001b[0;32mdef\u001b[0m \u001b[0mapplymap\u001b[0m\u001b[0;34m(\u001b[0m\u001b[0mself\u001b[0m\u001b[0;34m,\u001b[0m \u001b[0mfunc\u001b[0m\u001b[0;34m,\u001b[0m \u001b[0mna_action\u001b[0m\u001b[0;34m:\u001b[0m \u001b[0mOptional\u001b[0m\u001b[0;34m[\u001b[0m\u001b[0mstr\u001b[0m\u001b[0;34m]\u001b[0m \u001b[0;34m=\u001b[0m \u001b[0;32mNone\u001b[0m\u001b[0;34m)\u001b[0m \u001b[0;34m->\u001b[0m \u001b[0mDataFrame\u001b[0m\u001b[0;34m:\u001b[0m\u001b[0;34m\u001b[0m\u001b[0;34m\u001b[0m\u001b[0m\n",
      "\u001b[0;32m/shared-libs/python3.7/py/lib/python3.7/site-packages/pandas/core/apply.py\u001b[0m in \u001b[0;36mget_result\u001b[0;34m(self)\u001b[0m\n\u001b[1;32m    183\u001b[0m             \u001b[0;32mreturn\u001b[0m \u001b[0mself\u001b[0m\u001b[0;34m.\u001b[0m\u001b[0mapply_raw\u001b[0m\u001b[0;34m(\u001b[0m\u001b[0;34m)\u001b[0m\u001b[0;34m\u001b[0m\u001b[0;34m\u001b[0m\u001b[0m\n\u001b[1;32m    184\u001b[0m \u001b[0;34m\u001b[0m\u001b[0m\n\u001b[0;32m--> 185\u001b[0;31m         \u001b[0;32mreturn\u001b[0m \u001b[0mself\u001b[0m\u001b[0;34m.\u001b[0m\u001b[0mapply_standard\u001b[0m\u001b[0;34m(\u001b[0m\u001b[0;34m)\u001b[0m\u001b[0;34m\u001b[0m\u001b[0;34m\u001b[0m\u001b[0m\n\u001b[0m\u001b[1;32m    186\u001b[0m \u001b[0;34m\u001b[0m\u001b[0m\n\u001b[1;32m    187\u001b[0m     \u001b[0;32mdef\u001b[0m \u001b[0mapply_empty_result\u001b[0m\u001b[0;34m(\u001b[0m\u001b[0mself\u001b[0m\u001b[0;34m)\u001b[0m\u001b[0;34m:\u001b[0m\u001b[0;34m\u001b[0m\u001b[0;34m\u001b[0m\u001b[0m\n",
      "\u001b[0;32m/shared-libs/python3.7/py/lib/python3.7/site-packages/pandas/core/apply.py\u001b[0m in \u001b[0;36mapply_standard\u001b[0;34m(self)\u001b[0m\n\u001b[1;32m    274\u001b[0m \u001b[0;34m\u001b[0m\u001b[0m\n\u001b[1;32m    275\u001b[0m     \u001b[0;32mdef\u001b[0m \u001b[0mapply_standard\u001b[0m\u001b[0;34m(\u001b[0m\u001b[0mself\u001b[0m\u001b[0;34m)\u001b[0m\u001b[0;34m:\u001b[0m\u001b[0;34m\u001b[0m\u001b[0;34m\u001b[0m\u001b[0m\n\u001b[0;32m--> 276\u001b[0;31m         \u001b[0mresults\u001b[0m\u001b[0;34m,\u001b[0m \u001b[0mres_index\u001b[0m \u001b[0;34m=\u001b[0m \u001b[0mself\u001b[0m\u001b[0;34m.\u001b[0m\u001b[0mapply_series_generator\u001b[0m\u001b[0;34m(\u001b[0m\u001b[0;34m)\u001b[0m\u001b[0;34m\u001b[0m\u001b[0;34m\u001b[0m\u001b[0m\n\u001b[0m\u001b[1;32m    277\u001b[0m \u001b[0;34m\u001b[0m\u001b[0m\n\u001b[1;32m    278\u001b[0m         \u001b[0;31m# wrap results\u001b[0m\u001b[0;34m\u001b[0m\u001b[0;34m\u001b[0m\u001b[0;34m\u001b[0m\u001b[0m\n",
      "\u001b[0;32m/shared-libs/python3.7/py/lib/python3.7/site-packages/pandas/core/apply.py\u001b[0m in \u001b[0;36mapply_series_generator\u001b[0;34m(self)\u001b[0m\n\u001b[1;32m    288\u001b[0m             \u001b[0;32mfor\u001b[0m \u001b[0mi\u001b[0m\u001b[0;34m,\u001b[0m \u001b[0mv\u001b[0m \u001b[0;32min\u001b[0m \u001b[0menumerate\u001b[0m\u001b[0;34m(\u001b[0m\u001b[0mseries_gen\u001b[0m\u001b[0;34m)\u001b[0m\u001b[0;34m:\u001b[0m\u001b[0;34m\u001b[0m\u001b[0;34m\u001b[0m\u001b[0m\n\u001b[1;32m    289\u001b[0m                 \u001b[0;31m# ignore SettingWithCopy here in case the user mutates\u001b[0m\u001b[0;34m\u001b[0m\u001b[0;34m\u001b[0m\u001b[0;34m\u001b[0m\u001b[0m\n\u001b[0;32m--> 290\u001b[0;31m                 \u001b[0mresults\u001b[0m\u001b[0;34m[\u001b[0m\u001b[0mi\u001b[0m\u001b[0;34m]\u001b[0m \u001b[0;34m=\u001b[0m \u001b[0mself\u001b[0m\u001b[0;34m.\u001b[0m\u001b[0mf\u001b[0m\u001b[0;34m(\u001b[0m\u001b[0mv\u001b[0m\u001b[0;34m)\u001b[0m\u001b[0;34m\u001b[0m\u001b[0;34m\u001b[0m\u001b[0m\n\u001b[0m\u001b[1;32m    291\u001b[0m                 \u001b[0;32mif\u001b[0m \u001b[0misinstance\u001b[0m\u001b[0;34m(\u001b[0m\u001b[0mresults\u001b[0m\u001b[0;34m[\u001b[0m\u001b[0mi\u001b[0m\u001b[0;34m]\u001b[0m\u001b[0;34m,\u001b[0m \u001b[0mABCSeries\u001b[0m\u001b[0;34m)\u001b[0m\u001b[0;34m:\u001b[0m\u001b[0;34m\u001b[0m\u001b[0;34m\u001b[0m\u001b[0m\n\u001b[1;32m    292\u001b[0m                     \u001b[0;31m# If we have a view on v, we need to make a copy because\u001b[0m\u001b[0;34m\u001b[0m\u001b[0;34m\u001b[0m\u001b[0;34m\u001b[0m\u001b[0m\n",
      "\u001b[0;32m/tmp/ipykernel_73/795446647.py\u001b[0m in \u001b[0;36mnew_row\u001b[0;34m(col)\u001b[0m\n\u001b[1;32m      1\u001b[0m \u001b[0;32mdef\u001b[0m \u001b[0mnew_row\u001b[0m\u001b[0;34m(\u001b[0m\u001b[0mcol\u001b[0m\u001b[0;34m)\u001b[0m\u001b[0;34m:\u001b[0m\u001b[0;34m\u001b[0m\u001b[0;34m\u001b[0m\u001b[0m\n\u001b[0;32m----> 2\u001b[0;31m     \u001b[0mnew\u001b[0m \u001b[0;34m=\u001b[0m \u001b[0mpd\u001b[0m\u001b[0;34m.\u001b[0m\u001b[0mDataFrame\u001b[0m\u001b[0;34m(\u001b[0m\u001b[0;34m\"1\"\u001b[0m\u001b[0;34m)\u001b[0m\u001b[0;34m\u001b[0m\u001b[0;34m\u001b[0m\u001b[0m\n\u001b[0m\u001b[1;32m      3\u001b[0m     \u001b[0mcol\u001b[0m \u001b[0;34m=\u001b[0m \u001b[0mcol\u001b[0m\u001b[0;34m.\u001b[0m\u001b[0mappend\u001b[0m\u001b[0;34m(\u001b[0m\u001b[0mnew\u001b[0m\u001b[0;34m)\u001b[0m\u001b[0;34m\u001b[0m\u001b[0;34m\u001b[0m\u001b[0m\n\u001b[1;32m      4\u001b[0m     \u001b[0;31m# df.loc[\"Row 5\"] = df.mean()\u001b[0m\u001b[0;34m\u001b[0m\u001b[0;34m\u001b[0m\u001b[0;34m\u001b[0m\u001b[0m\n\u001b[1;32m      5\u001b[0m \u001b[0;34m\u001b[0m\u001b[0m\n",
      "\u001b[0;32m/shared-libs/python3.7/py/lib/python3.7/site-packages/pandas/core/frame.py\u001b[0m in \u001b[0;36m__init__\u001b[0;34m(self, data, index, columns, dtype, copy)\u001b[0m\n\u001b[1;32m    588\u001b[0m         \u001b[0;32melse\u001b[0m\u001b[0;34m:\u001b[0m\u001b[0;34m\u001b[0m\u001b[0;34m\u001b[0m\u001b[0m\n\u001b[1;32m    589\u001b[0m             \u001b[0;32mif\u001b[0m \u001b[0mindex\u001b[0m \u001b[0;32mis\u001b[0m \u001b[0;32mNone\u001b[0m \u001b[0;32mor\u001b[0m \u001b[0mcolumns\u001b[0m \u001b[0;32mis\u001b[0m \u001b[0;32mNone\u001b[0m\u001b[0;34m:\u001b[0m\u001b[0;34m\u001b[0m\u001b[0;34m\u001b[0m\u001b[0m\n\u001b[0;32m--> 590\u001b[0;31m                 \u001b[0;32mraise\u001b[0m \u001b[0mValueError\u001b[0m\u001b[0;34m(\u001b[0m\u001b[0;34m\"DataFrame constructor not properly called!\"\u001b[0m\u001b[0;34m)\u001b[0m\u001b[0;34m\u001b[0m\u001b[0;34m\u001b[0m\u001b[0m\n\u001b[0m\u001b[1;32m    591\u001b[0m \u001b[0;34m\u001b[0m\u001b[0m\n\u001b[1;32m    592\u001b[0m             \u001b[0;32mif\u001b[0m \u001b[0;32mnot\u001b[0m \u001b[0mdtype\u001b[0m\u001b[0;34m:\u001b[0m\u001b[0;34m\u001b[0m\u001b[0;34m\u001b[0m\u001b[0m\n",
      "\u001b[0;31mValueError\u001b[0m: DataFrame constructor not properly called!"
     ]
    }
   ]
  },
  {
   "cell_type": "markdown",
   "source": "Use `.apply()` to create new column. The value of that column will be average of column `B` and `C`.",
   "metadata": {
    "tags": [],
    "cell_id": "00006-298808d3-6e20-4476-a56a-f9168e91ac6a",
    "deepnote_cell_type": "markdown"
   }
  },
  {
   "cell_type": "code",
   "metadata": {
    "tags": [],
    "cell_id": "00008-9ba2fba7-d690-45a5-b712-9a9a02b7c5ca",
    "deepnote_to_be_reexecuted": false,
    "source_hash": "48b37804",
    "execution_start": 1628783897097,
    "execution_millis": 28,
    "deepnote_cell_type": "code"
   },
   "source": "def average_column(x):\n    x[\"average\"] = x[\"A\"].mean() + x[\"B\"].mean()\n    return x\n\ndf = df.apply(average_column, axis=1)\ndf\n\n# df[\"new\"] = df.apply(lambda row: row[\"A\"].mean() + row[\"B\"].mean() ,axis=1)\n# df",
   "execution_count": null,
   "outputs": [
    {
     "output_type": "execute_result",
     "execution_count": 24,
     "data": {
      "application/vnd.deepnote.dataframe.v2+json": {
       "row_count": 4,
       "column_count": 4,
       "columns": [
        {
         "name": "A",
         "dtype": "float64",
         "stats": {
          "unique_count": 4,
          "nan_count": 0,
          "min": "1.0",
          "max": "4.0",
          "histogram": [
           {
            "bin_start": 1,
            "bin_end": 1.3,
            "count": 1
           },
           {
            "bin_start": 1.3,
            "bin_end": 1.6,
            "count": 0
           },
           {
            "bin_start": 1.6,
            "bin_end": 1.9,
            "count": 0
           },
           {
            "bin_start": 1.9,
            "bin_end": 2.2,
            "count": 1
           },
           {
            "bin_start": 2.2,
            "bin_end": 2.5,
            "count": 0
           },
           {
            "bin_start": 2.5,
            "bin_end": 2.8,
            "count": 0
           },
           {
            "bin_start": 2.8,
            "bin_end": 3.1,
            "count": 1
           },
           {
            "bin_start": 3.1,
            "bin_end": 3.4,
            "count": 0
           },
           {
            "bin_start": 3.4,
            "bin_end": 3.6999999999999997,
            "count": 0
           },
           {
            "bin_start": 3.6999999999999997,
            "bin_end": 4,
            "count": 1
           }
          ]
         }
        },
        {
         "name": "B",
         "dtype": "float64",
         "stats": {
          "unique_count": 4,
          "nan_count": 0,
          "min": "10.0",
          "max": "40.0",
          "histogram": [
           {
            "bin_start": 10,
            "bin_end": 13,
            "count": 1
           },
           {
            "bin_start": 13,
            "bin_end": 16,
            "count": 0
           },
           {
            "bin_start": 16,
            "bin_end": 19,
            "count": 0
           },
           {
            "bin_start": 19,
            "bin_end": 22,
            "count": 1
           },
           {
            "bin_start": 22,
            "bin_end": 25,
            "count": 0
           },
           {
            "bin_start": 25,
            "bin_end": 28,
            "count": 0
           },
           {
            "bin_start": 28,
            "bin_end": 31,
            "count": 1
           },
           {
            "bin_start": 31,
            "bin_end": 34,
            "count": 0
           },
           {
            "bin_start": 34,
            "bin_end": 37,
            "count": 0
           },
           {
            "bin_start": 37,
            "bin_end": 40,
            "count": 1
           }
          ]
         }
        },
        {
         "name": "C",
         "dtype": "float64",
         "stats": {
          "unique_count": 4,
          "nan_count": 0,
          "min": "20.0",
          "max": "80.0",
          "histogram": [
           {
            "bin_start": 20,
            "bin_end": 26,
            "count": 1
           },
           {
            "bin_start": 26,
            "bin_end": 32,
            "count": 0
           },
           {
            "bin_start": 32,
            "bin_end": 38,
            "count": 0
           },
           {
            "bin_start": 38,
            "bin_end": 44,
            "count": 1
           },
           {
            "bin_start": 44,
            "bin_end": 50,
            "count": 0
           },
           {
            "bin_start": 50,
            "bin_end": 56,
            "count": 0
           },
           {
            "bin_start": 56,
            "bin_end": 62,
            "count": 1
           },
           {
            "bin_start": 62,
            "bin_end": 68,
            "count": 0
           },
           {
            "bin_start": 68,
            "bin_end": 74,
            "count": 0
           },
           {
            "bin_start": 74,
            "bin_end": 80,
            "count": 1
           }
          ]
         }
        },
        {
         "name": "average",
         "dtype": "float64",
         "stats": {
          "unique_count": 4,
          "nan_count": 0,
          "min": "11.0",
          "max": "44.0",
          "histogram": [
           {
            "bin_start": 11,
            "bin_end": 14.3,
            "count": 1
           },
           {
            "bin_start": 14.3,
            "bin_end": 17.6,
            "count": 0
           },
           {
            "bin_start": 17.6,
            "bin_end": 20.9,
            "count": 0
           },
           {
            "bin_start": 20.9,
            "bin_end": 24.2,
            "count": 1
           },
           {
            "bin_start": 24.2,
            "bin_end": 27.5,
            "count": 0
           },
           {
            "bin_start": 27.5,
            "bin_end": 30.799999999999997,
            "count": 0
           },
           {
            "bin_start": 30.799999999999997,
            "bin_end": 34.099999999999994,
            "count": 1
           },
           {
            "bin_start": 34.099999999999994,
            "bin_end": 37.4,
            "count": 0
           },
           {
            "bin_start": 37.4,
            "bin_end": 40.7,
            "count": 0
           },
           {
            "bin_start": 40.7,
            "bin_end": 44,
            "count": 1
           }
          ]
         }
        },
        {
         "name": "_deepnote_index_column",
         "dtype": "object"
        }
       ],
       "rows_top": [
        {
         "A": 1,
         "B": 10,
         "C": 20,
         "average": 11,
         "_deepnote_index_column": "Row 1"
        },
        {
         "A": 2,
         "B": 20,
         "C": 40,
         "average": 22,
         "_deepnote_index_column": "Row 2"
        },
        {
         "A": 3,
         "B": 30,
         "C": 60,
         "average": 33,
         "_deepnote_index_column": "Row 3"
        },
        {
         "A": 4,
         "B": 40,
         "C": 80,
         "average": 44,
         "_deepnote_index_column": "Row 4"
        }
       ],
       "rows_bottom": null
      },
      "text/plain": "         A     B     C  average\nRow 1  1.0  10.0  20.0     11.0\nRow 2  2.0  20.0  40.0     22.0\nRow 3  3.0  30.0  60.0     33.0\nRow 4  4.0  40.0  80.0     44.0",
      "text/html": "<div>\n<style scoped>\n    .dataframe tbody tr th:only-of-type {\n        vertical-align: middle;\n    }\n\n    .dataframe tbody tr th {\n        vertical-align: top;\n    }\n\n    .dataframe thead th {\n        text-align: right;\n    }\n</style>\n<table border=\"1\" class=\"dataframe\">\n  <thead>\n    <tr style=\"text-align: right;\">\n      <th></th>\n      <th>A</th>\n      <th>B</th>\n      <th>C</th>\n      <th>average</th>\n    </tr>\n  </thead>\n  <tbody>\n    <tr>\n      <th>Row 1</th>\n      <td>1.0</td>\n      <td>10.0</td>\n      <td>20.0</td>\n      <td>11.0</td>\n    </tr>\n    <tr>\n      <th>Row 2</th>\n      <td>2.0</td>\n      <td>20.0</td>\n      <td>40.0</td>\n      <td>22.0</td>\n    </tr>\n    <tr>\n      <th>Row 3</th>\n      <td>3.0</td>\n      <td>30.0</td>\n      <td>60.0</td>\n      <td>33.0</td>\n    </tr>\n    <tr>\n      <th>Row 4</th>\n      <td>4.0</td>\n      <td>40.0</td>\n      <td>80.0</td>\n      <td>44.0</td>\n    </tr>\n  </tbody>\n</table>\n</div>"
     },
     "metadata": {}
    }
   ]
  },
  {
   "cell_type": "markdown",
   "source": "Use `.apply()` to create new column. The value of that column will be `True` if column `A` is even, otherwise the value will be `False`",
   "metadata": {
    "tags": [],
    "cell_id": "00008-22bb5955-6656-4404-95a8-7e64cfa7c424",
    "deepnote_cell_type": "markdown"
   }
  },
  {
   "cell_type": "code",
   "metadata": {
    "tags": [],
    "cell_id": "00011-be3d82cc-2e6d-4894-9e53-8e71a7b85eab",
    "deepnote_to_be_reexecuted": false,
    "source_hash": "85a3c78",
    "execution_start": 1628784472975,
    "execution_millis": 1,
    "deepnote_cell_type": "code"
   },
   "source": "def true_or_false(x):\n    if x[\"A\"]% 2 != 0:\n        x[\"true_or_false\"] = True\n    else:\n        x[\"true_or_false\"] = False  \n    return x\n\n\ndf = df.apply(true_or_false, axis=1)\ndf",
   "execution_count": null,
   "outputs": []
  },
  {
   "cell_type": "markdown",
   "source": "Use `.apply()` to create new column. \nThe value of that column will be \n* `maybe` if column `A` is even and `B` is  less than 25\n* `most likely` if `A` is odd, and `B` is less than 25, and `C` is more than 200\n* `definitely` for everything else",
   "metadata": {
    "tags": [],
    "cell_id": "00011-7ddbe314-0599-48ce-9f7b-fd296c25f278",
    "deepnote_cell_type": "markdown"
   }
  },
  {
   "cell_type": "code",
   "metadata": {
    "tags": [],
    "cell_id": "00012-77dec7a0-4e61-4898-b792-6bd3b535585e",
    "deepnote_to_be_reexecuted": false,
    "source_hash": "dfe96237",
    "execution_start": 1628784641954,
    "execution_millis": 6,
    "deepnote_cell_type": "code"
   },
   "source": "def odd_or_even(x):\n    if x[\"A\"]% 2 != 0 and x[\"B\"]  < 25 :\n        x[\"probability\"] = \"maybe\"\n    elif x[\"A\"]% 2 == 0 and x[\"B\"] < 25 and x[\"C\"] >20:\n        x[\"probability\"] = \"most likely\"\n    else:\n        x[\"probability\"] = \"definitely\"      \n    return x\n\ndf= df.apply(odd_or_even, axis=1)\ndf",
   "execution_count": null,
   "outputs": [
    {
     "output_type": "execute_result",
     "execution_count": 59,
     "data": {
      "application/vnd.deepnote.dataframe.v2+json": {
       "row_count": 4,
       "column_count": 6,
       "columns": [
        {
         "name": "A",
         "dtype": "float64",
         "stats": {
          "unique_count": 4,
          "nan_count": 0,
          "min": "1.0",
          "max": "4.0",
          "histogram": [
           {
            "bin_start": 1,
            "bin_end": 1.3,
            "count": 1
           },
           {
            "bin_start": 1.3,
            "bin_end": 1.6,
            "count": 0
           },
           {
            "bin_start": 1.6,
            "bin_end": 1.9,
            "count": 0
           },
           {
            "bin_start": 1.9,
            "bin_end": 2.2,
            "count": 1
           },
           {
            "bin_start": 2.2,
            "bin_end": 2.5,
            "count": 0
           },
           {
            "bin_start": 2.5,
            "bin_end": 2.8,
            "count": 0
           },
           {
            "bin_start": 2.8,
            "bin_end": 3.1,
            "count": 1
           },
           {
            "bin_start": 3.1,
            "bin_end": 3.4,
            "count": 0
           },
           {
            "bin_start": 3.4,
            "bin_end": 3.6999999999999997,
            "count": 0
           },
           {
            "bin_start": 3.6999999999999997,
            "bin_end": 4,
            "count": 1
           }
          ]
         }
        },
        {
         "name": "B",
         "dtype": "float64",
         "stats": {
          "unique_count": 4,
          "nan_count": 0,
          "min": "10.0",
          "max": "40.0",
          "histogram": [
           {
            "bin_start": 10,
            "bin_end": 13,
            "count": 1
           },
           {
            "bin_start": 13,
            "bin_end": 16,
            "count": 0
           },
           {
            "bin_start": 16,
            "bin_end": 19,
            "count": 0
           },
           {
            "bin_start": 19,
            "bin_end": 22,
            "count": 1
           },
           {
            "bin_start": 22,
            "bin_end": 25,
            "count": 0
           },
           {
            "bin_start": 25,
            "bin_end": 28,
            "count": 0
           },
           {
            "bin_start": 28,
            "bin_end": 31,
            "count": 1
           },
           {
            "bin_start": 31,
            "bin_end": 34,
            "count": 0
           },
           {
            "bin_start": 34,
            "bin_end": 37,
            "count": 0
           },
           {
            "bin_start": 37,
            "bin_end": 40,
            "count": 1
           }
          ]
         }
        },
        {
         "name": "C",
         "dtype": "float64",
         "stats": {
          "unique_count": 4,
          "nan_count": 0,
          "min": "20.0",
          "max": "80.0",
          "histogram": [
           {
            "bin_start": 20,
            "bin_end": 26,
            "count": 1
           },
           {
            "bin_start": 26,
            "bin_end": 32,
            "count": 0
           },
           {
            "bin_start": 32,
            "bin_end": 38,
            "count": 0
           },
           {
            "bin_start": 38,
            "bin_end": 44,
            "count": 1
           },
           {
            "bin_start": 44,
            "bin_end": 50,
            "count": 0
           },
           {
            "bin_start": 50,
            "bin_end": 56,
            "count": 0
           },
           {
            "bin_start": 56,
            "bin_end": 62,
            "count": 1
           },
           {
            "bin_start": 62,
            "bin_end": 68,
            "count": 0
           },
           {
            "bin_start": 68,
            "bin_end": 74,
            "count": 0
           },
           {
            "bin_start": 74,
            "bin_end": 80,
            "count": 1
           }
          ]
         }
        },
        {
         "name": "new",
         "dtype": "float64",
         "stats": {
          "unique_count": 4,
          "nan_count": 0,
          "min": "11.0",
          "max": "44.0",
          "histogram": [
           {
            "bin_start": 11,
            "bin_end": 14.3,
            "count": 1
           },
           {
            "bin_start": 14.3,
            "bin_end": 17.6,
            "count": 0
           },
           {
            "bin_start": 17.6,
            "bin_end": 20.9,
            "count": 0
           },
           {
            "bin_start": 20.9,
            "bin_end": 24.2,
            "count": 1
           },
           {
            "bin_start": 24.2,
            "bin_end": 27.5,
            "count": 0
           },
           {
            "bin_start": 27.5,
            "bin_end": 30.799999999999997,
            "count": 0
           },
           {
            "bin_start": 30.799999999999997,
            "bin_end": 34.099999999999994,
            "count": 1
           },
           {
            "bin_start": 34.099999999999994,
            "bin_end": 37.4,
            "count": 0
           },
           {
            "bin_start": 37.4,
            "bin_end": 40.7,
            "count": 0
           },
           {
            "bin_start": 40.7,
            "bin_end": 44,
            "count": 1
           }
          ]
         }
        },
        {
         "name": "true_or_false",
         "dtype": "object",
         "stats": {
          "unique_count": 2,
          "nan_count": 0,
          "categories": [
           {
            "name": "True",
            "count": 2
           },
           {
            "name": "False",
            "count": 2
           }
          ]
         }
        },
        {
         "name": "probability",
         "dtype": "object",
         "stats": {
          "unique_count": 3,
          "nan_count": 0,
          "categories": [
           {
            "name": "definitely",
            "count": 2
           },
           {
            "name": "maybe",
            "count": 1
           },
           {
            "name": "most likely",
            "count": 1
           }
          ]
         }
        },
        {
         "name": "_deepnote_index_column",
         "dtype": "object"
        }
       ],
       "rows_top": [
        {
         "A": 1,
         "B": 10,
         "C": 20,
         "new": 11,
         "true_or_false": "True",
         "probability": "maybe",
         "_deepnote_index_column": "Row 1"
        },
        {
         "A": 2,
         "B": 20,
         "C": 40,
         "new": 22,
         "true_or_false": "False",
         "probability": "most likely",
         "_deepnote_index_column": "Row 2"
        },
        {
         "A": 3,
         "B": 30,
         "C": 60,
         "new": 33,
         "true_or_false": "True",
         "probability": "definitely",
         "_deepnote_index_column": "Row 3"
        },
        {
         "A": 4,
         "B": 40,
         "C": 80,
         "new": 44,
         "true_or_false": "False",
         "probability": "definitely",
         "_deepnote_index_column": "Row 4"
        }
       ],
       "rows_bottom": null
      },
      "text/plain": "         A     B     C   new true_or_false  probability\nRow 1  1.0  10.0  20.0  11.0          True        maybe\nRow 2  2.0  20.0  40.0  22.0         False  most likely\nRow 3  3.0  30.0  60.0  33.0          True   definitely\nRow 4  4.0  40.0  80.0  44.0         False   definitely",
      "text/html": "<div>\n<style scoped>\n    .dataframe tbody tr th:only-of-type {\n        vertical-align: middle;\n    }\n\n    .dataframe tbody tr th {\n        vertical-align: top;\n    }\n\n    .dataframe thead th {\n        text-align: right;\n    }\n</style>\n<table border=\"1\" class=\"dataframe\">\n  <thead>\n    <tr style=\"text-align: right;\">\n      <th></th>\n      <th>A</th>\n      <th>B</th>\n      <th>C</th>\n      <th>new</th>\n      <th>true_or_false</th>\n      <th>probability</th>\n    </tr>\n  </thead>\n  <tbody>\n    <tr>\n      <th>Row 1</th>\n      <td>1.0</td>\n      <td>10.0</td>\n      <td>20.0</td>\n      <td>11.0</td>\n      <td>True</td>\n      <td>maybe</td>\n    </tr>\n    <tr>\n      <th>Row 2</th>\n      <td>2.0</td>\n      <td>20.0</td>\n      <td>40.0</td>\n      <td>22.0</td>\n      <td>False</td>\n      <td>most likely</td>\n    </tr>\n    <tr>\n      <th>Row 3</th>\n      <td>3.0</td>\n      <td>30.0</td>\n      <td>60.0</td>\n      <td>33.0</td>\n      <td>True</td>\n      <td>definitely</td>\n    </tr>\n    <tr>\n      <th>Row 4</th>\n      <td>4.0</td>\n      <td>40.0</td>\n      <td>80.0</td>\n      <td>44.0</td>\n      <td>False</td>\n      <td>definitely</td>\n    </tr>\n  </tbody>\n</table>\n</div>"
     },
     "metadata": {}
    }
   ]
  },
  {
   "cell_type": "markdown",
   "source": "Use `.apply()` to create a function that squares the input.\n\nUse this function on all values in column `B`.",
   "metadata": {
    "tags": [],
    "cell_id": "00013-0d95f477-7997-485f-8a26-fa4890cdb9b8",
    "deepnote_cell_type": "markdown"
   }
  },
  {
   "cell_type": "code",
   "metadata": {
    "tags": [],
    "cell_id": "00013-07a25de8-7586-4cae-bba5-d5c75f87c6e7",
    "deepnote_to_be_reexecuted": false,
    "source_hash": "f3b326d3",
    "execution_start": 1628784704692,
    "execution_millis": 2,
    "deepnote_cell_type": "code"
   },
   "source": "def squares(x):\n    x[\"square\"] = x[\"B\"] ** 2    \n    return x",
   "execution_count": null,
   "outputs": []
  },
  {
   "cell_type": "code",
   "metadata": {
    "tags": [],
    "cell_id": "00018-7bdc8f95-428f-4c3f-9e49-344e404c06e9",
    "deepnote_to_be_reexecuted": false,
    "source_hash": "a42f66de",
    "execution_start": 1628784709765,
    "execution_millis": 33,
    "deepnote_cell_type": "code"
   },
   "source": "df = df.apply(squares, axis=1)\ndf",
   "execution_count": null,
   "outputs": [
    {
     "output_type": "execute_result",
     "execution_count": 63,
     "data": {
      "application/vnd.deepnote.dataframe.v2+json": {
       "row_count": 4,
       "column_count": 7,
       "columns": [
        {
         "name": "A",
         "dtype": "float64",
         "stats": {
          "unique_count": 4,
          "nan_count": 0,
          "min": "1.0",
          "max": "4.0",
          "histogram": [
           {
            "bin_start": 1,
            "bin_end": 1.3,
            "count": 1
           },
           {
            "bin_start": 1.3,
            "bin_end": 1.6,
            "count": 0
           },
           {
            "bin_start": 1.6,
            "bin_end": 1.9,
            "count": 0
           },
           {
            "bin_start": 1.9,
            "bin_end": 2.2,
            "count": 1
           },
           {
            "bin_start": 2.2,
            "bin_end": 2.5,
            "count": 0
           },
           {
            "bin_start": 2.5,
            "bin_end": 2.8,
            "count": 0
           },
           {
            "bin_start": 2.8,
            "bin_end": 3.1,
            "count": 1
           },
           {
            "bin_start": 3.1,
            "bin_end": 3.4,
            "count": 0
           },
           {
            "bin_start": 3.4,
            "bin_end": 3.6999999999999997,
            "count": 0
           },
           {
            "bin_start": 3.6999999999999997,
            "bin_end": 4,
            "count": 1
           }
          ]
         }
        },
        {
         "name": "B",
         "dtype": "float64",
         "stats": {
          "unique_count": 4,
          "nan_count": 0,
          "min": "10.0",
          "max": "40.0",
          "histogram": [
           {
            "bin_start": 10,
            "bin_end": 13,
            "count": 1
           },
           {
            "bin_start": 13,
            "bin_end": 16,
            "count": 0
           },
           {
            "bin_start": 16,
            "bin_end": 19,
            "count": 0
           },
           {
            "bin_start": 19,
            "bin_end": 22,
            "count": 1
           },
           {
            "bin_start": 22,
            "bin_end": 25,
            "count": 0
           },
           {
            "bin_start": 25,
            "bin_end": 28,
            "count": 0
           },
           {
            "bin_start": 28,
            "bin_end": 31,
            "count": 1
           },
           {
            "bin_start": 31,
            "bin_end": 34,
            "count": 0
           },
           {
            "bin_start": 34,
            "bin_end": 37,
            "count": 0
           },
           {
            "bin_start": 37,
            "bin_end": 40,
            "count": 1
           }
          ]
         }
        },
        {
         "name": "C",
         "dtype": "float64",
         "stats": {
          "unique_count": 4,
          "nan_count": 0,
          "min": "20.0",
          "max": "80.0",
          "histogram": [
           {
            "bin_start": 20,
            "bin_end": 26,
            "count": 1
           },
           {
            "bin_start": 26,
            "bin_end": 32,
            "count": 0
           },
           {
            "bin_start": 32,
            "bin_end": 38,
            "count": 0
           },
           {
            "bin_start": 38,
            "bin_end": 44,
            "count": 1
           },
           {
            "bin_start": 44,
            "bin_end": 50,
            "count": 0
           },
           {
            "bin_start": 50,
            "bin_end": 56,
            "count": 0
           },
           {
            "bin_start": 56,
            "bin_end": 62,
            "count": 1
           },
           {
            "bin_start": 62,
            "bin_end": 68,
            "count": 0
           },
           {
            "bin_start": 68,
            "bin_end": 74,
            "count": 0
           },
           {
            "bin_start": 74,
            "bin_end": 80,
            "count": 1
           }
          ]
         }
        },
        {
         "name": "new",
         "dtype": "float64",
         "stats": {
          "unique_count": 4,
          "nan_count": 0,
          "min": "11.0",
          "max": "44.0",
          "histogram": [
           {
            "bin_start": 11,
            "bin_end": 14.3,
            "count": 1
           },
           {
            "bin_start": 14.3,
            "bin_end": 17.6,
            "count": 0
           },
           {
            "bin_start": 17.6,
            "bin_end": 20.9,
            "count": 0
           },
           {
            "bin_start": 20.9,
            "bin_end": 24.2,
            "count": 1
           },
           {
            "bin_start": 24.2,
            "bin_end": 27.5,
            "count": 0
           },
           {
            "bin_start": 27.5,
            "bin_end": 30.799999999999997,
            "count": 0
           },
           {
            "bin_start": 30.799999999999997,
            "bin_end": 34.099999999999994,
            "count": 1
           },
           {
            "bin_start": 34.099999999999994,
            "bin_end": 37.4,
            "count": 0
           },
           {
            "bin_start": 37.4,
            "bin_end": 40.7,
            "count": 0
           },
           {
            "bin_start": 40.7,
            "bin_end": 44,
            "count": 1
           }
          ]
         }
        },
        {
         "name": "true_or_false",
         "dtype": "object",
         "stats": {
          "unique_count": 2,
          "nan_count": 0,
          "categories": [
           {
            "name": "True",
            "count": 2
           },
           {
            "name": "False",
            "count": 2
           }
          ]
         }
        },
        {
         "name": "probability",
         "dtype": "object",
         "stats": {
          "unique_count": 3,
          "nan_count": 0,
          "categories": [
           {
            "name": "definitely",
            "count": 2
           },
           {
            "name": "maybe",
            "count": 1
           },
           {
            "name": "most likely",
            "count": 1
           }
          ]
         }
        },
        {
         "name": "square",
         "dtype": "float64",
         "stats": {
          "unique_count": 4,
          "nan_count": 0,
          "min": "100.0",
          "max": "1600.0",
          "histogram": [
           {
            "bin_start": 100,
            "bin_end": 250,
            "count": 1
           },
           {
            "bin_start": 250,
            "bin_end": 400,
            "count": 0
           },
           {
            "bin_start": 400,
            "bin_end": 550,
            "count": 1
           },
           {
            "bin_start": 550,
            "bin_end": 700,
            "count": 0
           },
           {
            "bin_start": 700,
            "bin_end": 850,
            "count": 0
           },
           {
            "bin_start": 850,
            "bin_end": 1000,
            "count": 1
           },
           {
            "bin_start": 1000,
            "bin_end": 1150,
            "count": 0
           },
           {
            "bin_start": 1150,
            "bin_end": 1300,
            "count": 0
           },
           {
            "bin_start": 1300,
            "bin_end": 1450,
            "count": 0
           },
           {
            "bin_start": 1450,
            "bin_end": 1600,
            "count": 1
           }
          ]
         }
        },
        {
         "name": "_deepnote_index_column",
         "dtype": "object"
        }
       ],
       "rows_top": [
        {
         "A": 1,
         "B": 10,
         "C": 20,
         "new": 11,
         "true_or_false": "True",
         "probability": "maybe",
         "square": 100,
         "_deepnote_index_column": "Row 1"
        },
        {
         "A": 2,
         "B": 20,
         "C": 40,
         "new": 22,
         "true_or_false": "False",
         "probability": "most likely",
         "square": 400,
         "_deepnote_index_column": "Row 2"
        },
        {
         "A": 3,
         "B": 30,
         "C": 60,
         "new": 33,
         "true_or_false": "True",
         "probability": "definitely",
         "square": 900,
         "_deepnote_index_column": "Row 3"
        },
        {
         "A": 4,
         "B": 40,
         "C": 80,
         "new": 44,
         "true_or_false": "False",
         "probability": "definitely",
         "square": 1600,
         "_deepnote_index_column": "Row 4"
        }
       ],
       "rows_bottom": null
      },
      "text/plain": "         A     B     C   new true_or_false  probability  square\nRow 1  1.0  10.0  20.0  11.0          True        maybe   100.0\nRow 2  2.0  20.0  40.0  22.0         False  most likely   400.0\nRow 3  3.0  30.0  60.0  33.0          True   definitely   900.0\nRow 4  4.0  40.0  80.0  44.0         False   definitely  1600.0",
      "text/html": "<div>\n<style scoped>\n    .dataframe tbody tr th:only-of-type {\n        vertical-align: middle;\n    }\n\n    .dataframe tbody tr th {\n        vertical-align: top;\n    }\n\n    .dataframe thead th {\n        text-align: right;\n    }\n</style>\n<table border=\"1\" class=\"dataframe\">\n  <thead>\n    <tr style=\"text-align: right;\">\n      <th></th>\n      <th>A</th>\n      <th>B</th>\n      <th>C</th>\n      <th>new</th>\n      <th>true_or_false</th>\n      <th>probability</th>\n      <th>square</th>\n    </tr>\n  </thead>\n  <tbody>\n    <tr>\n      <th>Row 1</th>\n      <td>1.0</td>\n      <td>10.0</td>\n      <td>20.0</td>\n      <td>11.0</td>\n      <td>True</td>\n      <td>maybe</td>\n      <td>100.0</td>\n    </tr>\n    <tr>\n      <th>Row 2</th>\n      <td>2.0</td>\n      <td>20.0</td>\n      <td>40.0</td>\n      <td>22.0</td>\n      <td>False</td>\n      <td>most likely</td>\n      <td>400.0</td>\n    </tr>\n    <tr>\n      <th>Row 3</th>\n      <td>3.0</td>\n      <td>30.0</td>\n      <td>60.0</td>\n      <td>33.0</td>\n      <td>True</td>\n      <td>definitely</td>\n      <td>900.0</td>\n    </tr>\n    <tr>\n      <th>Row 4</th>\n      <td>4.0</td>\n      <td>40.0</td>\n      <td>80.0</td>\n      <td>44.0</td>\n      <td>False</td>\n      <td>definitely</td>\n      <td>1600.0</td>\n    </tr>\n  </tbody>\n</table>\n</div>"
     },
     "metadata": {}
    }
   ]
  },
  {
   "cell_type": "code",
   "metadata": {
    "tags": [],
    "cell_id": "00015-771913b5-6d9c-47bd-8e7d-9f16ac2101f9",
    "deepnote_to_be_reexecuted": false,
    "source_hash": "500443c8",
    "execution_start": 1628784816068,
    "execution_millis": 20,
    "deepnote_cell_type": "code"
   },
   "source": "df[\"squars\"]=df.apply(lambda x: x[\"B\"]**2, axis=1)\ndf",
   "execution_count": null,
   "outputs": [
    {
     "output_type": "execute_result",
     "execution_count": 66,
     "data": {
      "application/vnd.deepnote.dataframe.v2+json": {
       "row_count": 4,
       "column_count": 8,
       "columns": [
        {
         "name": "A",
         "dtype": "float64",
         "stats": {
          "unique_count": 4,
          "nan_count": 0,
          "min": "1.0",
          "max": "4.0",
          "histogram": [
           {
            "bin_start": 1,
            "bin_end": 1.3,
            "count": 1
           },
           {
            "bin_start": 1.3,
            "bin_end": 1.6,
            "count": 0
           },
           {
            "bin_start": 1.6,
            "bin_end": 1.9,
            "count": 0
           },
           {
            "bin_start": 1.9,
            "bin_end": 2.2,
            "count": 1
           },
           {
            "bin_start": 2.2,
            "bin_end": 2.5,
            "count": 0
           },
           {
            "bin_start": 2.5,
            "bin_end": 2.8,
            "count": 0
           },
           {
            "bin_start": 2.8,
            "bin_end": 3.1,
            "count": 1
           },
           {
            "bin_start": 3.1,
            "bin_end": 3.4,
            "count": 0
           },
           {
            "bin_start": 3.4,
            "bin_end": 3.6999999999999997,
            "count": 0
           },
           {
            "bin_start": 3.6999999999999997,
            "bin_end": 4,
            "count": 1
           }
          ]
         }
        },
        {
         "name": "B",
         "dtype": "float64",
         "stats": {
          "unique_count": 4,
          "nan_count": 0,
          "min": "10.0",
          "max": "40.0",
          "histogram": [
           {
            "bin_start": 10,
            "bin_end": 13,
            "count": 1
           },
           {
            "bin_start": 13,
            "bin_end": 16,
            "count": 0
           },
           {
            "bin_start": 16,
            "bin_end": 19,
            "count": 0
           },
           {
            "bin_start": 19,
            "bin_end": 22,
            "count": 1
           },
           {
            "bin_start": 22,
            "bin_end": 25,
            "count": 0
           },
           {
            "bin_start": 25,
            "bin_end": 28,
            "count": 0
           },
           {
            "bin_start": 28,
            "bin_end": 31,
            "count": 1
           },
           {
            "bin_start": 31,
            "bin_end": 34,
            "count": 0
           },
           {
            "bin_start": 34,
            "bin_end": 37,
            "count": 0
           },
           {
            "bin_start": 37,
            "bin_end": 40,
            "count": 1
           }
          ]
         }
        },
        {
         "name": "C",
         "dtype": "float64",
         "stats": {
          "unique_count": 4,
          "nan_count": 0,
          "min": "20.0",
          "max": "80.0",
          "histogram": [
           {
            "bin_start": 20,
            "bin_end": 26,
            "count": 1
           },
           {
            "bin_start": 26,
            "bin_end": 32,
            "count": 0
           },
           {
            "bin_start": 32,
            "bin_end": 38,
            "count": 0
           },
           {
            "bin_start": 38,
            "bin_end": 44,
            "count": 1
           },
           {
            "bin_start": 44,
            "bin_end": 50,
            "count": 0
           },
           {
            "bin_start": 50,
            "bin_end": 56,
            "count": 0
           },
           {
            "bin_start": 56,
            "bin_end": 62,
            "count": 1
           },
           {
            "bin_start": 62,
            "bin_end": 68,
            "count": 0
           },
           {
            "bin_start": 68,
            "bin_end": 74,
            "count": 0
           },
           {
            "bin_start": 74,
            "bin_end": 80,
            "count": 1
           }
          ]
         }
        },
        {
         "name": "new",
         "dtype": "float64",
         "stats": {
          "unique_count": 4,
          "nan_count": 0,
          "min": "11.0",
          "max": "44.0",
          "histogram": [
           {
            "bin_start": 11,
            "bin_end": 14.3,
            "count": 1
           },
           {
            "bin_start": 14.3,
            "bin_end": 17.6,
            "count": 0
           },
           {
            "bin_start": 17.6,
            "bin_end": 20.9,
            "count": 0
           },
           {
            "bin_start": 20.9,
            "bin_end": 24.2,
            "count": 1
           },
           {
            "bin_start": 24.2,
            "bin_end": 27.5,
            "count": 0
           },
           {
            "bin_start": 27.5,
            "bin_end": 30.799999999999997,
            "count": 0
           },
           {
            "bin_start": 30.799999999999997,
            "bin_end": 34.099999999999994,
            "count": 1
           },
           {
            "bin_start": 34.099999999999994,
            "bin_end": 37.4,
            "count": 0
           },
           {
            "bin_start": 37.4,
            "bin_end": 40.7,
            "count": 0
           },
           {
            "bin_start": 40.7,
            "bin_end": 44,
            "count": 1
           }
          ]
         }
        },
        {
         "name": "true_or_false",
         "dtype": "object",
         "stats": {
          "unique_count": 2,
          "nan_count": 0,
          "categories": [
           {
            "name": "True",
            "count": 2
           },
           {
            "name": "False",
            "count": 2
           }
          ]
         }
        },
        {
         "name": "probability",
         "dtype": "object",
         "stats": {
          "unique_count": 3,
          "nan_count": 0,
          "categories": [
           {
            "name": "definitely",
            "count": 2
           },
           {
            "name": "maybe",
            "count": 1
           },
           {
            "name": "most likely",
            "count": 1
           }
          ]
         }
        },
        {
         "name": "square",
         "dtype": "float64",
         "stats": {
          "unique_count": 4,
          "nan_count": 0,
          "min": "100.0",
          "max": "1600.0",
          "histogram": [
           {
            "bin_start": 100,
            "bin_end": 250,
            "count": 1
           },
           {
            "bin_start": 250,
            "bin_end": 400,
            "count": 0
           },
           {
            "bin_start": 400,
            "bin_end": 550,
            "count": 1
           },
           {
            "bin_start": 550,
            "bin_end": 700,
            "count": 0
           },
           {
            "bin_start": 700,
            "bin_end": 850,
            "count": 0
           },
           {
            "bin_start": 850,
            "bin_end": 1000,
            "count": 1
           },
           {
            "bin_start": 1000,
            "bin_end": 1150,
            "count": 0
           },
           {
            "bin_start": 1150,
            "bin_end": 1300,
            "count": 0
           },
           {
            "bin_start": 1300,
            "bin_end": 1450,
            "count": 0
           },
           {
            "bin_start": 1450,
            "bin_end": 1600,
            "count": 1
           }
          ]
         }
        },
        {
         "name": "squars",
         "dtype": "float64",
         "stats": {
          "unique_count": 4,
          "nan_count": 0,
          "min": "100.0",
          "max": "1600.0",
          "histogram": [
           {
            "bin_start": 100,
            "bin_end": 250,
            "count": 1
           },
           {
            "bin_start": 250,
            "bin_end": 400,
            "count": 0
           },
           {
            "bin_start": 400,
            "bin_end": 550,
            "count": 1
           },
           {
            "bin_start": 550,
            "bin_end": 700,
            "count": 0
           },
           {
            "bin_start": 700,
            "bin_end": 850,
            "count": 0
           },
           {
            "bin_start": 850,
            "bin_end": 1000,
            "count": 1
           },
           {
            "bin_start": 1000,
            "bin_end": 1150,
            "count": 0
           },
           {
            "bin_start": 1150,
            "bin_end": 1300,
            "count": 0
           },
           {
            "bin_start": 1300,
            "bin_end": 1450,
            "count": 0
           },
           {
            "bin_start": 1450,
            "bin_end": 1600,
            "count": 1
           }
          ]
         }
        },
        {
         "name": "_deepnote_index_column",
         "dtype": "object"
        }
       ],
       "rows_top": [
        {
         "A": 1,
         "B": 10,
         "C": 20,
         "new": 11,
         "true_or_false": "True",
         "probability": "maybe",
         "square": 100,
         "squars": 100,
         "_deepnote_index_column": "Row 1"
        },
        {
         "A": 2,
         "B": 20,
         "C": 40,
         "new": 22,
         "true_or_false": "False",
         "probability": "most likely",
         "square": 400,
         "squars": 400,
         "_deepnote_index_column": "Row 2"
        },
        {
         "A": 3,
         "B": 30,
         "C": 60,
         "new": 33,
         "true_or_false": "True",
         "probability": "definitely",
         "square": 900,
         "squars": 900,
         "_deepnote_index_column": "Row 3"
        },
        {
         "A": 4,
         "B": 40,
         "C": 80,
         "new": 44,
         "true_or_false": "False",
         "probability": "definitely",
         "square": 1600,
         "squars": 1600,
         "_deepnote_index_column": "Row 4"
        }
       ],
       "rows_bottom": null
      },
      "text/plain": "         A     B     C   new true_or_false  probability  square  squars\nRow 1  1.0  10.0  20.0  11.0          True        maybe   100.0   100.0\nRow 2  2.0  20.0  40.0  22.0         False  most likely   400.0   400.0\nRow 3  3.0  30.0  60.0  33.0          True   definitely   900.0   900.0\nRow 4  4.0  40.0  80.0  44.0         False   definitely  1600.0  1600.0",
      "text/html": "<div>\n<style scoped>\n    .dataframe tbody tr th:only-of-type {\n        vertical-align: middle;\n    }\n\n    .dataframe tbody tr th {\n        vertical-align: top;\n    }\n\n    .dataframe thead th {\n        text-align: right;\n    }\n</style>\n<table border=\"1\" class=\"dataframe\">\n  <thead>\n    <tr style=\"text-align: right;\">\n      <th></th>\n      <th>A</th>\n      <th>B</th>\n      <th>C</th>\n      <th>new</th>\n      <th>true_or_false</th>\n      <th>probability</th>\n      <th>square</th>\n      <th>squars</th>\n    </tr>\n  </thead>\n  <tbody>\n    <tr>\n      <th>Row 1</th>\n      <td>1.0</td>\n      <td>10.0</td>\n      <td>20.0</td>\n      <td>11.0</td>\n      <td>True</td>\n      <td>maybe</td>\n      <td>100.0</td>\n      <td>100.0</td>\n    </tr>\n    <tr>\n      <th>Row 2</th>\n      <td>2.0</td>\n      <td>20.0</td>\n      <td>40.0</td>\n      <td>22.0</td>\n      <td>False</td>\n      <td>most likely</td>\n      <td>400.0</td>\n      <td>400.0</td>\n    </tr>\n    <tr>\n      <th>Row 3</th>\n      <td>3.0</td>\n      <td>30.0</td>\n      <td>60.0</td>\n      <td>33.0</td>\n      <td>True</td>\n      <td>definitely</td>\n      <td>900.0</td>\n      <td>900.0</td>\n    </tr>\n    <tr>\n      <th>Row 4</th>\n      <td>4.0</td>\n      <td>40.0</td>\n      <td>80.0</td>\n      <td>44.0</td>\n      <td>False</td>\n      <td>definitely</td>\n      <td>1600.0</td>\n      <td>1600.0</td>\n    </tr>\n  </tbody>\n</table>\n</div>"
     },
     "metadata": {}
    }
   ]
  },
  {
   "cell_type": "code",
   "metadata": {
    "tags": [],
    "cell_id": "00016-71eb4908-ea83-4e11-81e4-74a6f425fde9",
    "deepnote_to_be_reexecuted": false,
    "source_hash": "f0cd09d8",
    "execution_start": 1628785425016,
    "execution_millis": 12,
    "deepnote_cell_type": "code"
   },
   "source": "def two_columns(x):\n    if x.name in [\"A\", \"B\", \"C\"]:\n        return x**2\n    return x\n\ndf.apply(two_columns, axis=0)",
   "execution_count": null,
   "outputs": [
    {
     "output_type": "execute_result",
     "execution_count": 89,
     "data": {
      "application/vnd.deepnote.dataframe.v2+json": {
       "row_count": 4,
       "column_count": 8,
       "columns": [
        {
         "name": "A",
         "dtype": "float64",
         "stats": {
          "unique_count": 4,
          "nan_count": 0,
          "min": "1.0",
          "max": "16.0",
          "histogram": [
           {
            "bin_start": 1,
            "bin_end": 2.5,
            "count": 1
           },
           {
            "bin_start": 2.5,
            "bin_end": 4,
            "count": 0
           },
           {
            "bin_start": 4,
            "bin_end": 5.5,
            "count": 1
           },
           {
            "bin_start": 5.5,
            "bin_end": 7,
            "count": 0
           },
           {
            "bin_start": 7,
            "bin_end": 8.5,
            "count": 0
           },
           {
            "bin_start": 8.5,
            "bin_end": 10,
            "count": 1
           },
           {
            "bin_start": 10,
            "bin_end": 11.5,
            "count": 0
           },
           {
            "bin_start": 11.5,
            "bin_end": 13,
            "count": 0
           },
           {
            "bin_start": 13,
            "bin_end": 14.5,
            "count": 0
           },
           {
            "bin_start": 14.5,
            "bin_end": 16,
            "count": 1
           }
          ]
         }
        },
        {
         "name": "B",
         "dtype": "float64",
         "stats": {
          "unique_count": 4,
          "nan_count": 0,
          "min": "100.0",
          "max": "1600.0",
          "histogram": [
           {
            "bin_start": 100,
            "bin_end": 250,
            "count": 1
           },
           {
            "bin_start": 250,
            "bin_end": 400,
            "count": 0
           },
           {
            "bin_start": 400,
            "bin_end": 550,
            "count": 1
           },
           {
            "bin_start": 550,
            "bin_end": 700,
            "count": 0
           },
           {
            "bin_start": 700,
            "bin_end": 850,
            "count": 0
           },
           {
            "bin_start": 850,
            "bin_end": 1000,
            "count": 1
           },
           {
            "bin_start": 1000,
            "bin_end": 1150,
            "count": 0
           },
           {
            "bin_start": 1150,
            "bin_end": 1300,
            "count": 0
           },
           {
            "bin_start": 1300,
            "bin_end": 1450,
            "count": 0
           },
           {
            "bin_start": 1450,
            "bin_end": 1600,
            "count": 1
           }
          ]
         }
        },
        {
         "name": "C",
         "dtype": "float64",
         "stats": {
          "unique_count": 4,
          "nan_count": 0,
          "min": "400.0",
          "max": "6400.0",
          "histogram": [
           {
            "bin_start": 400,
            "bin_end": 1000,
            "count": 1
           },
           {
            "bin_start": 1000,
            "bin_end": 1600,
            "count": 0
           },
           {
            "bin_start": 1600,
            "bin_end": 2200,
            "count": 1
           },
           {
            "bin_start": 2200,
            "bin_end": 2800,
            "count": 0
           },
           {
            "bin_start": 2800,
            "bin_end": 3400,
            "count": 0
           },
           {
            "bin_start": 3400,
            "bin_end": 4000,
            "count": 1
           },
           {
            "bin_start": 4000,
            "bin_end": 4600,
            "count": 0
           },
           {
            "bin_start": 4600,
            "bin_end": 5200,
            "count": 0
           },
           {
            "bin_start": 5200,
            "bin_end": 5800,
            "count": 0
           },
           {
            "bin_start": 5800,
            "bin_end": 6400,
            "count": 1
           }
          ]
         }
        },
        {
         "name": "new",
         "dtype": "float64",
         "stats": {
          "unique_count": 4,
          "nan_count": 0,
          "min": "11.0",
          "max": "44.0",
          "histogram": [
           {
            "bin_start": 11,
            "bin_end": 14.3,
            "count": 1
           },
           {
            "bin_start": 14.3,
            "bin_end": 17.6,
            "count": 0
           },
           {
            "bin_start": 17.6,
            "bin_end": 20.9,
            "count": 0
           },
           {
            "bin_start": 20.9,
            "bin_end": 24.2,
            "count": 1
           },
           {
            "bin_start": 24.2,
            "bin_end": 27.5,
            "count": 0
           },
           {
            "bin_start": 27.5,
            "bin_end": 30.799999999999997,
            "count": 0
           },
           {
            "bin_start": 30.799999999999997,
            "bin_end": 34.099999999999994,
            "count": 1
           },
           {
            "bin_start": 34.099999999999994,
            "bin_end": 37.4,
            "count": 0
           },
           {
            "bin_start": 37.4,
            "bin_end": 40.7,
            "count": 0
           },
           {
            "bin_start": 40.7,
            "bin_end": 44,
            "count": 1
           }
          ]
         }
        },
        {
         "name": "true_or_false",
         "dtype": "object",
         "stats": {
          "unique_count": 2,
          "nan_count": 0,
          "categories": [
           {
            "name": "True",
            "count": 2
           },
           {
            "name": "False",
            "count": 2
           }
          ]
         }
        },
        {
         "name": "probability",
         "dtype": "object",
         "stats": {
          "unique_count": 3,
          "nan_count": 0,
          "categories": [
           {
            "name": "definitely",
            "count": 2
           },
           {
            "name": "maybe",
            "count": 1
           },
           {
            "name": "most likely",
            "count": 1
           }
          ]
         }
        },
        {
         "name": "square",
         "dtype": "float64",
         "stats": {
          "unique_count": 4,
          "nan_count": 0,
          "min": "100.0",
          "max": "1600.0",
          "histogram": [
           {
            "bin_start": 100,
            "bin_end": 250,
            "count": 1
           },
           {
            "bin_start": 250,
            "bin_end": 400,
            "count": 0
           },
           {
            "bin_start": 400,
            "bin_end": 550,
            "count": 1
           },
           {
            "bin_start": 550,
            "bin_end": 700,
            "count": 0
           },
           {
            "bin_start": 700,
            "bin_end": 850,
            "count": 0
           },
           {
            "bin_start": 850,
            "bin_end": 1000,
            "count": 1
           },
           {
            "bin_start": 1000,
            "bin_end": 1150,
            "count": 0
           },
           {
            "bin_start": 1150,
            "bin_end": 1300,
            "count": 0
           },
           {
            "bin_start": 1300,
            "bin_end": 1450,
            "count": 0
           },
           {
            "bin_start": 1450,
            "bin_end": 1600,
            "count": 1
           }
          ]
         }
        },
        {
         "name": "squars",
         "dtype": "float64",
         "stats": {
          "unique_count": 4,
          "nan_count": 0,
          "min": "100.0",
          "max": "1600.0",
          "histogram": [
           {
            "bin_start": 100,
            "bin_end": 250,
            "count": 1
           },
           {
            "bin_start": 250,
            "bin_end": 400,
            "count": 0
           },
           {
            "bin_start": 400,
            "bin_end": 550,
            "count": 1
           },
           {
            "bin_start": 550,
            "bin_end": 700,
            "count": 0
           },
           {
            "bin_start": 700,
            "bin_end": 850,
            "count": 0
           },
           {
            "bin_start": 850,
            "bin_end": 1000,
            "count": 1
           },
           {
            "bin_start": 1000,
            "bin_end": 1150,
            "count": 0
           },
           {
            "bin_start": 1150,
            "bin_end": 1300,
            "count": 0
           },
           {
            "bin_start": 1300,
            "bin_end": 1450,
            "count": 0
           },
           {
            "bin_start": 1450,
            "bin_end": 1600,
            "count": 1
           }
          ]
         }
        },
        {
         "name": "_deepnote_index_column",
         "dtype": "object"
        }
       ],
       "rows_top": [
        {
         "A": 1,
         "B": 100,
         "C": 400,
         "new": 11,
         "true_or_false": "True",
         "probability": "maybe",
         "square": 100,
         "squars": 100,
         "_deepnote_index_column": "Row 1"
        },
        {
         "A": 4,
         "B": 400,
         "C": 1600,
         "new": 22,
         "true_or_false": "False",
         "probability": "most likely",
         "square": 400,
         "squars": 400,
         "_deepnote_index_column": "Row 2"
        },
        {
         "A": 9,
         "B": 900,
         "C": 3600,
         "new": 33,
         "true_or_false": "True",
         "probability": "definitely",
         "square": 900,
         "squars": 900,
         "_deepnote_index_column": "Row 3"
        },
        {
         "A": 16,
         "B": 1600,
         "C": 6400,
         "new": 44,
         "true_or_false": "False",
         "probability": "definitely",
         "square": 1600,
         "squars": 1600,
         "_deepnote_index_column": "Row 4"
        }
       ],
       "rows_bottom": null
      },
      "text/plain": "          A       B       C   new true_or_false  probability  square  squars\nRow 1   1.0   100.0   400.0  11.0          True        maybe   100.0   100.0\nRow 2   4.0   400.0  1600.0  22.0         False  most likely   400.0   400.0\nRow 3   9.0   900.0  3600.0  33.0          True   definitely   900.0   900.0\nRow 4  16.0  1600.0  6400.0  44.0         False   definitely  1600.0  1600.0",
      "text/html": "<div>\n<style scoped>\n    .dataframe tbody tr th:only-of-type {\n        vertical-align: middle;\n    }\n\n    .dataframe tbody tr th {\n        vertical-align: top;\n    }\n\n    .dataframe thead th {\n        text-align: right;\n    }\n</style>\n<table border=\"1\" class=\"dataframe\">\n  <thead>\n    <tr style=\"text-align: right;\">\n      <th></th>\n      <th>A</th>\n      <th>B</th>\n      <th>C</th>\n      <th>new</th>\n      <th>true_or_false</th>\n      <th>probability</th>\n      <th>square</th>\n      <th>squars</th>\n    </tr>\n  </thead>\n  <tbody>\n    <tr>\n      <th>Row 1</th>\n      <td>1.0</td>\n      <td>100.0</td>\n      <td>400.0</td>\n      <td>11.0</td>\n      <td>True</td>\n      <td>maybe</td>\n      <td>100.0</td>\n      <td>100.0</td>\n    </tr>\n    <tr>\n      <th>Row 2</th>\n      <td>4.0</td>\n      <td>400.0</td>\n      <td>1600.0</td>\n      <td>22.0</td>\n      <td>False</td>\n      <td>most likely</td>\n      <td>400.0</td>\n      <td>400.0</td>\n    </tr>\n    <tr>\n      <th>Row 3</th>\n      <td>9.0</td>\n      <td>900.0</td>\n      <td>3600.0</td>\n      <td>33.0</td>\n      <td>True</td>\n      <td>definitely</td>\n      <td>900.0</td>\n      <td>900.0</td>\n    </tr>\n    <tr>\n      <th>Row 4</th>\n      <td>16.0</td>\n      <td>1600.0</td>\n      <td>6400.0</td>\n      <td>44.0</td>\n      <td>False</td>\n      <td>definitely</td>\n      <td>1600.0</td>\n      <td>1600.0</td>\n    </tr>\n  </tbody>\n</table>\n</div>"
     },
     "metadata": {}
    }
   ]
  },
  {
   "cell_type": "code",
   "metadata": {
    "tags": [],
    "cell_id": "00017-ec50d72b-4f01-4401-ba1c-76a1d8844a0d",
    "deepnote_to_be_reexecuted": false,
    "source_hash": "a6258541",
    "execution_start": 1628785520473,
    "execution_millis": 1,
    "deepnote_cell_type": "code"
   },
   "source": "df.apply(lambda x: x**2 if x.name in [\"A\", \"B\", \"C\"]  else x, axis= 1 )",
   "execution_count": null,
   "outputs": [
    {
     "output_type": "execute_result",
     "execution_count": 93,
     "data": {
      "application/vnd.deepnote.dataframe.v2+json": {
       "row_count": 4,
       "column_count": 8,
       "columns": [
        {
         "name": "A",
         "dtype": "float64",
         "stats": {
          "unique_count": 4,
          "nan_count": 0,
          "min": "1.0",
          "max": "4.0",
          "histogram": [
           {
            "bin_start": 1,
            "bin_end": 1.3,
            "count": 1
           },
           {
            "bin_start": 1.3,
            "bin_end": 1.6,
            "count": 0
           },
           {
            "bin_start": 1.6,
            "bin_end": 1.9,
            "count": 0
           },
           {
            "bin_start": 1.9,
            "bin_end": 2.2,
            "count": 1
           },
           {
            "bin_start": 2.2,
            "bin_end": 2.5,
            "count": 0
           },
           {
            "bin_start": 2.5,
            "bin_end": 2.8,
            "count": 0
           },
           {
            "bin_start": 2.8,
            "bin_end": 3.1,
            "count": 1
           },
           {
            "bin_start": 3.1,
            "bin_end": 3.4,
            "count": 0
           },
           {
            "bin_start": 3.4,
            "bin_end": 3.6999999999999997,
            "count": 0
           },
           {
            "bin_start": 3.6999999999999997,
            "bin_end": 4,
            "count": 1
           }
          ]
         }
        },
        {
         "name": "B",
         "dtype": "float64",
         "stats": {
          "unique_count": 4,
          "nan_count": 0,
          "min": "10.0",
          "max": "40.0",
          "histogram": [
           {
            "bin_start": 10,
            "bin_end": 13,
            "count": 1
           },
           {
            "bin_start": 13,
            "bin_end": 16,
            "count": 0
           },
           {
            "bin_start": 16,
            "bin_end": 19,
            "count": 0
           },
           {
            "bin_start": 19,
            "bin_end": 22,
            "count": 1
           },
           {
            "bin_start": 22,
            "bin_end": 25,
            "count": 0
           },
           {
            "bin_start": 25,
            "bin_end": 28,
            "count": 0
           },
           {
            "bin_start": 28,
            "bin_end": 31,
            "count": 1
           },
           {
            "bin_start": 31,
            "bin_end": 34,
            "count": 0
           },
           {
            "bin_start": 34,
            "bin_end": 37,
            "count": 0
           },
           {
            "bin_start": 37,
            "bin_end": 40,
            "count": 1
           }
          ]
         }
        },
        {
         "name": "C",
         "dtype": "float64",
         "stats": {
          "unique_count": 4,
          "nan_count": 0,
          "min": "20.0",
          "max": "80.0",
          "histogram": [
           {
            "bin_start": 20,
            "bin_end": 26,
            "count": 1
           },
           {
            "bin_start": 26,
            "bin_end": 32,
            "count": 0
           },
           {
            "bin_start": 32,
            "bin_end": 38,
            "count": 0
           },
           {
            "bin_start": 38,
            "bin_end": 44,
            "count": 1
           },
           {
            "bin_start": 44,
            "bin_end": 50,
            "count": 0
           },
           {
            "bin_start": 50,
            "bin_end": 56,
            "count": 0
           },
           {
            "bin_start": 56,
            "bin_end": 62,
            "count": 1
           },
           {
            "bin_start": 62,
            "bin_end": 68,
            "count": 0
           },
           {
            "bin_start": 68,
            "bin_end": 74,
            "count": 0
           },
           {
            "bin_start": 74,
            "bin_end": 80,
            "count": 1
           }
          ]
         }
        },
        {
         "name": "new",
         "dtype": "float64",
         "stats": {
          "unique_count": 4,
          "nan_count": 0,
          "min": "11.0",
          "max": "44.0",
          "histogram": [
           {
            "bin_start": 11,
            "bin_end": 14.3,
            "count": 1
           },
           {
            "bin_start": 14.3,
            "bin_end": 17.6,
            "count": 0
           },
           {
            "bin_start": 17.6,
            "bin_end": 20.9,
            "count": 0
           },
           {
            "bin_start": 20.9,
            "bin_end": 24.2,
            "count": 1
           },
           {
            "bin_start": 24.2,
            "bin_end": 27.5,
            "count": 0
           },
           {
            "bin_start": 27.5,
            "bin_end": 30.799999999999997,
            "count": 0
           },
           {
            "bin_start": 30.799999999999997,
            "bin_end": 34.099999999999994,
            "count": 1
           },
           {
            "bin_start": 34.099999999999994,
            "bin_end": 37.4,
            "count": 0
           },
           {
            "bin_start": 37.4,
            "bin_end": 40.7,
            "count": 0
           },
           {
            "bin_start": 40.7,
            "bin_end": 44,
            "count": 1
           }
          ]
         }
        },
        {
         "name": "true_or_false",
         "dtype": "object",
         "stats": {
          "unique_count": 2,
          "nan_count": 0,
          "categories": [
           {
            "name": "True",
            "count": 2
           },
           {
            "name": "False",
            "count": 2
           }
          ]
         }
        },
        {
         "name": "probability",
         "dtype": "object",
         "stats": {
          "unique_count": 3,
          "nan_count": 0,
          "categories": [
           {
            "name": "definitely",
            "count": 2
           },
           {
            "name": "maybe",
            "count": 1
           },
           {
            "name": "most likely",
            "count": 1
           }
          ]
         }
        },
        {
         "name": "square",
         "dtype": "float64",
         "stats": {
          "unique_count": 4,
          "nan_count": 0,
          "min": "100.0",
          "max": "1600.0",
          "histogram": [
           {
            "bin_start": 100,
            "bin_end": 250,
            "count": 1
           },
           {
            "bin_start": 250,
            "bin_end": 400,
            "count": 0
           },
           {
            "bin_start": 400,
            "bin_end": 550,
            "count": 1
           },
           {
            "bin_start": 550,
            "bin_end": 700,
            "count": 0
           },
           {
            "bin_start": 700,
            "bin_end": 850,
            "count": 0
           },
           {
            "bin_start": 850,
            "bin_end": 1000,
            "count": 1
           },
           {
            "bin_start": 1000,
            "bin_end": 1150,
            "count": 0
           },
           {
            "bin_start": 1150,
            "bin_end": 1300,
            "count": 0
           },
           {
            "bin_start": 1300,
            "bin_end": 1450,
            "count": 0
           },
           {
            "bin_start": 1450,
            "bin_end": 1600,
            "count": 1
           }
          ]
         }
        },
        {
         "name": "squars",
         "dtype": "float64",
         "stats": {
          "unique_count": 4,
          "nan_count": 0,
          "min": "100.0",
          "max": "1600.0",
          "histogram": [
           {
            "bin_start": 100,
            "bin_end": 250,
            "count": 1
           },
           {
            "bin_start": 250,
            "bin_end": 400,
            "count": 0
           },
           {
            "bin_start": 400,
            "bin_end": 550,
            "count": 1
           },
           {
            "bin_start": 550,
            "bin_end": 700,
            "count": 0
           },
           {
            "bin_start": 700,
            "bin_end": 850,
            "count": 0
           },
           {
            "bin_start": 850,
            "bin_end": 1000,
            "count": 1
           },
           {
            "bin_start": 1000,
            "bin_end": 1150,
            "count": 0
           },
           {
            "bin_start": 1150,
            "bin_end": 1300,
            "count": 0
           },
           {
            "bin_start": 1300,
            "bin_end": 1450,
            "count": 0
           },
           {
            "bin_start": 1450,
            "bin_end": 1600,
            "count": 1
           }
          ]
         }
        },
        {
         "name": "_deepnote_index_column",
         "dtype": "object"
        }
       ],
       "rows_top": [
        {
         "A": 1,
         "B": 10,
         "C": 20,
         "new": 11,
         "true_or_false": "True",
         "probability": "maybe",
         "square": 100,
         "squars": 100,
         "_deepnote_index_column": "Row 1"
        },
        {
         "A": 2,
         "B": 20,
         "C": 40,
         "new": 22,
         "true_or_false": "False",
         "probability": "most likely",
         "square": 400,
         "squars": 400,
         "_deepnote_index_column": "Row 2"
        },
        {
         "A": 3,
         "B": 30,
         "C": 60,
         "new": 33,
         "true_or_false": "True",
         "probability": "definitely",
         "square": 900,
         "squars": 900,
         "_deepnote_index_column": "Row 3"
        },
        {
         "A": 4,
         "B": 40,
         "C": 80,
         "new": 44,
         "true_or_false": "False",
         "probability": "definitely",
         "square": 1600,
         "squars": 1600,
         "_deepnote_index_column": "Row 4"
        }
       ],
       "rows_bottom": null
      },
      "text/plain": "         A     B     C   new true_or_false  probability  square  squars\nRow 1  1.0  10.0  20.0  11.0          True        maybe   100.0   100.0\nRow 2  2.0  20.0  40.0  22.0         False  most likely   400.0   400.0\nRow 3  3.0  30.0  60.0  33.0          True   definitely   900.0   900.0\nRow 4  4.0  40.0  80.0  44.0         False   definitely  1600.0  1600.0",
      "text/html": "<div>\n<style scoped>\n    .dataframe tbody tr th:only-of-type {\n        vertical-align: middle;\n    }\n\n    .dataframe tbody tr th {\n        vertical-align: top;\n    }\n\n    .dataframe thead th {\n        text-align: right;\n    }\n</style>\n<table border=\"1\" class=\"dataframe\">\n  <thead>\n    <tr style=\"text-align: right;\">\n      <th></th>\n      <th>A</th>\n      <th>B</th>\n      <th>C</th>\n      <th>new</th>\n      <th>true_or_false</th>\n      <th>probability</th>\n      <th>square</th>\n      <th>squars</th>\n    </tr>\n  </thead>\n  <tbody>\n    <tr>\n      <th>Row 1</th>\n      <td>1.0</td>\n      <td>10.0</td>\n      <td>20.0</td>\n      <td>11.0</td>\n      <td>True</td>\n      <td>maybe</td>\n      <td>100.0</td>\n      <td>100.0</td>\n    </tr>\n    <tr>\n      <th>Row 2</th>\n      <td>2.0</td>\n      <td>20.0</td>\n      <td>40.0</td>\n      <td>22.0</td>\n      <td>False</td>\n      <td>most likely</td>\n      <td>400.0</td>\n      <td>400.0</td>\n    </tr>\n    <tr>\n      <th>Row 3</th>\n      <td>3.0</td>\n      <td>30.0</td>\n      <td>60.0</td>\n      <td>33.0</td>\n      <td>True</td>\n      <td>definitely</td>\n      <td>900.0</td>\n      <td>900.0</td>\n    </tr>\n    <tr>\n      <th>Row 4</th>\n      <td>4.0</td>\n      <td>40.0</td>\n      <td>80.0</td>\n      <td>44.0</td>\n      <td>False</td>\n      <td>definitely</td>\n      <td>1600.0</td>\n      <td>1600.0</td>\n    </tr>\n  </tbody>\n</table>\n</div>"
     },
     "metadata": {}
    }
   ]
  },
  {
   "cell_type": "code",
   "metadata": {
    "tags": [],
    "cell_id": "00018-61509b90-9def-4e20-b333-39cbdaf17c46",
    "deepnote_cell_type": "code"
   },
   "source": "def two_columns(x):\n    return x**2\n\ndf[[\"A\",\"B\",\"C\"]].applyd(two_columns, axis=0)",
   "execution_count": null,
   "outputs": []
  },
  {
   "cell_type": "code",
   "metadata": {
    "tags": [],
    "cell_id": "00019-5a78c8dd-d9fc-4e96-a467-ab2d11fc232d",
    "deepnote_to_be_reexecuted": false,
    "source_hash": "21cb9e70",
    "execution_start": 1628785759993,
    "execution_millis": 5,
    "deepnote_cell_type": "code"
   },
   "source": "df.apply(lambda x: x.astype(int) if x.name in [\"A\", \"B\", \"C\", \"new\", \"square\", \"squars\", \"aaaaaaaaaa\"] else x,axis = 0)\n",
   "execution_count": null,
   "outputs": [
    {
     "output_type": "execute_result",
     "execution_count": 98,
     "data": {
      "application/vnd.deepnote.dataframe.v2+json": {
       "row_count": 4,
       "column_count": 8,
       "columns": [
        {
         "name": "A",
         "dtype": "int64",
         "stats": {
          "unique_count": 4,
          "nan_count": 0,
          "min": "1",
          "max": "4",
          "histogram": [
           {
            "bin_start": 1,
            "bin_end": 1.3,
            "count": 1
           },
           {
            "bin_start": 1.3,
            "bin_end": 1.6,
            "count": 0
           },
           {
            "bin_start": 1.6,
            "bin_end": 1.9,
            "count": 0
           },
           {
            "bin_start": 1.9,
            "bin_end": 2.2,
            "count": 1
           },
           {
            "bin_start": 2.2,
            "bin_end": 2.5,
            "count": 0
           },
           {
            "bin_start": 2.5,
            "bin_end": 2.8,
            "count": 0
           },
           {
            "bin_start": 2.8,
            "bin_end": 3.1,
            "count": 1
           },
           {
            "bin_start": 3.1,
            "bin_end": 3.4,
            "count": 0
           },
           {
            "bin_start": 3.4,
            "bin_end": 3.6999999999999997,
            "count": 0
           },
           {
            "bin_start": 3.6999999999999997,
            "bin_end": 4,
            "count": 1
           }
          ]
         }
        },
        {
         "name": "B",
         "dtype": "int64",
         "stats": {
          "unique_count": 4,
          "nan_count": 0,
          "min": "10",
          "max": "40",
          "histogram": [
           {
            "bin_start": 10,
            "bin_end": 13,
            "count": 1
           },
           {
            "bin_start": 13,
            "bin_end": 16,
            "count": 0
           },
           {
            "bin_start": 16,
            "bin_end": 19,
            "count": 0
           },
           {
            "bin_start": 19,
            "bin_end": 22,
            "count": 1
           },
           {
            "bin_start": 22,
            "bin_end": 25,
            "count": 0
           },
           {
            "bin_start": 25,
            "bin_end": 28,
            "count": 0
           },
           {
            "bin_start": 28,
            "bin_end": 31,
            "count": 1
           },
           {
            "bin_start": 31,
            "bin_end": 34,
            "count": 0
           },
           {
            "bin_start": 34,
            "bin_end": 37,
            "count": 0
           },
           {
            "bin_start": 37,
            "bin_end": 40,
            "count": 1
           }
          ]
         }
        },
        {
         "name": "C",
         "dtype": "int64",
         "stats": {
          "unique_count": 4,
          "nan_count": 0,
          "min": "20",
          "max": "80",
          "histogram": [
           {
            "bin_start": 20,
            "bin_end": 26,
            "count": 1
           },
           {
            "bin_start": 26,
            "bin_end": 32,
            "count": 0
           },
           {
            "bin_start": 32,
            "bin_end": 38,
            "count": 0
           },
           {
            "bin_start": 38,
            "bin_end": 44,
            "count": 1
           },
           {
            "bin_start": 44,
            "bin_end": 50,
            "count": 0
           },
           {
            "bin_start": 50,
            "bin_end": 56,
            "count": 0
           },
           {
            "bin_start": 56,
            "bin_end": 62,
            "count": 1
           },
           {
            "bin_start": 62,
            "bin_end": 68,
            "count": 0
           },
           {
            "bin_start": 68,
            "bin_end": 74,
            "count": 0
           },
           {
            "bin_start": 74,
            "bin_end": 80,
            "count": 1
           }
          ]
         }
        },
        {
         "name": "new",
         "dtype": "int64",
         "stats": {
          "unique_count": 4,
          "nan_count": 0,
          "min": "11",
          "max": "44",
          "histogram": [
           {
            "bin_start": 11,
            "bin_end": 14.3,
            "count": 1
           },
           {
            "bin_start": 14.3,
            "bin_end": 17.6,
            "count": 0
           },
           {
            "bin_start": 17.6,
            "bin_end": 20.9,
            "count": 0
           },
           {
            "bin_start": 20.9,
            "bin_end": 24.2,
            "count": 1
           },
           {
            "bin_start": 24.2,
            "bin_end": 27.5,
            "count": 0
           },
           {
            "bin_start": 27.5,
            "bin_end": 30.799999999999997,
            "count": 0
           },
           {
            "bin_start": 30.799999999999997,
            "bin_end": 34.099999999999994,
            "count": 1
           },
           {
            "bin_start": 34.099999999999994,
            "bin_end": 37.4,
            "count": 0
           },
           {
            "bin_start": 37.4,
            "bin_end": 40.7,
            "count": 0
           },
           {
            "bin_start": 40.7,
            "bin_end": 44,
            "count": 1
           }
          ]
         }
        },
        {
         "name": "true_or_false",
         "dtype": "object",
         "stats": {
          "unique_count": 2,
          "nan_count": 0,
          "categories": [
           {
            "name": "True",
            "count": 2
           },
           {
            "name": "False",
            "count": 2
           }
          ]
         }
        },
        {
         "name": "probability",
         "dtype": "object",
         "stats": {
          "unique_count": 3,
          "nan_count": 0,
          "categories": [
           {
            "name": "definitely",
            "count": 2
           },
           {
            "name": "maybe",
            "count": 1
           },
           {
            "name": "most likely",
            "count": 1
           }
          ]
         }
        },
        {
         "name": "square",
         "dtype": "int64",
         "stats": {
          "unique_count": 4,
          "nan_count": 0,
          "min": "100",
          "max": "1600",
          "histogram": [
           {
            "bin_start": 100,
            "bin_end": 250,
            "count": 1
           },
           {
            "bin_start": 250,
            "bin_end": 400,
            "count": 0
           },
           {
            "bin_start": 400,
            "bin_end": 550,
            "count": 1
           },
           {
            "bin_start": 550,
            "bin_end": 700,
            "count": 0
           },
           {
            "bin_start": 700,
            "bin_end": 850,
            "count": 0
           },
           {
            "bin_start": 850,
            "bin_end": 1000,
            "count": 1
           },
           {
            "bin_start": 1000,
            "bin_end": 1150,
            "count": 0
           },
           {
            "bin_start": 1150,
            "bin_end": 1300,
            "count": 0
           },
           {
            "bin_start": 1300,
            "bin_end": 1450,
            "count": 0
           },
           {
            "bin_start": 1450,
            "bin_end": 1600,
            "count": 1
           }
          ]
         }
        },
        {
         "name": "squars",
         "dtype": "int64",
         "stats": {
          "unique_count": 4,
          "nan_count": 0,
          "min": "100",
          "max": "1600",
          "histogram": [
           {
            "bin_start": 100,
            "bin_end": 250,
            "count": 1
           },
           {
            "bin_start": 250,
            "bin_end": 400,
            "count": 0
           },
           {
            "bin_start": 400,
            "bin_end": 550,
            "count": 1
           },
           {
            "bin_start": 550,
            "bin_end": 700,
            "count": 0
           },
           {
            "bin_start": 700,
            "bin_end": 850,
            "count": 0
           },
           {
            "bin_start": 850,
            "bin_end": 1000,
            "count": 1
           },
           {
            "bin_start": 1000,
            "bin_end": 1150,
            "count": 0
           },
           {
            "bin_start": 1150,
            "bin_end": 1300,
            "count": 0
           },
           {
            "bin_start": 1300,
            "bin_end": 1450,
            "count": 0
           },
           {
            "bin_start": 1450,
            "bin_end": 1600,
            "count": 1
           }
          ]
         }
        },
        {
         "name": "_deepnote_index_column",
         "dtype": "object"
        }
       ],
       "rows_top": [
        {
         "A": 1,
         "B": 10,
         "C": 20,
         "new": 11,
         "true_or_false": "True",
         "probability": "maybe",
         "square": 100,
         "squars": 100,
         "_deepnote_index_column": "Row 1"
        },
        {
         "A": 2,
         "B": 20,
         "C": 40,
         "new": 22,
         "true_or_false": "False",
         "probability": "most likely",
         "square": 400,
         "squars": 400,
         "_deepnote_index_column": "Row 2"
        },
        {
         "A": 3,
         "B": 30,
         "C": 60,
         "new": 33,
         "true_or_false": "True",
         "probability": "definitely",
         "square": 900,
         "squars": 900,
         "_deepnote_index_column": "Row 3"
        },
        {
         "A": 4,
         "B": 40,
         "C": 80,
         "new": 44,
         "true_or_false": "False",
         "probability": "definitely",
         "square": 1600,
         "squars": 1600,
         "_deepnote_index_column": "Row 4"
        }
       ],
       "rows_bottom": null
      },
      "text/plain": "       A   B   C  new true_or_false  probability  square  squars\nRow 1  1  10  20   11          True        maybe     100     100\nRow 2  2  20  40   22         False  most likely     400     400\nRow 3  3  30  60   33          True   definitely     900     900\nRow 4  4  40  80   44         False   definitely    1600    1600",
      "text/html": "<div>\n<style scoped>\n    .dataframe tbody tr th:only-of-type {\n        vertical-align: middle;\n    }\n\n    .dataframe tbody tr th {\n        vertical-align: top;\n    }\n\n    .dataframe thead th {\n        text-align: right;\n    }\n</style>\n<table border=\"1\" class=\"dataframe\">\n  <thead>\n    <tr style=\"text-align: right;\">\n      <th></th>\n      <th>A</th>\n      <th>B</th>\n      <th>C</th>\n      <th>new</th>\n      <th>true_or_false</th>\n      <th>probability</th>\n      <th>square</th>\n      <th>squars</th>\n    </tr>\n  </thead>\n  <tbody>\n    <tr>\n      <th>Row 1</th>\n      <td>1</td>\n      <td>10</td>\n      <td>20</td>\n      <td>11</td>\n      <td>True</td>\n      <td>maybe</td>\n      <td>100</td>\n      <td>100</td>\n    </tr>\n    <tr>\n      <th>Row 2</th>\n      <td>2</td>\n      <td>20</td>\n      <td>40</td>\n      <td>22</td>\n      <td>False</td>\n      <td>most likely</td>\n      <td>400</td>\n      <td>400</td>\n    </tr>\n    <tr>\n      <th>Row 3</th>\n      <td>3</td>\n      <td>30</td>\n      <td>60</td>\n      <td>33</td>\n      <td>True</td>\n      <td>definitely</td>\n      <td>900</td>\n      <td>900</td>\n    </tr>\n    <tr>\n      <th>Row 4</th>\n      <td>4</td>\n      <td>40</td>\n      <td>80</td>\n      <td>44</td>\n      <td>False</td>\n      <td>definitely</td>\n      <td>1600</td>\n      <td>1600</td>\n    </tr>\n  </tbody>\n</table>\n</div>"
     },
     "metadata": {}
    }
   ]
  },
  {
   "cell_type": "markdown",
   "source": "# Lists",
   "metadata": {
    "tags": [],
    "is_collapsed": false,
    "cell_id": "00015-5bd32d84-35e7-4be0-aaf8-115824091918",
    "deepnote_cell_type": "text-cell-h1"
   }
  },
  {
   "cell_type": "markdown",
   "source": "Loop through the following list of scores, if the score is above 100, divide it by 10 and append it to a new list.",
   "metadata": {
    "tags": [],
    "cell_id": "00016-77cc5b29-3257-4635-956b-b5746c731805",
    "deepnote_cell_type": "markdown"
   }
  },
  {
   "cell_type": "code",
   "metadata": {
    "tags": [],
    "cell_id": "00015-44e4c0f9-ae44-4dfa-af7a-1880a9761d2a",
    "deepnote_to_be_reexecuted": false,
    "source_hash": "57361bff",
    "execution_start": 1628786067822,
    "execution_millis": 8,
    "deepnote_cell_type": "code"
   },
   "source": "score = [1,2,5,7,9,14,32,1,64,73,956,342,243,5,46,57,47,47,54,45,1,2315,32,235,325,235,643,5,5,9,9,3,1,2,612]\n\nnew_list =[]\nfor i in score:\n    if i > 100:\n        i= i/10\n        new_list.append(i)   \nnew_list",
   "execution_count": null,
   "outputs": [
    {
     "output_type": "execute_result",
     "execution_count": 114,
     "data": {
      "text/plain": "[95.6, 34.2, 24.3, 231.5, 23.5, 32.5, 23.5, 64.3, 61.2]"
     },
     "metadata": {}
    }
   ]
  },
  {
   "cell_type": "code",
   "metadata": {
    "tags": [],
    "cell_id": "00023-ccb5827c-f867-43c9-81a0-40dec1d067ae",
    "deepnote_to_be_reexecuted": false,
    "source_hash": "d306ac0c",
    "execution_start": 1628786024308,
    "execution_millis": 6,
    "output_cleared": true,
    "deepnote_cell_type": "code"
   },
   "source": "scores = [1,2,5,7,9,14,32,1,64,73,956,342,243,5,46,57,47,47,54,45,1,2315,32,235,325,235,643,5,5,9,9,3,1,2,612]\n\n[score*10 if score > 100 else 0 for score in scores]",
   "execution_count": null,
   "outputs": []
  },
  {
   "cell_type": "markdown",
   "source": "What is the average value of your new list. What is median value? What is difference.",
   "metadata": {
    "tags": [],
    "cell_id": "00018-d51807aa-7a7d-45c8-a865-1293ff33629f",
    "deepnote_cell_type": "markdown"
   }
  },
  {
   "cell_type": "code",
   "metadata": {
    "tags": [],
    "cell_id": "00018-0e94cdcb-b8dd-48bf-8109-d7be97ac1898",
    "deepnote_to_be_reexecuted": false,
    "source_hash": "80076aa0",
    "execution_start": 1628786859625,
    "execution_millis": 7,
    "deepnote_cell_type": "code"
   },
   "source": "from numpy import median\n\ndef Average(lst,round_to_decimal_place = 1):\n    input_var_type = type(lst)\n    assert input_var_type == list, f\"Incorrent input variable type, it is supposed to be <list>, it is <{input_var_type}>\"\n\n    average = sum(lst) / len(lst)\n    average = round(average,round_to_decimal_place)\n    return average\n\nprint(f\"input list is: {new_list}\")\n\naverage = Average(new_list)\nprint(average)\n\nlaki = median(new_list)\nprint(laki)\n\n",
   "execution_count": null,
   "outputs": [
    {
     "name": "stdout",
     "text": "input list is: [95.6, 34.2, 24.3, 231.5, 23.5, 32.5, 23.5, 64.3, 61.2]\n65.6\n34.2\n",
     "output_type": "stream"
    }
   ]
  },
  {
   "cell_type": "markdown",
   "source": "<a style='text-decoration:none;line-height:16px;display:flex;color:#5B5B62;padding:10px;justify-content:end;' href='https://deepnote.com?utm_source=created-in-deepnote-cell&projectId=7d3ce7c8-a514-49e4-9ba4-a5899ac52ea5' target=\"_blank\">\n<img alt='Created in deepnote.com' style='display:inline;max-height:16px;margin:0px;margin-right:7.5px;' src='data:image/svg+xml;base64,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' > </img>\nCreated in <span style='font-weight:600;margin-left:4px;'>Deepnote</span></a>",
   "metadata": {
    "tags": [],
    "created_in_deepnote_cell": true,
    "deepnote_cell_type": "markdown"
   }
  }
 ],
 "nbformat": 4,
 "nbformat_minor": 2,
 "metadata": {
  "orig_nbformat": 2,
  "deepnote": {
   "is_reactive": false
  },
  "deepnote_notebook_id": "1415358e-862c-4487-a707-8e6d224370a9",
  "deepnote_execution_queue": []
 }
}