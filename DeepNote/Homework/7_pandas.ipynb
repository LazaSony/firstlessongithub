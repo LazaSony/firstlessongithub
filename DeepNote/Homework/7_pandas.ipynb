{
 "cells": [
  {
   "cell_type": "markdown",
   "source": "Here is a dataset about pets, and their visits to an animal hospital. It also includes data like age, priority and owner ID.\n\n1. Load the data into the DataFrame",
   "metadata": {
    "tags": [],
    "cell_id": "00000-2764f584-0f0b-4bf7-9c1f-5b10788815de",
    "deepnote_cell_type": "markdown"
   }
  },
  {
   "cell_type": "code",
   "metadata": {
    "tags": [],
    "cell_id": "00000-7a31045a-b6c9-472f-bd4d-06537f4d9b33",
    "deepnote_to_be_reexecuted": false,
    "source_hash": "ce5ea29e",
    "execution_start": 1625585856470,
    "execution_millis": 5,
    "deepnote_cell_type": "code"
   },
   "source": "data = {'Animal.': ['hamster', 'hamster', 'fish', 'kitty', 'ferret', 'cat', 'cobra', 'guniea pig', 'hamster'],\n        'AGE': [0.5, 1.3, 3, \"NULL\", 2, 5, 1.2, 2, \"N/A\"],\n        'Visits': [0, 1, 0, 4, 2, 1, 0, 2, 0],\n        'Prio rity': ['yes', 'yes', 'yes', 'no', 'no', 'yes', 'no', 'no'],\n        'owner': [0, 0, 1, 3, 4, 5, 7, 8, 6]}\n",
   "execution_count": null,
   "outputs": []
  },
  {
   "cell_type": "code",
   "metadata": {
    "tags": [],
    "cell_id": "00002-1ddffc9d-2bc7-4dde-87a6-6a7583e8a917",
    "deepnote_to_be_reexecuted": false,
    "source_hash": "d299254c",
    "execution_start": 1625585857959,
    "execution_millis": 47,
    "deepnote_cell_type": "code"
   },
   "source": "import pandas as pd\n\ndf = pd.DataFrame.from_dict(data,orient='index')\ndf = df.transpose()\ndf",
   "execution_count": null,
   "outputs": [
    {
     "output_type": "execute_result",
     "execution_count": 21,
     "data": {
      "application/vnd.deepnote.dataframe.v2+json": {
       "row_count": 9,
       "column_count": 5,
       "columns": [
        {
         "name": "Animal.",
         "dtype": "object",
         "stats": {
          "unique_count": 7,
          "nan_count": 0,
          "categories": [
           {
            "name": "hamster",
            "count": 3
           },
           {
            "name": "fish",
            "count": 1
           },
           {
            "name": "5 others",
            "count": 5
           }
          ]
         }
        },
        {
         "name": "AGE",
         "dtype": "object",
         "stats": {
          "unique_count": 8,
          "nan_count": 0,
          "categories": [
           {
            "name": "2",
            "count": 2
           },
           {
            "name": "0.5",
            "count": 1
           },
           {
            "name": "6 others",
            "count": 6
           }
          ]
         }
        },
        {
         "name": "Visits",
         "dtype": "object",
         "stats": {
          "unique_count": 4,
          "nan_count": 0,
          "categories": [
           {
            "name": "0",
            "count": 4
           },
           {
            "name": "1",
            "count": 2
           },
           {
            "name": "2 others",
            "count": 3
           }
          ]
         }
        },
        {
         "name": "Prio rity",
         "dtype": "object",
         "stats": {
          "unique_count": 2,
          "nan_count": 1,
          "categories": [
           {
            "name": "yes",
            "count": 4
           },
           {
            "name": "no",
            "count": 4
           },
           {
            "name": "Missing",
            "count": 1
           }
          ]
         }
        },
        {
         "name": "owner",
         "dtype": "object",
         "stats": {
          "unique_count": 8,
          "nan_count": 0,
          "categories": [
           {
            "name": "0",
            "count": 2
           },
           {
            "name": "1",
            "count": 1
           },
           {
            "name": "6 others",
            "count": 6
           }
          ]
         }
        },
        {
         "name": "_deepnote_index_column",
         "dtype": "int64"
        }
       ],
       "rows_top": [
        {
         "Animal.": "hamster",
         "AGE": "0.5",
         "Visits": "0",
         "Prio rity": "yes",
         "owner": "0",
         "_deepnote_index_column": 0
        },
        {
         "Animal.": "hamster",
         "AGE": "1.3",
         "Visits": "1",
         "Prio rity": "yes",
         "owner": "0",
         "_deepnote_index_column": 1
        },
        {
         "Animal.": "fish",
         "AGE": "3",
         "Visits": "0",
         "Prio rity": "yes",
         "owner": "1",
         "_deepnote_index_column": 2
        },
        {
         "Animal.": "kitty",
         "AGE": "NULL",
         "Visits": "4",
         "Prio rity": "no",
         "owner": "3",
         "_deepnote_index_column": 3
        },
        {
         "Animal.": "ferret",
         "AGE": "2",
         "Visits": "2",
         "Prio rity": "no",
         "owner": "4",
         "_deepnote_index_column": 4
        },
        {
         "Animal.": "cat",
         "AGE": "5",
         "Visits": "1",
         "Prio rity": "yes",
         "owner": "5",
         "_deepnote_index_column": 5
        },
        {
         "Animal.": "cobra",
         "AGE": "1.2",
         "Visits": "0",
         "Prio rity": "no",
         "owner": "7",
         "_deepnote_index_column": 6
        },
        {
         "Animal.": "guniea pig",
         "AGE": "2",
         "Visits": "2",
         "Prio rity": "no",
         "owner": "8",
         "_deepnote_index_column": 7
        },
        {
         "Animal.": "hamster",
         "AGE": "N/A",
         "Visits": "0",
         "Prio rity": "None",
         "owner": "6",
         "_deepnote_index_column": 8
        }
       ],
       "rows_bottom": null
      },
      "text/plain": "      Animal.   AGE Visits Prio rity owner\n0     hamster   0.5      0       yes     0\n1     hamster   1.3      1       yes     0\n2        fish     3      0       yes     1\n3       kitty  NULL      4        no     3\n4      ferret     2      2        no     4\n5         cat     5      1       yes     5\n6       cobra   1.2      0        no     7\n7  guniea pig     2      2        no     8\n8     hamster   N/A      0      None     6",
      "text/html": "<div>\n<style scoped>\n    .dataframe tbody tr th:only-of-type {\n        vertical-align: middle;\n    }\n\n    .dataframe tbody tr th {\n        vertical-align: top;\n    }\n\n    .dataframe thead th {\n        text-align: right;\n    }\n</style>\n<table border=\"1\" class=\"dataframe\">\n  <thead>\n    <tr style=\"text-align: right;\">\n      <th></th>\n      <th>Animal.</th>\n      <th>AGE</th>\n      <th>Visits</th>\n      <th>Prio rity</th>\n      <th>owner</th>\n    </tr>\n  </thead>\n  <tbody>\n    <tr>\n      <th>0</th>\n      <td>hamster</td>\n      <td>0.5</td>\n      <td>0</td>\n      <td>yes</td>\n      <td>0</td>\n    </tr>\n    <tr>\n      <th>1</th>\n      <td>hamster</td>\n      <td>1.3</td>\n      <td>1</td>\n      <td>yes</td>\n      <td>0</td>\n    </tr>\n    <tr>\n      <th>2</th>\n      <td>fish</td>\n      <td>3</td>\n      <td>0</td>\n      <td>yes</td>\n      <td>1</td>\n    </tr>\n    <tr>\n      <th>3</th>\n      <td>kitty</td>\n      <td>NULL</td>\n      <td>4</td>\n      <td>no</td>\n      <td>3</td>\n    </tr>\n    <tr>\n      <th>4</th>\n      <td>ferret</td>\n      <td>2</td>\n      <td>2</td>\n      <td>no</td>\n      <td>4</td>\n    </tr>\n    <tr>\n      <th>5</th>\n      <td>cat</td>\n      <td>5</td>\n      <td>1</td>\n      <td>yes</td>\n      <td>5</td>\n    </tr>\n    <tr>\n      <th>6</th>\n      <td>cobra</td>\n      <td>1.2</td>\n      <td>0</td>\n      <td>no</td>\n      <td>7</td>\n    </tr>\n    <tr>\n      <th>7</th>\n      <td>guniea pig</td>\n      <td>2</td>\n      <td>2</td>\n      <td>no</td>\n      <td>8</td>\n    </tr>\n    <tr>\n      <th>8</th>\n      <td>hamster</td>\n      <td>N/A</td>\n      <td>0</td>\n      <td>None</td>\n      <td>6</td>\n    </tr>\n  </tbody>\n</table>\n</div>"
     },
     "metadata": {}
    }
   ]
  },
  {
   "cell_type": "markdown",
   "source": "---\n2. Are the column names named well? If not, fix it automatically (do not do `df.columns = [\"animal\", \"age\"...]`, use python functions to clean those strings)",
   "metadata": {
    "tags": [],
    "cell_id": "00002-449bb971-34cf-4add-9275-a0d8a082bd61",
    "deepnote_cell_type": "markdown"
   }
  },
  {
   "cell_type": "code",
   "metadata": {
    "tags": [],
    "cell_id": "00003-5d713e47-a068-4c66-9e5c-908876573e72",
    "deepnote_to_be_reexecuted": false,
    "source_hash": "dc1ae40f",
    "execution_start": 1625585860379,
    "execution_millis": 9,
    "deepnote_cell_type": "code"
   },
   "source": "for col in df:\n    df.rename(columns={col:col.lower().replace(\".\",\"\").replace(\"prio rity\",\"priority\")},inplace=True)\ndf.head(1)",
   "execution_count": null,
   "outputs": [
    {
     "output_type": "execute_result",
     "execution_count": 22,
     "data": {
      "application/vnd.deepnote.dataframe.v2+json": {
       "row_count": 1,
       "column_count": 5,
       "columns": [
        {
         "name": "animal",
         "dtype": "object",
         "stats": {
          "unique_count": 1,
          "nan_count": 0,
          "categories": [
           {
            "name": "hamster",
            "count": 1
           }
          ]
         }
        },
        {
         "name": "age",
         "dtype": "object",
         "stats": {
          "unique_count": 1,
          "nan_count": 0,
          "categories": [
           {
            "name": "0.5",
            "count": 1
           }
          ]
         }
        },
        {
         "name": "visits",
         "dtype": "object",
         "stats": {
          "unique_count": 1,
          "nan_count": 0,
          "categories": [
           {
            "name": "0",
            "count": 1
           }
          ]
         }
        },
        {
         "name": "priority",
         "dtype": "object",
         "stats": {
          "unique_count": 1,
          "nan_count": 0,
          "categories": [
           {
            "name": "yes",
            "count": 1
           }
          ]
         }
        },
        {
         "name": "owner",
         "dtype": "object",
         "stats": {
          "unique_count": 1,
          "nan_count": 0,
          "categories": [
           {
            "name": "0",
            "count": 1
           }
          ]
         }
        },
        {
         "name": "_deepnote_index_column",
         "dtype": "int64"
        }
       ],
       "rows_top": [
        {
         "animal": "hamster",
         "age": "0.5",
         "visits": "0",
         "priority": "yes",
         "owner": "0",
         "_deepnote_index_column": 0
        }
       ],
       "rows_bottom": null
      },
      "text/plain": "    animal  age visits priority owner\n0  hamster  0.5      0      yes     0",
      "text/html": "<div>\n<style scoped>\n    .dataframe tbody tr th:only-of-type {\n        vertical-align: middle;\n    }\n\n    .dataframe tbody tr th {\n        vertical-align: top;\n    }\n\n    .dataframe thead th {\n        text-align: right;\n    }\n</style>\n<table border=\"1\" class=\"dataframe\">\n  <thead>\n    <tr style=\"text-align: right;\">\n      <th></th>\n      <th>animal</th>\n      <th>age</th>\n      <th>visits</th>\n      <th>priority</th>\n      <th>owner</th>\n    </tr>\n  </thead>\n  <tbody>\n    <tr>\n      <th>0</th>\n      <td>hamster</td>\n      <td>0.5</td>\n      <td>0</td>\n      <td>yes</td>\n      <td>0</td>\n    </tr>\n  </tbody>\n</table>\n</div>"
     },
     "metadata": {}
    }
   ]
  },
  {
   "cell_type": "markdown",
   "source": "---\n\n3. check column types, are they alright? If not fix them.\n\nNote: if there are any missing values change them to `np.nan`. How to change null values to a format such that pandas can work with it? Google!",
   "metadata": {
    "tags": [],
    "cell_id": "00002-ffe3370b-3ee5-435c-af3d-a7567111588b",
    "deepnote_cell_type": "markdown"
   }
  },
  {
   "cell_type": "code",
   "metadata": {
    "tags": [],
    "cell_id": "00007-7a8d1f5d-8c62-4853-bd24-f11cfc6229c8",
    "deepnote_to_be_reexecuted": false,
    "source_hash": "c4a590a2",
    "execution_start": 1625586080973,
    "execution_millis": 0,
    "deepnote_cell_type": "code"
   },
   "source": "df.replace(\"NULL\", np.nan, inplace=True)\ndf.replace(\"N/A\", np.nan, inplace=True)\ndf.replace(\"None\", np.nan, inplace=True)",
   "execution_count": null,
   "outputs": []
  },
  {
   "cell_type": "code",
   "metadata": {
    "tags": [],
    "cell_id": "00008-fdb8435e-8489-4e99-b0f5-22fce50d9535",
    "deepnote_to_be_reexecuted": false,
    "source_hash": "a23522e9",
    "execution_start": 1625586278950,
    "execution_millis": 52,
    "deepnote_cell_type": "code"
   },
   "source": "df.info()\ndf",
   "execution_count": null,
   "outputs": [
    {
     "name": "stdout",
     "text": "<class 'pandas.core.frame.DataFrame'>\nRangeIndex: 9 entries, 0 to 8\nData columns (total 5 columns):\n #   Column    Non-Null Count  Dtype  \n---  ------    --------------  -----  \n 0   animal    9 non-null      object \n 1   age       7 non-null      float64\n 2   visits    9 non-null      int64  \n 3   priority  8 non-null      object \n 4   owner     9 non-null      int64  \ndtypes: float64(1), int64(2), object(2)\nmemory usage: 488.0+ bytes\n",
     "output_type": "stream"
    },
    {
     "output_type": "execute_result",
     "execution_count": 49,
     "data": {
      "application/vnd.deepnote.dataframe.v2+json": {
       "row_count": 9,
       "column_count": 5,
       "columns": [
        {
         "name": "animal",
         "dtype": "object",
         "stats": {
          "unique_count": 7,
          "nan_count": 0,
          "categories": [
           {
            "name": "hamster",
            "count": 3
           },
           {
            "name": "fish",
            "count": 1
           },
           {
            "name": "5 others",
            "count": 5
           }
          ]
         }
        },
        {
         "name": "age",
         "dtype": "float64",
         "stats": {
          "unique_count": 6,
          "nan_count": 2,
          "min": "0.5",
          "max": "5.0",
          "histogram": [
           {
            "bin_start": 0.5,
            "bin_end": 0.95,
            "count": 1
           },
           {
            "bin_start": 0.95,
            "bin_end": 1.4,
            "count": 2
           },
           {
            "bin_start": 1.4,
            "bin_end": 1.85,
            "count": 0
           },
           {
            "bin_start": 1.85,
            "bin_end": 2.3,
            "count": 2
           },
           {
            "bin_start": 2.3,
            "bin_end": 2.75,
            "count": 0
           },
           {
            "bin_start": 2.75,
            "bin_end": 3.2,
            "count": 1
           },
           {
            "bin_start": 3.2,
            "bin_end": 3.65,
            "count": 0
           },
           {
            "bin_start": 3.65,
            "bin_end": 4.1,
            "count": 0
           },
           {
            "bin_start": 4.1,
            "bin_end": 4.55,
            "count": 0
           },
           {
            "bin_start": 4.55,
            "bin_end": 5,
            "count": 1
           }
          ]
         }
        },
        {
         "name": "visits",
         "dtype": "int64",
         "stats": {
          "unique_count": 4,
          "nan_count": 0,
          "min": "0",
          "max": "4",
          "histogram": [
           {
            "bin_start": 0,
            "bin_end": 0.4,
            "count": 4
           },
           {
            "bin_start": 0.4,
            "bin_end": 0.8,
            "count": 0
           },
           {
            "bin_start": 0.8,
            "bin_end": 1.2000000000000002,
            "count": 2
           },
           {
            "bin_start": 1.2000000000000002,
            "bin_end": 1.6,
            "count": 0
           },
           {
            "bin_start": 1.6,
            "bin_end": 2,
            "count": 0
           },
           {
            "bin_start": 2,
            "bin_end": 2.4000000000000004,
            "count": 2
           },
           {
            "bin_start": 2.4000000000000004,
            "bin_end": 2.8000000000000003,
            "count": 0
           },
           {
            "bin_start": 2.8000000000000003,
            "bin_end": 3.2,
            "count": 0
           },
           {
            "bin_start": 3.2,
            "bin_end": 3.6,
            "count": 0
           },
           {
            "bin_start": 3.6,
            "bin_end": 4,
            "count": 1
           }
          ]
         }
        },
        {
         "name": "priority",
         "dtype": "object",
         "stats": {
          "unique_count": 2,
          "nan_count": 1,
          "categories": [
           {
            "name": "yes",
            "count": 4
           },
           {
            "name": "no",
            "count": 4
           },
           {
            "name": "Missing",
            "count": 1
           }
          ]
         }
        },
        {
         "name": "owner",
         "dtype": "int64",
         "stats": {
          "unique_count": 8,
          "nan_count": 0,
          "min": "0",
          "max": "8",
          "histogram": [
           {
            "bin_start": 0,
            "bin_end": 0.8,
            "count": 2
           },
           {
            "bin_start": 0.8,
            "bin_end": 1.6,
            "count": 1
           },
           {
            "bin_start": 1.6,
            "bin_end": 2.4000000000000004,
            "count": 0
           },
           {
            "bin_start": 2.4000000000000004,
            "bin_end": 3.2,
            "count": 1
           },
           {
            "bin_start": 3.2,
            "bin_end": 4,
            "count": 0
           },
           {
            "bin_start": 4,
            "bin_end": 4.800000000000001,
            "count": 1
           },
           {
            "bin_start": 4.800000000000001,
            "bin_end": 5.6000000000000005,
            "count": 1
           },
           {
            "bin_start": 5.6000000000000005,
            "bin_end": 6.4,
            "count": 1
           },
           {
            "bin_start": 6.4,
            "bin_end": 7.2,
            "count": 1
           },
           {
            "bin_start": 7.2,
            "bin_end": 8,
            "count": 1
           }
          ]
         }
        },
        {
         "name": "_deepnote_index_column",
         "dtype": "int64"
        }
       ],
       "rows_top": [
        {
         "animal": "hamster",
         "age": 0.5,
         "visits": 0,
         "priority": "yes",
         "owner": 0,
         "_deepnote_index_column": 0
        },
        {
         "animal": "hamster",
         "age": 1.3,
         "visits": 1,
         "priority": "yes",
         "owner": 0,
         "_deepnote_index_column": 1
        },
        {
         "animal": "fish",
         "age": 3,
         "visits": 0,
         "priority": "yes",
         "owner": 1,
         "_deepnote_index_column": 2
        },
        {
         "animal": "kitty",
         "age": "nan",
         "visits": 4,
         "priority": "no",
         "owner": 3,
         "_deepnote_index_column": 3
        },
        {
         "animal": "ferret",
         "age": 2,
         "visits": 2,
         "priority": "no",
         "owner": 4,
         "_deepnote_index_column": 4
        },
        {
         "animal": "cat",
         "age": 5,
         "visits": 1,
         "priority": "yes",
         "owner": 5,
         "_deepnote_index_column": 5
        },
        {
         "animal": "cobra",
         "age": 1.2,
         "visits": 0,
         "priority": "no",
         "owner": 7,
         "_deepnote_index_column": 6
        },
        {
         "animal": "guniea pig",
         "age": 2,
         "visits": 2,
         "priority": "no",
         "owner": 8,
         "_deepnote_index_column": 7
        },
        {
         "animal": "hamster",
         "age": "nan",
         "visits": 0,
         "priority": "None",
         "owner": 6,
         "_deepnote_index_column": 8
        }
       ],
       "rows_bottom": null
      },
      "text/plain": "       animal  age  visits priority  owner\n0     hamster  0.5       0      yes      0\n1     hamster  1.3       1      yes      0\n2        fish  3.0       0      yes      1\n3       kitty  NaN       4       no      3\n4      ferret  2.0       2       no      4\n5         cat  5.0       1      yes      5\n6       cobra  1.2       0       no      7\n7  guniea pig  2.0       2       no      8\n8     hamster  NaN       0     None      6",
      "text/html": "<div>\n<style scoped>\n    .dataframe tbody tr th:only-of-type {\n        vertical-align: middle;\n    }\n\n    .dataframe tbody tr th {\n        vertical-align: top;\n    }\n\n    .dataframe thead th {\n        text-align: right;\n    }\n</style>\n<table border=\"1\" class=\"dataframe\">\n  <thead>\n    <tr style=\"text-align: right;\">\n      <th></th>\n      <th>animal</th>\n      <th>age</th>\n      <th>visits</th>\n      <th>priority</th>\n      <th>owner</th>\n    </tr>\n  </thead>\n  <tbody>\n    <tr>\n      <th>0</th>\n      <td>hamster</td>\n      <td>0.5</td>\n      <td>0</td>\n      <td>yes</td>\n      <td>0</td>\n    </tr>\n    <tr>\n      <th>1</th>\n      <td>hamster</td>\n      <td>1.3</td>\n      <td>1</td>\n      <td>yes</td>\n      <td>0</td>\n    </tr>\n    <tr>\n      <th>2</th>\n      <td>fish</td>\n      <td>3.0</td>\n      <td>0</td>\n      <td>yes</td>\n      <td>1</td>\n    </tr>\n    <tr>\n      <th>3</th>\n      <td>kitty</td>\n      <td>NaN</td>\n      <td>4</td>\n      <td>no</td>\n      <td>3</td>\n    </tr>\n    <tr>\n      <th>4</th>\n      <td>ferret</td>\n      <td>2.0</td>\n      <td>2</td>\n      <td>no</td>\n      <td>4</td>\n    </tr>\n    <tr>\n      <th>5</th>\n      <td>cat</td>\n      <td>5.0</td>\n      <td>1</td>\n      <td>yes</td>\n      <td>5</td>\n    </tr>\n    <tr>\n      <th>6</th>\n      <td>cobra</td>\n      <td>1.2</td>\n      <td>0</td>\n      <td>no</td>\n      <td>7</td>\n    </tr>\n    <tr>\n      <th>7</th>\n      <td>guniea pig</td>\n      <td>2.0</td>\n      <td>2</td>\n      <td>no</td>\n      <td>8</td>\n    </tr>\n    <tr>\n      <th>8</th>\n      <td>hamster</td>\n      <td>NaN</td>\n      <td>0</td>\n      <td>None</td>\n      <td>6</td>\n    </tr>\n  </tbody>\n</table>\n</div>"
     },
     "metadata": {}
    }
   ]
  },
  {
   "cell_type": "markdown",
   "source": "---\n4. If you did the previous step succesfully, select rows which have missing age.",
   "metadata": {
    "tags": [],
    "cell_id": "00006-e658e1ca-1b3b-4c7a-abd0-ff49ad3bffe8",
    "deepnote_cell_type": "markdown"
   }
  },
  {
   "cell_type": "code",
   "metadata": {
    "tags": [],
    "cell_id": "00009-cadea2a6-07fb-4c7f-a4cd-1115a804496f",
    "deepnote_to_be_reexecuted": false,
    "source_hash": "d6e5d9b3",
    "execution_start": 1625586407757,
    "execution_millis": 12,
    "deepnote_cell_type": "code"
   },
   "source": "df[df.isnull().any(axis=1)] \n#df[df[\"age\"].isnull()] ",
   "execution_count": null,
   "outputs": [
    {
     "output_type": "execute_result",
     "execution_count": 56,
     "data": {
      "application/vnd.deepnote.dataframe.v2+json": {
       "row_count": 2,
       "column_count": 5,
       "columns": [
        {
         "name": "animal",
         "dtype": "object",
         "stats": {
          "unique_count": 2,
          "nan_count": 0,
          "categories": [
           {
            "name": "kitty",
            "count": 1
           },
           {
            "name": "hamster",
            "count": 1
           }
          ]
         }
        },
        {
         "name": "age",
         "dtype": "float64",
         "stats": {
          "unique_count": 0,
          "nan_count": 2,
          "min": null,
          "max": null,
          "histogram": [
           {
            "bin_start": 0,
            "bin_end": 0.1,
            "count": 0
           },
           {
            "bin_start": 0.1,
            "bin_end": 0.2,
            "count": 0
           },
           {
            "bin_start": 0.2,
            "bin_end": 0.30000000000000004,
            "count": 0
           },
           {
            "bin_start": 0.30000000000000004,
            "bin_end": 0.4,
            "count": 0
           },
           {
            "bin_start": 0.4,
            "bin_end": 0.5,
            "count": 0
           },
           {
            "bin_start": 0.5,
            "bin_end": 0.6000000000000001,
            "count": 0
           },
           {
            "bin_start": 0.6000000000000001,
            "bin_end": 0.7000000000000001,
            "count": 0
           },
           {
            "bin_start": 0.7000000000000001,
            "bin_end": 0.8,
            "count": 0
           },
           {
            "bin_start": 0.8,
            "bin_end": 0.9,
            "count": 0
           },
           {
            "bin_start": 0.9,
            "bin_end": 1,
            "count": 0
           }
          ]
         }
        },
        {
         "name": "visits",
         "dtype": "int64",
         "stats": {
          "unique_count": 2,
          "nan_count": 0,
          "min": "0",
          "max": "4",
          "histogram": [
           {
            "bin_start": 0,
            "bin_end": 0.4,
            "count": 1
           },
           {
            "bin_start": 0.4,
            "bin_end": 0.8,
            "count": 0
           },
           {
            "bin_start": 0.8,
            "bin_end": 1.2000000000000002,
            "count": 0
           },
           {
            "bin_start": 1.2000000000000002,
            "bin_end": 1.6,
            "count": 0
           },
           {
            "bin_start": 1.6,
            "bin_end": 2,
            "count": 0
           },
           {
            "bin_start": 2,
            "bin_end": 2.4000000000000004,
            "count": 0
           },
           {
            "bin_start": 2.4000000000000004,
            "bin_end": 2.8000000000000003,
            "count": 0
           },
           {
            "bin_start": 2.8000000000000003,
            "bin_end": 3.2,
            "count": 0
           },
           {
            "bin_start": 3.2,
            "bin_end": 3.6,
            "count": 0
           },
           {
            "bin_start": 3.6,
            "bin_end": 4,
            "count": 1
           }
          ]
         }
        },
        {
         "name": "priority",
         "dtype": "object",
         "stats": {
          "unique_count": 1,
          "nan_count": 1,
          "categories": [
           {
            "name": "no",
            "count": 1
           },
           {
            "name": "Missing",
            "count": 1
           }
          ]
         }
        },
        {
         "name": "owner",
         "dtype": "int64",
         "stats": {
          "unique_count": 2,
          "nan_count": 0,
          "min": "3",
          "max": "6",
          "histogram": [
           {
            "bin_start": 3,
            "bin_end": 3.3,
            "count": 1
           },
           {
            "bin_start": 3.3,
            "bin_end": 3.6,
            "count": 0
           },
           {
            "bin_start": 3.6,
            "bin_end": 3.9,
            "count": 0
           },
           {
            "bin_start": 3.9,
            "bin_end": 4.2,
            "count": 0
           },
           {
            "bin_start": 4.2,
            "bin_end": 4.5,
            "count": 0
           },
           {
            "bin_start": 4.5,
            "bin_end": 4.8,
            "count": 0
           },
           {
            "bin_start": 4.8,
            "bin_end": 5.1,
            "count": 0
           },
           {
            "bin_start": 5.1,
            "bin_end": 5.4,
            "count": 0
           },
           {
            "bin_start": 5.4,
            "bin_end": 5.699999999999999,
            "count": 0
           },
           {
            "bin_start": 5.699999999999999,
            "bin_end": 6,
            "count": 1
           }
          ]
         }
        },
        {
         "name": "_deepnote_index_column",
         "dtype": "int64"
        }
       ],
       "rows_top": [
        {
         "animal": "kitty",
         "age": "nan",
         "visits": 4,
         "priority": "no",
         "owner": 3,
         "_deepnote_index_column": 3
        },
        {
         "animal": "hamster",
         "age": "nan",
         "visits": 0,
         "priority": "None",
         "owner": 6,
         "_deepnote_index_column": 8
        }
       ],
       "rows_bottom": null
      },
      "text/plain": "    animal  age  visits priority  owner\n3    kitty  NaN       4       no      3\n8  hamster  NaN       0     None      6",
      "text/html": "<div>\n<style scoped>\n    .dataframe tbody tr th:only-of-type {\n        vertical-align: middle;\n    }\n\n    .dataframe tbody tr th {\n        vertical-align: top;\n    }\n\n    .dataframe thead th {\n        text-align: right;\n    }\n</style>\n<table border=\"1\" class=\"dataframe\">\n  <thead>\n    <tr style=\"text-align: right;\">\n      <th></th>\n      <th>animal</th>\n      <th>age</th>\n      <th>visits</th>\n      <th>priority</th>\n      <th>owner</th>\n    </tr>\n  </thead>\n  <tbody>\n    <tr>\n      <th>3</th>\n      <td>kitty</td>\n      <td>NaN</td>\n      <td>4</td>\n      <td>no</td>\n      <td>3</td>\n    </tr>\n    <tr>\n      <th>8</th>\n      <td>hamster</td>\n      <td>NaN</td>\n      <td>0</td>\n      <td>None</td>\n      <td>6</td>\n    </tr>\n  </tbody>\n</table>\n</div>"
     },
     "metadata": {}
    }
   ]
  },
  {
   "cell_type": "markdown",
   "source": "---\n4.5 Change `yes/no` values in `priority` column to `True/False` so that we can work with it properly",
   "metadata": {
    "tags": [],
    "cell_id": "00008-0e9761d8-096b-43d9-8a96-0a8cd7a16064",
    "deepnote_cell_type": "markdown"
   }
  },
  {
   "cell_type": "code",
   "metadata": {
    "tags": [],
    "cell_id": "00009-b6edc3ef-73be-48d1-b61a-1cac4d70de72",
    "deepnote_to_be_reexecuted": false,
    "source_hash": "f99fdf87",
    "execution_start": 1625586681170,
    "execution_millis": 6,
    "deepnote_cell_type": "code"
   },
   "source": "df['priority'] = df['priority'].replace(\"no\", False).replace(\"yes\",True)\ndf[\"priority\"] = df[\"priority\"].astype(bool)\ndf",
   "execution_count": null,
   "outputs": [
    {
     "output_type": "execute_result",
     "execution_count": 68,
     "data": {
      "application/vnd.deepnote.dataframe.v2+json": {
       "row_count": 9,
       "column_count": 5,
       "columns": [
        {
         "name": "animal",
         "dtype": "object",
         "stats": {
          "unique_count": 7,
          "nan_count": 0,
          "categories": [
           {
            "name": "hamster",
            "count": 3
           },
           {
            "name": "fish",
            "count": 1
           },
           {
            "name": "5 others",
            "count": 5
           }
          ]
         }
        },
        {
         "name": "age",
         "dtype": "float64",
         "stats": {
          "unique_count": 6,
          "nan_count": 2,
          "min": "0.5",
          "max": "5.0",
          "histogram": [
           {
            "bin_start": 0.5,
            "bin_end": 0.95,
            "count": 1
           },
           {
            "bin_start": 0.95,
            "bin_end": 1.4,
            "count": 2
           },
           {
            "bin_start": 1.4,
            "bin_end": 1.85,
            "count": 0
           },
           {
            "bin_start": 1.85,
            "bin_end": 2.3,
            "count": 2
           },
           {
            "bin_start": 2.3,
            "bin_end": 2.75,
            "count": 0
           },
           {
            "bin_start": 2.75,
            "bin_end": 3.2,
            "count": 1
           },
           {
            "bin_start": 3.2,
            "bin_end": 3.65,
            "count": 0
           },
           {
            "bin_start": 3.65,
            "bin_end": 4.1,
            "count": 0
           },
           {
            "bin_start": 4.1,
            "bin_end": 4.55,
            "count": 0
           },
           {
            "bin_start": 4.55,
            "bin_end": 5,
            "count": 1
           }
          ]
         }
        },
        {
         "name": "visits",
         "dtype": "int64",
         "stats": {
          "unique_count": 4,
          "nan_count": 0,
          "min": "0",
          "max": "4",
          "histogram": [
           {
            "bin_start": 0,
            "bin_end": 0.4,
            "count": 4
           },
           {
            "bin_start": 0.4,
            "bin_end": 0.8,
            "count": 0
           },
           {
            "bin_start": 0.8,
            "bin_end": 1.2000000000000002,
            "count": 2
           },
           {
            "bin_start": 1.2000000000000002,
            "bin_end": 1.6,
            "count": 0
           },
           {
            "bin_start": 1.6,
            "bin_end": 2,
            "count": 0
           },
           {
            "bin_start": 2,
            "bin_end": 2.4000000000000004,
            "count": 2
           },
           {
            "bin_start": 2.4000000000000004,
            "bin_end": 2.8000000000000003,
            "count": 0
           },
           {
            "bin_start": 2.8000000000000003,
            "bin_end": 3.2,
            "count": 0
           },
           {
            "bin_start": 3.2,
            "bin_end": 3.6,
            "count": 0
           },
           {
            "bin_start": 3.6,
            "bin_end": 4,
            "count": 1
           }
          ]
         }
        },
        {
         "name": "priority",
         "dtype": "object",
         "stats": {
          "unique_count": 2,
          "nan_count": 1,
          "categories": [
           {
            "name": "True",
            "count": 4
           },
           {
            "name": "False",
            "count": 4
           },
           {
            "name": "Missing",
            "count": 1
           }
          ]
         }
        },
        {
         "name": "owner",
         "dtype": "int64",
         "stats": {
          "unique_count": 8,
          "nan_count": 0,
          "min": "0",
          "max": "8",
          "histogram": [
           {
            "bin_start": 0,
            "bin_end": 0.8,
            "count": 2
           },
           {
            "bin_start": 0.8,
            "bin_end": 1.6,
            "count": 1
           },
           {
            "bin_start": 1.6,
            "bin_end": 2.4000000000000004,
            "count": 0
           },
           {
            "bin_start": 2.4000000000000004,
            "bin_end": 3.2,
            "count": 1
           },
           {
            "bin_start": 3.2,
            "bin_end": 4,
            "count": 0
           },
           {
            "bin_start": 4,
            "bin_end": 4.800000000000001,
            "count": 1
           },
           {
            "bin_start": 4.800000000000001,
            "bin_end": 5.6000000000000005,
            "count": 1
           },
           {
            "bin_start": 5.6000000000000005,
            "bin_end": 6.4,
            "count": 1
           },
           {
            "bin_start": 6.4,
            "bin_end": 7.2,
            "count": 1
           },
           {
            "bin_start": 7.2,
            "bin_end": 8,
            "count": 1
           }
          ]
         }
        },
        {
         "name": "_deepnote_index_column",
         "dtype": "int64"
        }
       ],
       "rows_top": [
        {
         "animal": "hamster",
         "age": 0.5,
         "visits": 0,
         "priority": "True",
         "owner": 0,
         "_deepnote_index_column": 0
        },
        {
         "animal": "hamster",
         "age": 1.3,
         "visits": 1,
         "priority": "True",
         "owner": 0,
         "_deepnote_index_column": 1
        },
        {
         "animal": "fish",
         "age": 3,
         "visits": 0,
         "priority": "True",
         "owner": 1,
         "_deepnote_index_column": 2
        },
        {
         "animal": "kitty",
         "age": "nan",
         "visits": 4,
         "priority": "False",
         "owner": 3,
         "_deepnote_index_column": 3
        },
        {
         "animal": "ferret",
         "age": 2,
         "visits": 2,
         "priority": "False",
         "owner": 4,
         "_deepnote_index_column": 4
        },
        {
         "animal": "cat",
         "age": 5,
         "visits": 1,
         "priority": "True",
         "owner": 5,
         "_deepnote_index_column": 5
        },
        {
         "animal": "cobra",
         "age": 1.2,
         "visits": 0,
         "priority": "False",
         "owner": 7,
         "_deepnote_index_column": 6
        },
        {
         "animal": "guniea pig",
         "age": 2,
         "visits": 2,
         "priority": "False",
         "owner": 8,
         "_deepnote_index_column": 7
        },
        {
         "animal": "hamster",
         "age": "nan",
         "visits": 0,
         "priority": "None",
         "owner": 6,
         "_deepnote_index_column": 8
        }
       ],
       "rows_bottom": null
      },
      "text/plain": "       animal  age  visits priority  owner\n0     hamster  0.5       0     True      0\n1     hamster  1.3       1     True      0\n2        fish  3.0       0     True      1\n3       kitty  NaN       4    False      3\n4      ferret  2.0       2    False      4\n5         cat  5.0       1     True      5\n6       cobra  1.2       0    False      7\n7  guniea pig  2.0       2    False      8\n8     hamster  NaN       0     None      6",
      "text/html": "<div>\n<style scoped>\n    .dataframe tbody tr th:only-of-type {\n        vertical-align: middle;\n    }\n\n    .dataframe tbody tr th {\n        vertical-align: top;\n    }\n\n    .dataframe thead th {\n        text-align: right;\n    }\n</style>\n<table border=\"1\" class=\"dataframe\">\n  <thead>\n    <tr style=\"text-align: right;\">\n      <th></th>\n      <th>animal</th>\n      <th>age</th>\n      <th>visits</th>\n      <th>priority</th>\n      <th>owner</th>\n    </tr>\n  </thead>\n  <tbody>\n    <tr>\n      <th>0</th>\n      <td>hamster</td>\n      <td>0.5</td>\n      <td>0</td>\n      <td>True</td>\n      <td>0</td>\n    </tr>\n    <tr>\n      <th>1</th>\n      <td>hamster</td>\n      <td>1.3</td>\n      <td>1</td>\n      <td>True</td>\n      <td>0</td>\n    </tr>\n    <tr>\n      <th>2</th>\n      <td>fish</td>\n      <td>3.0</td>\n      <td>0</td>\n      <td>True</td>\n      <td>1</td>\n    </tr>\n    <tr>\n      <th>3</th>\n      <td>kitty</td>\n      <td>NaN</td>\n      <td>4</td>\n      <td>False</td>\n      <td>3</td>\n    </tr>\n    <tr>\n      <th>4</th>\n      <td>ferret</td>\n      <td>2.0</td>\n      <td>2</td>\n      <td>False</td>\n      <td>4</td>\n    </tr>\n    <tr>\n      <th>5</th>\n      <td>cat</td>\n      <td>5.0</td>\n      <td>1</td>\n      <td>True</td>\n      <td>5</td>\n    </tr>\n    <tr>\n      <th>6</th>\n      <td>cobra</td>\n      <td>1.2</td>\n      <td>0</td>\n      <td>False</td>\n      <td>7</td>\n    </tr>\n    <tr>\n      <th>7</th>\n      <td>guniea pig</td>\n      <td>2.0</td>\n      <td>2</td>\n      <td>False</td>\n      <td>8</td>\n    </tr>\n    <tr>\n      <th>8</th>\n      <td>hamster</td>\n      <td>NaN</td>\n      <td>0</td>\n      <td>None</td>\n      <td>6</td>\n    </tr>\n  </tbody>\n</table>\n</div>"
     },
     "metadata": {}
    }
   ]
  },
  {
   "cell_type": "code",
   "metadata": {
    "tags": [],
    "cell_id": "00012-8b9911f0-6ba5-4efa-bd4d-0c20909c5da8",
    "deepnote_to_be_reexecuted": false,
    "source_hash": "93fe1387",
    "execution_start": 1625586765004,
    "execution_millis": 9,
    "deepnote_cell_type": "code"
   },
   "source": "df[df[\"priority\"] == True]",
   "execution_count": null,
   "outputs": [
    {
     "output_type": "execute_result",
     "execution_count": 71,
     "data": {
      "application/vnd.deepnote.dataframe.v2+json": {
       "row_count": 4,
       "column_count": 5,
       "columns": [
        {
         "name": "animal",
         "dtype": "object",
         "stats": {
          "unique_count": 3,
          "nan_count": 0,
          "categories": [
           {
            "name": "hamster",
            "count": 2
           },
           {
            "name": "fish",
            "count": 1
           },
           {
            "name": "cat",
            "count": 1
           }
          ]
         }
        },
        {
         "name": "age",
         "dtype": "float64",
         "stats": {
          "unique_count": 4,
          "nan_count": 0,
          "min": "0.5",
          "max": "5.0",
          "histogram": [
           {
            "bin_start": 0.5,
            "bin_end": 0.95,
            "count": 1
           },
           {
            "bin_start": 0.95,
            "bin_end": 1.4,
            "count": 1
           },
           {
            "bin_start": 1.4,
            "bin_end": 1.85,
            "count": 0
           },
           {
            "bin_start": 1.85,
            "bin_end": 2.3,
            "count": 0
           },
           {
            "bin_start": 2.3,
            "bin_end": 2.75,
            "count": 0
           },
           {
            "bin_start": 2.75,
            "bin_end": 3.2,
            "count": 1
           },
           {
            "bin_start": 3.2,
            "bin_end": 3.65,
            "count": 0
           },
           {
            "bin_start": 3.65,
            "bin_end": 4.1,
            "count": 0
           },
           {
            "bin_start": 4.1,
            "bin_end": 4.55,
            "count": 0
           },
           {
            "bin_start": 4.55,
            "bin_end": 5,
            "count": 1
           }
          ]
         }
        },
        {
         "name": "visits",
         "dtype": "int64",
         "stats": {
          "unique_count": 2,
          "nan_count": 0,
          "min": "0",
          "max": "1",
          "histogram": [
           {
            "bin_start": 0,
            "bin_end": 0.1,
            "count": 2
           },
           {
            "bin_start": 0.1,
            "bin_end": 0.2,
            "count": 0
           },
           {
            "bin_start": 0.2,
            "bin_end": 0.30000000000000004,
            "count": 0
           },
           {
            "bin_start": 0.30000000000000004,
            "bin_end": 0.4,
            "count": 0
           },
           {
            "bin_start": 0.4,
            "bin_end": 0.5,
            "count": 0
           },
           {
            "bin_start": 0.5,
            "bin_end": 0.6000000000000001,
            "count": 0
           },
           {
            "bin_start": 0.6000000000000001,
            "bin_end": 0.7000000000000001,
            "count": 0
           },
           {
            "bin_start": 0.7000000000000001,
            "bin_end": 0.8,
            "count": 0
           },
           {
            "bin_start": 0.8,
            "bin_end": 0.9,
            "count": 0
           },
           {
            "bin_start": 0.9,
            "bin_end": 1,
            "count": 2
           }
          ]
         }
        },
        {
         "name": "priority",
         "dtype": "bool",
         "stats": {
          "unique_count": 1,
          "nan_count": 0,
          "categories": [
           {
            "name": "True",
            "count": 4
           }
          ]
         }
        },
        {
         "name": "owner",
         "dtype": "int64",
         "stats": {
          "unique_count": 3,
          "nan_count": 0,
          "min": "0",
          "max": "5",
          "histogram": [
           {
            "bin_start": 0,
            "bin_end": 0.5,
            "count": 2
           },
           {
            "bin_start": 0.5,
            "bin_end": 1,
            "count": 0
           },
           {
            "bin_start": 1,
            "bin_end": 1.5,
            "count": 1
           },
           {
            "bin_start": 1.5,
            "bin_end": 2,
            "count": 0
           },
           {
            "bin_start": 2,
            "bin_end": 2.5,
            "count": 0
           },
           {
            "bin_start": 2.5,
            "bin_end": 3,
            "count": 0
           },
           {
            "bin_start": 3,
            "bin_end": 3.5,
            "count": 0
           },
           {
            "bin_start": 3.5,
            "bin_end": 4,
            "count": 0
           },
           {
            "bin_start": 4,
            "bin_end": 4.5,
            "count": 0
           },
           {
            "bin_start": 4.5,
            "bin_end": 5,
            "count": 1
           }
          ]
         }
        },
        {
         "name": "_deepnote_index_column",
         "dtype": "int64"
        }
       ],
       "rows_top": [
        {
         "animal": "hamster",
         "age": 0.5,
         "visits": 0,
         "priority": "True",
         "owner": 0,
         "_deepnote_index_column": 0
        },
        {
         "animal": "hamster",
         "age": 1.3,
         "visits": 1,
         "priority": "True",
         "owner": 0,
         "_deepnote_index_column": 1
        },
        {
         "animal": "fish",
         "age": 3,
         "visits": 0,
         "priority": "True",
         "owner": 1,
         "_deepnote_index_column": 2
        },
        {
         "animal": "cat",
         "age": 5,
         "visits": 1,
         "priority": "True",
         "owner": 5,
         "_deepnote_index_column": 5
        }
       ],
       "rows_bottom": null
      },
      "text/plain": "    animal  age  visits  priority  owner\n0  hamster  0.5       0      True      0\n1  hamster  1.3       1      True      0\n2     fish  3.0       0      True      1\n5      cat  5.0       1      True      5",
      "text/html": "<div>\n<style scoped>\n    .dataframe tbody tr th:only-of-type {\n        vertical-align: middle;\n    }\n\n    .dataframe tbody tr th {\n        vertical-align: top;\n    }\n\n    .dataframe thead th {\n        text-align: right;\n    }\n</style>\n<table border=\"1\" class=\"dataframe\">\n  <thead>\n    <tr style=\"text-align: right;\">\n      <th></th>\n      <th>animal</th>\n      <th>age</th>\n      <th>visits</th>\n      <th>priority</th>\n      <th>owner</th>\n    </tr>\n  </thead>\n  <tbody>\n    <tr>\n      <th>0</th>\n      <td>hamster</td>\n      <td>0.5</td>\n      <td>0</td>\n      <td>True</td>\n      <td>0</td>\n    </tr>\n    <tr>\n      <th>1</th>\n      <td>hamster</td>\n      <td>1.3</td>\n      <td>1</td>\n      <td>True</td>\n      <td>0</td>\n    </tr>\n    <tr>\n      <th>2</th>\n      <td>fish</td>\n      <td>3.0</td>\n      <td>0</td>\n      <td>True</td>\n      <td>1</td>\n    </tr>\n    <tr>\n      <th>5</th>\n      <td>cat</td>\n      <td>5.0</td>\n      <td>1</td>\n      <td>True</td>\n      <td>5</td>\n    </tr>\n  </tbody>\n</table>\n</div>"
     },
     "metadata": {}
    }
   ]
  },
  {
   "cell_type": "markdown",
   "source": "---\n\n5. Animal hospital wants to see all animals with more than 1 visits.\n",
   "metadata": {
    "tags": [],
    "cell_id": "00005-b9758e6f-b715-45bd-9156-7328fecbcd2f",
    "deepnote_cell_type": "markdown"
   }
  },
  {
   "cell_type": "code",
   "metadata": {
    "tags": [],
    "cell_id": "00009-d3fdc228-b31b-4384-861f-badc82522e01",
    "deepnote_to_be_reexecuted": false,
    "source_hash": "f391c059",
    "execution_start": 1625586779976,
    "execution_millis": 12,
    "deepnote_cell_type": "code"
   },
   "source": "df[df[\"visits\"] > 1]",
   "execution_count": null,
   "outputs": [
    {
     "output_type": "execute_result",
     "execution_count": 72,
     "data": {
      "application/vnd.deepnote.dataframe.v2+json": {
       "row_count": 3,
       "column_count": 5,
       "columns": [
        {
         "name": "animal",
         "dtype": "object",
         "stats": {
          "unique_count": 3,
          "nan_count": 0,
          "categories": [
           {
            "name": "kitty",
            "count": 1
           },
           {
            "name": "ferret",
            "count": 1
           },
           {
            "name": "guniea pig",
            "count": 1
           }
          ]
         }
        },
        {
         "name": "age",
         "dtype": "float64",
         "stats": {
          "unique_count": 1,
          "nan_count": 1,
          "min": "2.0",
          "max": "2.0",
          "histogram": [
           {
            "bin_start": 1.5,
            "bin_end": 1.6,
            "count": 0
           },
           {
            "bin_start": 1.6,
            "bin_end": 1.7,
            "count": 0
           },
           {
            "bin_start": 1.7,
            "bin_end": 1.8,
            "count": 0
           },
           {
            "bin_start": 1.8,
            "bin_end": 1.9,
            "count": 0
           },
           {
            "bin_start": 1.9,
            "bin_end": 2,
            "count": 0
           },
           {
            "bin_start": 2,
            "bin_end": 2.1,
            "count": 2
           },
           {
            "bin_start": 2.1,
            "bin_end": 2.2,
            "count": 0
           },
           {
            "bin_start": 2.2,
            "bin_end": 2.3,
            "count": 0
           },
           {
            "bin_start": 2.3,
            "bin_end": 2.4,
            "count": 0
           },
           {
            "bin_start": 2.4,
            "bin_end": 2.5,
            "count": 0
           }
          ]
         }
        },
        {
         "name": "visits",
         "dtype": "int64",
         "stats": {
          "unique_count": 2,
          "nan_count": 0,
          "min": "2",
          "max": "4",
          "histogram": [
           {
            "bin_start": 2,
            "bin_end": 2.2,
            "count": 2
           },
           {
            "bin_start": 2.2,
            "bin_end": 2.4,
            "count": 0
           },
           {
            "bin_start": 2.4,
            "bin_end": 2.6,
            "count": 0
           },
           {
            "bin_start": 2.6,
            "bin_end": 2.8,
            "count": 0
           },
           {
            "bin_start": 2.8,
            "bin_end": 3,
            "count": 0
           },
           {
            "bin_start": 3,
            "bin_end": 3.2,
            "count": 0
           },
           {
            "bin_start": 3.2,
            "bin_end": 3.4000000000000004,
            "count": 0
           },
           {
            "bin_start": 3.4000000000000004,
            "bin_end": 3.6,
            "count": 0
           },
           {
            "bin_start": 3.6,
            "bin_end": 3.8,
            "count": 0
           },
           {
            "bin_start": 3.8,
            "bin_end": 4,
            "count": 1
           }
          ]
         }
        },
        {
         "name": "priority",
         "dtype": "bool",
         "stats": {
          "unique_count": 1,
          "nan_count": 0,
          "categories": [
           {
            "name": "False",
            "count": 3
           }
          ]
         }
        },
        {
         "name": "owner",
         "dtype": "int64",
         "stats": {
          "unique_count": 3,
          "nan_count": 0,
          "min": "3",
          "max": "8",
          "histogram": [
           {
            "bin_start": 3,
            "bin_end": 3.5,
            "count": 1
           },
           {
            "bin_start": 3.5,
            "bin_end": 4,
            "count": 0
           },
           {
            "bin_start": 4,
            "bin_end": 4.5,
            "count": 1
           },
           {
            "bin_start": 4.5,
            "bin_end": 5,
            "count": 0
           },
           {
            "bin_start": 5,
            "bin_end": 5.5,
            "count": 0
           },
           {
            "bin_start": 5.5,
            "bin_end": 6,
            "count": 0
           },
           {
            "bin_start": 6,
            "bin_end": 6.5,
            "count": 0
           },
           {
            "bin_start": 6.5,
            "bin_end": 7,
            "count": 0
           },
           {
            "bin_start": 7,
            "bin_end": 7.5,
            "count": 0
           },
           {
            "bin_start": 7.5,
            "bin_end": 8,
            "count": 1
           }
          ]
         }
        },
        {
         "name": "_deepnote_index_column",
         "dtype": "int64"
        }
       ],
       "rows_top": [
        {
         "animal": "kitty",
         "age": "nan",
         "visits": 4,
         "priority": "False",
         "owner": 3,
         "_deepnote_index_column": 3
        },
        {
         "animal": "ferret",
         "age": 2,
         "visits": 2,
         "priority": "False",
         "owner": 4,
         "_deepnote_index_column": 4
        },
        {
         "animal": "guniea pig",
         "age": 2,
         "visits": 2,
         "priority": "False",
         "owner": 8,
         "_deepnote_index_column": 7
        }
       ],
       "rows_bottom": null
      },
      "text/plain": "       animal  age  visits  priority  owner\n3       kitty  NaN       4     False      3\n4      ferret  2.0       2     False      4\n7  guniea pig  2.0       2     False      8",
      "text/html": "<div>\n<style scoped>\n    .dataframe tbody tr th:only-of-type {\n        vertical-align: middle;\n    }\n\n    .dataframe tbody tr th {\n        vertical-align: top;\n    }\n\n    .dataframe thead th {\n        text-align: right;\n    }\n</style>\n<table border=\"1\" class=\"dataframe\">\n  <thead>\n    <tr style=\"text-align: right;\">\n      <th></th>\n      <th>animal</th>\n      <th>age</th>\n      <th>visits</th>\n      <th>priority</th>\n      <th>owner</th>\n    </tr>\n  </thead>\n  <tbody>\n    <tr>\n      <th>3</th>\n      <td>kitty</td>\n      <td>NaN</td>\n      <td>4</td>\n      <td>False</td>\n      <td>3</td>\n    </tr>\n    <tr>\n      <th>4</th>\n      <td>ferret</td>\n      <td>2.0</td>\n      <td>2</td>\n      <td>False</td>\n      <td>4</td>\n    </tr>\n    <tr>\n      <th>7</th>\n      <td>guniea pig</td>\n      <td>2.0</td>\n      <td>2</td>\n      <td>False</td>\n      <td>8</td>\n    </tr>\n  </tbody>\n</table>\n</div>"
     },
     "metadata": {}
    }
   ]
  },
  {
   "cell_type": "markdown",
   "source": "---\n6. Animal hospital wants to see all hamsters who are more than 1 years old.",
   "metadata": {
    "tags": [],
    "cell_id": "00009-e657f14f-f00e-4191-b971-8729448a1b1d",
    "deepnote_cell_type": "markdown"
   }
  },
  {
   "cell_type": "code",
   "metadata": {
    "tags": [],
    "cell_id": "00010-db70a907-9c90-4b49-af97-7bf8e86f1c26",
    "deepnote_to_be_reexecuted": false,
    "source_hash": "154ec053",
    "execution_start": 1625586789055,
    "execution_millis": 16,
    "deepnote_cell_type": "code"
   },
   "source": "df[(df[\"age\"] > 1) & (df[\"animal\"] == \"hamster\")]",
   "execution_count": null,
   "outputs": [
    {
     "output_type": "execute_result",
     "execution_count": 73,
     "data": {
      "application/vnd.deepnote.dataframe.v2+json": {
       "row_count": 1,
       "column_count": 5,
       "columns": [
        {
         "name": "animal",
         "dtype": "object",
         "stats": {
          "unique_count": 1,
          "nan_count": 0,
          "categories": [
           {
            "name": "hamster",
            "count": 1
           }
          ]
         }
        },
        {
         "name": "age",
         "dtype": "float64",
         "stats": {
          "unique_count": 1,
          "nan_count": 0,
          "min": "1.3",
          "max": "1.3",
          "histogram": [
           {
            "bin_start": 0.8,
            "bin_end": 0.9,
            "count": 0
           },
           {
            "bin_start": 0.9,
            "bin_end": 1,
            "count": 0
           },
           {
            "bin_start": 1,
            "bin_end": 1.1,
            "count": 0
           },
           {
            "bin_start": 1.1,
            "bin_end": 1.2000000000000002,
            "count": 0
           },
           {
            "bin_start": 1.2000000000000002,
            "bin_end": 1.3,
            "count": 0
           },
           {
            "bin_start": 1.3,
            "bin_end": 1.4000000000000001,
            "count": 1
           },
           {
            "bin_start": 1.4000000000000001,
            "bin_end": 1.5,
            "count": 0
           },
           {
            "bin_start": 1.5,
            "bin_end": 1.6,
            "count": 0
           },
           {
            "bin_start": 1.6,
            "bin_end": 1.7000000000000002,
            "count": 0
           },
           {
            "bin_start": 1.7000000000000002,
            "bin_end": 1.8,
            "count": 0
           }
          ]
         }
        },
        {
         "name": "visits",
         "dtype": "int64",
         "stats": {
          "unique_count": 1,
          "nan_count": 0,
          "min": "1",
          "max": "1",
          "histogram": [
           {
            "bin_start": 0.5,
            "bin_end": 0.6,
            "count": 0
           },
           {
            "bin_start": 0.6,
            "bin_end": 0.7,
            "count": 0
           },
           {
            "bin_start": 0.7,
            "bin_end": 0.8,
            "count": 0
           },
           {
            "bin_start": 0.8,
            "bin_end": 0.9,
            "count": 0
           },
           {
            "bin_start": 0.9,
            "bin_end": 1,
            "count": 0
           },
           {
            "bin_start": 1,
            "bin_end": 1.1,
            "count": 1
           },
           {
            "bin_start": 1.1,
            "bin_end": 1.2000000000000002,
            "count": 0
           },
           {
            "bin_start": 1.2000000000000002,
            "bin_end": 1.3,
            "count": 0
           },
           {
            "bin_start": 1.3,
            "bin_end": 1.4,
            "count": 0
           },
           {
            "bin_start": 1.4,
            "bin_end": 1.5,
            "count": 0
           }
          ]
         }
        },
        {
         "name": "priority",
         "dtype": "bool",
         "stats": {
          "unique_count": 1,
          "nan_count": 0,
          "categories": [
           {
            "name": "True",
            "count": 1
           }
          ]
         }
        },
        {
         "name": "owner",
         "dtype": "int64",
         "stats": {
          "unique_count": 1,
          "nan_count": 0,
          "min": "0",
          "max": "0",
          "histogram": [
           {
            "bin_start": -0.5,
            "bin_end": -0.4,
            "count": 0
           },
           {
            "bin_start": -0.4,
            "bin_end": -0.3,
            "count": 0
           },
           {
            "bin_start": -0.3,
            "bin_end": -0.19999999999999996,
            "count": 0
           },
           {
            "bin_start": -0.19999999999999996,
            "bin_end": -0.09999999999999998,
            "count": 0
           },
           {
            "bin_start": -0.09999999999999998,
            "bin_end": 0,
            "count": 0
           },
           {
            "bin_start": 0,
            "bin_end": 0.10000000000000009,
            "count": 1
           },
           {
            "bin_start": 0.10000000000000009,
            "bin_end": 0.20000000000000007,
            "count": 0
           },
           {
            "bin_start": 0.20000000000000007,
            "bin_end": 0.30000000000000004,
            "count": 0
           },
           {
            "bin_start": 0.30000000000000004,
            "bin_end": 0.4,
            "count": 0
           },
           {
            "bin_start": 0.4,
            "bin_end": 0.5,
            "count": 0
           }
          ]
         }
        },
        {
         "name": "_deepnote_index_column",
         "dtype": "int64"
        }
       ],
       "rows_top": [
        {
         "animal": "hamster",
         "age": 1.3,
         "visits": 1,
         "priority": "True",
         "owner": 0,
         "_deepnote_index_column": 1
        }
       ],
       "rows_bottom": null
      },
      "text/plain": "    animal  age  visits  priority  owner\n1  hamster  1.3       1      True      0",
      "text/html": "<div>\n<style scoped>\n    .dataframe tbody tr th:only-of-type {\n        vertical-align: middle;\n    }\n\n    .dataframe tbody tr th {\n        vertical-align: top;\n    }\n\n    .dataframe thead th {\n        text-align: right;\n    }\n</style>\n<table border=\"1\" class=\"dataframe\">\n  <thead>\n    <tr style=\"text-align: right;\">\n      <th></th>\n      <th>animal</th>\n      <th>age</th>\n      <th>visits</th>\n      <th>priority</th>\n      <th>owner</th>\n    </tr>\n  </thead>\n  <tbody>\n    <tr>\n      <th>1</th>\n      <td>hamster</td>\n      <td>1.3</td>\n      <td>1</td>\n      <td>True</td>\n      <td>0</td>\n    </tr>\n  </tbody>\n</table>\n</div>"
     },
     "metadata": {}
    }
   ]
  },
  {
   "cell_type": "markdown",
   "source": "---\n7. how many animal visits have there been in total?",
   "metadata": {
    "tags": [],
    "cell_id": "00011-5806acb1-f7cf-4a10-abc7-f4f1b0046e57",
    "deepnote_cell_type": "markdown"
   }
  },
  {
   "cell_type": "code",
   "metadata": {
    "tags": [],
    "cell_id": "00012-92d5f839-eaea-4726-83b5-9bbbc9275ae8",
    "deepnote_to_be_reexecuted": false,
    "source_hash": "f560e98d",
    "execution_start": 1625586800008,
    "execution_millis": 9,
    "deepnote_cell_type": "code"
   },
   "source": "df[\"visits\"].sum()",
   "execution_count": null,
   "outputs": [
    {
     "output_type": "execute_result",
     "execution_count": 74,
     "data": {
      "text/plain": "10"
     },
     "metadata": {}
    }
   ]
  },
  {
   "cell_type": "markdown",
   "source": "---\n8. How many animals of each species are registered in the hospital.",
   "metadata": {
    "tags": [],
    "cell_id": "00013-bd2be875-63bc-4799-a543-d6f0629ce891",
    "deepnote_cell_type": "markdown"
   }
  },
  {
   "cell_type": "code",
   "metadata": {
    "tags": [],
    "cell_id": "00014-edb71a47-b3b5-4410-8c11-fb223d2a08fa",
    "deepnote_to_be_reexecuted": false,
    "source_hash": "1f4e6e23",
    "execution_start": 1625586806689,
    "execution_millis": 7,
    "deepnote_cell_type": "code"
   },
   "source": "df[\"animal\"].value_counts()",
   "execution_count": null,
   "outputs": [
    {
     "output_type": "execute_result",
     "execution_count": 75,
     "data": {
      "text/plain": "hamster       3\nferret        1\nfish          1\nguniea pig    1\nkitty         1\ncobra         1\ncat           1\nName: animal, dtype: int64"
     },
     "metadata": {}
    }
   ]
  },
  {
   "cell_type": "markdown",
   "source": "---\n8.5 How many animal visits have there been per animal?",
   "metadata": {
    "tags": [],
    "cell_id": "00018-ef135e6f-fe28-4556-b405-aa673dff8a3e",
    "deepnote_cell_type": "markdown"
   }
  },
  {
   "cell_type": "code",
   "metadata": {
    "tags": [],
    "cell_id": "00020-d08cc3c4-727d-4047-9bf0-7e6e60bed108",
    "deepnote_to_be_reexecuted": false,
    "source_hash": "a776724e",
    "execution_start": 1625586857780,
    "execution_millis": 12,
    "deepnote_cell_type": "code"
   },
   "source": "df[[\"visits\",\"animal\"]].groupby(\"animal\").sum().sort_values(by=\"visits\", ascending=False)",
   "execution_count": null,
   "outputs": [
    {
     "output_type": "execute_result",
     "execution_count": 80,
     "data": {
      "application/vnd.deepnote.dataframe.v2+json": {
       "row_count": 7,
       "column_count": 1,
       "columns": [
        {
         "name": "visits",
         "dtype": "int64",
         "stats": {
          "unique_count": 4,
          "nan_count": 0,
          "min": "0",
          "max": "4",
          "histogram": [
           {
            "bin_start": 0,
            "bin_end": 0.4,
            "count": 2
           },
           {
            "bin_start": 0.4,
            "bin_end": 0.8,
            "count": 0
           },
           {
            "bin_start": 0.8,
            "bin_end": 1.2000000000000002,
            "count": 2
           },
           {
            "bin_start": 1.2000000000000002,
            "bin_end": 1.6,
            "count": 0
           },
           {
            "bin_start": 1.6,
            "bin_end": 2,
            "count": 0
           },
           {
            "bin_start": 2,
            "bin_end": 2.4000000000000004,
            "count": 2
           },
           {
            "bin_start": 2.4000000000000004,
            "bin_end": 2.8000000000000003,
            "count": 0
           },
           {
            "bin_start": 2.8000000000000003,
            "bin_end": 3.2,
            "count": 0
           },
           {
            "bin_start": 3.2,
            "bin_end": 3.6,
            "count": 0
           },
           {
            "bin_start": 3.6,
            "bin_end": 4,
            "count": 1
           }
          ]
         }
        },
        {
         "name": "_deepnote_index_column",
         "dtype": "object"
        }
       ],
       "rows_top": [
        {
         "visits": 4,
         "_deepnote_index_column": "kitty"
        },
        {
         "visits": 2,
         "_deepnote_index_column": "ferret"
        },
        {
         "visits": 2,
         "_deepnote_index_column": "guniea pig"
        },
        {
         "visits": 1,
         "_deepnote_index_column": "cat"
        },
        {
         "visits": 1,
         "_deepnote_index_column": "hamster"
        },
        {
         "visits": 0,
         "_deepnote_index_column": "cobra"
        },
        {
         "visits": 0,
         "_deepnote_index_column": "fish"
        }
       ],
       "rows_bottom": null
      },
      "text/plain": "            visits\nanimal            \nkitty            4\nferret           2\nguniea pig       2\ncat              1\nhamster          1\ncobra            0\nfish             0",
      "text/html": "<div>\n<style scoped>\n    .dataframe tbody tr th:only-of-type {\n        vertical-align: middle;\n    }\n\n    .dataframe tbody tr th {\n        vertical-align: top;\n    }\n\n    .dataframe thead th {\n        text-align: right;\n    }\n</style>\n<table border=\"1\" class=\"dataframe\">\n  <thead>\n    <tr style=\"text-align: right;\">\n      <th></th>\n      <th>visits</th>\n    </tr>\n    <tr>\n      <th>animal</th>\n      <th></th>\n    </tr>\n  </thead>\n  <tbody>\n    <tr>\n      <th>kitty</th>\n      <td>4</td>\n    </tr>\n    <tr>\n      <th>ferret</th>\n      <td>2</td>\n    </tr>\n    <tr>\n      <th>guniea pig</th>\n      <td>2</td>\n    </tr>\n    <tr>\n      <th>cat</th>\n      <td>1</td>\n    </tr>\n    <tr>\n      <th>hamster</th>\n      <td>1</td>\n    </tr>\n    <tr>\n      <th>cobra</th>\n      <td>0</td>\n    </tr>\n    <tr>\n      <th>fish</th>\n      <td>0</td>\n    </tr>\n  </tbody>\n</table>\n</div>"
     },
     "metadata": {}
    }
   ]
  },
  {
   "cell_type": "markdown",
   "source": "--- \n9. What is the average age of every animal?",
   "metadata": {
    "tags": [],
    "cell_id": "00013-fac1a489-1e1c-4a36-b5a0-40939008efde",
    "deepnote_cell_type": "markdown"
   }
  },
  {
   "cell_type": "code",
   "metadata": {
    "tags": [],
    "cell_id": "00014-2d145e8f-d7ac-4ff7-8573-5abd22a15ee5",
    "deepnote_to_be_reexecuted": false,
    "source_hash": "d738cc71",
    "execution_start": 1625570194570,
    "execution_millis": 41,
    "deepnote_cell_type": "code"
   },
   "source": "df[[\"age\",\"animal\"]].groupby(\"animal\").mean().sort_values(by=\"age\",ascending=False)",
   "execution_count": null,
   "outputs": [
    {
     "output_type": "execute_result",
     "execution_count": 16,
     "data": {
      "application/vnd.deepnote.dataframe.v2+json": {
       "row_count": 7,
       "column_count": 1,
       "columns": [
        {
         "name": "age",
         "dtype": "float64",
         "stats": {
          "unique_count": 6,
          "nan_count": 0,
          "min": "0.0",
          "max": "5.0",
          "histogram": [
           {
            "bin_start": 0,
            "bin_end": 0.5,
            "count": 1
           },
           {
            "bin_start": 0.5,
            "bin_end": 1,
            "count": 1
           },
           {
            "bin_start": 1,
            "bin_end": 1.5,
            "count": 1
           },
           {
            "bin_start": 1.5,
            "bin_end": 2,
            "count": 0
           },
           {
            "bin_start": 2,
            "bin_end": 2.5,
            "count": 2
           },
           {
            "bin_start": 2.5,
            "bin_end": 3,
            "count": 0
           },
           {
            "bin_start": 3,
            "bin_end": 3.5,
            "count": 1
           },
           {
            "bin_start": 3.5,
            "bin_end": 4,
            "count": 0
           },
           {
            "bin_start": 4,
            "bin_end": 4.5,
            "count": 0
           },
           {
            "bin_start": 4.5,
            "bin_end": 5,
            "count": 1
           }
          ]
         }
        },
        {
         "name": "_deepnote_index_column",
         "dtype": "object"
        }
       ],
       "rows_top": [
        {
         "age": 5,
         "_deepnote_index_column": "cat"
        },
        {
         "age": 3,
         "_deepnote_index_column": "fish"
        },
        {
         "age": 2,
         "_deepnote_index_column": "ferret"
        },
        {
         "age": 2,
         "_deepnote_index_column": "guniea pig"
        },
        {
         "age": 1,
         "_deepnote_index_column": "cobra"
        },
        {
         "age": 0.5,
         "_deepnote_index_column": "hamster"
        },
        {
         "age": 0,
         "_deepnote_index_column": "kitty"
        }
       ],
       "rows_bottom": null
      },
      "text/plain": "            age\nanimal         \ncat         5.0\nfish        3.0\nferret      2.0\nguniea pig  2.0\ncobra       1.0\nhamster     0.5\nkitty       0.0",
      "text/html": "<div>\n<style scoped>\n    .dataframe tbody tr th:only-of-type {\n        vertical-align: middle;\n    }\n\n    .dataframe tbody tr th {\n        vertical-align: top;\n    }\n\n    .dataframe thead th {\n        text-align: right;\n    }\n</style>\n<table border=\"1\" class=\"dataframe\">\n  <thead>\n    <tr style=\"text-align: right;\">\n      <th></th>\n      <th>age</th>\n    </tr>\n    <tr>\n      <th>animal</th>\n      <th></th>\n    </tr>\n  </thead>\n  <tbody>\n    <tr>\n      <th>cat</th>\n      <td>5.0</td>\n    </tr>\n    <tr>\n      <th>fish</th>\n      <td>3.0</td>\n    </tr>\n    <tr>\n      <th>ferret</th>\n      <td>2.0</td>\n    </tr>\n    <tr>\n      <th>guniea pig</th>\n      <td>2.0</td>\n    </tr>\n    <tr>\n      <th>cobra</th>\n      <td>1.0</td>\n    </tr>\n    <tr>\n      <th>hamster</th>\n      <td>0.5</td>\n    </tr>\n    <tr>\n      <th>kitty</th>\n      <td>0.0</td>\n    </tr>\n  </tbody>\n</table>\n</div>"
     },
     "metadata": {}
    }
   ]
  },
  {
   "cell_type": "markdown",
   "source": "---\n9.5. What is the min and max age of every registered animal?",
   "metadata": {
    "tags": [],
    "cell_id": "00020-24c99e9b-7728-4fdd-b0db-76cadaa76994",
    "deepnote_cell_type": "markdown"
   }
  },
  {
   "cell_type": "code",
   "metadata": {
    "tags": [],
    "cell_id": "00021-b8e96a56-b1eb-44c4-8faa-717779433b70",
    "deepnote_to_be_reexecuted": false,
    "source_hash": "75a2584f",
    "execution_start": 1625570196772,
    "execution_millis": 12,
    "deepnote_cell_type": "code"
   },
   "source": "df.groupby(\"animal\")[\"age\"].agg([\"min\",\"max\"])",
   "execution_count": null,
   "outputs": [
    {
     "output_type": "execute_result",
     "execution_count": 17,
     "data": {
      "application/vnd.deepnote.dataframe.v2+json": {
       "row_count": 7,
       "column_count": 2,
       "columns": [
        {
         "name": "min",
         "dtype": "int64",
         "stats": {
          "unique_count": 5,
          "nan_count": 0,
          "min": "0",
          "max": "5",
          "histogram": [
           {
            "bin_start": 0,
            "bin_end": 0.5,
            "count": 2
           },
           {
            "bin_start": 0.5,
            "bin_end": 1,
            "count": 0
           },
           {
            "bin_start": 1,
            "bin_end": 1.5,
            "count": 1
           },
           {
            "bin_start": 1.5,
            "bin_end": 2,
            "count": 0
           },
           {
            "bin_start": 2,
            "bin_end": 2.5,
            "count": 2
           },
           {
            "bin_start": 2.5,
            "bin_end": 3,
            "count": 0
           },
           {
            "bin_start": 3,
            "bin_end": 3.5,
            "count": 1
           },
           {
            "bin_start": 3.5,
            "bin_end": 4,
            "count": 0
           },
           {
            "bin_start": 4,
            "bin_end": 4.5,
            "count": 0
           },
           {
            "bin_start": 4.5,
            "bin_end": 5,
            "count": 1
           }
          ]
         }
        },
        {
         "name": "max",
         "dtype": "int64",
         "stats": {
          "unique_count": 5,
          "nan_count": 0,
          "min": "0",
          "max": "5",
          "histogram": [
           {
            "bin_start": 0,
            "bin_end": 0.5,
            "count": 1
           },
           {
            "bin_start": 0.5,
            "bin_end": 1,
            "count": 0
           },
           {
            "bin_start": 1,
            "bin_end": 1.5,
            "count": 2
           },
           {
            "bin_start": 1.5,
            "bin_end": 2,
            "count": 0
           },
           {
            "bin_start": 2,
            "bin_end": 2.5,
            "count": 2
           },
           {
            "bin_start": 2.5,
            "bin_end": 3,
            "count": 0
           },
           {
            "bin_start": 3,
            "bin_end": 3.5,
            "count": 1
           },
           {
            "bin_start": 3.5,
            "bin_end": 4,
            "count": 0
           },
           {
            "bin_start": 4,
            "bin_end": 4.5,
            "count": 0
           },
           {
            "bin_start": 4.5,
            "bin_end": 5,
            "count": 1
           }
          ]
         }
        },
        {
         "name": "_deepnote_index_column",
         "dtype": "object"
        }
       ],
       "rows_top": [
        {
         "min": 5,
         "max": 5,
         "_deepnote_index_column": "cat"
        },
        {
         "min": 1,
         "max": 1,
         "_deepnote_index_column": "cobra"
        },
        {
         "min": 2,
         "max": 2,
         "_deepnote_index_column": "ferret"
        },
        {
         "min": 3,
         "max": 3,
         "_deepnote_index_column": "fish"
        },
        {
         "min": 2,
         "max": 2,
         "_deepnote_index_column": "guniea pig"
        },
        {
         "min": 0,
         "max": 1,
         "_deepnote_index_column": "hamster"
        },
        {
         "min": 0,
         "max": 0,
         "_deepnote_index_column": "kitty"
        }
       ],
       "rows_bottom": null
      },
      "text/plain": "            min  max\nanimal              \ncat           5    5\ncobra         1    1\nferret        2    2\nfish          3    3\nguniea pig    2    2\nhamster       0    1\nkitty         0    0",
      "text/html": "<div>\n<style scoped>\n    .dataframe tbody tr th:only-of-type {\n        vertical-align: middle;\n    }\n\n    .dataframe tbody tr th {\n        vertical-align: top;\n    }\n\n    .dataframe thead th {\n        text-align: right;\n    }\n</style>\n<table border=\"1\" class=\"dataframe\">\n  <thead>\n    <tr style=\"text-align: right;\">\n      <th></th>\n      <th>min</th>\n      <th>max</th>\n    </tr>\n    <tr>\n      <th>animal</th>\n      <th></th>\n      <th></th>\n    </tr>\n  </thead>\n  <tbody>\n    <tr>\n      <th>cat</th>\n      <td>5</td>\n      <td>5</td>\n    </tr>\n    <tr>\n      <th>cobra</th>\n      <td>1</td>\n      <td>1</td>\n    </tr>\n    <tr>\n      <th>ferret</th>\n      <td>2</td>\n      <td>2</td>\n    </tr>\n    <tr>\n      <th>fish</th>\n      <td>3</td>\n      <td>3</td>\n    </tr>\n    <tr>\n      <th>guniea pig</th>\n      <td>2</td>\n      <td>2</td>\n    </tr>\n    <tr>\n      <th>hamster</th>\n      <td>0</td>\n      <td>1</td>\n    </tr>\n    <tr>\n      <th>kitty</th>\n      <td>0</td>\n      <td>0</td>\n    </tr>\n  </tbody>\n</table>\n</div>"
     },
     "metadata": {}
    }
   ]
  },
  {
   "cell_type": "markdown",
   "source": "---\nHospital vishes to add new registered animals to the data.\n\n\n10. Create a function `register_new_animal(df_original, animal, age, visits, priority, owner)` such that when called with these arguments, a new row with `animal, age, visits, priority, owner` is appended to `df_original`. `df_original` is then returned.",
   "metadata": {
    "tags": [],
    "cell_id": "00017-d52baebe-b3d6-4f72-815b-a0bb4441e29c",
    "deepnote_cell_type": "markdown"
   }
  },
  {
   "cell_type": "code",
   "metadata": {
    "tags": [],
    "cell_id": "00028-ea64f495-1834-4768-91f2-eee6bd6cd5ee",
    "deepnote_to_be_reexecuted": false,
    "source_hash": "838c0c28",
    "execution_start": 1625587352405,
    "execution_millis": 10,
    "deepnote_cell_type": "code"
   },
   "source": "df.tail()",
   "execution_count": null,
   "outputs": [
    {
     "output_type": "execute_result",
     "execution_count": 96,
     "data": {
      "application/vnd.deepnote.dataframe.v2+json": {
       "row_count": 5,
       "column_count": 5,
       "columns": [
        {
         "name": "animal",
         "dtype": "object",
         "stats": {
          "unique_count": 5,
          "nan_count": 0,
          "categories": [
           {
            "name": "ferret",
            "count": 1
           },
           {
            "name": "cat",
            "count": 1
           },
           {
            "name": "3 others",
            "count": 3
           }
          ]
         }
        },
        {
         "name": "age",
         "dtype": "float64",
         "stats": {
          "unique_count": 3,
          "nan_count": 1,
          "min": "1.2",
          "max": "5.0",
          "histogram": [
           {
            "bin_start": 1.2,
            "bin_end": 1.58,
            "count": 1
           },
           {
            "bin_start": 1.58,
            "bin_end": 1.96,
            "count": 0
           },
           {
            "bin_start": 1.96,
            "bin_end": 2.34,
            "count": 2
           },
           {
            "bin_start": 2.34,
            "bin_end": 2.7199999999999998,
            "count": 0
           },
           {
            "bin_start": 2.7199999999999998,
            "bin_end": 3.0999999999999996,
            "count": 0
           },
           {
            "bin_start": 3.0999999999999996,
            "bin_end": 3.4800000000000004,
            "count": 0
           },
           {
            "bin_start": 3.4800000000000004,
            "bin_end": 3.8600000000000003,
            "count": 0
           },
           {
            "bin_start": 3.8600000000000003,
            "bin_end": 4.24,
            "count": 0
           },
           {
            "bin_start": 4.24,
            "bin_end": 4.62,
            "count": 0
           },
           {
            "bin_start": 4.62,
            "bin_end": 5,
            "count": 1
           }
          ]
         }
        },
        {
         "name": "visits",
         "dtype": "int64",
         "stats": {
          "unique_count": 3,
          "nan_count": 0,
          "min": "0",
          "max": "2",
          "histogram": [
           {
            "bin_start": 0,
            "bin_end": 0.2,
            "count": 2
           },
           {
            "bin_start": 0.2,
            "bin_end": 0.4,
            "count": 0
           },
           {
            "bin_start": 0.4,
            "bin_end": 0.6000000000000001,
            "count": 0
           },
           {
            "bin_start": 0.6000000000000001,
            "bin_end": 0.8,
            "count": 0
           },
           {
            "bin_start": 0.8,
            "bin_end": 1,
            "count": 0
           },
           {
            "bin_start": 1,
            "bin_end": 1.2000000000000002,
            "count": 1
           },
           {
            "bin_start": 1.2000000000000002,
            "bin_end": 1.4000000000000001,
            "count": 0
           },
           {
            "bin_start": 1.4000000000000001,
            "bin_end": 1.6,
            "count": 0
           },
           {
            "bin_start": 1.6,
            "bin_end": 1.8,
            "count": 0
           },
           {
            "bin_start": 1.8,
            "bin_end": 2,
            "count": 2
           }
          ]
         }
        },
        {
         "name": "priority",
         "dtype": "bool",
         "stats": {
          "unique_count": 2,
          "nan_count": 0,
          "categories": [
           {
            "name": "False",
            "count": 4
           },
           {
            "name": "True",
            "count": 1
           }
          ]
         }
        },
        {
         "name": "owner",
         "dtype": "int64",
         "stats": {
          "unique_count": 5,
          "nan_count": 0,
          "min": "4",
          "max": "8",
          "histogram": [
           {
            "bin_start": 4,
            "bin_end": 4.4,
            "count": 1
           },
           {
            "bin_start": 4.4,
            "bin_end": 4.8,
            "count": 0
           },
           {
            "bin_start": 4.8,
            "bin_end": 5.2,
            "count": 1
           },
           {
            "bin_start": 5.2,
            "bin_end": 5.6,
            "count": 0
           },
           {
            "bin_start": 5.6,
            "bin_end": 6,
            "count": 0
           },
           {
            "bin_start": 6,
            "bin_end": 6.4,
            "count": 1
           },
           {
            "bin_start": 6.4,
            "bin_end": 6.800000000000001,
            "count": 0
           },
           {
            "bin_start": 6.800000000000001,
            "bin_end": 7.2,
            "count": 1
           },
           {
            "bin_start": 7.2,
            "bin_end": 7.6,
            "count": 0
           },
           {
            "bin_start": 7.6,
            "bin_end": 8,
            "count": 1
           }
          ]
         }
        },
        {
         "name": "_deepnote_index_column",
         "dtype": "int64"
        }
       ],
       "rows_top": [
        {
         "animal": "ferret",
         "age": 2,
         "visits": 2,
         "priority": "False",
         "owner": 4,
         "_deepnote_index_column": 4
        },
        {
         "animal": "cat",
         "age": 5,
         "visits": 1,
         "priority": "True",
         "owner": 5,
         "_deepnote_index_column": 5
        },
        {
         "animal": "cobra",
         "age": 1.2,
         "visits": 0,
         "priority": "False",
         "owner": 7,
         "_deepnote_index_column": 6
        },
        {
         "animal": "guniea pig",
         "age": 2,
         "visits": 2,
         "priority": "False",
         "owner": 8,
         "_deepnote_index_column": 7
        },
        {
         "animal": "hamster",
         "age": "nan",
         "visits": 0,
         "priority": "False",
         "owner": 6,
         "_deepnote_index_column": 8
        }
       ],
       "rows_bottom": null
      },
      "text/plain": "       animal  age  visits  priority  owner\n4      ferret  2.0       2     False      4\n5         cat  5.0       1      True      5\n6       cobra  1.2       0     False      7\n7  guniea pig  2.0       2     False      8\n8     hamster  NaN       0     False      6",
      "text/html": "<div>\n<style scoped>\n    .dataframe tbody tr th:only-of-type {\n        vertical-align: middle;\n    }\n\n    .dataframe tbody tr th {\n        vertical-align: top;\n    }\n\n    .dataframe thead th {\n        text-align: right;\n    }\n</style>\n<table border=\"1\" class=\"dataframe\">\n  <thead>\n    <tr style=\"text-align: right;\">\n      <th></th>\n      <th>animal</th>\n      <th>age</th>\n      <th>visits</th>\n      <th>priority</th>\n      <th>owner</th>\n    </tr>\n  </thead>\n  <tbody>\n    <tr>\n      <th>4</th>\n      <td>ferret</td>\n      <td>2.0</td>\n      <td>2</td>\n      <td>False</td>\n      <td>4</td>\n    </tr>\n    <tr>\n      <th>5</th>\n      <td>cat</td>\n      <td>5.0</td>\n      <td>1</td>\n      <td>True</td>\n      <td>5</td>\n    </tr>\n    <tr>\n      <th>6</th>\n      <td>cobra</td>\n      <td>1.2</td>\n      <td>0</td>\n      <td>False</td>\n      <td>7</td>\n    </tr>\n    <tr>\n      <th>7</th>\n      <td>guniea pig</td>\n      <td>2.0</td>\n      <td>2</td>\n      <td>False</td>\n      <td>8</td>\n    </tr>\n    <tr>\n      <th>8</th>\n      <td>hamster</td>\n      <td>NaN</td>\n      <td>0</td>\n      <td>False</td>\n      <td>6</td>\n    </tr>\n  </tbody>\n</table>\n</div>"
     },
     "metadata": {}
    }
   ]
  },
  {
   "cell_type": "code",
   "metadata": {
    "tags": [],
    "cell_id": "00018-8d2af2cd-23a8-48f6-929e-b85cdb358247",
    "deepnote_to_be_reexecuted": false,
    "source_hash": "bb695307",
    "execution_start": 1625587816377,
    "execution_millis": 13,
    "deepnote_cell_type": "code"
   },
   "source": "def register_new_animal(df_original, animal, age, visits, priority, owner):\n    \"\"\" append a new row with animal, age, visits, priority, owner... and append it to df_original\n        code below here \"\"\"\n    if priority == \"no\" or \"False\":\n        priority = False\n    elif priority == \"yes\" or \"True\":\n        priority = True\n    else:\n        priority = np.nan\n        \n    print(animal, age, visits, priority, owner)\n    _data = [[animal, age, visits, priority, owner]]\n    _data = pd.DataFrame(_data, columns=df_original.columns)\n\n    df_original = df_original.append(_data).reset_index(drop=True)\n\n    return df_original\n\ncoki = register_new_animal(df, \"fish\", 0.4, 0, \"no\", 1)\ncoki.tail()",
   "execution_count": null,
   "outputs": [
    {
     "name": "stdout",
     "text": "fish 0.4 0 False 1\n",
     "output_type": "stream"
    },
    {
     "output_type": "execute_result",
     "execution_count": 112,
     "data": {
      "application/vnd.deepnote.dataframe.v2+json": {
       "row_count": 5,
       "column_count": 5,
       "columns": [
        {
         "name": "animal",
         "dtype": "object",
         "stats": {
          "unique_count": 5,
          "nan_count": 0,
          "categories": [
           {
            "name": "cat",
            "count": 1
           },
           {
            "name": "cobra",
            "count": 1
           },
           {
            "name": "3 others",
            "count": 3
           }
          ]
         }
        },
        {
         "name": "age",
         "dtype": "float64",
         "stats": {
          "unique_count": 4,
          "nan_count": 1,
          "min": "0.4",
          "max": "5.0",
          "histogram": [
           {
            "bin_start": 0.4,
            "bin_end": 0.86,
            "count": 1
           },
           {
            "bin_start": 0.86,
            "bin_end": 1.3199999999999998,
            "count": 1
           },
           {
            "bin_start": 1.3199999999999998,
            "bin_end": 1.7799999999999998,
            "count": 0
           },
           {
            "bin_start": 1.7799999999999998,
            "bin_end": 2.2399999999999998,
            "count": 1
           },
           {
            "bin_start": 2.2399999999999998,
            "bin_end": 2.6999999999999997,
            "count": 0
           },
           {
            "bin_start": 2.6999999999999997,
            "bin_end": 3.1599999999999997,
            "count": 0
           },
           {
            "bin_start": 3.1599999999999997,
            "bin_end": 3.6199999999999997,
            "count": 0
           },
           {
            "bin_start": 3.6199999999999997,
            "bin_end": 4.08,
            "count": 0
           },
           {
            "bin_start": 4.08,
            "bin_end": 4.54,
            "count": 0
           },
           {
            "bin_start": 4.54,
            "bin_end": 5,
            "count": 1
           }
          ]
         }
        },
        {
         "name": "visits",
         "dtype": "int64",
         "stats": {
          "unique_count": 3,
          "nan_count": 0,
          "min": "0",
          "max": "2",
          "histogram": [
           {
            "bin_start": 0,
            "bin_end": 0.2,
            "count": 3
           },
           {
            "bin_start": 0.2,
            "bin_end": 0.4,
            "count": 0
           },
           {
            "bin_start": 0.4,
            "bin_end": 0.6000000000000001,
            "count": 0
           },
           {
            "bin_start": 0.6000000000000001,
            "bin_end": 0.8,
            "count": 0
           },
           {
            "bin_start": 0.8,
            "bin_end": 1,
            "count": 0
           },
           {
            "bin_start": 1,
            "bin_end": 1.2000000000000002,
            "count": 1
           },
           {
            "bin_start": 1.2000000000000002,
            "bin_end": 1.4000000000000001,
            "count": 0
           },
           {
            "bin_start": 1.4000000000000001,
            "bin_end": 1.6,
            "count": 0
           },
           {
            "bin_start": 1.6,
            "bin_end": 1.8,
            "count": 0
           },
           {
            "bin_start": 1.8,
            "bin_end": 2,
            "count": 1
           }
          ]
         }
        },
        {
         "name": "priority",
         "dtype": "bool",
         "stats": {
          "unique_count": 2,
          "nan_count": 0,
          "categories": [
           {
            "name": "False",
            "count": 4
           },
           {
            "name": "True",
            "count": 1
           }
          ]
         }
        },
        {
         "name": "owner",
         "dtype": "int64",
         "stats": {
          "unique_count": 5,
          "nan_count": 0,
          "min": "1",
          "max": "8",
          "histogram": [
           {
            "bin_start": 1,
            "bin_end": 1.7,
            "count": 1
           },
           {
            "bin_start": 1.7,
            "bin_end": 2.4,
            "count": 0
           },
           {
            "bin_start": 2.4,
            "bin_end": 3.0999999999999996,
            "count": 0
           },
           {
            "bin_start": 3.0999999999999996,
            "bin_end": 3.8,
            "count": 0
           },
           {
            "bin_start": 3.8,
            "bin_end": 4.5,
            "count": 0
           },
           {
            "bin_start": 4.5,
            "bin_end": 5.199999999999999,
            "count": 1
           },
           {
            "bin_start": 5.199999999999999,
            "bin_end": 5.8999999999999995,
            "count": 0
           },
           {
            "bin_start": 5.8999999999999995,
            "bin_end": 6.6,
            "count": 1
           },
           {
            "bin_start": 6.6,
            "bin_end": 7.3,
            "count": 1
           },
           {
            "bin_start": 7.3,
            "bin_end": 8,
            "count": 1
           }
          ]
         }
        },
        {
         "name": "_deepnote_index_column",
         "dtype": "int64"
        }
       ],
       "rows_top": [
        {
         "animal": "cat",
         "age": 5,
         "visits": 1,
         "priority": "True",
         "owner": 5,
         "_deepnote_index_column": 5
        },
        {
         "animal": "cobra",
         "age": 1.2,
         "visits": 0,
         "priority": "False",
         "owner": 7,
         "_deepnote_index_column": 6
        },
        {
         "animal": "guniea pig",
         "age": 2,
         "visits": 2,
         "priority": "False",
         "owner": 8,
         "_deepnote_index_column": 7
        },
        {
         "animal": "hamster",
         "age": "nan",
         "visits": 0,
         "priority": "False",
         "owner": 6,
         "_deepnote_index_column": 8
        },
        {
         "animal": "fish",
         "age": 0.4,
         "visits": 0,
         "priority": "False",
         "owner": 1,
         "_deepnote_index_column": 9
        }
       ],
       "rows_bottom": null
      },
      "text/plain": "       animal  age  visits  priority  owner\n5         cat  5.0       1      True      5\n6       cobra  1.2       0     False      7\n7  guniea pig  2.0       2     False      8\n8     hamster  NaN       0     False      6\n9        fish  0.4       0     False      1",
      "text/html": "<div>\n<style scoped>\n    .dataframe tbody tr th:only-of-type {\n        vertical-align: middle;\n    }\n\n    .dataframe tbody tr th {\n        vertical-align: top;\n    }\n\n    .dataframe thead th {\n        text-align: right;\n    }\n</style>\n<table border=\"1\" class=\"dataframe\">\n  <thead>\n    <tr style=\"text-align: right;\">\n      <th></th>\n      <th>animal</th>\n      <th>age</th>\n      <th>visits</th>\n      <th>priority</th>\n      <th>owner</th>\n    </tr>\n  </thead>\n  <tbody>\n    <tr>\n      <th>5</th>\n      <td>cat</td>\n      <td>5.0</td>\n      <td>1</td>\n      <td>True</td>\n      <td>5</td>\n    </tr>\n    <tr>\n      <th>6</th>\n      <td>cobra</td>\n      <td>1.2</td>\n      <td>0</td>\n      <td>False</td>\n      <td>7</td>\n    </tr>\n    <tr>\n      <th>7</th>\n      <td>guniea pig</td>\n      <td>2.0</td>\n      <td>2</td>\n      <td>False</td>\n      <td>8</td>\n    </tr>\n    <tr>\n      <th>8</th>\n      <td>hamster</td>\n      <td>NaN</td>\n      <td>0</td>\n      <td>False</td>\n      <td>6</td>\n    </tr>\n    <tr>\n      <th>9</th>\n      <td>fish</td>\n      <td>0.4</td>\n      <td>0</td>\n      <td>False</td>\n      <td>1</td>\n    </tr>\n  </tbody>\n</table>\n</div>"
     },
     "metadata": {}
    }
   ]
  },
  {
   "cell_type": "markdown",
   "source": "---\n11. Hospital wants to see animals by age, oldest being first.",
   "metadata": {
    "tags": [],
    "cell_id": "00025-10c6594b-c30a-4187-b6fd-d30e1266dd3f",
    "deepnote_cell_type": "markdown"
   }
  },
  {
   "cell_type": "code",
   "metadata": {
    "tags": [],
    "cell_id": "00020-1b778912-e0a8-411c-9788-426cede365e7",
    "deepnote_to_be_reexecuted": false,
    "source_hash": "31e76bfc",
    "execution_start": 1625587836201,
    "execution_millis": 27,
    "deepnote_cell_type": "code"
   },
   "source": "\ndf[[\"age\",\"animal\"]].groupby(\"animal\").sum().sort_values(by=\"age\",ascending=False)",
   "execution_count": null,
   "outputs": [
    {
     "output_type": "execute_result",
     "execution_count": 113,
     "data": {
      "application/vnd.deepnote.dataframe.v2+json": {
       "row_count": 7,
       "column_count": 1,
       "columns": [
        {
         "name": "age",
         "dtype": "float64",
         "stats": {
          "unique_count": 6,
          "nan_count": 0,
          "min": "0.0",
          "max": "5.0",
          "histogram": [
           {
            "bin_start": 0,
            "bin_end": 0.5,
            "count": 1
           },
           {
            "bin_start": 0.5,
            "bin_end": 1,
            "count": 0
           },
           {
            "bin_start": 1,
            "bin_end": 1.5,
            "count": 1
           },
           {
            "bin_start": 1.5,
            "bin_end": 2,
            "count": 1
           },
           {
            "bin_start": 2,
            "bin_end": 2.5,
            "count": 2
           },
           {
            "bin_start": 2.5,
            "bin_end": 3,
            "count": 0
           },
           {
            "bin_start": 3,
            "bin_end": 3.5,
            "count": 1
           },
           {
            "bin_start": 3.5,
            "bin_end": 4,
            "count": 0
           },
           {
            "bin_start": 4,
            "bin_end": 4.5,
            "count": 0
           },
           {
            "bin_start": 4.5,
            "bin_end": 5,
            "count": 1
           }
          ]
         }
        },
        {
         "name": "_deepnote_index_column",
         "dtype": "object"
        }
       ],
       "rows_top": [
        {
         "age": 5,
         "_deepnote_index_column": "cat"
        },
        {
         "age": 3,
         "_deepnote_index_column": "fish"
        },
        {
         "age": 2,
         "_deepnote_index_column": "ferret"
        },
        {
         "age": 2,
         "_deepnote_index_column": "guniea pig"
        },
        {
         "age": 1.8,
         "_deepnote_index_column": "hamster"
        },
        {
         "age": 1.2,
         "_deepnote_index_column": "cobra"
        },
        {
         "age": 0,
         "_deepnote_index_column": "kitty"
        }
       ],
       "rows_bottom": null
      },
      "text/plain": "            age\nanimal         \ncat         5.0\nfish        3.0\nferret      2.0\nguniea pig  2.0\nhamster     1.8\ncobra       1.2\nkitty       0.0",
      "text/html": "<div>\n<style scoped>\n    .dataframe tbody tr th:only-of-type {\n        vertical-align: middle;\n    }\n\n    .dataframe tbody tr th {\n        vertical-align: top;\n    }\n\n    .dataframe thead th {\n        text-align: right;\n    }\n</style>\n<table border=\"1\" class=\"dataframe\">\n  <thead>\n    <tr style=\"text-align: right;\">\n      <th></th>\n      <th>age</th>\n    </tr>\n    <tr>\n      <th>animal</th>\n      <th></th>\n    </tr>\n  </thead>\n  <tbody>\n    <tr>\n      <th>cat</th>\n      <td>5.0</td>\n    </tr>\n    <tr>\n      <th>fish</th>\n      <td>3.0</td>\n    </tr>\n    <tr>\n      <th>ferret</th>\n      <td>2.0</td>\n    </tr>\n    <tr>\n      <th>guniea pig</th>\n      <td>2.0</td>\n    </tr>\n    <tr>\n      <th>hamster</th>\n      <td>1.8</td>\n    </tr>\n    <tr>\n      <th>cobra</th>\n      <td>1.2</td>\n    </tr>\n    <tr>\n      <th>kitty</th>\n      <td>0.0</td>\n    </tr>\n  </tbody>\n</table>\n</div>"
     },
     "metadata": {}
    }
   ]
  },
  {
   "cell_type": "markdown",
   "source": "---\n12. Hospital wants to see animals by number of visits - most visited, and if there are multiple same animals then they want to see those by age - youngest first.",
   "metadata": {
    "tags": [],
    "cell_id": "00021-3cbecea4-d5d1-4dd2-94e7-5d3fd05047a3",
    "deepnote_cell_type": "markdown"
   }
  },
  {
   "cell_type": "code",
   "metadata": {
    "tags": [],
    "cell_id": "00022-9c24818f-27c4-485c-9d7d-bb91c8cb00a5",
    "deepnote_to_be_reexecuted": false,
    "source_hash": "30622bb5",
    "execution_start": 1625570206364,
    "execution_millis": 62,
    "deepnote_cell_type": "code"
   },
   "source": "df[[\"visits\",\"animal\",\"age\"]].groupby(\"animal\").sum().sort_values(by=\"visits\",ascending=False)",
   "execution_count": null,
   "outputs": [
    {
     "output_type": "execute_result",
     "execution_count": 20,
     "data": {
      "application/vnd.deepnote.dataframe.v2+json": {
       "row_count": 7,
       "column_count": 2,
       "columns": [
        {
         "name": "visits",
         "dtype": "int64",
         "stats": {
          "unique_count": 4,
          "nan_count": 0,
          "min": "0",
          "max": "4",
          "histogram": [
           {
            "bin_start": 0,
            "bin_end": 0.4,
            "count": 2
           },
           {
            "bin_start": 0.4,
            "bin_end": 0.8,
            "count": 0
           },
           {
            "bin_start": 0.8,
            "bin_end": 1.2000000000000002,
            "count": 2
           },
           {
            "bin_start": 1.2000000000000002,
            "bin_end": 1.6,
            "count": 0
           },
           {
            "bin_start": 1.6,
            "bin_end": 2,
            "count": 0
           },
           {
            "bin_start": 2,
            "bin_end": 2.4000000000000004,
            "count": 2
           },
           {
            "bin_start": 2.4000000000000004,
            "bin_end": 2.8000000000000003,
            "count": 0
           },
           {
            "bin_start": 2.8000000000000003,
            "bin_end": 3.2,
            "count": 0
           },
           {
            "bin_start": 3.2,
            "bin_end": 3.6,
            "count": 0
           },
           {
            "bin_start": 3.6,
            "bin_end": 4,
            "count": 1
           }
          ]
         }
        },
        {
         "name": "age",
         "dtype": "float64",
         "stats": {
          "unique_count": 5,
          "nan_count": 0,
          "min": "0.0",
          "max": "5.0",
          "histogram": [
           {
            "bin_start": 0,
            "bin_end": 0.5,
            "count": 1
           },
           {
            "bin_start": 0.5,
            "bin_end": 1,
            "count": 0
           },
           {
            "bin_start": 1,
            "bin_end": 1.5,
            "count": 2
           },
           {
            "bin_start": 1.5,
            "bin_end": 2,
            "count": 0
           },
           {
            "bin_start": 2,
            "bin_end": 2.5,
            "count": 2
           },
           {
            "bin_start": 2.5,
            "bin_end": 3,
            "count": 0
           },
           {
            "bin_start": 3,
            "bin_end": 3.5,
            "count": 1
           },
           {
            "bin_start": 3.5,
            "bin_end": 4,
            "count": 0
           },
           {
            "bin_start": 4,
            "bin_end": 4.5,
            "count": 0
           },
           {
            "bin_start": 4.5,
            "bin_end": 5,
            "count": 1
           }
          ]
         }
        },
        {
         "name": "_deepnote_index_column",
         "dtype": "object"
        }
       ],
       "rows_top": [
        {
         "visits": 4,
         "age": 0,
         "_deepnote_index_column": "kitty"
        },
        {
         "visits": 2,
         "age": 2,
         "_deepnote_index_column": "ferret"
        },
        {
         "visits": 2,
         "age": 2,
         "_deepnote_index_column": "guniea pig"
        },
        {
         "visits": 1,
         "age": 5,
         "_deepnote_index_column": "cat"
        },
        {
         "visits": 1,
         "age": 1,
         "_deepnote_index_column": "hamster"
        },
        {
         "visits": 0,
         "age": 1,
         "_deepnote_index_column": "cobra"
        },
        {
         "visits": 0,
         "age": 3.4,
         "_deepnote_index_column": "fish"
        }
       ],
       "rows_bottom": null
      },
      "text/plain": "            visits  age\nanimal                 \nkitty            4  0.0\nferret           2  2.0\nguniea pig       2  2.0\ncat              1  5.0\nhamster          1  1.0\ncobra            0  1.0\nfish             0  3.4",
      "text/html": "<div>\n<style scoped>\n    .dataframe tbody tr th:only-of-type {\n        vertical-align: middle;\n    }\n\n    .dataframe tbody tr th {\n        vertical-align: top;\n    }\n\n    .dataframe thead th {\n        text-align: right;\n    }\n</style>\n<table border=\"1\" class=\"dataframe\">\n  <thead>\n    <tr style=\"text-align: right;\">\n      <th></th>\n      <th>visits</th>\n      <th>age</th>\n    </tr>\n    <tr>\n      <th>animal</th>\n      <th></th>\n      <th></th>\n    </tr>\n  </thead>\n  <tbody>\n    <tr>\n      <th>kitty</th>\n      <td>4</td>\n      <td>0.0</td>\n    </tr>\n    <tr>\n      <th>ferret</th>\n      <td>2</td>\n      <td>2.0</td>\n    </tr>\n    <tr>\n      <th>guniea pig</th>\n      <td>2</td>\n      <td>2.0</td>\n    </tr>\n    <tr>\n      <th>cat</th>\n      <td>1</td>\n      <td>5.0</td>\n    </tr>\n    <tr>\n      <th>hamster</th>\n      <td>1</td>\n      <td>1.0</td>\n    </tr>\n    <tr>\n      <th>cobra</th>\n      <td>0</td>\n      <td>1.0</td>\n    </tr>\n    <tr>\n      <th>fish</th>\n      <td>0</td>\n      <td>3.4</td>\n    </tr>\n  </tbody>\n</table>\n</div>"
     },
     "metadata": {}
    }
   ]
  },
  {
   "cell_type": "markdown",
   "source": "---\n13.  Change of all occurances of `kitty` in `animal` column to `cat`",
   "metadata": {
    "tags": [],
    "cell_id": "00023-9ff367f8-b665-4e27-8b26-94dd1284e3f7",
    "deepnote_cell_type": "markdown"
   }
  },
  {
   "cell_type": "code",
   "metadata": {
    "tags": [],
    "cell_id": "00027-3f6d5596-c64b-4135-9617-bf4d5295ddf0",
    "deepnote_to_be_reexecuted": false,
    "source_hash": "333d9038",
    "execution_start": 1625587840903,
    "execution_millis": 13,
    "deepnote_cell_type": "code"
   },
   "source": "df['animal'] = df['animal'].replace(\"kitty\", \"cat\")\ndf\n",
   "execution_count": null,
   "outputs": [
    {
     "output_type": "execute_result",
     "execution_count": 114,
     "data": {
      "application/vnd.deepnote.dataframe.v2+json": {
       "row_count": 9,
       "column_count": 5,
       "columns": [
        {
         "name": "animal",
         "dtype": "object",
         "stats": {
          "unique_count": 6,
          "nan_count": 0,
          "categories": [
           {
            "name": "hamster",
            "count": 3
           },
           {
            "name": "cat",
            "count": 2
           },
           {
            "name": "4 others",
            "count": 4
           }
          ]
         }
        },
        {
         "name": "age",
         "dtype": "float64",
         "stats": {
          "unique_count": 6,
          "nan_count": 2,
          "min": "0.5",
          "max": "5.0",
          "histogram": [
           {
            "bin_start": 0.5,
            "bin_end": 0.95,
            "count": 1
           },
           {
            "bin_start": 0.95,
            "bin_end": 1.4,
            "count": 2
           },
           {
            "bin_start": 1.4,
            "bin_end": 1.85,
            "count": 0
           },
           {
            "bin_start": 1.85,
            "bin_end": 2.3,
            "count": 2
           },
           {
            "bin_start": 2.3,
            "bin_end": 2.75,
            "count": 0
           },
           {
            "bin_start": 2.75,
            "bin_end": 3.2,
            "count": 1
           },
           {
            "bin_start": 3.2,
            "bin_end": 3.65,
            "count": 0
           },
           {
            "bin_start": 3.65,
            "bin_end": 4.1,
            "count": 0
           },
           {
            "bin_start": 4.1,
            "bin_end": 4.55,
            "count": 0
           },
           {
            "bin_start": 4.55,
            "bin_end": 5,
            "count": 1
           }
          ]
         }
        },
        {
         "name": "visits",
         "dtype": "int64",
         "stats": {
          "unique_count": 4,
          "nan_count": 0,
          "min": "0",
          "max": "4",
          "histogram": [
           {
            "bin_start": 0,
            "bin_end": 0.4,
            "count": 4
           },
           {
            "bin_start": 0.4,
            "bin_end": 0.8,
            "count": 0
           },
           {
            "bin_start": 0.8,
            "bin_end": 1.2000000000000002,
            "count": 2
           },
           {
            "bin_start": 1.2000000000000002,
            "bin_end": 1.6,
            "count": 0
           },
           {
            "bin_start": 1.6,
            "bin_end": 2,
            "count": 0
           },
           {
            "bin_start": 2,
            "bin_end": 2.4000000000000004,
            "count": 2
           },
           {
            "bin_start": 2.4000000000000004,
            "bin_end": 2.8000000000000003,
            "count": 0
           },
           {
            "bin_start": 2.8000000000000003,
            "bin_end": 3.2,
            "count": 0
           },
           {
            "bin_start": 3.2,
            "bin_end": 3.6,
            "count": 0
           },
           {
            "bin_start": 3.6,
            "bin_end": 4,
            "count": 1
           }
          ]
         }
        },
        {
         "name": "priority",
         "dtype": "bool",
         "stats": {
          "unique_count": 2,
          "nan_count": 0,
          "categories": [
           {
            "name": "False",
            "count": 5
           },
           {
            "name": "True",
            "count": 4
           }
          ]
         }
        },
        {
         "name": "owner",
         "dtype": "int64",
         "stats": {
          "unique_count": 8,
          "nan_count": 0,
          "min": "0",
          "max": "8",
          "histogram": [
           {
            "bin_start": 0,
            "bin_end": 0.8,
            "count": 2
           },
           {
            "bin_start": 0.8,
            "bin_end": 1.6,
            "count": 1
           },
           {
            "bin_start": 1.6,
            "bin_end": 2.4000000000000004,
            "count": 0
           },
           {
            "bin_start": 2.4000000000000004,
            "bin_end": 3.2,
            "count": 1
           },
           {
            "bin_start": 3.2,
            "bin_end": 4,
            "count": 0
           },
           {
            "bin_start": 4,
            "bin_end": 4.800000000000001,
            "count": 1
           },
           {
            "bin_start": 4.800000000000001,
            "bin_end": 5.6000000000000005,
            "count": 1
           },
           {
            "bin_start": 5.6000000000000005,
            "bin_end": 6.4,
            "count": 1
           },
           {
            "bin_start": 6.4,
            "bin_end": 7.2,
            "count": 1
           },
           {
            "bin_start": 7.2,
            "bin_end": 8,
            "count": 1
           }
          ]
         }
        },
        {
         "name": "_deepnote_index_column",
         "dtype": "int64"
        }
       ],
       "rows_top": [
        {
         "animal": "hamster",
         "age": 0.5,
         "visits": 0,
         "priority": "True",
         "owner": 0,
         "_deepnote_index_column": 0
        },
        {
         "animal": "hamster",
         "age": 1.3,
         "visits": 1,
         "priority": "True",
         "owner": 0,
         "_deepnote_index_column": 1
        },
        {
         "animal": "fish",
         "age": 3,
         "visits": 0,
         "priority": "True",
         "owner": 1,
         "_deepnote_index_column": 2
        },
        {
         "animal": "cat",
         "age": "nan",
         "visits": 4,
         "priority": "False",
         "owner": 3,
         "_deepnote_index_column": 3
        },
        {
         "animal": "ferret",
         "age": 2,
         "visits": 2,
         "priority": "False",
         "owner": 4,
         "_deepnote_index_column": 4
        },
        {
         "animal": "cat",
         "age": 5,
         "visits": 1,
         "priority": "True",
         "owner": 5,
         "_deepnote_index_column": 5
        },
        {
         "animal": "cobra",
         "age": 1.2,
         "visits": 0,
         "priority": "False",
         "owner": 7,
         "_deepnote_index_column": 6
        },
        {
         "animal": "guniea pig",
         "age": 2,
         "visits": 2,
         "priority": "False",
         "owner": 8,
         "_deepnote_index_column": 7
        },
        {
         "animal": "hamster",
         "age": "nan",
         "visits": 0,
         "priority": "False",
         "owner": 6,
         "_deepnote_index_column": 8
        }
       ],
       "rows_bottom": null
      },
      "text/plain": "       animal  age  visits  priority  owner\n0     hamster  0.5       0      True      0\n1     hamster  1.3       1      True      0\n2        fish  3.0       0      True      1\n3         cat  NaN       4     False      3\n4      ferret  2.0       2     False      4\n5         cat  5.0       1      True      5\n6       cobra  1.2       0     False      7\n7  guniea pig  2.0       2     False      8\n8     hamster  NaN       0     False      6",
      "text/html": "<div>\n<style scoped>\n    .dataframe tbody tr th:only-of-type {\n        vertical-align: middle;\n    }\n\n    .dataframe tbody tr th {\n        vertical-align: top;\n    }\n\n    .dataframe thead th {\n        text-align: right;\n    }\n</style>\n<table border=\"1\" class=\"dataframe\">\n  <thead>\n    <tr style=\"text-align: right;\">\n      <th></th>\n      <th>animal</th>\n      <th>age</th>\n      <th>visits</th>\n      <th>priority</th>\n      <th>owner</th>\n    </tr>\n  </thead>\n  <tbody>\n    <tr>\n      <th>0</th>\n      <td>hamster</td>\n      <td>0.5</td>\n      <td>0</td>\n      <td>True</td>\n      <td>0</td>\n    </tr>\n    <tr>\n      <th>1</th>\n      <td>hamster</td>\n      <td>1.3</td>\n      <td>1</td>\n      <td>True</td>\n      <td>0</td>\n    </tr>\n    <tr>\n      <th>2</th>\n      <td>fish</td>\n      <td>3.0</td>\n      <td>0</td>\n      <td>True</td>\n      <td>1</td>\n    </tr>\n    <tr>\n      <th>3</th>\n      <td>cat</td>\n      <td>NaN</td>\n      <td>4</td>\n      <td>False</td>\n      <td>3</td>\n    </tr>\n    <tr>\n      <th>4</th>\n      <td>ferret</td>\n      <td>2.0</td>\n      <td>2</td>\n      <td>False</td>\n      <td>4</td>\n    </tr>\n    <tr>\n      <th>5</th>\n      <td>cat</td>\n      <td>5.0</td>\n      <td>1</td>\n      <td>True</td>\n      <td>5</td>\n    </tr>\n    <tr>\n      <th>6</th>\n      <td>cobra</td>\n      <td>1.2</td>\n      <td>0</td>\n      <td>False</td>\n      <td>7</td>\n    </tr>\n    <tr>\n      <th>7</th>\n      <td>guniea pig</td>\n      <td>2.0</td>\n      <td>2</td>\n      <td>False</td>\n      <td>8</td>\n    </tr>\n    <tr>\n      <th>8</th>\n      <td>hamster</td>\n      <td>NaN</td>\n      <td>0</td>\n      <td>False</td>\n      <td>6</td>\n    </tr>\n  </tbody>\n</table>\n</div>"
     },
     "metadata": {}
    }
   ]
  },
  {
   "cell_type": "markdown",
   "source": "---\n14. Load the separate data the hospital has on owners, where index of that DataFrame is `index` in the `data`.",
   "metadata": {
    "tags": [],
    "cell_id": "00015-911d6db8-8d40-4a95-9a89-91aaa464ae23",
    "deepnote_cell_type": "markdown"
   }
  },
  {
   "cell_type": "code",
   "metadata": {
    "tags": [],
    "cell_id": "00031-2359445b-c5c4-4502-8cbb-cf5b3113c14d",
    "deepnote_to_be_reexecuted": false,
    "source_hash": "381983ef",
    "execution_start": 1625588121090,
    "execution_millis": 0,
    "deepnote_cell_type": "code"
   },
   "source": "data = {'owner': ['Dan', 'Peter', \"Stevenson\", \"Fox\", \"Martin\", \"Joe\", \"Chris\", \"Rasto\", \"Peto\", \"Cappucino\"],\n        'registration_time': [\"6/1/2020\", \"6/1/2021\", \"1/1/2020\", \"6/1/2020\", \"6/5/2020\", \"7/3/2020\", \"6/10/2020\", \"1/8/2020\", \"6/5/2021\", \"16/9/2020\"],\n        'index': [0, 1, 3, 4, 5, 6, 7, 8, 9, 10]}\n\ndf_owners = pd.DataFrame(data,columns= [\"owner\",\"registration_time\", \"index\"])\ndf_owners.index =  df_owners[\"index\"]\ndf_owners.drop(\"index\", axis=1, inplace=True)\n#del df_owners[\"index\"]\ndf_owners.head()",
   "execution_count": null,
   "outputs": [
    {
     "output_type": "execute_result",
     "execution_count": 132,
     "data": {
      "application/vnd.deepnote.dataframe.v2+json": {
       "row_count": 5,
       "column_count": 2,
       "columns": [
        {
         "name": "owner",
         "dtype": "object",
         "stats": {
          "unique_count": 5,
          "nan_count": 0,
          "categories": [
           {
            "name": "Dan",
            "count": 1
           },
           {
            "name": "Peter",
            "count": 1
           },
           {
            "name": "3 others",
            "count": 3
           }
          ]
         }
        },
        {
         "name": "registration_time",
         "dtype": "object",
         "stats": {
          "unique_count": 4,
          "nan_count": 0,
          "categories": [
           {
            "name": "6/1/2020",
            "count": 2
           },
           {
            "name": "6/1/2021",
            "count": 1
           },
           {
            "name": "2 others",
            "count": 2
           }
          ]
         }
        },
        {
         "name": "_deepnote_index_column",
         "dtype": "int64"
        }
       ],
       "rows_top": [
        {
         "owner": "Dan",
         "registration_time": "6/1/2020",
         "_deepnote_index_column": 0
        },
        {
         "owner": "Peter",
         "registration_time": "6/1/2021",
         "_deepnote_index_column": 1
        },
        {
         "owner": "Stevenson",
         "registration_time": "1/1/2020",
         "_deepnote_index_column": 3
        },
        {
         "owner": "Fox",
         "registration_time": "6/1/2020",
         "_deepnote_index_column": 4
        },
        {
         "owner": "Martin",
         "registration_time": "6/5/2020",
         "_deepnote_index_column": 5
        }
       ],
       "rows_bottom": null
      },
      "text/plain": "           owner registration_time\nindex                             \n0            Dan          6/1/2020\n1          Peter          6/1/2021\n3      Stevenson          1/1/2020\n4            Fox          6/1/2020\n5         Martin          6/5/2020",
      "text/html": "<div>\n<style scoped>\n    .dataframe tbody tr th:only-of-type {\n        vertical-align: middle;\n    }\n\n    .dataframe tbody tr th {\n        vertical-align: top;\n    }\n\n    .dataframe thead th {\n        text-align: right;\n    }\n</style>\n<table border=\"1\" class=\"dataframe\">\n  <thead>\n    <tr style=\"text-align: right;\">\n      <th></th>\n      <th>owner</th>\n      <th>registration_time</th>\n    </tr>\n    <tr>\n      <th>index</th>\n      <th></th>\n      <th></th>\n    </tr>\n  </thead>\n  <tbody>\n    <tr>\n      <th>0</th>\n      <td>Dan</td>\n      <td>6/1/2020</td>\n    </tr>\n    <tr>\n      <th>1</th>\n      <td>Peter</td>\n      <td>6/1/2021</td>\n    </tr>\n    <tr>\n      <th>3</th>\n      <td>Stevenson</td>\n      <td>1/1/2020</td>\n    </tr>\n    <tr>\n      <th>4</th>\n      <td>Fox</td>\n      <td>6/1/2020</td>\n    </tr>\n    <tr>\n      <th>5</th>\n      <td>Martin</td>\n      <td>6/5/2020</td>\n    </tr>\n  </tbody>\n</table>\n</div>"
     },
     "metadata": {}
    }
   ]
  },
  {
   "cell_type": "markdown",
   "source": "---\n15. Modify the pet dataframe, such that you join all pets with their respective owners and registration date. ",
   "metadata": {
    "tags": [],
    "cell_id": "00032-86ebff77-28e2-4fe2-83b2-c2535d3aec38",
    "deepnote_cell_type": "markdown"
   }
  },
  {
   "cell_type": "code",
   "metadata": {
    "tags": [],
    "cell_id": "00040-96490637-9973-4d93-8961-5ad2e0bc0cac",
    "deepnote_to_be_reexecuted": false,
    "source_hash": "daf5026",
    "execution_start": 1625588427106,
    "execution_millis": 62,
    "deepnote_cell_type": "code"
   },
   "source": "df_final = pd.merge(df, df_owners, left_on=\"owner\", right_on=\"index\", suffixes=('_not_important', ''))\ndf_final",
   "execution_count": null,
   "outputs": [
    {
     "output_type": "execute_result",
     "execution_count": 152,
     "data": {
      "application/vnd.deepnote.dataframe.v2+json": {
       "row_count": 9,
       "column_count": 7,
       "columns": [
        {
         "name": "animal",
         "dtype": "object",
         "stats": {
          "unique_count": 6,
          "nan_count": 0,
          "categories": [
           {
            "name": "hamster",
            "count": 3
           },
           {
            "name": "cat",
            "count": 2
           },
           {
            "name": "4 others",
            "count": 4
           }
          ]
         }
        },
        {
         "name": "age",
         "dtype": "float64",
         "stats": {
          "unique_count": 6,
          "nan_count": 2,
          "min": "0.5",
          "max": "5.0",
          "histogram": [
           {
            "bin_start": 0.5,
            "bin_end": 0.95,
            "count": 1
           },
           {
            "bin_start": 0.95,
            "bin_end": 1.4,
            "count": 2
           },
           {
            "bin_start": 1.4,
            "bin_end": 1.85,
            "count": 0
           },
           {
            "bin_start": 1.85,
            "bin_end": 2.3,
            "count": 2
           },
           {
            "bin_start": 2.3,
            "bin_end": 2.75,
            "count": 0
           },
           {
            "bin_start": 2.75,
            "bin_end": 3.2,
            "count": 1
           },
           {
            "bin_start": 3.2,
            "bin_end": 3.65,
            "count": 0
           },
           {
            "bin_start": 3.65,
            "bin_end": 4.1,
            "count": 0
           },
           {
            "bin_start": 4.1,
            "bin_end": 4.55,
            "count": 0
           },
           {
            "bin_start": 4.55,
            "bin_end": 5,
            "count": 1
           }
          ]
         }
        },
        {
         "name": "visits",
         "dtype": "int64",
         "stats": {
          "unique_count": 4,
          "nan_count": 0,
          "min": "0",
          "max": "4",
          "histogram": [
           {
            "bin_start": 0,
            "bin_end": 0.4,
            "count": 4
           },
           {
            "bin_start": 0.4,
            "bin_end": 0.8,
            "count": 0
           },
           {
            "bin_start": 0.8,
            "bin_end": 1.2000000000000002,
            "count": 2
           },
           {
            "bin_start": 1.2000000000000002,
            "bin_end": 1.6,
            "count": 0
           },
           {
            "bin_start": 1.6,
            "bin_end": 2,
            "count": 0
           },
           {
            "bin_start": 2,
            "bin_end": 2.4000000000000004,
            "count": 2
           },
           {
            "bin_start": 2.4000000000000004,
            "bin_end": 2.8000000000000003,
            "count": 0
           },
           {
            "bin_start": 2.8000000000000003,
            "bin_end": 3.2,
            "count": 0
           },
           {
            "bin_start": 3.2,
            "bin_end": 3.6,
            "count": 0
           },
           {
            "bin_start": 3.6,
            "bin_end": 4,
            "count": 1
           }
          ]
         }
        },
        {
         "name": "priority",
         "dtype": "bool",
         "stats": {
          "unique_count": 2,
          "nan_count": 0,
          "categories": [
           {
            "name": "False",
            "count": 5
           },
           {
            "name": "True",
            "count": 4
           }
          ]
         }
        },
        {
         "name": "owner_not_important",
         "dtype": "int64",
         "stats": {
          "unique_count": 8,
          "nan_count": 0,
          "min": "0",
          "max": "8",
          "histogram": [
           {
            "bin_start": 0,
            "bin_end": 0.8,
            "count": 2
           },
           {
            "bin_start": 0.8,
            "bin_end": 1.6,
            "count": 1
           },
           {
            "bin_start": 1.6,
            "bin_end": 2.4000000000000004,
            "count": 0
           },
           {
            "bin_start": 2.4000000000000004,
            "bin_end": 3.2,
            "count": 1
           },
           {
            "bin_start": 3.2,
            "bin_end": 4,
            "count": 0
           },
           {
            "bin_start": 4,
            "bin_end": 4.800000000000001,
            "count": 1
           },
           {
            "bin_start": 4.800000000000001,
            "bin_end": 5.6000000000000005,
            "count": 1
           },
           {
            "bin_start": 5.6000000000000005,
            "bin_end": 6.4,
            "count": 1
           },
           {
            "bin_start": 6.4,
            "bin_end": 7.2,
            "count": 1
           },
           {
            "bin_start": 7.2,
            "bin_end": 8,
            "count": 1
           }
          ]
         }
        },
        {
         "name": "owner",
         "dtype": "object",
         "stats": {
          "unique_count": 8,
          "nan_count": 0,
          "categories": [
           {
            "name": "Dan",
            "count": 2
           },
           {
            "name": "Peter",
            "count": 1
           },
           {
            "name": "6 others",
            "count": 6
           }
          ]
         }
        },
        {
         "name": "registration_time",
         "dtype": "object",
         "stats": {
          "unique_count": 7,
          "nan_count": 0,
          "categories": [
           {
            "name": "6/1/2020",
            "count": 3
           },
           {
            "name": "6/1/2021",
            "count": 1
           },
           {
            "name": "5 others",
            "count": 5
           }
          ]
         }
        },
        {
         "name": "_deepnote_index_column",
         "dtype": "int64"
        }
       ],
       "rows_top": [
        {
         "animal": "hamster",
         "age": 0.5,
         "visits": 0,
         "priority": "True",
         "owner_not_important": 0,
         "owner": "Dan",
         "registration_time": "6/1/2020",
         "_deepnote_index_column": 0
        },
        {
         "animal": "hamster",
         "age": 1.3,
         "visits": 1,
         "priority": "True",
         "owner_not_important": 0,
         "owner": "Dan",
         "registration_time": "6/1/2020",
         "_deepnote_index_column": 1
        },
        {
         "animal": "fish",
         "age": 3,
         "visits": 0,
         "priority": "True",
         "owner_not_important": 1,
         "owner": "Peter",
         "registration_time": "6/1/2021",
         "_deepnote_index_column": 2
        },
        {
         "animal": "cat",
         "age": "nan",
         "visits": 4,
         "priority": "False",
         "owner_not_important": 3,
         "owner": "Stevenson",
         "registration_time": "1/1/2020",
         "_deepnote_index_column": 3
        },
        {
         "animal": "ferret",
         "age": 2,
         "visits": 2,
         "priority": "False",
         "owner_not_important": 4,
         "owner": "Fox",
         "registration_time": "6/1/2020",
         "_deepnote_index_column": 4
        },
        {
         "animal": "cat",
         "age": 5,
         "visits": 1,
         "priority": "True",
         "owner_not_important": 5,
         "owner": "Martin",
         "registration_time": "6/5/2020",
         "_deepnote_index_column": 5
        },
        {
         "animal": "cobra",
         "age": 1.2,
         "visits": 0,
         "priority": "False",
         "owner_not_important": 7,
         "owner": "Chris",
         "registration_time": "6/10/2020",
         "_deepnote_index_column": 6
        },
        {
         "animal": "guniea pig",
         "age": 2,
         "visits": 2,
         "priority": "False",
         "owner_not_important": 8,
         "owner": "Rasto",
         "registration_time": "1/8/2020",
         "_deepnote_index_column": 7
        },
        {
         "animal": "hamster",
         "age": "nan",
         "visits": 0,
         "priority": "False",
         "owner_not_important": 6,
         "owner": "Joe",
         "registration_time": "7/3/2020",
         "_deepnote_index_column": 8
        }
       ],
       "rows_bottom": null
      },
      "text/plain": "       animal  age  visits  priority  owner_not_important      owner  \\\n0     hamster  0.5       0      True                    0        Dan   \n1     hamster  1.3       1      True                    0        Dan   \n2        fish  3.0       0      True                    1      Peter   \n3         cat  NaN       4     False                    3  Stevenson   \n4      ferret  2.0       2     False                    4        Fox   \n5         cat  5.0       1      True                    5     Martin   \n6       cobra  1.2       0     False                    7      Chris   \n7  guniea pig  2.0       2     False                    8      Rasto   \n8     hamster  NaN       0     False                    6        Joe   \n\n  registration_time  \n0          6/1/2020  \n1          6/1/2020  \n2          6/1/2021  \n3          1/1/2020  \n4          6/1/2020  \n5          6/5/2020  \n6         6/10/2020  \n7          1/8/2020  \n8          7/3/2020  ",
      "text/html": "<div>\n<style scoped>\n    .dataframe tbody tr th:only-of-type {\n        vertical-align: middle;\n    }\n\n    .dataframe tbody tr th {\n        vertical-align: top;\n    }\n\n    .dataframe thead th {\n        text-align: right;\n    }\n</style>\n<table border=\"1\" class=\"dataframe\">\n  <thead>\n    <tr style=\"text-align: right;\">\n      <th></th>\n      <th>animal</th>\n      <th>age</th>\n      <th>visits</th>\n      <th>priority</th>\n      <th>owner_not_important</th>\n      <th>owner</th>\n      <th>registration_time</th>\n    </tr>\n  </thead>\n  <tbody>\n    <tr>\n      <th>0</th>\n      <td>hamster</td>\n      <td>0.5</td>\n      <td>0</td>\n      <td>True</td>\n      <td>0</td>\n      <td>Dan</td>\n      <td>6/1/2020</td>\n    </tr>\n    <tr>\n      <th>1</th>\n      <td>hamster</td>\n      <td>1.3</td>\n      <td>1</td>\n      <td>True</td>\n      <td>0</td>\n      <td>Dan</td>\n      <td>6/1/2020</td>\n    </tr>\n    <tr>\n      <th>2</th>\n      <td>fish</td>\n      <td>3.0</td>\n      <td>0</td>\n      <td>True</td>\n      <td>1</td>\n      <td>Peter</td>\n      <td>6/1/2021</td>\n    </tr>\n    <tr>\n      <th>3</th>\n      <td>cat</td>\n      <td>NaN</td>\n      <td>4</td>\n      <td>False</td>\n      <td>3</td>\n      <td>Stevenson</td>\n      <td>1/1/2020</td>\n    </tr>\n    <tr>\n      <th>4</th>\n      <td>ferret</td>\n      <td>2.0</td>\n      <td>2</td>\n      <td>False</td>\n      <td>4</td>\n      <td>Fox</td>\n      <td>6/1/2020</td>\n    </tr>\n    <tr>\n      <th>5</th>\n      <td>cat</td>\n      <td>5.0</td>\n      <td>1</td>\n      <td>True</td>\n      <td>5</td>\n      <td>Martin</td>\n      <td>6/5/2020</td>\n    </tr>\n    <tr>\n      <th>6</th>\n      <td>cobra</td>\n      <td>1.2</td>\n      <td>0</td>\n      <td>False</td>\n      <td>7</td>\n      <td>Chris</td>\n      <td>6/10/2020</td>\n    </tr>\n    <tr>\n      <th>7</th>\n      <td>guniea pig</td>\n      <td>2.0</td>\n      <td>2</td>\n      <td>False</td>\n      <td>8</td>\n      <td>Rasto</td>\n      <td>1/8/2020</td>\n    </tr>\n    <tr>\n      <th>8</th>\n      <td>hamster</td>\n      <td>NaN</td>\n      <td>0</td>\n      <td>False</td>\n      <td>6</td>\n      <td>Joe</td>\n      <td>7/3/2020</td>\n    </tr>\n  </tbody>\n</table>\n</div>"
     },
     "metadata": {}
    }
   ]
  },
  {
   "cell_type": "markdown",
   "source": "---\n16. Change the age of the hamster that belongs to `Joe` to 0.9. (in the `df_final` that you joint together)",
   "metadata": {
    "tags": [],
    "cell_id": "00012-377597f4-73b8-4930-b3c5-8920d27ebdd4",
    "deepnote_cell_type": "markdown"
   }
  },
  {
   "cell_type": "code",
   "metadata": {
    "tags": [],
    "cell_id": "00041-58bdde01-4f5d-4c0f-8faa-158f7c52728b",
    "deepnote_to_be_reexecuted": false,
    "source_hash": "bd2231a4",
    "execution_start": 1625588797076,
    "execution_millis": 8,
    "deepnote_cell_type": "code"
   },
   "source": "index = df_final[df_final[\"owner\"] == \"Joe\"].index[0]\ndf_final.at[index, \"age\"] = 0.9\ndf_final",
   "execution_count": null,
   "outputs": [
    {
     "output_type": "execute_result",
     "execution_count": 184,
     "data": {
      "application/vnd.deepnote.dataframe.v2+json": {
       "row_count": 9,
       "column_count": 7,
       "columns": [
        {
         "name": "animal",
         "dtype": "object",
         "stats": {
          "unique_count": 6,
          "nan_count": 0,
          "categories": [
           {
            "name": "hamster",
            "count": 3
           },
           {
            "name": "cat",
            "count": 2
           },
           {
            "name": "4 others",
            "count": 4
           }
          ]
         }
        },
        {
         "name": "age",
         "dtype": "float64",
         "stats": {
          "unique_count": 7,
          "nan_count": 1,
          "min": "0.5",
          "max": "5.0",
          "histogram": [
           {
            "bin_start": 0.5,
            "bin_end": 0.95,
            "count": 2
           },
           {
            "bin_start": 0.95,
            "bin_end": 1.4,
            "count": 2
           },
           {
            "bin_start": 1.4,
            "bin_end": 1.85,
            "count": 0
           },
           {
            "bin_start": 1.85,
            "bin_end": 2.3,
            "count": 2
           },
           {
            "bin_start": 2.3,
            "bin_end": 2.75,
            "count": 0
           },
           {
            "bin_start": 2.75,
            "bin_end": 3.2,
            "count": 1
           },
           {
            "bin_start": 3.2,
            "bin_end": 3.65,
            "count": 0
           },
           {
            "bin_start": 3.65,
            "bin_end": 4.1,
            "count": 0
           },
           {
            "bin_start": 4.1,
            "bin_end": 4.55,
            "count": 0
           },
           {
            "bin_start": 4.55,
            "bin_end": 5,
            "count": 1
           }
          ]
         }
        },
        {
         "name": "visits",
         "dtype": "int64",
         "stats": {
          "unique_count": 4,
          "nan_count": 0,
          "min": "0",
          "max": "4",
          "histogram": [
           {
            "bin_start": 0,
            "bin_end": 0.4,
            "count": 4
           },
           {
            "bin_start": 0.4,
            "bin_end": 0.8,
            "count": 0
           },
           {
            "bin_start": 0.8,
            "bin_end": 1.2000000000000002,
            "count": 2
           },
           {
            "bin_start": 1.2000000000000002,
            "bin_end": 1.6,
            "count": 0
           },
           {
            "bin_start": 1.6,
            "bin_end": 2,
            "count": 0
           },
           {
            "bin_start": 2,
            "bin_end": 2.4000000000000004,
            "count": 2
           },
           {
            "bin_start": 2.4000000000000004,
            "bin_end": 2.8000000000000003,
            "count": 0
           },
           {
            "bin_start": 2.8000000000000003,
            "bin_end": 3.2,
            "count": 0
           },
           {
            "bin_start": 3.2,
            "bin_end": 3.6,
            "count": 0
           },
           {
            "bin_start": 3.6,
            "bin_end": 4,
            "count": 1
           }
          ]
         }
        },
        {
         "name": "priority",
         "dtype": "bool",
         "stats": {
          "unique_count": 2,
          "nan_count": 0,
          "categories": [
           {
            "name": "False",
            "count": 5
           },
           {
            "name": "True",
            "count": 4
           }
          ]
         }
        },
        {
         "name": "owner_not_important",
         "dtype": "int64",
         "stats": {
          "unique_count": 8,
          "nan_count": 0,
          "min": "0",
          "max": "8",
          "histogram": [
           {
            "bin_start": 0,
            "bin_end": 0.8,
            "count": 2
           },
           {
            "bin_start": 0.8,
            "bin_end": 1.6,
            "count": 1
           },
           {
            "bin_start": 1.6,
            "bin_end": 2.4000000000000004,
            "count": 0
           },
           {
            "bin_start": 2.4000000000000004,
            "bin_end": 3.2,
            "count": 1
           },
           {
            "bin_start": 3.2,
            "bin_end": 4,
            "count": 0
           },
           {
            "bin_start": 4,
            "bin_end": 4.800000000000001,
            "count": 1
           },
           {
            "bin_start": 4.800000000000001,
            "bin_end": 5.6000000000000005,
            "count": 1
           },
           {
            "bin_start": 5.6000000000000005,
            "bin_end": 6.4,
            "count": 1
           },
           {
            "bin_start": 6.4,
            "bin_end": 7.2,
            "count": 1
           },
           {
            "bin_start": 7.2,
            "bin_end": 8,
            "count": 1
           }
          ]
         }
        },
        {
         "name": "owner",
         "dtype": "object",
         "stats": {
          "unique_count": 8,
          "nan_count": 0,
          "categories": [
           {
            "name": "Dan",
            "count": 2
           },
           {
            "name": "Peter",
            "count": 1
           },
           {
            "name": "6 others",
            "count": 6
           }
          ]
         }
        },
        {
         "name": "registration_time",
         "dtype": "object",
         "stats": {
          "unique_count": 7,
          "nan_count": 0,
          "categories": [
           {
            "name": "6/1/2020",
            "count": 3
           },
           {
            "name": "6/1/2021",
            "count": 1
           },
           {
            "name": "5 others",
            "count": 5
           }
          ]
         }
        },
        {
         "name": "_deepnote_index_column",
         "dtype": "int64"
        }
       ],
       "rows_top": [
        {
         "animal": "hamster",
         "age": 0.5,
         "visits": 0,
         "priority": "True",
         "owner_not_important": 0,
         "owner": "Dan",
         "registration_time": "6/1/2020",
         "_deepnote_index_column": 0
        },
        {
         "animal": "hamster",
         "age": 1.3,
         "visits": 1,
         "priority": "True",
         "owner_not_important": 0,
         "owner": "Dan",
         "registration_time": "6/1/2020",
         "_deepnote_index_column": 1
        },
        {
         "animal": "fish",
         "age": 3,
         "visits": 0,
         "priority": "True",
         "owner_not_important": 1,
         "owner": "Peter",
         "registration_time": "6/1/2021",
         "_deepnote_index_column": 2
        },
        {
         "animal": "cat",
         "age": "nan",
         "visits": 4,
         "priority": "False",
         "owner_not_important": 3,
         "owner": "Stevenson",
         "registration_time": "1/1/2020",
         "_deepnote_index_column": 3
        },
        {
         "animal": "ferret",
         "age": 2,
         "visits": 2,
         "priority": "False",
         "owner_not_important": 4,
         "owner": "Fox",
         "registration_time": "6/1/2020",
         "_deepnote_index_column": 4
        },
        {
         "animal": "cat",
         "age": 5,
         "visits": 1,
         "priority": "True",
         "owner_not_important": 5,
         "owner": "Martin",
         "registration_time": "6/5/2020",
         "_deepnote_index_column": 5
        },
        {
         "animal": "cobra",
         "age": 1.2,
         "visits": 0,
         "priority": "False",
         "owner_not_important": 7,
         "owner": "Chris",
         "registration_time": "6/10/2020",
         "_deepnote_index_column": 6
        },
        {
         "animal": "guniea pig",
         "age": 2,
         "visits": 2,
         "priority": "False",
         "owner_not_important": 8,
         "owner": "Rasto",
         "registration_time": "1/8/2020",
         "_deepnote_index_column": 7
        },
        {
         "animal": "hamster",
         "age": 0.9,
         "visits": 0,
         "priority": "False",
         "owner_not_important": 6,
         "owner": "Joe",
         "registration_time": "7/3/2020",
         "_deepnote_index_column": 8
        }
       ],
       "rows_bottom": null
      },
      "text/plain": "       animal  age  visits  priority  owner_not_important      owner  \\\n0     hamster  0.5       0      True                    0        Dan   \n1     hamster  1.3       1      True                    0        Dan   \n2        fish  3.0       0      True                    1      Peter   \n3         cat  NaN       4     False                    3  Stevenson   \n4      ferret  2.0       2     False                    4        Fox   \n5         cat  5.0       1      True                    5     Martin   \n6       cobra  1.2       0     False                    7      Chris   \n7  guniea pig  2.0       2     False                    8      Rasto   \n8     hamster  0.9       0     False                    6        Joe   \n\n  registration_time  \n0          6/1/2020  \n1          6/1/2020  \n2          6/1/2021  \n3          1/1/2020  \n4          6/1/2020  \n5          6/5/2020  \n6         6/10/2020  \n7          1/8/2020  \n8          7/3/2020  ",
      "text/html": "<div>\n<style scoped>\n    .dataframe tbody tr th:only-of-type {\n        vertical-align: middle;\n    }\n\n    .dataframe tbody tr th {\n        vertical-align: top;\n    }\n\n    .dataframe thead th {\n        text-align: right;\n    }\n</style>\n<table border=\"1\" class=\"dataframe\">\n  <thead>\n    <tr style=\"text-align: right;\">\n      <th></th>\n      <th>animal</th>\n      <th>age</th>\n      <th>visits</th>\n      <th>priority</th>\n      <th>owner_not_important</th>\n      <th>owner</th>\n      <th>registration_time</th>\n    </tr>\n  </thead>\n  <tbody>\n    <tr>\n      <th>0</th>\n      <td>hamster</td>\n      <td>0.5</td>\n      <td>0</td>\n      <td>True</td>\n      <td>0</td>\n      <td>Dan</td>\n      <td>6/1/2020</td>\n    </tr>\n    <tr>\n      <th>1</th>\n      <td>hamster</td>\n      <td>1.3</td>\n      <td>1</td>\n      <td>True</td>\n      <td>0</td>\n      <td>Dan</td>\n      <td>6/1/2020</td>\n    </tr>\n    <tr>\n      <th>2</th>\n      <td>fish</td>\n      <td>3.0</td>\n      <td>0</td>\n      <td>True</td>\n      <td>1</td>\n      <td>Peter</td>\n      <td>6/1/2021</td>\n    </tr>\n    <tr>\n      <th>3</th>\n      <td>cat</td>\n      <td>NaN</td>\n      <td>4</td>\n      <td>False</td>\n      <td>3</td>\n      <td>Stevenson</td>\n      <td>1/1/2020</td>\n    </tr>\n    <tr>\n      <th>4</th>\n      <td>ferret</td>\n      <td>2.0</td>\n      <td>2</td>\n      <td>False</td>\n      <td>4</td>\n      <td>Fox</td>\n      <td>6/1/2020</td>\n    </tr>\n    <tr>\n      <th>5</th>\n      <td>cat</td>\n      <td>5.0</td>\n      <td>1</td>\n      <td>True</td>\n      <td>5</td>\n      <td>Martin</td>\n      <td>6/5/2020</td>\n    </tr>\n    <tr>\n      <th>6</th>\n      <td>cobra</td>\n      <td>1.2</td>\n      <td>0</td>\n      <td>False</td>\n      <td>7</td>\n      <td>Chris</td>\n      <td>6/10/2020</td>\n    </tr>\n    <tr>\n      <th>7</th>\n      <td>guniea pig</td>\n      <td>2.0</td>\n      <td>2</td>\n      <td>False</td>\n      <td>8</td>\n      <td>Rasto</td>\n      <td>1/8/2020</td>\n    </tr>\n    <tr>\n      <th>8</th>\n      <td>hamster</td>\n      <td>0.9</td>\n      <td>0</td>\n      <td>False</td>\n      <td>6</td>\n      <td>Joe</td>\n      <td>7/3/2020</td>\n    </tr>\n  </tbody>\n</table>\n</div>"
     },
     "metadata": {}
    }
   ]
  },
  {
   "cell_type": "markdown",
   "source": "---\n17. Select all animals owned by `Dan` (in `df_final`, continue using `df_final` for the following tasks)",
   "metadata": {
    "tags": [],
    "cell_id": "00036-98a4a69c-7cc8-4e18-aec5-0d5cba14654c",
    "deepnote_cell_type": "markdown"
   }
  },
  {
   "cell_type": "code",
   "metadata": {
    "tags": [],
    "cell_id": "00038-7c634cbb-a80c-4459-8397-358920139e11",
    "deepnote_to_be_reexecuted": false,
    "source_hash": "18b73102",
    "execution_start": 1625588877436,
    "execution_millis": 8,
    "deepnote_cell_type": "code"
   },
   "source": "df_final.loc[df_final['owner'] == \"Dan\"]",
   "execution_count": null,
   "outputs": [
    {
     "output_type": "execute_result",
     "execution_count": 189,
     "data": {
      "application/vnd.deepnote.dataframe.v2+json": {
       "row_count": 2,
       "column_count": 7,
       "columns": [
        {
         "name": "animal",
         "dtype": "object",
         "stats": {
          "unique_count": 1,
          "nan_count": 0,
          "categories": [
           {
            "name": "hamster",
            "count": 2
           }
          ]
         }
        },
        {
         "name": "age",
         "dtype": "float64",
         "stats": {
          "unique_count": 2,
          "nan_count": 0,
          "min": "0.5",
          "max": "1.3",
          "histogram": [
           {
            "bin_start": 0.5,
            "bin_end": 0.58,
            "count": 1
           },
           {
            "bin_start": 0.58,
            "bin_end": 0.66,
            "count": 0
           },
           {
            "bin_start": 0.66,
            "bin_end": 0.74,
            "count": 0
           },
           {
            "bin_start": 0.74,
            "bin_end": 0.8200000000000001,
            "count": 0
           },
           {
            "bin_start": 0.8200000000000001,
            "bin_end": 0.9,
            "count": 0
           },
           {
            "bin_start": 0.9,
            "bin_end": 0.98,
            "count": 0
           },
           {
            "bin_start": 0.98,
            "bin_end": 1.06,
            "count": 0
           },
           {
            "bin_start": 1.06,
            "bin_end": 1.1400000000000001,
            "count": 0
           },
           {
            "bin_start": 1.1400000000000001,
            "bin_end": 1.22,
            "count": 0
           },
           {
            "bin_start": 1.22,
            "bin_end": 1.3,
            "count": 1
           }
          ]
         }
        },
        {
         "name": "visits",
         "dtype": "int64",
         "stats": {
          "unique_count": 2,
          "nan_count": 0,
          "min": "0",
          "max": "1",
          "histogram": [
           {
            "bin_start": 0,
            "bin_end": 0.1,
            "count": 1
           },
           {
            "bin_start": 0.1,
            "bin_end": 0.2,
            "count": 0
           },
           {
            "bin_start": 0.2,
            "bin_end": 0.30000000000000004,
            "count": 0
           },
           {
            "bin_start": 0.30000000000000004,
            "bin_end": 0.4,
            "count": 0
           },
           {
            "bin_start": 0.4,
            "bin_end": 0.5,
            "count": 0
           },
           {
            "bin_start": 0.5,
            "bin_end": 0.6000000000000001,
            "count": 0
           },
           {
            "bin_start": 0.6000000000000001,
            "bin_end": 0.7000000000000001,
            "count": 0
           },
           {
            "bin_start": 0.7000000000000001,
            "bin_end": 0.8,
            "count": 0
           },
           {
            "bin_start": 0.8,
            "bin_end": 0.9,
            "count": 0
           },
           {
            "bin_start": 0.9,
            "bin_end": 1,
            "count": 1
           }
          ]
         }
        },
        {
         "name": "priority",
         "dtype": "bool",
         "stats": {
          "unique_count": 1,
          "nan_count": 0,
          "categories": [
           {
            "name": "True",
            "count": 2
           }
          ]
         }
        },
        {
         "name": "owner_not_important",
         "dtype": "int64",
         "stats": {
          "unique_count": 1,
          "nan_count": 0,
          "min": "0",
          "max": "0",
          "histogram": [
           {
            "bin_start": -0.5,
            "bin_end": -0.4,
            "count": 0
           },
           {
            "bin_start": -0.4,
            "bin_end": -0.3,
            "count": 0
           },
           {
            "bin_start": -0.3,
            "bin_end": -0.19999999999999996,
            "count": 0
           },
           {
            "bin_start": -0.19999999999999996,
            "bin_end": -0.09999999999999998,
            "count": 0
           },
           {
            "bin_start": -0.09999999999999998,
            "bin_end": 0,
            "count": 0
           },
           {
            "bin_start": 0,
            "bin_end": 0.10000000000000009,
            "count": 2
           },
           {
            "bin_start": 0.10000000000000009,
            "bin_end": 0.20000000000000007,
            "count": 0
           },
           {
            "bin_start": 0.20000000000000007,
            "bin_end": 0.30000000000000004,
            "count": 0
           },
           {
            "bin_start": 0.30000000000000004,
            "bin_end": 0.4,
            "count": 0
           },
           {
            "bin_start": 0.4,
            "bin_end": 0.5,
            "count": 0
           }
          ]
         }
        },
        {
         "name": "owner",
         "dtype": "object",
         "stats": {
          "unique_count": 1,
          "nan_count": 0,
          "categories": [
           {
            "name": "Dan",
            "count": 2
           }
          ]
         }
        },
        {
         "name": "registration_time",
         "dtype": "object",
         "stats": {
          "unique_count": 1,
          "nan_count": 0,
          "categories": [
           {
            "name": "6/1/2020",
            "count": 2
           }
          ]
         }
        },
        {
         "name": "_deepnote_index_column",
         "dtype": "int64"
        }
       ],
       "rows_top": [
        {
         "animal": "hamster",
         "age": 0.5,
         "visits": 0,
         "priority": "True",
         "owner_not_important": 0,
         "owner": "Dan",
         "registration_time": "6/1/2020",
         "_deepnote_index_column": 0
        },
        {
         "animal": "hamster",
         "age": 1.3,
         "visits": 1,
         "priority": "True",
         "owner_not_important": 0,
         "owner": "Dan",
         "registration_time": "6/1/2020",
         "_deepnote_index_column": 1
        }
       ],
       "rows_bottom": null
      },
      "text/plain": "    animal  age  visits  priority  owner_not_important owner registration_time\n0  hamster  0.5       0      True                    0   Dan          6/1/2020\n1  hamster  1.3       1      True                    0   Dan          6/1/2020",
      "text/html": "<div>\n<style scoped>\n    .dataframe tbody tr th:only-of-type {\n        vertical-align: middle;\n    }\n\n    .dataframe tbody tr th {\n        vertical-align: top;\n    }\n\n    .dataframe thead th {\n        text-align: right;\n    }\n</style>\n<table border=\"1\" class=\"dataframe\">\n  <thead>\n    <tr style=\"text-align: right;\">\n      <th></th>\n      <th>animal</th>\n      <th>age</th>\n      <th>visits</th>\n      <th>priority</th>\n      <th>owner_not_important</th>\n      <th>owner</th>\n      <th>registration_time</th>\n    </tr>\n  </thead>\n  <tbody>\n    <tr>\n      <th>0</th>\n      <td>hamster</td>\n      <td>0.5</td>\n      <td>0</td>\n      <td>True</td>\n      <td>0</td>\n      <td>Dan</td>\n      <td>6/1/2020</td>\n    </tr>\n    <tr>\n      <th>1</th>\n      <td>hamster</td>\n      <td>1.3</td>\n      <td>1</td>\n      <td>True</td>\n      <td>0</td>\n      <td>Dan</td>\n      <td>6/1/2020</td>\n    </tr>\n  </tbody>\n</table>\n</div>"
     },
     "metadata": {}
    }
   ]
  },
  {
   "cell_type": "markdown",
   "source": "---\n18. Which owners have their pets that have priority? ",
   "metadata": {
    "tags": [],
    "cell_id": "00038-72c1092c-5d67-42d5-8800-0a06b3bfb576",
    "deepnote_cell_type": "markdown"
   }
  },
  {
   "cell_type": "code",
   "metadata": {
    "tags": [],
    "cell_id": "00039-e62918ba-6896-458f-8830-b68a2a73a1c9",
    "deepnote_to_be_reexecuted": false,
    "source_hash": "c2bde35a",
    "execution_start": 1625588905180,
    "execution_millis": 18,
    "deepnote_cell_type": "code"
   },
   "source": "df_final[df_final['priority'] == True]",
   "execution_count": null,
   "outputs": [
    {
     "output_type": "execute_result",
     "execution_count": 191,
     "data": {
      "application/vnd.deepnote.dataframe.v2+json": {
       "row_count": 4,
       "column_count": 7,
       "columns": [
        {
         "name": "animal",
         "dtype": "object",
         "stats": {
          "unique_count": 3,
          "nan_count": 0,
          "categories": [
           {
            "name": "hamster",
            "count": 2
           },
           {
            "name": "fish",
            "count": 1
           },
           {
            "name": "cat",
            "count": 1
           }
          ]
         }
        },
        {
         "name": "age",
         "dtype": "float64",
         "stats": {
          "unique_count": 4,
          "nan_count": 0,
          "min": "0.5",
          "max": "5.0",
          "histogram": [
           {
            "bin_start": 0.5,
            "bin_end": 0.95,
            "count": 1
           },
           {
            "bin_start": 0.95,
            "bin_end": 1.4,
            "count": 1
           },
           {
            "bin_start": 1.4,
            "bin_end": 1.85,
            "count": 0
           },
           {
            "bin_start": 1.85,
            "bin_end": 2.3,
            "count": 0
           },
           {
            "bin_start": 2.3,
            "bin_end": 2.75,
            "count": 0
           },
           {
            "bin_start": 2.75,
            "bin_end": 3.2,
            "count": 1
           },
           {
            "bin_start": 3.2,
            "bin_end": 3.65,
            "count": 0
           },
           {
            "bin_start": 3.65,
            "bin_end": 4.1,
            "count": 0
           },
           {
            "bin_start": 4.1,
            "bin_end": 4.55,
            "count": 0
           },
           {
            "bin_start": 4.55,
            "bin_end": 5,
            "count": 1
           }
          ]
         }
        },
        {
         "name": "visits",
         "dtype": "int64",
         "stats": {
          "unique_count": 2,
          "nan_count": 0,
          "min": "0",
          "max": "1",
          "histogram": [
           {
            "bin_start": 0,
            "bin_end": 0.1,
            "count": 2
           },
           {
            "bin_start": 0.1,
            "bin_end": 0.2,
            "count": 0
           },
           {
            "bin_start": 0.2,
            "bin_end": 0.30000000000000004,
            "count": 0
           },
           {
            "bin_start": 0.30000000000000004,
            "bin_end": 0.4,
            "count": 0
           },
           {
            "bin_start": 0.4,
            "bin_end": 0.5,
            "count": 0
           },
           {
            "bin_start": 0.5,
            "bin_end": 0.6000000000000001,
            "count": 0
           },
           {
            "bin_start": 0.6000000000000001,
            "bin_end": 0.7000000000000001,
            "count": 0
           },
           {
            "bin_start": 0.7000000000000001,
            "bin_end": 0.8,
            "count": 0
           },
           {
            "bin_start": 0.8,
            "bin_end": 0.9,
            "count": 0
           },
           {
            "bin_start": 0.9,
            "bin_end": 1,
            "count": 2
           }
          ]
         }
        },
        {
         "name": "priority",
         "dtype": "bool",
         "stats": {
          "unique_count": 1,
          "nan_count": 0,
          "categories": [
           {
            "name": "True",
            "count": 4
           }
          ]
         }
        },
        {
         "name": "owner_not_important",
         "dtype": "int64",
         "stats": {
          "unique_count": 3,
          "nan_count": 0,
          "min": "0",
          "max": "5",
          "histogram": [
           {
            "bin_start": 0,
            "bin_end": 0.5,
            "count": 2
           },
           {
            "bin_start": 0.5,
            "bin_end": 1,
            "count": 0
           },
           {
            "bin_start": 1,
            "bin_end": 1.5,
            "count": 1
           },
           {
            "bin_start": 1.5,
            "bin_end": 2,
            "count": 0
           },
           {
            "bin_start": 2,
            "bin_end": 2.5,
            "count": 0
           },
           {
            "bin_start": 2.5,
            "bin_end": 3,
            "count": 0
           },
           {
            "bin_start": 3,
            "bin_end": 3.5,
            "count": 0
           },
           {
            "bin_start": 3.5,
            "bin_end": 4,
            "count": 0
           },
           {
            "bin_start": 4,
            "bin_end": 4.5,
            "count": 0
           },
           {
            "bin_start": 4.5,
            "bin_end": 5,
            "count": 1
           }
          ]
         }
        },
        {
         "name": "owner",
         "dtype": "object",
         "stats": {
          "unique_count": 3,
          "nan_count": 0,
          "categories": [
           {
            "name": "Dan",
            "count": 2
           },
           {
            "name": "Peter",
            "count": 1
           },
           {
            "name": "Martin",
            "count": 1
           }
          ]
         }
        },
        {
         "name": "registration_time",
         "dtype": "object",
         "stats": {
          "unique_count": 3,
          "nan_count": 0,
          "categories": [
           {
            "name": "6/1/2020",
            "count": 2
           },
           {
            "name": "6/1/2021",
            "count": 1
           },
           {
            "name": "6/5/2020",
            "count": 1
           }
          ]
         }
        },
        {
         "name": "_deepnote_index_column",
         "dtype": "int64"
        }
       ],
       "rows_top": [
        {
         "animal": "hamster",
         "age": 0.5,
         "visits": 0,
         "priority": "True",
         "owner_not_important": 0,
         "owner": "Dan",
         "registration_time": "6/1/2020",
         "_deepnote_index_column": 0
        },
        {
         "animal": "hamster",
         "age": 1.3,
         "visits": 1,
         "priority": "True",
         "owner_not_important": 0,
         "owner": "Dan",
         "registration_time": "6/1/2020",
         "_deepnote_index_column": 1
        },
        {
         "animal": "fish",
         "age": 3,
         "visits": 0,
         "priority": "True",
         "owner_not_important": 1,
         "owner": "Peter",
         "registration_time": "6/1/2021",
         "_deepnote_index_column": 2
        },
        {
         "animal": "cat",
         "age": 5,
         "visits": 1,
         "priority": "True",
         "owner_not_important": 5,
         "owner": "Martin",
         "registration_time": "6/5/2020",
         "_deepnote_index_column": 5
        }
       ],
       "rows_bottom": null
      },
      "text/plain": "    animal  age  visits  priority  owner_not_important   owner  \\\n0  hamster  0.5       0      True                    0     Dan   \n1  hamster  1.3       1      True                    0     Dan   \n2     fish  3.0       0      True                    1   Peter   \n5      cat  5.0       1      True                    5  Martin   \n\n  registration_time  \n0          6/1/2020  \n1          6/1/2020  \n2          6/1/2021  \n5          6/5/2020  ",
      "text/html": "<div>\n<style scoped>\n    .dataframe tbody tr th:only-of-type {\n        vertical-align: middle;\n    }\n\n    .dataframe tbody tr th {\n        vertical-align: top;\n    }\n\n    .dataframe thead th {\n        text-align: right;\n    }\n</style>\n<table border=\"1\" class=\"dataframe\">\n  <thead>\n    <tr style=\"text-align: right;\">\n      <th></th>\n      <th>animal</th>\n      <th>age</th>\n      <th>visits</th>\n      <th>priority</th>\n      <th>owner_not_important</th>\n      <th>owner</th>\n      <th>registration_time</th>\n    </tr>\n  </thead>\n  <tbody>\n    <tr>\n      <th>0</th>\n      <td>hamster</td>\n      <td>0.5</td>\n      <td>0</td>\n      <td>True</td>\n      <td>0</td>\n      <td>Dan</td>\n      <td>6/1/2020</td>\n    </tr>\n    <tr>\n      <th>1</th>\n      <td>hamster</td>\n      <td>1.3</td>\n      <td>1</td>\n      <td>True</td>\n      <td>0</td>\n      <td>Dan</td>\n      <td>6/1/2020</td>\n    </tr>\n    <tr>\n      <th>2</th>\n      <td>fish</td>\n      <td>3.0</td>\n      <td>0</td>\n      <td>True</td>\n      <td>1</td>\n      <td>Peter</td>\n      <td>6/1/2021</td>\n    </tr>\n    <tr>\n      <th>5</th>\n      <td>cat</td>\n      <td>5.0</td>\n      <td>1</td>\n      <td>True</td>\n      <td>5</td>\n      <td>Martin</td>\n      <td>6/5/2020</td>\n    </tr>\n  </tbody>\n</table>\n</div>"
     },
     "metadata": {}
    }
   ]
  },
  {
   "cell_type": "markdown",
   "source": "---\n18.5 Which type of a pet has most instances of `priority`? How many",
   "metadata": {
    "tags": [],
    "cell_id": "00040-deb0da6d-4a49-4107-88f0-4e464eb4d5af",
    "deepnote_cell_type": "markdown"
   }
  },
  {
   "cell_type": "code",
   "metadata": {
    "tags": [],
    "cell_id": "00041-50913f3e-9145-4afc-914f-dc32f9590791",
    "deepnote_to_be_reexecuted": false,
    "source_hash": "c4b657a9",
    "execution_start": 1625589152273,
    "execution_millis": 8,
    "deepnote_cell_type": "code"
   },
   "source": "df_final.groupby(\"animal\").sum().sort_values(by = \"priority\", ascending=False)",
   "execution_count": null,
   "outputs": [
    {
     "output_type": "execute_result",
     "execution_count": 201,
     "data": {
      "application/vnd.deepnote.dataframe.v2+json": {
       "row_count": 6,
       "column_count": 4,
       "columns": [
        {
         "name": "age",
         "dtype": "float64",
         "stats": {
          "unique_count": 5,
          "nan_count": 0,
          "min": "1.2",
          "max": "5.0",
          "histogram": [
           {
            "bin_start": 1.2,
            "bin_end": 1.58,
            "count": 1
           },
           {
            "bin_start": 1.58,
            "bin_end": 1.96,
            "count": 0
           },
           {
            "bin_start": 1.96,
            "bin_end": 2.34,
            "count": 2
           },
           {
            "bin_start": 2.34,
            "bin_end": 2.7199999999999998,
            "count": 1
           },
           {
            "bin_start": 2.7199999999999998,
            "bin_end": 3.0999999999999996,
            "count": 1
           },
           {
            "bin_start": 3.0999999999999996,
            "bin_end": 3.4800000000000004,
            "count": 0
           },
           {
            "bin_start": 3.4800000000000004,
            "bin_end": 3.8600000000000003,
            "count": 0
           },
           {
            "bin_start": 3.8600000000000003,
            "bin_end": 4.24,
            "count": 0
           },
           {
            "bin_start": 4.24,
            "bin_end": 4.62,
            "count": 0
           },
           {
            "bin_start": 4.62,
            "bin_end": 5,
            "count": 1
           }
          ]
         }
        },
        {
         "name": "visits",
         "dtype": "int64",
         "stats": {
          "unique_count": 4,
          "nan_count": 0,
          "min": "0",
          "max": "5",
          "histogram": [
           {
            "bin_start": 0,
            "bin_end": 0.5,
            "count": 2
           },
           {
            "bin_start": 0.5,
            "bin_end": 1,
            "count": 0
           },
           {
            "bin_start": 1,
            "bin_end": 1.5,
            "count": 1
           },
           {
            "bin_start": 1.5,
            "bin_end": 2,
            "count": 0
           },
           {
            "bin_start": 2,
            "bin_end": 2.5,
            "count": 2
           },
           {
            "bin_start": 2.5,
            "bin_end": 3,
            "count": 0
           },
           {
            "bin_start": 3,
            "bin_end": 3.5,
            "count": 0
           },
           {
            "bin_start": 3.5,
            "bin_end": 4,
            "count": 0
           },
           {
            "bin_start": 4,
            "bin_end": 4.5,
            "count": 0
           },
           {
            "bin_start": 4.5,
            "bin_end": 5,
            "count": 1
           }
          ]
         }
        },
        {
         "name": "priority",
         "dtype": "int64",
         "stats": {
          "unique_count": 3,
          "nan_count": 0,
          "min": "0",
          "max": "2",
          "histogram": [
           {
            "bin_start": 0,
            "bin_end": 0.2,
            "count": 3
           },
           {
            "bin_start": 0.2,
            "bin_end": 0.4,
            "count": 0
           },
           {
            "bin_start": 0.4,
            "bin_end": 0.6000000000000001,
            "count": 0
           },
           {
            "bin_start": 0.6000000000000001,
            "bin_end": 0.8,
            "count": 0
           },
           {
            "bin_start": 0.8,
            "bin_end": 1,
            "count": 0
           },
           {
            "bin_start": 1,
            "bin_end": 1.2000000000000002,
            "count": 2
           },
           {
            "bin_start": 1.2000000000000002,
            "bin_end": 1.4000000000000001,
            "count": 0
           },
           {
            "bin_start": 1.4000000000000001,
            "bin_end": 1.6,
            "count": 0
           },
           {
            "bin_start": 1.6,
            "bin_end": 1.8,
            "count": 0
           },
           {
            "bin_start": 1.8,
            "bin_end": 2,
            "count": 1
           }
          ]
         }
        },
        {
         "name": "owner_not_important",
         "dtype": "int64",
         "stats": {
          "unique_count": 5,
          "nan_count": 0,
          "min": "1",
          "max": "8",
          "histogram": [
           {
            "bin_start": 1,
            "bin_end": 1.7,
            "count": 1
           },
           {
            "bin_start": 1.7,
            "bin_end": 2.4,
            "count": 0
           },
           {
            "bin_start": 2.4,
            "bin_end": 3.0999999999999996,
            "count": 0
           },
           {
            "bin_start": 3.0999999999999996,
            "bin_end": 3.8,
            "count": 0
           },
           {
            "bin_start": 3.8,
            "bin_end": 4.5,
            "count": 1
           },
           {
            "bin_start": 4.5,
            "bin_end": 5.199999999999999,
            "count": 0
           },
           {
            "bin_start": 5.199999999999999,
            "bin_end": 5.8999999999999995,
            "count": 0
           },
           {
            "bin_start": 5.8999999999999995,
            "bin_end": 6.6,
            "count": 1
           },
           {
            "bin_start": 6.6,
            "bin_end": 7.3,
            "count": 1
           },
           {
            "bin_start": 7.3,
            "bin_end": 8,
            "count": 2
           }
          ]
         }
        },
        {
         "name": "_deepnote_index_column",
         "dtype": "object"
        }
       ],
       "rows_top": [
        {
         "age": 2.7,
         "visits": 1,
         "priority": 2,
         "owner_not_important": 6,
         "_deepnote_index_column": "hamster"
        },
        {
         "age": 5,
         "visits": 5,
         "priority": 1,
         "owner_not_important": 8,
         "_deepnote_index_column": "cat"
        },
        {
         "age": 3,
         "visits": 0,
         "priority": 1,
         "owner_not_important": 1,
         "_deepnote_index_column": "fish"
        },
        {
         "age": 1.2,
         "visits": 0,
         "priority": 0,
         "owner_not_important": 7,
         "_deepnote_index_column": "cobra"
        },
        {
         "age": 2,
         "visits": 2,
         "priority": 0,
         "owner_not_important": 4,
         "_deepnote_index_column": "ferret"
        },
        {
         "age": 2,
         "visits": 2,
         "priority": 0,
         "owner_not_important": 8,
         "_deepnote_index_column": "guniea pig"
        }
       ],
       "rows_bottom": null
      },
      "text/plain": "            age  visits  priority  owner_not_important\nanimal                                                \nhamster     2.7       1         2                    6\ncat         5.0       5         1                    8\nfish        3.0       0         1                    1\ncobra       1.2       0         0                    7\nferret      2.0       2         0                    4\nguniea pig  2.0       2         0                    8",
      "text/html": "<div>\n<style scoped>\n    .dataframe tbody tr th:only-of-type {\n        vertical-align: middle;\n    }\n\n    .dataframe tbody tr th {\n        vertical-align: top;\n    }\n\n    .dataframe thead th {\n        text-align: right;\n    }\n</style>\n<table border=\"1\" class=\"dataframe\">\n  <thead>\n    <tr style=\"text-align: right;\">\n      <th></th>\n      <th>age</th>\n      <th>visits</th>\n      <th>priority</th>\n      <th>owner_not_important</th>\n    </tr>\n    <tr>\n      <th>animal</th>\n      <th></th>\n      <th></th>\n      <th></th>\n      <th></th>\n    </tr>\n  </thead>\n  <tbody>\n    <tr>\n      <th>hamster</th>\n      <td>2.7</td>\n      <td>1</td>\n      <td>2</td>\n      <td>6</td>\n    </tr>\n    <tr>\n      <th>cat</th>\n      <td>5.0</td>\n      <td>5</td>\n      <td>1</td>\n      <td>8</td>\n    </tr>\n    <tr>\n      <th>fish</th>\n      <td>3.0</td>\n      <td>0</td>\n      <td>1</td>\n      <td>1</td>\n    </tr>\n    <tr>\n      <th>cobra</th>\n      <td>1.2</td>\n      <td>0</td>\n      <td>0</td>\n      <td>7</td>\n    </tr>\n    <tr>\n      <th>ferret</th>\n      <td>2.0</td>\n      <td>2</td>\n      <td>0</td>\n      <td>4</td>\n    </tr>\n    <tr>\n      <th>guniea pig</th>\n      <td>2.0</td>\n      <td>2</td>\n      <td>0</td>\n      <td>8</td>\n    </tr>\n  </tbody>\n</table>\n</div>"
     },
     "metadata": {}
    }
   ]
  },
  {
   "cell_type": "markdown",
   "source": "---\n19. Create a new column `potential_risk`, with values `True/False` where the value is `True` if the pet has visited more than 2 times, otherwise it's `False`",
   "metadata": {
    "tags": [],
    "cell_id": "00040-c43b5851-0832-480d-93c3-a4f4aadced69",
    "deepnote_cell_type": "markdown"
   }
  },
  {
   "cell_type": "code",
   "metadata": {
    "tags": [],
    "cell_id": "00049-533c9eec-e413-4ca3-89f7-68cc42aa28bc",
    "deepnote_cell_type": "code"
   },
   "source": "",
   "execution_count": null,
   "outputs": []
  },
  {
   "cell_type": "code",
   "metadata": {
    "tags": [],
    "cell_id": "00041-2e864906-1b1a-4ebf-9993-dfcc30dad2e7",
    "deepnote_to_be_reexecuted": false,
    "source_hash": "65349dbe",
    "execution_start": 1625589258063,
    "execution_millis": 8,
    "deepnote_cell_type": "code"
   },
   "source": "import numpy as np\ndf_final[\"potential_risk\"] = np.where(df_final[\"visits\"] > 2,True,False)\n#df_final[\"potential_risk\"] = df_final.apply(lambda x: True if x[\"visits\"] > 2 else False)\ndf_final.head()",
   "execution_count": null,
   "outputs": [
    {
     "output_type": "execute_result",
     "execution_count": 202,
     "data": {
      "application/vnd.deepnote.dataframe.v2+json": {
       "row_count": 5,
       "column_count": 8,
       "columns": [
        {
         "name": "animal",
         "dtype": "object",
         "stats": {
          "unique_count": 4,
          "nan_count": 0,
          "categories": [
           {
            "name": "hamster",
            "count": 2
           },
           {
            "name": "fish",
            "count": 1
           },
           {
            "name": "2 others",
            "count": 2
           }
          ]
         }
        },
        {
         "name": "age",
         "dtype": "float64",
         "stats": {
          "unique_count": 4,
          "nan_count": 1,
          "min": "0.5",
          "max": "3.0",
          "histogram": [
           {
            "bin_start": 0.5,
            "bin_end": 0.75,
            "count": 1
           },
           {
            "bin_start": 0.75,
            "bin_end": 1,
            "count": 0
           },
           {
            "bin_start": 1,
            "bin_end": 1.25,
            "count": 0
           },
           {
            "bin_start": 1.25,
            "bin_end": 1.5,
            "count": 1
           },
           {
            "bin_start": 1.5,
            "bin_end": 1.75,
            "count": 0
           },
           {
            "bin_start": 1.75,
            "bin_end": 2,
            "count": 0
           },
           {
            "bin_start": 2,
            "bin_end": 2.25,
            "count": 1
           },
           {
            "bin_start": 2.25,
            "bin_end": 2.5,
            "count": 0
           },
           {
            "bin_start": 2.5,
            "bin_end": 2.75,
            "count": 0
           },
           {
            "bin_start": 2.75,
            "bin_end": 3,
            "count": 1
           }
          ]
         }
        },
        {
         "name": "visits",
         "dtype": "int64",
         "stats": {
          "unique_count": 4,
          "nan_count": 0,
          "min": "0",
          "max": "4",
          "histogram": [
           {
            "bin_start": 0,
            "bin_end": 0.4,
            "count": 2
           },
           {
            "bin_start": 0.4,
            "bin_end": 0.8,
            "count": 0
           },
           {
            "bin_start": 0.8,
            "bin_end": 1.2000000000000002,
            "count": 1
           },
           {
            "bin_start": 1.2000000000000002,
            "bin_end": 1.6,
            "count": 0
           },
           {
            "bin_start": 1.6,
            "bin_end": 2,
            "count": 0
           },
           {
            "bin_start": 2,
            "bin_end": 2.4000000000000004,
            "count": 1
           },
           {
            "bin_start": 2.4000000000000004,
            "bin_end": 2.8000000000000003,
            "count": 0
           },
           {
            "bin_start": 2.8000000000000003,
            "bin_end": 3.2,
            "count": 0
           },
           {
            "bin_start": 3.2,
            "bin_end": 3.6,
            "count": 0
           },
           {
            "bin_start": 3.6,
            "bin_end": 4,
            "count": 1
           }
          ]
         }
        },
        {
         "name": "priority",
         "dtype": "bool",
         "stats": {
          "unique_count": 2,
          "nan_count": 0,
          "categories": [
           {
            "name": "True",
            "count": 3
           },
           {
            "name": "False",
            "count": 2
           }
          ]
         }
        },
        {
         "name": "owner_not_important",
         "dtype": "int64",
         "stats": {
          "unique_count": 4,
          "nan_count": 0,
          "min": "0",
          "max": "4",
          "histogram": [
           {
            "bin_start": 0,
            "bin_end": 0.4,
            "count": 2
           },
           {
            "bin_start": 0.4,
            "bin_end": 0.8,
            "count": 0
           },
           {
            "bin_start": 0.8,
            "bin_end": 1.2000000000000002,
            "count": 1
           },
           {
            "bin_start": 1.2000000000000002,
            "bin_end": 1.6,
            "count": 0
           },
           {
            "bin_start": 1.6,
            "bin_end": 2,
            "count": 0
           },
           {
            "bin_start": 2,
            "bin_end": 2.4000000000000004,
            "count": 0
           },
           {
            "bin_start": 2.4000000000000004,
            "bin_end": 2.8000000000000003,
            "count": 0
           },
           {
            "bin_start": 2.8000000000000003,
            "bin_end": 3.2,
            "count": 1
           },
           {
            "bin_start": 3.2,
            "bin_end": 3.6,
            "count": 0
           },
           {
            "bin_start": 3.6,
            "bin_end": 4,
            "count": 1
           }
          ]
         }
        },
        {
         "name": "owner",
         "dtype": "object",
         "stats": {
          "unique_count": 4,
          "nan_count": 0,
          "categories": [
           {
            "name": "Dan",
            "count": 2
           },
           {
            "name": "Peter",
            "count": 1
           },
           {
            "name": "2 others",
            "count": 2
           }
          ]
         }
        },
        {
         "name": "registration_time",
         "dtype": "object",
         "stats": {
          "unique_count": 3,
          "nan_count": 0,
          "categories": [
           {
            "name": "6/1/2020",
            "count": 3
           },
           {
            "name": "6/1/2021",
            "count": 1
           },
           {
            "name": "1/1/2020",
            "count": 1
           }
          ]
         }
        },
        {
         "name": "potential_risk",
         "dtype": "bool",
         "stats": {
          "unique_count": 2,
          "nan_count": 0,
          "categories": [
           {
            "name": "False",
            "count": 4
           },
           {
            "name": "True",
            "count": 1
           }
          ]
         }
        },
        {
         "name": "_deepnote_index_column",
         "dtype": "int64"
        }
       ],
       "rows_top": [
        {
         "animal": "hamster",
         "age": 0.5,
         "visits": 0,
         "priority": "True",
         "owner_not_important": 0,
         "owner": "Dan",
         "registration_time": "6/1/2020",
         "potential_risk": "False",
         "_deepnote_index_column": 0
        },
        {
         "animal": "hamster",
         "age": 1.3,
         "visits": 1,
         "priority": "True",
         "owner_not_important": 0,
         "owner": "Dan",
         "registration_time": "6/1/2020",
         "potential_risk": "False",
         "_deepnote_index_column": 1
        },
        {
         "animal": "fish",
         "age": 3,
         "visits": 0,
         "priority": "True",
         "owner_not_important": 1,
         "owner": "Peter",
         "registration_time": "6/1/2021",
         "potential_risk": "False",
         "_deepnote_index_column": 2
        },
        {
         "animal": "cat",
         "age": "nan",
         "visits": 4,
         "priority": "False",
         "owner_not_important": 3,
         "owner": "Stevenson",
         "registration_time": "1/1/2020",
         "potential_risk": "True",
         "_deepnote_index_column": 3
        },
        {
         "animal": "ferret",
         "age": 2,
         "visits": 2,
         "priority": "False",
         "owner_not_important": 4,
         "owner": "Fox",
         "registration_time": "6/1/2020",
         "potential_risk": "False",
         "_deepnote_index_column": 4
        }
       ],
       "rows_bottom": null
      },
      "text/plain": "    animal  age  visits  priority  owner_not_important      owner  \\\n0  hamster  0.5       0      True                    0        Dan   \n1  hamster  1.3       1      True                    0        Dan   \n2     fish  3.0       0      True                    1      Peter   \n3      cat  NaN       4     False                    3  Stevenson   \n4   ferret  2.0       2     False                    4        Fox   \n\n  registration_time  potential_risk  \n0          6/1/2020           False  \n1          6/1/2020           False  \n2          6/1/2021           False  \n3          1/1/2020            True  \n4          6/1/2020           False  ",
      "text/html": "<div>\n<style scoped>\n    .dataframe tbody tr th:only-of-type {\n        vertical-align: middle;\n    }\n\n    .dataframe tbody tr th {\n        vertical-align: top;\n    }\n\n    .dataframe thead th {\n        text-align: right;\n    }\n</style>\n<table border=\"1\" class=\"dataframe\">\n  <thead>\n    <tr style=\"text-align: right;\">\n      <th></th>\n      <th>animal</th>\n      <th>age</th>\n      <th>visits</th>\n      <th>priority</th>\n      <th>owner_not_important</th>\n      <th>owner</th>\n      <th>registration_time</th>\n      <th>potential_risk</th>\n    </tr>\n  </thead>\n  <tbody>\n    <tr>\n      <th>0</th>\n      <td>hamster</td>\n      <td>0.5</td>\n      <td>0</td>\n      <td>True</td>\n      <td>0</td>\n      <td>Dan</td>\n      <td>6/1/2020</td>\n      <td>False</td>\n    </tr>\n    <tr>\n      <th>1</th>\n      <td>hamster</td>\n      <td>1.3</td>\n      <td>1</td>\n      <td>True</td>\n      <td>0</td>\n      <td>Dan</td>\n      <td>6/1/2020</td>\n      <td>False</td>\n    </tr>\n    <tr>\n      <th>2</th>\n      <td>fish</td>\n      <td>3.0</td>\n      <td>0</td>\n      <td>True</td>\n      <td>1</td>\n      <td>Peter</td>\n      <td>6/1/2021</td>\n      <td>False</td>\n    </tr>\n    <tr>\n      <th>3</th>\n      <td>cat</td>\n      <td>NaN</td>\n      <td>4</td>\n      <td>False</td>\n      <td>3</td>\n      <td>Stevenson</td>\n      <td>1/1/2020</td>\n      <td>True</td>\n    </tr>\n    <tr>\n      <th>4</th>\n      <td>ferret</td>\n      <td>2.0</td>\n      <td>2</td>\n      <td>False</td>\n      <td>4</td>\n      <td>Fox</td>\n      <td>6/1/2020</td>\n      <td>False</td>\n    </tr>\n  </tbody>\n</table>\n</div>"
     },
     "metadata": {}
    }
   ]
  },
  {
   "cell_type": "markdown",
   "source": "---\nAnimal hospital has been contacted that a customer who has visited, wishes to delete his data from the system.\n\n20. Create a fucntion `delete_customer_data(df_data, customer_name)` such that it deletes all rows where `owner` is `customer_name`. return `df_data` where you remove the data.",
   "metadata": {
    "tags": [],
    "cell_id": "00042-256de4d8-0fb7-4e10-881d-edb830d98134",
    "deepnote_cell_type": "markdown"
   }
  },
  {
   "cell_type": "code",
   "metadata": {
    "tags": [],
    "cell_id": "00043-e8d5a01b-a633-4eac-89d2-9eb640edd76a",
    "deepnote_to_be_reexecuted": false,
    "source_hash": "1aeb3b2a",
    "execution_start": 1625589303295,
    "execution_millis": 5,
    "deepnote_cell_type": "code"
   },
   "source": "def delete_customer_data(df_data, customer_name):\n    index_names = df_data[df_data['owner'] == customer_name ].index\n    df_data.drop(index_names, inplace = True)\n    return df_data\n\ndf_dropped = delete_customer_data(df_final, \"Peter\")\ndf_dropped.head()",
   "execution_count": null,
   "outputs": [
    {
     "output_type": "execute_result",
     "execution_count": 203,
     "data": {
      "application/vnd.deepnote.dataframe.v2+json": {
       "row_count": 5,
       "column_count": 8,
       "columns": [
        {
         "name": "animal",
         "dtype": "object",
         "stats": {
          "unique_count": 3,
          "nan_count": 0,
          "categories": [
           {
            "name": "hamster",
            "count": 2
           },
           {
            "name": "cat",
            "count": 2
           },
           {
            "name": "ferret",
            "count": 1
           }
          ]
         }
        },
        {
         "name": "age",
         "dtype": "float64",
         "stats": {
          "unique_count": 4,
          "nan_count": 1,
          "min": "0.5",
          "max": "5.0",
          "histogram": [
           {
            "bin_start": 0.5,
            "bin_end": 0.95,
            "count": 1
           },
           {
            "bin_start": 0.95,
            "bin_end": 1.4,
            "count": 1
           },
           {
            "bin_start": 1.4,
            "bin_end": 1.85,
            "count": 0
           },
           {
            "bin_start": 1.85,
            "bin_end": 2.3,
            "count": 1
           },
           {
            "bin_start": 2.3,
            "bin_end": 2.75,
            "count": 0
           },
           {
            "bin_start": 2.75,
            "bin_end": 3.2,
            "count": 0
           },
           {
            "bin_start": 3.2,
            "bin_end": 3.65,
            "count": 0
           },
           {
            "bin_start": 3.65,
            "bin_end": 4.1,
            "count": 0
           },
           {
            "bin_start": 4.1,
            "bin_end": 4.55,
            "count": 0
           },
           {
            "bin_start": 4.55,
            "bin_end": 5,
            "count": 1
           }
          ]
         }
        },
        {
         "name": "visits",
         "dtype": "int64",
         "stats": {
          "unique_count": 4,
          "nan_count": 0,
          "min": "0",
          "max": "4",
          "histogram": [
           {
            "bin_start": 0,
            "bin_end": 0.4,
            "count": 1
           },
           {
            "bin_start": 0.4,
            "bin_end": 0.8,
            "count": 0
           },
           {
            "bin_start": 0.8,
            "bin_end": 1.2000000000000002,
            "count": 2
           },
           {
            "bin_start": 1.2000000000000002,
            "bin_end": 1.6,
            "count": 0
           },
           {
            "bin_start": 1.6,
            "bin_end": 2,
            "count": 0
           },
           {
            "bin_start": 2,
            "bin_end": 2.4000000000000004,
            "count": 1
           },
           {
            "bin_start": 2.4000000000000004,
            "bin_end": 2.8000000000000003,
            "count": 0
           },
           {
            "bin_start": 2.8000000000000003,
            "bin_end": 3.2,
            "count": 0
           },
           {
            "bin_start": 3.2,
            "bin_end": 3.6,
            "count": 0
           },
           {
            "bin_start": 3.6,
            "bin_end": 4,
            "count": 1
           }
          ]
         }
        },
        {
         "name": "priority",
         "dtype": "bool",
         "stats": {
          "unique_count": 2,
          "nan_count": 0,
          "categories": [
           {
            "name": "True",
            "count": 3
           },
           {
            "name": "False",
            "count": 2
           }
          ]
         }
        },
        {
         "name": "owner_not_important",
         "dtype": "int64",
         "stats": {
          "unique_count": 4,
          "nan_count": 0,
          "min": "0",
          "max": "5",
          "histogram": [
           {
            "bin_start": 0,
            "bin_end": 0.5,
            "count": 2
           },
           {
            "bin_start": 0.5,
            "bin_end": 1,
            "count": 0
           },
           {
            "bin_start": 1,
            "bin_end": 1.5,
            "count": 0
           },
           {
            "bin_start": 1.5,
            "bin_end": 2,
            "count": 0
           },
           {
            "bin_start": 2,
            "bin_end": 2.5,
            "count": 0
           },
           {
            "bin_start": 2.5,
            "bin_end": 3,
            "count": 0
           },
           {
            "bin_start": 3,
            "bin_end": 3.5,
            "count": 1
           },
           {
            "bin_start": 3.5,
            "bin_end": 4,
            "count": 0
           },
           {
            "bin_start": 4,
            "bin_end": 4.5,
            "count": 1
           },
           {
            "bin_start": 4.5,
            "bin_end": 5,
            "count": 1
           }
          ]
         }
        },
        {
         "name": "owner",
         "dtype": "object",
         "stats": {
          "unique_count": 4,
          "nan_count": 0,
          "categories": [
           {
            "name": "Dan",
            "count": 2
           },
           {
            "name": "Stevenson",
            "count": 1
           },
           {
            "name": "2 others",
            "count": 2
           }
          ]
         }
        },
        {
         "name": "registration_time",
         "dtype": "object",
         "stats": {
          "unique_count": 3,
          "nan_count": 0,
          "categories": [
           {
            "name": "6/1/2020",
            "count": 3
           },
           {
            "name": "1/1/2020",
            "count": 1
           },
           {
            "name": "6/5/2020",
            "count": 1
           }
          ]
         }
        },
        {
         "name": "potential_risk",
         "dtype": "bool",
         "stats": {
          "unique_count": 2,
          "nan_count": 0,
          "categories": [
           {
            "name": "False",
            "count": 4
           },
           {
            "name": "True",
            "count": 1
           }
          ]
         }
        },
        {
         "name": "_deepnote_index_column",
         "dtype": "int64"
        }
       ],
       "rows_top": [
        {
         "animal": "hamster",
         "age": 0.5,
         "visits": 0,
         "priority": "True",
         "owner_not_important": 0,
         "owner": "Dan",
         "registration_time": "6/1/2020",
         "potential_risk": "False",
         "_deepnote_index_column": 0
        },
        {
         "animal": "hamster",
         "age": 1.3,
         "visits": 1,
         "priority": "True",
         "owner_not_important": 0,
         "owner": "Dan",
         "registration_time": "6/1/2020",
         "potential_risk": "False",
         "_deepnote_index_column": 1
        },
        {
         "animal": "cat",
         "age": "nan",
         "visits": 4,
         "priority": "False",
         "owner_not_important": 3,
         "owner": "Stevenson",
         "registration_time": "1/1/2020",
         "potential_risk": "True",
         "_deepnote_index_column": 3
        },
        {
         "animal": "ferret",
         "age": 2,
         "visits": 2,
         "priority": "False",
         "owner_not_important": 4,
         "owner": "Fox",
         "registration_time": "6/1/2020",
         "potential_risk": "False",
         "_deepnote_index_column": 4
        },
        {
         "animal": "cat",
         "age": 5,
         "visits": 1,
         "priority": "True",
         "owner_not_important": 5,
         "owner": "Martin",
         "registration_time": "6/5/2020",
         "potential_risk": "False",
         "_deepnote_index_column": 5
        }
       ],
       "rows_bottom": null
      },
      "text/plain": "    animal  age  visits  priority  owner_not_important      owner  \\\n0  hamster  0.5       0      True                    0        Dan   \n1  hamster  1.3       1      True                    0        Dan   \n3      cat  NaN       4     False                    3  Stevenson   \n4   ferret  2.0       2     False                    4        Fox   \n5      cat  5.0       1      True                    5     Martin   \n\n  registration_time  potential_risk  \n0          6/1/2020           False  \n1          6/1/2020           False  \n3          1/1/2020            True  \n4          6/1/2020           False  \n5          6/5/2020           False  ",
      "text/html": "<div>\n<style scoped>\n    .dataframe tbody tr th:only-of-type {\n        vertical-align: middle;\n    }\n\n    .dataframe tbody tr th {\n        vertical-align: top;\n    }\n\n    .dataframe thead th {\n        text-align: right;\n    }\n</style>\n<table border=\"1\" class=\"dataframe\">\n  <thead>\n    <tr style=\"text-align: right;\">\n      <th></th>\n      <th>animal</th>\n      <th>age</th>\n      <th>visits</th>\n      <th>priority</th>\n      <th>owner_not_important</th>\n      <th>owner</th>\n      <th>registration_time</th>\n      <th>potential_risk</th>\n    </tr>\n  </thead>\n  <tbody>\n    <tr>\n      <th>0</th>\n      <td>hamster</td>\n      <td>0.5</td>\n      <td>0</td>\n      <td>True</td>\n      <td>0</td>\n      <td>Dan</td>\n      <td>6/1/2020</td>\n      <td>False</td>\n    </tr>\n    <tr>\n      <th>1</th>\n      <td>hamster</td>\n      <td>1.3</td>\n      <td>1</td>\n      <td>True</td>\n      <td>0</td>\n      <td>Dan</td>\n      <td>6/1/2020</td>\n      <td>False</td>\n    </tr>\n    <tr>\n      <th>3</th>\n      <td>cat</td>\n      <td>NaN</td>\n      <td>4</td>\n      <td>False</td>\n      <td>3</td>\n      <td>Stevenson</td>\n      <td>1/1/2020</td>\n      <td>True</td>\n    </tr>\n    <tr>\n      <th>4</th>\n      <td>ferret</td>\n      <td>2.0</td>\n      <td>2</td>\n      <td>False</td>\n      <td>4</td>\n      <td>Fox</td>\n      <td>6/1/2020</td>\n      <td>False</td>\n    </tr>\n    <tr>\n      <th>5</th>\n      <td>cat</td>\n      <td>5.0</td>\n      <td>1</td>\n      <td>True</td>\n      <td>5</td>\n      <td>Martin</td>\n      <td>6/5/2020</td>\n      <td>False</td>\n    </tr>\n  </tbody>\n</table>\n</div>"
     },
     "metadata": {}
    }
   ]
  },
  {
   "cell_type": "markdown",
   "source": "---\n21. Try searching for `Dan` in `df_dropped`. Is the owner gone?",
   "metadata": {
    "tags": [],
    "cell_id": "00044-a4eb1576-273b-4628-a130-4cb24bfcdc85",
    "deepnote_cell_type": "markdown"
   }
  },
  {
   "cell_type": "code",
   "metadata": {
    "tags": [],
    "cell_id": "00045-631a69bd-7204-474a-ba1f-6306298ff2c5",
    "deepnote_to_be_reexecuted": false,
    "source_hash": "8ece0fdc",
    "execution_start": 1625589318338,
    "execution_millis": 14,
    "deepnote_cell_type": "code"
   },
   "source": "df_dropped[df_dropped[\"owner\"] == \"Peter\"]",
   "execution_count": null,
   "outputs": [
    {
     "output_type": "execute_result",
     "execution_count": 205,
     "data": {
      "application/vnd.deepnote.dataframe.v2+json": {
       "row_count": 0,
       "column_count": 8,
       "columns": [
        {
         "name": "animal",
         "dtype": "object",
         "stats": {
          "unique_count": 0,
          "nan_count": 0,
          "categories": []
         }
        },
        {
         "name": "age",
         "dtype": "float64",
         "stats": {
          "unique_count": 0,
          "nan_count": 0,
          "min": null,
          "max": null,
          "histogram": [
           {
            "bin_start": 0,
            "bin_end": 0.1,
            "count": 0
           },
           {
            "bin_start": 0.1,
            "bin_end": 0.2,
            "count": 0
           },
           {
            "bin_start": 0.2,
            "bin_end": 0.30000000000000004,
            "count": 0
           },
           {
            "bin_start": 0.30000000000000004,
            "bin_end": 0.4,
            "count": 0
           },
           {
            "bin_start": 0.4,
            "bin_end": 0.5,
            "count": 0
           },
           {
            "bin_start": 0.5,
            "bin_end": 0.6000000000000001,
            "count": 0
           },
           {
            "bin_start": 0.6000000000000001,
            "bin_end": 0.7000000000000001,
            "count": 0
           },
           {
            "bin_start": 0.7000000000000001,
            "bin_end": 0.8,
            "count": 0
           },
           {
            "bin_start": 0.8,
            "bin_end": 0.9,
            "count": 0
           },
           {
            "bin_start": 0.9,
            "bin_end": 1,
            "count": 0
           }
          ]
         }
        },
        {
         "name": "visits",
         "dtype": "int64",
         "stats": {
          "unique_count": 0,
          "nan_count": 0,
          "min": null,
          "max": null,
          "histogram": [
           {
            "bin_start": 0,
            "bin_end": 0.1,
            "count": 0
           },
           {
            "bin_start": 0.1,
            "bin_end": 0.2,
            "count": 0
           },
           {
            "bin_start": 0.2,
            "bin_end": 0.30000000000000004,
            "count": 0
           },
           {
            "bin_start": 0.30000000000000004,
            "bin_end": 0.4,
            "count": 0
           },
           {
            "bin_start": 0.4,
            "bin_end": 0.5,
            "count": 0
           },
           {
            "bin_start": 0.5,
            "bin_end": 0.6000000000000001,
            "count": 0
           },
           {
            "bin_start": 0.6000000000000001,
            "bin_end": 0.7000000000000001,
            "count": 0
           },
           {
            "bin_start": 0.7000000000000001,
            "bin_end": 0.8,
            "count": 0
           },
           {
            "bin_start": 0.8,
            "bin_end": 0.9,
            "count": 0
           },
           {
            "bin_start": 0.9,
            "bin_end": 1,
            "count": 0
           }
          ]
         }
        },
        {
         "name": "priority",
         "dtype": "bool",
         "stats": {
          "unique_count": 0,
          "nan_count": 0,
          "categories": []
         }
        },
        {
         "name": "owner_not_important",
         "dtype": "int64",
         "stats": {
          "unique_count": 0,
          "nan_count": 0,
          "min": null,
          "max": null,
          "histogram": [
           {
            "bin_start": 0,
            "bin_end": 0.1,
            "count": 0
           },
           {
            "bin_start": 0.1,
            "bin_end": 0.2,
            "count": 0
           },
           {
            "bin_start": 0.2,
            "bin_end": 0.30000000000000004,
            "count": 0
           },
           {
            "bin_start": 0.30000000000000004,
            "bin_end": 0.4,
            "count": 0
           },
           {
            "bin_start": 0.4,
            "bin_end": 0.5,
            "count": 0
           },
           {
            "bin_start": 0.5,
            "bin_end": 0.6000000000000001,
            "count": 0
           },
           {
            "bin_start": 0.6000000000000001,
            "bin_end": 0.7000000000000001,
            "count": 0
           },
           {
            "bin_start": 0.7000000000000001,
            "bin_end": 0.8,
            "count": 0
           },
           {
            "bin_start": 0.8,
            "bin_end": 0.9,
            "count": 0
           },
           {
            "bin_start": 0.9,
            "bin_end": 1,
            "count": 0
           }
          ]
         }
        },
        {
         "name": "owner",
         "dtype": "object",
         "stats": {
          "unique_count": 0,
          "nan_count": 0,
          "categories": []
         }
        },
        {
         "name": "registration_time",
         "dtype": "object",
         "stats": {
          "unique_count": 0,
          "nan_count": 0,
          "categories": []
         }
        },
        {
         "name": "potential_risk",
         "dtype": "bool",
         "stats": {
          "unique_count": 0,
          "nan_count": 0,
          "categories": []
         }
        },
        {
         "name": "_deepnote_index_column",
         "dtype": "int64"
        }
       ],
       "rows_top": [],
       "rows_bottom": null
      },
      "text/plain": "Empty DataFrame\nColumns: [animal, age, visits, priority, owner_not_important, owner, registration_time, potential_risk]\nIndex: []",
      "text/html": "<div>\n<style scoped>\n    .dataframe tbody tr th:only-of-type {\n        vertical-align: middle;\n    }\n\n    .dataframe tbody tr th {\n        vertical-align: top;\n    }\n\n    .dataframe thead th {\n        text-align: right;\n    }\n</style>\n<table border=\"1\" class=\"dataframe\">\n  <thead>\n    <tr style=\"text-align: right;\">\n      <th></th>\n      <th>animal</th>\n      <th>age</th>\n      <th>visits</th>\n      <th>priority</th>\n      <th>owner_not_important</th>\n      <th>owner</th>\n      <th>registration_time</th>\n      <th>potential_risk</th>\n    </tr>\n  </thead>\n  <tbody>\n  </tbody>\n</table>\n</div>"
     },
     "metadata": {}
    }
   ]
  },
  {
   "cell_type": "markdown",
   "source": "---\nHospital wants to see the final data.\n\n22. Save the `df_dropped` as excel, inside `/work/data/homework 7` folder.",
   "metadata": {
    "tags": [],
    "cell_id": "00048-876f13fe-a98c-4766-b614-a72d7d6928fd",
    "deepnote_cell_type": "markdown"
   }
  },
  {
   "cell_type": "code",
   "metadata": {
    "tags": [],
    "cell_id": "00056-c75d0d1b-d71e-4d2f-8561-3c738fe30487",
    "deepnote_to_be_reexecuted": false,
    "source_hash": "fa1e8da",
    "execution_start": 1625589403834,
    "execution_millis": 23,
    "deepnote_cell_type": "code"
   },
   "source": "df_dropped.to_csv(\"/work/Homework/saved files/homework_7.csv\")",
   "execution_count": null,
   "outputs": []
  },
  {
   "cell_type": "markdown",
   "source": "<a style='text-decoration:none;line-height:16px;display:flex;color:#5B5B62;padding:10px;justify-content:end;' href='https://deepnote.com?utm_source=created-in-deepnote-cell&projectId=7d3ce7c8-a514-49e4-9ba4-a5899ac52ea5' target=\"_blank\">\n<img alt='Created in deepnote.com' style='display:inline;max-height:16px;margin:0px;margin-right:7.5px;' src='data:image/svg+xml;base64,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' > </img>\nCreated in <span style='font-weight:600;margin-left:4px;'>Deepnote</span></a>",
   "metadata": {
    "tags": [],
    "created_in_deepnote_cell": true,
    "deepnote_cell_type": "markdown"
   }
  }
 ],
 "nbformat": 4,
 "nbformat_minor": 2,
 "metadata": {
  "orig_nbformat": 2,
  "deepnote": {
   "is_reactive": false
  },
  "deepnote_notebook_id": "91827e0a-eb2e-49e2-90aa-5a22d40f881e",
  "deepnote_execution_queue": []
 }
}