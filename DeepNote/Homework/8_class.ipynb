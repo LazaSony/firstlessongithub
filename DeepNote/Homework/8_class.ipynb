{
 "cells": [
  {
   "cell_type": "markdown",
   "source": "1. Create a class `Circle()` \n2. make initializer such that it has `x`, `y`, `r` arguments, where `x,y` are coordinates of the centre, and `r` stands for radius.\n\n2.5 set a default value for `x` and `y` to `0`\n\n3. create a function `area()` which calculates area of the circle. Equation is `3.14 * radius to the 2nd power`, return the result\n4. create a function `circumference()` which calculates the circumference of the circle. Equation is `2 * 3.14 * radius`, return the result\n5. create a function `print_summary()` which when it is called it prints text: `f\"Circle's center is at ({x}, {y}), radius is {R}, its area is {area()}, and circumference is {circumference()}\"`",
   "metadata": {
    "tags": [],
    "cell_id": "00000-96940241-9359-4fe0-a05f-fb6d56473799",
    "deepnote_cell_type": "markdown"
   }
  },
  {
   "cell_type": "code",
   "metadata": {
    "tags": [],
    "cell_id": "00000-a792ae3c-a551-4278-be2b-3e9a33e5d58c",
    "deepnote_to_be_reexecuted": false,
    "source_hash": "6186bbd3",
    "execution_start": 1626104520958,
    "execution_millis": 9,
    "output_cleared": false,
    "deepnote_cell_type": "code"
   },
   "source": "class Circle():\n    PI = 3.14\n\n    def __init__(self,r,x=0,y=0):\n        self.r = r\n        self.x = x\n        self.y = y\n\n    def __str__(self):\n        return \"WHATEVER IS HERE, This is a circle with radius of {}\".format(self.r)\n\n    def area(self):\n        self.equation_area = self.PI * self.r**2\n        return \"This is a equation_area of {}\".format(self.equation_area) # f\"This is a equation_area of {self.equation_area}\"\n\n    def circumference(self):\n        return 2 * self.PI * self.r\n\n    def print_summary(self):\n        return \"Circle's center is at ({}, {}), radius is {},its area is {},and circumference is {}\".format(self.x,self.y,self.r,self.area(),self.circumference())  \n\n    \n# do not remove these, the are for testing once you write the class, to see if it works\ntest_circle = Circle(13)\nprint(test_circle)\nprint(test_circle.area())\nprint(test_circle.circumference())\ntest_circle.print_summary()\n",
   "execution_count": null,
   "outputs": [
    {
     "name": "stdout",
     "text": "WHATEVER IS HERE, This is a circle with radius of 13\nThis is a equation_area of 530.66\n81.64\n",
     "output_type": "stream"
    },
    {
     "output_type": "execute_result",
     "execution_count": 19,
     "data": {
      "text/plain": "\"Circle's center is at (0, 0), radius is 13,its area is This is a equation_area of 530.66,and circumference is 81.64\""
     },
     "metadata": {}
    }
   ]
  },
  {
   "cell_type": "markdown",
   "source": "1. Create a class `Account()`\n2. make initializer such that it has `name`, `account_number`, `initial_balance` arguments, and create class instance variables `self.name`, `self.account_number`, and `self.balance`\n3. create function `deposit()` which has `amount` argument, and when it is called, it prints the current balance, it then adds amount to the balance of the account, and prints the new account balance\n4. create function `withdraw()` which does same as above, but instead of adding, it subtracts the value from the balance\n5. create a function `print_summary()` which when it is called it prints `f\"{name}'s account number {account_number} has balance: £ {balance}\"` ",
   "metadata": {
    "tags": [],
    "cell_id": "00002-7e40cc3a-ebe8-47fa-959d-7404e01dd515",
    "deepnote_cell_type": "markdown"
   }
  },
  {
   "cell_type": "code",
   "metadata": {
    "tags": [],
    "cell_id": "00002-75b9d419-1d22-43dd-9d53-92094d5f7544",
    "deepnote_to_be_reexecuted": false,
    "source_hash": "155d4136",
    "execution_start": 1626104731173,
    "execution_millis": 10,
    "output_cleared": false,
    "deepnote_cell_type": "code"
   },
   "source": "class Account():\n    def __init__(self,name,account_number,initial_balance):\n        self.name = name\n        self.account_number = account_number\n        self.balance = initial_balance\n\n    def deposit(self,amount):\n        print(\"The current balance amount:{}\".format(self.balance))\n        self.balance = self.balance + amount\n        print(\"The current balance amount:{}\".format(self.balance))\n\n    def withdraw(self,amount):\n        self.balance = self.balance - amount\n        print(\"The new balance amount:{}\".format(self.balance))\n\n    def print_summary(self):\n        return \"{}s account number {} has balance: £ {}\".format(self.name,self.account_number,self.balance)    \n\n\n\n\n# do not remove these, the are for testing once you write the class, to see if it works\ntest_account = Account('Dan', '1234567', 20000)\ntest_account.deposit(1000)\ntest_account.withdraw(4000)\ntest_account.withdraw(3500)\ntest_account.print_summary()\n\n",
   "execution_count": null,
   "outputs": [
    {
     "name": "stdout",
     "text": "The current balance amount:20000\nThe current balance amount:21000\nThe new balance amount:17000\nThe new balance amount:13500\n",
     "output_type": "stream"
    },
    {
     "output_type": "execute_result",
     "execution_count": 27,
     "data": {
      "text/plain": "'Dans account number 1234567 has balance: £ 13500'"
     },
     "metadata": {}
    }
   ]
  },
  {
   "cell_type": "markdown",
   "source": "<a style='text-decoration:none;line-height:16px;display:flex;color:#5B5B62;padding:10px;justify-content:end;' href='https://deepnote.com?utm_source=created-in-deepnote-cell&projectId=7d3ce7c8-a514-49e4-9ba4-a5899ac52ea5' target=\"_blank\">\n<img alt='Created in deepnote.com' style='display:inline;max-height:16px;margin:0px;margin-right:7.5px;' src='data:image/svg+xml;base64,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' > </img>\nCreated in <span style='font-weight:600;margin-left:4px;'>Deepnote</span></a>",
   "metadata": {
    "tags": [],
    "created_in_deepnote_cell": true,
    "deepnote_cell_type": "markdown"
   }
  }
 ],
 "nbformat": 4,
 "nbformat_minor": 2,
 "metadata": {
  "orig_nbformat": 2,
  "deepnote": {
   "is_reactive": false
  },
  "deepnote_notebook_id": "38eed7c9-fbd0-4835-9f38-96b3f32f99a3",
  "deepnote_execution_queue": []
 }
}