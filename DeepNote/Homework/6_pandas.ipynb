{
 "cells": [
  {
   "cell_type": "markdown",
   "source": "Hints are at the very bottom. If you don't remember something, first, feel free to refernce the pandas lesson / try to look online, and if it's taking too much time/you are struggling, see hints.\n\n---",
   "metadata": {
    "tags": [],
    "cell_id": "00000-c4ddfc92-5bfe-40f8-b167-b2433761e3b7",
    "deepnote_cell_type": "markdown"
   }
  },
  {
   "cell_type": "markdown",
   "source": "1. Url is link to the data-set, load it as csv. \n\nCopy and paste it into your browser first and have a look at it. Notice that the entries are separated with `|` and not `,` as usual, so you will need to use argument `sep=\"|\"` when you are loading the data.\n\nNote `sep=\",\"` is default!",
   "metadata": {
    "tags": [],
    "cell_id": "00000-4a908f91-d3eb-45a3-af53-16e36892ce59",
    "deepnote_cell_type": "markdown"
   }
  },
  {
   "cell_type": "code",
   "metadata": {
    "tags": [],
    "cell_id": "00000-cc4b3fb2-719b-4403-af08-787ce02fa3e7",
    "deepnote_to_be_reexecuted": false,
    "source_hash": "39d659bd",
    "execution_start": 1624982317201,
    "execution_millis": 149,
    "output_cleared": false,
    "deepnote_cell_type": "code"
   },
   "source": "import pandas as pd\nurl = 'https://raw.githubusercontent.com/justmarkham/DAT8/master/data/u.user'\ndf = pd.read_csv(\"https://raw.githubusercontent.com/justmarkham/DAT8/master/data/u.user\",sep=\"|\",index_col=\"user_id\")\ndf\n",
   "execution_count": null,
   "outputs": [
    {
     "output_type": "execute_result",
     "execution_count": 26,
     "data": {
      "application/vnd.deepnote.dataframe.v2+json": {
       "row_count": 943,
       "column_count": 4,
       "columns": [
        {
         "name": "age",
         "dtype": "int64",
         "stats": {
          "unique_count": 61,
          "nan_count": 0,
          "min": "7",
          "max": "73",
          "histogram": [
           {
            "bin_start": 7,
            "bin_end": 13.6,
            "count": 8
           },
           {
            "bin_start": 13.6,
            "bin_end": 20.2,
            "count": 101
           },
           {
            "bin_start": 20.2,
            "bin_end": 26.799999999999997,
            "count": 197
           },
           {
            "bin_start": 26.799999999999997,
            "bin_end": 33.4,
            "count": 221
           },
           {
            "bin_start": 33.4,
            "bin_end": 40,
            "count": 123
           },
           {
            "bin_start": 40,
            "bin_end": 46.599999999999994,
            "count": 115
           },
           {
            "bin_start": 46.599999999999994,
            "bin_end": 53.199999999999996,
            "count": 111
           },
           {
            "bin_start": 53.199999999999996,
            "bin_end": 59.8,
            "count": 36
           },
           {
            "bin_start": 59.8,
            "bin_end": 66.4,
            "count": 23
           },
           {
            "bin_start": 66.4,
            "bin_end": 73,
            "count": 8
           }
          ]
         }
        },
        {
         "name": "gender",
         "dtype": "object",
         "stats": {
          "unique_count": 2,
          "nan_count": 0,
          "categories": [
           {
            "name": "M",
            "count": 670
           },
           {
            "name": "F",
            "count": 273
           }
          ]
         }
        },
        {
         "name": "occupation",
         "dtype": "object",
         "stats": {
          "unique_count": 21,
          "nan_count": 0,
          "categories": [
           {
            "name": "student",
            "count": 196
           },
           {
            "name": "other",
            "count": 105
           },
           {
            "name": "19 others",
            "count": 642
           }
          ]
         }
        },
        {
         "name": "zip_code",
         "dtype": "object",
         "stats": {
          "unique_count": 795,
          "nan_count": 0,
          "categories": [
           {
            "name": "55414",
            "count": 9
           },
           {
            "name": "55105",
            "count": 6
           },
           {
            "name": "793 others",
            "count": 928
           }
          ]
         }
        },
        {
         "name": "_deepnote_index_column",
         "dtype": "int64"
        }
       ],
       "rows_top": [
        {
         "age": 24,
         "gender": "M",
         "occupation": "technician",
         "zip_code": "85711",
         "_deepnote_index_column": 1
        },
        {
         "age": 53,
         "gender": "F",
         "occupation": "other",
         "zip_code": "94043",
         "_deepnote_index_column": 2
        },
        {
         "age": 23,
         "gender": "M",
         "occupation": "writer",
         "zip_code": "32067",
         "_deepnote_index_column": 3
        },
        {
         "age": 24,
         "gender": "M",
         "occupation": "technician",
         "zip_code": "43537",
         "_deepnote_index_column": 4
        },
        {
         "age": 33,
         "gender": "F",
         "occupation": "other",
         "zip_code": "15213",
         "_deepnote_index_column": 5
        },
        {
         "age": 42,
         "gender": "M",
         "occupation": "executive",
         "zip_code": "98101",
         "_deepnote_index_column": 6
        },
        {
         "age": 57,
         "gender": "M",
         "occupation": "administrator",
         "zip_code": "91344",
         "_deepnote_index_column": 7
        },
        {
         "age": 36,
         "gender": "M",
         "occupation": "administrator",
         "zip_code": "05201",
         "_deepnote_index_column": 8
        },
        {
         "age": 29,
         "gender": "M",
         "occupation": "student",
         "zip_code": "01002",
         "_deepnote_index_column": 9
        },
        {
         "age": 53,
         "gender": "M",
         "occupation": "lawyer",
         "zip_code": "90703",
         "_deepnote_index_column": 10
        },
        {
         "age": 39,
         "gender": "F",
         "occupation": "other",
         "zip_code": "30329",
         "_deepnote_index_column": 11
        },
        {
         "age": 28,
         "gender": "F",
         "occupation": "other",
         "zip_code": "06405",
         "_deepnote_index_column": 12
        },
        {
         "age": 47,
         "gender": "M",
         "occupation": "educator",
         "zip_code": "29206",
         "_deepnote_index_column": 13
        },
        {
         "age": 45,
         "gender": "M",
         "occupation": "scientist",
         "zip_code": "55106",
         "_deepnote_index_column": 14
        },
        {
         "age": 49,
         "gender": "F",
         "occupation": "educator",
         "zip_code": "97301",
         "_deepnote_index_column": 15
        },
        {
         "age": 21,
         "gender": "M",
         "occupation": "entertainment",
         "zip_code": "10309",
         "_deepnote_index_column": 16
        },
        {
         "age": 30,
         "gender": "M",
         "occupation": "programmer",
         "zip_code": "06355",
         "_deepnote_index_column": 17
        },
        {
         "age": 35,
         "gender": "F",
         "occupation": "other",
         "zip_code": "37212",
         "_deepnote_index_column": 18
        },
        {
         "age": 40,
         "gender": "M",
         "occupation": "librarian",
         "zip_code": "02138",
         "_deepnote_index_column": 19
        },
        {
         "age": 42,
         "gender": "F",
         "occupation": "homemaker",
         "zip_code": "95660",
         "_deepnote_index_column": 20
        },
        {
         "age": 26,
         "gender": "M",
         "occupation": "writer",
         "zip_code": "30068",
         "_deepnote_index_column": 21
        },
        {
         "age": 25,
         "gender": "M",
         "occupation": "writer",
         "zip_code": "40206",
         "_deepnote_index_column": 22
        },
        {
         "age": 30,
         "gender": "F",
         "occupation": "artist",
         "zip_code": "48197",
         "_deepnote_index_column": 23
        },
        {
         "age": 21,
         "gender": "F",
         "occupation": "artist",
         "zip_code": "94533",
         "_deepnote_index_column": 24
        },
        {
         "age": 39,
         "gender": "M",
         "occupation": "engineer",
         "zip_code": "55107",
         "_deepnote_index_column": 25
        },
        {
         "age": 49,
         "gender": "M",
         "occupation": "engineer",
         "zip_code": "21044",
         "_deepnote_index_column": 26
        },
        {
         "age": 40,
         "gender": "F",
         "occupation": "librarian",
         "zip_code": "30030",
         "_deepnote_index_column": 27
        },
        {
         "age": 32,
         "gender": "M",
         "occupation": "writer",
         "zip_code": "55369",
         "_deepnote_index_column": 28
        },
        {
         "age": 41,
         "gender": "M",
         "occupation": "programmer",
         "zip_code": "94043",
         "_deepnote_index_column": 29
        },
        {
         "age": 7,
         "gender": "M",
         "occupation": "student",
         "zip_code": "55436",
         "_deepnote_index_column": 30
        },
        {
         "age": 24,
         "gender": "M",
         "occupation": "artist",
         "zip_code": "10003",
         "_deepnote_index_column": 31
        },
        {
         "age": 28,
         "gender": "F",
         "occupation": "student",
         "zip_code": "78741",
         "_deepnote_index_column": 32
        },
        {
         "age": 23,
         "gender": "M",
         "occupation": "student",
         "zip_code": "27510",
         "_deepnote_index_column": 33
        },
        {
         "age": 38,
         "gender": "F",
         "occupation": "administrator",
         "zip_code": "42141",
         "_deepnote_index_column": 34
        },
        {
         "age": 20,
         "gender": "F",
         "occupation": "homemaker",
         "zip_code": "42459",
         "_deepnote_index_column": 35
        },
        {
         "age": 19,
         "gender": "F",
         "occupation": "student",
         "zip_code": "93117",
         "_deepnote_index_column": 36
        },
        {
         "age": 23,
         "gender": "M",
         "occupation": "student",
         "zip_code": "55105",
         "_deepnote_index_column": 37
        },
        {
         "age": 28,
         "gender": "F",
         "occupation": "other",
         "zip_code": "54467",
         "_deepnote_index_column": 38
        },
        {
         "age": 41,
         "gender": "M",
         "occupation": "entertainment",
         "zip_code": "01040",
         "_deepnote_index_column": 39
        },
        {
         "age": 38,
         "gender": "M",
         "occupation": "scientist",
         "zip_code": "27514",
         "_deepnote_index_column": 40
        },
        {
         "age": 33,
         "gender": "M",
         "occupation": "engineer",
         "zip_code": "80525",
         "_deepnote_index_column": 41
        },
        {
         "age": 30,
         "gender": "M",
         "occupation": "administrator",
         "zip_code": "17870",
         "_deepnote_index_column": 42
        },
        {
         "age": 29,
         "gender": "F",
         "occupation": "librarian",
         "zip_code": "20854",
         "_deepnote_index_column": 43
        },
        {
         "age": 26,
         "gender": "M",
         "occupation": "technician",
         "zip_code": "46260",
         "_deepnote_index_column": 44
        },
        {
         "age": 29,
         "gender": "M",
         "occupation": "programmer",
         "zip_code": "50233",
         "_deepnote_index_column": 45
        },
        {
         "age": 27,
         "gender": "F",
         "occupation": "marketing",
         "zip_code": "46538",
         "_deepnote_index_column": 46
        },
        {
         "age": 53,
         "gender": "M",
         "occupation": "marketing",
         "zip_code": "07102",
         "_deepnote_index_column": 47
        },
        {
         "age": 45,
         "gender": "M",
         "occupation": "administrator",
         "zip_code": "12550",
         "_deepnote_index_column": 48
        },
        {
         "age": 23,
         "gender": "F",
         "occupation": "student",
         "zip_code": "76111",
         "_deepnote_index_column": 49
        },
        {
         "age": 21,
         "gender": "M",
         "occupation": "writer",
         "zip_code": "52245",
         "_deepnote_index_column": 50
        },
        {
         "age": 28,
         "gender": "M",
         "occupation": "educator",
         "zip_code": "16509",
         "_deepnote_index_column": 51
        },
        {
         "age": 18,
         "gender": "F",
         "occupation": "student",
         "zip_code": "55105",
         "_deepnote_index_column": 52
        },
        {
         "age": 26,
         "gender": "M",
         "occupation": "programmer",
         "zip_code": "55414",
         "_deepnote_index_column": 53
        },
        {
         "age": 22,
         "gender": "M",
         "occupation": "executive",
         "zip_code": "66315",
         "_deepnote_index_column": 54
        },
        {
         "age": 37,
         "gender": "M",
         "occupation": "programmer",
         "zip_code": "01331",
         "_deepnote_index_column": 55
        },
        {
         "age": 25,
         "gender": "M",
         "occupation": "librarian",
         "zip_code": "46260",
         "_deepnote_index_column": 56
        },
        {
         "age": 16,
         "gender": "M",
         "occupation": "none",
         "zip_code": "84010",
         "_deepnote_index_column": 57
        },
        {
         "age": 27,
         "gender": "M",
         "occupation": "programmer",
         "zip_code": "52246",
         "_deepnote_index_column": 58
        },
        {
         "age": 49,
         "gender": "M",
         "occupation": "educator",
         "zip_code": "08403",
         "_deepnote_index_column": 59
        },
        {
         "age": 50,
         "gender": "M",
         "occupation": "healthcare",
         "zip_code": "06472",
         "_deepnote_index_column": 60
        },
        {
         "age": 36,
         "gender": "M",
         "occupation": "engineer",
         "zip_code": "30040",
         "_deepnote_index_column": 61
        },
        {
         "age": 27,
         "gender": "F",
         "occupation": "administrator",
         "zip_code": "97214",
         "_deepnote_index_column": 62
        },
        {
         "age": 31,
         "gender": "M",
         "occupation": "marketing",
         "zip_code": "75240",
         "_deepnote_index_column": 63
        },
        {
         "age": 32,
         "gender": "M",
         "occupation": "educator",
         "zip_code": "43202",
         "_deepnote_index_column": 64
        },
        {
         "age": 51,
         "gender": "F",
         "occupation": "educator",
         "zip_code": "48118",
         "_deepnote_index_column": 65
        },
        {
         "age": 23,
         "gender": "M",
         "occupation": "student",
         "zip_code": "80521",
         "_deepnote_index_column": 66
        },
        {
         "age": 17,
         "gender": "M",
         "occupation": "student",
         "zip_code": "60402",
         "_deepnote_index_column": 67
        },
        {
         "age": 19,
         "gender": "M",
         "occupation": "student",
         "zip_code": "22904",
         "_deepnote_index_column": 68
        },
        {
         "age": 24,
         "gender": "M",
         "occupation": "engineer",
         "zip_code": "55337",
         "_deepnote_index_column": 69
        },
        {
         "age": 27,
         "gender": "M",
         "occupation": "engineer",
         "zip_code": "60067",
         "_deepnote_index_column": 70
        },
        {
         "age": 39,
         "gender": "M",
         "occupation": "scientist",
         "zip_code": "98034",
         "_deepnote_index_column": 71
        },
        {
         "age": 48,
         "gender": "F",
         "occupation": "administrator",
         "zip_code": "73034",
         "_deepnote_index_column": 72
        },
        {
         "age": 24,
         "gender": "M",
         "occupation": "student",
         "zip_code": "41850",
         "_deepnote_index_column": 73
        },
        {
         "age": 39,
         "gender": "M",
         "occupation": "scientist",
         "zip_code": "T8H1N",
         "_deepnote_index_column": 74
        },
        {
         "age": 24,
         "gender": "M",
         "occupation": "entertainment",
         "zip_code": "08816",
         "_deepnote_index_column": 75
        },
        {
         "age": 20,
         "gender": "M",
         "occupation": "student",
         "zip_code": "02215",
         "_deepnote_index_column": 76
        },
        {
         "age": 30,
         "gender": "M",
         "occupation": "technician",
         "zip_code": "29379",
         "_deepnote_index_column": 77
        },
        {
         "age": 26,
         "gender": "M",
         "occupation": "administrator",
         "zip_code": "61801",
         "_deepnote_index_column": 78
        },
        {
         "age": 39,
         "gender": "F",
         "occupation": "administrator",
         "zip_code": "03755",
         "_deepnote_index_column": 79
        },
        {
         "age": 34,
         "gender": "F",
         "occupation": "administrator",
         "zip_code": "52241",
         "_deepnote_index_column": 80
        },
        {
         "age": 21,
         "gender": "M",
         "occupation": "student",
         "zip_code": "21218",
         "_deepnote_index_column": 81
        },
        {
         "age": 50,
         "gender": "M",
         "occupation": "programmer",
         "zip_code": "22902",
         "_deepnote_index_column": 82
        },
        {
         "age": 40,
         "gender": "M",
         "occupation": "other",
         "zip_code": "44133",
         "_deepnote_index_column": 83
        },
        {
         "age": 32,
         "gender": "M",
         "occupation": "executive",
         "zip_code": "55369",
         "_deepnote_index_column": 84
        },
        {
         "age": 51,
         "gender": "M",
         "occupation": "educator",
         "zip_code": "20003",
         "_deepnote_index_column": 85
        },
        {
         "age": 26,
         "gender": "M",
         "occupation": "administrator",
         "zip_code": "46005",
         "_deepnote_index_column": 86
        },
        {
         "age": 47,
         "gender": "M",
         "occupation": "administrator",
         "zip_code": "89503",
         "_deepnote_index_column": 87
        },
        {
         "age": 49,
         "gender": "F",
         "occupation": "librarian",
         "zip_code": "11701",
         "_deepnote_index_column": 88
        },
        {
         "age": 43,
         "gender": "F",
         "occupation": "administrator",
         "zip_code": "68106",
         "_deepnote_index_column": 89
        },
        {
         "age": 60,
         "gender": "M",
         "occupation": "educator",
         "zip_code": "78155",
         "_deepnote_index_column": 90
        },
        {
         "age": 55,
         "gender": "M",
         "occupation": "marketing",
         "zip_code": "01913",
         "_deepnote_index_column": 91
        },
        {
         "age": 32,
         "gender": "M",
         "occupation": "entertainment",
         "zip_code": "80525",
         "_deepnote_index_column": 92
        },
        {
         "age": 48,
         "gender": "M",
         "occupation": "executive",
         "zip_code": "23112",
         "_deepnote_index_column": 93
        },
        {
         "age": 26,
         "gender": "M",
         "occupation": "student",
         "zip_code": "71457",
         "_deepnote_index_column": 94
        },
        {
         "age": 31,
         "gender": "M",
         "occupation": "administrator",
         "zip_code": "10707",
         "_deepnote_index_column": 95
        },
        {
         "age": 25,
         "gender": "F",
         "occupation": "artist",
         "zip_code": "75206",
         "_deepnote_index_column": 96
        },
        {
         "age": 43,
         "gender": "M",
         "occupation": "artist",
         "zip_code": "98006",
         "_deepnote_index_column": 97
        },
        {
         "age": 49,
         "gender": "F",
         "occupation": "executive",
         "zip_code": "90291",
         "_deepnote_index_column": 98
        },
        {
         "age": 20,
         "gender": "M",
         "occupation": "student",
         "zip_code": "63129",
         "_deepnote_index_column": 99
        },
        {
         "age": 36,
         "gender": "M",
         "occupation": "executive",
         "zip_code": "90254",
         "_deepnote_index_column": 100
        },
        {
         "age": 15,
         "gender": "M",
         "occupation": "student",
         "zip_code": "05146",
         "_deepnote_index_column": 101
        },
        {
         "age": 38,
         "gender": "M",
         "occupation": "programmer",
         "zip_code": "30220",
         "_deepnote_index_column": 102
        },
        {
         "age": 26,
         "gender": "M",
         "occupation": "student",
         "zip_code": "55108",
         "_deepnote_index_column": 103
        },
        {
         "age": 27,
         "gender": "M",
         "occupation": "student",
         "zip_code": "55108",
         "_deepnote_index_column": 104
        },
        {
         "age": 24,
         "gender": "M",
         "occupation": "engineer",
         "zip_code": "94043",
         "_deepnote_index_column": 105
        },
        {
         "age": 61,
         "gender": "M",
         "occupation": "retired",
         "zip_code": "55125",
         "_deepnote_index_column": 106
        },
        {
         "age": 39,
         "gender": "M",
         "occupation": "scientist",
         "zip_code": "60466",
         "_deepnote_index_column": 107
        },
        {
         "age": 44,
         "gender": "M",
         "occupation": "educator",
         "zip_code": "63130",
         "_deepnote_index_column": 108
        },
        {
         "age": 29,
         "gender": "M",
         "occupation": "other",
         "zip_code": "55423",
         "_deepnote_index_column": 109
        },
        {
         "age": 19,
         "gender": "M",
         "occupation": "student",
         "zip_code": "77840",
         "_deepnote_index_column": 110
        },
        {
         "age": 57,
         "gender": "M",
         "occupation": "engineer",
         "zip_code": "90630",
         "_deepnote_index_column": 111
        },
        {
         "age": 30,
         "gender": "M",
         "occupation": "salesman",
         "zip_code": "60613",
         "_deepnote_index_column": 112
        },
        {
         "age": 47,
         "gender": "M",
         "occupation": "executive",
         "zip_code": "95032",
         "_deepnote_index_column": 113
        },
        {
         "age": 27,
         "gender": "M",
         "occupation": "programmer",
         "zip_code": "75013",
         "_deepnote_index_column": 114
        },
        {
         "age": 31,
         "gender": "M",
         "occupation": "engineer",
         "zip_code": "17110",
         "_deepnote_index_column": 115
        },
        {
         "age": 40,
         "gender": "M",
         "occupation": "healthcare",
         "zip_code": "97232",
         "_deepnote_index_column": 116
        },
        {
         "age": 20,
         "gender": "M",
         "occupation": "student",
         "zip_code": "16125",
         "_deepnote_index_column": 117
        },
        {
         "age": 21,
         "gender": "M",
         "occupation": "administrator",
         "zip_code": "90210",
         "_deepnote_index_column": 118
        },
        {
         "age": 32,
         "gender": "M",
         "occupation": "programmer",
         "zip_code": "67401",
         "_deepnote_index_column": 119
        },
        {
         "age": 47,
         "gender": "F",
         "occupation": "other",
         "zip_code": "06260",
         "_deepnote_index_column": 120
        },
        {
         "age": 54,
         "gender": "M",
         "occupation": "librarian",
         "zip_code": "99603",
         "_deepnote_index_column": 121
        },
        {
         "age": 32,
         "gender": "F",
         "occupation": "writer",
         "zip_code": "22206",
         "_deepnote_index_column": 122
        },
        {
         "age": 48,
         "gender": "F",
         "occupation": "artist",
         "zip_code": "20008",
         "_deepnote_index_column": 123
        },
        {
         "age": 34,
         "gender": "M",
         "occupation": "student",
         "zip_code": "60615",
         "_deepnote_index_column": 124
        },
        {
         "age": 30,
         "gender": "M",
         "occupation": "lawyer",
         "zip_code": "22202",
         "_deepnote_index_column": 125
        }
       ],
       "rows_bottom": [
        {
         "age": 59,
         "gender": "M",
         "occupation": "administrator",
         "zip_code": "40205",
         "_deepnote_index_column": 819
        },
        {
         "age": 22,
         "gender": "M",
         "occupation": "student",
         "zip_code": "37725",
         "_deepnote_index_column": 820
        },
        {
         "age": 37,
         "gender": "M",
         "occupation": "engineer",
         "zip_code": "77845",
         "_deepnote_index_column": 821
        },
        {
         "age": 29,
         "gender": "F",
         "occupation": "librarian",
         "zip_code": "53144",
         "_deepnote_index_column": 822
        },
        {
         "age": 27,
         "gender": "M",
         "occupation": "artist",
         "zip_code": "50322",
         "_deepnote_index_column": 823
        },
        {
         "age": 31,
         "gender": "M",
         "occupation": "other",
         "zip_code": "15017",
         "_deepnote_index_column": 824
        },
        {
         "age": 44,
         "gender": "M",
         "occupation": "engineer",
         "zip_code": "05452",
         "_deepnote_index_column": 825
        },
        {
         "age": 28,
         "gender": "M",
         "occupation": "artist",
         "zip_code": "77048",
         "_deepnote_index_column": 826
        },
        {
         "age": 23,
         "gender": "F",
         "occupation": "engineer",
         "zip_code": "80228",
         "_deepnote_index_column": 827
        },
        {
         "age": 28,
         "gender": "M",
         "occupation": "librarian",
         "zip_code": "85282",
         "_deepnote_index_column": 828
        },
        {
         "age": 48,
         "gender": "M",
         "occupation": "writer",
         "zip_code": "80209",
         "_deepnote_index_column": 829
        },
        {
         "age": 46,
         "gender": "M",
         "occupation": "programmer",
         "zip_code": "53066",
         "_deepnote_index_column": 830
        },
        {
         "age": 21,
         "gender": "M",
         "occupation": "other",
         "zip_code": "33765",
         "_deepnote_index_column": 831
        },
        {
         "age": 24,
         "gender": "M",
         "occupation": "technician",
         "zip_code": "77042",
         "_deepnote_index_column": 832
        },
        {
         "age": 34,
         "gender": "M",
         "occupation": "writer",
         "zip_code": "90019",
         "_deepnote_index_column": 833
        },
        {
         "age": 26,
         "gender": "M",
         "occupation": "other",
         "zip_code": "64153",
         "_deepnote_index_column": 834
        },
        {
         "age": 44,
         "gender": "F",
         "occupation": "executive",
         "zip_code": "11577",
         "_deepnote_index_column": 835
        },
        {
         "age": 44,
         "gender": "M",
         "occupation": "artist",
         "zip_code": "10018",
         "_deepnote_index_column": 836
        },
        {
         "age": 36,
         "gender": "F",
         "occupation": "artist",
         "zip_code": "55409",
         "_deepnote_index_column": 837
        },
        {
         "age": 23,
         "gender": "M",
         "occupation": "student",
         "zip_code": "01375",
         "_deepnote_index_column": 838
        },
        {
         "age": 38,
         "gender": "F",
         "occupation": "entertainment",
         "zip_code": "90814",
         "_deepnote_index_column": 839
        },
        {
         "age": 39,
         "gender": "M",
         "occupation": "artist",
         "zip_code": "55406",
         "_deepnote_index_column": 840
        },
        {
         "age": 45,
         "gender": "M",
         "occupation": "doctor",
         "zip_code": "47401",
         "_deepnote_index_column": 841
        },
        {
         "age": 40,
         "gender": "M",
         "occupation": "writer",
         "zip_code": "93055",
         "_deepnote_index_column": 842
        },
        {
         "age": 35,
         "gender": "M",
         "occupation": "librarian",
         "zip_code": "44212",
         "_deepnote_index_column": 843
        },
        {
         "age": 22,
         "gender": "M",
         "occupation": "engineer",
         "zip_code": "95662",
         "_deepnote_index_column": 844
        },
        {
         "age": 64,
         "gender": "M",
         "occupation": "doctor",
         "zip_code": "97405",
         "_deepnote_index_column": 845
        },
        {
         "age": 27,
         "gender": "M",
         "occupation": "lawyer",
         "zip_code": "47130",
         "_deepnote_index_column": 846
        },
        {
         "age": 29,
         "gender": "M",
         "occupation": "student",
         "zip_code": "55417",
         "_deepnote_index_column": 847
        },
        {
         "age": 46,
         "gender": "M",
         "occupation": "engineer",
         "zip_code": "02146",
         "_deepnote_index_column": 848
        },
        {
         "age": 15,
         "gender": "F",
         "occupation": "student",
         "zip_code": "25652",
         "_deepnote_index_column": 849
        },
        {
         "age": 34,
         "gender": "M",
         "occupation": "technician",
         "zip_code": "78390",
         "_deepnote_index_column": 850
        },
        {
         "age": 18,
         "gender": "M",
         "occupation": "other",
         "zip_code": "29646",
         "_deepnote_index_column": 851
        },
        {
         "age": 46,
         "gender": "M",
         "occupation": "administrator",
         "zip_code": "94086",
         "_deepnote_index_column": 852
        },
        {
         "age": 49,
         "gender": "M",
         "occupation": "writer",
         "zip_code": "40515",
         "_deepnote_index_column": 853
        },
        {
         "age": 29,
         "gender": "F",
         "occupation": "student",
         "zip_code": "55408",
         "_deepnote_index_column": 854
        },
        {
         "age": 53,
         "gender": "M",
         "occupation": "librarian",
         "zip_code": "04988",
         "_deepnote_index_column": 855
        },
        {
         "age": 43,
         "gender": "F",
         "occupation": "marketing",
         "zip_code": "97215",
         "_deepnote_index_column": 856
        },
        {
         "age": 35,
         "gender": "F",
         "occupation": "administrator",
         "zip_code": "V1G4L",
         "_deepnote_index_column": 857
        },
        {
         "age": 63,
         "gender": "M",
         "occupation": "educator",
         "zip_code": "09645",
         "_deepnote_index_column": 858
        },
        {
         "age": 18,
         "gender": "F",
         "occupation": "other",
         "zip_code": "06492",
         "_deepnote_index_column": 859
        },
        {
         "age": 70,
         "gender": "F",
         "occupation": "retired",
         "zip_code": "48322",
         "_deepnote_index_column": 860
        },
        {
         "age": 38,
         "gender": "F",
         "occupation": "student",
         "zip_code": "14085",
         "_deepnote_index_column": 861
        },
        {
         "age": 25,
         "gender": "M",
         "occupation": "executive",
         "zip_code": "13820",
         "_deepnote_index_column": 862
        },
        {
         "age": 17,
         "gender": "M",
         "occupation": "student",
         "zip_code": "60089",
         "_deepnote_index_column": 863
        },
        {
         "age": 27,
         "gender": "M",
         "occupation": "programmer",
         "zip_code": "63021",
         "_deepnote_index_column": 864
        },
        {
         "age": 25,
         "gender": "M",
         "occupation": "artist",
         "zip_code": "11231",
         "_deepnote_index_column": 865
        },
        {
         "age": 45,
         "gender": "M",
         "occupation": "other",
         "zip_code": "60302",
         "_deepnote_index_column": 866
        },
        {
         "age": 24,
         "gender": "M",
         "occupation": "scientist",
         "zip_code": "92507",
         "_deepnote_index_column": 867
        },
        {
         "age": 21,
         "gender": "M",
         "occupation": "programmer",
         "zip_code": "55303",
         "_deepnote_index_column": 868
        },
        {
         "age": 30,
         "gender": "M",
         "occupation": "student",
         "zip_code": "10025",
         "_deepnote_index_column": 869
        },
        {
         "age": 22,
         "gender": "M",
         "occupation": "student",
         "zip_code": "65203",
         "_deepnote_index_column": 870
        },
        {
         "age": 31,
         "gender": "M",
         "occupation": "executive",
         "zip_code": "44648",
         "_deepnote_index_column": 871
        },
        {
         "age": 19,
         "gender": "F",
         "occupation": "student",
         "zip_code": "74078",
         "_deepnote_index_column": 872
        },
        {
         "age": 48,
         "gender": "F",
         "occupation": "administrator",
         "zip_code": "33763",
         "_deepnote_index_column": 873
        },
        {
         "age": 36,
         "gender": "M",
         "occupation": "scientist",
         "zip_code": "37076",
         "_deepnote_index_column": 874
        },
        {
         "age": 24,
         "gender": "F",
         "occupation": "student",
         "zip_code": "35802",
         "_deepnote_index_column": 875
        },
        {
         "age": 41,
         "gender": "M",
         "occupation": "other",
         "zip_code": "20902",
         "_deepnote_index_column": 876
        },
        {
         "age": 30,
         "gender": "M",
         "occupation": "other",
         "zip_code": "77504",
         "_deepnote_index_column": 877
        },
        {
         "age": 50,
         "gender": "F",
         "occupation": "educator",
         "zip_code": "98027",
         "_deepnote_index_column": 878
        },
        {
         "age": 33,
         "gender": "F",
         "occupation": "administrator",
         "zip_code": "55337",
         "_deepnote_index_column": 879
        },
        {
         "age": 13,
         "gender": "M",
         "occupation": "student",
         "zip_code": "83702",
         "_deepnote_index_column": 880
        },
        {
         "age": 39,
         "gender": "M",
         "occupation": "marketing",
         "zip_code": "43017",
         "_deepnote_index_column": 881
        },
        {
         "age": 35,
         "gender": "M",
         "occupation": "engineer",
         "zip_code": "40503",
         "_deepnote_index_column": 882
        },
        {
         "age": 49,
         "gender": "M",
         "occupation": "librarian",
         "zip_code": "50266",
         "_deepnote_index_column": 883
        },
        {
         "age": 44,
         "gender": "M",
         "occupation": "engineer",
         "zip_code": "55337",
         "_deepnote_index_column": 884
        },
        {
         "age": 30,
         "gender": "F",
         "occupation": "other",
         "zip_code": "95316",
         "_deepnote_index_column": 885
        },
        {
         "age": 20,
         "gender": "M",
         "occupation": "student",
         "zip_code": "61820",
         "_deepnote_index_column": 886
        },
        {
         "age": 14,
         "gender": "F",
         "occupation": "student",
         "zip_code": "27249",
         "_deepnote_index_column": 887
        },
        {
         "age": 41,
         "gender": "M",
         "occupation": "scientist",
         "zip_code": "17036",
         "_deepnote_index_column": 888
        },
        {
         "age": 24,
         "gender": "M",
         "occupation": "technician",
         "zip_code": "78704",
         "_deepnote_index_column": 889
        },
        {
         "age": 32,
         "gender": "M",
         "occupation": "student",
         "zip_code": "97301",
         "_deepnote_index_column": 890
        },
        {
         "age": 51,
         "gender": "F",
         "occupation": "administrator",
         "zip_code": "03062",
         "_deepnote_index_column": 891
        },
        {
         "age": 36,
         "gender": "M",
         "occupation": "other",
         "zip_code": "45243",
         "_deepnote_index_column": 892
        },
        {
         "age": 25,
         "gender": "M",
         "occupation": "student",
         "zip_code": "95823",
         "_deepnote_index_column": 893
        },
        {
         "age": 47,
         "gender": "M",
         "occupation": "educator",
         "zip_code": "74075",
         "_deepnote_index_column": 894
        },
        {
         "age": 31,
         "gender": "F",
         "occupation": "librarian",
         "zip_code": "32301",
         "_deepnote_index_column": 895
        },
        {
         "age": 28,
         "gender": "M",
         "occupation": "writer",
         "zip_code": "91505",
         "_deepnote_index_column": 896
        },
        {
         "age": 30,
         "gender": "M",
         "occupation": "other",
         "zip_code": "33484",
         "_deepnote_index_column": 897
        },
        {
         "age": 23,
         "gender": "M",
         "occupation": "homemaker",
         "zip_code": "61755",
         "_deepnote_index_column": 898
        },
        {
         "age": 32,
         "gender": "M",
         "occupation": "other",
         "zip_code": "55116",
         "_deepnote_index_column": 899
        },
        {
         "age": 60,
         "gender": "M",
         "occupation": "retired",
         "zip_code": "18505",
         "_deepnote_index_column": 900
        },
        {
         "age": 38,
         "gender": "M",
         "occupation": "executive",
         "zip_code": "L1V3W",
         "_deepnote_index_column": 901
        },
        {
         "age": 45,
         "gender": "F",
         "occupation": "artist",
         "zip_code": "97203",
         "_deepnote_index_column": 902
        },
        {
         "age": 28,
         "gender": "M",
         "occupation": "educator",
         "zip_code": "20850",
         "_deepnote_index_column": 903
        },
        {
         "age": 17,
         "gender": "F",
         "occupation": "student",
         "zip_code": "61073",
         "_deepnote_index_column": 904
        },
        {
         "age": 27,
         "gender": "M",
         "occupation": "other",
         "zip_code": "30350",
         "_deepnote_index_column": 905
        },
        {
         "age": 45,
         "gender": "M",
         "occupation": "librarian",
         "zip_code": "70124",
         "_deepnote_index_column": 906
        },
        {
         "age": 25,
         "gender": "F",
         "occupation": "other",
         "zip_code": "80526",
         "_deepnote_index_column": 907
        },
        {
         "age": 44,
         "gender": "F",
         "occupation": "librarian",
         "zip_code": "68504",
         "_deepnote_index_column": 908
        },
        {
         "age": 50,
         "gender": "F",
         "occupation": "educator",
         "zip_code": "53171",
         "_deepnote_index_column": 909
        },
        {
         "age": 28,
         "gender": "M",
         "occupation": "healthcare",
         "zip_code": "29301",
         "_deepnote_index_column": 910
        },
        {
         "age": 37,
         "gender": "F",
         "occupation": "writer",
         "zip_code": "53210",
         "_deepnote_index_column": 911
        },
        {
         "age": 51,
         "gender": "M",
         "occupation": "other",
         "zip_code": "06512",
         "_deepnote_index_column": 912
        },
        {
         "age": 27,
         "gender": "M",
         "occupation": "student",
         "zip_code": "76201",
         "_deepnote_index_column": 913
        },
        {
         "age": 44,
         "gender": "F",
         "occupation": "other",
         "zip_code": "08105",
         "_deepnote_index_column": 914
        },
        {
         "age": 50,
         "gender": "M",
         "occupation": "entertainment",
         "zip_code": "60614",
         "_deepnote_index_column": 915
        },
        {
         "age": 27,
         "gender": "M",
         "occupation": "engineer",
         "zip_code": "N2L5N",
         "_deepnote_index_column": 916
        },
        {
         "age": 22,
         "gender": "F",
         "occupation": "student",
         "zip_code": "20006",
         "_deepnote_index_column": 917
        },
        {
         "age": 40,
         "gender": "M",
         "occupation": "scientist",
         "zip_code": "70116",
         "_deepnote_index_column": 918
        },
        {
         "age": 25,
         "gender": "M",
         "occupation": "other",
         "zip_code": "14216",
         "_deepnote_index_column": 919
        },
        {
         "age": 30,
         "gender": "F",
         "occupation": "artist",
         "zip_code": "90008",
         "_deepnote_index_column": 920
        },
        {
         "age": 20,
         "gender": "F",
         "occupation": "student",
         "zip_code": "98801",
         "_deepnote_index_column": 921
        },
        {
         "age": 29,
         "gender": "F",
         "occupation": "administrator",
         "zip_code": "21114",
         "_deepnote_index_column": 922
        },
        {
         "age": 21,
         "gender": "M",
         "occupation": "student",
         "zip_code": "E2E3R",
         "_deepnote_index_column": 923
        },
        {
         "age": 29,
         "gender": "M",
         "occupation": "other",
         "zip_code": "11753",
         "_deepnote_index_column": 924
        },
        {
         "age": 18,
         "gender": "F",
         "occupation": "salesman",
         "zip_code": "49036",
         "_deepnote_index_column": 925
        },
        {
         "age": 49,
         "gender": "M",
         "occupation": "entertainment",
         "zip_code": "01701",
         "_deepnote_index_column": 926
        },
        {
         "age": 23,
         "gender": "M",
         "occupation": "programmer",
         "zip_code": "55428",
         "_deepnote_index_column": 927
        },
        {
         "age": 21,
         "gender": "M",
         "occupation": "student",
         "zip_code": "55408",
         "_deepnote_index_column": 928
        },
        {
         "age": 44,
         "gender": "M",
         "occupation": "scientist",
         "zip_code": "53711",
         "_deepnote_index_column": 929
        },
        {
         "age": 28,
         "gender": "F",
         "occupation": "scientist",
         "zip_code": "07310",
         "_deepnote_index_column": 930
        },
        {
         "age": 60,
         "gender": "M",
         "occupation": "educator",
         "zip_code": "33556",
         "_deepnote_index_column": 931
        },
        {
         "age": 58,
         "gender": "M",
         "occupation": "educator",
         "zip_code": "06437",
         "_deepnote_index_column": 932
        },
        {
         "age": 28,
         "gender": "M",
         "occupation": "student",
         "zip_code": "48105",
         "_deepnote_index_column": 933
        },
        {
         "age": 61,
         "gender": "M",
         "occupation": "engineer",
         "zip_code": "22902",
         "_deepnote_index_column": 934
        },
        {
         "age": 42,
         "gender": "M",
         "occupation": "doctor",
         "zip_code": "66221",
         "_deepnote_index_column": 935
        },
        {
         "age": 24,
         "gender": "M",
         "occupation": "other",
         "zip_code": "32789",
         "_deepnote_index_column": 936
        },
        {
         "age": 48,
         "gender": "M",
         "occupation": "educator",
         "zip_code": "98072",
         "_deepnote_index_column": 937
        },
        {
         "age": 38,
         "gender": "F",
         "occupation": "technician",
         "zip_code": "55038",
         "_deepnote_index_column": 938
        },
        {
         "age": 26,
         "gender": "F",
         "occupation": "student",
         "zip_code": "33319",
         "_deepnote_index_column": 939
        },
        {
         "age": 32,
         "gender": "M",
         "occupation": "administrator",
         "zip_code": "02215",
         "_deepnote_index_column": 940
        },
        {
         "age": 20,
         "gender": "M",
         "occupation": "student",
         "zip_code": "97229",
         "_deepnote_index_column": 941
        },
        {
         "age": 48,
         "gender": "F",
         "occupation": "librarian",
         "zip_code": "78209",
         "_deepnote_index_column": 942
        },
        {
         "age": 22,
         "gender": "M",
         "occupation": "student",
         "zip_code": "77841",
         "_deepnote_index_column": 943
        }
       ]
      },
      "text/plain": "         age gender     occupation zip_code\nuser_id                                    \n1         24      M     technician    85711\n2         53      F          other    94043\n3         23      M         writer    32067\n4         24      M     technician    43537\n5         33      F          other    15213\n...      ...    ...            ...      ...\n939       26      F        student    33319\n940       32      M  administrator    02215\n941       20      M        student    97229\n942       48      F      librarian    78209\n943       22      M        student    77841\n\n[943 rows x 4 columns]",
      "text/html": "<div>\n<style scoped>\n    .dataframe tbody tr th:only-of-type {\n        vertical-align: middle;\n    }\n\n    .dataframe tbody tr th {\n        vertical-align: top;\n    }\n\n    .dataframe thead th {\n        text-align: right;\n    }\n</style>\n<table border=\"1\" class=\"dataframe\">\n  <thead>\n    <tr style=\"text-align: right;\">\n      <th></th>\n      <th>age</th>\n      <th>gender</th>\n      <th>occupation</th>\n      <th>zip_code</th>\n    </tr>\n    <tr>\n      <th>user_id</th>\n      <th></th>\n      <th></th>\n      <th></th>\n      <th></th>\n    </tr>\n  </thead>\n  <tbody>\n    <tr>\n      <th>1</th>\n      <td>24</td>\n      <td>M</td>\n      <td>technician</td>\n      <td>85711</td>\n    </tr>\n    <tr>\n      <th>2</th>\n      <td>53</td>\n      <td>F</td>\n      <td>other</td>\n      <td>94043</td>\n    </tr>\n    <tr>\n      <th>3</th>\n      <td>23</td>\n      <td>M</td>\n      <td>writer</td>\n      <td>32067</td>\n    </tr>\n    <tr>\n      <th>4</th>\n      <td>24</td>\n      <td>M</td>\n      <td>technician</td>\n      <td>43537</td>\n    </tr>\n    <tr>\n      <th>5</th>\n      <td>33</td>\n      <td>F</td>\n      <td>other</td>\n      <td>15213</td>\n    </tr>\n    <tr>\n      <th>...</th>\n      <td>...</td>\n      <td>...</td>\n      <td>...</td>\n      <td>...</td>\n    </tr>\n    <tr>\n      <th>939</th>\n      <td>26</td>\n      <td>F</td>\n      <td>student</td>\n      <td>33319</td>\n    </tr>\n    <tr>\n      <th>940</th>\n      <td>32</td>\n      <td>M</td>\n      <td>administrator</td>\n      <td>02215</td>\n    </tr>\n    <tr>\n      <th>941</th>\n      <td>20</td>\n      <td>M</td>\n      <td>student</td>\n      <td>97229</td>\n    </tr>\n    <tr>\n      <th>942</th>\n      <td>48</td>\n      <td>F</td>\n      <td>librarian</td>\n      <td>78209</td>\n    </tr>\n    <tr>\n      <th>943</th>\n      <td>22</td>\n      <td>M</td>\n      <td>student</td>\n      <td>77841</td>\n    </tr>\n  </tbody>\n</table>\n<p>943 rows × 4 columns</p>\n</div>"
     },
     "metadata": {}
    }
   ]
  },
  {
   "cell_type": "markdown",
   "source": "---\n\n2. Have a look at first 25 entries. \n\nNotice that the first column is `user_id` - this is an identifier column that comes in the dataset itself, so when you load it, make sure it is loaded as index in the step 1.",
   "metadata": {
    "tags": [],
    "cell_id": "00002-50ec1c5f-4e06-4631-b40a-434f38bd8c29",
    "deepnote_cell_type": "markdown"
   }
  },
  {
   "cell_type": "code",
   "metadata": {
    "tags": [],
    "cell_id": "00003-a9b4fad1-161b-4cfb-bc1d-b63310461cf8",
    "deepnote_to_be_reexecuted": false,
    "source_hash": "c4bed1a8",
    "execution_start": 1624905376193,
    "execution_millis": 21,
    "deepnote_cell_type": "code"
   },
   "source": "df.head(25)",
   "execution_count": null,
   "outputs": [
    {
     "output_type": "execute_result",
     "execution_count": 2,
     "data": {
      "application/vnd.deepnote.dataframe.v2+json": {
       "row_count": 25,
       "column_count": 4,
       "columns": [
        {
         "name": "age",
         "dtype": "int64",
         "stats": {
          "unique_count": 19,
          "nan_count": 0,
          "min": "21",
          "max": "57",
          "histogram": [
           {
            "bin_start": 21,
            "bin_end": 24.6,
            "count": 5
           },
           {
            "bin_start": 24.6,
            "bin_end": 28.2,
            "count": 3
           },
           {
            "bin_start": 28.2,
            "bin_end": 31.8,
            "count": 3
           },
           {
            "bin_start": 31.8,
            "bin_end": 35.4,
            "count": 2
           },
           {
            "bin_start": 35.4,
            "bin_end": 39,
            "count": 1
           },
           {
            "bin_start": 39,
            "bin_end": 42.6,
            "count": 5
           },
           {
            "bin_start": 42.6,
            "bin_end": 46.2,
            "count": 1
           },
           {
            "bin_start": 46.2,
            "bin_end": 49.8,
            "count": 2
           },
           {
            "bin_start": 49.8,
            "bin_end": 53.4,
            "count": 2
           },
           {
            "bin_start": 53.4,
            "bin_end": 57,
            "count": 1
           }
          ]
         }
        },
        {
         "name": "gender",
         "dtype": "object",
         "stats": {
          "unique_count": 2,
          "nan_count": 0,
          "categories": [
           {
            "name": "M",
            "count": 16
           },
           {
            "name": "F",
            "count": 9
           }
          ]
         }
        },
        {
         "name": "occupation",
         "dtype": "object",
         "stats": {
          "unique_count": 15,
          "nan_count": 0,
          "categories": [
           {
            "name": "other",
            "count": 5
           },
           {
            "name": "writer",
            "count": 3
           },
           {
            "name": "13 others",
            "count": 17
           }
          ]
         }
        },
        {
         "name": "zip_code",
         "dtype": "object",
         "stats": {
          "unique_count": 25,
          "nan_count": 0,
          "categories": [
           {
            "name": "85711",
            "count": 1
           },
           {
            "name": "94043",
            "count": 1
           },
           {
            "name": "23 others",
            "count": 23
           }
          ]
         }
        },
        {
         "name": "_deepnote_index_column",
         "dtype": "int64"
        }
       ],
       "rows_top": [
        {
         "age": 24,
         "gender": "M",
         "occupation": "technician",
         "zip_code": "85711",
         "_deepnote_index_column": 1
        },
        {
         "age": 53,
         "gender": "F",
         "occupation": "other",
         "zip_code": "94043",
         "_deepnote_index_column": 2
        },
        {
         "age": 23,
         "gender": "M",
         "occupation": "writer",
         "zip_code": "32067",
         "_deepnote_index_column": 3
        },
        {
         "age": 24,
         "gender": "M",
         "occupation": "technician",
         "zip_code": "43537",
         "_deepnote_index_column": 4
        },
        {
         "age": 33,
         "gender": "F",
         "occupation": "other",
         "zip_code": "15213",
         "_deepnote_index_column": 5
        },
        {
         "age": 42,
         "gender": "M",
         "occupation": "executive",
         "zip_code": "98101",
         "_deepnote_index_column": 6
        },
        {
         "age": 57,
         "gender": "M",
         "occupation": "administrator",
         "zip_code": "91344",
         "_deepnote_index_column": 7
        },
        {
         "age": 36,
         "gender": "M",
         "occupation": "administrator",
         "zip_code": "05201",
         "_deepnote_index_column": 8
        },
        {
         "age": 29,
         "gender": "M",
         "occupation": "student",
         "zip_code": "01002",
         "_deepnote_index_column": 9
        },
        {
         "age": 53,
         "gender": "M",
         "occupation": "lawyer",
         "zip_code": "90703",
         "_deepnote_index_column": 10
        },
        {
         "age": 39,
         "gender": "F",
         "occupation": "other",
         "zip_code": "30329",
         "_deepnote_index_column": 11
        },
        {
         "age": 28,
         "gender": "F",
         "occupation": "other",
         "zip_code": "06405",
         "_deepnote_index_column": 12
        },
        {
         "age": 47,
         "gender": "M",
         "occupation": "educator",
         "zip_code": "29206",
         "_deepnote_index_column": 13
        },
        {
         "age": 45,
         "gender": "M",
         "occupation": "scientist",
         "zip_code": "55106",
         "_deepnote_index_column": 14
        },
        {
         "age": 49,
         "gender": "F",
         "occupation": "educator",
         "zip_code": "97301",
         "_deepnote_index_column": 15
        },
        {
         "age": 21,
         "gender": "M",
         "occupation": "entertainment",
         "zip_code": "10309",
         "_deepnote_index_column": 16
        },
        {
         "age": 30,
         "gender": "M",
         "occupation": "programmer",
         "zip_code": "06355",
         "_deepnote_index_column": 17
        },
        {
         "age": 35,
         "gender": "F",
         "occupation": "other",
         "zip_code": "37212",
         "_deepnote_index_column": 18
        },
        {
         "age": 40,
         "gender": "M",
         "occupation": "librarian",
         "zip_code": "02138",
         "_deepnote_index_column": 19
        },
        {
         "age": 42,
         "gender": "F",
         "occupation": "homemaker",
         "zip_code": "95660",
         "_deepnote_index_column": 20
        },
        {
         "age": 26,
         "gender": "M",
         "occupation": "writer",
         "zip_code": "30068",
         "_deepnote_index_column": 21
        },
        {
         "age": 25,
         "gender": "M",
         "occupation": "writer",
         "zip_code": "40206",
         "_deepnote_index_column": 22
        },
        {
         "age": 30,
         "gender": "F",
         "occupation": "artist",
         "zip_code": "48197",
         "_deepnote_index_column": 23
        },
        {
         "age": 21,
         "gender": "F",
         "occupation": "artist",
         "zip_code": "94533",
         "_deepnote_index_column": 24
        },
        {
         "age": 39,
         "gender": "M",
         "occupation": "engineer",
         "zip_code": "55107",
         "_deepnote_index_column": 25
        }
       ],
       "rows_bottom": null
      },
      "text/plain": "         age gender     occupation zip_code\nuser_id                                    \n1         24      M     technician    85711\n2         53      F          other    94043\n3         23      M         writer    32067\n4         24      M     technician    43537\n5         33      F          other    15213\n6         42      M      executive    98101\n7         57      M  administrator    91344\n8         36      M  administrator    05201\n9         29      M        student    01002\n10        53      M         lawyer    90703\n11        39      F          other    30329\n12        28      F          other    06405\n13        47      M       educator    29206\n14        45      M      scientist    55106\n15        49      F       educator    97301\n16        21      M  entertainment    10309\n17        30      M     programmer    06355\n18        35      F          other    37212\n19        40      M      librarian    02138\n20        42      F      homemaker    95660\n21        26      M         writer    30068\n22        25      M         writer    40206\n23        30      F         artist    48197\n24        21      F         artist    94533\n25        39      M       engineer    55107",
      "text/html": "<div>\n<style scoped>\n    .dataframe tbody tr th:only-of-type {\n        vertical-align: middle;\n    }\n\n    .dataframe tbody tr th {\n        vertical-align: top;\n    }\n\n    .dataframe thead th {\n        text-align: right;\n    }\n</style>\n<table border=\"1\" class=\"dataframe\">\n  <thead>\n    <tr style=\"text-align: right;\">\n      <th></th>\n      <th>age</th>\n      <th>gender</th>\n      <th>occupation</th>\n      <th>zip_code</th>\n    </tr>\n    <tr>\n      <th>user_id</th>\n      <th></th>\n      <th></th>\n      <th></th>\n      <th></th>\n    </tr>\n  </thead>\n  <tbody>\n    <tr>\n      <th>1</th>\n      <td>24</td>\n      <td>M</td>\n      <td>technician</td>\n      <td>85711</td>\n    </tr>\n    <tr>\n      <th>2</th>\n      <td>53</td>\n      <td>F</td>\n      <td>other</td>\n      <td>94043</td>\n    </tr>\n    <tr>\n      <th>3</th>\n      <td>23</td>\n      <td>M</td>\n      <td>writer</td>\n      <td>32067</td>\n    </tr>\n    <tr>\n      <th>4</th>\n      <td>24</td>\n      <td>M</td>\n      <td>technician</td>\n      <td>43537</td>\n    </tr>\n    <tr>\n      <th>5</th>\n      <td>33</td>\n      <td>F</td>\n      <td>other</td>\n      <td>15213</td>\n    </tr>\n    <tr>\n      <th>6</th>\n      <td>42</td>\n      <td>M</td>\n      <td>executive</td>\n      <td>98101</td>\n    </tr>\n    <tr>\n      <th>7</th>\n      <td>57</td>\n      <td>M</td>\n      <td>administrator</td>\n      <td>91344</td>\n    </tr>\n    <tr>\n      <th>8</th>\n      <td>36</td>\n      <td>M</td>\n      <td>administrator</td>\n      <td>05201</td>\n    </tr>\n    <tr>\n      <th>9</th>\n      <td>29</td>\n      <td>M</td>\n      <td>student</td>\n      <td>01002</td>\n    </tr>\n    <tr>\n      <th>10</th>\n      <td>53</td>\n      <td>M</td>\n      <td>lawyer</td>\n      <td>90703</td>\n    </tr>\n    <tr>\n      <th>11</th>\n      <td>39</td>\n      <td>F</td>\n      <td>other</td>\n      <td>30329</td>\n    </tr>\n    <tr>\n      <th>12</th>\n      <td>28</td>\n      <td>F</td>\n      <td>other</td>\n      <td>06405</td>\n    </tr>\n    <tr>\n      <th>13</th>\n      <td>47</td>\n      <td>M</td>\n      <td>educator</td>\n      <td>29206</td>\n    </tr>\n    <tr>\n      <th>14</th>\n      <td>45</td>\n      <td>M</td>\n      <td>scientist</td>\n      <td>55106</td>\n    </tr>\n    <tr>\n      <th>15</th>\n      <td>49</td>\n      <td>F</td>\n      <td>educator</td>\n      <td>97301</td>\n    </tr>\n    <tr>\n      <th>16</th>\n      <td>21</td>\n      <td>M</td>\n      <td>entertainment</td>\n      <td>10309</td>\n    </tr>\n    <tr>\n      <th>17</th>\n      <td>30</td>\n      <td>M</td>\n      <td>programmer</td>\n      <td>06355</td>\n    </tr>\n    <tr>\n      <th>18</th>\n      <td>35</td>\n      <td>F</td>\n      <td>other</td>\n      <td>37212</td>\n    </tr>\n    <tr>\n      <th>19</th>\n      <td>40</td>\n      <td>M</td>\n      <td>librarian</td>\n      <td>02138</td>\n    </tr>\n    <tr>\n      <th>20</th>\n      <td>42</td>\n      <td>F</td>\n      <td>homemaker</td>\n      <td>95660</td>\n    </tr>\n    <tr>\n      <th>21</th>\n      <td>26</td>\n      <td>M</td>\n      <td>writer</td>\n      <td>30068</td>\n    </tr>\n    <tr>\n      <th>22</th>\n      <td>25</td>\n      <td>M</td>\n      <td>writer</td>\n      <td>40206</td>\n    </tr>\n    <tr>\n      <th>23</th>\n      <td>30</td>\n      <td>F</td>\n      <td>artist</td>\n      <td>48197</td>\n    </tr>\n    <tr>\n      <th>24</th>\n      <td>21</td>\n      <td>F</td>\n      <td>artist</td>\n      <td>94533</td>\n    </tr>\n    <tr>\n      <th>25</th>\n      <td>39</td>\n      <td>M</td>\n      <td>engineer</td>\n      <td>55107</td>\n    </tr>\n  </tbody>\n</table>\n</div>"
     },
     "metadata": {}
    }
   ]
  },
  {
   "cell_type": "markdown",
   "source": "---\n3. Have a look at last 15 entries",
   "metadata": {
    "tags": [],
    "cell_id": "00004-373a1861-191f-4bfb-84de-75089bf56ce5",
    "deepnote_cell_type": "markdown"
   }
  },
  {
   "cell_type": "code",
   "metadata": {
    "tags": [],
    "cell_id": "00005-6547504c-e24e-4b5e-94ff-e4d593fd9d42",
    "deepnote_to_be_reexecuted": false,
    "source_hash": "b735d62e",
    "execution_start": 1624905376223,
    "execution_millis": 19,
    "deepnote_cell_type": "code"
   },
   "source": "df.tail(15)",
   "execution_count": null,
   "outputs": [
    {
     "output_type": "execute_result",
     "execution_count": 3,
     "data": {
      "application/vnd.deepnote.dataframe.v2+json": {
       "row_count": 15,
       "column_count": 4,
       "columns": [
        {
         "name": "age",
         "dtype": "int64",
         "stats": {
          "unique_count": 13,
          "nan_count": 0,
          "min": "20",
          "max": "61",
          "histogram": [
           {
            "bin_start": 20,
            "bin_end": 24.1,
            "count": 3
           },
           {
            "bin_start": 24.1,
            "bin_end": 28.2,
            "count": 3
           },
           {
            "bin_start": 28.2,
            "bin_end": 32.3,
            "count": 1
           },
           {
            "bin_start": 32.3,
            "bin_end": 36.4,
            "count": 0
           },
           {
            "bin_start": 36.4,
            "bin_end": 40.5,
            "count": 1
           },
           {
            "bin_start": 40.5,
            "bin_end": 44.599999999999994,
            "count": 2
           },
           {
            "bin_start": 44.599999999999994,
            "bin_end": 48.699999999999996,
            "count": 2
           },
           {
            "bin_start": 48.699999999999996,
            "bin_end": 52.8,
            "count": 0
           },
           {
            "bin_start": 52.8,
            "bin_end": 56.9,
            "count": 0
           },
           {
            "bin_start": 56.9,
            "bin_end": 61,
            "count": 3
           }
          ]
         }
        },
        {
         "name": "gender",
         "dtype": "object",
         "stats": {
          "unique_count": 2,
          "nan_count": 0,
          "categories": [
           {
            "name": "M",
            "count": 11
           },
           {
            "name": "F",
            "count": 4
           }
          ]
         }
        },
        {
         "name": "occupation",
         "dtype": "object",
         "stats": {
          "unique_count": 9,
          "nan_count": 0,
          "categories": [
           {
            "name": "student",
            "count": 4
           },
           {
            "name": "educator",
            "count": 3
           },
           {
            "name": "7 others",
            "count": 8
           }
          ]
         }
        },
        {
         "name": "zip_code",
         "dtype": "object",
         "stats": {
          "unique_count": 15,
          "nan_count": 0,
          "categories": [
           {
            "name": "53711",
            "count": 1
           },
           {
            "name": "07310",
            "count": 1
           },
           {
            "name": "13 others",
            "count": 13
           }
          ]
         }
        },
        {
         "name": "_deepnote_index_column",
         "dtype": "int64"
        }
       ],
       "rows_top": [
        {
         "age": 44,
         "gender": "M",
         "occupation": "scientist",
         "zip_code": "53711",
         "_deepnote_index_column": 929
        },
        {
         "age": 28,
         "gender": "F",
         "occupation": "scientist",
         "zip_code": "07310",
         "_deepnote_index_column": 930
        },
        {
         "age": 60,
         "gender": "M",
         "occupation": "educator",
         "zip_code": "33556",
         "_deepnote_index_column": 931
        },
        {
         "age": 58,
         "gender": "M",
         "occupation": "educator",
         "zip_code": "06437",
         "_deepnote_index_column": 932
        },
        {
         "age": 28,
         "gender": "M",
         "occupation": "student",
         "zip_code": "48105",
         "_deepnote_index_column": 933
        },
        {
         "age": 61,
         "gender": "M",
         "occupation": "engineer",
         "zip_code": "22902",
         "_deepnote_index_column": 934
        },
        {
         "age": 42,
         "gender": "M",
         "occupation": "doctor",
         "zip_code": "66221",
         "_deepnote_index_column": 935
        },
        {
         "age": 24,
         "gender": "M",
         "occupation": "other",
         "zip_code": "32789",
         "_deepnote_index_column": 936
        },
        {
         "age": 48,
         "gender": "M",
         "occupation": "educator",
         "zip_code": "98072",
         "_deepnote_index_column": 937
        },
        {
         "age": 38,
         "gender": "F",
         "occupation": "technician",
         "zip_code": "55038",
         "_deepnote_index_column": 938
        },
        {
         "age": 26,
         "gender": "F",
         "occupation": "student",
         "zip_code": "33319",
         "_deepnote_index_column": 939
        },
        {
         "age": 32,
         "gender": "M",
         "occupation": "administrator",
         "zip_code": "02215",
         "_deepnote_index_column": 940
        },
        {
         "age": 20,
         "gender": "M",
         "occupation": "student",
         "zip_code": "97229",
         "_deepnote_index_column": 941
        },
        {
         "age": 48,
         "gender": "F",
         "occupation": "librarian",
         "zip_code": "78209",
         "_deepnote_index_column": 942
        },
        {
         "age": 22,
         "gender": "M",
         "occupation": "student",
         "zip_code": "77841",
         "_deepnote_index_column": 943
        }
       ],
       "rows_bottom": null
      },
      "text/plain": "         age gender     occupation zip_code\nuser_id                                    \n929       44      M      scientist    53711\n930       28      F      scientist    07310\n931       60      M       educator    33556\n932       58      M       educator    06437\n933       28      M        student    48105\n934       61      M       engineer    22902\n935       42      M         doctor    66221\n936       24      M          other    32789\n937       48      M       educator    98072\n938       38      F     technician    55038\n939       26      F        student    33319\n940       32      M  administrator    02215\n941       20      M        student    97229\n942       48      F      librarian    78209\n943       22      M        student    77841",
      "text/html": "<div>\n<style scoped>\n    .dataframe tbody tr th:only-of-type {\n        vertical-align: middle;\n    }\n\n    .dataframe tbody tr th {\n        vertical-align: top;\n    }\n\n    .dataframe thead th {\n        text-align: right;\n    }\n</style>\n<table border=\"1\" class=\"dataframe\">\n  <thead>\n    <tr style=\"text-align: right;\">\n      <th></th>\n      <th>age</th>\n      <th>gender</th>\n      <th>occupation</th>\n      <th>zip_code</th>\n    </tr>\n    <tr>\n      <th>user_id</th>\n      <th></th>\n      <th></th>\n      <th></th>\n      <th></th>\n    </tr>\n  </thead>\n  <tbody>\n    <tr>\n      <th>929</th>\n      <td>44</td>\n      <td>M</td>\n      <td>scientist</td>\n      <td>53711</td>\n    </tr>\n    <tr>\n      <th>930</th>\n      <td>28</td>\n      <td>F</td>\n      <td>scientist</td>\n      <td>07310</td>\n    </tr>\n    <tr>\n      <th>931</th>\n      <td>60</td>\n      <td>M</td>\n      <td>educator</td>\n      <td>33556</td>\n    </tr>\n    <tr>\n      <th>932</th>\n      <td>58</td>\n      <td>M</td>\n      <td>educator</td>\n      <td>06437</td>\n    </tr>\n    <tr>\n      <th>933</th>\n      <td>28</td>\n      <td>M</td>\n      <td>student</td>\n      <td>48105</td>\n    </tr>\n    <tr>\n      <th>934</th>\n      <td>61</td>\n      <td>M</td>\n      <td>engineer</td>\n      <td>22902</td>\n    </tr>\n    <tr>\n      <th>935</th>\n      <td>42</td>\n      <td>M</td>\n      <td>doctor</td>\n      <td>66221</td>\n    </tr>\n    <tr>\n      <th>936</th>\n      <td>24</td>\n      <td>M</td>\n      <td>other</td>\n      <td>32789</td>\n    </tr>\n    <tr>\n      <th>937</th>\n      <td>48</td>\n      <td>M</td>\n      <td>educator</td>\n      <td>98072</td>\n    </tr>\n    <tr>\n      <th>938</th>\n      <td>38</td>\n      <td>F</td>\n      <td>technician</td>\n      <td>55038</td>\n    </tr>\n    <tr>\n      <th>939</th>\n      <td>26</td>\n      <td>F</td>\n      <td>student</td>\n      <td>33319</td>\n    </tr>\n    <tr>\n      <th>940</th>\n      <td>32</td>\n      <td>M</td>\n      <td>administrator</td>\n      <td>02215</td>\n    </tr>\n    <tr>\n      <th>941</th>\n      <td>20</td>\n      <td>M</td>\n      <td>student</td>\n      <td>97229</td>\n    </tr>\n    <tr>\n      <th>942</th>\n      <td>48</td>\n      <td>F</td>\n      <td>librarian</td>\n      <td>78209</td>\n    </tr>\n    <tr>\n      <th>943</th>\n      <td>22</td>\n      <td>M</td>\n      <td>student</td>\n      <td>77841</td>\n    </tr>\n  </tbody>\n</table>\n</div>"
     },
     "metadata": {}
    }
   ]
  },
  {
   "cell_type": "markdown",
   "source": "---\n4. Have a look at the column names, are they in a usable format? If not, fix them.",
   "metadata": {
    "tags": [],
    "cell_id": "00006-47be1d21-e118-4d8f-9579-5da0eac3f96f",
    "deepnote_cell_type": "markdown"
   }
  },
  {
   "cell_type": "code",
   "metadata": {
    "tags": [],
    "cell_id": "00007-20e8a8ef-feeb-4058-b9df-e785f3e803b6",
    "deepnote_to_be_reexecuted": false,
    "source_hash": "25d43fa0",
    "execution_start": 1624905376231,
    "execution_millis": 13,
    "deepnote_cell_type": "code"
   },
   "source": "df.columns",
   "execution_count": null,
   "outputs": [
    {
     "output_type": "execute_result",
     "execution_count": 4,
     "data": {
      "text/plain": "Index(['age', 'gender', 'occupation', 'zip_code'], dtype='object')"
     },
     "metadata": {}
    }
   ]
  },
  {
   "cell_type": "markdown",
   "source": "---\n5. What are the data-types of every column? Are they correct",
   "metadata": {
    "tags": [],
    "cell_id": "00008-15c6385e-a71b-4c15-8a0e-048f7abc5e84",
    "deepnote_cell_type": "markdown"
   }
  },
  {
   "cell_type": "code",
   "metadata": {
    "tags": [],
    "cell_id": "00009-525a4047-23e2-486f-ac5d-6dea4793bcd1",
    "deepnote_to_be_reexecuted": false,
    "source_hash": "922e5df1",
    "execution_start": 1624981839127,
    "execution_millis": 472,
    "deepnote_cell_type": "code"
   },
   "source": "df.info()\ndf[\"zip_code\"] = df[\"zip_code\"].astype(int)",
   "execution_count": null,
   "outputs": [
    {
     "name": "stdout",
     "text": "<class 'pandas.core.frame.DataFrame'>\nInt64Index: 943 entries, 1 to 943\nData columns (total 4 columns):\n #   Column      Non-Null Count  Dtype \n---  ------      --------------  ----- \n 0   age         943 non-null    int64 \n 1   gender      943 non-null    object\n 2   occupation  943 non-null    object\n 3   zip_code    943 non-null    object\ndtypes: int64(1), object(3)\nmemory usage: 36.8+ KB\n",
     "output_type": "stream"
    },
    {
     "output_type": "error",
     "ename": "ValueError",
     "evalue": "invalid literal for int() with base 10: 'T8H1N'",
     "traceback": [
      "\u001b[0;31m---------------------------------------------------------------------------\u001b[0m",
      "\u001b[0;31mValueError\u001b[0m                                Traceback (most recent call last)",
      "\u001b[0;32m<ipython-input-7-cddc0341668a>\u001b[0m in \u001b[0;36m<module>\u001b[0;34m\u001b[0m\n\u001b[1;32m      1\u001b[0m \u001b[0mdf\u001b[0m\u001b[0;34m.\u001b[0m\u001b[0minfo\u001b[0m\u001b[0;34m(\u001b[0m\u001b[0;34m)\u001b[0m\u001b[0;34m\u001b[0m\u001b[0;34m\u001b[0m\u001b[0m\n\u001b[0;32m----> 2\u001b[0;31m \u001b[0mdf\u001b[0m \u001b[0;34m=\u001b[0m \u001b[0mdf\u001b[0m\u001b[0;34m.\u001b[0m\u001b[0mastype\u001b[0m\u001b[0;34m(\u001b[0m\u001b[0;34m{\u001b[0m\u001b[0;34m\"zip_code\"\u001b[0m\u001b[0;34m:\u001b[0m\u001b[0mint\u001b[0m\u001b[0;34m}\u001b[0m\u001b[0;34m)\u001b[0m\u001b[0;34m\u001b[0m\u001b[0;34m\u001b[0m\u001b[0m\n\u001b[0m",
      "\u001b[0;32m/shared-libs/python3.7/py/lib/python3.7/site-packages/pandas/core/generic.py\u001b[0m in \u001b[0;36mastype\u001b[0;34m(self, dtype, copy, errors)\u001b[0m\n\u001b[1;32m   5860\u001b[0m                 \u001b[0;32mif\u001b[0m \u001b[0mcol_name\u001b[0m \u001b[0;32min\u001b[0m \u001b[0mdtype\u001b[0m\u001b[0;34m:\u001b[0m\u001b[0;34m\u001b[0m\u001b[0;34m\u001b[0m\u001b[0m\n\u001b[1;32m   5861\u001b[0m                     results.append(\n\u001b[0;32m-> 5862\u001b[0;31m                         \u001b[0mcol\u001b[0m\u001b[0;34m.\u001b[0m\u001b[0mastype\u001b[0m\u001b[0;34m(\u001b[0m\u001b[0mdtype\u001b[0m\u001b[0;34m=\u001b[0m\u001b[0mdtype\u001b[0m\u001b[0;34m[\u001b[0m\u001b[0mcol_name\u001b[0m\u001b[0;34m]\u001b[0m\u001b[0;34m,\u001b[0m \u001b[0mcopy\u001b[0m\u001b[0;34m=\u001b[0m\u001b[0mcopy\u001b[0m\u001b[0;34m,\u001b[0m \u001b[0merrors\u001b[0m\u001b[0;34m=\u001b[0m\u001b[0merrors\u001b[0m\u001b[0;34m)\u001b[0m\u001b[0;34m\u001b[0m\u001b[0;34m\u001b[0m\u001b[0m\n\u001b[0m\u001b[1;32m   5863\u001b[0m                     )\n\u001b[1;32m   5864\u001b[0m                 \u001b[0;32melse\u001b[0m\u001b[0;34m:\u001b[0m\u001b[0;34m\u001b[0m\u001b[0;34m\u001b[0m\u001b[0m\n",
      "\u001b[0;32m/shared-libs/python3.7/py/lib/python3.7/site-packages/pandas/core/generic.py\u001b[0m in \u001b[0;36mastype\u001b[0;34m(self, dtype, copy, errors)\u001b[0m\n\u001b[1;32m   5875\u001b[0m         \u001b[0;32melse\u001b[0m\u001b[0;34m:\u001b[0m\u001b[0;34m\u001b[0m\u001b[0;34m\u001b[0m\u001b[0m\n\u001b[1;32m   5876\u001b[0m             \u001b[0;31m# else, only a single dtype is given\u001b[0m\u001b[0;34m\u001b[0m\u001b[0;34m\u001b[0m\u001b[0;34m\u001b[0m\u001b[0m\n\u001b[0;32m-> 5877\u001b[0;31m             \u001b[0mnew_data\u001b[0m \u001b[0;34m=\u001b[0m \u001b[0mself\u001b[0m\u001b[0;34m.\u001b[0m\u001b[0m_mgr\u001b[0m\u001b[0;34m.\u001b[0m\u001b[0mastype\u001b[0m\u001b[0;34m(\u001b[0m\u001b[0mdtype\u001b[0m\u001b[0;34m=\u001b[0m\u001b[0mdtype\u001b[0m\u001b[0;34m,\u001b[0m \u001b[0mcopy\u001b[0m\u001b[0;34m=\u001b[0m\u001b[0mcopy\u001b[0m\u001b[0;34m,\u001b[0m \u001b[0merrors\u001b[0m\u001b[0;34m=\u001b[0m\u001b[0merrors\u001b[0m\u001b[0;34m)\u001b[0m\u001b[0;34m\u001b[0m\u001b[0;34m\u001b[0m\u001b[0m\n\u001b[0m\u001b[1;32m   5878\u001b[0m             \u001b[0;32mreturn\u001b[0m \u001b[0mself\u001b[0m\u001b[0;34m.\u001b[0m\u001b[0m_constructor\u001b[0m\u001b[0;34m(\u001b[0m\u001b[0mnew_data\u001b[0m\u001b[0;34m)\u001b[0m\u001b[0;34m.\u001b[0m\u001b[0m__finalize__\u001b[0m\u001b[0;34m(\u001b[0m\u001b[0mself\u001b[0m\u001b[0;34m,\u001b[0m \u001b[0mmethod\u001b[0m\u001b[0;34m=\u001b[0m\u001b[0;34m\"astype\"\u001b[0m\u001b[0;34m)\u001b[0m\u001b[0;34m\u001b[0m\u001b[0;34m\u001b[0m\u001b[0m\n\u001b[1;32m   5879\u001b[0m \u001b[0;34m\u001b[0m\u001b[0m\n",
      "\u001b[0;32m/shared-libs/python3.7/py/lib/python3.7/site-packages/pandas/core/internals/managers.py\u001b[0m in \u001b[0;36mastype\u001b[0;34m(self, dtype, copy, errors)\u001b[0m\n\u001b[1;32m    629\u001b[0m         \u001b[0mself\u001b[0m\u001b[0;34m,\u001b[0m \u001b[0mdtype\u001b[0m\u001b[0;34m,\u001b[0m \u001b[0mcopy\u001b[0m\u001b[0;34m:\u001b[0m \u001b[0mbool\u001b[0m \u001b[0;34m=\u001b[0m \u001b[0;32mFalse\u001b[0m\u001b[0;34m,\u001b[0m \u001b[0merrors\u001b[0m\u001b[0;34m:\u001b[0m \u001b[0mstr\u001b[0m \u001b[0;34m=\u001b[0m \u001b[0;34m\"raise\"\u001b[0m\u001b[0;34m\u001b[0m\u001b[0;34m\u001b[0m\u001b[0m\n\u001b[1;32m    630\u001b[0m     ) -> \"BlockManager\":\n\u001b[0;32m--> 631\u001b[0;31m         \u001b[0;32mreturn\u001b[0m \u001b[0mself\u001b[0m\u001b[0;34m.\u001b[0m\u001b[0mapply\u001b[0m\u001b[0;34m(\u001b[0m\u001b[0;34m\"astype\"\u001b[0m\u001b[0;34m,\u001b[0m \u001b[0mdtype\u001b[0m\u001b[0;34m=\u001b[0m\u001b[0mdtype\u001b[0m\u001b[0;34m,\u001b[0m \u001b[0mcopy\u001b[0m\u001b[0;34m=\u001b[0m\u001b[0mcopy\u001b[0m\u001b[0;34m,\u001b[0m \u001b[0merrors\u001b[0m\u001b[0;34m=\u001b[0m\u001b[0merrors\u001b[0m\u001b[0;34m)\u001b[0m\u001b[0;34m\u001b[0m\u001b[0;34m\u001b[0m\u001b[0m\n\u001b[0m\u001b[1;32m    632\u001b[0m \u001b[0;34m\u001b[0m\u001b[0m\n\u001b[1;32m    633\u001b[0m     def convert(\n",
      "\u001b[0;32m/shared-libs/python3.7/py/lib/python3.7/site-packages/pandas/core/internals/managers.py\u001b[0m in \u001b[0;36mapply\u001b[0;34m(self, f, align_keys, ignore_failures, **kwargs)\u001b[0m\n\u001b[1;32m    425\u001b[0m                     \u001b[0mapplied\u001b[0m \u001b[0;34m=\u001b[0m \u001b[0mb\u001b[0m\u001b[0;34m.\u001b[0m\u001b[0mapply\u001b[0m\u001b[0;34m(\u001b[0m\u001b[0mf\u001b[0m\u001b[0;34m,\u001b[0m \u001b[0;34m**\u001b[0m\u001b[0mkwargs\u001b[0m\u001b[0;34m)\u001b[0m\u001b[0;34m\u001b[0m\u001b[0;34m\u001b[0m\u001b[0m\n\u001b[1;32m    426\u001b[0m                 \u001b[0;32melse\u001b[0m\u001b[0;34m:\u001b[0m\u001b[0;34m\u001b[0m\u001b[0;34m\u001b[0m\u001b[0m\n\u001b[0;32m--> 427\u001b[0;31m                     \u001b[0mapplied\u001b[0m \u001b[0;34m=\u001b[0m \u001b[0mgetattr\u001b[0m\u001b[0;34m(\u001b[0m\u001b[0mb\u001b[0m\u001b[0;34m,\u001b[0m \u001b[0mf\u001b[0m\u001b[0;34m)\u001b[0m\u001b[0;34m(\u001b[0m\u001b[0;34m**\u001b[0m\u001b[0mkwargs\u001b[0m\u001b[0;34m)\u001b[0m\u001b[0;34m\u001b[0m\u001b[0;34m\u001b[0m\u001b[0m\n\u001b[0m\u001b[1;32m    428\u001b[0m             \u001b[0;32mexcept\u001b[0m \u001b[0;34m(\u001b[0m\u001b[0mTypeError\u001b[0m\u001b[0;34m,\u001b[0m \u001b[0mNotImplementedError\u001b[0m\u001b[0;34m)\u001b[0m\u001b[0;34m:\u001b[0m\u001b[0;34m\u001b[0m\u001b[0;34m\u001b[0m\u001b[0m\n\u001b[1;32m    429\u001b[0m                 \u001b[0;32mif\u001b[0m \u001b[0;32mnot\u001b[0m \u001b[0mignore_failures\u001b[0m\u001b[0;34m:\u001b[0m\u001b[0;34m\u001b[0m\u001b[0;34m\u001b[0m\u001b[0m\n",
      "\u001b[0;32m/shared-libs/python3.7/py/lib/python3.7/site-packages/pandas/core/internals/blocks.py\u001b[0m in \u001b[0;36mastype\u001b[0;34m(self, dtype, copy, errors)\u001b[0m\n\u001b[1;32m    671\u001b[0m             \u001b[0mvals1d\u001b[0m \u001b[0;34m=\u001b[0m \u001b[0mvalues\u001b[0m\u001b[0;34m.\u001b[0m\u001b[0mravel\u001b[0m\u001b[0;34m(\u001b[0m\u001b[0;34m)\u001b[0m\u001b[0;34m\u001b[0m\u001b[0;34m\u001b[0m\u001b[0m\n\u001b[1;32m    672\u001b[0m             \u001b[0;32mtry\u001b[0m\u001b[0;34m:\u001b[0m\u001b[0;34m\u001b[0m\u001b[0;34m\u001b[0m\u001b[0m\n\u001b[0;32m--> 673\u001b[0;31m                 \u001b[0mvalues\u001b[0m \u001b[0;34m=\u001b[0m \u001b[0mastype_nansafe\u001b[0m\u001b[0;34m(\u001b[0m\u001b[0mvals1d\u001b[0m\u001b[0;34m,\u001b[0m \u001b[0mdtype\u001b[0m\u001b[0;34m,\u001b[0m \u001b[0mcopy\u001b[0m\u001b[0;34m=\u001b[0m\u001b[0;32mTrue\u001b[0m\u001b[0;34m)\u001b[0m\u001b[0;34m\u001b[0m\u001b[0;34m\u001b[0m\u001b[0m\n\u001b[0m\u001b[1;32m    674\u001b[0m             \u001b[0;32mexcept\u001b[0m \u001b[0;34m(\u001b[0m\u001b[0mValueError\u001b[0m\u001b[0;34m,\u001b[0m \u001b[0mTypeError\u001b[0m\u001b[0;34m)\u001b[0m\u001b[0;34m:\u001b[0m\u001b[0;34m\u001b[0m\u001b[0;34m\u001b[0m\u001b[0m\n\u001b[1;32m    675\u001b[0m                 \u001b[0;31m# e.g. astype_nansafe can fail on object-dtype of strings\u001b[0m\u001b[0;34m\u001b[0m\u001b[0;34m\u001b[0m\u001b[0;34m\u001b[0m\u001b[0m\n",
      "\u001b[0;32m/shared-libs/python3.7/py/lib/python3.7/site-packages/pandas/core/dtypes/cast.py\u001b[0m in \u001b[0;36mastype_nansafe\u001b[0;34m(arr, dtype, copy, skipna)\u001b[0m\n\u001b[1;32m   1072\u001b[0m         \u001b[0;31m# work around NumPy brokenness, #1987\u001b[0m\u001b[0;34m\u001b[0m\u001b[0;34m\u001b[0m\u001b[0;34m\u001b[0m\u001b[0m\n\u001b[1;32m   1073\u001b[0m         \u001b[0;32mif\u001b[0m \u001b[0mnp\u001b[0m\u001b[0;34m.\u001b[0m\u001b[0missubdtype\u001b[0m\u001b[0;34m(\u001b[0m\u001b[0mdtype\u001b[0m\u001b[0;34m.\u001b[0m\u001b[0mtype\u001b[0m\u001b[0;34m,\u001b[0m \u001b[0mnp\u001b[0m\u001b[0;34m.\u001b[0m\u001b[0minteger\u001b[0m\u001b[0;34m)\u001b[0m\u001b[0;34m:\u001b[0m\u001b[0;34m\u001b[0m\u001b[0;34m\u001b[0m\u001b[0m\n\u001b[0;32m-> 1074\u001b[0;31m             \u001b[0;32mreturn\u001b[0m \u001b[0mlib\u001b[0m\u001b[0;34m.\u001b[0m\u001b[0mastype_intsafe\u001b[0m\u001b[0;34m(\u001b[0m\u001b[0marr\u001b[0m\u001b[0;34m.\u001b[0m\u001b[0mravel\u001b[0m\u001b[0;34m(\u001b[0m\u001b[0;34m)\u001b[0m\u001b[0;34m,\u001b[0m \u001b[0mdtype\u001b[0m\u001b[0;34m)\u001b[0m\u001b[0;34m.\u001b[0m\u001b[0mreshape\u001b[0m\u001b[0;34m(\u001b[0m\u001b[0marr\u001b[0m\u001b[0;34m.\u001b[0m\u001b[0mshape\u001b[0m\u001b[0;34m)\u001b[0m\u001b[0;34m\u001b[0m\u001b[0;34m\u001b[0m\u001b[0m\n\u001b[0m\u001b[1;32m   1075\u001b[0m \u001b[0;34m\u001b[0m\u001b[0m\n\u001b[1;32m   1076\u001b[0m         \u001b[0;31m# if we have a datetime/timedelta array of objects\u001b[0m\u001b[0;34m\u001b[0m\u001b[0;34m\u001b[0m\u001b[0;34m\u001b[0m\u001b[0m\n",
      "\u001b[0;32mpandas/_libs/lib.pyx\u001b[0m in \u001b[0;36mpandas._libs.lib.astype_intsafe\u001b[0;34m()\u001b[0m\n",
      "\u001b[0;31mValueError\u001b[0m: invalid literal for int() with base 10: 'T8H1N'"
     ]
    }
   ]
  },
  {
   "cell_type": "markdown",
   "source": "---\n6. Are there any missing values? If yes, sort it out",
   "metadata": {
    "tags": [],
    "cell_id": "00010-614576f2-0c12-4a69-9528-73d6e0a144ca",
    "deepnote_cell_type": "markdown"
   }
  },
  {
   "cell_type": "code",
   "metadata": {
    "tags": [],
    "cell_id": "00011-caab545a-3992-4515-879d-e0ef49eb1b09",
    "deepnote_to_be_reexecuted": false,
    "source_hash": "f3dd26da",
    "execution_start": 1624981887289,
    "execution_millis": 9,
    "deepnote_cell_type": "code"
   },
   "source": "df.isnull().sum()",
   "execution_count": null,
   "outputs": [
    {
     "output_type": "execute_result",
     "execution_count": 8,
     "data": {
      "text/plain": "age           0\ngender        0\noccupation    0\nzip_code      0\ndtype: int64"
     },
     "metadata": {}
    }
   ]
  },
  {
   "cell_type": "markdown",
   "source": "---\n6.5 Are there any duplicate values? Does it make sense to drop them if there are?",
   "metadata": {
    "tags": [],
    "cell_id": "00013-2bee857a-e67a-439c-a5f3-bd73da60eb56",
    "deepnote_cell_type": "markdown"
   }
  },
  {
   "cell_type": "code",
   "metadata": {
    "tags": [],
    "cell_id": "00014-b323b4c5-f049-4e32-8cb7-806b7f23ce98",
    "deepnote_to_be_reexecuted": false,
    "source_hash": "2f88c77a",
    "execution_start": 1624982163638,
    "execution_millis": 23,
    "deepnote_cell_type": "code"
   },
   "source": "len(df)",
   "execution_count": null,
   "outputs": [
    {
     "output_type": "execute_result",
     "execution_count": 21,
     "data": {
      "text/plain": "943"
     },
     "metadata": {}
    }
   ]
  },
  {
   "cell_type": "code",
   "metadata": {
    "tags": [],
    "cell_id": "00014-0d48c05c-8cc6-4c12-bd8a-34b7ce2174d7",
    "deepnote_to_be_reexecuted": false,
    "source_hash": "195c1633",
    "execution_start": 1624982146010,
    "execution_millis": 54,
    "output_cleared": false,
    "deepnote_cell_type": "code"
   },
   "source": "new_df = df.drop_duplicates()\nnew_df",
   "execution_count": null,
   "outputs": [
    {
     "output_type": "execute_result",
     "execution_count": 19,
     "data": {
      "application/vnd.deepnote.dataframe.v2+json": {
       "row_count": 936,
       "column_count": 4,
       "columns": [
        {
         "name": "age",
         "dtype": "int64",
         "stats": {
          "unique_count": 61,
          "nan_count": 0,
          "min": "7",
          "max": "73",
          "histogram": [
           {
            "bin_start": 7,
            "bin_end": 13.6,
            "count": 8
           },
           {
            "bin_start": 13.6,
            "bin_end": 20.2,
            "count": 100
           },
           {
            "bin_start": 20.2,
            "bin_end": 26.799999999999997,
            "count": 196
           },
           {
            "bin_start": 26.799999999999997,
            "bin_end": 33.4,
            "count": 218
           },
           {
            "bin_start": 33.4,
            "bin_end": 40,
            "count": 123
           },
           {
            "bin_start": 40,
            "bin_end": 46.599999999999994,
            "count": 114
           },
           {
            "bin_start": 46.599999999999994,
            "bin_end": 53.199999999999996,
            "count": 110
           },
           {
            "bin_start": 53.199999999999996,
            "bin_end": 59.8,
            "count": 36
           },
           {
            "bin_start": 59.8,
            "bin_end": 66.4,
            "count": 23
           },
           {
            "bin_start": 66.4,
            "bin_end": 73,
            "count": 8
           }
          ]
         }
        },
        {
         "name": "gender",
         "dtype": "object",
         "stats": {
          "unique_count": 2,
          "nan_count": 0,
          "categories": [
           {
            "name": "M",
            "count": 666
           },
           {
            "name": "F",
            "count": 270
           }
          ]
         }
        },
        {
         "name": "occupation",
         "dtype": "object",
         "stats": {
          "unique_count": 21,
          "nan_count": 0,
          "categories": [
           {
            "name": "student",
            "count": 192
           },
           {
            "name": "other",
            "count": 103
           },
           {
            "name": "19 others",
            "count": 641
           }
          ]
         }
        },
        {
         "name": "zip_code",
         "dtype": "object",
         "stats": {
          "unique_count": 795,
          "nan_count": 0,
          "categories": [
           {
            "name": "55414",
            "count": 7
           },
           {
            "name": "55105",
            "count": 6
           },
           {
            "name": "793 others",
            "count": 923
           }
          ]
         }
        },
        {
         "name": "_deepnote_index_column",
         "dtype": "int64"
        }
       ],
       "rows_top": [
        {
         "age": 24,
         "gender": "M",
         "occupation": "technician",
         "zip_code": "85711",
         "_deepnote_index_column": 1
        },
        {
         "age": 53,
         "gender": "F",
         "occupation": "other",
         "zip_code": "94043",
         "_deepnote_index_column": 2
        },
        {
         "age": 23,
         "gender": "M",
         "occupation": "writer",
         "zip_code": "32067",
         "_deepnote_index_column": 3
        },
        {
         "age": 24,
         "gender": "M",
         "occupation": "technician",
         "zip_code": "43537",
         "_deepnote_index_column": 4
        },
        {
         "age": 33,
         "gender": "F",
         "occupation": "other",
         "zip_code": "15213",
         "_deepnote_index_column": 5
        },
        {
         "age": 42,
         "gender": "M",
         "occupation": "executive",
         "zip_code": "98101",
         "_deepnote_index_column": 6
        },
        {
         "age": 57,
         "gender": "M",
         "occupation": "administrator",
         "zip_code": "91344",
         "_deepnote_index_column": 7
        },
        {
         "age": 36,
         "gender": "M",
         "occupation": "administrator",
         "zip_code": "05201",
         "_deepnote_index_column": 8
        },
        {
         "age": 29,
         "gender": "M",
         "occupation": "student",
         "zip_code": "01002",
         "_deepnote_index_column": 9
        },
        {
         "age": 53,
         "gender": "M",
         "occupation": "lawyer",
         "zip_code": "90703",
         "_deepnote_index_column": 10
        },
        {
         "age": 39,
         "gender": "F",
         "occupation": "other",
         "zip_code": "30329",
         "_deepnote_index_column": 11
        },
        {
         "age": 28,
         "gender": "F",
         "occupation": "other",
         "zip_code": "06405",
         "_deepnote_index_column": 12
        },
        {
         "age": 47,
         "gender": "M",
         "occupation": "educator",
         "zip_code": "29206",
         "_deepnote_index_column": 13
        },
        {
         "age": 45,
         "gender": "M",
         "occupation": "scientist",
         "zip_code": "55106",
         "_deepnote_index_column": 14
        },
        {
         "age": 49,
         "gender": "F",
         "occupation": "educator",
         "zip_code": "97301",
         "_deepnote_index_column": 15
        },
        {
         "age": 21,
         "gender": "M",
         "occupation": "entertainment",
         "zip_code": "10309",
         "_deepnote_index_column": 16
        },
        {
         "age": 30,
         "gender": "M",
         "occupation": "programmer",
         "zip_code": "06355",
         "_deepnote_index_column": 17
        },
        {
         "age": 35,
         "gender": "F",
         "occupation": "other",
         "zip_code": "37212",
         "_deepnote_index_column": 18
        },
        {
         "age": 40,
         "gender": "M",
         "occupation": "librarian",
         "zip_code": "02138",
         "_deepnote_index_column": 19
        },
        {
         "age": 42,
         "gender": "F",
         "occupation": "homemaker",
         "zip_code": "95660",
         "_deepnote_index_column": 20
        },
        {
         "age": 26,
         "gender": "M",
         "occupation": "writer",
         "zip_code": "30068",
         "_deepnote_index_column": 21
        },
        {
         "age": 25,
         "gender": "M",
         "occupation": "writer",
         "zip_code": "40206",
         "_deepnote_index_column": 22
        },
        {
         "age": 30,
         "gender": "F",
         "occupation": "artist",
         "zip_code": "48197",
         "_deepnote_index_column": 23
        },
        {
         "age": 21,
         "gender": "F",
         "occupation": "artist",
         "zip_code": "94533",
         "_deepnote_index_column": 24
        },
        {
         "age": 39,
         "gender": "M",
         "occupation": "engineer",
         "zip_code": "55107",
         "_deepnote_index_column": 25
        },
        {
         "age": 49,
         "gender": "M",
         "occupation": "engineer",
         "zip_code": "21044",
         "_deepnote_index_column": 26
        },
        {
         "age": 40,
         "gender": "F",
         "occupation": "librarian",
         "zip_code": "30030",
         "_deepnote_index_column": 27
        },
        {
         "age": 32,
         "gender": "M",
         "occupation": "writer",
         "zip_code": "55369",
         "_deepnote_index_column": 28
        },
        {
         "age": 41,
         "gender": "M",
         "occupation": "programmer",
         "zip_code": "94043",
         "_deepnote_index_column": 29
        },
        {
         "age": 7,
         "gender": "M",
         "occupation": "student",
         "zip_code": "55436",
         "_deepnote_index_column": 30
        },
        {
         "age": 24,
         "gender": "M",
         "occupation": "artist",
         "zip_code": "10003",
         "_deepnote_index_column": 31
        },
        {
         "age": 28,
         "gender": "F",
         "occupation": "student",
         "zip_code": "78741",
         "_deepnote_index_column": 32
        },
        {
         "age": 23,
         "gender": "M",
         "occupation": "student",
         "zip_code": "27510",
         "_deepnote_index_column": 33
        },
        {
         "age": 38,
         "gender": "F",
         "occupation": "administrator",
         "zip_code": "42141",
         "_deepnote_index_column": 34
        },
        {
         "age": 20,
         "gender": "F",
         "occupation": "homemaker",
         "zip_code": "42459",
         "_deepnote_index_column": 35
        },
        {
         "age": 19,
         "gender": "F",
         "occupation": "student",
         "zip_code": "93117",
         "_deepnote_index_column": 36
        },
        {
         "age": 23,
         "gender": "M",
         "occupation": "student",
         "zip_code": "55105",
         "_deepnote_index_column": 37
        },
        {
         "age": 28,
         "gender": "F",
         "occupation": "other",
         "zip_code": "54467",
         "_deepnote_index_column": 38
        },
        {
         "age": 41,
         "gender": "M",
         "occupation": "entertainment",
         "zip_code": "01040",
         "_deepnote_index_column": 39
        },
        {
         "age": 38,
         "gender": "M",
         "occupation": "scientist",
         "zip_code": "27514",
         "_deepnote_index_column": 40
        },
        {
         "age": 33,
         "gender": "M",
         "occupation": "engineer",
         "zip_code": "80525",
         "_deepnote_index_column": 41
        },
        {
         "age": 30,
         "gender": "M",
         "occupation": "administrator",
         "zip_code": "17870",
         "_deepnote_index_column": 42
        },
        {
         "age": 29,
         "gender": "F",
         "occupation": "librarian",
         "zip_code": "20854",
         "_deepnote_index_column": 43
        },
        {
         "age": 26,
         "gender": "M",
         "occupation": "technician",
         "zip_code": "46260",
         "_deepnote_index_column": 44
        },
        {
         "age": 29,
         "gender": "M",
         "occupation": "programmer",
         "zip_code": "50233",
         "_deepnote_index_column": 45
        },
        {
         "age": 27,
         "gender": "F",
         "occupation": "marketing",
         "zip_code": "46538",
         "_deepnote_index_column": 46
        },
        {
         "age": 53,
         "gender": "M",
         "occupation": "marketing",
         "zip_code": "07102",
         "_deepnote_index_column": 47
        },
        {
         "age": 45,
         "gender": "M",
         "occupation": "administrator",
         "zip_code": "12550",
         "_deepnote_index_column": 48
        },
        {
         "age": 23,
         "gender": "F",
         "occupation": "student",
         "zip_code": "76111",
         "_deepnote_index_column": 49
        },
        {
         "age": 21,
         "gender": "M",
         "occupation": "writer",
         "zip_code": "52245",
         "_deepnote_index_column": 50
        },
        {
         "age": 28,
         "gender": "M",
         "occupation": "educator",
         "zip_code": "16509",
         "_deepnote_index_column": 51
        },
        {
         "age": 18,
         "gender": "F",
         "occupation": "student",
         "zip_code": "55105",
         "_deepnote_index_column": 52
        },
        {
         "age": 26,
         "gender": "M",
         "occupation": "programmer",
         "zip_code": "55414",
         "_deepnote_index_column": 53
        },
        {
         "age": 22,
         "gender": "M",
         "occupation": "executive",
         "zip_code": "66315",
         "_deepnote_index_column": 54
        },
        {
         "age": 37,
         "gender": "M",
         "occupation": "programmer",
         "zip_code": "01331",
         "_deepnote_index_column": 55
        },
        {
         "age": 25,
         "gender": "M",
         "occupation": "librarian",
         "zip_code": "46260",
         "_deepnote_index_column": 56
        },
        {
         "age": 16,
         "gender": "M",
         "occupation": "none",
         "zip_code": "84010",
         "_deepnote_index_column": 57
        },
        {
         "age": 27,
         "gender": "M",
         "occupation": "programmer",
         "zip_code": "52246",
         "_deepnote_index_column": 58
        },
        {
         "age": 49,
         "gender": "M",
         "occupation": "educator",
         "zip_code": "08403",
         "_deepnote_index_column": 59
        },
        {
         "age": 50,
         "gender": "M",
         "occupation": "healthcare",
         "zip_code": "06472",
         "_deepnote_index_column": 60
        },
        {
         "age": 36,
         "gender": "M",
         "occupation": "engineer",
         "zip_code": "30040",
         "_deepnote_index_column": 61
        },
        {
         "age": 27,
         "gender": "F",
         "occupation": "administrator",
         "zip_code": "97214",
         "_deepnote_index_column": 62
        },
        {
         "age": 31,
         "gender": "M",
         "occupation": "marketing",
         "zip_code": "75240",
         "_deepnote_index_column": 63
        },
        {
         "age": 32,
         "gender": "M",
         "occupation": "educator",
         "zip_code": "43202",
         "_deepnote_index_column": 64
        },
        {
         "age": 51,
         "gender": "F",
         "occupation": "educator",
         "zip_code": "48118",
         "_deepnote_index_column": 65
        },
        {
         "age": 23,
         "gender": "M",
         "occupation": "student",
         "zip_code": "80521",
         "_deepnote_index_column": 66
        },
        {
         "age": 17,
         "gender": "M",
         "occupation": "student",
         "zip_code": "60402",
         "_deepnote_index_column": 67
        },
        {
         "age": 19,
         "gender": "M",
         "occupation": "student",
         "zip_code": "22904",
         "_deepnote_index_column": 68
        },
        {
         "age": 24,
         "gender": "M",
         "occupation": "engineer",
         "zip_code": "55337",
         "_deepnote_index_column": 69
        },
        {
         "age": 27,
         "gender": "M",
         "occupation": "engineer",
         "zip_code": "60067",
         "_deepnote_index_column": 70
        },
        {
         "age": 39,
         "gender": "M",
         "occupation": "scientist",
         "zip_code": "98034",
         "_deepnote_index_column": 71
        },
        {
         "age": 48,
         "gender": "F",
         "occupation": "administrator",
         "zip_code": "73034",
         "_deepnote_index_column": 72
        },
        {
         "age": 24,
         "gender": "M",
         "occupation": "student",
         "zip_code": "41850",
         "_deepnote_index_column": 73
        },
        {
         "age": 39,
         "gender": "M",
         "occupation": "scientist",
         "zip_code": "T8H1N",
         "_deepnote_index_column": 74
        },
        {
         "age": 24,
         "gender": "M",
         "occupation": "entertainment",
         "zip_code": "08816",
         "_deepnote_index_column": 75
        },
        {
         "age": 20,
         "gender": "M",
         "occupation": "student",
         "zip_code": "02215",
         "_deepnote_index_column": 76
        },
        {
         "age": 30,
         "gender": "M",
         "occupation": "technician",
         "zip_code": "29379",
         "_deepnote_index_column": 77
        },
        {
         "age": 26,
         "gender": "M",
         "occupation": "administrator",
         "zip_code": "61801",
         "_deepnote_index_column": 78
        },
        {
         "age": 39,
         "gender": "F",
         "occupation": "administrator",
         "zip_code": "03755",
         "_deepnote_index_column": 79
        },
        {
         "age": 34,
         "gender": "F",
         "occupation": "administrator",
         "zip_code": "52241",
         "_deepnote_index_column": 80
        },
        {
         "age": 21,
         "gender": "M",
         "occupation": "student",
         "zip_code": "21218",
         "_deepnote_index_column": 81
        },
        {
         "age": 50,
         "gender": "M",
         "occupation": "programmer",
         "zip_code": "22902",
         "_deepnote_index_column": 82
        },
        {
         "age": 40,
         "gender": "M",
         "occupation": "other",
         "zip_code": "44133",
         "_deepnote_index_column": 83
        },
        {
         "age": 32,
         "gender": "M",
         "occupation": "executive",
         "zip_code": "55369",
         "_deepnote_index_column": 84
        },
        {
         "age": 51,
         "gender": "M",
         "occupation": "educator",
         "zip_code": "20003",
         "_deepnote_index_column": 85
        },
        {
         "age": 26,
         "gender": "M",
         "occupation": "administrator",
         "zip_code": "46005",
         "_deepnote_index_column": 86
        },
        {
         "age": 47,
         "gender": "M",
         "occupation": "administrator",
         "zip_code": "89503",
         "_deepnote_index_column": 87
        },
        {
         "age": 49,
         "gender": "F",
         "occupation": "librarian",
         "zip_code": "11701",
         "_deepnote_index_column": 88
        },
        {
         "age": 43,
         "gender": "F",
         "occupation": "administrator",
         "zip_code": "68106",
         "_deepnote_index_column": 89
        },
        {
         "age": 60,
         "gender": "M",
         "occupation": "educator",
         "zip_code": "78155",
         "_deepnote_index_column": 90
        },
        {
         "age": 55,
         "gender": "M",
         "occupation": "marketing",
         "zip_code": "01913",
         "_deepnote_index_column": 91
        },
        {
         "age": 32,
         "gender": "M",
         "occupation": "entertainment",
         "zip_code": "80525",
         "_deepnote_index_column": 92
        },
        {
         "age": 48,
         "gender": "M",
         "occupation": "executive",
         "zip_code": "23112",
         "_deepnote_index_column": 93
        },
        {
         "age": 26,
         "gender": "M",
         "occupation": "student",
         "zip_code": "71457",
         "_deepnote_index_column": 94
        },
        {
         "age": 31,
         "gender": "M",
         "occupation": "administrator",
         "zip_code": "10707",
         "_deepnote_index_column": 95
        },
        {
         "age": 25,
         "gender": "F",
         "occupation": "artist",
         "zip_code": "75206",
         "_deepnote_index_column": 96
        },
        {
         "age": 43,
         "gender": "M",
         "occupation": "artist",
         "zip_code": "98006",
         "_deepnote_index_column": 97
        },
        {
         "age": 49,
         "gender": "F",
         "occupation": "executive",
         "zip_code": "90291",
         "_deepnote_index_column": 98
        },
        {
         "age": 20,
         "gender": "M",
         "occupation": "student",
         "zip_code": "63129",
         "_deepnote_index_column": 99
        },
        {
         "age": 36,
         "gender": "M",
         "occupation": "executive",
         "zip_code": "90254",
         "_deepnote_index_column": 100
        },
        {
         "age": 15,
         "gender": "M",
         "occupation": "student",
         "zip_code": "05146",
         "_deepnote_index_column": 101
        },
        {
         "age": 38,
         "gender": "M",
         "occupation": "programmer",
         "zip_code": "30220",
         "_deepnote_index_column": 102
        },
        {
         "age": 26,
         "gender": "M",
         "occupation": "student",
         "zip_code": "55108",
         "_deepnote_index_column": 103
        },
        {
         "age": 27,
         "gender": "M",
         "occupation": "student",
         "zip_code": "55108",
         "_deepnote_index_column": 104
        },
        {
         "age": 24,
         "gender": "M",
         "occupation": "engineer",
         "zip_code": "94043",
         "_deepnote_index_column": 105
        },
        {
         "age": 61,
         "gender": "M",
         "occupation": "retired",
         "zip_code": "55125",
         "_deepnote_index_column": 106
        },
        {
         "age": 39,
         "gender": "M",
         "occupation": "scientist",
         "zip_code": "60466",
         "_deepnote_index_column": 107
        },
        {
         "age": 44,
         "gender": "M",
         "occupation": "educator",
         "zip_code": "63130",
         "_deepnote_index_column": 108
        },
        {
         "age": 29,
         "gender": "M",
         "occupation": "other",
         "zip_code": "55423",
         "_deepnote_index_column": 109
        },
        {
         "age": 19,
         "gender": "M",
         "occupation": "student",
         "zip_code": "77840",
         "_deepnote_index_column": 110
        },
        {
         "age": 57,
         "gender": "M",
         "occupation": "engineer",
         "zip_code": "90630",
         "_deepnote_index_column": 111
        },
        {
         "age": 30,
         "gender": "M",
         "occupation": "salesman",
         "zip_code": "60613",
         "_deepnote_index_column": 112
        },
        {
         "age": 47,
         "gender": "M",
         "occupation": "executive",
         "zip_code": "95032",
         "_deepnote_index_column": 113
        },
        {
         "age": 27,
         "gender": "M",
         "occupation": "programmer",
         "zip_code": "75013",
         "_deepnote_index_column": 114
        },
        {
         "age": 31,
         "gender": "M",
         "occupation": "engineer",
         "zip_code": "17110",
         "_deepnote_index_column": 115
        },
        {
         "age": 40,
         "gender": "M",
         "occupation": "healthcare",
         "zip_code": "97232",
         "_deepnote_index_column": 116
        },
        {
         "age": 20,
         "gender": "M",
         "occupation": "student",
         "zip_code": "16125",
         "_deepnote_index_column": 117
        },
        {
         "age": 21,
         "gender": "M",
         "occupation": "administrator",
         "zip_code": "90210",
         "_deepnote_index_column": 118
        },
        {
         "age": 32,
         "gender": "M",
         "occupation": "programmer",
         "zip_code": "67401",
         "_deepnote_index_column": 119
        },
        {
         "age": 47,
         "gender": "F",
         "occupation": "other",
         "zip_code": "06260",
         "_deepnote_index_column": 120
        },
        {
         "age": 54,
         "gender": "M",
         "occupation": "librarian",
         "zip_code": "99603",
         "_deepnote_index_column": 121
        },
        {
         "age": 32,
         "gender": "F",
         "occupation": "writer",
         "zip_code": "22206",
         "_deepnote_index_column": 122
        },
        {
         "age": 48,
         "gender": "F",
         "occupation": "artist",
         "zip_code": "20008",
         "_deepnote_index_column": 123
        },
        {
         "age": 34,
         "gender": "M",
         "occupation": "student",
         "zip_code": "60615",
         "_deepnote_index_column": 124
        },
        {
         "age": 30,
         "gender": "M",
         "occupation": "lawyer",
         "zip_code": "22202",
         "_deepnote_index_column": 125
        }
       ],
       "rows_bottom": [
        {
         "age": 28,
         "gender": "M",
         "occupation": "librarian",
         "zip_code": "27514",
         "_deepnote_index_column": 818
        },
        {
         "age": 59,
         "gender": "M",
         "occupation": "administrator",
         "zip_code": "40205",
         "_deepnote_index_column": 819
        },
        {
         "age": 22,
         "gender": "M",
         "occupation": "student",
         "zip_code": "37725",
         "_deepnote_index_column": 820
        },
        {
         "age": 37,
         "gender": "M",
         "occupation": "engineer",
         "zip_code": "77845",
         "_deepnote_index_column": 821
        },
        {
         "age": 29,
         "gender": "F",
         "occupation": "librarian",
         "zip_code": "53144",
         "_deepnote_index_column": 822
        },
        {
         "age": 27,
         "gender": "M",
         "occupation": "artist",
         "zip_code": "50322",
         "_deepnote_index_column": 823
        },
        {
         "age": 31,
         "gender": "M",
         "occupation": "other",
         "zip_code": "15017",
         "_deepnote_index_column": 824
        },
        {
         "age": 44,
         "gender": "M",
         "occupation": "engineer",
         "zip_code": "05452",
         "_deepnote_index_column": 825
        },
        {
         "age": 28,
         "gender": "M",
         "occupation": "artist",
         "zip_code": "77048",
         "_deepnote_index_column": 826
        },
        {
         "age": 23,
         "gender": "F",
         "occupation": "engineer",
         "zip_code": "80228",
         "_deepnote_index_column": 827
        },
        {
         "age": 28,
         "gender": "M",
         "occupation": "librarian",
         "zip_code": "85282",
         "_deepnote_index_column": 828
        },
        {
         "age": 48,
         "gender": "M",
         "occupation": "writer",
         "zip_code": "80209",
         "_deepnote_index_column": 829
        },
        {
         "age": 46,
         "gender": "M",
         "occupation": "programmer",
         "zip_code": "53066",
         "_deepnote_index_column": 830
        },
        {
         "age": 21,
         "gender": "M",
         "occupation": "other",
         "zip_code": "33765",
         "_deepnote_index_column": 831
        },
        {
         "age": 24,
         "gender": "M",
         "occupation": "technician",
         "zip_code": "77042",
         "_deepnote_index_column": 832
        },
        {
         "age": 34,
         "gender": "M",
         "occupation": "writer",
         "zip_code": "90019",
         "_deepnote_index_column": 833
        },
        {
         "age": 26,
         "gender": "M",
         "occupation": "other",
         "zip_code": "64153",
         "_deepnote_index_column": 834
        },
        {
         "age": 44,
         "gender": "F",
         "occupation": "executive",
         "zip_code": "11577",
         "_deepnote_index_column": 835
        },
        {
         "age": 44,
         "gender": "M",
         "occupation": "artist",
         "zip_code": "10018",
         "_deepnote_index_column": 836
        },
        {
         "age": 36,
         "gender": "F",
         "occupation": "artist",
         "zip_code": "55409",
         "_deepnote_index_column": 837
        },
        {
         "age": 23,
         "gender": "M",
         "occupation": "student",
         "zip_code": "01375",
         "_deepnote_index_column": 838
        },
        {
         "age": 38,
         "gender": "F",
         "occupation": "entertainment",
         "zip_code": "90814",
         "_deepnote_index_column": 839
        },
        {
         "age": 39,
         "gender": "M",
         "occupation": "artist",
         "zip_code": "55406",
         "_deepnote_index_column": 840
        },
        {
         "age": 45,
         "gender": "M",
         "occupation": "doctor",
         "zip_code": "47401",
         "_deepnote_index_column": 841
        },
        {
         "age": 40,
         "gender": "M",
         "occupation": "writer",
         "zip_code": "93055",
         "_deepnote_index_column": 842
        },
        {
         "age": 35,
         "gender": "M",
         "occupation": "librarian",
         "zip_code": "44212",
         "_deepnote_index_column": 843
        },
        {
         "age": 22,
         "gender": "M",
         "occupation": "engineer",
         "zip_code": "95662",
         "_deepnote_index_column": 844
        },
        {
         "age": 64,
         "gender": "M",
         "occupation": "doctor",
         "zip_code": "97405",
         "_deepnote_index_column": 845
        },
        {
         "age": 27,
         "gender": "M",
         "occupation": "lawyer",
         "zip_code": "47130",
         "_deepnote_index_column": 846
        },
        {
         "age": 29,
         "gender": "M",
         "occupation": "student",
         "zip_code": "55417",
         "_deepnote_index_column": 847
        },
        {
         "age": 46,
         "gender": "M",
         "occupation": "engineer",
         "zip_code": "02146",
         "_deepnote_index_column": 848
        },
        {
         "age": 15,
         "gender": "F",
         "occupation": "student",
         "zip_code": "25652",
         "_deepnote_index_column": 849
        },
        {
         "age": 34,
         "gender": "M",
         "occupation": "technician",
         "zip_code": "78390",
         "_deepnote_index_column": 850
        },
        {
         "age": 18,
         "gender": "M",
         "occupation": "other",
         "zip_code": "29646",
         "_deepnote_index_column": 851
        },
        {
         "age": 46,
         "gender": "M",
         "occupation": "administrator",
         "zip_code": "94086",
         "_deepnote_index_column": 852
        },
        {
         "age": 49,
         "gender": "M",
         "occupation": "writer",
         "zip_code": "40515",
         "_deepnote_index_column": 853
        },
        {
         "age": 29,
         "gender": "F",
         "occupation": "student",
         "zip_code": "55408",
         "_deepnote_index_column": 854
        },
        {
         "age": 53,
         "gender": "M",
         "occupation": "librarian",
         "zip_code": "04988",
         "_deepnote_index_column": 855
        },
        {
         "age": 43,
         "gender": "F",
         "occupation": "marketing",
         "zip_code": "97215",
         "_deepnote_index_column": 856
        },
        {
         "age": 35,
         "gender": "F",
         "occupation": "administrator",
         "zip_code": "V1G4L",
         "_deepnote_index_column": 857
        },
        {
         "age": 63,
         "gender": "M",
         "occupation": "educator",
         "zip_code": "09645",
         "_deepnote_index_column": 858
        },
        {
         "age": 18,
         "gender": "F",
         "occupation": "other",
         "zip_code": "06492",
         "_deepnote_index_column": 859
        },
        {
         "age": 70,
         "gender": "F",
         "occupation": "retired",
         "zip_code": "48322",
         "_deepnote_index_column": 860
        },
        {
         "age": 38,
         "gender": "F",
         "occupation": "student",
         "zip_code": "14085",
         "_deepnote_index_column": 861
        },
        {
         "age": 25,
         "gender": "M",
         "occupation": "executive",
         "zip_code": "13820",
         "_deepnote_index_column": 862
        },
        {
         "age": 17,
         "gender": "M",
         "occupation": "student",
         "zip_code": "60089",
         "_deepnote_index_column": 863
        },
        {
         "age": 27,
         "gender": "M",
         "occupation": "programmer",
         "zip_code": "63021",
         "_deepnote_index_column": 864
        },
        {
         "age": 25,
         "gender": "M",
         "occupation": "artist",
         "zip_code": "11231",
         "_deepnote_index_column": 865
        },
        {
         "age": 45,
         "gender": "M",
         "occupation": "other",
         "zip_code": "60302",
         "_deepnote_index_column": 866
        },
        {
         "age": 24,
         "gender": "M",
         "occupation": "scientist",
         "zip_code": "92507",
         "_deepnote_index_column": 867
        },
        {
         "age": 21,
         "gender": "M",
         "occupation": "programmer",
         "zip_code": "55303",
         "_deepnote_index_column": 868
        },
        {
         "age": 30,
         "gender": "M",
         "occupation": "student",
         "zip_code": "10025",
         "_deepnote_index_column": 869
        },
        {
         "age": 22,
         "gender": "M",
         "occupation": "student",
         "zip_code": "65203",
         "_deepnote_index_column": 870
        },
        {
         "age": 31,
         "gender": "M",
         "occupation": "executive",
         "zip_code": "44648",
         "_deepnote_index_column": 871
        },
        {
         "age": 19,
         "gender": "F",
         "occupation": "student",
         "zip_code": "74078",
         "_deepnote_index_column": 872
        },
        {
         "age": 48,
         "gender": "F",
         "occupation": "administrator",
         "zip_code": "33763",
         "_deepnote_index_column": 873
        },
        {
         "age": 36,
         "gender": "M",
         "occupation": "scientist",
         "zip_code": "37076",
         "_deepnote_index_column": 874
        },
        {
         "age": 24,
         "gender": "F",
         "occupation": "student",
         "zip_code": "35802",
         "_deepnote_index_column": 875
        },
        {
         "age": 41,
         "gender": "M",
         "occupation": "other",
         "zip_code": "20902",
         "_deepnote_index_column": 876
        },
        {
         "age": 30,
         "gender": "M",
         "occupation": "other",
         "zip_code": "77504",
         "_deepnote_index_column": 877
        },
        {
         "age": 50,
         "gender": "F",
         "occupation": "educator",
         "zip_code": "98027",
         "_deepnote_index_column": 878
        },
        {
         "age": 33,
         "gender": "F",
         "occupation": "administrator",
         "zip_code": "55337",
         "_deepnote_index_column": 879
        },
        {
         "age": 13,
         "gender": "M",
         "occupation": "student",
         "zip_code": "83702",
         "_deepnote_index_column": 880
        },
        {
         "age": 39,
         "gender": "M",
         "occupation": "marketing",
         "zip_code": "43017",
         "_deepnote_index_column": 881
        },
        {
         "age": 35,
         "gender": "M",
         "occupation": "engineer",
         "zip_code": "40503",
         "_deepnote_index_column": 882
        },
        {
         "age": 49,
         "gender": "M",
         "occupation": "librarian",
         "zip_code": "50266",
         "_deepnote_index_column": 883
        },
        {
         "age": 44,
         "gender": "M",
         "occupation": "engineer",
         "zip_code": "55337",
         "_deepnote_index_column": 884
        },
        {
         "age": 30,
         "gender": "F",
         "occupation": "other",
         "zip_code": "95316",
         "_deepnote_index_column": 885
        },
        {
         "age": 20,
         "gender": "M",
         "occupation": "student",
         "zip_code": "61820",
         "_deepnote_index_column": 886
        },
        {
         "age": 14,
         "gender": "F",
         "occupation": "student",
         "zip_code": "27249",
         "_deepnote_index_column": 887
        },
        {
         "age": 41,
         "gender": "M",
         "occupation": "scientist",
         "zip_code": "17036",
         "_deepnote_index_column": 888
        },
        {
         "age": 24,
         "gender": "M",
         "occupation": "technician",
         "zip_code": "78704",
         "_deepnote_index_column": 889
        },
        {
         "age": 51,
         "gender": "F",
         "occupation": "administrator",
         "zip_code": "03062",
         "_deepnote_index_column": 891
        },
        {
         "age": 36,
         "gender": "M",
         "occupation": "other",
         "zip_code": "45243",
         "_deepnote_index_column": 892
        },
        {
         "age": 25,
         "gender": "M",
         "occupation": "student",
         "zip_code": "95823",
         "_deepnote_index_column": 893
        },
        {
         "age": 47,
         "gender": "M",
         "occupation": "educator",
         "zip_code": "74075",
         "_deepnote_index_column": 894
        },
        {
         "age": 31,
         "gender": "F",
         "occupation": "librarian",
         "zip_code": "32301",
         "_deepnote_index_column": 895
        },
        {
         "age": 28,
         "gender": "M",
         "occupation": "writer",
         "zip_code": "91505",
         "_deepnote_index_column": 896
        },
        {
         "age": 30,
         "gender": "M",
         "occupation": "other",
         "zip_code": "33484",
         "_deepnote_index_column": 897
        },
        {
         "age": 23,
         "gender": "M",
         "occupation": "homemaker",
         "zip_code": "61755",
         "_deepnote_index_column": 898
        },
        {
         "age": 32,
         "gender": "M",
         "occupation": "other",
         "zip_code": "55116",
         "_deepnote_index_column": 899
        },
        {
         "age": 60,
         "gender": "M",
         "occupation": "retired",
         "zip_code": "18505",
         "_deepnote_index_column": 900
        },
        {
         "age": 38,
         "gender": "M",
         "occupation": "executive",
         "zip_code": "L1V3W",
         "_deepnote_index_column": 901
        },
        {
         "age": 45,
         "gender": "F",
         "occupation": "artist",
         "zip_code": "97203",
         "_deepnote_index_column": 902
        },
        {
         "age": 28,
         "gender": "M",
         "occupation": "educator",
         "zip_code": "20850",
         "_deepnote_index_column": 903
        },
        {
         "age": 17,
         "gender": "F",
         "occupation": "student",
         "zip_code": "61073",
         "_deepnote_index_column": 904
        },
        {
         "age": 27,
         "gender": "M",
         "occupation": "other",
         "zip_code": "30350",
         "_deepnote_index_column": 905
        },
        {
         "age": 45,
         "gender": "M",
         "occupation": "librarian",
         "zip_code": "70124",
         "_deepnote_index_column": 906
        },
        {
         "age": 25,
         "gender": "F",
         "occupation": "other",
         "zip_code": "80526",
         "_deepnote_index_column": 907
        },
        {
         "age": 44,
         "gender": "F",
         "occupation": "librarian",
         "zip_code": "68504",
         "_deepnote_index_column": 908
        },
        {
         "age": 50,
         "gender": "F",
         "occupation": "educator",
         "zip_code": "53171",
         "_deepnote_index_column": 909
        },
        {
         "age": 28,
         "gender": "M",
         "occupation": "healthcare",
         "zip_code": "29301",
         "_deepnote_index_column": 910
        },
        {
         "age": 37,
         "gender": "F",
         "occupation": "writer",
         "zip_code": "53210",
         "_deepnote_index_column": 911
        },
        {
         "age": 51,
         "gender": "M",
         "occupation": "other",
         "zip_code": "06512",
         "_deepnote_index_column": 912
        },
        {
         "age": 27,
         "gender": "M",
         "occupation": "student",
         "zip_code": "76201",
         "_deepnote_index_column": 913
        },
        {
         "age": 44,
         "gender": "F",
         "occupation": "other",
         "zip_code": "08105",
         "_deepnote_index_column": 914
        },
        {
         "age": 50,
         "gender": "M",
         "occupation": "entertainment",
         "zip_code": "60614",
         "_deepnote_index_column": 915
        },
        {
         "age": 27,
         "gender": "M",
         "occupation": "engineer",
         "zip_code": "N2L5N",
         "_deepnote_index_column": 916
        },
        {
         "age": 22,
         "gender": "F",
         "occupation": "student",
         "zip_code": "20006",
         "_deepnote_index_column": 917
        },
        {
         "age": 40,
         "gender": "M",
         "occupation": "scientist",
         "zip_code": "70116",
         "_deepnote_index_column": 918
        },
        {
         "age": 25,
         "gender": "M",
         "occupation": "other",
         "zip_code": "14216",
         "_deepnote_index_column": 919
        },
        {
         "age": 30,
         "gender": "F",
         "occupation": "artist",
         "zip_code": "90008",
         "_deepnote_index_column": 920
        },
        {
         "age": 20,
         "gender": "F",
         "occupation": "student",
         "zip_code": "98801",
         "_deepnote_index_column": 921
        },
        {
         "age": 29,
         "gender": "F",
         "occupation": "administrator",
         "zip_code": "21114",
         "_deepnote_index_column": 922
        },
        {
         "age": 21,
         "gender": "M",
         "occupation": "student",
         "zip_code": "E2E3R",
         "_deepnote_index_column": 923
        },
        {
         "age": 29,
         "gender": "M",
         "occupation": "other",
         "zip_code": "11753",
         "_deepnote_index_column": 924
        },
        {
         "age": 18,
         "gender": "F",
         "occupation": "salesman",
         "zip_code": "49036",
         "_deepnote_index_column": 925
        },
        {
         "age": 49,
         "gender": "M",
         "occupation": "entertainment",
         "zip_code": "01701",
         "_deepnote_index_column": 926
        },
        {
         "age": 23,
         "gender": "M",
         "occupation": "programmer",
         "zip_code": "55428",
         "_deepnote_index_column": 927
        },
        {
         "age": 21,
         "gender": "M",
         "occupation": "student",
         "zip_code": "55408",
         "_deepnote_index_column": 928
        },
        {
         "age": 44,
         "gender": "M",
         "occupation": "scientist",
         "zip_code": "53711",
         "_deepnote_index_column": 929
        },
        {
         "age": 28,
         "gender": "F",
         "occupation": "scientist",
         "zip_code": "07310",
         "_deepnote_index_column": 930
        },
        {
         "age": 60,
         "gender": "M",
         "occupation": "educator",
         "zip_code": "33556",
         "_deepnote_index_column": 931
        },
        {
         "age": 58,
         "gender": "M",
         "occupation": "educator",
         "zip_code": "06437",
         "_deepnote_index_column": 932
        },
        {
         "age": 28,
         "gender": "M",
         "occupation": "student",
         "zip_code": "48105",
         "_deepnote_index_column": 933
        },
        {
         "age": 61,
         "gender": "M",
         "occupation": "engineer",
         "zip_code": "22902",
         "_deepnote_index_column": 934
        },
        {
         "age": 42,
         "gender": "M",
         "occupation": "doctor",
         "zip_code": "66221",
         "_deepnote_index_column": 935
        },
        {
         "age": 24,
         "gender": "M",
         "occupation": "other",
         "zip_code": "32789",
         "_deepnote_index_column": 936
        },
        {
         "age": 48,
         "gender": "M",
         "occupation": "educator",
         "zip_code": "98072",
         "_deepnote_index_column": 937
        },
        {
         "age": 38,
         "gender": "F",
         "occupation": "technician",
         "zip_code": "55038",
         "_deepnote_index_column": 938
        },
        {
         "age": 26,
         "gender": "F",
         "occupation": "student",
         "zip_code": "33319",
         "_deepnote_index_column": 939
        },
        {
         "age": 32,
         "gender": "M",
         "occupation": "administrator",
         "zip_code": "02215",
         "_deepnote_index_column": 940
        },
        {
         "age": 20,
         "gender": "M",
         "occupation": "student",
         "zip_code": "97229",
         "_deepnote_index_column": 941
        },
        {
         "age": 48,
         "gender": "F",
         "occupation": "librarian",
         "zip_code": "78209",
         "_deepnote_index_column": 942
        },
        {
         "age": 22,
         "gender": "M",
         "occupation": "student",
         "zip_code": "77841",
         "_deepnote_index_column": 943
        }
       ]
      },
      "text/plain": "         age gender     occupation zip_code\nuser_id                                    \n1         24      M     technician    85711\n2         53      F          other    94043\n3         23      M         writer    32067\n4         24      M     technician    43537\n5         33      F          other    15213\n...      ...    ...            ...      ...\n939       26      F        student    33319\n940       32      M  administrator    02215\n941       20      M        student    97229\n942       48      F      librarian    78209\n943       22      M        student    77841\n\n[936 rows x 4 columns]",
      "text/html": "<div>\n<style scoped>\n    .dataframe tbody tr th:only-of-type {\n        vertical-align: middle;\n    }\n\n    .dataframe tbody tr th {\n        vertical-align: top;\n    }\n\n    .dataframe thead th {\n        text-align: right;\n    }\n</style>\n<table border=\"1\" class=\"dataframe\">\n  <thead>\n    <tr style=\"text-align: right;\">\n      <th></th>\n      <th>age</th>\n      <th>gender</th>\n      <th>occupation</th>\n      <th>zip_code</th>\n    </tr>\n    <tr>\n      <th>user_id</th>\n      <th></th>\n      <th></th>\n      <th></th>\n      <th></th>\n    </tr>\n  </thead>\n  <tbody>\n    <tr>\n      <th>1</th>\n      <td>24</td>\n      <td>M</td>\n      <td>technician</td>\n      <td>85711</td>\n    </tr>\n    <tr>\n      <th>2</th>\n      <td>53</td>\n      <td>F</td>\n      <td>other</td>\n      <td>94043</td>\n    </tr>\n    <tr>\n      <th>3</th>\n      <td>23</td>\n      <td>M</td>\n      <td>writer</td>\n      <td>32067</td>\n    </tr>\n    <tr>\n      <th>4</th>\n      <td>24</td>\n      <td>M</td>\n      <td>technician</td>\n      <td>43537</td>\n    </tr>\n    <tr>\n      <th>5</th>\n      <td>33</td>\n      <td>F</td>\n      <td>other</td>\n      <td>15213</td>\n    </tr>\n    <tr>\n      <th>...</th>\n      <td>...</td>\n      <td>...</td>\n      <td>...</td>\n      <td>...</td>\n    </tr>\n    <tr>\n      <th>939</th>\n      <td>26</td>\n      <td>F</td>\n      <td>student</td>\n      <td>33319</td>\n    </tr>\n    <tr>\n      <th>940</th>\n      <td>32</td>\n      <td>M</td>\n      <td>administrator</td>\n      <td>02215</td>\n    </tr>\n    <tr>\n      <th>941</th>\n      <td>20</td>\n      <td>M</td>\n      <td>student</td>\n      <td>97229</td>\n    </tr>\n    <tr>\n      <th>942</th>\n      <td>48</td>\n      <td>F</td>\n      <td>librarian</td>\n      <td>78209</td>\n    </tr>\n    <tr>\n      <th>943</th>\n      <td>22</td>\n      <td>M</td>\n      <td>student</td>\n      <td>77841</td>\n    </tr>\n  </tbody>\n</table>\n<p>936 rows × 4 columns</p>\n</div>"
     },
     "metadata": {}
    }
   ]
  },
  {
   "cell_type": "markdown",
   "source": "---\n7. Select occupations column",
   "metadata": {
    "tags": [],
    "cell_id": "00012-05e5a7c8-5448-44ba-b199-f241893eebbf",
    "deepnote_cell_type": "markdown"
   }
  },
  {
   "cell_type": "code",
   "metadata": {
    "tags": [],
    "cell_id": "00013-313424b0-37fa-4afa-89f2-4018132ba553",
    "deepnote_to_be_reexecuted": false,
    "source_hash": "88c4621f",
    "execution_start": 1624982386522,
    "execution_millis": 1,
    "deepnote_cell_type": "code"
   },
   "source": "df['occupation'].head()",
   "execution_count": null,
   "outputs": [
    {
     "output_type": "execute_result",
     "execution_count": 27,
     "data": {
      "text/plain": "user_id\n1    technician\n2         other\n3        writer\n4    technician\n5         other\nName: occupation, dtype: object"
     },
     "metadata": {}
    }
   ]
  },
  {
   "cell_type": "markdown",
   "source": "---\n8. How many different occupations are there",
   "metadata": {
    "tags": [],
    "cell_id": "00014-475338c0-4315-4d85-8ab2-be0facdee005",
    "deepnote_cell_type": "markdown"
   }
  },
  {
   "cell_type": "code",
   "metadata": {
    "tags": [],
    "cell_id": "00015-7a8a121e-59f1-489b-8084-1992b643ed8a",
    "deepnote_to_be_reexecuted": false,
    "source_hash": "2022168a",
    "execution_start": 1624982415636,
    "execution_millis": 8,
    "deepnote_cell_type": "code"
   },
   "source": "df['occupation'].nunique()",
   "execution_count": null,
   "outputs": [
    {
     "output_type": "execute_result",
     "execution_count": 30,
     "data": {
      "text/plain": "21"
     },
     "metadata": {}
    }
   ]
  },
  {
   "cell_type": "markdown",
   "source": "---\n9. What are the most and least frequent occupations",
   "metadata": {
    "tags": [],
    "cell_id": "00016-384881f6-f88b-465f-abae-172297405ee5",
    "deepnote_cell_type": "markdown"
   }
  },
  {
   "cell_type": "code",
   "metadata": {
    "tags": [],
    "cell_id": "00017-1085d3e6-a557-478d-8c61-523b5af708e2",
    "deepnote_to_be_reexecuted": false,
    "source_hash": "5c1dccb7",
    "execution_start": 1624982518559,
    "execution_millis": 13,
    "deepnote_cell_type": "code"
   },
   "source": "df['occupation'].value_counts()",
   "execution_count": null,
   "outputs": [
    {
     "output_type": "execute_result",
     "execution_count": 44,
     "data": {
      "text/plain": "student          196\nother            105\neducator          95\nadministrator     79\nengineer          67\nprogrammer        66\nlibrarian         51\nwriter            45\nexecutive         32\nscientist         31\nartist            28\ntechnician        27\nmarketing         26\nentertainment     18\nhealthcare        16\nretired           14\nsalesman          12\nlawyer            12\nnone               9\nhomemaker          7\ndoctor             7\nName: occupation, dtype: int64"
     },
     "metadata": {}
    }
   ]
  },
  {
   "cell_type": "markdown",
   "source": "---\n10. What is the min, max, and average age?",
   "metadata": {
    "tags": [],
    "cell_id": "00018-e4581bd9-0e28-4433-8982-8fd83d8ebb78",
    "deepnote_cell_type": "markdown"
   }
  },
  {
   "cell_type": "code",
   "metadata": {
    "tags": [],
    "cell_id": "00023-07d9453d-ca8c-495b-80c0-f2f559a4a945",
    "deepnote_to_be_reexecuted": false,
    "source_hash": "a7488d41",
    "execution_start": 1624982535578,
    "deepnote_cell_type": "code"
   },
   "source": "df[\"age\"].describe()",
   "execution_count": null,
   "outputs": [
    {
     "output_type": "execute_result",
     "execution_count": 45,
     "data": {
      "text/plain": "count    943.000000\nmean      34.051962\nstd       12.192740\nmin        7.000000\n25%       25.000000\n50%       31.000000\n75%       43.000000\nmax       73.000000\nName: age, dtype: float64"
     },
     "metadata": {}
    }
   ]
  },
  {
   "cell_type": "code",
   "metadata": {
    "tags": [],
    "cell_id": "00019-1b7e8853-ad99-4d58-b332-c32ef6f9383a",
    "deepnote_to_be_reexecuted": false,
    "source_hash": "59496fe3",
    "execution_start": 1624906291762,
    "execution_millis": 13,
    "deepnote_cell_type": "code"
   },
   "source": "laki = df['age'].max()\ndaki = df['age'].min()\ncaki = df['age'].mean()\n\nlaki,daki,caki",
   "execution_count": null,
   "outputs": [
    {
     "output_type": "execute_result",
     "execution_count": 26,
     "data": {
      "text/plain": "(73, 7, 34.05196182396607)"
     },
     "metadata": {}
    }
   ]
  },
  {
   "cell_type": "markdown",
   "source": "---\n11. Filter data-set such that it shows only entries with the most common occupation",
   "metadata": {
    "tags": [],
    "cell_id": "00020-919dc0bf-db4e-479d-9305-930cc9c46994",
    "deepnote_cell_type": "markdown"
   }
  },
  {
   "cell_type": "code",
   "metadata": {
    "tags": [],
    "cell_id": "00021-e5034260-2a87-47a9-af57-c5c82da64109",
    "deepnote_to_be_reexecuted": false,
    "source_hash": "c37d47ef",
    "execution_start": 1624982574168,
    "execution_millis": 33,
    "deepnote_cell_type": "code"
   },
   "source": "df_filtered = df[df[\"occupation\"] == \"student\"]\ndf_filtered.head()",
   "execution_count": null,
   "outputs": [
    {
     "output_type": "execute_result",
     "execution_count": 48,
     "data": {
      "application/vnd.deepnote.dataframe.v2+json": {
       "row_count": 5,
       "column_count": 4,
       "columns": [
        {
         "name": "age",
         "dtype": "int64",
         "stats": {
          "unique_count": 5,
          "nan_count": 0,
          "min": "7",
          "max": "29",
          "histogram": [
           {
            "bin_start": 7,
            "bin_end": 9.2,
            "count": 1
           },
           {
            "bin_start": 9.2,
            "bin_end": 11.4,
            "count": 0
           },
           {
            "bin_start": 11.4,
            "bin_end": 13.600000000000001,
            "count": 0
           },
           {
            "bin_start": 13.600000000000001,
            "bin_end": 15.8,
            "count": 0
           },
           {
            "bin_start": 15.8,
            "bin_end": 18,
            "count": 0
           },
           {
            "bin_start": 18,
            "bin_end": 20.200000000000003,
            "count": 1
           },
           {
            "bin_start": 20.200000000000003,
            "bin_end": 22.400000000000002,
            "count": 0
           },
           {
            "bin_start": 22.400000000000002,
            "bin_end": 24.6,
            "count": 1
           },
           {
            "bin_start": 24.6,
            "bin_end": 26.8,
            "count": 0
           },
           {
            "bin_start": 26.8,
            "bin_end": 29,
            "count": 2
           }
          ]
         }
        },
        {
         "name": "gender",
         "dtype": "object",
         "stats": {
          "unique_count": 2,
          "nan_count": 0,
          "categories": [
           {
            "name": "M",
            "count": 3
           },
           {
            "name": "F",
            "count": 2
           }
          ]
         }
        },
        {
         "name": "occupation",
         "dtype": "object",
         "stats": {
          "unique_count": 1,
          "nan_count": 0,
          "categories": [
           {
            "name": "student",
            "count": 5
           }
          ]
         }
        },
        {
         "name": "zip_code",
         "dtype": "object",
         "stats": {
          "unique_count": 5,
          "nan_count": 0,
          "categories": [
           {
            "name": "01002",
            "count": 1
           },
           {
            "name": "55436",
            "count": 1
           },
           {
            "name": "3 others",
            "count": 3
           }
          ]
         }
        },
        {
         "name": "_deepnote_index_column",
         "dtype": "int64"
        }
       ],
       "rows_top": [
        {
         "age": 29,
         "gender": "M",
         "occupation": "student",
         "zip_code": "01002",
         "_deepnote_index_column": 9
        },
        {
         "age": 7,
         "gender": "M",
         "occupation": "student",
         "zip_code": "55436",
         "_deepnote_index_column": 30
        },
        {
         "age": 28,
         "gender": "F",
         "occupation": "student",
         "zip_code": "78741",
         "_deepnote_index_column": 32
        },
        {
         "age": 23,
         "gender": "M",
         "occupation": "student",
         "zip_code": "27510",
         "_deepnote_index_column": 33
        },
        {
         "age": 19,
         "gender": "F",
         "occupation": "student",
         "zip_code": "93117",
         "_deepnote_index_column": 36
        }
       ],
       "rows_bottom": null
      },
      "text/plain": "         age gender occupation zip_code\nuser_id                                \n9         29      M    student    01002\n30         7      M    student    55436\n32        28      F    student    78741\n33        23      M    student    27510\n36        19      F    student    93117",
      "text/html": "<div>\n<style scoped>\n    .dataframe tbody tr th:only-of-type {\n        vertical-align: middle;\n    }\n\n    .dataframe tbody tr th {\n        vertical-align: top;\n    }\n\n    .dataframe thead th {\n        text-align: right;\n    }\n</style>\n<table border=\"1\" class=\"dataframe\">\n  <thead>\n    <tr style=\"text-align: right;\">\n      <th></th>\n      <th>age</th>\n      <th>gender</th>\n      <th>occupation</th>\n      <th>zip_code</th>\n    </tr>\n    <tr>\n      <th>user_id</th>\n      <th></th>\n      <th></th>\n      <th></th>\n      <th></th>\n    </tr>\n  </thead>\n  <tbody>\n    <tr>\n      <th>9</th>\n      <td>29</td>\n      <td>M</td>\n      <td>student</td>\n      <td>01002</td>\n    </tr>\n    <tr>\n      <th>30</th>\n      <td>7</td>\n      <td>M</td>\n      <td>student</td>\n      <td>55436</td>\n    </tr>\n    <tr>\n      <th>32</th>\n      <td>28</td>\n      <td>F</td>\n      <td>student</td>\n      <td>78741</td>\n    </tr>\n    <tr>\n      <th>33</th>\n      <td>23</td>\n      <td>M</td>\n      <td>student</td>\n      <td>27510</td>\n    </tr>\n    <tr>\n      <th>36</th>\n      <td>19</td>\n      <td>F</td>\n      <td>student</td>\n      <td>93117</td>\n    </tr>\n  </tbody>\n</table>\n</div>"
     },
     "metadata": {}
    }
   ]
  },
  {
   "cell_type": "markdown",
   "source": "---\n12. How many times every age in the filtered dataframe occurs.",
   "metadata": {
    "tags": [],
    "cell_id": "00022-b0693243-d61d-4397-b491-bbda4eaab14b",
    "deepnote_cell_type": "markdown"
   }
  },
  {
   "cell_type": "code",
   "metadata": {
    "tags": [],
    "cell_id": "00028-4d354ce1-81f8-4983-aa37-559c89ae281d",
    "deepnote_to_be_reexecuted": false,
    "source_hash": "bb272e18",
    "execution_start": 1624982632276,
    "execution_millis": 13,
    "deepnote_cell_type": "code"
   },
   "source": "df_filtered[\"age\"].value_counts()",
   "execution_count": null,
   "outputs": [
    {
     "output_type": "execute_result",
     "execution_count": 55,
     "data": {
      "text/plain": "20    25\n22    21\n19    21\n18    13\n21    13\n17    13\n25    11\n23    11\n24     8\n28     8\n26     7\n27     7\n15     5\n29     5\n16     4\n14     3\n13     3\n30     3\n32     3\n31     2\n34     2\n35     2\n38     1\n40     1\n7      1\n36     1\n10     1\n42     1\nName: age, dtype: int64"
     },
     "metadata": {}
    }
   ]
  },
  {
   "cell_type": "markdown",
   "source": "---\n13. What is the gender count in the filtered dataframe",
   "metadata": {
    "tags": [],
    "cell_id": "00024-7e2c7d2c-bdc4-4700-a3cd-984ca1d1e72d",
    "deepnote_cell_type": "markdown"
   }
  },
  {
   "cell_type": "code",
   "metadata": {
    "tags": [],
    "cell_id": "00025-c6b54175-c110-4f63-b334-f5d19b2484d7",
    "deepnote_to_be_reexecuted": false,
    "source_hash": "ba3658cd",
    "execution_start": 1624983536234,
    "execution_millis": 8,
    "deepnote_cell_type": "code"
   },
   "source": "df['gender'].value_counts()",
   "execution_count": null,
   "outputs": [
    {
     "output_type": "execute_result",
     "execution_count": 116,
     "data": {
      "text/plain": "M    670\nF    273\nName: gender, dtype: int64"
     },
     "metadata": {}
    }
   ]
  },
  {
   "cell_type": "markdown",
   "source": "---\n14. Create new column using `.apply()`, as follows:\n\nrows with:\n`age < 30 and genger == M`, the value for that new column will be `\"male_beginer_experience\"`\n\n`age < 30 and genger == F`, `\"female_beginer_experience\"`\n\n`age > 30 and gender == M`, `\"male_advanced_experience\"`\n\n`age > 30 and gender == F`, `\"female_advanced_experience\"`",
   "metadata": {
    "tags": [],
    "cell_id": "00027-763d93f6-4948-433e-b31d-db9adb8f3120",
    "deepnote_cell_type": "markdown"
   }
  },
  {
   "cell_type": "code",
   "metadata": {
    "tags": [],
    "cell_id": "00033-ccd911c7-65e4-4c4d-9dae-ebbfa7a88a5b",
    "deepnote_cell_type": "code"
   },
   "source": "def my_function(row):\n    if row[\"age\"] < 30:\n        if row[\"gender\"] == \"M\":\n            return \"male_beginer_experience\"\n        else:\n            return \"female_beginer_experience\"\n    else:\n        if row[\"gender\"] == \"M\":\n            return \"male_advanced_experience\"\n        else:\n            return \"female_advanced_experience\"",
   "execution_count": null,
   "outputs": []
  },
  {
   "cell_type": "code",
   "metadata": {
    "tags": [],
    "cell_id": "00028-d3923700-abdf-4346-8e93-16b69c5242f7",
    "deepnote_to_be_reexecuted": false,
    "source_hash": "bdbc830f",
    "execution_start": 1624983438126,
    "execution_millis": 142,
    "deepnote_cell_type": "code"
   },
   "source": "def my_function(row):\n    if (row[\"age\"] < 30) and (row[\"gender\"] == \"M\"):\n        return \"male_beginer_experience\"\n    elif (row[\"age\"] < 30) and (row[\"gender\"] == \"F\"):\n        return \"female_beginer_experience\"\n    elif (row[\"age\"] > 30) and (row[\"gender\"] == \"M\"):\n        return \"male_advanced_experience\"\n    elif (row[\"age\"] > 30) and (row[\"gender\"] == \"F\"):\n        return \"female_advanced_experience\"    \n    else:\n        \"NA\"\n\ndf[\"occupation_new\"] =  df.apply(my_function, axis=1)\ndf.head()",
   "execution_count": null,
   "outputs": [
    {
     "output_type": "execute_result",
     "execution_count": 101,
     "data": {
      "application/vnd.deepnote.dataframe.v2+json": {
       "row_count": 5,
       "column_count": 5,
       "columns": [
        {
         "name": "age",
         "dtype": "int64",
         "stats": {
          "unique_count": 4,
          "nan_count": 0,
          "min": "23",
          "max": "53",
          "histogram": [
           {
            "bin_start": 23,
            "bin_end": 26,
            "count": 3
           },
           {
            "bin_start": 26,
            "bin_end": 29,
            "count": 0
           },
           {
            "bin_start": 29,
            "bin_end": 32,
            "count": 0
           },
           {
            "bin_start": 32,
            "bin_end": 35,
            "count": 1
           },
           {
            "bin_start": 35,
            "bin_end": 38,
            "count": 0
           },
           {
            "bin_start": 38,
            "bin_end": 41,
            "count": 0
           },
           {
            "bin_start": 41,
            "bin_end": 44,
            "count": 0
           },
           {
            "bin_start": 44,
            "bin_end": 47,
            "count": 0
           },
           {
            "bin_start": 47,
            "bin_end": 50,
            "count": 0
           },
           {
            "bin_start": 50,
            "bin_end": 53,
            "count": 1
           }
          ]
         }
        },
        {
         "name": "gender",
         "dtype": "object",
         "stats": {
          "unique_count": 2,
          "nan_count": 0,
          "categories": [
           {
            "name": "M",
            "count": 3
           },
           {
            "name": "F",
            "count": 2
           }
          ]
         }
        },
        {
         "name": "occupation",
         "dtype": "object",
         "stats": {
          "unique_count": 3,
          "nan_count": 0,
          "categories": [
           {
            "name": "technician",
            "count": 2
           },
           {
            "name": "other",
            "count": 2
           },
           {
            "name": "writer",
            "count": 1
           }
          ]
         }
        },
        {
         "name": "zip_code",
         "dtype": "object",
         "stats": {
          "unique_count": 5,
          "nan_count": 0,
          "categories": [
           {
            "name": "85711",
            "count": 1
           },
           {
            "name": "94043",
            "count": 1
           },
           {
            "name": "3 others",
            "count": 3
           }
          ]
         }
        },
        {
         "name": "occupation_new",
         "dtype": "object",
         "stats": {
          "unique_count": 2,
          "nan_count": 0,
          "categories": [
           {
            "name": "male_beginer_experience",
            "count": 3
           },
           {
            "name": "female_advanced_experience",
            "count": 2
           }
          ]
         }
        },
        {
         "name": "_deepnote_index_column",
         "dtype": "int64"
        }
       ],
       "rows_top": [
        {
         "age": 24,
         "gender": "M",
         "occupation": "technician",
         "zip_code": "85711",
         "occupation_new": "male_beginer_experience",
         "_deepnote_index_column": 1
        },
        {
         "age": 53,
         "gender": "F",
         "occupation": "other",
         "zip_code": "94043",
         "occupation_new": "female_advanced_experience",
         "_deepnote_index_column": 2
        },
        {
         "age": 23,
         "gender": "M",
         "occupation": "writer",
         "zip_code": "32067",
         "occupation_new": "male_beginer_experience",
         "_deepnote_index_column": 3
        },
        {
         "age": 24,
         "gender": "M",
         "occupation": "technician",
         "zip_code": "43537",
         "occupation_new": "male_beginer_experience",
         "_deepnote_index_column": 4
        },
        {
         "age": 33,
         "gender": "F",
         "occupation": "other",
         "zip_code": "15213",
         "occupation_new": "female_advanced_experience",
         "_deepnote_index_column": 5
        }
       ],
       "rows_bottom": null
      },
      "text/plain": "         age gender  occupation zip_code              occupation_new\nuser_id                                                             \n1         24      M  technician    85711     male_beginer_experience\n2         53      F       other    94043  female_advanced_experience\n3         23      M      writer    32067     male_beginer_experience\n4         24      M  technician    43537     male_beginer_experience\n5         33      F       other    15213  female_advanced_experience",
      "text/html": "<div>\n<style scoped>\n    .dataframe tbody tr th:only-of-type {\n        vertical-align: middle;\n    }\n\n    .dataframe tbody tr th {\n        vertical-align: top;\n    }\n\n    .dataframe thead th {\n        text-align: right;\n    }\n</style>\n<table border=\"1\" class=\"dataframe\">\n  <thead>\n    <tr style=\"text-align: right;\">\n      <th></th>\n      <th>age</th>\n      <th>gender</th>\n      <th>occupation</th>\n      <th>zip_code</th>\n      <th>occupation_new</th>\n    </tr>\n    <tr>\n      <th>user_id</th>\n      <th></th>\n      <th></th>\n      <th></th>\n      <th></th>\n      <th></th>\n    </tr>\n  </thead>\n  <tbody>\n    <tr>\n      <th>1</th>\n      <td>24</td>\n      <td>M</td>\n      <td>technician</td>\n      <td>85711</td>\n      <td>male_beginer_experience</td>\n    </tr>\n    <tr>\n      <th>2</th>\n      <td>53</td>\n      <td>F</td>\n      <td>other</td>\n      <td>94043</td>\n      <td>female_advanced_experience</td>\n    </tr>\n    <tr>\n      <th>3</th>\n      <td>23</td>\n      <td>M</td>\n      <td>writer</td>\n      <td>32067</td>\n      <td>male_beginer_experience</td>\n    </tr>\n    <tr>\n      <th>4</th>\n      <td>24</td>\n      <td>M</td>\n      <td>technician</td>\n      <td>43537</td>\n      <td>male_beginer_experience</td>\n    </tr>\n    <tr>\n      <th>5</th>\n      <td>33</td>\n      <td>F</td>\n      <td>other</td>\n      <td>15213</td>\n      <td>female_advanced_experience</td>\n    </tr>\n  </tbody>\n</table>\n</div>"
     },
     "metadata": {}
    }
   ]
  },
  {
   "cell_type": "markdown",
   "source": "---\n15. Create a new column using .apply() such that:\n\nrows that have `occupation` == \"teacher\" or \"student\" or \"librarian\" or \"educator\", the value in that new column will be \"academia\"",
   "metadata": {
    "tags": [],
    "cell_id": "00029-26bc3235-6253-48c6-a541-b6992e328e7f",
    "deepnote_cell_type": "markdown"
   }
  },
  {
   "cell_type": "markdown",
   "source": "# ------------HINTS------------",
   "metadata": {
    "tags": [],
    "cell_id": "00026-c1f1e1f6-a225-42e9-a418-4a4d6debad0c",
    "is_collapsed": false,
    "deepnote_cell_type": "text-cell-h1"
   }
  },
  {
   "cell_type": "code",
   "metadata": {
    "tags": [],
    "cell_id": "00024-219f537b-291a-4aaf-a3c9-de773a992f3d",
    "deepnote_to_be_reexecuted": true,
    "source_hash": "79b0065f",
    "deepnote_cell_type": "code"
   },
   "source": "1. read_csv , sep='|', index_col='user_id'\n2. head\n3. tail\n4. .columns\n5. .info / .dtypes\n6. .isnull .sum\n6.5 df[df.duplicated()] - filters out duplicate rows\n7. df[\"selected_colum_name\"]\n8. .nunique()\n9. .value_counts - list of counts, and now just select first and last\n10. .describe or max, min, mean\n11. df[df[\"filtered_column\"] == \"condition\"]\n12. .value_counts\n13. .value_counts\n14. .apply(my_function) - my_function(row) - define the function such that it suits the conditions eg. row[\"age\"] < 30 .... : return \"value\"\n15. .apply(my_functino2) - my_funciton2(row) - define the functions such that it checks the condition and returns appropriate value",
   "execution_count": null,
   "outputs": []
  },
  {
   "cell_type": "markdown",
   "source": "",
   "metadata": {
    "tags": [],
    "cell_id": "00024-1ae626be-03d4-4733-aadf-1673737d1435",
    "deepnote_cell_type": "markdown"
   }
  },
  {
   "cell_type": "markdown",
   "source": "<a style='text-decoration:none;line-height:16px;display:flex;color:#5B5B62;padding:10px;justify-content:end;' href='https://deepnote.com?utm_source=created-in-deepnote-cell&projectId=7d3ce7c8-a514-49e4-9ba4-a5899ac52ea5' target=\"_blank\">\n<img alt='Created in deepnote.com' style='display:inline;max-height:16px;margin:0px;margin-right:7.5px;' src='data:image/svg+xml;base64,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' > </img>\nCreated in <span style='font-weight:600;margin-left:4px;'>Deepnote</span></a>",
   "metadata": {
    "tags": [],
    "created_in_deepnote_cell": true,
    "deepnote_cell_type": "markdown"
   }
  }
 ],
 "nbformat": 4,
 "nbformat_minor": 2,
 "metadata": {
  "orig_nbformat": 2,
  "deepnote": {
   "is_reactive": false
  },
  "deepnote_notebook_id": "a0b3c435-0b9d-4d71-a17f-8dfb908c47d7",
  "deepnote_execution_queue": []
 }
}