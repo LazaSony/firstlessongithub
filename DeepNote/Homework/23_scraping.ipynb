{
 "cells": [
  {
   "cell_type": "markdown",
   "source": "go to my favourite tea supplier page: https://yunomi.life/collections/green-tea?page=1\n\nand scrape me all green tea listings (29 pages). You do not need to visit the pages themselves, only get the information from the list of products.\n\nFor every tea I want you to save: \n* tea name\n* tea origin\n* tea price\n* number of reviews\n* availability\n* link to the page of the tea\n\nif you need help, at the botom in **HELP** section, you can find how to do every single of these for one example. Please try it on your own first.\n\nOnce it is all done, and you have a list of lits containing all of this info for every single tea, make pandas dataframe out of it, save it.",
   "metadata": {
    "tags": [],
    "cell_id": "00000-8f4d0937-9aa4-487b-b905-c106759ac25b",
    "deepnote_cell_type": "markdown"
   }
  },
  {
   "cell_type": "code",
   "metadata": {
    "tags": [],
    "cell_id": "00001-5a4a01c2-926b-4bf2-98dc-1e1a3903562b",
    "deepnote_to_be_reexecuted": false,
    "source_hash": "d69be248",
    "execution_start": 1632589071327,
    "execution_millis": 3069,
    "deepnote_cell_type": "code"
   },
   "source": "!pip install -q bs4",
   "execution_count": null,
   "outputs": []
  },
  {
   "cell_type": "code",
   "metadata": {
    "tags": [],
    "cell_id": "00000-0ca8fce5-62c8-4401-ac00-d9e5d67d9716",
    "deepnote_to_be_reexecuted": false,
    "source_hash": "e9e6673e",
    "execution_start": 1632411353107,
    "execution_millis": 133,
    "deepnote_cell_type": "code"
   },
   "source": "#Load Packages\nimport pandas as pd\nimport numpy as np\nimport re\nfrom bs4 import BeautifulSoup\nfrom urllib.parse import urlparse\nimport urllib.request\nimport requests\nprint(\"Packages loaded\")\nimport time\nimport random",
   "execution_count": null,
   "outputs": [
    {
     "name": "stdout",
     "text": "Packages loaded\n",
     "output_type": "stream"
    }
   ]
  },
  {
   "cell_type": "code",
   "metadata": {
    "tags": [],
    "cell_id": "00003-dd3ca889-db5d-4907-8c2e-61a3f59f0e22",
    "deepnote_to_be_reexecuted": false,
    "source_hash": "d6715d86",
    "execution_start": 1632411374270,
    "execution_millis": 968,
    "output_cleared": true,
    "deepnote_cell_type": "code"
   },
   "source": "page_url = \"https://yunomi.life/collections/green-tea?page=1\"\nrequest = requests.get(page_url) \nsoup = BeautifulSoup(request.content,\"html\")\n\n\ntea= soup.find(\"div\", attrs={\"class\":\"product-list\"})\n\ntea= tea.find_all(\"div\", attrs={\"class\":\"product-item\"})\nsoup",
   "execution_count": null,
   "outputs": []
  },
  {
   "cell_type": "code",
   "metadata": {
    "tags": [],
    "cell_id": "00003-50dbcc78-257b-40e3-946f-13a3c29ddf6b",
    "deepnote_to_be_reexecuted": false,
    "source_hash": "d20bf9b1",
    "execution_start": 1632411643866,
    "execution_millis": 491,
    "deepnote_cell_type": "code"
   },
   "source": "page_url = \"https://yunomi.life/collections/green-tea?page=1\"\nrequest = requests.get(page_url) \nsoup = BeautifulSoup(request.content,\"html\")\n\ntea= soup.find(\"div\", attrs={\"class\":\"product-list\"})\n\ntea= tea.find_all(\"div\", attrs={\"class\":\"product-item\"})\n\ntea_origin = tea[0].find(\"a\",attrs={\"class\":\"product-item__vendor link\"}).text\ntea_name = tea[0].find(\"a\",attrs={\"class\":\"product-item__title text--strong link\"}).text\ntea_star = tea[0].find(\"span\",attrs={\"class\":\"ssw-review-count\"}).text\ntea_star = tea_star.replace(\"(\",\"\").replace(\")\",\"\")\ntea_price = tea[0].find(\"span\",attrs={\"class\":\"price\"}).text\ntea_availability =tea[0].find(\"span\",attrs={\"class\":\"product-item__inventory inventory inventory--high\"}).text\ntea_link = \"https://yunomi.life/\" + tea[0].find(\"a\",attrs={\"class\":\"product-item__image-wrapper product-item__image-wrapper--with-secondary\"})[\"href\"]\n\nprint(tea_origin ,\"\\n\",tea_name,\"\\n\",tea_star,\"\\n\",tea_price,\"\\n\",tea_availability,\"\\n\",tea_link)",
   "execution_count": null,
   "outputs": [
    {
     "name": "stdout",
     "text": "Hachimanjyu Yakushima Tea \n Hachimanjyu: Naturally Grown \"Hisoka\", Spring First Flush Green Tea (Yutaka Midori) \n  10  \n From JPY ¥600 \n Available \n https://yunomi.life//collections/green-tea/products/hachimanjyu-naturally-grown-hisoka-spring-first-flush-green-tea-yutaka-midori\n",
     "output_type": "stream"
    }
   ]
  },
  {
   "cell_type": "code",
   "metadata": {
    "tags": [],
    "cell_id": "00005-fa9053cb-a1e8-4d3c-83e8-ef14b5db06e7",
    "deepnote_to_be_reexecuted": false,
    "source_hash": "af79ea7c",
    "execution_start": 1632413324218,
    "execution_millis": 4951,
    "deepnote_cell_type": "code"
   },
   "source": "!pip install alive-progress",
   "execution_count": null,
   "outputs": [
    {
     "name": "stdout",
     "text": "Collecting alive-progress\n  Downloading alive_progress-2.0.0-py3-none-any.whl (72 kB)\n\u001b[K     |████████████████████████████████| 72 kB 3.0 MB/s \n\u001b[?25hCollecting grapheme==0.6.0\n  Downloading grapheme-0.6.0.tar.gz (207 kB)\n\u001b[K     |████████████████████████████████| 207 kB 71.2 MB/s \n\u001b[?25hCollecting about-time==3.1.1\n  Downloading about_time-3.1.1-py3-none-any.whl (9.1 kB)\nBuilding wheels for collected packages: grapheme\n  Building wheel for grapheme (setup.py) ... \u001b[?25ldone\n\u001b[?25h  Created wheel for grapheme: filename=grapheme-0.6.0-py3-none-any.whl size=210096 sha256=e3cc94888a6137a77926c6c8ca8543799ec8e4e9a165168420b5cfc9aa9f8086\n  Stored in directory: /root/.cache/pip/wheels/71/fc/c8/142ef03b79c02b618fe80b9f2d01c25bd55f60b0c58eab3f0e\nSuccessfully built grapheme\nInstalling collected packages: grapheme, about-time, alive-progress\nSuccessfully installed about-time-3.1.1 alive-progress-2.0.0 grapheme-0.6.0\n",
     "output_type": "stream"
    }
   ]
  },
  {
   "cell_type": "code",
   "metadata": {
    "tags": [],
    "cell_id": "00005-5afd1f98-8e8f-47a6-86a6-af57ca5cdc79",
    "deepnote_to_be_reexecuted": false,
    "source_hash": "84d1e05",
    "execution_start": 1632416271525,
    "execution_millis": 47786,
    "output_cleared": false,
    "deepnote_cell_type": "code"
   },
   "source": "class ScrapeYunomi():\n    MAX_PAGES = 30\n    PAGE_BASE = \"https://yunomi.life/\"\n    \n    def __init__(self, continue_scraping=False):\n        self.write_new_save_file(continue_scraping)\n        self.links_to_scrape = self.get_links_to_scrape()\n        self.df_tea = self.scrape_index_page()\n\n    def write_new_save_file(self, continue_scraping):\n        if continue_scraping:\n            pass\n        else:\n            with open('/work/data/homework 23/save_tea.csv', 'w') as file_object:\n                file_object.write(\"\")\n\n    def get_links_to_scrape(self):\n        list_of_links=[]\n        for i in range(1, self.MAX_PAGES + 1):\n            link = \"https://yunomi.life/collections/green-tea?page=\" + str(i)\n            list_of_links.append(link)\n        return list_of_links\n\n    def scrape_index_page(self):\n        records=[]\n        with open('/work/data/homework 23/save_tea.csv', 'a', encoding='UTF8') as file_object:\n            with alive_bar(len(self.links_to_scrape)) as bar:\n                for link in self.links_to_scrape:\n                    request = requests.get(link)\n                    soup = BeautifulSoup(request.content,'html.parser')\n\n                    tea_div= soup.find(\"div\", attrs={\"class\":\"product-list\"})\n                    list_of_all_teas= tea_div.find_all(\"div\", attrs={\"class\":\"product-item\"})\n\n                    if tea_div and list_of_all_teas:\n                        for result in list_of_all_teas:  \n                            try:\n                                tea_origin = result.find(\"a\",attrs={\"class\":\"product-item__vendor link\"}).text\n                            except:\n                                tea_origin = \"None\"\n\n                            try:\n                                tea_star = result.find(\"span\",attrs={\"class\":\"ssw-review-count\"}).text\n                                tea_star = tea_star.replace(\"(\",\"\").replace(\")\",\"\")\n                            except:\n                                tea_star = \"None\"\n\n                            try:\n                                tea_price = result.find(\"span\",attrs={\"class\":\"price\"}).text\n                            except:\n                                tea_price = \"None\"\n\n                            try:\n                                tea_availability =result.find(\"span\",attrs={\"class\":\"product-item__inventory\"}).text\n                            except:\n                                tea_availability = \"None\"\n\n                            try:\n                                tea_name = result.find(\"a\", attrs={\"class\":\"product-item__title text--strong link\"}).text\n                            except:\n                                tea_name = \"None\"\n\n                            try:\n                                tea_link = \"https://yunomi.life/\" + result.find(\"a\",attrs={\"class\":\"product-item__image-wrapper\"})[\"href\"]\n                            except:\n                                tea_link = \"None\"\n                            file_object.write(f\"{tea_name},{tea_origin},{tea_star},{tea_price},{tea_availability},{tea_link}\\n\")\n                            records.append((tea_name,tea_origin,tea_star,tea_price,tea_availability,tea_link))\n                    else:\n                        print(link)\n                    bar()\n        col_names=[\"tea_name\",\"tea_origin\",\"tea_star\",\"tea_price\",\"tea_availability\",\"tea_link\"]\n        df = pd.DataFrame(records,columns=col_names)\n        df.to_csv(\"/work/data/homework 23/teas.csv\")\n\n        return df\n            \n\n\nmodel = ScrapeYunomi()\n# model.links_to_scrape\n\n# pd.read_csv('/work/data/homework 23/save_tea.csv', index_col=None, header=None, error_bad_lines=False, names=[\"tea_name\",\"tea_origin\",\"tea_star\",\"tea_price\",\"tea_availability\",\"tea_link\"])\npd.read_csv('/work/data/homework 23/teas.csv')",
   "execution_count": null,
   "outputs": [
    {
     "name": "stdout",
     "text": "on 29: https://yunomi.life/collections/green-tea?page=30\n|████████████████████████████████████████| 30/30 [100%] in 47.8s (0.63/s)\n",
     "output_type": "stream"
    }
   ]
  },
  {
   "cell_type": "code",
   "metadata": {
    "tags": [],
    "cell_id": "00004-2cf9f561-ee95-49d2-a5f5-734499007554",
    "deepnote_to_be_reexecuted": false,
    "source_hash": "c33213d8",
    "execution_start": 1632412188367,
    "execution_millis": 2187,
    "deepnote_cell_type": "code"
   },
   "source": "max_pages = 2\nlist_of_image_urls = []\nrecords = []  \nfor i in range(1, max_pages+1):\n    page_url = \"https://yunomi.life/collections/green-tea?page=\" + str(i)\n    request = requests.get(page_url)\n    soup = BeautifulSoup(request.content,'html.parser')\n\n    tea= soup.find(\"div\", attrs={\"class\":\"product-list\"})\n\n    tea= tea.find_all(\"div\", attrs={\"class\":\"product-item\"})\n\n\n    for result in tea:  \n        tea_name = result.find(\"a\", attrs={\"class\":\"product-item__title text--strong link\"}).text\n        tea_origin = result.find(\"a\",attrs={\"class\":\"product-item__vendor link\"}).text\n        tea_star = result.find(\"span\",attrs={\"class\":\"ssw-review-count\"}).text\n        tea_star = tea_star.replace(\"(\",\"\").replace(\")\",\"\")\n        tea_price = result.find(\"span\",attrs={\"class\":\"price\"}).text\n        tea_availability =result.find(\"span\",attrs={\"class\":\"product-item__inventory\"}).text\n\n        try:\n            tea_link = \"https://yunomi.life/\" + result.find(\"a\",attrs={\"class\":\"product-item__image-wrapper\"})[\"href\"]\n        except:\n            tea_link = None\n\n        records.append((tea_name,tea_origin,tea_star,tea_price,tea_availability,tea_link))\n\n    \ncol_names=[\"tea_name\",\"tea_origin\",\"tea_star\",\"tea_price\",\"tea_availability\",\"tea_link\"]\ndf = pd.DataFrame(records,columns=col_names)\ndf",
   "execution_count": null,
   "outputs": [
    {
     "output_type": "execute_result",
     "execution_count": 20,
     "data": {
      "application/vnd.deepnote.dataframe.v2+json": {
       "row_count": 48,
       "column_count": 6,
       "columns": [
        {
         "name": "tea_name",
         "dtype": "object",
         "stats": {
          "unique_count": 48,
          "nan_count": 0,
          "categories": [
           {
            "name": "Hachimanjyu: Naturally Grown \"Hisoka\", Spring First Flush Green Tea (Yutaka Midori)",
            "count": 1
           },
           {
            "name": "Kurihara Tea #01: Takumi 匠 (The Artisan) - Kurihara Heritage Gyokuro Green Tea",
            "count": 1
           },
           {
            "name": "46 others",
            "count": 46
           }
          ]
         }
        },
        {
         "name": "tea_origin",
         "dtype": "object",
         "stats": {
          "unique_count": 23,
          "nan_count": 0,
          "categories": [
           {
            "name": "Yunomi Tea",
            "count": 6
           },
           {
            "name": "Kurihara Tea Farm",
            "count": 5
           },
           {
            "name": "21 others",
            "count": 37
           }
          ]
         }
        },
        {
         "name": "tea_star",
         "dtype": "object",
         "stats": {
          "unique_count": 16,
          "nan_count": 0,
          "categories": [
           {
            "name": " 7 ",
            "count": 7
           },
           {
            "name": " 4 ",
            "count": 5
           },
           {
            "name": "14 others",
            "count": 36
           }
          ]
         }
        },
        {
         "name": "tea_price",
         "dtype": "object",
         "stats": {
          "unique_count": 31,
          "nan_count": 0,
          "categories": [
           {
            "name": "From JPY ¥600",
            "count": 7
           },
           {
            "name": "From JPY ¥1,000",
            "count": 3
           },
           {
            "name": "29 others",
            "count": 38
           }
          ]
         }
        },
        {
         "name": "tea_availability",
         "dtype": "object",
         "stats": {
          "unique_count": 8,
          "nan_count": 0,
          "categories": [
           {
            "name": "Available",
            "count": 40
           },
           {
            "name": "In stock, 10 units",
            "count": 2
           },
           {
            "name": "6 others",
            "count": 6
           }
          ]
         }
        },
        {
         "name": "tea_link",
         "dtype": "object",
         "stats": {
          "unique_count": 48,
          "nan_count": 0,
          "categories": [
           {
            "name": "https://yunomi.life//collections/green-tea/products/hachimanjyu-naturally-grown-hisoka-spring-first-flush-green-tea-yutaka-midori",
            "count": 1
           },
           {
            "name": "https://yunomi.life//collections/green-tea/products/kurihara-tea-01-kurihara-heritage-gyokuro-green-tea",
            "count": 1
           },
           {
            "name": "46 others",
            "count": 46
           }
          ]
         }
        },
        {
         "name": "_deepnote_index_column",
         "dtype": "int64"
        }
       ],
       "rows_top": [
        {
         "tea_name": "Hachimanjyu: Naturally Grown \"Hisoka\", Spring First Flush Green Tea (Yutaka Midori)",
         "tea_origin": "Hachimanjyu Yakushima Tea",
         "tea_star": " 10 ",
         "tea_price": "From JPY ¥600",
         "tea_availability": "Available",
         "tea_link": "https://yunomi.life//collections/green-tea/products/hachimanjyu-naturally-grown-hisoka-spring-first…",
         "_deepnote_index_column": 0
        },
        {
         "tea_name": "Kurihara Tea #01: Takumi 匠 (The Artisan) - Kurihara Heritage Gyokuro Green Tea",
         "tea_origin": "Kurihara Tea Farm",
         "tea_star": " 11 ",
         "tea_price": "From JPY ¥1,000",
         "tea_availability": "Available",
         "tea_link": "https://yunomi.life//collections/green-tea/products/kurihara-tea-01-kurihara-heritage-gyokuro-green…",
         "_deepnote_index_column": 1
        },
        {
         "tea_name": "Nakamura-en #01: Gyokuro Mecha, The Discovery 玉露芽茶",
         "tea_origin": "Nakamura-en",
         "tea_star": " 36 ",
         "tea_price": "From JPY ¥600",
         "tea_availability": "In stock, 13 units",
         "tea_link": "https://yunomi.life//collections/green-tea/products/nakamura-en-01-gyokuro-mecha-the-discovery",
         "_deepnote_index_column": 2
        },
        {
         "tea_name": "Yunomi Matcha: Uji no Aji - Kiyomizu, Standard Ceremonial Grade (30g)",
         "tea_origin": "Yunomi Tea",
         "tea_star": " 19 ",
         "tea_price": "From JPY ¥1,999",
         "tea_availability": "Available",
         "tea_link": "https://yunomi.life//collections/green-tea/products/yunomi-matcha-uji-no-aji-kiyomizu-standard-cere…",
         "_deepnote_index_column": 3
        },
        {
         "tea_name": "Kurihara Tea #03: Shin 心 (Heart) - Premium Gyokuro Green Tea",
         "tea_origin": "Kurihara Tea Farm",
         "tea_star": " 12 ",
         "tea_price": "From JPY ¥999",
         "tea_availability": "Available",
         "tea_link": "https://yunomi.life//collections/green-tea/products/kurihara-tea-03-premium-gyokuro-green-tea",
         "_deepnote_index_column": 4
        },
        {
         "tea_name": "NaturaliTea #19: Mountain-grown Fukamushi Sencha, Yabukita 有機一番摘み煎茶　山の深蒸し　やぶきたみどり",
         "tea_origin": "NaturaliTea",
         "tea_star": " 12 ",
         "tea_price": "From JPY ¥600",
         "tea_availability": "Available",
         "tea_link": "https://yunomi.life//collections/green-tea/products/naturalitea-19-mountain-grown-fukamushi-sencha-…",
         "_deepnote_index_column": 5
        },
        {
         "tea_name": "Yunomi Matcha: Uji no Aji - Kibune, Imperial Ceremonial Grade (30g)",
         "tea_origin": "Yunomi Tea",
         "tea_star": " 14 ",
         "tea_price": "From JPY ¥2,999",
         "tea_availability": "Available",
         "tea_link": "https://yunomi.life//collections/green-tea/products/yunomi-matcha-uji-matcha-imperial-ceremonial-gr…",
         "_deepnote_index_column": 6
        },
        {
         "tea_name": "Yunomi Matcha Naturally Grown - Premium Ceremonial Grade",
         "tea_origin": "Yunomi Tea",
         "tea_star": " 16 ",
         "tea_price": "JPY ¥1,999",
         "tea_availability": "Available",
         "tea_link": "https://yunomi.life//collections/green-tea/products/yunomi-matcha-naturally-grown-premium-ceremonia…",
         "_deepnote_index_column": 7
        },
        {
         "tea_name": "ON SALE! Yunomi House Blend Green Tea 100g - YUG01",
         "tea_origin": "Yunomi Tea",
         "tea_star": " 16 ",
         "tea_price": "From JPY ¥699",
         "tea_availability": "Available",
         "tea_link": "https://yunomi.life//collections/green-tea/products/yunomi-house-blend-green-tea",
         "_deepnote_index_column": 8
        },
        {
         "tea_name": "Kurihara Tea #04: Mountain-Grown Yamecha Kabusecha Green Tea かぶせ茶",
         "tea_origin": "Kurihara Tea Farm",
         "tea_star": " 11 ",
         "tea_price": "From JPY ¥600",
         "tea_availability": "Available",
         "tea_link": "https://yunomi.life//collections/green-tea/products/kurihara-tea-04-kabusecha-green-tea",
         "_deepnote_index_column": 9
        },
        {
         "tea_name": "Obubu #12: Hojicha (Dark Roast)",
         "tea_origin": "Kyoto Obubu Tea Farms",
         "tea_star": " 7 ",
         "tea_price": "From JPY ¥975",
         "tea_availability": "Available",
         "tea_link": "https://yunomi.life//collections/green-tea/products/obubu-12-hojicha-dark-roast",
         "_deepnote_index_column": 10
        },
        {
         "tea_name": "Kurihara Tea #09: Superior Sencha Hime Kaori 媛かおり",
         "tea_origin": "Kurihara Tea Farm",
         "tea_star": " 7 ",
         "tea_price": "From JPY ¥400",
         "tea_availability": "Available",
         "tea_link": "https://yunomi.life//collections/green-tea/products/kurihara-tea-09-superior-sencha-hime-kaori",
         "_deepnote_index_column": 11
        },
        {
         "tea_name": "Hachimanjyu: Organic Yakushima Premium Spring Sencha Green Tea (Yabukita & Asatsuyu) 屋久島茶  有機緑茶",
         "tea_origin": "Hachimanjyu Yakushima Tea",
         "tea_star": " 9 ",
         "tea_price": "From JPY ¥600",
         "tea_availability": "Available",
         "tea_link": "https://yunomi.life//collections/green-tea/products/hachimanjyu-organic-yakushima-premium-sencha-gr…",
         "_deepnote_index_column": 12
        },
        {
         "tea_name": "Shogyokuen: Matcha Izumi no Shiro, Premium Ceremonial Grade (Spring Harvest) 泉の白",
         "tea_origin": "Shogyokuen Tea Factory",
         "tea_star": " 11 ",
         "tea_price": "From JPY ¥1,999",
         "tea_availability": "Available",
         "tea_link": "https://yunomi.life//collections/green-tea/products/shogyokuen-matcha-izumi-no-shiro-premium-ceremo…",
         "_deepnote_index_column": 13
        },
        {
         "tea_name": "Nakayama Stoneworks: Personal Matcha Stone Mill (Large). Express Airmail Shipping Included.",
         "tea_origin": "Nakayama Stoneworks",
         "tea_star": " 0 ",
         "tea_price": "JPY ¥145,000",
         "tea_availability": "Available",
         "tea_link": "https://yunomi.life//collections/green-tea/products/personal-matcha-stone-mill-large",
         "_deepnote_index_column": 14
        },
        {
         "tea_name": "Sawa Houzan: Shigaraki-yaki Shiboridashi Teapot for One",
         "tea_origin": "Sawa Houzan",
         "tea_star": " 14 ",
         "tea_price": "JPY ¥5,999",
         "tea_availability": "In stock, 6 units",
         "tea_link": "https://yunomi.life//collections/green-tea/products/sawa-houzan-shigaraki-yaki-shiboridashi-teapot-…",
         "_deepnote_index_column": 15
        },
        {
         "tea_name": "Yamane-en: Kakegawa Fukamushicha Black Label 特選ブラック掛川茶",
         "tea_origin": "Yamane-en",
         "tea_star": " 5 ",
         "tea_price": "From JPY ¥600",
         "tea_availability": "Available",
         "tea_link": "https://yunomi.life//collections/green-tea/products/yamane-en-kakegawa-fukamushi",
         "_deepnote_index_column": 16
        },
        {
         "tea_name": "NaturaliTea #01: Hatsutsumi Midori Shincha First Flush 有機浅蒸し煎茶: 初摘みみどり",
         "tea_origin": "NaturaliTea",
         "tea_star": " 8 ",
         "tea_price": "From JPY ¥980",
         "tea_availability": "Available",
         "tea_link": "https://yunomi.life//collections/green-tea/products/naturalitea-01-handpicked-midori-first-flush",
         "_deepnote_index_column": 17
        },
        {
         "tea_name": "Kurihara Tea #02: Den 伝 (Tradition) - Heritage Gyokuro Green Tea",
         "tea_origin": "Kurihara Tea Farm",
         "tea_star": " 7 ",
         "tea_price": "From JPY ¥1,200",
         "tea_availability": "Available",
         "tea_link": "https://yunomi.life//collections/green-tea/products/kurihara-tea-02-heritage-gyokuro-green-tea",
         "_deepnote_index_column": 18
        },
        {
         "tea_name": "Chasandai: Sakura Sencha with Sugared Sakura Leaves 桜煎茶",
         "tea_origin": "Chasandai Tea Factory",
         "tea_star": " 12 ",
         "tea_price": "From JPY ¥1,380",
         "tea_availability": "Available",
         "tea_link": "https://yunomi.life//collections/green-tea/products/chasandai-sakura-sencha-with-sugared-sakura-lea…",
         "_deepnote_index_column": 19
        },
        {
         "tea_name": "Uejima Tea Farm: Uji Kyotanabe Premium Gyokuro 京都宇治特上玉露京田辺",
         "tea_origin": "Uejima Tea Farm",
         "tea_star": " 4 ",
         "tea_price": "From JPY ¥800",
         "tea_availability": "In stock, 10 units",
         "tea_link": "https://yunomi.life//collections/green-tea/products/uejima-tea-farm-uji-kyotanabe-gyokuro",
         "_deepnote_index_column": 20
        },
        {
         "tea_name": "Nakamura-en #02: Gyokuro Konacha, The Discovery 玉露粉茶",
         "tea_origin": "Nakamura-en",
         "tea_star": " 19 ",
         "tea_price": "From JPY ¥400",
         "tea_availability": "In stock, 4 units",
         "tea_link": "https://yunomi.life//collections/green-tea/products/nakamura-en-02-gyokuro-konacha-the-discovery",
         "_deepnote_index_column": 21
        },
        {
         "tea_name": "Yunomi Matcha: Premium Culinary Grade Matcha",
         "tea_origin": "Yunomi Tea",
         "tea_star": " 7 ",
         "tea_price": "From JPY ¥1,180",
         "tea_availability": "Available",
         "tea_link": "https://yunomi.life//collections/green-tea/products/yunomi-matcha-premium-culinary-grade-matcha",
         "_deepnote_index_column": 22
        },
        {
         "tea_name": "Hachimanjyu Yakushima Tea: Early Spring First Flush Green Tea 屋久島 新茶",
         "tea_origin": "Hachimanjyu Yakushima Tea",
         "tea_star": " 4 ",
         "tea_price": "From JPY ¥800",
         "tea_availability": "Available",
         "tea_link": "https://yunomi.life//collections/green-tea/products/hachimanjyu-yakushima-tea-early-spring-first-fl…",
         "_deepnote_index_column": 23
        },
        {
         "tea_name": "Tarui Tea Farm: Organic Sencha - Shurei, Elegant Beauty  有機 秀麗",
         "tea_origin": "Tarui Tea Farm",
         "tea_star": " 4 ",
         "tea_price": "From JPY ¥500",
         "tea_availability": "In stock, 10 units",
         "tea_link": "https://yunomi.life//collections/green-tea/products/tarui-family-organic-sencha-shurei-elegant-beau…",
         "_deepnote_index_column": 24
        },
        {
         "tea_name": "Tarui Tea Farm: Organic Sencha Ranryu, The Orchid Dragon - Single Cultivar Inzatsu #131　有機 蘭龍",
         "tea_origin": "Tarui Tea Farm",
         "tea_star": " 8 ",
         "tea_price": "From JPY ¥1,200",
         "tea_availability": "Only 2 units left",
         "tea_link": "https://yunomi.life//collections/green-tea/products/tarui-family-organic-sencha-ranryu-the-orchid-d…",
         "_deepnote_index_column": 25
        },
        {
         "tea_name": "Shogyokuen: Premium Gyokuro, Fuji no Tsuyu 富士の露",
         "tea_origin": "Shogyokuen Tea Factory",
         "tea_star": " 8 ",
         "tea_price": "From JPY ¥1,000",
         "tea_availability": "Available",
         "tea_link": "https://yunomi.life//collections/green-tea/products/shogyokuen-premium-gyokuro-fuji-no-tsuyu",
         "_deepnote_index_column": 26
        },
        {
         "tea_name": "Obubu Tea: Sakura Flowers Herbal Tea",
         "tea_origin": "Kyoto Obubu Tea Farms",
         "tea_star": " 1 ",
         "tea_price": "From JPY ¥249",
         "tea_availability": "Available",
         "tea_link": "https://yunomi.life//collections/green-tea/products/obubu-tea-sakura-flowers-herbal-tea-100g",
         "_deepnote_index_column": 27
        },
        {
         "tea_name": "Obubu GE01: Genmaicha Brown Rice Tea",
         "tea_origin": "Kyoto Obubu Tea Farms",
         "tea_star": " 10 ",
         "tea_price": "From JPY ¥799",
         "tea_availability": "Available",
         "tea_link": "https://yunomi.life//collections/green-tea/products/obubu-16-genmaicha-brown-rice-tea",
         "_deepnote_index_column": 28
        },
        {
         "tea_name": "Yamane-en: Sugabow, Gyokuro Karigane Hojicha",
         "tea_origin": "Yamane-en",
         "tea_star": " 5 ",
         "tea_price": "From JPY ¥500",
         "tea_availability": "Available",
         "tea_link": "https://yunomi.life//collections/green-tea/products/yamane-en-sugabou-gyokuro-karigane-hojicha",
         "_deepnote_index_column": 29
        },
        {
         "tea_name": "KU001 Tomizawa Tea Garden: 2021 Kabusecha Yabukita Kumamoto Guricha \"Green Tea.Lab\" 単01 薮北 かぶせ茶",
         "tea_origin": "Tomizawa Tea Garden",
         "tea_star": " 7 ",
         "tea_price": "From JPY ¥499",
         "tea_availability": "Available",
         "tea_link": "https://yunomi.life//collections/green-tea/products/tomizawa-tea-garden-kabusecha-yabukita-kumamoto…",
         "_deepnote_index_column": 30
        },
        {
         "tea_name": "KU004 Tomizawa Tea Garden: 2021 Kabusecha Okuyutaka Kumamoto Guricha \"Green Tea.Lab\" かぶせ茶",
         "tea_origin": "Tomizawa Tea Garden",
         "tea_star": " 7 ",
         "tea_price": "From JPY ¥800",
         "tea_availability": "Available",
         "tea_link": "https://yunomi.life//collections/green-tea/products/tomizawa-tea-garden-kabusecha-okuyutaka-kumamot…",
         "_deepnote_index_column": 31
        },
        {
         "tea_name": "Yunomi Matcha Naturally Grown - Basic Ceremonial Grade",
         "tea_origin": "Yunomi Tea",
         "tea_star": " 10 ",
         "tea_price": "From JPY ¥1,499",
         "tea_availability": "Available",
         "tea_link": "https://yunomi.life//collections/green-tea/products/yunomi-matcha-naturally-grown-basic-ceremonial-…",
         "_deepnote_index_column": 32
        },
        {
         "tea_name": "Furuichi Seicha #12: 2021 Warakake - Straw Shaded Fukamushicha by Farmer Kuwazuru Sumiyoshi わらかけ",
         "tea_origin": "Furuichi Seicha",
         "tea_star": " 5 ",
         "tea_price": "From JPY ¥700",
         "tea_availability": "In stock, 7 units",
         "tea_link": "https://yunomi.life//collections/green-tea/products/furuichi-seicha-warakake-straw-shaded-fukamushi…",
         "_deepnote_index_column": 33
        },
        {
         "tea_name": "Furuichi Seicha: #13 Karigane Kukicha Green Tea かりがね(茎茶)",
         "tea_origin": "Furuichi Seicha",
         "tea_star": " 9 ",
         "tea_price": "From JPY ¥500",
         "tea_availability": "Available",
         "tea_link": "https://yunomi.life//collections/green-tea/products/furuichi-seicha-kukicha-green-tea-200-g",
         "_deepnote_index_column": 34
        },
        {
         "tea_name": "Nishide OG18: Organic Uji Gyokuro 宇治茶 有機玉露",
         "tea_origin": "Nishide Tea Factory",
         "tea_star": " 4 ",
         "tea_price": "From JPY ¥1,000",
         "tea_availability": "Available",
         "tea_link": "https://yunomi.life//collections/green-tea/products/nishide-organic-uji-gyokuro",
         "_deepnote_index_column": 35
        },
        {
         "tea_name": "Cultivar Comparison (30g x 3 types, 26% off): Azuma Tea Garden Matcha Sampler - Kanaya Midori, Okum…",
         "tea_origin": "Azuma Tea Garden",
         "tea_star": " 2 ",
         "tea_price": "JPY ¥4,999",
         "tea_availability": "Available",
         "tea_link": "https://yunomi.life//collections/green-tea/products/azuma-matcha-cultivar-series-set",
         "_deepnote_index_column": 36
        },
        {
         "tea_name": "Furyu: Bancha Goishicha ふりゅう 碁石茶",
         "tea_origin": "Furyu Bancha Specialty Shop",
         "tea_star": " 12 ",
         "tea_price": "From JPY ¥700",
         "tea_availability": "Available",
         "tea_link": "https://yunomi.life//collections/green-tea/products/furyu-bancha-goishicha",
         "_deepnote_index_column": 37
        },
        {
         "tea_name": "Kanes Tea: Honyama Togen \"Marishi\" - Limited Handpicked First Flush, Spring 2021 本山桃源",
         "tea_origin": "Kanes Tea Factory",
         "tea_star": " 0 ",
         "tea_price": "JPY ¥3,999",
         "tea_availability": "In stock, 16 units",
         "tea_link": "https://yunomi.life//collections/green-tea/products/kanes-tea-honyama-togen-marishi-limited-handpic…",
         "_deepnote_index_column": 38
        },
        {
         "tea_name": "Dokodemosora #01: Naturally Grown Wakayama Tamaryokucha",
         "tea_origin": "Dokodemosora Tea Farm",
         "tea_star": " 8 ",
         "tea_price": "From JPY ¥1,499",
         "tea_availability": "Available",
         "tea_link": "https://yunomi.life//collections/green-tea/products/dokodemosora-01-naturally-grown-wakayama-tamary…",
         "_deepnote_index_column": 39
        },
        {
         "tea_name": "Obubu Tea: Hojicha Gold Roast",
         "tea_origin": "Kyoto Obubu Tea Farms",
         "tea_star": " 4 ",
         "tea_price": "From JPY ¥680",
         "tea_availability": "Available",
         "tea_link": "https://yunomi.life//collections/green-tea/products/obubu-tea-houjicha-gold-roast",
         "_deepnote_index_column": 40
        },
        {
         "tea_name": "Hachimanjyu: Organic Yakushima Standard Unshaded Spring Sencha 有機屋久島茶路地栽培",
         "tea_origin": "Hachimanjyu Yakushima Tea",
         "tea_star": " 6 ",
         "tea_price": "From JPY ¥430",
         "tea_availability": "Available",
         "tea_link": "https://yunomi.life//collections/green-tea/products/hachimanjyu-organic-yakushima-standard-sencha-g…",
         "_deepnote_index_column": 41
        },
        {
         "tea_name": "Kaneroku Matsumoto Tea Garden: Wasencha Midori Sencha Green Tea　和煎茶みどり",
         "tea_origin": "Kaneroku Matsumoto Tea Garden",
         "tea_star": " 2 ",
         "tea_price": "From JPY ¥580",
         "tea_availability": "Available",
         "tea_link": "https://yunomi.life//collections/green-tea/products/kaneroku-matsumoto-tea-garden-wasencha-midori-f…",
         "_deepnote_index_column": 42
        },
        {
         "tea_name": "NaturaliTea #02: Sencha Green Tea, Spring Midori First Flush 春の香みどり",
         "tea_origin": "NaturaliTea",
         "tea_star": " 1 ",
         "tea_price": "From JPY ¥950",
         "tea_availability": "Available",
         "tea_link": "https://yunomi.life//collections/green-tea/products/naturalitea-02-sencha-green-tea-spring-midori-f…",
         "_deepnote_index_column": 43
        },
        {
         "tea_name": "Shogyokuen: Heritage Gyokuro, Kyoto Shogyoku, Special Selection　特製祥玉",
         "tea_origin": "Shogyokuen Tea Factory",
         "tea_star": " 5 ",
         "tea_price": "From JPY ¥1,500",
         "tea_availability": "Available",
         "tea_link": "https://yunomi.life//collections/green-tea/products/shogyokuen-heritage-gyokuro-kyoto-shogyoku-spec…",
         "_deepnote_index_column": 44
        },
        {
         "tea_name": "Miyano Tea Factory: 2020 Imperial Handpicked Sayama Sencha 極上品 手摘み茶",
         "tea_origin": "Miyano Tea Factory",
         "tea_star": " 1 ",
         "tea_price": "From JPY ¥1,100",
         "tea_availability": "Available",
         "tea_link": "https://yunomi.life//collections/green-tea/products/miyano-tea-factory-imperial-handpicked-sayama-s…",
         "_deepnote_index_column": 45
        },
        {
         "tea_name": "Takeo Tea Farm: Organic Spring Sencha Green Tea, Kodawari #3 Superior 上こだわり",
         "tea_origin": "Takeo Tea Farm",
         "tea_star": " 9 ",
         "tea_price": "From JPY ¥899",
         "tea_availability": "Available",
         "tea_link": "https://yunomi.life//collections/green-tea/products/takeo-tea-farm-organic-spring-sencha-green-tea-…",
         "_deepnote_index_column": 46
        },
        {
         "tea_name": "Obubu: Kabuse Sencha, Shaded Spring Green Tea",
         "tea_origin": "Kyoto Obubu Tea Farms",
         "tea_star": " 7 ",
         "tea_price": "From JPY ¥600",
         "tea_availability": "Available",
         "tea_link": "https://yunomi.life//collections/green-tea/products/obubu-01-kabuse-sencha-shaded-spring-green-tea",
         "_deepnote_index_column": 47
        }
       ],
       "rows_bottom": null
      },
      "text/plain": "                                             tea_name  \\\n0   Hachimanjyu: Naturally Grown \"Hisoka\", Spring ...   \n1   Kurihara Tea #01: Takumi 匠 (The Artisan) - Kur...   \n2   Nakamura-en #01: Gyokuro Mecha, The Discovery ...   \n3   Yunomi Matcha: Uji no Aji - Kiyomizu, Standard...   \n4   Kurihara Tea #03: Shin 心 (Heart) - Premium Gyo...   \n5   NaturaliTea #19: Mountain-grown Fukamushi Senc...   \n6   Yunomi Matcha: Uji no Aji - Kibune, Imperial C...   \n7   Yunomi Matcha Naturally Grown - Premium Ceremo...   \n8   ON SALE! Yunomi House Blend Green Tea 100g - Y...   \n9   Kurihara Tea #04: Mountain-Grown Yamecha Kabus...   \n10                    Obubu #12: Hojicha (Dark Roast)   \n11  Kurihara Tea #09: Superior Sencha Hime Kaori 媛かおり   \n12  Hachimanjyu: Organic Yakushima Premium Spring ...   \n13  Shogyokuen: Matcha Izumi no Shiro, Premium Cer...   \n14  Nakayama Stoneworks: Personal Matcha Stone Mil...   \n15  Sawa Houzan: Shigaraki-yaki Shiboridashi Teapo...   \n16  Yamane-en: Kakegawa Fukamushicha Black Label 特...   \n17  NaturaliTea #01: Hatsutsumi Midori Shincha Fir...   \n18  Kurihara Tea #02: Den 伝 (Tradition) - Heritage...   \n19  Chasandai: Sakura Sencha with Sugared Sakura L...   \n20  Uejima Tea Farm: Uji Kyotanabe Premium Gyokuro...   \n21  Nakamura-en #02: Gyokuro Konacha, The Discover...   \n22       Yunomi Matcha: Premium Culinary Grade Matcha   \n23  Hachimanjyu Yakushima Tea: Early Spring First ...   \n24  Tarui Tea Farm: Organic Sencha - Shurei, Elega...   \n25  Tarui Tea Farm: Organic Sencha Ranryu, The Orc...   \n26    Shogyokuen: Premium Gyokuro, Fuji no Tsuyu 富士の露   \n27               Obubu Tea: Sakura Flowers Herbal Tea   \n28               Obubu GE01: Genmaicha Brown Rice Tea   \n29       Yamane-en: Sugabow, Gyokuro Karigane Hojicha   \n30  KU001 Tomizawa Tea Garden: 2021 Kabusecha Yabu...   \n31  KU004 Tomizawa Tea Garden: 2021 Kabusecha Okuy...   \n32  Yunomi Matcha Naturally Grown - Basic Ceremoni...   \n33  Furuichi Seicha #12: 2021 Warakake - Straw Sha...   \n34  Furuichi Seicha: #13 Karigane Kukicha Green Te...   \n35         Nishide OG18: Organic Uji Gyokuro 宇治茶 有機玉露   \n36  Cultivar Comparison (30g x 3 types, 26% off): ...   \n37                   Furyu: Bancha Goishicha ふりゅう 碁石茶   \n38  Kanes Tea: Honyama Togen \"Marishi\" - Limited H...   \n39  Dokodemosora #01: Naturally Grown Wakayama Tam...   \n40                      Obubu Tea: Hojicha Gold Roast   \n41  Hachimanjyu: Organic Yakushima Standard Unshad...   \n42  Kaneroku Matsumoto Tea Garden: Wasencha Midori...   \n43  NaturaliTea #02: Sencha Green Tea, Spring Mido...   \n44  Shogyokuen: Heritage Gyokuro, Kyoto Shogyoku, ...   \n45  Miyano Tea Factory: 2020 Imperial Handpicked S...   \n46  Takeo Tea Farm: Organic Spring Sencha Green Te...   \n47      Obubu: Kabuse Sencha, Shaded Spring Green Tea   \n\n                       tea_origin tea_star        tea_price  \\\n0       Hachimanjyu Yakushima Tea      10     From JPY ¥600   \n1               Kurihara Tea Farm      11   From JPY ¥1,000   \n2                     Nakamura-en      36     From JPY ¥600   \n3                      Yunomi Tea      19   From JPY ¥1,999   \n4               Kurihara Tea Farm      12     From JPY ¥999   \n5                     NaturaliTea      12     From JPY ¥600   \n6                      Yunomi Tea      14   From JPY ¥2,999   \n7                      Yunomi Tea      16        JPY ¥1,999   \n8                      Yunomi Tea      16     From JPY ¥699   \n9               Kurihara Tea Farm      11     From JPY ¥600   \n10          Kyoto Obubu Tea Farms       7     From JPY ¥975   \n11              Kurihara Tea Farm       7     From JPY ¥400   \n12      Hachimanjyu Yakushima Tea       9     From JPY ¥600   \n13         Shogyokuen Tea Factory      11   From JPY ¥1,999   \n14            Nakayama Stoneworks       0      JPY ¥145,000   \n15                    Sawa Houzan      14        JPY ¥5,999   \n16                      Yamane-en       5     From JPY ¥600   \n17                    NaturaliTea       8     From JPY ¥980   \n18              Kurihara Tea Farm       7   From JPY ¥1,200   \n19          Chasandai Tea Factory      12   From JPY ¥1,380   \n20                Uejima Tea Farm       4     From JPY ¥800   \n21                    Nakamura-en      19     From JPY ¥400   \n22                     Yunomi Tea       7   From JPY ¥1,180   \n23      Hachimanjyu Yakushima Tea       4     From JPY ¥800   \n24                 Tarui Tea Farm       4     From JPY ¥500   \n25                 Tarui Tea Farm       8   From JPY ¥1,200   \n26         Shogyokuen Tea Factory       8   From JPY ¥1,000   \n27          Kyoto Obubu Tea Farms       1     From JPY ¥249   \n28          Kyoto Obubu Tea Farms      10     From JPY ¥799   \n29                      Yamane-en       5     From JPY ¥500   \n30            Tomizawa Tea Garden       7     From JPY ¥499   \n31            Tomizawa Tea Garden       7     From JPY ¥800   \n32                     Yunomi Tea      10   From JPY ¥1,499   \n33                Furuichi Seicha       5     From JPY ¥700   \n34                Furuichi Seicha       9     From JPY ¥500   \n35            Nishide Tea Factory       4   From JPY ¥1,000   \n36               Azuma Tea Garden       2        JPY ¥4,999   \n37    Furyu Bancha Specialty Shop      12     From JPY ¥700   \n38              Kanes Tea Factory       0        JPY ¥3,999   \n39          Dokodemosora Tea Farm       8   From JPY ¥1,499   \n40          Kyoto Obubu Tea Farms       4     From JPY ¥680   \n41      Hachimanjyu Yakushima Tea       6     From JPY ¥430   \n42  Kaneroku Matsumoto Tea Garden       2     From JPY ¥580   \n43                    NaturaliTea       1     From JPY ¥950   \n44         Shogyokuen Tea Factory       5   From JPY ¥1,500   \n45             Miyano Tea Factory       1   From JPY ¥1,100   \n46                 Takeo Tea Farm       9     From JPY ¥899   \n47          Kyoto Obubu Tea Farms       7     From JPY ¥600   \n\n      tea_availability                                           tea_link  \n0            Available  https://yunomi.life//collections/green-tea/pro...  \n1            Available  https://yunomi.life//collections/green-tea/pro...  \n2   In stock, 13 units  https://yunomi.life//collections/green-tea/pro...  \n3            Available  https://yunomi.life//collections/green-tea/pro...  \n4            Available  https://yunomi.life//collections/green-tea/pro...  \n5            Available  https://yunomi.life//collections/green-tea/pro...  \n6            Available  https://yunomi.life//collections/green-tea/pro...  \n7            Available  https://yunomi.life//collections/green-tea/pro...  \n8            Available  https://yunomi.life//collections/green-tea/pro...  \n9            Available  https://yunomi.life//collections/green-tea/pro...  \n10           Available  https://yunomi.life//collections/green-tea/pro...  \n11           Available  https://yunomi.life//collections/green-tea/pro...  \n12           Available  https://yunomi.life//collections/green-tea/pro...  \n13           Available  https://yunomi.life//collections/green-tea/pro...  \n14           Available  https://yunomi.life//collections/green-tea/pro...  \n15   In stock, 6 units  https://yunomi.life//collections/green-tea/pro...  \n16           Available  https://yunomi.life//collections/green-tea/pro...  \n17           Available  https://yunomi.life//collections/green-tea/pro...  \n18           Available  https://yunomi.life//collections/green-tea/pro...  \n19           Available  https://yunomi.life//collections/green-tea/pro...  \n20  In stock, 10 units  https://yunomi.life//collections/green-tea/pro...  \n21   In stock, 4 units  https://yunomi.life//collections/green-tea/pro...  \n22           Available  https://yunomi.life//collections/green-tea/pro...  \n23           Available  https://yunomi.life//collections/green-tea/pro...  \n24  In stock, 10 units  https://yunomi.life//collections/green-tea/pro...  \n25   Only 2 units left  https://yunomi.life//collections/green-tea/pro...  \n26           Available  https://yunomi.life//collections/green-tea/pro...  \n27           Available  https://yunomi.life//collections/green-tea/pro...  \n28           Available  https://yunomi.life//collections/green-tea/pro...  \n29           Available  https://yunomi.life//collections/green-tea/pro...  \n30           Available  https://yunomi.life//collections/green-tea/pro...  \n31           Available  https://yunomi.life//collections/green-tea/pro...  \n32           Available  https://yunomi.life//collections/green-tea/pro...  \n33   In stock, 7 units  https://yunomi.life//collections/green-tea/pro...  \n34           Available  https://yunomi.life//collections/green-tea/pro...  \n35           Available  https://yunomi.life//collections/green-tea/pro...  \n36           Available  https://yunomi.life//collections/green-tea/pro...  \n37           Available  https://yunomi.life//collections/green-tea/pro...  \n38  In stock, 16 units  https://yunomi.life//collections/green-tea/pro...  \n39           Available  https://yunomi.life//collections/green-tea/pro...  \n40           Available  https://yunomi.life//collections/green-tea/pro...  \n41           Available  https://yunomi.life//collections/green-tea/pro...  \n42           Available  https://yunomi.life//collections/green-tea/pro...  \n43           Available  https://yunomi.life//collections/green-tea/pro...  \n44           Available  https://yunomi.life//collections/green-tea/pro...  \n45           Available  https://yunomi.life//collections/green-tea/pro...  \n46           Available  https://yunomi.life//collections/green-tea/pro...  \n47           Available  https://yunomi.life//collections/green-tea/pro...  ",
      "text/html": "<div>\n<style scoped>\n    .dataframe tbody tr th:only-of-type {\n        vertical-align: middle;\n    }\n\n    .dataframe tbody tr th {\n        vertical-align: top;\n    }\n\n    .dataframe thead th {\n        text-align: right;\n    }\n</style>\n<table border=\"1\" class=\"dataframe\">\n  <thead>\n    <tr style=\"text-align: right;\">\n      <th></th>\n      <th>tea_name</th>\n      <th>tea_origin</th>\n      <th>tea_star</th>\n      <th>tea_price</th>\n      <th>tea_availability</th>\n      <th>tea_link</th>\n    </tr>\n  </thead>\n  <tbody>\n    <tr>\n      <th>0</th>\n      <td>Hachimanjyu: Naturally Grown \"Hisoka\", Spring ...</td>\n      <td>Hachimanjyu Yakushima Tea</td>\n      <td>10</td>\n      <td>From JPY ¥600</td>\n      <td>Available</td>\n      <td>https://yunomi.life//collections/green-tea/pro...</td>\n    </tr>\n    <tr>\n      <th>1</th>\n      <td>Kurihara Tea #01: Takumi 匠 (The Artisan) - Kur...</td>\n      <td>Kurihara Tea Farm</td>\n      <td>11</td>\n      <td>From JPY ¥1,000</td>\n      <td>Available</td>\n      <td>https://yunomi.life//collections/green-tea/pro...</td>\n    </tr>\n    <tr>\n      <th>2</th>\n      <td>Nakamura-en #01: Gyokuro Mecha, The Discovery ...</td>\n      <td>Nakamura-en</td>\n      <td>36</td>\n      <td>From JPY ¥600</td>\n      <td>In stock, 13 units</td>\n      <td>https://yunomi.life//collections/green-tea/pro...</td>\n    </tr>\n    <tr>\n      <th>3</th>\n      <td>Yunomi Matcha: Uji no Aji - Kiyomizu, Standard...</td>\n      <td>Yunomi Tea</td>\n      <td>19</td>\n      <td>From JPY ¥1,999</td>\n      <td>Available</td>\n      <td>https://yunomi.life//collections/green-tea/pro...</td>\n    </tr>\n    <tr>\n      <th>4</th>\n      <td>Kurihara Tea #03: Shin 心 (Heart) - Premium Gyo...</td>\n      <td>Kurihara Tea Farm</td>\n      <td>12</td>\n      <td>From JPY ¥999</td>\n      <td>Available</td>\n      <td>https://yunomi.life//collections/green-tea/pro...</td>\n    </tr>\n    <tr>\n      <th>5</th>\n      <td>NaturaliTea #19: Mountain-grown Fukamushi Senc...</td>\n      <td>NaturaliTea</td>\n      <td>12</td>\n      <td>From JPY ¥600</td>\n      <td>Available</td>\n      <td>https://yunomi.life//collections/green-tea/pro...</td>\n    </tr>\n    <tr>\n      <th>6</th>\n      <td>Yunomi Matcha: Uji no Aji - Kibune, Imperial C...</td>\n      <td>Yunomi Tea</td>\n      <td>14</td>\n      <td>From JPY ¥2,999</td>\n      <td>Available</td>\n      <td>https://yunomi.life//collections/green-tea/pro...</td>\n    </tr>\n    <tr>\n      <th>7</th>\n      <td>Yunomi Matcha Naturally Grown - Premium Ceremo...</td>\n      <td>Yunomi Tea</td>\n      <td>16</td>\n      <td>JPY ¥1,999</td>\n      <td>Available</td>\n      <td>https://yunomi.life//collections/green-tea/pro...</td>\n    </tr>\n    <tr>\n      <th>8</th>\n      <td>ON SALE! Yunomi House Blend Green Tea 100g - Y...</td>\n      <td>Yunomi Tea</td>\n      <td>16</td>\n      <td>From JPY ¥699</td>\n      <td>Available</td>\n      <td>https://yunomi.life//collections/green-tea/pro...</td>\n    </tr>\n    <tr>\n      <th>9</th>\n      <td>Kurihara Tea #04: Mountain-Grown Yamecha Kabus...</td>\n      <td>Kurihara Tea Farm</td>\n      <td>11</td>\n      <td>From JPY ¥600</td>\n      <td>Available</td>\n      <td>https://yunomi.life//collections/green-tea/pro...</td>\n    </tr>\n    <tr>\n      <th>10</th>\n      <td>Obubu #12: Hojicha (Dark Roast)</td>\n      <td>Kyoto Obubu Tea Farms</td>\n      <td>7</td>\n      <td>From JPY ¥975</td>\n      <td>Available</td>\n      <td>https://yunomi.life//collections/green-tea/pro...</td>\n    </tr>\n    <tr>\n      <th>11</th>\n      <td>Kurihara Tea #09: Superior Sencha Hime Kaori 媛かおり</td>\n      <td>Kurihara Tea Farm</td>\n      <td>7</td>\n      <td>From JPY ¥400</td>\n      <td>Available</td>\n      <td>https://yunomi.life//collections/green-tea/pro...</td>\n    </tr>\n    <tr>\n      <th>12</th>\n      <td>Hachimanjyu: Organic Yakushima Premium Spring ...</td>\n      <td>Hachimanjyu Yakushima Tea</td>\n      <td>9</td>\n      <td>From JPY ¥600</td>\n      <td>Available</td>\n      <td>https://yunomi.life//collections/green-tea/pro...</td>\n    </tr>\n    <tr>\n      <th>13</th>\n      <td>Shogyokuen: Matcha Izumi no Shiro, Premium Cer...</td>\n      <td>Shogyokuen Tea Factory</td>\n      <td>11</td>\n      <td>From JPY ¥1,999</td>\n      <td>Available</td>\n      <td>https://yunomi.life//collections/green-tea/pro...</td>\n    </tr>\n    <tr>\n      <th>14</th>\n      <td>Nakayama Stoneworks: Personal Matcha Stone Mil...</td>\n      <td>Nakayama Stoneworks</td>\n      <td>0</td>\n      <td>JPY ¥145,000</td>\n      <td>Available</td>\n      <td>https://yunomi.life//collections/green-tea/pro...</td>\n    </tr>\n    <tr>\n      <th>15</th>\n      <td>Sawa Houzan: Shigaraki-yaki Shiboridashi Teapo...</td>\n      <td>Sawa Houzan</td>\n      <td>14</td>\n      <td>JPY ¥5,999</td>\n      <td>In stock, 6 units</td>\n      <td>https://yunomi.life//collections/green-tea/pro...</td>\n    </tr>\n    <tr>\n      <th>16</th>\n      <td>Yamane-en: Kakegawa Fukamushicha Black Label 特...</td>\n      <td>Yamane-en</td>\n      <td>5</td>\n      <td>From JPY ¥600</td>\n      <td>Available</td>\n      <td>https://yunomi.life//collections/green-tea/pro...</td>\n    </tr>\n    <tr>\n      <th>17</th>\n      <td>NaturaliTea #01: Hatsutsumi Midori Shincha Fir...</td>\n      <td>NaturaliTea</td>\n      <td>8</td>\n      <td>From JPY ¥980</td>\n      <td>Available</td>\n      <td>https://yunomi.life//collections/green-tea/pro...</td>\n    </tr>\n    <tr>\n      <th>18</th>\n      <td>Kurihara Tea #02: Den 伝 (Tradition) - Heritage...</td>\n      <td>Kurihara Tea Farm</td>\n      <td>7</td>\n      <td>From JPY ¥1,200</td>\n      <td>Available</td>\n      <td>https://yunomi.life//collections/green-tea/pro...</td>\n    </tr>\n    <tr>\n      <th>19</th>\n      <td>Chasandai: Sakura Sencha with Sugared Sakura L...</td>\n      <td>Chasandai Tea Factory</td>\n      <td>12</td>\n      <td>From JPY ¥1,380</td>\n      <td>Available</td>\n      <td>https://yunomi.life//collections/green-tea/pro...</td>\n    </tr>\n    <tr>\n      <th>20</th>\n      <td>Uejima Tea Farm: Uji Kyotanabe Premium Gyokuro...</td>\n      <td>Uejima Tea Farm</td>\n      <td>4</td>\n      <td>From JPY ¥800</td>\n      <td>In stock, 10 units</td>\n      <td>https://yunomi.life//collections/green-tea/pro...</td>\n    </tr>\n    <tr>\n      <th>21</th>\n      <td>Nakamura-en #02: Gyokuro Konacha, The Discover...</td>\n      <td>Nakamura-en</td>\n      <td>19</td>\n      <td>From JPY ¥400</td>\n      <td>In stock, 4 units</td>\n      <td>https://yunomi.life//collections/green-tea/pro...</td>\n    </tr>\n    <tr>\n      <th>22</th>\n      <td>Yunomi Matcha: Premium Culinary Grade Matcha</td>\n      <td>Yunomi Tea</td>\n      <td>7</td>\n      <td>From JPY ¥1,180</td>\n      <td>Available</td>\n      <td>https://yunomi.life//collections/green-tea/pro...</td>\n    </tr>\n    <tr>\n      <th>23</th>\n      <td>Hachimanjyu Yakushima Tea: Early Spring First ...</td>\n      <td>Hachimanjyu Yakushima Tea</td>\n      <td>4</td>\n      <td>From JPY ¥800</td>\n      <td>Available</td>\n      <td>https://yunomi.life//collections/green-tea/pro...</td>\n    </tr>\n    <tr>\n      <th>24</th>\n      <td>Tarui Tea Farm: Organic Sencha - Shurei, Elega...</td>\n      <td>Tarui Tea Farm</td>\n      <td>4</td>\n      <td>From JPY ¥500</td>\n      <td>In stock, 10 units</td>\n      <td>https://yunomi.life//collections/green-tea/pro...</td>\n    </tr>\n    <tr>\n      <th>25</th>\n      <td>Tarui Tea Farm: Organic Sencha Ranryu, The Orc...</td>\n      <td>Tarui Tea Farm</td>\n      <td>8</td>\n      <td>From JPY ¥1,200</td>\n      <td>Only 2 units left</td>\n      <td>https://yunomi.life//collections/green-tea/pro...</td>\n    </tr>\n    <tr>\n      <th>26</th>\n      <td>Shogyokuen: Premium Gyokuro, Fuji no Tsuyu 富士の露</td>\n      <td>Shogyokuen Tea Factory</td>\n      <td>8</td>\n      <td>From JPY ¥1,000</td>\n      <td>Available</td>\n      <td>https://yunomi.life//collections/green-tea/pro...</td>\n    </tr>\n    <tr>\n      <th>27</th>\n      <td>Obubu Tea: Sakura Flowers Herbal Tea</td>\n      <td>Kyoto Obubu Tea Farms</td>\n      <td>1</td>\n      <td>From JPY ¥249</td>\n      <td>Available</td>\n      <td>https://yunomi.life//collections/green-tea/pro...</td>\n    </tr>\n    <tr>\n      <th>28</th>\n      <td>Obubu GE01: Genmaicha Brown Rice Tea</td>\n      <td>Kyoto Obubu Tea Farms</td>\n      <td>10</td>\n      <td>From JPY ¥799</td>\n      <td>Available</td>\n      <td>https://yunomi.life//collections/green-tea/pro...</td>\n    </tr>\n    <tr>\n      <th>29</th>\n      <td>Yamane-en: Sugabow, Gyokuro Karigane Hojicha</td>\n      <td>Yamane-en</td>\n      <td>5</td>\n      <td>From JPY ¥500</td>\n      <td>Available</td>\n      <td>https://yunomi.life//collections/green-tea/pro...</td>\n    </tr>\n    <tr>\n      <th>30</th>\n      <td>KU001 Tomizawa Tea Garden: 2021 Kabusecha Yabu...</td>\n      <td>Tomizawa Tea Garden</td>\n      <td>7</td>\n      <td>From JPY ¥499</td>\n      <td>Available</td>\n      <td>https://yunomi.life//collections/green-tea/pro...</td>\n    </tr>\n    <tr>\n      <th>31</th>\n      <td>KU004 Tomizawa Tea Garden: 2021 Kabusecha Okuy...</td>\n      <td>Tomizawa Tea Garden</td>\n      <td>7</td>\n      <td>From JPY ¥800</td>\n      <td>Available</td>\n      <td>https://yunomi.life//collections/green-tea/pro...</td>\n    </tr>\n    <tr>\n      <th>32</th>\n      <td>Yunomi Matcha Naturally Grown - Basic Ceremoni...</td>\n      <td>Yunomi Tea</td>\n      <td>10</td>\n      <td>From JPY ¥1,499</td>\n      <td>Available</td>\n      <td>https://yunomi.life//collections/green-tea/pro...</td>\n    </tr>\n    <tr>\n      <th>33</th>\n      <td>Furuichi Seicha #12: 2021 Warakake - Straw Sha...</td>\n      <td>Furuichi Seicha</td>\n      <td>5</td>\n      <td>From JPY ¥700</td>\n      <td>In stock, 7 units</td>\n      <td>https://yunomi.life//collections/green-tea/pro...</td>\n    </tr>\n    <tr>\n      <th>34</th>\n      <td>Furuichi Seicha: #13 Karigane Kukicha Green Te...</td>\n      <td>Furuichi Seicha</td>\n      <td>9</td>\n      <td>From JPY ¥500</td>\n      <td>Available</td>\n      <td>https://yunomi.life//collections/green-tea/pro...</td>\n    </tr>\n    <tr>\n      <th>35</th>\n      <td>Nishide OG18: Organic Uji Gyokuro 宇治茶 有機玉露</td>\n      <td>Nishide Tea Factory</td>\n      <td>4</td>\n      <td>From JPY ¥1,000</td>\n      <td>Available</td>\n      <td>https://yunomi.life//collections/green-tea/pro...</td>\n    </tr>\n    <tr>\n      <th>36</th>\n      <td>Cultivar Comparison (30g x 3 types, 26% off): ...</td>\n      <td>Azuma Tea Garden</td>\n      <td>2</td>\n      <td>JPY ¥4,999</td>\n      <td>Available</td>\n      <td>https://yunomi.life//collections/green-tea/pro...</td>\n    </tr>\n    <tr>\n      <th>37</th>\n      <td>Furyu: Bancha Goishicha ふりゅう 碁石茶</td>\n      <td>Furyu Bancha Specialty Shop</td>\n      <td>12</td>\n      <td>From JPY ¥700</td>\n      <td>Available</td>\n      <td>https://yunomi.life//collections/green-tea/pro...</td>\n    </tr>\n    <tr>\n      <th>38</th>\n      <td>Kanes Tea: Honyama Togen \"Marishi\" - Limited H...</td>\n      <td>Kanes Tea Factory</td>\n      <td>0</td>\n      <td>JPY ¥3,999</td>\n      <td>In stock, 16 units</td>\n      <td>https://yunomi.life//collections/green-tea/pro...</td>\n    </tr>\n    <tr>\n      <th>39</th>\n      <td>Dokodemosora #01: Naturally Grown Wakayama Tam...</td>\n      <td>Dokodemosora Tea Farm</td>\n      <td>8</td>\n      <td>From JPY ¥1,499</td>\n      <td>Available</td>\n      <td>https://yunomi.life//collections/green-tea/pro...</td>\n    </tr>\n    <tr>\n      <th>40</th>\n      <td>Obubu Tea: Hojicha Gold Roast</td>\n      <td>Kyoto Obubu Tea Farms</td>\n      <td>4</td>\n      <td>From JPY ¥680</td>\n      <td>Available</td>\n      <td>https://yunomi.life//collections/green-tea/pro...</td>\n    </tr>\n    <tr>\n      <th>41</th>\n      <td>Hachimanjyu: Organic Yakushima Standard Unshad...</td>\n      <td>Hachimanjyu Yakushima Tea</td>\n      <td>6</td>\n      <td>From JPY ¥430</td>\n      <td>Available</td>\n      <td>https://yunomi.life//collections/green-tea/pro...</td>\n    </tr>\n    <tr>\n      <th>42</th>\n      <td>Kaneroku Matsumoto Tea Garden: Wasencha Midori...</td>\n      <td>Kaneroku Matsumoto Tea Garden</td>\n      <td>2</td>\n      <td>From JPY ¥580</td>\n      <td>Available</td>\n      <td>https://yunomi.life//collections/green-tea/pro...</td>\n    </tr>\n    <tr>\n      <th>43</th>\n      <td>NaturaliTea #02: Sencha Green Tea, Spring Mido...</td>\n      <td>NaturaliTea</td>\n      <td>1</td>\n      <td>From JPY ¥950</td>\n      <td>Available</td>\n      <td>https://yunomi.life//collections/green-tea/pro...</td>\n    </tr>\n    <tr>\n      <th>44</th>\n      <td>Shogyokuen: Heritage Gyokuro, Kyoto Shogyoku, ...</td>\n      <td>Shogyokuen Tea Factory</td>\n      <td>5</td>\n      <td>From JPY ¥1,500</td>\n      <td>Available</td>\n      <td>https://yunomi.life//collections/green-tea/pro...</td>\n    </tr>\n    <tr>\n      <th>45</th>\n      <td>Miyano Tea Factory: 2020 Imperial Handpicked S...</td>\n      <td>Miyano Tea Factory</td>\n      <td>1</td>\n      <td>From JPY ¥1,100</td>\n      <td>Available</td>\n      <td>https://yunomi.life//collections/green-tea/pro...</td>\n    </tr>\n    <tr>\n      <th>46</th>\n      <td>Takeo Tea Farm: Organic Spring Sencha Green Te...</td>\n      <td>Takeo Tea Farm</td>\n      <td>9</td>\n      <td>From JPY ¥899</td>\n      <td>Available</td>\n      <td>https://yunomi.life//collections/green-tea/pro...</td>\n    </tr>\n    <tr>\n      <th>47</th>\n      <td>Obubu: Kabuse Sencha, Shaded Spring Green Tea</td>\n      <td>Kyoto Obubu Tea Farms</td>\n      <td>7</td>\n      <td>From JPY ¥600</td>\n      <td>Available</td>\n      <td>https://yunomi.life//collections/green-tea/pro...</td>\n    </tr>\n  </tbody>\n</table>\n</div>"
     },
     "metadata": {}
    }
   ]
  },
  {
   "cell_type": "markdown",
   "source": "# help",
   "metadata": {
    "tags": [],
    "cell_id": "00001-26303c19-4552-4449-8547-4086c4287359",
    "deepnote_cell_type": "markdown"
   }
  },
  {
   "cell_type": "code",
   "metadata": {
    "tags": [],
    "cell_id": "00002-7d2bfe7d-f233-4385-aaa2-e0589e80cf82",
    "deepnote_to_be_reexecuted": false,
    "source_hash": "4fd03b5c",
    "execution_start": 1632336796681,
    "execution_millis": 19498,
    "deepnote_cell_type": "code"
   },
   "source": "# download content of the page\nurl = \"https://yunomi.life/collections/green-tea?page=1\"\nrequest = requests.get(url)\nsoup = BeautifulSoup(request.content,\"html\")\n\n# find divider that holds all the tea products \nteas = soup.find(\"div\", attrs={\"class\":\"product-list\"})\n\n# find ALL tea products\nteas = teas.find_all(\"div\", attrs={\"class\":\"product-item\"})\n\n# for a tea from the list of all products find price, name, review count, origin\n# converting review count to integer\n# keeping price as it is, because it might be that there will be price in JPY and USD\ntea_price = teas[0].find(\"span\", attrs={\"class\":\"money\"}).text\ntea_name = teas[0].find(\"a\", attrs={\"class\":\"product-item__title text--strong link\"}).text\ntea_review_count = teas[0].find(\"span\", attrs={\"class\": \"ssw-review-count\"})\ntea_review_count = int(tea_review_count.text.strip().replace(\"(\",\"\").replace(\")\",\"\"))\ntea_origin = teas[0].find(\"a\", attrs={\"class\":\"product-item__vendor link\"}).text\navailability = teas[0].find(\"span\", attrs={\"class\":\"product-item__inventory inventory inventory--high\"}).text\ntea_link = \"https://yunomi.life/\" + teas[0].find(\"a\", attrs={\"class\":\"product-item__image-wrapper product-item__image-wrapper--with-secondary\"})[\"href\"]\n\nprint(tea_name, tea_origin, tea_price, tea_review_count, availability, tea_link)",
   "execution_count": null,
   "outputs": [
    {
     "name": "stdout",
     "text": "Hachimanjyu: Naturally Grown \"Hisoka\", Spring First Flush Green Tea (Yutaka Midori) Hachimanjyu Yakushima Tea JPY ¥600 10 Available https://yunomi.life//collections/green-tea/products/hachimanjyu-naturally-grown-hisoka-spring-first-flush-green-tea-yutaka-midori\n",
     "output_type": "stream"
    }
   ]
  },
  {
   "cell_type": "markdown",
   "source": "<a style='text-decoration:none;line-height:16px;display:flex;color:#5B5B62;padding:10px;justify-content:end;' href='https://deepnote.com?utm_source=created-in-deepnote-cell&projectId=7d3ce7c8-a514-49e4-9ba4-a5899ac52ea5' target=\"_blank\">\n<img alt='Created in deepnote.com' style='display:inline;max-height:16px;margin:0px;margin-right:7.5px;' src='data:image/svg+xml;base64,PD94bWwgdmVyc2lvbj0iMS4wIiBlbmNvZGluZz0iVVRGLTgiPz4KPHN2ZyB3aWR0aD0iODBweCIgaGVpZ2h0PSI4MHB4IiB2aWV3Qm94PSIwIDAgODAgODAiIHZlcnNpb249IjEuMSIgeG1sbnM9Imh0dHA6Ly93d3cudzMub3JnLzIwMDAvc3ZnIiB4bWxuczp4bGluaz0iaHR0cDovL3d3dy53My5vcmcvMTk5OS94bGluayI+CiAgICA8IS0tIEdlbmVyYXRvcjogU2tldGNoIDU0LjEgKDc2NDkwKSAtIGh0dHBzOi8vc2tldGNoYXBwLmNvbSAtLT4KICAgIDx0aXRsZT5Hcm91cCAzPC90aXRsZT4KICAgIDxkZXNjPkNyZWF0ZWQgd2l0aCBTa2V0Y2guPC9kZXNjPgogICAgPGcgaWQ9IkxhbmRpbmciIHN0cm9rZT0ibm9uZSIgc3Ryb2tlLXdpZHRoPSIxIiBmaWxsPSJub25lIiBmaWxsLXJ1bGU9ImV2ZW5vZGQiPgogICAgICAgIDxnIGlkPSJBcnRib2FyZCIgdHJhbnNmb3JtPSJ0cmFuc2xhdGUoLTEyMzUuMDAwMDAwLCAtNzkuMDAwMDAwKSI+CiAgICAgICAgICAgIDxnIGlkPSJHcm91cC0zIiB0cmFuc2Zvcm09InRyYW5zbGF0ZSgxMjM1LjAwMDAwMCwgNzkuMDAwMDAwKSI+CiAgICAgICAgICAgICAgICA8cG9seWdvbiBpZD0iUGF0aC0yMCIgZmlsbD0iIzAyNjVCNCIgcG9pbnRzPSIyLjM3NjIzNzYyIDgwIDM4LjA0NzY2NjcgODAgNTcuODIxNzgyMiA3My44MDU3NTkyIDU3LjgyMTc4MjIgMzIuNzU5MjczOSAzOS4xNDAyMjc4IDMxLjY4MzE2ODMiPjwvcG9seWdvbj4KICAgICAgICAgICAgICAgIDxwYXRoIGQ9Ik0zNS4wMDc3MTgsODAgQzQyLjkwNjIwMDcsNzYuNDU0OTM1OCA0Ny41NjQ5MTY3LDcxLjU0MjI2NzEgNDguOTgzODY2LDY1LjI2MTk5MzkgQzUxLjExMjI4OTksNTUuODQxNTg0MiA0MS42NzcxNzk1LDQ5LjIxMjIyODQgMjUuNjIzOTg0Niw0OS4yMTIyMjg0IEMyNS40ODQ5Mjg5LDQ5LjEyNjg0NDggMjkuODI2MTI5Niw0My4yODM4MjQ4IDM4LjY0NzU4NjksMzEuNjgzMTY4MyBMNzIuODcxMjg3MSwzMi41NTQ0MjUgTDY1LjI4MDk3Myw2Ny42NzYzNDIxIEw1MS4xMTIyODk5LDc3LjM3NjE0NCBMMzUuMDA3NzE4LDgwIFoiIGlkPSJQYXRoLTIyIiBmaWxsPSIjMDAyODY4Ij48L3BhdGg+CiAgICAgICAgICAgICAgICA8cGF0aCBkPSJNMCwzNy43MzA0NDA1IEwyNy4xMTQ1MzcsMC4yNTcxMTE0MzYgQzYyLjM3MTUxMjMsLTEuOTkwNzE3MDEgODAsMTAuNTAwMzkyNyA4MCwzNy43MzA0NDA1IEM4MCw2NC45NjA0ODgyIDY0Ljc3NjUwMzgsNzkuMDUwMzQxNCAzNC4zMjk1MTEzLDgwIEM0Ny4wNTUzNDg5LDc3LjU2NzA4MDggNTMuNDE4MjY3Nyw3MC4zMTM2MTAzIDUzLjQxODI2NzcsNTguMjM5NTg4NSBDNTMuNDE4MjY3Nyw0MC4xMjg1NTU3IDM2LjMwMzk1NDQsMzcuNzMwNDQwNSAyNS4yMjc0MTcsMzcuNzMwNDQwNSBDMTcuODQzMDU4NiwzNy43MzA0NDA1IDkuNDMzOTE5NjYsMzcuNzMwNDQwNSAwLDM3LjczMDQ0MDUgWiIgaWQ9IlBhdGgtMTkiIGZpbGw9IiMzNzkzRUYiPjwvcGF0aD4KICAgICAgICAgICAgPC9nPgogICAgICAgIDwvZz4KICAgIDwvZz4KPC9zdmc+' > </img>\nCreated in <span style='font-weight:600;margin-left:4px;'>Deepnote</span></a>",
   "metadata": {
    "tags": [],
    "created_in_deepnote_cell": true,
    "deepnote_cell_type": "markdown"
   }
  }
 ],
 "nbformat": 4,
 "nbformat_minor": 2,
 "metadata": {
  "orig_nbformat": 2,
  "deepnote": {
   "is_reactive": false
  },
  "deepnote_notebook_id": "3f413443-0324-4df7-b45e-288d6a13bac7",
  "deepnote_execution_queue": []
 }
}