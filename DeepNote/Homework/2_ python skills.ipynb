{
 "cells": [
  {
   "cell_type": "markdown",
   "source": "Import numpy and use a function that will rounds a float to the nearest lower integer. eg. -&gt; 2.3 becomes 2, and 2.9 becomes. Try to use google for this!",
   "metadata": {
    "tags": [],
    "cell_id": "00000-534d4097-04d3-40fc-a79e-ef03166de067",
    "is_collapsed": false,
    "deepnote_cell_type": "text-cell-p"
   }
  },
  {
   "cell_type": "code",
   "metadata": {
    "tags": [],
    "cell_id": "00000-69f690b6-880c-4541-804b-467852bf9285",
    "deepnote_to_be_reexecuted": false,
    "source_hash": "4c006af9",
    "execution_start": 1623685201243,
    "execution_millis": 8,
    "output_cleared": false,
    "deepnote_cell_type": "code"
   },
   "source": "import numpy as np\n\nnumber_to_round_down = 3.9\n\nrounded_number = np.round(number_to_round_down, 0) \n\nprint(rounded_number)\n\nrounded_number = np.floor(number_to_round_down)   # int(number_to_round_down)\nprint(rounded_number)",
   "execution_count": null,
   "outputs": [
    {
     "name": "stdout",
     "text": "3.9\n3.0\n",
     "output_type": "stream"
    }
   ]
  },
  {
   "cell_type": "markdown",
   "source": "Write a function that returns the largest number form a list",
   "metadata": {
    "tags": [],
    "cell_id": "00002-85c6ff10-e80e-4bfa-b5e6-410ecc7acb6b",
    "is_collapsed": false,
    "deepnote_cell_type": "text-cell-p"
   }
  },
  {
   "cell_type": "code",
   "metadata": {
    "tags": [],
    "cell_id": "00002-21a15fb7-0e55-4fc3-b416-4ad49d1d024c",
    "deepnote_to_be_reexecuted": false,
    "source_hash": "d12edfd",
    "execution_start": 1623685226408,
    "execution_millis": 7,
    "output_cleared": false,
    "deepnote_cell_type": "code"
   },
   "source": "list_of_numbers = [1,124, 2, 152, 3000, 20, 20, 2600]\nlist_of_mynumbers = [1,4,6, 123,7,1000, 1]\n\ndef largest_number(_lst):\n    for number in range(len(_lst)):\n        laki = max(_lst)\n    return laki    \n    \n\nenrike = largest_number(list_of_mynumbers)\nprint(enrike)",
   "execution_count": null,
   "outputs": [
    {
     "name": "stdout",
     "text": "1000\n",
     "output_type": "stream"
    }
   ]
  },
  {
   "cell_type": "markdown",
   "source": "Sum all the numbers in the list",
   "metadata": {
    "tags": [],
    "cell_id": "00004-378c370c-77f2-4c8c-915c-b52ebf0f2101",
    "is_collapsed": false,
    "deepnote_cell_type": "text-cell-p"
   }
  },
  {
   "cell_type": "code",
   "metadata": {
    "tags": [],
    "cell_id": "00004-066a468e-828d-4124-8038-733cc5152267",
    "deepnote_to_be_reexecuted": false,
    "source_hash": "6688185c",
    "execution_start": 1623685950269,
    "execution_millis": 8,
    "output_cleared": false,
    "deepnote_cell_type": "code"
   },
   "source": "list_of_numbers = [1,124, 2, 152, 3000, 20, 20, 2600]\n\nlaza = sum (list_of_numbers)\n\nlist_of_sum = 0\nfor number in list_of_numbers:\n    list_of_sum += number\nprint(list_of_sum)\n",
   "execution_count": null,
   "outputs": [
    {
     "name": "stdout",
     "text": "0 1\n1 124\n125 2\n127 152\n279 3000\n3279 20\n3299 20\n3319 2600\n5919\n",
     "output_type": "stream"
    }
   ]
  },
  {
   "cell_type": "markdown",
   "source": "Sum all the numbers in the list",
   "metadata": {
    "tags": [],
    "cell_id": "00006-7a9be0ff-5807-42f1-9517-b7d1cbfc85aa",
    "is_collapsed": false,
    "deepnote_cell_type": "text-cell-p"
   }
  },
  {
   "cell_type": "code",
   "metadata": {
    "tags": [],
    "cell_id": "00007-523f7067-63ef-4d22-b2d6-91aa871842db",
    "deepnote_to_be_reexecuted": false,
    "source_hash": "c91293fc",
    "execution_start": 1623686593186,
    "execution_millis": 6,
    "deepnote_cell_type": "code"
   },
   "source": "list_of_numbers = [-10000.1,124, \"hello\", 2, 152, 3000, \"I am a string\", 20, 20, 2600]\nlist_of_sum = 0\n\nfor item in list_of_numbers:\n    if isinstance(item,int) or isinstance(item,float):\n        list_of_sum += item\n\nprint(list_of_sum)\n",
   "execution_count": null,
   "outputs": [
    {
     "name": "stdout",
     "text": "-4082.1000000000004\n",
     "output_type": "stream"
    }
   ]
  },
  {
   "cell_type": "markdown",
   "source": "Create a function print_odd, has two numerical inputs \"start\" and \"end\". It prints all odd numbers starting at number start, all the way till number end",
   "metadata": {
    "tags": [],
    "cell_id": "00008-5151f42b-133b-46ae-a208-5bcc8572b773",
    "is_collapsed": false,
    "deepnote_cell_type": "text-cell-p"
   }
  },
  {
   "cell_type": "code",
   "metadata": {
    "tags": [],
    "cell_id": "00008-9a6d4524-561e-499d-aca7-4a61aabe7431",
    "deepnote_to_be_reexecuted": false,
    "source_hash": "918cd5dd",
    "execution_start": 1623686622402,
    "execution_millis": 5,
    "output_cleared": false,
    "deepnote_cell_type": "code"
   },
   "source": "start, end = 4, 19\n\ndef print_odd(start,end):\n    for number in range(start,end):\n        if number % 2 == 0:\n            print(number)\n    return start,end\n\nlaza = print_odd(start, end )\n\n",
   "execution_count": null,
   "outputs": [
    {
     "name": "stdout",
     "text": "4\n6\n8\n10\n12\n14\n16\n18\n",
     "output_type": "stream"
    }
   ]
  },
  {
   "cell_type": "markdown",
   "source": "Copy the function you created in the cell above, and add functionality such that not only it prints odd numbers from start-end. But after it finishes, it prints all the numbers it did not print.",
   "metadata": {
    "tags": [],
    "cell_id": "00010-d951e09b-2ef7-4fa2-a2aa-7227537e0d9e",
    "is_collapsed": false,
    "deepnote_cell_type": "text-cell-p"
   }
  },
  {
   "cell_type": "code",
   "metadata": {
    "tags": [],
    "cell_id": "00011-be9d208d-1883-4d79-b076-d400359bdb20",
    "deepnote_to_be_reexecuted": false,
    "source_hash": "d3c53049",
    "execution_start": 1623687486281,
    "execution_millis": 6,
    "output_cleared": false,
    "deepnote_cell_type": "code"
   },
   "source": "start, end = 4, 19\n\n\ndef print_odd(start,end, odd_numbers=[]):\n    for number in range(start,end):\n        if number % 2 == 0:\n            print(number)\n        else:\n            odd_numbers.append(number)\n            \n    print(odd_numbers) \n        \n    return start,end,odd_numbers\n\nitem_1, item_2, item_3 = print_odd(start, end)",
   "execution_count": null,
   "outputs": [
    {
     "name": "stdout",
     "text": "4\n6\n8\n10\n12\n14\n16\n18\n[5, 7, 9, 11, 13, 15, 17]\n",
     "output_type": "stream"
    }
   ]
  },
  {
   "cell_type": "markdown",
   "source": "print only negative numbers from the list",
   "metadata": {
    "tags": [],
    "cell_id": "00012-93793d4f-a677-4a9d-8eb2-a583d4be0e72",
    "is_collapsed": false,
    "deepnote_cell_type": "text-cell-p"
   }
  },
  {
   "cell_type": "code",
   "metadata": {
    "tags": [],
    "cell_id": "00012-26e42255-19de-4f95-9082-1038ede83c15",
    "deepnote_to_be_reexecuted": false,
    "source_hash": "d162fc5f",
    "execution_start": 1623687590511,
    "execution_millis": 7,
    "output_cleared": false,
    "deepnote_cell_type": "code"
   },
   "source": "list1 = [11, -21, 0, 3, 245, -12, 66, -93]\n\nfor number in list1:\n    if number < 0:\n        print(number)\n    else:\n        print('Positiv')\n",
   "execution_count": null,
   "outputs": [
    {
     "name": "stdout",
     "text": "Positiv\n-21\nPositiv\nPositiv\nPositiv\n-12\nPositiv\n-93\n",
     "output_type": "stream"
    }
   ]
  },
  {
   "cell_type": "markdown",
   "source": "Create a function that has argument that is a list (that contains strings and integers), and it returns the same list but with strings cast as integers. Strings in the list do not contain any special formatting nor characters, only numbers that were incorrectly passed as strings from .csv file.",
   "metadata": {
    "tags": [],
    "cell_id": "00014-cf50f6f2-4409-4c5a-948e-4e6b43861ec3",
    "is_collapsed": false,
    "deepnote_cell_type": "text-cell-p"
   }
  },
  {
   "cell_type": "code",
   "metadata": {
    "tags": [],
    "cell_id": "00015-83d760ae-bc40-4668-b6c1-0cd30c603e4a",
    "deepnote_to_be_reexecuted": false,
    "source_hash": "1d1ad2e9",
    "execution_start": 1623610391774,
    "execution_millis": 11,
    "output_cleared": false,
    "deepnote_cell_type": "code"
   },
   "source": "list1 = [11, \"-21\", \"0\", 3, 245, \"-12\", 66, -93]\n\ndef convert_strings_in_list(_lst):\n    for i in range(len(_lst)):\n        _lst[i] = float(_lst[i])  \n    return _lst\n\nlaza = convert_strings_in_list(list1)\nprint(laza)",
   "execution_count": null,
   "outputs": [
    {
     "name": "stdout",
     "text": "[11.0, -21.0, 0.0, 3.0, 245.0, -12.0, 66.0, -93.0]\n",
     "output_type": "stream"
    }
   ]
  },
  {
   "cell_type": "markdown",
   "source": "starting at 0, add 1 every itteration and stop when the sum is 10, use WHILE",
   "metadata": {
    "tags": [],
    "cell_id": "00016-73a9101b-eff8-41e8-b31e-2ac6a096dc5e",
    "is_collapsed": false,
    "deepnote_cell_type": "text-cell-p"
   }
  },
  {
   "cell_type": "code",
   "metadata": {
    "tags": [],
    "cell_id": "00017-5ba9cee1-d1b0-4ca6-853f-a41ecde783a3",
    "deepnote_to_be_reexecuted": false,
    "source_hash": "5d4dacea",
    "execution_start": 1623687757158,
    "execution_millis": 6,
    "deepnote_cell_type": "code"
   },
   "source": "final_sum = 0\n\nwhile True:\n    final_sum +=1\n    print(final_sum)\n    if final_sum == 10:\n        break\n\nprint(\"finished\")",
   "execution_count": null,
   "outputs": [
    {
     "name": "stdout",
     "text": "1\n2\n3\n4\n5\n6\n7\n8\n9\n10\nfinished\n",
     "output_type": "stream"
    }
   ]
  },
  {
   "cell_type": "markdown",
   "source": "starting at 0, add 1 every itteration and stop when the sum is 10, use FOR",
   "metadata": {
    "tags": [],
    "cell_id": "00018-02e6bcbf-d8c7-48b1-97f7-6e3fe1717792",
    "is_collapsed": false,
    "deepnote_cell_type": "text-cell-p"
   }
  },
  {
   "cell_type": "code",
   "metadata": {
    "tags": [],
    "cell_id": "00018-91b8e4ce-1d3a-4f96-9ec8-db727ecc7789",
    "deepnote_to_be_reexecuted": false,
    "source_hash": "45d82571",
    "execution_start": 1623687830700,
    "execution_millis": 9,
    "deepnote_cell_type": "code"
   },
   "source": "final_sum = 0\n\nfor number in range(0,100): \n    final_sum += 1\n    if final_sum == 10:\n        break\n    \nprint(final_sum)    ",
   "execution_count": null,
   "outputs": [
    {
     "name": "stdout",
     "text": "1\n",
     "output_type": "stream"
    }
   ]
  },
  {
   "cell_type": "code",
   "metadata": {
    "tags": [],
    "cell_id": "00020-edc7b7d0-4da6-4e36-bcce-536c1f183beb",
    "deepnote_to_be_reexecuted": false,
    "source_hash": "ec87eb01",
    "execution_start": 1623688088254,
    "execution_millis": 4,
    "deepnote_cell_type": "code"
   },
   "source": "final_sum = 0\n\nfor number in range(10,15): \n    print(number)\n    if number == 10:\n        print(\"continue\")\n        continue\n    print(\"rest of the code\")\n    final_sum += 1\n    final_sum += 1\n    final_sum += 1",
   "execution_count": null,
   "outputs": [
    {
     "name": "stdout",
     "text": "10\ncontinue\n11\nrest of the code\n12\nrest of the code\n13\nrest of the code\n14\nrest of the code\n",
     "output_type": "stream"
    }
   ]
  },
  {
   "cell_type": "markdown",
   "source": "<a style='text-decoration:none;line-height:16px;display:flex;color:#5B5B62;padding:10px;justify-content:end;' href='https://deepnote.com?utm_source=created-in-deepnote-cell&projectId=7d3ce7c8-a514-49e4-9ba4-a5899ac52ea5' target=\"_blank\">\n<img alt='Created in deepnote.com' style='display:inline;max-height:16px;margin:0px;margin-right:7.5px;' src='data:image/svg+xml;base64,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' > </img>\nCreated in <span style='font-weight:600;margin-left:4px;'>Deepnote</span></a>",
   "metadata": {
    "tags": [],
    "created_in_deepnote_cell": true,
    "deepnote_cell_type": "markdown"
   }
  }
 ],
 "nbformat": 4,
 "nbformat_minor": 2,
 "metadata": {
  "orig_nbformat": 2,
  "deepnote": {
   "is_reactive": false
  },
  "deepnote_notebook_id": "22813ac9-dc27-48d9-82ae-bc5a24db7587",
  "deepnote_execution_queue": []
 }
}