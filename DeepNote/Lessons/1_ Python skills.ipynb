{
 "cells": [
  {
   "cell_type": "markdown",
   "source": "# Assigning Variables\n\nVariables are assigned values so that they can be referenced later automatically, instead of having to write the value every manually.",
   "metadata": {
    "id": "xZPA4NJmjCIx",
    "cell_id": "00001-6be71d01-58bd-4b5e-81b0-98354c020dfd",
    "deepnote_cell_type": "markdown"
   }
  },
  {
   "cell_type": "markdown",
   "source": "\n\n---\n\n\nTo write a line in the console, we use `print()` functions. \n\nFunctions always require to be called with their name and then () brackets, inside which we define variables",
   "metadata": {
    "id": "iDgdfWXwKhtC",
    "cell_id": "00002-dd78f9e2-e396-4958-9bc5-4f09d27509de",
    "deepnote_cell_type": "markdown"
   }
  },
  {
   "cell_type": "code",
   "metadata": {
    "id": "suarWVwmKfkx",
    "colab": {
     "base_uri": "https://localhost:8080/",
     "height": 35
    },
    "executionInfo": {
     "status": "ok",
     "timestamp": 1600539541336,
     "user_tz": -60,
     "elapsed": 677,
     "user": {
      "displayName": "Sharmin Rouf",
      "photoUrl": "",
      "userId": "07014860915014612811"
     }
    },
    "outputId": "1e316945-b64e-4fef-fa70-e993d975fbca",
    "cell_id": "00003-f37ab04f-2496-4779-a175-3d21a24cd7da",
    "deepnote_to_be_reexecuted": false,
    "source_hash": "f1adf4d6",
    "execution_start": 1623688175524,
    "execution_millis": 10,
    "deepnote_cell_type": "code"
   },
   "source": "print(\"Hello world!\")   # \"Hello world!\" is a string",
   "execution_count": null,
   "outputs": [
    {
     "name": "stdout",
     "text": "2\n",
     "output_type": "stream"
    }
   ]
  },
  {
   "cell_type": "markdown",
   "source": "We created the example above by writing the sentence manually into the function. \n\nIf we needed to use the same sentence multiple times, and then wanted to change it to something else, it would have to be manually rewritten. Therefore, we use a single variable, instead of HARD-CODED values.",
   "metadata": {
    "id": "inITT0NeKx_Q",
    "cell_id": "00004-a3b7151b-1d65-4768-a5c2-2f0c4610ebcb",
    "deepnote_cell_type": "markdown"
   }
  },
  {
   "cell_type": "code",
   "metadata": {
    "id": "2HqciIidK0mb",
    "colab": {
     "base_uri": "https://localhost:8080/",
     "height": 72
    },
    "executionInfo": {
     "status": "ok",
     "timestamp": 1600539635473,
     "user_tz": -60,
     "elapsed": 1101,
     "user": {
      "displayName": "Sharmin Rouf",
      "photoUrl": "",
      "userId": "07014860915014612811"
     }
    },
    "outputId": "bf7261d5-bd73-4862-9999-88c43da97e01",
    "cell_id": "00005-44d47bb9-9194-4998-992c-0b8d9b148674",
    "deepnote_to_be_reexecuted": false,
    "source_hash": "67120c89",
    "execution_start": 1623688203062,
    "execution_millis": 12,
    "deepnote_cell_type": "code"
   },
   "source": "hello_world = \"Hello world! -string variable\"   # \"Hello world!\" is a string, therefore the variable is the string\nprint(hello_world)\nprint(hello_world)\nhello_world       # do not place variables by themselves in the code if you want to print them. Use the function print()\nprint(hello_world)",
   "execution_count": null,
   "outputs": [
    {
     "name": "stdout",
     "text": "Hello world! -string variable\nHello world! -string variable\nHello world! -string variable\n",
     "output_type": "stream"
    }
   ]
  },
  {
   "cell_type": "markdown",
   "source": "We only had to type the sentence once and the variable referencing automatically took a care of the rest.\n\nDefining different types of variables:",
   "metadata": {
    "id": "9DIo21_yLpEx",
    "cell_id": "00006-7827e081-1411-44c5-ae75-3fcce602d719",
    "deepnote_cell_type": "markdown"
   }
  },
  {
   "cell_type": "code",
   "metadata": {
    "id": "-I-YgfwVtdsq",
    "colab": {
     "base_uri": "https://localhost:8080/",
     "height": 109
    },
    "executionInfo": {
     "status": "ok",
     "timestamp": 1600539719374,
     "user_tz": -60,
     "elapsed": 720,
     "user": {
      "displayName": "Sharmin Rouf",
      "photoUrl": "",
      "userId": "07014860915014612811"
     }
    },
    "outputId": "840da60b-b024-4def-bc61-5b72583fc23b",
    "cell_id": "00007-39e34f43-97f2-40e5-8276-0c8fa673fe9f",
    "deepnote_to_be_reexecuted": false,
    "source_hash": "20160b9a",
    "execution_start": 1623688291853,
    "execution_millis": 11,
    "deepnote_cell_type": "code"
   },
   "source": "variable_string = \"10\"        \nvariable_number = 10\nvariable_boolean = True # or False\n\n#this shows the difference between using \"\" and not using them to what the code then translates\n\nprint(\"String variable * 2 yields: \\n\", variable_string * 2) # if we use \",\" in the print() functions, \n                                                             # it will print multiple variables at the same time.\n                                                             # if \"\\n\" is used in the string, it creates new line \nprint(\"Number variable * 2 yields: \\n\", variable_number * 2)  ",
   "execution_count": null,
   "outputs": [
    {
     "name": "stdout",
     "text": "String variable * 2 yields: \n 1010\nNumber variable * 2 yields: \n 20\n",
     "output_type": "stream"
    }
   ]
  },
  {
   "cell_type": "markdown",
   "source": "# Lists\n\n`List` is a collection of multiple variables.\n\n* [[\"a\", \"b\"]]\n\n* [[1, 2, 3, 4]]\n\n* [[True, False]]\n\n* [[\"a\", 1]]\n\nList can contain variables that are lists themselves - nested lists.\n\n* [[1,2,3], [4,5], [6,7,8,9]]",
   "metadata": {
    "id": "atW2Igsxaxb3",
    "cell_id": "00008-ac322389-754b-4a04-82b3-b94a6907763f",
    "deepnote_cell_type": "markdown"
   }
  },
  {
   "cell_type": "code",
   "metadata": {
    "tags": [],
    "cell_id": "00008-dfdfb838-da91-41cd-ba4f-3d89ca53e733",
    "deepnote_to_be_reexecuted": false,
    "source_hash": "4f524e8e",
    "execution_start": 1623688426365,
    "execution_millis": 7,
    "deepnote_cell_type": "code"
   },
   "source": "collection_of_lists = [[1,2,3], [4,5], [6,7,8,9]]\nvariable_1 = collection_of_lists[0]\nprint(type(variable_1))\nprint(variable_1 ,variable_1[0])",
   "execution_count": null,
   "outputs": [
    {
     "name": "stdout",
     "text": "<class 'list'>\n[1, 2, 3] 1\n",
     "output_type": "stream"
    }
   ]
  },
  {
   "cell_type": "markdown",
   "source": "\n---\n\n---\n\n## List Creation\n\nDefine the list `list_x = []`",
   "metadata": {
    "id": "s5hdo1YJM8r4",
    "cell_id": "00009-06643d4c-7c03-4beb-97a3-26222475cf22",
    "deepnote_cell_type": "markdown"
   }
  },
  {
   "cell_type": "code",
   "metadata": {
    "id": "OxUd43DPizOQ",
    "colab": {
     "base_uri": "https://localhost:8080/",
     "height": 72
    },
    "executionInfo": {
     "status": "ok",
     "timestamp": 1600540072791,
     "user_tz": -60,
     "elapsed": 583,
     "user": {
      "displayName": "Sharmin Rouf",
      "photoUrl": "",
      "userId": "07014860915014612811"
     }
    },
    "outputId": "319f1818-b5fc-49b2-e1cd-0ee0bdc617ff",
    "cell_id": "00010-5daf24ee-7adf-4773-a08f-64f9ba74870f",
    "deepnote_to_be_reexecuted": false,
    "source_hash": "bff39d6f",
    "execution_start": 1623688507416,
    "execution_millis": 10,
    "deepnote_cell_type": "code"
   },
   "source": "empty_list = []\nlist_of_strings = [\"apple\", \"banana\", \"cucumber\", \"pineapple\"] # List [], with string \"\" variables\n\n# Priting the contents \nprint(\"Empty list:\", empty_list)\nprint()\nprint(f\"original list is {list_of_strings}\")\n",
   "execution_count": null,
   "outputs": [
    {
     "name": "stdout",
     "text": "Empty list: []\n\noriginal list is ['apple', 'banana', 'cucumber', 'pineapple']\n",
     "output_type": "stream"
    }
   ]
  },
  {
   "cell_type": "markdown",
   "source": "\n---\n\n---\n\n## Accessing contents of the list",
   "metadata": {
    "id": "usCJAkAYNNr3",
    "cell_id": "00011-d0f78ea4-2c02-401e-8409-fc12747474fc",
    "deepnote_cell_type": "markdown"
   }
  },
  {
   "cell_type": "markdown",
   "source": "Let's access string at **index** 1, by `list_of_strings[1]`",
   "metadata": {
    "id": "AjxTnCWYOPL_",
    "cell_id": "00012-c988bd2a-5472-45e9-ac02-90a5d8557c9f",
    "deepnote_cell_type": "markdown"
   }
  },
  {
   "cell_type": "code",
   "metadata": {
    "id": "t6Eh17tdOJYi",
    "colab": {
     "base_uri": "https://localhost:8080/",
     "height": 35
    },
    "executionInfo": {
     "status": "ok",
     "timestamp": 1600540119881,
     "user_tz": -60,
     "elapsed": 646,
     "user": {
      "displayName": "Sharmin Rouf",
      "photoUrl": "",
      "userId": "07014860915014612811"
     }
    },
    "outputId": "54e9db1e-5556-45b6-9f5f-d51110eb28d3",
    "cell_id": "00013-edf238d1-c5ad-407e-a1dc-64035a2a8ad6",
    "deepnote_to_be_reexecuted": false,
    "source_hash": "9feced41",
    "execution_start": 1623688721994,
    "execution_millis": 6,
    "deepnote_cell_type": "code"
   },
   "source": "print(f\"original list is {list_of_strings}\")\nprint(list_of_strings[1])  # To access the index --> i <-- in the list we use ---> name_of_the_list[i] <---",
   "execution_count": null,
   "outputs": [
    {
     "name": "stdout",
     "text": "original list is ['apple', 'banana', 'cucumber', 'pineapple']\nbanana\n",
     "output_type": "stream"
    }
   ]
  },
  {
   "cell_type": "markdown",
   "source": "Notice that \"banana\" is second entry in our list. This is because indexing starts at 0. If we want to access \"apple\" - first variable, let's use index 0:",
   "metadata": {
    "id": "Z4VVm5zKO6Em",
    "cell_id": "00014-59afd8e5-81ca-4f26-a4ef-0bdfe3729450",
    "deepnote_cell_type": "markdown"
   }
  },
  {
   "cell_type": "code",
   "metadata": {
    "id": "id7ccaMiPEm-",
    "colab": {
     "base_uri": "https://localhost:8080/",
     "height": 72
    },
    "executionInfo": {
     "status": "ok",
     "timestamp": 1600540195354,
     "user_tz": -60,
     "elapsed": 715,
     "user": {
      "displayName": "Sharmin Rouf",
      "photoUrl": "",
      "userId": "07014860915014612811"
     }
    },
    "outputId": "6c06f416-c002-4220-e62d-e0b697ca0731",
    "cell_id": "00015-45396a6f-dfbb-4e1b-b742-ac6fa95913f0",
    "deepnote_to_be_reexecuted": false,
    "source_hash": "340bfbdc",
    "execution_start": 1623688771830,
    "execution_millis": 8,
    "deepnote_cell_type": "code"
   },
   "source": "indexed_list_variable = list_of_strings[0]    # we assigned the variable at index 0, to its own variable and then we print it\n\nprint(f\"original list is {list_of_strings}\")\nprint(f\"variable at index 0 is {indexed_list_variable}\")\n\nprint(\"manually printed string that should be at index 0: apple\")                # we print the same variable that should be at index 0\nprint(\"Do the above variables match?\", indexed_list_variable == \"apple\") # == stands for an equality sign - if both sides are equal statement is True",
   "execution_count": null,
   "outputs": [
    {
     "name": "stdout",
     "text": "original list is ['apple', 'banana', 'cucumber', 'pineapple']\nvariable at index 0 is apple\nmanually printed string that should be at index 0: apple\nDo the above variables match? True\n",
     "output_type": "stream"
    }
   ]
  },
  {
   "cell_type": "code",
   "metadata": {
    "id": "JsDh8-r8Pw6o",
    "colab": {
     "base_uri": "https://localhost:8080/",
     "height": 35
    },
    "executionInfo": {
     "status": "ok",
     "timestamp": 1600540244710,
     "user_tz": -60,
     "elapsed": 659,
     "user": {
      "displayName": "Sharmin Rouf",
      "photoUrl": "",
      "userId": "07014860915014612811"
     }
    },
    "outputId": "74cfa9fc-bd86-4dd4-83a5-bfc2adb89ad2",
    "cell_id": "00016-fdba3b1c-8b6b-4f81-bccc-fc627991e50b",
    "deepnote_to_be_reexecuted": false,
    "source_hash": "372a86f0",
    "execution_start": 1623688856329,
    "execution_millis": 13,
    "deepnote_cell_type": "code"
   },
   "source": "print(f\"original list is {list_of_strings}\")\nprint(list_of_strings[-1]) # when you use minus numbers, it accessess from the END of the list",
   "execution_count": null,
   "outputs": [
    {
     "name": "stdout",
     "text": "original list is ['apple', 'banana', 'cucumber', 'pineapple']\ncucumber\n",
     "output_type": "stream"
    }
   ]
  },
  {
   "cell_type": "markdown",
   "source": "\n---\n\n## Accessing range of variables SPLICING\n\nAccessing multiple variables in a RANGE, by specifying the range with idnex `list_of_strings[0:2]`",
   "metadata": {
    "id": "JgulmEZSQgQp",
    "cell_id": "00017-5b35bf63-3f66-4e73-9b30-e9d3b3f360f4",
    "deepnote_cell_type": "markdown"
   }
  },
  {
   "cell_type": "code",
   "metadata": {
    "id": "14RcLpPXP4xO",
    "colab": {
     "base_uri": "https://localhost:8080/",
     "height": 54
    },
    "executionInfo": {
     "status": "ok",
     "timestamp": 1600540284328,
     "user_tz": -60,
     "elapsed": 633,
     "user": {
      "displayName": "Sharmin Rouf",
      "photoUrl": "",
      "userId": "07014860915014612811"
     }
    },
    "outputId": "2a5c55ad-0e7d-4bc2-b2e6-fd417a06d32b",
    "cell_id": "00018-fa29c659-2121-44cf-843f-ea26c0a0b125",
    "deepnote_to_be_reexecuted": false,
    "source_hash": "2d674487",
    "execution_start": 1623688882534,
    "execution_millis": 10,
    "deepnote_cell_type": "code"
   },
   "source": "print(f\"original list is {list_of_strings}\")\nprint(list_of_strings[0:2]) # prints the variables in range from 0 (including) - 2 (excluding)\nprint(list_of_strings[:2])  # prints the variables in range from start of the list - 2,,,, this is the same as line above as it takes everything from the start (from index 0)",
   "execution_count": null,
   "outputs": [
    {
     "name": "stdout",
     "text": "original list is ['apple', 'banana', 'cucumber', 'pineapple']\n['apple', 'banana']\n['apple', 'banana']\n",
     "output_type": "stream"
    }
   ]
  },
  {
   "cell_type": "code",
   "metadata": {
    "id": "Lsg3a0c2P3KW",
    "colab": {
     "base_uri": "https://localhost:8080/",
     "height": 35
    },
    "executionInfo": {
     "status": "ok",
     "timestamp": 1600540304296,
     "user_tz": -60,
     "elapsed": 925,
     "user": {
      "displayName": "Sharmin Rouf",
      "photoUrl": "",
      "userId": "07014860915014612811"
     }
    },
    "outputId": "dba5fe76-af87-4a6e-f3f6-ebca7a7150cf",
    "cell_id": "00019-9ba5a243-1058-42e7-99b1-33b036e04cff",
    "deepnote_to_be_reexecuted": false,
    "source_hash": "65700709",
    "execution_start": 1623689021029,
    "execution_millis": 12,
    "deepnote_cell_type": "code"
   },
   "source": "print(f\"original list is {list_of_strings}\")\nprint(list_of_strings[1:3]) # prints the variables in range from 1 (including) - 3 (expcluding)",
   "execution_count": null,
   "outputs": [
    {
     "name": "stdout",
     "text": "original list is ['apple', 'banana', 'cucumber', 'pineapple']\n['banana', 'cucumber']\n",
     "output_type": "stream"
    }
   ]
  },
  {
   "cell_type": "code",
   "metadata": {
    "id": "U7SXBmhRP6Kk",
    "colab": {
     "base_uri": "https://localhost:8080/",
     "height": 35
    },
    "executionInfo": {
     "status": "ok",
     "timestamp": 1600540315202,
     "user_tz": -60,
     "elapsed": 1625,
     "user": {
      "displayName": "Sharmin Rouf",
      "photoUrl": "",
      "userId": "07014860915014612811"
     }
    },
    "outputId": "0c49cd7a-e97d-46fc-c607-573fee109c36",
    "cell_id": "00020-a329796d-09dc-4234-838c-e93f96bb1e9e",
    "deepnote_to_be_reexecuted": false,
    "source_hash": "634efcb1",
    "execution_start": 1623689097701,
    "execution_millis": 7,
    "deepnote_cell_type": "code"
   },
   "source": "print(f\"original list is {list_of_strings}\")\nprint(list_of_strings[1:]) # prints the variables in range from 1 - end of the list",
   "execution_count": null,
   "outputs": [
    {
     "name": "stdout",
     "text": "original list is ['apple', 'banana', 'cucumber', 'pineapple']\n['banana', 'cucumber', 'pineapple']\n",
     "output_type": "stream"
    }
   ]
  },
  {
   "cell_type": "markdown",
   "source": "---\n\n## Appending variables to existing list\n\nUsing `.append()` function\n\n`existing_list.append(variable)`",
   "metadata": {
    "id": "x4IVwH0LRuVH",
    "cell_id": "00021-5e9d3809-7b42-4e0c-a373-414c7f0f719f",
    "deepnote_cell_type": "markdown"
   }
  },
  {
   "cell_type": "code",
   "metadata": {
    "id": "XcTU0ZBNR4nT",
    "colab": {
     "base_uri": "https://localhost:8080/",
     "height": 35
    },
    "executionInfo": {
     "status": "ok",
     "timestamp": 1600540362686,
     "user_tz": -60,
     "elapsed": 765,
     "user": {
      "displayName": "Sharmin Rouf",
      "photoUrl": "",
      "userId": "07014860915014612811"
     }
    },
    "outputId": "613d0167-283e-47ac-bd81-28c60c96f036",
    "cell_id": "00022-75e4436c-9f67-4f7a-b2a5-daa192af7019",
    "deepnote_to_be_reexecuted": false,
    "source_hash": "ec8985ca",
    "execution_start": 1623689125244,
    "execution_millis": 11,
    "deepnote_cell_type": "code"
   },
   "source": "string_variable_carrot = \"carrot\" # define variable\n\nlist_of_strings.append(string_variable_carrot) # append is a function of python, it aids in adding variables to lists:\n\nprint(list_of_strings) ",
   "execution_count": null,
   "outputs": [
    {
     "name": "stdout",
     "text": "['apple', 'banana', 'cucumber', 'pineapple', 'carrot', 'carrot']\n",
     "output_type": "stream"
    }
   ]
  },
  {
   "cell_type": "markdown",
   "source": "`.append()` appends the variable at the end of the list. Use `.insert()` for inserting it at the specified index:",
   "metadata": {
    "id": "QbIlz58FS3xz",
    "cell_id": "00023-42237bbf-79f0-40ba-a1c5-e48f36f28f0e",
    "deepnote_cell_type": "markdown"
   }
  },
  {
   "cell_type": "code",
   "metadata": {
    "id": "AyPRrLBFOI14",
    "colab": {
     "base_uri": "https://localhost:8080/",
     "height": 35
    },
    "executionInfo": {
     "status": "ok",
     "timestamp": 1600540389989,
     "user_tz": -60,
     "elapsed": 705,
     "user": {
      "displayName": "Sharmin Rouf",
      "photoUrl": "",
      "userId": "07014860915014612811"
     }
    },
    "outputId": "ab1a1e2a-b32d-427a-ab49-eff970e84a83",
    "cell_id": "00024-734700dd-9503-42a9-a249-bb398f657d09",
    "deepnote_to_be_reexecuted": false,
    "source_hash": "b2d09b31",
    "execution_start": 1623689212090,
    "execution_millis": 8,
    "deepnote_cell_type": "code"
   },
   "source": "string_variable_meloooon = \"meloooon\"\n\nlist_of_strings.insert(3, string_variable_meloooon) #this is how we command the entry of the new variable (f) into the list at index 3. \n\nprint(list_of_strings)",
   "execution_count": null,
   "outputs": [
    {
     "name": "stdout",
     "text": "['apple', 'banana', 'cucumber', 'meloooon', 'pineapple', 'carrot', 'carrot']\n",
     "output_type": "stream"
    }
   ]
  },
  {
   "cell_type": "markdown",
   "source": "If you want to append a range from one list to another one:",
   "metadata": {
    "id": "S6Orsl3KbcNY",
    "cell_id": "00025-9d0c3a0c-64d1-4512-b58d-8f11919a62c7",
    "deepnote_cell_type": "markdown"
   }
  },
  {
   "cell_type": "code",
   "metadata": {
    "colab": {
     "base_uri": "https://localhost:8080/"
    },
    "id": "6ZttpSLQbbLx",
    "executionInfo": {
     "status": "ok",
     "timestamp": 1610267633778,
     "user_tz": 0,
     "elapsed": 811,
     "user": {
      "displayName": "Daniel Anton",
      "photoUrl": "",
      "userId": "07817160354765211624"
     }
    },
    "outputId": "b292b63e-633c-4686-bf75-b2abfb78de7a",
    "cell_id": "00026-3695e3af-ebc4-454a-b09c-1064e479acdb",
    "deepnote_to_be_reexecuted": false,
    "source_hash": "3fd6f68d",
    "execution_start": 1623689296376,
    "execution_millis": 7,
    "deepnote_cell_type": "code"
   },
   "source": "list_1 = [\"a\", \"b\", \"c\", \"d\", \"e\"]\nlist_2 = [1, 2, 3, 4, 5]\n\nlist_1.append(list_2[0:3])\nprint(list_1)",
   "execution_count": null,
   "outputs": [
    {
     "name": "stdout",
     "text": "['a', 'b', 'c', 'd', 'e', [1, 2, 3]]\n",
     "output_type": "stream"
    }
   ]
  },
  {
   "cell_type": "markdown",
   "source": "using `.append()` appends a list, because when you select a range from a list, the resulting variable is a list with variables in that range.\n\nIn this case, you want to use `.extend()`",
   "metadata": {
    "id": "fqhaXKBmbjE2",
    "cell_id": "00027-7d26ccae-c9bd-40da-af2d-40104eec9af7",
    "deepnote_cell_type": "markdown"
   }
  },
  {
   "cell_type": "code",
   "metadata": {
    "colab": {
     "base_uri": "https://localhost:8080/"
    },
    "id": "rNpzMy98bvee",
    "executionInfo": {
     "status": "ok",
     "timestamp": 1610267690886,
     "user_tz": 0,
     "elapsed": 706,
     "user": {
      "displayName": "Daniel Anton",
      "photoUrl": "",
      "userId": "07817160354765211624"
     }
    },
    "outputId": "43452eeb-7df0-4187-e2ec-7d406c90c65a",
    "cell_id": "00028-18198e11-633f-4da6-bab9-b58b8a3590a5",
    "deepnote_to_be_reexecuted": false,
    "source_hash": "d0cf4b3b",
    "execution_start": 1623689314752,
    "execution_millis": 9,
    "deepnote_cell_type": "code"
   },
   "source": "list_1 = [\"a\", \"b\", \"c\", \"d\", \"e\"]\nlist_2 = [1, 2, 3, 4, 5]\n\nlist_1.extend(list_2)\nprint(list_1)",
   "execution_count": null,
   "outputs": [
    {
     "name": "stdout",
     "text": "['a', 'b', 'c', 'd', 'e', 1, 2, 3, 4, 5]\n",
     "output_type": "stream"
    }
   ]
  },
  {
   "cell_type": "markdown",
   "source": "\n---\n\n## Changing values of variables in the list\n\nWe wanted to add \"melon\" but made a mistake, let's first access the variable at index 3 to see if it is the one we want to correct:",
   "metadata": {
    "id": "WvORsT6dTVz-",
    "cell_id": "00029-2de979a4-d044-45f9-b409-31a2069748c0",
    "deepnote_cell_type": "markdown"
   }
  },
  {
   "cell_type": "code",
   "metadata": {
    "id": "hmFtNkauTMtX",
    "colab": {
     "base_uri": "https://localhost:8080/",
     "height": 35
    },
    "executionInfo": {
     "status": "ok",
     "timestamp": 1600540399788,
     "user_tz": -60,
     "elapsed": 995,
     "user": {
      "displayName": "Sharmin Rouf",
      "photoUrl": "",
      "userId": "07014860915014612811"
     }
    },
    "outputId": "e99b0396-fd1a-4b72-eb4d-c48c5fc89c51",
    "cell_id": "00030-8edda4f2-3076-4f71-832a-d1caae48c310",
    "deepnote_to_be_reexecuted": false,
    "source_hash": "50405f3c",
    "execution_start": 1623689349214,
    "execution_millis": 12,
    "deepnote_cell_type": "code"
   },
   "source": "print(list_of_strings[3])",
   "execution_count": null,
   "outputs": [
    {
     "name": "stdout",
     "text": "meloooon\n",
     "output_type": "stream"
    }
   ]
  },
  {
   "cell_type": "markdown",
   "source": "Now that we know `list_of_strings[3]` is something we want to change, we can simply assign that index some other value:",
   "metadata": {
    "id": "d3JpDy6nTuQB",
    "cell_id": "00031-e8015ffb-2fd1-4850-bcc3-c3e9e3d99bd6",
    "deepnote_cell_type": "markdown"
   }
  },
  {
   "cell_type": "code",
   "metadata": {
    "id": "V9yZ09W7TLJN",
    "colab": {
     "base_uri": "https://localhost:8080/",
     "height": 35
    },
    "executionInfo": {
     "status": "ok",
     "timestamp": 1600540421770,
     "user_tz": -60,
     "elapsed": 613,
     "user": {
      "displayName": "Sharmin Rouf",
      "photoUrl": "",
      "userId": "07014860915014612811"
     }
    },
    "outputId": "6b786034-8555-4fba-b305-f9a5acc6c51a",
    "cell_id": "00032-cac3aca1-4380-4cf1-9bea-901d7cf8dc30",
    "deepnote_to_be_reexecuted": false,
    "source_hash": "58b7cf19",
    "execution_start": 1623689385878,
    "execution_millis": 8,
    "deepnote_cell_type": "code"
   },
   "source": "print(f\"original list is {list_of_strings}\")\nlist_of_strings[3] = \"melon\" #here we are accessing index 3 and changing it by defining it as \"melon\" - the correction we desire. before printing to check\n\nprint(list_of_strings)",
   "execution_count": null,
   "outputs": [
    {
     "name": "stdout",
     "text": "original list is ['apple', 'banana', 'cucumber', 'meloooon', 'pineapple', 'carrot', 'carrot']\n['apple', 'banana', 'cucumber', 'melon', 'pineapple', 'carrot', 'carrot']\n",
     "output_type": "stream"
    }
   ]
  },
  {
   "cell_type": "markdown",
   "source": "\n---\n\n## Deleting variables from the list\n\n using `.remove()`\n\n`existing_list.remove(variable_to_remove)`",
   "metadata": {
    "id": "ZY4ZHsjJUDb6",
    "cell_id": "00033-2d11ff56-5fcb-4989-9306-58fc42c76b6d",
    "deepnote_cell_type": "markdown"
   }
  },
  {
   "cell_type": "code",
   "metadata": {
    "id": "cT1l5NlEULBk",
    "colab": {
     "base_uri": "https://localhost:8080/",
     "height": 35
    },
    "executionInfo": {
     "status": "ok",
     "timestamp": 1600540589749,
     "user_tz": -60,
     "elapsed": 641,
     "user": {
      "displayName": "Sharmin Rouf",
      "photoUrl": "",
      "userId": "07014860915014612811"
     }
    },
    "outputId": "f1666de9-c51d-493b-fc92-a9c0cfc51694",
    "cell_id": "00034-266719c2-482a-4155-b421-0f83dc3669f5",
    "deepnote_to_be_reexecuted": false,
    "source_hash": "5c468b97",
    "execution_start": 1623689515390,
    "execution_millis": 9,
    "deepnote_cell_type": "code"
   },
   "source": "my_list = list_of_strings.copy() #in this section we will use a copy of list_of_strings, so that we do not delete items in the said original list\n\nprint(\"We copied list_of_strings\", my_list)",
   "execution_count": null,
   "outputs": [
    {
     "name": "stdout",
     "text": "We copied list_of_strings ['apple', 'banana', 'cucumber', 'melon', 'pineapple', 'carrot', 'carrot']\n",
     "output_type": "stream"
    }
   ]
  },
  {
   "cell_type": "code",
   "metadata": {
    "id": "2DXWqGyNUSjt",
    "colab": {
     "base_uri": "https://localhost:8080/",
     "height": 35
    },
    "executionInfo": {
     "status": "ok",
     "timestamp": 1600540613062,
     "user_tz": -60,
     "elapsed": 1149,
     "user": {
      "displayName": "Sharmin Rouf",
      "photoUrl": "",
      "userId": "07014860915014612811"
     }
    },
    "outputId": "931486a3-b08c-4fcc-a165-e2932af0f3c1",
    "cell_id": "00035-5200a7c7-2af4-4fc6-a440-e6d8e539922c",
    "deepnote_to_be_reexecuted": false,
    "source_hash": "801e5e45",
    "execution_start": 1623689539950,
    "execution_millis": 13,
    "deepnote_cell_type": "code"
   },
   "source": "my_list.remove(\"carrot\") # you simply use the .remove() \nprint(\"We removed \\\"melon\\\"\", my_list) # to show quotations in text, you have to use \\ before the quotation, as below:",
   "execution_count": null,
   "outputs": [
    {
     "name": "stdout",
     "text": "We removed \"melon\" ['apple', 'banana', 'cucumber', 'pineapple', 'carrot']\n",
     "output_type": "stream"
    }
   ]
  },
  {
   "cell_type": "markdown",
   "source": "using `.pop()`",
   "metadata": {
    "id": "xZj6pnAKWJws",
    "cell_id": "00036-768742fe-538b-427a-97ae-5a8633ce44d8",
    "deepnote_cell_type": "markdown"
   }
  },
  {
   "cell_type": "code",
   "metadata": {
    "id": "fMuY8FovUsge",
    "colab": {
     "base_uri": "https://localhost:8080/",
     "height": 35
    },
    "executionInfo": {
     "status": "ok",
     "timestamp": 1600540724182,
     "user_tz": -60,
     "elapsed": 657,
     "user": {
      "displayName": "Sharmin Rouf",
      "photoUrl": "",
      "userId": "07014860915014612811"
     }
    },
    "outputId": "79810cf4-51bf-408a-9d9b-1943ae585ed3",
    "cell_id": "00037-05b78677-c709-4b8b-94be-15c549880622",
    "deepnote_to_be_reexecuted": false,
    "source_hash": "100aa699",
    "execution_start": 1623689589766,
    "execution_millis": 0,
    "deepnote_cell_type": "code"
   },
   "source": "my_list.pop() #the .pop() function removes the last item of the list\n\nprint(\"We removed last item - \\\"carrot\\\"\", my_list) ",
   "execution_count": null,
   "outputs": [
    {
     "name": "stdout",
     "text": "We removed last item - \"carrot\" ['apple', 'banana', 'cucumber', 'pineapple']\n",
     "output_type": "stream"
    }
   ]
  },
  {
   "cell_type": "code",
   "metadata": {
    "id": "53Zvhf3gPgbw",
    "colab": {
     "base_uri": "https://localhost:8080/",
     "height": 35
    },
    "executionInfo": {
     "status": "ok",
     "timestamp": 1600540735017,
     "user_tz": -60,
     "elapsed": 785,
     "user": {
      "displayName": "Sharmin Rouf",
      "photoUrl": "",
      "userId": "07014860915014612811"
     }
    },
    "outputId": "571e6425-c5ee-4728-fb10-bbb2eec13276",
    "cell_id": "00038-7c3f49f7-d8dd-44c8-b87f-078f76172c46",
    "deepnote_to_be_reexecuted": false,
    "source_hash": "6f4b92b5",
    "execution_start": 1623689605220,
    "execution_millis": 12,
    "deepnote_cell_type": "code"
   },
   "source": "my_list.pop(0) # when you specify the index, it removes it as so, if not specified, it automatically removes the last one\n\nprint(\"We removed item at index 0 - \\\"apple\\\"\", my_list)",
   "execution_count": null,
   "outputs": [
    {
     "name": "stdout",
     "text": "We removed item at index 0 - \"apple\" ['banana', 'cucumber', 'pineapple']\n",
     "output_type": "stream"
    }
   ]
  },
  {
   "cell_type": "markdown",
   "source": "## List joining",
   "metadata": {
    "id": "-wwJsyMYVSaJ",
    "cell_id": "00039-42b0d4df-982e-4abe-b772-d0e30f963f34",
    "deepnote_cell_type": "markdown"
   }
  },
  {
   "cell_type": "code",
   "metadata": {
    "id": "64nQSCA_WOVa",
    "colab": {
     "base_uri": "https://localhost:8080/",
     "height": 54
    },
    "executionInfo": {
     "status": "ok",
     "timestamp": 1600540872971,
     "user_tz": -60,
     "elapsed": 667,
     "user": {
      "displayName": "Sharmin Rouf",
      "photoUrl": "",
      "userId": "07014860915014612811"
     }
    },
    "outputId": "6ce2b28f-5759-44a5-f55c-1d38075632d9",
    "cell_id": "00040-463bec7a-16e6-4e78-b431-abf51a35a352",
    "deepnote_to_be_reexecuted": false,
    "source_hash": "ba90f64b",
    "execution_start": 1623689764666,
    "execution_millis": 8,
    "deepnote_cell_type": "code"
   },
   "source": "my_list_1 = [1,2,3]             # a list with numberical variables\nmy_list_2 = [\"a\",\"b\",\"c\"]       # a list with text variables\n\nprint(my_list_1 + my_list_2[])\nmy_list_3 = my_list_1 + my_list_2\n\nprint(my_list_3)",
   "execution_count": null,
   "outputs": [
    {
     "name": "stdout",
     "text": "[1, 2, 3, 'a', 'b', 'c']\n[1, 2, 3, 'a', 'b', 'c']\n",
     "output_type": "stream"
    }
   ]
  },
  {
   "cell_type": "markdown",
   "source": "Adding single variables to the list.",
   "metadata": {
    "id": "w4M594rhWV5E",
    "cell_id": "00041-cb390902-8f7c-458a-bb43-198f47a3e2b8",
    "deepnote_cell_type": "markdown"
   }
  },
  {
   "cell_type": "code",
   "metadata": {
    "id": "_K-Y1tFVWlQ4",
    "colab": {
     "base_uri": "https://localhost:8080/",
     "height": 72
    },
    "executionInfo": {
     "status": "ok",
     "timestamp": 1600540933832,
     "user_tz": -60,
     "elapsed": 789,
     "user": {
      "displayName": "Sharmin Rouf",
      "photoUrl": "",
      "userId": "07014860915014612811"
     }
    },
    "outputId": "2ea7df5a-ea6a-4b4d-b215-a874ebcf28c4",
    "cell_id": "00042-cf5c1cb6-5ae8-4669-8d68-a82fea945e20",
    "deepnote_to_be_reexecuted": false,
    "source_hash": "8ba7347f",
    "execution_start": 1623272979613,
    "execution_millis": 9,
    "deepnote_cell_type": "code"
   },
   "source": "print(f\"Original list: {my_list_1}\")\n\nmy_list_1.append(44) ## appending variable 44 - number\nprint(my_list_1)\nmy_list_1.append(55)\nprint(my_list_1)",
   "execution_count": null,
   "outputs": [
    {
     "name": "stdout",
     "text": "Original list: [1, 2, 3]\n[1, 2, 3, 44]\n[1, 2, 3, 44, 55]\n",
     "output_type": "stream"
    }
   ]
  },
  {
   "cell_type": "markdown",
   "source": "# Relational Operators\n\nAmong other things, these are used in the `if` statements, and `while` loop.\n\n```\n== value equivalence\n!= value inequality/inequivalance\n< less than\n> more than\n<= less than or equal\n>= more than or equal\n```",
   "metadata": {
    "id": "R430L6W19dsU",
    "cell_id": "00045-b5fe8452-9c5c-4b6a-beb1-ab45c83a0316",
    "deepnote_cell_type": "markdown"
   }
  },
  {
   "cell_type": "code",
   "metadata": {
    "id": "TWhgqw60fojl",
    "colab": {
     "base_uri": "https://localhost:8080/",
     "height": 127
    },
    "executionInfo": {
     "status": "ok",
     "timestamp": 1600541344406,
     "user_tz": -60,
     "elapsed": 776,
     "user": {
      "displayName": "Sharmin Rouf",
      "photoUrl": "",
      "userId": "07014860915014612811"
     }
    },
    "outputId": "021bedfc-85c7-4903-8c62-95a6c817981c",
    "cell_id": "00046-60959dec-20f6-4511-bfbe-3e48c9662391",
    "deepnote_to_be_reexecuted": false,
    "source_hash": "544389e0",
    "execution_start": 1623689976250,
    "execution_millis": 9,
    "deepnote_cell_type": "code"
   },
   "source": "variable_d = 8\nprint(\"variable value:\", variable_d, \"\\n\")\n\nprint(\"variable == 8:\", variable_d == 8 )\nprint(\"variable == 9:\", variable_d == 9 )\n\nprint(\"variable != 8:\", variable_d != 8 )\nprint(\"variable != 9:\", variable_d != 9 )",
   "execution_count": null,
   "outputs": [
    {
     "name": "stdout",
     "text": "variable value: 8 \n\nvariable == 8: True\nvariable == 9: False\nvariable != 8: False\nvariable != 9: True\n",
     "output_type": "stream"
    }
   ]
  },
  {
   "cell_type": "markdown",
   "source": "## If - else - elif\n\nif is used to check if the statement is true, and only then, allow the code inside the if indentation to be executed",
   "metadata": {
    "id": "dJ34l_JVm5jV",
    "cell_id": "00047-7aad6246-8974-4eb0-8c35-4d908bb0d22d",
    "deepnote_cell_type": "markdown"
   }
  },
  {
   "cell_type": "markdown",
   "source": "Alongside `if` we can use `else` statement that will trigger every time `if` statement is `false`. Notice that `else` does not need to be used, as in the example above. If it is not used, the code will simpmly continue, however, if we want to do something ONLY when the `if` statement is `false`, then we use `else`:",
   "metadata": {
    "id": "QBiu0yMuoZlL",
    "cell_id": "00049-c1f7f822-5d11-4520-b782-588219568f98",
    "deepnote_cell_type": "markdown"
   }
  },
  {
   "cell_type": "code",
   "metadata": {
    "id": "3wjHXMFmnSlY",
    "colab": {
     "base_uri": "https://localhost:8080/"
    },
    "executionInfo": {
     "status": "ok",
     "timestamp": 1610265605943,
     "user_tz": 0,
     "elapsed": 554,
     "user": {
      "displayName": "Daniel Anton",
      "photoUrl": "",
      "userId": "07817160354765211624"
     }
    },
    "outputId": "aae43373-6b40-42eb-abb6-e753a0b1efbd",
    "cell_id": "00050-c4dfc7b3-0748-4f0b-9992-2e072b6e46f4",
    "deepnote_to_be_reexecuted": false,
    "source_hash": "f99f5f8f",
    "execution_start": 1623690134386,
    "execution_millis": 14,
    "deepnote_cell_type": "code"
   },
   "source": "number = 1\n\nif number < 10:\n  print(\"Enetered if 1| Number\", number, \"is less than 10\")\nelse:\n  print(\"Enetered else| - Number\", number, \"is more than 10\")\n\nprint(\"\\nThis is outside if-else statemnet, this code runs every time.\")",
   "execution_count": null,
   "outputs": [
    {
     "name": "stdout",
     "text": "Enetered if 1| Number 1 is less than 10\n\nThis is outside if-else statemnet, this code runs every time.\n",
     "output_type": "stream"
    }
   ]
  },
  {
   "cell_type": "markdown",
   "source": "If required, we can use `elif` after `if` to join multiple `if` together. If not the first `if` stament, check the second `if` statement, etc...",
   "metadata": {
    "id": "zY4f0ybYoq3c",
    "cell_id": "00051-11f6dcad-2bf8-467a-8638-09ec6e6c864d",
    "deepnote_cell_type": "markdown"
   }
  },
  {
   "cell_type": "code",
   "metadata": {
    "id": "e2UbbMvSnb4E",
    "colab": {
     "base_uri": "https://localhost:8080/"
    },
    "executionInfo": {
     "status": "ok",
     "timestamp": 1610265610601,
     "user_tz": 0,
     "elapsed": 596,
     "user": {
      "displayName": "Daniel Anton",
      "photoUrl": "",
      "userId": "07817160354765211624"
     }
    },
    "outputId": "8d2f77ce-2458-4819-9e56-e8cf443a6d6f",
    "cell_id": "00052-fa2fd3b3-4640-4b76-9a67-fd6e6fb3ea0f",
    "deepnote_to_be_reexecuted": false,
    "source_hash": "b5b1c24f",
    "execution_start": 1623690139135,
    "execution_millis": 12,
    "deepnote_cell_type": "code"
   },
   "source": "number = 16\n\nif number < 10:\n  print(\"Enetered if 1| Number\", number, \"is less than 10\")\nelif number < 20:\n  print(\"Enetered if 2| Number\", number, \"is less than 20(and more than 10)\")\nelse:\n  print(\"Enetered else| Number\", number, \"is more than 20\")",
   "execution_count": null,
   "outputs": [
    {
     "name": "stdout",
     "text": "Enetered if 2| Number 16 is less than 20(and more than 10)\n",
     "output_type": "stream"
    }
   ]
  },
  {
   "cell_type": "markdown",
   "source": "If we want the `if` statement to be an composition of multiple statements, we use `and`, `or`.",
   "metadata": {
    "id": "cKi5PvJapUVY",
    "cell_id": "00053-fec884c7-3757-41b1-88be-00f9caacccdc",
    "deepnote_cell_type": "markdown"
   }
  },
  {
   "cell_type": "code",
   "metadata": {
    "id": "LtU_oQ96ntpe",
    "colab": {
     "base_uri": "https://localhost:8080/"
    },
    "executionInfo": {
     "status": "ok",
     "timestamp": 1610265709531,
     "user_tz": 0,
     "elapsed": 563,
     "user": {
      "displayName": "Daniel Anton",
      "photoUrl": "",
      "userId": "07817160354765211624"
     }
    },
    "outputId": "55e2b3d7-3223-4941-d027-b613d49e218f",
    "cell_id": "00054-1d6d030b-76e4-48bf-a02e-320d9977dddd",
    "deepnote_to_be_reexecuted": false,
    "source_hash": "383dc33f",
    "execution_start": 1623690212803,
    "execution_millis": 12,
    "deepnote_cell_type": "code"
   },
   "source": "number = 16\n\nif (number < 10):\n  print(\"Enetered if 1| Number\", number, \"is less than 10\")\nelif :\n  print(\"Enetered if 2| Number\", number, \"is between 10 and 20\")\nelse:\n  print(\"Enetered if 3| Number\", number, \"is more than 20\")",
   "execution_count": null,
   "outputs": [
    {
     "name": "stdout",
     "text": "Enetered if 2| Number 16 is between 10 and 20\n",
     "output_type": "stream"
    }
   ]
  },
  {
   "cell_type": "markdown",
   "source": "# While loop\n\n`while` True: \n\n__do_something",
   "metadata": {
    "id": "S3m7I3PmUfNh",
    "cell_id": "00055-88623f24-a49c-4b73-a392-41a70ab9847a",
    "deepnote_cell_type": "markdown"
   }
  },
  {
   "cell_type": "code",
   "metadata": {
    "colab": {
     "base_uri": "https://localhost:8080/"
    },
    "id": "rnJi4MVDUiPK",
    "executionInfo": {
     "status": "ok",
     "timestamp": 1610265870398,
     "user_tz": 0,
     "elapsed": 727,
     "user": {
      "displayName": "Daniel Anton",
      "photoUrl": "",
      "userId": "07817160354765211624"
     }
    },
    "outputId": "e5188e9d-b8aa-4547-bb63-09bd6c434ba3",
    "cell_id": "00056-3fc08b31-d4e3-4885-be82-aa7436008e9b",
    "deepnote_to_be_reexecuted": false,
    "source_hash": "fde112eb",
    "execution_start": 1623690250100,
    "execution_millis": 9,
    "deepnote_cell_type": "code"
   },
   "source": "i = 1\nprint(\"Before while loop starts value of i is: \", i )\n\nwhile i < 7 : \n  print(i)\n  i += 1     # i += 1 is the same thing as i = i + 1\n\nprint(\"\\nFinished while loop, value of i after it is: \", i)",
   "execution_count": null,
   "outputs": [
    {
     "name": "stdout",
     "text": "Before while loop starts value of i is:  1\n1\n2\n3\n4\n5\n6\n\nFinished while loop, value of i after it is:  7\n",
     "output_type": "stream"
    }
   ]
  },
  {
   "cell_type": "markdown",
   "source": "Let's make it more complex and add `if` statement that will only happen when i is 5",
   "metadata": {
    "id": "S-qTlnNsVbr7",
    "cell_id": "00059-67ab56f2-2f10-49cc-8362-0b46459cc287",
    "deepnote_cell_type": "markdown"
   }
  },
  {
   "cell_type": "code",
   "metadata": {
    "colab": {
     "base_uri": "https://localhost:8080/"
    },
    "id": "TV0_Tfr4VZrD",
    "executionInfo": {
     "status": "ok",
     "timestamp": 1610266060286,
     "user_tz": 0,
     "elapsed": 637,
     "user": {
      "displayName": "Daniel Anton",
      "photoUrl": "",
      "userId": "07817160354765211624"
     }
    },
    "outputId": "275fba29-f8ef-4b26-f9f5-1769a430df57",
    "cell_id": "00060-d720a918-976a-49c7-af0b-96f7374a4fe2",
    "deepnote_to_be_reexecuted": false,
    "source_hash": "bb5edf1",
    "execution_start": 1623690376575,
    "execution_millis": 7,
    "deepnote_cell_type": "code"
   },
   "source": "i=1\nwhile i < 10 : \n  print(\"My hamster is amazing times\", i )\n  i = i + 1     # i += 1 is the same thing as i = i + 1, and is the standard used\n  if i == 5:\n    print(f\"My hamster is amazing times infinity, and we FINISH WHILE LOOP at index {i}\")\n    break\n",
   "execution_count": null,
   "outputs": [
    {
     "name": "stdout",
     "text": "My hamster is amazing times 1\nMy hamster is amazing times 2\nMy hamster is amazing times 3\nMy hamster is amazing times 4\nMy hamster is amazing times infinity, and we FINISH WHILE LOOP at index 5\n",
     "output_type": "stream"
    }
   ]
  },
  {
   "cell_type": "markdown",
   "source": "# FOR LOOP\n\n`for` variable `in` list:\n\n__do_something",
   "metadata": {
    "id": "-ZmsMYk02BNh",
    "cell_id": "00061-c5960f88-7c69-41df-ad12-4b9d06ee3c35",
    "deepnote_cell_type": "markdown"
   }
  },
  {
   "cell_type": "markdown",
   "source": "The `for` function alongside `in` and `:`, allows us to automatically access variables in a list and work with them, and use them in functions.\n\nIn this example, we will use function `print()` to see what values vaariables inside the list have.",
   "metadata": {
    "id": "Gm9k-zCsV7cZ",
    "cell_id": "00062-1b1baba7-e85c-4e31-b53e-54c25f1415c2",
    "deepnote_cell_type": "markdown"
   }
  },
  {
   "cell_type": "code",
   "metadata": {
    "id": "2OSy10juXm_L",
    "executionInfo": {
     "status": "ok",
     "timestamp": 1610266484409,
     "user_tz": 0,
     "elapsed": 874,
     "user": {
      "displayName": "Daniel Anton",
      "photoUrl": "",
      "userId": "07817160354765211624"
     }
    },
    "cell_id": "00063-6c61331d-1198-4378-a1b7-e9761971275b",
    "deepnote_to_be_reexecuted": false,
    "source_hash": "281048df",
    "execution_start": 1623690452923,
    "execution_millis": 3,
    "deepnote_cell_type": "code"
   },
   "source": "list_of_strings = ['apple', 'banana', 'cucumber']",
   "execution_count": null,
   "outputs": []
  },
  {
   "cell_type": "code",
   "metadata": {
    "id": "PQz0v0pllg2Z",
    "colab": {
     "base_uri": "https://localhost:8080/"
    },
    "executionInfo": {
     "status": "ok",
     "timestamp": 1610266488692,
     "user_tz": 0,
     "elapsed": 565,
     "user": {
      "displayName": "Daniel Anton",
      "photoUrl": "",
      "userId": "07817160354765211624"
     }
    },
    "outputId": "b04ec240-4765-4033-9471-c94b043cbf06",
    "cell_id": "00064-4e61abd3-6273-4ff5-b0c0-48f8a48d0ffc",
    "deepnote_to_be_reexecuted": false,
    "source_hash": "9881db60",
    "execution_start": 1623690429767,
    "execution_millis": 7,
    "deepnote_cell_type": "code"
   },
   "source": "for item in list_of_strings:\n  print(item)                 ",
   "execution_count": null,
   "outputs": [
    {
     "name": "stdout",
     "text": "apple\nbanana\ncucumber\n",
     "output_type": "stream"
    }
   ]
  },
  {
   "cell_type": "markdown",
   "source": "Below, we are going to figure out the length of each string variable in the list_of_strings, using the `len()` feature",
   "metadata": {
    "id": "kep9FYQMr63G",
    "cell_id": "00065-7c5bda32-cfd6-443e-bc3d-f2ba07f51208",
    "deepnote_cell_type": "markdown"
   }
  },
  {
   "cell_type": "code",
   "metadata": {
    "id": "uyu-f4CGrIha",
    "colab": {
     "base_uri": "https://localhost:8080/"
    },
    "executionInfo": {
     "status": "ok",
     "timestamp": 1610266485741,
     "user_tz": 0,
     "elapsed": 563,
     "user": {
      "displayName": "Daniel Anton",
      "photoUrl": "",
      "userId": "07817160354765211624"
     }
    },
    "outputId": "317b75ae-317a-4255-c925-84a58a228fc8",
    "cell_id": "00066-e94bfc39-b23f-43b6-a5e2-6325d4cefc51",
    "deepnote_to_be_reexecuted": false,
    "source_hash": "616f6151",
    "execution_start": 1623690481907,
    "execution_millis": 7,
    "deepnote_cell_type": "code"
   },
   "source": "for item in list_of_strings:\n  print(f\"length of the {item}  is {len(item)}\" )",
   "execution_count": null,
   "outputs": [
    {
     "name": "stdout",
     "text": "length of the apple string is 5\nlength of the banana string is 6\nlength of the cucumber string is 8\n",
     "output_type": "stream"
    }
   ]
  },
  {
   "cell_type": "markdown",
   "source": "## range()",
   "metadata": {
    "id": "Xtsh9qH0uKyq",
    "cell_id": "00067-07ebe6c8-a1b7-44c1-ac0e-4a0ca6a8664f",
    "deepnote_cell_type": "markdown"
   }
  },
  {
   "cell_type": "markdown",
   "source": "Function `range()` creates a sequence of integers `from`, `to`. We will use this in the `for loop`. ",
   "metadata": {
    "id": "RWeLe-OXXrRD",
    "cell_id": "00068-8934c79c-82e5-4e26-b988-75ab3146a42d",
    "deepnote_cell_type": "markdown"
   }
  },
  {
   "cell_type": "code",
   "metadata": {
    "colab": {
     "base_uri": "https://localhost:8080/"
    },
    "id": "09z1phFnXpPy",
    "executionInfo": {
     "status": "ok",
     "timestamp": 1610266722114,
     "user_tz": 0,
     "elapsed": 566,
     "user": {
      "displayName": "Daniel Anton",
      "photoUrl": "",
      "userId": "07817160354765211624"
     }
    },
    "outputId": "2359c8d2-2018-4877-ffc6-520ec168763a",
    "cell_id": "00069-8c8daa19-d186-49bc-8cb7-dd97fb203ad7",
    "deepnote_to_be_reexecuted": false,
    "source_hash": "ef955dbf",
    "execution_start": 1623690503929,
    "execution_millis": 7,
    "deepnote_cell_type": "code"
   },
   "source": "range(0, 5)",
   "execution_count": null,
   "outputs": [
    {
     "output_type": "execute_result",
     "execution_count": 102,
     "data": {
      "text/plain": "range(0, 5)"
     },
     "metadata": {}
    }
   ]
  },
  {
   "cell_type": "markdown",
   "source": "To visually see what does range(0,5) look like:",
   "metadata": {
    "id": "fXa_GUe3YFUz",
    "cell_id": "00070-44af982a-6cb5-4a7e-9cb5-3e97ca7df6f3",
    "deepnote_cell_type": "markdown"
   }
  },
  {
   "cell_type": "code",
   "metadata": {
    "colab": {
     "base_uri": "https://localhost:8080/"
    },
    "id": "BwsMJ38mYBOn",
    "executionInfo": {
     "status": "ok",
     "timestamp": 1610266724387,
     "user_tz": 0,
     "elapsed": 572,
     "user": {
      "displayName": "Daniel Anton",
      "photoUrl": "",
      "userId": "07817160354765211624"
     }
    },
    "outputId": "723775bf-d108-49b3-8f85-8eb5c62ec923",
    "cell_id": "00071-c2d5fb23-8a4f-4154-9b7e-9e2957ab7b98",
    "deepnote_to_be_reexecuted": false,
    "source_hash": "a92d012b",
    "execution_start": 1623690531198,
    "execution_millis": 15,
    "deepnote_cell_type": "code"
   },
   "source": "print(list_of_strings)\nlist(range(0, len(list_of_strings)))",
   "execution_count": null,
   "outputs": [
    {
     "name": "stdout",
     "text": "['apple', 'banana', 'cucumber']\n",
     "output_type": "stream"
    },
    {
     "output_type": "execute_result",
     "execution_count": 105,
     "data": {
      "text/plain": "[0, 1, 2]"
     },
     "metadata": {}
    }
   ]
  },
  {
   "cell_type": "markdown",
   "source": "For loop reads every variable inside a list. Our list in this case is `range(from,to)`. Doing this inside a for loop, with a start at 0, creates an `index` which we can use.\n",
   "metadata": {
    "id": "HWV-B_saXPJS",
    "cell_id": "00072-3c18361c-5a6e-4271-83ef-52e765693d19",
    "deepnote_cell_type": "markdown"
   }
  },
  {
   "cell_type": "code",
   "metadata": {
    "id": "pdKwMHzHrIey",
    "cellView": "both",
    "colab": {
     "base_uri": "https://localhost:8080/"
    },
    "executionInfo": {
     "status": "ok",
     "timestamp": 1610267054176,
     "user_tz": 0,
     "elapsed": 648,
     "user": {
      "displayName": "Daniel Anton",
      "photoUrl": "",
      "userId": "07817160354765211624"
     }
    },
    "outputId": "9b87f96e-288e-4780-bc48-bb35b5e13df8",
    "cell_id": "00073-f54e4895-4bb0-4c0d-8948-52a8dfebb9b4",
    "deepnote_to_be_reexecuted": false,
    "source_hash": "b67f6984",
    "execution_start": 1623690558577,
    "execution_millis": 23,
    "deepnote_cell_type": "code"
   },
   "source": "variable_a = len(list_of_strings) # 10\nfor variable in range(0, variable_a):\n  print(\"This is iteration number:\", variable)",
   "execution_count": null,
   "outputs": [
    {
     "name": "stdout",
     "text": "This is iteration number: 0\nThis is iteration number: 1\nThis is iteration number: 2\n",
     "output_type": "stream"
    }
   ]
  },
  {
   "cell_type": "markdown",
   "source": "\n### doing things using range\n\nAppending to lists",
   "metadata": {
    "id": "uco04OBXjfyQ",
    "cell_id": "00074-1bd0062b-9301-402d-9cf1-d5611007d130",
    "deepnote_cell_type": "markdown"
   }
  },
  {
   "cell_type": "markdown",
   "source": "Say you have two lists, and you want to append first 3 values from one to another. Instead doing it manually, you can use a `for loop` with `range()` function",
   "metadata": {
    "id": "r_Gxixz_ZnwA",
    "cell_id": "00075-ec9bfb78-dd2c-40bb-b54b-7b9d5970dcae",
    "deepnote_cell_type": "markdown"
   }
  },
  {
   "cell_type": "code",
   "metadata": {
    "id": "49-M0iIVje68",
    "colab": {
     "base_uri": "https://localhost:8080/"
    },
    "executionInfo": {
     "status": "ok",
     "timestamp": 1610267476420,
     "user_tz": 0,
     "elapsed": 889,
     "user": {
      "displayName": "Daniel Anton",
      "photoUrl": "",
      "userId": "07817160354765211624"
     }
    },
    "outputId": "0a0b2dee-d5eb-4aa5-ceaa-ba1228e95d38",
    "cell_id": "00076-17f70271-7584-40f1-a988-2b31110bdbe0",
    "deepnote_to_be_reexecuted": false,
    "source_hash": "17021d1d",
    "execution_start": 1623690602989,
    "execution_millis": 8,
    "deepnote_cell_type": "code"
   },
   "source": "list_1 = [\"a\", \"b\", \"c\", \"d\", \"e\"]\nlist_2 = [1, 2, 3, 4, 5]\n\nprint(\"original list_1\", list_1)\nprint(\"original list_2\", list_2)\n\nfor i in range(0, 3):   # term 'i' is a programing standard, it stands for index. \n  print(\"\\nThis is iteration number:\", i)\n  print(list_2[i], \"---is variable from list_2 with index---\", i)\n  list_1.append(list_2[i])    # by combining the .append() function with the For Loop funtion, you can add in varaibles from different lists\n  print(\"list_1 after first iteration:\", list_1)\n  \nprint(\"\\nfinal list\", list_1)",
   "execution_count": null,
   "outputs": [
    {
     "name": "stdout",
     "text": "original list_1 ['a', 'b', 'c', 'd', 'e']\noriginal list_2 [1, 2, 3, 4, 5]\n\nThis is iteration number: 0\n1 ---is variable from list_2 with index--- 0\nlist_1 after first iteration: ['a', 'b', 'c', 'd', 'e', 1]\n\nThis is iteration number: 1\n2 ---is variable from list_2 with index--- 1\nlist_1 after first iteration: ['a', 'b', 'c', 'd', 'e', 1, 2]\n\nThis is iteration number: 2\n3 ---is variable from list_2 with index--- 2\nlist_1 after first iteration: ['a', 'b', 'c', 'd', 'e', 1, 2, 3]\n\nfinal list ['a', 'b', 'c', 'd', 'e', 1, 2, 3]\n",
     "output_type": "stream"
    }
   ]
  },
  {
   "cell_type": "markdown",
   "source": "But hang on, why would you do that, if you can simply take a range of variables you want to append to the other list, and use `.extend()`",
   "metadata": {
    "id": "jx8ZYTPjbxum",
    "cell_id": "00077-2c0dc76b-8240-4b8f-95dd-eece23069203",
    "deepnote_cell_type": "markdown"
   }
  },
  {
   "cell_type": "code",
   "metadata": {
    "colab": {
     "base_uri": "https://localhost:8080/"
    },
    "id": "Z06Sg3Eaa-F4",
    "executionInfo": {
     "status": "ok",
     "timestamp": 1610267729945,
     "user_tz": 0,
     "elapsed": 763,
     "user": {
      "displayName": "Daniel Anton",
      "photoUrl": "",
      "userId": "07817160354765211624"
     }
    },
    "outputId": "08df2dfc-35d9-4899-8ebb-24f9c9cc8f4e",
    "cell_id": "00078-31172879-c86a-453a-b1ff-8becc757b1a1",
    "deepnote_to_be_reexecuted": false,
    "source_hash": "6d421a5b",
    "execution_start": 1623690640468,
    "execution_millis": 10,
    "deepnote_cell_type": "code"
   },
   "source": "list_1 = [\"a\", \"b\", \"c\", \"d\", \"e\"]\nlist_2 = [1, 2, 3, 4, 5]\n\nlist_1.extend(list_2[0:3])\nprint(list_1)",
   "execution_count": null,
   "outputs": [
    {
     "name": "stdout",
     "text": "['a', 'b', 'c', 'd', 'e', 1, 2, 3]\n",
     "output_type": "stream"
    }
   ]
  },
  {
   "cell_type": "markdown",
   "source": "That is because like we said in the definition, for loop allows us to work with tha variables. Whether it's modifying them, or using them in a function, or keeping a track of your model's training.\n\nTake same code from before, and say, in addition to appending the first 3 variables from list_2, `FIRST`, you want to multiply them by 3, and subtract 1. Final list should look like `['a', 'b', 'c', 'd', 'e', 2, 5, 8]`\n\n`For loop` allows you to simply do that:",
   "metadata": {
    "id": "ZzIa_rqLb8vM",
    "cell_id": "00079-ad96837f-ac9f-4667-9ae2-e3cdc1fcda64",
    "deepnote_cell_type": "markdown"
   }
  },
  {
   "cell_type": "code",
   "metadata": {
    "colab": {
     "base_uri": "https://localhost:8080/"
    },
    "id": "e8a--WZwcXUP",
    "executionInfo": {
     "status": "ok",
     "timestamp": 1610267926449,
     "user_tz": 0,
     "elapsed": 562,
     "user": {
      "displayName": "Daniel Anton",
      "photoUrl": "",
      "userId": "07817160354765211624"
     }
    },
    "outputId": "41f5586f-3caa-44b3-e535-3fc278464770",
    "cell_id": "00080-785ada06-2819-409c-a0d4-c2da0aceaada",
    "deepnote_to_be_reexecuted": false,
    "source_hash": "3b1c355e",
    "execution_start": 1623690697494,
    "execution_millis": 8,
    "deepnote_cell_type": "code"
   },
   "source": "list_1 = [\"a\", \"b\", \"c\", \"d\", \"e\"]\nlist_2 = [1, 2, 3, 4, 5]\n\nprint(\"original list_1\", list_1)\nprint(\"original list_2\", list_2)\n\nfor i in range(0, 3):   # term 'i' is a programing standard, it stands for index. \n  print(\"\\nThis is iteration number:\", i)\n  print(list_2[i], \"---is variable from list_2 with index---\", i)\n  \n  variable = list_2[i]\n  variable = variable * 3\n  variable = variable - 1\n  list_1.append(variable)    # by combining the .append() function with the For Loop funtion, you can add in varaibles from different lists\n  print(\"list_1 after first iteration:\", list_1)\n  \nprint(\"\\nfinal list\", list_1)",
   "execution_count": null,
   "outputs": [
    {
     "name": "stdout",
     "text": "original list_1 ['a', 'b', 'c', 'd', 'e']\noriginal list_2 [1, 2, 3, 4, 5]\n\nThis is iteration number: 0\n1 ---is variable from list_2 with index--- 0\nlist_1 after first iteration: ['a', 'b', 'c', 'd', 'e', 2]\n\nThis is iteration number: 1\n2 ---is variable from list_2 with index--- 1\nlist_1 after first iteration: ['a', 'b', 'c', 'd', 'e', 2, 5]\n\nThis is iteration number: 2\n3 ---is variable from list_2 with index--- 2\nlist_1 after first iteration: ['a', 'b', 'c', 'd', 'e', 2, 5, 8]\n\nfinal list ['a', 'b', 'c', 'd', 'e', 2, 5, 8]\n",
     "output_type": "stream"
    }
   ]
  },
  {
   "cell_type": "markdown",
   "source": "## break\n\nIf you need to finish the for loop early - when a condition is met.",
   "metadata": {
    "id": "adt5uMTIiPwS",
    "cell_id": "00081-1aa651de-8195-4dc0-a61d-81cfd373cb23",
    "deepnote_cell_type": "markdown"
   }
  },
  {
   "cell_type": "markdown",
   "source": "Say you need to finish the loop when index is 4.",
   "metadata": {
    "id": "SdIzFJyxc7ek",
    "cell_id": "00082-c4225fab-9aae-4133-9bc0-a14844c1ccc3",
    "deepnote_cell_type": "markdown"
   }
  },
  {
   "cell_type": "code",
   "metadata": {
    "id": "Jk9MNJ8-GWGG",
    "colab": {
     "base_uri": "https://localhost:8080/"
    },
    "executionInfo": {
     "status": "ok",
     "timestamp": 1610268050203,
     "user_tz": 0,
     "elapsed": 677,
     "user": {
      "displayName": "Daniel Anton",
      "photoUrl": "",
      "userId": "07817160354765211624"
     }
    },
    "outputId": "fc43da18-edf0-4dc5-9d10-c65f774bf9b9",
    "cell_id": "00083-12131ce8-3b02-4e3d-929c-7fba1f74bd59",
    "deepnote_to_be_reexecuted": false,
    "source_hash": "c508e546",
    "execution_start": 1623690785354,
    "execution_millis": 11,
    "deepnote_cell_type": "code"
   },
   "source": "variable_g = 10\n\nprint(variable_g,\"\\n\")\n\nfor i in range(0, variable_g):\n  print(\"index is:\", i)\n  if i == 4 : \n    print(\"break\")\n    break\n\nprint(\"\\nCode outside for loop: final value of index is\", i)",
   "execution_count": null,
   "outputs": [
    {
     "name": "stdout",
     "text": "10 \n\nindex is: 0\nindex is: 1\nindex is: 2\nindex is: 3\nindex is: 4\nbreak\n\nCode outside for loop: final value of index is 4\n",
     "output_type": "stream"
    }
   ]
  },
  {
   "cell_type": "markdown",
   "source": "This is useful for example when you are training a model, and the training accuracy stops improving with subsequent iterations. There is no point in continueing the training, and you want to stop early. In that case you would have a `break` inside an `if statement`, that would trigger if the training accuracy in the current iteration, is same as the training accuracy on the previous iteration.",
   "metadata": {
    "id": "v0nZwHIkdVZ4",
    "cell_id": "00084-bc45aba5-ec80-40ad-83c9-1e59492aafcb",
    "deepnote_cell_type": "markdown"
   }
  },
  {
   "cell_type": "markdown",
   "source": "## continue\n\nskips current iterration",
   "metadata": {
    "id": "shW-eLRciRmY",
    "cell_id": "00085-c7a41509-e7d0-4e07-aad4-2c856d6c69ac",
    "deepnote_cell_type": "markdown"
   }
  },
  {
   "cell_type": "code",
   "metadata": {
    "id": "yLkCeGzAKZQQ",
    "colab": {
     "base_uri": "https://localhost:8080/"
    },
    "executionInfo": {
     "status": "ok",
     "timestamp": 1610268487288,
     "user_tz": 0,
     "elapsed": 569,
     "user": {
      "displayName": "Daniel Anton",
      "photoUrl": "",
      "userId": "07817160354765211624"
     }
    },
    "outputId": "5f230b13-3b1f-4d0b-d012-706f6491a42b",
    "cell_id": "00086-a683b7a3-afa9-4806-af04-e57e75f0b445",
    "deepnote_to_be_reexecuted": false,
    "source_hash": "4173d9e0",
    "execution_start": 1623690894549,
    "execution_millis": 9,
    "deepnote_cell_type": "code"
   },
   "source": "variable_h = 10\nfor i in range(0, variable_h):\n  if (i == 4) or (i == 5):   # you can use 'or' 'and' here\n    print(\"Enetered if in iteration:\", i)\n    continue        # continue stops the code from finishing the rest of the for loop and it starts a new loop with next element in the list\n  print(\"end of the loop\", i)     ",
   "execution_count": null,
   "outputs": [
    {
     "name": "stdout",
     "text": "end of the loop 0\nend of the loop 1\nend of the loop 2\nend of the loop 3\nEnetered if in iteration: 4\nEnetered if in iteration: 5\nend of the loop 6\nend of the loop 7\nend of the loop 8\nend of the loop 9\n",
     "output_type": "stream"
    }
   ]
  },
  {
   "cell_type": "markdown",
   "source": "# Importing Packages",
   "metadata": {
    "id": "ato2V5602H0R",
    "cell_id": "00087-299a3f8b-b04c-41dd-81d1-8833360ea850",
    "deepnote_cell_type": "markdown"
   }
  },
  {
   "cell_type": "markdown",
   "source": "Packages are functions written by other people, saving us work of having to write that functionality ourselves. Instead, we can simply use their package and the functions they defined.",
   "metadata": {
    "id": "sMEljgYHfDGD",
    "cell_id": "00088-77eff4d1-37e1-4796-a4f2-2d842bd61243",
    "deepnote_cell_type": "markdown"
   }
  },
  {
   "cell_type": "code",
   "metadata": {
    "id": "iGPk_EOg2eAa",
    "executionInfo": {
     "status": "ok",
     "timestamp": 1610268611790,
     "user_tz": 0,
     "elapsed": 549,
     "user": {
      "displayName": "Daniel Anton",
      "photoUrl": "",
      "userId": "07817160354765211624"
     }
    },
    "cell_id": "00089-f4b3d203-3236-40f0-be68-1d025b1f21ed",
    "deepnote_cell_type": "code"
   },
   "source": "import numpy # package that contains mathematical fucntions",
   "execution_count": null,
   "outputs": []
  },
  {
   "cell_type": "markdown",
   "source": "Let's use `power(x,y)` function from `numpy`. \n\nIt is an simple exponential function: `x` to the power of `y` - either google how the imported function works, or point with mouse on it.",
   "metadata": {
    "id": "RVXbB183YcH_",
    "cell_id": "00090-34498738-ef0f-40ed-aac8-f720393ee038",
    "deepnote_cell_type": "markdown"
   }
  },
  {
   "cell_type": "code",
   "metadata": {
    "id": "GwzkgMhT2stZ",
    "colab": {
     "base_uri": "https://localhost:8080/",
     "height": 35
    },
    "executionInfo": {
     "status": "ok",
     "timestamp": 1601595473565,
     "user_tz": -60,
     "elapsed": 1046,
     "user": {
      "displayName": "Sharmin Rouf",
      "photoUrl": "",
      "userId": "07014860915014612811"
     }
    },
    "outputId": "8b2103b2-7792-4514-a9f7-d27df1dbd485",
    "cell_id": "00091-3925b1f1-9cc5-47dc-a999-ac6f7c991e78",
    "deepnote_cell_type": "code"
   },
   "source": "print(numpy.power(2,3)) # here we used the numpy function to square an example of numbers",
   "execution_count": null,
   "outputs": [
    {
     "output_type": "stream",
     "text": "8\n",
     "name": "stdout"
    }
   ]
  },
  {
   "cell_type": "code",
   "metadata": {
    "id": "IJIe1okE3Xt2",
    "colab": {
     "base_uri": "https://localhost:8080/"
    },
    "executionInfo": {
     "status": "ok",
     "timestamp": 1610268697862,
     "user_tz": 0,
     "elapsed": 617,
     "user": {
      "displayName": "Daniel Anton",
      "photoUrl": "",
      "userId": "07817160354765211624"
     }
    },
    "outputId": "27f1eb4f-2887-43ff-a266-bcd7fb9312c6",
    "cell_id": "00092-0a9d1d04-6350-48d1-811b-a6e4175a11dd",
    "deepnote_cell_type": "code"
   },
   "source": "import numpy as np    # shorten names of the packages, some of them are very long, and used a lot in the code => convenience, readability\nprint(np.power(2,3))  # here we imported numpy as np as a shortcut to naming the package ",
   "execution_count": null,
   "outputs": [
    {
     "output_type": "stream",
     "text": "8\n",
     "name": "stdout"
    }
   ]
  },
  {
   "cell_type": "markdown",
   "source": "Let's create a code that will automatically square numbers in the specified range",
   "metadata": {
    "id": "sggGDk5SZIz6",
    "cell_id": "00093-b802b659-6c78-43ce-a38e-73388142bba6",
    "deepnote_cell_type": "markdown"
   }
  },
  {
   "cell_type": "code",
   "metadata": {
    "id": "bUhAvnFyxrf1",
    "colab": {
     "base_uri": "https://localhost:8080/"
    },
    "executionInfo": {
     "status": "ok",
     "timestamp": 1610268744860,
     "user_tz": 0,
     "elapsed": 579,
     "user": {
      "displayName": "Daniel Anton",
      "photoUrl": "",
      "userId": "07817160354765211624"
     }
    },
    "outputId": "cd217386-8567-43d5-d58f-a2a579d06739",
    "cell_id": "00094-ff424a54-0ab4-49d4-98db-b2d88bbb2454",
    "deepnote_cell_type": "code"
   },
   "source": "variable_number = 5\nprint(\"variable_number has a value of\", variable_number,\"\\n\")\n\nfor variable in range(variable_number, variable_number + 3):\n  \n  print(\"Square of\", variable, \"is\", np.power(variable, 2))",
   "execution_count": null,
   "outputs": [
    {
     "output_type": "stream",
     "text": "variable_number has a value of 5 \n\nSquare of 5 is 25\nSquare of 6 is 36\nSquare of 7 is 49\n",
     "name": "stdout"
    }
   ]
  },
  {
   "cell_type": "markdown",
   "source": "# my own Functions\n\nWe have been using `print()`, `.append()`, `.delete()`, `.pop()` functions - all are defined in Python code, and `np.power()` is defined in `numpy` package. ",
   "metadata": {
    "id": "3_BFamtAZgA1",
    "cell_id": "00095-60def744-fb99-4f97-9dd9-cec766a2d899",
    "deepnote_cell_type": "markdown"
   }
  },
  {
   "cell_type": "markdown",
   "source": "Let's create our own function that prints \"Hellow world!\" whenever it is called.\n\n`def` name_of_the_function(variables):",
   "metadata": {
    "id": "1Mxh8W9Papsb",
    "cell_id": "00096-5d761bb6-ff35-4bd2-bd15-6f12e8ead2fa",
    "deepnote_cell_type": "markdown"
   }
  },
  {
   "cell_type": "code",
   "metadata": {
    "id": "Gg0_UX2kaxEq",
    "executionInfo": {
     "status": "ok",
     "timestamp": 1610268762694,
     "user_tz": 0,
     "elapsed": 576,
     "user": {
      "displayName": "Daniel Anton",
      "photoUrl": "",
      "userId": "07817160354765211624"
     }
    },
    "cell_id": "00097-9c866538-ed4d-486f-8a1c-c12f423d45f6",
    "deepnote_cell_type": "code"
   },
   "source": "def print_hello_world():    # notice that this function does not have any input variables, some functions do not need input variables\n  print(\"Hello world!\")",
   "execution_count": null,
   "outputs": []
  },
  {
   "cell_type": "markdown",
   "source": "Let's use it. Similarly to `print()` or any other functions, let's use it by typing its name and running the code.",
   "metadata": {
    "id": "SsOJkEwjhxCo",
    "cell_id": "00098-7a9965eb-0190-4ab5-acbe-f2f408cd52aa",
    "deepnote_cell_type": "markdown"
   }
  },
  {
   "cell_type": "code",
   "metadata": {
    "id": "gBeB6ULVbAAD",
    "colab": {
     "base_uri": "https://localhost:8080/"
    },
    "executionInfo": {
     "status": "ok",
     "timestamp": 1610268769111,
     "user_tz": 0,
     "elapsed": 601,
     "user": {
      "displayName": "Daniel Anton",
      "photoUrl": "",
      "userId": "07817160354765211624"
     }
    },
    "outputId": "e58980ff-3b67-47cf-b175-d6f690ec0dd5",
    "cell_id": "00099-e51eab8f-1d48-4661-a4f3-ee5973b9fad8",
    "deepnote_cell_type": "code"
   },
   "source": "print_hello_world()\nprint_hello_world()\nprint_hello_world()\nprint_hello_world()\nprint_hello_world()",
   "execution_count": null,
   "outputs": [
    {
     "output_type": "stream",
     "text": "Hello world!\nHello world!\nHello world!\nHello world!\nHello world!\n",
     "name": "stdout"
    }
   ]
  },
  {
   "cell_type": "markdown",
   "source": "See how when we wanted to the \"hello world!\" to be printed 5 times, we had to call our function `print_hello_world()` 5 times. Let's change that, so that we call it only once, and tell it how many times it should printe \"hello world!\" instead.\n\n---\nTo do this, we will make use of a for loop - as we know `for i in range(0, to)` will loop (and perfrom any actions we want) as many times as we say in `to`.\n\nLet's name the variable `to`, to something more self-explanatory, for example: `number_of_prints`.\n\nNote that as with normal variables, it can be named as anything we want.\n\n---",
   "metadata": {
    "id": "2MPwosuobIZf",
    "cell_id": "00100-93f0bbd2-1373-4482-b492-a8c94bc9a0e6",
    "deepnote_cell_type": "markdown"
   }
  },
  {
   "cell_type": "code",
   "metadata": {
    "id": "Pzm_E9ACbQ-A",
    "executionInfo": {
     "status": "ok",
     "timestamp": 1610269062590,
     "user_tz": 0,
     "elapsed": 618,
     "user": {
      "displayName": "Daniel Anton",
      "photoUrl": "",
      "userId": "07817160354765211624"
     }
    },
    "cell_id": "00101-f88ab5a5-41f8-4964-9a26-be3b928a4e52",
    "deepnote_cell_type": "code"
   },
   "source": "def print_hello_world_advanced(number_of_prints):   # input variable number_of_prints that will be used in the function\n  for i in range(number_of_prints):\n    print(\"Hello world!\")",
   "execution_count": null,
   "outputs": []
  },
  {
   "cell_type": "markdown",
   "source": "We created a function with the input variable `number_of_prints`. We designed it such that it prints \"Hello world!\" as many times as we specify in `number_of_prints`. \n\nLike other functions we have been using, let's call it by typing the name of the function `print_hello_world_advanced()` and specifying the input it now requires - `number_of_prints`.",
   "metadata": {
    "id": "A9AzQ_0wcfah",
    "cell_id": "00102-06c1ded3-a42c-48c7-93b8-2b762b4700be",
    "deepnote_cell_type": "markdown"
   }
  },
  {
   "cell_type": "code",
   "metadata": {
    "id": "KNE0aJRybags",
    "colab": {
     "base_uri": "https://localhost:8080/"
    },
    "executionInfo": {
     "status": "ok",
     "timestamp": 1610269349125,
     "user_tz": 0,
     "elapsed": 596,
     "user": {
      "displayName": "Daniel Anton",
      "photoUrl": "",
      "userId": "07817160354765211624"
     }
    },
    "outputId": "6592fdab-38da-4fed-f2d0-3bf36b758b43",
    "cell_id": "00103-f109e55a-832e-4fe9-8549-9c0ba32838e8",
    "deepnote_cell_type": "code"
   },
   "source": "print_hello_world_advanced(number_of_prints = 3)",
   "execution_count": null,
   "outputs": [
    {
     "output_type": "stream",
     "text": "Hello world!\nHello world!\nHello world!\n",
     "name": "stdout"
    }
   ]
  },
  {
   "cell_type": "markdown",
   "source": "If our sole job was to print \"Hello world!\", using this method, as opposed to writing it manually every single time, is much more convinient. \n\nWe do not have to specify name of the input variable when we call the function, so long you remember which one is which - functions with multiple inputs can get confusing! ",
   "metadata": {
    "id": "gfq7QdONcyOD",
    "cell_id": "00104-0c4bf591-b5b6-48fd-9b04-c7c2cd52a317",
    "deepnote_cell_type": "markdown"
   }
  },
  {
   "cell_type": "code",
   "metadata": {
    "id": "3OYBznLvbehk",
    "colab": {
     "base_uri": "https://localhost:8080/"
    },
    "executionInfo": {
     "status": "ok",
     "timestamp": 1610269512080,
     "user_tz": 0,
     "elapsed": 587,
     "user": {
      "displayName": "Daniel Anton",
      "photoUrl": "",
      "userId": "07817160354765211624"
     }
    },
    "outputId": "fc744ac2-4bc9-409a-8739-f3fdd52e314c",
    "cell_id": "00105-dc4cf9b5-bb8f-4c5a-949a-a08e1d029ee6",
    "deepnote_cell_type": "code"
   },
   "source": "print_hello_world_advanced(7)",
   "execution_count": null,
   "outputs": [
    {
     "output_type": "stream",
     "text": "Hello world!\nHello world!\nHello world!\nHello world!\nHello world!\nHello world!\nHello world!\n",
     "name": "stdout"
    }
   ]
  },
  {
   "cell_type": "markdown",
   "source": "\n\nLet's create our own function that will work like `np.power()`\n\n* `power` will be the name of the function\n\n* `number1` variable will be the base\n\n* `number2` variable will be the exponent",
   "metadata": {
    "id": "rOqDXlWr5Xqc",
    "cell_id": "00106-4715d0a4-07ee-4097-b216-13dddf33925d",
    "deepnote_cell_type": "markdown"
   }
  },
  {
   "cell_type": "code",
   "metadata": {
    "id": "qRdAMTpaZv0z",
    "executionInfo": {
     "status": "ok",
     "timestamp": 1610269592411,
     "user_tz": 0,
     "elapsed": 584,
     "user": {
      "displayName": "Daniel Anton",
      "photoUrl": "",
      "userId": "07817160354765211624"
     }
    },
    "cell_id": "00107-12b9be5e-1ef8-481f-8771-8aa198fef5d5",
    "deepnote_cell_type": "code"
   },
   "source": "def power(number1, number2):\n  print(\"result of power is:\", number1 ** number2) # ** means to the power of",
   "execution_count": null,
   "outputs": []
  },
  {
   "cell_type": "markdown",
   "source": "Compare it to numpy function:",
   "metadata": {
    "id": "SpZbXeu5dbIK",
    "cell_id": "00108-c614fa9e-b2e9-40de-a075-fe633e69ec21",
    "deepnote_cell_type": "markdown"
   }
  },
  {
   "cell_type": "code",
   "metadata": {
    "id": "W1BfNiAaZzRp",
    "colab": {
     "base_uri": "https://localhost:8080/"
    },
    "executionInfo": {
     "status": "ok",
     "timestamp": 1610269593099,
     "user_tz": 0,
     "elapsed": 756,
     "user": {
      "displayName": "Daniel Anton",
      "photoUrl": "",
      "userId": "07817160354765211624"
     }
    },
    "outputId": "3a903b2f-e5e9-4016-db0a-c71591c48756",
    "cell_id": "00109-443b2ad5-eef4-428d-b66f-484ac219d96b",
    "deepnote_cell_type": "code"
   },
   "source": "print(\"result of no.power is:\", np.power(3,2))\npower(3,2)",
   "execution_count": null,
   "outputs": [
    {
     "output_type": "stream",
     "text": "result of no.power is: 9\nresult of power is: 9\n",
     "name": "stdout"
    }
   ]
  },
  {
   "cell_type": "markdown",
   "source": "Notice that we did not have to use `print()` because we use it inside the function itself. Notice that the only thing our function does is it prints the power result.\n\nLet's say that now we want to calculate 3 to the power of 2, minus one. First with `np.power()`",
   "metadata": {
    "id": "Gp300G3MjRib",
    "cell_id": "00110-ab70f99c-5cdb-4da1-ae69-16bfb327364c",
    "deepnote_cell_type": "markdown"
   }
  },
  {
   "cell_type": "code",
   "metadata": {
    "colab": {
     "base_uri": "https://localhost:8080/"
    },
    "id": "P0SATpcOjbzl",
    "executionInfo": {
     "status": "ok",
     "timestamp": 1610269718352,
     "user_tz": 0,
     "elapsed": 1018,
     "user": {
      "displayName": "Daniel Anton",
      "photoUrl": "",
      "userId": "07817160354765211624"
     }
    },
    "outputId": "f9a926ae-43b5-4813-8212-22731fe21aec",
    "cell_id": "00111-9d484d29-495d-4824-91ba-3ded57151486",
    "deepnote_cell_type": "code"
   },
   "source": "result = np.power(3,2)\nresult = result - 1\nprint(result)",
   "execution_count": null,
   "outputs": [
    {
     "output_type": "stream",
     "text": "8\n",
     "name": "stdout"
    }
   ]
  },
  {
   "cell_type": "markdown",
   "source": "Now with our function `power()`",
   "metadata": {
    "id": "lG4Rig7OjgYT",
    "cell_id": "00112-5621d65e-3a6a-42e7-a6e2-ba9ba886fa82",
    "deepnote_cell_type": "markdown"
   }
  },
  {
   "cell_type": "code",
   "metadata": {
    "colab": {
     "base_uri": "https://localhost:8080/",
     "height": 225
    },
    "id": "eK7yEaQbji7-",
    "executionInfo": {
     "status": "error",
     "timestamp": 1610269753084,
     "user_tz": 0,
     "elapsed": 770,
     "user": {
      "displayName": "Daniel Anton",
      "photoUrl": "",
      "userId": "07817160354765211624"
     }
    },
    "outputId": "6a600353-d419-4f51-dde6-74cce905f682",
    "cell_id": "00113-24ab09a3-9f17-4449-b03a-60d68fdb43fe",
    "output_cleared": true,
    "deepnote_cell_type": "code"
   },
   "source": "result = power(3,2)\nresult = result - 1\nprint(result)",
   "execution_count": null,
   "outputs": []
  },
  {
   "cell_type": "markdown",
   "source": "it yields error. Upon closer inspection, it points to line 2, where we subtract 1 from the result.\n\n1 is a variable with type `int` (integer)\n\nresult a variable with type `NoneType` - literaly, it does not have a type.\n\nThis is because our function, only `print()` the power, it does not assign that result to the variable result. In order to do this, we use `return` - to literally \"return\" the result, so that we can assign it to a variable for later use.",
   "metadata": {
    "id": "5B7nDof-juaE",
    "cell_id": "00114-1c00d6cf-35da-4acb-bb27-6a2a27728b30",
    "deepnote_cell_type": "markdown"
   }
  },
  {
   "cell_type": "markdown",
   "source": "\n\n## return\n\nIf we want the function to return a value, we use `return`",
   "metadata": {
    "id": "SrXa3u95ddS-",
    "cell_id": "00115-11c49e65-70b1-4ed9-9644-7487fae5898c",
    "deepnote_cell_type": "markdown"
   }
  },
  {
   "cell_type": "code",
   "metadata": {
    "id": "pA8SEFtNdz3g",
    "executionInfo": {
     "status": "ok",
     "timestamp": 1610269975676,
     "user_tz": 0,
     "elapsed": 703,
     "user": {
      "displayName": "Daniel Anton",
      "photoUrl": "",
      "userId": "07817160354765211624"
     }
    },
    "cell_id": "00116-315a9f8b-c5d6-4a7d-8fbe-024eca85802a",
    "deepnote_cell_type": "code"
   },
   "source": "def power_return(number1, number2):\n  return number1 ** number2",
   "execution_count": null,
   "outputs": []
  },
  {
   "cell_type": "code",
   "metadata": {
    "id": "2qBfHOk1d3Ox",
    "colab": {
     "base_uri": "https://localhost:8080/"
    },
    "executionInfo": {
     "status": "ok",
     "timestamp": 1610269993881,
     "user_tz": 0,
     "elapsed": 574,
     "user": {
      "displayName": "Daniel Anton",
      "photoUrl": "",
      "userId": "07817160354765211624"
     }
    },
    "outputId": "0591e28b-81fe-4a45-dd78-326ec422a7a8",
    "cell_id": "00117-b32df1fe-ac62-49d4-88ab-9eae7d3472f9",
    "deepnote_cell_type": "code"
   },
   "source": "result = power_return(3,2)\nresult = result - 1\n\nprint(result)\nprint(\"result + result =\", result + result)",
   "execution_count": null,
   "outputs": [
    {
     "output_type": "stream",
     "text": "8\nresult + result = 16\n",
     "name": "stdout"
    }
   ]
  },
  {
   "cell_type": "markdown",
   "source": "our function `power_return()` now uses `return` to return the value, so that we can assign it to the variable. \n\nWe can now treat that variable as any other.",
   "metadata": {
    "id": "84uk6xhmksVc",
    "cell_id": "00118-9b5609d3-7c69-4f90-aceb-628fe055af41",
    "deepnote_cell_type": "markdown"
   }
  },
  {
   "cell_type": "markdown",
   "source": "## example - function that squares numbers in range",
   "metadata": {
    "id": "qmxxNMBYghRE",
    "cell_id": "00119-ba4f9867-02eb-4d80-bc3d-e70433419e9f",
    "deepnote_cell_type": "markdown"
   }
  },
  {
   "cell_type": "markdown",
   "source": "Below we will create a function that will print every other number with:\n\n* `print_range` will be the name of the function\n\n* `here` variable will be the initial index of the range\n\n* `there` variable will be final index in the range\n",
   "metadata": {
    "id": "-o-jk7HKZ39F",
    "cell_id": "00120-9c2b18de-f1e0-42af-9990-fed54784cdc2",
    "deepnote_cell_type": "markdown"
   }
  },
  {
   "cell_type": "code",
   "metadata": {
    "id": "ewjY-l8M5MjE",
    "cell_id": "00121-308a18dd-8045-4956-985b-b2b07b23eb7c",
    "deepnote_cell_type": "code"
   },
   "source": "def print_range(here, there):\n  for number in range(here, there, 2):    # range(x,y,z) x - initial index, y - final index, z - increments\n    print(number) \n\n# the third arguement in the second line of the code pulls information from the list, in twos (so every other number)",
   "execution_count": null,
   "outputs": []
  },
  {
   "cell_type": "code",
   "metadata": {
    "id": "l5ZiBvSe6sp6",
    "colab": {
     "base_uri": "https://localhost:8080/",
     "height": 90
    },
    "executionInfo": {
     "status": "ok",
     "timestamp": 1601596247917,
     "user_tz": -60,
     "elapsed": 924,
     "user": {
      "displayName": "Sharmin Rouf",
      "photoUrl": "",
      "userId": "07014860915014612811"
     }
    },
    "outputId": "98105be3-67d0-4097-b7ba-137c8b6108e4",
    "cell_id": "00122-d9d3e941-6fad-419d-838e-d3d628c886a4",
    "deepnote_cell_type": "code"
   },
   "source": "print_range(2,10)",
   "execution_count": null,
   "outputs": [
    {
     "output_type": "stream",
     "text": "2\n4\n6\n8\n",
     "name": "stdout"
    }
   ]
  },
  {
   "cell_type": "markdown",
   "source": "We will now expand the code above, to use `np.power()` to square the numbers in that range.",
   "metadata": {
    "id": "uvlngBhF76st",
    "cell_id": "00123-04a4220a-7e28-465f-934d-6ed6ad4b7157",
    "deepnote_cell_type": "markdown"
   }
  },
  {
   "cell_type": "code",
   "metadata": {
    "id": "2tpNsAaG729j",
    "cell_id": "00124-7ed73aa8-097e-4a35-861e-f4111376e029",
    "deepnote_cell_type": "code"
   },
   "source": "def print_range_squared(here, there):\n  for number in range(here, there, 2):                    \n    print(\"Square of\", number, \"is\", np.power(number,2))",
   "execution_count": null,
   "outputs": []
  },
  {
   "cell_type": "code",
   "metadata": {
    "id": "KkG99SZL8DUS",
    "colab": {
     "base_uri": "https://localhost:8080/",
     "height": 90
    },
    "executionInfo": {
     "status": "ok",
     "timestamp": 1601596359268,
     "user_tz": -60,
     "elapsed": 691,
     "user": {
      "displayName": "Sharmin Rouf",
      "photoUrl": "",
      "userId": "07014860915014612811"
     }
    },
    "outputId": "668bb14b-917c-48b0-fb1f-7a92f8aec4ad",
    "cell_id": "00125-2065c8c5-f964-4af9-a127-8871cffd85d8",
    "deepnote_cell_type": "code"
   },
   "source": "print_range_squared(3,10)",
   "execution_count": null,
   "outputs": [
    {
     "output_type": "stream",
     "text": "Square of 3 is 9\nSquare of 5 is 25\nSquare of 7 is 49\nSquare of 9 is 81\n",
     "name": "stdout"
    }
   ]
  },
  {
   "cell_type": "markdown",
   "source": "## example - square even numbers",
   "metadata": {
    "id": "PsgZl3jreb01",
    "cell_id": "00126-09383f4e-cc83-4cbd-a21e-e647b674285f",
    "deepnote_cell_type": "markdown"
   }
  },
  {
   "cell_type": "markdown",
   "source": "We want to create a code that squares only even numbers in the range.\n\n`BREAK IT DOWN` | \n`BREAK IT DOWN` | \n`BREAK IT DOWN` | \n`BREAK IT DOWN` | \n`BREAK IT DOWN` \n\nFirst, let's start by squaring all numbers in range.",
   "metadata": {
    "id": "O1iwv05nlV9W",
    "cell_id": "00127-f6f70345-7032-470f-b39f-c1e0e51c5195",
    "deepnote_cell_type": "markdown"
   }
  },
  {
   "cell_type": "code",
   "metadata": {
    "id": "m8HcjixkPIUB",
    "colab": {
     "base_uri": "https://localhost:8080/",
     "height": 90
    },
    "executionInfo": {
     "status": "ok",
     "timestamp": 1600544643361,
     "user_tz": -60,
     "elapsed": 954,
     "user": {
      "displayName": "Sharmin Rouf",
      "photoUrl": "",
      "userId": "07014860915014612811"
     }
    },
    "outputId": "aba9bd43-6bb0-45dc-9169-c82351142ee4",
    "cell_id": "00128-cb342dae-c288-40b3-beb3-c071aa3c8570",
    "deepnote_cell_type": "code"
   },
   "source": "def even_squared(here,there):\n  for number in range(here,there):\n    print(f\"Square of {number} is\",np.power(number,2))\n\neven_squared(2,6)",
   "execution_count": null,
   "outputs": [
    {
     "output_type": "stream",
     "text": "Square of 2 is 4\nSquare of 3 is 9\nSquare of 4 is 16\nSquare of 5 is 25\n",
     "name": "stdout"
    }
   ]
  },
  {
   "cell_type": "markdown",
   "source": "Let's add and `if statement` that triggers if the current number is divisible by 2 with remainder 0. To obtain a remainder of the division we use a modulo `%`.",
   "metadata": {
    "id": "aM3PlMAlljDV",
    "cell_id": "00129-9069a71a-6fb4-4d69-b6db-40979b2a5156",
    "deepnote_cell_type": "markdown"
   }
  },
  {
   "cell_type": "code",
   "metadata": {
    "id": "sSXSBwePUIn6",
    "colab": {
     "base_uri": "https://localhost:8080/",
     "height": 127
    },
    "executionInfo": {
     "status": "ok",
     "timestamp": 1601596419642,
     "user_tz": -60,
     "elapsed": 692,
     "user": {
      "displayName": "Sharmin Rouf",
      "photoUrl": "",
      "userId": "07014860915014612811"
     }
    },
    "outputId": "55bacb0d-bffc-4096-f1f5-0c21dfd2ce75",
    "cell_id": "00130-9019159c-a1cb-48bf-bc67-c9b2c0e82740",
    "deepnote_cell_type": "code"
   },
   "source": "def even_squared(here,there):\n  for number in range(here,there): \n    if number % 2 == 0 : \n      print(f\"Square of {number} is\",np.power(number,2))\n\neven_squared(3,16)",
   "execution_count": null,
   "outputs": [
    {
     "output_type": "stream",
     "text": "Square of 4 is 16\nSquare of 6 is 36\nSquare of 8 is 64\nSquare of 10 is 100\nSquare of 12 is 144\nSquare of 14 is 196\n",
     "name": "stdout"
    }
   ]
  },
  {
   "cell_type": "markdown",
   "source": "Let's improve the code even further - by storing the odd numbers (numbers that were not squared) and printing them at the very end of the function.\n\n`BREAK IT DOWN`\n\n*   Create an empty list to store the odd values\n*   make sure the list is not emptied every loop\n*   create if - else statement, to get the odd numbers\n*   append the odd numbers to the list\n*   print the odd numbers at the end\n\n",
   "metadata": {
    "id": "YRzv0yb-mKYW",
    "cell_id": "00131-efc93bc6-1ba7-4547-bf06-f08f077e9cc3",
    "deepnote_cell_type": "markdown"
   }
  },
  {
   "cell_type": "code",
   "metadata": {
    "id": "1kVjPlLAU6HA",
    "colab": {
     "base_uri": "https://localhost:8080/"
    },
    "executionInfo": {
     "status": "ok",
     "timestamp": 1610270794164,
     "user_tz": 0,
     "elapsed": 649,
     "user": {
      "displayName": "Daniel Anton",
      "photoUrl": "",
      "userId": "07817160354765211624"
     }
    },
    "outputId": "6e1a1f18-cf46-4ace-c403-0660825ecd25",
    "cell_id": "00132-03ee253b-ffcd-415f-a014-43913f298ada",
    "deepnote_cell_type": "code"
   },
   "source": "def even_squared(here,there):  \n  print(f\"Starting value is {here}, End value is {there}\") \n  print()\n  empty_list = []                 # the empty list to store odd values, it is defined before the For Loop so that it is not emptied every iteration\n  for number in range(here,there): \n    if number % 2 == 0 :                                  # the % is used as a modulo that return remainder, here by 2 == 0 (true) making the even numbers true\n      print(f\"Square of {number} is\",np.power(number,2))\n    else :                                                # else statements is entered on iterations with numbers that did not enter if statement - non-even (odd)\n      empty_list.append(number)                           # the empty list is appended with the odd numbers\n  \n  print(f\"\\nOdd numbers not printed are {empty_list}\") \n  # indentation is important in how the code runs certain functions, like here we want the list to print at the end\n  # so we indent it at the same break as the For Loop function to avoid printing at every line of code\n\neven_squared(here = 1, there = 17)  \n# even_squared(1,17) is a synonym for the forumla above, shorthand  ",
   "execution_count": null,
   "outputs": [
    {
     "output_type": "stream",
     "text": "Starting value is 1 End value is 17\n\nSquare of 2 is 4\nSquare of 4 is 16\nSquare of 6 is 36\nSquare of 8 is 64\nSquare of 10 is 100\nSquare of 12 is 144\nSquare of 14 is 196\nSquare of 16 is 256\n\nOdd numbers not printed [1, 3, 5, 7, 9, 11, 13, 15]\n",
     "name": "stdout"
    }
   ]
  },
  {
   "cell_type": "markdown",
   "source": "<a style='text-decoration:none;line-height:16px;display:flex;color:#5B5B62;padding:10px;justify-content:end;' href='https://deepnote.com?utm_source=created-in-deepnote-cell&projectId=7d3ce7c8-a514-49e4-9ba4-a5899ac52ea5' target=\"_blank\">\n<img alt='Created in deepnote.com' style='display:inline;max-height:16px;margin:0px;margin-right:7.5px;' src='data:image/svg+xml;base64,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' > </img>\nCreated in <span style='font-weight:600;margin-left:4px;'>Deepnote</span></a>",
   "metadata": {
    "tags": [],
    "created_in_deepnote_cell": true,
    "deepnote_cell_type": "markdown"
   }
  }
 ],
 "nbformat": 4,
 "nbformat_minor": 0,
 "metadata": {
  "colab": {
   "name": "lesson_1 - programming.ipynb",
   "provenance": [
    {
     "file_id": "1YWe1LM5jFYSsuOFOPUDx2EglaI9s9VWn",
     "timestamp": 1600531778496
    }
   ],
   "collapsed_sections": [],
   "toc_visible": true
  },
  "kernelspec": {
   "name": "python3",
   "display_name": "Python 3"
  },
  "deepnote_notebook_id": "74970d55-03bf-4274-b098-1e513a5ad6d0",
  "deepnote": {},
  "deepnote_execution_queue": []
 }
}