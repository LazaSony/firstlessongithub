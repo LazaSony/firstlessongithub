{
 "cells": [
  {
   "cell_type": "code",
   "metadata": {
    "tags": [],
    "cell_id": "00000-4fbbdc14-4111-49f7-a13c-cb6d21cf18d4",
    "deepnote_to_be_reexecuted": false,
    "source_hash": "9b82ee11",
    "execution_start": 1627919716030,
    "execution_millis": 0,
    "deepnote_cell_type": "code"
   },
   "source": "import pandas as pd",
   "execution_count": null,
   "outputs": []
  },
  {
   "cell_type": "code",
   "metadata": {
    "tags": [],
    "cell_id": "00001-0097cecb-c767-4a81-974d-bd9e9fff3773",
    "deepnote_to_be_reexecuted": false,
    "source_hash": "57d94b8f",
    "execution_start": 1627919723395,
    "execution_millis": 2,
    "deepnote_cell_type": "code"
   },
   "source": "def print_date(date):\n    try:\n        len(date)\n        print(f\"{date.to_list()}\\ndate  - {date.day.to_list()}\\nmonth - {date.month.to_list()}\\nyear  - {date.year.to_list()}\")\n    except:\n        print(f\"{date}\\n\\ndate  - {date.day}\\nmonth - {date.month}\\nyear  - {date.year}\")",
   "execution_count": null,
   "outputs": []
  },
  {
   "cell_type": "code",
   "metadata": {
    "tags": [],
    "cell_id": "00002-9456723f-8e48-49f3-b1dd-cbcc25dab8b5",
    "deepnote_to_be_reexecuted": false,
    "source_hash": "4a69d182",
    "execution_start": 1627919892428,
    "execution_millis": 11,
    "deepnote_cell_type": "code"
   },
   "source": "date = pd.to_datetime('today')\n\nprint(date.year, date.month, date.day, date.hour, date.minute)",
   "execution_count": null,
   "outputs": [
    {
     "name": "stdout",
     "text": "2021 8 2 15 58\n",
     "output_type": "stream"
    }
   ]
  },
  {
   "cell_type": "markdown",
   "source": "# pd.to_datetime()",
   "metadata": {
    "tags": [],
    "is_collapsed": false,
    "cell_id": "00001-08d76255-82a3-4f07-abcc-1bacd8897853",
    "deepnote_cell_type": "text-cell-h1"
   }
  },
  {
   "cell_type": "markdown",
   "source": "It reads date by default as : (MM/DD,&nbsp;MM DD,&nbsp;or&nbsp;MM-DD)",
   "metadata": {
    "tags": [],
    "is_collapsed": false,
    "cell_id": "00004-f302d691-c92c-4d44-9a1a-799a950275fa",
    "deepnote_cell_type": "text-cell-p"
   }
  },
  {
   "cell_type": "code",
   "metadata": {
    "tags": [],
    "cell_id": "00001-0444162e-07c1-401f-865e-5e6d6bbe4390",
    "deepnote_to_be_reexecuted": false,
    "source_hash": "27682488",
    "execution_start": 1627920151167,
    "execution_millis": 6,
    "deepnote_cell_type": "code"
   },
   "source": "date = pd.to_datetime('2018-08-07 3:45pm') #, dayfirst=False - default\n\nprint_date(date)",
   "execution_count": null,
   "outputs": [
    {
     "name": "stdout",
     "text": "2018-08-07 15:45:00\n\ndate  - 7\nmonth - 8\nyear  - 2018\n",
     "output_type": "stream"
    }
   ]
  },
  {
   "cell_type": "code",
   "metadata": {
    "tags": [],
    "cell_id": "00004-1fb52d84-f0f9-449b-b969-462cf87ad549",
    "deepnote_to_be_reexecuted": false,
    "source_hash": "65993bfc",
    "execution_start": 1627920130839,
    "execution_millis": 1,
    "deepnote_cell_type": "code"
   },
   "source": "date = pd.to_datetime(['2018-01-05', '7/8/1952', 'October 1, 1995'])\n\nprint_date(date)",
   "execution_count": null,
   "outputs": [
    {
     "name": "stdout",
     "text": "[Timestamp('2018-01-05 00:00:00'), Timestamp('1952-07-08 00:00:00'), Timestamp('1995-10-01 00:00:00')]\ndate  - [5, 8, 1]\nmonth - [1, 7, 10]\nyear  - [2018, 1952, 1995]\n",
     "output_type": "stream"
    }
   ]
  },
  {
   "cell_type": "markdown",
   "source": "## , dayfirst=True",
   "metadata": {
    "tags": [],
    "is_collapsed": false,
    "cell_id": "00004-a994bab2-8769-4f80-bf13-9a87809e6035",
    "deepnote_cell_type": "text-cell-h2"
   }
  },
  {
   "cell_type": "code",
   "metadata": {
    "tags": [],
    "cell_id": "00003-bfaf3a80-554e-49df-8d47-061fca952c40",
    "deepnote_to_be_reexecuted": false,
    "source_hash": "34517cb9",
    "execution_start": 1627920194923,
    "execution_millis": 7,
    "deepnote_cell_type": "code"
   },
   "source": "date = pd.to_datetime('7/8/2018', dayfirst=True)\n\nprint_date(date)",
   "execution_count": null,
   "outputs": [
    {
     "name": "stdout",
     "text": "2018-08-07 00:00:00\n\ndate  - 7\nmonth - 8\nyear  - 2018\n",
     "output_type": "stream"
    }
   ]
  },
  {
   "cell_type": "code",
   "metadata": {
    "tags": [],
    "cell_id": "00007-14addc71-d990-41ba-a17d-a6a33e37e8c5",
    "deepnote_to_be_reexecuted": false,
    "source_hash": "bac96629",
    "execution_start": 1627920197367,
    "execution_millis": 6,
    "deepnote_cell_type": "code"
   },
   "source": "date = pd.to_datetime(['2018-9-1', '2018-9-1', '2018-9-1'], dayfirst=True)\n\nprint_date(date)",
   "execution_count": null,
   "outputs": [
    {
     "name": "stdout",
     "text": "[Timestamp('2018-09-01 00:00:00'), Timestamp('2018-09-01 00:00:00'), Timestamp('2018-09-01 00:00:00')]\ndate  - [1, 1, 1]\nmonth - [9, 9, 9]\nyear  - [2018, 2018, 2018]\n",
     "output_type": "stream"
    }
   ]
  },
  {
   "cell_type": "markdown",
   "source": "## , format='expression'",
   "metadata": {
    "tags": [],
    "is_collapsed": false,
    "cell_id": "00006-1761d2e0-f045-4410-9f77-e07285048516",
    "deepnote_cell_type": "text-cell-h2"
   }
  },
  {
   "cell_type": "markdown",
   "source": "### 2018-07-08",
   "metadata": {
    "tags": [],
    "is_collapsed": false,
    "cell_id": "00007-bc211975-3bd0-4dbd-b4da-4e360a2a49e4",
    "deepnote_cell_type": "text-cell-h3"
   }
  },
  {
   "cell_type": "code",
   "metadata": {
    "tags": [],
    "cell_id": "00007-ca095f3a-f748-4359-8d94-b0e08e729a8a",
    "deepnote_to_be_reexecuted": false,
    "source_hash": "b9478757",
    "execution_start": 1627920322731,
    "execution_millis": 9,
    "deepnote_cell_type": "code"
   },
   "source": "date = pd.to_datetime('2018-07-08', format='%Y-%d-%m')\n\nprint_date(date)",
   "execution_count": null,
   "outputs": [
    {
     "name": "stdout",
     "text": "2018-08-07 00:00:00\n\ndate  - 7\nmonth - 8\nyear  - 2018\n",
     "output_type": "stream"
    }
   ]
  },
  {
   "cell_type": "markdown",
   "source": "### 18-07-08  , %y     -%d-%m",
   "metadata": {
    "tags": [],
    "is_collapsed": false,
    "cell_id": "00009-3604a0ca-257c-4494-a491-cb32b212e3b2",
    "deepnote_cell_type": "text-cell-h3"
   }
  },
  {
   "cell_type": "code",
   "metadata": {
    "tags": [],
    "cell_id": "00008-2f231e11-8d86-44fc-a11d-0e46b3ef8294",
    "deepnote_to_be_reexecuted": false,
    "source_hash": "17adc9ab",
    "execution_start": 1627920390581,
    "execution_millis": 6,
    "deepnote_cell_type": "code"
   },
   "source": "date = pd.to_datetime('18-07-08', format='%y-%d-%m') # notice '%y' is lowercase since year is in 2-last digits format.\n\nprint_date(date)",
   "execution_count": null,
   "outputs": [
    {
     "name": "stdout",
     "text": "2018-08-07 00:00:00\n\ndate  - 7\nmonth - 8\nyear  - 2018\n",
     "output_type": "stream"
    }
   ]
  },
  {
   "cell_type": "code",
   "metadata": {
    "tags": [],
    "cell_id": "00011-d0ef23d5-31e4-4174-8c11-d525fa1facd1",
    "deepnote_to_be_reexecuted": false,
    "source_hash": "218b0ae",
    "execution_start": 1627920423626,
    "execution_millis": 5,
    "deepnote_cell_type": "code"
   },
   "source": "date = pd.to_datetime(['2/25/10', '8/6/17', '12/15/12'], format='%m/%d/%y')\n\nprint_date(date)",
   "execution_count": null,
   "outputs": [
    {
     "name": "stdout",
     "text": "[Timestamp('2010-02-25 00:00:00'), Timestamp('2017-08-06 00:00:00'), Timestamp('2012-12-15 00:00:00')]\ndate  - [25, 6, 15]\nmonth - [2, 8, 12]\nyear  - [2010, 2017, 2012]\n",
     "output_type": "stream"
    }
   ]
  },
  {
   "cell_type": "markdown",
   "source": "### 1918/07/08  ,  %Y     -%d-%m",
   "metadata": {
    "tags": [],
    "is_collapsed": false,
    "cell_id": "00011-b0d47be0-845f-410e-b346-4c9993300372",
    "deepnote_cell_type": "text-cell-h3"
   }
  },
  {
   "cell_type": "code",
   "metadata": {
    "tags": [],
    "cell_id": "00012-ce5aba21-8a95-4477-9938-31f2b622778d",
    "deepnote_to_be_reexecuted": false,
    "source_hash": "66296ad3",
    "execution_start": 1627920439542,
    "execution_millis": 10,
    "deepnote_cell_type": "code"
   },
   "source": "date = pd.to_datetime('1918/07/08', format='%Y/%d/%m')\n\nprint_date(date)",
   "execution_count": null,
   "outputs": [
    {
     "name": "stdout",
     "text": "1918-08-07 00:00:00\n\ndate  - 7\nmonth - 8\nyear  - 1918\n",
     "output_type": "stream"
    }
   ]
  },
  {
   "cell_type": "markdown",
   "source": "### 1918/07/08 20:30:12",
   "metadata": {
    "tags": [],
    "is_collapsed": false,
    "cell_id": "00017-ac16555a-359f-42d2-b59d-a342d2dcbdf6",
    "deepnote_cell_type": "text-cell-h3"
   }
  },
  {
   "cell_type": "code",
   "metadata": {
    "tags": [],
    "cell_id": "00018-65d27e7e-c9b4-47c3-9c4e-0bd1b9c7893c",
    "deepnote_to_be_reexecuted": false,
    "source_hash": "2d8a2f92",
    "execution_start": 1627920517314,
    "execution_millis": 7,
    "deepnote_cell_type": "code"
   },
   "source": "date = pd.to_datetime('1918/07/08 20:30:12', format=\"%Y/%d/%m %H:%M:%S\")\n\nprint_date(date)\nprint(f\"hour  - {date.hour}\\nmin   - {date.minute}\\nsec   - {date.second}\")",
   "execution_count": null,
   "outputs": [
    {
     "name": "stdout",
     "text": "1918-08-07 20:30:12\n\ndate  - 7\nmonth - 8\nyear  - 1918\nhour  - 20\nmin   - 30\nsec   - 12\n",
     "output_type": "stream"
    }
   ]
  },
  {
   "cell_type": "code",
   "metadata": {
    "tags": [],
    "cell_id": "00019-870788b7-f473-449c-af63-191c67b0769f",
    "deepnote_to_be_reexecuted": false,
    "source_hash": "1488044f",
    "execution_start": 1627920665293,
    "execution_millis": 9,
    "deepnote_cell_type": "code"
   },
   "source": "df = pd.DataFrame({'date': ['2016-16-10 20:30:0',\n                            '2016-7-1 19:45:30', \n                            '2013-10-12 4:5:1'],\n                   'value': [2, 3, 4]})\ndf['date'] = pd.to_datetime(df['date'], format=\"%Y-%d-%m %H:%M:%S\")\ndf",
   "execution_count": null,
   "outputs": [
    {
     "output_type": "execute_result",
     "execution_count": 71,
     "data": {
      "application/vnd.deepnote.dataframe.v2+json": {
       "row_count": 3,
       "column_count": 2,
       "columns": [
        {
         "name": "date",
         "dtype": "datetime64[ns]",
         "stats": {
          "unique_count": 3,
          "nan_count": 0,
          "min": "2013-12-10 04:05:01",
          "max": "2016-10-16 20:30:00",
          "histogram": [
           {
            "bin_start": 1386648301000000000,
            "bin_end": 1395648450900000000,
            "count": 1
           },
           {
            "bin_start": 1395648450900000000,
            "bin_end": 1404648600800000000,
            "count": 0
           },
           {
            "bin_start": 1404648600800000000,
            "bin_end": 1413648750700000000,
            "count": 0
           },
           {
            "bin_start": 1413648750700000000,
            "bin_end": 1422648900600000000,
            "count": 0
           },
           {
            "bin_start": 1422648900600000000,
            "bin_end": 1431649050500000000,
            "count": 0
           },
           {
            "bin_start": 1431649050500000000,
            "bin_end": 1440649200400000000,
            "count": 0
           },
           {
            "bin_start": 1440649200400000000,
            "bin_end": 1449649350300000000,
            "count": 0
           },
           {
            "bin_start": 1449649350300000000,
            "bin_end": 1458649500200000000,
            "count": 1
           },
           {
            "bin_start": 1458649500200000000,
            "bin_end": 1467649650100000000,
            "count": 0
           },
           {
            "bin_start": 1467649650100000000,
            "bin_end": 1476649800000000000,
            "count": 1
           }
          ]
         }
        },
        {
         "name": "value",
         "dtype": "int64",
         "stats": {
          "unique_count": 3,
          "nan_count": 0,
          "min": "2",
          "max": "4",
          "histogram": [
           {
            "bin_start": 2,
            "bin_end": 2.2,
            "count": 1
           },
           {
            "bin_start": 2.2,
            "bin_end": 2.4,
            "count": 0
           },
           {
            "bin_start": 2.4,
            "bin_end": 2.6,
            "count": 0
           },
           {
            "bin_start": 2.6,
            "bin_end": 2.8,
            "count": 0
           },
           {
            "bin_start": 2.8,
            "bin_end": 3,
            "count": 0
           },
           {
            "bin_start": 3,
            "bin_end": 3.2,
            "count": 1
           },
           {
            "bin_start": 3.2,
            "bin_end": 3.4000000000000004,
            "count": 0
           },
           {
            "bin_start": 3.4000000000000004,
            "bin_end": 3.6,
            "count": 0
           },
           {
            "bin_start": 3.6,
            "bin_end": 3.8,
            "count": 0
           },
           {
            "bin_start": 3.8,
            "bin_end": 4,
            "count": 1
           }
          ]
         }
        },
        {
         "name": "_deepnote_index_column",
         "dtype": "int64"
        }
       ],
       "rows_top": [
        {
         "date": "2016-10-16T20:30:00.000000",
         "value": 2,
         "_deepnote_index_column": 0
        },
        {
         "date": "2016-01-07T19:45:30.000000",
         "value": 3,
         "_deepnote_index_column": 1
        },
        {
         "date": "2013-12-10T04:05:01.000000",
         "value": 4,
         "_deepnote_index_column": 2
        }
       ],
       "rows_bottom": null
      },
      "text/plain": "                 date  value\n0 2016-10-16 20:30:00      2\n1 2016-01-07 19:45:30      3\n2 2013-12-10 04:05:01      4",
      "text/html": "<div>\n<style scoped>\n    .dataframe tbody tr th:only-of-type {\n        vertical-align: middle;\n    }\n\n    .dataframe tbody tr th {\n        vertical-align: top;\n    }\n\n    .dataframe thead th {\n        text-align: right;\n    }\n</style>\n<table border=\"1\" class=\"dataframe\">\n  <thead>\n    <tr style=\"text-align: right;\">\n      <th></th>\n      <th>date</th>\n      <th>value</th>\n    </tr>\n  </thead>\n  <tbody>\n    <tr>\n      <th>0</th>\n      <td>2016-10-16 20:30:00</td>\n      <td>2</td>\n    </tr>\n    <tr>\n      <th>1</th>\n      <td>2016-01-07 19:45:30</td>\n      <td>3</td>\n    </tr>\n    <tr>\n      <th>2</th>\n      <td>2013-12-10 04:05:01</td>\n      <td>4</td>\n    </tr>\n  </tbody>\n</table>\n</div>"
     },
     "metadata": {}
    }
   ]
  },
  {
   "cell_type": "markdown",
   "source": "## EPOCH (UNIX) TIME",
   "metadata": {
    "tags": [],
    "is_collapsed": false,
    "cell_id": "00021-5a5a055d-229e-4c7e-ad16-515aa1c1943a",
    "deepnote_cell_type": "text-cell-h2"
   }
  },
  {
   "cell_type": "markdown",
   "source": "Number of seconds that have elapsed since 00:00:00 Coordinated Universal Time (UTC), Thursday, 1 January 1970",
   "metadata": {
    "tags": [],
    "is_collapsed": false,
    "cell_id": "00022-73b21034-9e4e-47ef-bc85-637813c17a96",
    "deepnote_cell_type": "text-cell-p"
   }
  },
  {
   "cell_type": "markdown",
   "source": "Using Unix time helps to disambiguate time stamps so that we don’t get confused by time zones, daylight savings time, etc.",
   "metadata": {
    "tags": [],
    "is_collapsed": false,
    "cell_id": "00023-3928d416-074b-4730-885b-b294dfb2cf48",
    "deepnote_cell_type": "text-cell-p"
   }
  },
  {
   "cell_type": "code",
   "metadata": {
    "tags": [],
    "cell_id": "00022-3af8d07a-3097-4d1b-a2e0-d5a2db1b3c7c",
    "deepnote_to_be_reexecuted": false,
    "source_hash": "aa17104d",
    "execution_start": 1627920871203,
    "execution_millis": 9,
    "deepnote_cell_type": "code"
   },
   "source": "epoch_t = 1627920826\nreal_t = pd.to_datetime(epoch_t, unit='s')\nreal_t",
   "execution_count": null,
   "outputs": [
    {
     "output_type": "execute_result",
     "execution_count": 82,
     "data": {
      "text/plain": "Timestamp('2021-08-02 16:13:46')"
     },
     "metadata": {}
    }
   ]
  },
  {
   "cell_type": "markdown",
   "source": "### timezone",
   "metadata": {
    "tags": [],
    "is_collapsed": false,
    "cell_id": "00025-befd6c87-4d59-4e7e-8f35-c8e0b542da54",
    "deepnote_cell_type": "text-cell-h3"
   }
  },
  {
   "cell_type": "code",
   "metadata": {
    "tags": [],
    "cell_id": "00025-92e540d4-a136-460c-8f0c-a8f199eb0b1c",
    "deepnote_to_be_reexecuted": false,
    "source_hash": "a1257b10",
    "execution_start": 1627920926058,
    "execution_millis": 830,
    "deepnote_cell_type": "code"
   },
   "source": "real_t.tz_localize('UTC').tz_convert('CET') # central european time",
   "execution_count": null,
   "outputs": [
    {
     "output_type": "execute_result",
     "execution_count": 83,
     "data": {
      "text/plain": "Timestamp('2021-08-02 18:13:46+0200', tz='CET')"
     },
     "metadata": {}
    }
   ]
  },
  {
   "cell_type": "markdown",
   "source": "# ERRORS",
   "metadata": {
    "tags": [],
    "is_collapsed": false,
    "cell_id": "00021-74625bfe-78c2-4bdf-bedc-a56e3d21d33f",
    "deepnote_cell_type": "text-cell-h1"
   }
  },
  {
   "cell_type": "code",
   "metadata": {
    "tags": [],
    "cell_id": "00022-682b2d70-bd46-4625-8592-275bd0c10340",
    "deepnote_to_be_reexecuted": false,
    "source_hash": "e8e3dc32",
    "execution_start": 1627920967541,
    "execution_millis": 38,
    "deepnote_cell_type": "code"
   },
   "source": "df = pd.DataFrame({'date': ['3/10/2000', 'a/11/2000', '3/12/2000'],\n                   'value': [2, 3, 4]})\ndf['date'] = pd.to_datetime(df['date'])\ndf",
   "execution_count": null,
   "outputs": [
    {
     "output_type": "error",
     "ename": "ParserError",
     "evalue": "Unknown string format: a/11/2000",
     "traceback": [
      "\u001b[0;31m---------------------------------------------------------------------------\u001b[0m",
      "\u001b[0;31mTypeError\u001b[0m                                 Traceback (most recent call last)",
      "\u001b[0;32m/shared-libs/python3.7/py/lib/python3.7/site-packages/pandas/core/arrays/datetimes.py\u001b[0m in \u001b[0;36mobjects_to_datetime64ns\u001b[0;34m(data, dayfirst, yearfirst, utc, errors, require_iso8601, allow_object)\u001b[0m\n\u001b[1;32m   2084\u001b[0m         \u001b[0;32mtry\u001b[0m\u001b[0;34m:\u001b[0m\u001b[0;34m\u001b[0m\u001b[0;34m\u001b[0m\u001b[0m\n\u001b[0;32m-> 2085\u001b[0;31m             \u001b[0mvalues\u001b[0m\u001b[0;34m,\u001b[0m \u001b[0mtz_parsed\u001b[0m \u001b[0;34m=\u001b[0m \u001b[0mconversion\u001b[0m\u001b[0;34m.\u001b[0m\u001b[0mdatetime_to_datetime64\u001b[0m\u001b[0;34m(\u001b[0m\u001b[0mdata\u001b[0m\u001b[0;34m)\u001b[0m\u001b[0;34m\u001b[0m\u001b[0;34m\u001b[0m\u001b[0m\n\u001b[0m\u001b[1;32m   2086\u001b[0m             \u001b[0;31m# If tzaware, these values represent unix timestamps, so we\u001b[0m\u001b[0;34m\u001b[0m\u001b[0;34m\u001b[0m\u001b[0;34m\u001b[0m\u001b[0m\n",
      "\u001b[0;32mpandas/_libs/tslibs/conversion.pyx\u001b[0m in \u001b[0;36mpandas._libs.tslibs.conversion.datetime_to_datetime64\u001b[0;34m()\u001b[0m\n",
      "\u001b[0;31mTypeError\u001b[0m: Unrecognized value type: <class 'str'>",
      "\nDuring handling of the above exception, another exception occurred:\n",
      "\u001b[0;31mParserError\u001b[0m                               Traceback (most recent call last)",
      "\u001b[0;32m/tmp/ipykernel_73/365847961.py\u001b[0m in \u001b[0;36m<module>\u001b[0;34m\u001b[0m\n\u001b[1;32m      1\u001b[0m df = pd.DataFrame({'date': ['3/10/2000', 'a/11/2000', '3/12/2000'],\n\u001b[1;32m      2\u001b[0m                    'value': [2, 3, 4]})\n\u001b[0;32m----> 3\u001b[0;31m \u001b[0mdf\u001b[0m\u001b[0;34m[\u001b[0m\u001b[0;34m'date'\u001b[0m\u001b[0;34m]\u001b[0m \u001b[0;34m=\u001b[0m \u001b[0mpd\u001b[0m\u001b[0;34m.\u001b[0m\u001b[0mto_datetime\u001b[0m\u001b[0;34m(\u001b[0m\u001b[0mdf\u001b[0m\u001b[0;34m[\u001b[0m\u001b[0;34m'date'\u001b[0m\u001b[0;34m]\u001b[0m\u001b[0;34m)\u001b[0m\u001b[0;34m\u001b[0m\u001b[0;34m\u001b[0m\u001b[0m\n\u001b[0m\u001b[1;32m      4\u001b[0m \u001b[0mdf\u001b[0m\u001b[0;34m\u001b[0m\u001b[0;34m\u001b[0m\u001b[0m\n",
      "\u001b[0;32m/shared-libs/python3.7/py/lib/python3.7/site-packages/pandas/core/tools/datetimes.py\u001b[0m in \u001b[0;36mto_datetime\u001b[0;34m(arg, errors, dayfirst, yearfirst, utc, format, exact, unit, infer_datetime_format, origin, cache)\u001b[0m\n\u001b[1;32m    803\u001b[0m             \u001b[0mresult\u001b[0m \u001b[0;34m=\u001b[0m \u001b[0marg\u001b[0m\u001b[0;34m.\u001b[0m\u001b[0mmap\u001b[0m\u001b[0;34m(\u001b[0m\u001b[0mcache_array\u001b[0m\u001b[0;34m)\u001b[0m\u001b[0;34m\u001b[0m\u001b[0;34m\u001b[0m\u001b[0m\n\u001b[1;32m    804\u001b[0m         \u001b[0;32melse\u001b[0m\u001b[0;34m:\u001b[0m\u001b[0;34m\u001b[0m\u001b[0;34m\u001b[0m\u001b[0m\n\u001b[0;32m--> 805\u001b[0;31m             \u001b[0mvalues\u001b[0m \u001b[0;34m=\u001b[0m \u001b[0mconvert_listlike\u001b[0m\u001b[0;34m(\u001b[0m\u001b[0marg\u001b[0m\u001b[0;34m.\u001b[0m\u001b[0m_values\u001b[0m\u001b[0;34m,\u001b[0m \u001b[0mformat\u001b[0m\u001b[0;34m)\u001b[0m\u001b[0;34m\u001b[0m\u001b[0;34m\u001b[0m\u001b[0m\n\u001b[0m\u001b[1;32m    806\u001b[0m             \u001b[0mresult\u001b[0m \u001b[0;34m=\u001b[0m \u001b[0marg\u001b[0m\u001b[0;34m.\u001b[0m\u001b[0m_constructor\u001b[0m\u001b[0;34m(\u001b[0m\u001b[0mvalues\u001b[0m\u001b[0;34m,\u001b[0m \u001b[0mindex\u001b[0m\u001b[0;34m=\u001b[0m\u001b[0marg\u001b[0m\u001b[0;34m.\u001b[0m\u001b[0mindex\u001b[0m\u001b[0;34m,\u001b[0m \u001b[0mname\u001b[0m\u001b[0;34m=\u001b[0m\u001b[0marg\u001b[0m\u001b[0;34m.\u001b[0m\u001b[0mname\u001b[0m\u001b[0;34m)\u001b[0m\u001b[0;34m\u001b[0m\u001b[0;34m\u001b[0m\u001b[0m\n\u001b[1;32m    807\u001b[0m     \u001b[0;32melif\u001b[0m \u001b[0misinstance\u001b[0m\u001b[0;34m(\u001b[0m\u001b[0marg\u001b[0m\u001b[0;34m,\u001b[0m \u001b[0;34m(\u001b[0m\u001b[0mABCDataFrame\u001b[0m\u001b[0;34m,\u001b[0m \u001b[0mabc\u001b[0m\u001b[0;34m.\u001b[0m\u001b[0mMutableMapping\u001b[0m\u001b[0;34m)\u001b[0m\u001b[0;34m)\u001b[0m\u001b[0;34m:\u001b[0m\u001b[0;34m\u001b[0m\u001b[0;34m\u001b[0m\u001b[0m\n",
      "\u001b[0;32m/shared-libs/python3.7/py/lib/python3.7/site-packages/pandas/core/tools/datetimes.py\u001b[0m in \u001b[0;36m_convert_listlike_datetimes\u001b[0;34m(arg, format, name, tz, unit, errors, infer_datetime_format, dayfirst, yearfirst, exact)\u001b[0m\n\u001b[1;32m    470\u001b[0m             \u001b[0merrors\u001b[0m\u001b[0;34m=\u001b[0m\u001b[0merrors\u001b[0m\u001b[0;34m,\u001b[0m\u001b[0;34m\u001b[0m\u001b[0;34m\u001b[0m\u001b[0m\n\u001b[1;32m    471\u001b[0m             \u001b[0mrequire_iso8601\u001b[0m\u001b[0;34m=\u001b[0m\u001b[0mrequire_iso8601\u001b[0m\u001b[0;34m,\u001b[0m\u001b[0;34m\u001b[0m\u001b[0;34m\u001b[0m\u001b[0m\n\u001b[0;32m--> 472\u001b[0;31m             \u001b[0mallow_object\u001b[0m\u001b[0;34m=\u001b[0m\u001b[0;32mTrue\u001b[0m\u001b[0;34m,\u001b[0m\u001b[0;34m\u001b[0m\u001b[0;34m\u001b[0m\u001b[0m\n\u001b[0m\u001b[1;32m    473\u001b[0m         )\n\u001b[1;32m    474\u001b[0m \u001b[0;34m\u001b[0m\u001b[0m\n",
      "\u001b[0;32m/shared-libs/python3.7/py/lib/python3.7/site-packages/pandas/core/arrays/datetimes.py\u001b[0m in \u001b[0;36mobjects_to_datetime64ns\u001b[0;34m(data, dayfirst, yearfirst, utc, errors, require_iso8601, allow_object)\u001b[0m\n\u001b[1;32m   2088\u001b[0m             \u001b[0;32mreturn\u001b[0m \u001b[0mvalues\u001b[0m\u001b[0;34m.\u001b[0m\u001b[0mview\u001b[0m\u001b[0;34m(\u001b[0m\u001b[0;34m\"i8\"\u001b[0m\u001b[0;34m)\u001b[0m\u001b[0;34m,\u001b[0m \u001b[0mtz_parsed\u001b[0m\u001b[0;34m\u001b[0m\u001b[0;34m\u001b[0m\u001b[0m\n\u001b[1;32m   2089\u001b[0m         \u001b[0;32mexcept\u001b[0m \u001b[0;34m(\u001b[0m\u001b[0mValueError\u001b[0m\u001b[0;34m,\u001b[0m \u001b[0mTypeError\u001b[0m\u001b[0;34m)\u001b[0m\u001b[0;34m:\u001b[0m\u001b[0;34m\u001b[0m\u001b[0;34m\u001b[0m\u001b[0m\n\u001b[0;32m-> 2090\u001b[0;31m             \u001b[0;32mraise\u001b[0m \u001b[0me\u001b[0m\u001b[0;34m\u001b[0m\u001b[0;34m\u001b[0m\u001b[0m\n\u001b[0m\u001b[1;32m   2091\u001b[0m \u001b[0;34m\u001b[0m\u001b[0m\n\u001b[1;32m   2092\u001b[0m     \u001b[0;32mif\u001b[0m \u001b[0mtz_parsed\u001b[0m \u001b[0;32mis\u001b[0m \u001b[0;32mnot\u001b[0m \u001b[0;32mNone\u001b[0m\u001b[0;34m:\u001b[0m\u001b[0;34m\u001b[0m\u001b[0;34m\u001b[0m\u001b[0m\n",
      "\u001b[0;32m/shared-libs/python3.7/py/lib/python3.7/site-packages/pandas/core/arrays/datetimes.py\u001b[0m in \u001b[0;36mobjects_to_datetime64ns\u001b[0;34m(data, dayfirst, yearfirst, utc, errors, require_iso8601, allow_object)\u001b[0m\n\u001b[1;32m   2079\u001b[0m             \u001b[0mdayfirst\u001b[0m\u001b[0;34m=\u001b[0m\u001b[0mdayfirst\u001b[0m\u001b[0;34m,\u001b[0m\u001b[0;34m\u001b[0m\u001b[0;34m\u001b[0m\u001b[0m\n\u001b[1;32m   2080\u001b[0m             \u001b[0myearfirst\u001b[0m\u001b[0;34m=\u001b[0m\u001b[0myearfirst\u001b[0m\u001b[0;34m,\u001b[0m\u001b[0;34m\u001b[0m\u001b[0;34m\u001b[0m\u001b[0m\n\u001b[0;32m-> 2081\u001b[0;31m             \u001b[0mrequire_iso8601\u001b[0m\u001b[0;34m=\u001b[0m\u001b[0mrequire_iso8601\u001b[0m\u001b[0;34m,\u001b[0m\u001b[0;34m\u001b[0m\u001b[0;34m\u001b[0m\u001b[0m\n\u001b[0m\u001b[1;32m   2082\u001b[0m         )\n\u001b[1;32m   2083\u001b[0m     \u001b[0;32mexcept\u001b[0m \u001b[0mValueError\u001b[0m \u001b[0;32mas\u001b[0m \u001b[0me\u001b[0m\u001b[0;34m:\u001b[0m\u001b[0;34m\u001b[0m\u001b[0;34m\u001b[0m\u001b[0m\n",
      "\u001b[0;32mpandas/_libs/tslib.pyx\u001b[0m in \u001b[0;36mpandas._libs.tslib.array_to_datetime\u001b[0;34m()\u001b[0m\n",
      "\u001b[0;32mpandas/_libs/tslib.pyx\u001b[0m in \u001b[0;36mpandas._libs.tslib.array_to_datetime\u001b[0;34m()\u001b[0m\n",
      "\u001b[0;32mpandas/_libs/tslib.pyx\u001b[0m in \u001b[0;36mpandas._libs.tslib.array_to_datetime_object\u001b[0;34m()\u001b[0m\n",
      "\u001b[0;32mpandas/_libs/tslib.pyx\u001b[0m in \u001b[0;36mpandas._libs.tslib.array_to_datetime_object\u001b[0;34m()\u001b[0m\n",
      "\u001b[0;32mpandas/_libs/tslibs/parsing.pyx\u001b[0m in \u001b[0;36mpandas._libs.tslibs.parsing.parse_datetime_string\u001b[0;34m()\u001b[0m\n",
      "\u001b[0;32m/shared-libs/python3.7/py-core/lib/python3.7/site-packages/dateutil/parser/_parser.py\u001b[0m in \u001b[0;36mparse\u001b[0;34m(timestr, parserinfo, **kwargs)\u001b[0m\n\u001b[1;32m   1366\u001b[0m         \u001b[0;32mreturn\u001b[0m \u001b[0mparser\u001b[0m\u001b[0;34m(\u001b[0m\u001b[0mparserinfo\u001b[0m\u001b[0;34m)\u001b[0m\u001b[0;34m.\u001b[0m\u001b[0mparse\u001b[0m\u001b[0;34m(\u001b[0m\u001b[0mtimestr\u001b[0m\u001b[0;34m,\u001b[0m \u001b[0;34m**\u001b[0m\u001b[0mkwargs\u001b[0m\u001b[0;34m)\u001b[0m\u001b[0;34m\u001b[0m\u001b[0;34m\u001b[0m\u001b[0m\n\u001b[1;32m   1367\u001b[0m     \u001b[0;32melse\u001b[0m\u001b[0;34m:\u001b[0m\u001b[0;34m\u001b[0m\u001b[0;34m\u001b[0m\u001b[0m\n\u001b[0;32m-> 1368\u001b[0;31m         \u001b[0;32mreturn\u001b[0m \u001b[0mDEFAULTPARSER\u001b[0m\u001b[0;34m.\u001b[0m\u001b[0mparse\u001b[0m\u001b[0;34m(\u001b[0m\u001b[0mtimestr\u001b[0m\u001b[0;34m,\u001b[0m \u001b[0;34m**\u001b[0m\u001b[0mkwargs\u001b[0m\u001b[0;34m)\u001b[0m\u001b[0;34m\u001b[0m\u001b[0;34m\u001b[0m\u001b[0m\n\u001b[0m\u001b[1;32m   1369\u001b[0m \u001b[0;34m\u001b[0m\u001b[0m\n\u001b[1;32m   1370\u001b[0m \u001b[0;34m\u001b[0m\u001b[0m\n",
      "\u001b[0;32m/shared-libs/python3.7/py-core/lib/python3.7/site-packages/dateutil/parser/_parser.py\u001b[0m in \u001b[0;36mparse\u001b[0;34m(self, timestr, default, ignoretz, tzinfos, **kwargs)\u001b[0m\n\u001b[1;32m    641\u001b[0m \u001b[0;34m\u001b[0m\u001b[0m\n\u001b[1;32m    642\u001b[0m         \u001b[0;32mif\u001b[0m \u001b[0mres\u001b[0m \u001b[0;32mis\u001b[0m \u001b[0;32mNone\u001b[0m\u001b[0;34m:\u001b[0m\u001b[0;34m\u001b[0m\u001b[0;34m\u001b[0m\u001b[0m\n\u001b[0;32m--> 643\u001b[0;31m             \u001b[0;32mraise\u001b[0m \u001b[0mParserError\u001b[0m\u001b[0;34m(\u001b[0m\u001b[0;34m\"Unknown string format: %s\"\u001b[0m\u001b[0;34m,\u001b[0m \u001b[0mtimestr\u001b[0m\u001b[0;34m)\u001b[0m\u001b[0;34m\u001b[0m\u001b[0;34m\u001b[0m\u001b[0m\n\u001b[0m\u001b[1;32m    644\u001b[0m \u001b[0;34m\u001b[0m\u001b[0m\n\u001b[1;32m    645\u001b[0m         \u001b[0;32mif\u001b[0m \u001b[0mlen\u001b[0m\u001b[0;34m(\u001b[0m\u001b[0mres\u001b[0m\u001b[0;34m)\u001b[0m \u001b[0;34m==\u001b[0m \u001b[0;36m0\u001b[0m\u001b[0;34m:\u001b[0m\u001b[0;34m\u001b[0m\u001b[0;34m\u001b[0m\u001b[0m\n",
      "\u001b[0;31mParserError\u001b[0m: Unknown string format: a/11/2000"
     ]
    }
   ]
  },
  {
   "cell_type": "markdown",
   "source": "### 'ignore'",
   "metadata": {
    "tags": [],
    "is_collapsed": false,
    "cell_id": "00022-e2fd869c-c7cc-4aeb-9b0e-ab5859822537",
    "deepnote_cell_type": "text-cell-h3"
   }
  },
  {
   "cell_type": "code",
   "metadata": {
    "tags": [],
    "cell_id": "00023-499278a4-0df3-4a04-9ac9-e4ca6942b97b",
    "deepnote_to_be_reexecuted": false,
    "source_hash": "2a1fa970",
    "execution_start": 1627920990862,
    "execution_millis": 10,
    "deepnote_cell_type": "code"
   },
   "source": "df = pd.DataFrame({'date': ['3/10/2000', 'a/11/2000', '3/12/2000'],\n                   'value': [2, 3, 4]})\ndf['date'] = pd.to_datetime(df['date'], errors='ignore')\ndf",
   "execution_count": null,
   "outputs": [
    {
     "output_type": "execute_result",
     "execution_count": 88,
     "data": {
      "application/vnd.deepnote.dataframe.v2+json": {
       "row_count": 3,
       "column_count": 2,
       "columns": [
        {
         "name": "date",
         "dtype": "object",
         "stats": {
          "unique_count": 3,
          "nan_count": 0,
          "categories": [
           {
            "name": "3/10/2000",
            "count": 1
           },
           {
            "name": "a/11/2000",
            "count": 1
           },
           {
            "name": "3/12/2000",
            "count": 1
           }
          ]
         }
        },
        {
         "name": "value",
         "dtype": "int64",
         "stats": {
          "unique_count": 3,
          "nan_count": 0,
          "min": "2",
          "max": "4",
          "histogram": [
           {
            "bin_start": 2,
            "bin_end": 2.2,
            "count": 1
           },
           {
            "bin_start": 2.2,
            "bin_end": 2.4,
            "count": 0
           },
           {
            "bin_start": 2.4,
            "bin_end": 2.6,
            "count": 0
           },
           {
            "bin_start": 2.6,
            "bin_end": 2.8,
            "count": 0
           },
           {
            "bin_start": 2.8,
            "bin_end": 3,
            "count": 0
           },
           {
            "bin_start": 3,
            "bin_end": 3.2,
            "count": 1
           },
           {
            "bin_start": 3.2,
            "bin_end": 3.4000000000000004,
            "count": 0
           },
           {
            "bin_start": 3.4000000000000004,
            "bin_end": 3.6,
            "count": 0
           },
           {
            "bin_start": 3.6,
            "bin_end": 3.8,
            "count": 0
           },
           {
            "bin_start": 3.8,
            "bin_end": 4,
            "count": 1
           }
          ]
         }
        },
        {
         "name": "_deepnote_index_column",
         "dtype": "int64"
        }
       ],
       "rows_top": [
        {
         "date": "3/10/2000",
         "value": 2,
         "_deepnote_index_column": 0
        },
        {
         "date": "a/11/2000",
         "value": 3,
         "_deepnote_index_column": 1
        },
        {
         "date": "3/12/2000",
         "value": 4,
         "_deepnote_index_column": 2
        }
       ],
       "rows_bottom": null
      },
      "text/plain": "        date  value\n0  3/10/2000      2\n1  a/11/2000      3\n2  3/12/2000      4",
      "text/html": "<div>\n<style scoped>\n    .dataframe tbody tr th:only-of-type {\n        vertical-align: middle;\n    }\n\n    .dataframe tbody tr th {\n        vertical-align: top;\n    }\n\n    .dataframe thead th {\n        text-align: right;\n    }\n</style>\n<table border=\"1\" class=\"dataframe\">\n  <thead>\n    <tr style=\"text-align: right;\">\n      <th></th>\n      <th>date</th>\n      <th>value</th>\n    </tr>\n  </thead>\n  <tbody>\n    <tr>\n      <th>0</th>\n      <td>3/10/2000</td>\n      <td>2</td>\n    </tr>\n    <tr>\n      <th>1</th>\n      <td>a/11/2000</td>\n      <td>3</td>\n    </tr>\n    <tr>\n      <th>2</th>\n      <td>3/12/2000</td>\n      <td>4</td>\n    </tr>\n  </tbody>\n</table>\n</div>"
     },
     "metadata": {}
    }
   ]
  },
  {
   "cell_type": "markdown",
   "source": "### 'coerce'",
   "metadata": {
    "tags": [],
    "is_collapsed": false,
    "cell_id": "00023-3467cac4-4492-44b0-8609-1e5cfef493f4",
    "deepnote_cell_type": "text-cell-h3"
   }
  },
  {
   "cell_type": "code",
   "metadata": {
    "tags": [],
    "cell_id": "00024-9185c1aa-2d8a-4668-8114-43f605a9304a",
    "deepnote_to_be_reexecuted": false,
    "source_hash": "e87a30d8",
    "execution_start": 1627921081782,
    "execution_millis": 7,
    "deepnote_cell_type": "code"
   },
   "source": "df = pd.DataFrame({'date': ['3/10/2000', 'a/11/2000', '3/12/2000'],\n                   'value': [2, 3, 4]})\ndf['date'] = pd.to_datetime(df['date'], errors='coerce')\ndf",
   "execution_count": null,
   "outputs": [
    {
     "output_type": "execute_result",
     "execution_count": 95,
     "data": {
      "application/vnd.deepnote.dataframe.v2+json": {
       "row_count": 3,
       "column_count": 2,
       "columns": [
        {
         "name": "date",
         "dtype": "object",
         "stats": {
          "unique_count": 3,
          "nan_count": 0,
          "categories": [
           {
            "name": "2000-03-10",
            "count": 1
           },
           {
            "name": "2000-03-12",
            "count": 1
           },
           {
            "name": "Missing",
            "count": 1
           }
          ]
         }
        },
        {
         "name": "value",
         "dtype": "int64",
         "stats": {
          "unique_count": 3,
          "nan_count": 0,
          "min": "2",
          "max": "4",
          "histogram": [
           {
            "bin_start": 2,
            "bin_end": 2.2,
            "count": 1
           },
           {
            "bin_start": 2.2,
            "bin_end": 2.4,
            "count": 0
           },
           {
            "bin_start": 2.4,
            "bin_end": 2.6,
            "count": 0
           },
           {
            "bin_start": 2.6,
            "bin_end": 2.8,
            "count": 0
           },
           {
            "bin_start": 2.8,
            "bin_end": 3,
            "count": 0
           },
           {
            "bin_start": 3,
            "bin_end": 3.2,
            "count": 1
           },
           {
            "bin_start": 3.2,
            "bin_end": 3.4000000000000004,
            "count": 0
           },
           {
            "bin_start": 3.4000000000000004,
            "bin_end": 3.6,
            "count": 0
           },
           {
            "bin_start": 3.6,
            "bin_end": 3.8,
            "count": 0
           },
           {
            "bin_start": 3.8,
            "bin_end": 4,
            "count": 1
           }
          ]
         }
        },
        {
         "name": "_deepnote_index_column",
         "dtype": "int64"
        }
       ],
       "rows_top": [
        {
         "date": "2000-03-10 00:00:00",
         "value": 2,
         "_deepnote_index_column": 0
        },
        {
         "date": "NaT",
         "value": 3,
         "_deepnote_index_column": 1
        },
        {
         "date": "2000-03-12 00:00:00",
         "value": 4,
         "_deepnote_index_column": 2
        }
       ],
       "rows_bottom": null
      },
      "text/plain": "        date  value\n0 2000-03-10      2\n1        NaT      3\n2 2000-03-12      4",
      "text/html": "<div>\n<style scoped>\n    .dataframe tbody tr th:only-of-type {\n        vertical-align: middle;\n    }\n\n    .dataframe tbody tr th {\n        vertical-align: top;\n    }\n\n    .dataframe thead th {\n        text-align: right;\n    }\n</style>\n<table border=\"1\" class=\"dataframe\">\n  <thead>\n    <tr style=\"text-align: right;\">\n      <th></th>\n      <th>date</th>\n      <th>value</th>\n    </tr>\n  </thead>\n  <tbody>\n    <tr>\n      <th>0</th>\n      <td>2000-03-10</td>\n      <td>2</td>\n    </tr>\n    <tr>\n      <th>1</th>\n      <td>NaT</td>\n      <td>3</td>\n    </tr>\n    <tr>\n      <th>2</th>\n      <td>2000-03-12</td>\n      <td>4</td>\n    </tr>\n  </tbody>\n</table>\n</div>"
     },
     "metadata": {}
    }
   ]
  },
  {
   "cell_type": "markdown",
   "source": "# Assemble a datetime from multiple columns",
   "metadata": {
    "tags": [],
    "is_collapsed": false,
    "cell_id": "00025-af266f63-c318-4802-a124-d2a216e15603",
    "deepnote_cell_type": "text-cell-h1"
   }
  },
  {
   "cell_type": "code",
   "metadata": {
    "tags": [],
    "cell_id": "00025-411648a0-95d1-41f5-a9b5-19bd9ddf7311",
    "deepnote_to_be_reexecuted": false,
    "source_hash": "13f68a18",
    "execution_start": 1627921194797,
    "execution_millis": 22,
    "deepnote_cell_type": "code"
   },
   "source": "df = pd.DataFrame({'year': [2015, 2016],\n                   'month': [2, 3],\n                   'day': [4, 5],\n                   'values': [1,2]})\ndf['date'] = pd.to_datetime(df[[\"year\", \"month\", \"day\"]])\ndf",
   "execution_count": null,
   "outputs": [
    {
     "output_type": "execute_result",
     "execution_count": 102,
     "data": {
      "application/vnd.deepnote.dataframe.v2+json": {
       "row_count": 2,
       "column_count": 5,
       "columns": [
        {
         "name": "year",
         "dtype": "int64",
         "stats": {
          "unique_count": 2,
          "nan_count": 0,
          "min": "2015",
          "max": "2016",
          "histogram": [
           {
            "bin_start": 2015,
            "bin_end": 2015.1,
            "count": 1
           },
           {
            "bin_start": 2015.1,
            "bin_end": 2015.2,
            "count": 0
           },
           {
            "bin_start": 2015.2,
            "bin_end": 2015.3,
            "count": 0
           },
           {
            "bin_start": 2015.3,
            "bin_end": 2015.4,
            "count": 0
           },
           {
            "bin_start": 2015.4,
            "bin_end": 2015.5,
            "count": 0
           },
           {
            "bin_start": 2015.5,
            "bin_end": 2015.6,
            "count": 0
           },
           {
            "bin_start": 2015.6,
            "bin_end": 2015.7,
            "count": 0
           },
           {
            "bin_start": 2015.7,
            "bin_end": 2015.8,
            "count": 0
           },
           {
            "bin_start": 2015.8,
            "bin_end": 2015.9,
            "count": 0
           },
           {
            "bin_start": 2015.9,
            "bin_end": 2016,
            "count": 1
           }
          ]
         }
        },
        {
         "name": "month",
         "dtype": "int64",
         "stats": {
          "unique_count": 2,
          "nan_count": 0,
          "min": "2",
          "max": "3",
          "histogram": [
           {
            "bin_start": 2,
            "bin_end": 2.1,
            "count": 1
           },
           {
            "bin_start": 2.1,
            "bin_end": 2.2,
            "count": 0
           },
           {
            "bin_start": 2.2,
            "bin_end": 2.3,
            "count": 0
           },
           {
            "bin_start": 2.3,
            "bin_end": 2.4,
            "count": 0
           },
           {
            "bin_start": 2.4,
            "bin_end": 2.5,
            "count": 0
           },
           {
            "bin_start": 2.5,
            "bin_end": 2.6,
            "count": 0
           },
           {
            "bin_start": 2.6,
            "bin_end": 2.7,
            "count": 0
           },
           {
            "bin_start": 2.7,
            "bin_end": 2.8,
            "count": 0
           },
           {
            "bin_start": 2.8,
            "bin_end": 2.9,
            "count": 0
           },
           {
            "bin_start": 2.9,
            "bin_end": 3,
            "count": 1
           }
          ]
         }
        },
        {
         "name": "day",
         "dtype": "int64",
         "stats": {
          "unique_count": 2,
          "nan_count": 0,
          "min": "4",
          "max": "5",
          "histogram": [
           {
            "bin_start": 4,
            "bin_end": 4.1,
            "count": 1
           },
           {
            "bin_start": 4.1,
            "bin_end": 4.2,
            "count": 0
           },
           {
            "bin_start": 4.2,
            "bin_end": 4.3,
            "count": 0
           },
           {
            "bin_start": 4.3,
            "bin_end": 4.4,
            "count": 0
           },
           {
            "bin_start": 4.4,
            "bin_end": 4.5,
            "count": 0
           },
           {
            "bin_start": 4.5,
            "bin_end": 4.6,
            "count": 0
           },
           {
            "bin_start": 4.6,
            "bin_end": 4.7,
            "count": 0
           },
           {
            "bin_start": 4.7,
            "bin_end": 4.8,
            "count": 0
           },
           {
            "bin_start": 4.8,
            "bin_end": 4.9,
            "count": 0
           },
           {
            "bin_start": 4.9,
            "bin_end": 5,
            "count": 1
           }
          ]
         }
        },
        {
         "name": "values",
         "dtype": "int64",
         "stats": {
          "unique_count": 2,
          "nan_count": 0,
          "min": "1",
          "max": "2",
          "histogram": [
           {
            "bin_start": 1,
            "bin_end": 1.1,
            "count": 1
           },
           {
            "bin_start": 1.1,
            "bin_end": 1.2,
            "count": 0
           },
           {
            "bin_start": 1.2,
            "bin_end": 1.3,
            "count": 0
           },
           {
            "bin_start": 1.3,
            "bin_end": 1.4,
            "count": 0
           },
           {
            "bin_start": 1.4,
            "bin_end": 1.5,
            "count": 0
           },
           {
            "bin_start": 1.5,
            "bin_end": 1.6,
            "count": 0
           },
           {
            "bin_start": 1.6,
            "bin_end": 1.7000000000000002,
            "count": 0
           },
           {
            "bin_start": 1.7000000000000002,
            "bin_end": 1.8,
            "count": 0
           },
           {
            "bin_start": 1.8,
            "bin_end": 1.9,
            "count": 0
           },
           {
            "bin_start": 1.9,
            "bin_end": 2,
            "count": 1
           }
          ]
         }
        },
        {
         "name": "date",
         "dtype": "datetime64[ns]",
         "stats": {
          "unique_count": 2,
          "nan_count": 0,
          "min": "2015-02-04 00:00:00",
          "max": "2016-03-05 00:00:00",
          "histogram": [
           {
            "bin_start": 1423008000000000000,
            "bin_end": 1426420800000000000,
            "count": 1
           },
           {
            "bin_start": 1426420800000000000,
            "bin_end": 1429833600000000000,
            "count": 0
           },
           {
            "bin_start": 1429833600000000000,
            "bin_end": 1433246400000000000,
            "count": 0
           },
           {
            "bin_start": 1433246400000000000,
            "bin_end": 1436659200000000000,
            "count": 0
           },
           {
            "bin_start": 1436659200000000000,
            "bin_end": 1440072000000000000,
            "count": 0
           },
           {
            "bin_start": 1440072000000000000,
            "bin_end": 1443484800000000000,
            "count": 0
           },
           {
            "bin_start": 1443484800000000000,
            "bin_end": 1446897600000000000,
            "count": 0
           },
           {
            "bin_start": 1446897600000000000,
            "bin_end": 1450310400000000000,
            "count": 0
           },
           {
            "bin_start": 1450310400000000000,
            "bin_end": 1453723200000000000,
            "count": 0
           },
           {
            "bin_start": 1453723200000000000,
            "bin_end": 1457136000000000000,
            "count": 1
           }
          ]
         }
        },
        {
         "name": "_deepnote_index_column",
         "dtype": "int64"
        }
       ],
       "rows_top": [
        {
         "year": 2015,
         "month": 2,
         "day": 4,
         "values": 1,
         "date": "2015-02-04T00:00:00.000000",
         "_deepnote_index_column": 0
        },
        {
         "year": 2016,
         "month": 3,
         "day": 5,
         "values": 2,
         "date": "2016-03-05T00:00:00.000000",
         "_deepnote_index_column": 1
        }
       ],
       "rows_bottom": null
      },
      "text/plain": "   year  month  day  values       date\n0  2015      2    4       1 2015-02-04\n1  2016      3    5       2 2016-03-05",
      "text/html": "<div>\n<style scoped>\n    .dataframe tbody tr th:only-of-type {\n        vertical-align: middle;\n    }\n\n    .dataframe tbody tr th {\n        vertical-align: top;\n    }\n\n    .dataframe thead th {\n        text-align: right;\n    }\n</style>\n<table border=\"1\" class=\"dataframe\">\n  <thead>\n    <tr style=\"text-align: right;\">\n      <th></th>\n      <th>year</th>\n      <th>month</th>\n      <th>day</th>\n      <th>values</th>\n      <th>date</th>\n    </tr>\n  </thead>\n  <tbody>\n    <tr>\n      <th>0</th>\n      <td>2015</td>\n      <td>2</td>\n      <td>4</td>\n      <td>1</td>\n      <td>2015-02-04</td>\n    </tr>\n    <tr>\n      <th>1</th>\n      <td>2016</td>\n      <td>3</td>\n      <td>5</td>\n      <td>2</td>\n      <td>2016-03-05</td>\n    </tr>\n  </tbody>\n</table>\n</div>"
     },
     "metadata": {}
    }
   ]
  },
  {
   "cell_type": "markdown",
   "source": "# COLUMN OPERATIONS",
   "metadata": {
    "tags": [],
    "is_collapsed": false,
    "cell_id": "00027-78ecb468-3235-494c-9224-2b65381c2b3d",
    "deepnote_cell_type": "text-cell-h1"
   }
  },
  {
   "cell_type": "markdown",
   "source": "## Get the week of year, the day of week and leap year",
   "metadata": {
    "tags": [],
    "is_collapsed": false,
    "cell_id": "00036-689cb92c-01d9-43d8-b924-66b44d8f2ab2",
    "deepnote_cell_type": "text-cell-h2"
   }
  },
  {
   "cell_type": "code",
   "metadata": {
    "tags": [],
    "cell_id": "00027-25df782e-cb3d-4bf4-8302-6c84e6d150a7",
    "deepnote_to_be_reexecuted": false,
    "source_hash": "e71981a8",
    "execution_start": 1627921776198,
    "execution_millis": 5,
    "deepnote_cell_type": "code"
   },
   "source": "df = pd.DataFrame({'name': ['Tom', 'Andy', 'Lucas'],\n                 'date_of_birth': ['08-05-1997', '04-28-1996', '12-16-1995']})\n                 \ndf['date_of_birth'] = pd.to_datetime(df['date_of_birth'])\ndf['day_of_week'] = df['date_of_birth'].dt.dayofweek # .weekday\ndf['is_leap_year'] = df['date_of_birth'].dt.is_leap_year\ndf",
   "execution_count": null,
   "outputs": [
    {
     "output_type": "execute_result",
     "execution_count": 121,
     "data": {
      "application/vnd.deepnote.dataframe.v2+json": {
       "row_count": 3,
       "column_count": 4,
       "columns": [
        {
         "name": "name",
         "dtype": "object",
         "stats": {
          "unique_count": 3,
          "nan_count": 0,
          "categories": [
           {
            "name": "Tom",
            "count": 1
           },
           {
            "name": "Andy",
            "count": 1
           },
           {
            "name": "Lucas",
            "count": 1
           }
          ]
         }
        },
        {
         "name": "date_of_birth",
         "dtype": "datetime64[ns]",
         "stats": {
          "unique_count": 3,
          "nan_count": 0,
          "min": "1995-12-16 00:00:00",
          "max": "1997-08-05 00:00:00",
          "histogram": [
           {
            "bin_start": 819072000000000000,
            "bin_end": 824238720000000000,
            "count": 1
           },
           {
            "bin_start": 824238720000000000,
            "bin_end": 829405440000000000,
            "count": 0
           },
           {
            "bin_start": 829405440000000000,
            "bin_end": 834572160000000000,
            "count": 1
           },
           {
            "bin_start": 834572160000000000,
            "bin_end": 839738880000000000,
            "count": 0
           },
           {
            "bin_start": 839738880000000000,
            "bin_end": 844905600000000000,
            "count": 0
           },
           {
            "bin_start": 844905600000000000,
            "bin_end": 850072320000000000,
            "count": 0
           },
           {
            "bin_start": 850072320000000000,
            "bin_end": 855239040000000000,
            "count": 0
           },
           {
            "bin_start": 855239040000000000,
            "bin_end": 860405760000000000,
            "count": 0
           },
           {
            "bin_start": 860405760000000000,
            "bin_end": 865572480000000000,
            "count": 0
           },
           {
            "bin_start": 865572480000000000,
            "bin_end": 870739200000000000,
            "count": 1
           }
          ]
         }
        },
        {
         "name": "day_of_week",
         "dtype": "int64",
         "stats": {
          "unique_count": 3,
          "nan_count": 0,
          "min": "1",
          "max": "6",
          "histogram": [
           {
            "bin_start": 1,
            "bin_end": 1.5,
            "count": 1
           },
           {
            "bin_start": 1.5,
            "bin_end": 2,
            "count": 0
           },
           {
            "bin_start": 2,
            "bin_end": 2.5,
            "count": 0
           },
           {
            "bin_start": 2.5,
            "bin_end": 3,
            "count": 0
           },
           {
            "bin_start": 3,
            "bin_end": 3.5,
            "count": 0
           },
           {
            "bin_start": 3.5,
            "bin_end": 4,
            "count": 0
           },
           {
            "bin_start": 4,
            "bin_end": 4.5,
            "count": 0
           },
           {
            "bin_start": 4.5,
            "bin_end": 5,
            "count": 0
           },
           {
            "bin_start": 5,
            "bin_end": 5.5,
            "count": 1
           },
           {
            "bin_start": 5.5,
            "bin_end": 6,
            "count": 1
           }
          ]
         }
        },
        {
         "name": "is_leap_year",
         "dtype": "bool",
         "stats": {
          "unique_count": 2,
          "nan_count": 0,
          "categories": [
           {
            "name": "False",
            "count": 2
           },
           {
            "name": "True",
            "count": 1
           }
          ]
         }
        },
        {
         "name": "_deepnote_index_column",
         "dtype": "int64"
        }
       ],
       "rows_top": [
        {
         "name": "Tom",
         "date_of_birth": "1997-08-05T00:00:00.000000",
         "day_of_week": 1,
         "is_leap_year": "False",
         "_deepnote_index_column": 0
        },
        {
         "name": "Andy",
         "date_of_birth": "1996-04-28T00:00:00.000000",
         "day_of_week": 6,
         "is_leap_year": "True",
         "_deepnote_index_column": 1
        },
        {
         "name": "Lucas",
         "date_of_birth": "1995-12-16T00:00:00.000000",
         "day_of_week": 5,
         "is_leap_year": "False",
         "_deepnote_index_column": 2
        }
       ],
       "rows_bottom": null
      },
      "text/plain": "    name date_of_birth  day_of_week  is_leap_year\n0    Tom    1997-08-05            1         False\n1   Andy    1996-04-28            6          True\n2  Lucas    1995-12-16            5         False",
      "text/html": "<div>\n<style scoped>\n    .dataframe tbody tr th:only-of-type {\n        vertical-align: middle;\n    }\n\n    .dataframe tbody tr th {\n        vertical-align: top;\n    }\n\n    .dataframe thead th {\n        text-align: right;\n    }\n</style>\n<table border=\"1\" class=\"dataframe\">\n  <thead>\n    <tr style=\"text-align: right;\">\n      <th></th>\n      <th>name</th>\n      <th>date_of_birth</th>\n      <th>day_of_week</th>\n      <th>is_leap_year</th>\n    </tr>\n  </thead>\n  <tbody>\n    <tr>\n      <th>0</th>\n      <td>Tom</td>\n      <td>1997-08-05</td>\n      <td>1</td>\n      <td>False</td>\n    </tr>\n    <tr>\n      <th>1</th>\n      <td>Andy</td>\n      <td>1996-04-28</td>\n      <td>6</td>\n      <td>True</td>\n    </tr>\n    <tr>\n      <th>2</th>\n      <td>Lucas</td>\n      <td>1995-12-16</td>\n      <td>5</td>\n      <td>False</td>\n    </tr>\n  </tbody>\n</table>\n</div>"
     },
     "metadata": {}
    }
   ]
  },
  {
   "cell_type": "markdown",
   "source": "## Get day of week",
   "metadata": {
    "tags": [],
    "is_collapsed": false,
    "cell_id": "00038-c643cc8c-5fe5-41cb-9416-d3da32f75030",
    "deepnote_cell_type": "text-cell-h2"
   }
  },
  {
   "cell_type": "markdown",
   "source": ".day_name()    .weekday_name    .month_name()  use these",
   "metadata": {
    "tags": [],
    "is_collapsed": false,
    "cell_id": "00039-80ff1f49-121a-4957-aebb-61ba4dbe5264",
    "deepnote_cell_type": "text-cell-p"
   }
  },
  {
   "cell_type": "code",
   "metadata": {
    "tags": [],
    "cell_id": "00029-8919d1cc-8744-4ecd-bf01-8a7916c0e3c5",
    "deepnote_to_be_reexecuted": false,
    "source_hash": "3ad32806",
    "execution_start": 1627921842441,
    "execution_millis": 20,
    "deepnote_cell_type": "code"
   },
   "source": "dw_mapping={\n    0: 'Monday', \n    1: 'Tuesday', \n    2: 'Wednesday', \n    3: 'Thursday', \n    4: 'Friday',\n    5: 'Saturday', \n    6: 'Sunday'\n} \ndf['day_of_week_name']= df['date_of_birth'].dt.dayofweek.map(dw_mapping)\ndf",
   "execution_count": null,
   "outputs": [
    {
     "output_type": "execute_result",
     "execution_count": 127,
     "data": {
      "application/vnd.deepnote.dataframe.v2+json": {
       "row_count": 3,
       "column_count": 5,
       "columns": [
        {
         "name": "name",
         "dtype": "object",
         "stats": {
          "unique_count": 3,
          "nan_count": 0,
          "categories": [
           {
            "name": "Tom",
            "count": 1
           },
           {
            "name": "Andy",
            "count": 1
           },
           {
            "name": "Lucas",
            "count": 1
           }
          ]
         }
        },
        {
         "name": "date_of_birth",
         "dtype": "datetime64[ns]",
         "stats": {
          "unique_count": 3,
          "nan_count": 0,
          "min": "1995-12-16 00:00:00",
          "max": "1997-08-05 00:00:00",
          "histogram": [
           {
            "bin_start": 819072000000000000,
            "bin_end": 824238720000000000,
            "count": 1
           },
           {
            "bin_start": 824238720000000000,
            "bin_end": 829405440000000000,
            "count": 0
           },
           {
            "bin_start": 829405440000000000,
            "bin_end": 834572160000000000,
            "count": 1
           },
           {
            "bin_start": 834572160000000000,
            "bin_end": 839738880000000000,
            "count": 0
           },
           {
            "bin_start": 839738880000000000,
            "bin_end": 844905600000000000,
            "count": 0
           },
           {
            "bin_start": 844905600000000000,
            "bin_end": 850072320000000000,
            "count": 0
           },
           {
            "bin_start": 850072320000000000,
            "bin_end": 855239040000000000,
            "count": 0
           },
           {
            "bin_start": 855239040000000000,
            "bin_end": 860405760000000000,
            "count": 0
           },
           {
            "bin_start": 860405760000000000,
            "bin_end": 865572480000000000,
            "count": 0
           },
           {
            "bin_start": 865572480000000000,
            "bin_end": 870739200000000000,
            "count": 1
           }
          ]
         }
        },
        {
         "name": "day_of_week",
         "dtype": "int64",
         "stats": {
          "unique_count": 3,
          "nan_count": 0,
          "min": "1",
          "max": "6",
          "histogram": [
           {
            "bin_start": 1,
            "bin_end": 1.5,
            "count": 1
           },
           {
            "bin_start": 1.5,
            "bin_end": 2,
            "count": 0
           },
           {
            "bin_start": 2,
            "bin_end": 2.5,
            "count": 0
           },
           {
            "bin_start": 2.5,
            "bin_end": 3,
            "count": 0
           },
           {
            "bin_start": 3,
            "bin_end": 3.5,
            "count": 0
           },
           {
            "bin_start": 3.5,
            "bin_end": 4,
            "count": 0
           },
           {
            "bin_start": 4,
            "bin_end": 4.5,
            "count": 0
           },
           {
            "bin_start": 4.5,
            "bin_end": 5,
            "count": 0
           },
           {
            "bin_start": 5,
            "bin_end": 5.5,
            "count": 1
           },
           {
            "bin_start": 5.5,
            "bin_end": 6,
            "count": 1
           }
          ]
         }
        },
        {
         "name": "is_leap_year",
         "dtype": "bool",
         "stats": {
          "unique_count": 2,
          "nan_count": 0,
          "categories": [
           {
            "name": "False",
            "count": 2
           },
           {
            "name": "True",
            "count": 1
           }
          ]
         }
        },
        {
         "name": "day_of_week_name",
         "dtype": "object",
         "stats": {
          "unique_count": 3,
          "nan_count": 0,
          "categories": [
           {
            "name": "Tuesday",
            "count": 1
           },
           {
            "name": "Sunday",
            "count": 1
           },
           {
            "name": "Saturday",
            "count": 1
           }
          ]
         }
        },
        {
         "name": "_deepnote_index_column",
         "dtype": "int64"
        }
       ],
       "rows_top": [
        {
         "name": "Tom",
         "date_of_birth": "1997-08-05T00:00:00.000000",
         "day_of_week": 1,
         "is_leap_year": "False",
         "day_of_week_name": "Tuesday",
         "_deepnote_index_column": 0
        },
        {
         "name": "Andy",
         "date_of_birth": "1996-04-28T00:00:00.000000",
         "day_of_week": 6,
         "is_leap_year": "True",
         "day_of_week_name": "Sunday",
         "_deepnote_index_column": 1
        },
        {
         "name": "Lucas",
         "date_of_birth": "1995-12-16T00:00:00.000000",
         "day_of_week": 5,
         "is_leap_year": "False",
         "day_of_week_name": "Saturday",
         "_deepnote_index_column": 2
        }
       ],
       "rows_bottom": null
      },
      "text/plain": "    name date_of_birth  day_of_week  is_leap_year day_of_week_name\n0    Tom    1997-08-05            1         False          Tuesday\n1   Andy    1996-04-28            6          True           Sunday\n2  Lucas    1995-12-16            5         False         Saturday",
      "text/html": "<div>\n<style scoped>\n    .dataframe tbody tr th:only-of-type {\n        vertical-align: middle;\n    }\n\n    .dataframe tbody tr th {\n        vertical-align: top;\n    }\n\n    .dataframe thead th {\n        text-align: right;\n    }\n</style>\n<table border=\"1\" class=\"dataframe\">\n  <thead>\n    <tr style=\"text-align: right;\">\n      <th></th>\n      <th>name</th>\n      <th>date_of_birth</th>\n      <th>day_of_week</th>\n      <th>is_leap_year</th>\n      <th>day_of_week_name</th>\n    </tr>\n  </thead>\n  <tbody>\n    <tr>\n      <th>0</th>\n      <td>Tom</td>\n      <td>1997-08-05</td>\n      <td>1</td>\n      <td>False</td>\n      <td>Tuesday</td>\n    </tr>\n    <tr>\n      <th>1</th>\n      <td>Andy</td>\n      <td>1996-04-28</td>\n      <td>6</td>\n      <td>True</td>\n      <td>Sunday</td>\n    </tr>\n    <tr>\n      <th>2</th>\n      <td>Lucas</td>\n      <td>1995-12-16</td>\n      <td>5</td>\n      <td>False</td>\n      <td>Saturday</td>\n    </tr>\n  </tbody>\n</table>\n</div>"
     },
     "metadata": {}
    }
   ]
  },
  {
   "cell_type": "markdown",
   "source": "## Get the age from the date of birth",
   "metadata": {
    "tags": [],
    "is_collapsed": false,
    "cell_id": "00040-b4091367-2e3e-4953-87f6-ece24b721342",
    "deepnote_cell_type": "text-cell-h2"
   }
  },
  {
   "cell_type": "code",
   "metadata": {
    "tags": [],
    "cell_id": "00031-17eb2cf7-c851-42a9-98cb-fa398d0a081e",
    "deepnote_to_be_reexecuted": false,
    "source_hash": "946f243e",
    "execution_start": 1627921955199,
    "execution_millis": 26,
    "deepnote_cell_type": "code"
   },
   "source": "today = pd.to_datetime('today')\ndf['age'] = today.year - df['date_of_birth'].dt.year\ndf",
   "execution_count": null,
   "outputs": [
    {
     "output_type": "execute_result",
     "execution_count": 132,
     "data": {
      "application/vnd.deepnote.dataframe.v2+json": {
       "row_count": 3,
       "column_count": 6,
       "columns": [
        {
         "name": "name",
         "dtype": "object",
         "stats": {
          "unique_count": 3,
          "nan_count": 0,
          "categories": [
           {
            "name": "Tom",
            "count": 1
           },
           {
            "name": "Andy",
            "count": 1
           },
           {
            "name": "Lucas",
            "count": 1
           }
          ]
         }
        },
        {
         "name": "date_of_birth",
         "dtype": "datetime64[ns]",
         "stats": {
          "unique_count": 3,
          "nan_count": 0,
          "min": "1995-12-16 00:00:00",
          "max": "1997-08-05 00:00:00",
          "histogram": [
           {
            "bin_start": 819072000000000000,
            "bin_end": 824238720000000000,
            "count": 1
           },
           {
            "bin_start": 824238720000000000,
            "bin_end": 829405440000000000,
            "count": 0
           },
           {
            "bin_start": 829405440000000000,
            "bin_end": 834572160000000000,
            "count": 1
           },
           {
            "bin_start": 834572160000000000,
            "bin_end": 839738880000000000,
            "count": 0
           },
           {
            "bin_start": 839738880000000000,
            "bin_end": 844905600000000000,
            "count": 0
           },
           {
            "bin_start": 844905600000000000,
            "bin_end": 850072320000000000,
            "count": 0
           },
           {
            "bin_start": 850072320000000000,
            "bin_end": 855239040000000000,
            "count": 0
           },
           {
            "bin_start": 855239040000000000,
            "bin_end": 860405760000000000,
            "count": 0
           },
           {
            "bin_start": 860405760000000000,
            "bin_end": 865572480000000000,
            "count": 0
           },
           {
            "bin_start": 865572480000000000,
            "bin_end": 870739200000000000,
            "count": 1
           }
          ]
         }
        },
        {
         "name": "day_of_week",
         "dtype": "int64",
         "stats": {
          "unique_count": 3,
          "nan_count": 0,
          "min": "1",
          "max": "6",
          "histogram": [
           {
            "bin_start": 1,
            "bin_end": 1.5,
            "count": 1
           },
           {
            "bin_start": 1.5,
            "bin_end": 2,
            "count": 0
           },
           {
            "bin_start": 2,
            "bin_end": 2.5,
            "count": 0
           },
           {
            "bin_start": 2.5,
            "bin_end": 3,
            "count": 0
           },
           {
            "bin_start": 3,
            "bin_end": 3.5,
            "count": 0
           },
           {
            "bin_start": 3.5,
            "bin_end": 4,
            "count": 0
           },
           {
            "bin_start": 4,
            "bin_end": 4.5,
            "count": 0
           },
           {
            "bin_start": 4.5,
            "bin_end": 5,
            "count": 0
           },
           {
            "bin_start": 5,
            "bin_end": 5.5,
            "count": 1
           },
           {
            "bin_start": 5.5,
            "bin_end": 6,
            "count": 1
           }
          ]
         }
        },
        {
         "name": "is_leap_year",
         "dtype": "bool",
         "stats": {
          "unique_count": 2,
          "nan_count": 0,
          "categories": [
           {
            "name": "False",
            "count": 2
           },
           {
            "name": "True",
            "count": 1
           }
          ]
         }
        },
        {
         "name": "day_of_week_name",
         "dtype": "object",
         "stats": {
          "unique_count": 3,
          "nan_count": 0,
          "categories": [
           {
            "name": "Tuesday",
            "count": 1
           },
           {
            "name": "Sunday",
            "count": 1
           },
           {
            "name": "Saturday",
            "count": 1
           }
          ]
         }
        },
        {
         "name": "age",
         "dtype": "int64",
         "stats": {
          "unique_count": 3,
          "nan_count": 0,
          "min": "24",
          "max": "26",
          "histogram": [
           {
            "bin_start": 24,
            "bin_end": 24.2,
            "count": 1
           },
           {
            "bin_start": 24.2,
            "bin_end": 24.4,
            "count": 0
           },
           {
            "bin_start": 24.4,
            "bin_end": 24.6,
            "count": 0
           },
           {
            "bin_start": 24.6,
            "bin_end": 24.8,
            "count": 0
           },
           {
            "bin_start": 24.8,
            "bin_end": 25,
            "count": 0
           },
           {
            "bin_start": 25,
            "bin_end": 25.2,
            "count": 1
           },
           {
            "bin_start": 25.2,
            "bin_end": 25.4,
            "count": 0
           },
           {
            "bin_start": 25.4,
            "bin_end": 25.6,
            "count": 0
           },
           {
            "bin_start": 25.6,
            "bin_end": 25.8,
            "count": 0
           },
           {
            "bin_start": 25.8,
            "bin_end": 26,
            "count": 1
           }
          ]
         }
        },
        {
         "name": "_deepnote_index_column",
         "dtype": "int64"
        }
       ],
       "rows_top": [
        {
         "name": "Tom",
         "date_of_birth": "1997-08-05T00:00:00.000000",
         "day_of_week": 1,
         "is_leap_year": "False",
         "day_of_week_name": "Tuesday",
         "age": 24,
         "_deepnote_index_column": 0
        },
        {
         "name": "Andy",
         "date_of_birth": "1996-04-28T00:00:00.000000",
         "day_of_week": 6,
         "is_leap_year": "True",
         "day_of_week_name": "Sunday",
         "age": 25,
         "_deepnote_index_column": 1
        },
        {
         "name": "Lucas",
         "date_of_birth": "1995-12-16T00:00:00.000000",
         "day_of_week": 5,
         "is_leap_year": "False",
         "day_of_week_name": "Saturday",
         "age": 26,
         "_deepnote_index_column": 2
        }
       ],
       "rows_bottom": null
      },
      "text/plain": "    name date_of_birth  day_of_week  is_leap_year day_of_week_name  age\n0    Tom    1997-08-05            1         False          Tuesday   24\n1   Andy    1996-04-28            6          True           Sunday   25\n2  Lucas    1995-12-16            5         False         Saturday   26",
      "text/html": "<div>\n<style scoped>\n    .dataframe tbody tr th:only-of-type {\n        vertical-align: middle;\n    }\n\n    .dataframe tbody tr th {\n        vertical-align: top;\n    }\n\n    .dataframe thead th {\n        text-align: right;\n    }\n</style>\n<table border=\"1\" class=\"dataframe\">\n  <thead>\n    <tr style=\"text-align: right;\">\n      <th></th>\n      <th>name</th>\n      <th>date_of_birth</th>\n      <th>day_of_week</th>\n      <th>is_leap_year</th>\n      <th>day_of_week_name</th>\n      <th>age</th>\n    </tr>\n  </thead>\n  <tbody>\n    <tr>\n      <th>0</th>\n      <td>Tom</td>\n      <td>1997-08-05</td>\n      <td>1</td>\n      <td>False</td>\n      <td>Tuesday</td>\n      <td>24</td>\n    </tr>\n    <tr>\n      <th>1</th>\n      <td>Andy</td>\n      <td>1996-04-28</td>\n      <td>6</td>\n      <td>True</td>\n      <td>Sunday</td>\n      <td>25</td>\n    </tr>\n    <tr>\n      <th>2</th>\n      <td>Lucas</td>\n      <td>1995-12-16</td>\n      <td>5</td>\n      <td>False</td>\n      <td>Saturday</td>\n      <td>26</td>\n    </tr>\n  </tbody>\n</table>\n</div>"
     },
     "metadata": {}
    }
   ]
  },
  {
   "cell_type": "markdown",
   "source": "### More advanced",
   "metadata": {
    "tags": [],
    "is_collapsed": false,
    "cell_id": "00042-7c2d483f-57c5-405d-897a-dadbef30eccc",
    "deepnote_cell_type": "text-cell-h3"
   }
  },
  {
   "cell_type": "code",
   "metadata": {
    "tags": [],
    "cell_id": "00033-4b2debac-d3c8-423d-9e4f-a3718aa8ca26",
    "deepnote_to_be_reexecuted": false,
    "source_hash": "beae69bd",
    "execution_start": 1627922248257,
    "execution_millis": 34,
    "deepnote_cell_type": "code"
   },
   "source": "# Year difference\ntoday = pd.to_datetime('today')\ndiff_year = today.year - df['date_of_birth'].dt.year\n\ndef mont_day(x):\n    return (x.month,x.day)\n\n\nb_md = df['date_of_birth'].apply(mont_day)\nno_birthday = b_md > (today.month,today.day)\ndf['age_advanced'] = diff_year - no_birthday\ndf",
   "execution_count": null,
   "outputs": [
    {
     "output_type": "execute_result",
     "execution_count": 154,
     "data": {
      "application/vnd.deepnote.dataframe.v2+json": {
       "row_count": 3,
       "column_count": 7,
       "columns": [
        {
         "name": "name",
         "dtype": "object",
         "stats": {
          "unique_count": 3,
          "nan_count": 0,
          "categories": [
           {
            "name": "Tom",
            "count": 1
           },
           {
            "name": "Andy",
            "count": 1
           },
           {
            "name": "Lucas",
            "count": 1
           }
          ]
         }
        },
        {
         "name": "date_of_birth",
         "dtype": "datetime64[ns]",
         "stats": {
          "unique_count": 3,
          "nan_count": 0,
          "min": "1995-12-16 00:00:00",
          "max": "1997-08-05 00:00:00",
          "histogram": [
           {
            "bin_start": 819072000000000000,
            "bin_end": 824238720000000000,
            "count": 1
           },
           {
            "bin_start": 824238720000000000,
            "bin_end": 829405440000000000,
            "count": 0
           },
           {
            "bin_start": 829405440000000000,
            "bin_end": 834572160000000000,
            "count": 1
           },
           {
            "bin_start": 834572160000000000,
            "bin_end": 839738880000000000,
            "count": 0
           },
           {
            "bin_start": 839738880000000000,
            "bin_end": 844905600000000000,
            "count": 0
           },
           {
            "bin_start": 844905600000000000,
            "bin_end": 850072320000000000,
            "count": 0
           },
           {
            "bin_start": 850072320000000000,
            "bin_end": 855239040000000000,
            "count": 0
           },
           {
            "bin_start": 855239040000000000,
            "bin_end": 860405760000000000,
            "count": 0
           },
           {
            "bin_start": 860405760000000000,
            "bin_end": 865572480000000000,
            "count": 0
           },
           {
            "bin_start": 865572480000000000,
            "bin_end": 870739200000000000,
            "count": 1
           }
          ]
         }
        },
        {
         "name": "day_of_week",
         "dtype": "int64",
         "stats": {
          "unique_count": 3,
          "nan_count": 0,
          "min": "1",
          "max": "6",
          "histogram": [
           {
            "bin_start": 1,
            "bin_end": 1.5,
            "count": 1
           },
           {
            "bin_start": 1.5,
            "bin_end": 2,
            "count": 0
           },
           {
            "bin_start": 2,
            "bin_end": 2.5,
            "count": 0
           },
           {
            "bin_start": 2.5,
            "bin_end": 3,
            "count": 0
           },
           {
            "bin_start": 3,
            "bin_end": 3.5,
            "count": 0
           },
           {
            "bin_start": 3.5,
            "bin_end": 4,
            "count": 0
           },
           {
            "bin_start": 4,
            "bin_end": 4.5,
            "count": 0
           },
           {
            "bin_start": 4.5,
            "bin_end": 5,
            "count": 0
           },
           {
            "bin_start": 5,
            "bin_end": 5.5,
            "count": 1
           },
           {
            "bin_start": 5.5,
            "bin_end": 6,
            "count": 1
           }
          ]
         }
        },
        {
         "name": "is_leap_year",
         "dtype": "bool",
         "stats": {
          "unique_count": 2,
          "nan_count": 0,
          "categories": [
           {
            "name": "False",
            "count": 2
           },
           {
            "name": "True",
            "count": 1
           }
          ]
         }
        },
        {
         "name": "day_of_week_name",
         "dtype": "object",
         "stats": {
          "unique_count": 3,
          "nan_count": 0,
          "categories": [
           {
            "name": "Tuesday",
            "count": 1
           },
           {
            "name": "Sunday",
            "count": 1
           },
           {
            "name": "Saturday",
            "count": 1
           }
          ]
         }
        },
        {
         "name": "age",
         "dtype": "int64",
         "stats": {
          "unique_count": 3,
          "nan_count": 0,
          "min": "24",
          "max": "26",
          "histogram": [
           {
            "bin_start": 24,
            "bin_end": 24.2,
            "count": 1
           },
           {
            "bin_start": 24.2,
            "bin_end": 24.4,
            "count": 0
           },
           {
            "bin_start": 24.4,
            "bin_end": 24.6,
            "count": 0
           },
           {
            "bin_start": 24.6,
            "bin_end": 24.8,
            "count": 0
           },
           {
            "bin_start": 24.8,
            "bin_end": 25,
            "count": 0
           },
           {
            "bin_start": 25,
            "bin_end": 25.2,
            "count": 1
           },
           {
            "bin_start": 25.2,
            "bin_end": 25.4,
            "count": 0
           },
           {
            "bin_start": 25.4,
            "bin_end": 25.6,
            "count": 0
           },
           {
            "bin_start": 25.6,
            "bin_end": 25.8,
            "count": 0
           },
           {
            "bin_start": 25.8,
            "bin_end": 26,
            "count": 1
           }
          ]
         }
        },
        {
         "name": "age_advanced",
         "dtype": "int64",
         "stats": {
          "unique_count": 2,
          "nan_count": 0,
          "min": "23",
          "max": "25",
          "histogram": [
           {
            "bin_start": 23,
            "bin_end": 23.2,
            "count": 1
           },
           {
            "bin_start": 23.2,
            "bin_end": 23.4,
            "count": 0
           },
           {
            "bin_start": 23.4,
            "bin_end": 23.6,
            "count": 0
           },
           {
            "bin_start": 23.6,
            "bin_end": 23.8,
            "count": 0
           },
           {
            "bin_start": 23.8,
            "bin_end": 24,
            "count": 0
           },
           {
            "bin_start": 24,
            "bin_end": 24.2,
            "count": 0
           },
           {
            "bin_start": 24.2,
            "bin_end": 24.4,
            "count": 0
           },
           {
            "bin_start": 24.4,
            "bin_end": 24.6,
            "count": 0
           },
           {
            "bin_start": 24.6,
            "bin_end": 24.8,
            "count": 0
           },
           {
            "bin_start": 24.8,
            "bin_end": 25,
            "count": 2
           }
          ]
         }
        },
        {
         "name": "_deepnote_index_column",
         "dtype": "int64"
        }
       ],
       "rows_top": [
        {
         "name": "Tom",
         "date_of_birth": "1997-08-05T00:00:00.000000",
         "day_of_week": 1,
         "is_leap_year": "False",
         "day_of_week_name": "Tuesday",
         "age": 24,
         "age_advanced": 23,
         "_deepnote_index_column": 0
        },
        {
         "name": "Andy",
         "date_of_birth": "1996-04-28T00:00:00.000000",
         "day_of_week": 6,
         "is_leap_year": "True",
         "day_of_week_name": "Sunday",
         "age": 25,
         "age_advanced": 25,
         "_deepnote_index_column": 1
        },
        {
         "name": "Lucas",
         "date_of_birth": "1995-12-16T00:00:00.000000",
         "day_of_week": 5,
         "is_leap_year": "False",
         "day_of_week_name": "Saturday",
         "age": 26,
         "age_advanced": 25,
         "_deepnote_index_column": 2
        }
       ],
       "rows_bottom": null
      },
      "text/plain": "    name date_of_birth  day_of_week  is_leap_year day_of_week_name  age  \\\n0    Tom    1997-08-05            1         False          Tuesday   24   \n1   Andy    1996-04-28            6          True           Sunday   25   \n2  Lucas    1995-12-16            5         False         Saturday   26   \n\n   age_advanced  \n0            23  \n1            25  \n2            25  ",
      "text/html": "<div>\n<style scoped>\n    .dataframe tbody tr th:only-of-type {\n        vertical-align: middle;\n    }\n\n    .dataframe tbody tr th {\n        vertical-align: top;\n    }\n\n    .dataframe thead th {\n        text-align: right;\n    }\n</style>\n<table border=\"1\" class=\"dataframe\">\n  <thead>\n    <tr style=\"text-align: right;\">\n      <th></th>\n      <th>name</th>\n      <th>date_of_birth</th>\n      <th>day_of_week</th>\n      <th>is_leap_year</th>\n      <th>day_of_week_name</th>\n      <th>age</th>\n      <th>age_advanced</th>\n    </tr>\n  </thead>\n  <tbody>\n    <tr>\n      <th>0</th>\n      <td>Tom</td>\n      <td>1997-08-05</td>\n      <td>1</td>\n      <td>False</td>\n      <td>Tuesday</td>\n      <td>24</td>\n      <td>23</td>\n    </tr>\n    <tr>\n      <th>1</th>\n      <td>Andy</td>\n      <td>1996-04-28</td>\n      <td>6</td>\n      <td>True</td>\n      <td>Sunday</td>\n      <td>25</td>\n      <td>25</td>\n    </tr>\n    <tr>\n      <th>2</th>\n      <td>Lucas</td>\n      <td>1995-12-16</td>\n      <td>5</td>\n      <td>False</td>\n      <td>Saturday</td>\n      <td>26</td>\n      <td>25</td>\n    </tr>\n  </tbody>\n</table>\n</div>"
     },
     "metadata": {}
    }
   ]
  },
  {
   "cell_type": "markdown",
   "source": "# SELECTION",
   "metadata": {
    "tags": [],
    "is_collapsed": false,
    "cell_id": "00035-ed4320ba-69fa-45a5-a2cd-197113723b38",
    "deepnote_cell_type": "text-cell-h1"
   }
  },
  {
   "cell_type": "code",
   "metadata": {
    "tags": [],
    "cell_id": "00036-fb0f012c-855b-420a-b392-2dd2a954f331",
    "deepnote_to_be_reexecuted": false,
    "source_hash": "acc5eef0",
    "execution_start": 1627922908902,
    "execution_millis": 2167,
    "deepnote_cell_type": "code"
   },
   "source": "url = \"https://raw.githubusercontent.com/BindiChen/machine-learning/master/data-analysis/008-pandas-datetime/data/city_sales.csv\"\ndf = pd.read_csv(url, parse_dates=['date'])\n# df[\"date\"] = pd.to_datetime(df[\"date\"])\ndf.info()\ndf.head()",
   "execution_count": null,
   "outputs": [
    {
     "name": "stdout",
     "text": "<class 'pandas.core.frame.DataFrame'>\nRangeIndex: 1795144 entries, 0 to 1795143\nData columns (total 3 columns):\n #   Column  Dtype         \n---  ------  -----         \n 0   date    datetime64[ns]\n 1   num     int64         \n 2   city    object        \ndtypes: datetime64[ns](1), int64(1), object(1)\nmemory usage: 41.1+ MB\n",
     "output_type": "stream"
    },
    {
     "output_type": "execute_result",
     "execution_count": 177,
     "data": {
      "application/vnd.deepnote.dataframe.v2+json": {
       "row_count": 5,
       "column_count": 3,
       "columns": [
        {
         "name": "date",
         "dtype": "datetime64[ns]",
         "stats": {
          "unique_count": 5,
          "nan_count": 0,
          "min": "2015-01-01 09:00:00",
          "max": "2015-01-01 09:04:00",
          "histogram": [
           {
            "bin_start": 1420102800000000000,
            "bin_end": 1420102824000000000,
            "count": 1
           },
           {
            "bin_start": 1420102824000000000,
            "bin_end": 1420102848000000000,
            "count": 0
           },
           {
            "bin_start": 1420102848000000000,
            "bin_end": 1420102872000000000,
            "count": 1
           },
           {
            "bin_start": 1420102872000000000,
            "bin_end": 1420102896000000000,
            "count": 0
           },
           {
            "bin_start": 1420102896000000000,
            "bin_end": 1420102920000000000,
            "count": 0
           },
           {
            "bin_start": 1420102920000000000,
            "bin_end": 1420102944000000000,
            "count": 1
           },
           {
            "bin_start": 1420102944000000000,
            "bin_end": 1420102968000000000,
            "count": 0
           },
           {
            "bin_start": 1420102968000000000,
            "bin_end": 1420102992000000000,
            "count": 1
           },
           {
            "bin_start": 1420102992000000000,
            "bin_end": 1420103016000000000,
            "count": 0
           },
           {
            "bin_start": 1420103016000000000,
            "bin_end": 1420103040000000000,
            "count": 1
           }
          ]
         }
        },
        {
         "name": "num",
         "dtype": "int64",
         "stats": {
          "unique_count": 2,
          "nan_count": 0,
          "min": "3",
          "max": "4",
          "histogram": [
           {
            "bin_start": 3,
            "bin_end": 3.1,
            "count": 3
           },
           {
            "bin_start": 3.1,
            "bin_end": 3.2,
            "count": 0
           },
           {
            "bin_start": 3.2,
            "bin_end": 3.3,
            "count": 0
           },
           {
            "bin_start": 3.3,
            "bin_end": 3.4,
            "count": 0
           },
           {
            "bin_start": 3.4,
            "bin_end": 3.5,
            "count": 0
           },
           {
            "bin_start": 3.5,
            "bin_end": 3.6,
            "count": 0
           },
           {
            "bin_start": 3.6,
            "bin_end": 3.7,
            "count": 0
           },
           {
            "bin_start": 3.7,
            "bin_end": 3.8,
            "count": 0
           },
           {
            "bin_start": 3.8,
            "bin_end": 3.9,
            "count": 0
           },
           {
            "bin_start": 3.9,
            "bin_end": 4,
            "count": 2
           }
          ]
         }
        },
        {
         "name": "city",
         "dtype": "object",
         "stats": {
          "unique_count": 1,
          "nan_count": 0,
          "categories": [
           {
            "name": "London",
            "count": 5
           }
          ]
         }
        },
        {
         "name": "_deepnote_index_column",
         "dtype": "int64"
        }
       ],
       "rows_top": [
        {
         "date": "2015-01-01T09:00:00.000000",
         "num": 4,
         "city": "London",
         "_deepnote_index_column": 0
        },
        {
         "date": "2015-01-01T09:01:00.000000",
         "num": 4,
         "city": "London",
         "_deepnote_index_column": 1
        },
        {
         "date": "2015-01-01T09:02:00.000000",
         "num": 3,
         "city": "London",
         "_deepnote_index_column": 2
        },
        {
         "date": "2015-01-01T09:03:00.000000",
         "num": 3,
         "city": "London",
         "_deepnote_index_column": 3
        },
        {
         "date": "2015-01-01T09:04:00.000000",
         "num": 3,
         "city": "London",
         "_deepnote_index_column": 4
        }
       ],
       "rows_bottom": null
      },
      "text/plain": "                 date  num    city\n0 2015-01-01 09:00:00    4  London\n1 2015-01-01 09:01:00    4  London\n2 2015-01-01 09:02:00    3  London\n3 2015-01-01 09:03:00    3  London\n4 2015-01-01 09:04:00    3  London",
      "text/html": "<div>\n<style scoped>\n    .dataframe tbody tr th:only-of-type {\n        vertical-align: middle;\n    }\n\n    .dataframe tbody tr th {\n        vertical-align: top;\n    }\n\n    .dataframe thead th {\n        text-align: right;\n    }\n</style>\n<table border=\"1\" class=\"dataframe\">\n  <thead>\n    <tr style=\"text-align: right;\">\n      <th></th>\n      <th>date</th>\n      <th>num</th>\n      <th>city</th>\n    </tr>\n  </thead>\n  <tbody>\n    <tr>\n      <th>0</th>\n      <td>2015-01-01 09:00:00</td>\n      <td>4</td>\n      <td>London</td>\n    </tr>\n    <tr>\n      <th>1</th>\n      <td>2015-01-01 09:01:00</td>\n      <td>4</td>\n      <td>London</td>\n    </tr>\n    <tr>\n      <th>2</th>\n      <td>2015-01-01 09:02:00</td>\n      <td>3</td>\n      <td>London</td>\n    </tr>\n    <tr>\n      <th>3</th>\n      <td>2015-01-01 09:03:00</td>\n      <td>3</td>\n      <td>London</td>\n    </tr>\n    <tr>\n      <th>4</th>\n      <td>2015-01-01 09:04:00</td>\n      <td>3</td>\n      <td>London</td>\n    </tr>\n  </tbody>\n</table>\n</div>"
     },
     "metadata": {}
    }
   ]
  },
  {
   "cell_type": "code",
   "metadata": {
    "tags": [],
    "cell_id": "00037-9f7218a5-9527-4bae-8ba2-9316f6f07008",
    "deepnote_to_be_reexecuted": false,
    "source_hash": "9357d1e4",
    "execution_start": 1627922911114,
    "execution_millis": 232,
    "deepnote_cell_type": "code"
   },
   "source": "df = df.set_index(['date'])\ndf.sort_index(ascending=True, inplace=False)\ndf.head()",
   "execution_count": null,
   "outputs": [
    {
     "output_type": "execute_result",
     "execution_count": 178,
     "data": {
      "application/vnd.deepnote.dataframe.v2+json": {
       "row_count": 5,
       "column_count": 2,
       "columns": [
        {
         "name": "num",
         "dtype": "int64",
         "stats": {
          "unique_count": 2,
          "nan_count": 0,
          "min": "3",
          "max": "4",
          "histogram": [
           {
            "bin_start": 3,
            "bin_end": 3.1,
            "count": 3
           },
           {
            "bin_start": 3.1,
            "bin_end": 3.2,
            "count": 0
           },
           {
            "bin_start": 3.2,
            "bin_end": 3.3,
            "count": 0
           },
           {
            "bin_start": 3.3,
            "bin_end": 3.4,
            "count": 0
           },
           {
            "bin_start": 3.4,
            "bin_end": 3.5,
            "count": 0
           },
           {
            "bin_start": 3.5,
            "bin_end": 3.6,
            "count": 0
           },
           {
            "bin_start": 3.6,
            "bin_end": 3.7,
            "count": 0
           },
           {
            "bin_start": 3.7,
            "bin_end": 3.8,
            "count": 0
           },
           {
            "bin_start": 3.8,
            "bin_end": 3.9,
            "count": 0
           },
           {
            "bin_start": 3.9,
            "bin_end": 4,
            "count": 2
           }
          ]
         }
        },
        {
         "name": "city",
         "dtype": "object",
         "stats": {
          "unique_count": 1,
          "nan_count": 0,
          "categories": [
           {
            "name": "London",
            "count": 5
           }
          ]
         }
        },
        {
         "name": "_deepnote_index_column",
         "dtype": "datetime64[ns]"
        }
       ],
       "rows_top": [
        {
         "num": 4,
         "city": "London",
         "_deepnote_index_column": "2015-01-01T09:00:00.000000"
        },
        {
         "num": 4,
         "city": "London",
         "_deepnote_index_column": "2015-01-01T09:01:00.000000"
        },
        {
         "num": 3,
         "city": "London",
         "_deepnote_index_column": "2015-01-01T09:02:00.000000"
        },
        {
         "num": 3,
         "city": "London",
         "_deepnote_index_column": "2015-01-01T09:03:00.000000"
        },
        {
         "num": 3,
         "city": "London",
         "_deepnote_index_column": "2015-01-01T09:04:00.000000"
        }
       ],
       "rows_bottom": null
      },
      "text/plain": "                     num    city\ndate                            \n2015-01-01 09:00:00    4  London\n2015-01-01 09:01:00    4  London\n2015-01-01 09:02:00    3  London\n2015-01-01 09:03:00    3  London\n2015-01-01 09:04:00    3  London",
      "text/html": "<div>\n<style scoped>\n    .dataframe tbody tr th:only-of-type {\n        vertical-align: middle;\n    }\n\n    .dataframe tbody tr th {\n        vertical-align: top;\n    }\n\n    .dataframe thead th {\n        text-align: right;\n    }\n</style>\n<table border=\"1\" class=\"dataframe\">\n  <thead>\n    <tr style=\"text-align: right;\">\n      <th></th>\n      <th>num</th>\n      <th>city</th>\n    </tr>\n    <tr>\n      <th>date</th>\n      <th></th>\n      <th></th>\n    </tr>\n  </thead>\n  <tbody>\n    <tr>\n      <th>2015-01-01 09:00:00</th>\n      <td>4</td>\n      <td>London</td>\n    </tr>\n    <tr>\n      <th>2015-01-01 09:01:00</th>\n      <td>4</td>\n      <td>London</td>\n    </tr>\n    <tr>\n      <th>2015-01-01 09:02:00</th>\n      <td>3</td>\n      <td>London</td>\n    </tr>\n    <tr>\n      <th>2015-01-01 09:03:00</th>\n      <td>3</td>\n      <td>London</td>\n    </tr>\n    <tr>\n      <th>2015-01-01 09:04:00</th>\n      <td>3</td>\n      <td>London</td>\n    </tr>\n  </tbody>\n</table>\n</div>"
     },
     "metadata": {}
    }
   ]
  },
  {
   "cell_type": "markdown",
   "source": "### Specific year",
   "metadata": {
    "tags": [],
    "is_collapsed": false,
    "cell_id": "00038-25b359d4-e9a5-4720-9686-259529d9f124",
    "deepnote_cell_type": "text-cell-h3"
   }
  },
  {
   "cell_type": "code",
   "metadata": {
    "tags": [],
    "cell_id": "00038-6a7a6da3-ef58-45cf-a797-0230383a1abf",
    "deepnote_to_be_reexecuted": false,
    "source_hash": "fdcebe37",
    "execution_start": 1627922951889,
    "execution_millis": 62,
    "deepnote_cell_type": "code"
   },
   "source": "df.loc['2018']",
   "execution_count": null,
   "outputs": [
    {
     "output_type": "execute_result",
     "execution_count": 181,
     "data": {
      "application/vnd.deepnote.dataframe.v2+json": {
       "row_count": 439524,
       "column_count": 2,
       "columns": [
        {
         "name": "num",
         "dtype": "int64"
        },
        {
         "name": "city",
         "dtype": "object"
        },
        {
         "name": "_deepnote_index_column",
         "dtype": "datetime64[ns]"
        }
       ],
       "rows_top": [
        {
         "num": 2,
         "city": "London",
         "_deepnote_index_column": "2018-01-01T09:00:00.000000"
        },
        {
         "num": 1,
         "city": "London",
         "_deepnote_index_column": "2018-01-01T09:01:00.000000"
        },
        {
         "num": 3,
         "city": "London",
         "_deepnote_index_column": "2018-01-01T09:02:00.000000"
        },
        {
         "num": 3,
         "city": "London",
         "_deepnote_index_column": "2018-01-01T09:03:00.000000"
        },
        {
         "num": 3,
         "city": "London",
         "_deepnote_index_column": "2018-01-01T09:04:00.000000"
        },
        {
         "num": 3,
         "city": "London",
         "_deepnote_index_column": "2018-01-01T09:05:00.000000"
        },
        {
         "num": 2,
         "city": "London",
         "_deepnote_index_column": "2018-01-01T09:06:00.000000"
        },
        {
         "num": 1,
         "city": "London",
         "_deepnote_index_column": "2018-01-01T09:07:00.000000"
        },
        {
         "num": 3,
         "city": "London",
         "_deepnote_index_column": "2018-01-01T09:08:00.000000"
        },
        {
         "num": 2,
         "city": "London",
         "_deepnote_index_column": "2018-01-01T09:09:00.000000"
        },
        {
         "num": 2,
         "city": "London",
         "_deepnote_index_column": "2018-01-01T09:10:00.000000"
        },
        {
         "num": 3,
         "city": "London",
         "_deepnote_index_column": "2018-01-01T09:11:00.000000"
        },
        {
         "num": 1,
         "city": "London",
         "_deepnote_index_column": "2018-01-01T09:12:00.000000"
        },
        {
         "num": 3,
         "city": "London",
         "_deepnote_index_column": "2018-01-01T09:13:00.000000"
        },
        {
         "num": 2,
         "city": "London",
         "_deepnote_index_column": "2018-01-01T09:14:00.000000"
        },
        {
         "num": 4,
         "city": "London",
         "_deepnote_index_column": "2018-01-01T09:15:00.000000"
        },
        {
         "num": 2,
         "city": "London",
         "_deepnote_index_column": "2018-01-01T09:16:00.000000"
        },
        {
         "num": 3,
         "city": "London",
         "_deepnote_index_column": "2018-01-01T09:17:00.000000"
        },
        {
         "num": 3,
         "city": "London",
         "_deepnote_index_column": "2018-01-01T09:18:00.000000"
        },
        {
         "num": 4,
         "city": "London",
         "_deepnote_index_column": "2018-01-01T09:19:00.000000"
        },
        {
         "num": 4,
         "city": "London",
         "_deepnote_index_column": "2018-01-01T09:20:00.000000"
        },
        {
         "num": 4,
         "city": "London",
         "_deepnote_index_column": "2018-01-01T09:21:00.000000"
        },
        {
         "num": 3,
         "city": "London",
         "_deepnote_index_column": "2018-01-01T09:22:00.000000"
        },
        {
         "num": 2,
         "city": "London",
         "_deepnote_index_column": "2018-01-01T09:23:00.000000"
        },
        {
         "num": 3,
         "city": "London",
         "_deepnote_index_column": "2018-01-01T09:24:00.000000"
        },
        {
         "num": 3,
         "city": "London",
         "_deepnote_index_column": "2018-01-01T09:25:00.000000"
        },
        {
         "num": 2,
         "city": "London",
         "_deepnote_index_column": "2018-01-01T09:26:00.000000"
        },
        {
         "num": 3,
         "city": "London",
         "_deepnote_index_column": "2018-01-01T09:27:00.000000"
        },
        {
         "num": 3,
         "city": "London",
         "_deepnote_index_column": "2018-01-01T09:28:00.000000"
        },
        {
         "num": 3,
         "city": "London",
         "_deepnote_index_column": "2018-01-01T09:29:00.000000"
        },
        {
         "num": 3,
         "city": "London",
         "_deepnote_index_column": "2018-01-01T09:30:00.000000"
        },
        {
         "num": 3,
         "city": "London",
         "_deepnote_index_column": "2018-01-01T09:31:00.000000"
        },
        {
         "num": 3,
         "city": "London",
         "_deepnote_index_column": "2018-01-01T09:32:00.000000"
        },
        {
         "num": 2,
         "city": "London",
         "_deepnote_index_column": "2018-01-01T09:33:00.000000"
        },
        {
         "num": 2,
         "city": "London",
         "_deepnote_index_column": "2018-01-01T09:34:00.000000"
        },
        {
         "num": 4,
         "city": "London",
         "_deepnote_index_column": "2018-01-01T09:35:00.000000"
        },
        {
         "num": 3,
         "city": "London",
         "_deepnote_index_column": "2018-01-01T09:36:00.000000"
        },
        {
         "num": 4,
         "city": "London",
         "_deepnote_index_column": "2018-01-01T09:37:00.000000"
        },
        {
         "num": 3,
         "city": "London",
         "_deepnote_index_column": "2018-01-01T09:38:00.000000"
        },
        {
         "num": 3,
         "city": "London",
         "_deepnote_index_column": "2018-01-01T09:39:00.000000"
        },
        {
         "num": 3,
         "city": "London",
         "_deepnote_index_column": "2018-01-01T09:40:00.000000"
        },
        {
         "num": 4,
         "city": "London",
         "_deepnote_index_column": "2018-01-01T09:41:00.000000"
        },
        {
         "num": 3,
         "city": "London",
         "_deepnote_index_column": "2018-01-01T09:42:00.000000"
        },
        {
         "num": 3,
         "city": "London",
         "_deepnote_index_column": "2018-01-01T09:43:00.000000"
        },
        {
         "num": 3,
         "city": "London",
         "_deepnote_index_column": "2018-01-01T09:44:00.000000"
        },
        {
         "num": 1,
         "city": "London",
         "_deepnote_index_column": "2018-01-01T09:45:00.000000"
        },
        {
         "num": 3,
         "city": "London",
         "_deepnote_index_column": "2018-01-01T09:46:00.000000"
        },
        {
         "num": 4,
         "city": "London",
         "_deepnote_index_column": "2018-01-01T09:47:00.000000"
        },
        {
         "num": 3,
         "city": "London",
         "_deepnote_index_column": "2018-01-01T09:48:00.000000"
        },
        {
         "num": 1,
         "city": "London",
         "_deepnote_index_column": "2018-01-01T09:49:00.000000"
        },
        {
         "num": 3,
         "city": "London",
         "_deepnote_index_column": "2018-01-01T09:50:00.000000"
        },
        {
         "num": 3,
         "city": "London",
         "_deepnote_index_column": "2018-01-01T09:51:00.000000"
        },
        {
         "num": 2,
         "city": "London",
         "_deepnote_index_column": "2018-01-01T09:52:00.000000"
        },
        {
         "num": 3,
         "city": "London",
         "_deepnote_index_column": "2018-01-01T09:53:00.000000"
        },
        {
         "num": 3,
         "city": "London",
         "_deepnote_index_column": "2018-01-01T09:54:00.000000"
        },
        {
         "num": 3,
         "city": "London",
         "_deepnote_index_column": "2018-01-01T09:55:00.000000"
        },
        {
         "num": 3,
         "city": "London",
         "_deepnote_index_column": "2018-01-01T09:56:00.000000"
        },
        {
         "num": 4,
         "city": "London",
         "_deepnote_index_column": "2018-01-01T09:57:00.000000"
        },
        {
         "num": 4,
         "city": "London",
         "_deepnote_index_column": "2018-01-01T09:58:00.000000"
        },
        {
         "num": 4,
         "city": "London",
         "_deepnote_index_column": "2018-01-01T09:59:00.000000"
        },
        {
         "num": 3,
         "city": "London",
         "_deepnote_index_column": "2018-01-01T10:00:00.000000"
        },
        {
         "num": 1,
         "city": "London",
         "_deepnote_index_column": "2018-01-01T10:01:00.000000"
        },
        {
         "num": 2,
         "city": "London",
         "_deepnote_index_column": "2018-01-01T10:02:00.000000"
        },
        {
         "num": 1,
         "city": "London",
         "_deepnote_index_column": "2018-01-01T10:03:00.000000"
        },
        {
         "num": 2,
         "city": "London",
         "_deepnote_index_column": "2018-01-01T10:04:00.000000"
        },
        {
         "num": 1,
         "city": "London",
         "_deepnote_index_column": "2018-01-01T10:05:00.000000"
        },
        {
         "num": 3,
         "city": "London",
         "_deepnote_index_column": "2018-01-01T10:06:00.000000"
        },
        {
         "num": 2,
         "city": "London",
         "_deepnote_index_column": "2018-01-01T10:07:00.000000"
        },
        {
         "num": 3,
         "city": "London",
         "_deepnote_index_column": "2018-01-01T10:08:00.000000"
        },
        {
         "num": 1,
         "city": "London",
         "_deepnote_index_column": "2018-01-01T10:09:00.000000"
        },
        {
         "num": 3,
         "city": "London",
         "_deepnote_index_column": "2018-01-01T10:10:00.000000"
        },
        {
         "num": 2,
         "city": "London",
         "_deepnote_index_column": "2018-01-01T10:11:00.000000"
        },
        {
         "num": 2,
         "city": "London",
         "_deepnote_index_column": "2018-01-01T10:12:00.000000"
        },
        {
         "num": 1,
         "city": "London",
         "_deepnote_index_column": "2018-01-01T10:13:00.000000"
        },
        {
         "num": 3,
         "city": "London",
         "_deepnote_index_column": "2018-01-01T10:14:00.000000"
        },
        {
         "num": 3,
         "city": "London",
         "_deepnote_index_column": "2018-01-01T10:15:00.000000"
        },
        {
         "num": 3,
         "city": "London",
         "_deepnote_index_column": "2018-01-01T10:16:00.000000"
        },
        {
         "num": 4,
         "city": "London",
         "_deepnote_index_column": "2018-01-01T10:17:00.000000"
        },
        {
         "num": 4,
         "city": "London",
         "_deepnote_index_column": "2018-01-01T10:18:00.000000"
        },
        {
         "num": 3,
         "city": "London",
         "_deepnote_index_column": "2018-01-01T10:19:00.000000"
        },
        {
         "num": 3,
         "city": "London",
         "_deepnote_index_column": "2018-01-01T10:20:00.000000"
        },
        {
         "num": 4,
         "city": "London",
         "_deepnote_index_column": "2018-01-01T10:21:00.000000"
        },
        {
         "num": 2,
         "city": "London",
         "_deepnote_index_column": "2018-01-01T10:22:00.000000"
        },
        {
         "num": 3,
         "city": "London",
         "_deepnote_index_column": "2018-01-01T10:23:00.000000"
        },
        {
         "num": 2,
         "city": "London",
         "_deepnote_index_column": "2018-01-01T10:24:00.000000"
        },
        {
         "num": 3,
         "city": "London",
         "_deepnote_index_column": "2018-01-01T10:25:00.000000"
        },
        {
         "num": 3,
         "city": "London",
         "_deepnote_index_column": "2018-01-01T10:26:00.000000"
        },
        {
         "num": 2,
         "city": "London",
         "_deepnote_index_column": "2018-01-01T10:27:00.000000"
        },
        {
         "num": 2,
         "city": "London",
         "_deepnote_index_column": "2018-01-01T10:28:00.000000"
        },
        {
         "num": 1,
         "city": "London",
         "_deepnote_index_column": "2018-01-01T10:29:00.000000"
        },
        {
         "num": 3,
         "city": "London",
         "_deepnote_index_column": "2018-01-01T10:30:00.000000"
        },
        {
         "num": 4,
         "city": "London",
         "_deepnote_index_column": "2018-01-01T10:31:00.000000"
        },
        {
         "num": 3,
         "city": "London",
         "_deepnote_index_column": "2018-01-01T10:32:00.000000"
        },
        {
         "num": 3,
         "city": "London",
         "_deepnote_index_column": "2018-01-01T10:33:00.000000"
        },
        {
         "num": 3,
         "city": "London",
         "_deepnote_index_column": "2018-01-01T10:34:00.000000"
        },
        {
         "num": 4,
         "city": "London",
         "_deepnote_index_column": "2018-01-01T10:35:00.000000"
        },
        {
         "num": 3,
         "city": "London",
         "_deepnote_index_column": "2018-01-01T10:36:00.000000"
        },
        {
         "num": 2,
         "city": "London",
         "_deepnote_index_column": "2018-01-01T10:37:00.000000"
        },
        {
         "num": 3,
         "city": "London",
         "_deepnote_index_column": "2018-01-01T10:38:00.000000"
        },
        {
         "num": 3,
         "city": "London",
         "_deepnote_index_column": "2018-01-01T10:39:00.000000"
        },
        {
         "num": 2,
         "city": "London",
         "_deepnote_index_column": "2018-01-01T10:40:00.000000"
        },
        {
         "num": 3,
         "city": "London",
         "_deepnote_index_column": "2018-01-01T10:41:00.000000"
        },
        {
         "num": 3,
         "city": "London",
         "_deepnote_index_column": "2018-01-01T10:42:00.000000"
        },
        {
         "num": 3,
         "city": "London",
         "_deepnote_index_column": "2018-01-01T10:43:00.000000"
        },
        {
         "num": 3,
         "city": "London",
         "_deepnote_index_column": "2018-01-01T10:44:00.000000"
        },
        {
         "num": 3,
         "city": "London",
         "_deepnote_index_column": "2018-01-01T10:45:00.000000"
        },
        {
         "num": 2,
         "city": "London",
         "_deepnote_index_column": "2018-01-01T10:46:00.000000"
        },
        {
         "num": 3,
         "city": "London",
         "_deepnote_index_column": "2018-01-01T10:47:00.000000"
        },
        {
         "num": 3,
         "city": "London",
         "_deepnote_index_column": "2018-01-01T10:48:00.000000"
        },
        {
         "num": 3,
         "city": "London",
         "_deepnote_index_column": "2018-01-01T10:49:00.000000"
        },
        {
         "num": 4,
         "city": "London",
         "_deepnote_index_column": "2018-01-01T10:50:00.000000"
        },
        {
         "num": 4,
         "city": "London",
         "_deepnote_index_column": "2018-01-01T10:51:00.000000"
        },
        {
         "num": 2,
         "city": "London",
         "_deepnote_index_column": "2018-01-01T10:52:00.000000"
        },
        {
         "num": 4,
         "city": "London",
         "_deepnote_index_column": "2018-01-01T10:53:00.000000"
        },
        {
         "num": 3,
         "city": "London",
         "_deepnote_index_column": "2018-01-01T10:54:00.000000"
        },
        {
         "num": 2,
         "city": "London",
         "_deepnote_index_column": "2018-01-01T10:55:00.000000"
        },
        {
         "num": 3,
         "city": "London",
         "_deepnote_index_column": "2018-01-01T10:56:00.000000"
        },
        {
         "num": 3,
         "city": "London",
         "_deepnote_index_column": "2018-01-01T10:57:00.000000"
        },
        {
         "num": 2,
         "city": "London",
         "_deepnote_index_column": "2018-01-01T10:58:00.000000"
        },
        {
         "num": 3,
         "city": "London",
         "_deepnote_index_column": "2018-01-01T10:59:00.000000"
        },
        {
         "num": 3,
         "city": "London",
         "_deepnote_index_column": "2018-01-01T11:00:00.000000"
        },
        {
         "num": 3,
         "city": "London",
         "_deepnote_index_column": "2018-01-01T11:01:00.000000"
        },
        {
         "num": 2,
         "city": "London",
         "_deepnote_index_column": "2018-01-01T11:02:00.000000"
        },
        {
         "num": 2,
         "city": "London",
         "_deepnote_index_column": "2018-01-01T11:03:00.000000"
        },
        {
         "num": 4,
         "city": "London",
         "_deepnote_index_column": "2018-01-01T11:04:00.000000"
        },
        {
         "num": 2,
         "city": "London",
         "_deepnote_index_column": "2018-01-01T11:05:00.000000"
        },
        {
         "num": 1,
         "city": "London",
         "_deepnote_index_column": "2018-01-01T11:06:00.000000"
        },
        {
         "num": 3,
         "city": "London",
         "_deepnote_index_column": "2018-01-01T11:07:00.000000"
        },
        {
         "num": 1,
         "city": "London",
         "_deepnote_index_column": "2018-01-01T11:08:00.000000"
        },
        {
         "num": 4,
         "city": "London",
         "_deepnote_index_column": "2018-01-01T11:09:00.000000"
        },
        {
         "num": 4,
         "city": "London",
         "_deepnote_index_column": "2018-01-01T11:10:00.000000"
        },
        {
         "num": 3,
         "city": "London",
         "_deepnote_index_column": "2018-01-01T11:11:00.000000"
        },
        {
         "num": 2,
         "city": "London",
         "_deepnote_index_column": "2018-01-01T11:12:00.000000"
        },
        {
         "num": 1,
         "city": "London",
         "_deepnote_index_column": "2018-01-01T11:13:00.000000"
        },
        {
         "num": 2,
         "city": "London",
         "_deepnote_index_column": "2018-01-01T11:14:00.000000"
        },
        {
         "num": 3,
         "city": "London",
         "_deepnote_index_column": "2018-01-01T11:15:00.000000"
        },
        {
         "num": 4,
         "city": "London",
         "_deepnote_index_column": "2018-01-01T11:16:00.000000"
        },
        {
         "num": 1,
         "city": "London",
         "_deepnote_index_column": "2018-01-01T11:17:00.000000"
        },
        {
         "num": 3,
         "city": "London",
         "_deepnote_index_column": "2018-01-01T11:18:00.000000"
        },
        {
         "num": 4,
         "city": "London",
         "_deepnote_index_column": "2018-01-01T11:19:00.000000"
        },
        {
         "num": 3,
         "city": "London",
         "_deepnote_index_column": "2018-01-01T11:20:00.000000"
        },
        {
         "num": 3,
         "city": "London",
         "_deepnote_index_column": "2018-01-01T11:21:00.000000"
        },
        {
         "num": 3,
         "city": "London",
         "_deepnote_index_column": "2018-01-01T11:22:00.000000"
        },
        {
         "num": 3,
         "city": "London",
         "_deepnote_index_column": "2018-01-01T11:23:00.000000"
        },
        {
         "num": 1,
         "city": "London",
         "_deepnote_index_column": "2018-01-01T11:24:00.000000"
        },
        {
         "num": 1,
         "city": "London",
         "_deepnote_index_column": "2018-01-01T11:25:00.000000"
        },
        {
         "num": 3,
         "city": "London",
         "_deepnote_index_column": "2018-01-01T11:26:00.000000"
        },
        {
         "num": 4,
         "city": "London",
         "_deepnote_index_column": "2018-01-01T11:27:00.000000"
        },
        {
         "num": 4,
         "city": "London",
         "_deepnote_index_column": "2018-01-01T11:28:00.000000"
        },
        {
         "num": 3,
         "city": "London",
         "_deepnote_index_column": "2018-01-01T11:29:00.000000"
        },
        {
         "num": 3,
         "city": "London",
         "_deepnote_index_column": "2018-01-01T11:30:00.000000"
        },
        {
         "num": 3,
         "city": "London",
         "_deepnote_index_column": "2018-01-01T11:31:00.000000"
        },
        {
         "num": 3,
         "city": "London",
         "_deepnote_index_column": "2018-01-01T11:32:00.000000"
        },
        {
         "num": 3,
         "city": "London",
         "_deepnote_index_column": "2018-01-01T11:33:00.000000"
        },
        {
         "num": 1,
         "city": "London",
         "_deepnote_index_column": "2018-01-01T11:34:00.000000"
        },
        {
         "num": 2,
         "city": "London",
         "_deepnote_index_column": "2018-01-01T11:35:00.000000"
        },
        {
         "num": 1,
         "city": "London",
         "_deepnote_index_column": "2018-01-01T11:36:00.000000"
        },
        {
         "num": 1,
         "city": "London",
         "_deepnote_index_column": "2018-01-01T11:37:00.000000"
        },
        {
         "num": 4,
         "city": "London",
         "_deepnote_index_column": "2018-01-01T11:38:00.000000"
        },
        {
         "num": 3,
         "city": "London",
         "_deepnote_index_column": "2018-01-01T11:39:00.000000"
        },
        {
         "num": 4,
         "city": "London",
         "_deepnote_index_column": "2018-01-01T11:40:00.000000"
        },
        {
         "num": 3,
         "city": "London",
         "_deepnote_index_column": "2018-01-01T11:41:00.000000"
        },
        {
         "num": 4,
         "city": "London",
         "_deepnote_index_column": "2018-01-01T11:42:00.000000"
        },
        {
         "num": 3,
         "city": "London",
         "_deepnote_index_column": "2018-01-01T11:43:00.000000"
        },
        {
         "num": 2,
         "city": "London",
         "_deepnote_index_column": "2018-01-01T11:44:00.000000"
        },
        {
         "num": 3,
         "city": "London",
         "_deepnote_index_column": "2018-01-01T11:45:00.000000"
        },
        {
         "num": 3,
         "city": "London",
         "_deepnote_index_column": "2018-01-01T11:46:00.000000"
        },
        {
         "num": 2,
         "city": "London",
         "_deepnote_index_column": "2018-01-01T11:47:00.000000"
        },
        {
         "num": 3,
         "city": "London",
         "_deepnote_index_column": "2018-01-01T11:48:00.000000"
        },
        {
         "num": 3,
         "city": "London",
         "_deepnote_index_column": "2018-01-01T11:49:00.000000"
        },
        {
         "num": 3,
         "city": "London",
         "_deepnote_index_column": "2018-01-01T11:50:00.000000"
        },
        {
         "num": 3,
         "city": "London",
         "_deepnote_index_column": "2018-01-01T11:51:00.000000"
        },
        {
         "num": 3,
         "city": "London",
         "_deepnote_index_column": "2018-01-01T11:52:00.000000"
        },
        {
         "num": 3,
         "city": "London",
         "_deepnote_index_column": "2018-01-01T11:53:00.000000"
        },
        {
         "num": 1,
         "city": "London",
         "_deepnote_index_column": "2018-01-01T11:54:00.000000"
        },
        {
         "num": 3,
         "city": "London",
         "_deepnote_index_column": "2018-01-01T11:55:00.000000"
        },
        {
         "num": 4,
         "city": "London",
         "_deepnote_index_column": "2018-01-01T11:56:00.000000"
        },
        {
         "num": 4,
         "city": "London",
         "_deepnote_index_column": "2018-01-01T11:57:00.000000"
        },
        {
         "num": 4,
         "city": "London",
         "_deepnote_index_column": "2018-01-01T11:58:00.000000"
        },
        {
         "num": 3,
         "city": "London",
         "_deepnote_index_column": "2018-01-01T11:59:00.000000"
        },
        {
         "num": 2,
         "city": "London",
         "_deepnote_index_column": "2018-01-01T12:00:00.000000"
        },
        {
         "num": 2,
         "city": "London",
         "_deepnote_index_column": "2018-01-01T12:01:00.000000"
        },
        {
         "num": 3,
         "city": "London",
         "_deepnote_index_column": "2018-01-01T12:02:00.000000"
        },
        {
         "num": 3,
         "city": "London",
         "_deepnote_index_column": "2018-01-01T12:03:00.000000"
        },
        {
         "num": 4,
         "city": "London",
         "_deepnote_index_column": "2018-01-01T12:04:00.000000"
        },
        {
         "num": 2,
         "city": "London",
         "_deepnote_index_column": "2018-01-01T12:05:00.000000"
        },
        {
         "num": 3,
         "city": "London",
         "_deepnote_index_column": "2018-01-01T12:06:00.000000"
        },
        {
         "num": 3,
         "city": "London",
         "_deepnote_index_column": "2018-01-01T12:07:00.000000"
        },
        {
         "num": 3,
         "city": "London",
         "_deepnote_index_column": "2018-01-01T12:08:00.000000"
        },
        {
         "num": 2,
         "city": "London",
         "_deepnote_index_column": "2018-01-01T12:09:00.000000"
        },
        {
         "num": 3,
         "city": "London",
         "_deepnote_index_column": "2018-01-01T12:10:00.000000"
        },
        {
         "num": 3,
         "city": "London",
         "_deepnote_index_column": "2018-01-01T12:11:00.000000"
        },
        {
         "num": 3,
         "city": "London",
         "_deepnote_index_column": "2018-01-01T12:12:00.000000"
        },
        {
         "num": 3,
         "city": "London",
         "_deepnote_index_column": "2018-01-01T12:13:00.000000"
        },
        {
         "num": 3,
         "city": "London",
         "_deepnote_index_column": "2018-01-01T12:14:00.000000"
        },
        {
         "num": 1,
         "city": "London",
         "_deepnote_index_column": "2018-01-01T12:15:00.000000"
        },
        {
         "num": 3,
         "city": "London",
         "_deepnote_index_column": "2018-01-01T12:16:00.000000"
        },
        {
         "num": 3,
         "city": "London",
         "_deepnote_index_column": "2018-01-01T12:17:00.000000"
        },
        {
         "num": 3,
         "city": "London",
         "_deepnote_index_column": "2018-01-01T12:18:00.000000"
        },
        {
         "num": 3,
         "city": "London",
         "_deepnote_index_column": "2018-01-01T12:19:00.000000"
        },
        {
         "num": 4,
         "city": "London",
         "_deepnote_index_column": "2018-01-01T12:20:00.000000"
        },
        {
         "num": 3,
         "city": "London",
         "_deepnote_index_column": "2018-01-01T12:21:00.000000"
        },
        {
         "num": 3,
         "city": "London",
         "_deepnote_index_column": "2018-01-01T12:22:00.000000"
        },
        {
         "num": 4,
         "city": "London",
         "_deepnote_index_column": "2018-01-01T12:23:00.000000"
        },
        {
         "num": 2,
         "city": "London",
         "_deepnote_index_column": "2018-01-01T12:24:00.000000"
        },
        {
         "num": 3,
         "city": "London",
         "_deepnote_index_column": "2018-01-01T12:25:00.000000"
        },
        {
         "num": 2,
         "city": "London",
         "_deepnote_index_column": "2018-01-01T12:26:00.000000"
        },
        {
         "num": 1,
         "city": "London",
         "_deepnote_index_column": "2018-01-01T12:27:00.000000"
        },
        {
         "num": 4,
         "city": "London",
         "_deepnote_index_column": "2018-01-01T12:28:00.000000"
        },
        {
         "num": 3,
         "city": "London",
         "_deepnote_index_column": "2018-01-01T12:29:00.000000"
        },
        {
         "num": 1,
         "city": "London",
         "_deepnote_index_column": "2018-01-01T12:30:00.000000"
        },
        {
         "num": 3,
         "city": "London",
         "_deepnote_index_column": "2018-01-01T12:31:00.000000"
        },
        {
         "num": 3,
         "city": "London",
         "_deepnote_index_column": "2018-01-01T12:32:00.000000"
        },
        {
         "num": 3,
         "city": "London",
         "_deepnote_index_column": "2018-01-01T12:33:00.000000"
        },
        {
         "num": 2,
         "city": "London",
         "_deepnote_index_column": "2018-01-01T12:34:00.000000"
        },
        {
         "num": 2,
         "city": "London",
         "_deepnote_index_column": "2018-01-01T12:35:00.000000"
        },
        {
         "num": 3,
         "city": "London",
         "_deepnote_index_column": "2018-01-01T12:36:00.000000"
        },
        {
         "num": 4,
         "city": "London",
         "_deepnote_index_column": "2018-01-01T12:37:00.000000"
        },
        {
         "num": 4,
         "city": "London",
         "_deepnote_index_column": "2018-01-01T12:38:00.000000"
        },
        {
         "num": 2,
         "city": "London",
         "_deepnote_index_column": "2018-01-01T12:39:00.000000"
        },
        {
         "num": 4,
         "city": "London",
         "_deepnote_index_column": "2018-01-01T12:40:00.000000"
        },
        {
         "num": 4,
         "city": "London",
         "_deepnote_index_column": "2018-01-01T12:41:00.000000"
        },
        {
         "num": 1,
         "city": "London",
         "_deepnote_index_column": "2018-01-01T12:42:00.000000"
        },
        {
         "num": 3,
         "city": "London",
         "_deepnote_index_column": "2018-01-01T12:43:00.000000"
        },
        {
         "num": 3,
         "city": "London",
         "_deepnote_index_column": "2018-01-01T12:44:00.000000"
        },
        {
         "num": 4,
         "city": "London",
         "_deepnote_index_column": "2018-01-01T12:45:00.000000"
        },
        {
         "num": 3,
         "city": "London",
         "_deepnote_index_column": "2018-01-01T12:46:00.000000"
        },
        {
         "num": 1,
         "city": "London",
         "_deepnote_index_column": "2018-01-01T12:47:00.000000"
        },
        {
         "num": 3,
         "city": "London",
         "_deepnote_index_column": "2018-01-01T12:48:00.000000"
        },
        {
         "num": 2,
         "city": "London",
         "_deepnote_index_column": "2018-01-01T12:49:00.000000"
        },
        {
         "num": 3,
         "city": "London",
         "_deepnote_index_column": "2018-01-01T12:50:00.000000"
        },
        {
         "num": 3,
         "city": "London",
         "_deepnote_index_column": "2018-01-01T12:51:00.000000"
        },
        {
         "num": 4,
         "city": "London",
         "_deepnote_index_column": "2018-01-01T12:52:00.000000"
        },
        {
         "num": 3,
         "city": "London",
         "_deepnote_index_column": "2018-01-01T12:53:00.000000"
        },
        {
         "num": 2,
         "city": "London",
         "_deepnote_index_column": "2018-01-01T12:54:00.000000"
        },
        {
         "num": 3,
         "city": "London",
         "_deepnote_index_column": "2018-01-01T12:55:00.000000"
        },
        {
         "num": 3,
         "city": "London",
         "_deepnote_index_column": "2018-01-01T12:56:00.000000"
        },
        {
         "num": 1,
         "city": "London",
         "_deepnote_index_column": "2018-01-01T12:57:00.000000"
        },
        {
         "num": 3,
         "city": "London",
         "_deepnote_index_column": "2018-01-01T12:58:00.000000"
        },
        {
         "num": 2,
         "city": "London",
         "_deepnote_index_column": "2018-01-01T12:59:00.000000"
        },
        {
         "num": 3,
         "city": "London",
         "_deepnote_index_column": "2018-01-01T13:00:00.000000"
        },
        {
         "num": 4,
         "city": "London",
         "_deepnote_index_column": "2018-01-01T13:01:00.000000"
        },
        {
         "num": 1,
         "city": "London",
         "_deepnote_index_column": "2018-01-01T13:02:00.000000"
        },
        {
         "num": 4,
         "city": "London",
         "_deepnote_index_column": "2018-01-01T13:03:00.000000"
        },
        {
         "num": 3,
         "city": "London",
         "_deepnote_index_column": "2018-01-01T13:04:00.000000"
        },
        {
         "num": 3,
         "city": "London",
         "_deepnote_index_column": "2018-01-01T13:05:00.000000"
        },
        {
         "num": 3,
         "city": "London",
         "_deepnote_index_column": "2018-01-01T13:06:00.000000"
        },
        {
         "num": 4,
         "city": "London",
         "_deepnote_index_column": "2018-01-01T13:07:00.000000"
        },
        {
         "num": 3,
         "city": "London",
         "_deepnote_index_column": "2018-01-01T13:08:00.000000"
        },
        {
         "num": 3,
         "city": "London",
         "_deepnote_index_column": "2018-01-01T13:09:00.000000"
        }
       ],
       "rows_bottom": [
        {
         "num": 2,
         "city": "Cambridge",
         "_deepnote_index_column": "2018-12-31T11:51:00.000000"
        },
        {
         "num": 2,
         "city": "Cambridge",
         "_deepnote_index_column": "2018-12-31T11:52:00.000000"
        },
        {
         "num": 4,
         "city": "Cambridge",
         "_deepnote_index_column": "2018-12-31T11:53:00.000000"
        },
        {
         "num": 3,
         "city": "Cambridge",
         "_deepnote_index_column": "2018-12-31T11:54:00.000000"
        },
        {
         "num": 3,
         "city": "Cambridge",
         "_deepnote_index_column": "2018-12-31T11:55:00.000000"
        },
        {
         "num": 3,
         "city": "Cambridge",
         "_deepnote_index_column": "2018-12-31T11:56:00.000000"
        },
        {
         "num": 4,
         "city": "Cambridge",
         "_deepnote_index_column": "2018-12-31T11:57:00.000000"
        },
        {
         "num": 2,
         "city": "Cambridge",
         "_deepnote_index_column": "2018-12-31T11:58:00.000000"
        },
        {
         "num": 3,
         "city": "Cambridge",
         "_deepnote_index_column": "2018-12-31T11:59:00.000000"
        },
        {
         "num": 3,
         "city": "Cambridge",
         "_deepnote_index_column": "2018-12-31T12:00:00.000000"
        },
        {
         "num": 3,
         "city": "Cambridge",
         "_deepnote_index_column": "2018-12-31T12:01:00.000000"
        },
        {
         "num": 4,
         "city": "Cambridge",
         "_deepnote_index_column": "2018-12-31T12:02:00.000000"
        },
        {
         "num": 2,
         "city": "Cambridge",
         "_deepnote_index_column": "2018-12-31T12:03:00.000000"
        },
        {
         "num": 3,
         "city": "Cambridge",
         "_deepnote_index_column": "2018-12-31T12:04:00.000000"
        },
        {
         "num": 3,
         "city": "Cambridge",
         "_deepnote_index_column": "2018-12-31T12:05:00.000000"
        },
        {
         "num": 3,
         "city": "Cambridge",
         "_deepnote_index_column": "2018-12-31T12:06:00.000000"
        },
        {
         "num": 1,
         "city": "Cambridge",
         "_deepnote_index_column": "2018-12-31T12:07:00.000000"
        },
        {
         "num": 3,
         "city": "Cambridge",
         "_deepnote_index_column": "2018-12-31T12:08:00.000000"
        },
        {
         "num": 3,
         "city": "Cambridge",
         "_deepnote_index_column": "2018-12-31T12:09:00.000000"
        },
        {
         "num": 4,
         "city": "Cambridge",
         "_deepnote_index_column": "2018-12-31T12:10:00.000000"
        },
        {
         "num": 3,
         "city": "Cambridge",
         "_deepnote_index_column": "2018-12-31T12:11:00.000000"
        },
        {
         "num": 3,
         "city": "Cambridge",
         "_deepnote_index_column": "2018-12-31T12:12:00.000000"
        },
        {
         "num": 1,
         "city": "Cambridge",
         "_deepnote_index_column": "2018-12-31T12:13:00.000000"
        },
        {
         "num": 1,
         "city": "Cambridge",
         "_deepnote_index_column": "2018-12-31T12:14:00.000000"
        },
        {
         "num": 3,
         "city": "Cambridge",
         "_deepnote_index_column": "2018-12-31T12:15:00.000000"
        },
        {
         "num": 3,
         "city": "Cambridge",
         "_deepnote_index_column": "2018-12-31T12:16:00.000000"
        },
        {
         "num": 3,
         "city": "Cambridge",
         "_deepnote_index_column": "2018-12-31T12:17:00.000000"
        },
        {
         "num": 2,
         "city": "Cambridge",
         "_deepnote_index_column": "2018-12-31T12:18:00.000000"
        },
        {
         "num": 4,
         "city": "Cambridge",
         "_deepnote_index_column": "2018-12-31T12:19:00.000000"
        },
        {
         "num": 3,
         "city": "Cambridge",
         "_deepnote_index_column": "2018-12-31T12:20:00.000000"
        },
        {
         "num": 2,
         "city": "Cambridge",
         "_deepnote_index_column": "2018-12-31T12:21:00.000000"
        },
        {
         "num": 2,
         "city": "Cambridge",
         "_deepnote_index_column": "2018-12-31T12:22:00.000000"
        },
        {
         "num": 2,
         "city": "Cambridge",
         "_deepnote_index_column": "2018-12-31T12:23:00.000000"
        },
        {
         "num": 1,
         "city": "Cambridge",
         "_deepnote_index_column": "2018-12-31T12:24:00.000000"
        },
        {
         "num": 3,
         "city": "Cambridge",
         "_deepnote_index_column": "2018-12-31T12:25:00.000000"
        },
        {
         "num": 3,
         "city": "Cambridge",
         "_deepnote_index_column": "2018-12-31T12:26:00.000000"
        },
        {
         "num": 2,
         "city": "Cambridge",
         "_deepnote_index_column": "2018-12-31T12:27:00.000000"
        },
        {
         "num": 2,
         "city": "Cambridge",
         "_deepnote_index_column": "2018-12-31T12:28:00.000000"
        },
        {
         "num": 3,
         "city": "Cambridge",
         "_deepnote_index_column": "2018-12-31T12:29:00.000000"
        },
        {
         "num": 1,
         "city": "Cambridge",
         "_deepnote_index_column": "2018-12-31T12:30:00.000000"
        },
        {
         "num": 2,
         "city": "Cambridge",
         "_deepnote_index_column": "2018-12-31T12:31:00.000000"
        },
        {
         "num": 2,
         "city": "Cambridge",
         "_deepnote_index_column": "2018-12-31T12:32:00.000000"
        },
        {
         "num": 2,
         "city": "Cambridge",
         "_deepnote_index_column": "2018-12-31T12:33:00.000000"
        },
        {
         "num": 2,
         "city": "Cambridge",
         "_deepnote_index_column": "2018-12-31T12:34:00.000000"
        },
        {
         "num": 2,
         "city": "Cambridge",
         "_deepnote_index_column": "2018-12-31T12:35:00.000000"
        },
        {
         "num": 3,
         "city": "Cambridge",
         "_deepnote_index_column": "2018-12-31T12:36:00.000000"
        },
        {
         "num": 1,
         "city": "Cambridge",
         "_deepnote_index_column": "2018-12-31T12:37:00.000000"
        },
        {
         "num": 3,
         "city": "Cambridge",
         "_deepnote_index_column": "2018-12-31T12:38:00.000000"
        },
        {
         "num": 3,
         "city": "Cambridge",
         "_deepnote_index_column": "2018-12-31T12:39:00.000000"
        },
        {
         "num": 3,
         "city": "Cambridge",
         "_deepnote_index_column": "2018-12-31T12:40:00.000000"
        },
        {
         "num": 1,
         "city": "Cambridge",
         "_deepnote_index_column": "2018-12-31T12:41:00.000000"
        },
        {
         "num": 4,
         "city": "Cambridge",
         "_deepnote_index_column": "2018-12-31T12:42:00.000000"
        },
        {
         "num": 3,
         "city": "Cambridge",
         "_deepnote_index_column": "2018-12-31T12:43:00.000000"
        },
        {
         "num": 3,
         "city": "Cambridge",
         "_deepnote_index_column": "2018-12-31T12:44:00.000000"
        },
        {
         "num": 3,
         "city": "Cambridge",
         "_deepnote_index_column": "2018-12-31T12:45:00.000000"
        },
        {
         "num": 3,
         "city": "Cambridge",
         "_deepnote_index_column": "2018-12-31T12:46:00.000000"
        },
        {
         "num": 4,
         "city": "Cambridge",
         "_deepnote_index_column": "2018-12-31T12:47:00.000000"
        },
        {
         "num": 3,
         "city": "Cambridge",
         "_deepnote_index_column": "2018-12-31T12:48:00.000000"
        },
        {
         "num": 3,
         "city": "Cambridge",
         "_deepnote_index_column": "2018-12-31T12:49:00.000000"
        },
        {
         "num": 1,
         "city": "Cambridge",
         "_deepnote_index_column": "2018-12-31T12:50:00.000000"
        },
        {
         "num": 2,
         "city": "Cambridge",
         "_deepnote_index_column": "2018-12-31T12:51:00.000000"
        },
        {
         "num": 2,
         "city": "Cambridge",
         "_deepnote_index_column": "2018-12-31T12:52:00.000000"
        },
        {
         "num": 2,
         "city": "Cambridge",
         "_deepnote_index_column": "2018-12-31T12:53:00.000000"
        },
        {
         "num": 1,
         "city": "Cambridge",
         "_deepnote_index_column": "2018-12-31T12:54:00.000000"
        },
        {
         "num": 3,
         "city": "Cambridge",
         "_deepnote_index_column": "2018-12-31T12:55:00.000000"
        },
        {
         "num": 2,
         "city": "Cambridge",
         "_deepnote_index_column": "2018-12-31T12:56:00.000000"
        },
        {
         "num": 3,
         "city": "Cambridge",
         "_deepnote_index_column": "2018-12-31T12:57:00.000000"
        },
        {
         "num": 1,
         "city": "Cambridge",
         "_deepnote_index_column": "2018-12-31T12:58:00.000000"
        },
        {
         "num": 1,
         "city": "Cambridge",
         "_deepnote_index_column": "2018-12-31T12:59:00.000000"
        },
        {
         "num": 3,
         "city": "Cambridge",
         "_deepnote_index_column": "2018-12-31T13:00:00.000000"
        },
        {
         "num": 2,
         "city": "Cambridge",
         "_deepnote_index_column": "2018-12-31T13:01:00.000000"
        },
        {
         "num": 4,
         "city": "Cambridge",
         "_deepnote_index_column": "2018-12-31T13:02:00.000000"
        },
        {
         "num": 4,
         "city": "Cambridge",
         "_deepnote_index_column": "2018-12-31T13:03:00.000000"
        },
        {
         "num": 3,
         "city": "Cambridge",
         "_deepnote_index_column": "2018-12-31T13:04:00.000000"
        },
        {
         "num": 3,
         "city": "Cambridge",
         "_deepnote_index_column": "2018-12-31T13:05:00.000000"
        },
        {
         "num": 1,
         "city": "Cambridge",
         "_deepnote_index_column": "2018-12-31T13:06:00.000000"
        },
        {
         "num": 2,
         "city": "Cambridge",
         "_deepnote_index_column": "2018-12-31T13:07:00.000000"
        },
        {
         "num": 2,
         "city": "Cambridge",
         "_deepnote_index_column": "2018-12-31T13:08:00.000000"
        },
        {
         "num": 3,
         "city": "Cambridge",
         "_deepnote_index_column": "2018-12-31T13:09:00.000000"
        },
        {
         "num": 2,
         "city": "Cambridge",
         "_deepnote_index_column": "2018-12-31T13:10:00.000000"
        },
        {
         "num": 2,
         "city": "Cambridge",
         "_deepnote_index_column": "2018-12-31T13:11:00.000000"
        },
        {
         "num": 3,
         "city": "Cambridge",
         "_deepnote_index_column": "2018-12-31T13:12:00.000000"
        },
        {
         "num": 3,
         "city": "Cambridge",
         "_deepnote_index_column": "2018-12-31T13:13:00.000000"
        },
        {
         "num": 4,
         "city": "Cambridge",
         "_deepnote_index_column": "2018-12-31T13:14:00.000000"
        },
        {
         "num": 3,
         "city": "Cambridge",
         "_deepnote_index_column": "2018-12-31T13:15:00.000000"
        },
        {
         "num": 3,
         "city": "Cambridge",
         "_deepnote_index_column": "2018-12-31T13:16:00.000000"
        },
        {
         "num": 4,
         "city": "Cambridge",
         "_deepnote_index_column": "2018-12-31T13:17:00.000000"
        },
        {
         "num": 3,
         "city": "Cambridge",
         "_deepnote_index_column": "2018-12-31T13:18:00.000000"
        },
        {
         "num": 3,
         "city": "Cambridge",
         "_deepnote_index_column": "2018-12-31T13:19:00.000000"
        },
        {
         "num": 3,
         "city": "Cambridge",
         "_deepnote_index_column": "2018-12-31T13:20:00.000000"
        },
        {
         "num": 2,
         "city": "Cambridge",
         "_deepnote_index_column": "2018-12-31T13:21:00.000000"
        },
        {
         "num": 3,
         "city": "Cambridge",
         "_deepnote_index_column": "2018-12-31T13:22:00.000000"
        },
        {
         "num": 3,
         "city": "Cambridge",
         "_deepnote_index_column": "2018-12-31T13:23:00.000000"
        },
        {
         "num": 3,
         "city": "Cambridge",
         "_deepnote_index_column": "2018-12-31T13:24:00.000000"
        },
        {
         "num": 3,
         "city": "Cambridge",
         "_deepnote_index_column": "2018-12-31T13:25:00.000000"
        },
        {
         "num": 3,
         "city": "Cambridge",
         "_deepnote_index_column": "2018-12-31T13:26:00.000000"
        },
        {
         "num": 3,
         "city": "Cambridge",
         "_deepnote_index_column": "2018-12-31T13:27:00.000000"
        },
        {
         "num": 3,
         "city": "Cambridge",
         "_deepnote_index_column": "2018-12-31T13:28:00.000000"
        },
        {
         "num": 3,
         "city": "Cambridge",
         "_deepnote_index_column": "2018-12-31T13:29:00.000000"
        },
        {
         "num": 4,
         "city": "Cambridge",
         "_deepnote_index_column": "2018-12-31T13:30:00.000000"
        },
        {
         "num": 2,
         "city": "Cambridge",
         "_deepnote_index_column": "2018-12-31T13:31:00.000000"
        },
        {
         "num": 3,
         "city": "Cambridge",
         "_deepnote_index_column": "2018-12-31T13:32:00.000000"
        },
        {
         "num": 4,
         "city": "Cambridge",
         "_deepnote_index_column": "2018-12-31T13:33:00.000000"
        },
        {
         "num": 3,
         "city": "Cambridge",
         "_deepnote_index_column": "2018-12-31T13:34:00.000000"
        },
        {
         "num": 3,
         "city": "Cambridge",
         "_deepnote_index_column": "2018-12-31T13:35:00.000000"
        },
        {
         "num": 2,
         "city": "Cambridge",
         "_deepnote_index_column": "2018-12-31T13:36:00.000000"
        },
        {
         "num": 2,
         "city": "Cambridge",
         "_deepnote_index_column": "2018-12-31T13:37:00.000000"
        },
        {
         "num": 3,
         "city": "Cambridge",
         "_deepnote_index_column": "2018-12-31T13:38:00.000000"
        },
        {
         "num": 3,
         "city": "Cambridge",
         "_deepnote_index_column": "2018-12-31T13:39:00.000000"
        },
        {
         "num": 3,
         "city": "Cambridge",
         "_deepnote_index_column": "2018-12-31T13:40:00.000000"
        },
        {
         "num": 3,
         "city": "Cambridge",
         "_deepnote_index_column": "2018-12-31T13:41:00.000000"
        },
        {
         "num": 3,
         "city": "Cambridge",
         "_deepnote_index_column": "2018-12-31T13:42:00.000000"
        },
        {
         "num": 2,
         "city": "Cambridge",
         "_deepnote_index_column": "2018-12-31T13:43:00.000000"
        },
        {
         "num": 3,
         "city": "Cambridge",
         "_deepnote_index_column": "2018-12-31T13:44:00.000000"
        },
        {
         "num": 3,
         "city": "Cambridge",
         "_deepnote_index_column": "2018-12-31T13:45:00.000000"
        },
        {
         "num": 4,
         "city": "Cambridge",
         "_deepnote_index_column": "2018-12-31T13:46:00.000000"
        },
        {
         "num": 4,
         "city": "Cambridge",
         "_deepnote_index_column": "2018-12-31T13:47:00.000000"
        },
        {
         "num": 4,
         "city": "Cambridge",
         "_deepnote_index_column": "2018-12-31T13:48:00.000000"
        },
        {
         "num": 4,
         "city": "Cambridge",
         "_deepnote_index_column": "2018-12-31T13:49:00.000000"
        },
        {
         "num": 3,
         "city": "Cambridge",
         "_deepnote_index_column": "2018-12-31T13:50:00.000000"
        },
        {
         "num": 3,
         "city": "Cambridge",
         "_deepnote_index_column": "2018-12-31T13:51:00.000000"
        },
        {
         "num": 4,
         "city": "Cambridge",
         "_deepnote_index_column": "2018-12-31T13:52:00.000000"
        },
        {
         "num": 2,
         "city": "Cambridge",
         "_deepnote_index_column": "2018-12-31T13:53:00.000000"
        },
        {
         "num": 1,
         "city": "Cambridge",
         "_deepnote_index_column": "2018-12-31T13:54:00.000000"
        },
        {
         "num": 3,
         "city": "Cambridge",
         "_deepnote_index_column": "2018-12-31T13:55:00.000000"
        },
        {
         "num": 3,
         "city": "Cambridge",
         "_deepnote_index_column": "2018-12-31T13:56:00.000000"
        },
        {
         "num": 1,
         "city": "Cambridge",
         "_deepnote_index_column": "2018-12-31T13:57:00.000000"
        },
        {
         "num": 3,
         "city": "Cambridge",
         "_deepnote_index_column": "2018-12-31T13:58:00.000000"
        },
        {
         "num": 1,
         "city": "Cambridge",
         "_deepnote_index_column": "2018-12-31T13:59:00.000000"
        },
        {
         "num": 3,
         "city": "Cambridge",
         "_deepnote_index_column": "2018-12-31T14:00:00.000000"
        },
        {
         "num": 4,
         "city": "Cambridge",
         "_deepnote_index_column": "2018-12-31T14:01:00.000000"
        },
        {
         "num": 4,
         "city": "Cambridge",
         "_deepnote_index_column": "2018-12-31T14:02:00.000000"
        },
        {
         "num": 3,
         "city": "Cambridge",
         "_deepnote_index_column": "2018-12-31T14:03:00.000000"
        },
        {
         "num": 4,
         "city": "Cambridge",
         "_deepnote_index_column": "2018-12-31T14:04:00.000000"
        },
        {
         "num": 4,
         "city": "Cambridge",
         "_deepnote_index_column": "2018-12-31T14:05:00.000000"
        },
        {
         "num": 3,
         "city": "Cambridge",
         "_deepnote_index_column": "2018-12-31T14:06:00.000000"
        },
        {
         "num": 3,
         "city": "Cambridge",
         "_deepnote_index_column": "2018-12-31T14:07:00.000000"
        },
        {
         "num": 3,
         "city": "Cambridge",
         "_deepnote_index_column": "2018-12-31T14:08:00.000000"
        },
        {
         "num": 3,
         "city": "Cambridge",
         "_deepnote_index_column": "2018-12-31T14:09:00.000000"
        },
        {
         "num": 2,
         "city": "Cambridge",
         "_deepnote_index_column": "2018-12-31T14:10:00.000000"
        },
        {
         "num": 1,
         "city": "Cambridge",
         "_deepnote_index_column": "2018-12-31T14:11:00.000000"
        },
        {
         "num": 4,
         "city": "Cambridge",
         "_deepnote_index_column": "2018-12-31T14:12:00.000000"
        },
        {
         "num": 3,
         "city": "Cambridge",
         "_deepnote_index_column": "2018-12-31T14:13:00.000000"
        },
        {
         "num": 3,
         "city": "Cambridge",
         "_deepnote_index_column": "2018-12-31T14:14:00.000000"
        },
        {
         "num": 2,
         "city": "Cambridge",
         "_deepnote_index_column": "2018-12-31T14:15:00.000000"
        },
        {
         "num": 4,
         "city": "Cambridge",
         "_deepnote_index_column": "2018-12-31T14:16:00.000000"
        },
        {
         "num": 2,
         "city": "Cambridge",
         "_deepnote_index_column": "2018-12-31T14:17:00.000000"
        },
        {
         "num": 4,
         "city": "Cambridge",
         "_deepnote_index_column": "2018-12-31T14:18:00.000000"
        },
        {
         "num": 4,
         "city": "Cambridge",
         "_deepnote_index_column": "2018-12-31T14:19:00.000000"
        },
        {
         "num": 4,
         "city": "Cambridge",
         "_deepnote_index_column": "2018-12-31T14:20:00.000000"
        },
        {
         "num": 3,
         "city": "Cambridge",
         "_deepnote_index_column": "2018-12-31T14:21:00.000000"
        },
        {
         "num": 1,
         "city": "Cambridge",
         "_deepnote_index_column": "2018-12-31T14:22:00.000000"
        },
        {
         "num": 2,
         "city": "Cambridge",
         "_deepnote_index_column": "2018-12-31T14:23:00.000000"
        },
        {
         "num": 3,
         "city": "Cambridge",
         "_deepnote_index_column": "2018-12-31T14:24:00.000000"
        },
        {
         "num": 3,
         "city": "Cambridge",
         "_deepnote_index_column": "2018-12-31T14:25:00.000000"
        },
        {
         "num": 3,
         "city": "Cambridge",
         "_deepnote_index_column": "2018-12-31T14:26:00.000000"
        },
        {
         "num": 2,
         "city": "Cambridge",
         "_deepnote_index_column": "2018-12-31T14:27:00.000000"
        },
        {
         "num": 4,
         "city": "Cambridge",
         "_deepnote_index_column": "2018-12-31T14:28:00.000000"
        },
        {
         "num": 3,
         "city": "Cambridge",
         "_deepnote_index_column": "2018-12-31T14:29:00.000000"
        },
        {
         "num": 3,
         "city": "Cambridge",
         "_deepnote_index_column": "2018-12-31T14:30:00.000000"
        },
        {
         "num": 3,
         "city": "Cambridge",
         "_deepnote_index_column": "2018-12-31T14:31:00.000000"
        },
        {
         "num": 1,
         "city": "Cambridge",
         "_deepnote_index_column": "2018-12-31T14:32:00.000000"
        },
        {
         "num": 4,
         "city": "Cambridge",
         "_deepnote_index_column": "2018-12-31T14:33:00.000000"
        },
        {
         "num": 3,
         "city": "Cambridge",
         "_deepnote_index_column": "2018-12-31T14:34:00.000000"
        },
        {
         "num": 2,
         "city": "Cambridge",
         "_deepnote_index_column": "2018-12-31T14:35:00.000000"
        },
        {
         "num": 1,
         "city": "Cambridge",
         "_deepnote_index_column": "2018-12-31T14:36:00.000000"
        },
        {
         "num": 4,
         "city": "Cambridge",
         "_deepnote_index_column": "2018-12-31T14:37:00.000000"
        },
        {
         "num": 3,
         "city": "Cambridge",
         "_deepnote_index_column": "2018-12-31T14:38:00.000000"
        },
        {
         "num": 3,
         "city": "Cambridge",
         "_deepnote_index_column": "2018-12-31T14:39:00.000000"
        },
        {
         "num": 4,
         "city": "Cambridge",
         "_deepnote_index_column": "2018-12-31T14:40:00.000000"
        },
        {
         "num": 2,
         "city": "Cambridge",
         "_deepnote_index_column": "2018-12-31T14:41:00.000000"
        },
        {
         "num": 3,
         "city": "Cambridge",
         "_deepnote_index_column": "2018-12-31T14:42:00.000000"
        },
        {
         "num": 2,
         "city": "Cambridge",
         "_deepnote_index_column": "2018-12-31T14:43:00.000000"
        },
        {
         "num": 3,
         "city": "Cambridge",
         "_deepnote_index_column": "2018-12-31T14:44:00.000000"
        },
        {
         "num": 1,
         "city": "Cambridge",
         "_deepnote_index_column": "2018-12-31T14:45:00.000000"
        },
        {
         "num": 2,
         "city": "Cambridge",
         "_deepnote_index_column": "2018-12-31T14:46:00.000000"
        },
        {
         "num": 4,
         "city": "Cambridge",
         "_deepnote_index_column": "2018-12-31T14:47:00.000000"
        },
        {
         "num": 3,
         "city": "Cambridge",
         "_deepnote_index_column": "2018-12-31T14:48:00.000000"
        },
        {
         "num": 3,
         "city": "Cambridge",
         "_deepnote_index_column": "2018-12-31T14:49:00.000000"
        },
        {
         "num": 2,
         "city": "Cambridge",
         "_deepnote_index_column": "2018-12-31T14:50:00.000000"
        },
        {
         "num": 2,
         "city": "Cambridge",
         "_deepnote_index_column": "2018-12-31T14:51:00.000000"
        },
        {
         "num": 2,
         "city": "Cambridge",
         "_deepnote_index_column": "2018-12-31T14:52:00.000000"
        },
        {
         "num": 3,
         "city": "Cambridge",
         "_deepnote_index_column": "2018-12-31T14:53:00.000000"
        },
        {
         "num": 3,
         "city": "Cambridge",
         "_deepnote_index_column": "2018-12-31T14:54:00.000000"
        },
        {
         "num": 2,
         "city": "Cambridge",
         "_deepnote_index_column": "2018-12-31T14:55:00.000000"
        },
        {
         "num": 4,
         "city": "Cambridge",
         "_deepnote_index_column": "2018-12-31T14:56:00.000000"
        },
        {
         "num": 4,
         "city": "Cambridge",
         "_deepnote_index_column": "2018-12-31T14:57:00.000000"
        },
        {
         "num": 3,
         "city": "Cambridge",
         "_deepnote_index_column": "2018-12-31T14:58:00.000000"
        },
        {
         "num": 3,
         "city": "Cambridge",
         "_deepnote_index_column": "2018-12-31T14:59:00.000000"
        },
        {
         "num": 4,
         "city": "Cambridge",
         "_deepnote_index_column": "2018-12-31T15:00:00.000000"
        },
        {
         "num": 2,
         "city": "Cambridge",
         "_deepnote_index_column": "2018-12-31T15:01:00.000000"
        },
        {
         "num": 4,
         "city": "Cambridge",
         "_deepnote_index_column": "2018-12-31T15:02:00.000000"
        },
        {
         "num": 2,
         "city": "Cambridge",
         "_deepnote_index_column": "2018-12-31T15:03:00.000000"
        },
        {
         "num": 3,
         "city": "Cambridge",
         "_deepnote_index_column": "2018-12-31T15:04:00.000000"
        },
        {
         "num": 2,
         "city": "Cambridge",
         "_deepnote_index_column": "2018-12-31T15:05:00.000000"
        },
        {
         "num": 1,
         "city": "Cambridge",
         "_deepnote_index_column": "2018-12-31T15:06:00.000000"
        },
        {
         "num": 2,
         "city": "Cambridge",
         "_deepnote_index_column": "2018-12-31T15:07:00.000000"
        },
        {
         "num": 3,
         "city": "Cambridge",
         "_deepnote_index_column": "2018-12-31T15:08:00.000000"
        },
        {
         "num": 3,
         "city": "Cambridge",
         "_deepnote_index_column": "2018-12-31T15:09:00.000000"
        },
        {
         "num": 2,
         "city": "Cambridge",
         "_deepnote_index_column": "2018-12-31T15:10:00.000000"
        },
        {
         "num": 4,
         "city": "Cambridge",
         "_deepnote_index_column": "2018-12-31T15:11:00.000000"
        },
        {
         "num": 4,
         "city": "Cambridge",
         "_deepnote_index_column": "2018-12-31T15:12:00.000000"
        },
        {
         "num": 3,
         "city": "Cambridge",
         "_deepnote_index_column": "2018-12-31T15:13:00.000000"
        },
        {
         "num": 2,
         "city": "Cambridge",
         "_deepnote_index_column": "2018-12-31T15:14:00.000000"
        },
        {
         "num": 4,
         "city": "Cambridge",
         "_deepnote_index_column": "2018-12-31T15:15:00.000000"
        },
        {
         "num": 3,
         "city": "Cambridge",
         "_deepnote_index_column": "2018-12-31T15:16:00.000000"
        },
        {
         "num": 3,
         "city": "Cambridge",
         "_deepnote_index_column": "2018-12-31T15:17:00.000000"
        },
        {
         "num": 2,
         "city": "Cambridge",
         "_deepnote_index_column": "2018-12-31T15:18:00.000000"
        },
        {
         "num": 3,
         "city": "Cambridge",
         "_deepnote_index_column": "2018-12-31T15:19:00.000000"
        },
        {
         "num": 3,
         "city": "Cambridge",
         "_deepnote_index_column": "2018-12-31T15:20:00.000000"
        },
        {
         "num": 2,
         "city": "Cambridge",
         "_deepnote_index_column": "2018-12-31T15:21:00.000000"
        },
        {
         "num": 3,
         "city": "Cambridge",
         "_deepnote_index_column": "2018-12-31T15:22:00.000000"
        },
        {
         "num": 3,
         "city": "Cambridge",
         "_deepnote_index_column": "2018-12-31T15:23:00.000000"
        },
        {
         "num": 4,
         "city": "Cambridge",
         "_deepnote_index_column": "2018-12-31T15:24:00.000000"
        },
        {
         "num": 4,
         "city": "Cambridge",
         "_deepnote_index_column": "2018-12-31T15:25:00.000000"
        },
        {
         "num": 1,
         "city": "Cambridge",
         "_deepnote_index_column": "2018-12-31T15:26:00.000000"
        },
        {
         "num": 2,
         "city": "Cambridge",
         "_deepnote_index_column": "2018-12-31T15:27:00.000000"
        },
        {
         "num": 3,
         "city": "Cambridge",
         "_deepnote_index_column": "2018-12-31T15:28:00.000000"
        },
        {
         "num": 1,
         "city": "Cambridge",
         "_deepnote_index_column": "2018-12-31T15:29:00.000000"
        },
        {
         "num": 3,
         "city": "Cambridge",
         "_deepnote_index_column": "2018-12-31T15:30:00.000000"
        },
        {
         "num": 3,
         "city": "Cambridge",
         "_deepnote_index_column": "2018-12-31T15:31:00.000000"
        },
        {
         "num": 4,
         "city": "Cambridge",
         "_deepnote_index_column": "2018-12-31T15:32:00.000000"
        },
        {
         "num": 4,
         "city": "Cambridge",
         "_deepnote_index_column": "2018-12-31T15:33:00.000000"
        },
        {
         "num": 3,
         "city": "Cambridge",
         "_deepnote_index_column": "2018-12-31T15:34:00.000000"
        },
        {
         "num": 3,
         "city": "Cambridge",
         "_deepnote_index_column": "2018-12-31T15:35:00.000000"
        },
        {
         "num": 3,
         "city": "Cambridge",
         "_deepnote_index_column": "2018-12-31T15:36:00.000000"
        },
        {
         "num": 1,
         "city": "Cambridge",
         "_deepnote_index_column": "2018-12-31T15:37:00.000000"
        },
        {
         "num": 3,
         "city": "Cambridge",
         "_deepnote_index_column": "2018-12-31T15:38:00.000000"
        },
        {
         "num": 3,
         "city": "Cambridge",
         "_deepnote_index_column": "2018-12-31T15:39:00.000000"
        },
        {
         "num": 4,
         "city": "Cambridge",
         "_deepnote_index_column": "2018-12-31T15:40:00.000000"
        },
        {
         "num": 3,
         "city": "Cambridge",
         "_deepnote_index_column": "2018-12-31T15:41:00.000000"
        },
        {
         "num": 2,
         "city": "Cambridge",
         "_deepnote_index_column": "2018-12-31T15:42:00.000000"
        },
        {
         "num": 2,
         "city": "Cambridge",
         "_deepnote_index_column": "2018-12-31T15:43:00.000000"
        },
        {
         "num": 3,
         "city": "Cambridge",
         "_deepnote_index_column": "2018-12-31T15:44:00.000000"
        },
        {
         "num": 1,
         "city": "Cambridge",
         "_deepnote_index_column": "2018-12-31T15:45:00.000000"
        },
        {
         "num": 4,
         "city": "Cambridge",
         "_deepnote_index_column": "2018-12-31T15:46:00.000000"
        },
        {
         "num": 3,
         "city": "Cambridge",
         "_deepnote_index_column": "2018-12-31T15:47:00.000000"
        },
        {
         "num": 1,
         "city": "Cambridge",
         "_deepnote_index_column": "2018-12-31T15:48:00.000000"
        },
        {
         "num": 3,
         "city": "Cambridge",
         "_deepnote_index_column": "2018-12-31T15:49:00.000000"
        },
        {
         "num": 2,
         "city": "Cambridge",
         "_deepnote_index_column": "2018-12-31T15:50:00.000000"
        },
        {
         "num": 3,
         "city": "Cambridge",
         "_deepnote_index_column": "2018-12-31T15:51:00.000000"
        },
        {
         "num": 3,
         "city": "Cambridge",
         "_deepnote_index_column": "2018-12-31T15:52:00.000000"
        },
        {
         "num": 3,
         "city": "Cambridge",
         "_deepnote_index_column": "2018-12-31T15:53:00.000000"
        },
        {
         "num": 4,
         "city": "Cambridge",
         "_deepnote_index_column": "2018-12-31T15:54:00.000000"
        },
        {
         "num": 2,
         "city": "Cambridge",
         "_deepnote_index_column": "2018-12-31T15:55:00.000000"
        },
        {
         "num": 4,
         "city": "Cambridge",
         "_deepnote_index_column": "2018-12-31T15:56:00.000000"
        },
        {
         "num": 2,
         "city": "Cambridge",
         "_deepnote_index_column": "2018-12-31T15:57:00.000000"
        },
        {
         "num": 3,
         "city": "Cambridge",
         "_deepnote_index_column": "2018-12-31T15:58:00.000000"
        },
        {
         "num": 3,
         "city": "Cambridge",
         "_deepnote_index_column": "2018-12-31T15:59:00.000000"
        },
        {
         "num": 2,
         "city": "Cambridge",
         "_deepnote_index_column": "2018-12-31T16:00:00.000000"
        }
       ]
      },
      "text/plain": "                     num       city\ndate                               \n2018-01-01 09:00:00    2     London\n2018-01-01 09:01:00    1     London\n2018-01-01 09:02:00    3     London\n2018-01-01 09:03:00    3     London\n2018-01-01 09:04:00    3     London\n...                  ...        ...\n2018-12-31 15:56:00    4  Cambridge\n2018-12-31 15:57:00    2  Cambridge\n2018-12-31 15:58:00    3  Cambridge\n2018-12-31 15:59:00    3  Cambridge\n2018-12-31 16:00:00    2  Cambridge\n\n[439524 rows x 2 columns]",
      "text/html": "<div>\n<style scoped>\n    .dataframe tbody tr th:only-of-type {\n        vertical-align: middle;\n    }\n\n    .dataframe tbody tr th {\n        vertical-align: top;\n    }\n\n    .dataframe thead th {\n        text-align: right;\n    }\n</style>\n<table border=\"1\" class=\"dataframe\">\n  <thead>\n    <tr style=\"text-align: right;\">\n      <th></th>\n      <th>num</th>\n      <th>city</th>\n    </tr>\n    <tr>\n      <th>date</th>\n      <th></th>\n      <th></th>\n    </tr>\n  </thead>\n  <tbody>\n    <tr>\n      <th>2018-01-01 09:00:00</th>\n      <td>2</td>\n      <td>London</td>\n    </tr>\n    <tr>\n      <th>2018-01-01 09:01:00</th>\n      <td>1</td>\n      <td>London</td>\n    </tr>\n    <tr>\n      <th>2018-01-01 09:02:00</th>\n      <td>3</td>\n      <td>London</td>\n    </tr>\n    <tr>\n      <th>2018-01-01 09:03:00</th>\n      <td>3</td>\n      <td>London</td>\n    </tr>\n    <tr>\n      <th>2018-01-01 09:04:00</th>\n      <td>3</td>\n      <td>London</td>\n    </tr>\n    <tr>\n      <th>...</th>\n      <td>...</td>\n      <td>...</td>\n    </tr>\n    <tr>\n      <th>2018-12-31 15:56:00</th>\n      <td>4</td>\n      <td>Cambridge</td>\n    </tr>\n    <tr>\n      <th>2018-12-31 15:57:00</th>\n      <td>2</td>\n      <td>Cambridge</td>\n    </tr>\n    <tr>\n      <th>2018-12-31 15:58:00</th>\n      <td>3</td>\n      <td>Cambridge</td>\n    </tr>\n    <tr>\n      <th>2018-12-31 15:59:00</th>\n      <td>3</td>\n      <td>Cambridge</td>\n    </tr>\n    <tr>\n      <th>2018-12-31 16:00:00</th>\n      <td>2</td>\n      <td>Cambridge</td>\n    </tr>\n  </tbody>\n</table>\n<p>439524 rows × 2 columns</p>\n</div>"
     },
     "metadata": {}
    }
   ]
  },
  {
   "cell_type": "markdown",
   "source": "### Specific year and month",
   "metadata": {
    "tags": [],
    "is_collapsed": false,
    "cell_id": "00042-d16921d6-a85a-4b24-a94d-efe9065826f7",
    "deepnote_cell_type": "text-cell-h3"
   }
  },
  {
   "cell_type": "code",
   "metadata": {
    "tags": [],
    "cell_id": "00042-12780ec0-7e43-463a-85b4-89747d941ec2",
    "deepnote_to_be_reexecuted": false,
    "source_hash": "8dbe2f7e",
    "execution_start": 1627922954652,
    "execution_millis": 71,
    "deepnote_cell_type": "code"
   },
   "source": "df.loc['2018-5']",
   "execution_count": null,
   "outputs": [
    {
     "output_type": "execute_result",
     "execution_count": 182,
     "data": {
      "application/vnd.deepnote.dataframe.v2+json": {
       "row_count": 38732,
       "column_count": 2,
       "columns": [
        {
         "name": "num",
         "dtype": "int64",
         "stats": {
          "unique_count": 4,
          "nan_count": 0,
          "min": "1",
          "max": "4",
          "histogram": [
           {
            "bin_start": 1,
            "bin_end": 1.3,
            "count": 3980
           },
           {
            "bin_start": 1.3,
            "bin_end": 1.6,
            "count": 0
           },
           {
            "bin_start": 1.6,
            "bin_end": 1.9,
            "count": 0
           },
           {
            "bin_start": 1.9,
            "bin_end": 2.2,
            "count": 7699
           },
           {
            "bin_start": 2.2,
            "bin_end": 2.5,
            "count": 0
           },
           {
            "bin_start": 2.5,
            "bin_end": 2.8,
            "count": 0
           },
           {
            "bin_start": 2.8,
            "bin_end": 3.1,
            "count": 19379
           },
           {
            "bin_start": 3.1,
            "bin_end": 3.4,
            "count": 0
           },
           {
            "bin_start": 3.4,
            "bin_end": 3.6999999999999997,
            "count": 0
           },
           {
            "bin_start": 3.6999999999999997,
            "bin_end": 4,
            "count": 7674
           }
          ]
         }
        },
        {
         "name": "city",
         "dtype": "object",
         "stats": {
          "unique_count": 4,
          "nan_count": 0,
          "categories": [
           {
            "name": "London",
            "count": 9683
           },
           {
            "name": "Oxford",
            "count": 9683
           },
           {
            "name": "2 others",
            "count": 19366
           }
          ]
         }
        },
        {
         "name": "_deepnote_index_column",
         "dtype": "datetime64[ns]"
        }
       ],
       "rows_top": [
        {
         "num": 1,
         "city": "London",
         "_deepnote_index_column": "2018-05-01T09:00:00.000000"
        },
        {
         "num": 4,
         "city": "London",
         "_deepnote_index_column": "2018-05-01T09:01:00.000000"
        },
        {
         "num": 3,
         "city": "London",
         "_deepnote_index_column": "2018-05-01T09:02:00.000000"
        },
        {
         "num": 2,
         "city": "London",
         "_deepnote_index_column": "2018-05-01T09:03:00.000000"
        },
        {
         "num": 3,
         "city": "London",
         "_deepnote_index_column": "2018-05-01T09:04:00.000000"
        },
        {
         "num": 3,
         "city": "London",
         "_deepnote_index_column": "2018-05-01T09:05:00.000000"
        },
        {
         "num": 2,
         "city": "London",
         "_deepnote_index_column": "2018-05-01T09:06:00.000000"
        },
        {
         "num": 3,
         "city": "London",
         "_deepnote_index_column": "2018-05-01T09:07:00.000000"
        },
        {
         "num": 2,
         "city": "London",
         "_deepnote_index_column": "2018-05-01T09:08:00.000000"
        },
        {
         "num": 3,
         "city": "London",
         "_deepnote_index_column": "2018-05-01T09:09:00.000000"
        },
        {
         "num": 3,
         "city": "London",
         "_deepnote_index_column": "2018-05-01T09:10:00.000000"
        },
        {
         "num": 2,
         "city": "London",
         "_deepnote_index_column": "2018-05-01T09:11:00.000000"
        },
        {
         "num": 2,
         "city": "London",
         "_deepnote_index_column": "2018-05-01T09:12:00.000000"
        },
        {
         "num": 1,
         "city": "London",
         "_deepnote_index_column": "2018-05-01T09:13:00.000000"
        },
        {
         "num": 1,
         "city": "London",
         "_deepnote_index_column": "2018-05-01T09:14:00.000000"
        },
        {
         "num": 3,
         "city": "London",
         "_deepnote_index_column": "2018-05-01T09:15:00.000000"
        },
        {
         "num": 1,
         "city": "London",
         "_deepnote_index_column": "2018-05-01T09:16:00.000000"
        },
        {
         "num": 3,
         "city": "London",
         "_deepnote_index_column": "2018-05-01T09:17:00.000000"
        },
        {
         "num": 3,
         "city": "London",
         "_deepnote_index_column": "2018-05-01T09:18:00.000000"
        },
        {
         "num": 3,
         "city": "London",
         "_deepnote_index_column": "2018-05-01T09:19:00.000000"
        },
        {
         "num": 4,
         "city": "London",
         "_deepnote_index_column": "2018-05-01T09:20:00.000000"
        },
        {
         "num": 3,
         "city": "London",
         "_deepnote_index_column": "2018-05-01T09:21:00.000000"
        },
        {
         "num": 1,
         "city": "London",
         "_deepnote_index_column": "2018-05-01T09:22:00.000000"
        },
        {
         "num": 3,
         "city": "London",
         "_deepnote_index_column": "2018-05-01T09:23:00.000000"
        },
        {
         "num": 3,
         "city": "London",
         "_deepnote_index_column": "2018-05-01T09:24:00.000000"
        },
        {
         "num": 4,
         "city": "London",
         "_deepnote_index_column": "2018-05-01T09:25:00.000000"
        },
        {
         "num": 1,
         "city": "London",
         "_deepnote_index_column": "2018-05-01T09:26:00.000000"
        },
        {
         "num": 3,
         "city": "London",
         "_deepnote_index_column": "2018-05-01T09:27:00.000000"
        },
        {
         "num": 3,
         "city": "London",
         "_deepnote_index_column": "2018-05-01T09:28:00.000000"
        },
        {
         "num": 3,
         "city": "London",
         "_deepnote_index_column": "2018-05-01T09:29:00.000000"
        },
        {
         "num": 4,
         "city": "London",
         "_deepnote_index_column": "2018-05-01T09:30:00.000000"
        },
        {
         "num": 3,
         "city": "London",
         "_deepnote_index_column": "2018-05-01T09:31:00.000000"
        },
        {
         "num": 3,
         "city": "London",
         "_deepnote_index_column": "2018-05-01T09:32:00.000000"
        },
        {
         "num": 4,
         "city": "London",
         "_deepnote_index_column": "2018-05-01T09:33:00.000000"
        },
        {
         "num": 3,
         "city": "London",
         "_deepnote_index_column": "2018-05-01T09:34:00.000000"
        },
        {
         "num": 4,
         "city": "London",
         "_deepnote_index_column": "2018-05-01T09:35:00.000000"
        },
        {
         "num": 1,
         "city": "London",
         "_deepnote_index_column": "2018-05-01T09:36:00.000000"
        },
        {
         "num": 3,
         "city": "London",
         "_deepnote_index_column": "2018-05-01T09:37:00.000000"
        },
        {
         "num": 3,
         "city": "London",
         "_deepnote_index_column": "2018-05-01T09:38:00.000000"
        },
        {
         "num": 2,
         "city": "London",
         "_deepnote_index_column": "2018-05-01T09:39:00.000000"
        },
        {
         "num": 4,
         "city": "London",
         "_deepnote_index_column": "2018-05-01T09:40:00.000000"
        },
        {
         "num": 3,
         "city": "London",
         "_deepnote_index_column": "2018-05-01T09:41:00.000000"
        },
        {
         "num": 2,
         "city": "London",
         "_deepnote_index_column": "2018-05-01T09:42:00.000000"
        },
        {
         "num": 4,
         "city": "London",
         "_deepnote_index_column": "2018-05-01T09:43:00.000000"
        },
        {
         "num": 3,
         "city": "London",
         "_deepnote_index_column": "2018-05-01T09:44:00.000000"
        },
        {
         "num": 2,
         "city": "London",
         "_deepnote_index_column": "2018-05-01T09:45:00.000000"
        },
        {
         "num": 2,
         "city": "London",
         "_deepnote_index_column": "2018-05-01T09:46:00.000000"
        },
        {
         "num": 4,
         "city": "London",
         "_deepnote_index_column": "2018-05-01T09:47:00.000000"
        },
        {
         "num": 4,
         "city": "London",
         "_deepnote_index_column": "2018-05-01T09:48:00.000000"
        },
        {
         "num": 3,
         "city": "London",
         "_deepnote_index_column": "2018-05-01T09:49:00.000000"
        },
        {
         "num": 3,
         "city": "London",
         "_deepnote_index_column": "2018-05-01T09:50:00.000000"
        },
        {
         "num": 1,
         "city": "London",
         "_deepnote_index_column": "2018-05-01T09:51:00.000000"
        },
        {
         "num": 4,
         "city": "London",
         "_deepnote_index_column": "2018-05-01T09:52:00.000000"
        },
        {
         "num": 4,
         "city": "London",
         "_deepnote_index_column": "2018-05-01T09:53:00.000000"
        },
        {
         "num": 1,
         "city": "London",
         "_deepnote_index_column": "2018-05-01T09:54:00.000000"
        },
        {
         "num": 2,
         "city": "London",
         "_deepnote_index_column": "2018-05-01T09:55:00.000000"
        },
        {
         "num": 1,
         "city": "London",
         "_deepnote_index_column": "2018-05-01T09:56:00.000000"
        },
        {
         "num": 2,
         "city": "London",
         "_deepnote_index_column": "2018-05-01T09:57:00.000000"
        },
        {
         "num": 2,
         "city": "London",
         "_deepnote_index_column": "2018-05-01T09:58:00.000000"
        },
        {
         "num": 2,
         "city": "London",
         "_deepnote_index_column": "2018-05-01T09:59:00.000000"
        },
        {
         "num": 2,
         "city": "London",
         "_deepnote_index_column": "2018-05-01T10:00:00.000000"
        },
        {
         "num": 2,
         "city": "London",
         "_deepnote_index_column": "2018-05-01T10:01:00.000000"
        },
        {
         "num": 3,
         "city": "London",
         "_deepnote_index_column": "2018-05-01T10:02:00.000000"
        },
        {
         "num": 3,
         "city": "London",
         "_deepnote_index_column": "2018-05-01T10:03:00.000000"
        },
        {
         "num": 2,
         "city": "London",
         "_deepnote_index_column": "2018-05-01T10:04:00.000000"
        },
        {
         "num": 3,
         "city": "London",
         "_deepnote_index_column": "2018-05-01T10:05:00.000000"
        },
        {
         "num": 3,
         "city": "London",
         "_deepnote_index_column": "2018-05-01T10:06:00.000000"
        },
        {
         "num": 4,
         "city": "London",
         "_deepnote_index_column": "2018-05-01T10:07:00.000000"
        },
        {
         "num": 3,
         "city": "London",
         "_deepnote_index_column": "2018-05-01T10:08:00.000000"
        },
        {
         "num": 2,
         "city": "London",
         "_deepnote_index_column": "2018-05-01T10:09:00.000000"
        },
        {
         "num": 4,
         "city": "London",
         "_deepnote_index_column": "2018-05-01T10:10:00.000000"
        },
        {
         "num": 2,
         "city": "London",
         "_deepnote_index_column": "2018-05-01T10:11:00.000000"
        },
        {
         "num": 3,
         "city": "London",
         "_deepnote_index_column": "2018-05-01T10:12:00.000000"
        },
        {
         "num": 2,
         "city": "London",
         "_deepnote_index_column": "2018-05-01T10:13:00.000000"
        },
        {
         "num": 3,
         "city": "London",
         "_deepnote_index_column": "2018-05-01T10:14:00.000000"
        },
        {
         "num": 2,
         "city": "London",
         "_deepnote_index_column": "2018-05-01T10:15:00.000000"
        },
        {
         "num": 3,
         "city": "London",
         "_deepnote_index_column": "2018-05-01T10:16:00.000000"
        },
        {
         "num": 3,
         "city": "London",
         "_deepnote_index_column": "2018-05-01T10:17:00.000000"
        },
        {
         "num": 2,
         "city": "London",
         "_deepnote_index_column": "2018-05-01T10:18:00.000000"
        },
        {
         "num": 3,
         "city": "London",
         "_deepnote_index_column": "2018-05-01T10:19:00.000000"
        },
        {
         "num": 3,
         "city": "London",
         "_deepnote_index_column": "2018-05-01T10:20:00.000000"
        },
        {
         "num": 1,
         "city": "London",
         "_deepnote_index_column": "2018-05-01T10:21:00.000000"
        },
        {
         "num": 3,
         "city": "London",
         "_deepnote_index_column": "2018-05-01T10:22:00.000000"
        },
        {
         "num": 3,
         "city": "London",
         "_deepnote_index_column": "2018-05-01T10:23:00.000000"
        },
        {
         "num": 2,
         "city": "London",
         "_deepnote_index_column": "2018-05-01T10:24:00.000000"
        },
        {
         "num": 4,
         "city": "London",
         "_deepnote_index_column": "2018-05-01T10:25:00.000000"
        },
        {
         "num": 4,
         "city": "London",
         "_deepnote_index_column": "2018-05-01T10:26:00.000000"
        },
        {
         "num": 2,
         "city": "London",
         "_deepnote_index_column": "2018-05-01T10:27:00.000000"
        },
        {
         "num": 4,
         "city": "London",
         "_deepnote_index_column": "2018-05-01T10:28:00.000000"
        },
        {
         "num": 3,
         "city": "London",
         "_deepnote_index_column": "2018-05-01T10:29:00.000000"
        },
        {
         "num": 1,
         "city": "London",
         "_deepnote_index_column": "2018-05-01T10:30:00.000000"
        },
        {
         "num": 3,
         "city": "London",
         "_deepnote_index_column": "2018-05-01T10:31:00.000000"
        },
        {
         "num": 3,
         "city": "London",
         "_deepnote_index_column": "2018-05-01T10:32:00.000000"
        },
        {
         "num": 3,
         "city": "London",
         "_deepnote_index_column": "2018-05-01T10:33:00.000000"
        },
        {
         "num": 1,
         "city": "London",
         "_deepnote_index_column": "2018-05-01T10:34:00.000000"
        },
        {
         "num": 4,
         "city": "London",
         "_deepnote_index_column": "2018-05-01T10:35:00.000000"
        },
        {
         "num": 3,
         "city": "London",
         "_deepnote_index_column": "2018-05-01T10:36:00.000000"
        },
        {
         "num": 2,
         "city": "London",
         "_deepnote_index_column": "2018-05-01T10:37:00.000000"
        },
        {
         "num": 4,
         "city": "London",
         "_deepnote_index_column": "2018-05-01T10:38:00.000000"
        },
        {
         "num": 3,
         "city": "London",
         "_deepnote_index_column": "2018-05-01T10:39:00.000000"
        },
        {
         "num": 3,
         "city": "London",
         "_deepnote_index_column": "2018-05-01T10:40:00.000000"
        },
        {
         "num": 1,
         "city": "London",
         "_deepnote_index_column": "2018-05-01T10:41:00.000000"
        },
        {
         "num": 4,
         "city": "London",
         "_deepnote_index_column": "2018-05-01T10:42:00.000000"
        },
        {
         "num": 2,
         "city": "London",
         "_deepnote_index_column": "2018-05-01T10:43:00.000000"
        },
        {
         "num": 3,
         "city": "London",
         "_deepnote_index_column": "2018-05-01T10:44:00.000000"
        },
        {
         "num": 3,
         "city": "London",
         "_deepnote_index_column": "2018-05-01T10:45:00.000000"
        },
        {
         "num": 4,
         "city": "London",
         "_deepnote_index_column": "2018-05-01T10:46:00.000000"
        },
        {
         "num": 3,
         "city": "London",
         "_deepnote_index_column": "2018-05-01T10:47:00.000000"
        },
        {
         "num": 3,
         "city": "London",
         "_deepnote_index_column": "2018-05-01T10:48:00.000000"
        },
        {
         "num": 4,
         "city": "London",
         "_deepnote_index_column": "2018-05-01T10:49:00.000000"
        },
        {
         "num": 3,
         "city": "London",
         "_deepnote_index_column": "2018-05-01T10:50:00.000000"
        },
        {
         "num": 3,
         "city": "London",
         "_deepnote_index_column": "2018-05-01T10:51:00.000000"
        },
        {
         "num": 1,
         "city": "London",
         "_deepnote_index_column": "2018-05-01T10:52:00.000000"
        },
        {
         "num": 2,
         "city": "London",
         "_deepnote_index_column": "2018-05-01T10:53:00.000000"
        },
        {
         "num": 3,
         "city": "London",
         "_deepnote_index_column": "2018-05-01T10:54:00.000000"
        },
        {
         "num": 1,
         "city": "London",
         "_deepnote_index_column": "2018-05-01T10:55:00.000000"
        },
        {
         "num": 3,
         "city": "London",
         "_deepnote_index_column": "2018-05-01T10:56:00.000000"
        },
        {
         "num": 3,
         "city": "London",
         "_deepnote_index_column": "2018-05-01T10:57:00.000000"
        },
        {
         "num": 1,
         "city": "London",
         "_deepnote_index_column": "2018-05-01T10:58:00.000000"
        },
        {
         "num": 3,
         "city": "London",
         "_deepnote_index_column": "2018-05-01T10:59:00.000000"
        },
        {
         "num": 3,
         "city": "London",
         "_deepnote_index_column": "2018-05-01T11:00:00.000000"
        },
        {
         "num": 3,
         "city": "London",
         "_deepnote_index_column": "2018-05-01T11:01:00.000000"
        },
        {
         "num": 3,
         "city": "London",
         "_deepnote_index_column": "2018-05-01T11:02:00.000000"
        },
        {
         "num": 2,
         "city": "London",
         "_deepnote_index_column": "2018-05-01T11:03:00.000000"
        },
        {
         "num": 2,
         "city": "London",
         "_deepnote_index_column": "2018-05-01T11:04:00.000000"
        },
        {
         "num": 4,
         "city": "London",
         "_deepnote_index_column": "2018-05-01T11:05:00.000000"
        },
        {
         "num": 3,
         "city": "London",
         "_deepnote_index_column": "2018-05-01T11:06:00.000000"
        },
        {
         "num": 3,
         "city": "London",
         "_deepnote_index_column": "2018-05-01T11:07:00.000000"
        },
        {
         "num": 2,
         "city": "London",
         "_deepnote_index_column": "2018-05-01T11:08:00.000000"
        },
        {
         "num": 2,
         "city": "London",
         "_deepnote_index_column": "2018-05-01T11:09:00.000000"
        },
        {
         "num": 4,
         "city": "London",
         "_deepnote_index_column": "2018-05-01T11:10:00.000000"
        },
        {
         "num": 3,
         "city": "London",
         "_deepnote_index_column": "2018-05-01T11:11:00.000000"
        },
        {
         "num": 3,
         "city": "London",
         "_deepnote_index_column": "2018-05-01T11:12:00.000000"
        },
        {
         "num": 3,
         "city": "London",
         "_deepnote_index_column": "2018-05-01T11:13:00.000000"
        },
        {
         "num": 1,
         "city": "London",
         "_deepnote_index_column": "2018-05-01T11:14:00.000000"
        },
        {
         "num": 4,
         "city": "London",
         "_deepnote_index_column": "2018-05-01T11:15:00.000000"
        },
        {
         "num": 2,
         "city": "London",
         "_deepnote_index_column": "2018-05-01T11:16:00.000000"
        },
        {
         "num": 2,
         "city": "London",
         "_deepnote_index_column": "2018-05-01T11:17:00.000000"
        },
        {
         "num": 3,
         "city": "London",
         "_deepnote_index_column": "2018-05-01T11:18:00.000000"
        },
        {
         "num": 3,
         "city": "London",
         "_deepnote_index_column": "2018-05-01T11:19:00.000000"
        },
        {
         "num": 4,
         "city": "London",
         "_deepnote_index_column": "2018-05-01T11:20:00.000000"
        },
        {
         "num": 1,
         "city": "London",
         "_deepnote_index_column": "2018-05-01T11:21:00.000000"
        },
        {
         "num": 3,
         "city": "London",
         "_deepnote_index_column": "2018-05-01T11:22:00.000000"
        },
        {
         "num": 4,
         "city": "London",
         "_deepnote_index_column": "2018-05-01T11:23:00.000000"
        },
        {
         "num": 3,
         "city": "London",
         "_deepnote_index_column": "2018-05-01T11:24:00.000000"
        },
        {
         "num": 3,
         "city": "London",
         "_deepnote_index_column": "2018-05-01T11:25:00.000000"
        },
        {
         "num": 1,
         "city": "London",
         "_deepnote_index_column": "2018-05-01T11:26:00.000000"
        },
        {
         "num": 1,
         "city": "London",
         "_deepnote_index_column": "2018-05-01T11:27:00.000000"
        },
        {
         "num": 3,
         "city": "London",
         "_deepnote_index_column": "2018-05-01T11:28:00.000000"
        },
        {
         "num": 4,
         "city": "London",
         "_deepnote_index_column": "2018-05-01T11:29:00.000000"
        },
        {
         "num": 3,
         "city": "London",
         "_deepnote_index_column": "2018-05-01T11:30:00.000000"
        },
        {
         "num": 3,
         "city": "London",
         "_deepnote_index_column": "2018-05-01T11:31:00.000000"
        },
        {
         "num": 3,
         "city": "London",
         "_deepnote_index_column": "2018-05-01T11:32:00.000000"
        },
        {
         "num": 2,
         "city": "London",
         "_deepnote_index_column": "2018-05-01T11:33:00.000000"
        },
        {
         "num": 3,
         "city": "London",
         "_deepnote_index_column": "2018-05-01T11:34:00.000000"
        },
        {
         "num": 4,
         "city": "London",
         "_deepnote_index_column": "2018-05-01T11:35:00.000000"
        },
        {
         "num": 2,
         "city": "London",
         "_deepnote_index_column": "2018-05-01T11:36:00.000000"
        },
        {
         "num": 3,
         "city": "London",
         "_deepnote_index_column": "2018-05-01T11:37:00.000000"
        },
        {
         "num": 3,
         "city": "London",
         "_deepnote_index_column": "2018-05-01T11:38:00.000000"
        },
        {
         "num": 4,
         "city": "London",
         "_deepnote_index_column": "2018-05-01T11:39:00.000000"
        },
        {
         "num": 4,
         "city": "London",
         "_deepnote_index_column": "2018-05-01T11:40:00.000000"
        },
        {
         "num": 2,
         "city": "London",
         "_deepnote_index_column": "2018-05-01T11:41:00.000000"
        },
        {
         "num": 1,
         "city": "London",
         "_deepnote_index_column": "2018-05-01T11:42:00.000000"
        },
        {
         "num": 2,
         "city": "London",
         "_deepnote_index_column": "2018-05-01T11:43:00.000000"
        },
        {
         "num": 4,
         "city": "London",
         "_deepnote_index_column": "2018-05-01T11:44:00.000000"
        },
        {
         "num": 3,
         "city": "London",
         "_deepnote_index_column": "2018-05-01T11:45:00.000000"
        },
        {
         "num": 3,
         "city": "London",
         "_deepnote_index_column": "2018-05-01T11:46:00.000000"
        },
        {
         "num": 3,
         "city": "London",
         "_deepnote_index_column": "2018-05-01T11:47:00.000000"
        },
        {
         "num": 3,
         "city": "London",
         "_deepnote_index_column": "2018-05-01T11:48:00.000000"
        },
        {
         "num": 1,
         "city": "London",
         "_deepnote_index_column": "2018-05-01T11:49:00.000000"
        },
        {
         "num": 3,
         "city": "London",
         "_deepnote_index_column": "2018-05-01T11:50:00.000000"
        },
        {
         "num": 4,
         "city": "London",
         "_deepnote_index_column": "2018-05-01T11:51:00.000000"
        },
        {
         "num": 3,
         "city": "London",
         "_deepnote_index_column": "2018-05-01T11:52:00.000000"
        },
        {
         "num": 1,
         "city": "London",
         "_deepnote_index_column": "2018-05-01T11:53:00.000000"
        },
        {
         "num": 3,
         "city": "London",
         "_deepnote_index_column": "2018-05-01T11:54:00.000000"
        },
        {
         "num": 3,
         "city": "London",
         "_deepnote_index_column": "2018-05-01T11:55:00.000000"
        },
        {
         "num": 3,
         "city": "London",
         "_deepnote_index_column": "2018-05-01T11:56:00.000000"
        },
        {
         "num": 4,
         "city": "London",
         "_deepnote_index_column": "2018-05-01T11:57:00.000000"
        },
        {
         "num": 1,
         "city": "London",
         "_deepnote_index_column": "2018-05-01T11:58:00.000000"
        },
        {
         "num": 3,
         "city": "London",
         "_deepnote_index_column": "2018-05-01T11:59:00.000000"
        },
        {
         "num": 4,
         "city": "London",
         "_deepnote_index_column": "2018-05-01T12:00:00.000000"
        },
        {
         "num": 2,
         "city": "London",
         "_deepnote_index_column": "2018-05-01T12:01:00.000000"
        },
        {
         "num": 3,
         "city": "London",
         "_deepnote_index_column": "2018-05-01T12:02:00.000000"
        },
        {
         "num": 3,
         "city": "London",
         "_deepnote_index_column": "2018-05-01T12:03:00.000000"
        },
        {
         "num": 2,
         "city": "London",
         "_deepnote_index_column": "2018-05-01T12:04:00.000000"
        },
        {
         "num": 2,
         "city": "London",
         "_deepnote_index_column": "2018-05-01T12:05:00.000000"
        },
        {
         "num": 4,
         "city": "London",
         "_deepnote_index_column": "2018-05-01T12:06:00.000000"
        },
        {
         "num": 1,
         "city": "London",
         "_deepnote_index_column": "2018-05-01T12:07:00.000000"
        },
        {
         "num": 2,
         "city": "London",
         "_deepnote_index_column": "2018-05-01T12:08:00.000000"
        },
        {
         "num": 4,
         "city": "London",
         "_deepnote_index_column": "2018-05-01T12:09:00.000000"
        },
        {
         "num": 2,
         "city": "London",
         "_deepnote_index_column": "2018-05-01T12:10:00.000000"
        },
        {
         "num": 2,
         "city": "London",
         "_deepnote_index_column": "2018-05-01T12:11:00.000000"
        },
        {
         "num": 4,
         "city": "London",
         "_deepnote_index_column": "2018-05-01T12:12:00.000000"
        },
        {
         "num": 4,
         "city": "London",
         "_deepnote_index_column": "2018-05-01T12:13:00.000000"
        },
        {
         "num": 3,
         "city": "London",
         "_deepnote_index_column": "2018-05-01T12:14:00.000000"
        },
        {
         "num": 4,
         "city": "London",
         "_deepnote_index_column": "2018-05-01T12:15:00.000000"
        },
        {
         "num": 3,
         "city": "London",
         "_deepnote_index_column": "2018-05-01T12:16:00.000000"
        },
        {
         "num": 4,
         "city": "London",
         "_deepnote_index_column": "2018-05-01T12:17:00.000000"
        },
        {
         "num": 3,
         "city": "London",
         "_deepnote_index_column": "2018-05-01T12:18:00.000000"
        },
        {
         "num": 1,
         "city": "London",
         "_deepnote_index_column": "2018-05-01T12:19:00.000000"
        },
        {
         "num": 3,
         "city": "London",
         "_deepnote_index_column": "2018-05-01T12:20:00.000000"
        },
        {
         "num": 3,
         "city": "London",
         "_deepnote_index_column": "2018-05-01T12:21:00.000000"
        },
        {
         "num": 3,
         "city": "London",
         "_deepnote_index_column": "2018-05-01T12:22:00.000000"
        },
        {
         "num": 3,
         "city": "London",
         "_deepnote_index_column": "2018-05-01T12:23:00.000000"
        },
        {
         "num": 1,
         "city": "London",
         "_deepnote_index_column": "2018-05-01T12:24:00.000000"
        },
        {
         "num": 3,
         "city": "London",
         "_deepnote_index_column": "2018-05-01T12:25:00.000000"
        },
        {
         "num": 3,
         "city": "London",
         "_deepnote_index_column": "2018-05-01T12:26:00.000000"
        },
        {
         "num": 3,
         "city": "London",
         "_deepnote_index_column": "2018-05-01T12:27:00.000000"
        },
        {
         "num": 3,
         "city": "London",
         "_deepnote_index_column": "2018-05-01T12:28:00.000000"
        },
        {
         "num": 4,
         "city": "London",
         "_deepnote_index_column": "2018-05-01T12:29:00.000000"
        },
        {
         "num": 4,
         "city": "London",
         "_deepnote_index_column": "2018-05-01T12:30:00.000000"
        },
        {
         "num": 3,
         "city": "London",
         "_deepnote_index_column": "2018-05-01T12:31:00.000000"
        },
        {
         "num": 3,
         "city": "London",
         "_deepnote_index_column": "2018-05-01T12:32:00.000000"
        },
        {
         "num": 3,
         "city": "London",
         "_deepnote_index_column": "2018-05-01T12:33:00.000000"
        },
        {
         "num": 4,
         "city": "London",
         "_deepnote_index_column": "2018-05-01T12:34:00.000000"
        },
        {
         "num": 2,
         "city": "London",
         "_deepnote_index_column": "2018-05-01T12:35:00.000000"
        },
        {
         "num": 3,
         "city": "London",
         "_deepnote_index_column": "2018-05-01T12:36:00.000000"
        },
        {
         "num": 3,
         "city": "London",
         "_deepnote_index_column": "2018-05-01T12:37:00.000000"
        },
        {
         "num": 4,
         "city": "London",
         "_deepnote_index_column": "2018-05-01T12:38:00.000000"
        },
        {
         "num": 3,
         "city": "London",
         "_deepnote_index_column": "2018-05-01T12:39:00.000000"
        },
        {
         "num": 3,
         "city": "London",
         "_deepnote_index_column": "2018-05-01T12:40:00.000000"
        },
        {
         "num": 4,
         "city": "London",
         "_deepnote_index_column": "2018-05-01T12:41:00.000000"
        },
        {
         "num": 2,
         "city": "London",
         "_deepnote_index_column": "2018-05-01T12:42:00.000000"
        },
        {
         "num": 4,
         "city": "London",
         "_deepnote_index_column": "2018-05-01T12:43:00.000000"
        },
        {
         "num": 3,
         "city": "London",
         "_deepnote_index_column": "2018-05-01T12:44:00.000000"
        },
        {
         "num": 4,
         "city": "London",
         "_deepnote_index_column": "2018-05-01T12:45:00.000000"
        },
        {
         "num": 3,
         "city": "London",
         "_deepnote_index_column": "2018-05-01T12:46:00.000000"
        },
        {
         "num": 2,
         "city": "London",
         "_deepnote_index_column": "2018-05-01T12:47:00.000000"
        },
        {
         "num": 2,
         "city": "London",
         "_deepnote_index_column": "2018-05-01T12:48:00.000000"
        },
        {
         "num": 2,
         "city": "London",
         "_deepnote_index_column": "2018-05-01T12:49:00.000000"
        },
        {
         "num": 2,
         "city": "London",
         "_deepnote_index_column": "2018-05-01T12:50:00.000000"
        },
        {
         "num": 3,
         "city": "London",
         "_deepnote_index_column": "2018-05-01T12:51:00.000000"
        },
        {
         "num": 3,
         "city": "London",
         "_deepnote_index_column": "2018-05-01T12:52:00.000000"
        },
        {
         "num": 4,
         "city": "London",
         "_deepnote_index_column": "2018-05-01T12:53:00.000000"
        },
        {
         "num": 3,
         "city": "London",
         "_deepnote_index_column": "2018-05-01T12:54:00.000000"
        },
        {
         "num": 3,
         "city": "London",
         "_deepnote_index_column": "2018-05-01T12:55:00.000000"
        },
        {
         "num": 3,
         "city": "London",
         "_deepnote_index_column": "2018-05-01T12:56:00.000000"
        },
        {
         "num": 1,
         "city": "London",
         "_deepnote_index_column": "2018-05-01T12:57:00.000000"
        },
        {
         "num": 3,
         "city": "London",
         "_deepnote_index_column": "2018-05-01T12:58:00.000000"
        },
        {
         "num": 4,
         "city": "London",
         "_deepnote_index_column": "2018-05-01T12:59:00.000000"
        },
        {
         "num": 1,
         "city": "London",
         "_deepnote_index_column": "2018-05-01T13:00:00.000000"
        },
        {
         "num": 3,
         "city": "London",
         "_deepnote_index_column": "2018-05-01T13:01:00.000000"
        },
        {
         "num": 3,
         "city": "London",
         "_deepnote_index_column": "2018-05-01T13:02:00.000000"
        },
        {
         "num": 4,
         "city": "London",
         "_deepnote_index_column": "2018-05-01T13:03:00.000000"
        },
        {
         "num": 3,
         "city": "London",
         "_deepnote_index_column": "2018-05-01T13:04:00.000000"
        },
        {
         "num": 4,
         "city": "London",
         "_deepnote_index_column": "2018-05-01T13:05:00.000000"
        },
        {
         "num": 4,
         "city": "London",
         "_deepnote_index_column": "2018-05-01T13:06:00.000000"
        },
        {
         "num": 3,
         "city": "London",
         "_deepnote_index_column": "2018-05-01T13:07:00.000000"
        },
        {
         "num": 3,
         "city": "London",
         "_deepnote_index_column": "2018-05-01T13:08:00.000000"
        },
        {
         "num": 3,
         "city": "London",
         "_deepnote_index_column": "2018-05-01T13:09:00.000000"
        }
       ],
       "rows_bottom": [
        {
         "num": 2,
         "city": "Cambridge",
         "_deepnote_index_column": "2018-05-31T11:51:00.000000"
        },
        {
         "num": 2,
         "city": "Cambridge",
         "_deepnote_index_column": "2018-05-31T11:52:00.000000"
        },
        {
         "num": 3,
         "city": "Cambridge",
         "_deepnote_index_column": "2018-05-31T11:53:00.000000"
        },
        {
         "num": 3,
         "city": "Cambridge",
         "_deepnote_index_column": "2018-05-31T11:54:00.000000"
        },
        {
         "num": 1,
         "city": "Cambridge",
         "_deepnote_index_column": "2018-05-31T11:55:00.000000"
        },
        {
         "num": 4,
         "city": "Cambridge",
         "_deepnote_index_column": "2018-05-31T11:56:00.000000"
        },
        {
         "num": 3,
         "city": "Cambridge",
         "_deepnote_index_column": "2018-05-31T11:57:00.000000"
        },
        {
         "num": 1,
         "city": "Cambridge",
         "_deepnote_index_column": "2018-05-31T11:58:00.000000"
        },
        {
         "num": 3,
         "city": "Cambridge",
         "_deepnote_index_column": "2018-05-31T11:59:00.000000"
        },
        {
         "num": 4,
         "city": "Cambridge",
         "_deepnote_index_column": "2018-05-31T12:00:00.000000"
        },
        {
         "num": 3,
         "city": "Cambridge",
         "_deepnote_index_column": "2018-05-31T12:01:00.000000"
        },
        {
         "num": 2,
         "city": "Cambridge",
         "_deepnote_index_column": "2018-05-31T12:02:00.000000"
        },
        {
         "num": 2,
         "city": "Cambridge",
         "_deepnote_index_column": "2018-05-31T12:03:00.000000"
        },
        {
         "num": 3,
         "city": "Cambridge",
         "_deepnote_index_column": "2018-05-31T12:04:00.000000"
        },
        {
         "num": 3,
         "city": "Cambridge",
         "_deepnote_index_column": "2018-05-31T12:05:00.000000"
        },
        {
         "num": 3,
         "city": "Cambridge",
         "_deepnote_index_column": "2018-05-31T12:06:00.000000"
        },
        {
         "num": 3,
         "city": "Cambridge",
         "_deepnote_index_column": "2018-05-31T12:07:00.000000"
        },
        {
         "num": 3,
         "city": "Cambridge",
         "_deepnote_index_column": "2018-05-31T12:08:00.000000"
        },
        {
         "num": 3,
         "city": "Cambridge",
         "_deepnote_index_column": "2018-05-31T12:09:00.000000"
        },
        {
         "num": 3,
         "city": "Cambridge",
         "_deepnote_index_column": "2018-05-31T12:10:00.000000"
        },
        {
         "num": 4,
         "city": "Cambridge",
         "_deepnote_index_column": "2018-05-31T12:11:00.000000"
        },
        {
         "num": 2,
         "city": "Cambridge",
         "_deepnote_index_column": "2018-05-31T12:12:00.000000"
        },
        {
         "num": 2,
         "city": "Cambridge",
         "_deepnote_index_column": "2018-05-31T12:13:00.000000"
        },
        {
         "num": 3,
         "city": "Cambridge",
         "_deepnote_index_column": "2018-05-31T12:14:00.000000"
        },
        {
         "num": 2,
         "city": "Cambridge",
         "_deepnote_index_column": "2018-05-31T12:15:00.000000"
        },
        {
         "num": 1,
         "city": "Cambridge",
         "_deepnote_index_column": "2018-05-31T12:16:00.000000"
        },
        {
         "num": 4,
         "city": "Cambridge",
         "_deepnote_index_column": "2018-05-31T12:17:00.000000"
        },
        {
         "num": 3,
         "city": "Cambridge",
         "_deepnote_index_column": "2018-05-31T12:18:00.000000"
        },
        {
         "num": 3,
         "city": "Cambridge",
         "_deepnote_index_column": "2018-05-31T12:19:00.000000"
        },
        {
         "num": 2,
         "city": "Cambridge",
         "_deepnote_index_column": "2018-05-31T12:20:00.000000"
        },
        {
         "num": 3,
         "city": "Cambridge",
         "_deepnote_index_column": "2018-05-31T12:21:00.000000"
        },
        {
         "num": 3,
         "city": "Cambridge",
         "_deepnote_index_column": "2018-05-31T12:22:00.000000"
        },
        {
         "num": 3,
         "city": "Cambridge",
         "_deepnote_index_column": "2018-05-31T12:23:00.000000"
        },
        {
         "num": 3,
         "city": "Cambridge",
         "_deepnote_index_column": "2018-05-31T12:24:00.000000"
        },
        {
         "num": 4,
         "city": "Cambridge",
         "_deepnote_index_column": "2018-05-31T12:25:00.000000"
        },
        {
         "num": 3,
         "city": "Cambridge",
         "_deepnote_index_column": "2018-05-31T12:26:00.000000"
        },
        {
         "num": 3,
         "city": "Cambridge",
         "_deepnote_index_column": "2018-05-31T12:27:00.000000"
        },
        {
         "num": 1,
         "city": "Cambridge",
         "_deepnote_index_column": "2018-05-31T12:28:00.000000"
        },
        {
         "num": 3,
         "city": "Cambridge",
         "_deepnote_index_column": "2018-05-31T12:29:00.000000"
        },
        {
         "num": 3,
         "city": "Cambridge",
         "_deepnote_index_column": "2018-05-31T12:30:00.000000"
        },
        {
         "num": 1,
         "city": "Cambridge",
         "_deepnote_index_column": "2018-05-31T12:31:00.000000"
        },
        {
         "num": 3,
         "city": "Cambridge",
         "_deepnote_index_column": "2018-05-31T12:32:00.000000"
        },
        {
         "num": 3,
         "city": "Cambridge",
         "_deepnote_index_column": "2018-05-31T12:33:00.000000"
        },
        {
         "num": 3,
         "city": "Cambridge",
         "_deepnote_index_column": "2018-05-31T12:34:00.000000"
        },
        {
         "num": 2,
         "city": "Cambridge",
         "_deepnote_index_column": "2018-05-31T12:35:00.000000"
        },
        {
         "num": 3,
         "city": "Cambridge",
         "_deepnote_index_column": "2018-05-31T12:36:00.000000"
        },
        {
         "num": 4,
         "city": "Cambridge",
         "_deepnote_index_column": "2018-05-31T12:37:00.000000"
        },
        {
         "num": 3,
         "city": "Cambridge",
         "_deepnote_index_column": "2018-05-31T12:38:00.000000"
        },
        {
         "num": 1,
         "city": "Cambridge",
         "_deepnote_index_column": "2018-05-31T12:39:00.000000"
        },
        {
         "num": 3,
         "city": "Cambridge",
         "_deepnote_index_column": "2018-05-31T12:40:00.000000"
        },
        {
         "num": 1,
         "city": "Cambridge",
         "_deepnote_index_column": "2018-05-31T12:41:00.000000"
        },
        {
         "num": 4,
         "city": "Cambridge",
         "_deepnote_index_column": "2018-05-31T12:42:00.000000"
        },
        {
         "num": 3,
         "city": "Cambridge",
         "_deepnote_index_column": "2018-05-31T12:43:00.000000"
        },
        {
         "num": 3,
         "city": "Cambridge",
         "_deepnote_index_column": "2018-05-31T12:44:00.000000"
        },
        {
         "num": 3,
         "city": "Cambridge",
         "_deepnote_index_column": "2018-05-31T12:45:00.000000"
        },
        {
         "num": 2,
         "city": "Cambridge",
         "_deepnote_index_column": "2018-05-31T12:46:00.000000"
        },
        {
         "num": 2,
         "city": "Cambridge",
         "_deepnote_index_column": "2018-05-31T12:47:00.000000"
        },
        {
         "num": 2,
         "city": "Cambridge",
         "_deepnote_index_column": "2018-05-31T12:48:00.000000"
        },
        {
         "num": 4,
         "city": "Cambridge",
         "_deepnote_index_column": "2018-05-31T12:49:00.000000"
        },
        {
         "num": 3,
         "city": "Cambridge",
         "_deepnote_index_column": "2018-05-31T12:50:00.000000"
        },
        {
         "num": 3,
         "city": "Cambridge",
         "_deepnote_index_column": "2018-05-31T12:51:00.000000"
        },
        {
         "num": 3,
         "city": "Cambridge",
         "_deepnote_index_column": "2018-05-31T12:52:00.000000"
        },
        {
         "num": 1,
         "city": "Cambridge",
         "_deepnote_index_column": "2018-05-31T12:53:00.000000"
        },
        {
         "num": 3,
         "city": "Cambridge",
         "_deepnote_index_column": "2018-05-31T12:54:00.000000"
        },
        {
         "num": 3,
         "city": "Cambridge",
         "_deepnote_index_column": "2018-05-31T12:55:00.000000"
        },
        {
         "num": 1,
         "city": "Cambridge",
         "_deepnote_index_column": "2018-05-31T12:56:00.000000"
        },
        {
         "num": 3,
         "city": "Cambridge",
         "_deepnote_index_column": "2018-05-31T12:57:00.000000"
        },
        {
         "num": 4,
         "city": "Cambridge",
         "_deepnote_index_column": "2018-05-31T12:58:00.000000"
        },
        {
         "num": 2,
         "city": "Cambridge",
         "_deepnote_index_column": "2018-05-31T12:59:00.000000"
        },
        {
         "num": 4,
         "city": "Cambridge",
         "_deepnote_index_column": "2018-05-31T13:00:00.000000"
        },
        {
         "num": 2,
         "city": "Cambridge",
         "_deepnote_index_column": "2018-05-31T13:01:00.000000"
        },
        {
         "num": 3,
         "city": "Cambridge",
         "_deepnote_index_column": "2018-05-31T13:02:00.000000"
        },
        {
         "num": 3,
         "city": "Cambridge",
         "_deepnote_index_column": "2018-05-31T13:03:00.000000"
        },
        {
         "num": 3,
         "city": "Cambridge",
         "_deepnote_index_column": "2018-05-31T13:04:00.000000"
        },
        {
         "num": 1,
         "city": "Cambridge",
         "_deepnote_index_column": "2018-05-31T13:05:00.000000"
        },
        {
         "num": 4,
         "city": "Cambridge",
         "_deepnote_index_column": "2018-05-31T13:06:00.000000"
        },
        {
         "num": 1,
         "city": "Cambridge",
         "_deepnote_index_column": "2018-05-31T13:07:00.000000"
        },
        {
         "num": 3,
         "city": "Cambridge",
         "_deepnote_index_column": "2018-05-31T13:08:00.000000"
        },
        {
         "num": 3,
         "city": "Cambridge",
         "_deepnote_index_column": "2018-05-31T13:09:00.000000"
        },
        {
         "num": 3,
         "city": "Cambridge",
         "_deepnote_index_column": "2018-05-31T13:10:00.000000"
        },
        {
         "num": 3,
         "city": "Cambridge",
         "_deepnote_index_column": "2018-05-31T13:11:00.000000"
        },
        {
         "num": 3,
         "city": "Cambridge",
         "_deepnote_index_column": "2018-05-31T13:12:00.000000"
        },
        {
         "num": 2,
         "city": "Cambridge",
         "_deepnote_index_column": "2018-05-31T13:13:00.000000"
        },
        {
         "num": 3,
         "city": "Cambridge",
         "_deepnote_index_column": "2018-05-31T13:14:00.000000"
        },
        {
         "num": 4,
         "city": "Cambridge",
         "_deepnote_index_column": "2018-05-31T13:15:00.000000"
        },
        {
         "num": 3,
         "city": "Cambridge",
         "_deepnote_index_column": "2018-05-31T13:16:00.000000"
        },
        {
         "num": 1,
         "city": "Cambridge",
         "_deepnote_index_column": "2018-05-31T13:17:00.000000"
        },
        {
         "num": 4,
         "city": "Cambridge",
         "_deepnote_index_column": "2018-05-31T13:18:00.000000"
        },
        {
         "num": 3,
         "city": "Cambridge",
         "_deepnote_index_column": "2018-05-31T13:19:00.000000"
        },
        {
         "num": 3,
         "city": "Cambridge",
         "_deepnote_index_column": "2018-05-31T13:20:00.000000"
        },
        {
         "num": 3,
         "city": "Cambridge",
         "_deepnote_index_column": "2018-05-31T13:21:00.000000"
        },
        {
         "num": 4,
         "city": "Cambridge",
         "_deepnote_index_column": "2018-05-31T13:22:00.000000"
        },
        {
         "num": 3,
         "city": "Cambridge",
         "_deepnote_index_column": "2018-05-31T13:23:00.000000"
        },
        {
         "num": 3,
         "city": "Cambridge",
         "_deepnote_index_column": "2018-05-31T13:24:00.000000"
        },
        {
         "num": 1,
         "city": "Cambridge",
         "_deepnote_index_column": "2018-05-31T13:25:00.000000"
        },
        {
         "num": 4,
         "city": "Cambridge",
         "_deepnote_index_column": "2018-05-31T13:26:00.000000"
        },
        {
         "num": 4,
         "city": "Cambridge",
         "_deepnote_index_column": "2018-05-31T13:27:00.000000"
        },
        {
         "num": 2,
         "city": "Cambridge",
         "_deepnote_index_column": "2018-05-31T13:28:00.000000"
        },
        {
         "num": 3,
         "city": "Cambridge",
         "_deepnote_index_column": "2018-05-31T13:29:00.000000"
        },
        {
         "num": 3,
         "city": "Cambridge",
         "_deepnote_index_column": "2018-05-31T13:30:00.000000"
        },
        {
         "num": 2,
         "city": "Cambridge",
         "_deepnote_index_column": "2018-05-31T13:31:00.000000"
        },
        {
         "num": 3,
         "city": "Cambridge",
         "_deepnote_index_column": "2018-05-31T13:32:00.000000"
        },
        {
         "num": 1,
         "city": "Cambridge",
         "_deepnote_index_column": "2018-05-31T13:33:00.000000"
        },
        {
         "num": 2,
         "city": "Cambridge",
         "_deepnote_index_column": "2018-05-31T13:34:00.000000"
        },
        {
         "num": 4,
         "city": "Cambridge",
         "_deepnote_index_column": "2018-05-31T13:35:00.000000"
        },
        {
         "num": 3,
         "city": "Cambridge",
         "_deepnote_index_column": "2018-05-31T13:36:00.000000"
        },
        {
         "num": 3,
         "city": "Cambridge",
         "_deepnote_index_column": "2018-05-31T13:37:00.000000"
        },
        {
         "num": 4,
         "city": "Cambridge",
         "_deepnote_index_column": "2018-05-31T13:38:00.000000"
        },
        {
         "num": 3,
         "city": "Cambridge",
         "_deepnote_index_column": "2018-05-31T13:39:00.000000"
        },
        {
         "num": 3,
         "city": "Cambridge",
         "_deepnote_index_column": "2018-05-31T13:40:00.000000"
        },
        {
         "num": 3,
         "city": "Cambridge",
         "_deepnote_index_column": "2018-05-31T13:41:00.000000"
        },
        {
         "num": 2,
         "city": "Cambridge",
         "_deepnote_index_column": "2018-05-31T13:42:00.000000"
        },
        {
         "num": 2,
         "city": "Cambridge",
         "_deepnote_index_column": "2018-05-31T13:43:00.000000"
        },
        {
         "num": 3,
         "city": "Cambridge",
         "_deepnote_index_column": "2018-05-31T13:44:00.000000"
        },
        {
         "num": 2,
         "city": "Cambridge",
         "_deepnote_index_column": "2018-05-31T13:45:00.000000"
        },
        {
         "num": 3,
         "city": "Cambridge",
         "_deepnote_index_column": "2018-05-31T13:46:00.000000"
        },
        {
         "num": 3,
         "city": "Cambridge",
         "_deepnote_index_column": "2018-05-31T13:47:00.000000"
        },
        {
         "num": 3,
         "city": "Cambridge",
         "_deepnote_index_column": "2018-05-31T13:48:00.000000"
        },
        {
         "num": 1,
         "city": "Cambridge",
         "_deepnote_index_column": "2018-05-31T13:49:00.000000"
        },
        {
         "num": 3,
         "city": "Cambridge",
         "_deepnote_index_column": "2018-05-31T13:50:00.000000"
        },
        {
         "num": 3,
         "city": "Cambridge",
         "_deepnote_index_column": "2018-05-31T13:51:00.000000"
        },
        {
         "num": 2,
         "city": "Cambridge",
         "_deepnote_index_column": "2018-05-31T13:52:00.000000"
        },
        {
         "num": 4,
         "city": "Cambridge",
         "_deepnote_index_column": "2018-05-31T13:53:00.000000"
        },
        {
         "num": 3,
         "city": "Cambridge",
         "_deepnote_index_column": "2018-05-31T13:54:00.000000"
        },
        {
         "num": 1,
         "city": "Cambridge",
         "_deepnote_index_column": "2018-05-31T13:55:00.000000"
        },
        {
         "num": 2,
         "city": "Cambridge",
         "_deepnote_index_column": "2018-05-31T13:56:00.000000"
        },
        {
         "num": 3,
         "city": "Cambridge",
         "_deepnote_index_column": "2018-05-31T13:57:00.000000"
        },
        {
         "num": 4,
         "city": "Cambridge",
         "_deepnote_index_column": "2018-05-31T13:58:00.000000"
        },
        {
         "num": 3,
         "city": "Cambridge",
         "_deepnote_index_column": "2018-05-31T13:59:00.000000"
        },
        {
         "num": 3,
         "city": "Cambridge",
         "_deepnote_index_column": "2018-05-31T14:00:00.000000"
        },
        {
         "num": 4,
         "city": "Cambridge",
         "_deepnote_index_column": "2018-05-31T14:01:00.000000"
        },
        {
         "num": 2,
         "city": "Cambridge",
         "_deepnote_index_column": "2018-05-31T14:02:00.000000"
        },
        {
         "num": 3,
         "city": "Cambridge",
         "_deepnote_index_column": "2018-05-31T14:03:00.000000"
        },
        {
         "num": 4,
         "city": "Cambridge",
         "_deepnote_index_column": "2018-05-31T14:04:00.000000"
        },
        {
         "num": 3,
         "city": "Cambridge",
         "_deepnote_index_column": "2018-05-31T14:05:00.000000"
        },
        {
         "num": 2,
         "city": "Cambridge",
         "_deepnote_index_column": "2018-05-31T14:06:00.000000"
        },
        {
         "num": 4,
         "city": "Cambridge",
         "_deepnote_index_column": "2018-05-31T14:07:00.000000"
        },
        {
         "num": 2,
         "city": "Cambridge",
         "_deepnote_index_column": "2018-05-31T14:08:00.000000"
        },
        {
         "num": 2,
         "city": "Cambridge",
         "_deepnote_index_column": "2018-05-31T14:09:00.000000"
        },
        {
         "num": 4,
         "city": "Cambridge",
         "_deepnote_index_column": "2018-05-31T14:10:00.000000"
        },
        {
         "num": 3,
         "city": "Cambridge",
         "_deepnote_index_column": "2018-05-31T14:11:00.000000"
        },
        {
         "num": 3,
         "city": "Cambridge",
         "_deepnote_index_column": "2018-05-31T14:12:00.000000"
        },
        {
         "num": 2,
         "city": "Cambridge",
         "_deepnote_index_column": "2018-05-31T14:13:00.000000"
        },
        {
         "num": 4,
         "city": "Cambridge",
         "_deepnote_index_column": "2018-05-31T14:14:00.000000"
        },
        {
         "num": 3,
         "city": "Cambridge",
         "_deepnote_index_column": "2018-05-31T14:15:00.000000"
        },
        {
         "num": 3,
         "city": "Cambridge",
         "_deepnote_index_column": "2018-05-31T14:16:00.000000"
        },
        {
         "num": 3,
         "city": "Cambridge",
         "_deepnote_index_column": "2018-05-31T14:17:00.000000"
        },
        {
         "num": 3,
         "city": "Cambridge",
         "_deepnote_index_column": "2018-05-31T14:18:00.000000"
        },
        {
         "num": 1,
         "city": "Cambridge",
         "_deepnote_index_column": "2018-05-31T14:19:00.000000"
        },
        {
         "num": 2,
         "city": "Cambridge",
         "_deepnote_index_column": "2018-05-31T14:20:00.000000"
        },
        {
         "num": 4,
         "city": "Cambridge",
         "_deepnote_index_column": "2018-05-31T14:21:00.000000"
        },
        {
         "num": 3,
         "city": "Cambridge",
         "_deepnote_index_column": "2018-05-31T14:22:00.000000"
        },
        {
         "num": 1,
         "city": "Cambridge",
         "_deepnote_index_column": "2018-05-31T14:23:00.000000"
        },
        {
         "num": 2,
         "city": "Cambridge",
         "_deepnote_index_column": "2018-05-31T14:24:00.000000"
        },
        {
         "num": 3,
         "city": "Cambridge",
         "_deepnote_index_column": "2018-05-31T14:25:00.000000"
        },
        {
         "num": 3,
         "city": "Cambridge",
         "_deepnote_index_column": "2018-05-31T14:26:00.000000"
        },
        {
         "num": 2,
         "city": "Cambridge",
         "_deepnote_index_column": "2018-05-31T14:27:00.000000"
        },
        {
         "num": 3,
         "city": "Cambridge",
         "_deepnote_index_column": "2018-05-31T14:28:00.000000"
        },
        {
         "num": 2,
         "city": "Cambridge",
         "_deepnote_index_column": "2018-05-31T14:29:00.000000"
        },
        {
         "num": 3,
         "city": "Cambridge",
         "_deepnote_index_column": "2018-05-31T14:30:00.000000"
        },
        {
         "num": 3,
         "city": "Cambridge",
         "_deepnote_index_column": "2018-05-31T14:31:00.000000"
        },
        {
         "num": 3,
         "city": "Cambridge",
         "_deepnote_index_column": "2018-05-31T14:32:00.000000"
        },
        {
         "num": 2,
         "city": "Cambridge",
         "_deepnote_index_column": "2018-05-31T14:33:00.000000"
        },
        {
         "num": 3,
         "city": "Cambridge",
         "_deepnote_index_column": "2018-05-31T14:34:00.000000"
        },
        {
         "num": 3,
         "city": "Cambridge",
         "_deepnote_index_column": "2018-05-31T14:35:00.000000"
        },
        {
         "num": 3,
         "city": "Cambridge",
         "_deepnote_index_column": "2018-05-31T14:36:00.000000"
        },
        {
         "num": 4,
         "city": "Cambridge",
         "_deepnote_index_column": "2018-05-31T14:37:00.000000"
        },
        {
         "num": 4,
         "city": "Cambridge",
         "_deepnote_index_column": "2018-05-31T14:38:00.000000"
        },
        {
         "num": 4,
         "city": "Cambridge",
         "_deepnote_index_column": "2018-05-31T14:39:00.000000"
        },
        {
         "num": 3,
         "city": "Cambridge",
         "_deepnote_index_column": "2018-05-31T14:40:00.000000"
        },
        {
         "num": 4,
         "city": "Cambridge",
         "_deepnote_index_column": "2018-05-31T14:41:00.000000"
        },
        {
         "num": 3,
         "city": "Cambridge",
         "_deepnote_index_column": "2018-05-31T14:42:00.000000"
        },
        {
         "num": 3,
         "city": "Cambridge",
         "_deepnote_index_column": "2018-05-31T14:43:00.000000"
        },
        {
         "num": 4,
         "city": "Cambridge",
         "_deepnote_index_column": "2018-05-31T14:44:00.000000"
        },
        {
         "num": 4,
         "city": "Cambridge",
         "_deepnote_index_column": "2018-05-31T14:45:00.000000"
        },
        {
         "num": 1,
         "city": "Cambridge",
         "_deepnote_index_column": "2018-05-31T14:46:00.000000"
        },
        {
         "num": 3,
         "city": "Cambridge",
         "_deepnote_index_column": "2018-05-31T14:47:00.000000"
        },
        {
         "num": 1,
         "city": "Cambridge",
         "_deepnote_index_column": "2018-05-31T14:48:00.000000"
        },
        {
         "num": 1,
         "city": "Cambridge",
         "_deepnote_index_column": "2018-05-31T14:49:00.000000"
        },
        {
         "num": 2,
         "city": "Cambridge",
         "_deepnote_index_column": "2018-05-31T14:50:00.000000"
        },
        {
         "num": 3,
         "city": "Cambridge",
         "_deepnote_index_column": "2018-05-31T14:51:00.000000"
        },
        {
         "num": 3,
         "city": "Cambridge",
         "_deepnote_index_column": "2018-05-31T14:52:00.000000"
        },
        {
         "num": 3,
         "city": "Cambridge",
         "_deepnote_index_column": "2018-05-31T14:53:00.000000"
        },
        {
         "num": 4,
         "city": "Cambridge",
         "_deepnote_index_column": "2018-05-31T14:54:00.000000"
        },
        {
         "num": 3,
         "city": "Cambridge",
         "_deepnote_index_column": "2018-05-31T14:55:00.000000"
        },
        {
         "num": 3,
         "city": "Cambridge",
         "_deepnote_index_column": "2018-05-31T14:56:00.000000"
        },
        {
         "num": 4,
         "city": "Cambridge",
         "_deepnote_index_column": "2018-05-31T14:57:00.000000"
        },
        {
         "num": 3,
         "city": "Cambridge",
         "_deepnote_index_column": "2018-05-31T14:58:00.000000"
        },
        {
         "num": 4,
         "city": "Cambridge",
         "_deepnote_index_column": "2018-05-31T14:59:00.000000"
        },
        {
         "num": 3,
         "city": "Cambridge",
         "_deepnote_index_column": "2018-05-31T15:00:00.000000"
        },
        {
         "num": 3,
         "city": "Cambridge",
         "_deepnote_index_column": "2018-05-31T15:01:00.000000"
        },
        {
         "num": 2,
         "city": "Cambridge",
         "_deepnote_index_column": "2018-05-31T15:02:00.000000"
        },
        {
         "num": 4,
         "city": "Cambridge",
         "_deepnote_index_column": "2018-05-31T15:03:00.000000"
        },
        {
         "num": 3,
         "city": "Cambridge",
         "_deepnote_index_column": "2018-05-31T15:04:00.000000"
        },
        {
         "num": 2,
         "city": "Cambridge",
         "_deepnote_index_column": "2018-05-31T15:05:00.000000"
        },
        {
         "num": 3,
         "city": "Cambridge",
         "_deepnote_index_column": "2018-05-31T15:06:00.000000"
        },
        {
         "num": 3,
         "city": "Cambridge",
         "_deepnote_index_column": "2018-05-31T15:07:00.000000"
        },
        {
         "num": 2,
         "city": "Cambridge",
         "_deepnote_index_column": "2018-05-31T15:08:00.000000"
        },
        {
         "num": 3,
         "city": "Cambridge",
         "_deepnote_index_column": "2018-05-31T15:09:00.000000"
        },
        {
         "num": 2,
         "city": "Cambridge",
         "_deepnote_index_column": "2018-05-31T15:10:00.000000"
        },
        {
         "num": 4,
         "city": "Cambridge",
         "_deepnote_index_column": "2018-05-31T15:11:00.000000"
        },
        {
         "num": 4,
         "city": "Cambridge",
         "_deepnote_index_column": "2018-05-31T15:12:00.000000"
        },
        {
         "num": 2,
         "city": "Cambridge",
         "_deepnote_index_column": "2018-05-31T15:13:00.000000"
        },
        {
         "num": 3,
         "city": "Cambridge",
         "_deepnote_index_column": "2018-05-31T15:14:00.000000"
        },
        {
         "num": 3,
         "city": "Cambridge",
         "_deepnote_index_column": "2018-05-31T15:15:00.000000"
        },
        {
         "num": 3,
         "city": "Cambridge",
         "_deepnote_index_column": "2018-05-31T15:16:00.000000"
        },
        {
         "num": 4,
         "city": "Cambridge",
         "_deepnote_index_column": "2018-05-31T15:17:00.000000"
        },
        {
         "num": 3,
         "city": "Cambridge",
         "_deepnote_index_column": "2018-05-31T15:18:00.000000"
        },
        {
         "num": 1,
         "city": "Cambridge",
         "_deepnote_index_column": "2018-05-31T15:19:00.000000"
        },
        {
         "num": 3,
         "city": "Cambridge",
         "_deepnote_index_column": "2018-05-31T15:20:00.000000"
        },
        {
         "num": 3,
         "city": "Cambridge",
         "_deepnote_index_column": "2018-05-31T15:21:00.000000"
        },
        {
         "num": 3,
         "city": "Cambridge",
         "_deepnote_index_column": "2018-05-31T15:22:00.000000"
        },
        {
         "num": 3,
         "city": "Cambridge",
         "_deepnote_index_column": "2018-05-31T15:23:00.000000"
        },
        {
         "num": 4,
         "city": "Cambridge",
         "_deepnote_index_column": "2018-05-31T15:24:00.000000"
        },
        {
         "num": 2,
         "city": "Cambridge",
         "_deepnote_index_column": "2018-05-31T15:25:00.000000"
        },
        {
         "num": 3,
         "city": "Cambridge",
         "_deepnote_index_column": "2018-05-31T15:26:00.000000"
        },
        {
         "num": 3,
         "city": "Cambridge",
         "_deepnote_index_column": "2018-05-31T15:27:00.000000"
        },
        {
         "num": 3,
         "city": "Cambridge",
         "_deepnote_index_column": "2018-05-31T15:28:00.000000"
        },
        {
         "num": 3,
         "city": "Cambridge",
         "_deepnote_index_column": "2018-05-31T15:29:00.000000"
        },
        {
         "num": 4,
         "city": "Cambridge",
         "_deepnote_index_column": "2018-05-31T15:30:00.000000"
        },
        {
         "num": 3,
         "city": "Cambridge",
         "_deepnote_index_column": "2018-05-31T15:31:00.000000"
        },
        {
         "num": 3,
         "city": "Cambridge",
         "_deepnote_index_column": "2018-05-31T15:32:00.000000"
        },
        {
         "num": 2,
         "city": "Cambridge",
         "_deepnote_index_column": "2018-05-31T15:33:00.000000"
        },
        {
         "num": 3,
         "city": "Cambridge",
         "_deepnote_index_column": "2018-05-31T15:34:00.000000"
        },
        {
         "num": 4,
         "city": "Cambridge",
         "_deepnote_index_column": "2018-05-31T15:35:00.000000"
        },
        {
         "num": 1,
         "city": "Cambridge",
         "_deepnote_index_column": "2018-05-31T15:36:00.000000"
        },
        {
         "num": 3,
         "city": "Cambridge",
         "_deepnote_index_column": "2018-05-31T15:37:00.000000"
        },
        {
         "num": 3,
         "city": "Cambridge",
         "_deepnote_index_column": "2018-05-31T15:38:00.000000"
        },
        {
         "num": 3,
         "city": "Cambridge",
         "_deepnote_index_column": "2018-05-31T15:39:00.000000"
        },
        {
         "num": 1,
         "city": "Cambridge",
         "_deepnote_index_column": "2018-05-31T15:40:00.000000"
        },
        {
         "num": 1,
         "city": "Cambridge",
         "_deepnote_index_column": "2018-05-31T15:41:00.000000"
        },
        {
         "num": 3,
         "city": "Cambridge",
         "_deepnote_index_column": "2018-05-31T15:42:00.000000"
        },
        {
         "num": 3,
         "city": "Cambridge",
         "_deepnote_index_column": "2018-05-31T15:43:00.000000"
        },
        {
         "num": 2,
         "city": "Cambridge",
         "_deepnote_index_column": "2018-05-31T15:44:00.000000"
        },
        {
         "num": 4,
         "city": "Cambridge",
         "_deepnote_index_column": "2018-05-31T15:45:00.000000"
        },
        {
         "num": 2,
         "city": "Cambridge",
         "_deepnote_index_column": "2018-05-31T15:46:00.000000"
        },
        {
         "num": 2,
         "city": "Cambridge",
         "_deepnote_index_column": "2018-05-31T15:47:00.000000"
        },
        {
         "num": 3,
         "city": "Cambridge",
         "_deepnote_index_column": "2018-05-31T15:48:00.000000"
        },
        {
         "num": 3,
         "city": "Cambridge",
         "_deepnote_index_column": "2018-05-31T15:49:00.000000"
        },
        {
         "num": 3,
         "city": "Cambridge",
         "_deepnote_index_column": "2018-05-31T15:50:00.000000"
        },
        {
         "num": 3,
         "city": "Cambridge",
         "_deepnote_index_column": "2018-05-31T15:51:00.000000"
        },
        {
         "num": 3,
         "city": "Cambridge",
         "_deepnote_index_column": "2018-05-31T15:52:00.000000"
        },
        {
         "num": 2,
         "city": "Cambridge",
         "_deepnote_index_column": "2018-05-31T15:53:00.000000"
        },
        {
         "num": 4,
         "city": "Cambridge",
         "_deepnote_index_column": "2018-05-31T15:54:00.000000"
        },
        {
         "num": 3,
         "city": "Cambridge",
         "_deepnote_index_column": "2018-05-31T15:55:00.000000"
        },
        {
         "num": 3,
         "city": "Cambridge",
         "_deepnote_index_column": "2018-05-31T15:56:00.000000"
        },
        {
         "num": 4,
         "city": "Cambridge",
         "_deepnote_index_column": "2018-05-31T15:57:00.000000"
        },
        {
         "num": 2,
         "city": "Cambridge",
         "_deepnote_index_column": "2018-05-31T15:58:00.000000"
        },
        {
         "num": 3,
         "city": "Cambridge",
         "_deepnote_index_column": "2018-05-31T15:59:00.000000"
        },
        {
         "num": 3,
         "city": "Cambridge",
         "_deepnote_index_column": "2018-05-31T16:00:00.000000"
        }
       ]
      },
      "text/plain": "                     num       city\ndate                               \n2018-05-01 09:00:00    1     London\n2018-05-01 09:01:00    4     London\n2018-05-01 09:02:00    3     London\n2018-05-01 09:03:00    2     London\n2018-05-01 09:04:00    3     London\n...                  ...        ...\n2018-05-31 15:56:00    3  Cambridge\n2018-05-31 15:57:00    4  Cambridge\n2018-05-31 15:58:00    2  Cambridge\n2018-05-31 15:59:00    3  Cambridge\n2018-05-31 16:00:00    3  Cambridge\n\n[38732 rows x 2 columns]",
      "text/html": "<div>\n<style scoped>\n    .dataframe tbody tr th:only-of-type {\n        vertical-align: middle;\n    }\n\n    .dataframe tbody tr th {\n        vertical-align: top;\n    }\n\n    .dataframe thead th {\n        text-align: right;\n    }\n</style>\n<table border=\"1\" class=\"dataframe\">\n  <thead>\n    <tr style=\"text-align: right;\">\n      <th></th>\n      <th>num</th>\n      <th>city</th>\n    </tr>\n    <tr>\n      <th>date</th>\n      <th></th>\n      <th></th>\n    </tr>\n  </thead>\n  <tbody>\n    <tr>\n      <th>2018-05-01 09:00:00</th>\n      <td>1</td>\n      <td>London</td>\n    </tr>\n    <tr>\n      <th>2018-05-01 09:01:00</th>\n      <td>4</td>\n      <td>London</td>\n    </tr>\n    <tr>\n      <th>2018-05-01 09:02:00</th>\n      <td>3</td>\n      <td>London</td>\n    </tr>\n    <tr>\n      <th>2018-05-01 09:03:00</th>\n      <td>2</td>\n      <td>London</td>\n    </tr>\n    <tr>\n      <th>2018-05-01 09:04:00</th>\n      <td>3</td>\n      <td>London</td>\n    </tr>\n    <tr>\n      <th>...</th>\n      <td>...</td>\n      <td>...</td>\n    </tr>\n    <tr>\n      <th>2018-05-31 15:56:00</th>\n      <td>3</td>\n      <td>Cambridge</td>\n    </tr>\n    <tr>\n      <th>2018-05-31 15:57:00</th>\n      <td>4</td>\n      <td>Cambridge</td>\n    </tr>\n    <tr>\n      <th>2018-05-31 15:58:00</th>\n      <td>2</td>\n      <td>Cambridge</td>\n    </tr>\n    <tr>\n      <th>2018-05-31 15:59:00</th>\n      <td>3</td>\n      <td>Cambridge</td>\n    </tr>\n    <tr>\n      <th>2018-05-31 16:00:00</th>\n      <td>3</td>\n      <td>Cambridge</td>\n    </tr>\n  </tbody>\n</table>\n<p>38732 rows × 2 columns</p>\n</div>"
     },
     "metadata": {}
    }
   ]
  },
  {
   "cell_type": "markdown",
   "source": "### Specific year, month and day",
   "metadata": {
    "tags": [],
    "is_collapsed": false,
    "cell_id": "00044-b620c952-3fd3-4acb-93b4-5acdcbd88b05",
    "deepnote_cell_type": "text-cell-h3"
   }
  },
  {
   "cell_type": "code",
   "metadata": {
    "tags": [],
    "cell_id": "00043-553980cf-1e01-4530-a310-7e2d979c08c5",
    "deepnote_to_be_reexecuted": false,
    "source_hash": "a8b2c2fc",
    "execution_start": 1627922991401,
    "execution_millis": 57,
    "deepnote_cell_type": "code"
   },
   "source": "df.loc['2018-5-1']",
   "execution_count": null,
   "outputs": [
    {
     "output_type": "execute_result",
     "execution_count": 187,
     "data": {
      "application/vnd.deepnote.dataframe.v2+json": {
       "row_count": 1684,
       "column_count": 2,
       "columns": [
        {
         "name": "num",
         "dtype": "int64",
         "stats": {
          "unique_count": 4,
          "nan_count": 0,
          "min": "1",
          "max": "4",
          "histogram": [
           {
            "bin_start": 1,
            "bin_end": 1.3,
            "count": 175
           },
           {
            "bin_start": 1.3,
            "bin_end": 1.6,
            "count": 0
           },
           {
            "bin_start": 1.6,
            "bin_end": 1.9,
            "count": 0
           },
           {
            "bin_start": 1.9,
            "bin_end": 2.2,
            "count": 322
           },
           {
            "bin_start": 2.2,
            "bin_end": 2.5,
            "count": 0
           },
           {
            "bin_start": 2.5,
            "bin_end": 2.8,
            "count": 0
           },
           {
            "bin_start": 2.8,
            "bin_end": 3.1,
            "count": 859
           },
           {
            "bin_start": 3.1,
            "bin_end": 3.4,
            "count": 0
           },
           {
            "bin_start": 3.4,
            "bin_end": 3.6999999999999997,
            "count": 0
           },
           {
            "bin_start": 3.6999999999999997,
            "bin_end": 4,
            "count": 328
           }
          ]
         }
        },
        {
         "name": "city",
         "dtype": "object",
         "stats": {
          "unique_count": 4,
          "nan_count": 0,
          "categories": [
           {
            "name": "London",
            "count": 421
           },
           {
            "name": "Oxford",
            "count": 421
           },
           {
            "name": "2 others",
            "count": 842
           }
          ]
         }
        },
        {
         "name": "_deepnote_index_column",
         "dtype": "datetime64[ns]"
        }
       ],
       "rows_top": [
        {
         "num": 1,
         "city": "London",
         "_deepnote_index_column": "2018-05-01T09:00:00.000000"
        },
        {
         "num": 4,
         "city": "London",
         "_deepnote_index_column": "2018-05-01T09:01:00.000000"
        },
        {
         "num": 3,
         "city": "London",
         "_deepnote_index_column": "2018-05-01T09:02:00.000000"
        },
        {
         "num": 2,
         "city": "London",
         "_deepnote_index_column": "2018-05-01T09:03:00.000000"
        },
        {
         "num": 3,
         "city": "London",
         "_deepnote_index_column": "2018-05-01T09:04:00.000000"
        },
        {
         "num": 3,
         "city": "London",
         "_deepnote_index_column": "2018-05-01T09:05:00.000000"
        },
        {
         "num": 2,
         "city": "London",
         "_deepnote_index_column": "2018-05-01T09:06:00.000000"
        },
        {
         "num": 3,
         "city": "London",
         "_deepnote_index_column": "2018-05-01T09:07:00.000000"
        },
        {
         "num": 2,
         "city": "London",
         "_deepnote_index_column": "2018-05-01T09:08:00.000000"
        },
        {
         "num": 3,
         "city": "London",
         "_deepnote_index_column": "2018-05-01T09:09:00.000000"
        },
        {
         "num": 3,
         "city": "London",
         "_deepnote_index_column": "2018-05-01T09:10:00.000000"
        },
        {
         "num": 2,
         "city": "London",
         "_deepnote_index_column": "2018-05-01T09:11:00.000000"
        },
        {
         "num": 2,
         "city": "London",
         "_deepnote_index_column": "2018-05-01T09:12:00.000000"
        },
        {
         "num": 1,
         "city": "London",
         "_deepnote_index_column": "2018-05-01T09:13:00.000000"
        },
        {
         "num": 1,
         "city": "London",
         "_deepnote_index_column": "2018-05-01T09:14:00.000000"
        },
        {
         "num": 3,
         "city": "London",
         "_deepnote_index_column": "2018-05-01T09:15:00.000000"
        },
        {
         "num": 1,
         "city": "London",
         "_deepnote_index_column": "2018-05-01T09:16:00.000000"
        },
        {
         "num": 3,
         "city": "London",
         "_deepnote_index_column": "2018-05-01T09:17:00.000000"
        },
        {
         "num": 3,
         "city": "London",
         "_deepnote_index_column": "2018-05-01T09:18:00.000000"
        },
        {
         "num": 3,
         "city": "London",
         "_deepnote_index_column": "2018-05-01T09:19:00.000000"
        },
        {
         "num": 4,
         "city": "London",
         "_deepnote_index_column": "2018-05-01T09:20:00.000000"
        },
        {
         "num": 3,
         "city": "London",
         "_deepnote_index_column": "2018-05-01T09:21:00.000000"
        },
        {
         "num": 1,
         "city": "London",
         "_deepnote_index_column": "2018-05-01T09:22:00.000000"
        },
        {
         "num": 3,
         "city": "London",
         "_deepnote_index_column": "2018-05-01T09:23:00.000000"
        },
        {
         "num": 3,
         "city": "London",
         "_deepnote_index_column": "2018-05-01T09:24:00.000000"
        },
        {
         "num": 4,
         "city": "London",
         "_deepnote_index_column": "2018-05-01T09:25:00.000000"
        },
        {
         "num": 1,
         "city": "London",
         "_deepnote_index_column": "2018-05-01T09:26:00.000000"
        },
        {
         "num": 3,
         "city": "London",
         "_deepnote_index_column": "2018-05-01T09:27:00.000000"
        },
        {
         "num": 3,
         "city": "London",
         "_deepnote_index_column": "2018-05-01T09:28:00.000000"
        },
        {
         "num": 3,
         "city": "London",
         "_deepnote_index_column": "2018-05-01T09:29:00.000000"
        },
        {
         "num": 4,
         "city": "London",
         "_deepnote_index_column": "2018-05-01T09:30:00.000000"
        },
        {
         "num": 3,
         "city": "London",
         "_deepnote_index_column": "2018-05-01T09:31:00.000000"
        },
        {
         "num": 3,
         "city": "London",
         "_deepnote_index_column": "2018-05-01T09:32:00.000000"
        },
        {
         "num": 4,
         "city": "London",
         "_deepnote_index_column": "2018-05-01T09:33:00.000000"
        },
        {
         "num": 3,
         "city": "London",
         "_deepnote_index_column": "2018-05-01T09:34:00.000000"
        },
        {
         "num": 4,
         "city": "London",
         "_deepnote_index_column": "2018-05-01T09:35:00.000000"
        },
        {
         "num": 1,
         "city": "London",
         "_deepnote_index_column": "2018-05-01T09:36:00.000000"
        },
        {
         "num": 3,
         "city": "London",
         "_deepnote_index_column": "2018-05-01T09:37:00.000000"
        },
        {
         "num": 3,
         "city": "London",
         "_deepnote_index_column": "2018-05-01T09:38:00.000000"
        },
        {
         "num": 2,
         "city": "London",
         "_deepnote_index_column": "2018-05-01T09:39:00.000000"
        },
        {
         "num": 4,
         "city": "London",
         "_deepnote_index_column": "2018-05-01T09:40:00.000000"
        },
        {
         "num": 3,
         "city": "London",
         "_deepnote_index_column": "2018-05-01T09:41:00.000000"
        },
        {
         "num": 2,
         "city": "London",
         "_deepnote_index_column": "2018-05-01T09:42:00.000000"
        },
        {
         "num": 4,
         "city": "London",
         "_deepnote_index_column": "2018-05-01T09:43:00.000000"
        },
        {
         "num": 3,
         "city": "London",
         "_deepnote_index_column": "2018-05-01T09:44:00.000000"
        },
        {
         "num": 2,
         "city": "London",
         "_deepnote_index_column": "2018-05-01T09:45:00.000000"
        },
        {
         "num": 2,
         "city": "London",
         "_deepnote_index_column": "2018-05-01T09:46:00.000000"
        },
        {
         "num": 4,
         "city": "London",
         "_deepnote_index_column": "2018-05-01T09:47:00.000000"
        },
        {
         "num": 4,
         "city": "London",
         "_deepnote_index_column": "2018-05-01T09:48:00.000000"
        },
        {
         "num": 3,
         "city": "London",
         "_deepnote_index_column": "2018-05-01T09:49:00.000000"
        },
        {
         "num": 3,
         "city": "London",
         "_deepnote_index_column": "2018-05-01T09:50:00.000000"
        },
        {
         "num": 1,
         "city": "London",
         "_deepnote_index_column": "2018-05-01T09:51:00.000000"
        },
        {
         "num": 4,
         "city": "London",
         "_deepnote_index_column": "2018-05-01T09:52:00.000000"
        },
        {
         "num": 4,
         "city": "London",
         "_deepnote_index_column": "2018-05-01T09:53:00.000000"
        },
        {
         "num": 1,
         "city": "London",
         "_deepnote_index_column": "2018-05-01T09:54:00.000000"
        },
        {
         "num": 2,
         "city": "London",
         "_deepnote_index_column": "2018-05-01T09:55:00.000000"
        },
        {
         "num": 1,
         "city": "London",
         "_deepnote_index_column": "2018-05-01T09:56:00.000000"
        },
        {
         "num": 2,
         "city": "London",
         "_deepnote_index_column": "2018-05-01T09:57:00.000000"
        },
        {
         "num": 2,
         "city": "London",
         "_deepnote_index_column": "2018-05-01T09:58:00.000000"
        },
        {
         "num": 2,
         "city": "London",
         "_deepnote_index_column": "2018-05-01T09:59:00.000000"
        },
        {
         "num": 2,
         "city": "London",
         "_deepnote_index_column": "2018-05-01T10:00:00.000000"
        },
        {
         "num": 2,
         "city": "London",
         "_deepnote_index_column": "2018-05-01T10:01:00.000000"
        },
        {
         "num": 3,
         "city": "London",
         "_deepnote_index_column": "2018-05-01T10:02:00.000000"
        },
        {
         "num": 3,
         "city": "London",
         "_deepnote_index_column": "2018-05-01T10:03:00.000000"
        },
        {
         "num": 2,
         "city": "London",
         "_deepnote_index_column": "2018-05-01T10:04:00.000000"
        },
        {
         "num": 3,
         "city": "London",
         "_deepnote_index_column": "2018-05-01T10:05:00.000000"
        },
        {
         "num": 3,
         "city": "London",
         "_deepnote_index_column": "2018-05-01T10:06:00.000000"
        },
        {
         "num": 4,
         "city": "London",
         "_deepnote_index_column": "2018-05-01T10:07:00.000000"
        },
        {
         "num": 3,
         "city": "London",
         "_deepnote_index_column": "2018-05-01T10:08:00.000000"
        },
        {
         "num": 2,
         "city": "London",
         "_deepnote_index_column": "2018-05-01T10:09:00.000000"
        },
        {
         "num": 4,
         "city": "London",
         "_deepnote_index_column": "2018-05-01T10:10:00.000000"
        },
        {
         "num": 2,
         "city": "London",
         "_deepnote_index_column": "2018-05-01T10:11:00.000000"
        },
        {
         "num": 3,
         "city": "London",
         "_deepnote_index_column": "2018-05-01T10:12:00.000000"
        },
        {
         "num": 2,
         "city": "London",
         "_deepnote_index_column": "2018-05-01T10:13:00.000000"
        },
        {
         "num": 3,
         "city": "London",
         "_deepnote_index_column": "2018-05-01T10:14:00.000000"
        },
        {
         "num": 2,
         "city": "London",
         "_deepnote_index_column": "2018-05-01T10:15:00.000000"
        },
        {
         "num": 3,
         "city": "London",
         "_deepnote_index_column": "2018-05-01T10:16:00.000000"
        },
        {
         "num": 3,
         "city": "London",
         "_deepnote_index_column": "2018-05-01T10:17:00.000000"
        },
        {
         "num": 2,
         "city": "London",
         "_deepnote_index_column": "2018-05-01T10:18:00.000000"
        },
        {
         "num": 3,
         "city": "London",
         "_deepnote_index_column": "2018-05-01T10:19:00.000000"
        },
        {
         "num": 3,
         "city": "London",
         "_deepnote_index_column": "2018-05-01T10:20:00.000000"
        },
        {
         "num": 1,
         "city": "London",
         "_deepnote_index_column": "2018-05-01T10:21:00.000000"
        },
        {
         "num": 3,
         "city": "London",
         "_deepnote_index_column": "2018-05-01T10:22:00.000000"
        },
        {
         "num": 3,
         "city": "London",
         "_deepnote_index_column": "2018-05-01T10:23:00.000000"
        },
        {
         "num": 2,
         "city": "London",
         "_deepnote_index_column": "2018-05-01T10:24:00.000000"
        },
        {
         "num": 4,
         "city": "London",
         "_deepnote_index_column": "2018-05-01T10:25:00.000000"
        },
        {
         "num": 4,
         "city": "London",
         "_deepnote_index_column": "2018-05-01T10:26:00.000000"
        },
        {
         "num": 2,
         "city": "London",
         "_deepnote_index_column": "2018-05-01T10:27:00.000000"
        },
        {
         "num": 4,
         "city": "London",
         "_deepnote_index_column": "2018-05-01T10:28:00.000000"
        },
        {
         "num": 3,
         "city": "London",
         "_deepnote_index_column": "2018-05-01T10:29:00.000000"
        },
        {
         "num": 1,
         "city": "London",
         "_deepnote_index_column": "2018-05-01T10:30:00.000000"
        },
        {
         "num": 3,
         "city": "London",
         "_deepnote_index_column": "2018-05-01T10:31:00.000000"
        },
        {
         "num": 3,
         "city": "London",
         "_deepnote_index_column": "2018-05-01T10:32:00.000000"
        },
        {
         "num": 3,
         "city": "London",
         "_deepnote_index_column": "2018-05-01T10:33:00.000000"
        },
        {
         "num": 1,
         "city": "London",
         "_deepnote_index_column": "2018-05-01T10:34:00.000000"
        },
        {
         "num": 4,
         "city": "London",
         "_deepnote_index_column": "2018-05-01T10:35:00.000000"
        },
        {
         "num": 3,
         "city": "London",
         "_deepnote_index_column": "2018-05-01T10:36:00.000000"
        },
        {
         "num": 2,
         "city": "London",
         "_deepnote_index_column": "2018-05-01T10:37:00.000000"
        },
        {
         "num": 4,
         "city": "London",
         "_deepnote_index_column": "2018-05-01T10:38:00.000000"
        },
        {
         "num": 3,
         "city": "London",
         "_deepnote_index_column": "2018-05-01T10:39:00.000000"
        },
        {
         "num": 3,
         "city": "London",
         "_deepnote_index_column": "2018-05-01T10:40:00.000000"
        },
        {
         "num": 1,
         "city": "London",
         "_deepnote_index_column": "2018-05-01T10:41:00.000000"
        },
        {
         "num": 4,
         "city": "London",
         "_deepnote_index_column": "2018-05-01T10:42:00.000000"
        },
        {
         "num": 2,
         "city": "London",
         "_deepnote_index_column": "2018-05-01T10:43:00.000000"
        },
        {
         "num": 3,
         "city": "London",
         "_deepnote_index_column": "2018-05-01T10:44:00.000000"
        },
        {
         "num": 3,
         "city": "London",
         "_deepnote_index_column": "2018-05-01T10:45:00.000000"
        },
        {
         "num": 4,
         "city": "London",
         "_deepnote_index_column": "2018-05-01T10:46:00.000000"
        },
        {
         "num": 3,
         "city": "London",
         "_deepnote_index_column": "2018-05-01T10:47:00.000000"
        },
        {
         "num": 3,
         "city": "London",
         "_deepnote_index_column": "2018-05-01T10:48:00.000000"
        },
        {
         "num": 4,
         "city": "London",
         "_deepnote_index_column": "2018-05-01T10:49:00.000000"
        },
        {
         "num": 3,
         "city": "London",
         "_deepnote_index_column": "2018-05-01T10:50:00.000000"
        },
        {
         "num": 3,
         "city": "London",
         "_deepnote_index_column": "2018-05-01T10:51:00.000000"
        },
        {
         "num": 1,
         "city": "London",
         "_deepnote_index_column": "2018-05-01T10:52:00.000000"
        },
        {
         "num": 2,
         "city": "London",
         "_deepnote_index_column": "2018-05-01T10:53:00.000000"
        },
        {
         "num": 3,
         "city": "London",
         "_deepnote_index_column": "2018-05-01T10:54:00.000000"
        },
        {
         "num": 1,
         "city": "London",
         "_deepnote_index_column": "2018-05-01T10:55:00.000000"
        },
        {
         "num": 3,
         "city": "London",
         "_deepnote_index_column": "2018-05-01T10:56:00.000000"
        },
        {
         "num": 3,
         "city": "London",
         "_deepnote_index_column": "2018-05-01T10:57:00.000000"
        },
        {
         "num": 1,
         "city": "London",
         "_deepnote_index_column": "2018-05-01T10:58:00.000000"
        },
        {
         "num": 3,
         "city": "London",
         "_deepnote_index_column": "2018-05-01T10:59:00.000000"
        },
        {
         "num": 3,
         "city": "London",
         "_deepnote_index_column": "2018-05-01T11:00:00.000000"
        },
        {
         "num": 3,
         "city": "London",
         "_deepnote_index_column": "2018-05-01T11:01:00.000000"
        },
        {
         "num": 3,
         "city": "London",
         "_deepnote_index_column": "2018-05-01T11:02:00.000000"
        },
        {
         "num": 2,
         "city": "London",
         "_deepnote_index_column": "2018-05-01T11:03:00.000000"
        },
        {
         "num": 2,
         "city": "London",
         "_deepnote_index_column": "2018-05-01T11:04:00.000000"
        },
        {
         "num": 4,
         "city": "London",
         "_deepnote_index_column": "2018-05-01T11:05:00.000000"
        },
        {
         "num": 3,
         "city": "London",
         "_deepnote_index_column": "2018-05-01T11:06:00.000000"
        },
        {
         "num": 3,
         "city": "London",
         "_deepnote_index_column": "2018-05-01T11:07:00.000000"
        },
        {
         "num": 2,
         "city": "London",
         "_deepnote_index_column": "2018-05-01T11:08:00.000000"
        },
        {
         "num": 2,
         "city": "London",
         "_deepnote_index_column": "2018-05-01T11:09:00.000000"
        },
        {
         "num": 4,
         "city": "London",
         "_deepnote_index_column": "2018-05-01T11:10:00.000000"
        },
        {
         "num": 3,
         "city": "London",
         "_deepnote_index_column": "2018-05-01T11:11:00.000000"
        },
        {
         "num": 3,
         "city": "London",
         "_deepnote_index_column": "2018-05-01T11:12:00.000000"
        },
        {
         "num": 3,
         "city": "London",
         "_deepnote_index_column": "2018-05-01T11:13:00.000000"
        },
        {
         "num": 1,
         "city": "London",
         "_deepnote_index_column": "2018-05-01T11:14:00.000000"
        },
        {
         "num": 4,
         "city": "London",
         "_deepnote_index_column": "2018-05-01T11:15:00.000000"
        },
        {
         "num": 2,
         "city": "London",
         "_deepnote_index_column": "2018-05-01T11:16:00.000000"
        },
        {
         "num": 2,
         "city": "London",
         "_deepnote_index_column": "2018-05-01T11:17:00.000000"
        },
        {
         "num": 3,
         "city": "London",
         "_deepnote_index_column": "2018-05-01T11:18:00.000000"
        },
        {
         "num": 3,
         "city": "London",
         "_deepnote_index_column": "2018-05-01T11:19:00.000000"
        },
        {
         "num": 4,
         "city": "London",
         "_deepnote_index_column": "2018-05-01T11:20:00.000000"
        },
        {
         "num": 1,
         "city": "London",
         "_deepnote_index_column": "2018-05-01T11:21:00.000000"
        },
        {
         "num": 3,
         "city": "London",
         "_deepnote_index_column": "2018-05-01T11:22:00.000000"
        },
        {
         "num": 4,
         "city": "London",
         "_deepnote_index_column": "2018-05-01T11:23:00.000000"
        },
        {
         "num": 3,
         "city": "London",
         "_deepnote_index_column": "2018-05-01T11:24:00.000000"
        },
        {
         "num": 3,
         "city": "London",
         "_deepnote_index_column": "2018-05-01T11:25:00.000000"
        },
        {
         "num": 1,
         "city": "London",
         "_deepnote_index_column": "2018-05-01T11:26:00.000000"
        },
        {
         "num": 1,
         "city": "London",
         "_deepnote_index_column": "2018-05-01T11:27:00.000000"
        },
        {
         "num": 3,
         "city": "London",
         "_deepnote_index_column": "2018-05-01T11:28:00.000000"
        },
        {
         "num": 4,
         "city": "London",
         "_deepnote_index_column": "2018-05-01T11:29:00.000000"
        },
        {
         "num": 3,
         "city": "London",
         "_deepnote_index_column": "2018-05-01T11:30:00.000000"
        },
        {
         "num": 3,
         "city": "London",
         "_deepnote_index_column": "2018-05-01T11:31:00.000000"
        },
        {
         "num": 3,
         "city": "London",
         "_deepnote_index_column": "2018-05-01T11:32:00.000000"
        },
        {
         "num": 2,
         "city": "London",
         "_deepnote_index_column": "2018-05-01T11:33:00.000000"
        },
        {
         "num": 3,
         "city": "London",
         "_deepnote_index_column": "2018-05-01T11:34:00.000000"
        },
        {
         "num": 4,
         "city": "London",
         "_deepnote_index_column": "2018-05-01T11:35:00.000000"
        },
        {
         "num": 2,
         "city": "London",
         "_deepnote_index_column": "2018-05-01T11:36:00.000000"
        },
        {
         "num": 3,
         "city": "London",
         "_deepnote_index_column": "2018-05-01T11:37:00.000000"
        },
        {
         "num": 3,
         "city": "London",
         "_deepnote_index_column": "2018-05-01T11:38:00.000000"
        },
        {
         "num": 4,
         "city": "London",
         "_deepnote_index_column": "2018-05-01T11:39:00.000000"
        },
        {
         "num": 4,
         "city": "London",
         "_deepnote_index_column": "2018-05-01T11:40:00.000000"
        },
        {
         "num": 2,
         "city": "London",
         "_deepnote_index_column": "2018-05-01T11:41:00.000000"
        },
        {
         "num": 1,
         "city": "London",
         "_deepnote_index_column": "2018-05-01T11:42:00.000000"
        },
        {
         "num": 2,
         "city": "London",
         "_deepnote_index_column": "2018-05-01T11:43:00.000000"
        },
        {
         "num": 4,
         "city": "London",
         "_deepnote_index_column": "2018-05-01T11:44:00.000000"
        },
        {
         "num": 3,
         "city": "London",
         "_deepnote_index_column": "2018-05-01T11:45:00.000000"
        },
        {
         "num": 3,
         "city": "London",
         "_deepnote_index_column": "2018-05-01T11:46:00.000000"
        },
        {
         "num": 3,
         "city": "London",
         "_deepnote_index_column": "2018-05-01T11:47:00.000000"
        },
        {
         "num": 3,
         "city": "London",
         "_deepnote_index_column": "2018-05-01T11:48:00.000000"
        },
        {
         "num": 1,
         "city": "London",
         "_deepnote_index_column": "2018-05-01T11:49:00.000000"
        },
        {
         "num": 3,
         "city": "London",
         "_deepnote_index_column": "2018-05-01T11:50:00.000000"
        },
        {
         "num": 4,
         "city": "London",
         "_deepnote_index_column": "2018-05-01T11:51:00.000000"
        },
        {
         "num": 3,
         "city": "London",
         "_deepnote_index_column": "2018-05-01T11:52:00.000000"
        },
        {
         "num": 1,
         "city": "London",
         "_deepnote_index_column": "2018-05-01T11:53:00.000000"
        },
        {
         "num": 3,
         "city": "London",
         "_deepnote_index_column": "2018-05-01T11:54:00.000000"
        },
        {
         "num": 3,
         "city": "London",
         "_deepnote_index_column": "2018-05-01T11:55:00.000000"
        },
        {
         "num": 3,
         "city": "London",
         "_deepnote_index_column": "2018-05-01T11:56:00.000000"
        },
        {
         "num": 4,
         "city": "London",
         "_deepnote_index_column": "2018-05-01T11:57:00.000000"
        },
        {
         "num": 1,
         "city": "London",
         "_deepnote_index_column": "2018-05-01T11:58:00.000000"
        },
        {
         "num": 3,
         "city": "London",
         "_deepnote_index_column": "2018-05-01T11:59:00.000000"
        },
        {
         "num": 4,
         "city": "London",
         "_deepnote_index_column": "2018-05-01T12:00:00.000000"
        },
        {
         "num": 2,
         "city": "London",
         "_deepnote_index_column": "2018-05-01T12:01:00.000000"
        },
        {
         "num": 3,
         "city": "London",
         "_deepnote_index_column": "2018-05-01T12:02:00.000000"
        },
        {
         "num": 3,
         "city": "London",
         "_deepnote_index_column": "2018-05-01T12:03:00.000000"
        },
        {
         "num": 2,
         "city": "London",
         "_deepnote_index_column": "2018-05-01T12:04:00.000000"
        },
        {
         "num": 2,
         "city": "London",
         "_deepnote_index_column": "2018-05-01T12:05:00.000000"
        },
        {
         "num": 4,
         "city": "London",
         "_deepnote_index_column": "2018-05-01T12:06:00.000000"
        },
        {
         "num": 1,
         "city": "London",
         "_deepnote_index_column": "2018-05-01T12:07:00.000000"
        },
        {
         "num": 2,
         "city": "London",
         "_deepnote_index_column": "2018-05-01T12:08:00.000000"
        },
        {
         "num": 4,
         "city": "London",
         "_deepnote_index_column": "2018-05-01T12:09:00.000000"
        },
        {
         "num": 2,
         "city": "London",
         "_deepnote_index_column": "2018-05-01T12:10:00.000000"
        },
        {
         "num": 2,
         "city": "London",
         "_deepnote_index_column": "2018-05-01T12:11:00.000000"
        },
        {
         "num": 4,
         "city": "London",
         "_deepnote_index_column": "2018-05-01T12:12:00.000000"
        },
        {
         "num": 4,
         "city": "London",
         "_deepnote_index_column": "2018-05-01T12:13:00.000000"
        },
        {
         "num": 3,
         "city": "London",
         "_deepnote_index_column": "2018-05-01T12:14:00.000000"
        },
        {
         "num": 4,
         "city": "London",
         "_deepnote_index_column": "2018-05-01T12:15:00.000000"
        },
        {
         "num": 3,
         "city": "London",
         "_deepnote_index_column": "2018-05-01T12:16:00.000000"
        },
        {
         "num": 4,
         "city": "London",
         "_deepnote_index_column": "2018-05-01T12:17:00.000000"
        },
        {
         "num": 3,
         "city": "London",
         "_deepnote_index_column": "2018-05-01T12:18:00.000000"
        },
        {
         "num": 1,
         "city": "London",
         "_deepnote_index_column": "2018-05-01T12:19:00.000000"
        },
        {
         "num": 3,
         "city": "London",
         "_deepnote_index_column": "2018-05-01T12:20:00.000000"
        },
        {
         "num": 3,
         "city": "London",
         "_deepnote_index_column": "2018-05-01T12:21:00.000000"
        },
        {
         "num": 3,
         "city": "London",
         "_deepnote_index_column": "2018-05-01T12:22:00.000000"
        },
        {
         "num": 3,
         "city": "London",
         "_deepnote_index_column": "2018-05-01T12:23:00.000000"
        },
        {
         "num": 1,
         "city": "London",
         "_deepnote_index_column": "2018-05-01T12:24:00.000000"
        },
        {
         "num": 3,
         "city": "London",
         "_deepnote_index_column": "2018-05-01T12:25:00.000000"
        },
        {
         "num": 3,
         "city": "London",
         "_deepnote_index_column": "2018-05-01T12:26:00.000000"
        },
        {
         "num": 3,
         "city": "London",
         "_deepnote_index_column": "2018-05-01T12:27:00.000000"
        },
        {
         "num": 3,
         "city": "London",
         "_deepnote_index_column": "2018-05-01T12:28:00.000000"
        },
        {
         "num": 4,
         "city": "London",
         "_deepnote_index_column": "2018-05-01T12:29:00.000000"
        },
        {
         "num": 4,
         "city": "London",
         "_deepnote_index_column": "2018-05-01T12:30:00.000000"
        },
        {
         "num": 3,
         "city": "London",
         "_deepnote_index_column": "2018-05-01T12:31:00.000000"
        },
        {
         "num": 3,
         "city": "London",
         "_deepnote_index_column": "2018-05-01T12:32:00.000000"
        },
        {
         "num": 3,
         "city": "London",
         "_deepnote_index_column": "2018-05-01T12:33:00.000000"
        },
        {
         "num": 4,
         "city": "London",
         "_deepnote_index_column": "2018-05-01T12:34:00.000000"
        },
        {
         "num": 2,
         "city": "London",
         "_deepnote_index_column": "2018-05-01T12:35:00.000000"
        },
        {
         "num": 3,
         "city": "London",
         "_deepnote_index_column": "2018-05-01T12:36:00.000000"
        },
        {
         "num": 3,
         "city": "London",
         "_deepnote_index_column": "2018-05-01T12:37:00.000000"
        },
        {
         "num": 4,
         "city": "London",
         "_deepnote_index_column": "2018-05-01T12:38:00.000000"
        },
        {
         "num": 3,
         "city": "London",
         "_deepnote_index_column": "2018-05-01T12:39:00.000000"
        },
        {
         "num": 3,
         "city": "London",
         "_deepnote_index_column": "2018-05-01T12:40:00.000000"
        },
        {
         "num": 4,
         "city": "London",
         "_deepnote_index_column": "2018-05-01T12:41:00.000000"
        },
        {
         "num": 2,
         "city": "London",
         "_deepnote_index_column": "2018-05-01T12:42:00.000000"
        },
        {
         "num": 4,
         "city": "London",
         "_deepnote_index_column": "2018-05-01T12:43:00.000000"
        },
        {
         "num": 3,
         "city": "London",
         "_deepnote_index_column": "2018-05-01T12:44:00.000000"
        },
        {
         "num": 4,
         "city": "London",
         "_deepnote_index_column": "2018-05-01T12:45:00.000000"
        },
        {
         "num": 3,
         "city": "London",
         "_deepnote_index_column": "2018-05-01T12:46:00.000000"
        },
        {
         "num": 2,
         "city": "London",
         "_deepnote_index_column": "2018-05-01T12:47:00.000000"
        },
        {
         "num": 2,
         "city": "London",
         "_deepnote_index_column": "2018-05-01T12:48:00.000000"
        },
        {
         "num": 2,
         "city": "London",
         "_deepnote_index_column": "2018-05-01T12:49:00.000000"
        },
        {
         "num": 2,
         "city": "London",
         "_deepnote_index_column": "2018-05-01T12:50:00.000000"
        },
        {
         "num": 3,
         "city": "London",
         "_deepnote_index_column": "2018-05-01T12:51:00.000000"
        },
        {
         "num": 3,
         "city": "London",
         "_deepnote_index_column": "2018-05-01T12:52:00.000000"
        },
        {
         "num": 4,
         "city": "London",
         "_deepnote_index_column": "2018-05-01T12:53:00.000000"
        },
        {
         "num": 3,
         "city": "London",
         "_deepnote_index_column": "2018-05-01T12:54:00.000000"
        },
        {
         "num": 3,
         "city": "London",
         "_deepnote_index_column": "2018-05-01T12:55:00.000000"
        },
        {
         "num": 3,
         "city": "London",
         "_deepnote_index_column": "2018-05-01T12:56:00.000000"
        },
        {
         "num": 1,
         "city": "London",
         "_deepnote_index_column": "2018-05-01T12:57:00.000000"
        },
        {
         "num": 3,
         "city": "London",
         "_deepnote_index_column": "2018-05-01T12:58:00.000000"
        },
        {
         "num": 4,
         "city": "London",
         "_deepnote_index_column": "2018-05-01T12:59:00.000000"
        },
        {
         "num": 1,
         "city": "London",
         "_deepnote_index_column": "2018-05-01T13:00:00.000000"
        },
        {
         "num": 3,
         "city": "London",
         "_deepnote_index_column": "2018-05-01T13:01:00.000000"
        },
        {
         "num": 3,
         "city": "London",
         "_deepnote_index_column": "2018-05-01T13:02:00.000000"
        },
        {
         "num": 4,
         "city": "London",
         "_deepnote_index_column": "2018-05-01T13:03:00.000000"
        },
        {
         "num": 3,
         "city": "London",
         "_deepnote_index_column": "2018-05-01T13:04:00.000000"
        },
        {
         "num": 4,
         "city": "London",
         "_deepnote_index_column": "2018-05-01T13:05:00.000000"
        },
        {
         "num": 4,
         "city": "London",
         "_deepnote_index_column": "2018-05-01T13:06:00.000000"
        },
        {
         "num": 3,
         "city": "London",
         "_deepnote_index_column": "2018-05-01T13:07:00.000000"
        },
        {
         "num": 3,
         "city": "London",
         "_deepnote_index_column": "2018-05-01T13:08:00.000000"
        },
        {
         "num": 3,
         "city": "London",
         "_deepnote_index_column": "2018-05-01T13:09:00.000000"
        }
       ],
       "rows_bottom": [
        {
         "num": 3,
         "city": "Cambridge",
         "_deepnote_index_column": "2018-05-01T11:51:00.000000"
        },
        {
         "num": 4,
         "city": "Cambridge",
         "_deepnote_index_column": "2018-05-01T11:52:00.000000"
        },
        {
         "num": 2,
         "city": "Cambridge",
         "_deepnote_index_column": "2018-05-01T11:53:00.000000"
        },
        {
         "num": 3,
         "city": "Cambridge",
         "_deepnote_index_column": "2018-05-01T11:54:00.000000"
        },
        {
         "num": 1,
         "city": "Cambridge",
         "_deepnote_index_column": "2018-05-01T11:55:00.000000"
        },
        {
         "num": 3,
         "city": "Cambridge",
         "_deepnote_index_column": "2018-05-01T11:56:00.000000"
        },
        {
         "num": 2,
         "city": "Cambridge",
         "_deepnote_index_column": "2018-05-01T11:57:00.000000"
        },
        {
         "num": 3,
         "city": "Cambridge",
         "_deepnote_index_column": "2018-05-01T11:58:00.000000"
        },
        {
         "num": 2,
         "city": "Cambridge",
         "_deepnote_index_column": "2018-05-01T11:59:00.000000"
        },
        {
         "num": 4,
         "city": "Cambridge",
         "_deepnote_index_column": "2018-05-01T12:00:00.000000"
        },
        {
         "num": 1,
         "city": "Cambridge",
         "_deepnote_index_column": "2018-05-01T12:01:00.000000"
        },
        {
         "num": 3,
         "city": "Cambridge",
         "_deepnote_index_column": "2018-05-01T12:02:00.000000"
        },
        {
         "num": 2,
         "city": "Cambridge",
         "_deepnote_index_column": "2018-05-01T12:03:00.000000"
        },
        {
         "num": 3,
         "city": "Cambridge",
         "_deepnote_index_column": "2018-05-01T12:04:00.000000"
        },
        {
         "num": 4,
         "city": "Cambridge",
         "_deepnote_index_column": "2018-05-01T12:05:00.000000"
        },
        {
         "num": 3,
         "city": "Cambridge",
         "_deepnote_index_column": "2018-05-01T12:06:00.000000"
        },
        {
         "num": 3,
         "city": "Cambridge",
         "_deepnote_index_column": "2018-05-01T12:07:00.000000"
        },
        {
         "num": 3,
         "city": "Cambridge",
         "_deepnote_index_column": "2018-05-01T12:08:00.000000"
        },
        {
         "num": 4,
         "city": "Cambridge",
         "_deepnote_index_column": "2018-05-01T12:09:00.000000"
        },
        {
         "num": 1,
         "city": "Cambridge",
         "_deepnote_index_column": "2018-05-01T12:10:00.000000"
        },
        {
         "num": 2,
         "city": "Cambridge",
         "_deepnote_index_column": "2018-05-01T12:11:00.000000"
        },
        {
         "num": 3,
         "city": "Cambridge",
         "_deepnote_index_column": "2018-05-01T12:12:00.000000"
        },
        {
         "num": 3,
         "city": "Cambridge",
         "_deepnote_index_column": "2018-05-01T12:13:00.000000"
        },
        {
         "num": 2,
         "city": "Cambridge",
         "_deepnote_index_column": "2018-05-01T12:14:00.000000"
        },
        {
         "num": 4,
         "city": "Cambridge",
         "_deepnote_index_column": "2018-05-01T12:15:00.000000"
        },
        {
         "num": 4,
         "city": "Cambridge",
         "_deepnote_index_column": "2018-05-01T12:16:00.000000"
        },
        {
         "num": 3,
         "city": "Cambridge",
         "_deepnote_index_column": "2018-05-01T12:17:00.000000"
        },
        {
         "num": 3,
         "city": "Cambridge",
         "_deepnote_index_column": "2018-05-01T12:18:00.000000"
        },
        {
         "num": 2,
         "city": "Cambridge",
         "_deepnote_index_column": "2018-05-01T12:19:00.000000"
        },
        {
         "num": 4,
         "city": "Cambridge",
         "_deepnote_index_column": "2018-05-01T12:20:00.000000"
        },
        {
         "num": 3,
         "city": "Cambridge",
         "_deepnote_index_column": "2018-05-01T12:21:00.000000"
        },
        {
         "num": 2,
         "city": "Cambridge",
         "_deepnote_index_column": "2018-05-01T12:22:00.000000"
        },
        {
         "num": 3,
         "city": "Cambridge",
         "_deepnote_index_column": "2018-05-01T12:23:00.000000"
        },
        {
         "num": 3,
         "city": "Cambridge",
         "_deepnote_index_column": "2018-05-01T12:24:00.000000"
        },
        {
         "num": 4,
         "city": "Cambridge",
         "_deepnote_index_column": "2018-05-01T12:25:00.000000"
        },
        {
         "num": 1,
         "city": "Cambridge",
         "_deepnote_index_column": "2018-05-01T12:26:00.000000"
        },
        {
         "num": 4,
         "city": "Cambridge",
         "_deepnote_index_column": "2018-05-01T12:27:00.000000"
        },
        {
         "num": 2,
         "city": "Cambridge",
         "_deepnote_index_column": "2018-05-01T12:28:00.000000"
        },
        {
         "num": 2,
         "city": "Cambridge",
         "_deepnote_index_column": "2018-05-01T12:29:00.000000"
        },
        {
         "num": 3,
         "city": "Cambridge",
         "_deepnote_index_column": "2018-05-01T12:30:00.000000"
        },
        {
         "num": 3,
         "city": "Cambridge",
         "_deepnote_index_column": "2018-05-01T12:31:00.000000"
        },
        {
         "num": 3,
         "city": "Cambridge",
         "_deepnote_index_column": "2018-05-01T12:32:00.000000"
        },
        {
         "num": 3,
         "city": "Cambridge",
         "_deepnote_index_column": "2018-05-01T12:33:00.000000"
        },
        {
         "num": 3,
         "city": "Cambridge",
         "_deepnote_index_column": "2018-05-01T12:34:00.000000"
        },
        {
         "num": 4,
         "city": "Cambridge",
         "_deepnote_index_column": "2018-05-01T12:35:00.000000"
        },
        {
         "num": 2,
         "city": "Cambridge",
         "_deepnote_index_column": "2018-05-01T12:36:00.000000"
        },
        {
         "num": 3,
         "city": "Cambridge",
         "_deepnote_index_column": "2018-05-01T12:37:00.000000"
        },
        {
         "num": 1,
         "city": "Cambridge",
         "_deepnote_index_column": "2018-05-01T12:38:00.000000"
        },
        {
         "num": 1,
         "city": "Cambridge",
         "_deepnote_index_column": "2018-05-01T12:39:00.000000"
        },
        {
         "num": 3,
         "city": "Cambridge",
         "_deepnote_index_column": "2018-05-01T12:40:00.000000"
        },
        {
         "num": 4,
         "city": "Cambridge",
         "_deepnote_index_column": "2018-05-01T12:41:00.000000"
        },
        {
         "num": 1,
         "city": "Cambridge",
         "_deepnote_index_column": "2018-05-01T12:42:00.000000"
        },
        {
         "num": 1,
         "city": "Cambridge",
         "_deepnote_index_column": "2018-05-01T12:43:00.000000"
        },
        {
         "num": 4,
         "city": "Cambridge",
         "_deepnote_index_column": "2018-05-01T12:44:00.000000"
        },
        {
         "num": 3,
         "city": "Cambridge",
         "_deepnote_index_column": "2018-05-01T12:45:00.000000"
        },
        {
         "num": 3,
         "city": "Cambridge",
         "_deepnote_index_column": "2018-05-01T12:46:00.000000"
        },
        {
         "num": 3,
         "city": "Cambridge",
         "_deepnote_index_column": "2018-05-01T12:47:00.000000"
        },
        {
         "num": 3,
         "city": "Cambridge",
         "_deepnote_index_column": "2018-05-01T12:48:00.000000"
        },
        {
         "num": 1,
         "city": "Cambridge",
         "_deepnote_index_column": "2018-05-01T12:49:00.000000"
        },
        {
         "num": 4,
         "city": "Cambridge",
         "_deepnote_index_column": "2018-05-01T12:50:00.000000"
        },
        {
         "num": 3,
         "city": "Cambridge",
         "_deepnote_index_column": "2018-05-01T12:51:00.000000"
        },
        {
         "num": 3,
         "city": "Cambridge",
         "_deepnote_index_column": "2018-05-01T12:52:00.000000"
        },
        {
         "num": 3,
         "city": "Cambridge",
         "_deepnote_index_column": "2018-05-01T12:53:00.000000"
        },
        {
         "num": 3,
         "city": "Cambridge",
         "_deepnote_index_column": "2018-05-01T12:54:00.000000"
        },
        {
         "num": 3,
         "city": "Cambridge",
         "_deepnote_index_column": "2018-05-01T12:55:00.000000"
        },
        {
         "num": 2,
         "city": "Cambridge",
         "_deepnote_index_column": "2018-05-01T12:56:00.000000"
        },
        {
         "num": 2,
         "city": "Cambridge",
         "_deepnote_index_column": "2018-05-01T12:57:00.000000"
        },
        {
         "num": 3,
         "city": "Cambridge",
         "_deepnote_index_column": "2018-05-01T12:58:00.000000"
        },
        {
         "num": 1,
         "city": "Cambridge",
         "_deepnote_index_column": "2018-05-01T12:59:00.000000"
        },
        {
         "num": 3,
         "city": "Cambridge",
         "_deepnote_index_column": "2018-05-01T13:00:00.000000"
        },
        {
         "num": 3,
         "city": "Cambridge",
         "_deepnote_index_column": "2018-05-01T13:01:00.000000"
        },
        {
         "num": 1,
         "city": "Cambridge",
         "_deepnote_index_column": "2018-05-01T13:02:00.000000"
        },
        {
         "num": 4,
         "city": "Cambridge",
         "_deepnote_index_column": "2018-05-01T13:03:00.000000"
        },
        {
         "num": 3,
         "city": "Cambridge",
         "_deepnote_index_column": "2018-05-01T13:04:00.000000"
        },
        {
         "num": 3,
         "city": "Cambridge",
         "_deepnote_index_column": "2018-05-01T13:05:00.000000"
        },
        {
         "num": 3,
         "city": "Cambridge",
         "_deepnote_index_column": "2018-05-01T13:06:00.000000"
        },
        {
         "num": 3,
         "city": "Cambridge",
         "_deepnote_index_column": "2018-05-01T13:07:00.000000"
        },
        {
         "num": 1,
         "city": "Cambridge",
         "_deepnote_index_column": "2018-05-01T13:08:00.000000"
        },
        {
         "num": 4,
         "city": "Cambridge",
         "_deepnote_index_column": "2018-05-01T13:09:00.000000"
        },
        {
         "num": 4,
         "city": "Cambridge",
         "_deepnote_index_column": "2018-05-01T13:10:00.000000"
        },
        {
         "num": 2,
         "city": "Cambridge",
         "_deepnote_index_column": "2018-05-01T13:11:00.000000"
        },
        {
         "num": 3,
         "city": "Cambridge",
         "_deepnote_index_column": "2018-05-01T13:12:00.000000"
        },
        {
         "num": 3,
         "city": "Cambridge",
         "_deepnote_index_column": "2018-05-01T13:13:00.000000"
        },
        {
         "num": 3,
         "city": "Cambridge",
         "_deepnote_index_column": "2018-05-01T13:14:00.000000"
        },
        {
         "num": 4,
         "city": "Cambridge",
         "_deepnote_index_column": "2018-05-01T13:15:00.000000"
        },
        {
         "num": 4,
         "city": "Cambridge",
         "_deepnote_index_column": "2018-05-01T13:16:00.000000"
        },
        {
         "num": 3,
         "city": "Cambridge",
         "_deepnote_index_column": "2018-05-01T13:17:00.000000"
        },
        {
         "num": 3,
         "city": "Cambridge",
         "_deepnote_index_column": "2018-05-01T13:18:00.000000"
        },
        {
         "num": 3,
         "city": "Cambridge",
         "_deepnote_index_column": "2018-05-01T13:19:00.000000"
        },
        {
         "num": 3,
         "city": "Cambridge",
         "_deepnote_index_column": "2018-05-01T13:20:00.000000"
        },
        {
         "num": 3,
         "city": "Cambridge",
         "_deepnote_index_column": "2018-05-01T13:21:00.000000"
        },
        {
         "num": 1,
         "city": "Cambridge",
         "_deepnote_index_column": "2018-05-01T13:22:00.000000"
        },
        {
         "num": 4,
         "city": "Cambridge",
         "_deepnote_index_column": "2018-05-01T13:23:00.000000"
        },
        {
         "num": 1,
         "city": "Cambridge",
         "_deepnote_index_column": "2018-05-01T13:24:00.000000"
        },
        {
         "num": 2,
         "city": "Cambridge",
         "_deepnote_index_column": "2018-05-01T13:25:00.000000"
        },
        {
         "num": 2,
         "city": "Cambridge",
         "_deepnote_index_column": "2018-05-01T13:26:00.000000"
        },
        {
         "num": 3,
         "city": "Cambridge",
         "_deepnote_index_column": "2018-05-01T13:27:00.000000"
        },
        {
         "num": 2,
         "city": "Cambridge",
         "_deepnote_index_column": "2018-05-01T13:28:00.000000"
        },
        {
         "num": 4,
         "city": "Cambridge",
         "_deepnote_index_column": "2018-05-01T13:29:00.000000"
        },
        {
         "num": 3,
         "city": "Cambridge",
         "_deepnote_index_column": "2018-05-01T13:30:00.000000"
        },
        {
         "num": 3,
         "city": "Cambridge",
         "_deepnote_index_column": "2018-05-01T13:31:00.000000"
        },
        {
         "num": 4,
         "city": "Cambridge",
         "_deepnote_index_column": "2018-05-01T13:32:00.000000"
        },
        {
         "num": 3,
         "city": "Cambridge",
         "_deepnote_index_column": "2018-05-01T13:33:00.000000"
        },
        {
         "num": 1,
         "city": "Cambridge",
         "_deepnote_index_column": "2018-05-01T13:34:00.000000"
        },
        {
         "num": 3,
         "city": "Cambridge",
         "_deepnote_index_column": "2018-05-01T13:35:00.000000"
        },
        {
         "num": 4,
         "city": "Cambridge",
         "_deepnote_index_column": "2018-05-01T13:36:00.000000"
        },
        {
         "num": 1,
         "city": "Cambridge",
         "_deepnote_index_column": "2018-05-01T13:37:00.000000"
        },
        {
         "num": 2,
         "city": "Cambridge",
         "_deepnote_index_column": "2018-05-01T13:38:00.000000"
        },
        {
         "num": 2,
         "city": "Cambridge",
         "_deepnote_index_column": "2018-05-01T13:39:00.000000"
        },
        {
         "num": 4,
         "city": "Cambridge",
         "_deepnote_index_column": "2018-05-01T13:40:00.000000"
        },
        {
         "num": 3,
         "city": "Cambridge",
         "_deepnote_index_column": "2018-05-01T13:41:00.000000"
        },
        {
         "num": 3,
         "city": "Cambridge",
         "_deepnote_index_column": "2018-05-01T13:42:00.000000"
        },
        {
         "num": 3,
         "city": "Cambridge",
         "_deepnote_index_column": "2018-05-01T13:43:00.000000"
        },
        {
         "num": 3,
         "city": "Cambridge",
         "_deepnote_index_column": "2018-05-01T13:44:00.000000"
        },
        {
         "num": 2,
         "city": "Cambridge",
         "_deepnote_index_column": "2018-05-01T13:45:00.000000"
        },
        {
         "num": 2,
         "city": "Cambridge",
         "_deepnote_index_column": "2018-05-01T13:46:00.000000"
        },
        {
         "num": 1,
         "city": "Cambridge",
         "_deepnote_index_column": "2018-05-01T13:47:00.000000"
        },
        {
         "num": 4,
         "city": "Cambridge",
         "_deepnote_index_column": "2018-05-01T13:48:00.000000"
        },
        {
         "num": 3,
         "city": "Cambridge",
         "_deepnote_index_column": "2018-05-01T13:49:00.000000"
        },
        {
         "num": 3,
         "city": "Cambridge",
         "_deepnote_index_column": "2018-05-01T13:50:00.000000"
        },
        {
         "num": 1,
         "city": "Cambridge",
         "_deepnote_index_column": "2018-05-01T13:51:00.000000"
        },
        {
         "num": 3,
         "city": "Cambridge",
         "_deepnote_index_column": "2018-05-01T13:52:00.000000"
        },
        {
         "num": 1,
         "city": "Cambridge",
         "_deepnote_index_column": "2018-05-01T13:53:00.000000"
        },
        {
         "num": 3,
         "city": "Cambridge",
         "_deepnote_index_column": "2018-05-01T13:54:00.000000"
        },
        {
         "num": 3,
         "city": "Cambridge",
         "_deepnote_index_column": "2018-05-01T13:55:00.000000"
        },
        {
         "num": 1,
         "city": "Cambridge",
         "_deepnote_index_column": "2018-05-01T13:56:00.000000"
        },
        {
         "num": 3,
         "city": "Cambridge",
         "_deepnote_index_column": "2018-05-01T13:57:00.000000"
        },
        {
         "num": 3,
         "city": "Cambridge",
         "_deepnote_index_column": "2018-05-01T13:58:00.000000"
        },
        {
         "num": 3,
         "city": "Cambridge",
         "_deepnote_index_column": "2018-05-01T13:59:00.000000"
        },
        {
         "num": 1,
         "city": "Cambridge",
         "_deepnote_index_column": "2018-05-01T14:00:00.000000"
        },
        {
         "num": 3,
         "city": "Cambridge",
         "_deepnote_index_column": "2018-05-01T14:01:00.000000"
        },
        {
         "num": 4,
         "city": "Cambridge",
         "_deepnote_index_column": "2018-05-01T14:02:00.000000"
        },
        {
         "num": 1,
         "city": "Cambridge",
         "_deepnote_index_column": "2018-05-01T14:03:00.000000"
        },
        {
         "num": 3,
         "city": "Cambridge",
         "_deepnote_index_column": "2018-05-01T14:04:00.000000"
        },
        {
         "num": 3,
         "city": "Cambridge",
         "_deepnote_index_column": "2018-05-01T14:05:00.000000"
        },
        {
         "num": 2,
         "city": "Cambridge",
         "_deepnote_index_column": "2018-05-01T14:06:00.000000"
        },
        {
         "num": 4,
         "city": "Cambridge",
         "_deepnote_index_column": "2018-05-01T14:07:00.000000"
        },
        {
         "num": 3,
         "city": "Cambridge",
         "_deepnote_index_column": "2018-05-01T14:08:00.000000"
        },
        {
         "num": 1,
         "city": "Cambridge",
         "_deepnote_index_column": "2018-05-01T14:09:00.000000"
        },
        {
         "num": 1,
         "city": "Cambridge",
         "_deepnote_index_column": "2018-05-01T14:10:00.000000"
        },
        {
         "num": 3,
         "city": "Cambridge",
         "_deepnote_index_column": "2018-05-01T14:11:00.000000"
        },
        {
         "num": 1,
         "city": "Cambridge",
         "_deepnote_index_column": "2018-05-01T14:12:00.000000"
        },
        {
         "num": 4,
         "city": "Cambridge",
         "_deepnote_index_column": "2018-05-01T14:13:00.000000"
        },
        {
         "num": 3,
         "city": "Cambridge",
         "_deepnote_index_column": "2018-05-01T14:14:00.000000"
        },
        {
         "num": 3,
         "city": "Cambridge",
         "_deepnote_index_column": "2018-05-01T14:15:00.000000"
        },
        {
         "num": 3,
         "city": "Cambridge",
         "_deepnote_index_column": "2018-05-01T14:16:00.000000"
        },
        {
         "num": 4,
         "city": "Cambridge",
         "_deepnote_index_column": "2018-05-01T14:17:00.000000"
        },
        {
         "num": 4,
         "city": "Cambridge",
         "_deepnote_index_column": "2018-05-01T14:18:00.000000"
        },
        {
         "num": 2,
         "city": "Cambridge",
         "_deepnote_index_column": "2018-05-01T14:19:00.000000"
        },
        {
         "num": 1,
         "city": "Cambridge",
         "_deepnote_index_column": "2018-05-01T14:20:00.000000"
        },
        {
         "num": 3,
         "city": "Cambridge",
         "_deepnote_index_column": "2018-05-01T14:21:00.000000"
        },
        {
         "num": 4,
         "city": "Cambridge",
         "_deepnote_index_column": "2018-05-01T14:22:00.000000"
        },
        {
         "num": 3,
         "city": "Cambridge",
         "_deepnote_index_column": "2018-05-01T14:23:00.000000"
        },
        {
         "num": 4,
         "city": "Cambridge",
         "_deepnote_index_column": "2018-05-01T14:24:00.000000"
        },
        {
         "num": 4,
         "city": "Cambridge",
         "_deepnote_index_column": "2018-05-01T14:25:00.000000"
        },
        {
         "num": 3,
         "city": "Cambridge",
         "_deepnote_index_column": "2018-05-01T14:26:00.000000"
        },
        {
         "num": 3,
         "city": "Cambridge",
         "_deepnote_index_column": "2018-05-01T14:27:00.000000"
        },
        {
         "num": 3,
         "city": "Cambridge",
         "_deepnote_index_column": "2018-05-01T14:28:00.000000"
        },
        {
         "num": 3,
         "city": "Cambridge",
         "_deepnote_index_column": "2018-05-01T14:29:00.000000"
        },
        {
         "num": 4,
         "city": "Cambridge",
         "_deepnote_index_column": "2018-05-01T14:30:00.000000"
        },
        {
         "num": 4,
         "city": "Cambridge",
         "_deepnote_index_column": "2018-05-01T14:31:00.000000"
        },
        {
         "num": 3,
         "city": "Cambridge",
         "_deepnote_index_column": "2018-05-01T14:32:00.000000"
        },
        {
         "num": 4,
         "city": "Cambridge",
         "_deepnote_index_column": "2018-05-01T14:33:00.000000"
        },
        {
         "num": 2,
         "city": "Cambridge",
         "_deepnote_index_column": "2018-05-01T14:34:00.000000"
        },
        {
         "num": 3,
         "city": "Cambridge",
         "_deepnote_index_column": "2018-05-01T14:35:00.000000"
        },
        {
         "num": 3,
         "city": "Cambridge",
         "_deepnote_index_column": "2018-05-01T14:36:00.000000"
        },
        {
         "num": 4,
         "city": "Cambridge",
         "_deepnote_index_column": "2018-05-01T14:37:00.000000"
        },
        {
         "num": 3,
         "city": "Cambridge",
         "_deepnote_index_column": "2018-05-01T14:38:00.000000"
        },
        {
         "num": 1,
         "city": "Cambridge",
         "_deepnote_index_column": "2018-05-01T14:39:00.000000"
        },
        {
         "num": 3,
         "city": "Cambridge",
         "_deepnote_index_column": "2018-05-01T14:40:00.000000"
        },
        {
         "num": 2,
         "city": "Cambridge",
         "_deepnote_index_column": "2018-05-01T14:41:00.000000"
        },
        {
         "num": 3,
         "city": "Cambridge",
         "_deepnote_index_column": "2018-05-01T14:42:00.000000"
        },
        {
         "num": 1,
         "city": "Cambridge",
         "_deepnote_index_column": "2018-05-01T14:43:00.000000"
        },
        {
         "num": 2,
         "city": "Cambridge",
         "_deepnote_index_column": "2018-05-01T14:44:00.000000"
        },
        {
         "num": 3,
         "city": "Cambridge",
         "_deepnote_index_column": "2018-05-01T14:45:00.000000"
        },
        {
         "num": 1,
         "city": "Cambridge",
         "_deepnote_index_column": "2018-05-01T14:46:00.000000"
        },
        {
         "num": 3,
         "city": "Cambridge",
         "_deepnote_index_column": "2018-05-01T14:47:00.000000"
        },
        {
         "num": 2,
         "city": "Cambridge",
         "_deepnote_index_column": "2018-05-01T14:48:00.000000"
        },
        {
         "num": 1,
         "city": "Cambridge",
         "_deepnote_index_column": "2018-05-01T14:49:00.000000"
        },
        {
         "num": 3,
         "city": "Cambridge",
         "_deepnote_index_column": "2018-05-01T14:50:00.000000"
        },
        {
         "num": 3,
         "city": "Cambridge",
         "_deepnote_index_column": "2018-05-01T14:51:00.000000"
        },
        {
         "num": 3,
         "city": "Cambridge",
         "_deepnote_index_column": "2018-05-01T14:52:00.000000"
        },
        {
         "num": 4,
         "city": "Cambridge",
         "_deepnote_index_column": "2018-05-01T14:53:00.000000"
        },
        {
         "num": 2,
         "city": "Cambridge",
         "_deepnote_index_column": "2018-05-01T14:54:00.000000"
        },
        {
         "num": 1,
         "city": "Cambridge",
         "_deepnote_index_column": "2018-05-01T14:55:00.000000"
        },
        {
         "num": 1,
         "city": "Cambridge",
         "_deepnote_index_column": "2018-05-01T14:56:00.000000"
        },
        {
         "num": 3,
         "city": "Cambridge",
         "_deepnote_index_column": "2018-05-01T14:57:00.000000"
        },
        {
         "num": 3,
         "city": "Cambridge",
         "_deepnote_index_column": "2018-05-01T14:58:00.000000"
        },
        {
         "num": 2,
         "city": "Cambridge",
         "_deepnote_index_column": "2018-05-01T14:59:00.000000"
        },
        {
         "num": 3,
         "city": "Cambridge",
         "_deepnote_index_column": "2018-05-01T15:00:00.000000"
        },
        {
         "num": 2,
         "city": "Cambridge",
         "_deepnote_index_column": "2018-05-01T15:01:00.000000"
        },
        {
         "num": 3,
         "city": "Cambridge",
         "_deepnote_index_column": "2018-05-01T15:02:00.000000"
        },
        {
         "num": 4,
         "city": "Cambridge",
         "_deepnote_index_column": "2018-05-01T15:03:00.000000"
        },
        {
         "num": 4,
         "city": "Cambridge",
         "_deepnote_index_column": "2018-05-01T15:04:00.000000"
        },
        {
         "num": 3,
         "city": "Cambridge",
         "_deepnote_index_column": "2018-05-01T15:05:00.000000"
        },
        {
         "num": 2,
         "city": "Cambridge",
         "_deepnote_index_column": "2018-05-01T15:06:00.000000"
        },
        {
         "num": 3,
         "city": "Cambridge",
         "_deepnote_index_column": "2018-05-01T15:07:00.000000"
        },
        {
         "num": 3,
         "city": "Cambridge",
         "_deepnote_index_column": "2018-05-01T15:08:00.000000"
        },
        {
         "num": 2,
         "city": "Cambridge",
         "_deepnote_index_column": "2018-05-01T15:09:00.000000"
        },
        {
         "num": 3,
         "city": "Cambridge",
         "_deepnote_index_column": "2018-05-01T15:10:00.000000"
        },
        {
         "num": 3,
         "city": "Cambridge",
         "_deepnote_index_column": "2018-05-01T15:11:00.000000"
        },
        {
         "num": 3,
         "city": "Cambridge",
         "_deepnote_index_column": "2018-05-01T15:12:00.000000"
        },
        {
         "num": 2,
         "city": "Cambridge",
         "_deepnote_index_column": "2018-05-01T15:13:00.000000"
        },
        {
         "num": 3,
         "city": "Cambridge",
         "_deepnote_index_column": "2018-05-01T15:14:00.000000"
        },
        {
         "num": 3,
         "city": "Cambridge",
         "_deepnote_index_column": "2018-05-01T15:15:00.000000"
        },
        {
         "num": 3,
         "city": "Cambridge",
         "_deepnote_index_column": "2018-05-01T15:16:00.000000"
        },
        {
         "num": 4,
         "city": "Cambridge",
         "_deepnote_index_column": "2018-05-01T15:17:00.000000"
        },
        {
         "num": 4,
         "city": "Cambridge",
         "_deepnote_index_column": "2018-05-01T15:18:00.000000"
        },
        {
         "num": 1,
         "city": "Cambridge",
         "_deepnote_index_column": "2018-05-01T15:19:00.000000"
        },
        {
         "num": 4,
         "city": "Cambridge",
         "_deepnote_index_column": "2018-05-01T15:20:00.000000"
        },
        {
         "num": 1,
         "city": "Cambridge",
         "_deepnote_index_column": "2018-05-01T15:21:00.000000"
        },
        {
         "num": 3,
         "city": "Cambridge",
         "_deepnote_index_column": "2018-05-01T15:22:00.000000"
        },
        {
         "num": 4,
         "city": "Cambridge",
         "_deepnote_index_column": "2018-05-01T15:23:00.000000"
        },
        {
         "num": 4,
         "city": "Cambridge",
         "_deepnote_index_column": "2018-05-01T15:24:00.000000"
        },
        {
         "num": 2,
         "city": "Cambridge",
         "_deepnote_index_column": "2018-05-01T15:25:00.000000"
        },
        {
         "num": 3,
         "city": "Cambridge",
         "_deepnote_index_column": "2018-05-01T15:26:00.000000"
        },
        {
         "num": 3,
         "city": "Cambridge",
         "_deepnote_index_column": "2018-05-01T15:27:00.000000"
        },
        {
         "num": 2,
         "city": "Cambridge",
         "_deepnote_index_column": "2018-05-01T15:28:00.000000"
        },
        {
         "num": 4,
         "city": "Cambridge",
         "_deepnote_index_column": "2018-05-01T15:29:00.000000"
        },
        {
         "num": 1,
         "city": "Cambridge",
         "_deepnote_index_column": "2018-05-01T15:30:00.000000"
        },
        {
         "num": 3,
         "city": "Cambridge",
         "_deepnote_index_column": "2018-05-01T15:31:00.000000"
        },
        {
         "num": 4,
         "city": "Cambridge",
         "_deepnote_index_column": "2018-05-01T15:32:00.000000"
        },
        {
         "num": 3,
         "city": "Cambridge",
         "_deepnote_index_column": "2018-05-01T15:33:00.000000"
        },
        {
         "num": 3,
         "city": "Cambridge",
         "_deepnote_index_column": "2018-05-01T15:34:00.000000"
        },
        {
         "num": 2,
         "city": "Cambridge",
         "_deepnote_index_column": "2018-05-01T15:35:00.000000"
        },
        {
         "num": 3,
         "city": "Cambridge",
         "_deepnote_index_column": "2018-05-01T15:36:00.000000"
        },
        {
         "num": 3,
         "city": "Cambridge",
         "_deepnote_index_column": "2018-05-01T15:37:00.000000"
        },
        {
         "num": 3,
         "city": "Cambridge",
         "_deepnote_index_column": "2018-05-01T15:38:00.000000"
        },
        {
         "num": 1,
         "city": "Cambridge",
         "_deepnote_index_column": "2018-05-01T15:39:00.000000"
        },
        {
         "num": 1,
         "city": "Cambridge",
         "_deepnote_index_column": "2018-05-01T15:40:00.000000"
        },
        {
         "num": 3,
         "city": "Cambridge",
         "_deepnote_index_column": "2018-05-01T15:41:00.000000"
        },
        {
         "num": 1,
         "city": "Cambridge",
         "_deepnote_index_column": "2018-05-01T15:42:00.000000"
        },
        {
         "num": 3,
         "city": "Cambridge",
         "_deepnote_index_column": "2018-05-01T15:43:00.000000"
        },
        {
         "num": 3,
         "city": "Cambridge",
         "_deepnote_index_column": "2018-05-01T15:44:00.000000"
        },
        {
         "num": 3,
         "city": "Cambridge",
         "_deepnote_index_column": "2018-05-01T15:45:00.000000"
        },
        {
         "num": 4,
         "city": "Cambridge",
         "_deepnote_index_column": "2018-05-01T15:46:00.000000"
        },
        {
         "num": 3,
         "city": "Cambridge",
         "_deepnote_index_column": "2018-05-01T15:47:00.000000"
        },
        {
         "num": 2,
         "city": "Cambridge",
         "_deepnote_index_column": "2018-05-01T15:48:00.000000"
        },
        {
         "num": 3,
         "city": "Cambridge",
         "_deepnote_index_column": "2018-05-01T15:49:00.000000"
        },
        {
         "num": 1,
         "city": "Cambridge",
         "_deepnote_index_column": "2018-05-01T15:50:00.000000"
        },
        {
         "num": 3,
         "city": "Cambridge",
         "_deepnote_index_column": "2018-05-01T15:51:00.000000"
        },
        {
         "num": 2,
         "city": "Cambridge",
         "_deepnote_index_column": "2018-05-01T15:52:00.000000"
        },
        {
         "num": 2,
         "city": "Cambridge",
         "_deepnote_index_column": "2018-05-01T15:53:00.000000"
        },
        {
         "num": 4,
         "city": "Cambridge",
         "_deepnote_index_column": "2018-05-01T15:54:00.000000"
        },
        {
         "num": 3,
         "city": "Cambridge",
         "_deepnote_index_column": "2018-05-01T15:55:00.000000"
        },
        {
         "num": 2,
         "city": "Cambridge",
         "_deepnote_index_column": "2018-05-01T15:56:00.000000"
        },
        {
         "num": 3,
         "city": "Cambridge",
         "_deepnote_index_column": "2018-05-01T15:57:00.000000"
        },
        {
         "num": 3,
         "city": "Cambridge",
         "_deepnote_index_column": "2018-05-01T15:58:00.000000"
        },
        {
         "num": 3,
         "city": "Cambridge",
         "_deepnote_index_column": "2018-05-01T15:59:00.000000"
        },
        {
         "num": 1,
         "city": "Cambridge",
         "_deepnote_index_column": "2018-05-01T16:00:00.000000"
        }
       ]
      },
      "text/plain": "                     num       city\ndate                               \n2018-05-01 09:00:00    1     London\n2018-05-01 09:01:00    4     London\n2018-05-01 09:02:00    3     London\n2018-05-01 09:03:00    2     London\n2018-05-01 09:04:00    3     London\n...                  ...        ...\n2018-05-01 15:56:00    2  Cambridge\n2018-05-01 15:57:00    3  Cambridge\n2018-05-01 15:58:00    3  Cambridge\n2018-05-01 15:59:00    3  Cambridge\n2018-05-01 16:00:00    1  Cambridge\n\n[1684 rows x 2 columns]",
      "text/html": "<div>\n<style scoped>\n    .dataframe tbody tr th:only-of-type {\n        vertical-align: middle;\n    }\n\n    .dataframe tbody tr th {\n        vertical-align: top;\n    }\n\n    .dataframe thead th {\n        text-align: right;\n    }\n</style>\n<table border=\"1\" class=\"dataframe\">\n  <thead>\n    <tr style=\"text-align: right;\">\n      <th></th>\n      <th>num</th>\n      <th>city</th>\n    </tr>\n    <tr>\n      <th>date</th>\n      <th></th>\n      <th></th>\n    </tr>\n  </thead>\n  <tbody>\n    <tr>\n      <th>2018-05-01 09:00:00</th>\n      <td>1</td>\n      <td>London</td>\n    </tr>\n    <tr>\n      <th>2018-05-01 09:01:00</th>\n      <td>4</td>\n      <td>London</td>\n    </tr>\n    <tr>\n      <th>2018-05-01 09:02:00</th>\n      <td>3</td>\n      <td>London</td>\n    </tr>\n    <tr>\n      <th>2018-05-01 09:03:00</th>\n      <td>2</td>\n      <td>London</td>\n    </tr>\n    <tr>\n      <th>2018-05-01 09:04:00</th>\n      <td>3</td>\n      <td>London</td>\n    </tr>\n    <tr>\n      <th>...</th>\n      <td>...</td>\n      <td>...</td>\n    </tr>\n    <tr>\n      <th>2018-05-01 15:56:00</th>\n      <td>2</td>\n      <td>Cambridge</td>\n    </tr>\n    <tr>\n      <th>2018-05-01 15:57:00</th>\n      <td>3</td>\n      <td>Cambridge</td>\n    </tr>\n    <tr>\n      <th>2018-05-01 15:58:00</th>\n      <td>3</td>\n      <td>Cambridge</td>\n    </tr>\n    <tr>\n      <th>2018-05-01 15:59:00</th>\n      <td>3</td>\n      <td>Cambridge</td>\n    </tr>\n    <tr>\n      <th>2018-05-01 16:00:00</th>\n      <td>1</td>\n      <td>Cambridge</td>\n    </tr>\n  </tbody>\n</table>\n<p>1684 rows × 2 columns</p>\n</div>"
     },
     "metadata": {}
    }
   ]
  },
  {
   "cell_type": "markdown",
   "source": "# Select data between two dates",
   "metadata": {
    "tags": [],
    "is_collapsed": false,
    "cell_id": "00044-2672bddd-5210-4ae5-9837-6920fc7a4229",
    "deepnote_cell_type": "text-cell-h1"
   }
  },
  {
   "cell_type": "markdown",
   "source": "### between 2016 and 2018",
   "metadata": {
    "tags": [],
    "is_collapsed": false,
    "cell_id": "00044-ac4935b3-891a-4061-aada-f823c11baf74",
    "deepnote_cell_type": "text-cell-h3"
   }
  },
  {
   "cell_type": "code",
   "metadata": {
    "tags": [],
    "cell_id": "00045-06a690fd-c04a-458c-ba5e-f8df6e41b5fa",
    "deepnote_to_be_reexecuted": false,
    "source_hash": "364f481c",
    "execution_start": 1627923005195,
    "execution_millis": 119,
    "deepnote_cell_type": "code"
   },
   "source": "df.loc['2016' : '2018']",
   "execution_count": null,
   "outputs": [
    {
     "name": "stderr",
     "text": "/shared-libs/python3.7/py-core/lib/python3.7/site-packages/ipykernel_launcher.py:1: FutureWarning: Value based partial slicing on non-monotonic DatetimeIndexes with non-existing keys is deprecated and will raise a KeyError in a future Version.\n  \"\"\"Entry point for launching an IPython kernel.\n",
     "output_type": "stream"
    },
    {
     "output_type": "execute_result",
     "execution_count": 188,
     "data": {
      "application/vnd.deepnote.dataframe.v2+json": {
       "row_count": 1316888,
       "column_count": 2,
       "columns": [
        {
         "name": "num",
         "dtype": "int64"
        },
        {
         "name": "city",
         "dtype": "object"
        },
        {
         "name": "_deepnote_index_column",
         "dtype": "datetime64[ns]"
        }
       ],
       "rows_top": [
        {
         "num": 4,
         "city": "London",
         "_deepnote_index_column": "2016-01-01T09:00:00.000000"
        },
        {
         "num": 3,
         "city": "London",
         "_deepnote_index_column": "2016-01-01T09:01:00.000000"
        },
        {
         "num": 4,
         "city": "London",
         "_deepnote_index_column": "2016-01-01T09:02:00.000000"
        },
        {
         "num": 4,
         "city": "London",
         "_deepnote_index_column": "2016-01-01T09:03:00.000000"
        },
        {
         "num": 2,
         "city": "London",
         "_deepnote_index_column": "2016-01-01T09:04:00.000000"
        },
        {
         "num": 2,
         "city": "London",
         "_deepnote_index_column": "2016-01-01T09:05:00.000000"
        },
        {
         "num": 3,
         "city": "London",
         "_deepnote_index_column": "2016-01-01T09:06:00.000000"
        },
        {
         "num": 4,
         "city": "London",
         "_deepnote_index_column": "2016-01-01T09:07:00.000000"
        },
        {
         "num": 3,
         "city": "London",
         "_deepnote_index_column": "2016-01-01T09:08:00.000000"
        },
        {
         "num": 4,
         "city": "London",
         "_deepnote_index_column": "2016-01-01T09:09:00.000000"
        },
        {
         "num": 4,
         "city": "London",
         "_deepnote_index_column": "2016-01-01T09:10:00.000000"
        },
        {
         "num": 1,
         "city": "London",
         "_deepnote_index_column": "2016-01-01T09:11:00.000000"
        },
        {
         "num": 3,
         "city": "London",
         "_deepnote_index_column": "2016-01-01T09:12:00.000000"
        },
        {
         "num": 3,
         "city": "London",
         "_deepnote_index_column": "2016-01-01T09:13:00.000000"
        },
        {
         "num": 3,
         "city": "London",
         "_deepnote_index_column": "2016-01-01T09:14:00.000000"
        },
        {
         "num": 3,
         "city": "London",
         "_deepnote_index_column": "2016-01-01T09:15:00.000000"
        },
        {
         "num": 3,
         "city": "London",
         "_deepnote_index_column": "2016-01-01T09:16:00.000000"
        },
        {
         "num": 3,
         "city": "London",
         "_deepnote_index_column": "2016-01-01T09:17:00.000000"
        },
        {
         "num": 4,
         "city": "London",
         "_deepnote_index_column": "2016-01-01T09:18:00.000000"
        },
        {
         "num": 4,
         "city": "London",
         "_deepnote_index_column": "2016-01-01T09:19:00.000000"
        },
        {
         "num": 3,
         "city": "London",
         "_deepnote_index_column": "2016-01-01T09:20:00.000000"
        },
        {
         "num": 3,
         "city": "London",
         "_deepnote_index_column": "2016-01-01T09:21:00.000000"
        },
        {
         "num": 2,
         "city": "London",
         "_deepnote_index_column": "2016-01-01T09:22:00.000000"
        },
        {
         "num": 2,
         "city": "London",
         "_deepnote_index_column": "2016-01-01T09:23:00.000000"
        },
        {
         "num": 4,
         "city": "London",
         "_deepnote_index_column": "2016-01-01T09:24:00.000000"
        },
        {
         "num": 2,
         "city": "London",
         "_deepnote_index_column": "2016-01-01T09:25:00.000000"
        },
        {
         "num": 3,
         "city": "London",
         "_deepnote_index_column": "2016-01-01T09:26:00.000000"
        },
        {
         "num": 4,
         "city": "London",
         "_deepnote_index_column": "2016-01-01T09:27:00.000000"
        },
        {
         "num": 3,
         "city": "London",
         "_deepnote_index_column": "2016-01-01T09:28:00.000000"
        },
        {
         "num": 4,
         "city": "London",
         "_deepnote_index_column": "2016-01-01T09:29:00.000000"
        },
        {
         "num": 3,
         "city": "London",
         "_deepnote_index_column": "2016-01-01T09:30:00.000000"
        },
        {
         "num": 4,
         "city": "London",
         "_deepnote_index_column": "2016-01-01T09:31:00.000000"
        },
        {
         "num": 3,
         "city": "London",
         "_deepnote_index_column": "2016-01-01T09:32:00.000000"
        },
        {
         "num": 3,
         "city": "London",
         "_deepnote_index_column": "2016-01-01T09:33:00.000000"
        },
        {
         "num": 3,
         "city": "London",
         "_deepnote_index_column": "2016-01-01T09:34:00.000000"
        },
        {
         "num": 2,
         "city": "London",
         "_deepnote_index_column": "2016-01-01T09:35:00.000000"
        },
        {
         "num": 3,
         "city": "London",
         "_deepnote_index_column": "2016-01-01T09:36:00.000000"
        },
        {
         "num": 4,
         "city": "London",
         "_deepnote_index_column": "2016-01-01T09:37:00.000000"
        },
        {
         "num": 3,
         "city": "London",
         "_deepnote_index_column": "2016-01-01T09:38:00.000000"
        },
        {
         "num": 3,
         "city": "London",
         "_deepnote_index_column": "2016-01-01T09:39:00.000000"
        },
        {
         "num": 3,
         "city": "London",
         "_deepnote_index_column": "2016-01-01T09:40:00.000000"
        },
        {
         "num": 2,
         "city": "London",
         "_deepnote_index_column": "2016-01-01T09:41:00.000000"
        },
        {
         "num": 4,
         "city": "London",
         "_deepnote_index_column": "2016-01-01T09:42:00.000000"
        },
        {
         "num": 3,
         "city": "London",
         "_deepnote_index_column": "2016-01-01T09:43:00.000000"
        },
        {
         "num": 3,
         "city": "London",
         "_deepnote_index_column": "2016-01-01T09:44:00.000000"
        },
        {
         "num": 1,
         "city": "London",
         "_deepnote_index_column": "2016-01-01T09:45:00.000000"
        },
        {
         "num": 3,
         "city": "London",
         "_deepnote_index_column": "2016-01-01T09:46:00.000000"
        },
        {
         "num": 2,
         "city": "London",
         "_deepnote_index_column": "2016-01-01T09:47:00.000000"
        },
        {
         "num": 3,
         "city": "London",
         "_deepnote_index_column": "2016-01-01T09:48:00.000000"
        },
        {
         "num": 4,
         "city": "London",
         "_deepnote_index_column": "2016-01-01T09:49:00.000000"
        },
        {
         "num": 2,
         "city": "London",
         "_deepnote_index_column": "2016-01-01T09:50:00.000000"
        },
        {
         "num": 2,
         "city": "London",
         "_deepnote_index_column": "2016-01-01T09:51:00.000000"
        },
        {
         "num": 3,
         "city": "London",
         "_deepnote_index_column": "2016-01-01T09:52:00.000000"
        },
        {
         "num": 3,
         "city": "London",
         "_deepnote_index_column": "2016-01-01T09:53:00.000000"
        },
        {
         "num": 2,
         "city": "London",
         "_deepnote_index_column": "2016-01-01T09:54:00.000000"
        },
        {
         "num": 3,
         "city": "London",
         "_deepnote_index_column": "2016-01-01T09:55:00.000000"
        },
        {
         "num": 2,
         "city": "London",
         "_deepnote_index_column": "2016-01-01T09:56:00.000000"
        },
        {
         "num": 1,
         "city": "London",
         "_deepnote_index_column": "2016-01-01T09:57:00.000000"
        },
        {
         "num": 2,
         "city": "London",
         "_deepnote_index_column": "2016-01-01T09:58:00.000000"
        },
        {
         "num": 2,
         "city": "London",
         "_deepnote_index_column": "2016-01-01T09:59:00.000000"
        },
        {
         "num": 4,
         "city": "London",
         "_deepnote_index_column": "2016-01-01T10:00:00.000000"
        },
        {
         "num": 2,
         "city": "London",
         "_deepnote_index_column": "2016-01-01T10:01:00.000000"
        },
        {
         "num": 3,
         "city": "London",
         "_deepnote_index_column": "2016-01-01T10:02:00.000000"
        },
        {
         "num": 3,
         "city": "London",
         "_deepnote_index_column": "2016-01-01T10:03:00.000000"
        },
        {
         "num": 1,
         "city": "London",
         "_deepnote_index_column": "2016-01-01T10:04:00.000000"
        },
        {
         "num": 2,
         "city": "London",
         "_deepnote_index_column": "2016-01-01T10:05:00.000000"
        },
        {
         "num": 1,
         "city": "London",
         "_deepnote_index_column": "2016-01-01T10:06:00.000000"
        },
        {
         "num": 4,
         "city": "London",
         "_deepnote_index_column": "2016-01-01T10:07:00.000000"
        },
        {
         "num": 2,
         "city": "London",
         "_deepnote_index_column": "2016-01-01T10:08:00.000000"
        },
        {
         "num": 2,
         "city": "London",
         "_deepnote_index_column": "2016-01-01T10:09:00.000000"
        },
        {
         "num": 2,
         "city": "London",
         "_deepnote_index_column": "2016-01-01T10:10:00.000000"
        },
        {
         "num": 1,
         "city": "London",
         "_deepnote_index_column": "2016-01-01T10:11:00.000000"
        },
        {
         "num": 2,
         "city": "London",
         "_deepnote_index_column": "2016-01-01T10:12:00.000000"
        },
        {
         "num": 3,
         "city": "London",
         "_deepnote_index_column": "2016-01-01T10:13:00.000000"
        },
        {
         "num": 3,
         "city": "London",
         "_deepnote_index_column": "2016-01-01T10:14:00.000000"
        },
        {
         "num": 1,
         "city": "London",
         "_deepnote_index_column": "2016-01-01T10:15:00.000000"
        },
        {
         "num": 4,
         "city": "London",
         "_deepnote_index_column": "2016-01-01T10:16:00.000000"
        },
        {
         "num": 1,
         "city": "London",
         "_deepnote_index_column": "2016-01-01T10:17:00.000000"
        },
        {
         "num": 3,
         "city": "London",
         "_deepnote_index_column": "2016-01-01T10:18:00.000000"
        },
        {
         "num": 4,
         "city": "London",
         "_deepnote_index_column": "2016-01-01T10:19:00.000000"
        },
        {
         "num": 3,
         "city": "London",
         "_deepnote_index_column": "2016-01-01T10:20:00.000000"
        },
        {
         "num": 3,
         "city": "London",
         "_deepnote_index_column": "2016-01-01T10:21:00.000000"
        },
        {
         "num": 3,
         "city": "London",
         "_deepnote_index_column": "2016-01-01T10:22:00.000000"
        },
        {
         "num": 3,
         "city": "London",
         "_deepnote_index_column": "2016-01-01T10:23:00.000000"
        },
        {
         "num": 2,
         "city": "London",
         "_deepnote_index_column": "2016-01-01T10:24:00.000000"
        },
        {
         "num": 3,
         "city": "London",
         "_deepnote_index_column": "2016-01-01T10:25:00.000000"
        },
        {
         "num": 3,
         "city": "London",
         "_deepnote_index_column": "2016-01-01T10:26:00.000000"
        },
        {
         "num": 1,
         "city": "London",
         "_deepnote_index_column": "2016-01-01T10:27:00.000000"
        },
        {
         "num": 3,
         "city": "London",
         "_deepnote_index_column": "2016-01-01T10:28:00.000000"
        },
        {
         "num": 3,
         "city": "London",
         "_deepnote_index_column": "2016-01-01T10:29:00.000000"
        },
        {
         "num": 4,
         "city": "London",
         "_deepnote_index_column": "2016-01-01T10:30:00.000000"
        },
        {
         "num": 3,
         "city": "London",
         "_deepnote_index_column": "2016-01-01T10:31:00.000000"
        },
        {
         "num": 4,
         "city": "London",
         "_deepnote_index_column": "2016-01-01T10:32:00.000000"
        },
        {
         "num": 3,
         "city": "London",
         "_deepnote_index_column": "2016-01-01T10:33:00.000000"
        },
        {
         "num": 3,
         "city": "London",
         "_deepnote_index_column": "2016-01-01T10:34:00.000000"
        },
        {
         "num": 3,
         "city": "London",
         "_deepnote_index_column": "2016-01-01T10:35:00.000000"
        },
        {
         "num": 3,
         "city": "London",
         "_deepnote_index_column": "2016-01-01T10:36:00.000000"
        },
        {
         "num": 3,
         "city": "London",
         "_deepnote_index_column": "2016-01-01T10:37:00.000000"
        },
        {
         "num": 4,
         "city": "London",
         "_deepnote_index_column": "2016-01-01T10:38:00.000000"
        },
        {
         "num": 3,
         "city": "London",
         "_deepnote_index_column": "2016-01-01T10:39:00.000000"
        },
        {
         "num": 2,
         "city": "London",
         "_deepnote_index_column": "2016-01-01T10:40:00.000000"
        },
        {
         "num": 1,
         "city": "London",
         "_deepnote_index_column": "2016-01-01T10:41:00.000000"
        },
        {
         "num": 3,
         "city": "London",
         "_deepnote_index_column": "2016-01-01T10:42:00.000000"
        },
        {
         "num": 4,
         "city": "London",
         "_deepnote_index_column": "2016-01-01T10:43:00.000000"
        },
        {
         "num": 3,
         "city": "London",
         "_deepnote_index_column": "2016-01-01T10:44:00.000000"
        },
        {
         "num": 3,
         "city": "London",
         "_deepnote_index_column": "2016-01-01T10:45:00.000000"
        },
        {
         "num": 3,
         "city": "London",
         "_deepnote_index_column": "2016-01-01T10:46:00.000000"
        },
        {
         "num": 2,
         "city": "London",
         "_deepnote_index_column": "2016-01-01T10:47:00.000000"
        },
        {
         "num": 2,
         "city": "London",
         "_deepnote_index_column": "2016-01-01T10:48:00.000000"
        },
        {
         "num": 4,
         "city": "London",
         "_deepnote_index_column": "2016-01-01T10:49:00.000000"
        },
        {
         "num": 3,
         "city": "London",
         "_deepnote_index_column": "2016-01-01T10:50:00.000000"
        },
        {
         "num": 4,
         "city": "London",
         "_deepnote_index_column": "2016-01-01T10:51:00.000000"
        },
        {
         "num": 2,
         "city": "London",
         "_deepnote_index_column": "2016-01-01T10:52:00.000000"
        },
        {
         "num": 4,
         "city": "London",
         "_deepnote_index_column": "2016-01-01T10:53:00.000000"
        },
        {
         "num": 1,
         "city": "London",
         "_deepnote_index_column": "2016-01-01T10:54:00.000000"
        },
        {
         "num": 3,
         "city": "London",
         "_deepnote_index_column": "2016-01-01T10:55:00.000000"
        },
        {
         "num": 3,
         "city": "London",
         "_deepnote_index_column": "2016-01-01T10:56:00.000000"
        },
        {
         "num": 4,
         "city": "London",
         "_deepnote_index_column": "2016-01-01T10:57:00.000000"
        },
        {
         "num": 4,
         "city": "London",
         "_deepnote_index_column": "2016-01-01T10:58:00.000000"
        },
        {
         "num": 3,
         "city": "London",
         "_deepnote_index_column": "2016-01-01T10:59:00.000000"
        },
        {
         "num": 3,
         "city": "London",
         "_deepnote_index_column": "2016-01-01T11:00:00.000000"
        },
        {
         "num": 1,
         "city": "London",
         "_deepnote_index_column": "2016-01-01T11:01:00.000000"
        },
        {
         "num": 3,
         "city": "London",
         "_deepnote_index_column": "2016-01-01T11:02:00.000000"
        },
        {
         "num": 3,
         "city": "London",
         "_deepnote_index_column": "2016-01-01T11:03:00.000000"
        },
        {
         "num": 3,
         "city": "London",
         "_deepnote_index_column": "2016-01-01T11:04:00.000000"
        },
        {
         "num": 2,
         "city": "London",
         "_deepnote_index_column": "2016-01-01T11:05:00.000000"
        },
        {
         "num": 3,
         "city": "London",
         "_deepnote_index_column": "2016-01-01T11:06:00.000000"
        },
        {
         "num": 3,
         "city": "London",
         "_deepnote_index_column": "2016-01-01T11:07:00.000000"
        },
        {
         "num": 3,
         "city": "London",
         "_deepnote_index_column": "2016-01-01T11:08:00.000000"
        },
        {
         "num": 3,
         "city": "London",
         "_deepnote_index_column": "2016-01-01T11:09:00.000000"
        },
        {
         "num": 3,
         "city": "London",
         "_deepnote_index_column": "2016-01-01T11:10:00.000000"
        },
        {
         "num": 3,
         "city": "London",
         "_deepnote_index_column": "2016-01-01T11:11:00.000000"
        },
        {
         "num": 3,
         "city": "London",
         "_deepnote_index_column": "2016-01-01T11:12:00.000000"
        },
        {
         "num": 4,
         "city": "London",
         "_deepnote_index_column": "2016-01-01T11:13:00.000000"
        },
        {
         "num": 2,
         "city": "London",
         "_deepnote_index_column": "2016-01-01T11:14:00.000000"
        },
        {
         "num": 3,
         "city": "London",
         "_deepnote_index_column": "2016-01-01T11:15:00.000000"
        },
        {
         "num": 3,
         "city": "London",
         "_deepnote_index_column": "2016-01-01T11:16:00.000000"
        },
        {
         "num": 3,
         "city": "London",
         "_deepnote_index_column": "2016-01-01T11:17:00.000000"
        },
        {
         "num": 2,
         "city": "London",
         "_deepnote_index_column": "2016-01-01T11:18:00.000000"
        },
        {
         "num": 3,
         "city": "London",
         "_deepnote_index_column": "2016-01-01T11:19:00.000000"
        },
        {
         "num": 1,
         "city": "London",
         "_deepnote_index_column": "2016-01-01T11:20:00.000000"
        },
        {
         "num": 2,
         "city": "London",
         "_deepnote_index_column": "2016-01-01T11:21:00.000000"
        },
        {
         "num": 1,
         "city": "London",
         "_deepnote_index_column": "2016-01-01T11:22:00.000000"
        },
        {
         "num": 4,
         "city": "London",
         "_deepnote_index_column": "2016-01-01T11:23:00.000000"
        },
        {
         "num": 3,
         "city": "London",
         "_deepnote_index_column": "2016-01-01T11:24:00.000000"
        },
        {
         "num": 2,
         "city": "London",
         "_deepnote_index_column": "2016-01-01T11:25:00.000000"
        },
        {
         "num": 2,
         "city": "London",
         "_deepnote_index_column": "2016-01-01T11:26:00.000000"
        },
        {
         "num": 3,
         "city": "London",
         "_deepnote_index_column": "2016-01-01T11:27:00.000000"
        },
        {
         "num": 2,
         "city": "London",
         "_deepnote_index_column": "2016-01-01T11:28:00.000000"
        },
        {
         "num": 4,
         "city": "London",
         "_deepnote_index_column": "2016-01-01T11:29:00.000000"
        },
        {
         "num": 1,
         "city": "London",
         "_deepnote_index_column": "2016-01-01T11:30:00.000000"
        },
        {
         "num": 2,
         "city": "London",
         "_deepnote_index_column": "2016-01-01T11:31:00.000000"
        },
        {
         "num": 2,
         "city": "London",
         "_deepnote_index_column": "2016-01-01T11:32:00.000000"
        },
        {
         "num": 4,
         "city": "London",
         "_deepnote_index_column": "2016-01-01T11:33:00.000000"
        },
        {
         "num": 1,
         "city": "London",
         "_deepnote_index_column": "2016-01-01T11:34:00.000000"
        },
        {
         "num": 3,
         "city": "London",
         "_deepnote_index_column": "2016-01-01T11:35:00.000000"
        },
        {
         "num": 4,
         "city": "London",
         "_deepnote_index_column": "2016-01-01T11:36:00.000000"
        },
        {
         "num": 2,
         "city": "London",
         "_deepnote_index_column": "2016-01-01T11:37:00.000000"
        },
        {
         "num": 2,
         "city": "London",
         "_deepnote_index_column": "2016-01-01T11:38:00.000000"
        },
        {
         "num": 3,
         "city": "London",
         "_deepnote_index_column": "2016-01-01T11:39:00.000000"
        },
        {
         "num": 3,
         "city": "London",
         "_deepnote_index_column": "2016-01-01T11:40:00.000000"
        },
        {
         "num": 3,
         "city": "London",
         "_deepnote_index_column": "2016-01-01T11:41:00.000000"
        },
        {
         "num": 3,
         "city": "London",
         "_deepnote_index_column": "2016-01-01T11:42:00.000000"
        },
        {
         "num": 3,
         "city": "London",
         "_deepnote_index_column": "2016-01-01T11:43:00.000000"
        },
        {
         "num": 2,
         "city": "London",
         "_deepnote_index_column": "2016-01-01T11:44:00.000000"
        },
        {
         "num": 4,
         "city": "London",
         "_deepnote_index_column": "2016-01-01T11:45:00.000000"
        },
        {
         "num": 3,
         "city": "London",
         "_deepnote_index_column": "2016-01-01T11:46:00.000000"
        },
        {
         "num": 2,
         "city": "London",
         "_deepnote_index_column": "2016-01-01T11:47:00.000000"
        },
        {
         "num": 4,
         "city": "London",
         "_deepnote_index_column": "2016-01-01T11:48:00.000000"
        },
        {
         "num": 3,
         "city": "London",
         "_deepnote_index_column": "2016-01-01T11:49:00.000000"
        },
        {
         "num": 3,
         "city": "London",
         "_deepnote_index_column": "2016-01-01T11:50:00.000000"
        },
        {
         "num": 3,
         "city": "London",
         "_deepnote_index_column": "2016-01-01T11:51:00.000000"
        },
        {
         "num": 3,
         "city": "London",
         "_deepnote_index_column": "2016-01-01T11:52:00.000000"
        },
        {
         "num": 3,
         "city": "London",
         "_deepnote_index_column": "2016-01-01T11:53:00.000000"
        },
        {
         "num": 2,
         "city": "London",
         "_deepnote_index_column": "2016-01-01T11:54:00.000000"
        },
        {
         "num": 3,
         "city": "London",
         "_deepnote_index_column": "2016-01-01T11:55:00.000000"
        },
        {
         "num": 3,
         "city": "London",
         "_deepnote_index_column": "2016-01-01T11:56:00.000000"
        },
        {
         "num": 4,
         "city": "London",
         "_deepnote_index_column": "2016-01-01T11:57:00.000000"
        },
        {
         "num": 2,
         "city": "London",
         "_deepnote_index_column": "2016-01-01T11:58:00.000000"
        },
        {
         "num": 2,
         "city": "London",
         "_deepnote_index_column": "2016-01-01T11:59:00.000000"
        },
        {
         "num": 3,
         "city": "London",
         "_deepnote_index_column": "2016-01-01T12:00:00.000000"
        },
        {
         "num": 4,
         "city": "London",
         "_deepnote_index_column": "2016-01-01T12:01:00.000000"
        },
        {
         "num": 3,
         "city": "London",
         "_deepnote_index_column": "2016-01-01T12:02:00.000000"
        },
        {
         "num": 4,
         "city": "London",
         "_deepnote_index_column": "2016-01-01T12:03:00.000000"
        },
        {
         "num": 3,
         "city": "London",
         "_deepnote_index_column": "2016-01-01T12:04:00.000000"
        },
        {
         "num": 2,
         "city": "London",
         "_deepnote_index_column": "2016-01-01T12:05:00.000000"
        },
        {
         "num": 3,
         "city": "London",
         "_deepnote_index_column": "2016-01-01T12:06:00.000000"
        },
        {
         "num": 1,
         "city": "London",
         "_deepnote_index_column": "2016-01-01T12:07:00.000000"
        },
        {
         "num": 1,
         "city": "London",
         "_deepnote_index_column": "2016-01-01T12:08:00.000000"
        },
        {
         "num": 4,
         "city": "London",
         "_deepnote_index_column": "2016-01-01T12:09:00.000000"
        },
        {
         "num": 2,
         "city": "London",
         "_deepnote_index_column": "2016-01-01T12:10:00.000000"
        },
        {
         "num": 1,
         "city": "London",
         "_deepnote_index_column": "2016-01-01T12:11:00.000000"
        },
        {
         "num": 2,
         "city": "London",
         "_deepnote_index_column": "2016-01-01T12:12:00.000000"
        },
        {
         "num": 4,
         "city": "London",
         "_deepnote_index_column": "2016-01-01T12:13:00.000000"
        },
        {
         "num": 1,
         "city": "London",
         "_deepnote_index_column": "2016-01-01T12:14:00.000000"
        },
        {
         "num": 3,
         "city": "London",
         "_deepnote_index_column": "2016-01-01T12:15:00.000000"
        },
        {
         "num": 3,
         "city": "London",
         "_deepnote_index_column": "2016-01-01T12:16:00.000000"
        },
        {
         "num": 4,
         "city": "London",
         "_deepnote_index_column": "2016-01-01T12:17:00.000000"
        },
        {
         "num": 3,
         "city": "London",
         "_deepnote_index_column": "2016-01-01T12:18:00.000000"
        },
        {
         "num": 3,
         "city": "London",
         "_deepnote_index_column": "2016-01-01T12:19:00.000000"
        },
        {
         "num": 3,
         "city": "London",
         "_deepnote_index_column": "2016-01-01T12:20:00.000000"
        },
        {
         "num": 3,
         "city": "London",
         "_deepnote_index_column": "2016-01-01T12:21:00.000000"
        },
        {
         "num": 3,
         "city": "London",
         "_deepnote_index_column": "2016-01-01T12:22:00.000000"
        },
        {
         "num": 2,
         "city": "London",
         "_deepnote_index_column": "2016-01-01T12:23:00.000000"
        },
        {
         "num": 3,
         "city": "London",
         "_deepnote_index_column": "2016-01-01T12:24:00.000000"
        },
        {
         "num": 3,
         "city": "London",
         "_deepnote_index_column": "2016-01-01T12:25:00.000000"
        },
        {
         "num": 3,
         "city": "London",
         "_deepnote_index_column": "2016-01-01T12:26:00.000000"
        },
        {
         "num": 2,
         "city": "London",
         "_deepnote_index_column": "2016-01-01T12:27:00.000000"
        },
        {
         "num": 2,
         "city": "London",
         "_deepnote_index_column": "2016-01-01T12:28:00.000000"
        },
        {
         "num": 4,
         "city": "London",
         "_deepnote_index_column": "2016-01-01T12:29:00.000000"
        },
        {
         "num": 1,
         "city": "London",
         "_deepnote_index_column": "2016-01-01T12:30:00.000000"
        },
        {
         "num": 4,
         "city": "London",
         "_deepnote_index_column": "2016-01-01T12:31:00.000000"
        },
        {
         "num": 3,
         "city": "London",
         "_deepnote_index_column": "2016-01-01T12:32:00.000000"
        },
        {
         "num": 1,
         "city": "London",
         "_deepnote_index_column": "2016-01-01T12:33:00.000000"
        },
        {
         "num": 3,
         "city": "London",
         "_deepnote_index_column": "2016-01-01T12:34:00.000000"
        },
        {
         "num": 3,
         "city": "London",
         "_deepnote_index_column": "2016-01-01T12:35:00.000000"
        },
        {
         "num": 3,
         "city": "London",
         "_deepnote_index_column": "2016-01-01T12:36:00.000000"
        },
        {
         "num": 3,
         "city": "London",
         "_deepnote_index_column": "2016-01-01T12:37:00.000000"
        },
        {
         "num": 2,
         "city": "London",
         "_deepnote_index_column": "2016-01-01T12:38:00.000000"
        },
        {
         "num": 3,
         "city": "London",
         "_deepnote_index_column": "2016-01-01T12:39:00.000000"
        },
        {
         "num": 3,
         "city": "London",
         "_deepnote_index_column": "2016-01-01T12:40:00.000000"
        },
        {
         "num": 2,
         "city": "London",
         "_deepnote_index_column": "2016-01-01T12:41:00.000000"
        },
        {
         "num": 3,
         "city": "London",
         "_deepnote_index_column": "2016-01-01T12:42:00.000000"
        },
        {
         "num": 1,
         "city": "London",
         "_deepnote_index_column": "2016-01-01T12:43:00.000000"
        },
        {
         "num": 3,
         "city": "London",
         "_deepnote_index_column": "2016-01-01T12:44:00.000000"
        },
        {
         "num": 2,
         "city": "London",
         "_deepnote_index_column": "2016-01-01T12:45:00.000000"
        },
        {
         "num": 3,
         "city": "London",
         "_deepnote_index_column": "2016-01-01T12:46:00.000000"
        },
        {
         "num": 3,
         "city": "London",
         "_deepnote_index_column": "2016-01-01T12:47:00.000000"
        },
        {
         "num": 4,
         "city": "London",
         "_deepnote_index_column": "2016-01-01T12:48:00.000000"
        },
        {
         "num": 3,
         "city": "London",
         "_deepnote_index_column": "2016-01-01T12:49:00.000000"
        },
        {
         "num": 4,
         "city": "London",
         "_deepnote_index_column": "2016-01-01T12:50:00.000000"
        },
        {
         "num": 3,
         "city": "London",
         "_deepnote_index_column": "2016-01-01T12:51:00.000000"
        },
        {
         "num": 1,
         "city": "London",
         "_deepnote_index_column": "2016-01-01T12:52:00.000000"
        },
        {
         "num": 3,
         "city": "London",
         "_deepnote_index_column": "2016-01-01T12:53:00.000000"
        },
        {
         "num": 4,
         "city": "London",
         "_deepnote_index_column": "2016-01-01T12:54:00.000000"
        },
        {
         "num": 3,
         "city": "London",
         "_deepnote_index_column": "2016-01-01T12:55:00.000000"
        },
        {
         "num": 4,
         "city": "London",
         "_deepnote_index_column": "2016-01-01T12:56:00.000000"
        },
        {
         "num": 4,
         "city": "London",
         "_deepnote_index_column": "2016-01-01T12:57:00.000000"
        },
        {
         "num": 4,
         "city": "London",
         "_deepnote_index_column": "2016-01-01T12:58:00.000000"
        },
        {
         "num": 3,
         "city": "London",
         "_deepnote_index_column": "2016-01-01T12:59:00.000000"
        },
        {
         "num": 3,
         "city": "London",
         "_deepnote_index_column": "2016-01-01T13:00:00.000000"
        },
        {
         "num": 4,
         "city": "London",
         "_deepnote_index_column": "2016-01-01T13:01:00.000000"
        },
        {
         "num": 1,
         "city": "London",
         "_deepnote_index_column": "2016-01-01T13:02:00.000000"
        },
        {
         "num": 3,
         "city": "London",
         "_deepnote_index_column": "2016-01-01T13:03:00.000000"
        },
        {
         "num": 3,
         "city": "London",
         "_deepnote_index_column": "2016-01-01T13:04:00.000000"
        },
        {
         "num": 3,
         "city": "London",
         "_deepnote_index_column": "2016-01-01T13:05:00.000000"
        },
        {
         "num": 4,
         "city": "London",
         "_deepnote_index_column": "2016-01-01T13:06:00.000000"
        },
        {
         "num": 3,
         "city": "London",
         "_deepnote_index_column": "2016-01-01T13:07:00.000000"
        },
        {
         "num": 3,
         "city": "London",
         "_deepnote_index_column": "2016-01-01T13:08:00.000000"
        },
        {
         "num": 3,
         "city": "London",
         "_deepnote_index_column": "2016-01-01T13:09:00.000000"
        }
       ],
       "rows_bottom": [
        {
         "num": 2,
         "city": "Cambridge",
         "_deepnote_index_column": "2018-12-31T11:51:00.000000"
        },
        {
         "num": 2,
         "city": "Cambridge",
         "_deepnote_index_column": "2018-12-31T11:52:00.000000"
        },
        {
         "num": 4,
         "city": "Cambridge",
         "_deepnote_index_column": "2018-12-31T11:53:00.000000"
        },
        {
         "num": 3,
         "city": "Cambridge",
         "_deepnote_index_column": "2018-12-31T11:54:00.000000"
        },
        {
         "num": 3,
         "city": "Cambridge",
         "_deepnote_index_column": "2018-12-31T11:55:00.000000"
        },
        {
         "num": 3,
         "city": "Cambridge",
         "_deepnote_index_column": "2018-12-31T11:56:00.000000"
        },
        {
         "num": 4,
         "city": "Cambridge",
         "_deepnote_index_column": "2018-12-31T11:57:00.000000"
        },
        {
         "num": 2,
         "city": "Cambridge",
         "_deepnote_index_column": "2018-12-31T11:58:00.000000"
        },
        {
         "num": 3,
         "city": "Cambridge",
         "_deepnote_index_column": "2018-12-31T11:59:00.000000"
        },
        {
         "num": 3,
         "city": "Cambridge",
         "_deepnote_index_column": "2018-12-31T12:00:00.000000"
        },
        {
         "num": 3,
         "city": "Cambridge",
         "_deepnote_index_column": "2018-12-31T12:01:00.000000"
        },
        {
         "num": 4,
         "city": "Cambridge",
         "_deepnote_index_column": "2018-12-31T12:02:00.000000"
        },
        {
         "num": 2,
         "city": "Cambridge",
         "_deepnote_index_column": "2018-12-31T12:03:00.000000"
        },
        {
         "num": 3,
         "city": "Cambridge",
         "_deepnote_index_column": "2018-12-31T12:04:00.000000"
        },
        {
         "num": 3,
         "city": "Cambridge",
         "_deepnote_index_column": "2018-12-31T12:05:00.000000"
        },
        {
         "num": 3,
         "city": "Cambridge",
         "_deepnote_index_column": "2018-12-31T12:06:00.000000"
        },
        {
         "num": 1,
         "city": "Cambridge",
         "_deepnote_index_column": "2018-12-31T12:07:00.000000"
        },
        {
         "num": 3,
         "city": "Cambridge",
         "_deepnote_index_column": "2018-12-31T12:08:00.000000"
        },
        {
         "num": 3,
         "city": "Cambridge",
         "_deepnote_index_column": "2018-12-31T12:09:00.000000"
        },
        {
         "num": 4,
         "city": "Cambridge",
         "_deepnote_index_column": "2018-12-31T12:10:00.000000"
        },
        {
         "num": 3,
         "city": "Cambridge",
         "_deepnote_index_column": "2018-12-31T12:11:00.000000"
        },
        {
         "num": 3,
         "city": "Cambridge",
         "_deepnote_index_column": "2018-12-31T12:12:00.000000"
        },
        {
         "num": 1,
         "city": "Cambridge",
         "_deepnote_index_column": "2018-12-31T12:13:00.000000"
        },
        {
         "num": 1,
         "city": "Cambridge",
         "_deepnote_index_column": "2018-12-31T12:14:00.000000"
        },
        {
         "num": 3,
         "city": "Cambridge",
         "_deepnote_index_column": "2018-12-31T12:15:00.000000"
        },
        {
         "num": 3,
         "city": "Cambridge",
         "_deepnote_index_column": "2018-12-31T12:16:00.000000"
        },
        {
         "num": 3,
         "city": "Cambridge",
         "_deepnote_index_column": "2018-12-31T12:17:00.000000"
        },
        {
         "num": 2,
         "city": "Cambridge",
         "_deepnote_index_column": "2018-12-31T12:18:00.000000"
        },
        {
         "num": 4,
         "city": "Cambridge",
         "_deepnote_index_column": "2018-12-31T12:19:00.000000"
        },
        {
         "num": 3,
         "city": "Cambridge",
         "_deepnote_index_column": "2018-12-31T12:20:00.000000"
        },
        {
         "num": 2,
         "city": "Cambridge",
         "_deepnote_index_column": "2018-12-31T12:21:00.000000"
        },
        {
         "num": 2,
         "city": "Cambridge",
         "_deepnote_index_column": "2018-12-31T12:22:00.000000"
        },
        {
         "num": 2,
         "city": "Cambridge",
         "_deepnote_index_column": "2018-12-31T12:23:00.000000"
        },
        {
         "num": 1,
         "city": "Cambridge",
         "_deepnote_index_column": "2018-12-31T12:24:00.000000"
        },
        {
         "num": 3,
         "city": "Cambridge",
         "_deepnote_index_column": "2018-12-31T12:25:00.000000"
        },
        {
         "num": 3,
         "city": "Cambridge",
         "_deepnote_index_column": "2018-12-31T12:26:00.000000"
        },
        {
         "num": 2,
         "city": "Cambridge",
         "_deepnote_index_column": "2018-12-31T12:27:00.000000"
        },
        {
         "num": 2,
         "city": "Cambridge",
         "_deepnote_index_column": "2018-12-31T12:28:00.000000"
        },
        {
         "num": 3,
         "city": "Cambridge",
         "_deepnote_index_column": "2018-12-31T12:29:00.000000"
        },
        {
         "num": 1,
         "city": "Cambridge",
         "_deepnote_index_column": "2018-12-31T12:30:00.000000"
        },
        {
         "num": 2,
         "city": "Cambridge",
         "_deepnote_index_column": "2018-12-31T12:31:00.000000"
        },
        {
         "num": 2,
         "city": "Cambridge",
         "_deepnote_index_column": "2018-12-31T12:32:00.000000"
        },
        {
         "num": 2,
         "city": "Cambridge",
         "_deepnote_index_column": "2018-12-31T12:33:00.000000"
        },
        {
         "num": 2,
         "city": "Cambridge",
         "_deepnote_index_column": "2018-12-31T12:34:00.000000"
        },
        {
         "num": 2,
         "city": "Cambridge",
         "_deepnote_index_column": "2018-12-31T12:35:00.000000"
        },
        {
         "num": 3,
         "city": "Cambridge",
         "_deepnote_index_column": "2018-12-31T12:36:00.000000"
        },
        {
         "num": 1,
         "city": "Cambridge",
         "_deepnote_index_column": "2018-12-31T12:37:00.000000"
        },
        {
         "num": 3,
         "city": "Cambridge",
         "_deepnote_index_column": "2018-12-31T12:38:00.000000"
        },
        {
         "num": 3,
         "city": "Cambridge",
         "_deepnote_index_column": "2018-12-31T12:39:00.000000"
        },
        {
         "num": 3,
         "city": "Cambridge",
         "_deepnote_index_column": "2018-12-31T12:40:00.000000"
        },
        {
         "num": 1,
         "city": "Cambridge",
         "_deepnote_index_column": "2018-12-31T12:41:00.000000"
        },
        {
         "num": 4,
         "city": "Cambridge",
         "_deepnote_index_column": "2018-12-31T12:42:00.000000"
        },
        {
         "num": 3,
         "city": "Cambridge",
         "_deepnote_index_column": "2018-12-31T12:43:00.000000"
        },
        {
         "num": 3,
         "city": "Cambridge",
         "_deepnote_index_column": "2018-12-31T12:44:00.000000"
        },
        {
         "num": 3,
         "city": "Cambridge",
         "_deepnote_index_column": "2018-12-31T12:45:00.000000"
        },
        {
         "num": 3,
         "city": "Cambridge",
         "_deepnote_index_column": "2018-12-31T12:46:00.000000"
        },
        {
         "num": 4,
         "city": "Cambridge",
         "_deepnote_index_column": "2018-12-31T12:47:00.000000"
        },
        {
         "num": 3,
         "city": "Cambridge",
         "_deepnote_index_column": "2018-12-31T12:48:00.000000"
        },
        {
         "num": 3,
         "city": "Cambridge",
         "_deepnote_index_column": "2018-12-31T12:49:00.000000"
        },
        {
         "num": 1,
         "city": "Cambridge",
         "_deepnote_index_column": "2018-12-31T12:50:00.000000"
        },
        {
         "num": 2,
         "city": "Cambridge",
         "_deepnote_index_column": "2018-12-31T12:51:00.000000"
        },
        {
         "num": 2,
         "city": "Cambridge",
         "_deepnote_index_column": "2018-12-31T12:52:00.000000"
        },
        {
         "num": 2,
         "city": "Cambridge",
         "_deepnote_index_column": "2018-12-31T12:53:00.000000"
        },
        {
         "num": 1,
         "city": "Cambridge",
         "_deepnote_index_column": "2018-12-31T12:54:00.000000"
        },
        {
         "num": 3,
         "city": "Cambridge",
         "_deepnote_index_column": "2018-12-31T12:55:00.000000"
        },
        {
         "num": 2,
         "city": "Cambridge",
         "_deepnote_index_column": "2018-12-31T12:56:00.000000"
        },
        {
         "num": 3,
         "city": "Cambridge",
         "_deepnote_index_column": "2018-12-31T12:57:00.000000"
        },
        {
         "num": 1,
         "city": "Cambridge",
         "_deepnote_index_column": "2018-12-31T12:58:00.000000"
        },
        {
         "num": 1,
         "city": "Cambridge",
         "_deepnote_index_column": "2018-12-31T12:59:00.000000"
        },
        {
         "num": 3,
         "city": "Cambridge",
         "_deepnote_index_column": "2018-12-31T13:00:00.000000"
        },
        {
         "num": 2,
         "city": "Cambridge",
         "_deepnote_index_column": "2018-12-31T13:01:00.000000"
        },
        {
         "num": 4,
         "city": "Cambridge",
         "_deepnote_index_column": "2018-12-31T13:02:00.000000"
        },
        {
         "num": 4,
         "city": "Cambridge",
         "_deepnote_index_column": "2018-12-31T13:03:00.000000"
        },
        {
         "num": 3,
         "city": "Cambridge",
         "_deepnote_index_column": "2018-12-31T13:04:00.000000"
        },
        {
         "num": 3,
         "city": "Cambridge",
         "_deepnote_index_column": "2018-12-31T13:05:00.000000"
        },
        {
         "num": 1,
         "city": "Cambridge",
         "_deepnote_index_column": "2018-12-31T13:06:00.000000"
        },
        {
         "num": 2,
         "city": "Cambridge",
         "_deepnote_index_column": "2018-12-31T13:07:00.000000"
        },
        {
         "num": 2,
         "city": "Cambridge",
         "_deepnote_index_column": "2018-12-31T13:08:00.000000"
        },
        {
         "num": 3,
         "city": "Cambridge",
         "_deepnote_index_column": "2018-12-31T13:09:00.000000"
        },
        {
         "num": 2,
         "city": "Cambridge",
         "_deepnote_index_column": "2018-12-31T13:10:00.000000"
        },
        {
         "num": 2,
         "city": "Cambridge",
         "_deepnote_index_column": "2018-12-31T13:11:00.000000"
        },
        {
         "num": 3,
         "city": "Cambridge",
         "_deepnote_index_column": "2018-12-31T13:12:00.000000"
        },
        {
         "num": 3,
         "city": "Cambridge",
         "_deepnote_index_column": "2018-12-31T13:13:00.000000"
        },
        {
         "num": 4,
         "city": "Cambridge",
         "_deepnote_index_column": "2018-12-31T13:14:00.000000"
        },
        {
         "num": 3,
         "city": "Cambridge",
         "_deepnote_index_column": "2018-12-31T13:15:00.000000"
        },
        {
         "num": 3,
         "city": "Cambridge",
         "_deepnote_index_column": "2018-12-31T13:16:00.000000"
        },
        {
         "num": 4,
         "city": "Cambridge",
         "_deepnote_index_column": "2018-12-31T13:17:00.000000"
        },
        {
         "num": 3,
         "city": "Cambridge",
         "_deepnote_index_column": "2018-12-31T13:18:00.000000"
        },
        {
         "num": 3,
         "city": "Cambridge",
         "_deepnote_index_column": "2018-12-31T13:19:00.000000"
        },
        {
         "num": 3,
         "city": "Cambridge",
         "_deepnote_index_column": "2018-12-31T13:20:00.000000"
        },
        {
         "num": 2,
         "city": "Cambridge",
         "_deepnote_index_column": "2018-12-31T13:21:00.000000"
        },
        {
         "num": 3,
         "city": "Cambridge",
         "_deepnote_index_column": "2018-12-31T13:22:00.000000"
        },
        {
         "num": 3,
         "city": "Cambridge",
         "_deepnote_index_column": "2018-12-31T13:23:00.000000"
        },
        {
         "num": 3,
         "city": "Cambridge",
         "_deepnote_index_column": "2018-12-31T13:24:00.000000"
        },
        {
         "num": 3,
         "city": "Cambridge",
         "_deepnote_index_column": "2018-12-31T13:25:00.000000"
        },
        {
         "num": 3,
         "city": "Cambridge",
         "_deepnote_index_column": "2018-12-31T13:26:00.000000"
        },
        {
         "num": 3,
         "city": "Cambridge",
         "_deepnote_index_column": "2018-12-31T13:27:00.000000"
        },
        {
         "num": 3,
         "city": "Cambridge",
         "_deepnote_index_column": "2018-12-31T13:28:00.000000"
        },
        {
         "num": 3,
         "city": "Cambridge",
         "_deepnote_index_column": "2018-12-31T13:29:00.000000"
        },
        {
         "num": 4,
         "city": "Cambridge",
         "_deepnote_index_column": "2018-12-31T13:30:00.000000"
        },
        {
         "num": 2,
         "city": "Cambridge",
         "_deepnote_index_column": "2018-12-31T13:31:00.000000"
        },
        {
         "num": 3,
         "city": "Cambridge",
         "_deepnote_index_column": "2018-12-31T13:32:00.000000"
        },
        {
         "num": 4,
         "city": "Cambridge",
         "_deepnote_index_column": "2018-12-31T13:33:00.000000"
        },
        {
         "num": 3,
         "city": "Cambridge",
         "_deepnote_index_column": "2018-12-31T13:34:00.000000"
        },
        {
         "num": 3,
         "city": "Cambridge",
         "_deepnote_index_column": "2018-12-31T13:35:00.000000"
        },
        {
         "num": 2,
         "city": "Cambridge",
         "_deepnote_index_column": "2018-12-31T13:36:00.000000"
        },
        {
         "num": 2,
         "city": "Cambridge",
         "_deepnote_index_column": "2018-12-31T13:37:00.000000"
        },
        {
         "num": 3,
         "city": "Cambridge",
         "_deepnote_index_column": "2018-12-31T13:38:00.000000"
        },
        {
         "num": 3,
         "city": "Cambridge",
         "_deepnote_index_column": "2018-12-31T13:39:00.000000"
        },
        {
         "num": 3,
         "city": "Cambridge",
         "_deepnote_index_column": "2018-12-31T13:40:00.000000"
        },
        {
         "num": 3,
         "city": "Cambridge",
         "_deepnote_index_column": "2018-12-31T13:41:00.000000"
        },
        {
         "num": 3,
         "city": "Cambridge",
         "_deepnote_index_column": "2018-12-31T13:42:00.000000"
        },
        {
         "num": 2,
         "city": "Cambridge",
         "_deepnote_index_column": "2018-12-31T13:43:00.000000"
        },
        {
         "num": 3,
         "city": "Cambridge",
         "_deepnote_index_column": "2018-12-31T13:44:00.000000"
        },
        {
         "num": 3,
         "city": "Cambridge",
         "_deepnote_index_column": "2018-12-31T13:45:00.000000"
        },
        {
         "num": 4,
         "city": "Cambridge",
         "_deepnote_index_column": "2018-12-31T13:46:00.000000"
        },
        {
         "num": 4,
         "city": "Cambridge",
         "_deepnote_index_column": "2018-12-31T13:47:00.000000"
        },
        {
         "num": 4,
         "city": "Cambridge",
         "_deepnote_index_column": "2018-12-31T13:48:00.000000"
        },
        {
         "num": 4,
         "city": "Cambridge",
         "_deepnote_index_column": "2018-12-31T13:49:00.000000"
        },
        {
         "num": 3,
         "city": "Cambridge",
         "_deepnote_index_column": "2018-12-31T13:50:00.000000"
        },
        {
         "num": 3,
         "city": "Cambridge",
         "_deepnote_index_column": "2018-12-31T13:51:00.000000"
        },
        {
         "num": 4,
         "city": "Cambridge",
         "_deepnote_index_column": "2018-12-31T13:52:00.000000"
        },
        {
         "num": 2,
         "city": "Cambridge",
         "_deepnote_index_column": "2018-12-31T13:53:00.000000"
        },
        {
         "num": 1,
         "city": "Cambridge",
         "_deepnote_index_column": "2018-12-31T13:54:00.000000"
        },
        {
         "num": 3,
         "city": "Cambridge",
         "_deepnote_index_column": "2018-12-31T13:55:00.000000"
        },
        {
         "num": 3,
         "city": "Cambridge",
         "_deepnote_index_column": "2018-12-31T13:56:00.000000"
        },
        {
         "num": 1,
         "city": "Cambridge",
         "_deepnote_index_column": "2018-12-31T13:57:00.000000"
        },
        {
         "num": 3,
         "city": "Cambridge",
         "_deepnote_index_column": "2018-12-31T13:58:00.000000"
        },
        {
         "num": 1,
         "city": "Cambridge",
         "_deepnote_index_column": "2018-12-31T13:59:00.000000"
        },
        {
         "num": 3,
         "city": "Cambridge",
         "_deepnote_index_column": "2018-12-31T14:00:00.000000"
        },
        {
         "num": 4,
         "city": "Cambridge",
         "_deepnote_index_column": "2018-12-31T14:01:00.000000"
        },
        {
         "num": 4,
         "city": "Cambridge",
         "_deepnote_index_column": "2018-12-31T14:02:00.000000"
        },
        {
         "num": 3,
         "city": "Cambridge",
         "_deepnote_index_column": "2018-12-31T14:03:00.000000"
        },
        {
         "num": 4,
         "city": "Cambridge",
         "_deepnote_index_column": "2018-12-31T14:04:00.000000"
        },
        {
         "num": 4,
         "city": "Cambridge",
         "_deepnote_index_column": "2018-12-31T14:05:00.000000"
        },
        {
         "num": 3,
         "city": "Cambridge",
         "_deepnote_index_column": "2018-12-31T14:06:00.000000"
        },
        {
         "num": 3,
         "city": "Cambridge",
         "_deepnote_index_column": "2018-12-31T14:07:00.000000"
        },
        {
         "num": 3,
         "city": "Cambridge",
         "_deepnote_index_column": "2018-12-31T14:08:00.000000"
        },
        {
         "num": 3,
         "city": "Cambridge",
         "_deepnote_index_column": "2018-12-31T14:09:00.000000"
        },
        {
         "num": 2,
         "city": "Cambridge",
         "_deepnote_index_column": "2018-12-31T14:10:00.000000"
        },
        {
         "num": 1,
         "city": "Cambridge",
         "_deepnote_index_column": "2018-12-31T14:11:00.000000"
        },
        {
         "num": 4,
         "city": "Cambridge",
         "_deepnote_index_column": "2018-12-31T14:12:00.000000"
        },
        {
         "num": 3,
         "city": "Cambridge",
         "_deepnote_index_column": "2018-12-31T14:13:00.000000"
        },
        {
         "num": 3,
         "city": "Cambridge",
         "_deepnote_index_column": "2018-12-31T14:14:00.000000"
        },
        {
         "num": 2,
         "city": "Cambridge",
         "_deepnote_index_column": "2018-12-31T14:15:00.000000"
        },
        {
         "num": 4,
         "city": "Cambridge",
         "_deepnote_index_column": "2018-12-31T14:16:00.000000"
        },
        {
         "num": 2,
         "city": "Cambridge",
         "_deepnote_index_column": "2018-12-31T14:17:00.000000"
        },
        {
         "num": 4,
         "city": "Cambridge",
         "_deepnote_index_column": "2018-12-31T14:18:00.000000"
        },
        {
         "num": 4,
         "city": "Cambridge",
         "_deepnote_index_column": "2018-12-31T14:19:00.000000"
        },
        {
         "num": 4,
         "city": "Cambridge",
         "_deepnote_index_column": "2018-12-31T14:20:00.000000"
        },
        {
         "num": 3,
         "city": "Cambridge",
         "_deepnote_index_column": "2018-12-31T14:21:00.000000"
        },
        {
         "num": 1,
         "city": "Cambridge",
         "_deepnote_index_column": "2018-12-31T14:22:00.000000"
        },
        {
         "num": 2,
         "city": "Cambridge",
         "_deepnote_index_column": "2018-12-31T14:23:00.000000"
        },
        {
         "num": 3,
         "city": "Cambridge",
         "_deepnote_index_column": "2018-12-31T14:24:00.000000"
        },
        {
         "num": 3,
         "city": "Cambridge",
         "_deepnote_index_column": "2018-12-31T14:25:00.000000"
        },
        {
         "num": 3,
         "city": "Cambridge",
         "_deepnote_index_column": "2018-12-31T14:26:00.000000"
        },
        {
         "num": 2,
         "city": "Cambridge",
         "_deepnote_index_column": "2018-12-31T14:27:00.000000"
        },
        {
         "num": 4,
         "city": "Cambridge",
         "_deepnote_index_column": "2018-12-31T14:28:00.000000"
        },
        {
         "num": 3,
         "city": "Cambridge",
         "_deepnote_index_column": "2018-12-31T14:29:00.000000"
        },
        {
         "num": 3,
         "city": "Cambridge",
         "_deepnote_index_column": "2018-12-31T14:30:00.000000"
        },
        {
         "num": 3,
         "city": "Cambridge",
         "_deepnote_index_column": "2018-12-31T14:31:00.000000"
        },
        {
         "num": 1,
         "city": "Cambridge",
         "_deepnote_index_column": "2018-12-31T14:32:00.000000"
        },
        {
         "num": 4,
         "city": "Cambridge",
         "_deepnote_index_column": "2018-12-31T14:33:00.000000"
        },
        {
         "num": 3,
         "city": "Cambridge",
         "_deepnote_index_column": "2018-12-31T14:34:00.000000"
        },
        {
         "num": 2,
         "city": "Cambridge",
         "_deepnote_index_column": "2018-12-31T14:35:00.000000"
        },
        {
         "num": 1,
         "city": "Cambridge",
         "_deepnote_index_column": "2018-12-31T14:36:00.000000"
        },
        {
         "num": 4,
         "city": "Cambridge",
         "_deepnote_index_column": "2018-12-31T14:37:00.000000"
        },
        {
         "num": 3,
         "city": "Cambridge",
         "_deepnote_index_column": "2018-12-31T14:38:00.000000"
        },
        {
         "num": 3,
         "city": "Cambridge",
         "_deepnote_index_column": "2018-12-31T14:39:00.000000"
        },
        {
         "num": 4,
         "city": "Cambridge",
         "_deepnote_index_column": "2018-12-31T14:40:00.000000"
        },
        {
         "num": 2,
         "city": "Cambridge",
         "_deepnote_index_column": "2018-12-31T14:41:00.000000"
        },
        {
         "num": 3,
         "city": "Cambridge",
         "_deepnote_index_column": "2018-12-31T14:42:00.000000"
        },
        {
         "num": 2,
         "city": "Cambridge",
         "_deepnote_index_column": "2018-12-31T14:43:00.000000"
        },
        {
         "num": 3,
         "city": "Cambridge",
         "_deepnote_index_column": "2018-12-31T14:44:00.000000"
        },
        {
         "num": 1,
         "city": "Cambridge",
         "_deepnote_index_column": "2018-12-31T14:45:00.000000"
        },
        {
         "num": 2,
         "city": "Cambridge",
         "_deepnote_index_column": "2018-12-31T14:46:00.000000"
        },
        {
         "num": 4,
         "city": "Cambridge",
         "_deepnote_index_column": "2018-12-31T14:47:00.000000"
        },
        {
         "num": 3,
         "city": "Cambridge",
         "_deepnote_index_column": "2018-12-31T14:48:00.000000"
        },
        {
         "num": 3,
         "city": "Cambridge",
         "_deepnote_index_column": "2018-12-31T14:49:00.000000"
        },
        {
         "num": 2,
         "city": "Cambridge",
         "_deepnote_index_column": "2018-12-31T14:50:00.000000"
        },
        {
         "num": 2,
         "city": "Cambridge",
         "_deepnote_index_column": "2018-12-31T14:51:00.000000"
        },
        {
         "num": 2,
         "city": "Cambridge",
         "_deepnote_index_column": "2018-12-31T14:52:00.000000"
        },
        {
         "num": 3,
         "city": "Cambridge",
         "_deepnote_index_column": "2018-12-31T14:53:00.000000"
        },
        {
         "num": 3,
         "city": "Cambridge",
         "_deepnote_index_column": "2018-12-31T14:54:00.000000"
        },
        {
         "num": 2,
         "city": "Cambridge",
         "_deepnote_index_column": "2018-12-31T14:55:00.000000"
        },
        {
         "num": 4,
         "city": "Cambridge",
         "_deepnote_index_column": "2018-12-31T14:56:00.000000"
        },
        {
         "num": 4,
         "city": "Cambridge",
         "_deepnote_index_column": "2018-12-31T14:57:00.000000"
        },
        {
         "num": 3,
         "city": "Cambridge",
         "_deepnote_index_column": "2018-12-31T14:58:00.000000"
        },
        {
         "num": 3,
         "city": "Cambridge",
         "_deepnote_index_column": "2018-12-31T14:59:00.000000"
        },
        {
         "num": 4,
         "city": "Cambridge",
         "_deepnote_index_column": "2018-12-31T15:00:00.000000"
        },
        {
         "num": 2,
         "city": "Cambridge",
         "_deepnote_index_column": "2018-12-31T15:01:00.000000"
        },
        {
         "num": 4,
         "city": "Cambridge",
         "_deepnote_index_column": "2018-12-31T15:02:00.000000"
        },
        {
         "num": 2,
         "city": "Cambridge",
         "_deepnote_index_column": "2018-12-31T15:03:00.000000"
        },
        {
         "num": 3,
         "city": "Cambridge",
         "_deepnote_index_column": "2018-12-31T15:04:00.000000"
        },
        {
         "num": 2,
         "city": "Cambridge",
         "_deepnote_index_column": "2018-12-31T15:05:00.000000"
        },
        {
         "num": 1,
         "city": "Cambridge",
         "_deepnote_index_column": "2018-12-31T15:06:00.000000"
        },
        {
         "num": 2,
         "city": "Cambridge",
         "_deepnote_index_column": "2018-12-31T15:07:00.000000"
        },
        {
         "num": 3,
         "city": "Cambridge",
         "_deepnote_index_column": "2018-12-31T15:08:00.000000"
        },
        {
         "num": 3,
         "city": "Cambridge",
         "_deepnote_index_column": "2018-12-31T15:09:00.000000"
        },
        {
         "num": 2,
         "city": "Cambridge",
         "_deepnote_index_column": "2018-12-31T15:10:00.000000"
        },
        {
         "num": 4,
         "city": "Cambridge",
         "_deepnote_index_column": "2018-12-31T15:11:00.000000"
        },
        {
         "num": 4,
         "city": "Cambridge",
         "_deepnote_index_column": "2018-12-31T15:12:00.000000"
        },
        {
         "num": 3,
         "city": "Cambridge",
         "_deepnote_index_column": "2018-12-31T15:13:00.000000"
        },
        {
         "num": 2,
         "city": "Cambridge",
         "_deepnote_index_column": "2018-12-31T15:14:00.000000"
        },
        {
         "num": 4,
         "city": "Cambridge",
         "_deepnote_index_column": "2018-12-31T15:15:00.000000"
        },
        {
         "num": 3,
         "city": "Cambridge",
         "_deepnote_index_column": "2018-12-31T15:16:00.000000"
        },
        {
         "num": 3,
         "city": "Cambridge",
         "_deepnote_index_column": "2018-12-31T15:17:00.000000"
        },
        {
         "num": 2,
         "city": "Cambridge",
         "_deepnote_index_column": "2018-12-31T15:18:00.000000"
        },
        {
         "num": 3,
         "city": "Cambridge",
         "_deepnote_index_column": "2018-12-31T15:19:00.000000"
        },
        {
         "num": 3,
         "city": "Cambridge",
         "_deepnote_index_column": "2018-12-31T15:20:00.000000"
        },
        {
         "num": 2,
         "city": "Cambridge",
         "_deepnote_index_column": "2018-12-31T15:21:00.000000"
        },
        {
         "num": 3,
         "city": "Cambridge",
         "_deepnote_index_column": "2018-12-31T15:22:00.000000"
        },
        {
         "num": 3,
         "city": "Cambridge",
         "_deepnote_index_column": "2018-12-31T15:23:00.000000"
        },
        {
         "num": 4,
         "city": "Cambridge",
         "_deepnote_index_column": "2018-12-31T15:24:00.000000"
        },
        {
         "num": 4,
         "city": "Cambridge",
         "_deepnote_index_column": "2018-12-31T15:25:00.000000"
        },
        {
         "num": 1,
         "city": "Cambridge",
         "_deepnote_index_column": "2018-12-31T15:26:00.000000"
        },
        {
         "num": 2,
         "city": "Cambridge",
         "_deepnote_index_column": "2018-12-31T15:27:00.000000"
        },
        {
         "num": 3,
         "city": "Cambridge",
         "_deepnote_index_column": "2018-12-31T15:28:00.000000"
        },
        {
         "num": 1,
         "city": "Cambridge",
         "_deepnote_index_column": "2018-12-31T15:29:00.000000"
        },
        {
         "num": 3,
         "city": "Cambridge",
         "_deepnote_index_column": "2018-12-31T15:30:00.000000"
        },
        {
         "num": 3,
         "city": "Cambridge",
         "_deepnote_index_column": "2018-12-31T15:31:00.000000"
        },
        {
         "num": 4,
         "city": "Cambridge",
         "_deepnote_index_column": "2018-12-31T15:32:00.000000"
        },
        {
         "num": 4,
         "city": "Cambridge",
         "_deepnote_index_column": "2018-12-31T15:33:00.000000"
        },
        {
         "num": 3,
         "city": "Cambridge",
         "_deepnote_index_column": "2018-12-31T15:34:00.000000"
        },
        {
         "num": 3,
         "city": "Cambridge",
         "_deepnote_index_column": "2018-12-31T15:35:00.000000"
        },
        {
         "num": 3,
         "city": "Cambridge",
         "_deepnote_index_column": "2018-12-31T15:36:00.000000"
        },
        {
         "num": 1,
         "city": "Cambridge",
         "_deepnote_index_column": "2018-12-31T15:37:00.000000"
        },
        {
         "num": 3,
         "city": "Cambridge",
         "_deepnote_index_column": "2018-12-31T15:38:00.000000"
        },
        {
         "num": 3,
         "city": "Cambridge",
         "_deepnote_index_column": "2018-12-31T15:39:00.000000"
        },
        {
         "num": 4,
         "city": "Cambridge",
         "_deepnote_index_column": "2018-12-31T15:40:00.000000"
        },
        {
         "num": 3,
         "city": "Cambridge",
         "_deepnote_index_column": "2018-12-31T15:41:00.000000"
        },
        {
         "num": 2,
         "city": "Cambridge",
         "_deepnote_index_column": "2018-12-31T15:42:00.000000"
        },
        {
         "num": 2,
         "city": "Cambridge",
         "_deepnote_index_column": "2018-12-31T15:43:00.000000"
        },
        {
         "num": 3,
         "city": "Cambridge",
         "_deepnote_index_column": "2018-12-31T15:44:00.000000"
        },
        {
         "num": 1,
         "city": "Cambridge",
         "_deepnote_index_column": "2018-12-31T15:45:00.000000"
        },
        {
         "num": 4,
         "city": "Cambridge",
         "_deepnote_index_column": "2018-12-31T15:46:00.000000"
        },
        {
         "num": 3,
         "city": "Cambridge",
         "_deepnote_index_column": "2018-12-31T15:47:00.000000"
        },
        {
         "num": 1,
         "city": "Cambridge",
         "_deepnote_index_column": "2018-12-31T15:48:00.000000"
        },
        {
         "num": 3,
         "city": "Cambridge",
         "_deepnote_index_column": "2018-12-31T15:49:00.000000"
        },
        {
         "num": 2,
         "city": "Cambridge",
         "_deepnote_index_column": "2018-12-31T15:50:00.000000"
        },
        {
         "num": 3,
         "city": "Cambridge",
         "_deepnote_index_column": "2018-12-31T15:51:00.000000"
        },
        {
         "num": 3,
         "city": "Cambridge",
         "_deepnote_index_column": "2018-12-31T15:52:00.000000"
        },
        {
         "num": 3,
         "city": "Cambridge",
         "_deepnote_index_column": "2018-12-31T15:53:00.000000"
        },
        {
         "num": 4,
         "city": "Cambridge",
         "_deepnote_index_column": "2018-12-31T15:54:00.000000"
        },
        {
         "num": 2,
         "city": "Cambridge",
         "_deepnote_index_column": "2018-12-31T15:55:00.000000"
        },
        {
         "num": 4,
         "city": "Cambridge",
         "_deepnote_index_column": "2018-12-31T15:56:00.000000"
        },
        {
         "num": 2,
         "city": "Cambridge",
         "_deepnote_index_column": "2018-12-31T15:57:00.000000"
        },
        {
         "num": 3,
         "city": "Cambridge",
         "_deepnote_index_column": "2018-12-31T15:58:00.000000"
        },
        {
         "num": 3,
         "city": "Cambridge",
         "_deepnote_index_column": "2018-12-31T15:59:00.000000"
        },
        {
         "num": 2,
         "city": "Cambridge",
         "_deepnote_index_column": "2018-12-31T16:00:00.000000"
        }
       ]
      },
      "text/plain": "                     num       city\ndate                               \n2016-01-01 09:00:00    4     London\n2016-01-01 09:01:00    3     London\n2016-01-01 09:02:00    4     London\n2016-01-01 09:03:00    4     London\n2016-01-01 09:04:00    2     London\n...                  ...        ...\n2018-12-31 15:56:00    4  Cambridge\n2018-12-31 15:57:00    2  Cambridge\n2018-12-31 15:58:00    3  Cambridge\n2018-12-31 15:59:00    3  Cambridge\n2018-12-31 16:00:00    2  Cambridge\n\n[1316888 rows x 2 columns]",
      "text/html": "<div>\n<style scoped>\n    .dataframe tbody tr th:only-of-type {\n        vertical-align: middle;\n    }\n\n    .dataframe tbody tr th {\n        vertical-align: top;\n    }\n\n    .dataframe thead th {\n        text-align: right;\n    }\n</style>\n<table border=\"1\" class=\"dataframe\">\n  <thead>\n    <tr style=\"text-align: right;\">\n      <th></th>\n      <th>num</th>\n      <th>city</th>\n    </tr>\n    <tr>\n      <th>date</th>\n      <th></th>\n      <th></th>\n    </tr>\n  </thead>\n  <tbody>\n    <tr>\n      <th>2016-01-01 09:00:00</th>\n      <td>4</td>\n      <td>London</td>\n    </tr>\n    <tr>\n      <th>2016-01-01 09:01:00</th>\n      <td>3</td>\n      <td>London</td>\n    </tr>\n    <tr>\n      <th>2016-01-01 09:02:00</th>\n      <td>4</td>\n      <td>London</td>\n    </tr>\n    <tr>\n      <th>2016-01-01 09:03:00</th>\n      <td>4</td>\n      <td>London</td>\n    </tr>\n    <tr>\n      <th>2016-01-01 09:04:00</th>\n      <td>2</td>\n      <td>London</td>\n    </tr>\n    <tr>\n      <th>...</th>\n      <td>...</td>\n      <td>...</td>\n    </tr>\n    <tr>\n      <th>2018-12-31 15:56:00</th>\n      <td>4</td>\n      <td>Cambridge</td>\n    </tr>\n    <tr>\n      <th>2018-12-31 15:57:00</th>\n      <td>2</td>\n      <td>Cambridge</td>\n    </tr>\n    <tr>\n      <th>2018-12-31 15:58:00</th>\n      <td>3</td>\n      <td>Cambridge</td>\n    </tr>\n    <tr>\n      <th>2018-12-31 15:59:00</th>\n      <td>3</td>\n      <td>Cambridge</td>\n    </tr>\n    <tr>\n      <th>2018-12-31 16:00:00</th>\n      <td>2</td>\n      <td>Cambridge</td>\n    </tr>\n  </tbody>\n</table>\n<p>1316888 rows × 2 columns</p>\n</div>"
     },
     "metadata": {}
    }
   ]
  },
  {
   "cell_type": "markdown",
   "source": "### between 10 and 11 o'clock on the 2nd May 2018",
   "metadata": {
    "tags": [],
    "is_collapsed": false,
    "cell_id": "00046-a27ee53a-c93e-4728-ad14-bbfd7e56ad7e",
    "deepnote_cell_type": "text-cell-h3"
   }
  },
  {
   "cell_type": "code",
   "metadata": {
    "tags": [],
    "cell_id": "00046-bd90bf37-5511-4969-ac98-46d517e537ee",
    "deepnote_to_be_reexecuted": false,
    "source_hash": "2cd45357",
    "execution_start": 1627923033570,
    "execution_millis": 17,
    "deepnote_cell_type": "code"
   },
   "source": "df.loc['2018-5-2 10' : '2018-5-2 11' ]",
   "execution_count": null,
   "outputs": [
    {
     "output_type": "execute_result",
     "execution_count": 189,
     "data": {
      "application/vnd.deepnote.dataframe.v2+json": {
       "row_count": 480,
       "column_count": 2,
       "columns": [
        {
         "name": "num",
         "dtype": "int64",
         "stats": {
          "unique_count": 4,
          "nan_count": 0,
          "min": "1",
          "max": "4",
          "histogram": [
           {
            "bin_start": 1,
            "bin_end": 1.3,
            "count": 60
           },
           {
            "bin_start": 1.3,
            "bin_end": 1.6,
            "count": 0
           },
           {
            "bin_start": 1.6,
            "bin_end": 1.9,
            "count": 0
           },
           {
            "bin_start": 1.9,
            "bin_end": 2.2,
            "count": 78
           },
           {
            "bin_start": 2.2,
            "bin_end": 2.5,
            "count": 0
           },
           {
            "bin_start": 2.5,
            "bin_end": 2.8,
            "count": 0
           },
           {
            "bin_start": 2.8,
            "bin_end": 3.1,
            "count": 242
           },
           {
            "bin_start": 3.1,
            "bin_end": 3.4,
            "count": 0
           },
           {
            "bin_start": 3.4,
            "bin_end": 3.6999999999999997,
            "count": 0
           },
           {
            "bin_start": 3.6999999999999997,
            "bin_end": 4,
            "count": 100
           }
          ]
         }
        },
        {
         "name": "city",
         "dtype": "object",
         "stats": {
          "unique_count": 4,
          "nan_count": 0,
          "categories": [
           {
            "name": "London",
            "count": 120
           },
           {
            "name": "Oxford",
            "count": 120
           },
           {
            "name": "2 others",
            "count": 240
           }
          ]
         }
        },
        {
         "name": "_deepnote_index_column",
         "dtype": "datetime64[ns]"
        }
       ],
       "rows_top": [
        {
         "num": "2",
         "city": "London",
         "_deepnote_index_column": "2018-05-02 10:00:00"
        },
        {
         "num": "3",
         "city": "London",
         "_deepnote_index_column": "2018-05-02 10:01:00"
        },
        {
         "num": "4",
         "city": "London",
         "_deepnote_index_column": "2018-05-02 10:02:00"
        },
        {
         "num": "4",
         "city": "London",
         "_deepnote_index_column": "2018-05-02 10:03:00"
        },
        {
         "num": "4",
         "city": "London",
         "_deepnote_index_column": "2018-05-02 10:04:00"
        },
        {
         "num": "1",
         "city": "London",
         "_deepnote_index_column": "2018-05-02 10:05:00"
        },
        {
         "num": "2",
         "city": "London",
         "_deepnote_index_column": "2018-05-02 10:06:00"
        },
        {
         "num": "4",
         "city": "London",
         "_deepnote_index_column": "2018-05-02 10:07:00"
        },
        {
         "num": "3",
         "city": "London",
         "_deepnote_index_column": "2018-05-02 10:08:00"
        },
        {
         "num": "4",
         "city": "London",
         "_deepnote_index_column": "2018-05-02 10:09:00"
        },
        {
         "num": "2",
         "city": "London",
         "_deepnote_index_column": "2018-05-02 10:10:00"
        },
        {
         "num": "2",
         "city": "London",
         "_deepnote_index_column": "2018-05-02 10:11:00"
        },
        {
         "num": "3",
         "city": "London",
         "_deepnote_index_column": "2018-05-02 10:12:00"
        },
        {
         "num": "3",
         "city": "London",
         "_deepnote_index_column": "2018-05-02 10:13:00"
        },
        {
         "num": "3",
         "city": "London",
         "_deepnote_index_column": "2018-05-02 10:14:00"
        },
        {
         "num": "3",
         "city": "London",
         "_deepnote_index_column": "2018-05-02 10:15:00"
        },
        {
         "num": "3",
         "city": "London",
         "_deepnote_index_column": "2018-05-02 10:16:00"
        },
        {
         "num": "3",
         "city": "London",
         "_deepnote_index_column": "2018-05-02 10:17:00"
        },
        {
         "num": "1",
         "city": "London",
         "_deepnote_index_column": "2018-05-02 10:18:00"
        },
        {
         "num": "4",
         "city": "London",
         "_deepnote_index_column": "2018-05-02 10:19:00"
        },
        {
         "num": "3",
         "city": "London",
         "_deepnote_index_column": "2018-05-02 10:20:00"
        },
        {
         "num": "2",
         "city": "London",
         "_deepnote_index_column": "2018-05-02 10:21:00"
        },
        {
         "num": "3",
         "city": "London",
         "_deepnote_index_column": "2018-05-02 10:22:00"
        },
        {
         "num": "1",
         "city": "London",
         "_deepnote_index_column": "2018-05-02 10:23:00"
        },
        {
         "num": "3",
         "city": "London",
         "_deepnote_index_column": "2018-05-02 10:24:00"
        },
        {
         "num": "3",
         "city": "London",
         "_deepnote_index_column": "2018-05-02 10:25:00"
        },
        {
         "num": "3",
         "city": "London",
         "_deepnote_index_column": "2018-05-02 10:26:00"
        },
        {
         "num": "2",
         "city": "London",
         "_deepnote_index_column": "2018-05-02 10:27:00"
        },
        {
         "num": "4",
         "city": "London",
         "_deepnote_index_column": "2018-05-02 10:28:00"
        },
        {
         "num": "3",
         "city": "London",
         "_deepnote_index_column": "2018-05-02 10:29:00"
        },
        {
         "num": "3",
         "city": "London",
         "_deepnote_index_column": "2018-05-02 10:30:00"
        },
        {
         "num": "3",
         "city": "London",
         "_deepnote_index_column": "2018-05-02 10:31:00"
        },
        {
         "num": "1",
         "city": "London",
         "_deepnote_index_column": "2018-05-02 10:32:00"
        },
        {
         "num": "3",
         "city": "London",
         "_deepnote_index_column": "2018-05-02 10:33:00"
        },
        {
         "num": "3",
         "city": "London",
         "_deepnote_index_column": "2018-05-02 10:34:00"
        },
        {
         "num": "3",
         "city": "London",
         "_deepnote_index_column": "2018-05-02 10:35:00"
        },
        {
         "num": "3",
         "city": "London",
         "_deepnote_index_column": "2018-05-02 10:36:00"
        },
        {
         "num": "2",
         "city": "London",
         "_deepnote_index_column": "2018-05-02 10:37:00"
        },
        {
         "num": "3",
         "city": "London",
         "_deepnote_index_column": "2018-05-02 10:38:00"
        },
        {
         "num": "3",
         "city": "London",
         "_deepnote_index_column": "2018-05-02 10:39:00"
        },
        {
         "num": "2",
         "city": "London",
         "_deepnote_index_column": "2018-05-02 10:40:00"
        },
        {
         "num": "4",
         "city": "London",
         "_deepnote_index_column": "2018-05-02 10:41:00"
        },
        {
         "num": "3",
         "city": "London",
         "_deepnote_index_column": "2018-05-02 10:42:00"
        },
        {
         "num": "3",
         "city": "London",
         "_deepnote_index_column": "2018-05-02 10:43:00"
        },
        {
         "num": "3",
         "city": "London",
         "_deepnote_index_column": "2018-05-02 10:44:00"
        },
        {
         "num": "4",
         "city": "London",
         "_deepnote_index_column": "2018-05-02 10:45:00"
        },
        {
         "num": "3",
         "city": "London",
         "_deepnote_index_column": "2018-05-02 10:46:00"
        },
        {
         "num": "2",
         "city": "London",
         "_deepnote_index_column": "2018-05-02 10:47:00"
        },
        {
         "num": "4",
         "city": "London",
         "_deepnote_index_column": "2018-05-02 10:48:00"
        },
        {
         "num": "4",
         "city": "London",
         "_deepnote_index_column": "2018-05-02 10:49:00"
        },
        {
         "num": "2",
         "city": "London",
         "_deepnote_index_column": "2018-05-02 10:50:00"
        },
        {
         "num": "3",
         "city": "London",
         "_deepnote_index_column": "2018-05-02 10:51:00"
        },
        {
         "num": "4",
         "city": "London",
         "_deepnote_index_column": "2018-05-02 10:52:00"
        },
        {
         "num": "4",
         "city": "London",
         "_deepnote_index_column": "2018-05-02 10:53:00"
        },
        {
         "num": "4",
         "city": "London",
         "_deepnote_index_column": "2018-05-02 10:54:00"
        },
        {
         "num": "3",
         "city": "London",
         "_deepnote_index_column": "2018-05-02 10:55:00"
        },
        {
         "num": "2",
         "city": "London",
         "_deepnote_index_column": "2018-05-02 10:56:00"
        },
        {
         "num": "3",
         "city": "London",
         "_deepnote_index_column": "2018-05-02 10:57:00"
        },
        {
         "num": "1",
         "city": "London",
         "_deepnote_index_column": "2018-05-02 10:58:00"
        },
        {
         "num": "2",
         "city": "London",
         "_deepnote_index_column": "2018-05-02 10:59:00"
        },
        {
         "num": "3",
         "city": "London",
         "_deepnote_index_column": "2018-05-02 11:00:00"
        },
        {
         "num": "2",
         "city": "London",
         "_deepnote_index_column": "2018-05-02 11:01:00"
        },
        {
         "num": "3",
         "city": "London",
         "_deepnote_index_column": "2018-05-02 11:02:00"
        },
        {
         "num": "4",
         "city": "London",
         "_deepnote_index_column": "2018-05-02 11:03:00"
        },
        {
         "num": "4",
         "city": "London",
         "_deepnote_index_column": "2018-05-02 11:04:00"
        },
        {
         "num": "4",
         "city": "London",
         "_deepnote_index_column": "2018-05-02 11:05:00"
        },
        {
         "num": "3",
         "city": "London",
         "_deepnote_index_column": "2018-05-02 11:06:00"
        },
        {
         "num": "2",
         "city": "London",
         "_deepnote_index_column": "2018-05-02 11:07:00"
        },
        {
         "num": "4",
         "city": "London",
         "_deepnote_index_column": "2018-05-02 11:08:00"
        },
        {
         "num": "2",
         "city": "London",
         "_deepnote_index_column": "2018-05-02 11:09:00"
        },
        {
         "num": "3",
         "city": "London",
         "_deepnote_index_column": "2018-05-02 11:10:00"
        },
        {
         "num": "3",
         "city": "London",
         "_deepnote_index_column": "2018-05-02 11:11:00"
        },
        {
         "num": "3",
         "city": "London",
         "_deepnote_index_column": "2018-05-02 11:12:00"
        },
        {
         "num": "4",
         "city": "London",
         "_deepnote_index_column": "2018-05-02 11:13:00"
        },
        {
         "num": "3",
         "city": "London",
         "_deepnote_index_column": "2018-05-02 11:14:00"
        },
        {
         "num": "1",
         "city": "London",
         "_deepnote_index_column": "2018-05-02 11:15:00"
        },
        {
         "num": "3",
         "city": "London",
         "_deepnote_index_column": "2018-05-02 11:16:00"
        },
        {
         "num": "4",
         "city": "London",
         "_deepnote_index_column": "2018-05-02 11:17:00"
        },
        {
         "num": "4",
         "city": "London",
         "_deepnote_index_column": "2018-05-02 11:18:00"
        },
        {
         "num": "2",
         "city": "London",
         "_deepnote_index_column": "2018-05-02 11:19:00"
        },
        {
         "num": "2",
         "city": "London",
         "_deepnote_index_column": "2018-05-02 11:20:00"
        },
        {
         "num": "3",
         "city": "London",
         "_deepnote_index_column": "2018-05-02 11:21:00"
        },
        {
         "num": "3",
         "city": "London",
         "_deepnote_index_column": "2018-05-02 11:22:00"
        },
        {
         "num": "1",
         "city": "London",
         "_deepnote_index_column": "2018-05-02 11:23:00"
        },
        {
         "num": "3",
         "city": "London",
         "_deepnote_index_column": "2018-05-02 11:24:00"
        },
        {
         "num": "3",
         "city": "London",
         "_deepnote_index_column": "2018-05-02 11:25:00"
        },
        {
         "num": "2",
         "city": "London",
         "_deepnote_index_column": "2018-05-02 11:26:00"
        },
        {
         "num": "1",
         "city": "London",
         "_deepnote_index_column": "2018-05-02 11:27:00"
        },
        {
         "num": "4",
         "city": "London",
         "_deepnote_index_column": "2018-05-02 11:28:00"
        },
        {
         "num": "3",
         "city": "London",
         "_deepnote_index_column": "2018-05-02 11:29:00"
        },
        {
         "num": "3",
         "city": "London",
         "_deepnote_index_column": "2018-05-02 11:30:00"
        },
        {
         "num": "3",
         "city": "London",
         "_deepnote_index_column": "2018-05-02 11:31:00"
        },
        {
         "num": "3",
         "city": "London",
         "_deepnote_index_column": "2018-05-02 11:32:00"
        },
        {
         "num": "4",
         "city": "London",
         "_deepnote_index_column": "2018-05-02 11:33:00"
        },
        {
         "num": "1",
         "city": "London",
         "_deepnote_index_column": "2018-05-02 11:34:00"
        },
        {
         "num": "2",
         "city": "London",
         "_deepnote_index_column": "2018-05-02 11:35:00"
        },
        {
         "num": "2",
         "city": "London",
         "_deepnote_index_column": "2018-05-02 11:36:00"
        },
        {
         "num": "1",
         "city": "London",
         "_deepnote_index_column": "2018-05-02 11:37:00"
        },
        {
         "num": "1",
         "city": "London",
         "_deepnote_index_column": "2018-05-02 11:38:00"
        },
        {
         "num": "3",
         "city": "London",
         "_deepnote_index_column": "2018-05-02 11:39:00"
        },
        {
         "num": "4",
         "city": "London",
         "_deepnote_index_column": "2018-05-02 11:40:00"
        },
        {
         "num": "4",
         "city": "London",
         "_deepnote_index_column": "2018-05-02 11:41:00"
        },
        {
         "num": "4",
         "city": "London",
         "_deepnote_index_column": "2018-05-02 11:42:00"
        },
        {
         "num": "4",
         "city": "London",
         "_deepnote_index_column": "2018-05-02 11:43:00"
        },
        {
         "num": "3",
         "city": "London",
         "_deepnote_index_column": "2018-05-02 11:44:00"
        },
        {
         "num": "3",
         "city": "London",
         "_deepnote_index_column": "2018-05-02 11:45:00"
        },
        {
         "num": "3",
         "city": "London",
         "_deepnote_index_column": "2018-05-02 11:46:00"
        },
        {
         "num": "3",
         "city": "London",
         "_deepnote_index_column": "2018-05-02 11:47:00"
        },
        {
         "num": "3",
         "city": "London",
         "_deepnote_index_column": "2018-05-02 11:48:00"
        },
        {
         "num": "3",
         "city": "London",
         "_deepnote_index_column": "2018-05-02 11:49:00"
        },
        {
         "num": "3",
         "city": "London",
         "_deepnote_index_column": "2018-05-02 11:50:00"
        },
        {
         "num": "3",
         "city": "London",
         "_deepnote_index_column": "2018-05-02 11:51:00"
        },
        {
         "num": "3",
         "city": "London",
         "_deepnote_index_column": "2018-05-02 11:52:00"
        },
        {
         "num": "2",
         "city": "London",
         "_deepnote_index_column": "2018-05-02 11:53:00"
        },
        {
         "num": "4",
         "city": "London",
         "_deepnote_index_column": "2018-05-02 11:54:00"
        },
        {
         "num": "4",
         "city": "London",
         "_deepnote_index_column": "2018-05-02 11:55:00"
        },
        {
         "num": "3",
         "city": "London",
         "_deepnote_index_column": "2018-05-02 11:56:00"
        },
        {
         "num": "4",
         "city": "London",
         "_deepnote_index_column": "2018-05-02 11:57:00"
        },
        {
         "num": "3",
         "city": "London",
         "_deepnote_index_column": "2018-05-02 11:58:00"
        },
        {
         "num": "4",
         "city": "London",
         "_deepnote_index_column": "2018-05-02 11:59:00"
        },
        {
         "num": "3",
         "city": "Oxford",
         "_deepnote_index_column": "2018-05-02 10:00:00"
        },
        {
         "num": "4",
         "city": "Oxford",
         "_deepnote_index_column": "2018-05-02 10:01:00"
        },
        {
         "num": "4",
         "city": "Oxford",
         "_deepnote_index_column": "2018-05-02 10:02:00"
        },
        {
         "num": "3",
         "city": "Oxford",
         "_deepnote_index_column": "2018-05-02 10:03:00"
        },
        {
         "num": "4",
         "city": "Oxford",
         "_deepnote_index_column": "2018-05-02 10:04:00"
        },
        {
         "num": "1",
         "city": "Oxford",
         "_deepnote_index_column": "2018-05-02 10:05:00"
        },
        {
         "num": "3",
         "city": "Oxford",
         "_deepnote_index_column": "2018-05-02 10:06:00"
        },
        {
         "num": "4",
         "city": "Oxford",
         "_deepnote_index_column": "2018-05-02 10:07:00"
        },
        {
         "num": "1",
         "city": "Oxford",
         "_deepnote_index_column": "2018-05-02 10:08:00"
        },
        {
         "num": "4",
         "city": "Oxford",
         "_deepnote_index_column": "2018-05-02 10:09:00"
        },
        {
         "num": "3",
         "city": "Oxford",
         "_deepnote_index_column": "2018-05-02 10:10:00"
        },
        {
         "num": "3",
         "city": "Oxford",
         "_deepnote_index_column": "2018-05-02 10:11:00"
        },
        {
         "num": "2",
         "city": "Oxford",
         "_deepnote_index_column": "2018-05-02 10:12:00"
        },
        {
         "num": "3",
         "city": "Oxford",
         "_deepnote_index_column": "2018-05-02 10:13:00"
        },
        {
         "num": "4",
         "city": "Oxford",
         "_deepnote_index_column": "2018-05-02 10:14:00"
        },
        {
         "num": "1",
         "city": "Oxford",
         "_deepnote_index_column": "2018-05-02 10:15:00"
        },
        {
         "num": "2",
         "city": "Oxford",
         "_deepnote_index_column": "2018-05-02 10:16:00"
        },
        {
         "num": "3",
         "city": "Oxford",
         "_deepnote_index_column": "2018-05-02 10:17:00"
        },
        {
         "num": "4",
         "city": "Oxford",
         "_deepnote_index_column": "2018-05-02 10:18:00"
        },
        {
         "num": "3",
         "city": "Oxford",
         "_deepnote_index_column": "2018-05-02 10:19:00"
        },
        {
         "num": "2",
         "city": "Oxford",
         "_deepnote_index_column": "2018-05-02 10:20:00"
        },
        {
         "num": "1",
         "city": "Oxford",
         "_deepnote_index_column": "2018-05-02 10:21:00"
        },
        {
         "num": "3",
         "city": "Oxford",
         "_deepnote_index_column": "2018-05-02 10:22:00"
        },
        {
         "num": "4",
         "city": "Oxford",
         "_deepnote_index_column": "2018-05-02 10:23:00"
        },
        {
         "num": "3",
         "city": "Oxford",
         "_deepnote_index_column": "2018-05-02 10:24:00"
        },
        {
         "num": "1",
         "city": "Oxford",
         "_deepnote_index_column": "2018-05-02 10:25:00"
        },
        {
         "num": "3",
         "city": "Oxford",
         "_deepnote_index_column": "2018-05-02 10:26:00"
        },
        {
         "num": "3",
         "city": "Oxford",
         "_deepnote_index_column": "2018-05-02 10:27:00"
        },
        {
         "num": "3",
         "city": "Oxford",
         "_deepnote_index_column": "2018-05-02 10:28:00"
        },
        {
         "num": "4",
         "city": "Oxford",
         "_deepnote_index_column": "2018-05-02 10:29:00"
        },
        {
         "num": "3",
         "city": "Oxford",
         "_deepnote_index_column": "2018-05-02 10:30:00"
        },
        {
         "num": "3",
         "city": "Oxford",
         "_deepnote_index_column": "2018-05-02 10:31:00"
        },
        {
         "num": "3",
         "city": "Oxford",
         "_deepnote_index_column": "2018-05-02 10:32:00"
        },
        {
         "num": "2",
         "city": "Oxford",
         "_deepnote_index_column": "2018-05-02 10:33:00"
        },
        {
         "num": "2",
         "city": "Oxford",
         "_deepnote_index_column": "2018-05-02 10:34:00"
        },
        {
         "num": "2",
         "city": "Oxford",
         "_deepnote_index_column": "2018-05-02 10:35:00"
        },
        {
         "num": "3",
         "city": "Oxford",
         "_deepnote_index_column": "2018-05-02 10:36:00"
        },
        {
         "num": "2",
         "city": "Oxford",
         "_deepnote_index_column": "2018-05-02 10:37:00"
        },
        {
         "num": "4",
         "city": "Oxford",
         "_deepnote_index_column": "2018-05-02 10:38:00"
        },
        {
         "num": "3",
         "city": "Oxford",
         "_deepnote_index_column": "2018-05-02 10:39:00"
        },
        {
         "num": "1",
         "city": "Oxford",
         "_deepnote_index_column": "2018-05-02 10:40:00"
        },
        {
         "num": "1",
         "city": "Oxford",
         "_deepnote_index_column": "2018-05-02 10:41:00"
        },
        {
         "num": "3",
         "city": "Oxford",
         "_deepnote_index_column": "2018-05-02 10:42:00"
        },
        {
         "num": "2",
         "city": "Oxford",
         "_deepnote_index_column": "2018-05-02 10:43:00"
        },
        {
         "num": "3",
         "city": "Oxford",
         "_deepnote_index_column": "2018-05-02 10:44:00"
        },
        {
         "num": "3",
         "city": "Oxford",
         "_deepnote_index_column": "2018-05-02 10:45:00"
        },
        {
         "num": "3",
         "city": "Oxford",
         "_deepnote_index_column": "2018-05-02 10:46:00"
        },
        {
         "num": "3",
         "city": "Oxford",
         "_deepnote_index_column": "2018-05-02 10:47:00"
        },
        {
         "num": "4",
         "city": "Oxford",
         "_deepnote_index_column": "2018-05-02 10:48:00"
        },
        {
         "num": "2",
         "city": "Oxford",
         "_deepnote_index_column": "2018-05-02 10:49:00"
        },
        {
         "num": "2",
         "city": "Oxford",
         "_deepnote_index_column": "2018-05-02 10:50:00"
        },
        {
         "num": "4",
         "city": "Oxford",
         "_deepnote_index_column": "2018-05-02 10:51:00"
        },
        {
         "num": "1",
         "city": "Oxford",
         "_deepnote_index_column": "2018-05-02 10:52:00"
        },
        {
         "num": "3",
         "city": "Oxford",
         "_deepnote_index_column": "2018-05-02 10:53:00"
        },
        {
         "num": "1",
         "city": "Oxford",
         "_deepnote_index_column": "2018-05-02 10:54:00"
        },
        {
         "num": "3",
         "city": "Oxford",
         "_deepnote_index_column": "2018-05-02 10:55:00"
        },
        {
         "num": "4",
         "city": "Oxford",
         "_deepnote_index_column": "2018-05-02 10:56:00"
        },
        {
         "num": "3",
         "city": "Oxford",
         "_deepnote_index_column": "2018-05-02 10:57:00"
        },
        {
         "num": "3",
         "city": "Oxford",
         "_deepnote_index_column": "2018-05-02 10:58:00"
        },
        {
         "num": "1",
         "city": "Oxford",
         "_deepnote_index_column": "2018-05-02 10:59:00"
        },
        {
         "num": "3",
         "city": "Oxford",
         "_deepnote_index_column": "2018-05-02 11:00:00"
        },
        {
         "num": "4",
         "city": "Oxford",
         "_deepnote_index_column": "2018-05-02 11:01:00"
        },
        {
         "num": "4",
         "city": "Oxford",
         "_deepnote_index_column": "2018-05-02 11:02:00"
        },
        {
         "num": "1",
         "city": "Oxford",
         "_deepnote_index_column": "2018-05-02 11:03:00"
        },
        {
         "num": "1",
         "city": "Oxford",
         "_deepnote_index_column": "2018-05-02 11:04:00"
        },
        {
         "num": "1",
         "city": "Oxford",
         "_deepnote_index_column": "2018-05-02 11:05:00"
        },
        {
         "num": "4",
         "city": "Oxford",
         "_deepnote_index_column": "2018-05-02 11:06:00"
        },
        {
         "num": "2",
         "city": "Oxford",
         "_deepnote_index_column": "2018-05-02 11:07:00"
        },
        {
         "num": "3",
         "city": "Oxford",
         "_deepnote_index_column": "2018-05-02 11:08:00"
        },
        {
         "num": "3",
         "city": "Oxford",
         "_deepnote_index_column": "2018-05-02 11:09:00"
        },
        {
         "num": "3",
         "city": "Oxford",
         "_deepnote_index_column": "2018-05-02 11:10:00"
        },
        {
         "num": "3",
         "city": "Oxford",
         "_deepnote_index_column": "2018-05-02 11:11:00"
        },
        {
         "num": "3",
         "city": "Oxford",
         "_deepnote_index_column": "2018-05-02 11:12:00"
        },
        {
         "num": "2",
         "city": "Oxford",
         "_deepnote_index_column": "2018-05-02 11:13:00"
        },
        {
         "num": "3",
         "city": "Oxford",
         "_deepnote_index_column": "2018-05-02 11:14:00"
        },
        {
         "num": "3",
         "city": "Oxford",
         "_deepnote_index_column": "2018-05-02 11:15:00"
        },
        {
         "num": "1",
         "city": "Oxford",
         "_deepnote_index_column": "2018-05-02 11:16:00"
        },
        {
         "num": "2",
         "city": "Oxford",
         "_deepnote_index_column": "2018-05-02 11:17:00"
        },
        {
         "num": "1",
         "city": "Oxford",
         "_deepnote_index_column": "2018-05-02 11:18:00"
        },
        {
         "num": "3",
         "city": "Oxford",
         "_deepnote_index_column": "2018-05-02 11:19:00"
        },
        {
         "num": "4",
         "city": "Oxford",
         "_deepnote_index_column": "2018-05-02 11:20:00"
        },
        {
         "num": "3",
         "city": "Oxford",
         "_deepnote_index_column": "2018-05-02 11:21:00"
        },
        {
         "num": "3",
         "city": "Oxford",
         "_deepnote_index_column": "2018-05-02 11:22:00"
        },
        {
         "num": "3",
         "city": "Oxford",
         "_deepnote_index_column": "2018-05-02 11:23:00"
        },
        {
         "num": "3",
         "city": "Oxford",
         "_deepnote_index_column": "2018-05-02 11:24:00"
        },
        {
         "num": "3",
         "city": "Oxford",
         "_deepnote_index_column": "2018-05-02 11:25:00"
        },
        {
         "num": "4",
         "city": "Oxford",
         "_deepnote_index_column": "2018-05-02 11:26:00"
        },
        {
         "num": "2",
         "city": "Oxford",
         "_deepnote_index_column": "2018-05-02 11:27:00"
        },
        {
         "num": "1",
         "city": "Oxford",
         "_deepnote_index_column": "2018-05-02 11:28:00"
        },
        {
         "num": "3",
         "city": "Oxford",
         "_deepnote_index_column": "2018-05-02 11:29:00"
        },
        {
         "num": "1",
         "city": "Oxford",
         "_deepnote_index_column": "2018-05-02 11:30:00"
        },
        {
         "num": "3",
         "city": "Oxford",
         "_deepnote_index_column": "2018-05-02 11:31:00"
        },
        {
         "num": "3",
         "city": "Oxford",
         "_deepnote_index_column": "2018-05-02 11:32:00"
        },
        {
         "num": "3",
         "city": "Oxford",
         "_deepnote_index_column": "2018-05-02 11:33:00"
        },
        {
         "num": "3",
         "city": "Oxford",
         "_deepnote_index_column": "2018-05-02 11:34:00"
        },
        {
         "num": "2",
         "city": "Oxford",
         "_deepnote_index_column": "2018-05-02 11:35:00"
        },
        {
         "num": "3",
         "city": "Oxford",
         "_deepnote_index_column": "2018-05-02 11:36:00"
        },
        {
         "num": "4",
         "city": "Oxford",
         "_deepnote_index_column": "2018-05-02 11:37:00"
        },
        {
         "num": "3",
         "city": "Oxford",
         "_deepnote_index_column": "2018-05-02 11:38:00"
        },
        {
         "num": "3",
         "city": "Oxford",
         "_deepnote_index_column": "2018-05-02 11:39:00"
        },
        {
         "num": "3",
         "city": "Oxford",
         "_deepnote_index_column": "2018-05-02 11:40:00"
        },
        {
         "num": "3",
         "city": "Oxford",
         "_deepnote_index_column": "2018-05-02 11:41:00"
        },
        {
         "num": "3",
         "city": "Oxford",
         "_deepnote_index_column": "2018-05-02 11:42:00"
        },
        {
         "num": "3",
         "city": "Oxford",
         "_deepnote_index_column": "2018-05-02 11:43:00"
        },
        {
         "num": "4",
         "city": "Oxford",
         "_deepnote_index_column": "2018-05-02 11:44:00"
        },
        {
         "num": "2",
         "city": "Oxford",
         "_deepnote_index_column": "2018-05-02 11:45:00"
        },
        {
         "num": "4",
         "city": "Oxford",
         "_deepnote_index_column": "2018-05-02 11:46:00"
        },
        {
         "num": "4",
         "city": "Oxford",
         "_deepnote_index_column": "2018-05-02 11:47:00"
        },
        {
         "num": "3",
         "city": "Oxford",
         "_deepnote_index_column": "2018-05-02 11:48:00"
        },
        {
         "num": "3",
         "city": "Oxford",
         "_deepnote_index_column": "2018-05-02 11:49:00"
        },
        {
         "num": "3",
         "city": "Oxford",
         "_deepnote_index_column": "2018-05-02 11:50:00"
        },
        {
         "num": "2",
         "city": "Oxford",
         "_deepnote_index_column": "2018-05-02 11:51:00"
        },
        {
         "num": "4",
         "city": "Oxford",
         "_deepnote_index_column": "2018-05-02 11:52:00"
        },
        {
         "num": "1",
         "city": "Oxford",
         "_deepnote_index_column": "2018-05-02 11:53:00"
        },
        {
         "num": "3",
         "city": "Oxford",
         "_deepnote_index_column": "2018-05-02 11:54:00"
        },
        {
         "num": "1",
         "city": "Oxford",
         "_deepnote_index_column": "2018-05-02 11:55:00"
        },
        {
         "num": "4",
         "city": "Oxford",
         "_deepnote_index_column": "2018-05-02 11:56:00"
        },
        {
         "num": "3",
         "city": "Oxford",
         "_deepnote_index_column": "2018-05-02 11:57:00"
        },
        {
         "num": "4",
         "city": "Oxford",
         "_deepnote_index_column": "2018-05-02 11:58:00"
        },
        {
         "num": "3",
         "city": "Oxford",
         "_deepnote_index_column": "2018-05-02 11:59:00"
        },
        {
         "num": "3",
         "city": "Durham",
         "_deepnote_index_column": "2018-05-02 10:00:00"
        },
        {
         "num": "2",
         "city": "Durham",
         "_deepnote_index_column": "2018-05-02 10:01:00"
        },
        {
         "num": "2",
         "city": "Durham",
         "_deepnote_index_column": "2018-05-02 10:02:00"
        },
        {
         "num": "2",
         "city": "Durham",
         "_deepnote_index_column": "2018-05-02 10:03:00"
        },
        {
         "num": "4",
         "city": "Durham",
         "_deepnote_index_column": "2018-05-02 10:04:00"
        },
        {
         "num": "2",
         "city": "Durham",
         "_deepnote_index_column": "2018-05-02 10:05:00"
        },
        {
         "num": "1",
         "city": "Durham",
         "_deepnote_index_column": "2018-05-02 10:06:00"
        },
        {
         "num": "4",
         "city": "Durham",
         "_deepnote_index_column": "2018-05-02 10:07:00"
        },
        {
         "num": "1",
         "city": "Durham",
         "_deepnote_index_column": "2018-05-02 10:08:00"
        },
        {
         "num": "1",
         "city": "Durham",
         "_deepnote_index_column": "2018-05-02 10:09:00"
        },
        {
         "num": "1",
         "city": "Durham",
         "_deepnote_index_column": "2018-05-02 10:10:00"
        },
        {
         "num": "4",
         "city": "Durham",
         "_deepnote_index_column": "2018-05-02 10:11:00"
        },
        {
         "num": "4",
         "city": "Durham",
         "_deepnote_index_column": "2018-05-02 10:12:00"
        },
        {
         "num": "1",
         "city": "Durham",
         "_deepnote_index_column": "2018-05-02 10:13:00"
        },
        {
         "num": "1",
         "city": "Durham",
         "_deepnote_index_column": "2018-05-02 10:14:00"
        },
        {
         "num": "3",
         "city": "Durham",
         "_deepnote_index_column": "2018-05-02 10:15:00"
        },
        {
         "num": "1",
         "city": "Durham",
         "_deepnote_index_column": "2018-05-02 10:16:00"
        },
        {
         "num": "2",
         "city": "Durham",
         "_deepnote_index_column": "2018-05-02 10:17:00"
        },
        {
         "num": "4",
         "city": "Durham",
         "_deepnote_index_column": "2018-05-02 10:18:00"
        },
        {
         "num": "3",
         "city": "Durham",
         "_deepnote_index_column": "2018-05-02 10:19:00"
        },
        {
         "num": "3",
         "city": "Durham",
         "_deepnote_index_column": "2018-05-02 10:20:00"
        },
        {
         "num": "4",
         "city": "Durham",
         "_deepnote_index_column": "2018-05-02 10:21:00"
        },
        {
         "num": "3",
         "city": "Durham",
         "_deepnote_index_column": "2018-05-02 10:22:00"
        },
        {
         "num": "3",
         "city": "Durham",
         "_deepnote_index_column": "2018-05-02 10:23:00"
        },
        {
         "num": "3",
         "city": "Durham",
         "_deepnote_index_column": "2018-05-02 10:24:00"
        },
        {
         "num": "3",
         "city": "Durham",
         "_deepnote_index_column": "2018-05-02 10:25:00"
        },
        {
         "num": "4",
         "city": "Durham",
         "_deepnote_index_column": "2018-05-02 10:26:00"
        },
        {
         "num": "4",
         "city": "Durham",
         "_deepnote_index_column": "2018-05-02 10:27:00"
        },
        {
         "num": "3",
         "city": "Durham",
         "_deepnote_index_column": "2018-05-02 10:28:00"
        },
        {
         "num": "3",
         "city": "Durham",
         "_deepnote_index_column": "2018-05-02 10:29:00"
        },
        {
         "num": "2",
         "city": "Durham",
         "_deepnote_index_column": "2018-05-02 10:30:00"
        },
        {
         "num": "2",
         "city": "Durham",
         "_deepnote_index_column": "2018-05-02 10:31:00"
        },
        {
         "num": "4",
         "city": "Durham",
         "_deepnote_index_column": "2018-05-02 10:32:00"
        },
        {
         "num": "4",
         "city": "Durham",
         "_deepnote_index_column": "2018-05-02 10:33:00"
        },
        {
         "num": "2",
         "city": "Durham",
         "_deepnote_index_column": "2018-05-02 10:34:00"
        },
        {
         "num": "4",
         "city": "Durham",
         "_deepnote_index_column": "2018-05-02 10:35:00"
        },
        {
         "num": "3",
         "city": "Durham",
         "_deepnote_index_column": "2018-05-02 10:36:00"
        },
        {
         "num": "3",
         "city": "Durham",
         "_deepnote_index_column": "2018-05-02 10:37:00"
        },
        {
         "num": "3",
         "city": "Durham",
         "_deepnote_index_column": "2018-05-02 10:38:00"
        },
        {
         "num": "3",
         "city": "Durham",
         "_deepnote_index_column": "2018-05-02 10:39:00"
        },
        {
         "num": "1",
         "city": "Durham",
         "_deepnote_index_column": "2018-05-02 10:40:00"
        },
        {
         "num": "3",
         "city": "Durham",
         "_deepnote_index_column": "2018-05-02 10:41:00"
        },
        {
         "num": "3",
         "city": "Durham",
         "_deepnote_index_column": "2018-05-02 10:42:00"
        },
        {
         "num": "3",
         "city": "Durham",
         "_deepnote_index_column": "2018-05-02 10:43:00"
        },
        {
         "num": "4",
         "city": "Durham",
         "_deepnote_index_column": "2018-05-02 10:44:00"
        },
        {
         "num": "3",
         "city": "Durham",
         "_deepnote_index_column": "2018-05-02 10:45:00"
        },
        {
         "num": "3",
         "city": "Durham",
         "_deepnote_index_column": "2018-05-02 10:46:00"
        },
        {
         "num": "1",
         "city": "Durham",
         "_deepnote_index_column": "2018-05-02 10:47:00"
        },
        {
         "num": "3",
         "city": "Durham",
         "_deepnote_index_column": "2018-05-02 10:48:00"
        },
        {
         "num": "3",
         "city": "Durham",
         "_deepnote_index_column": "2018-05-02 10:49:00"
        },
        {
         "num": "1",
         "city": "Durham",
         "_deepnote_index_column": "2018-05-02 10:50:00"
        },
        {
         "num": "3",
         "city": "Durham",
         "_deepnote_index_column": "2018-05-02 10:51:00"
        },
        {
         "num": "2",
         "city": "Durham",
         "_deepnote_index_column": "2018-05-02 10:52:00"
        },
        {
         "num": "4",
         "city": "Durham",
         "_deepnote_index_column": "2018-05-02 10:53:00"
        },
        {
         "num": "3",
         "city": "Durham",
         "_deepnote_index_column": "2018-05-02 10:54:00"
        },
        {
         "num": "2",
         "city": "Durham",
         "_deepnote_index_column": "2018-05-02 10:55:00"
        },
        {
         "num": "3",
         "city": "Durham",
         "_deepnote_index_column": "2018-05-02 10:56:00"
        },
        {
         "num": "2",
         "city": "Durham",
         "_deepnote_index_column": "2018-05-02 10:57:00"
        },
        {
         "num": "3",
         "city": "Durham",
         "_deepnote_index_column": "2018-05-02 10:58:00"
        },
        {
         "num": "3",
         "city": "Durham",
         "_deepnote_index_column": "2018-05-02 10:59:00"
        },
        {
         "num": "3",
         "city": "Durham",
         "_deepnote_index_column": "2018-05-02 11:00:00"
        },
        {
         "num": "3",
         "city": "Durham",
         "_deepnote_index_column": "2018-05-02 11:01:00"
        },
        {
         "num": "4",
         "city": "Durham",
         "_deepnote_index_column": "2018-05-02 11:02:00"
        },
        {
         "num": "3",
         "city": "Durham",
         "_deepnote_index_column": "2018-05-02 11:03:00"
        },
        {
         "num": "3",
         "city": "Durham",
         "_deepnote_index_column": "2018-05-02 11:04:00"
        },
        {
         "num": "3",
         "city": "Durham",
         "_deepnote_index_column": "2018-05-02 11:05:00"
        },
        {
         "num": "1",
         "city": "Durham",
         "_deepnote_index_column": "2018-05-02 11:06:00"
        },
        {
         "num": "3",
         "city": "Durham",
         "_deepnote_index_column": "2018-05-02 11:07:00"
        },
        {
         "num": "1",
         "city": "Durham",
         "_deepnote_index_column": "2018-05-02 11:08:00"
        },
        {
         "num": "3",
         "city": "Durham",
         "_deepnote_index_column": "2018-05-02 11:09:00"
        },
        {
         "num": "3",
         "city": "Durham",
         "_deepnote_index_column": "2018-05-02 11:10:00"
        },
        {
         "num": "3",
         "city": "Durham",
         "_deepnote_index_column": "2018-05-02 11:11:00"
        },
        {
         "num": "2",
         "city": "Durham",
         "_deepnote_index_column": "2018-05-02 11:12:00"
        },
        {
         "num": "3",
         "city": "Durham",
         "_deepnote_index_column": "2018-05-02 11:13:00"
        },
        {
         "num": "4",
         "city": "Durham",
         "_deepnote_index_column": "2018-05-02 11:14:00"
        },
        {
         "num": "3",
         "city": "Durham",
         "_deepnote_index_column": "2018-05-02 11:15:00"
        },
        {
         "num": "3",
         "city": "Durham",
         "_deepnote_index_column": "2018-05-02 11:16:00"
        },
        {
         "num": "3",
         "city": "Durham",
         "_deepnote_index_column": "2018-05-02 11:17:00"
        },
        {
         "num": "3",
         "city": "Durham",
         "_deepnote_index_column": "2018-05-02 11:18:00"
        },
        {
         "num": "3",
         "city": "Durham",
         "_deepnote_index_column": "2018-05-02 11:19:00"
        },
        {
         "num": "2",
         "city": "Durham",
         "_deepnote_index_column": "2018-05-02 11:20:00"
        },
        {
         "num": "3",
         "city": "Durham",
         "_deepnote_index_column": "2018-05-02 11:21:00"
        },
        {
         "num": "3",
         "city": "Durham",
         "_deepnote_index_column": "2018-05-02 11:22:00"
        },
        {
         "num": "3",
         "city": "Durham",
         "_deepnote_index_column": "2018-05-02 11:23:00"
        },
        {
         "num": "1",
         "city": "Durham",
         "_deepnote_index_column": "2018-05-02 11:24:00"
        },
        {
         "num": "3",
         "city": "Durham",
         "_deepnote_index_column": "2018-05-02 11:25:00"
        },
        {
         "num": "4",
         "city": "Durham",
         "_deepnote_index_column": "2018-05-02 11:26:00"
        },
        {
         "num": "3",
         "city": "Durham",
         "_deepnote_index_column": "2018-05-02 11:27:00"
        },
        {
         "num": "3",
         "city": "Durham",
         "_deepnote_index_column": "2018-05-02 11:28:00"
        },
        {
         "num": "2",
         "city": "Durham",
         "_deepnote_index_column": "2018-05-02 11:29:00"
        },
        {
         "num": "3",
         "city": "Durham",
         "_deepnote_index_column": "2018-05-02 11:30:00"
        },
        {
         "num": "3",
         "city": "Durham",
         "_deepnote_index_column": "2018-05-02 11:31:00"
        },
        {
         "num": "3",
         "city": "Durham",
         "_deepnote_index_column": "2018-05-02 11:32:00"
        },
        {
         "num": "3",
         "city": "Durham",
         "_deepnote_index_column": "2018-05-02 11:33:00"
        },
        {
         "num": "4",
         "city": "Durham",
         "_deepnote_index_column": "2018-05-02 11:34:00"
        },
        {
         "num": "3",
         "city": "Durham",
         "_deepnote_index_column": "2018-05-02 11:35:00"
        },
        {
         "num": "3",
         "city": "Durham",
         "_deepnote_index_column": "2018-05-02 11:36:00"
        },
        {
         "num": "3",
         "city": "Durham",
         "_deepnote_index_column": "2018-05-02 11:37:00"
        },
        {
         "num": "3",
         "city": "Durham",
         "_deepnote_index_column": "2018-05-02 11:38:00"
        },
        {
         "num": "3",
         "city": "Durham",
         "_deepnote_index_column": "2018-05-02 11:39:00"
        },
        {
         "num": "1",
         "city": "Durham",
         "_deepnote_index_column": "2018-05-02 11:40:00"
        },
        {
         "num": "2",
         "city": "Durham",
         "_deepnote_index_column": "2018-05-02 11:41:00"
        },
        {
         "num": "4",
         "city": "Durham",
         "_deepnote_index_column": "2018-05-02 11:42:00"
        },
        {
         "num": "3",
         "city": "Durham",
         "_deepnote_index_column": "2018-05-02 11:43:00"
        },
        {
         "num": "3",
         "city": "Durham",
         "_deepnote_index_column": "2018-05-02 11:44:00"
        },
        {
         "num": "4",
         "city": "Durham",
         "_deepnote_index_column": "2018-05-02 11:45:00"
        },
        {
         "num": "3",
         "city": "Durham",
         "_deepnote_index_column": "2018-05-02 11:46:00"
        },
        {
         "num": "2",
         "city": "Durham",
         "_deepnote_index_column": "2018-05-02 11:47:00"
        },
        {
         "num": "3",
         "city": "Durham",
         "_deepnote_index_column": "2018-05-02 11:48:00"
        },
        {
         "num": "2",
         "city": "Durham",
         "_deepnote_index_column": "2018-05-02 11:49:00"
        },
        {
         "num": "2",
         "city": "Durham",
         "_deepnote_index_column": "2018-05-02 11:50:00"
        },
        {
         "num": "3",
         "city": "Durham",
         "_deepnote_index_column": "2018-05-02 11:51:00"
        },
        {
         "num": "3",
         "city": "Durham",
         "_deepnote_index_column": "2018-05-02 11:52:00"
        },
        {
         "num": "3",
         "city": "Durham",
         "_deepnote_index_column": "2018-05-02 11:53:00"
        },
        {
         "num": "3",
         "city": "Durham",
         "_deepnote_index_column": "2018-05-02 11:54:00"
        },
        {
         "num": "3",
         "city": "Durham",
         "_deepnote_index_column": "2018-05-02 11:55:00"
        },
        {
         "num": "3",
         "city": "Durham",
         "_deepnote_index_column": "2018-05-02 11:56:00"
        },
        {
         "num": "3",
         "city": "Durham",
         "_deepnote_index_column": "2018-05-02 11:57:00"
        },
        {
         "num": "2",
         "city": "Durham",
         "_deepnote_index_column": "2018-05-02 11:58:00"
        },
        {
         "num": "3",
         "city": "Durham",
         "_deepnote_index_column": "2018-05-02 11:59:00"
        },
        {
         "num": "3",
         "city": "Cambridge",
         "_deepnote_index_column": "2018-05-02 10:00:00"
        },
        {
         "num": "3",
         "city": "Cambridge",
         "_deepnote_index_column": "2018-05-02 10:01:00"
        },
        {
         "num": "2",
         "city": "Cambridge",
         "_deepnote_index_column": "2018-05-02 10:02:00"
        },
        {
         "num": "2",
         "city": "Cambridge",
         "_deepnote_index_column": "2018-05-02 10:03:00"
        },
        {
         "num": "3",
         "city": "Cambridge",
         "_deepnote_index_column": "2018-05-02 10:04:00"
        },
        {
         "num": "4",
         "city": "Cambridge",
         "_deepnote_index_column": "2018-05-02 10:05:00"
        },
        {
         "num": "4",
         "city": "Cambridge",
         "_deepnote_index_column": "2018-05-02 10:06:00"
        },
        {
         "num": "4",
         "city": "Cambridge",
         "_deepnote_index_column": "2018-05-02 10:07:00"
        },
        {
         "num": "3",
         "city": "Cambridge",
         "_deepnote_index_column": "2018-05-02 10:08:00"
        },
        {
         "num": "3",
         "city": "Cambridge",
         "_deepnote_index_column": "2018-05-02 10:09:00"
        },
        {
         "num": "2",
         "city": "Cambridge",
         "_deepnote_index_column": "2018-05-02 10:10:00"
        },
        {
         "num": "3",
         "city": "Cambridge",
         "_deepnote_index_column": "2018-05-02 10:11:00"
        },
        {
         "num": "3",
         "city": "Cambridge",
         "_deepnote_index_column": "2018-05-02 10:12:00"
        },
        {
         "num": "2",
         "city": "Cambridge",
         "_deepnote_index_column": "2018-05-02 10:13:00"
        },
        {
         "num": "4",
         "city": "Cambridge",
         "_deepnote_index_column": "2018-05-02 10:14:00"
        },
        {
         "num": "3",
         "city": "Cambridge",
         "_deepnote_index_column": "2018-05-02 10:15:00"
        },
        {
         "num": "3",
         "city": "Cambridge",
         "_deepnote_index_column": "2018-05-02 10:16:00"
        },
        {
         "num": "3",
         "city": "Cambridge",
         "_deepnote_index_column": "2018-05-02 10:17:00"
        },
        {
         "num": "3",
         "city": "Cambridge",
         "_deepnote_index_column": "2018-05-02 10:18:00"
        },
        {
         "num": "1",
         "city": "Cambridge",
         "_deepnote_index_column": "2018-05-02 10:19:00"
        },
        {
         "num": "3",
         "city": "Cambridge",
         "_deepnote_index_column": "2018-05-02 10:20:00"
        },
        {
         "num": "3",
         "city": "Cambridge",
         "_deepnote_index_column": "2018-05-02 10:21:00"
        },
        {
         "num": "4",
         "city": "Cambridge",
         "_deepnote_index_column": "2018-05-02 10:22:00"
        },
        {
         "num": "3",
         "city": "Cambridge",
         "_deepnote_index_column": "2018-05-02 10:23:00"
        },
        {
         "num": "4",
         "city": "Cambridge",
         "_deepnote_index_column": "2018-05-02 10:24:00"
        },
        {
         "num": "2",
         "city": "Cambridge",
         "_deepnote_index_column": "2018-05-02 10:25:00"
        },
        {
         "num": "4",
         "city": "Cambridge",
         "_deepnote_index_column": "2018-05-02 10:26:00"
        },
        {
         "num": "3",
         "city": "Cambridge",
         "_deepnote_index_column": "2018-05-02 10:27:00"
        },
        {
         "num": "3",
         "city": "Cambridge",
         "_deepnote_index_column": "2018-05-02 10:28:00"
        },
        {
         "num": "2",
         "city": "Cambridge",
         "_deepnote_index_column": "2018-05-02 10:29:00"
        },
        {
         "num": "3",
         "city": "Cambridge",
         "_deepnote_index_column": "2018-05-02 10:30:00"
        },
        {
         "num": "3",
         "city": "Cambridge",
         "_deepnote_index_column": "2018-05-02 10:31:00"
        },
        {
         "num": "4",
         "city": "Cambridge",
         "_deepnote_index_column": "2018-05-02 10:32:00"
        },
        {
         "num": "3",
         "city": "Cambridge",
         "_deepnote_index_column": "2018-05-02 10:33:00"
        },
        {
         "num": "1",
         "city": "Cambridge",
         "_deepnote_index_column": "2018-05-02 10:34:00"
        },
        {
         "num": "4",
         "city": "Cambridge",
         "_deepnote_index_column": "2018-05-02 10:35:00"
        },
        {
         "num": "4",
         "city": "Cambridge",
         "_deepnote_index_column": "2018-05-02 10:36:00"
        },
        {
         "num": "3",
         "city": "Cambridge",
         "_deepnote_index_column": "2018-05-02 10:37:00"
        },
        {
         "num": "3",
         "city": "Cambridge",
         "_deepnote_index_column": "2018-05-02 10:38:00"
        },
        {
         "num": "2",
         "city": "Cambridge",
         "_deepnote_index_column": "2018-05-02 10:39:00"
        },
        {
         "num": "3",
         "city": "Cambridge",
         "_deepnote_index_column": "2018-05-02 10:40:00"
        },
        {
         "num": "3",
         "city": "Cambridge",
         "_deepnote_index_column": "2018-05-02 10:41:00"
        },
        {
         "num": "3",
         "city": "Cambridge",
         "_deepnote_index_column": "2018-05-02 10:42:00"
        },
        {
         "num": "3",
         "city": "Cambridge",
         "_deepnote_index_column": "2018-05-02 10:43:00"
        },
        {
         "num": "3",
         "city": "Cambridge",
         "_deepnote_index_column": "2018-05-02 10:44:00"
        },
        {
         "num": "1",
         "city": "Cambridge",
         "_deepnote_index_column": "2018-05-02 10:45:00"
        },
        {
         "num": "3",
         "city": "Cambridge",
         "_deepnote_index_column": "2018-05-02 10:46:00"
        },
        {
         "num": "3",
         "city": "Cambridge",
         "_deepnote_index_column": "2018-05-02 10:47:00"
        },
        {
         "num": "3",
         "city": "Cambridge",
         "_deepnote_index_column": "2018-05-02 10:48:00"
        },
        {
         "num": "4",
         "city": "Cambridge",
         "_deepnote_index_column": "2018-05-02 10:49:00"
        },
        {
         "num": "2",
         "city": "Cambridge",
         "_deepnote_index_column": "2018-05-02 10:50:00"
        },
        {
         "num": "3",
         "city": "Cambridge",
         "_deepnote_index_column": "2018-05-02 10:51:00"
        },
        {
         "num": "1",
         "city": "Cambridge",
         "_deepnote_index_column": "2018-05-02 10:52:00"
        },
        {
         "num": "4",
         "city": "Cambridge",
         "_deepnote_index_column": "2018-05-02 10:53:00"
        },
        {
         "num": "1",
         "city": "Cambridge",
         "_deepnote_index_column": "2018-05-02 10:54:00"
        },
        {
         "num": "3",
         "city": "Cambridge",
         "_deepnote_index_column": "2018-05-02 10:55:00"
        },
        {
         "num": "3",
         "city": "Cambridge",
         "_deepnote_index_column": "2018-05-02 10:56:00"
        },
        {
         "num": "3",
         "city": "Cambridge",
         "_deepnote_index_column": "2018-05-02 10:57:00"
        },
        {
         "num": "2",
         "city": "Cambridge",
         "_deepnote_index_column": "2018-05-02 10:58:00"
        },
        {
         "num": "1",
         "city": "Cambridge",
         "_deepnote_index_column": "2018-05-02 10:59:00"
        },
        {
         "num": "3",
         "city": "Cambridge",
         "_deepnote_index_column": "2018-05-02 11:00:00"
        },
        {
         "num": "4",
         "city": "Cambridge",
         "_deepnote_index_column": "2018-05-02 11:01:00"
        },
        {
         "num": "2",
         "city": "Cambridge",
         "_deepnote_index_column": "2018-05-02 11:02:00"
        },
        {
         "num": "3",
         "city": "Cambridge",
         "_deepnote_index_column": "2018-05-02 11:03:00"
        },
        {
         "num": "3",
         "city": "Cambridge",
         "_deepnote_index_column": "2018-05-02 11:04:00"
        },
        {
         "num": "2",
         "city": "Cambridge",
         "_deepnote_index_column": "2018-05-02 11:05:00"
        },
        {
         "num": "4",
         "city": "Cambridge",
         "_deepnote_index_column": "2018-05-02 11:06:00"
        },
        {
         "num": "4",
         "city": "Cambridge",
         "_deepnote_index_column": "2018-05-02 11:07:00"
        },
        {
         "num": "2",
         "city": "Cambridge",
         "_deepnote_index_column": "2018-05-02 11:08:00"
        },
        {
         "num": "1",
         "city": "Cambridge",
         "_deepnote_index_column": "2018-05-02 11:09:00"
        },
        {
         "num": "3",
         "city": "Cambridge",
         "_deepnote_index_column": "2018-05-02 11:10:00"
        },
        {
         "num": "4",
         "city": "Cambridge",
         "_deepnote_index_column": "2018-05-02 11:11:00"
        },
        {
         "num": "3",
         "city": "Cambridge",
         "_deepnote_index_column": "2018-05-02 11:12:00"
        },
        {
         "num": "3",
         "city": "Cambridge",
         "_deepnote_index_column": "2018-05-02 11:13:00"
        },
        {
         "num": "1",
         "city": "Cambridge",
         "_deepnote_index_column": "2018-05-02 11:14:00"
        },
        {
         "num": "1",
         "city": "Cambridge",
         "_deepnote_index_column": "2018-05-02 11:15:00"
        },
        {
         "num": "3",
         "city": "Cambridge",
         "_deepnote_index_column": "2018-05-02 11:16:00"
        },
        {
         "num": "3",
         "city": "Cambridge",
         "_deepnote_index_column": "2018-05-02 11:17:00"
        },
        {
         "num": "3",
         "city": "Cambridge",
         "_deepnote_index_column": "2018-05-02 11:18:00"
        },
        {
         "num": "1",
         "city": "Cambridge",
         "_deepnote_index_column": "2018-05-02 11:19:00"
        },
        {
         "num": "1",
         "city": "Cambridge",
         "_deepnote_index_column": "2018-05-02 11:20:00"
        },
        {
         "num": "4",
         "city": "Cambridge",
         "_deepnote_index_column": "2018-05-02 11:21:00"
        },
        {
         "num": "4",
         "city": "Cambridge",
         "_deepnote_index_column": "2018-05-02 11:22:00"
        },
        {
         "num": "3",
         "city": "Cambridge",
         "_deepnote_index_column": "2018-05-02 11:23:00"
        },
        {
         "num": "3",
         "city": "Cambridge",
         "_deepnote_index_column": "2018-05-02 11:24:00"
        },
        {
         "num": "3",
         "city": "Cambridge",
         "_deepnote_index_column": "2018-05-02 11:25:00"
        },
        {
         "num": "4",
         "city": "Cambridge",
         "_deepnote_index_column": "2018-05-02 11:26:00"
        },
        {
         "num": "2",
         "city": "Cambridge",
         "_deepnote_index_column": "2018-05-02 11:27:00"
        },
        {
         "num": "3",
         "city": "Cambridge",
         "_deepnote_index_column": "2018-05-02 11:28:00"
        },
        {
         "num": "2",
         "city": "Cambridge",
         "_deepnote_index_column": "2018-05-02 11:29:00"
        },
        {
         "num": "4",
         "city": "Cambridge",
         "_deepnote_index_column": "2018-05-02 11:30:00"
        },
        {
         "num": "1",
         "city": "Cambridge",
         "_deepnote_index_column": "2018-05-02 11:31:00"
        },
        {
         "num": "3",
         "city": "Cambridge",
         "_deepnote_index_column": "2018-05-02 11:32:00"
        },
        {
         "num": "3",
         "city": "Cambridge",
         "_deepnote_index_column": "2018-05-02 11:33:00"
        },
        {
         "num": "3",
         "city": "Cambridge",
         "_deepnote_index_column": "2018-05-02 11:34:00"
        },
        {
         "num": "1",
         "city": "Cambridge",
         "_deepnote_index_column": "2018-05-02 11:35:00"
        },
        {
         "num": "2",
         "city": "Cambridge",
         "_deepnote_index_column": "2018-05-02 11:36:00"
        },
        {
         "num": "4",
         "city": "Cambridge",
         "_deepnote_index_column": "2018-05-02 11:37:00"
        },
        {
         "num": "3",
         "city": "Cambridge",
         "_deepnote_index_column": "2018-05-02 11:38:00"
        },
        {
         "num": "3",
         "city": "Cambridge",
         "_deepnote_index_column": "2018-05-02 11:39:00"
        },
        {
         "num": "3",
         "city": "Cambridge",
         "_deepnote_index_column": "2018-05-02 11:40:00"
        },
        {
         "num": "2",
         "city": "Cambridge",
         "_deepnote_index_column": "2018-05-02 11:41:00"
        },
        {
         "num": "4",
         "city": "Cambridge",
         "_deepnote_index_column": "2018-05-02 11:42:00"
        },
        {
         "num": "2",
         "city": "Cambridge",
         "_deepnote_index_column": "2018-05-02 11:43:00"
        },
        {
         "num": "3",
         "city": "Cambridge",
         "_deepnote_index_column": "2018-05-02 11:44:00"
        },
        {
         "num": "2",
         "city": "Cambridge",
         "_deepnote_index_column": "2018-05-02 11:45:00"
        },
        {
         "num": "1",
         "city": "Cambridge",
         "_deepnote_index_column": "2018-05-02 11:46:00"
        },
        {
         "num": "3",
         "city": "Cambridge",
         "_deepnote_index_column": "2018-05-02 11:47:00"
        },
        {
         "num": "4",
         "city": "Cambridge",
         "_deepnote_index_column": "2018-05-02 11:48:00"
        },
        {
         "num": "2",
         "city": "Cambridge",
         "_deepnote_index_column": "2018-05-02 11:49:00"
        },
        {
         "num": "2",
         "city": "Cambridge",
         "_deepnote_index_column": "2018-05-02 11:50:00"
        },
        {
         "num": "3",
         "city": "Cambridge",
         "_deepnote_index_column": "2018-05-02 11:51:00"
        },
        {
         "num": "2",
         "city": "Cambridge",
         "_deepnote_index_column": "2018-05-02 11:52:00"
        },
        {
         "num": "1",
         "city": "Cambridge",
         "_deepnote_index_column": "2018-05-02 11:53:00"
        },
        {
         "num": "3",
         "city": "Cambridge",
         "_deepnote_index_column": "2018-05-02 11:54:00"
        },
        {
         "num": "3",
         "city": "Cambridge",
         "_deepnote_index_column": "2018-05-02 11:55:00"
        },
        {
         "num": "3",
         "city": "Cambridge",
         "_deepnote_index_column": "2018-05-02 11:56:00"
        },
        {
         "num": "4",
         "city": "Cambridge",
         "_deepnote_index_column": "2018-05-02 11:57:00"
        },
        {
         "num": "4",
         "city": "Cambridge",
         "_deepnote_index_column": "2018-05-02 11:58:00"
        },
        {
         "num": "1",
         "city": "Cambridge",
         "_deepnote_index_column": "2018-05-02 11:59:00"
        }
       ],
       "rows_bottom": null
      },
      "text/plain": "                     num       city\ndate                               \n2018-05-02 10:00:00    2     London\n2018-05-02 10:01:00    3     London\n2018-05-02 10:02:00    4     London\n2018-05-02 10:03:00    4     London\n2018-05-02 10:04:00    4     London\n...                  ...        ...\n2018-05-02 11:55:00    3  Cambridge\n2018-05-02 11:56:00    3  Cambridge\n2018-05-02 11:57:00    4  Cambridge\n2018-05-02 11:58:00    4  Cambridge\n2018-05-02 11:59:00    1  Cambridge\n\n[480 rows x 2 columns]",
      "text/html": "<div>\n<style scoped>\n    .dataframe tbody tr th:only-of-type {\n        vertical-align: middle;\n    }\n\n    .dataframe tbody tr th {\n        vertical-align: top;\n    }\n\n    .dataframe thead th {\n        text-align: right;\n    }\n</style>\n<table border=\"1\" class=\"dataframe\">\n  <thead>\n    <tr style=\"text-align: right;\">\n      <th></th>\n      <th>num</th>\n      <th>city</th>\n    </tr>\n    <tr>\n      <th>date</th>\n      <th></th>\n      <th></th>\n    </tr>\n  </thead>\n  <tbody>\n    <tr>\n      <th>2018-05-02 10:00:00</th>\n      <td>2</td>\n      <td>London</td>\n    </tr>\n    <tr>\n      <th>2018-05-02 10:01:00</th>\n      <td>3</td>\n      <td>London</td>\n    </tr>\n    <tr>\n      <th>2018-05-02 10:02:00</th>\n      <td>4</td>\n      <td>London</td>\n    </tr>\n    <tr>\n      <th>2018-05-02 10:03:00</th>\n      <td>4</td>\n      <td>London</td>\n    </tr>\n    <tr>\n      <th>2018-05-02 10:04:00</th>\n      <td>4</td>\n      <td>London</td>\n    </tr>\n    <tr>\n      <th>...</th>\n      <td>...</td>\n      <td>...</td>\n    </tr>\n    <tr>\n      <th>2018-05-02 11:55:00</th>\n      <td>3</td>\n      <td>Cambridge</td>\n    </tr>\n    <tr>\n      <th>2018-05-02 11:56:00</th>\n      <td>3</td>\n      <td>Cambridge</td>\n    </tr>\n    <tr>\n      <th>2018-05-02 11:57:00</th>\n      <td>4</td>\n      <td>Cambridge</td>\n    </tr>\n    <tr>\n      <th>2018-05-02 11:58:00</th>\n      <td>4</td>\n      <td>Cambridge</td>\n    </tr>\n    <tr>\n      <th>2018-05-02 11:59:00</th>\n      <td>1</td>\n      <td>Cambridge</td>\n    </tr>\n  </tbody>\n</table>\n<p>480 rows × 2 columns</p>\n</div>"
     },
     "metadata": {}
    }
   ]
  },
  {
   "cell_type": "markdown",
   "source": "### between 10:30 and 10:45 on the 2nd May 2018",
   "metadata": {
    "tags": [],
    "is_collapsed": false,
    "cell_id": "00047-25a4a5c9-109f-49fd-b4c9-caaddef95fe3",
    "deepnote_cell_type": "text-cell-h3"
   }
  },
  {
   "cell_type": "code",
   "metadata": {
    "tags": [],
    "cell_id": "00047-c138659c-2d5c-4411-ae5d-3cec5c394ec5",
    "deepnote_to_be_reexecuted": false,
    "source_hash": "75a1c51e",
    "execution_start": 1627789335121,
    "execution_millis": 47,
    "deepnote_cell_type": "code"
   },
   "source": "df.loc['2018-5-2 10:30' : '2018-5-2 10:45' ]",
   "execution_count": null,
   "outputs": [
    {
     "output_type": "execute_result",
     "execution_count": 36,
     "data": {
      "application/vnd.deepnote.dataframe.v2+json": {
       "row_count": 64,
       "column_count": 2,
       "columns": [
        {
         "name": "num",
         "dtype": "int64",
         "stats": {
          "unique_count": 4,
          "nan_count": 0,
          "min": "1",
          "max": "4",
          "histogram": [
           {
            "bin_start": 1,
            "bin_end": 1.3,
            "count": 6
           },
           {
            "bin_start": 1.3,
            "bin_end": 1.6,
            "count": 0
           },
           {
            "bin_start": 1.6,
            "bin_end": 1.9,
            "count": 0
           },
           {
            "bin_start": 1.9,
            "bin_end": 2.2,
            "count": 11
           },
           {
            "bin_start": 2.2,
            "bin_end": 2.5,
            "count": 0
           },
           {
            "bin_start": 2.5,
            "bin_end": 2.8,
            "count": 0
           },
           {
            "bin_start": 2.8,
            "bin_end": 3.1,
            "count": 37
           },
           {
            "bin_start": 3.1,
            "bin_end": 3.4,
            "count": 0
           },
           {
            "bin_start": 3.4,
            "bin_end": 3.6999999999999997,
            "count": 0
           },
           {
            "bin_start": 3.6999999999999997,
            "bin_end": 4,
            "count": 10
           }
          ]
         }
        },
        {
         "name": "city",
         "dtype": "object",
         "stats": {
          "unique_count": 4,
          "nan_count": 0,
          "categories": [
           {
            "name": "London",
            "count": 16
           },
           {
            "name": "Oxford",
            "count": 16
           },
           {
            "name": "2 others",
            "count": 32
           }
          ]
         }
        },
        {
         "name": "_deepnote_index_column",
         "dtype": "datetime64[ns]"
        }
       ],
       "rows_top": [
        {
         "num": "3",
         "city": "London",
         "_deepnote_index_column": "2018-05-02 10:30:00"
        },
        {
         "num": "3",
         "city": "London",
         "_deepnote_index_column": "2018-05-02 10:31:00"
        },
        {
         "num": "1",
         "city": "London",
         "_deepnote_index_column": "2018-05-02 10:32:00"
        },
        {
         "num": "3",
         "city": "London",
         "_deepnote_index_column": "2018-05-02 10:33:00"
        },
        {
         "num": "3",
         "city": "London",
         "_deepnote_index_column": "2018-05-02 10:34:00"
        },
        {
         "num": "3",
         "city": "London",
         "_deepnote_index_column": "2018-05-02 10:35:00"
        },
        {
         "num": "3",
         "city": "London",
         "_deepnote_index_column": "2018-05-02 10:36:00"
        },
        {
         "num": "2",
         "city": "London",
         "_deepnote_index_column": "2018-05-02 10:37:00"
        },
        {
         "num": "3",
         "city": "London",
         "_deepnote_index_column": "2018-05-02 10:38:00"
        },
        {
         "num": "3",
         "city": "London",
         "_deepnote_index_column": "2018-05-02 10:39:00"
        },
        {
         "num": "2",
         "city": "London",
         "_deepnote_index_column": "2018-05-02 10:40:00"
        },
        {
         "num": "4",
         "city": "London",
         "_deepnote_index_column": "2018-05-02 10:41:00"
        },
        {
         "num": "3",
         "city": "London",
         "_deepnote_index_column": "2018-05-02 10:42:00"
        },
        {
         "num": "3",
         "city": "London",
         "_deepnote_index_column": "2018-05-02 10:43:00"
        },
        {
         "num": "3",
         "city": "London",
         "_deepnote_index_column": "2018-05-02 10:44:00"
        },
        {
         "num": "4",
         "city": "London",
         "_deepnote_index_column": "2018-05-02 10:45:00"
        },
        {
         "num": "3",
         "city": "Oxford",
         "_deepnote_index_column": "2018-05-02 10:30:00"
        },
        {
         "num": "3",
         "city": "Oxford",
         "_deepnote_index_column": "2018-05-02 10:31:00"
        },
        {
         "num": "3",
         "city": "Oxford",
         "_deepnote_index_column": "2018-05-02 10:32:00"
        },
        {
         "num": "2",
         "city": "Oxford",
         "_deepnote_index_column": "2018-05-02 10:33:00"
        },
        {
         "num": "2",
         "city": "Oxford",
         "_deepnote_index_column": "2018-05-02 10:34:00"
        },
        {
         "num": "2",
         "city": "Oxford",
         "_deepnote_index_column": "2018-05-02 10:35:00"
        },
        {
         "num": "3",
         "city": "Oxford",
         "_deepnote_index_column": "2018-05-02 10:36:00"
        },
        {
         "num": "2",
         "city": "Oxford",
         "_deepnote_index_column": "2018-05-02 10:37:00"
        },
        {
         "num": "4",
         "city": "Oxford",
         "_deepnote_index_column": "2018-05-02 10:38:00"
        },
        {
         "num": "3",
         "city": "Oxford",
         "_deepnote_index_column": "2018-05-02 10:39:00"
        },
        {
         "num": "1",
         "city": "Oxford",
         "_deepnote_index_column": "2018-05-02 10:40:00"
        },
        {
         "num": "1",
         "city": "Oxford",
         "_deepnote_index_column": "2018-05-02 10:41:00"
        },
        {
         "num": "3",
         "city": "Oxford",
         "_deepnote_index_column": "2018-05-02 10:42:00"
        },
        {
         "num": "2",
         "city": "Oxford",
         "_deepnote_index_column": "2018-05-02 10:43:00"
        },
        {
         "num": "3",
         "city": "Oxford",
         "_deepnote_index_column": "2018-05-02 10:44:00"
        },
        {
         "num": "3",
         "city": "Oxford",
         "_deepnote_index_column": "2018-05-02 10:45:00"
        },
        {
         "num": "2",
         "city": "Durham",
         "_deepnote_index_column": "2018-05-02 10:30:00"
        },
        {
         "num": "2",
         "city": "Durham",
         "_deepnote_index_column": "2018-05-02 10:31:00"
        },
        {
         "num": "4",
         "city": "Durham",
         "_deepnote_index_column": "2018-05-02 10:32:00"
        },
        {
         "num": "4",
         "city": "Durham",
         "_deepnote_index_column": "2018-05-02 10:33:00"
        },
        {
         "num": "2",
         "city": "Durham",
         "_deepnote_index_column": "2018-05-02 10:34:00"
        },
        {
         "num": "4",
         "city": "Durham",
         "_deepnote_index_column": "2018-05-02 10:35:00"
        },
        {
         "num": "3",
         "city": "Durham",
         "_deepnote_index_column": "2018-05-02 10:36:00"
        },
        {
         "num": "3",
         "city": "Durham",
         "_deepnote_index_column": "2018-05-02 10:37:00"
        },
        {
         "num": "3",
         "city": "Durham",
         "_deepnote_index_column": "2018-05-02 10:38:00"
        },
        {
         "num": "3",
         "city": "Durham",
         "_deepnote_index_column": "2018-05-02 10:39:00"
        },
        {
         "num": "1",
         "city": "Durham",
         "_deepnote_index_column": "2018-05-02 10:40:00"
        },
        {
         "num": "3",
         "city": "Durham",
         "_deepnote_index_column": "2018-05-02 10:41:00"
        },
        {
         "num": "3",
         "city": "Durham",
         "_deepnote_index_column": "2018-05-02 10:42:00"
        },
        {
         "num": "3",
         "city": "Durham",
         "_deepnote_index_column": "2018-05-02 10:43:00"
        },
        {
         "num": "4",
         "city": "Durham",
         "_deepnote_index_column": "2018-05-02 10:44:00"
        },
        {
         "num": "3",
         "city": "Durham",
         "_deepnote_index_column": "2018-05-02 10:45:00"
        },
        {
         "num": "3",
         "city": "Cambridge",
         "_deepnote_index_column": "2018-05-02 10:30:00"
        },
        {
         "num": "3",
         "city": "Cambridge",
         "_deepnote_index_column": "2018-05-02 10:31:00"
        },
        {
         "num": "4",
         "city": "Cambridge",
         "_deepnote_index_column": "2018-05-02 10:32:00"
        },
        {
         "num": "3",
         "city": "Cambridge",
         "_deepnote_index_column": "2018-05-02 10:33:00"
        },
        {
         "num": "1",
         "city": "Cambridge",
         "_deepnote_index_column": "2018-05-02 10:34:00"
        },
        {
         "num": "4",
         "city": "Cambridge",
         "_deepnote_index_column": "2018-05-02 10:35:00"
        },
        {
         "num": "4",
         "city": "Cambridge",
         "_deepnote_index_column": "2018-05-02 10:36:00"
        },
        {
         "num": "3",
         "city": "Cambridge",
         "_deepnote_index_column": "2018-05-02 10:37:00"
        },
        {
         "num": "3",
         "city": "Cambridge",
         "_deepnote_index_column": "2018-05-02 10:38:00"
        },
        {
         "num": "2",
         "city": "Cambridge",
         "_deepnote_index_column": "2018-05-02 10:39:00"
        },
        {
         "num": "3",
         "city": "Cambridge",
         "_deepnote_index_column": "2018-05-02 10:40:00"
        },
        {
         "num": "3",
         "city": "Cambridge",
         "_deepnote_index_column": "2018-05-02 10:41:00"
        },
        {
         "num": "3",
         "city": "Cambridge",
         "_deepnote_index_column": "2018-05-02 10:42:00"
        },
        {
         "num": "3",
         "city": "Cambridge",
         "_deepnote_index_column": "2018-05-02 10:43:00"
        },
        {
         "num": "3",
         "city": "Cambridge",
         "_deepnote_index_column": "2018-05-02 10:44:00"
        },
        {
         "num": "1",
         "city": "Cambridge",
         "_deepnote_index_column": "2018-05-02 10:45:00"
        }
       ],
       "rows_bottom": null
      },
      "text/plain": "                     num       city\ndate                               \n2018-05-02 10:30:00    3     London\n2018-05-02 10:31:00    3     London\n2018-05-02 10:32:00    1     London\n2018-05-02 10:33:00    3     London\n2018-05-02 10:34:00    3     London\n...                  ...        ...\n2018-05-02 10:41:00    3  Cambridge\n2018-05-02 10:42:00    3  Cambridge\n2018-05-02 10:43:00    3  Cambridge\n2018-05-02 10:44:00    3  Cambridge\n2018-05-02 10:45:00    1  Cambridge\n\n[64 rows x 2 columns]",
      "text/html": "<div>\n<style scoped>\n    .dataframe tbody tr th:only-of-type {\n        vertical-align: middle;\n    }\n\n    .dataframe tbody tr th {\n        vertical-align: top;\n    }\n\n    .dataframe thead th {\n        text-align: right;\n    }\n</style>\n<table border=\"1\" class=\"dataframe\">\n  <thead>\n    <tr style=\"text-align: right;\">\n      <th></th>\n      <th>num</th>\n      <th>city</th>\n    </tr>\n    <tr>\n      <th>date</th>\n      <th></th>\n      <th></th>\n    </tr>\n  </thead>\n  <tbody>\n    <tr>\n      <th>2018-05-02 10:30:00</th>\n      <td>3</td>\n      <td>London</td>\n    </tr>\n    <tr>\n      <th>2018-05-02 10:31:00</th>\n      <td>3</td>\n      <td>London</td>\n    </tr>\n    <tr>\n      <th>2018-05-02 10:32:00</th>\n      <td>1</td>\n      <td>London</td>\n    </tr>\n    <tr>\n      <th>2018-05-02 10:33:00</th>\n      <td>3</td>\n      <td>London</td>\n    </tr>\n    <tr>\n      <th>2018-05-02 10:34:00</th>\n      <td>3</td>\n      <td>London</td>\n    </tr>\n    <tr>\n      <th>...</th>\n      <td>...</td>\n      <td>...</td>\n    </tr>\n    <tr>\n      <th>2018-05-02 10:41:00</th>\n      <td>3</td>\n      <td>Cambridge</td>\n    </tr>\n    <tr>\n      <th>2018-05-02 10:42:00</th>\n      <td>3</td>\n      <td>Cambridge</td>\n    </tr>\n    <tr>\n      <th>2018-05-02 10:43:00</th>\n      <td>3</td>\n      <td>Cambridge</td>\n    </tr>\n    <tr>\n      <th>2018-05-02 10:44:00</th>\n      <td>3</td>\n      <td>Cambridge</td>\n    </tr>\n    <tr>\n      <th>2018-05-02 10:45:00</th>\n      <td>1</td>\n      <td>Cambridge</td>\n    </tr>\n  </tbody>\n</table>\n<p>64 rows × 2 columns</p>\n</div>"
     },
     "metadata": {}
    }
   ]
  },
  {
   "cell_type": "markdown",
   "source": "### between 10:30 and 10:45",
   "metadata": {
    "tags": [],
    "is_collapsed": false,
    "cell_id": "00051-e73b5332-3597-451d-bbb0-eab0d8b65a55",
    "deepnote_cell_type": "text-cell-h3"
   }
  },
  {
   "cell_type": "code",
   "metadata": {
    "tags": [],
    "cell_id": "00052-892db1cb-845d-4fd3-82de-d084a6dee41e",
    "deepnote_to_be_reexecuted": false,
    "source_hash": "cba2b99f",
    "execution_start": 1627923056456,
    "execution_millis": 106,
    "deepnote_cell_type": "code"
   },
   "source": "df.between_time('10:30','10:45')",
   "execution_count": null,
   "outputs": [
    {
     "output_type": "execute_result",
     "execution_count": 190,
     "data": {
      "application/vnd.deepnote.dataframe.v2+json": {
       "row_count": 68224,
       "column_count": 2,
       "columns": [
        {
         "name": "num",
         "dtype": "int64",
         "stats": {
          "unique_count": 4,
          "nan_count": 0,
          "min": "1",
          "max": "4",
          "histogram": [
           {
            "bin_start": 1,
            "bin_end": 1.3,
            "count": 6572
           },
           {
            "bin_start": 1.3,
            "bin_end": 1.6,
            "count": 0
           },
           {
            "bin_start": 1.6,
            "bin_end": 1.9,
            "count": 0
           },
           {
            "bin_start": 1.9,
            "bin_end": 2.2,
            "count": 13642
           },
           {
            "bin_start": 2.2,
            "bin_end": 2.5,
            "count": 0
           },
           {
            "bin_start": 2.5,
            "bin_end": 2.8,
            "count": 0
           },
           {
            "bin_start": 2.8,
            "bin_end": 3.1,
            "count": 34224
           },
           {
            "bin_start": 3.1,
            "bin_end": 3.4,
            "count": 0
           },
           {
            "bin_start": 3.4,
            "bin_end": 3.6999999999999997,
            "count": 0
           },
           {
            "bin_start": 3.6999999999999997,
            "bin_end": 4,
            "count": 13786
           }
          ]
         }
        },
        {
         "name": "city",
         "dtype": "object"
        },
        {
         "name": "_deepnote_index_column",
         "dtype": "datetime64[ns]"
        }
       ],
       "rows_top": [
        {
         "num": 4,
         "city": "London",
         "_deepnote_index_column": "2015-01-01T10:30:00.000000"
        },
        {
         "num": 3,
         "city": "London",
         "_deepnote_index_column": "2015-01-01T10:31:00.000000"
        },
        {
         "num": 3,
         "city": "London",
         "_deepnote_index_column": "2015-01-01T10:32:00.000000"
        },
        {
         "num": 3,
         "city": "London",
         "_deepnote_index_column": "2015-01-01T10:33:00.000000"
        },
        {
         "num": 4,
         "city": "London",
         "_deepnote_index_column": "2015-01-01T10:34:00.000000"
        },
        {
         "num": 3,
         "city": "London",
         "_deepnote_index_column": "2015-01-01T10:35:00.000000"
        },
        {
         "num": 4,
         "city": "London",
         "_deepnote_index_column": "2015-01-01T10:36:00.000000"
        },
        {
         "num": 1,
         "city": "London",
         "_deepnote_index_column": "2015-01-01T10:37:00.000000"
        },
        {
         "num": 3,
         "city": "London",
         "_deepnote_index_column": "2015-01-01T10:38:00.000000"
        },
        {
         "num": 2,
         "city": "London",
         "_deepnote_index_column": "2015-01-01T10:39:00.000000"
        },
        {
         "num": 4,
         "city": "London",
         "_deepnote_index_column": "2015-01-01T10:40:00.000000"
        },
        {
         "num": 3,
         "city": "London",
         "_deepnote_index_column": "2015-01-01T10:41:00.000000"
        },
        {
         "num": 4,
         "city": "London",
         "_deepnote_index_column": "2015-01-01T10:42:00.000000"
        },
        {
         "num": 3,
         "city": "London",
         "_deepnote_index_column": "2015-01-01T10:43:00.000000"
        },
        {
         "num": 4,
         "city": "London",
         "_deepnote_index_column": "2015-01-01T10:44:00.000000"
        },
        {
         "num": 3,
         "city": "London",
         "_deepnote_index_column": "2015-01-01T10:45:00.000000"
        },
        {
         "num": 4,
         "city": "London",
         "_deepnote_index_column": "2015-01-02T10:30:00.000000"
        },
        {
         "num": 2,
         "city": "London",
         "_deepnote_index_column": "2015-01-02T10:31:00.000000"
        },
        {
         "num": 2,
         "city": "London",
         "_deepnote_index_column": "2015-01-02T10:32:00.000000"
        },
        {
         "num": 1,
         "city": "London",
         "_deepnote_index_column": "2015-01-02T10:33:00.000000"
        },
        {
         "num": 3,
         "city": "London",
         "_deepnote_index_column": "2015-01-02T10:34:00.000000"
        },
        {
         "num": 3,
         "city": "London",
         "_deepnote_index_column": "2015-01-02T10:35:00.000000"
        },
        {
         "num": 4,
         "city": "London",
         "_deepnote_index_column": "2015-01-02T10:36:00.000000"
        },
        {
         "num": 4,
         "city": "London",
         "_deepnote_index_column": "2015-01-02T10:37:00.000000"
        },
        {
         "num": 2,
         "city": "London",
         "_deepnote_index_column": "2015-01-02T10:38:00.000000"
        },
        {
         "num": 3,
         "city": "London",
         "_deepnote_index_column": "2015-01-02T10:39:00.000000"
        },
        {
         "num": 3,
         "city": "London",
         "_deepnote_index_column": "2015-01-02T10:40:00.000000"
        },
        {
         "num": 3,
         "city": "London",
         "_deepnote_index_column": "2015-01-02T10:41:00.000000"
        },
        {
         "num": 3,
         "city": "London",
         "_deepnote_index_column": "2015-01-02T10:42:00.000000"
        },
        {
         "num": 3,
         "city": "London",
         "_deepnote_index_column": "2015-01-02T10:43:00.000000"
        },
        {
         "num": 2,
         "city": "London",
         "_deepnote_index_column": "2015-01-02T10:44:00.000000"
        },
        {
         "num": 4,
         "city": "London",
         "_deepnote_index_column": "2015-01-02T10:45:00.000000"
        },
        {
         "num": 4,
         "city": "London",
         "_deepnote_index_column": "2015-01-05T10:30:00.000000"
        },
        {
         "num": 2,
         "city": "London",
         "_deepnote_index_column": "2015-01-05T10:31:00.000000"
        },
        {
         "num": 2,
         "city": "London",
         "_deepnote_index_column": "2015-01-05T10:32:00.000000"
        },
        {
         "num": 4,
         "city": "London",
         "_deepnote_index_column": "2015-01-05T10:33:00.000000"
        },
        {
         "num": 3,
         "city": "London",
         "_deepnote_index_column": "2015-01-05T10:34:00.000000"
        },
        {
         "num": 3,
         "city": "London",
         "_deepnote_index_column": "2015-01-05T10:35:00.000000"
        },
        {
         "num": 4,
         "city": "London",
         "_deepnote_index_column": "2015-01-05T10:36:00.000000"
        },
        {
         "num": 3,
         "city": "London",
         "_deepnote_index_column": "2015-01-05T10:37:00.000000"
        },
        {
         "num": 3,
         "city": "London",
         "_deepnote_index_column": "2015-01-05T10:38:00.000000"
        },
        {
         "num": 1,
         "city": "London",
         "_deepnote_index_column": "2015-01-05T10:39:00.000000"
        },
        {
         "num": 3,
         "city": "London",
         "_deepnote_index_column": "2015-01-05T10:40:00.000000"
        },
        {
         "num": 4,
         "city": "London",
         "_deepnote_index_column": "2015-01-05T10:41:00.000000"
        },
        {
         "num": 3,
         "city": "London",
         "_deepnote_index_column": "2015-01-05T10:42:00.000000"
        },
        {
         "num": 3,
         "city": "London",
         "_deepnote_index_column": "2015-01-05T10:43:00.000000"
        },
        {
         "num": 1,
         "city": "London",
         "_deepnote_index_column": "2015-01-05T10:44:00.000000"
        },
        {
         "num": 3,
         "city": "London",
         "_deepnote_index_column": "2015-01-05T10:45:00.000000"
        },
        {
         "num": 3,
         "city": "London",
         "_deepnote_index_column": "2015-01-06T10:30:00.000000"
        },
        {
         "num": 2,
         "city": "London",
         "_deepnote_index_column": "2015-01-06T10:31:00.000000"
        },
        {
         "num": 3,
         "city": "London",
         "_deepnote_index_column": "2015-01-06T10:32:00.000000"
        },
        {
         "num": 2,
         "city": "London",
         "_deepnote_index_column": "2015-01-06T10:33:00.000000"
        },
        {
         "num": 3,
         "city": "London",
         "_deepnote_index_column": "2015-01-06T10:34:00.000000"
        },
        {
         "num": 3,
         "city": "London",
         "_deepnote_index_column": "2015-01-06T10:35:00.000000"
        },
        {
         "num": 3,
         "city": "London",
         "_deepnote_index_column": "2015-01-06T10:36:00.000000"
        },
        {
         "num": 4,
         "city": "London",
         "_deepnote_index_column": "2015-01-06T10:37:00.000000"
        },
        {
         "num": 2,
         "city": "London",
         "_deepnote_index_column": "2015-01-06T10:38:00.000000"
        },
        {
         "num": 3,
         "city": "London",
         "_deepnote_index_column": "2015-01-06T10:39:00.000000"
        },
        {
         "num": 3,
         "city": "London",
         "_deepnote_index_column": "2015-01-06T10:40:00.000000"
        },
        {
         "num": 2,
         "city": "London",
         "_deepnote_index_column": "2015-01-06T10:41:00.000000"
        },
        {
         "num": 3,
         "city": "London",
         "_deepnote_index_column": "2015-01-06T10:42:00.000000"
        },
        {
         "num": 2,
         "city": "London",
         "_deepnote_index_column": "2015-01-06T10:43:00.000000"
        },
        {
         "num": 2,
         "city": "London",
         "_deepnote_index_column": "2015-01-06T10:44:00.000000"
        },
        {
         "num": 2,
         "city": "London",
         "_deepnote_index_column": "2015-01-06T10:45:00.000000"
        },
        {
         "num": 4,
         "city": "London",
         "_deepnote_index_column": "2015-01-07T10:30:00.000000"
        },
        {
         "num": 2,
         "city": "London",
         "_deepnote_index_column": "2015-01-07T10:31:00.000000"
        },
        {
         "num": 3,
         "city": "London",
         "_deepnote_index_column": "2015-01-07T10:32:00.000000"
        },
        {
         "num": 2,
         "city": "London",
         "_deepnote_index_column": "2015-01-07T10:33:00.000000"
        },
        {
         "num": 4,
         "city": "London",
         "_deepnote_index_column": "2015-01-07T10:34:00.000000"
        },
        {
         "num": 2,
         "city": "London",
         "_deepnote_index_column": "2015-01-07T10:35:00.000000"
        },
        {
         "num": 2,
         "city": "London",
         "_deepnote_index_column": "2015-01-07T10:36:00.000000"
        },
        {
         "num": 3,
         "city": "London",
         "_deepnote_index_column": "2015-01-07T10:37:00.000000"
        },
        {
         "num": 3,
         "city": "London",
         "_deepnote_index_column": "2015-01-07T10:38:00.000000"
        },
        {
         "num": 3,
         "city": "London",
         "_deepnote_index_column": "2015-01-07T10:39:00.000000"
        },
        {
         "num": 3,
         "city": "London",
         "_deepnote_index_column": "2015-01-07T10:40:00.000000"
        },
        {
         "num": 4,
         "city": "London",
         "_deepnote_index_column": "2015-01-07T10:41:00.000000"
        },
        {
         "num": 1,
         "city": "London",
         "_deepnote_index_column": "2015-01-07T10:42:00.000000"
        },
        {
         "num": 3,
         "city": "London",
         "_deepnote_index_column": "2015-01-07T10:43:00.000000"
        },
        {
         "num": 1,
         "city": "London",
         "_deepnote_index_column": "2015-01-07T10:44:00.000000"
        },
        {
         "num": 4,
         "city": "London",
         "_deepnote_index_column": "2015-01-07T10:45:00.000000"
        },
        {
         "num": 4,
         "city": "London",
         "_deepnote_index_column": "2015-01-08T10:30:00.000000"
        },
        {
         "num": 3,
         "city": "London",
         "_deepnote_index_column": "2015-01-08T10:31:00.000000"
        },
        {
         "num": 4,
         "city": "London",
         "_deepnote_index_column": "2015-01-08T10:32:00.000000"
        },
        {
         "num": 2,
         "city": "London",
         "_deepnote_index_column": "2015-01-08T10:33:00.000000"
        },
        {
         "num": 2,
         "city": "London",
         "_deepnote_index_column": "2015-01-08T10:34:00.000000"
        },
        {
         "num": 4,
         "city": "London",
         "_deepnote_index_column": "2015-01-08T10:35:00.000000"
        },
        {
         "num": 3,
         "city": "London",
         "_deepnote_index_column": "2015-01-08T10:36:00.000000"
        },
        {
         "num": 2,
         "city": "London",
         "_deepnote_index_column": "2015-01-08T10:37:00.000000"
        },
        {
         "num": 1,
         "city": "London",
         "_deepnote_index_column": "2015-01-08T10:38:00.000000"
        },
        {
         "num": 3,
         "city": "London",
         "_deepnote_index_column": "2015-01-08T10:39:00.000000"
        },
        {
         "num": 3,
         "city": "London",
         "_deepnote_index_column": "2015-01-08T10:40:00.000000"
        },
        {
         "num": 1,
         "city": "London",
         "_deepnote_index_column": "2015-01-08T10:41:00.000000"
        },
        {
         "num": 3,
         "city": "London",
         "_deepnote_index_column": "2015-01-08T10:42:00.000000"
        },
        {
         "num": 3,
         "city": "London",
         "_deepnote_index_column": "2015-01-08T10:43:00.000000"
        },
        {
         "num": 3,
         "city": "London",
         "_deepnote_index_column": "2015-01-08T10:44:00.000000"
        },
        {
         "num": 4,
         "city": "London",
         "_deepnote_index_column": "2015-01-08T10:45:00.000000"
        },
        {
         "num": 4,
         "city": "London",
         "_deepnote_index_column": "2015-01-09T10:30:00.000000"
        },
        {
         "num": 1,
         "city": "London",
         "_deepnote_index_column": "2015-01-09T10:31:00.000000"
        },
        {
         "num": 3,
         "city": "London",
         "_deepnote_index_column": "2015-01-09T10:32:00.000000"
        },
        {
         "num": 3,
         "city": "London",
         "_deepnote_index_column": "2015-01-09T10:33:00.000000"
        },
        {
         "num": 1,
         "city": "London",
         "_deepnote_index_column": "2015-01-09T10:34:00.000000"
        },
        {
         "num": 3,
         "city": "London",
         "_deepnote_index_column": "2015-01-09T10:35:00.000000"
        },
        {
         "num": 3,
         "city": "London",
         "_deepnote_index_column": "2015-01-09T10:36:00.000000"
        },
        {
         "num": 3,
         "city": "London",
         "_deepnote_index_column": "2015-01-09T10:37:00.000000"
        },
        {
         "num": 2,
         "city": "London",
         "_deepnote_index_column": "2015-01-09T10:38:00.000000"
        },
        {
         "num": 3,
         "city": "London",
         "_deepnote_index_column": "2015-01-09T10:39:00.000000"
        },
        {
         "num": 3,
         "city": "London",
         "_deepnote_index_column": "2015-01-09T10:40:00.000000"
        },
        {
         "num": 3,
         "city": "London",
         "_deepnote_index_column": "2015-01-09T10:41:00.000000"
        },
        {
         "num": 3,
         "city": "London",
         "_deepnote_index_column": "2015-01-09T10:42:00.000000"
        },
        {
         "num": 2,
         "city": "London",
         "_deepnote_index_column": "2015-01-09T10:43:00.000000"
        },
        {
         "num": 2,
         "city": "London",
         "_deepnote_index_column": "2015-01-09T10:44:00.000000"
        },
        {
         "num": 3,
         "city": "London",
         "_deepnote_index_column": "2015-01-09T10:45:00.000000"
        },
        {
         "num": 4,
         "city": "London",
         "_deepnote_index_column": "2015-01-12T10:30:00.000000"
        },
        {
         "num": 3,
         "city": "London",
         "_deepnote_index_column": "2015-01-12T10:31:00.000000"
        },
        {
         "num": 4,
         "city": "London",
         "_deepnote_index_column": "2015-01-12T10:32:00.000000"
        },
        {
         "num": 3,
         "city": "London",
         "_deepnote_index_column": "2015-01-12T10:33:00.000000"
        },
        {
         "num": 4,
         "city": "London",
         "_deepnote_index_column": "2015-01-12T10:34:00.000000"
        },
        {
         "num": 4,
         "city": "London",
         "_deepnote_index_column": "2015-01-12T10:35:00.000000"
        },
        {
         "num": 3,
         "city": "London",
         "_deepnote_index_column": "2015-01-12T10:36:00.000000"
        },
        {
         "num": 3,
         "city": "London",
         "_deepnote_index_column": "2015-01-12T10:37:00.000000"
        },
        {
         "num": 3,
         "city": "London",
         "_deepnote_index_column": "2015-01-12T10:38:00.000000"
        },
        {
         "num": 3,
         "city": "London",
         "_deepnote_index_column": "2015-01-12T10:39:00.000000"
        },
        {
         "num": 3,
         "city": "London",
         "_deepnote_index_column": "2015-01-12T10:40:00.000000"
        },
        {
         "num": 3,
         "city": "London",
         "_deepnote_index_column": "2015-01-12T10:41:00.000000"
        },
        {
         "num": 3,
         "city": "London",
         "_deepnote_index_column": "2015-01-12T10:42:00.000000"
        },
        {
         "num": 3,
         "city": "London",
         "_deepnote_index_column": "2015-01-12T10:43:00.000000"
        },
        {
         "num": 3,
         "city": "London",
         "_deepnote_index_column": "2015-01-12T10:44:00.000000"
        },
        {
         "num": 1,
         "city": "London",
         "_deepnote_index_column": "2015-01-12T10:45:00.000000"
        },
        {
         "num": 3,
         "city": "London",
         "_deepnote_index_column": "2015-01-13T10:30:00.000000"
        },
        {
         "num": 3,
         "city": "London",
         "_deepnote_index_column": "2015-01-13T10:31:00.000000"
        },
        {
         "num": 1,
         "city": "London",
         "_deepnote_index_column": "2015-01-13T10:32:00.000000"
        },
        {
         "num": 3,
         "city": "London",
         "_deepnote_index_column": "2015-01-13T10:33:00.000000"
        },
        {
         "num": 2,
         "city": "London",
         "_deepnote_index_column": "2015-01-13T10:34:00.000000"
        },
        {
         "num": 2,
         "city": "London",
         "_deepnote_index_column": "2015-01-13T10:35:00.000000"
        },
        {
         "num": 4,
         "city": "London",
         "_deepnote_index_column": "2015-01-13T10:36:00.000000"
        },
        {
         "num": 2,
         "city": "London",
         "_deepnote_index_column": "2015-01-13T10:37:00.000000"
        },
        {
         "num": 4,
         "city": "London",
         "_deepnote_index_column": "2015-01-13T10:38:00.000000"
        },
        {
         "num": 1,
         "city": "London",
         "_deepnote_index_column": "2015-01-13T10:39:00.000000"
        },
        {
         "num": 2,
         "city": "London",
         "_deepnote_index_column": "2015-01-13T10:40:00.000000"
        },
        {
         "num": 4,
         "city": "London",
         "_deepnote_index_column": "2015-01-13T10:41:00.000000"
        },
        {
         "num": 3,
         "city": "London",
         "_deepnote_index_column": "2015-01-13T10:42:00.000000"
        },
        {
         "num": 4,
         "city": "London",
         "_deepnote_index_column": "2015-01-13T10:43:00.000000"
        },
        {
         "num": 3,
         "city": "London",
         "_deepnote_index_column": "2015-01-13T10:44:00.000000"
        },
        {
         "num": 1,
         "city": "London",
         "_deepnote_index_column": "2015-01-13T10:45:00.000000"
        },
        {
         "num": 4,
         "city": "London",
         "_deepnote_index_column": "2015-01-14T10:30:00.000000"
        },
        {
         "num": 3,
         "city": "London",
         "_deepnote_index_column": "2015-01-14T10:31:00.000000"
        },
        {
         "num": 4,
         "city": "London",
         "_deepnote_index_column": "2015-01-14T10:32:00.000000"
        },
        {
         "num": 3,
         "city": "London",
         "_deepnote_index_column": "2015-01-14T10:33:00.000000"
        },
        {
         "num": 1,
         "city": "London",
         "_deepnote_index_column": "2015-01-14T10:34:00.000000"
        },
        {
         "num": 2,
         "city": "London",
         "_deepnote_index_column": "2015-01-14T10:35:00.000000"
        },
        {
         "num": 3,
         "city": "London",
         "_deepnote_index_column": "2015-01-14T10:36:00.000000"
        },
        {
         "num": 3,
         "city": "London",
         "_deepnote_index_column": "2015-01-14T10:37:00.000000"
        },
        {
         "num": 3,
         "city": "London",
         "_deepnote_index_column": "2015-01-14T10:38:00.000000"
        },
        {
         "num": 3,
         "city": "London",
         "_deepnote_index_column": "2015-01-14T10:39:00.000000"
        },
        {
         "num": 1,
         "city": "London",
         "_deepnote_index_column": "2015-01-14T10:40:00.000000"
        },
        {
         "num": 3,
         "city": "London",
         "_deepnote_index_column": "2015-01-14T10:41:00.000000"
        },
        {
         "num": 2,
         "city": "London",
         "_deepnote_index_column": "2015-01-14T10:42:00.000000"
        },
        {
         "num": 2,
         "city": "London",
         "_deepnote_index_column": "2015-01-14T10:43:00.000000"
        },
        {
         "num": 3,
         "city": "London",
         "_deepnote_index_column": "2015-01-14T10:44:00.000000"
        },
        {
         "num": 3,
         "city": "London",
         "_deepnote_index_column": "2015-01-14T10:45:00.000000"
        },
        {
         "num": 1,
         "city": "London",
         "_deepnote_index_column": "2015-01-15T10:30:00.000000"
        },
        {
         "num": 2,
         "city": "London",
         "_deepnote_index_column": "2015-01-15T10:31:00.000000"
        },
        {
         "num": 3,
         "city": "London",
         "_deepnote_index_column": "2015-01-15T10:32:00.000000"
        },
        {
         "num": 3,
         "city": "London",
         "_deepnote_index_column": "2015-01-15T10:33:00.000000"
        },
        {
         "num": 4,
         "city": "London",
         "_deepnote_index_column": "2015-01-15T10:34:00.000000"
        },
        {
         "num": 3,
         "city": "London",
         "_deepnote_index_column": "2015-01-15T10:35:00.000000"
        },
        {
         "num": 1,
         "city": "London",
         "_deepnote_index_column": "2015-01-15T10:36:00.000000"
        },
        {
         "num": 2,
         "city": "London",
         "_deepnote_index_column": "2015-01-15T10:37:00.000000"
        },
        {
         "num": 3,
         "city": "London",
         "_deepnote_index_column": "2015-01-15T10:38:00.000000"
        },
        {
         "num": 2,
         "city": "London",
         "_deepnote_index_column": "2015-01-15T10:39:00.000000"
        },
        {
         "num": 2,
         "city": "London",
         "_deepnote_index_column": "2015-01-15T10:40:00.000000"
        },
        {
         "num": 3,
         "city": "London",
         "_deepnote_index_column": "2015-01-15T10:41:00.000000"
        },
        {
         "num": 2,
         "city": "London",
         "_deepnote_index_column": "2015-01-15T10:42:00.000000"
        },
        {
         "num": 2,
         "city": "London",
         "_deepnote_index_column": "2015-01-15T10:43:00.000000"
        },
        {
         "num": 3,
         "city": "London",
         "_deepnote_index_column": "2015-01-15T10:44:00.000000"
        },
        {
         "num": 3,
         "city": "London",
         "_deepnote_index_column": "2015-01-15T10:45:00.000000"
        },
        {
         "num": 1,
         "city": "London",
         "_deepnote_index_column": "2015-01-16T10:30:00.000000"
        },
        {
         "num": 3,
         "city": "London",
         "_deepnote_index_column": "2015-01-16T10:31:00.000000"
        },
        {
         "num": 2,
         "city": "London",
         "_deepnote_index_column": "2015-01-16T10:32:00.000000"
        },
        {
         "num": 3,
         "city": "London",
         "_deepnote_index_column": "2015-01-16T10:33:00.000000"
        },
        {
         "num": 3,
         "city": "London",
         "_deepnote_index_column": "2015-01-16T10:34:00.000000"
        },
        {
         "num": 2,
         "city": "London",
         "_deepnote_index_column": "2015-01-16T10:35:00.000000"
        },
        {
         "num": 4,
         "city": "London",
         "_deepnote_index_column": "2015-01-16T10:36:00.000000"
        },
        {
         "num": 1,
         "city": "London",
         "_deepnote_index_column": "2015-01-16T10:37:00.000000"
        },
        {
         "num": 3,
         "city": "London",
         "_deepnote_index_column": "2015-01-16T10:38:00.000000"
        },
        {
         "num": 4,
         "city": "London",
         "_deepnote_index_column": "2015-01-16T10:39:00.000000"
        },
        {
         "num": 3,
         "city": "London",
         "_deepnote_index_column": "2015-01-16T10:40:00.000000"
        },
        {
         "num": 3,
         "city": "London",
         "_deepnote_index_column": "2015-01-16T10:41:00.000000"
        },
        {
         "num": 3,
         "city": "London",
         "_deepnote_index_column": "2015-01-16T10:42:00.000000"
        },
        {
         "num": 2,
         "city": "London",
         "_deepnote_index_column": "2015-01-16T10:43:00.000000"
        },
        {
         "num": 3,
         "city": "London",
         "_deepnote_index_column": "2015-01-16T10:44:00.000000"
        },
        {
         "num": 3,
         "city": "London",
         "_deepnote_index_column": "2015-01-16T10:45:00.000000"
        },
        {
         "num": 3,
         "city": "London",
         "_deepnote_index_column": "2015-01-19T10:30:00.000000"
        },
        {
         "num": 3,
         "city": "London",
         "_deepnote_index_column": "2015-01-19T10:31:00.000000"
        },
        {
         "num": 2,
         "city": "London",
         "_deepnote_index_column": "2015-01-19T10:32:00.000000"
        },
        {
         "num": 1,
         "city": "London",
         "_deepnote_index_column": "2015-01-19T10:33:00.000000"
        },
        {
         "num": 1,
         "city": "London",
         "_deepnote_index_column": "2015-01-19T10:34:00.000000"
        },
        {
         "num": 1,
         "city": "London",
         "_deepnote_index_column": "2015-01-19T10:35:00.000000"
        },
        {
         "num": 3,
         "city": "London",
         "_deepnote_index_column": "2015-01-19T10:36:00.000000"
        },
        {
         "num": 1,
         "city": "London",
         "_deepnote_index_column": "2015-01-19T10:37:00.000000"
        },
        {
         "num": 3,
         "city": "London",
         "_deepnote_index_column": "2015-01-19T10:38:00.000000"
        },
        {
         "num": 3,
         "city": "London",
         "_deepnote_index_column": "2015-01-19T10:39:00.000000"
        },
        {
         "num": 4,
         "city": "London",
         "_deepnote_index_column": "2015-01-19T10:40:00.000000"
        },
        {
         "num": 3,
         "city": "London",
         "_deepnote_index_column": "2015-01-19T10:41:00.000000"
        },
        {
         "num": 4,
         "city": "London",
         "_deepnote_index_column": "2015-01-19T10:42:00.000000"
        },
        {
         "num": 2,
         "city": "London",
         "_deepnote_index_column": "2015-01-19T10:43:00.000000"
        },
        {
         "num": 3,
         "city": "London",
         "_deepnote_index_column": "2015-01-19T10:44:00.000000"
        },
        {
         "num": 2,
         "city": "London",
         "_deepnote_index_column": "2015-01-19T10:45:00.000000"
        },
        {
         "num": 3,
         "city": "London",
         "_deepnote_index_column": "2015-01-20T10:30:00.000000"
        },
        {
         "num": 3,
         "city": "London",
         "_deepnote_index_column": "2015-01-20T10:31:00.000000"
        },
        {
         "num": 4,
         "city": "London",
         "_deepnote_index_column": "2015-01-20T10:32:00.000000"
        },
        {
         "num": 3,
         "city": "London",
         "_deepnote_index_column": "2015-01-20T10:33:00.000000"
        },
        {
         "num": 3,
         "city": "London",
         "_deepnote_index_column": "2015-01-20T10:34:00.000000"
        },
        {
         "num": 3,
         "city": "London",
         "_deepnote_index_column": "2015-01-20T10:35:00.000000"
        },
        {
         "num": 1,
         "city": "London",
         "_deepnote_index_column": "2015-01-20T10:36:00.000000"
        },
        {
         "num": 3,
         "city": "London",
         "_deepnote_index_column": "2015-01-20T10:37:00.000000"
        },
        {
         "num": 3,
         "city": "London",
         "_deepnote_index_column": "2015-01-20T10:38:00.000000"
        },
        {
         "num": 3,
         "city": "London",
         "_deepnote_index_column": "2015-01-20T10:39:00.000000"
        },
        {
         "num": 4,
         "city": "London",
         "_deepnote_index_column": "2015-01-20T10:40:00.000000"
        },
        {
         "num": 3,
         "city": "London",
         "_deepnote_index_column": "2015-01-20T10:41:00.000000"
        },
        {
         "num": 2,
         "city": "London",
         "_deepnote_index_column": "2015-01-20T10:42:00.000000"
        },
        {
         "num": 3,
         "city": "London",
         "_deepnote_index_column": "2015-01-20T10:43:00.000000"
        },
        {
         "num": 4,
         "city": "London",
         "_deepnote_index_column": "2015-01-20T10:44:00.000000"
        },
        {
         "num": 4,
         "city": "London",
         "_deepnote_index_column": "2015-01-20T10:45:00.000000"
        },
        {
         "num": 3,
         "city": "London",
         "_deepnote_index_column": "2015-01-21T10:30:00.000000"
        },
        {
         "num": 2,
         "city": "London",
         "_deepnote_index_column": "2015-01-21T10:31:00.000000"
        },
        {
         "num": 3,
         "city": "London",
         "_deepnote_index_column": "2015-01-21T10:32:00.000000"
        },
        {
         "num": 1,
         "city": "London",
         "_deepnote_index_column": "2015-01-21T10:33:00.000000"
        },
        {
         "num": 3,
         "city": "London",
         "_deepnote_index_column": "2015-01-21T10:34:00.000000"
        },
        {
         "num": 3,
         "city": "London",
         "_deepnote_index_column": "2015-01-21T10:35:00.000000"
        },
        {
         "num": 2,
         "city": "London",
         "_deepnote_index_column": "2015-01-21T10:36:00.000000"
        },
        {
         "num": 3,
         "city": "London",
         "_deepnote_index_column": "2015-01-21T10:37:00.000000"
        },
        {
         "num": 3,
         "city": "London",
         "_deepnote_index_column": "2015-01-21T10:38:00.000000"
        },
        {
         "num": 3,
         "city": "London",
         "_deepnote_index_column": "2015-01-21T10:39:00.000000"
        },
        {
         "num": 4,
         "city": "London",
         "_deepnote_index_column": "2015-01-21T10:40:00.000000"
        },
        {
         "num": 3,
         "city": "London",
         "_deepnote_index_column": "2015-01-21T10:41:00.000000"
        },
        {
         "num": 4,
         "city": "London",
         "_deepnote_index_column": "2015-01-21T10:42:00.000000"
        },
        {
         "num": 4,
         "city": "London",
         "_deepnote_index_column": "2015-01-21T10:43:00.000000"
        },
        {
         "num": 3,
         "city": "London",
         "_deepnote_index_column": "2015-01-21T10:44:00.000000"
        },
        {
         "num": 4,
         "city": "London",
         "_deepnote_index_column": "2015-01-21T10:45:00.000000"
        },
        {
         "num": 3,
         "city": "London",
         "_deepnote_index_column": "2015-01-22T10:30:00.000000"
        },
        {
         "num": 1,
         "city": "London",
         "_deepnote_index_column": "2015-01-22T10:31:00.000000"
        },
        {
         "num": 1,
         "city": "London",
         "_deepnote_index_column": "2015-01-22T10:32:00.000000"
        },
        {
         "num": 2,
         "city": "London",
         "_deepnote_index_column": "2015-01-22T10:33:00.000000"
        },
        {
         "num": 4,
         "city": "London",
         "_deepnote_index_column": "2015-01-22T10:34:00.000000"
        },
        {
         "num": 4,
         "city": "London",
         "_deepnote_index_column": "2015-01-22T10:35:00.000000"
        },
        {
         "num": 2,
         "city": "London",
         "_deepnote_index_column": "2015-01-22T10:36:00.000000"
        },
        {
         "num": 4,
         "city": "London",
         "_deepnote_index_column": "2015-01-22T10:37:00.000000"
        },
        {
         "num": 2,
         "city": "London",
         "_deepnote_index_column": "2015-01-22T10:38:00.000000"
        },
        {
         "num": 4,
         "city": "London",
         "_deepnote_index_column": "2015-01-22T10:39:00.000000"
        }
       ],
       "rows_bottom": [
        {
         "num": 1,
         "city": "Cambridge",
         "_deepnote_index_column": "2019-01-10T10:36:00.000000"
        },
        {
         "num": 3,
         "city": "Cambridge",
         "_deepnote_index_column": "2019-01-10T10:37:00.000000"
        },
        {
         "num": 3,
         "city": "Cambridge",
         "_deepnote_index_column": "2019-01-10T10:38:00.000000"
        },
        {
         "num": 3,
         "city": "Cambridge",
         "_deepnote_index_column": "2019-01-10T10:39:00.000000"
        },
        {
         "num": 3,
         "city": "Cambridge",
         "_deepnote_index_column": "2019-01-10T10:40:00.000000"
        },
        {
         "num": 2,
         "city": "Cambridge",
         "_deepnote_index_column": "2019-01-10T10:41:00.000000"
        },
        {
         "num": 2,
         "city": "Cambridge",
         "_deepnote_index_column": "2019-01-10T10:42:00.000000"
        },
        {
         "num": 3,
         "city": "Cambridge",
         "_deepnote_index_column": "2019-01-10T10:43:00.000000"
        },
        {
         "num": 3,
         "city": "Cambridge",
         "_deepnote_index_column": "2019-01-10T10:44:00.000000"
        },
        {
         "num": 1,
         "city": "Cambridge",
         "_deepnote_index_column": "2019-01-10T10:45:00.000000"
        },
        {
         "num": 3,
         "city": "Cambridge",
         "_deepnote_index_column": "2019-01-11T10:30:00.000000"
        },
        {
         "num": 2,
         "city": "Cambridge",
         "_deepnote_index_column": "2019-01-11T10:31:00.000000"
        },
        {
         "num": 3,
         "city": "Cambridge",
         "_deepnote_index_column": "2019-01-11T10:32:00.000000"
        },
        {
         "num": 3,
         "city": "Cambridge",
         "_deepnote_index_column": "2019-01-11T10:33:00.000000"
        },
        {
         "num": 3,
         "city": "Cambridge",
         "_deepnote_index_column": "2019-01-11T10:34:00.000000"
        },
        {
         "num": 4,
         "city": "Cambridge",
         "_deepnote_index_column": "2019-01-11T10:35:00.000000"
        },
        {
         "num": 2,
         "city": "Cambridge",
         "_deepnote_index_column": "2019-01-11T10:36:00.000000"
        },
        {
         "num": 3,
         "city": "Cambridge",
         "_deepnote_index_column": "2019-01-11T10:37:00.000000"
        },
        {
         "num": 3,
         "city": "Cambridge",
         "_deepnote_index_column": "2019-01-11T10:38:00.000000"
        },
        {
         "num": 3,
         "city": "Cambridge",
         "_deepnote_index_column": "2019-01-11T10:39:00.000000"
        },
        {
         "num": 4,
         "city": "Cambridge",
         "_deepnote_index_column": "2019-01-11T10:40:00.000000"
        },
        {
         "num": 3,
         "city": "Cambridge",
         "_deepnote_index_column": "2019-01-11T10:41:00.000000"
        },
        {
         "num": 3,
         "city": "Cambridge",
         "_deepnote_index_column": "2019-01-11T10:42:00.000000"
        },
        {
         "num": 2,
         "city": "Cambridge",
         "_deepnote_index_column": "2019-01-11T10:43:00.000000"
        },
        {
         "num": 3,
         "city": "Cambridge",
         "_deepnote_index_column": "2019-01-11T10:44:00.000000"
        },
        {
         "num": 1,
         "city": "Cambridge",
         "_deepnote_index_column": "2019-01-11T10:45:00.000000"
        },
        {
         "num": 3,
         "city": "Cambridge",
         "_deepnote_index_column": "2019-01-14T10:30:00.000000"
        },
        {
         "num": 4,
         "city": "Cambridge",
         "_deepnote_index_column": "2019-01-14T10:31:00.000000"
        },
        {
         "num": 2,
         "city": "Cambridge",
         "_deepnote_index_column": "2019-01-14T10:32:00.000000"
        },
        {
         "num": 4,
         "city": "Cambridge",
         "_deepnote_index_column": "2019-01-14T10:33:00.000000"
        },
        {
         "num": 3,
         "city": "Cambridge",
         "_deepnote_index_column": "2019-01-14T10:34:00.000000"
        },
        {
         "num": 2,
         "city": "Cambridge",
         "_deepnote_index_column": "2019-01-14T10:35:00.000000"
        },
        {
         "num": 2,
         "city": "Cambridge",
         "_deepnote_index_column": "2019-01-14T10:36:00.000000"
        },
        {
         "num": 3,
         "city": "Cambridge",
         "_deepnote_index_column": "2019-01-14T10:37:00.000000"
        },
        {
         "num": 1,
         "city": "Cambridge",
         "_deepnote_index_column": "2019-01-14T10:38:00.000000"
        },
        {
         "num": 4,
         "city": "Cambridge",
         "_deepnote_index_column": "2019-01-14T10:39:00.000000"
        },
        {
         "num": 2,
         "city": "Cambridge",
         "_deepnote_index_column": "2019-01-14T10:40:00.000000"
        },
        {
         "num": 3,
         "city": "Cambridge",
         "_deepnote_index_column": "2019-01-14T10:41:00.000000"
        },
        {
         "num": 2,
         "city": "Cambridge",
         "_deepnote_index_column": "2019-01-14T10:42:00.000000"
        },
        {
         "num": 3,
         "city": "Cambridge",
         "_deepnote_index_column": "2019-01-14T10:43:00.000000"
        },
        {
         "num": 3,
         "city": "Cambridge",
         "_deepnote_index_column": "2019-01-14T10:44:00.000000"
        },
        {
         "num": 2,
         "city": "Cambridge",
         "_deepnote_index_column": "2019-01-14T10:45:00.000000"
        },
        {
         "num": 1,
         "city": "Cambridge",
         "_deepnote_index_column": "2019-01-15T10:30:00.000000"
        },
        {
         "num": 3,
         "city": "Cambridge",
         "_deepnote_index_column": "2019-01-15T10:31:00.000000"
        },
        {
         "num": 4,
         "city": "Cambridge",
         "_deepnote_index_column": "2019-01-15T10:32:00.000000"
        },
        {
         "num": 4,
         "city": "Cambridge",
         "_deepnote_index_column": "2019-01-15T10:33:00.000000"
        },
        {
         "num": 3,
         "city": "Cambridge",
         "_deepnote_index_column": "2019-01-15T10:34:00.000000"
        },
        {
         "num": 3,
         "city": "Cambridge",
         "_deepnote_index_column": "2019-01-15T10:35:00.000000"
        },
        {
         "num": 3,
         "city": "Cambridge",
         "_deepnote_index_column": "2019-01-15T10:36:00.000000"
        },
        {
         "num": 3,
         "city": "Cambridge",
         "_deepnote_index_column": "2019-01-15T10:37:00.000000"
        },
        {
         "num": 4,
         "city": "Cambridge",
         "_deepnote_index_column": "2019-01-15T10:38:00.000000"
        },
        {
         "num": 4,
         "city": "Cambridge",
         "_deepnote_index_column": "2019-01-15T10:39:00.000000"
        },
        {
         "num": 4,
         "city": "Cambridge",
         "_deepnote_index_column": "2019-01-15T10:40:00.000000"
        },
        {
         "num": 4,
         "city": "Cambridge",
         "_deepnote_index_column": "2019-01-15T10:41:00.000000"
        },
        {
         "num": 3,
         "city": "Cambridge",
         "_deepnote_index_column": "2019-01-15T10:42:00.000000"
        },
        {
         "num": 1,
         "city": "Cambridge",
         "_deepnote_index_column": "2019-01-15T10:43:00.000000"
        },
        {
         "num": 2,
         "city": "Cambridge",
         "_deepnote_index_column": "2019-01-15T10:44:00.000000"
        },
        {
         "num": 3,
         "city": "Cambridge",
         "_deepnote_index_column": "2019-01-15T10:45:00.000000"
        },
        {
         "num": 4,
         "city": "Cambridge",
         "_deepnote_index_column": "2019-01-16T10:30:00.000000"
        },
        {
         "num": 3,
         "city": "Cambridge",
         "_deepnote_index_column": "2019-01-16T10:31:00.000000"
        },
        {
         "num": 3,
         "city": "Cambridge",
         "_deepnote_index_column": "2019-01-16T10:32:00.000000"
        },
        {
         "num": 2,
         "city": "Cambridge",
         "_deepnote_index_column": "2019-01-16T10:33:00.000000"
        },
        {
         "num": 3,
         "city": "Cambridge",
         "_deepnote_index_column": "2019-01-16T10:34:00.000000"
        },
        {
         "num": 2,
         "city": "Cambridge",
         "_deepnote_index_column": "2019-01-16T10:35:00.000000"
        },
        {
         "num": 3,
         "city": "Cambridge",
         "_deepnote_index_column": "2019-01-16T10:36:00.000000"
        },
        {
         "num": 3,
         "city": "Cambridge",
         "_deepnote_index_column": "2019-01-16T10:37:00.000000"
        },
        {
         "num": 3,
         "city": "Cambridge",
         "_deepnote_index_column": "2019-01-16T10:38:00.000000"
        },
        {
         "num": 3,
         "city": "Cambridge",
         "_deepnote_index_column": "2019-01-16T10:39:00.000000"
        },
        {
         "num": 3,
         "city": "Cambridge",
         "_deepnote_index_column": "2019-01-16T10:40:00.000000"
        },
        {
         "num": 3,
         "city": "Cambridge",
         "_deepnote_index_column": "2019-01-16T10:41:00.000000"
        },
        {
         "num": 3,
         "city": "Cambridge",
         "_deepnote_index_column": "2019-01-16T10:42:00.000000"
        },
        {
         "num": 1,
         "city": "Cambridge",
         "_deepnote_index_column": "2019-01-16T10:43:00.000000"
        },
        {
         "num": 4,
         "city": "Cambridge",
         "_deepnote_index_column": "2019-01-16T10:44:00.000000"
        },
        {
         "num": 3,
         "city": "Cambridge",
         "_deepnote_index_column": "2019-01-16T10:45:00.000000"
        },
        {
         "num": 3,
         "city": "Cambridge",
         "_deepnote_index_column": "2019-01-17T10:30:00.000000"
        },
        {
         "num": 3,
         "city": "Cambridge",
         "_deepnote_index_column": "2019-01-17T10:31:00.000000"
        },
        {
         "num": 2,
         "city": "Cambridge",
         "_deepnote_index_column": "2019-01-17T10:32:00.000000"
        },
        {
         "num": 4,
         "city": "Cambridge",
         "_deepnote_index_column": "2019-01-17T10:33:00.000000"
        },
        {
         "num": 3,
         "city": "Cambridge",
         "_deepnote_index_column": "2019-01-17T10:34:00.000000"
        },
        {
         "num": 4,
         "city": "Cambridge",
         "_deepnote_index_column": "2019-01-17T10:35:00.000000"
        },
        {
         "num": 4,
         "city": "Cambridge",
         "_deepnote_index_column": "2019-01-17T10:36:00.000000"
        },
        {
         "num": 4,
         "city": "Cambridge",
         "_deepnote_index_column": "2019-01-17T10:37:00.000000"
        },
        {
         "num": 3,
         "city": "Cambridge",
         "_deepnote_index_column": "2019-01-17T10:38:00.000000"
        },
        {
         "num": 4,
         "city": "Cambridge",
         "_deepnote_index_column": "2019-01-17T10:39:00.000000"
        },
        {
         "num": 3,
         "city": "Cambridge",
         "_deepnote_index_column": "2019-01-17T10:40:00.000000"
        },
        {
         "num": 3,
         "city": "Cambridge",
         "_deepnote_index_column": "2019-01-17T10:41:00.000000"
        },
        {
         "num": 3,
         "city": "Cambridge",
         "_deepnote_index_column": "2019-01-17T10:42:00.000000"
        },
        {
         "num": 3,
         "city": "Cambridge",
         "_deepnote_index_column": "2019-01-17T10:43:00.000000"
        },
        {
         "num": 3,
         "city": "Cambridge",
         "_deepnote_index_column": "2019-01-17T10:44:00.000000"
        },
        {
         "num": 4,
         "city": "Cambridge",
         "_deepnote_index_column": "2019-01-17T10:45:00.000000"
        },
        {
         "num": 3,
         "city": "Cambridge",
         "_deepnote_index_column": "2019-01-18T10:30:00.000000"
        },
        {
         "num": 3,
         "city": "Cambridge",
         "_deepnote_index_column": "2019-01-18T10:31:00.000000"
        },
        {
         "num": 3,
         "city": "Cambridge",
         "_deepnote_index_column": "2019-01-18T10:32:00.000000"
        },
        {
         "num": 3,
         "city": "Cambridge",
         "_deepnote_index_column": "2019-01-18T10:33:00.000000"
        },
        {
         "num": 4,
         "city": "Cambridge",
         "_deepnote_index_column": "2019-01-18T10:34:00.000000"
        },
        {
         "num": 2,
         "city": "Cambridge",
         "_deepnote_index_column": "2019-01-18T10:35:00.000000"
        },
        {
         "num": 1,
         "city": "Cambridge",
         "_deepnote_index_column": "2019-01-18T10:36:00.000000"
        },
        {
         "num": 4,
         "city": "Cambridge",
         "_deepnote_index_column": "2019-01-18T10:37:00.000000"
        },
        {
         "num": 3,
         "city": "Cambridge",
         "_deepnote_index_column": "2019-01-18T10:38:00.000000"
        },
        {
         "num": 3,
         "city": "Cambridge",
         "_deepnote_index_column": "2019-01-18T10:39:00.000000"
        },
        {
         "num": 4,
         "city": "Cambridge",
         "_deepnote_index_column": "2019-01-18T10:40:00.000000"
        },
        {
         "num": 1,
         "city": "Cambridge",
         "_deepnote_index_column": "2019-01-18T10:41:00.000000"
        },
        {
         "num": 3,
         "city": "Cambridge",
         "_deepnote_index_column": "2019-01-18T10:42:00.000000"
        },
        {
         "num": 2,
         "city": "Cambridge",
         "_deepnote_index_column": "2019-01-18T10:43:00.000000"
        },
        {
         "num": 3,
         "city": "Cambridge",
         "_deepnote_index_column": "2019-01-18T10:44:00.000000"
        },
        {
         "num": 3,
         "city": "Cambridge",
         "_deepnote_index_column": "2019-01-18T10:45:00.000000"
        },
        {
         "num": 3,
         "city": "Cambridge",
         "_deepnote_index_column": "2019-01-21T10:30:00.000000"
        },
        {
         "num": 1,
         "city": "Cambridge",
         "_deepnote_index_column": "2019-01-21T10:31:00.000000"
        },
        {
         "num": 4,
         "city": "Cambridge",
         "_deepnote_index_column": "2019-01-21T10:32:00.000000"
        },
        {
         "num": 3,
         "city": "Cambridge",
         "_deepnote_index_column": "2019-01-21T10:33:00.000000"
        },
        {
         "num": 3,
         "city": "Cambridge",
         "_deepnote_index_column": "2019-01-21T10:34:00.000000"
        },
        {
         "num": 3,
         "city": "Cambridge",
         "_deepnote_index_column": "2019-01-21T10:35:00.000000"
        },
        {
         "num": 3,
         "city": "Cambridge",
         "_deepnote_index_column": "2019-01-21T10:36:00.000000"
        },
        {
         "num": 3,
         "city": "Cambridge",
         "_deepnote_index_column": "2019-01-21T10:37:00.000000"
        },
        {
         "num": 3,
         "city": "Cambridge",
         "_deepnote_index_column": "2019-01-21T10:38:00.000000"
        },
        {
         "num": 2,
         "city": "Cambridge",
         "_deepnote_index_column": "2019-01-21T10:39:00.000000"
        },
        {
         "num": 2,
         "city": "Cambridge",
         "_deepnote_index_column": "2019-01-21T10:40:00.000000"
        },
        {
         "num": 2,
         "city": "Cambridge",
         "_deepnote_index_column": "2019-01-21T10:41:00.000000"
        },
        {
         "num": 4,
         "city": "Cambridge",
         "_deepnote_index_column": "2019-01-21T10:42:00.000000"
        },
        {
         "num": 4,
         "city": "Cambridge",
         "_deepnote_index_column": "2019-01-21T10:43:00.000000"
        },
        {
         "num": 3,
         "city": "Cambridge",
         "_deepnote_index_column": "2019-01-21T10:44:00.000000"
        },
        {
         "num": 2,
         "city": "Cambridge",
         "_deepnote_index_column": "2019-01-21T10:45:00.000000"
        },
        {
         "num": 1,
         "city": "Cambridge",
         "_deepnote_index_column": "2019-01-22T10:30:00.000000"
        },
        {
         "num": 3,
         "city": "Cambridge",
         "_deepnote_index_column": "2019-01-22T10:31:00.000000"
        },
        {
         "num": 3,
         "city": "Cambridge",
         "_deepnote_index_column": "2019-01-22T10:32:00.000000"
        },
        {
         "num": 1,
         "city": "Cambridge",
         "_deepnote_index_column": "2019-01-22T10:33:00.000000"
        },
        {
         "num": 1,
         "city": "Cambridge",
         "_deepnote_index_column": "2019-01-22T10:34:00.000000"
        },
        {
         "num": 2,
         "city": "Cambridge",
         "_deepnote_index_column": "2019-01-22T10:35:00.000000"
        },
        {
         "num": 3,
         "city": "Cambridge",
         "_deepnote_index_column": "2019-01-22T10:36:00.000000"
        },
        {
         "num": 3,
         "city": "Cambridge",
         "_deepnote_index_column": "2019-01-22T10:37:00.000000"
        },
        {
         "num": 3,
         "city": "Cambridge",
         "_deepnote_index_column": "2019-01-22T10:38:00.000000"
        },
        {
         "num": 2,
         "city": "Cambridge",
         "_deepnote_index_column": "2019-01-22T10:39:00.000000"
        },
        {
         "num": 2,
         "city": "Cambridge",
         "_deepnote_index_column": "2019-01-22T10:40:00.000000"
        },
        {
         "num": 2,
         "city": "Cambridge",
         "_deepnote_index_column": "2019-01-22T10:41:00.000000"
        },
        {
         "num": 3,
         "city": "Cambridge",
         "_deepnote_index_column": "2019-01-22T10:42:00.000000"
        },
        {
         "num": 3,
         "city": "Cambridge",
         "_deepnote_index_column": "2019-01-22T10:43:00.000000"
        },
        {
         "num": 3,
         "city": "Cambridge",
         "_deepnote_index_column": "2019-01-22T10:44:00.000000"
        },
        {
         "num": 3,
         "city": "Cambridge",
         "_deepnote_index_column": "2019-01-22T10:45:00.000000"
        },
        {
         "num": 2,
         "city": "Cambridge",
         "_deepnote_index_column": "2019-01-23T10:30:00.000000"
        },
        {
         "num": 3,
         "city": "Cambridge",
         "_deepnote_index_column": "2019-01-23T10:31:00.000000"
        },
        {
         "num": 1,
         "city": "Cambridge",
         "_deepnote_index_column": "2019-01-23T10:32:00.000000"
        },
        {
         "num": 4,
         "city": "Cambridge",
         "_deepnote_index_column": "2019-01-23T10:33:00.000000"
        },
        {
         "num": 2,
         "city": "Cambridge",
         "_deepnote_index_column": "2019-01-23T10:34:00.000000"
        },
        {
         "num": 3,
         "city": "Cambridge",
         "_deepnote_index_column": "2019-01-23T10:35:00.000000"
        },
        {
         "num": 1,
         "city": "Cambridge",
         "_deepnote_index_column": "2019-01-23T10:36:00.000000"
        },
        {
         "num": 2,
         "city": "Cambridge",
         "_deepnote_index_column": "2019-01-23T10:37:00.000000"
        },
        {
         "num": 4,
         "city": "Cambridge",
         "_deepnote_index_column": "2019-01-23T10:38:00.000000"
        },
        {
         "num": 2,
         "city": "Cambridge",
         "_deepnote_index_column": "2019-01-23T10:39:00.000000"
        },
        {
         "num": 3,
         "city": "Cambridge",
         "_deepnote_index_column": "2019-01-23T10:40:00.000000"
        },
        {
         "num": 3,
         "city": "Cambridge",
         "_deepnote_index_column": "2019-01-23T10:41:00.000000"
        },
        {
         "num": 4,
         "city": "Cambridge",
         "_deepnote_index_column": "2019-01-23T10:42:00.000000"
        },
        {
         "num": 4,
         "city": "Cambridge",
         "_deepnote_index_column": "2019-01-23T10:43:00.000000"
        },
        {
         "num": 4,
         "city": "Cambridge",
         "_deepnote_index_column": "2019-01-23T10:44:00.000000"
        },
        {
         "num": 4,
         "city": "Cambridge",
         "_deepnote_index_column": "2019-01-23T10:45:00.000000"
        },
        {
         "num": 4,
         "city": "Cambridge",
         "_deepnote_index_column": "2019-01-24T10:30:00.000000"
        },
        {
         "num": 3,
         "city": "Cambridge",
         "_deepnote_index_column": "2019-01-24T10:31:00.000000"
        },
        {
         "num": 4,
         "city": "Cambridge",
         "_deepnote_index_column": "2019-01-24T10:32:00.000000"
        },
        {
         "num": 1,
         "city": "Cambridge",
         "_deepnote_index_column": "2019-01-24T10:33:00.000000"
        },
        {
         "num": 3,
         "city": "Cambridge",
         "_deepnote_index_column": "2019-01-24T10:34:00.000000"
        },
        {
         "num": 3,
         "city": "Cambridge",
         "_deepnote_index_column": "2019-01-24T10:35:00.000000"
        },
        {
         "num": 3,
         "city": "Cambridge",
         "_deepnote_index_column": "2019-01-24T10:36:00.000000"
        },
        {
         "num": 3,
         "city": "Cambridge",
         "_deepnote_index_column": "2019-01-24T10:37:00.000000"
        },
        {
         "num": 4,
         "city": "Cambridge",
         "_deepnote_index_column": "2019-01-24T10:38:00.000000"
        },
        {
         "num": 4,
         "city": "Cambridge",
         "_deepnote_index_column": "2019-01-24T10:39:00.000000"
        },
        {
         "num": 3,
         "city": "Cambridge",
         "_deepnote_index_column": "2019-01-24T10:40:00.000000"
        },
        {
         "num": 2,
         "city": "Cambridge",
         "_deepnote_index_column": "2019-01-24T10:41:00.000000"
        },
        {
         "num": 3,
         "city": "Cambridge",
         "_deepnote_index_column": "2019-01-24T10:42:00.000000"
        },
        {
         "num": 4,
         "city": "Cambridge",
         "_deepnote_index_column": "2019-01-24T10:43:00.000000"
        },
        {
         "num": 4,
         "city": "Cambridge",
         "_deepnote_index_column": "2019-01-24T10:44:00.000000"
        },
        {
         "num": 2,
         "city": "Cambridge",
         "_deepnote_index_column": "2019-01-24T10:45:00.000000"
        },
        {
         "num": 3,
         "city": "Cambridge",
         "_deepnote_index_column": "2019-01-25T10:30:00.000000"
        },
        {
         "num": 2,
         "city": "Cambridge",
         "_deepnote_index_column": "2019-01-25T10:31:00.000000"
        },
        {
         "num": 3,
         "city": "Cambridge",
         "_deepnote_index_column": "2019-01-25T10:32:00.000000"
        },
        {
         "num": 4,
         "city": "Cambridge",
         "_deepnote_index_column": "2019-01-25T10:33:00.000000"
        },
        {
         "num": 1,
         "city": "Cambridge",
         "_deepnote_index_column": "2019-01-25T10:34:00.000000"
        },
        {
         "num": 3,
         "city": "Cambridge",
         "_deepnote_index_column": "2019-01-25T10:35:00.000000"
        },
        {
         "num": 4,
         "city": "Cambridge",
         "_deepnote_index_column": "2019-01-25T10:36:00.000000"
        },
        {
         "num": 2,
         "city": "Cambridge",
         "_deepnote_index_column": "2019-01-25T10:37:00.000000"
        },
        {
         "num": 3,
         "city": "Cambridge",
         "_deepnote_index_column": "2019-01-25T10:38:00.000000"
        },
        {
         "num": 4,
         "city": "Cambridge",
         "_deepnote_index_column": "2019-01-25T10:39:00.000000"
        },
        {
         "num": 3,
         "city": "Cambridge",
         "_deepnote_index_column": "2019-01-25T10:40:00.000000"
        },
        {
         "num": 3,
         "city": "Cambridge",
         "_deepnote_index_column": "2019-01-25T10:41:00.000000"
        },
        {
         "num": 3,
         "city": "Cambridge",
         "_deepnote_index_column": "2019-01-25T10:42:00.000000"
        },
        {
         "num": 4,
         "city": "Cambridge",
         "_deepnote_index_column": "2019-01-25T10:43:00.000000"
        },
        {
         "num": 3,
         "city": "Cambridge",
         "_deepnote_index_column": "2019-01-25T10:44:00.000000"
        },
        {
         "num": 3,
         "city": "Cambridge",
         "_deepnote_index_column": "2019-01-25T10:45:00.000000"
        },
        {
         "num": 1,
         "city": "Cambridge",
         "_deepnote_index_column": "2019-01-28T10:30:00.000000"
        },
        {
         "num": 3,
         "city": "Cambridge",
         "_deepnote_index_column": "2019-01-28T10:31:00.000000"
        },
        {
         "num": 3,
         "city": "Cambridge",
         "_deepnote_index_column": "2019-01-28T10:32:00.000000"
        },
        {
         "num": 3,
         "city": "Cambridge",
         "_deepnote_index_column": "2019-01-28T10:33:00.000000"
        },
        {
         "num": 4,
         "city": "Cambridge",
         "_deepnote_index_column": "2019-01-28T10:34:00.000000"
        },
        {
         "num": 1,
         "city": "Cambridge",
         "_deepnote_index_column": "2019-01-28T10:35:00.000000"
        },
        {
         "num": 2,
         "city": "Cambridge",
         "_deepnote_index_column": "2019-01-28T10:36:00.000000"
        },
        {
         "num": 2,
         "city": "Cambridge",
         "_deepnote_index_column": "2019-01-28T10:37:00.000000"
        },
        {
         "num": 3,
         "city": "Cambridge",
         "_deepnote_index_column": "2019-01-28T10:38:00.000000"
        },
        {
         "num": 4,
         "city": "Cambridge",
         "_deepnote_index_column": "2019-01-28T10:39:00.000000"
        },
        {
         "num": 1,
         "city": "Cambridge",
         "_deepnote_index_column": "2019-01-28T10:40:00.000000"
        },
        {
         "num": 4,
         "city": "Cambridge",
         "_deepnote_index_column": "2019-01-28T10:41:00.000000"
        },
        {
         "num": 3,
         "city": "Cambridge",
         "_deepnote_index_column": "2019-01-28T10:42:00.000000"
        },
        {
         "num": 2,
         "city": "Cambridge",
         "_deepnote_index_column": "2019-01-28T10:43:00.000000"
        },
        {
         "num": 3,
         "city": "Cambridge",
         "_deepnote_index_column": "2019-01-28T10:44:00.000000"
        },
        {
         "num": 3,
         "city": "Cambridge",
         "_deepnote_index_column": "2019-01-28T10:45:00.000000"
        },
        {
         "num": 2,
         "city": "Cambridge",
         "_deepnote_index_column": "2019-01-29T10:30:00.000000"
        },
        {
         "num": 3,
         "city": "Cambridge",
         "_deepnote_index_column": "2019-01-29T10:31:00.000000"
        },
        {
         "num": 3,
         "city": "Cambridge",
         "_deepnote_index_column": "2019-01-29T10:32:00.000000"
        },
        {
         "num": 3,
         "city": "Cambridge",
         "_deepnote_index_column": "2019-01-29T10:33:00.000000"
        },
        {
         "num": 2,
         "city": "Cambridge",
         "_deepnote_index_column": "2019-01-29T10:34:00.000000"
        },
        {
         "num": 4,
         "city": "Cambridge",
         "_deepnote_index_column": "2019-01-29T10:35:00.000000"
        },
        {
         "num": 2,
         "city": "Cambridge",
         "_deepnote_index_column": "2019-01-29T10:36:00.000000"
        },
        {
         "num": 1,
         "city": "Cambridge",
         "_deepnote_index_column": "2019-01-29T10:37:00.000000"
        },
        {
         "num": 3,
         "city": "Cambridge",
         "_deepnote_index_column": "2019-01-29T10:38:00.000000"
        },
        {
         "num": 3,
         "city": "Cambridge",
         "_deepnote_index_column": "2019-01-29T10:39:00.000000"
        },
        {
         "num": 3,
         "city": "Cambridge",
         "_deepnote_index_column": "2019-01-29T10:40:00.000000"
        },
        {
         "num": 3,
         "city": "Cambridge",
         "_deepnote_index_column": "2019-01-29T10:41:00.000000"
        },
        {
         "num": 1,
         "city": "Cambridge",
         "_deepnote_index_column": "2019-01-29T10:42:00.000000"
        },
        {
         "num": 2,
         "city": "Cambridge",
         "_deepnote_index_column": "2019-01-29T10:43:00.000000"
        },
        {
         "num": 4,
         "city": "Cambridge",
         "_deepnote_index_column": "2019-01-29T10:44:00.000000"
        },
        {
         "num": 2,
         "city": "Cambridge",
         "_deepnote_index_column": "2019-01-29T10:45:00.000000"
        },
        {
         "num": 3,
         "city": "Cambridge",
         "_deepnote_index_column": "2019-01-30T10:30:00.000000"
        },
        {
         "num": 4,
         "city": "Cambridge",
         "_deepnote_index_column": "2019-01-30T10:31:00.000000"
        },
        {
         "num": 1,
         "city": "Cambridge",
         "_deepnote_index_column": "2019-01-30T10:32:00.000000"
        },
        {
         "num": 3,
         "city": "Cambridge",
         "_deepnote_index_column": "2019-01-30T10:33:00.000000"
        },
        {
         "num": 2,
         "city": "Cambridge",
         "_deepnote_index_column": "2019-01-30T10:34:00.000000"
        },
        {
         "num": 3,
         "city": "Cambridge",
         "_deepnote_index_column": "2019-01-30T10:35:00.000000"
        },
        {
         "num": 3,
         "city": "Cambridge",
         "_deepnote_index_column": "2019-01-30T10:36:00.000000"
        },
        {
         "num": 3,
         "city": "Cambridge",
         "_deepnote_index_column": "2019-01-30T10:37:00.000000"
        },
        {
         "num": 3,
         "city": "Cambridge",
         "_deepnote_index_column": "2019-01-30T10:38:00.000000"
        },
        {
         "num": 3,
         "city": "Cambridge",
         "_deepnote_index_column": "2019-01-30T10:39:00.000000"
        },
        {
         "num": 2,
         "city": "Cambridge",
         "_deepnote_index_column": "2019-01-30T10:40:00.000000"
        },
        {
         "num": 3,
         "city": "Cambridge",
         "_deepnote_index_column": "2019-01-30T10:41:00.000000"
        },
        {
         "num": 3,
         "city": "Cambridge",
         "_deepnote_index_column": "2019-01-30T10:42:00.000000"
        },
        {
         "num": 3,
         "city": "Cambridge",
         "_deepnote_index_column": "2019-01-30T10:43:00.000000"
        },
        {
         "num": 3,
         "city": "Cambridge",
         "_deepnote_index_column": "2019-01-30T10:44:00.000000"
        },
        {
         "num": 3,
         "city": "Cambridge",
         "_deepnote_index_column": "2019-01-30T10:45:00.000000"
        },
        {
         "num": 3,
         "city": "Cambridge",
         "_deepnote_index_column": "2019-01-31T10:30:00.000000"
        },
        {
         "num": 4,
         "city": "Cambridge",
         "_deepnote_index_column": "2019-01-31T10:31:00.000000"
        },
        {
         "num": 2,
         "city": "Cambridge",
         "_deepnote_index_column": "2019-01-31T10:32:00.000000"
        },
        {
         "num": 3,
         "city": "Cambridge",
         "_deepnote_index_column": "2019-01-31T10:33:00.000000"
        },
        {
         "num": 3,
         "city": "Cambridge",
         "_deepnote_index_column": "2019-01-31T10:34:00.000000"
        },
        {
         "num": 2,
         "city": "Cambridge",
         "_deepnote_index_column": "2019-01-31T10:35:00.000000"
        },
        {
         "num": 4,
         "city": "Cambridge",
         "_deepnote_index_column": "2019-01-31T10:36:00.000000"
        },
        {
         "num": 4,
         "city": "Cambridge",
         "_deepnote_index_column": "2019-01-31T10:37:00.000000"
        },
        {
         "num": 4,
         "city": "Cambridge",
         "_deepnote_index_column": "2019-01-31T10:38:00.000000"
        },
        {
         "num": 3,
         "city": "Cambridge",
         "_deepnote_index_column": "2019-01-31T10:39:00.000000"
        },
        {
         "num": 3,
         "city": "Cambridge",
         "_deepnote_index_column": "2019-01-31T10:40:00.000000"
        },
        {
         "num": 3,
         "city": "Cambridge",
         "_deepnote_index_column": "2019-01-31T10:41:00.000000"
        },
        {
         "num": 3,
         "city": "Cambridge",
         "_deepnote_index_column": "2019-01-31T10:42:00.000000"
        },
        {
         "num": 1,
         "city": "Cambridge",
         "_deepnote_index_column": "2019-01-31T10:43:00.000000"
        },
        {
         "num": 3,
         "city": "Cambridge",
         "_deepnote_index_column": "2019-01-31T10:44:00.000000"
        },
        {
         "num": 4,
         "city": "Cambridge",
         "_deepnote_index_column": "2019-01-31T10:45:00.000000"
        }
       ]
      },
      "text/plain": "                     num       city\ndate                               \n2015-01-01 10:30:00    4     London\n2015-01-01 10:31:00    3     London\n2015-01-01 10:32:00    3     London\n2015-01-01 10:33:00    3     London\n2015-01-01 10:34:00    4     London\n...                  ...        ...\n2019-01-31 10:41:00    3  Cambridge\n2019-01-31 10:42:00    3  Cambridge\n2019-01-31 10:43:00    1  Cambridge\n2019-01-31 10:44:00    3  Cambridge\n2019-01-31 10:45:00    4  Cambridge\n\n[68224 rows x 2 columns]",
      "text/html": "<div>\n<style scoped>\n    .dataframe tbody tr th:only-of-type {\n        vertical-align: middle;\n    }\n\n    .dataframe tbody tr th {\n        vertical-align: top;\n    }\n\n    .dataframe thead th {\n        text-align: right;\n    }\n</style>\n<table border=\"1\" class=\"dataframe\">\n  <thead>\n    <tr style=\"text-align: right;\">\n      <th></th>\n      <th>num</th>\n      <th>city</th>\n    </tr>\n    <tr>\n      <th>date</th>\n      <th></th>\n      <th></th>\n    </tr>\n  </thead>\n  <tbody>\n    <tr>\n      <th>2015-01-01 10:30:00</th>\n      <td>4</td>\n      <td>London</td>\n    </tr>\n    <tr>\n      <th>2015-01-01 10:31:00</th>\n      <td>3</td>\n      <td>London</td>\n    </tr>\n    <tr>\n      <th>2015-01-01 10:32:00</th>\n      <td>3</td>\n      <td>London</td>\n    </tr>\n    <tr>\n      <th>2015-01-01 10:33:00</th>\n      <td>3</td>\n      <td>London</td>\n    </tr>\n    <tr>\n      <th>2015-01-01 10:34:00</th>\n      <td>4</td>\n      <td>London</td>\n    </tr>\n    <tr>\n      <th>...</th>\n      <td>...</td>\n      <td>...</td>\n    </tr>\n    <tr>\n      <th>2019-01-31 10:41:00</th>\n      <td>3</td>\n      <td>Cambridge</td>\n    </tr>\n    <tr>\n      <th>2019-01-31 10:42:00</th>\n      <td>3</td>\n      <td>Cambridge</td>\n    </tr>\n    <tr>\n      <th>2019-01-31 10:43:00</th>\n      <td>1</td>\n      <td>Cambridge</td>\n    </tr>\n    <tr>\n      <th>2019-01-31 10:44:00</th>\n      <td>3</td>\n      <td>Cambridge</td>\n    </tr>\n    <tr>\n      <th>2019-01-31 10:45:00</th>\n      <td>4</td>\n      <td>Cambridge</td>\n    </tr>\n  </tbody>\n</table>\n<p>68224 rows × 2 columns</p>\n</div>"
     },
     "metadata": {}
    }
   ]
  },
  {
   "cell_type": "markdown",
   "source": "# Missing values",
   "metadata": {
    "tags": [],
    "is_collapsed": false,
    "cell_id": "00053-677d7747-719a-4f73-90a4-5713f89c3d9d",
    "deepnote_cell_type": "text-cell-h1"
   }
  },
  {
   "cell_type": "markdown",
   "source": "### Rolling (moving) average",
   "metadata": {
    "tags": [],
    "is_collapsed": false,
    "cell_id": "00059-b3d8183f-6e52-487f-8e1c-aea573ca23c9",
    "deepnote_cell_type": "text-cell-h3"
   }
  },
  {
   "cell_type": "code",
   "metadata": {
    "tags": [],
    "cell_id": "00059-53c5c610-fef6-4bc7-91fe-8827b26eedd7",
    "deepnote_to_be_reexecuted": false,
    "source_hash": "6efba3b0",
    "execution_start": 1627923248457,
    "execution_millis": 98,
    "deepnote_cell_type": "code"
   },
   "source": "df[\"rolling_average\"] = df[\"num\"].rolling(window=5).mean()\n\ndf",
   "execution_count": null,
   "outputs": [
    {
     "output_type": "execute_result",
     "execution_count": 195,
     "data": {
      "application/vnd.deepnote.dataframe.v2+json": {
       "row_count": 1795144,
       "column_count": 3,
       "columns": [
        {
         "name": "num",
         "dtype": "int64"
        },
        {
         "name": "city",
         "dtype": "object"
        },
        {
         "name": "rolling_average",
         "dtype": "float64"
        },
        {
         "name": "_deepnote_index_column",
         "dtype": "datetime64[ns]"
        }
       ],
       "rows_top": [
        {
         "num": 4,
         "city": "London",
         "rolling_average": "nan",
         "_deepnote_index_column": "2015-01-01T09:00:00.000000"
        },
        {
         "num": 4,
         "city": "London",
         "rolling_average": "nan",
         "_deepnote_index_column": "2015-01-01T09:01:00.000000"
        },
        {
         "num": 3,
         "city": "London",
         "rolling_average": "nan",
         "_deepnote_index_column": "2015-01-01T09:02:00.000000"
        },
        {
         "num": 3,
         "city": "London",
         "rolling_average": "nan",
         "_deepnote_index_column": "2015-01-01T09:03:00.000000"
        },
        {
         "num": 3,
         "city": "London",
         "rolling_average": 3.4,
         "_deepnote_index_column": "2015-01-01T09:04:00.000000"
        },
        {
         "num": 3,
         "city": "London",
         "rolling_average": 3.2,
         "_deepnote_index_column": "2015-01-01T09:05:00.000000"
        },
        {
         "num": 3,
         "city": "London",
         "rolling_average": 3,
         "_deepnote_index_column": "2015-01-01T09:06:00.000000"
        },
        {
         "num": 2,
         "city": "London",
         "rolling_average": 2.8,
         "_deepnote_index_column": "2015-01-01T09:07:00.000000"
        },
        {
         "num": 3,
         "city": "London",
         "rolling_average": 2.8,
         "_deepnote_index_column": "2015-01-01T09:08:00.000000"
        },
        {
         "num": 4,
         "city": "London",
         "rolling_average": 3,
         "_deepnote_index_column": "2015-01-01T09:09:00.000000"
        },
        {
         "num": 4,
         "city": "London",
         "rolling_average": 3.2,
         "_deepnote_index_column": "2015-01-01T09:10:00.000000"
        },
        {
         "num": 3,
         "city": "London",
         "rolling_average": 3.2,
         "_deepnote_index_column": "2015-01-01T09:11:00.000000"
        },
        {
         "num": 3,
         "city": "London",
         "rolling_average": 3.4,
         "_deepnote_index_column": "2015-01-01T09:12:00.000000"
        },
        {
         "num": 4,
         "city": "London",
         "rolling_average": 3.6,
         "_deepnote_index_column": "2015-01-01T09:13:00.000000"
        },
        {
         "num": 3,
         "city": "London",
         "rolling_average": 3.4,
         "_deepnote_index_column": "2015-01-01T09:14:00.000000"
        },
        {
         "num": 3,
         "city": "London",
         "rolling_average": 3.2,
         "_deepnote_index_column": "2015-01-01T09:15:00.000000"
        },
        {
         "num": 4,
         "city": "London",
         "rolling_average": 3.4,
         "_deepnote_index_column": "2015-01-01T09:16:00.000000"
        },
        {
         "num": 3,
         "city": "London",
         "rolling_average": 3.4,
         "_deepnote_index_column": "2015-01-01T09:17:00.000000"
        },
        {
         "num": 3,
         "city": "London",
         "rolling_average": 3.2,
         "_deepnote_index_column": "2015-01-01T09:18:00.000000"
        },
        {
         "num": 3,
         "city": "London",
         "rolling_average": 3.2,
         "_deepnote_index_column": "2015-01-01T09:19:00.000000"
        },
        {
         "num": 3,
         "city": "London",
         "rolling_average": 3.2,
         "_deepnote_index_column": "2015-01-01T09:20:00.000000"
        },
        {
         "num": 3,
         "city": "London",
         "rolling_average": 3,
         "_deepnote_index_column": "2015-01-01T09:21:00.000000"
        },
        {
         "num": 3,
         "city": "London",
         "rolling_average": 3,
         "_deepnote_index_column": "2015-01-01T09:22:00.000000"
        },
        {
         "num": 1,
         "city": "London",
         "rolling_average": 2.6,
         "_deepnote_index_column": "2015-01-01T09:23:00.000000"
        },
        {
         "num": 2,
         "city": "London",
         "rolling_average": 2.4,
         "_deepnote_index_column": "2015-01-01T09:24:00.000000"
        },
        {
         "num": 4,
         "city": "London",
         "rolling_average": 2.6,
         "_deepnote_index_column": "2015-01-01T09:25:00.000000"
        },
        {
         "num": 3,
         "city": "London",
         "rolling_average": 2.6,
         "_deepnote_index_column": "2015-01-01T09:26:00.000000"
        },
        {
         "num": 4,
         "city": "London",
         "rolling_average": 2.8,
         "_deepnote_index_column": "2015-01-01T09:27:00.000000"
        },
        {
         "num": 3,
         "city": "London",
         "rolling_average": 3.2,
         "_deepnote_index_column": "2015-01-01T09:28:00.000000"
        },
        {
         "num": 3,
         "city": "London",
         "rolling_average": 3.4,
         "_deepnote_index_column": "2015-01-01T09:29:00.000000"
        },
        {
         "num": 3,
         "city": "London",
         "rolling_average": 3.2,
         "_deepnote_index_column": "2015-01-01T09:30:00.000000"
        },
        {
         "num": 1,
         "city": "London",
         "rolling_average": 2.8,
         "_deepnote_index_column": "2015-01-01T09:31:00.000000"
        },
        {
         "num": 3,
         "city": "London",
         "rolling_average": 2.6,
         "_deepnote_index_column": "2015-01-01T09:32:00.000000"
        },
        {
         "num": 3,
         "city": "London",
         "rolling_average": 2.6,
         "_deepnote_index_column": "2015-01-01T09:33:00.000000"
        },
        {
         "num": 3,
         "city": "London",
         "rolling_average": 2.6,
         "_deepnote_index_column": "2015-01-01T09:34:00.000000"
        },
        {
         "num": 3,
         "city": "London",
         "rolling_average": 2.6,
         "_deepnote_index_column": "2015-01-01T09:35:00.000000"
        },
        {
         "num": 3,
         "city": "London",
         "rolling_average": 3,
         "_deepnote_index_column": "2015-01-01T09:36:00.000000"
        },
        {
         "num": 3,
         "city": "London",
         "rolling_average": 3,
         "_deepnote_index_column": "2015-01-01T09:37:00.000000"
        },
        {
         "num": 2,
         "city": "London",
         "rolling_average": 2.8,
         "_deepnote_index_column": "2015-01-01T09:38:00.000000"
        },
        {
         "num": 3,
         "city": "London",
         "rolling_average": 2.8,
         "_deepnote_index_column": "2015-01-01T09:39:00.000000"
        },
        {
         "num": 4,
         "city": "London",
         "rolling_average": 3,
         "_deepnote_index_column": "2015-01-01T09:40:00.000000"
        },
        {
         "num": 2,
         "city": "London",
         "rolling_average": 2.8,
         "_deepnote_index_column": "2015-01-01T09:41:00.000000"
        },
        {
         "num": 4,
         "city": "London",
         "rolling_average": 3,
         "_deepnote_index_column": "2015-01-01T09:42:00.000000"
        },
        {
         "num": 1,
         "city": "London",
         "rolling_average": 2.8,
         "_deepnote_index_column": "2015-01-01T09:43:00.000000"
        },
        {
         "num": 3,
         "city": "London",
         "rolling_average": 2.8,
         "_deepnote_index_column": "2015-01-01T09:44:00.000000"
        },
        {
         "num": 2,
         "city": "London",
         "rolling_average": 2.4,
         "_deepnote_index_column": "2015-01-01T09:45:00.000000"
        },
        {
         "num": 3,
         "city": "London",
         "rolling_average": 2.6,
         "_deepnote_index_column": "2015-01-01T09:46:00.000000"
        },
        {
         "num": 3,
         "city": "London",
         "rolling_average": 2.4,
         "_deepnote_index_column": "2015-01-01T09:47:00.000000"
        },
        {
         "num": 1,
         "city": "London",
         "rolling_average": 2.4,
         "_deepnote_index_column": "2015-01-01T09:48:00.000000"
        },
        {
         "num": 4,
         "city": "London",
         "rolling_average": 2.6,
         "_deepnote_index_column": "2015-01-01T09:49:00.000000"
        },
        {
         "num": 2,
         "city": "London",
         "rolling_average": 2.6,
         "_deepnote_index_column": "2015-01-01T09:50:00.000000"
        },
        {
         "num": 3,
         "city": "London",
         "rolling_average": 2.6,
         "_deepnote_index_column": "2015-01-01T09:51:00.000000"
        },
        {
         "num": 2,
         "city": "London",
         "rolling_average": 2.4,
         "_deepnote_index_column": "2015-01-01T09:52:00.000000"
        },
        {
         "num": 2,
         "city": "London",
         "rolling_average": 2.6,
         "_deepnote_index_column": "2015-01-01T09:53:00.000000"
        },
        {
         "num": 4,
         "city": "London",
         "rolling_average": 2.6,
         "_deepnote_index_column": "2015-01-01T09:54:00.000000"
        },
        {
         "num": 3,
         "city": "London",
         "rolling_average": 2.8,
         "_deepnote_index_column": "2015-01-01T09:55:00.000000"
        },
        {
         "num": 2,
         "city": "London",
         "rolling_average": 2.6,
         "_deepnote_index_column": "2015-01-01T09:56:00.000000"
        },
        {
         "num": 3,
         "city": "London",
         "rolling_average": 2.8,
         "_deepnote_index_column": "2015-01-01T09:57:00.000000"
        },
        {
         "num": 3,
         "city": "London",
         "rolling_average": 3,
         "_deepnote_index_column": "2015-01-01T09:58:00.000000"
        },
        {
         "num": 3,
         "city": "London",
         "rolling_average": 2.8,
         "_deepnote_index_column": "2015-01-01T09:59:00.000000"
        },
        {
         "num": 2,
         "city": "London",
         "rolling_average": 2.6,
         "_deepnote_index_column": "2015-01-01T10:00:00.000000"
        },
        {
         "num": 3,
         "city": "London",
         "rolling_average": 2.8,
         "_deepnote_index_column": "2015-01-01T10:01:00.000000"
        },
        {
         "num": 3,
         "city": "London",
         "rolling_average": 2.8,
         "_deepnote_index_column": "2015-01-01T10:02:00.000000"
        },
        {
         "num": 3,
         "city": "London",
         "rolling_average": 2.8,
         "_deepnote_index_column": "2015-01-01T10:03:00.000000"
        },
        {
         "num": 3,
         "city": "London",
         "rolling_average": 2.8,
         "_deepnote_index_column": "2015-01-01T10:04:00.000000"
        },
        {
         "num": 4,
         "city": "London",
         "rolling_average": 3.2,
         "_deepnote_index_column": "2015-01-01T10:05:00.000000"
        },
        {
         "num": 2,
         "city": "London",
         "rolling_average": 3,
         "_deepnote_index_column": "2015-01-01T10:06:00.000000"
        },
        {
         "num": 4,
         "city": "London",
         "rolling_average": 3.2,
         "_deepnote_index_column": "2015-01-01T10:07:00.000000"
        },
        {
         "num": 3,
         "city": "London",
         "rolling_average": 3.2,
         "_deepnote_index_column": "2015-01-01T10:08:00.000000"
        },
        {
         "num": 4,
         "city": "London",
         "rolling_average": 3.4,
         "_deepnote_index_column": "2015-01-01T10:09:00.000000"
        },
        {
         "num": 2,
         "city": "London",
         "rolling_average": 3,
         "_deepnote_index_column": "2015-01-01T10:10:00.000000"
        },
        {
         "num": 3,
         "city": "London",
         "rolling_average": 3.2,
         "_deepnote_index_column": "2015-01-01T10:11:00.000000"
        },
        {
         "num": 3,
         "city": "London",
         "rolling_average": 3,
         "_deepnote_index_column": "2015-01-01T10:12:00.000000"
        },
        {
         "num": 4,
         "city": "London",
         "rolling_average": 3.2,
         "_deepnote_index_column": "2015-01-01T10:13:00.000000"
        },
        {
         "num": 2,
         "city": "London",
         "rolling_average": 2.8,
         "_deepnote_index_column": "2015-01-01T10:14:00.000000"
        },
        {
         "num": 2,
         "city": "London",
         "rolling_average": 2.8,
         "_deepnote_index_column": "2015-01-01T10:15:00.000000"
        },
        {
         "num": 2,
         "city": "London",
         "rolling_average": 2.6,
         "_deepnote_index_column": "2015-01-01T10:16:00.000000"
        },
        {
         "num": 3,
         "city": "London",
         "rolling_average": 2.6,
         "_deepnote_index_column": "2015-01-01T10:17:00.000000"
        },
        {
         "num": 4,
         "city": "London",
         "rolling_average": 2.6,
         "_deepnote_index_column": "2015-01-01T10:18:00.000000"
        },
        {
         "num": 3,
         "city": "London",
         "rolling_average": 2.8,
         "_deepnote_index_column": "2015-01-01T10:19:00.000000"
        },
        {
         "num": 4,
         "city": "London",
         "rolling_average": 3.2,
         "_deepnote_index_column": "2015-01-01T10:20:00.000000"
        },
        {
         "num": 3,
         "city": "London",
         "rolling_average": 3.4,
         "_deepnote_index_column": "2015-01-01T10:21:00.000000"
        },
        {
         "num": 3,
         "city": "London",
         "rolling_average": 3.4,
         "_deepnote_index_column": "2015-01-01T10:22:00.000000"
        },
        {
         "num": 2,
         "city": "London",
         "rolling_average": 3,
         "_deepnote_index_column": "2015-01-01T10:23:00.000000"
        },
        {
         "num": 3,
         "city": "London",
         "rolling_average": 3,
         "_deepnote_index_column": "2015-01-01T10:24:00.000000"
        },
        {
         "num": 3,
         "city": "London",
         "rolling_average": 2.8,
         "_deepnote_index_column": "2015-01-01T10:25:00.000000"
        },
        {
         "num": 3,
         "city": "London",
         "rolling_average": 2.8,
         "_deepnote_index_column": "2015-01-01T10:26:00.000000"
        },
        {
         "num": 4,
         "city": "London",
         "rolling_average": 3,
         "_deepnote_index_column": "2015-01-01T10:27:00.000000"
        },
        {
         "num": 3,
         "city": "London",
         "rolling_average": 3.2,
         "_deepnote_index_column": "2015-01-01T10:28:00.000000"
        },
        {
         "num": 4,
         "city": "London",
         "rolling_average": 3.4,
         "_deepnote_index_column": "2015-01-01T10:29:00.000000"
        },
        {
         "num": 4,
         "city": "London",
         "rolling_average": 3.6,
         "_deepnote_index_column": "2015-01-01T10:30:00.000000"
        },
        {
         "num": 3,
         "city": "London",
         "rolling_average": 3.6,
         "_deepnote_index_column": "2015-01-01T10:31:00.000000"
        },
        {
         "num": 3,
         "city": "London",
         "rolling_average": 3.4,
         "_deepnote_index_column": "2015-01-01T10:32:00.000000"
        },
        {
         "num": 3,
         "city": "London",
         "rolling_average": 3.4,
         "_deepnote_index_column": "2015-01-01T10:33:00.000000"
        },
        {
         "num": 4,
         "city": "London",
         "rolling_average": 3.4,
         "_deepnote_index_column": "2015-01-01T10:34:00.000000"
        },
        {
         "num": 3,
         "city": "London",
         "rolling_average": 3.2,
         "_deepnote_index_column": "2015-01-01T10:35:00.000000"
        },
        {
         "num": 4,
         "city": "London",
         "rolling_average": 3.4,
         "_deepnote_index_column": "2015-01-01T10:36:00.000000"
        },
        {
         "num": 1,
         "city": "London",
         "rolling_average": 3,
         "_deepnote_index_column": "2015-01-01T10:37:00.000000"
        },
        {
         "num": 3,
         "city": "London",
         "rolling_average": 3,
         "_deepnote_index_column": "2015-01-01T10:38:00.000000"
        },
        {
         "num": 2,
         "city": "London",
         "rolling_average": 2.6,
         "_deepnote_index_column": "2015-01-01T10:39:00.000000"
        },
        {
         "num": 4,
         "city": "London",
         "rolling_average": 2.8,
         "_deepnote_index_column": "2015-01-01T10:40:00.000000"
        },
        {
         "num": 3,
         "city": "London",
         "rolling_average": 2.6,
         "_deepnote_index_column": "2015-01-01T10:41:00.000000"
        },
        {
         "num": 4,
         "city": "London",
         "rolling_average": 3.2,
         "_deepnote_index_column": "2015-01-01T10:42:00.000000"
        },
        {
         "num": 3,
         "city": "London",
         "rolling_average": 3.2,
         "_deepnote_index_column": "2015-01-01T10:43:00.000000"
        },
        {
         "num": 4,
         "city": "London",
         "rolling_average": 3.6,
         "_deepnote_index_column": "2015-01-01T10:44:00.000000"
        },
        {
         "num": 3,
         "city": "London",
         "rolling_average": 3.4,
         "_deepnote_index_column": "2015-01-01T10:45:00.000000"
        },
        {
         "num": 3,
         "city": "London",
         "rolling_average": 3.4,
         "_deepnote_index_column": "2015-01-01T10:46:00.000000"
        },
        {
         "num": 3,
         "city": "London",
         "rolling_average": 3.2,
         "_deepnote_index_column": "2015-01-01T10:47:00.000000"
        },
        {
         "num": 3,
         "city": "London",
         "rolling_average": 3.2,
         "_deepnote_index_column": "2015-01-01T10:48:00.000000"
        },
        {
         "num": 4,
         "city": "London",
         "rolling_average": 3.2,
         "_deepnote_index_column": "2015-01-01T10:49:00.000000"
        },
        {
         "num": 4,
         "city": "London",
         "rolling_average": 3.4,
         "_deepnote_index_column": "2015-01-01T10:50:00.000000"
        },
        {
         "num": 2,
         "city": "London",
         "rolling_average": 3.2,
         "_deepnote_index_column": "2015-01-01T10:51:00.000000"
        },
        {
         "num": 3,
         "city": "London",
         "rolling_average": 3.2,
         "_deepnote_index_column": "2015-01-01T10:52:00.000000"
        },
        {
         "num": 3,
         "city": "London",
         "rolling_average": 3.2,
         "_deepnote_index_column": "2015-01-01T10:53:00.000000"
        },
        {
         "num": 4,
         "city": "London",
         "rolling_average": 3.2,
         "_deepnote_index_column": "2015-01-01T10:54:00.000000"
        },
        {
         "num": 4,
         "city": "London",
         "rolling_average": 3.2,
         "_deepnote_index_column": "2015-01-01T10:55:00.000000"
        },
        {
         "num": 3,
         "city": "London",
         "rolling_average": 3.4,
         "_deepnote_index_column": "2015-01-01T10:56:00.000000"
        },
        {
         "num": 3,
         "city": "London",
         "rolling_average": 3.4,
         "_deepnote_index_column": "2015-01-01T10:57:00.000000"
        },
        {
         "num": 3,
         "city": "London",
         "rolling_average": 3.4,
         "_deepnote_index_column": "2015-01-01T10:58:00.000000"
        },
        {
         "num": 3,
         "city": "London",
         "rolling_average": 3.2,
         "_deepnote_index_column": "2015-01-01T10:59:00.000000"
        },
        {
         "num": 3,
         "city": "London",
         "rolling_average": 3,
         "_deepnote_index_column": "2015-01-01T11:00:00.000000"
        },
        {
         "num": 4,
         "city": "London",
         "rolling_average": 3.2,
         "_deepnote_index_column": "2015-01-01T11:01:00.000000"
        },
        {
         "num": 3,
         "city": "London",
         "rolling_average": 3.2,
         "_deepnote_index_column": "2015-01-01T11:02:00.000000"
        },
        {
         "num": 3,
         "city": "London",
         "rolling_average": 3.2,
         "_deepnote_index_column": "2015-01-01T11:03:00.000000"
        },
        {
         "num": 3,
         "city": "London",
         "rolling_average": 3.2,
         "_deepnote_index_column": "2015-01-01T11:04:00.000000"
        },
        {
         "num": 3,
         "city": "London",
         "rolling_average": 3.2,
         "_deepnote_index_column": "2015-01-01T11:05:00.000000"
        },
        {
         "num": 3,
         "city": "London",
         "rolling_average": 3,
         "_deepnote_index_column": "2015-01-01T11:06:00.000000"
        },
        {
         "num": 4,
         "city": "London",
         "rolling_average": 3.2,
         "_deepnote_index_column": "2015-01-01T11:07:00.000000"
        },
        {
         "num": 3,
         "city": "London",
         "rolling_average": 3.2,
         "_deepnote_index_column": "2015-01-01T11:08:00.000000"
        },
        {
         "num": 2,
         "city": "London",
         "rolling_average": 3,
         "_deepnote_index_column": "2015-01-01T11:09:00.000000"
        },
        {
         "num": 4,
         "city": "London",
         "rolling_average": 3.2,
         "_deepnote_index_column": "2015-01-01T11:10:00.000000"
        },
        {
         "num": 3,
         "city": "London",
         "rolling_average": 3.2,
         "_deepnote_index_column": "2015-01-01T11:11:00.000000"
        },
        {
         "num": 2,
         "city": "London",
         "rolling_average": 2.8,
         "_deepnote_index_column": "2015-01-01T11:12:00.000000"
        },
        {
         "num": 3,
         "city": "London",
         "rolling_average": 2.8,
         "_deepnote_index_column": "2015-01-01T11:13:00.000000"
        },
        {
         "num": 3,
         "city": "London",
         "rolling_average": 3,
         "_deepnote_index_column": "2015-01-01T11:14:00.000000"
        },
        {
         "num": 2,
         "city": "London",
         "rolling_average": 2.6,
         "_deepnote_index_column": "2015-01-01T11:15:00.000000"
        },
        {
         "num": 4,
         "city": "London",
         "rolling_average": 2.8,
         "_deepnote_index_column": "2015-01-01T11:16:00.000000"
        },
        {
         "num": 2,
         "city": "London",
         "rolling_average": 2.8,
         "_deepnote_index_column": "2015-01-01T11:17:00.000000"
        },
        {
         "num": 3,
         "city": "London",
         "rolling_average": 2.8,
         "_deepnote_index_column": "2015-01-01T11:18:00.000000"
        },
        {
         "num": 4,
         "city": "London",
         "rolling_average": 3,
         "_deepnote_index_column": "2015-01-01T11:19:00.000000"
        },
        {
         "num": 3,
         "city": "London",
         "rolling_average": 3.2,
         "_deepnote_index_column": "2015-01-01T11:20:00.000000"
        },
        {
         "num": 3,
         "city": "London",
         "rolling_average": 3,
         "_deepnote_index_column": "2015-01-01T11:21:00.000000"
        },
        {
         "num": 4,
         "city": "London",
         "rolling_average": 3.4,
         "_deepnote_index_column": "2015-01-01T11:22:00.000000"
        },
        {
         "num": 3,
         "city": "London",
         "rolling_average": 3.4,
         "_deepnote_index_column": "2015-01-01T11:23:00.000000"
        },
        {
         "num": 3,
         "city": "London",
         "rolling_average": 3.2,
         "_deepnote_index_column": "2015-01-01T11:24:00.000000"
        },
        {
         "num": 1,
         "city": "London",
         "rolling_average": 2.8,
         "_deepnote_index_column": "2015-01-01T11:25:00.000000"
        },
        {
         "num": 3,
         "city": "London",
         "rolling_average": 2.8,
         "_deepnote_index_column": "2015-01-01T11:26:00.000000"
        },
        {
         "num": 4,
         "city": "London",
         "rolling_average": 2.8,
         "_deepnote_index_column": "2015-01-01T11:27:00.000000"
        },
        {
         "num": 3,
         "city": "London",
         "rolling_average": 2.8,
         "_deepnote_index_column": "2015-01-01T11:28:00.000000"
        },
        {
         "num": 3,
         "city": "London",
         "rolling_average": 2.8,
         "_deepnote_index_column": "2015-01-01T11:29:00.000000"
        },
        {
         "num": 3,
         "city": "London",
         "rolling_average": 3.2,
         "_deepnote_index_column": "2015-01-01T11:30:00.000000"
        },
        {
         "num": 4,
         "city": "London",
         "rolling_average": 3.4,
         "_deepnote_index_column": "2015-01-01T11:31:00.000000"
        },
        {
         "num": 3,
         "city": "London",
         "rolling_average": 3.2,
         "_deepnote_index_column": "2015-01-01T11:32:00.000000"
        },
        {
         "num": 4,
         "city": "London",
         "rolling_average": 3.4,
         "_deepnote_index_column": "2015-01-01T11:33:00.000000"
        },
        {
         "num": 1,
         "city": "London",
         "rolling_average": 3,
         "_deepnote_index_column": "2015-01-01T11:34:00.000000"
        },
        {
         "num": 2,
         "city": "London",
         "rolling_average": 2.8,
         "_deepnote_index_column": "2015-01-01T11:35:00.000000"
        },
        {
         "num": 4,
         "city": "London",
         "rolling_average": 2.8,
         "_deepnote_index_column": "2015-01-01T11:36:00.000000"
        },
        {
         "num": 4,
         "city": "London",
         "rolling_average": 3,
         "_deepnote_index_column": "2015-01-01T11:37:00.000000"
        },
        {
         "num": 3,
         "city": "London",
         "rolling_average": 2.8,
         "_deepnote_index_column": "2015-01-01T11:38:00.000000"
        },
        {
         "num": 3,
         "city": "London",
         "rolling_average": 3.2,
         "_deepnote_index_column": "2015-01-01T11:39:00.000000"
        },
        {
         "num": 3,
         "city": "London",
         "rolling_average": 3.4,
         "_deepnote_index_column": "2015-01-01T11:40:00.000000"
        },
        {
         "num": 3,
         "city": "London",
         "rolling_average": 3.2,
         "_deepnote_index_column": "2015-01-01T11:41:00.000000"
        },
        {
         "num": 1,
         "city": "London",
         "rolling_average": 2.6,
         "_deepnote_index_column": "2015-01-01T11:42:00.000000"
        },
        {
         "num": 1,
         "city": "London",
         "rolling_average": 2.2,
         "_deepnote_index_column": "2015-01-01T11:43:00.000000"
        },
        {
         "num": 3,
         "city": "London",
         "rolling_average": 2.2,
         "_deepnote_index_column": "2015-01-01T11:44:00.000000"
        },
        {
         "num": 3,
         "city": "London",
         "rolling_average": 2.2,
         "_deepnote_index_column": "2015-01-01T11:45:00.000000"
        }
       ],
       "rows_bottom": [
        {
         "num": 3,
         "city": "Cambridge",
         "rolling_average": 3.6,
         "_deepnote_index_column": "2019-01-31T13:14:00.000000"
        },
        {
         "num": 2,
         "city": "Cambridge",
         "rolling_average": 3.2,
         "_deepnote_index_column": "2019-01-31T13:15:00.000000"
        },
        {
         "num": 4,
         "city": "Cambridge",
         "rolling_average": 3.2,
         "_deepnote_index_column": "2019-01-31T13:16:00.000000"
        },
        {
         "num": 1,
         "city": "Cambridge",
         "rolling_average": 2.8,
         "_deepnote_index_column": "2019-01-31T13:17:00.000000"
        },
        {
         "num": 4,
         "city": "Cambridge",
         "rolling_average": 2.8,
         "_deepnote_index_column": "2019-01-31T13:18:00.000000"
        },
        {
         "num": 3,
         "city": "Cambridge",
         "rolling_average": 2.8,
         "_deepnote_index_column": "2019-01-31T13:19:00.000000"
        },
        {
         "num": 2,
         "city": "Cambridge",
         "rolling_average": 2.8,
         "_deepnote_index_column": "2019-01-31T13:20:00.000000"
        },
        {
         "num": 4,
         "city": "Cambridge",
         "rolling_average": 2.8,
         "_deepnote_index_column": "2019-01-31T13:21:00.000000"
        },
        {
         "num": 3,
         "city": "Cambridge",
         "rolling_average": 3.2,
         "_deepnote_index_column": "2019-01-31T13:22:00.000000"
        },
        {
         "num": 3,
         "city": "Cambridge",
         "rolling_average": 3,
         "_deepnote_index_column": "2019-01-31T13:23:00.000000"
        },
        {
         "num": 2,
         "city": "Cambridge",
         "rolling_average": 2.8,
         "_deepnote_index_column": "2019-01-31T13:24:00.000000"
        },
        {
         "num": 4,
         "city": "Cambridge",
         "rolling_average": 3.2,
         "_deepnote_index_column": "2019-01-31T13:25:00.000000"
        },
        {
         "num": 3,
         "city": "Cambridge",
         "rolling_average": 3,
         "_deepnote_index_column": "2019-01-31T13:26:00.000000"
        },
        {
         "num": 2,
         "city": "Cambridge",
         "rolling_average": 2.8,
         "_deepnote_index_column": "2019-01-31T13:27:00.000000"
        },
        {
         "num": 3,
         "city": "Cambridge",
         "rolling_average": 2.8,
         "_deepnote_index_column": "2019-01-31T13:28:00.000000"
        },
        {
         "num": 2,
         "city": "Cambridge",
         "rolling_average": 2.8,
         "_deepnote_index_column": "2019-01-31T13:29:00.000000"
        },
        {
         "num": 2,
         "city": "Cambridge",
         "rolling_average": 2.4,
         "_deepnote_index_column": "2019-01-31T13:30:00.000000"
        },
        {
         "num": 3,
         "city": "Cambridge",
         "rolling_average": 2.4,
         "_deepnote_index_column": "2019-01-31T13:31:00.000000"
        },
        {
         "num": 3,
         "city": "Cambridge",
         "rolling_average": 2.6,
         "_deepnote_index_column": "2019-01-31T13:32:00.000000"
        },
        {
         "num": 3,
         "city": "Cambridge",
         "rolling_average": 2.6,
         "_deepnote_index_column": "2019-01-31T13:33:00.000000"
        },
        {
         "num": 3,
         "city": "Cambridge",
         "rolling_average": 2.8,
         "_deepnote_index_column": "2019-01-31T13:34:00.000000"
        },
        {
         "num": 4,
         "city": "Cambridge",
         "rolling_average": 3.2,
         "_deepnote_index_column": "2019-01-31T13:35:00.000000"
        },
        {
         "num": 1,
         "city": "Cambridge",
         "rolling_average": 2.8,
         "_deepnote_index_column": "2019-01-31T13:36:00.000000"
        },
        {
         "num": 2,
         "city": "Cambridge",
         "rolling_average": 2.6,
         "_deepnote_index_column": "2019-01-31T13:37:00.000000"
        },
        {
         "num": 2,
         "city": "Cambridge",
         "rolling_average": 2.4,
         "_deepnote_index_column": "2019-01-31T13:38:00.000000"
        },
        {
         "num": 2,
         "city": "Cambridge",
         "rolling_average": 2.2,
         "_deepnote_index_column": "2019-01-31T13:39:00.000000"
        },
        {
         "num": 2,
         "city": "Cambridge",
         "rolling_average": 1.8,
         "_deepnote_index_column": "2019-01-31T13:40:00.000000"
        },
        {
         "num": 1,
         "city": "Cambridge",
         "rolling_average": 1.8,
         "_deepnote_index_column": "2019-01-31T13:41:00.000000"
        },
        {
         "num": 2,
         "city": "Cambridge",
         "rolling_average": 1.8,
         "_deepnote_index_column": "2019-01-31T13:42:00.000000"
        },
        {
         "num": 3,
         "city": "Cambridge",
         "rolling_average": 2,
         "_deepnote_index_column": "2019-01-31T13:43:00.000000"
        },
        {
         "num": 2,
         "city": "Cambridge",
         "rolling_average": 2,
         "_deepnote_index_column": "2019-01-31T13:44:00.000000"
        },
        {
         "num": 4,
         "city": "Cambridge",
         "rolling_average": 2.4,
         "_deepnote_index_column": "2019-01-31T13:45:00.000000"
        },
        {
         "num": 4,
         "city": "Cambridge",
         "rolling_average": 3,
         "_deepnote_index_column": "2019-01-31T13:46:00.000000"
        },
        {
         "num": 2,
         "city": "Cambridge",
         "rolling_average": 3,
         "_deepnote_index_column": "2019-01-31T13:47:00.000000"
        },
        {
         "num": 3,
         "city": "Cambridge",
         "rolling_average": 3,
         "_deepnote_index_column": "2019-01-31T13:48:00.000000"
        },
        {
         "num": 2,
         "city": "Cambridge",
         "rolling_average": 3,
         "_deepnote_index_column": "2019-01-31T13:49:00.000000"
        },
        {
         "num": 3,
         "city": "Cambridge",
         "rolling_average": 2.8,
         "_deepnote_index_column": "2019-01-31T13:50:00.000000"
        },
        {
         "num": 3,
         "city": "Cambridge",
         "rolling_average": 2.6,
         "_deepnote_index_column": "2019-01-31T13:51:00.000000"
        },
        {
         "num": 4,
         "city": "Cambridge",
         "rolling_average": 3,
         "_deepnote_index_column": "2019-01-31T13:52:00.000000"
        },
        {
         "num": 4,
         "city": "Cambridge",
         "rolling_average": 3.2,
         "_deepnote_index_column": "2019-01-31T13:53:00.000000"
        },
        {
         "num": 2,
         "city": "Cambridge",
         "rolling_average": 3.2,
         "_deepnote_index_column": "2019-01-31T13:54:00.000000"
        },
        {
         "num": 3,
         "city": "Cambridge",
         "rolling_average": 3.2,
         "_deepnote_index_column": "2019-01-31T13:55:00.000000"
        },
        {
         "num": 3,
         "city": "Cambridge",
         "rolling_average": 3.2,
         "_deepnote_index_column": "2019-01-31T13:56:00.000000"
        },
        {
         "num": 1,
         "city": "Cambridge",
         "rolling_average": 2.6,
         "_deepnote_index_column": "2019-01-31T13:57:00.000000"
        },
        {
         "num": 2,
         "city": "Cambridge",
         "rolling_average": 2.2,
         "_deepnote_index_column": "2019-01-31T13:58:00.000000"
        },
        {
         "num": 3,
         "city": "Cambridge",
         "rolling_average": 2.4,
         "_deepnote_index_column": "2019-01-31T13:59:00.000000"
        },
        {
         "num": 4,
         "city": "Cambridge",
         "rolling_average": 2.6,
         "_deepnote_index_column": "2019-01-31T14:00:00.000000"
        },
        {
         "num": 3,
         "city": "Cambridge",
         "rolling_average": 2.6,
         "_deepnote_index_column": "2019-01-31T14:01:00.000000"
        },
        {
         "num": 3,
         "city": "Cambridge",
         "rolling_average": 3,
         "_deepnote_index_column": "2019-01-31T14:02:00.000000"
        },
        {
         "num": 2,
         "city": "Cambridge",
         "rolling_average": 3,
         "_deepnote_index_column": "2019-01-31T14:03:00.000000"
        },
        {
         "num": 2,
         "city": "Cambridge",
         "rolling_average": 2.8,
         "_deepnote_index_column": "2019-01-31T14:04:00.000000"
        },
        {
         "num": 3,
         "city": "Cambridge",
         "rolling_average": 2.6,
         "_deepnote_index_column": "2019-01-31T14:05:00.000000"
        },
        {
         "num": 2,
         "city": "Cambridge",
         "rolling_average": 2.4,
         "_deepnote_index_column": "2019-01-31T14:06:00.000000"
        },
        {
         "num": 1,
         "city": "Cambridge",
         "rolling_average": 2,
         "_deepnote_index_column": "2019-01-31T14:07:00.000000"
        },
        {
         "num": 3,
         "city": "Cambridge",
         "rolling_average": 2.2,
         "_deepnote_index_column": "2019-01-31T14:08:00.000000"
        },
        {
         "num": 4,
         "city": "Cambridge",
         "rolling_average": 2.6,
         "_deepnote_index_column": "2019-01-31T14:09:00.000000"
        },
        {
         "num": 2,
         "city": "Cambridge",
         "rolling_average": 2.4,
         "_deepnote_index_column": "2019-01-31T14:10:00.000000"
        },
        {
         "num": 4,
         "city": "Cambridge",
         "rolling_average": 2.8,
         "_deepnote_index_column": "2019-01-31T14:11:00.000000"
        },
        {
         "num": 3,
         "city": "Cambridge",
         "rolling_average": 3.2,
         "_deepnote_index_column": "2019-01-31T14:12:00.000000"
        },
        {
         "num": 3,
         "city": "Cambridge",
         "rolling_average": 3.2,
         "_deepnote_index_column": "2019-01-31T14:13:00.000000"
        },
        {
         "num": 3,
         "city": "Cambridge",
         "rolling_average": 3,
         "_deepnote_index_column": "2019-01-31T14:14:00.000000"
        },
        {
         "num": 1,
         "city": "Cambridge",
         "rolling_average": 2.8,
         "_deepnote_index_column": "2019-01-31T14:15:00.000000"
        },
        {
         "num": 3,
         "city": "Cambridge",
         "rolling_average": 2.6,
         "_deepnote_index_column": "2019-01-31T14:16:00.000000"
        },
        {
         "num": 2,
         "city": "Cambridge",
         "rolling_average": 2.4,
         "_deepnote_index_column": "2019-01-31T14:17:00.000000"
        },
        {
         "num": 3,
         "city": "Cambridge",
         "rolling_average": 2.4,
         "_deepnote_index_column": "2019-01-31T14:18:00.000000"
        },
        {
         "num": 3,
         "city": "Cambridge",
         "rolling_average": 2.4,
         "_deepnote_index_column": "2019-01-31T14:19:00.000000"
        },
        {
         "num": 3,
         "city": "Cambridge",
         "rolling_average": 2.8,
         "_deepnote_index_column": "2019-01-31T14:20:00.000000"
        },
        {
         "num": 3,
         "city": "Cambridge",
         "rolling_average": 2.8,
         "_deepnote_index_column": "2019-01-31T14:21:00.000000"
        },
        {
         "num": 3,
         "city": "Cambridge",
         "rolling_average": 3,
         "_deepnote_index_column": "2019-01-31T14:22:00.000000"
        },
        {
         "num": 3,
         "city": "Cambridge",
         "rolling_average": 3,
         "_deepnote_index_column": "2019-01-31T14:23:00.000000"
        },
        {
         "num": 3,
         "city": "Cambridge",
         "rolling_average": 3,
         "_deepnote_index_column": "2019-01-31T14:24:00.000000"
        },
        {
         "num": 2,
         "city": "Cambridge",
         "rolling_average": 2.8,
         "_deepnote_index_column": "2019-01-31T14:25:00.000000"
        },
        {
         "num": 4,
         "city": "Cambridge",
         "rolling_average": 3,
         "_deepnote_index_column": "2019-01-31T14:26:00.000000"
        },
        {
         "num": 3,
         "city": "Cambridge",
         "rolling_average": 3,
         "_deepnote_index_column": "2019-01-31T14:27:00.000000"
        },
        {
         "num": 3,
         "city": "Cambridge",
         "rolling_average": 3,
         "_deepnote_index_column": "2019-01-31T14:28:00.000000"
        },
        {
         "num": 2,
         "city": "Cambridge",
         "rolling_average": 2.8,
         "_deepnote_index_column": "2019-01-31T14:29:00.000000"
        },
        {
         "num": 3,
         "city": "Cambridge",
         "rolling_average": 3,
         "_deepnote_index_column": "2019-01-31T14:30:00.000000"
        },
        {
         "num": 3,
         "city": "Cambridge",
         "rolling_average": 2.8,
         "_deepnote_index_column": "2019-01-31T14:31:00.000000"
        },
        {
         "num": 3,
         "city": "Cambridge",
         "rolling_average": 2.8,
         "_deepnote_index_column": "2019-01-31T14:32:00.000000"
        },
        {
         "num": 3,
         "city": "Cambridge",
         "rolling_average": 2.8,
         "_deepnote_index_column": "2019-01-31T14:33:00.000000"
        },
        {
         "num": 3,
         "city": "Cambridge",
         "rolling_average": 3,
         "_deepnote_index_column": "2019-01-31T14:34:00.000000"
        },
        {
         "num": 3,
         "city": "Cambridge",
         "rolling_average": 3,
         "_deepnote_index_column": "2019-01-31T14:35:00.000000"
        },
        {
         "num": 1,
         "city": "Cambridge",
         "rolling_average": 2.6,
         "_deepnote_index_column": "2019-01-31T14:36:00.000000"
        },
        {
         "num": 3,
         "city": "Cambridge",
         "rolling_average": 2.6,
         "_deepnote_index_column": "2019-01-31T14:37:00.000000"
        },
        {
         "num": 4,
         "city": "Cambridge",
         "rolling_average": 2.8,
         "_deepnote_index_column": "2019-01-31T14:38:00.000000"
        },
        {
         "num": 4,
         "city": "Cambridge",
         "rolling_average": 3,
         "_deepnote_index_column": "2019-01-31T14:39:00.000000"
        },
        {
         "num": 2,
         "city": "Cambridge",
         "rolling_average": 2.8,
         "_deepnote_index_column": "2019-01-31T14:40:00.000000"
        },
        {
         "num": 2,
         "city": "Cambridge",
         "rolling_average": 3,
         "_deepnote_index_column": "2019-01-31T14:41:00.000000"
        },
        {
         "num": 3,
         "city": "Cambridge",
         "rolling_average": 3,
         "_deepnote_index_column": "2019-01-31T14:42:00.000000"
        },
        {
         "num": 3,
         "city": "Cambridge",
         "rolling_average": 2.8,
         "_deepnote_index_column": "2019-01-31T14:43:00.000000"
        },
        {
         "num": 2,
         "city": "Cambridge",
         "rolling_average": 2.4,
         "_deepnote_index_column": "2019-01-31T14:44:00.000000"
        },
        {
         "num": 4,
         "city": "Cambridge",
         "rolling_average": 2.8,
         "_deepnote_index_column": "2019-01-31T14:45:00.000000"
        },
        {
         "num": 4,
         "city": "Cambridge",
         "rolling_average": 3.2,
         "_deepnote_index_column": "2019-01-31T14:46:00.000000"
        },
        {
         "num": 3,
         "city": "Cambridge",
         "rolling_average": 3.2,
         "_deepnote_index_column": "2019-01-31T14:47:00.000000"
        },
        {
         "num": 4,
         "city": "Cambridge",
         "rolling_average": 3.4,
         "_deepnote_index_column": "2019-01-31T14:48:00.000000"
        },
        {
         "num": 1,
         "city": "Cambridge",
         "rolling_average": 3.2,
         "_deepnote_index_column": "2019-01-31T14:49:00.000000"
        },
        {
         "num": 3,
         "city": "Cambridge",
         "rolling_average": 3,
         "_deepnote_index_column": "2019-01-31T14:50:00.000000"
        },
        {
         "num": 3,
         "city": "Cambridge",
         "rolling_average": 2.8,
         "_deepnote_index_column": "2019-01-31T14:51:00.000000"
        },
        {
         "num": 3,
         "city": "Cambridge",
         "rolling_average": 2.8,
         "_deepnote_index_column": "2019-01-31T14:52:00.000000"
        },
        {
         "num": 3,
         "city": "Cambridge",
         "rolling_average": 2.6,
         "_deepnote_index_column": "2019-01-31T14:53:00.000000"
        },
        {
         "num": 3,
         "city": "Cambridge",
         "rolling_average": 3,
         "_deepnote_index_column": "2019-01-31T14:54:00.000000"
        },
        {
         "num": 3,
         "city": "Cambridge",
         "rolling_average": 3,
         "_deepnote_index_column": "2019-01-31T14:55:00.000000"
        },
        {
         "num": 4,
         "city": "Cambridge",
         "rolling_average": 3.2,
         "_deepnote_index_column": "2019-01-31T14:56:00.000000"
        },
        {
         "num": 3,
         "city": "Cambridge",
         "rolling_average": 3.2,
         "_deepnote_index_column": "2019-01-31T14:57:00.000000"
        },
        {
         "num": 3,
         "city": "Cambridge",
         "rolling_average": 3.2,
         "_deepnote_index_column": "2019-01-31T14:58:00.000000"
        },
        {
         "num": 3,
         "city": "Cambridge",
         "rolling_average": 3.2,
         "_deepnote_index_column": "2019-01-31T14:59:00.000000"
        },
        {
         "num": 4,
         "city": "Cambridge",
         "rolling_average": 3.4,
         "_deepnote_index_column": "2019-01-31T15:00:00.000000"
        },
        {
         "num": 4,
         "city": "Cambridge",
         "rolling_average": 3.4,
         "_deepnote_index_column": "2019-01-31T15:01:00.000000"
        },
        {
         "num": 4,
         "city": "Cambridge",
         "rolling_average": 3.6,
         "_deepnote_index_column": "2019-01-31T15:02:00.000000"
        },
        {
         "num": 3,
         "city": "Cambridge",
         "rolling_average": 3.6,
         "_deepnote_index_column": "2019-01-31T15:03:00.000000"
        },
        {
         "num": 2,
         "city": "Cambridge",
         "rolling_average": 3.4,
         "_deepnote_index_column": "2019-01-31T15:04:00.000000"
        },
        {
         "num": 3,
         "city": "Cambridge",
         "rolling_average": 3.2,
         "_deepnote_index_column": "2019-01-31T15:05:00.000000"
        },
        {
         "num": 1,
         "city": "Cambridge",
         "rolling_average": 2.6,
         "_deepnote_index_column": "2019-01-31T15:06:00.000000"
        },
        {
         "num": 2,
         "city": "Cambridge",
         "rolling_average": 2.2,
         "_deepnote_index_column": "2019-01-31T15:07:00.000000"
        },
        {
         "num": 3,
         "city": "Cambridge",
         "rolling_average": 2.2,
         "_deepnote_index_column": "2019-01-31T15:08:00.000000"
        },
        {
         "num": 4,
         "city": "Cambridge",
         "rolling_average": 2.6,
         "_deepnote_index_column": "2019-01-31T15:09:00.000000"
        },
        {
         "num": 3,
         "city": "Cambridge",
         "rolling_average": 2.6,
         "_deepnote_index_column": "2019-01-31T15:10:00.000000"
        },
        {
         "num": 2,
         "city": "Cambridge",
         "rolling_average": 2.8,
         "_deepnote_index_column": "2019-01-31T15:11:00.000000"
        },
        {
         "num": 4,
         "city": "Cambridge",
         "rolling_average": 3.2,
         "_deepnote_index_column": "2019-01-31T15:12:00.000000"
        },
        {
         "num": 3,
         "city": "Cambridge",
         "rolling_average": 3.2,
         "_deepnote_index_column": "2019-01-31T15:13:00.000000"
        },
        {
         "num": 4,
         "city": "Cambridge",
         "rolling_average": 3.2,
         "_deepnote_index_column": "2019-01-31T15:14:00.000000"
        },
        {
         "num": 4,
         "city": "Cambridge",
         "rolling_average": 3.4,
         "_deepnote_index_column": "2019-01-31T15:15:00.000000"
        },
        {
         "num": 1,
         "city": "Cambridge",
         "rolling_average": 3.2,
         "_deepnote_index_column": "2019-01-31T15:16:00.000000"
        },
        {
         "num": 2,
         "city": "Cambridge",
         "rolling_average": 2.8,
         "_deepnote_index_column": "2019-01-31T15:17:00.000000"
        },
        {
         "num": 2,
         "city": "Cambridge",
         "rolling_average": 2.6,
         "_deepnote_index_column": "2019-01-31T15:18:00.000000"
        },
        {
         "num": 2,
         "city": "Cambridge",
         "rolling_average": 2.2,
         "_deepnote_index_column": "2019-01-31T15:19:00.000000"
        },
        {
         "num": 4,
         "city": "Cambridge",
         "rolling_average": 2.2,
         "_deepnote_index_column": "2019-01-31T15:20:00.000000"
        },
        {
         "num": 1,
         "city": "Cambridge",
         "rolling_average": 2.2,
         "_deepnote_index_column": "2019-01-31T15:21:00.000000"
        },
        {
         "num": 1,
         "city": "Cambridge",
         "rolling_average": 2,
         "_deepnote_index_column": "2019-01-31T15:22:00.000000"
        },
        {
         "num": 2,
         "city": "Cambridge",
         "rolling_average": 2,
         "_deepnote_index_column": "2019-01-31T15:23:00.000000"
        },
        {
         "num": 3,
         "city": "Cambridge",
         "rolling_average": 2.2,
         "_deepnote_index_column": "2019-01-31T15:24:00.000000"
        },
        {
         "num": 4,
         "city": "Cambridge",
         "rolling_average": 2.2,
         "_deepnote_index_column": "2019-01-31T15:25:00.000000"
        },
        {
         "num": 4,
         "city": "Cambridge",
         "rolling_average": 2.8,
         "_deepnote_index_column": "2019-01-31T15:26:00.000000"
        },
        {
         "num": 3,
         "city": "Cambridge",
         "rolling_average": 3.2,
         "_deepnote_index_column": "2019-01-31T15:27:00.000000"
        },
        {
         "num": 2,
         "city": "Cambridge",
         "rolling_average": 3.2,
         "_deepnote_index_column": "2019-01-31T15:28:00.000000"
        },
        {
         "num": 3,
         "city": "Cambridge",
         "rolling_average": 3.2,
         "_deepnote_index_column": "2019-01-31T15:29:00.000000"
        },
        {
         "num": 3,
         "city": "Cambridge",
         "rolling_average": 3,
         "_deepnote_index_column": "2019-01-31T15:30:00.000000"
        },
        {
         "num": 2,
         "city": "Cambridge",
         "rolling_average": 2.6,
         "_deepnote_index_column": "2019-01-31T15:31:00.000000"
        },
        {
         "num": 4,
         "city": "Cambridge",
         "rolling_average": 2.8,
         "_deepnote_index_column": "2019-01-31T15:32:00.000000"
        },
        {
         "num": 3,
         "city": "Cambridge",
         "rolling_average": 3,
         "_deepnote_index_column": "2019-01-31T15:33:00.000000"
        },
        {
         "num": 4,
         "city": "Cambridge",
         "rolling_average": 3.2,
         "_deepnote_index_column": "2019-01-31T15:34:00.000000"
        },
        {
         "num": 1,
         "city": "Cambridge",
         "rolling_average": 2.8,
         "_deepnote_index_column": "2019-01-31T15:35:00.000000"
        },
        {
         "num": 2,
         "city": "Cambridge",
         "rolling_average": 2.8,
         "_deepnote_index_column": "2019-01-31T15:36:00.000000"
        },
        {
         "num": 3,
         "city": "Cambridge",
         "rolling_average": 2.6,
         "_deepnote_index_column": "2019-01-31T15:37:00.000000"
        },
        {
         "num": 3,
         "city": "Cambridge",
         "rolling_average": 2.6,
         "_deepnote_index_column": "2019-01-31T15:38:00.000000"
        },
        {
         "num": 3,
         "city": "Cambridge",
         "rolling_average": 2.4,
         "_deepnote_index_column": "2019-01-31T15:39:00.000000"
        },
        {
         "num": 3,
         "city": "Cambridge",
         "rolling_average": 2.8,
         "_deepnote_index_column": "2019-01-31T15:40:00.000000"
        },
        {
         "num": 4,
         "city": "Cambridge",
         "rolling_average": 3.2,
         "_deepnote_index_column": "2019-01-31T15:41:00.000000"
        },
        {
         "num": 4,
         "city": "Cambridge",
         "rolling_average": 3.4,
         "_deepnote_index_column": "2019-01-31T15:42:00.000000"
        },
        {
         "num": 2,
         "city": "Cambridge",
         "rolling_average": 3.2,
         "_deepnote_index_column": "2019-01-31T15:43:00.000000"
        },
        {
         "num": 2,
         "city": "Cambridge",
         "rolling_average": 3,
         "_deepnote_index_column": "2019-01-31T15:44:00.000000"
        },
        {
         "num": 2,
         "city": "Cambridge",
         "rolling_average": 2.8,
         "_deepnote_index_column": "2019-01-31T15:45:00.000000"
        },
        {
         "num": 3,
         "city": "Cambridge",
         "rolling_average": 2.6,
         "_deepnote_index_column": "2019-01-31T15:46:00.000000"
        },
        {
         "num": 4,
         "city": "Cambridge",
         "rolling_average": 2.6,
         "_deepnote_index_column": "2019-01-31T15:47:00.000000"
        },
        {
         "num": 4,
         "city": "Cambridge",
         "rolling_average": 3,
         "_deepnote_index_column": "2019-01-31T15:48:00.000000"
        },
        {
         "num": 4,
         "city": "Cambridge",
         "rolling_average": 3.4,
         "_deepnote_index_column": "2019-01-31T15:49:00.000000"
        },
        {
         "num": 3,
         "city": "Cambridge",
         "rolling_average": 3.6,
         "_deepnote_index_column": "2019-01-31T15:50:00.000000"
        },
        {
         "num": 3,
         "city": "Cambridge",
         "rolling_average": 3.6,
         "_deepnote_index_column": "2019-01-31T15:51:00.000000"
        },
        {
         "num": 4,
         "city": "Cambridge",
         "rolling_average": 3.6,
         "_deepnote_index_column": "2019-01-31T15:52:00.000000"
        },
        {
         "num": 3,
         "city": "Cambridge",
         "rolling_average": 3.4,
         "_deepnote_index_column": "2019-01-31T15:53:00.000000"
        },
        {
         "num": 3,
         "city": "Cambridge",
         "rolling_average": 3.2,
         "_deepnote_index_column": "2019-01-31T15:54:00.000000"
        },
        {
         "num": 1,
         "city": "Cambridge",
         "rolling_average": 2.8,
         "_deepnote_index_column": "2019-01-31T15:55:00.000000"
        },
        {
         "num": 3,
         "city": "Cambridge",
         "rolling_average": 2.8,
         "_deepnote_index_column": "2019-01-31T15:56:00.000000"
        },
        {
         "num": 3,
         "city": "Cambridge",
         "rolling_average": 2.6,
         "_deepnote_index_column": "2019-01-31T15:57:00.000000"
        },
        {
         "num": 3,
         "city": "Cambridge",
         "rolling_average": 2.6,
         "_deepnote_index_column": "2019-01-31T15:58:00.000000"
        },
        {
         "num": 3,
         "city": "Cambridge",
         "rolling_average": 2.6,
         "_deepnote_index_column": "2019-01-31T15:59:00.000000"
        },
        {
         "num": 2,
         "city": "Cambridge",
         "rolling_average": 2.8,
         "_deepnote_index_column": "2019-01-31T16:00:00.000000"
        }
       ]
      },
      "text/plain": "                     num       city  rolling_average\ndate                                                \n2015-01-01 09:00:00    4     London              NaN\n2015-01-01 09:01:00    4     London              NaN\n2015-01-01 09:02:00    3     London              NaN\n2015-01-01 09:03:00    3     London              NaN\n2015-01-01 09:04:00    3     London              3.4\n...                  ...        ...              ...\n2019-01-31 15:56:00    3  Cambridge              2.8\n2019-01-31 15:57:00    3  Cambridge              2.6\n2019-01-31 15:58:00    3  Cambridge              2.6\n2019-01-31 15:59:00    3  Cambridge              2.6\n2019-01-31 16:00:00    2  Cambridge              2.8\n\n[1795144 rows x 3 columns]",
      "text/html": "<div>\n<style scoped>\n    .dataframe tbody tr th:only-of-type {\n        vertical-align: middle;\n    }\n\n    .dataframe tbody tr th {\n        vertical-align: top;\n    }\n\n    .dataframe thead th {\n        text-align: right;\n    }\n</style>\n<table border=\"1\" class=\"dataframe\">\n  <thead>\n    <tr style=\"text-align: right;\">\n      <th></th>\n      <th>num</th>\n      <th>city</th>\n      <th>rolling_average</th>\n    </tr>\n    <tr>\n      <th>date</th>\n      <th></th>\n      <th></th>\n      <th></th>\n    </tr>\n  </thead>\n  <tbody>\n    <tr>\n      <th>2015-01-01 09:00:00</th>\n      <td>4</td>\n      <td>London</td>\n      <td>NaN</td>\n    </tr>\n    <tr>\n      <th>2015-01-01 09:01:00</th>\n      <td>4</td>\n      <td>London</td>\n      <td>NaN</td>\n    </tr>\n    <tr>\n      <th>2015-01-01 09:02:00</th>\n      <td>3</td>\n      <td>London</td>\n      <td>NaN</td>\n    </tr>\n    <tr>\n      <th>2015-01-01 09:03:00</th>\n      <td>3</td>\n      <td>London</td>\n      <td>NaN</td>\n    </tr>\n    <tr>\n      <th>2015-01-01 09:04:00</th>\n      <td>3</td>\n      <td>London</td>\n      <td>3.4</td>\n    </tr>\n    <tr>\n      <th>...</th>\n      <td>...</td>\n      <td>...</td>\n      <td>...</td>\n    </tr>\n    <tr>\n      <th>2019-01-31 15:56:00</th>\n      <td>3</td>\n      <td>Cambridge</td>\n      <td>2.8</td>\n    </tr>\n    <tr>\n      <th>2019-01-31 15:57:00</th>\n      <td>3</td>\n      <td>Cambridge</td>\n      <td>2.6</td>\n    </tr>\n    <tr>\n      <th>2019-01-31 15:58:00</th>\n      <td>3</td>\n      <td>Cambridge</td>\n      <td>2.6</td>\n    </tr>\n    <tr>\n      <th>2019-01-31 15:59:00</th>\n      <td>3</td>\n      <td>Cambridge</td>\n      <td>2.6</td>\n    </tr>\n    <tr>\n      <th>2019-01-31 16:00:00</th>\n      <td>2</td>\n      <td>Cambridge</td>\n      <td>2.8</td>\n    </tr>\n  </tbody>\n</table>\n<p>1795144 rows × 3 columns</p>\n</div>"
     },
     "metadata": {}
    }
   ]
  },
  {
   "cell_type": "code",
   "metadata": {
    "tags": [],
    "cell_id": "00066-c4ed4a9c-89f0-4e38-bddc-aba06fb78a07",
    "deepnote_to_be_reexecuted": false,
    "source_hash": "cc2cdff4",
    "execution_start": 1627923278918,
    "execution_millis": 123,
    "deepnote_cell_type": "code"
   },
   "source": "df['rolling_average'] = df['rolling_average'].fillna(method='backfill')\ndf",
   "execution_count": null,
   "outputs": [
    {
     "output_type": "execute_result",
     "execution_count": 196,
     "data": {
      "application/vnd.deepnote.dataframe.v2+json": {
       "row_count": 1795144,
       "column_count": 3,
       "columns": [
        {
         "name": "num",
         "dtype": "int64"
        },
        {
         "name": "city",
         "dtype": "object"
        },
        {
         "name": "rolling_average",
         "dtype": "float64"
        },
        {
         "name": "_deepnote_index_column",
         "dtype": "datetime64[ns]"
        }
       ],
       "rows_top": [
        {
         "num": 4,
         "city": "London",
         "rolling_average": 3.4,
         "_deepnote_index_column": "2015-01-01T09:00:00.000000"
        },
        {
         "num": 4,
         "city": "London",
         "rolling_average": 3.4,
         "_deepnote_index_column": "2015-01-01T09:01:00.000000"
        },
        {
         "num": 3,
         "city": "London",
         "rolling_average": 3.4,
         "_deepnote_index_column": "2015-01-01T09:02:00.000000"
        },
        {
         "num": 3,
         "city": "London",
         "rolling_average": 3.4,
         "_deepnote_index_column": "2015-01-01T09:03:00.000000"
        },
        {
         "num": 3,
         "city": "London",
         "rolling_average": 3.4,
         "_deepnote_index_column": "2015-01-01T09:04:00.000000"
        },
        {
         "num": 3,
         "city": "London",
         "rolling_average": 3.2,
         "_deepnote_index_column": "2015-01-01T09:05:00.000000"
        },
        {
         "num": 3,
         "city": "London",
         "rolling_average": 3,
         "_deepnote_index_column": "2015-01-01T09:06:00.000000"
        },
        {
         "num": 2,
         "city": "London",
         "rolling_average": 2.8,
         "_deepnote_index_column": "2015-01-01T09:07:00.000000"
        },
        {
         "num": 3,
         "city": "London",
         "rolling_average": 2.8,
         "_deepnote_index_column": "2015-01-01T09:08:00.000000"
        },
        {
         "num": 4,
         "city": "London",
         "rolling_average": 3,
         "_deepnote_index_column": "2015-01-01T09:09:00.000000"
        },
        {
         "num": 4,
         "city": "London",
         "rolling_average": 3.2,
         "_deepnote_index_column": "2015-01-01T09:10:00.000000"
        },
        {
         "num": 3,
         "city": "London",
         "rolling_average": 3.2,
         "_deepnote_index_column": "2015-01-01T09:11:00.000000"
        },
        {
         "num": 3,
         "city": "London",
         "rolling_average": 3.4,
         "_deepnote_index_column": "2015-01-01T09:12:00.000000"
        },
        {
         "num": 4,
         "city": "London",
         "rolling_average": 3.6,
         "_deepnote_index_column": "2015-01-01T09:13:00.000000"
        },
        {
         "num": 3,
         "city": "London",
         "rolling_average": 3.4,
         "_deepnote_index_column": "2015-01-01T09:14:00.000000"
        },
        {
         "num": 3,
         "city": "London",
         "rolling_average": 3.2,
         "_deepnote_index_column": "2015-01-01T09:15:00.000000"
        },
        {
         "num": 4,
         "city": "London",
         "rolling_average": 3.4,
         "_deepnote_index_column": "2015-01-01T09:16:00.000000"
        },
        {
         "num": 3,
         "city": "London",
         "rolling_average": 3.4,
         "_deepnote_index_column": "2015-01-01T09:17:00.000000"
        },
        {
         "num": 3,
         "city": "London",
         "rolling_average": 3.2,
         "_deepnote_index_column": "2015-01-01T09:18:00.000000"
        },
        {
         "num": 3,
         "city": "London",
         "rolling_average": 3.2,
         "_deepnote_index_column": "2015-01-01T09:19:00.000000"
        },
        {
         "num": 3,
         "city": "London",
         "rolling_average": 3.2,
         "_deepnote_index_column": "2015-01-01T09:20:00.000000"
        },
        {
         "num": 3,
         "city": "London",
         "rolling_average": 3,
         "_deepnote_index_column": "2015-01-01T09:21:00.000000"
        },
        {
         "num": 3,
         "city": "London",
         "rolling_average": 3,
         "_deepnote_index_column": "2015-01-01T09:22:00.000000"
        },
        {
         "num": 1,
         "city": "London",
         "rolling_average": 2.6,
         "_deepnote_index_column": "2015-01-01T09:23:00.000000"
        },
        {
         "num": 2,
         "city": "London",
         "rolling_average": 2.4,
         "_deepnote_index_column": "2015-01-01T09:24:00.000000"
        },
        {
         "num": 4,
         "city": "London",
         "rolling_average": 2.6,
         "_deepnote_index_column": "2015-01-01T09:25:00.000000"
        },
        {
         "num": 3,
         "city": "London",
         "rolling_average": 2.6,
         "_deepnote_index_column": "2015-01-01T09:26:00.000000"
        },
        {
         "num": 4,
         "city": "London",
         "rolling_average": 2.8,
         "_deepnote_index_column": "2015-01-01T09:27:00.000000"
        },
        {
         "num": 3,
         "city": "London",
         "rolling_average": 3.2,
         "_deepnote_index_column": "2015-01-01T09:28:00.000000"
        },
        {
         "num": 3,
         "city": "London",
         "rolling_average": 3.4,
         "_deepnote_index_column": "2015-01-01T09:29:00.000000"
        },
        {
         "num": 3,
         "city": "London",
         "rolling_average": 3.2,
         "_deepnote_index_column": "2015-01-01T09:30:00.000000"
        },
        {
         "num": 1,
         "city": "London",
         "rolling_average": 2.8,
         "_deepnote_index_column": "2015-01-01T09:31:00.000000"
        },
        {
         "num": 3,
         "city": "London",
         "rolling_average": 2.6,
         "_deepnote_index_column": "2015-01-01T09:32:00.000000"
        },
        {
         "num": 3,
         "city": "London",
         "rolling_average": 2.6,
         "_deepnote_index_column": "2015-01-01T09:33:00.000000"
        },
        {
         "num": 3,
         "city": "London",
         "rolling_average": 2.6,
         "_deepnote_index_column": "2015-01-01T09:34:00.000000"
        },
        {
         "num": 3,
         "city": "London",
         "rolling_average": 2.6,
         "_deepnote_index_column": "2015-01-01T09:35:00.000000"
        },
        {
         "num": 3,
         "city": "London",
         "rolling_average": 3,
         "_deepnote_index_column": "2015-01-01T09:36:00.000000"
        },
        {
         "num": 3,
         "city": "London",
         "rolling_average": 3,
         "_deepnote_index_column": "2015-01-01T09:37:00.000000"
        },
        {
         "num": 2,
         "city": "London",
         "rolling_average": 2.8,
         "_deepnote_index_column": "2015-01-01T09:38:00.000000"
        },
        {
         "num": 3,
         "city": "London",
         "rolling_average": 2.8,
         "_deepnote_index_column": "2015-01-01T09:39:00.000000"
        },
        {
         "num": 4,
         "city": "London",
         "rolling_average": 3,
         "_deepnote_index_column": "2015-01-01T09:40:00.000000"
        },
        {
         "num": 2,
         "city": "London",
         "rolling_average": 2.8,
         "_deepnote_index_column": "2015-01-01T09:41:00.000000"
        },
        {
         "num": 4,
         "city": "London",
         "rolling_average": 3,
         "_deepnote_index_column": "2015-01-01T09:42:00.000000"
        },
        {
         "num": 1,
         "city": "London",
         "rolling_average": 2.8,
         "_deepnote_index_column": "2015-01-01T09:43:00.000000"
        },
        {
         "num": 3,
         "city": "London",
         "rolling_average": 2.8,
         "_deepnote_index_column": "2015-01-01T09:44:00.000000"
        },
        {
         "num": 2,
         "city": "London",
         "rolling_average": 2.4,
         "_deepnote_index_column": "2015-01-01T09:45:00.000000"
        },
        {
         "num": 3,
         "city": "London",
         "rolling_average": 2.6,
         "_deepnote_index_column": "2015-01-01T09:46:00.000000"
        },
        {
         "num": 3,
         "city": "London",
         "rolling_average": 2.4,
         "_deepnote_index_column": "2015-01-01T09:47:00.000000"
        },
        {
         "num": 1,
         "city": "London",
         "rolling_average": 2.4,
         "_deepnote_index_column": "2015-01-01T09:48:00.000000"
        },
        {
         "num": 4,
         "city": "London",
         "rolling_average": 2.6,
         "_deepnote_index_column": "2015-01-01T09:49:00.000000"
        },
        {
         "num": 2,
         "city": "London",
         "rolling_average": 2.6,
         "_deepnote_index_column": "2015-01-01T09:50:00.000000"
        },
        {
         "num": 3,
         "city": "London",
         "rolling_average": 2.6,
         "_deepnote_index_column": "2015-01-01T09:51:00.000000"
        },
        {
         "num": 2,
         "city": "London",
         "rolling_average": 2.4,
         "_deepnote_index_column": "2015-01-01T09:52:00.000000"
        },
        {
         "num": 2,
         "city": "London",
         "rolling_average": 2.6,
         "_deepnote_index_column": "2015-01-01T09:53:00.000000"
        },
        {
         "num": 4,
         "city": "London",
         "rolling_average": 2.6,
         "_deepnote_index_column": "2015-01-01T09:54:00.000000"
        },
        {
         "num": 3,
         "city": "London",
         "rolling_average": 2.8,
         "_deepnote_index_column": "2015-01-01T09:55:00.000000"
        },
        {
         "num": 2,
         "city": "London",
         "rolling_average": 2.6,
         "_deepnote_index_column": "2015-01-01T09:56:00.000000"
        },
        {
         "num": 3,
         "city": "London",
         "rolling_average": 2.8,
         "_deepnote_index_column": "2015-01-01T09:57:00.000000"
        },
        {
         "num": 3,
         "city": "London",
         "rolling_average": 3,
         "_deepnote_index_column": "2015-01-01T09:58:00.000000"
        },
        {
         "num": 3,
         "city": "London",
         "rolling_average": 2.8,
         "_deepnote_index_column": "2015-01-01T09:59:00.000000"
        },
        {
         "num": 2,
         "city": "London",
         "rolling_average": 2.6,
         "_deepnote_index_column": "2015-01-01T10:00:00.000000"
        },
        {
         "num": 3,
         "city": "London",
         "rolling_average": 2.8,
         "_deepnote_index_column": "2015-01-01T10:01:00.000000"
        },
        {
         "num": 3,
         "city": "London",
         "rolling_average": 2.8,
         "_deepnote_index_column": "2015-01-01T10:02:00.000000"
        },
        {
         "num": 3,
         "city": "London",
         "rolling_average": 2.8,
         "_deepnote_index_column": "2015-01-01T10:03:00.000000"
        },
        {
         "num": 3,
         "city": "London",
         "rolling_average": 2.8,
         "_deepnote_index_column": "2015-01-01T10:04:00.000000"
        },
        {
         "num": 4,
         "city": "London",
         "rolling_average": 3.2,
         "_deepnote_index_column": "2015-01-01T10:05:00.000000"
        },
        {
         "num": 2,
         "city": "London",
         "rolling_average": 3,
         "_deepnote_index_column": "2015-01-01T10:06:00.000000"
        },
        {
         "num": 4,
         "city": "London",
         "rolling_average": 3.2,
         "_deepnote_index_column": "2015-01-01T10:07:00.000000"
        },
        {
         "num": 3,
         "city": "London",
         "rolling_average": 3.2,
         "_deepnote_index_column": "2015-01-01T10:08:00.000000"
        },
        {
         "num": 4,
         "city": "London",
         "rolling_average": 3.4,
         "_deepnote_index_column": "2015-01-01T10:09:00.000000"
        },
        {
         "num": 2,
         "city": "London",
         "rolling_average": 3,
         "_deepnote_index_column": "2015-01-01T10:10:00.000000"
        },
        {
         "num": 3,
         "city": "London",
         "rolling_average": 3.2,
         "_deepnote_index_column": "2015-01-01T10:11:00.000000"
        },
        {
         "num": 3,
         "city": "London",
         "rolling_average": 3,
         "_deepnote_index_column": "2015-01-01T10:12:00.000000"
        },
        {
         "num": 4,
         "city": "London",
         "rolling_average": 3.2,
         "_deepnote_index_column": "2015-01-01T10:13:00.000000"
        },
        {
         "num": 2,
         "city": "London",
         "rolling_average": 2.8,
         "_deepnote_index_column": "2015-01-01T10:14:00.000000"
        },
        {
         "num": 2,
         "city": "London",
         "rolling_average": 2.8,
         "_deepnote_index_column": "2015-01-01T10:15:00.000000"
        },
        {
         "num": 2,
         "city": "London",
         "rolling_average": 2.6,
         "_deepnote_index_column": "2015-01-01T10:16:00.000000"
        },
        {
         "num": 3,
         "city": "London",
         "rolling_average": 2.6,
         "_deepnote_index_column": "2015-01-01T10:17:00.000000"
        },
        {
         "num": 4,
         "city": "London",
         "rolling_average": 2.6,
         "_deepnote_index_column": "2015-01-01T10:18:00.000000"
        },
        {
         "num": 3,
         "city": "London",
         "rolling_average": 2.8,
         "_deepnote_index_column": "2015-01-01T10:19:00.000000"
        },
        {
         "num": 4,
         "city": "London",
         "rolling_average": 3.2,
         "_deepnote_index_column": "2015-01-01T10:20:00.000000"
        },
        {
         "num": 3,
         "city": "London",
         "rolling_average": 3.4,
         "_deepnote_index_column": "2015-01-01T10:21:00.000000"
        },
        {
         "num": 3,
         "city": "London",
         "rolling_average": 3.4,
         "_deepnote_index_column": "2015-01-01T10:22:00.000000"
        },
        {
         "num": 2,
         "city": "London",
         "rolling_average": 3,
         "_deepnote_index_column": "2015-01-01T10:23:00.000000"
        },
        {
         "num": 3,
         "city": "London",
         "rolling_average": 3,
         "_deepnote_index_column": "2015-01-01T10:24:00.000000"
        },
        {
         "num": 3,
         "city": "London",
         "rolling_average": 2.8,
         "_deepnote_index_column": "2015-01-01T10:25:00.000000"
        },
        {
         "num": 3,
         "city": "London",
         "rolling_average": 2.8,
         "_deepnote_index_column": "2015-01-01T10:26:00.000000"
        },
        {
         "num": 4,
         "city": "London",
         "rolling_average": 3,
         "_deepnote_index_column": "2015-01-01T10:27:00.000000"
        },
        {
         "num": 3,
         "city": "London",
         "rolling_average": 3.2,
         "_deepnote_index_column": "2015-01-01T10:28:00.000000"
        },
        {
         "num": 4,
         "city": "London",
         "rolling_average": 3.4,
         "_deepnote_index_column": "2015-01-01T10:29:00.000000"
        },
        {
         "num": 4,
         "city": "London",
         "rolling_average": 3.6,
         "_deepnote_index_column": "2015-01-01T10:30:00.000000"
        },
        {
         "num": 3,
         "city": "London",
         "rolling_average": 3.6,
         "_deepnote_index_column": "2015-01-01T10:31:00.000000"
        },
        {
         "num": 3,
         "city": "London",
         "rolling_average": 3.4,
         "_deepnote_index_column": "2015-01-01T10:32:00.000000"
        },
        {
         "num": 3,
         "city": "London",
         "rolling_average": 3.4,
         "_deepnote_index_column": "2015-01-01T10:33:00.000000"
        },
        {
         "num": 4,
         "city": "London",
         "rolling_average": 3.4,
         "_deepnote_index_column": "2015-01-01T10:34:00.000000"
        },
        {
         "num": 3,
         "city": "London",
         "rolling_average": 3.2,
         "_deepnote_index_column": "2015-01-01T10:35:00.000000"
        },
        {
         "num": 4,
         "city": "London",
         "rolling_average": 3.4,
         "_deepnote_index_column": "2015-01-01T10:36:00.000000"
        },
        {
         "num": 1,
         "city": "London",
         "rolling_average": 3,
         "_deepnote_index_column": "2015-01-01T10:37:00.000000"
        },
        {
         "num": 3,
         "city": "London",
         "rolling_average": 3,
         "_deepnote_index_column": "2015-01-01T10:38:00.000000"
        },
        {
         "num": 2,
         "city": "London",
         "rolling_average": 2.6,
         "_deepnote_index_column": "2015-01-01T10:39:00.000000"
        },
        {
         "num": 4,
         "city": "London",
         "rolling_average": 2.8,
         "_deepnote_index_column": "2015-01-01T10:40:00.000000"
        },
        {
         "num": 3,
         "city": "London",
         "rolling_average": 2.6,
         "_deepnote_index_column": "2015-01-01T10:41:00.000000"
        },
        {
         "num": 4,
         "city": "London",
         "rolling_average": 3.2,
         "_deepnote_index_column": "2015-01-01T10:42:00.000000"
        },
        {
         "num": 3,
         "city": "London",
         "rolling_average": 3.2,
         "_deepnote_index_column": "2015-01-01T10:43:00.000000"
        },
        {
         "num": 4,
         "city": "London",
         "rolling_average": 3.6,
         "_deepnote_index_column": "2015-01-01T10:44:00.000000"
        },
        {
         "num": 3,
         "city": "London",
         "rolling_average": 3.4,
         "_deepnote_index_column": "2015-01-01T10:45:00.000000"
        },
        {
         "num": 3,
         "city": "London",
         "rolling_average": 3.4,
         "_deepnote_index_column": "2015-01-01T10:46:00.000000"
        },
        {
         "num": 3,
         "city": "London",
         "rolling_average": 3.2,
         "_deepnote_index_column": "2015-01-01T10:47:00.000000"
        },
        {
         "num": 3,
         "city": "London",
         "rolling_average": 3.2,
         "_deepnote_index_column": "2015-01-01T10:48:00.000000"
        },
        {
         "num": 4,
         "city": "London",
         "rolling_average": 3.2,
         "_deepnote_index_column": "2015-01-01T10:49:00.000000"
        },
        {
         "num": 4,
         "city": "London",
         "rolling_average": 3.4,
         "_deepnote_index_column": "2015-01-01T10:50:00.000000"
        },
        {
         "num": 2,
         "city": "London",
         "rolling_average": 3.2,
         "_deepnote_index_column": "2015-01-01T10:51:00.000000"
        },
        {
         "num": 3,
         "city": "London",
         "rolling_average": 3.2,
         "_deepnote_index_column": "2015-01-01T10:52:00.000000"
        },
        {
         "num": 3,
         "city": "London",
         "rolling_average": 3.2,
         "_deepnote_index_column": "2015-01-01T10:53:00.000000"
        },
        {
         "num": 4,
         "city": "London",
         "rolling_average": 3.2,
         "_deepnote_index_column": "2015-01-01T10:54:00.000000"
        },
        {
         "num": 4,
         "city": "London",
         "rolling_average": 3.2,
         "_deepnote_index_column": "2015-01-01T10:55:00.000000"
        },
        {
         "num": 3,
         "city": "London",
         "rolling_average": 3.4,
         "_deepnote_index_column": "2015-01-01T10:56:00.000000"
        },
        {
         "num": 3,
         "city": "London",
         "rolling_average": 3.4,
         "_deepnote_index_column": "2015-01-01T10:57:00.000000"
        },
        {
         "num": 3,
         "city": "London",
         "rolling_average": 3.4,
         "_deepnote_index_column": "2015-01-01T10:58:00.000000"
        },
        {
         "num": 3,
         "city": "London",
         "rolling_average": 3.2,
         "_deepnote_index_column": "2015-01-01T10:59:00.000000"
        },
        {
         "num": 3,
         "city": "London",
         "rolling_average": 3,
         "_deepnote_index_column": "2015-01-01T11:00:00.000000"
        },
        {
         "num": 4,
         "city": "London",
         "rolling_average": 3.2,
         "_deepnote_index_column": "2015-01-01T11:01:00.000000"
        },
        {
         "num": 3,
         "city": "London",
         "rolling_average": 3.2,
         "_deepnote_index_column": "2015-01-01T11:02:00.000000"
        },
        {
         "num": 3,
         "city": "London",
         "rolling_average": 3.2,
         "_deepnote_index_column": "2015-01-01T11:03:00.000000"
        },
        {
         "num": 3,
         "city": "London",
         "rolling_average": 3.2,
         "_deepnote_index_column": "2015-01-01T11:04:00.000000"
        },
        {
         "num": 3,
         "city": "London",
         "rolling_average": 3.2,
         "_deepnote_index_column": "2015-01-01T11:05:00.000000"
        },
        {
         "num": 3,
         "city": "London",
         "rolling_average": 3,
         "_deepnote_index_column": "2015-01-01T11:06:00.000000"
        },
        {
         "num": 4,
         "city": "London",
         "rolling_average": 3.2,
         "_deepnote_index_column": "2015-01-01T11:07:00.000000"
        },
        {
         "num": 3,
         "city": "London",
         "rolling_average": 3.2,
         "_deepnote_index_column": "2015-01-01T11:08:00.000000"
        },
        {
         "num": 2,
         "city": "London",
         "rolling_average": 3,
         "_deepnote_index_column": "2015-01-01T11:09:00.000000"
        },
        {
         "num": 4,
         "city": "London",
         "rolling_average": 3.2,
         "_deepnote_index_column": "2015-01-01T11:10:00.000000"
        },
        {
         "num": 3,
         "city": "London",
         "rolling_average": 3.2,
         "_deepnote_index_column": "2015-01-01T11:11:00.000000"
        },
        {
         "num": 2,
         "city": "London",
         "rolling_average": 2.8,
         "_deepnote_index_column": "2015-01-01T11:12:00.000000"
        },
        {
         "num": 3,
         "city": "London",
         "rolling_average": 2.8,
         "_deepnote_index_column": "2015-01-01T11:13:00.000000"
        },
        {
         "num": 3,
         "city": "London",
         "rolling_average": 3,
         "_deepnote_index_column": "2015-01-01T11:14:00.000000"
        },
        {
         "num": 2,
         "city": "London",
         "rolling_average": 2.6,
         "_deepnote_index_column": "2015-01-01T11:15:00.000000"
        },
        {
         "num": 4,
         "city": "London",
         "rolling_average": 2.8,
         "_deepnote_index_column": "2015-01-01T11:16:00.000000"
        },
        {
         "num": 2,
         "city": "London",
         "rolling_average": 2.8,
         "_deepnote_index_column": "2015-01-01T11:17:00.000000"
        },
        {
         "num": 3,
         "city": "London",
         "rolling_average": 2.8,
         "_deepnote_index_column": "2015-01-01T11:18:00.000000"
        },
        {
         "num": 4,
         "city": "London",
         "rolling_average": 3,
         "_deepnote_index_column": "2015-01-01T11:19:00.000000"
        },
        {
         "num": 3,
         "city": "London",
         "rolling_average": 3.2,
         "_deepnote_index_column": "2015-01-01T11:20:00.000000"
        },
        {
         "num": 3,
         "city": "London",
         "rolling_average": 3,
         "_deepnote_index_column": "2015-01-01T11:21:00.000000"
        },
        {
         "num": 4,
         "city": "London",
         "rolling_average": 3.4,
         "_deepnote_index_column": "2015-01-01T11:22:00.000000"
        },
        {
         "num": 3,
         "city": "London",
         "rolling_average": 3.4,
         "_deepnote_index_column": "2015-01-01T11:23:00.000000"
        },
        {
         "num": 3,
         "city": "London",
         "rolling_average": 3.2,
         "_deepnote_index_column": "2015-01-01T11:24:00.000000"
        },
        {
         "num": 1,
         "city": "London",
         "rolling_average": 2.8,
         "_deepnote_index_column": "2015-01-01T11:25:00.000000"
        },
        {
         "num": 3,
         "city": "London",
         "rolling_average": 2.8,
         "_deepnote_index_column": "2015-01-01T11:26:00.000000"
        },
        {
         "num": 4,
         "city": "London",
         "rolling_average": 2.8,
         "_deepnote_index_column": "2015-01-01T11:27:00.000000"
        },
        {
         "num": 3,
         "city": "London",
         "rolling_average": 2.8,
         "_deepnote_index_column": "2015-01-01T11:28:00.000000"
        },
        {
         "num": 3,
         "city": "London",
         "rolling_average": 2.8,
         "_deepnote_index_column": "2015-01-01T11:29:00.000000"
        },
        {
         "num": 3,
         "city": "London",
         "rolling_average": 3.2,
         "_deepnote_index_column": "2015-01-01T11:30:00.000000"
        },
        {
         "num": 4,
         "city": "London",
         "rolling_average": 3.4,
         "_deepnote_index_column": "2015-01-01T11:31:00.000000"
        },
        {
         "num": 3,
         "city": "London",
         "rolling_average": 3.2,
         "_deepnote_index_column": "2015-01-01T11:32:00.000000"
        },
        {
         "num": 4,
         "city": "London",
         "rolling_average": 3.4,
         "_deepnote_index_column": "2015-01-01T11:33:00.000000"
        },
        {
         "num": 1,
         "city": "London",
         "rolling_average": 3,
         "_deepnote_index_column": "2015-01-01T11:34:00.000000"
        },
        {
         "num": 2,
         "city": "London",
         "rolling_average": 2.8,
         "_deepnote_index_column": "2015-01-01T11:35:00.000000"
        },
        {
         "num": 4,
         "city": "London",
         "rolling_average": 2.8,
         "_deepnote_index_column": "2015-01-01T11:36:00.000000"
        },
        {
         "num": 4,
         "city": "London",
         "rolling_average": 3,
         "_deepnote_index_column": "2015-01-01T11:37:00.000000"
        },
        {
         "num": 3,
         "city": "London",
         "rolling_average": 2.8,
         "_deepnote_index_column": "2015-01-01T11:38:00.000000"
        },
        {
         "num": 3,
         "city": "London",
         "rolling_average": 3.2,
         "_deepnote_index_column": "2015-01-01T11:39:00.000000"
        },
        {
         "num": 3,
         "city": "London",
         "rolling_average": 3.4,
         "_deepnote_index_column": "2015-01-01T11:40:00.000000"
        },
        {
         "num": 3,
         "city": "London",
         "rolling_average": 3.2,
         "_deepnote_index_column": "2015-01-01T11:41:00.000000"
        },
        {
         "num": 1,
         "city": "London",
         "rolling_average": 2.6,
         "_deepnote_index_column": "2015-01-01T11:42:00.000000"
        },
        {
         "num": 1,
         "city": "London",
         "rolling_average": 2.2,
         "_deepnote_index_column": "2015-01-01T11:43:00.000000"
        },
        {
         "num": 3,
         "city": "London",
         "rolling_average": 2.2,
         "_deepnote_index_column": "2015-01-01T11:44:00.000000"
        },
        {
         "num": 3,
         "city": "London",
         "rolling_average": 2.2,
         "_deepnote_index_column": "2015-01-01T11:45:00.000000"
        }
       ],
       "rows_bottom": [
        {
         "num": 3,
         "city": "Cambridge",
         "rolling_average": 3.6,
         "_deepnote_index_column": "2019-01-31T13:14:00.000000"
        },
        {
         "num": 2,
         "city": "Cambridge",
         "rolling_average": 3.2,
         "_deepnote_index_column": "2019-01-31T13:15:00.000000"
        },
        {
         "num": 4,
         "city": "Cambridge",
         "rolling_average": 3.2,
         "_deepnote_index_column": "2019-01-31T13:16:00.000000"
        },
        {
         "num": 1,
         "city": "Cambridge",
         "rolling_average": 2.8,
         "_deepnote_index_column": "2019-01-31T13:17:00.000000"
        },
        {
         "num": 4,
         "city": "Cambridge",
         "rolling_average": 2.8,
         "_deepnote_index_column": "2019-01-31T13:18:00.000000"
        },
        {
         "num": 3,
         "city": "Cambridge",
         "rolling_average": 2.8,
         "_deepnote_index_column": "2019-01-31T13:19:00.000000"
        },
        {
         "num": 2,
         "city": "Cambridge",
         "rolling_average": 2.8,
         "_deepnote_index_column": "2019-01-31T13:20:00.000000"
        },
        {
         "num": 4,
         "city": "Cambridge",
         "rolling_average": 2.8,
         "_deepnote_index_column": "2019-01-31T13:21:00.000000"
        },
        {
         "num": 3,
         "city": "Cambridge",
         "rolling_average": 3.2,
         "_deepnote_index_column": "2019-01-31T13:22:00.000000"
        },
        {
         "num": 3,
         "city": "Cambridge",
         "rolling_average": 3,
         "_deepnote_index_column": "2019-01-31T13:23:00.000000"
        },
        {
         "num": 2,
         "city": "Cambridge",
         "rolling_average": 2.8,
         "_deepnote_index_column": "2019-01-31T13:24:00.000000"
        },
        {
         "num": 4,
         "city": "Cambridge",
         "rolling_average": 3.2,
         "_deepnote_index_column": "2019-01-31T13:25:00.000000"
        },
        {
         "num": 3,
         "city": "Cambridge",
         "rolling_average": 3,
         "_deepnote_index_column": "2019-01-31T13:26:00.000000"
        },
        {
         "num": 2,
         "city": "Cambridge",
         "rolling_average": 2.8,
         "_deepnote_index_column": "2019-01-31T13:27:00.000000"
        },
        {
         "num": 3,
         "city": "Cambridge",
         "rolling_average": 2.8,
         "_deepnote_index_column": "2019-01-31T13:28:00.000000"
        },
        {
         "num": 2,
         "city": "Cambridge",
         "rolling_average": 2.8,
         "_deepnote_index_column": "2019-01-31T13:29:00.000000"
        },
        {
         "num": 2,
         "city": "Cambridge",
         "rolling_average": 2.4,
         "_deepnote_index_column": "2019-01-31T13:30:00.000000"
        },
        {
         "num": 3,
         "city": "Cambridge",
         "rolling_average": 2.4,
         "_deepnote_index_column": "2019-01-31T13:31:00.000000"
        },
        {
         "num": 3,
         "city": "Cambridge",
         "rolling_average": 2.6,
         "_deepnote_index_column": "2019-01-31T13:32:00.000000"
        },
        {
         "num": 3,
         "city": "Cambridge",
         "rolling_average": 2.6,
         "_deepnote_index_column": "2019-01-31T13:33:00.000000"
        },
        {
         "num": 3,
         "city": "Cambridge",
         "rolling_average": 2.8,
         "_deepnote_index_column": "2019-01-31T13:34:00.000000"
        },
        {
         "num": 4,
         "city": "Cambridge",
         "rolling_average": 3.2,
         "_deepnote_index_column": "2019-01-31T13:35:00.000000"
        },
        {
         "num": 1,
         "city": "Cambridge",
         "rolling_average": 2.8,
         "_deepnote_index_column": "2019-01-31T13:36:00.000000"
        },
        {
         "num": 2,
         "city": "Cambridge",
         "rolling_average": 2.6,
         "_deepnote_index_column": "2019-01-31T13:37:00.000000"
        },
        {
         "num": 2,
         "city": "Cambridge",
         "rolling_average": 2.4,
         "_deepnote_index_column": "2019-01-31T13:38:00.000000"
        },
        {
         "num": 2,
         "city": "Cambridge",
         "rolling_average": 2.2,
         "_deepnote_index_column": "2019-01-31T13:39:00.000000"
        },
        {
         "num": 2,
         "city": "Cambridge",
         "rolling_average": 1.8,
         "_deepnote_index_column": "2019-01-31T13:40:00.000000"
        },
        {
         "num": 1,
         "city": "Cambridge",
         "rolling_average": 1.8,
         "_deepnote_index_column": "2019-01-31T13:41:00.000000"
        },
        {
         "num": 2,
         "city": "Cambridge",
         "rolling_average": 1.8,
         "_deepnote_index_column": "2019-01-31T13:42:00.000000"
        },
        {
         "num": 3,
         "city": "Cambridge",
         "rolling_average": 2,
         "_deepnote_index_column": "2019-01-31T13:43:00.000000"
        },
        {
         "num": 2,
         "city": "Cambridge",
         "rolling_average": 2,
         "_deepnote_index_column": "2019-01-31T13:44:00.000000"
        },
        {
         "num": 4,
         "city": "Cambridge",
         "rolling_average": 2.4,
         "_deepnote_index_column": "2019-01-31T13:45:00.000000"
        },
        {
         "num": 4,
         "city": "Cambridge",
         "rolling_average": 3,
         "_deepnote_index_column": "2019-01-31T13:46:00.000000"
        },
        {
         "num": 2,
         "city": "Cambridge",
         "rolling_average": 3,
         "_deepnote_index_column": "2019-01-31T13:47:00.000000"
        },
        {
         "num": 3,
         "city": "Cambridge",
         "rolling_average": 3,
         "_deepnote_index_column": "2019-01-31T13:48:00.000000"
        },
        {
         "num": 2,
         "city": "Cambridge",
         "rolling_average": 3,
         "_deepnote_index_column": "2019-01-31T13:49:00.000000"
        },
        {
         "num": 3,
         "city": "Cambridge",
         "rolling_average": 2.8,
         "_deepnote_index_column": "2019-01-31T13:50:00.000000"
        },
        {
         "num": 3,
         "city": "Cambridge",
         "rolling_average": 2.6,
         "_deepnote_index_column": "2019-01-31T13:51:00.000000"
        },
        {
         "num": 4,
         "city": "Cambridge",
         "rolling_average": 3,
         "_deepnote_index_column": "2019-01-31T13:52:00.000000"
        },
        {
         "num": 4,
         "city": "Cambridge",
         "rolling_average": 3.2,
         "_deepnote_index_column": "2019-01-31T13:53:00.000000"
        },
        {
         "num": 2,
         "city": "Cambridge",
         "rolling_average": 3.2,
         "_deepnote_index_column": "2019-01-31T13:54:00.000000"
        },
        {
         "num": 3,
         "city": "Cambridge",
         "rolling_average": 3.2,
         "_deepnote_index_column": "2019-01-31T13:55:00.000000"
        },
        {
         "num": 3,
         "city": "Cambridge",
         "rolling_average": 3.2,
         "_deepnote_index_column": "2019-01-31T13:56:00.000000"
        },
        {
         "num": 1,
         "city": "Cambridge",
         "rolling_average": 2.6,
         "_deepnote_index_column": "2019-01-31T13:57:00.000000"
        },
        {
         "num": 2,
         "city": "Cambridge",
         "rolling_average": 2.2,
         "_deepnote_index_column": "2019-01-31T13:58:00.000000"
        },
        {
         "num": 3,
         "city": "Cambridge",
         "rolling_average": 2.4,
         "_deepnote_index_column": "2019-01-31T13:59:00.000000"
        },
        {
         "num": 4,
         "city": "Cambridge",
         "rolling_average": 2.6,
         "_deepnote_index_column": "2019-01-31T14:00:00.000000"
        },
        {
         "num": 3,
         "city": "Cambridge",
         "rolling_average": 2.6,
         "_deepnote_index_column": "2019-01-31T14:01:00.000000"
        },
        {
         "num": 3,
         "city": "Cambridge",
         "rolling_average": 3,
         "_deepnote_index_column": "2019-01-31T14:02:00.000000"
        },
        {
         "num": 2,
         "city": "Cambridge",
         "rolling_average": 3,
         "_deepnote_index_column": "2019-01-31T14:03:00.000000"
        },
        {
         "num": 2,
         "city": "Cambridge",
         "rolling_average": 2.8,
         "_deepnote_index_column": "2019-01-31T14:04:00.000000"
        },
        {
         "num": 3,
         "city": "Cambridge",
         "rolling_average": 2.6,
         "_deepnote_index_column": "2019-01-31T14:05:00.000000"
        },
        {
         "num": 2,
         "city": "Cambridge",
         "rolling_average": 2.4,
         "_deepnote_index_column": "2019-01-31T14:06:00.000000"
        },
        {
         "num": 1,
         "city": "Cambridge",
         "rolling_average": 2,
         "_deepnote_index_column": "2019-01-31T14:07:00.000000"
        },
        {
         "num": 3,
         "city": "Cambridge",
         "rolling_average": 2.2,
         "_deepnote_index_column": "2019-01-31T14:08:00.000000"
        },
        {
         "num": 4,
         "city": "Cambridge",
         "rolling_average": 2.6,
         "_deepnote_index_column": "2019-01-31T14:09:00.000000"
        },
        {
         "num": 2,
         "city": "Cambridge",
         "rolling_average": 2.4,
         "_deepnote_index_column": "2019-01-31T14:10:00.000000"
        },
        {
         "num": 4,
         "city": "Cambridge",
         "rolling_average": 2.8,
         "_deepnote_index_column": "2019-01-31T14:11:00.000000"
        },
        {
         "num": 3,
         "city": "Cambridge",
         "rolling_average": 3.2,
         "_deepnote_index_column": "2019-01-31T14:12:00.000000"
        },
        {
         "num": 3,
         "city": "Cambridge",
         "rolling_average": 3.2,
         "_deepnote_index_column": "2019-01-31T14:13:00.000000"
        },
        {
         "num": 3,
         "city": "Cambridge",
         "rolling_average": 3,
         "_deepnote_index_column": "2019-01-31T14:14:00.000000"
        },
        {
         "num": 1,
         "city": "Cambridge",
         "rolling_average": 2.8,
         "_deepnote_index_column": "2019-01-31T14:15:00.000000"
        },
        {
         "num": 3,
         "city": "Cambridge",
         "rolling_average": 2.6,
         "_deepnote_index_column": "2019-01-31T14:16:00.000000"
        },
        {
         "num": 2,
         "city": "Cambridge",
         "rolling_average": 2.4,
         "_deepnote_index_column": "2019-01-31T14:17:00.000000"
        },
        {
         "num": 3,
         "city": "Cambridge",
         "rolling_average": 2.4,
         "_deepnote_index_column": "2019-01-31T14:18:00.000000"
        },
        {
         "num": 3,
         "city": "Cambridge",
         "rolling_average": 2.4,
         "_deepnote_index_column": "2019-01-31T14:19:00.000000"
        },
        {
         "num": 3,
         "city": "Cambridge",
         "rolling_average": 2.8,
         "_deepnote_index_column": "2019-01-31T14:20:00.000000"
        },
        {
         "num": 3,
         "city": "Cambridge",
         "rolling_average": 2.8,
         "_deepnote_index_column": "2019-01-31T14:21:00.000000"
        },
        {
         "num": 3,
         "city": "Cambridge",
         "rolling_average": 3,
         "_deepnote_index_column": "2019-01-31T14:22:00.000000"
        },
        {
         "num": 3,
         "city": "Cambridge",
         "rolling_average": 3,
         "_deepnote_index_column": "2019-01-31T14:23:00.000000"
        },
        {
         "num": 3,
         "city": "Cambridge",
         "rolling_average": 3,
         "_deepnote_index_column": "2019-01-31T14:24:00.000000"
        },
        {
         "num": 2,
         "city": "Cambridge",
         "rolling_average": 2.8,
         "_deepnote_index_column": "2019-01-31T14:25:00.000000"
        },
        {
         "num": 4,
         "city": "Cambridge",
         "rolling_average": 3,
         "_deepnote_index_column": "2019-01-31T14:26:00.000000"
        },
        {
         "num": 3,
         "city": "Cambridge",
         "rolling_average": 3,
         "_deepnote_index_column": "2019-01-31T14:27:00.000000"
        },
        {
         "num": 3,
         "city": "Cambridge",
         "rolling_average": 3,
         "_deepnote_index_column": "2019-01-31T14:28:00.000000"
        },
        {
         "num": 2,
         "city": "Cambridge",
         "rolling_average": 2.8,
         "_deepnote_index_column": "2019-01-31T14:29:00.000000"
        },
        {
         "num": 3,
         "city": "Cambridge",
         "rolling_average": 3,
         "_deepnote_index_column": "2019-01-31T14:30:00.000000"
        },
        {
         "num": 3,
         "city": "Cambridge",
         "rolling_average": 2.8,
         "_deepnote_index_column": "2019-01-31T14:31:00.000000"
        },
        {
         "num": 3,
         "city": "Cambridge",
         "rolling_average": 2.8,
         "_deepnote_index_column": "2019-01-31T14:32:00.000000"
        },
        {
         "num": 3,
         "city": "Cambridge",
         "rolling_average": 2.8,
         "_deepnote_index_column": "2019-01-31T14:33:00.000000"
        },
        {
         "num": 3,
         "city": "Cambridge",
         "rolling_average": 3,
         "_deepnote_index_column": "2019-01-31T14:34:00.000000"
        },
        {
         "num": 3,
         "city": "Cambridge",
         "rolling_average": 3,
         "_deepnote_index_column": "2019-01-31T14:35:00.000000"
        },
        {
         "num": 1,
         "city": "Cambridge",
         "rolling_average": 2.6,
         "_deepnote_index_column": "2019-01-31T14:36:00.000000"
        },
        {
         "num": 3,
         "city": "Cambridge",
         "rolling_average": 2.6,
         "_deepnote_index_column": "2019-01-31T14:37:00.000000"
        },
        {
         "num": 4,
         "city": "Cambridge",
         "rolling_average": 2.8,
         "_deepnote_index_column": "2019-01-31T14:38:00.000000"
        },
        {
         "num": 4,
         "city": "Cambridge",
         "rolling_average": 3,
         "_deepnote_index_column": "2019-01-31T14:39:00.000000"
        },
        {
         "num": 2,
         "city": "Cambridge",
         "rolling_average": 2.8,
         "_deepnote_index_column": "2019-01-31T14:40:00.000000"
        },
        {
         "num": 2,
         "city": "Cambridge",
         "rolling_average": 3,
         "_deepnote_index_column": "2019-01-31T14:41:00.000000"
        },
        {
         "num": 3,
         "city": "Cambridge",
         "rolling_average": 3,
         "_deepnote_index_column": "2019-01-31T14:42:00.000000"
        },
        {
         "num": 3,
         "city": "Cambridge",
         "rolling_average": 2.8,
         "_deepnote_index_column": "2019-01-31T14:43:00.000000"
        },
        {
         "num": 2,
         "city": "Cambridge",
         "rolling_average": 2.4,
         "_deepnote_index_column": "2019-01-31T14:44:00.000000"
        },
        {
         "num": 4,
         "city": "Cambridge",
         "rolling_average": 2.8,
         "_deepnote_index_column": "2019-01-31T14:45:00.000000"
        },
        {
         "num": 4,
         "city": "Cambridge",
         "rolling_average": 3.2,
         "_deepnote_index_column": "2019-01-31T14:46:00.000000"
        },
        {
         "num": 3,
         "city": "Cambridge",
         "rolling_average": 3.2,
         "_deepnote_index_column": "2019-01-31T14:47:00.000000"
        },
        {
         "num": 4,
         "city": "Cambridge",
         "rolling_average": 3.4,
         "_deepnote_index_column": "2019-01-31T14:48:00.000000"
        },
        {
         "num": 1,
         "city": "Cambridge",
         "rolling_average": 3.2,
         "_deepnote_index_column": "2019-01-31T14:49:00.000000"
        },
        {
         "num": 3,
         "city": "Cambridge",
         "rolling_average": 3,
         "_deepnote_index_column": "2019-01-31T14:50:00.000000"
        },
        {
         "num": 3,
         "city": "Cambridge",
         "rolling_average": 2.8,
         "_deepnote_index_column": "2019-01-31T14:51:00.000000"
        },
        {
         "num": 3,
         "city": "Cambridge",
         "rolling_average": 2.8,
         "_deepnote_index_column": "2019-01-31T14:52:00.000000"
        },
        {
         "num": 3,
         "city": "Cambridge",
         "rolling_average": 2.6,
         "_deepnote_index_column": "2019-01-31T14:53:00.000000"
        },
        {
         "num": 3,
         "city": "Cambridge",
         "rolling_average": 3,
         "_deepnote_index_column": "2019-01-31T14:54:00.000000"
        },
        {
         "num": 3,
         "city": "Cambridge",
         "rolling_average": 3,
         "_deepnote_index_column": "2019-01-31T14:55:00.000000"
        },
        {
         "num": 4,
         "city": "Cambridge",
         "rolling_average": 3.2,
         "_deepnote_index_column": "2019-01-31T14:56:00.000000"
        },
        {
         "num": 3,
         "city": "Cambridge",
         "rolling_average": 3.2,
         "_deepnote_index_column": "2019-01-31T14:57:00.000000"
        },
        {
         "num": 3,
         "city": "Cambridge",
         "rolling_average": 3.2,
         "_deepnote_index_column": "2019-01-31T14:58:00.000000"
        },
        {
         "num": 3,
         "city": "Cambridge",
         "rolling_average": 3.2,
         "_deepnote_index_column": "2019-01-31T14:59:00.000000"
        },
        {
         "num": 4,
         "city": "Cambridge",
         "rolling_average": 3.4,
         "_deepnote_index_column": "2019-01-31T15:00:00.000000"
        },
        {
         "num": 4,
         "city": "Cambridge",
         "rolling_average": 3.4,
         "_deepnote_index_column": "2019-01-31T15:01:00.000000"
        },
        {
         "num": 4,
         "city": "Cambridge",
         "rolling_average": 3.6,
         "_deepnote_index_column": "2019-01-31T15:02:00.000000"
        },
        {
         "num": 3,
         "city": "Cambridge",
         "rolling_average": 3.6,
         "_deepnote_index_column": "2019-01-31T15:03:00.000000"
        },
        {
         "num": 2,
         "city": "Cambridge",
         "rolling_average": 3.4,
         "_deepnote_index_column": "2019-01-31T15:04:00.000000"
        },
        {
         "num": 3,
         "city": "Cambridge",
         "rolling_average": 3.2,
         "_deepnote_index_column": "2019-01-31T15:05:00.000000"
        },
        {
         "num": 1,
         "city": "Cambridge",
         "rolling_average": 2.6,
         "_deepnote_index_column": "2019-01-31T15:06:00.000000"
        },
        {
         "num": 2,
         "city": "Cambridge",
         "rolling_average": 2.2,
         "_deepnote_index_column": "2019-01-31T15:07:00.000000"
        },
        {
         "num": 3,
         "city": "Cambridge",
         "rolling_average": 2.2,
         "_deepnote_index_column": "2019-01-31T15:08:00.000000"
        },
        {
         "num": 4,
         "city": "Cambridge",
         "rolling_average": 2.6,
         "_deepnote_index_column": "2019-01-31T15:09:00.000000"
        },
        {
         "num": 3,
         "city": "Cambridge",
         "rolling_average": 2.6,
         "_deepnote_index_column": "2019-01-31T15:10:00.000000"
        },
        {
         "num": 2,
         "city": "Cambridge",
         "rolling_average": 2.8,
         "_deepnote_index_column": "2019-01-31T15:11:00.000000"
        },
        {
         "num": 4,
         "city": "Cambridge",
         "rolling_average": 3.2,
         "_deepnote_index_column": "2019-01-31T15:12:00.000000"
        },
        {
         "num": 3,
         "city": "Cambridge",
         "rolling_average": 3.2,
         "_deepnote_index_column": "2019-01-31T15:13:00.000000"
        },
        {
         "num": 4,
         "city": "Cambridge",
         "rolling_average": 3.2,
         "_deepnote_index_column": "2019-01-31T15:14:00.000000"
        },
        {
         "num": 4,
         "city": "Cambridge",
         "rolling_average": 3.4,
         "_deepnote_index_column": "2019-01-31T15:15:00.000000"
        },
        {
         "num": 1,
         "city": "Cambridge",
         "rolling_average": 3.2,
         "_deepnote_index_column": "2019-01-31T15:16:00.000000"
        },
        {
         "num": 2,
         "city": "Cambridge",
         "rolling_average": 2.8,
         "_deepnote_index_column": "2019-01-31T15:17:00.000000"
        },
        {
         "num": 2,
         "city": "Cambridge",
         "rolling_average": 2.6,
         "_deepnote_index_column": "2019-01-31T15:18:00.000000"
        },
        {
         "num": 2,
         "city": "Cambridge",
         "rolling_average": 2.2,
         "_deepnote_index_column": "2019-01-31T15:19:00.000000"
        },
        {
         "num": 4,
         "city": "Cambridge",
         "rolling_average": 2.2,
         "_deepnote_index_column": "2019-01-31T15:20:00.000000"
        },
        {
         "num": 1,
         "city": "Cambridge",
         "rolling_average": 2.2,
         "_deepnote_index_column": "2019-01-31T15:21:00.000000"
        },
        {
         "num": 1,
         "city": "Cambridge",
         "rolling_average": 2,
         "_deepnote_index_column": "2019-01-31T15:22:00.000000"
        },
        {
         "num": 2,
         "city": "Cambridge",
         "rolling_average": 2,
         "_deepnote_index_column": "2019-01-31T15:23:00.000000"
        },
        {
         "num": 3,
         "city": "Cambridge",
         "rolling_average": 2.2,
         "_deepnote_index_column": "2019-01-31T15:24:00.000000"
        },
        {
         "num": 4,
         "city": "Cambridge",
         "rolling_average": 2.2,
         "_deepnote_index_column": "2019-01-31T15:25:00.000000"
        },
        {
         "num": 4,
         "city": "Cambridge",
         "rolling_average": 2.8,
         "_deepnote_index_column": "2019-01-31T15:26:00.000000"
        },
        {
         "num": 3,
         "city": "Cambridge",
         "rolling_average": 3.2,
         "_deepnote_index_column": "2019-01-31T15:27:00.000000"
        },
        {
         "num": 2,
         "city": "Cambridge",
         "rolling_average": 3.2,
         "_deepnote_index_column": "2019-01-31T15:28:00.000000"
        },
        {
         "num": 3,
         "city": "Cambridge",
         "rolling_average": 3.2,
         "_deepnote_index_column": "2019-01-31T15:29:00.000000"
        },
        {
         "num": 3,
         "city": "Cambridge",
         "rolling_average": 3,
         "_deepnote_index_column": "2019-01-31T15:30:00.000000"
        },
        {
         "num": 2,
         "city": "Cambridge",
         "rolling_average": 2.6,
         "_deepnote_index_column": "2019-01-31T15:31:00.000000"
        },
        {
         "num": 4,
         "city": "Cambridge",
         "rolling_average": 2.8,
         "_deepnote_index_column": "2019-01-31T15:32:00.000000"
        },
        {
         "num": 3,
         "city": "Cambridge",
         "rolling_average": 3,
         "_deepnote_index_column": "2019-01-31T15:33:00.000000"
        },
        {
         "num": 4,
         "city": "Cambridge",
         "rolling_average": 3.2,
         "_deepnote_index_column": "2019-01-31T15:34:00.000000"
        },
        {
         "num": 1,
         "city": "Cambridge",
         "rolling_average": 2.8,
         "_deepnote_index_column": "2019-01-31T15:35:00.000000"
        },
        {
         "num": 2,
         "city": "Cambridge",
         "rolling_average": 2.8,
         "_deepnote_index_column": "2019-01-31T15:36:00.000000"
        },
        {
         "num": 3,
         "city": "Cambridge",
         "rolling_average": 2.6,
         "_deepnote_index_column": "2019-01-31T15:37:00.000000"
        },
        {
         "num": 3,
         "city": "Cambridge",
         "rolling_average": 2.6,
         "_deepnote_index_column": "2019-01-31T15:38:00.000000"
        },
        {
         "num": 3,
         "city": "Cambridge",
         "rolling_average": 2.4,
         "_deepnote_index_column": "2019-01-31T15:39:00.000000"
        },
        {
         "num": 3,
         "city": "Cambridge",
         "rolling_average": 2.8,
         "_deepnote_index_column": "2019-01-31T15:40:00.000000"
        },
        {
         "num": 4,
         "city": "Cambridge",
         "rolling_average": 3.2,
         "_deepnote_index_column": "2019-01-31T15:41:00.000000"
        },
        {
         "num": 4,
         "city": "Cambridge",
         "rolling_average": 3.4,
         "_deepnote_index_column": "2019-01-31T15:42:00.000000"
        },
        {
         "num": 2,
         "city": "Cambridge",
         "rolling_average": 3.2,
         "_deepnote_index_column": "2019-01-31T15:43:00.000000"
        },
        {
         "num": 2,
         "city": "Cambridge",
         "rolling_average": 3,
         "_deepnote_index_column": "2019-01-31T15:44:00.000000"
        },
        {
         "num": 2,
         "city": "Cambridge",
         "rolling_average": 2.8,
         "_deepnote_index_column": "2019-01-31T15:45:00.000000"
        },
        {
         "num": 3,
         "city": "Cambridge",
         "rolling_average": 2.6,
         "_deepnote_index_column": "2019-01-31T15:46:00.000000"
        },
        {
         "num": 4,
         "city": "Cambridge",
         "rolling_average": 2.6,
         "_deepnote_index_column": "2019-01-31T15:47:00.000000"
        },
        {
         "num": 4,
         "city": "Cambridge",
         "rolling_average": 3,
         "_deepnote_index_column": "2019-01-31T15:48:00.000000"
        },
        {
         "num": 4,
         "city": "Cambridge",
         "rolling_average": 3.4,
         "_deepnote_index_column": "2019-01-31T15:49:00.000000"
        },
        {
         "num": 3,
         "city": "Cambridge",
         "rolling_average": 3.6,
         "_deepnote_index_column": "2019-01-31T15:50:00.000000"
        },
        {
         "num": 3,
         "city": "Cambridge",
         "rolling_average": 3.6,
         "_deepnote_index_column": "2019-01-31T15:51:00.000000"
        },
        {
         "num": 4,
         "city": "Cambridge",
         "rolling_average": 3.6,
         "_deepnote_index_column": "2019-01-31T15:52:00.000000"
        },
        {
         "num": 3,
         "city": "Cambridge",
         "rolling_average": 3.4,
         "_deepnote_index_column": "2019-01-31T15:53:00.000000"
        },
        {
         "num": 3,
         "city": "Cambridge",
         "rolling_average": 3.2,
         "_deepnote_index_column": "2019-01-31T15:54:00.000000"
        },
        {
         "num": 1,
         "city": "Cambridge",
         "rolling_average": 2.8,
         "_deepnote_index_column": "2019-01-31T15:55:00.000000"
        },
        {
         "num": 3,
         "city": "Cambridge",
         "rolling_average": 2.8,
         "_deepnote_index_column": "2019-01-31T15:56:00.000000"
        },
        {
         "num": 3,
         "city": "Cambridge",
         "rolling_average": 2.6,
         "_deepnote_index_column": "2019-01-31T15:57:00.000000"
        },
        {
         "num": 3,
         "city": "Cambridge",
         "rolling_average": 2.6,
         "_deepnote_index_column": "2019-01-31T15:58:00.000000"
        },
        {
         "num": 3,
         "city": "Cambridge",
         "rolling_average": 2.6,
         "_deepnote_index_column": "2019-01-31T15:59:00.000000"
        },
        {
         "num": 2,
         "city": "Cambridge",
         "rolling_average": 2.8,
         "_deepnote_index_column": "2019-01-31T16:00:00.000000"
        }
       ]
      },
      "text/plain": "                     num       city  rolling_average\ndate                                                \n2015-01-01 09:00:00    4     London              3.4\n2015-01-01 09:01:00    4     London              3.4\n2015-01-01 09:02:00    3     London              3.4\n2015-01-01 09:03:00    3     London              3.4\n2015-01-01 09:04:00    3     London              3.4\n...                  ...        ...              ...\n2019-01-31 15:56:00    3  Cambridge              2.8\n2019-01-31 15:57:00    3  Cambridge              2.6\n2019-01-31 15:58:00    3  Cambridge              2.6\n2019-01-31 15:59:00    3  Cambridge              2.6\n2019-01-31 16:00:00    2  Cambridge              2.8\n\n[1795144 rows x 3 columns]",
      "text/html": "<div>\n<style scoped>\n    .dataframe tbody tr th:only-of-type {\n        vertical-align: middle;\n    }\n\n    .dataframe tbody tr th {\n        vertical-align: top;\n    }\n\n    .dataframe thead th {\n        text-align: right;\n    }\n</style>\n<table border=\"1\" class=\"dataframe\">\n  <thead>\n    <tr style=\"text-align: right;\">\n      <th></th>\n      <th>num</th>\n      <th>city</th>\n      <th>rolling_average</th>\n    </tr>\n    <tr>\n      <th>date</th>\n      <th></th>\n      <th></th>\n      <th></th>\n    </tr>\n  </thead>\n  <tbody>\n    <tr>\n      <th>2015-01-01 09:00:00</th>\n      <td>4</td>\n      <td>London</td>\n      <td>3.4</td>\n    </tr>\n    <tr>\n      <th>2015-01-01 09:01:00</th>\n      <td>4</td>\n      <td>London</td>\n      <td>3.4</td>\n    </tr>\n    <tr>\n      <th>2015-01-01 09:02:00</th>\n      <td>3</td>\n      <td>London</td>\n      <td>3.4</td>\n    </tr>\n    <tr>\n      <th>2015-01-01 09:03:00</th>\n      <td>3</td>\n      <td>London</td>\n      <td>3.4</td>\n    </tr>\n    <tr>\n      <th>2015-01-01 09:04:00</th>\n      <td>3</td>\n      <td>London</td>\n      <td>3.4</td>\n    </tr>\n    <tr>\n      <th>...</th>\n      <td>...</td>\n      <td>...</td>\n      <td>...</td>\n    </tr>\n    <tr>\n      <th>2019-01-31 15:56:00</th>\n      <td>3</td>\n      <td>Cambridge</td>\n      <td>2.8</td>\n    </tr>\n    <tr>\n      <th>2019-01-31 15:57:00</th>\n      <td>3</td>\n      <td>Cambridge</td>\n      <td>2.6</td>\n    </tr>\n    <tr>\n      <th>2019-01-31 15:58:00</th>\n      <td>3</td>\n      <td>Cambridge</td>\n      <td>2.6</td>\n    </tr>\n    <tr>\n      <th>2019-01-31 15:59:00</th>\n      <td>3</td>\n      <td>Cambridge</td>\n      <td>2.6</td>\n    </tr>\n    <tr>\n      <th>2019-01-31 16:00:00</th>\n      <td>2</td>\n      <td>Cambridge</td>\n      <td>2.8</td>\n    </tr>\n  </tbody>\n</table>\n<p>1795144 rows × 3 columns</p>\n</div>"
     },
     "metadata": {}
    }
   ]
  },
  {
   "cell_type": "markdown",
   "source": "# Aggregation",
   "metadata": {
    "tags": [],
    "is_collapsed": false,
    "cell_id": "00061-541bea58-c8ca-4c08-b7a5-4f6cce8e0a4c",
    "deepnote_cell_type": "text-cell-h1"
   }
  },
  {
   "cell_type": "code",
   "metadata": {
    "tags": [],
    "cell_id": "00062-0d81db8b-2522-45d0-a7c6-ff37df295501",
    "deepnote_to_be_reexecuted": false,
    "source_hash": "2f55ed26",
    "execution_start": 1627923416110,
    "execution_millis": 71,
    "deepnote_cell_type": "code"
   },
   "source": "#Get the total num in 2018\ndf.loc['2018'][\"num\"].sum()",
   "execution_count": null,
   "outputs": [
    {
     "name": "stderr",
     "text": "/shared-libs/python3.7/py/lib/python3.7/site-packages/pandas/core/indexing.py:831: FutureWarning: Value based partial slicing on non-monotonic DatetimeIndexes with non-existing keys is deprecated and will raise a KeyError in a future Version.\n  return getattr(section, self.name)[new_key]\n",
     "output_type": "stream"
    },
    {
     "output_type": "execute_result",
     "execution_count": 200,
     "data": {
      "text/plain": "2458449"
     },
     "metadata": {}
    }
   ]
  },
  {
   "cell_type": "code",
   "metadata": {
    "tags": [],
    "cell_id": "00051-e3e223fd-d5d3-4300-8feb-69741709f00b",
    "deepnote_to_be_reexecuted": false,
    "source_hash": "7771c466",
    "execution_start": 1627923528611,
    "execution_millis": 52,
    "deepnote_cell_type": "code"
   },
   "source": "#Get the total num for each city in 2018\ndf.loc['2018'].groupby('city')[\"num\"].sum()",
   "execution_count": null,
   "outputs": [
    {
     "output_type": "execute_result",
     "execution_count": 212,
     "data": {
      "text/plain": "city\nCambridge    308428\nDurham       307965\nLondon       307431\nOxford       307366\nName: num, dtype: int64"
     },
     "metadata": {}
    }
   ]
  },
  {
   "cell_type": "code",
   "metadata": {
    "tags": [],
    "cell_id": "00070-d576bed4-b80c-41fa-b82e-00b44ac5b926",
    "deepnote_to_be_reexecuted": false,
    "source_hash": "b4eb3e06",
    "execution_start": 1627923533289,
    "execution_millis": 86,
    "deepnote_cell_type": "code"
   },
   "source": "df.loc['2018'].groupby('city')[\"num\"].agg([\"sum\", \"mean\"])",
   "execution_count": null,
   "outputs": [
    {
     "output_type": "execute_result",
     "execution_count": 213,
     "data": {
      "application/vnd.deepnote.dataframe.v2+json": {
       "row_count": 4,
       "column_count": 2,
       "columns": [
        {
         "name": "sum",
         "dtype": "int64",
         "stats": {
          "unique_count": 4,
          "nan_count": 0,
          "min": "307366",
          "max": "308428",
          "histogram": [
           {
            "bin_start": 307366,
            "bin_end": 307472.2,
            "count": 2
           },
           {
            "bin_start": 307472.2,
            "bin_end": 307578.4,
            "count": 0
           },
           {
            "bin_start": 307578.4,
            "bin_end": 307684.6,
            "count": 0
           },
           {
            "bin_start": 307684.6,
            "bin_end": 307790.8,
            "count": 0
           },
           {
            "bin_start": 307790.8,
            "bin_end": 307897,
            "count": 0
           },
           {
            "bin_start": 307897,
            "bin_end": 308003.2,
            "count": 1
           },
           {
            "bin_start": 308003.2,
            "bin_end": 308109.4,
            "count": 0
           },
           {
            "bin_start": 308109.4,
            "bin_end": 308215.6,
            "count": 0
           },
           {
            "bin_start": 308215.6,
            "bin_end": 308321.8,
            "count": 0
           },
           {
            "bin_start": 308321.8,
            "bin_end": 308428,
            "count": 1
           }
          ]
         }
        },
        {
         "name": "mean",
         "dtype": "float64",
         "stats": {
          "unique_count": 4,
          "nan_count": 0,
          "min": "2.797262493060675",
          "max": "2.8069274942892766",
          "histogram": [
           {
            "bin_start": 2.797262493060675,
            "bin_end": 2.798228993183535,
            "count": 2
           },
           {
            "bin_start": 2.798228993183535,
            "bin_end": 2.7991954933063954,
            "count": 0
           },
           {
            "bin_start": 2.7991954933063954,
            "bin_end": 2.8001619934292554,
            "count": 0
           },
           {
            "bin_start": 2.8001619934292554,
            "bin_end": 2.8011284935521155,
            "count": 0
           },
           {
            "bin_start": 2.8011284935521155,
            "bin_end": 2.8020949936749755,
            "count": 0
           },
           {
            "bin_start": 2.8020949936749755,
            "bin_end": 2.803061493797836,
            "count": 1
           },
           {
            "bin_start": 2.803061493797836,
            "bin_end": 2.804027993920696,
            "count": 0
           },
           {
            "bin_start": 2.804027993920696,
            "bin_end": 2.804994494043556,
            "count": 0
           },
           {
            "bin_start": 2.804994494043556,
            "bin_end": 2.8059609941664165,
            "count": 0
           },
           {
            "bin_start": 2.8059609941664165,
            "bin_end": 2.8069274942892766,
            "count": 1
           }
          ]
         }
        },
        {
         "name": "_deepnote_index_column",
         "dtype": "object"
        }
       ],
       "rows_top": [
        {
         "sum": 308428,
         "mean": 2.8069274942892766,
         "_deepnote_index_column": "Cambridge"
        },
        {
         "sum": 307965,
         "mean": 2.8027138449777484,
         "_deepnote_index_column": "Durham"
        },
        {
         "sum": 307431,
         "mean": 2.79785404210009,
         "_deepnote_index_column": "London"
        },
        {
         "sum": 307366,
         "mean": 2.797262493060675,
         "_deepnote_index_column": "Oxford"
        }
       ],
       "rows_bottom": null
      },
      "text/plain": "              sum      mean\ncity                       \nCambridge  308428  2.806927\nDurham     307965  2.802714\nLondon     307431  2.797854\nOxford     307366  2.797262",
      "text/html": "<div>\n<style scoped>\n    .dataframe tbody tr th:only-of-type {\n        vertical-align: middle;\n    }\n\n    .dataframe tbody tr th {\n        vertical-align: top;\n    }\n\n    .dataframe thead th {\n        text-align: right;\n    }\n</style>\n<table border=\"1\" class=\"dataframe\">\n  <thead>\n    <tr style=\"text-align: right;\">\n      <th></th>\n      <th>sum</th>\n      <th>mean</th>\n    </tr>\n    <tr>\n      <th>city</th>\n      <th></th>\n      <th></th>\n    </tr>\n  </thead>\n  <tbody>\n    <tr>\n      <th>Cambridge</th>\n      <td>308428</td>\n      <td>2.806927</td>\n    </tr>\n    <tr>\n      <th>Durham</th>\n      <td>307965</td>\n      <td>2.802714</td>\n    </tr>\n    <tr>\n      <th>London</th>\n      <td>307431</td>\n      <td>2.797854</td>\n    </tr>\n    <tr>\n      <th>Oxford</th>\n      <td>307366</td>\n      <td>2.797262</td>\n    </tr>\n  </tbody>\n</table>\n</div>"
     },
     "metadata": {}
    }
   ]
  },
  {
   "cell_type": "markdown",
   "source": "<a style='text-decoration:none;line-height:16px;display:flex;color:#5B5B62;padding:10px;justify-content:end;' href='https://deepnote.com?utm_source=created-in-deepnote-cell&projectId=7d3ce7c8-a514-49e4-9ba4-a5899ac52ea5' target=\"_blank\">\n<img alt='Created in deepnote.com' style='display:inline;max-height:16px;margin:0px;margin-right:7.5px;' src='data:image/svg+xml;base64,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' > </img>\nCreated in <span style='font-weight:600;margin-left:4px;'>Deepnote</span></a>",
   "metadata": {
    "tags": [],
    "created_in_deepnote_cell": true,
    "deepnote_cell_type": "markdown"
   }
  }
 ],
 "nbformat": 4,
 "nbformat_minor": 2,
 "metadata": {
  "orig_nbformat": 2,
  "deepnote": {
   "is_reactive": false
  },
  "deepnote_notebook_id": "9808f52f-f94f-4a30-a35c-ecfa13df446f",
  "deepnote_execution_queue": []
 }
}