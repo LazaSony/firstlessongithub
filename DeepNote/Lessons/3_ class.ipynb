{
 "cells": [
  {
   "cell_type": "code",
   "metadata": {
    "tags": [],
    "cell_id": "00000-8e315111-3fb8-4d92-8a56-2ee71bf2abe5",
    "deepnote_to_be_reexecuted": false,
    "source_hash": "a53596ef",
    "execution_start": 1625590296230,
    "execution_millis": 4,
    "deepnote_cell_type": "code"
   },
   "source": "class Celsius():\n\n    def __init__(self, temperature=0):\n        print(\"initializing tempretarue\")\n        self.temperature_celsius = temperature\n\n        print(\"conerting to farenheit\")\n        self.to_frarenheit()\n\n    def to_frarenheit(self):\n        print(\"inside farenheit function\")\n        self.tempretarue_farenheit = (self.temperature_celsius * 1.8) + 32\n\n\ntest = Celsius()",
   "execution_count": null,
   "outputs": [
    {
     "name": "stdout",
     "text": "initializing tempretarue\nconerting to farenheit\ninside farenheit function\n",
     "output_type": "stream"
    }
   ]
  },
  {
   "cell_type": "code",
   "metadata": {
    "tags": [],
    "cell_id": "00001-42bcde05-2d44-4939-b3bb-8f6b46ec6b8f",
    "deepnote_to_be_reexecuted": false,
    "source_hash": "cc89f99",
    "execution_start": 1625590528706,
    "execution_millis": 10,
    "deepnote_cell_type": "code"
   },
   "source": "class NumericalComputation():\n    def __init__(self, x, y):\n        self.x = x\n        self.y = y\n\n    def addition(self):\n        return self.x + self.y\n\n    def multiplication(self, addition=0):\n        return (self.x * self.y) + addition\n\n\ntest = NumericalComputation(1,10)\nprint(test.addition())\nprint(test.multiplication())",
   "execution_count": null,
   "outputs": [
    {
     "name": "stdout",
     "text": "11\n10\n",
     "output_type": "stream"
    }
   ]
  },
  {
   "cell_type": "code",
   "metadata": {
    "tags": [],
    "cell_id": "00002-3d32d49f-f2c2-4276-a58a-38e823a80258",
    "deepnote_to_be_reexecuted": false,
    "source_hash": "6dba449",
    "execution_start": 1625758611585,
    "execution_millis": 4,
    "deepnote_cell_type": "code"
   },
   "source": "import pandas as pd\nimport numpy as np\n\n_data = {'Animal.': ['hamster', 'hamster', 'fish', 'kitty', 'ferret', 'cat', 'cobra', 'guniea pig', 'hamster'],\n        'AGE': [0.5, 1.3, 3, \"NULL\", 2, 5, 1.2, 2, \"N/A\"],\n        'Visits': [0, 1, 0, 4, 2, 1, 0, 2, 0],\n        'Prio rity': ['yes', 'yes', 'yes', 'no', 'no', 'yes', 'no', 'no'],\n        'owner': [0, 0, 1, 3, 4, 5, 7, 8, 6]}",
   "execution_count": null,
   "outputs": []
  },
  {
   "cell_type": "code",
   "metadata": {
    "tags": [],
    "cell_id": "00003-f2984957-5f09-434c-9980-fb71c942d3e7",
    "deepnote_to_be_reexecuted": false,
    "source_hash": "d2bb9767",
    "execution_start": 1625764362352,
    "execution_millis": 27,
    "deepnote_cell_type": "code"
   },
   "source": "class AnimalHospital():\n    def __init__(self, data):\n        self.load_data(data)\n        self.clean_data()\n\n    def clean_data(self):\n        self.clean_columns()\n        self.clean_na_values()\n        self.change_to_bool([\"priority\"]) \n\n    def load_data(self, data):\n        \"\"\" Loads data from dictionary to DataFrame.\n        parameters:  data: python dictionary with keys being the column names, and values being lists with data of the same lenght.\n        returns:  pd.DataFrame()\n        \"\"\"\n        df = pd.DataFrame.from_dict(data,orient='index')\n        self.df = df.transpose()\n\n    def save_data(self, dataframe=None, location=\"/work/Homework/saved files\", file_name=\"animal_hospital_data.csv\"):\n        if file_name[0] == \"/\":\n            file_name = file_name[1:]\n\n        if not file_name[-4:] == \".csv\":\n            file_name = file_name + \".csv\"\n\n        if location[-1] == \"/\":\n            location = location[:-1]\n\n        path = location + \"/\" + file_name\n\n        if dataframe is not None:\n            dataframe.to_csv(path)\n        else:\n            self.df.to_csv(path)\n\n    def clean_columns(self):\n        for col in self.df:\n            self.df.rename(columns={col:col.lower().replace(\".\",\"\").replace(\"prio rity\",\"priority\")},inplace=True)\n\n    def clean_na_values(self):\n        \"\"\" we change sting values  that represent null, to np.nan so we can work with it later \"\"\"\n        self.df.replace(\"NULL\", np.nan, inplace=True)\n        self.df.replace(\"N/A\", np.nan, inplace=True)\n        self.df.replace(\"None\", np.nan, inplace=True)\n\n    def change_to_bool(self, cols):\n        for col in cols:\n            self.df[cols] = self.df[cols].replace(\"no\", False).replace(\"yes\",True)\n            self.df[cols] = self.df[cols].astype(bool)\n    \n    def add_new_data(self, animal, age, visits, priority, owner):\n        if priority == \"no\" or priority ==  \"False\":\n            priority = False\n        elif priority == \"yes\" or priority ==  \"True\":\n            priority = True\n\n        new_row = [[animal, age, visits, priority, owner]]\n        new_dataframe = pd.DataFrame(new_row, columns=self.df.columns)\n        self.df = self.df.append(new_dataframe)\n        \n    def show_animals_with_more_than_one_visit(self):\n        \"\"\" whows animals that have less than 1 visit \"\"\"\n        return self.df[self.df[\"visits\"] > 1]\n\n    def show_animals_by_priority(self, download=False):\n        result =  self.df[self.df[\"priority\"] == True]\n        if download:\n            self.save_data(dataframe = result, file_name = \"animals_by_priority\")\n        return result\n\n    def show_animals_by_visits_in_total(self, download=False):\n        \"shows many animal visits have there been in total\"\n        result =  self.df[\"visits\"].sum() \n        if download:\n            self.save_data(dataframe = result, file_name = \"animals_by_visits_in_total\")\n        return result\n \n\n    def show_number_of_regestered_animals_per_species(self, download=False):\n        \"shows how many animals of each species are registered in the hospital.\"\n        return self.df[\"animal\"].value_counts()\n\n    def show_visits_per_species(self):\n        \"How many animal visits have there been per animal?\" #TODO\n        return self.df[\"visits\"].value_counts()\n    \n    def show_all_animals_with_specific_age_andspecies(self, age, animal, older_or_younger):\n        if older_or_younger == \"younger\":\n            return self.df[(self.df[\"age\"] < 5) & (self.df[\"animal\"] == \"hamster\")]\n        elif older_or_younger == \"older\":\n            return self.df[(self.df[\"age\"] > 5) & (self.df[\"animal\"] == \"hamster\")]\n\n    def show_min_max_mean_per_species(self):\n        return self.df.groupby(\"animal\")[\"age\"].agg([\"min\",\"max\", \"mean\"])\ntest = AnimalHospital(_data) # ",
   "execution_count": null,
   "outputs": []
  },
  {
   "cell_type": "code",
   "metadata": {
    "tags": [],
    "cell_id": "00004-95f56e56-65a5-40c2-b353-89c9ae1464d6",
    "deepnote_to_be_reexecuted": false,
    "source_hash": "5d04d482",
    "execution_start": 1625764343928,
    "execution_millis": 12,
    "deepnote_cell_type": "code"
   },
   "source": "if test.df is not None:\n    print(\"hi\")",
   "execution_count": null,
   "outputs": [
    {
     "name": "stdout",
     "text": "hi\n",
     "output_type": "stream"
    }
   ]
  },
  {
   "cell_type": "code",
   "metadata": {
    "tags": [],
    "cell_id": "00005-53688caf-5993-4fcd-8df4-69022e5698f2",
    "deepnote_to_be_reexecuted": false,
    "source_hash": "93397454",
    "execution_start": 1625764365430,
    "execution_millis": 49,
    "deepnote_cell_type": "code"
   },
   "source": "test.show_animals_by_priority(True)",
   "execution_count": null,
   "outputs": [
    {
     "output_type": "execute_result",
     "execution_count": 206,
     "data": {
      "application/vnd.deepnote.dataframe.v2+json": {
       "row_count": 4,
       "column_count": 5,
       "columns": [
        {
         "name": "animal",
         "dtype": "object",
         "stats": {
          "unique_count": 3,
          "nan_count": 0,
          "categories": [
           {
            "name": "hamster",
            "count": 2
           },
           {
            "name": "fish",
            "count": 1
           },
           {
            "name": "cat",
            "count": 1
           }
          ]
         }
        },
        {
         "name": "age",
         "dtype": "float64",
         "stats": {
          "unique_count": 4,
          "nan_count": 0,
          "min": "0.5",
          "max": "5.0",
          "histogram": [
           {
            "bin_start": 0.5,
            "bin_end": 0.95,
            "count": 1
           },
           {
            "bin_start": 0.95,
            "bin_end": 1.4,
            "count": 1
           },
           {
            "bin_start": 1.4,
            "bin_end": 1.85,
            "count": 0
           },
           {
            "bin_start": 1.85,
            "bin_end": 2.3,
            "count": 0
           },
           {
            "bin_start": 2.3,
            "bin_end": 2.75,
            "count": 0
           },
           {
            "bin_start": 2.75,
            "bin_end": 3.2,
            "count": 1
           },
           {
            "bin_start": 3.2,
            "bin_end": 3.65,
            "count": 0
           },
           {
            "bin_start": 3.65,
            "bin_end": 4.1,
            "count": 0
           },
           {
            "bin_start": 4.1,
            "bin_end": 4.55,
            "count": 0
           },
           {
            "bin_start": 4.55,
            "bin_end": 5,
            "count": 1
           }
          ]
         }
        },
        {
         "name": "visits",
         "dtype": "int64",
         "stats": {
          "unique_count": 2,
          "nan_count": 0,
          "min": "0",
          "max": "1",
          "histogram": [
           {
            "bin_start": 0,
            "bin_end": 0.1,
            "count": 2
           },
           {
            "bin_start": 0.1,
            "bin_end": 0.2,
            "count": 0
           },
           {
            "bin_start": 0.2,
            "bin_end": 0.30000000000000004,
            "count": 0
           },
           {
            "bin_start": 0.30000000000000004,
            "bin_end": 0.4,
            "count": 0
           },
           {
            "bin_start": 0.4,
            "bin_end": 0.5,
            "count": 0
           },
           {
            "bin_start": 0.5,
            "bin_end": 0.6000000000000001,
            "count": 0
           },
           {
            "bin_start": 0.6000000000000001,
            "bin_end": 0.7000000000000001,
            "count": 0
           },
           {
            "bin_start": 0.7000000000000001,
            "bin_end": 0.8,
            "count": 0
           },
           {
            "bin_start": 0.8,
            "bin_end": 0.9,
            "count": 0
           },
           {
            "bin_start": 0.9,
            "bin_end": 1,
            "count": 2
           }
          ]
         }
        },
        {
         "name": "priority",
         "dtype": "bool",
         "stats": {
          "unique_count": 1,
          "nan_count": 0,
          "categories": [
           {
            "name": "True",
            "count": 4
           }
          ]
         }
        },
        {
         "name": "owner",
         "dtype": "int64",
         "stats": {
          "unique_count": 3,
          "nan_count": 0,
          "min": "0",
          "max": "5",
          "histogram": [
           {
            "bin_start": 0,
            "bin_end": 0.5,
            "count": 2
           },
           {
            "bin_start": 0.5,
            "bin_end": 1,
            "count": 0
           },
           {
            "bin_start": 1,
            "bin_end": 1.5,
            "count": 1
           },
           {
            "bin_start": 1.5,
            "bin_end": 2,
            "count": 0
           },
           {
            "bin_start": 2,
            "bin_end": 2.5,
            "count": 0
           },
           {
            "bin_start": 2.5,
            "bin_end": 3,
            "count": 0
           },
           {
            "bin_start": 3,
            "bin_end": 3.5,
            "count": 0
           },
           {
            "bin_start": 3.5,
            "bin_end": 4,
            "count": 0
           },
           {
            "bin_start": 4,
            "bin_end": 4.5,
            "count": 0
           },
           {
            "bin_start": 4.5,
            "bin_end": 5,
            "count": 1
           }
          ]
         }
        },
        {
         "name": "_deepnote_index_column",
         "dtype": "int64"
        }
       ],
       "rows_top": [
        {
         "animal": "hamster",
         "age": 0.5,
         "visits": 0,
         "priority": "True",
         "owner": 0,
         "_deepnote_index_column": 0
        },
        {
         "animal": "hamster",
         "age": 1.3,
         "visits": 1,
         "priority": "True",
         "owner": 0,
         "_deepnote_index_column": 1
        },
        {
         "animal": "fish",
         "age": 3,
         "visits": 0,
         "priority": "True",
         "owner": 1,
         "_deepnote_index_column": 2
        },
        {
         "animal": "cat",
         "age": 5,
         "visits": 1,
         "priority": "True",
         "owner": 5,
         "_deepnote_index_column": 5
        }
       ],
       "rows_bottom": null
      },
      "text/plain": "    animal  age  visits  priority  owner\n0  hamster  0.5       0      True      0\n1  hamster  1.3       1      True      0\n2     fish  3.0       0      True      1\n5      cat  5.0       1      True      5",
      "text/html": "<div>\n<style scoped>\n    .dataframe tbody tr th:only-of-type {\n        vertical-align: middle;\n    }\n\n    .dataframe tbody tr th {\n        vertical-align: top;\n    }\n\n    .dataframe thead th {\n        text-align: right;\n    }\n</style>\n<table border=\"1\" class=\"dataframe\">\n  <thead>\n    <tr style=\"text-align: right;\">\n      <th></th>\n      <th>animal</th>\n      <th>age</th>\n      <th>visits</th>\n      <th>priority</th>\n      <th>owner</th>\n    </tr>\n  </thead>\n  <tbody>\n    <tr>\n      <th>0</th>\n      <td>hamster</td>\n      <td>0.5</td>\n      <td>0</td>\n      <td>True</td>\n      <td>0</td>\n    </tr>\n    <tr>\n      <th>1</th>\n      <td>hamster</td>\n      <td>1.3</td>\n      <td>1</td>\n      <td>True</td>\n      <td>0</td>\n    </tr>\n    <tr>\n      <th>2</th>\n      <td>fish</td>\n      <td>3.0</td>\n      <td>0</td>\n      <td>True</td>\n      <td>1</td>\n    </tr>\n    <tr>\n      <th>5</th>\n      <td>cat</td>\n      <td>5.0</td>\n      <td>1</td>\n      <td>True</td>\n      <td>5</td>\n    </tr>\n  </tbody>\n</table>\n</div>"
     },
     "metadata": {}
    }
   ]
  },
  {
   "cell_type": "code",
   "metadata": {
    "tags": [],
    "cell_id": "00004-8c4bceda-e0a8-4f79-8a25-73c921b2bf5d",
    "deepnote_to_be_reexecuted": false,
    "source_hash": "c1551d70",
    "execution_start": 1625759393677,
    "execution_millis": 15,
    "deepnote_cell_type": "code"
   },
   "source": "test = AnimalHospital(_data, 0) # \ntest.addition(1,2)",
   "execution_count": null,
   "outputs": [
    {
     "output_type": "execute_result",
     "execution_count": 48,
     "data": {
      "text/plain": "3"
     },
     "metadata": {}
    }
   ]
  },
  {
   "cell_type": "code",
   "metadata": {
    "tags": [],
    "cell_id": "00004-74829bf7-759a-4beb-b490-5c9284094f4f",
    "deepnote_to_be_reexecuted": false,
    "source_hash": "8b712a1b",
    "execution_start": 1625759377552,
    "execution_millis": 6,
    "deepnote_cell_type": "code"
   },
   "source": "AnimalHospital.addition(1,2)",
   "execution_count": null,
   "outputs": [
    {
     "output_type": "execute_result",
     "execution_count": 47,
     "data": {
      "text/plain": "3"
     },
     "metadata": {}
    }
   ]
  },
  {
   "cell_type": "code",
   "metadata": {
    "tags": [],
    "cell_id": "00004-52a7ac3c-2cfd-4426-b74c-fe14d3cfcd84",
    "deepnote_to_be_reexecuted": false,
    "source_hash": "7b5a590b",
    "execution_start": 1625758614807,
    "execution_millis": 89,
    "deepnote_cell_type": "code"
   },
   "source": "df[(df[\"age\"] > 1) & (df[\"animal\"] == \"hamster\")]\n\ndf[[\"visits\",\"animal\"]].groupby(\"animal\").sum().sort_values(by=\"visits\", ascending=False)",
   "execution_count": null,
   "outputs": [
    {
     "output_type": "execute_result",
     "execution_count": 5,
     "data": {
      "application/vnd.deepnote.dataframe.v2+json": {
       "row_count": 3,
       "column_count": 5,
       "columns": [
        {
         "name": "animal",
         "dtype": "object",
         "stats": {
          "unique_count": 3,
          "nan_count": 0,
          "categories": [
           {
            "name": "kitty",
            "count": 1
           },
           {
            "name": "ferret",
            "count": 1
           },
           {
            "name": "guniea pig",
            "count": 1
           }
          ]
         }
        },
        {
         "name": "age",
         "dtype": "float64",
         "stats": {
          "unique_count": 1,
          "nan_count": 1,
          "min": "2.0",
          "max": "2.0",
          "histogram": [
           {
            "bin_start": 1.5,
            "bin_end": 1.6,
            "count": 0
           },
           {
            "bin_start": 1.6,
            "bin_end": 1.7,
            "count": 0
           },
           {
            "bin_start": 1.7,
            "bin_end": 1.8,
            "count": 0
           },
           {
            "bin_start": 1.8,
            "bin_end": 1.9,
            "count": 0
           },
           {
            "bin_start": 1.9,
            "bin_end": 2,
            "count": 0
           },
           {
            "bin_start": 2,
            "bin_end": 2.1,
            "count": 2
           },
           {
            "bin_start": 2.1,
            "bin_end": 2.2,
            "count": 0
           },
           {
            "bin_start": 2.2,
            "bin_end": 2.3,
            "count": 0
           },
           {
            "bin_start": 2.3,
            "bin_end": 2.4,
            "count": 0
           },
           {
            "bin_start": 2.4,
            "bin_end": 2.5,
            "count": 0
           }
          ]
         }
        },
        {
         "name": "visits",
         "dtype": "int64",
         "stats": {
          "unique_count": 2,
          "nan_count": 0,
          "min": "2",
          "max": "4",
          "histogram": [
           {
            "bin_start": 2,
            "bin_end": 2.2,
            "count": 2
           },
           {
            "bin_start": 2.2,
            "bin_end": 2.4,
            "count": 0
           },
           {
            "bin_start": 2.4,
            "bin_end": 2.6,
            "count": 0
           },
           {
            "bin_start": 2.6,
            "bin_end": 2.8,
            "count": 0
           },
           {
            "bin_start": 2.8,
            "bin_end": 3,
            "count": 0
           },
           {
            "bin_start": 3,
            "bin_end": 3.2,
            "count": 0
           },
           {
            "bin_start": 3.2,
            "bin_end": 3.4000000000000004,
            "count": 0
           },
           {
            "bin_start": 3.4000000000000004,
            "bin_end": 3.6,
            "count": 0
           },
           {
            "bin_start": 3.6,
            "bin_end": 3.8,
            "count": 0
           },
           {
            "bin_start": 3.8,
            "bin_end": 4,
            "count": 1
           }
          ]
         }
        },
        {
         "name": "priority",
         "dtype": "bool",
         "stats": {
          "unique_count": 1,
          "nan_count": 0,
          "categories": [
           {
            "name": "False",
            "count": 3
           }
          ]
         }
        },
        {
         "name": "owner",
         "dtype": "int64",
         "stats": {
          "unique_count": 3,
          "nan_count": 0,
          "min": "3",
          "max": "8",
          "histogram": [
           {
            "bin_start": 3,
            "bin_end": 3.5,
            "count": 1
           },
           {
            "bin_start": 3.5,
            "bin_end": 4,
            "count": 0
           },
           {
            "bin_start": 4,
            "bin_end": 4.5,
            "count": 1
           },
           {
            "bin_start": 4.5,
            "bin_end": 5,
            "count": 0
           },
           {
            "bin_start": 5,
            "bin_end": 5.5,
            "count": 0
           },
           {
            "bin_start": 5.5,
            "bin_end": 6,
            "count": 0
           },
           {
            "bin_start": 6,
            "bin_end": 6.5,
            "count": 0
           },
           {
            "bin_start": 6.5,
            "bin_end": 7,
            "count": 0
           },
           {
            "bin_start": 7,
            "bin_end": 7.5,
            "count": 0
           },
           {
            "bin_start": 7.5,
            "bin_end": 8,
            "count": 1
           }
          ]
         }
        },
        {
         "name": "_deepnote_index_column",
         "dtype": "int64"
        }
       ],
       "rows_top": [
        {
         "animal": "kitty",
         "age": "nan",
         "visits": 4,
         "priority": "False",
         "owner": 3,
         "_deepnote_index_column": 3
        },
        {
         "animal": "ferret",
         "age": 2,
         "visits": 2,
         "priority": "False",
         "owner": 4,
         "_deepnote_index_column": 4
        },
        {
         "animal": "guniea pig",
         "age": 2,
         "visits": 2,
         "priority": "False",
         "owner": 8,
         "_deepnote_index_column": 7
        }
       ],
       "rows_bottom": null
      },
      "text/plain": "       animal  age  visits  priority  owner\n3       kitty  NaN       4     False      3\n4      ferret  2.0       2     False      4\n7  guniea pig  2.0       2     False      8",
      "text/html": "<div>\n<style scoped>\n    .dataframe tbody tr th:only-of-type {\n        vertical-align: middle;\n    }\n\n    .dataframe tbody tr th {\n        vertical-align: top;\n    }\n\n    .dataframe thead th {\n        text-align: right;\n    }\n</style>\n<table border=\"1\" class=\"dataframe\">\n  <thead>\n    <tr style=\"text-align: right;\">\n      <th></th>\n      <th>animal</th>\n      <th>age</th>\n      <th>visits</th>\n      <th>priority</th>\n      <th>owner</th>\n    </tr>\n  </thead>\n  <tbody>\n    <tr>\n      <th>3</th>\n      <td>kitty</td>\n      <td>NaN</td>\n      <td>4</td>\n      <td>False</td>\n      <td>3</td>\n    </tr>\n    <tr>\n      <th>4</th>\n      <td>ferret</td>\n      <td>2.0</td>\n      <td>2</td>\n      <td>False</td>\n      <td>4</td>\n    </tr>\n    <tr>\n      <th>7</th>\n      <td>guniea pig</td>\n      <td>2.0</td>\n      <td>2</td>\n      <td>False</td>\n      <td>8</td>\n    </tr>\n  </tbody>\n</table>\n</div>"
     },
     "metadata": {}
    }
   ]
  },
  {
   "cell_type": "code",
   "metadata": {
    "tags": [],
    "cell_id": "00009-9000abd1-3879-43cb-813c-520538078763",
    "deepnote_cell_type": "code"
   },
   "source": "def register_new_animal(df_original, animal, age, visits, priority, owner):\n    \"\"\" append a new row with animal, age, visits, priority, owner... and append it to df_original\n        code below here \"\"\"\n    if priority == \"no\" or \"False\":\n        priority = False\n    elif priority == \"yes\" or \"True\":\n        priority = True\n    else:\n        priority = np.nan\n        \n    print(animal, age, visits, priority, owner)\n    _data = [[animal, age, visits, priority, owner]]\n    _data = pd.DataFrame(_data, columns=df_original.columns)\n\n    df_original = df_original.append(_data).reset_index(drop=True)\n\n    return df_original\n\ncoki = register_new_animal(df, \"fish\", 0.4, 0, \"no\", 1)\ncoki.tail()",
   "execution_count": null,
   "outputs": []
  },
  {
   "cell_type": "markdown",
   "source": "<a style='text-decoration:none;line-height:16px;display:flex;color:#5B5B62;padding:10px;justify-content:end;' href='https://deepnote.com?utm_source=created-in-deepnote-cell&projectId=7d3ce7c8-a514-49e4-9ba4-a5899ac52ea5' target=\"_blank\">\n<img alt='Created in deepnote.com' style='display:inline;max-height:16px;margin:0px;margin-right:7.5px;' src='data:image/svg+xml;base64,PD94bWwgdmVyc2lvbj0iMS4wIiBlbmNvZGluZz0iVVRGLTgiPz4KPHN2ZyB3aWR0aD0iODBweCIgaGVpZ2h0PSI4MHB4IiB2aWV3Qm94PSIwIDAgODAgODAiIHZlcnNpb249IjEuMSIgeG1sbnM9Imh0dHA6Ly93d3cudzMub3JnLzIwMDAvc3ZnIiB4bWxuczp4bGluaz0iaHR0cDovL3d3dy53My5vcmcvMTk5OS94bGluayI+CiAgICA8IS0tIEdlbmVyYXRvcjogU2tldGNoIDU0LjEgKDc2NDkwKSAtIGh0dHBzOi8vc2tldGNoYXBwLmNvbSAtLT4KICAgIDx0aXRsZT5Hcm91cCAzPC90aXRsZT4KICAgIDxkZXNjPkNyZWF0ZWQgd2l0aCBTa2V0Y2guPC9kZXNjPgogICAgPGcgaWQ9IkxhbmRpbmciIHN0cm9rZT0ibm9uZSIgc3Ryb2tlLXdpZHRoPSIxIiBmaWxsPSJub25lIiBmaWxsLXJ1bGU9ImV2ZW5vZGQiPgogICAgICAgIDxnIGlkPSJBcnRib2FyZCIgdHJhbnNmb3JtPSJ0cmFuc2xhdGUoLTEyMzUuMDAwMDAwLCAtNzkuMDAwMDAwKSI+CiAgICAgICAgICAgIDxnIGlkPSJHcm91cC0zIiB0cmFuc2Zvcm09InRyYW5zbGF0ZSgxMjM1LjAwMDAwMCwgNzkuMDAwMDAwKSI+CiAgICAgICAgICAgICAgICA8cG9seWdvbiBpZD0iUGF0aC0yMCIgZmlsbD0iIzAyNjVCNCIgcG9pbnRzPSIyLjM3NjIzNzYyIDgwIDM4LjA0NzY2NjcgODAgNTcuODIxNzgyMiA3My44MDU3NTkyIDU3LjgyMTc4MjIgMzIuNzU5MjczOSAzOS4xNDAyMjc4IDMxLjY4MzE2ODMiPjwvcG9seWdvbj4KICAgICAgICAgICAgICAgIDxwYXRoIGQ9Ik0zNS4wMDc3MTgsODAgQzQyLjkwNjIwMDcsNzYuNDU0OTM1OCA0Ny41NjQ5MTY3LDcxLjU0MjI2NzEgNDguOTgzODY2LDY1LjI2MTk5MzkgQzUxLjExMjI4OTksNTUuODQxNTg0MiA0MS42NzcxNzk1LDQ5LjIxMjIyODQgMjUuNjIzOTg0Niw0OS4yMTIyMjg0IEMyNS40ODQ5Mjg5LDQ5LjEyNjg0NDggMjkuODI2MTI5Niw0My4yODM4MjQ4IDM4LjY0NzU4NjksMzEuNjgzMTY4MyBMNzIuODcxMjg3MSwzMi41NTQ0MjUgTDY1LjI4MDk3Myw2Ny42NzYzNDIxIEw1MS4xMTIyODk5LDc3LjM3NjE0NCBMMzUuMDA3NzE4LDgwIFoiIGlkPSJQYXRoLTIyIiBmaWxsPSIjMDAyODY4Ij48L3BhdGg+CiAgICAgICAgICAgICAgICA8cGF0aCBkPSJNMCwzNy43MzA0NDA1IEwyNy4xMTQ1MzcsMC4yNTcxMTE0MzYgQzYyLjM3MTUxMjMsLTEuOTkwNzE3MDEgODAsMTAuNTAwMzkyNyA4MCwzNy43MzA0NDA1IEM4MCw2NC45NjA0ODgyIDY0Ljc3NjUwMzgsNzkuMDUwMzQxNCAzNC4zMjk1MTEzLDgwIEM0Ny4wNTUzNDg5LDc3LjU2NzA4MDggNTMuNDE4MjY3Nyw3MC4zMTM2MTAzIDUzLjQxODI2NzcsNTguMjM5NTg4NSBDNTMuNDE4MjY3Nyw0MC4xMjg1NTU3IDM2LjMwMzk1NDQsMzcuNzMwNDQwNSAyNS4yMjc0MTcsMzcuNzMwNDQwNSBDMTcuODQzMDU4NiwzNy43MzA0NDA1IDkuNDMzOTE5NjYsMzcuNzMwNDQwNSAwLDM3LjczMDQ0MDUgWiIgaWQ9IlBhdGgtMTkiIGZpbGw9IiMzNzkzRUYiPjwvcGF0aD4KICAgICAgICAgICAgPC9nPgogICAgICAgIDwvZz4KICAgIDwvZz4KPC9zdmc+' > </img>\nCreated in <span style='font-weight:600;margin-left:4px;'>Deepnote</span></a>",
   "metadata": {
    "tags": [],
    "created_in_deepnote_cell": true,
    "deepnote_cell_type": "markdown"
   }
  }
 ],
 "nbformat": 4,
 "nbformat_minor": 2,
 "metadata": {
  "orig_nbformat": 2,
  "deepnote": {
   "is_reactive": false
  },
  "deepnote_notebook_id": "918038d4-edbf-4397-b218-12368248beb4",
  "deepnote_execution_queue": []
 }
}