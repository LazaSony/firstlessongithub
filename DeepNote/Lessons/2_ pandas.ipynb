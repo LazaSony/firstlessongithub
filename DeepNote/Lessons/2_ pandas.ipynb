{
 "cells": [
  {
   "cell_type": "code",
   "metadata": {
    "id": "iE3n-_Bm8svb",
    "cell_id": "00000-bad00f4e-8bfa-4492-b7d5-83f82edd3404",
    "deepnote_to_be_reexecuted": false,
    "source_hash": "ba89c48f",
    "execution_start": 1624549185163,
    "execution_millis": 1,
    "deepnote_cell_type": "code"
   },
   "source": "import pandas as pd \n# pandas are used for data manipulation, lists and pandas are the only way to manipulate data around.",
   "execution_count": null,
   "outputs": []
  },
  {
   "cell_type": "markdown",
   "source": "---\n---\n---\n# Core components, Series and DataFrame\nA Series is a column, and a DataFrame is a multi-dimensional table made up of a collection of Series.\n![picture](https://storage.googleapis.com/lds-media/images/series-and-dataframe.width-1200.png)\n",
   "metadata": {
    "id": "n1hPyzxy9C_a",
    "cell_id": "00001-142a1cba-491b-4de3-bb44-8b62aae49914",
    "deepnote_cell_type": "markdown"
   }
  },
  {
   "cell_type": "markdown",
   "source": "---\n---\n---\n# Creating, loading, storing data",
   "metadata": {
    "id": "7e8BBeDv9pL-",
    "cell_id": "00002-1ed232c8-0de5-4806-8c30-2fe1cbacd109",
    "deepnote_cell_type": "markdown"
   }
  },
  {
   "cell_type": "markdown",
   "source": "---\n\n## Creating DataFrames from Lists",
   "metadata": {
    "id": "Z0uLplNmBw_1",
    "cell_id": "00003-02913425-5a28-4241-b74d-eb5c9b3e102c",
    "deepnote_cell_type": "markdown"
   }
  },
  {
   "cell_type": "markdown",
   "source": "To create a `DataFrame` from lists, we use `pd.DataFrame()` function.\n\nThis function will take parameters \n*  `df_1, df_2, df_3` - list we want use as the data source. It has to be in a nested list format - [ [x1, y1], [x2, y2], [x3, y3]  ] into `df` variable\n\n*   `column_names` - names of the columns [ name_x, name_y ]",
   "metadata": {
    "id": "1UiFKdpS4Gfn",
    "cell_id": "00004-51841a12-b2ea-452a-ae87-073c6e417f2b",
    "deepnote_cell_type": "markdown"
   }
  },
  {
   "cell_type": "code",
   "metadata": {
    "id": "BP69dukB-zmJ",
    "colab": {
     "base_uri": "https://localhost:8080/",
     "height": 143
    },
    "executionInfo": {
     "status": "ok",
     "timestamp": 1601754902303,
     "user_tz": -60,
     "elapsed": 943,
     "user": {
      "displayName": "Sharmin Rouf",
      "photoUrl": "",
      "userId": "07014860915014612811"
     }
    },
    "outputId": "a16e9243-8672-4a2e-b084-7a940989a5ff",
    "cell_id": "00005-86c6c720-1803-4433-91d5-631ec8ccad95",
    "deepnote_to_be_reexecuted": false,
    "source_hash": "9c68305c",
    "execution_start": 1624549185164,
    "execution_millis": 26,
    "deepnote_cell_type": "code"
   },
   "source": "row_1 = [\"Lemur\", 19]\nrow_2 = [\"Kapu\", 21]\nrow_3 = [\"Martin\", 16]\n\ndf = [row_1, row_2, row_3] \ncolumn_names = ['Name', 'Age']\n\ndf = pd.DataFrame(data = df, \n                  columns = column_names) \ndf ",
   "execution_count": null,
   "outputs": [
    {
     "output_type": "execute_result",
     "execution_count": 2,
     "data": {
      "application/vnd.deepnote.dataframe.v2+json": {
       "row_count": 3,
       "column_count": 2,
       "columns": [
        {
         "name": "Name",
         "dtype": "object",
         "stats": {
          "unique_count": 3,
          "nan_count": 0,
          "categories": [
           {
            "name": "Lemur",
            "count": 1
           },
           {
            "name": "Kapu",
            "count": 1
           },
           {
            "name": "Martin",
            "count": 1
           }
          ]
         }
        },
        {
         "name": "Age",
         "dtype": "int64",
         "stats": {
          "unique_count": 3,
          "nan_count": 0,
          "min": "16",
          "max": "21",
          "histogram": [
           {
            "bin_start": 16,
            "bin_end": 16.5,
            "count": 1
           },
           {
            "bin_start": 16.5,
            "bin_end": 17,
            "count": 0
           },
           {
            "bin_start": 17,
            "bin_end": 17.5,
            "count": 0
           },
           {
            "bin_start": 17.5,
            "bin_end": 18,
            "count": 0
           },
           {
            "bin_start": 18,
            "bin_end": 18.5,
            "count": 0
           },
           {
            "bin_start": 18.5,
            "bin_end": 19,
            "count": 0
           },
           {
            "bin_start": 19,
            "bin_end": 19.5,
            "count": 1
           },
           {
            "bin_start": 19.5,
            "bin_end": 20,
            "count": 0
           },
           {
            "bin_start": 20,
            "bin_end": 20.5,
            "count": 0
           },
           {
            "bin_start": 20.5,
            "bin_end": 21,
            "count": 1
           }
          ]
         }
        },
        {
         "name": "_deepnote_index_column",
         "dtype": "int64"
        }
       ],
       "rows_top": [
        {
         "Name": "Lemur",
         "Age": 19,
         "_deepnote_index_column": 0
        },
        {
         "Name": "Kapu",
         "Age": 21,
         "_deepnote_index_column": 1
        },
        {
         "Name": "Martin",
         "Age": 16,
         "_deepnote_index_column": 2
        }
       ],
       "rows_bottom": null
      },
      "text/plain": "     Name  Age\n0   Lemur   19\n1    Kapu   21\n2  Martin   16",
      "text/html": "<div>\n<style scoped>\n    .dataframe tbody tr th:only-of-type {\n        vertical-align: middle;\n    }\n\n    .dataframe tbody tr th {\n        vertical-align: top;\n    }\n\n    .dataframe thead th {\n        text-align: right;\n    }\n</style>\n<table border=\"1\" class=\"dataframe\">\n  <thead>\n    <tr style=\"text-align: right;\">\n      <th></th>\n      <th>Name</th>\n      <th>Age</th>\n    </tr>\n  </thead>\n  <tbody>\n    <tr>\n      <th>0</th>\n      <td>Lemur</td>\n      <td>19</td>\n    </tr>\n    <tr>\n      <th>1</th>\n      <td>Kapu</td>\n      <td>21</td>\n    </tr>\n    <tr>\n      <th>2</th>\n      <td>Martin</td>\n      <td>16</td>\n    </tr>\n  </tbody>\n</table>\n</div>"
     },
     "metadata": {}
    }
   ]
  },
  {
   "cell_type": "markdown",
   "source": "Notice that the approach above, requires a new list for every single data row. This is useful when you are adding new rows to an already existing list, like during a `for loop`.\n\nTo append a row to `DataFrame` we need to create a new `DataFrame` with the data we wish to append, and then use `df.append()`",
   "metadata": {
    "id": "nFE4qYVV7hpi",
    "cell_id": "00006-658cde78-4743-4c46-a7f5-6ce82fc8c4d4",
    "deepnote_cell_type": "markdown"
   }
  },
  {
   "cell_type": "code",
   "metadata": {
    "id": "LoTGWBX58rSp",
    "colab": {
     "base_uri": "https://localhost:8080/",
     "height": 238
    },
    "executionInfo": {
     "status": "ok",
     "timestamp": 1601755256133,
     "user_tz": -60,
     "elapsed": 1186,
     "user": {
      "displayName": "Sharmin Rouf",
      "photoUrl": "",
      "userId": "07014860915014612811"
     }
    },
    "outputId": "00a6e2d5-0a6f-4a44-8065-d03969db774c",
    "cell_id": "00007-e39c945b-ab9f-42f5-9def-ed6816202bcb",
    "deepnote_to_be_reexecuted": false,
    "source_hash": "fef22939",
    "execution_start": 1624549185186,
    "execution_millis": 25,
    "deepnote_cell_type": "code"
   },
   "source": "new_data = [\"new data\", 13]\nnew_data = [new_data]\n\ndf_to_append = pd.DataFrame(data = new_data, \n                            columns = column_names) \n\ndf = df.append(df_to_append)\ndf",
   "execution_count": null,
   "outputs": [
    {
     "output_type": "execute_result",
     "execution_count": 3,
     "data": {
      "application/vnd.deepnote.dataframe.v2+json": {
       "row_count": 4,
       "column_count": 2,
       "columns": [
        {
         "name": "Name",
         "dtype": "object",
         "stats": {
          "unique_count": 4,
          "nan_count": 0,
          "categories": [
           {
            "name": "Lemur",
            "count": 1
           },
           {
            "name": "Kapu",
            "count": 1
           },
           {
            "name": "2 others",
            "count": 2
           }
          ]
         }
        },
        {
         "name": "Age",
         "dtype": "int64",
         "stats": {
          "unique_count": 4,
          "nan_count": 0,
          "min": "13",
          "max": "21",
          "histogram": [
           {
            "bin_start": 13,
            "bin_end": 13.8,
            "count": 1
           },
           {
            "bin_start": 13.8,
            "bin_end": 14.6,
            "count": 0
           },
           {
            "bin_start": 14.6,
            "bin_end": 15.4,
            "count": 0
           },
           {
            "bin_start": 15.4,
            "bin_end": 16.2,
            "count": 1
           },
           {
            "bin_start": 16.2,
            "bin_end": 17,
            "count": 0
           },
           {
            "bin_start": 17,
            "bin_end": 17.8,
            "count": 0
           },
           {
            "bin_start": 17.8,
            "bin_end": 18.6,
            "count": 0
           },
           {
            "bin_start": 18.6,
            "bin_end": 19.4,
            "count": 1
           },
           {
            "bin_start": 19.4,
            "bin_end": 20.2,
            "count": 0
           },
           {
            "bin_start": 20.2,
            "bin_end": 21,
            "count": 1
           }
          ]
         }
        },
        {
         "name": "_deepnote_index_column",
         "dtype": "int64"
        }
       ],
       "rows_top": [
        {
         "Name": "Lemur",
         "Age": "19",
         "_deepnote_index_column": "0"
        },
        {
         "Name": "Kapu",
         "Age": "21",
         "_deepnote_index_column": "1"
        },
        {
         "Name": "Martin",
         "Age": "16",
         "_deepnote_index_column": "2"
        },
        {
         "Name": "new data",
         "Age": "13",
         "_deepnote_index_column": "0"
        }
       ],
       "rows_bottom": null
      },
      "text/plain": "       Name  Age\n0     Lemur   19\n1      Kapu   21\n2    Martin   16\n0  new data   13",
      "text/html": "<div>\n<style scoped>\n    .dataframe tbody tr th:only-of-type {\n        vertical-align: middle;\n    }\n\n    .dataframe tbody tr th {\n        vertical-align: top;\n    }\n\n    .dataframe thead th {\n        text-align: right;\n    }\n</style>\n<table border=\"1\" class=\"dataframe\">\n  <thead>\n    <tr style=\"text-align: right;\">\n      <th></th>\n      <th>Name</th>\n      <th>Age</th>\n    </tr>\n  </thead>\n  <tbody>\n    <tr>\n      <th>0</th>\n      <td>Lemur</td>\n      <td>19</td>\n    </tr>\n    <tr>\n      <th>1</th>\n      <td>Kapu</td>\n      <td>21</td>\n    </tr>\n    <tr>\n      <th>2</th>\n      <td>Martin</td>\n      <td>16</td>\n    </tr>\n    <tr>\n      <th>0</th>\n      <td>new data</td>\n      <td>13</td>\n    </tr>\n  </tbody>\n</table>\n</div>"
     },
     "metadata": {}
    }
   ]
  },
  {
   "cell_type": "markdown",
   "source": "If you have a `list` of values, that represent one variable, and you need to to add it to the `DataFrame` as one column, use `list(zip())` function:\n",
   "metadata": {
    "id": "Lui0lrF0ZYSI",
    "cell_id": "00008-ee528582-2e96-4414-a2d6-1f7ab885a18e",
    "deepnote_cell_type": "markdown"
   }
  },
  {
   "cell_type": "code",
   "metadata": {
    "id": "PrLieqlF98AT",
    "colab": {
     "base_uri": "https://localhost:8080/",
     "height": 206
    },
    "executionInfo": {
     "status": "ok",
     "timestamp": 1601755418859,
     "user_tz": -60,
     "elapsed": 828,
     "user": {
      "displayName": "Sharmin Rouf",
      "photoUrl": "",
      "userId": "07014860915014612811"
     }
    },
    "outputId": "6a1f7fd7-eb76-464e-f503-c85b699b3871",
    "cell_id": "00009-85c3df3f-1c20-4218-95b6-94cc64cc0791",
    "deepnote_to_be_reexecuted": false,
    "source_hash": "3effd273",
    "execution_start": 1624549185232,
    "execution_millis": 8,
    "deepnote_cell_type": "code"
   },
   "source": "df_1 = [0, 1, 6, 3, 6]\ndf_2 = [ 7, 2, 1, 7, 6]\n\ndf = list(zip(df_1, df_2))\n\ndf = pd.DataFrame(data = df, \n                  columns =  ['apples', 'oranges'], \n                  index = ['Lemur', 'Salmon', \"Kapu\", \"Mato\", \"Rasto\"])\ndf",
   "execution_count": null,
   "outputs": [
    {
     "output_type": "execute_result",
     "execution_count": 4,
     "data": {
      "application/vnd.deepnote.dataframe.v2+json": {
       "row_count": 5,
       "column_count": 2,
       "columns": [
        {
         "name": "apples",
         "dtype": "int64",
         "stats": {
          "unique_count": 4,
          "nan_count": 0,
          "min": "0",
          "max": "6",
          "histogram": [
           {
            "bin_start": 0,
            "bin_end": 0.6,
            "count": 1
           },
           {
            "bin_start": 0.6,
            "bin_end": 1.2,
            "count": 1
           },
           {
            "bin_start": 1.2,
            "bin_end": 1.7999999999999998,
            "count": 0
           },
           {
            "bin_start": 1.7999999999999998,
            "bin_end": 2.4,
            "count": 0
           },
           {
            "bin_start": 2.4,
            "bin_end": 3,
            "count": 0
           },
           {
            "bin_start": 3,
            "bin_end": 3.5999999999999996,
            "count": 1
           },
           {
            "bin_start": 3.5999999999999996,
            "bin_end": 4.2,
            "count": 0
           },
           {
            "bin_start": 4.2,
            "bin_end": 4.8,
            "count": 0
           },
           {
            "bin_start": 4.8,
            "bin_end": 5.3999999999999995,
            "count": 0
           },
           {
            "bin_start": 5.3999999999999995,
            "bin_end": 6,
            "count": 2
           }
          ]
         }
        },
        {
         "name": "oranges",
         "dtype": "int64",
         "stats": {
          "unique_count": 4,
          "nan_count": 0,
          "min": "1",
          "max": "7",
          "histogram": [
           {
            "bin_start": 1,
            "bin_end": 1.6,
            "count": 1
           },
           {
            "bin_start": 1.6,
            "bin_end": 2.2,
            "count": 1
           },
           {
            "bin_start": 2.2,
            "bin_end": 2.8,
            "count": 0
           },
           {
            "bin_start": 2.8,
            "bin_end": 3.4,
            "count": 0
           },
           {
            "bin_start": 3.4,
            "bin_end": 4,
            "count": 0
           },
           {
            "bin_start": 4,
            "bin_end": 4.6,
            "count": 0
           },
           {
            "bin_start": 4.6,
            "bin_end": 5.2,
            "count": 0
           },
           {
            "bin_start": 5.2,
            "bin_end": 5.8,
            "count": 0
           },
           {
            "bin_start": 5.8,
            "bin_end": 6.3999999999999995,
            "count": 1
           },
           {
            "bin_start": 6.3999999999999995,
            "bin_end": 7,
            "count": 2
           }
          ]
         }
        },
        {
         "name": "_deepnote_index_column",
         "dtype": "object"
        }
       ],
       "rows_top": [
        {
         "apples": 0,
         "oranges": 7,
         "_deepnote_index_column": "Lemur"
        },
        {
         "apples": 1,
         "oranges": 2,
         "_deepnote_index_column": "Salmon"
        },
        {
         "apples": 6,
         "oranges": 1,
         "_deepnote_index_column": "Kapu"
        },
        {
         "apples": 3,
         "oranges": 7,
         "_deepnote_index_column": "Mato"
        },
        {
         "apples": 6,
         "oranges": 6,
         "_deepnote_index_column": "Rasto"
        }
       ],
       "rows_bottom": null
      },
      "text/plain": "        apples  oranges\nLemur        0        7\nSalmon       1        2\nKapu         6        1\nMato         3        7\nRasto        6        6",
      "text/html": "<div>\n<style scoped>\n    .dataframe tbody tr th:only-of-type {\n        vertical-align: middle;\n    }\n\n    .dataframe tbody tr th {\n        vertical-align: top;\n    }\n\n    .dataframe thead th {\n        text-align: right;\n    }\n</style>\n<table border=\"1\" class=\"dataframe\">\n  <thead>\n    <tr style=\"text-align: right;\">\n      <th></th>\n      <th>apples</th>\n      <th>oranges</th>\n    </tr>\n  </thead>\n  <tbody>\n    <tr>\n      <th>Lemur</th>\n      <td>0</td>\n      <td>7</td>\n    </tr>\n    <tr>\n      <th>Salmon</th>\n      <td>1</td>\n      <td>2</td>\n    </tr>\n    <tr>\n      <th>Kapu</th>\n      <td>6</td>\n      <td>1</td>\n    </tr>\n    <tr>\n      <th>Mato</th>\n      <td>3</td>\n      <td>7</td>\n    </tr>\n    <tr>\n      <th>Rasto</th>\n      <td>6</td>\n      <td>6</td>\n    </tr>\n  </tbody>\n</table>\n</div>"
     },
     "metadata": {}
    }
   ]
  },
  {
   "cell_type": "markdown",
   "source": "If we wish to append a `row` we use the same approach as before.",
   "metadata": {
    "id": "YLr5I-LXaJxs",
    "cell_id": "00010-0bfc0dec-d6a9-4d86-ad0e-d2ef901e212c",
    "deepnote_cell_type": "markdown"
   }
  },
  {
   "cell_type": "code",
   "metadata": {
    "id": "HoswRl3nZxGo",
    "colab": {
     "base_uri": "https://localhost:8080/",
     "height": 235
    },
    "executionInfo": {
     "status": "ok",
     "timestamp": 1600997723786,
     "user_tz": -60,
     "elapsed": 416,
     "user": {
      "displayName": "Daniel Anton",
      "photoUrl": "",
      "userId": "07817160354765211624"
     }
    },
    "outputId": "525fc258-d197-49b2-e784-2117e5bcfcd2",
    "cell_id": "00011-f45f40c0-e4b0-4b61-8e5e-e835e60a39f1",
    "deepnote_to_be_reexecuted": false,
    "source_hash": "25955c9b",
    "execution_start": 1624549185256,
    "execution_millis": 43,
    "deepnote_cell_type": "code"
   },
   "source": "new_data = [[4, 4]]\ndf_to_append = pd.DataFrame(data = new_data, \n                            columns = ['apples', 'oranges'],\n                            index = [\"apppend_single\"]) \n\ndf = df.append(df_to_append)\ndf",
   "execution_count": null,
   "outputs": [
    {
     "output_type": "execute_result",
     "execution_count": 5,
     "data": {
      "application/vnd.deepnote.dataframe.v2+json": {
       "row_count": 6,
       "column_count": 2,
       "columns": [
        {
         "name": "apples",
         "dtype": "int64",
         "stats": {
          "unique_count": 5,
          "nan_count": 0,
          "min": "0",
          "max": "6",
          "histogram": [
           {
            "bin_start": 0,
            "bin_end": 0.6,
            "count": 1
           },
           {
            "bin_start": 0.6,
            "bin_end": 1.2,
            "count": 1
           },
           {
            "bin_start": 1.2,
            "bin_end": 1.7999999999999998,
            "count": 0
           },
           {
            "bin_start": 1.7999999999999998,
            "bin_end": 2.4,
            "count": 0
           },
           {
            "bin_start": 2.4,
            "bin_end": 3,
            "count": 0
           },
           {
            "bin_start": 3,
            "bin_end": 3.5999999999999996,
            "count": 1
           },
           {
            "bin_start": 3.5999999999999996,
            "bin_end": 4.2,
            "count": 1
           },
           {
            "bin_start": 4.2,
            "bin_end": 4.8,
            "count": 0
           },
           {
            "bin_start": 4.8,
            "bin_end": 5.3999999999999995,
            "count": 0
           },
           {
            "bin_start": 5.3999999999999995,
            "bin_end": 6,
            "count": 2
           }
          ]
         }
        },
        {
         "name": "oranges",
         "dtype": "int64",
         "stats": {
          "unique_count": 5,
          "nan_count": 0,
          "min": "1",
          "max": "7",
          "histogram": [
           {
            "bin_start": 1,
            "bin_end": 1.6,
            "count": 1
           },
           {
            "bin_start": 1.6,
            "bin_end": 2.2,
            "count": 1
           },
           {
            "bin_start": 2.2,
            "bin_end": 2.8,
            "count": 0
           },
           {
            "bin_start": 2.8,
            "bin_end": 3.4,
            "count": 0
           },
           {
            "bin_start": 3.4,
            "bin_end": 4,
            "count": 0
           },
           {
            "bin_start": 4,
            "bin_end": 4.6,
            "count": 1
           },
           {
            "bin_start": 4.6,
            "bin_end": 5.2,
            "count": 0
           },
           {
            "bin_start": 5.2,
            "bin_end": 5.8,
            "count": 0
           },
           {
            "bin_start": 5.8,
            "bin_end": 6.3999999999999995,
            "count": 1
           },
           {
            "bin_start": 6.3999999999999995,
            "bin_end": 7,
            "count": 2
           }
          ]
         }
        },
        {
         "name": "_deepnote_index_column",
         "dtype": "object"
        }
       ],
       "rows_top": [
        {
         "apples": 0,
         "oranges": 7,
         "_deepnote_index_column": "Lemur"
        },
        {
         "apples": 1,
         "oranges": 2,
         "_deepnote_index_column": "Salmon"
        },
        {
         "apples": 6,
         "oranges": 1,
         "_deepnote_index_column": "Kapu"
        },
        {
         "apples": 3,
         "oranges": 7,
         "_deepnote_index_column": "Mato"
        },
        {
         "apples": 6,
         "oranges": 6,
         "_deepnote_index_column": "Rasto"
        },
        {
         "apples": 4,
         "oranges": 4,
         "_deepnote_index_column": "apppend_single"
        }
       ],
       "rows_bottom": null
      },
      "text/plain": "                apples  oranges\nLemur                0        7\nSalmon               1        2\nKapu                 6        1\nMato                 3        7\nRasto                6        6\napppend_single       4        4",
      "text/html": "<div>\n<style scoped>\n    .dataframe tbody tr th:only-of-type {\n        vertical-align: middle;\n    }\n\n    .dataframe tbody tr th {\n        vertical-align: top;\n    }\n\n    .dataframe thead th {\n        text-align: right;\n    }\n</style>\n<table border=\"1\" class=\"dataframe\">\n  <thead>\n    <tr style=\"text-align: right;\">\n      <th></th>\n      <th>apples</th>\n      <th>oranges</th>\n    </tr>\n  </thead>\n  <tbody>\n    <tr>\n      <th>Lemur</th>\n      <td>0</td>\n      <td>7</td>\n    </tr>\n    <tr>\n      <th>Salmon</th>\n      <td>1</td>\n      <td>2</td>\n    </tr>\n    <tr>\n      <th>Kapu</th>\n      <td>6</td>\n      <td>1</td>\n    </tr>\n    <tr>\n      <th>Mato</th>\n      <td>3</td>\n      <td>7</td>\n    </tr>\n    <tr>\n      <th>Rasto</th>\n      <td>6</td>\n      <td>6</td>\n    </tr>\n    <tr>\n      <th>apppend_single</th>\n      <td>4</td>\n      <td>4</td>\n    </tr>\n  </tbody>\n</table>\n</div>"
     },
     "metadata": {}
    }
   ]
  },
  {
   "cell_type": "markdown",
   "source": "If you wish to append list with multiple valuies, similarly to before, use `list(zip())` approach to create `DataFrame`, and then use `df.append()` function.",
   "metadata": {
    "id": "8HfSb5Eva0nf",
    "cell_id": "00012-db7ed3d9-44ce-4a15-84b5-6d18ce4ed5e0",
    "deepnote_cell_type": "markdown"
   }
  },
  {
   "cell_type": "code",
   "metadata": {
    "id": "F7VDorT4aR0q",
    "colab": {
     "base_uri": "https://localhost:8080/",
     "height": 328
    },
    "executionInfo": {
     "status": "ok",
     "timestamp": 1600997725223,
     "user_tz": -60,
     "elapsed": 475,
     "user": {
      "displayName": "Daniel Anton",
      "photoUrl": "",
      "userId": "07817160354765211624"
     }
    },
    "outputId": "1e3b884c-213d-464b-f624-a607ef51021b",
    "cell_id": "00013-8ffb8a13-24a0-4a22-ae74-6fd1ba1d173b",
    "deepnote_to_be_reexecuted": false,
    "source_hash": "eaed2ad0",
    "execution_start": 1624549185290,
    "execution_millis": 9,
    "deepnote_cell_type": "code"
   },
   "source": "df_1 = [10, 10, 10]\ndf_2 = [10, 10, 10]\n\ndata_to_append = list(zip(df_1, df_2))\ncolumn_names = ['apples', 'oranges']\nindex_values = [\"append_list_zip_1\", \"append_list_zip_2\", \"append_list_zip_3\"]\n\ndf_to_append = pd.DataFrame(data = data_to_append, \n                            columns = column_names, \n                            index = index_values)\ndf = df.append(df_to_append)\ndf",
   "execution_count": null,
   "outputs": [
    {
     "output_type": "execute_result",
     "execution_count": 6,
     "data": {
      "application/vnd.deepnote.dataframe.v2+json": {
       "row_count": 9,
       "column_count": 2,
       "columns": [
        {
         "name": "apples",
         "dtype": "int64",
         "stats": {
          "unique_count": 6,
          "nan_count": 0,
          "min": "0",
          "max": "10",
          "histogram": [
           {
            "bin_start": 0,
            "bin_end": 1,
            "count": 1
           },
           {
            "bin_start": 1,
            "bin_end": 2,
            "count": 1
           },
           {
            "bin_start": 2,
            "bin_end": 3,
            "count": 0
           },
           {
            "bin_start": 3,
            "bin_end": 4,
            "count": 1
           },
           {
            "bin_start": 4,
            "bin_end": 5,
            "count": 1
           },
           {
            "bin_start": 5,
            "bin_end": 6,
            "count": 0
           },
           {
            "bin_start": 6,
            "bin_end": 7,
            "count": 2
           },
           {
            "bin_start": 7,
            "bin_end": 8,
            "count": 0
           },
           {
            "bin_start": 8,
            "bin_end": 9,
            "count": 0
           },
           {
            "bin_start": 9,
            "bin_end": 10,
            "count": 3
           }
          ]
         }
        },
        {
         "name": "oranges",
         "dtype": "int64",
         "stats": {
          "unique_count": 6,
          "nan_count": 0,
          "min": "1",
          "max": "10",
          "histogram": [
           {
            "bin_start": 1,
            "bin_end": 1.9,
            "count": 1
           },
           {
            "bin_start": 1.9,
            "bin_end": 2.8,
            "count": 1
           },
           {
            "bin_start": 2.8,
            "bin_end": 3.7,
            "count": 0
           },
           {
            "bin_start": 3.7,
            "bin_end": 4.6,
            "count": 1
           },
           {
            "bin_start": 4.6,
            "bin_end": 5.5,
            "count": 0
           },
           {
            "bin_start": 5.5,
            "bin_end": 6.4,
            "count": 1
           },
           {
            "bin_start": 6.4,
            "bin_end": 7.3,
            "count": 2
           },
           {
            "bin_start": 7.3,
            "bin_end": 8.2,
            "count": 0
           },
           {
            "bin_start": 8.2,
            "bin_end": 9.1,
            "count": 0
           },
           {
            "bin_start": 9.1,
            "bin_end": 10,
            "count": 3
           }
          ]
         }
        },
        {
         "name": "_deepnote_index_column",
         "dtype": "object"
        }
       ],
       "rows_top": [
        {
         "apples": 0,
         "oranges": 7,
         "_deepnote_index_column": "Lemur"
        },
        {
         "apples": 1,
         "oranges": 2,
         "_deepnote_index_column": "Salmon"
        },
        {
         "apples": 6,
         "oranges": 1,
         "_deepnote_index_column": "Kapu"
        },
        {
         "apples": 3,
         "oranges": 7,
         "_deepnote_index_column": "Mato"
        },
        {
         "apples": 6,
         "oranges": 6,
         "_deepnote_index_column": "Rasto"
        },
        {
         "apples": 4,
         "oranges": 4,
         "_deepnote_index_column": "apppend_single"
        },
        {
         "apples": 10,
         "oranges": 10,
         "_deepnote_index_column": "append_list_zip_1"
        },
        {
         "apples": 10,
         "oranges": 10,
         "_deepnote_index_column": "append_list_zip_2"
        },
        {
         "apples": 10,
         "oranges": 10,
         "_deepnote_index_column": "append_list_zip_3"
        }
       ],
       "rows_bottom": null
      },
      "text/plain": "                   apples  oranges\nLemur                   0        7\nSalmon                  1        2\nKapu                    6        1\nMato                    3        7\nRasto                   6        6\napppend_single          4        4\nappend_list_zip_1      10       10\nappend_list_zip_2      10       10\nappend_list_zip_3      10       10",
      "text/html": "<div>\n<style scoped>\n    .dataframe tbody tr th:only-of-type {\n        vertical-align: middle;\n    }\n\n    .dataframe tbody tr th {\n        vertical-align: top;\n    }\n\n    .dataframe thead th {\n        text-align: right;\n    }\n</style>\n<table border=\"1\" class=\"dataframe\">\n  <thead>\n    <tr style=\"text-align: right;\">\n      <th></th>\n      <th>apples</th>\n      <th>oranges</th>\n    </tr>\n  </thead>\n  <tbody>\n    <tr>\n      <th>Lemur</th>\n      <td>0</td>\n      <td>7</td>\n    </tr>\n    <tr>\n      <th>Salmon</th>\n      <td>1</td>\n      <td>2</td>\n    </tr>\n    <tr>\n      <th>Kapu</th>\n      <td>6</td>\n      <td>1</td>\n    </tr>\n    <tr>\n      <th>Mato</th>\n      <td>3</td>\n      <td>7</td>\n    </tr>\n    <tr>\n      <th>Rasto</th>\n      <td>6</td>\n      <td>6</td>\n    </tr>\n    <tr>\n      <th>apppend_single</th>\n      <td>4</td>\n      <td>4</td>\n    </tr>\n    <tr>\n      <th>append_list_zip_1</th>\n      <td>10</td>\n      <td>10</td>\n    </tr>\n    <tr>\n      <th>append_list_zip_2</th>\n      <td>10</td>\n      <td>10</td>\n    </tr>\n    <tr>\n      <th>append_list_zip_3</th>\n      <td>10</td>\n      <td>10</td>\n    </tr>\n  </tbody>\n</table>\n</div>"
     },
     "metadata": {}
    }
   ]
  },
  {
   "cell_type": "markdown",
   "source": "---\n\n## Reading data from CSV\n\nRead the data a CSV file, and inport it as `DataFrame`, using `pd.read_csv()`",
   "metadata": {
    "id": "ADehqQHlAVvP",
    "cell_id": "00014-2013cebe-35d9-4206-afb2-0b5f489d5acc",
    "deepnote_cell_type": "markdown"
   }
  },
  {
   "cell_type": "markdown",
   "source": "### From CSV file\n\nIf the file is saved locally, you can read the file by specifying its location in the hardrive.\n\nTo do this in the `Jupyter environemnt`, go to the sidebar on the top left of your screen , locate the file you wish to read. `Right click` and `copy path to clipboard`. The location to the file is now saved, now, `paste` it into the `pd.read_csv()` funtion.\n\nIf you want to set a specific column from your dataset as the index, you use `index_col=0` parameter",
   "metadata": {
    "id": "dT0_DVo677PI",
    "cell_id": "00015-d21d0a36-9f00-4c54-8b3f-79bc51a90c8e",
    "deepnote_cell_type": "markdown"
   }
  },
  {
   "cell_type": "code",
   "metadata": {
    "id": "bXTXNzK0A9pq",
    "colab": {
     "base_uri": "https://localhost:8080/",
     "height": 444
    },
    "executionInfo": {
     "status": "ok",
     "timestamp": 1601755800542,
     "user_tz": -60,
     "elapsed": 832,
     "user": {
      "displayName": "Sharmin Rouf",
      "photoUrl": "",
      "userId": "07014860915014612811"
     }
    },
    "outputId": "07b91136-eee5-4d9f-942f-45a5bcaa2d5f",
    "cell_id": "00016-636e19ed-9c26-4102-a9f7-8b7361ffa106",
    "deepnote_to_be_reexecuted": false,
    "source_hash": "e4a39b2",
    "execution_start": 1624549185291,
    "execution_millis": 101,
    "deepnote_cell_type": "code"
   },
   "source": "path = \"/work/data/lesson 2/california_housing_test.csv\"\ndf = pd.read_csv(path)\ndf",
   "execution_count": null,
   "outputs": [
    {
     "output_type": "execute_result",
     "execution_count": 7,
     "data": {
      "application/vnd.deepnote.dataframe.v2+json": {
       "row_count": 3000,
       "column_count": 9,
       "columns": [
        {
         "name": "longitude",
         "dtype": "float64",
         "stats": {
          "unique_count": 607,
          "nan_count": 0,
          "min": "-124.18",
          "max": "-114.49",
          "histogram": [
           {
            "bin_start": -124.18,
            "bin_end": -123.21100000000001,
            "count": 30
           },
           {
            "bin_start": -123.21100000000001,
            "bin_end": -122.242,
            "count": 348
           },
           {
            "bin_start": -122.242,
            "bin_end": -121.273,
            "count": 599
           },
           {
            "bin_start": -121.273,
            "bin_end": -120.304,
            "count": 191
           },
           {
            "bin_start": -120.304,
            "bin_end": -119.33500000000001,
            "count": 173
           },
           {
            "bin_start": -119.33500000000001,
            "bin_end": -118.366,
            "count": 320
           },
           {
            "bin_start": -118.366,
            "bin_end": -117.39699999999999,
            "count": 958
           },
           {
            "bin_start": -117.39699999999999,
            "bin_end": -116.428,
            "count": 355
           },
           {
            "bin_start": -116.428,
            "bin_end": -115.459,
            "count": 21
           },
           {
            "bin_start": -115.459,
            "bin_end": -114.49,
            "count": 5
           }
          ]
         }
        },
        {
         "name": "latitude",
         "dtype": "float64",
         "stats": {
          "unique_count": 587,
          "nan_count": 0,
          "min": "32.56",
          "max": "41.92",
          "histogram": [
           {
            "bin_start": 32.56,
            "bin_end": 33.496,
            "count": 259
           },
           {
            "bin_start": 33.496,
            "bin_end": 34.432,
            "count": 1300
           },
           {
            "bin_start": 34.432,
            "bin_end": 35.368,
            "count": 108
           },
           {
            "bin_start": 35.368,
            "bin_end": 36.304,
            "count": 72
           },
           {
            "bin_start": 36.304,
            "bin_end": 37.24,
            "count": 202
           },
           {
            "bin_start": 37.24,
            "bin_end": 38.176,
            "count": 678
           },
           {
            "bin_start": 38.176,
            "bin_end": 39.112,
            "count": 245
           },
           {
            "bin_start": 39.112,
            "bin_end": 40.048,
            "count": 75
           },
           {
            "bin_start": 40.048,
            "bin_end": 40.984,
            "count": 51
           },
           {
            "bin_start": 40.984,
            "bin_end": 41.92,
            "count": 10
           }
          ]
         }
        },
        {
         "name": "housing_median_age",
         "dtype": "float64",
         "stats": {
          "unique_count": 52,
          "nan_count": 0,
          "min": "1.0",
          "max": "52.0",
          "histogram": [
           {
            "bin_start": 1,
            "bin_end": 6.1,
            "count": 112
           },
           {
            "bin_start": 6.1,
            "bin_end": 11.2,
            "count": 143
           },
           {
            "bin_start": 11.2,
            "bin_end": 16.299999999999997,
            "count": 323
           },
           {
            "bin_start": 16.299999999999997,
            "bin_end": 21.4,
            "count": 376
           },
           {
            "bin_start": 21.4,
            "bin_end": 26.5,
            "count": 362
           },
           {
            "bin_start": 26.5,
            "bin_end": 31.599999999999998,
            "count": 340
           },
           {
            "bin_start": 31.599999999999998,
            "bin_end": 36.699999999999996,
            "count": 511
           },
           {
            "bin_start": 36.699999999999996,
            "bin_end": 41.8,
            "count": 306
           },
           {
            "bin_start": 41.8,
            "bin_end": 46.9,
            "count": 250
           },
           {
            "bin_start": 46.9,
            "bin_end": 52,
            "count": 277
           }
          ]
         }
        },
        {
         "name": "total_rooms",
         "dtype": "float64",
         "stats": {
          "unique_count": 2215,
          "nan_count": 0,
          "min": "6.0",
          "max": "30450.0",
          "histogram": [
           {
            "bin_start": 6,
            "bin_end": 3050.4,
            "count": 2205
           },
           {
            "bin_start": 3050.4,
            "bin_end": 6094.8,
            "count": 650
           },
           {
            "bin_start": 6094.8,
            "bin_end": 9139.2,
            "count": 94
           },
           {
            "bin_start": 9139.2,
            "bin_end": 12183.6,
            "count": 29
           },
           {
            "bin_start": 12183.6,
            "bin_end": 15228,
            "count": 10
           },
           {
            "bin_start": 15228,
            "bin_end": 18272.4,
            "count": 6
           },
           {
            "bin_start": 18272.4,
            "bin_end": 21316.8,
            "count": 1
           },
           {
            "bin_start": 21316.8,
            "bin_end": 24361.2,
            "count": 3
           },
           {
            "bin_start": 24361.2,
            "bin_end": 27405.600000000002,
            "count": 0
           },
           {
            "bin_start": 27405.600000000002,
            "bin_end": 30450,
            "count": 2
           }
          ]
         }
        },
        {
         "name": "total_bedrooms",
         "dtype": "float64",
         "stats": {
          "unique_count": 1055,
          "nan_count": 0,
          "min": "2.0",
          "max": "5419.0",
          "histogram": [
           {
            "bin_start": 2,
            "bin_end": 543.7,
            "count": 1945
           },
           {
            "bin_start": 543.7,
            "bin_end": 1085.4,
            "count": 854
           },
           {
            "bin_start": 1085.4,
            "bin_end": 1627.1000000000001,
            "count": 141
           },
           {
            "bin_start": 1627.1000000000001,
            "bin_end": 2168.8,
            "count": 34
           },
           {
            "bin_start": 2168.8,
            "bin_end": 2710.5,
            "count": 15
           },
           {
            "bin_start": 2710.5,
            "bin_end": 3252.2000000000003,
            "count": 3
           },
           {
            "bin_start": 3252.2000000000003,
            "bin_end": 3793.9000000000005,
            "count": 1
           },
           {
            "bin_start": 3793.9000000000005,
            "bin_end": 4335.6,
            "count": 2
           },
           {
            "bin_start": 4335.6,
            "bin_end": 4877.3,
            "count": 2
           },
           {
            "bin_start": 4877.3,
            "bin_end": 5419,
            "count": 3
           }
          ]
         }
        },
        {
         "name": "population",
         "dtype": "float64",
         "stats": {
          "unique_count": 1802,
          "nan_count": 0,
          "min": "5.0",
          "max": "11935.0",
          "histogram": [
           {
            "bin_start": 5,
            "bin_end": 1198,
            "count": 1561
           },
           {
            "bin_start": 1198,
            "bin_end": 2391,
            "count": 1096
           },
           {
            "bin_start": 2391,
            "bin_end": 3584,
            "count": 235
           },
           {
            "bin_start": 3584,
            "bin_end": 4777,
            "count": 68
           },
           {
            "bin_start": 4777,
            "bin_end": 5970,
            "count": 19
           },
           {
            "bin_start": 5970,
            "bin_end": 7163,
            "count": 6
           },
           {
            "bin_start": 7163,
            "bin_end": 8356,
            "count": 9
           },
           {
            "bin_start": 8356,
            "bin_end": 9549,
            "count": 3
           },
           {
            "bin_start": 9549,
            "bin_end": 10742,
            "count": 0
           },
           {
            "bin_start": 10742,
            "bin_end": 11935,
            "count": 3
           }
          ]
         }
        },
        {
         "name": "households",
         "dtype": "float64",
         "stats": {
          "unique_count": 1026,
          "nan_count": 0,
          "min": "2.0",
          "max": "4930.0",
          "histogram": [
           {
            "bin_start": 2,
            "bin_end": 494.8,
            "count": 1882
           },
           {
            "bin_start": 494.8,
            "bin_end": 987.6,
            "count": 907
           },
           {
            "bin_start": 987.6,
            "bin_end": 1480.4,
            "count": 151
           },
           {
            "bin_start": 1480.4,
            "bin_end": 1973.2,
            "count": 37
           },
           {
            "bin_start": 1973.2,
            "bin_end": 2466,
            "count": 14
           },
           {
            "bin_start": 2466,
            "bin_end": 2958.8,
            "count": 1
           },
           {
            "bin_start": 2958.8,
            "bin_end": 3451.6,
            "count": 4
           },
           {
            "bin_start": 3451.6,
            "bin_end": 3944.4,
            "count": 0
           },
           {
            "bin_start": 3944.4,
            "bin_end": 4437.2,
            "count": 2
           },
           {
            "bin_start": 4437.2,
            "bin_end": 4930,
            "count": 2
           }
          ]
         }
        },
        {
         "name": "median_income",
         "dtype": "float64",
         "stats": {
          "unique_count": 2578,
          "nan_count": 0,
          "min": "0.4999",
          "max": "15.0001",
          "histogram": [
           {
            "bin_start": 0.4999,
            "bin_end": 1.9499199999999999,
            "count": 344
           },
           {
            "bin_start": 1.9499199999999999,
            "bin_end": 3.39994,
            "count": 1097
           },
           {
            "bin_start": 3.39994,
            "bin_end": 4.849959999999999,
            "count": 891
           },
           {
            "bin_start": 4.849959999999999,
            "bin_end": 6.29998,
            "count": 430
           },
           {
            "bin_start": 6.29998,
            "bin_end": 7.75,
            "count": 139
           },
           {
            "bin_start": 7.75,
            "bin_end": 9.200019999999999,
            "count": 50
           },
           {
            "bin_start": 9.200019999999999,
            "bin_end": 10.650039999999999,
            "count": 23
           },
           {
            "bin_start": 10.650039999999999,
            "bin_end": 12.10006,
            "count": 12
           },
           {
            "bin_start": 12.10006,
            "bin_end": 13.55008,
            "count": 3
           },
           {
            "bin_start": 13.55008,
            "bin_end": 15.0001,
            "count": 11
           }
          ]
         }
        },
        {
         "name": "median_house_value",
         "dtype": "float64",
         "stats": {
          "unique_count": 1784,
          "nan_count": 0,
          "min": "22500.0",
          "max": "500001.0",
          "histogram": [
           {
            "bin_start": 22500,
            "bin_end": 70250.1,
            "count": 175
           },
           {
            "bin_start": 70250.1,
            "bin_end": 118000.2,
            "count": 546
           },
           {
            "bin_start": 118000.2,
            "bin_end": 165750.3,
            "count": 626
           },
           {
            "bin_start": 165750.3,
            "bin_end": 213500.4,
            "count": 496
           },
           {
            "bin_start": 213500.4,
            "bin_end": 261250.5,
            "count": 392
           },
           {
            "bin_start": 261250.5,
            "bin_end": 309000.6,
            "count": 258
           },
           {
            "bin_start": 309000.6,
            "bin_end": 356750.7,
            "count": 166
           },
           {
            "bin_start": 356750.7,
            "bin_end": 404500.8,
            "count": 105
           },
           {
            "bin_start": 404500.8,
            "bin_end": 452250.89999999997,
            "count": 70
           },
           {
            "bin_start": 452250.89999999997,
            "bin_end": 500001,
            "count": 166
           }
          ]
         }
        },
        {
         "name": "_deepnote_index_column",
         "dtype": "int64"
        }
       ],
       "rows_top": [
        {
         "longitude": -122.05,
         "latitude": 37.37,
         "housing_median_age": 27,
         "total_rooms": 3885,
         "total_bedrooms": 661,
         "population": 1537,
         "households": 606,
         "median_income": 6.6085,
         "median_house_value": 344700,
         "_deepnote_index_column": 0
        },
        {
         "longitude": -118.3,
         "latitude": 34.26,
         "housing_median_age": 43,
         "total_rooms": 1510,
         "total_bedrooms": 310,
         "population": 809,
         "households": 277,
         "median_income": 3.599,
         "median_house_value": 176500,
         "_deepnote_index_column": 1
        },
        {
         "longitude": -117.81,
         "latitude": 33.78,
         "housing_median_age": 27,
         "total_rooms": 3589,
         "total_bedrooms": 507,
         "population": 1484,
         "households": 495,
         "median_income": 5.7934,
         "median_house_value": 270500,
         "_deepnote_index_column": 2
        },
        {
         "longitude": -118.36,
         "latitude": 33.82,
         "housing_median_age": 28,
         "total_rooms": 67,
         "total_bedrooms": 15,
         "population": 49,
         "households": 11,
         "median_income": 6.1359,
         "median_house_value": 330000,
         "_deepnote_index_column": 3
        },
        {
         "longitude": -119.67,
         "latitude": 36.33,
         "housing_median_age": 19,
         "total_rooms": 1241,
         "total_bedrooms": 244,
         "population": 850,
         "households": 237,
         "median_income": 2.9375,
         "median_house_value": 81700,
         "_deepnote_index_column": 4
        },
        {
         "longitude": -119.56,
         "latitude": 36.51,
         "housing_median_age": 37,
         "total_rooms": 1018,
         "total_bedrooms": 213,
         "population": 663,
         "households": 204,
         "median_income": 1.6635,
         "median_house_value": 67000,
         "_deepnote_index_column": 5
        },
        {
         "longitude": -121.43,
         "latitude": 38.63,
         "housing_median_age": 43,
         "total_rooms": 1009,
         "total_bedrooms": 225,
         "population": 604,
         "households": 218,
         "median_income": 1.6641,
         "median_house_value": 67000,
         "_deepnote_index_column": 6
        },
        {
         "longitude": -120.65,
         "latitude": 35.48,
         "housing_median_age": 19,
         "total_rooms": 2310,
         "total_bedrooms": 471,
         "population": 1341,
         "households": 441,
         "median_income": 3.225,
         "median_house_value": 166900,
         "_deepnote_index_column": 7
        },
        {
         "longitude": -122.84,
         "latitude": 38.4,
         "housing_median_age": 15,
         "total_rooms": 3080,
         "total_bedrooms": 617,
         "population": 1446,
         "households": 599,
         "median_income": 3.6696,
         "median_house_value": 194400,
         "_deepnote_index_column": 8
        },
        {
         "longitude": -118.02,
         "latitude": 34.08,
         "housing_median_age": 31,
         "total_rooms": 2402,
         "total_bedrooms": 632,
         "population": 2830,
         "households": 603,
         "median_income": 2.3333,
         "median_house_value": 164200,
         "_deepnote_index_column": 9
        },
        {
         "longitude": -118.24,
         "latitude": 33.98,
         "housing_median_age": 45,
         "total_rooms": 972,
         "total_bedrooms": 249,
         "population": 1288,
         "households": 261,
         "median_income": 2.2054,
         "median_house_value": 125000,
         "_deepnote_index_column": 10
        },
        {
         "longitude": -119.12,
         "latitude": 35.85,
         "housing_median_age": 37,
         "total_rooms": 736,
         "total_bedrooms": 166,
         "population": 564,
         "households": 138,
         "median_income": 2.4167,
         "median_house_value": 58300,
         "_deepnote_index_column": 11
        },
        {
         "longitude": -121.93,
         "latitude": 37.25,
         "housing_median_age": 36,
         "total_rooms": 1089,
         "total_bedrooms": 182,
         "population": 535,
         "households": 170,
         "median_income": 4.69,
         "median_house_value": 252600,
         "_deepnote_index_column": 12
        },
        {
         "longitude": -117.03,
         "latitude": 32.97,
         "housing_median_age": 16,
         "total_rooms": 3936,
         "total_bedrooms": 694,
         "population": 1935,
         "households": 659,
         "median_income": 4.5625,
         "median_house_value": 231200,
         "_deepnote_index_column": 13
        },
        {
         "longitude": -117.97,
         "latitude": 33.73,
         "housing_median_age": 27,
         "total_rooms": 2097,
         "total_bedrooms": 325,
         "population": 1217,
         "households": 331,
         "median_income": 5.7121,
         "median_house_value": 222500,
         "_deepnote_index_column": 14
        },
        {
         "longitude": -117.99,
         "latitude": 33.81,
         "housing_median_age": 42,
         "total_rooms": 161,
         "total_bedrooms": 40,
         "population": 157,
         "households": 50,
         "median_income": 2.2,
         "median_house_value": 153100,
         "_deepnote_index_column": 15
        },
        {
         "longitude": -120.81,
         "latitude": 37.53,
         "housing_median_age": 15,
         "total_rooms": 570,
         "total_bedrooms": 123,
         "population": 189,
         "households": 107,
         "median_income": 1.875,
         "median_house_value": 181300,
         "_deepnote_index_column": 16
        },
        {
         "longitude": -121.2,
         "latitude": 38.69,
         "housing_median_age": 26,
         "total_rooms": 3077,
         "total_bedrooms": 607,
         "population": 1603,
         "households": 595,
         "median_income": 2.7174,
         "median_house_value": 137500,
         "_deepnote_index_column": 17
        },
        {
         "longitude": -118.88,
         "latitude": 34.21,
         "housing_median_age": 26,
         "total_rooms": 1590,
         "total_bedrooms": 196,
         "population": 654,
         "households": 199,
         "median_income": 6.5851,
         "median_house_value": 300000,
         "_deepnote_index_column": 18
        },
        {
         "longitude": -122.59,
         "latitude": 38.01,
         "housing_median_age": 35,
         "total_rooms": 8814,
         "total_bedrooms": 1307,
         "population": 3450,
         "households": 1258,
         "median_income": 6.1724,
         "median_house_value": 414300,
         "_deepnote_index_column": 19
        },
        {
         "longitude": -122.15,
         "latitude": 37.75,
         "housing_median_age": 40,
         "total_rooms": 1445,
         "total_bedrooms": 256,
         "population": 849,
         "households": 255,
         "median_income": 3.8913,
         "median_house_value": 126300,
         "_deepnote_index_column": 20
        },
        {
         "longitude": -121.37,
         "latitude": 38.68,
         "housing_median_age": 36,
         "total_rooms": 1775,
         "total_bedrooms": 296,
         "population": 937,
         "households": 305,
         "median_income": 3.1786,
         "median_house_value": 83400,
         "_deepnote_index_column": 21
        },
        {
         "longitude": -118.16,
         "latitude": 34.07,
         "housing_median_age": 47,
         "total_rooms": 2994,
         "total_bedrooms": 543,
         "population": 1651,
         "households": 561,
         "median_income": 3.8644,
         "median_house_value": 241500,
         "_deepnote_index_column": 22
        },
        {
         "longitude": -122.2,
         "latitude": 37.79,
         "housing_median_age": 45,
         "total_rooms": 2021,
         "total_bedrooms": 528,
         "population": 1410,
         "households": 480,
         "median_income": 2.7788,
         "median_house_value": 115400,
         "_deepnote_index_column": 23
        },
        {
         "longitude": -117.28,
         "latitude": 33.28,
         "housing_median_age": 13,
         "total_rooms": 6131,
         "total_bedrooms": 1040,
         "population": 4049,
         "households": 940,
         "median_income": 3.8156,
         "median_house_value": 150700,
         "_deepnote_index_column": 24
        },
        {
         "longitude": -118.03,
         "latitude": 34.16,
         "housing_median_age": 36,
         "total_rooms": 1401,
         "total_bedrooms": 218,
         "population": 667,
         "households": 225,
         "median_income": 7.1615,
         "median_house_value": 484700,
         "_deepnote_index_column": 25
        },
        {
         "longitude": -122.42,
         "latitude": 37.76,
         "housing_median_age": 52,
         "total_rooms": 3587,
         "total_bedrooms": 1030,
         "population": 2259,
         "households": 979,
         "median_income": 2.5403,
         "median_house_value": 250000,
         "_deepnote_index_column": 26
        },
        {
         "longitude": -118.39,
         "latitude": 33.99,
         "housing_median_age": 32,
         "total_rooms": 2612,
         "total_bedrooms": 418,
         "population": 1030,
         "households": 402,
         "median_income": 6.603,
         "median_house_value": 369200,
         "_deepnote_index_column": 27
        },
        {
         "longitude": -118.45,
         "latitude": 34.07,
         "housing_median_age": 19,
         "total_rooms": 4845,
         "total_bedrooms": 1609,
         "population": 3751,
         "households": 1539,
         "median_income": 1.583,
         "median_house_value": 350000,
         "_deepnote_index_column": 28
        },
        {
         "longitude": -118.48,
         "latitude": 34.01,
         "housing_median_age": 30,
         "total_rooms": 3078,
         "total_bedrooms": 954,
         "population": 1561,
         "households": 901,
         "median_income": 3.4852,
         "median_house_value": 425000,
         "_deepnote_index_column": 29
        },
        {
         "longitude": -119.35,
         "latitude": 36.33,
         "housing_median_age": 14,
         "total_rooms": 1195,
         "total_bedrooms": 220,
         "population": 568,
         "households": 229,
         "median_income": 3.1486,
         "median_house_value": 105600,
         "_deepnote_index_column": 30
        },
        {
         "longitude": -118.3,
         "latitude": 33.91,
         "housing_median_age": 34,
         "total_rooms": 1617,
         "total_bedrooms": 493,
         "population": 1530,
         "households": 500,
         "median_income": 2.6182,
         "median_house_value": 172600,
         "_deepnote_index_column": 31
        },
        {
         "longitude": -121.13,
         "latitude": 39.31,
         "housing_median_age": 17,
         "total_rooms": 3442,
         "total_bedrooms": 705,
         "population": 1693,
         "households": 619,
         "median_income": 2.8102,
         "median_house_value": 128900,
         "_deepnote_index_column": 32
        },
        {
         "longitude": -118.08,
         "latitude": 34.55,
         "housing_median_age": 5,
         "total_rooms": 16181,
         "total_bedrooms": 2971,
         "population": 8152,
         "households": 2651,
         "median_income": 4.5237,
         "median_house_value": 141800,
         "_deepnote_index_column": 33
        },
        {
         "longitude": -118.32,
         "latitude": 33.94,
         "housing_median_age": 38,
         "total_rooms": 1067,
         "total_bedrooms": 170,
         "population": 499,
         "households": 169,
         "median_income": 4.6389,
         "median_house_value": 183800,
         "_deepnote_index_column": 34
        },
        {
         "longitude": -118.11,
         "latitude": 34,
         "housing_median_age": 33,
         "total_rooms": 2886,
         "total_bedrooms": 726,
         "population": 2650,
         "households": 728,
         "median_income": 2.625,
         "median_house_value": 178700,
         "_deepnote_index_column": 35
        },
        {
         "longitude": -122.53,
         "latitude": 37.97,
         "housing_median_age": 52,
         "total_rooms": 1560,
         "total_bedrooms": 451,
         "population": 700,
         "households": 419,
         "median_income": 2.5125,
         "median_house_value": 270800,
         "_deepnote_index_column": 36
        },
        {
         "longitude": -118.02,
         "latitude": 33.92,
         "housing_median_age": 34,
         "total_rooms": 1478,
         "total_bedrooms": 251,
         "population": 956,
         "households": 277,
         "median_income": 5.5238,
         "median_house_value": 185300,
         "_deepnote_index_column": 37
        },
        {
         "longitude": -118.05,
         "latitude": 33.93,
         "housing_median_age": 31,
         "total_rooms": 894,
         "total_bedrooms": 203,
         "population": 883,
         "households": 190,
         "median_income": 3.6771,
         "median_house_value": 141500,
         "_deepnote_index_column": 38
        },
        {
         "longitude": -119.01,
         "latitude": 34.23,
         "housing_median_age": 11,
         "total_rooms": 5785,
         "total_bedrooms": 1035,
         "population": 2760,
         "households": 985,
         "median_income": 4.693,
         "median_house_value": 232200,
         "_deepnote_index_column": 39
        },
        {
         "longitude": -119.32,
         "latitude": 36.2,
         "housing_median_age": 15,
         "total_rooms": 1562,
         "total_bedrooms": 275,
         "population": 961,
         "households": 287,
         "median_income": 3.4231,
         "median_house_value": 83300,
         "_deepnote_index_column": 40
        },
        {
         "longitude": -116.92,
         "latitude": 32.77,
         "housing_median_age": 16,
         "total_rooms": 2770,
         "total_bedrooms": 406,
         "population": 1269,
         "households": 429,
         "median_income": 6.6783,
         "median_house_value": 275000,
         "_deepnote_index_column": 41
        },
        {
         "longitude": -118.06,
         "latitude": 34.15,
         "housing_median_age": 37,
         "total_rooms": 1980,
         "total_bedrooms": 226,
         "population": 697,
         "households": 226,
         "median_income": 15.0001,
         "median_house_value": 500001,
         "_deepnote_index_column": 42
        },
        {
         "longitude": -117.27,
         "latitude": 34.09,
         "housing_median_age": 36,
         "total_rooms": 848,
         "total_bedrooms": 186,
         "population": 737,
         "households": 169,
         "median_income": 0.9838,
         "median_house_value": 79300,
         "_deepnote_index_column": 43
        },
        {
         "longitude": -118.23,
         "latitude": 34.13,
         "housing_median_age": 48,
         "total_rooms": 1308,
         "total_bedrooms": 286,
         "population": 835,
         "households": 294,
         "median_income": 4.2891,
         "median_house_value": 214800,
         "_deepnote_index_column": 44
        },
        {
         "longitude": -117.24,
         "latitude": 33.17,
         "housing_median_age": 4,
         "total_rooms": 9998,
         "total_bedrooms": 1874,
         "population": 3925,
         "households": 1672,
         "median_income": 4.2826,
         "median_house_value": 237500,
         "_deepnote_index_column": 45
        },
        {
         "longitude": -121.91,
         "latitude": 37.44,
         "housing_median_age": 24,
         "total_rooms": 1212,
         "total_bedrooms": 251,
         "population": 799,
         "households": 242,
         "median_income": 5.0808,
         "median_house_value": 212500,
         "_deepnote_index_column": 46
        },
        {
         "longitude": -118.29,
         "latitude": 33.94,
         "housing_median_age": 47,
         "total_rooms": 1782,
         "total_bedrooms": 338,
         "population": 1003,
         "households": 329,
         "median_income": 2.5398,
         "median_house_value": 105700,
         "_deepnote_index_column": 47
        },
        {
         "longitude": -121.35,
         "latitude": 38,
         "housing_median_age": 6,
         "total_rooms": 1649,
         "total_bedrooms": 369,
         "population": 732,
         "households": 350,
         "median_income": 3.4231,
         "median_house_value": 123800,
         "_deepnote_index_column": 48
        },
        {
         "longitude": -117.99,
         "latitude": 33.78,
         "housing_median_age": 19,
         "total_rooms": 7399,
         "total_bedrooms": 1698,
         "population": 3554,
         "households": 1593,
         "median_income": 3.1049,
         "median_house_value": 173900,
         "_deepnote_index_column": 49
        },
        {
         "longitude": -120.99,
         "latitude": 37.7,
         "housing_median_age": 14,
         "total_rooms": 9849,
         "total_bedrooms": 1887,
         "population": 4356,
         "households": 1780,
         "median_income": 3.5877,
         "median_house_value": 160900,
         "_deepnote_index_column": 50
        },
        {
         "longitude": -119.42,
         "latitude": 35.97,
         "housing_median_age": 21,
         "total_rooms": 554,
         "total_bedrooms": 121,
         "population": 426,
         "households": 122,
         "median_income": 2.3516,
         "median_house_value": 47500,
         "_deepnote_index_column": 51
        },
        {
         "longitude": -122.21,
         "latitude": 37.8,
         "housing_median_age": 39,
         "total_rooms": 2003,
         "total_bedrooms": 500,
         "population": 1109,
         "households": 464,
         "median_income": 3.0682,
         "median_house_value": 156500,
         "_deepnote_index_column": 52
        },
        {
         "longitude": -118.17,
         "latitude": 33.8,
         "housing_median_age": 26,
         "total_rooms": 1589,
         "total_bedrooms": 380,
         "population": 883,
         "households": 366,
         "median_income": 3.5313,
         "median_house_value": 187500,
         "_deepnote_index_column": 53
        },
        {
         "longitude": -117.9,
         "latitude": 34.09,
         "housing_median_age": 39,
         "total_rooms": 1726,
         "total_bedrooms": 333,
         "population": 892,
         "households": 335,
         "median_income": 4.3409,
         "median_house_value": 191800,
         "_deepnote_index_column": 54
        }
       ],
       "rows_bottom": [
        {
         "longitude": -121.89,
         "latitude": 37.28,
         "housing_median_age": 35,
         "total_rooms": 2418,
         "total_bedrooms": 375,
         "population": 988,
         "households": 374,
         "median_income": 6.0936,
         "median_house_value": 365400,
         "_deepnote_index_column": 2944
        },
        {
         "longitude": -122.48,
         "latitude": 37.65,
         "housing_median_age": 39,
         "total_rooms": 3348,
         "total_bedrooms": 666,
         "population": 1817,
         "households": 668,
         "median_income": 4.2593,
         "median_house_value": 227400,
         "_deepnote_index_column": 2945
        },
        {
         "longitude": -118.31,
         "latitude": 34.09,
         "housing_median_age": 36,
         "total_rooms": 2517,
         "total_bedrooms": 842,
         "population": 2446,
         "households": 689,
         "median_income": 2.1524,
         "median_house_value": 187500,
         "_deepnote_index_column": 2946
        },
        {
         "longitude": -123.02,
         "latitude": 38.81,
         "housing_median_age": 35,
         "total_rooms": 956,
         "total_bedrooms": 213,
         "population": 488,
         "households": 215,
         "median_income": 3.025,
         "median_house_value": 140600,
         "_deepnote_index_column": 2947
        },
        {
         "longitude": -120.47,
         "latitude": 34.65,
         "housing_median_age": 32,
         "total_rooms": 2193,
         "total_bedrooms": 430,
         "population": 1074,
         "households": 377,
         "median_income": 2.3333,
         "median_house_value": 130200,
         "_deepnote_index_column": 2948
        },
        {
         "longitude": -122.1,
         "latitude": 37.68,
         "housing_median_age": 37,
         "total_rooms": 2116,
         "total_bedrooms": 503,
         "population": 1109,
         "households": 448,
         "median_income": 2.535,
         "median_house_value": 174000,
         "_deepnote_index_column": 2949
        },
        {
         "longitude": -122.42,
         "latitude": 37.79,
         "housing_median_age": 52,
         "total_rooms": 3364,
         "total_bedrooms": 1100,
         "population": 2112,
         "households": 1045,
         "median_income": 2.1343,
         "median_house_value": 400000,
         "_deepnote_index_column": 2950
        },
        {
         "longitude": -122.64,
         "latitude": 41.63,
         "housing_median_age": 19,
         "total_rooms": 2722,
         "total_bedrooms": 479,
         "population": 1108,
         "households": 430,
         "median_income": 3.1062,
         "median_house_value": 100000,
         "_deepnote_index_column": 2951
        },
        {
         "longitude": -118.02,
         "latitude": 33.91,
         "housing_median_age": 34,
         "total_rooms": 2518,
         "total_bedrooms": 429,
         "population": 1309,
         "households": 421,
         "median_income": 4.7861,
         "median_house_value": 210700,
         "_deepnote_index_column": 2952
        },
        {
         "longitude": -119.02,
         "latitude": 35.36,
         "housing_median_age": 48,
         "total_rooms": 1833,
         "total_bedrooms": 396,
         "population": 947,
         "households": 363,
         "median_income": 2.2827,
         "median_house_value": 70000,
         "_deepnote_index_column": 2953
        },
        {
         "longitude": -121.33,
         "latitude": 38.65,
         "housing_median_age": 23,
         "total_rooms": 2446,
         "total_bedrooms": 523,
         "population": 1132,
         "households": 513,
         "median_income": 2.6266,
         "median_house_value": 198500,
         "_deepnote_index_column": 2954
        },
        {
         "longitude": -118.08,
         "latitude": 33.95,
         "housing_median_age": 32,
         "total_rooms": 1962,
         "total_bedrooms": 387,
         "population": 1274,
         "households": 398,
         "median_income": 4.8304,
         "median_house_value": 160600,
         "_deepnote_index_column": 2955
        },
        {
         "longitude": -118.08,
         "latitude": 33.79,
         "housing_median_age": 34,
         "total_rooms": 2840,
         "total_bedrooms": 395,
         "population": 1127,
         "households": 396,
         "median_income": 7.6144,
         "median_house_value": 376200,
         "_deepnote_index_column": 2956
        },
        {
         "longitude": -118.23,
         "latitude": 33.91,
         "housing_median_age": 27,
         "total_rooms": 1694,
         "total_bedrooms": 393,
         "population": 1890,
         "households": 373,
         "median_income": 3.0341,
         "median_house_value": 89100,
         "_deepnote_index_column": 2957
        },
        {
         "longitude": -118.29,
         "latitude": 33.75,
         "housing_median_age": 37,
         "total_rooms": 1319,
         "total_bedrooms": 292,
         "population": 766,
         "households": 285,
         "median_income": 2.7031,
         "median_house_value": 218900,
         "_deepnote_index_column": 2958
        },
        {
         "longitude": -118.02,
         "latitude": 34.13,
         "housing_median_age": 34,
         "total_rooms": 1966,
         "total_bedrooms": 319,
         "population": 980,
         "households": 297,
         "median_income": 7.7307,
         "median_house_value": 429000,
         "_deepnote_index_column": 2959
        },
        {
         "longitude": -117.89,
         "latitude": 33.6,
         "housing_median_age": 36,
         "total_rooms": 1496,
         "total_bedrooms": 247,
         "population": 441,
         "households": 203,
         "median_income": 7.8164,
         "median_house_value": 500001,
         "_deepnote_index_column": 2960
        },
        {
         "longitude": -118.23,
         "latitude": 34.65,
         "housing_median_age": 17,
         "total_rooms": 1827,
         "total_bedrooms": 348,
         "population": 766,
         "households": 335,
         "median_income": 3.5673,
         "median_house_value": 136300,
         "_deepnote_index_column": 2961
        },
        {
         "longitude": -118.31,
         "latitude": 34.02,
         "housing_median_age": 45,
         "total_rooms": 1423,
         "total_bedrooms": 278,
         "population": 822,
         "households": 276,
         "median_income": 2.4519,
         "median_house_value": 98100,
         "_deepnote_index_column": 2962
        },
        {
         "longitude": -118.07,
         "latitude": 33.8,
         "housing_median_age": 34,
         "total_rooms": 3486,
         "total_bedrooms": 507,
         "population": 1311,
         "households": 503,
         "median_income": 7.1221,
         "median_house_value": 384500,
         "_deepnote_index_column": 2963
        },
        {
         "longitude": -118.25,
         "latitude": 33.94,
         "housing_median_age": 43,
         "total_rooms": 1113,
         "total_bedrooms": 378,
         "population": 1305,
         "households": 334,
         "median_income": 1.1434,
         "median_house_value": 91300,
         "_deepnote_index_column": 2964
        },
        {
         "longitude": -122.44,
         "latitude": 37.71,
         "housing_median_age": 52,
         "total_rooms": 2711,
         "total_bedrooms": 591,
         "population": 1848,
         "households": 524,
         "median_income": 3.9567,
         "median_house_value": 251500,
         "_deepnote_index_column": 2965
        },
        {
         "longitude": -119.75,
         "latitude": 34.5,
         "housing_median_age": 26,
         "total_rooms": 3563,
         "total_bedrooms": 579,
         "population": 1479,
         "households": 575,
         "median_income": 5.9522,
         "median_house_value": 438400,
         "_deepnote_index_column": 2966
        },
        {
         "longitude": -117.94,
         "latitude": 33.94,
         "housing_median_age": 26,
         "total_rooms": 1962,
         "total_bedrooms": 540,
         "population": 1236,
         "households": 520,
         "median_income": 2.2156,
         "median_house_value": 145000,
         "_deepnote_index_column": 2967
        },
        {
         "longitude": -119.23,
         "latitude": 34.17,
         "housing_median_age": 18,
         "total_rooms": 6171,
         "total_bedrooms": 1490,
         "population": 2164,
         "households": 1210,
         "median_income": 3.6875,
         "median_house_value": 500001,
         "_deepnote_index_column": 2968
        },
        {
         "longitude": -118.11,
         "latitude": 34.68,
         "housing_median_age": 6,
         "total_rooms": 7430,
         "total_bedrooms": 1184,
         "population": 3489,
         "households": 1115,
         "median_income": 5.3267,
         "median_house_value": 140100,
         "_deepnote_index_column": 2969
        },
        {
         "longitude": -122.47,
         "latitude": 37.77,
         "housing_median_age": 52,
         "total_rooms": 2241,
         "total_bedrooms": 443,
         "population": 1042,
         "households": 377,
         "median_income": 4.1635,
         "median_house_value": 398400,
         "_deepnote_index_column": 2970
        },
        {
         "longitude": -120.93,
         "latitude": 35.76,
         "housing_median_age": 11,
         "total_rooms": 8997,
         "total_bedrooms": 1698,
         "population": 1825,
         "households": 756,
         "median_income": 3.23,
         "median_house_value": 154300,
         "_deepnote_index_column": 2971
        },
        {
         "longitude": -118.14,
         "latitude": 34.17,
         "housing_median_age": 52,
         "total_rooms": 2667,
         "total_bedrooms": 486,
         "population": 1681,
         "households": 504,
         "median_income": 4.0524,
         "median_house_value": 173100,
         "_deepnote_index_column": 2972
        },
        {
         "longitude": -122.73,
         "latitude": 38.46,
         "housing_median_age": 14,
         "total_rooms": 4042,
         "total_bedrooms": 1298,
         "population": 2323,
         "households": 1158,
         "median_income": 2.0651,
         "median_house_value": 135400,
         "_deepnote_index_column": 2973
        },
        {
         "longitude": -117.06,
         "latitude": 32.76,
         "housing_median_age": 37,
         "total_rooms": 2356,
         "total_bedrooms": 476,
         "population": 1231,
         "households": 499,
         "median_income": 2.965,
         "median_house_value": 155700,
         "_deepnote_index_column": 2974
        },
        {
         "longitude": -120.71,
         "latitude": 35.5,
         "housing_median_age": 12,
         "total_rooms": 3098,
         "total_bedrooms": 453,
         "population": 1433,
         "households": 434,
         "median_income": 5.2508,
         "median_house_value": 292900,
         "_deepnote_index_column": 2975
        },
        {
         "longitude": -118.31,
         "latitude": 34.05,
         "housing_median_age": 35,
         "total_rooms": 1692,
         "total_bedrooms": 423,
         "population": 1578,
         "households": 406,
         "median_income": 2.5313,
         "median_house_value": 305800,
         "_deepnote_index_column": 2976
        },
        {
         "longitude": -119.7,
         "latitude": 36.75,
         "housing_median_age": 11,
         "total_rooms": 3626,
         "total_bedrooms": 779,
         "population": 1819,
         "households": 731,
         "median_income": 2.4956,
         "median_house_value": 87500,
         "_deepnote_index_column": 2977
        },
        {
         "longitude": -121.34,
         "latitude": 38.64,
         "housing_median_age": 17,
         "total_rooms": 2761,
         "total_bedrooms": 501,
         "population": 1128,
         "households": 482,
         "median_income": 3.7562,
         "median_house_value": 139700,
         "_deepnote_index_column": 2978
        },
        {
         "longitude": -117.91,
         "latitude": 34.09,
         "housing_median_age": 20,
         "total_rooms": 4327,
         "total_bedrooms": 1037,
         "population": 2296,
         "households": 963,
         "median_income": 3.0441,
         "median_house_value": 185400,
         "_deepnote_index_column": 2979
        },
        {
         "longitude": -119.76,
         "latitude": 36.79,
         "housing_median_age": 32,
         "total_rooms": 2463,
         "total_bedrooms": 468,
         "population": 1261,
         "households": 486,
         "median_income": 3.3281,
         "median_house_value": 75100,
         "_deepnote_index_column": 2980
        },
        {
         "longitude": -120.66,
         "latitude": 35.49,
         "housing_median_age": 17,
         "total_rooms": 4422,
         "total_bedrooms": 945,
         "population": 2307,
         "households": 885,
         "median_income": 2.8285,
         "median_house_value": 171300,
         "_deepnote_index_column": 2981
        },
        {
         "longitude": -118.28,
         "latitude": 34.08,
         "housing_median_age": 42,
         "total_rooms": 1618,
         "total_bedrooms": 522,
         "population": 1454,
         "households": 440,
         "median_income": 3.1607,
         "median_house_value": 182000,
         "_deepnote_index_column": 2982
        },
        {
         "longitude": -122.54,
         "latitude": 37.9,
         "housing_median_age": 48,
         "total_rooms": 2491,
         "total_bedrooms": 460,
         "population": 937,
         "households": 455,
         "median_income": 4.4375,
         "median_house_value": 370000,
         "_deepnote_index_column": 2983
        },
        {
         "longitude": -117.59,
         "latitude": 33.88,
         "housing_median_age": 13,
         "total_rooms": 3239,
         "total_bedrooms": 849,
         "population": 2751,
         "households": 813,
         "median_income": 2.6111,
         "median_house_value": 107000,
         "_deepnote_index_column": 2984
        },
        {
         "longitude": -120.47,
         "latitude": 34.94,
         "housing_median_age": 17,
         "total_rooms": 1368,
         "total_bedrooms": 308,
         "population": 642,
         "households": 303,
         "median_income": 1.8633,
         "median_house_value": 109400,
         "_deepnote_index_column": 2985
        },
        {
         "longitude": -118.25,
         "latitude": 33.93,
         "housing_median_age": 42,
         "total_rooms": 819,
         "total_bedrooms": 233,
         "population": 899,
         "households": 228,
         "median_income": 1.1346,
         "median_house_value": 85400,
         "_deepnote_index_column": 2986
        },
        {
         "longitude": -121.97,
         "latitude": 37.29,
         "housing_median_age": 25,
         "total_rooms": 4096,
         "total_bedrooms": 743,
         "population": 2027,
         "households": 741,
         "median_income": 5.3294,
         "median_house_value": 300300,
         "_deepnote_index_column": 2987
        },
        {
         "longitude": -122.01,
         "latitude": 36.97,
         "housing_median_age": 43,
         "total_rooms": 2162,
         "total_bedrooms": 509,
         "population": 1208,
         "households": 464,
         "median_income": 2.5417,
         "median_house_value": 260900,
         "_deepnote_index_column": 2988
        },
        {
         "longitude": -122.02,
         "latitude": 37.6,
         "housing_median_age": 32,
         "total_rooms": 1295,
         "total_bedrooms": 295,
         "population": 1097,
         "households": 328,
         "median_income": 3.2386,
         "median_house_value": 149600,
         "_deepnote_index_column": 2989
        },
        {
         "longitude": -118.23,
         "latitude": 34.09,
         "housing_median_age": 49,
         "total_rooms": 1638,
         "total_bedrooms": 456,
         "population": 1500,
         "households": 430,
         "median_income": 2.6923,
         "median_house_value": 150000,
         "_deepnote_index_column": 2990
        },
        {
         "longitude": -117.17,
         "latitude": 34.28,
         "housing_median_age": 13,
         "total_rooms": 4867,
         "total_bedrooms": 718,
         "population": 780,
         "households": 250,
         "median_income": 7.1997,
         "median_house_value": 253800,
         "_deepnote_index_column": 2991
        },
        {
         "longitude": -122.33,
         "latitude": 37.39,
         "housing_median_age": 52,
         "total_rooms": 573,
         "total_bedrooms": 102,
         "population": 232,
         "households": 92,
         "median_income": 6.2263,
         "median_house_value": 500001,
         "_deepnote_index_column": 2992
        },
        {
         "longitude": -117.91,
         "latitude": 33.6,
         "housing_median_age": 37,
         "total_rooms": 2088,
         "total_bedrooms": 510,
         "population": 673,
         "households": 390,
         "median_income": 5.1048,
         "median_house_value": 500001,
         "_deepnote_index_column": 2993
        },
        {
         "longitude": -117.93,
         "latitude": 33.86,
         "housing_median_age": 35,
         "total_rooms": 931,
         "total_bedrooms": 181,
         "population": 516,
         "households": 174,
         "median_income": 5.5867,
         "median_house_value": 182500,
         "_deepnote_index_column": 2994
        },
        {
         "longitude": -119.86,
         "latitude": 34.42,
         "housing_median_age": 23,
         "total_rooms": 1450,
         "total_bedrooms": 642,
         "population": 1258,
         "households": 607,
         "median_income": 1.179,
         "median_house_value": 225000,
         "_deepnote_index_column": 2995
        },
        {
         "longitude": -118.14,
         "latitude": 34.06,
         "housing_median_age": 27,
         "total_rooms": 5257,
         "total_bedrooms": 1082,
         "population": 3496,
         "households": 1036,
         "median_income": 3.3906,
         "median_house_value": 237200,
         "_deepnote_index_column": 2996
        },
        {
         "longitude": -119.7,
         "latitude": 36.3,
         "housing_median_age": 10,
         "total_rooms": 956,
         "total_bedrooms": 201,
         "population": 693,
         "households": 220,
         "median_income": 2.2895,
         "median_house_value": 62000,
         "_deepnote_index_column": 2997
        },
        {
         "longitude": -117.12,
         "latitude": 34.1,
         "housing_median_age": 40,
         "total_rooms": 96,
         "total_bedrooms": 14,
         "population": 46,
         "households": 14,
         "median_income": 3.2708,
         "median_house_value": 162500,
         "_deepnote_index_column": 2998
        },
        {
         "longitude": -119.63,
         "latitude": 34.42,
         "housing_median_age": 42,
         "total_rooms": 1765,
         "total_bedrooms": 263,
         "population": 753,
         "households": 260,
         "median_income": 8.5608,
         "median_house_value": 500001,
         "_deepnote_index_column": 2999
        }
       ]
      },
      "text/plain": "      longitude  latitude  housing_median_age  total_rooms  total_bedrooms  \\\n0       -122.05     37.37                27.0       3885.0           661.0   \n1       -118.30     34.26                43.0       1510.0           310.0   \n2       -117.81     33.78                27.0       3589.0           507.0   \n3       -118.36     33.82                28.0         67.0            15.0   \n4       -119.67     36.33                19.0       1241.0           244.0   \n...         ...       ...                 ...          ...             ...   \n2995    -119.86     34.42                23.0       1450.0           642.0   \n2996    -118.14     34.06                27.0       5257.0          1082.0   \n2997    -119.70     36.30                10.0        956.0           201.0   \n2998    -117.12     34.10                40.0         96.0            14.0   \n2999    -119.63     34.42                42.0       1765.0           263.0   \n\n      population  households  median_income  median_house_value  \n0         1537.0       606.0         6.6085            344700.0  \n1          809.0       277.0         3.5990            176500.0  \n2         1484.0       495.0         5.7934            270500.0  \n3           49.0        11.0         6.1359            330000.0  \n4          850.0       237.0         2.9375             81700.0  \n...          ...         ...            ...                 ...  \n2995      1258.0       607.0         1.1790            225000.0  \n2996      3496.0      1036.0         3.3906            237200.0  \n2997       693.0       220.0         2.2895             62000.0  \n2998        46.0        14.0         3.2708            162500.0  \n2999       753.0       260.0         8.5608            500001.0  \n\n[3000 rows x 9 columns]",
      "text/html": "<div>\n<style scoped>\n    .dataframe tbody tr th:only-of-type {\n        vertical-align: middle;\n    }\n\n    .dataframe tbody tr th {\n        vertical-align: top;\n    }\n\n    .dataframe thead th {\n        text-align: right;\n    }\n</style>\n<table border=\"1\" class=\"dataframe\">\n  <thead>\n    <tr style=\"text-align: right;\">\n      <th></th>\n      <th>longitude</th>\n      <th>latitude</th>\n      <th>housing_median_age</th>\n      <th>total_rooms</th>\n      <th>total_bedrooms</th>\n      <th>population</th>\n      <th>households</th>\n      <th>median_income</th>\n      <th>median_house_value</th>\n    </tr>\n  </thead>\n  <tbody>\n    <tr>\n      <th>0</th>\n      <td>-122.05</td>\n      <td>37.37</td>\n      <td>27.0</td>\n      <td>3885.0</td>\n      <td>661.0</td>\n      <td>1537.0</td>\n      <td>606.0</td>\n      <td>6.6085</td>\n      <td>344700.0</td>\n    </tr>\n    <tr>\n      <th>1</th>\n      <td>-118.30</td>\n      <td>34.26</td>\n      <td>43.0</td>\n      <td>1510.0</td>\n      <td>310.0</td>\n      <td>809.0</td>\n      <td>277.0</td>\n      <td>3.5990</td>\n      <td>176500.0</td>\n    </tr>\n    <tr>\n      <th>2</th>\n      <td>-117.81</td>\n      <td>33.78</td>\n      <td>27.0</td>\n      <td>3589.0</td>\n      <td>507.0</td>\n      <td>1484.0</td>\n      <td>495.0</td>\n      <td>5.7934</td>\n      <td>270500.0</td>\n    </tr>\n    <tr>\n      <th>3</th>\n      <td>-118.36</td>\n      <td>33.82</td>\n      <td>28.0</td>\n      <td>67.0</td>\n      <td>15.0</td>\n      <td>49.0</td>\n      <td>11.0</td>\n      <td>6.1359</td>\n      <td>330000.0</td>\n    </tr>\n    <tr>\n      <th>4</th>\n      <td>-119.67</td>\n      <td>36.33</td>\n      <td>19.0</td>\n      <td>1241.0</td>\n      <td>244.0</td>\n      <td>850.0</td>\n      <td>237.0</td>\n      <td>2.9375</td>\n      <td>81700.0</td>\n    </tr>\n    <tr>\n      <th>...</th>\n      <td>...</td>\n      <td>...</td>\n      <td>...</td>\n      <td>...</td>\n      <td>...</td>\n      <td>...</td>\n      <td>...</td>\n      <td>...</td>\n      <td>...</td>\n    </tr>\n    <tr>\n      <th>2995</th>\n      <td>-119.86</td>\n      <td>34.42</td>\n      <td>23.0</td>\n      <td>1450.0</td>\n      <td>642.0</td>\n      <td>1258.0</td>\n      <td>607.0</td>\n      <td>1.1790</td>\n      <td>225000.0</td>\n    </tr>\n    <tr>\n      <th>2996</th>\n      <td>-118.14</td>\n      <td>34.06</td>\n      <td>27.0</td>\n      <td>5257.0</td>\n      <td>1082.0</td>\n      <td>3496.0</td>\n      <td>1036.0</td>\n      <td>3.3906</td>\n      <td>237200.0</td>\n    </tr>\n    <tr>\n      <th>2997</th>\n      <td>-119.70</td>\n      <td>36.30</td>\n      <td>10.0</td>\n      <td>956.0</td>\n      <td>201.0</td>\n      <td>693.0</td>\n      <td>220.0</td>\n      <td>2.2895</td>\n      <td>62000.0</td>\n    </tr>\n    <tr>\n      <th>2998</th>\n      <td>-117.12</td>\n      <td>34.10</td>\n      <td>40.0</td>\n      <td>96.0</td>\n      <td>14.0</td>\n      <td>46.0</td>\n      <td>14.0</td>\n      <td>3.2708</td>\n      <td>162500.0</td>\n    </tr>\n    <tr>\n      <th>2999</th>\n      <td>-119.63</td>\n      <td>34.42</td>\n      <td>42.0</td>\n      <td>1765.0</td>\n      <td>263.0</td>\n      <td>753.0</td>\n      <td>260.0</td>\n      <td>8.5608</td>\n      <td>500001.0</td>\n    </tr>\n  </tbody>\n</table>\n<p>3000 rows × 9 columns</p>\n</div>"
     },
     "metadata": {}
    }
   ]
  },
  {
   "cell_type": "markdown",
   "source": "#### Link to downloadable CSV file\n\nIf you have downloadable link of your data-set, you can use it in the following way.\n\nNote that the link nor the file can be protected by a password, otherwise it will cause problems. ",
   "metadata": {
    "id": "rY5MBgZH7-3c",
    "cell_id": "00022-1c4ef07a-0a0f-4b75-bfde-c9cacacac1e3",
    "deepnote_cell_type": "markdown"
   }
  },
  {
   "cell_type": "code",
   "metadata": {
    "id": "Un5GXQuDAqaF",
    "colab": {
     "base_uri": "https://localhost:8080/",
     "height": 419
    },
    "executionInfo": {
     "status": "ok",
     "timestamp": 1600742422539,
     "user_tz": -60,
     "elapsed": 2952,
     "user": {
      "displayName": "Daniel Anton",
      "photoUrl": "",
      "userId": "07817160354765211624"
     }
    },
    "outputId": "b9eabd07-a8a6-4633-ee0f-0e191a2f1b70",
    "cell_id": "00023-df98b9f8-08aa-4416-8120-be1b41dac803",
    "deepnote_to_be_reexecuted": false,
    "source_hash": "74952db5",
    "execution_start": 1624549185388,
    "execution_millis": 143,
    "deepnote_cell_type": "code"
   },
   "source": "url=\"https://raw.githubusercontent.com/cs109/2014_data/master/countries.csv\"\ndf = pd.read_csv(url)\ndf",
   "execution_count": null,
   "outputs": [
    {
     "output_type": "execute_result",
     "execution_count": 8,
     "data": {
      "application/vnd.deepnote.dataframe.v2+json": {
       "row_count": 194,
       "column_count": 2,
       "columns": [
        {
         "name": "Country",
         "dtype": "object",
         "stats": {
          "unique_count": 194,
          "nan_count": 0,
          "categories": [
           {
            "name": "Algeria",
            "count": 1
           },
           {
            "name": "Angola",
            "count": 1
           },
           {
            "name": "192 others",
            "count": 192
           }
          ]
         }
        },
        {
         "name": "Region",
         "dtype": "object",
         "stats": {
          "unique_count": 6,
          "nan_count": 0,
          "categories": [
           {
            "name": "AFRICA",
            "count": 54
           },
           {
            "name": "EUROPE",
            "count": 47
           },
           {
            "name": "4 others",
            "count": 93
           }
          ]
         }
        },
        {
         "name": "_deepnote_index_column",
         "dtype": "int64"
        }
       ],
       "rows_top": [
        {
         "Country": "Algeria",
         "Region": "AFRICA",
         "_deepnote_index_column": 0
        },
        {
         "Country": "Angola",
         "Region": "AFRICA",
         "_deepnote_index_column": 1
        },
        {
         "Country": "Benin",
         "Region": "AFRICA",
         "_deepnote_index_column": 2
        },
        {
         "Country": "Botswana",
         "Region": "AFRICA",
         "_deepnote_index_column": 3
        },
        {
         "Country": "Burkina",
         "Region": "AFRICA",
         "_deepnote_index_column": 4
        },
        {
         "Country": "Burundi",
         "Region": "AFRICA",
         "_deepnote_index_column": 5
        },
        {
         "Country": "Cameroon",
         "Region": "AFRICA",
         "_deepnote_index_column": 6
        },
        {
         "Country": "Cape Verde",
         "Region": "AFRICA",
         "_deepnote_index_column": 7
        },
        {
         "Country": "Central African Republic",
         "Region": "AFRICA",
         "_deepnote_index_column": 8
        },
        {
         "Country": "Chad",
         "Region": "AFRICA",
         "_deepnote_index_column": 9
        },
        {
         "Country": "Comoros",
         "Region": "AFRICA",
         "_deepnote_index_column": 10
        },
        {
         "Country": "Congo",
         "Region": "AFRICA",
         "_deepnote_index_column": 11
        },
        {
         "Country": "Congo, Democratic Republic of",
         "Region": "AFRICA",
         "_deepnote_index_column": 12
        },
        {
         "Country": "Djibouti",
         "Region": "AFRICA",
         "_deepnote_index_column": 13
        },
        {
         "Country": "Egypt",
         "Region": "AFRICA",
         "_deepnote_index_column": 14
        },
        {
         "Country": "Equatorial Guinea",
         "Region": "AFRICA",
         "_deepnote_index_column": 15
        },
        {
         "Country": "Eritrea",
         "Region": "AFRICA",
         "_deepnote_index_column": 16
        },
        {
         "Country": "Ethiopia",
         "Region": "AFRICA",
         "_deepnote_index_column": 17
        },
        {
         "Country": "Gabon",
         "Region": "AFRICA",
         "_deepnote_index_column": 18
        },
        {
         "Country": "Gambia",
         "Region": "AFRICA",
         "_deepnote_index_column": 19
        },
        {
         "Country": "Ghana",
         "Region": "AFRICA",
         "_deepnote_index_column": 20
        },
        {
         "Country": "Guinea",
         "Region": "AFRICA",
         "_deepnote_index_column": 21
        },
        {
         "Country": "Guinea-Bissau",
         "Region": "AFRICA",
         "_deepnote_index_column": 22
        },
        {
         "Country": "Ivory Coast",
         "Region": "AFRICA",
         "_deepnote_index_column": 23
        },
        {
         "Country": "Kenya",
         "Region": "AFRICA",
         "_deepnote_index_column": 24
        },
        {
         "Country": "Lesotho",
         "Region": "AFRICA",
         "_deepnote_index_column": 25
        },
        {
         "Country": "Liberia",
         "Region": "AFRICA",
         "_deepnote_index_column": 26
        },
        {
         "Country": "Libya",
         "Region": "AFRICA",
         "_deepnote_index_column": 27
        },
        {
         "Country": "Madagascar",
         "Region": "AFRICA",
         "_deepnote_index_column": 28
        },
        {
         "Country": "Malawi",
         "Region": "AFRICA",
         "_deepnote_index_column": 29
        },
        {
         "Country": "Mali",
         "Region": "AFRICA",
         "_deepnote_index_column": 30
        },
        {
         "Country": "Mauritania",
         "Region": "AFRICA",
         "_deepnote_index_column": 31
        },
        {
         "Country": "Mauritius",
         "Region": "AFRICA",
         "_deepnote_index_column": 32
        },
        {
         "Country": "Morocco",
         "Region": "AFRICA",
         "_deepnote_index_column": 33
        },
        {
         "Country": "Mozambique",
         "Region": "AFRICA",
         "_deepnote_index_column": 34
        },
        {
         "Country": "Namibia",
         "Region": "AFRICA",
         "_deepnote_index_column": 35
        },
        {
         "Country": "Niger",
         "Region": "AFRICA",
         "_deepnote_index_column": 36
        },
        {
         "Country": "Nigeria",
         "Region": "AFRICA",
         "_deepnote_index_column": 37
        },
        {
         "Country": "Rwanda",
         "Region": "AFRICA",
         "_deepnote_index_column": 38
        },
        {
         "Country": "Sao Tome and Principe",
         "Region": "AFRICA",
         "_deepnote_index_column": 39
        },
        {
         "Country": "Senegal",
         "Region": "AFRICA",
         "_deepnote_index_column": 40
        },
        {
         "Country": "Seychelles",
         "Region": "AFRICA",
         "_deepnote_index_column": 41
        },
        {
         "Country": "Sierra Leone",
         "Region": "AFRICA",
         "_deepnote_index_column": 42
        },
        {
         "Country": "Somalia",
         "Region": "AFRICA",
         "_deepnote_index_column": 43
        },
        {
         "Country": "South Africa",
         "Region": "AFRICA",
         "_deepnote_index_column": 44
        },
        {
         "Country": "South Sudan",
         "Region": "AFRICA",
         "_deepnote_index_column": 45
        },
        {
         "Country": "Sudan",
         "Region": "AFRICA",
         "_deepnote_index_column": 46
        },
        {
         "Country": "Swaziland",
         "Region": "AFRICA",
         "_deepnote_index_column": 47
        },
        {
         "Country": "Tanzania",
         "Region": "AFRICA",
         "_deepnote_index_column": 48
        },
        {
         "Country": "Togo",
         "Region": "AFRICA",
         "_deepnote_index_column": 49
        },
        {
         "Country": "Tunisia",
         "Region": "AFRICA",
         "_deepnote_index_column": 50
        },
        {
         "Country": "Uganda",
         "Region": "AFRICA",
         "_deepnote_index_column": 51
        },
        {
         "Country": "Zambia",
         "Region": "AFRICA",
         "_deepnote_index_column": 52
        },
        {
         "Country": "Zimbabwe",
         "Region": "AFRICA",
         "_deepnote_index_column": 53
        },
        {
         "Country": "Afghanistan",
         "Region": "ASIA",
         "_deepnote_index_column": 54
        },
        {
         "Country": "Bahrain",
         "Region": "ASIA",
         "_deepnote_index_column": 55
        },
        {
         "Country": "Bangladesh",
         "Region": "ASIA",
         "_deepnote_index_column": 56
        },
        {
         "Country": "Bhutan",
         "Region": "ASIA",
         "_deepnote_index_column": 57
        },
        {
         "Country": "Brunei",
         "Region": "ASIA",
         "_deepnote_index_column": 58
        },
        {
         "Country": "Burma",
         "Region": "ASIA",
         "_deepnote_index_column": 59
        },
        {
         "Country": "Cambodia",
         "Region": "ASIA",
         "_deepnote_index_column": 60
        },
        {
         "Country": "China",
         "Region": "ASIA",
         "_deepnote_index_column": 61
        },
        {
         "Country": "East Timor",
         "Region": "ASIA",
         "_deepnote_index_column": 62
        },
        {
         "Country": "India",
         "Region": "ASIA",
         "_deepnote_index_column": 63
        },
        {
         "Country": "Indonesia",
         "Region": "ASIA",
         "_deepnote_index_column": 64
        },
        {
         "Country": "Iran",
         "Region": "ASIA",
         "_deepnote_index_column": 65
        },
        {
         "Country": "Iraq",
         "Region": "ASIA",
         "_deepnote_index_column": 66
        },
        {
         "Country": "Israel",
         "Region": "ASIA",
         "_deepnote_index_column": 67
        },
        {
         "Country": "Japan",
         "Region": "ASIA",
         "_deepnote_index_column": 68
        },
        {
         "Country": "Jordan",
         "Region": "ASIA",
         "_deepnote_index_column": 69
        },
        {
         "Country": "Kazakhstan",
         "Region": "ASIA",
         "_deepnote_index_column": 70
        },
        {
         "Country": "Korea, North",
         "Region": "ASIA",
         "_deepnote_index_column": 71
        },
        {
         "Country": "Korea, South",
         "Region": "ASIA",
         "_deepnote_index_column": 72
        },
        {
         "Country": "Kuwait",
         "Region": "ASIA",
         "_deepnote_index_column": 73
        },
        {
         "Country": "Kyrgyzstan",
         "Region": "ASIA",
         "_deepnote_index_column": 74
        },
        {
         "Country": "Laos",
         "Region": "ASIA",
         "_deepnote_index_column": 75
        },
        {
         "Country": "Lebanon",
         "Region": "ASIA",
         "_deepnote_index_column": 76
        },
        {
         "Country": "Malaysia",
         "Region": "ASIA",
         "_deepnote_index_column": 77
        },
        {
         "Country": "Maldives",
         "Region": "ASIA",
         "_deepnote_index_column": 78
        },
        {
         "Country": "Mongolia",
         "Region": "ASIA",
         "_deepnote_index_column": 79
        },
        {
         "Country": "Nepal",
         "Region": "ASIA",
         "_deepnote_index_column": 80
        },
        {
         "Country": "Oman",
         "Region": "ASIA",
         "_deepnote_index_column": 81
        },
        {
         "Country": "Pakistan",
         "Region": "ASIA",
         "_deepnote_index_column": 82
        },
        {
         "Country": "Philippines",
         "Region": "ASIA",
         "_deepnote_index_column": 83
        },
        {
         "Country": "Qatar",
         "Region": "ASIA",
         "_deepnote_index_column": 84
        },
        {
         "Country": "Russian Federation",
         "Region": "ASIA",
         "_deepnote_index_column": 85
        },
        {
         "Country": "Saudi Arabia",
         "Region": "ASIA",
         "_deepnote_index_column": 86
        },
        {
         "Country": "Singapore",
         "Region": "ASIA",
         "_deepnote_index_column": 87
        },
        {
         "Country": "Sri Lanka",
         "Region": "ASIA",
         "_deepnote_index_column": 88
        },
        {
         "Country": "Syria",
         "Region": "ASIA",
         "_deepnote_index_column": 89
        },
        {
         "Country": "Tajikistan",
         "Region": "ASIA",
         "_deepnote_index_column": 90
        },
        {
         "Country": "Thailand",
         "Region": "ASIA",
         "_deepnote_index_column": 91
        },
        {
         "Country": "Turkey",
         "Region": "ASIA",
         "_deepnote_index_column": 92
        },
        {
         "Country": "Turkmenistan",
         "Region": "ASIA",
         "_deepnote_index_column": 93
        },
        {
         "Country": "United Arab Emirates",
         "Region": "ASIA",
         "_deepnote_index_column": 94
        },
        {
         "Country": "Uzbekistan",
         "Region": "ASIA",
         "_deepnote_index_column": 95
        },
        {
         "Country": "Vietnam",
         "Region": "ASIA",
         "_deepnote_index_column": 96
        },
        {
         "Country": "Yemen",
         "Region": "ASIA",
         "_deepnote_index_column": 97
        },
        {
         "Country": "Albania",
         "Region": "EUROPE",
         "_deepnote_index_column": 98
        },
        {
         "Country": "Andorra",
         "Region": "EUROPE",
         "_deepnote_index_column": 99
        },
        {
         "Country": "Armenia",
         "Region": "EUROPE",
         "_deepnote_index_column": 100
        },
        {
         "Country": "Austria",
         "Region": "EUROPE",
         "_deepnote_index_column": 101
        },
        {
         "Country": "Azerbaijan",
         "Region": "EUROPE",
         "_deepnote_index_column": 102
        },
        {
         "Country": "Belarus",
         "Region": "EUROPE",
         "_deepnote_index_column": 103
        },
        {
         "Country": "Belgium",
         "Region": "EUROPE",
         "_deepnote_index_column": 104
        },
        {
         "Country": "Bosnia and Herzegovina",
         "Region": "EUROPE",
         "_deepnote_index_column": 105
        },
        {
         "Country": "Bulgaria",
         "Region": "EUROPE",
         "_deepnote_index_column": 106
        },
        {
         "Country": "Croatia",
         "Region": "EUROPE",
         "_deepnote_index_column": 107
        },
        {
         "Country": "Cyprus",
         "Region": "EUROPE",
         "_deepnote_index_column": 108
        },
        {
         "Country": "Czech Republic",
         "Region": "EUROPE",
         "_deepnote_index_column": 109
        },
        {
         "Country": "Denmark",
         "Region": "EUROPE",
         "_deepnote_index_column": 110
        },
        {
         "Country": "Estonia",
         "Region": "EUROPE",
         "_deepnote_index_column": 111
        },
        {
         "Country": "Finland",
         "Region": "EUROPE",
         "_deepnote_index_column": 112
        },
        {
         "Country": "France",
         "Region": "EUROPE",
         "_deepnote_index_column": 113
        },
        {
         "Country": "Georgia",
         "Region": "EUROPE",
         "_deepnote_index_column": 114
        },
        {
         "Country": "Germany",
         "Region": "EUROPE",
         "_deepnote_index_column": 115
        },
        {
         "Country": "Greece",
         "Region": "EUROPE",
         "_deepnote_index_column": 116
        },
        {
         "Country": "Hungary",
         "Region": "EUROPE",
         "_deepnote_index_column": 117
        },
        {
         "Country": "Iceland",
         "Region": "EUROPE",
         "_deepnote_index_column": 118
        },
        {
         "Country": "Ireland",
         "Region": "EUROPE",
         "_deepnote_index_column": 119
        },
        {
         "Country": "Italy",
         "Region": "EUROPE",
         "_deepnote_index_column": 120
        },
        {
         "Country": "Latvia",
         "Region": "EUROPE",
         "_deepnote_index_column": 121
        },
        {
         "Country": "Liechtenstein",
         "Region": "EUROPE",
         "_deepnote_index_column": 122
        },
        {
         "Country": "Lithuania",
         "Region": "EUROPE",
         "_deepnote_index_column": 123
        },
        {
         "Country": "Luxembourg",
         "Region": "EUROPE",
         "_deepnote_index_column": 124
        },
        {
         "Country": "Macedonia",
         "Region": "EUROPE",
         "_deepnote_index_column": 125
        },
        {
         "Country": "Malta",
         "Region": "EUROPE",
         "_deepnote_index_column": 126
        },
        {
         "Country": "Moldova",
         "Region": "EUROPE",
         "_deepnote_index_column": 127
        },
        {
         "Country": "Monaco",
         "Region": "EUROPE",
         "_deepnote_index_column": 128
        },
        {
         "Country": "Montenegro",
         "Region": "EUROPE",
         "_deepnote_index_column": 129
        },
        {
         "Country": "Netherlands",
         "Region": "EUROPE",
         "_deepnote_index_column": 130
        },
        {
         "Country": "Norway",
         "Region": "EUROPE",
         "_deepnote_index_column": 131
        },
        {
         "Country": "Poland",
         "Region": "EUROPE",
         "_deepnote_index_column": 132
        },
        {
         "Country": "Portugal",
         "Region": "EUROPE",
         "_deepnote_index_column": 133
        },
        {
         "Country": "Romania",
         "Region": "EUROPE",
         "_deepnote_index_column": 134
        },
        {
         "Country": "San Marino",
         "Region": "EUROPE",
         "_deepnote_index_column": 135
        },
        {
         "Country": "Serbia",
         "Region": "EUROPE",
         "_deepnote_index_column": 136
        },
        {
         "Country": "Slovakia",
         "Region": "EUROPE",
         "_deepnote_index_column": 137
        },
        {
         "Country": "Slovenia",
         "Region": "EUROPE",
         "_deepnote_index_column": 138
        },
        {
         "Country": "Spain",
         "Region": "EUROPE",
         "_deepnote_index_column": 139
        },
        {
         "Country": "Sweden",
         "Region": "EUROPE",
         "_deepnote_index_column": 140
        },
        {
         "Country": "Switzerland",
         "Region": "EUROPE",
         "_deepnote_index_column": 141
        },
        {
         "Country": "Ukraine",
         "Region": "EUROPE",
         "_deepnote_index_column": 142
        },
        {
         "Country": "United Kingdom",
         "Region": "EUROPE",
         "_deepnote_index_column": 143
        },
        {
         "Country": "Vatican City",
         "Region": "EUROPE",
         "_deepnote_index_column": 144
        },
        {
         "Country": "Antigua and Barbuda",
         "Region": "NORTH AMERICA",
         "_deepnote_index_column": 145
        },
        {
         "Country": "Bahamas",
         "Region": "NORTH AMERICA",
         "_deepnote_index_column": 146
        },
        {
         "Country": "Barbados",
         "Region": "NORTH AMERICA",
         "_deepnote_index_column": 147
        },
        {
         "Country": "Belize",
         "Region": "NORTH AMERICA",
         "_deepnote_index_column": 148
        },
        {
         "Country": "Canada",
         "Region": "NORTH AMERICA",
         "_deepnote_index_column": 149
        },
        {
         "Country": "Costa Rica",
         "Region": "NORTH AMERICA",
         "_deepnote_index_column": 150
        },
        {
         "Country": "Cuba",
         "Region": "NORTH AMERICA",
         "_deepnote_index_column": 151
        },
        {
         "Country": "Dominica",
         "Region": "NORTH AMERICA",
         "_deepnote_index_column": 152
        },
        {
         "Country": "Dominican Republic",
         "Region": "NORTH AMERICA",
         "_deepnote_index_column": 153
        },
        {
         "Country": "El Salvador",
         "Region": "NORTH AMERICA",
         "_deepnote_index_column": 154
        },
        {
         "Country": "Grenada",
         "Region": "NORTH AMERICA",
         "_deepnote_index_column": 155
        },
        {
         "Country": "Guatemala",
         "Region": "NORTH AMERICA",
         "_deepnote_index_column": 156
        },
        {
         "Country": "Haiti",
         "Region": "NORTH AMERICA",
         "_deepnote_index_column": 157
        },
        {
         "Country": "Honduras",
         "Region": "NORTH AMERICA",
         "_deepnote_index_column": 158
        },
        {
         "Country": "Jamaica",
         "Region": "NORTH AMERICA",
         "_deepnote_index_column": 159
        },
        {
         "Country": "Mexico",
         "Region": "NORTH AMERICA",
         "_deepnote_index_column": 160
        },
        {
         "Country": "Nicaragua",
         "Region": "NORTH AMERICA",
         "_deepnote_index_column": 161
        },
        {
         "Country": "Panama",
         "Region": "NORTH AMERICA",
         "_deepnote_index_column": 162
        },
        {
         "Country": "Saint Kitts and Nevis",
         "Region": "NORTH AMERICA",
         "_deepnote_index_column": 163
        },
        {
         "Country": "Saint Lucia",
         "Region": "NORTH AMERICA",
         "_deepnote_index_column": 164
        },
        {
         "Country": "Saint Vincent and the Grenadines",
         "Region": "NORTH AMERICA",
         "_deepnote_index_column": 165
        },
        {
         "Country": "Trinidad and Tobago",
         "Region": "NORTH AMERICA",
         "_deepnote_index_column": 166
        },
        {
         "Country": "United States",
         "Region": "NORTH AMERICA",
         "_deepnote_index_column": 167
        },
        {
         "Country": "Australia",
         "Region": "OCEANIA",
         "_deepnote_index_column": 168
        },
        {
         "Country": "Fiji",
         "Region": "OCEANIA",
         "_deepnote_index_column": 169
        },
        {
         "Country": "Kiribati",
         "Region": "OCEANIA",
         "_deepnote_index_column": 170
        },
        {
         "Country": "Marshall Islands",
         "Region": "OCEANIA",
         "_deepnote_index_column": 171
        },
        {
         "Country": "Micronesia",
         "Region": "OCEANIA",
         "_deepnote_index_column": 172
        },
        {
         "Country": "Nauru",
         "Region": "OCEANIA",
         "_deepnote_index_column": 173
        },
        {
         "Country": "New Zealand",
         "Region": "OCEANIA",
         "_deepnote_index_column": 174
        },
        {
         "Country": "Palau",
         "Region": "OCEANIA",
         "_deepnote_index_column": 175
        },
        {
         "Country": "Papua New Guinea",
         "Region": "OCEANIA",
         "_deepnote_index_column": 176
        },
        {
         "Country": "Samoa",
         "Region": "OCEANIA",
         "_deepnote_index_column": 177
        },
        {
         "Country": "Solomon Islands",
         "Region": "OCEANIA",
         "_deepnote_index_column": 178
        },
        {
         "Country": "Tonga",
         "Region": "OCEANIA",
         "_deepnote_index_column": 179
        },
        {
         "Country": "Tuvalu",
         "Region": "OCEANIA",
         "_deepnote_index_column": 180
        },
        {
         "Country": "Vanuatu",
         "Region": "OCEANIA",
         "_deepnote_index_column": 181
        },
        {
         "Country": "Argentina",
         "Region": "SOUTH AMERICA",
         "_deepnote_index_column": 182
        },
        {
         "Country": "Bolivia",
         "Region": "SOUTH AMERICA",
         "_deepnote_index_column": 183
        },
        {
         "Country": "Brazil",
         "Region": "SOUTH AMERICA",
         "_deepnote_index_column": 184
        },
        {
         "Country": "Chile",
         "Region": "SOUTH AMERICA",
         "_deepnote_index_column": 185
        },
        {
         "Country": "Colombia",
         "Region": "SOUTH AMERICA",
         "_deepnote_index_column": 186
        },
        {
         "Country": "Ecuador",
         "Region": "SOUTH AMERICA",
         "_deepnote_index_column": 187
        },
        {
         "Country": "Guyana",
         "Region": "SOUTH AMERICA",
         "_deepnote_index_column": 188
        },
        {
         "Country": "Paraguay",
         "Region": "SOUTH AMERICA",
         "_deepnote_index_column": 189
        },
        {
         "Country": "Peru",
         "Region": "SOUTH AMERICA",
         "_deepnote_index_column": 190
        },
        {
         "Country": "Suriname",
         "Region": "SOUTH AMERICA",
         "_deepnote_index_column": 191
        },
        {
         "Country": "Uruguay",
         "Region": "SOUTH AMERICA",
         "_deepnote_index_column": 192
        },
        {
         "Country": "Venezuela",
         "Region": "SOUTH AMERICA",
         "_deepnote_index_column": 193
        }
       ],
       "rows_bottom": null
      },
      "text/plain": "       Country         Region\n0      Algeria         AFRICA\n1       Angola         AFRICA\n2        Benin         AFRICA\n3     Botswana         AFRICA\n4      Burkina         AFRICA\n..         ...            ...\n189   Paraguay  SOUTH AMERICA\n190       Peru  SOUTH AMERICA\n191   Suriname  SOUTH AMERICA\n192    Uruguay  SOUTH AMERICA\n193  Venezuela  SOUTH AMERICA\n\n[194 rows x 2 columns]",
      "text/html": "<div>\n<style scoped>\n    .dataframe tbody tr th:only-of-type {\n        vertical-align: middle;\n    }\n\n    .dataframe tbody tr th {\n        vertical-align: top;\n    }\n\n    .dataframe thead th {\n        text-align: right;\n    }\n</style>\n<table border=\"1\" class=\"dataframe\">\n  <thead>\n    <tr style=\"text-align: right;\">\n      <th></th>\n      <th>Country</th>\n      <th>Region</th>\n    </tr>\n  </thead>\n  <tbody>\n    <tr>\n      <th>0</th>\n      <td>Algeria</td>\n      <td>AFRICA</td>\n    </tr>\n    <tr>\n      <th>1</th>\n      <td>Angola</td>\n      <td>AFRICA</td>\n    </tr>\n    <tr>\n      <th>2</th>\n      <td>Benin</td>\n      <td>AFRICA</td>\n    </tr>\n    <tr>\n      <th>3</th>\n      <td>Botswana</td>\n      <td>AFRICA</td>\n    </tr>\n    <tr>\n      <th>4</th>\n      <td>Burkina</td>\n      <td>AFRICA</td>\n    </tr>\n    <tr>\n      <th>...</th>\n      <td>...</td>\n      <td>...</td>\n    </tr>\n    <tr>\n      <th>189</th>\n      <td>Paraguay</td>\n      <td>SOUTH AMERICA</td>\n    </tr>\n    <tr>\n      <th>190</th>\n      <td>Peru</td>\n      <td>SOUTH AMERICA</td>\n    </tr>\n    <tr>\n      <th>191</th>\n      <td>Suriname</td>\n      <td>SOUTH AMERICA</td>\n    </tr>\n    <tr>\n      <th>192</th>\n      <td>Uruguay</td>\n      <td>SOUTH AMERICA</td>\n    </tr>\n    <tr>\n      <th>193</th>\n      <td>Venezuela</td>\n      <td>SOUTH AMERICA</td>\n    </tr>\n  </tbody>\n</table>\n<p>194 rows × 2 columns</p>\n</div>"
     },
     "metadata": {}
    }
   ]
  },
  {
   "cell_type": "markdown",
   "source": "#### Manually upload files\n",
   "metadata": {
    "id": "S-XVAoqu9lzh",
    "cell_id": "00017-9a976126-9c74-4d09-9225-87a8fe00913e",
    "deepnote_cell_type": "markdown"
   }
  },
  {
   "cell_type": "markdown",
   "source": "\nManually by dragging and releasing the file onto the side-bar, when you have `Files` section opened. This way you can eaasily create new folders, and sort it out.",
   "metadata": {
    "id": "ryF1i9krE-6a",
    "cell_id": "00018-a5dbd645-6d1d-4c0c-ab8a-c1969614520b",
    "deepnote_cell_type": "markdown"
   }
  },
  {
   "cell_type": "markdown",
   "source": "---\n\n## Saving DataFrame to CSV\n\nIf you wish to save a `DataFrame` as a CSV, you use `nameofyourdataframe.to_csv()` and inside the function you name it `name.csv`, with the extension you want the result to have `.csv` in the example.",
   "metadata": {
    "id": "nsL2kdYsBLvE",
    "cell_id": "00024-3178c2ca-34b5-4567-861a-3c12e3f9bc84",
    "deepnote_cell_type": "markdown"
   }
  },
  {
   "cell_type": "code",
   "metadata": {
    "id": "KqmgCa-dBQMn",
    "cell_id": "00025-ccb1a692-cb5d-40b2-ae01-12a9843b58d3",
    "deepnote_to_be_reexecuted": false,
    "source_hash": "ad6a599d",
    "execution_start": 1624549185578,
    "execution_millis": 0,
    "deepnote_cell_type": "code"
   },
   "source": "df.to_csv('/work/data/lesson 2/name_it_like_this.csv')",
   "execution_count": null,
   "outputs": []
  },
  {
   "cell_type": "markdown",
   "source": "---\n---\n---\n\n# Important functionality",
   "metadata": {
    "id": "2O0UFLDMB8SY",
    "cell_id": "00028-fffa1b5b-bab3-4ad0-9018-fb1f33792421",
    "deepnote_cell_type": "markdown"
   }
  },
  {
   "cell_type": "markdown",
   "source": "---\n\n## Load CSV data from a link\n\nUsing `pd.read_csv()` with url link to the download destination of the data-set.",
   "metadata": {
    "id": "VpB-lgzTYMbS",
    "cell_id": "00029-c207a6b5-5908-45cc-8c9c-e8839b6cd8b0",
    "deepnote_cell_type": "markdown"
   }
  },
  {
   "cell_type": "code",
   "metadata": {
    "id": "Q53uZm8NCDjq",
    "colab": {
     "base_uri": "https://localhost:8080/",
     "height": 574
    },
    "executionInfo": {
     "status": "ok",
     "timestamp": 1601849066264,
     "user_tz": -60,
     "elapsed": 1602,
     "user": {
      "displayName": "Sharmin Rouf",
      "photoUrl": "",
      "userId": "07014860915014612811"
     }
    },
    "outputId": "12bd6900-1dde-4a6a-d788-eae50317ca3c",
    "cell_id": "00030-6621423f-3e9a-4cb7-b2c6-9469ac6eae14",
    "deepnote_to_be_reexecuted": false,
    "source_hash": "8a39652a",
    "execution_start": 1624549185579,
    "execution_millis": 266,
    "deepnote_cell_type": "code"
   },
   "source": "url = \"https://raw.githubusercontent.com/LearnDataSci/articles/master/Python%20Pandas%20Tutorial%20A%20Complete%20Introduction%20for%20Beginners/IMDB-Movie-Data.csv\"\ndf_movies = pd.read_csv(url, index_col=\"Title\")\ndf_movies.head() # head is first five rows in the dataframe",
   "execution_count": null,
   "outputs": [
    {
     "output_type": "execute_result",
     "execution_count": 10,
     "data": {
      "application/vnd.deepnote.dataframe.v2+json": {
       "row_count": 5,
       "column_count": 11,
       "columns": [
        {
         "name": "Rank",
         "dtype": "int64",
         "stats": {
          "unique_count": 5,
          "nan_count": 0,
          "min": "1",
          "max": "5",
          "histogram": [
           {
            "bin_start": 1,
            "bin_end": 1.4,
            "count": 1
           },
           {
            "bin_start": 1.4,
            "bin_end": 1.8,
            "count": 0
           },
           {
            "bin_start": 1.8,
            "bin_end": 2.2,
            "count": 1
           },
           {
            "bin_start": 2.2,
            "bin_end": 2.6,
            "count": 0
           },
           {
            "bin_start": 2.6,
            "bin_end": 3,
            "count": 0
           },
           {
            "bin_start": 3,
            "bin_end": 3.4000000000000004,
            "count": 1
           },
           {
            "bin_start": 3.4000000000000004,
            "bin_end": 3.8000000000000003,
            "count": 0
           },
           {
            "bin_start": 3.8000000000000003,
            "bin_end": 4.2,
            "count": 1
           },
           {
            "bin_start": 4.2,
            "bin_end": 4.6,
            "count": 0
           },
           {
            "bin_start": 4.6,
            "bin_end": 5,
            "count": 1
           }
          ]
         }
        },
        {
         "name": "Genre",
         "dtype": "object",
         "stats": {
          "unique_count": 5,
          "nan_count": 0,
          "categories": [
           {
            "name": "Action,Adventure,Sci-Fi",
            "count": 1
           },
           {
            "name": "Adventure,Mystery,Sci-Fi",
            "count": 1
           },
           {
            "name": "3 others",
            "count": 3
           }
          ]
         }
        },
        {
         "name": "Description",
         "dtype": "object",
         "stats": {
          "unique_count": 5,
          "nan_count": 0,
          "categories": [
           {
            "name": "A group of intergalactic criminals are forced to work together to stop a fanatical warrior from taking control of the universe.",
            "count": 1
           },
           {
            "name": "Following clues to the origin of mankind, a team finds a structure on a distant moon, but they soon realize they are not alone.",
            "count": 1
           },
           {
            "name": "3 others",
            "count": 3
           }
          ]
         }
        },
        {
         "name": "Director",
         "dtype": "object",
         "stats": {
          "unique_count": 5,
          "nan_count": 0,
          "categories": [
           {
            "name": "James Gunn",
            "count": 1
           },
           {
            "name": "Ridley Scott",
            "count": 1
           },
           {
            "name": "3 others",
            "count": 3
           }
          ]
         }
        },
        {
         "name": "Actors",
         "dtype": "object",
         "stats": {
          "unique_count": 5,
          "nan_count": 0,
          "categories": [
           {
            "name": "Chris Pratt, Vin Diesel, Bradley Cooper, Zoe Saldana",
            "count": 1
           },
           {
            "name": "Noomi Rapace, Logan Marshall-Green, Michael Fassbender, Charlize Theron",
            "count": 1
           },
           {
            "name": "3 others",
            "count": 3
           }
          ]
         }
        },
        {
         "name": "Year",
         "dtype": "int64",
         "stats": {
          "unique_count": 3,
          "nan_count": 0,
          "min": "2012",
          "max": "2016",
          "histogram": [
           {
            "bin_start": 2012,
            "bin_end": 2012.4,
            "count": 1
           },
           {
            "bin_start": 2012.4,
            "bin_end": 2012.8,
            "count": 0
           },
           {
            "bin_start": 2012.8,
            "bin_end": 2013.2,
            "count": 0
           },
           {
            "bin_start": 2013.2,
            "bin_end": 2013.6,
            "count": 0
           },
           {
            "bin_start": 2013.6,
            "bin_end": 2014,
            "count": 0
           },
           {
            "bin_start": 2014,
            "bin_end": 2014.4,
            "count": 1
           },
           {
            "bin_start": 2014.4,
            "bin_end": 2014.8,
            "count": 0
           },
           {
            "bin_start": 2014.8,
            "bin_end": 2015.2,
            "count": 0
           },
           {
            "bin_start": 2015.2,
            "bin_end": 2015.6,
            "count": 0
           },
           {
            "bin_start": 2015.6,
            "bin_end": 2016,
            "count": 3
           }
          ]
         }
        },
        {
         "name": "Runtime (Minutes)",
         "dtype": "int64",
         "stats": {
          "unique_count": 5,
          "nan_count": 0,
          "min": "108",
          "max": "124",
          "histogram": [
           {
            "bin_start": 108,
            "bin_end": 109.6,
            "count": 1
           },
           {
            "bin_start": 109.6,
            "bin_end": 111.2,
            "count": 0
           },
           {
            "bin_start": 111.2,
            "bin_end": 112.8,
            "count": 0
           },
           {
            "bin_start": 112.8,
            "bin_end": 114.4,
            "count": 0
           },
           {
            "bin_start": 114.4,
            "bin_end": 116,
            "count": 0
           },
           {
            "bin_start": 116,
            "bin_end": 117.6,
            "count": 1
           },
           {
            "bin_start": 117.6,
            "bin_end": 119.2,
            "count": 0
           },
           {
            "bin_start": 119.2,
            "bin_end": 120.8,
            "count": 0
           },
           {
            "bin_start": 120.8,
            "bin_end": 122.4,
            "count": 1
           },
           {
            "bin_start": 122.4,
            "bin_end": 124,
            "count": 2
           }
          ]
         }
        },
        {
         "name": "Rating",
         "dtype": "float64",
         "stats": {
          "unique_count": 5,
          "nan_count": 0,
          "min": "6.2",
          "max": "8.1",
          "histogram": [
           {
            "bin_start": 6.2,
            "bin_end": 6.390000000000001,
            "count": 1
           },
           {
            "bin_start": 6.390000000000001,
            "bin_end": 6.58,
            "count": 0
           },
           {
            "bin_start": 6.58,
            "bin_end": 6.77,
            "count": 0
           },
           {
            "bin_start": 6.77,
            "bin_end": 6.96,
            "count": 0
           },
           {
            "bin_start": 6.96,
            "bin_end": 7.15,
            "count": 1
           },
           {
            "bin_start": 7.15,
            "bin_end": 7.34,
            "count": 2
           },
           {
            "bin_start": 7.34,
            "bin_end": 7.529999999999999,
            "count": 0
           },
           {
            "bin_start": 7.529999999999999,
            "bin_end": 7.72,
            "count": 0
           },
           {
            "bin_start": 7.72,
            "bin_end": 7.91,
            "count": 0
           },
           {
            "bin_start": 7.91,
            "bin_end": 8.1,
            "count": 1
           }
          ]
         }
        },
        {
         "name": "Votes",
         "dtype": "int64",
         "stats": {
          "unique_count": 5,
          "nan_count": 0,
          "min": "60545",
          "max": "757074",
          "histogram": [
           {
            "bin_start": 60545,
            "bin_end": 130197.9,
            "count": 1
           },
           {
            "bin_start": 130197.9,
            "bin_end": 199850.8,
            "count": 1
           },
           {
            "bin_start": 199850.8,
            "bin_end": 269503.69999999995,
            "count": 0
           },
           {
            "bin_start": 269503.69999999995,
            "bin_end": 339156.6,
            "count": 0
           },
           {
            "bin_start": 339156.6,
            "bin_end": 408809.5,
            "count": 1
           },
           {
            "bin_start": 408809.5,
            "bin_end": 478462.39999999997,
            "count": 0
           },
           {
            "bin_start": 478462.39999999997,
            "bin_end": 548115.2999999999,
            "count": 1
           },
           {
            "bin_start": 548115.2999999999,
            "bin_end": 617768.2,
            "count": 0
           },
           {
            "bin_start": 617768.2,
            "bin_end": 687421.1,
            "count": 0
           },
           {
            "bin_start": 687421.1,
            "bin_end": 757074,
            "count": 1
           }
          ]
         }
        },
        {
         "name": "Revenue (Millions)",
         "dtype": "float64",
         "stats": {
          "unique_count": 5,
          "nan_count": 0,
          "min": "126.46",
          "max": "333.13",
          "histogram": [
           {
            "bin_start": 126.46,
            "bin_end": 147.127,
            "count": 2
           },
           {
            "bin_start": 147.127,
            "bin_end": 167.79399999999998,
            "count": 0
           },
           {
            "bin_start": 167.79399999999998,
            "bin_end": 188.461,
            "count": 0
           },
           {
            "bin_start": 188.461,
            "bin_end": 209.128,
            "count": 0
           },
           {
            "bin_start": 209.128,
            "bin_end": 229.79500000000002,
            "count": 0
           },
           {
            "bin_start": 229.79500000000002,
            "bin_end": 250.462,
            "count": 0
           },
           {
            "bin_start": 250.462,
            "bin_end": 271.129,
            "count": 1
           },
           {
            "bin_start": 271.129,
            "bin_end": 291.796,
            "count": 0
           },
           {
            "bin_start": 291.796,
            "bin_end": 312.463,
            "count": 0
           },
           {
            "bin_start": 312.463,
            "bin_end": 333.13,
            "count": 2
           }
          ]
         }
        },
        {
         "name": "Metascore",
         "dtype": "float64",
         "stats": {
          "unique_count": 5,
          "nan_count": 0,
          "min": "40.0",
          "max": "76.0",
          "histogram": [
           {
            "bin_start": 40,
            "bin_end": 43.6,
            "count": 1
           },
           {
            "bin_start": 43.6,
            "bin_end": 47.2,
            "count": 0
           },
           {
            "bin_start": 47.2,
            "bin_end": 50.8,
            "count": 0
           },
           {
            "bin_start": 50.8,
            "bin_end": 54.4,
            "count": 0
           },
           {
            "bin_start": 54.4,
            "bin_end": 58,
            "count": 0
           },
           {
            "bin_start": 58,
            "bin_end": 61.6,
            "count": 1
           },
           {
            "bin_start": 61.6,
            "bin_end": 65.2,
            "count": 2
           },
           {
            "bin_start": 65.2,
            "bin_end": 68.8,
            "count": 0
           },
           {
            "bin_start": 68.8,
            "bin_end": 72.4,
            "count": 0
           },
           {
            "bin_start": 72.4,
            "bin_end": 76,
            "count": 1
           }
          ]
         }
        },
        {
         "name": "_deepnote_index_column",
         "dtype": "object"
        }
       ],
       "rows_top": [
        {
         "Rank": 1,
         "Genre": "Action,Adventure,Sci-Fi",
         "Description": "A group of intergalactic criminals are forced to work together to stop a fanatical warrior from tak…",
         "Director": "James Gunn",
         "Actors": "Chris Pratt, Vin Diesel, Bradley Cooper, Zoe Saldana",
         "Year": 2014,
         "Runtime (Minutes)": 121,
         "Rating": 8.1,
         "Votes": 757074,
         "Revenue (Millions)": 333.13,
         "Metascore": 76,
         "_deepnote_index_column": "Guardians of the Galaxy"
        },
        {
         "Rank": 2,
         "Genre": "Adventure,Mystery,Sci-Fi",
         "Description": "Following clues to the origin of mankind, a team finds a structure on a distant moon, but they soon…",
         "Director": "Ridley Scott",
         "Actors": "Noomi Rapace, Logan Marshall-Green, Michael Fassbender, Charlize Theron",
         "Year": 2012,
         "Runtime (Minutes)": 124,
         "Rating": 7,
         "Votes": 485820,
         "Revenue (Millions)": 126.46,
         "Metascore": 65,
         "_deepnote_index_column": "Prometheus"
        },
        {
         "Rank": 3,
         "Genre": "Horror,Thriller",
         "Description": "Three girls are kidnapped by a man with a diagnosed 23 distinct personalities. They must try to esc…",
         "Director": "M. Night Shyamalan",
         "Actors": "James McAvoy, Anya Taylor-Joy, Haley Lu Richardson, Jessica Sula",
         "Year": 2016,
         "Runtime (Minutes)": 117,
         "Rating": 7.3,
         "Votes": 157606,
         "Revenue (Millions)": 138.12,
         "Metascore": 62,
         "_deepnote_index_column": "Split"
        },
        {
         "Rank": 4,
         "Genre": "Animation,Comedy,Family",
         "Description": "In a city of humanoid animals, a hustling theater impresario's attempt to save his theater with a s…",
         "Director": "Christophe Lourdelet",
         "Actors": "Matthew McConaughey,Reese Witherspoon, Seth MacFarlane, Scarlett Johansson",
         "Year": 2016,
         "Runtime (Minutes)": 108,
         "Rating": 7.2,
         "Votes": 60545,
         "Revenue (Millions)": 270.32,
         "Metascore": 59,
         "_deepnote_index_column": "Sing"
        },
        {
         "Rank": 5,
         "Genre": "Action,Adventure,Fantasy",
         "Description": "A secret government agency recruits some of the most dangerous incarcerated super-villains to form …",
         "Director": "David Ayer",
         "Actors": "Will Smith, Jared Leto, Margot Robbie, Viola Davis",
         "Year": 2016,
         "Runtime (Minutes)": 123,
         "Rating": 6.2,
         "Votes": 393727,
         "Revenue (Millions)": 325.02,
         "Metascore": 40,
         "_deepnote_index_column": "Suicide Squad"
        }
       ],
       "rows_bottom": null
      },
      "text/plain": "                         Rank                     Genre  \\\nTitle                                                     \nGuardians of the Galaxy     1   Action,Adventure,Sci-Fi   \nPrometheus                  2  Adventure,Mystery,Sci-Fi   \nSplit                       3           Horror,Thriller   \nSing                        4   Animation,Comedy,Family   \nSuicide Squad               5  Action,Adventure,Fantasy   \n\n                                                               Description  \\\nTitle                                                                        \nGuardians of the Galaxy  A group of intergalactic criminals are forced ...   \nPrometheus               Following clues to the origin of mankind, a te...   \nSplit                    Three girls are kidnapped by a man with a diag...   \nSing                     In a city of humanoid animals, a hustling thea...   \nSuicide Squad            A secret government agency recruits some of th...   \n\n                                     Director  \\\nTitle                                           \nGuardians of the Galaxy            James Gunn   \nPrometheus                       Ridley Scott   \nSplit                      M. Night Shyamalan   \nSing                     Christophe Lourdelet   \nSuicide Squad                      David Ayer   \n\n                                                                    Actors  \\\nTitle                                                                        \nGuardians of the Galaxy  Chris Pratt, Vin Diesel, Bradley Cooper, Zoe S...   \nPrometheus               Noomi Rapace, Logan Marshall-Green, Michael Fa...   \nSplit                    James McAvoy, Anya Taylor-Joy, Haley Lu Richar...   \nSing                     Matthew McConaughey,Reese Witherspoon, Seth Ma...   \nSuicide Squad            Will Smith, Jared Leto, Margot Robbie, Viola D...   \n\n                         Year  Runtime (Minutes)  Rating   Votes  \\\nTitle                                                              \nGuardians of the Galaxy  2014                121     8.1  757074   \nPrometheus               2012                124     7.0  485820   \nSplit                    2016                117     7.3  157606   \nSing                     2016                108     7.2   60545   \nSuicide Squad            2016                123     6.2  393727   \n\n                         Revenue (Millions)  Metascore  \nTitle                                                   \nGuardians of the Galaxy              333.13       76.0  \nPrometheus                           126.46       65.0  \nSplit                                138.12       62.0  \nSing                                 270.32       59.0  \nSuicide Squad                        325.02       40.0  ",
      "text/html": "<div>\n<style scoped>\n    .dataframe tbody tr th:only-of-type {\n        vertical-align: middle;\n    }\n\n    .dataframe tbody tr th {\n        vertical-align: top;\n    }\n\n    .dataframe thead th {\n        text-align: right;\n    }\n</style>\n<table border=\"1\" class=\"dataframe\">\n  <thead>\n    <tr style=\"text-align: right;\">\n      <th></th>\n      <th>Rank</th>\n      <th>Genre</th>\n      <th>Description</th>\n      <th>Director</th>\n      <th>Actors</th>\n      <th>Year</th>\n      <th>Runtime (Minutes)</th>\n      <th>Rating</th>\n      <th>Votes</th>\n      <th>Revenue (Millions)</th>\n      <th>Metascore</th>\n    </tr>\n    <tr>\n      <th>Title</th>\n      <th></th>\n      <th></th>\n      <th></th>\n      <th></th>\n      <th></th>\n      <th></th>\n      <th></th>\n      <th></th>\n      <th></th>\n      <th></th>\n      <th></th>\n    </tr>\n  </thead>\n  <tbody>\n    <tr>\n      <th>Guardians of the Galaxy</th>\n      <td>1</td>\n      <td>Action,Adventure,Sci-Fi</td>\n      <td>A group of intergalactic criminals are forced ...</td>\n      <td>James Gunn</td>\n      <td>Chris Pratt, Vin Diesel, Bradley Cooper, Zoe S...</td>\n      <td>2014</td>\n      <td>121</td>\n      <td>8.1</td>\n      <td>757074</td>\n      <td>333.13</td>\n      <td>76.0</td>\n    </tr>\n    <tr>\n      <th>Prometheus</th>\n      <td>2</td>\n      <td>Adventure,Mystery,Sci-Fi</td>\n      <td>Following clues to the origin of mankind, a te...</td>\n      <td>Ridley Scott</td>\n      <td>Noomi Rapace, Logan Marshall-Green, Michael Fa...</td>\n      <td>2012</td>\n      <td>124</td>\n      <td>7.0</td>\n      <td>485820</td>\n      <td>126.46</td>\n      <td>65.0</td>\n    </tr>\n    <tr>\n      <th>Split</th>\n      <td>3</td>\n      <td>Horror,Thriller</td>\n      <td>Three girls are kidnapped by a man with a diag...</td>\n      <td>M. Night Shyamalan</td>\n      <td>James McAvoy, Anya Taylor-Joy, Haley Lu Richar...</td>\n      <td>2016</td>\n      <td>117</td>\n      <td>7.3</td>\n      <td>157606</td>\n      <td>138.12</td>\n      <td>62.0</td>\n    </tr>\n    <tr>\n      <th>Sing</th>\n      <td>4</td>\n      <td>Animation,Comedy,Family</td>\n      <td>In a city of humanoid animals, a hustling thea...</td>\n      <td>Christophe Lourdelet</td>\n      <td>Matthew McConaughey,Reese Witherspoon, Seth Ma...</td>\n      <td>2016</td>\n      <td>108</td>\n      <td>7.2</td>\n      <td>60545</td>\n      <td>270.32</td>\n      <td>59.0</td>\n    </tr>\n    <tr>\n      <th>Suicide Squad</th>\n      <td>5</td>\n      <td>Action,Adventure,Fantasy</td>\n      <td>A secret government agency recruits some of th...</td>\n      <td>David Ayer</td>\n      <td>Will Smith, Jared Leto, Margot Robbie, Viola D...</td>\n      <td>2016</td>\n      <td>123</td>\n      <td>6.2</td>\n      <td>393727</td>\n      <td>325.02</td>\n      <td>40.0</td>\n    </tr>\n  </tbody>\n</table>\n</div>"
     },
     "metadata": {}
    }
   ]
  },
  {
   "cell_type": "markdown",
   "source": "We want the `Title` column to be the `index`, instead of numbers, so that we can easily search for the entries. To do this, use `index_col=\"Title\"` as a parameter in `pd.read_csv()` function:",
   "metadata": {
    "id": "vWBg5dnjYfOu",
    "cell_id": "00031-7917014c-e17d-45b9-a1ae-34160882224a",
    "deepnote_cell_type": "markdown"
   }
  },
  {
   "cell_type": "markdown",
   "source": "---\n\n## Viewing data\n\nUsing `.head()`, `.tail`, `.sample()`",
   "metadata": {
    "id": "6Vt49drmY85l",
    "cell_id": "00033-3f7db815-63c0-4a5e-a8d3-64eb7123f5b2",
    "deepnote_cell_type": "markdown"
   }
  },
  {
   "cell_type": "markdown",
   "source": "`.head()` outputs the first five rows of your DataFrame\n\n`.tail()` outputs the last five rows of your DataFrame\n\n`.sample()` outputs the **random** five rows of your DataFrame\n\nAll 3 of the above can take a `number as an input`, changing the number of displayed entries from default five to the `specified number`.",
   "metadata": {
    "id": "K4OCpn0XZWWh",
    "cell_id": "00034-4b4ebe0c-be30-4a2b-aa94-d76ec105a98a",
    "deepnote_cell_type": "markdown"
   }
  },
  {
   "cell_type": "code",
   "metadata": {
    "id": "7nd5s2QhZEMR",
    "colab": {
     "base_uri": "https://localhost:8080/",
     "height": 446
    },
    "executionInfo": {
     "status": "ok",
     "timestamp": 1601829088408,
     "user_tz": -60,
     "elapsed": 549,
     "user": {
      "displayName": "Sharmin Rouf",
      "photoUrl": "",
      "userId": "07014860915014612811"
     }
    },
    "outputId": "cb7f0922-158d-44d1-e684-4a4a8d828d04",
    "cell_id": "00035-2ffc2dcb-c4cd-4cee-b9d9-8598ac5f4fcf",
    "deepnote_to_be_reexecuted": false,
    "source_hash": "5683741c",
    "execution_start": 1624549185890,
    "execution_millis": 21,
    "deepnote_cell_type": "code"
   },
   "source": "df_movies.head(5)",
   "execution_count": null,
   "outputs": [
    {
     "output_type": "execute_result",
     "execution_count": 11,
     "data": {
      "application/vnd.deepnote.dataframe.v2+json": {
       "row_count": 5,
       "column_count": 11,
       "columns": [
        {
         "name": "Rank",
         "dtype": "int64",
         "stats": {
          "unique_count": 5,
          "nan_count": 0,
          "min": "1",
          "max": "5",
          "histogram": [
           {
            "bin_start": 1,
            "bin_end": 1.4,
            "count": 1
           },
           {
            "bin_start": 1.4,
            "bin_end": 1.8,
            "count": 0
           },
           {
            "bin_start": 1.8,
            "bin_end": 2.2,
            "count": 1
           },
           {
            "bin_start": 2.2,
            "bin_end": 2.6,
            "count": 0
           },
           {
            "bin_start": 2.6,
            "bin_end": 3,
            "count": 0
           },
           {
            "bin_start": 3,
            "bin_end": 3.4000000000000004,
            "count": 1
           },
           {
            "bin_start": 3.4000000000000004,
            "bin_end": 3.8000000000000003,
            "count": 0
           },
           {
            "bin_start": 3.8000000000000003,
            "bin_end": 4.2,
            "count": 1
           },
           {
            "bin_start": 4.2,
            "bin_end": 4.6,
            "count": 0
           },
           {
            "bin_start": 4.6,
            "bin_end": 5,
            "count": 1
           }
          ]
         }
        },
        {
         "name": "Genre",
         "dtype": "object",
         "stats": {
          "unique_count": 5,
          "nan_count": 0,
          "categories": [
           {
            "name": "Action,Adventure,Sci-Fi",
            "count": 1
           },
           {
            "name": "Adventure,Mystery,Sci-Fi",
            "count": 1
           },
           {
            "name": "3 others",
            "count": 3
           }
          ]
         }
        },
        {
         "name": "Description",
         "dtype": "object",
         "stats": {
          "unique_count": 5,
          "nan_count": 0,
          "categories": [
           {
            "name": "A group of intergalactic criminals are forced to work together to stop a fanatical warrior from taking control of the universe.",
            "count": 1
           },
           {
            "name": "Following clues to the origin of mankind, a team finds a structure on a distant moon, but they soon realize they are not alone.",
            "count": 1
           },
           {
            "name": "3 others",
            "count": 3
           }
          ]
         }
        },
        {
         "name": "Director",
         "dtype": "object",
         "stats": {
          "unique_count": 5,
          "nan_count": 0,
          "categories": [
           {
            "name": "James Gunn",
            "count": 1
           },
           {
            "name": "Ridley Scott",
            "count": 1
           },
           {
            "name": "3 others",
            "count": 3
           }
          ]
         }
        },
        {
         "name": "Actors",
         "dtype": "object",
         "stats": {
          "unique_count": 5,
          "nan_count": 0,
          "categories": [
           {
            "name": "Chris Pratt, Vin Diesel, Bradley Cooper, Zoe Saldana",
            "count": 1
           },
           {
            "name": "Noomi Rapace, Logan Marshall-Green, Michael Fassbender, Charlize Theron",
            "count": 1
           },
           {
            "name": "3 others",
            "count": 3
           }
          ]
         }
        },
        {
         "name": "Year",
         "dtype": "int64",
         "stats": {
          "unique_count": 3,
          "nan_count": 0,
          "min": "2012",
          "max": "2016",
          "histogram": [
           {
            "bin_start": 2012,
            "bin_end": 2012.4,
            "count": 1
           },
           {
            "bin_start": 2012.4,
            "bin_end": 2012.8,
            "count": 0
           },
           {
            "bin_start": 2012.8,
            "bin_end": 2013.2,
            "count": 0
           },
           {
            "bin_start": 2013.2,
            "bin_end": 2013.6,
            "count": 0
           },
           {
            "bin_start": 2013.6,
            "bin_end": 2014,
            "count": 0
           },
           {
            "bin_start": 2014,
            "bin_end": 2014.4,
            "count": 1
           },
           {
            "bin_start": 2014.4,
            "bin_end": 2014.8,
            "count": 0
           },
           {
            "bin_start": 2014.8,
            "bin_end": 2015.2,
            "count": 0
           },
           {
            "bin_start": 2015.2,
            "bin_end": 2015.6,
            "count": 0
           },
           {
            "bin_start": 2015.6,
            "bin_end": 2016,
            "count": 3
           }
          ]
         }
        },
        {
         "name": "Runtime (Minutes)",
         "dtype": "int64",
         "stats": {
          "unique_count": 5,
          "nan_count": 0,
          "min": "108",
          "max": "124",
          "histogram": [
           {
            "bin_start": 108,
            "bin_end": 109.6,
            "count": 1
           },
           {
            "bin_start": 109.6,
            "bin_end": 111.2,
            "count": 0
           },
           {
            "bin_start": 111.2,
            "bin_end": 112.8,
            "count": 0
           },
           {
            "bin_start": 112.8,
            "bin_end": 114.4,
            "count": 0
           },
           {
            "bin_start": 114.4,
            "bin_end": 116,
            "count": 0
           },
           {
            "bin_start": 116,
            "bin_end": 117.6,
            "count": 1
           },
           {
            "bin_start": 117.6,
            "bin_end": 119.2,
            "count": 0
           },
           {
            "bin_start": 119.2,
            "bin_end": 120.8,
            "count": 0
           },
           {
            "bin_start": 120.8,
            "bin_end": 122.4,
            "count": 1
           },
           {
            "bin_start": 122.4,
            "bin_end": 124,
            "count": 2
           }
          ]
         }
        },
        {
         "name": "Rating",
         "dtype": "float64",
         "stats": {
          "unique_count": 5,
          "nan_count": 0,
          "min": "6.2",
          "max": "8.1",
          "histogram": [
           {
            "bin_start": 6.2,
            "bin_end": 6.390000000000001,
            "count": 1
           },
           {
            "bin_start": 6.390000000000001,
            "bin_end": 6.58,
            "count": 0
           },
           {
            "bin_start": 6.58,
            "bin_end": 6.77,
            "count": 0
           },
           {
            "bin_start": 6.77,
            "bin_end": 6.96,
            "count": 0
           },
           {
            "bin_start": 6.96,
            "bin_end": 7.15,
            "count": 1
           },
           {
            "bin_start": 7.15,
            "bin_end": 7.34,
            "count": 2
           },
           {
            "bin_start": 7.34,
            "bin_end": 7.529999999999999,
            "count": 0
           },
           {
            "bin_start": 7.529999999999999,
            "bin_end": 7.72,
            "count": 0
           },
           {
            "bin_start": 7.72,
            "bin_end": 7.91,
            "count": 0
           },
           {
            "bin_start": 7.91,
            "bin_end": 8.1,
            "count": 1
           }
          ]
         }
        },
        {
         "name": "Votes",
         "dtype": "int64",
         "stats": {
          "unique_count": 5,
          "nan_count": 0,
          "min": "60545",
          "max": "757074",
          "histogram": [
           {
            "bin_start": 60545,
            "bin_end": 130197.9,
            "count": 1
           },
           {
            "bin_start": 130197.9,
            "bin_end": 199850.8,
            "count": 1
           },
           {
            "bin_start": 199850.8,
            "bin_end": 269503.69999999995,
            "count": 0
           },
           {
            "bin_start": 269503.69999999995,
            "bin_end": 339156.6,
            "count": 0
           },
           {
            "bin_start": 339156.6,
            "bin_end": 408809.5,
            "count": 1
           },
           {
            "bin_start": 408809.5,
            "bin_end": 478462.39999999997,
            "count": 0
           },
           {
            "bin_start": 478462.39999999997,
            "bin_end": 548115.2999999999,
            "count": 1
           },
           {
            "bin_start": 548115.2999999999,
            "bin_end": 617768.2,
            "count": 0
           },
           {
            "bin_start": 617768.2,
            "bin_end": 687421.1,
            "count": 0
           },
           {
            "bin_start": 687421.1,
            "bin_end": 757074,
            "count": 1
           }
          ]
         }
        },
        {
         "name": "Revenue (Millions)",
         "dtype": "float64",
         "stats": {
          "unique_count": 5,
          "nan_count": 0,
          "min": "126.46",
          "max": "333.13",
          "histogram": [
           {
            "bin_start": 126.46,
            "bin_end": 147.127,
            "count": 2
           },
           {
            "bin_start": 147.127,
            "bin_end": 167.79399999999998,
            "count": 0
           },
           {
            "bin_start": 167.79399999999998,
            "bin_end": 188.461,
            "count": 0
           },
           {
            "bin_start": 188.461,
            "bin_end": 209.128,
            "count": 0
           },
           {
            "bin_start": 209.128,
            "bin_end": 229.79500000000002,
            "count": 0
           },
           {
            "bin_start": 229.79500000000002,
            "bin_end": 250.462,
            "count": 0
           },
           {
            "bin_start": 250.462,
            "bin_end": 271.129,
            "count": 1
           },
           {
            "bin_start": 271.129,
            "bin_end": 291.796,
            "count": 0
           },
           {
            "bin_start": 291.796,
            "bin_end": 312.463,
            "count": 0
           },
           {
            "bin_start": 312.463,
            "bin_end": 333.13,
            "count": 2
           }
          ]
         }
        },
        {
         "name": "Metascore",
         "dtype": "float64",
         "stats": {
          "unique_count": 5,
          "nan_count": 0,
          "min": "40.0",
          "max": "76.0",
          "histogram": [
           {
            "bin_start": 40,
            "bin_end": 43.6,
            "count": 1
           },
           {
            "bin_start": 43.6,
            "bin_end": 47.2,
            "count": 0
           },
           {
            "bin_start": 47.2,
            "bin_end": 50.8,
            "count": 0
           },
           {
            "bin_start": 50.8,
            "bin_end": 54.4,
            "count": 0
           },
           {
            "bin_start": 54.4,
            "bin_end": 58,
            "count": 0
           },
           {
            "bin_start": 58,
            "bin_end": 61.6,
            "count": 1
           },
           {
            "bin_start": 61.6,
            "bin_end": 65.2,
            "count": 2
           },
           {
            "bin_start": 65.2,
            "bin_end": 68.8,
            "count": 0
           },
           {
            "bin_start": 68.8,
            "bin_end": 72.4,
            "count": 0
           },
           {
            "bin_start": 72.4,
            "bin_end": 76,
            "count": 1
           }
          ]
         }
        },
        {
         "name": "_deepnote_index_column",
         "dtype": "object"
        }
       ],
       "rows_top": [
        {
         "Rank": 1,
         "Genre": "Action,Adventure,Sci-Fi",
         "Description": "A group of intergalactic criminals are forced to work together to stop a fanatical warrior from tak…",
         "Director": "James Gunn",
         "Actors": "Chris Pratt, Vin Diesel, Bradley Cooper, Zoe Saldana",
         "Year": 2014,
         "Runtime (Minutes)": 121,
         "Rating": 8.1,
         "Votes": 757074,
         "Revenue (Millions)": 333.13,
         "Metascore": 76,
         "_deepnote_index_column": "Guardians of the Galaxy"
        },
        {
         "Rank": 2,
         "Genre": "Adventure,Mystery,Sci-Fi",
         "Description": "Following clues to the origin of mankind, a team finds a structure on a distant moon, but they soon…",
         "Director": "Ridley Scott",
         "Actors": "Noomi Rapace, Logan Marshall-Green, Michael Fassbender, Charlize Theron",
         "Year": 2012,
         "Runtime (Minutes)": 124,
         "Rating": 7,
         "Votes": 485820,
         "Revenue (Millions)": 126.46,
         "Metascore": 65,
         "_deepnote_index_column": "Prometheus"
        },
        {
         "Rank": 3,
         "Genre": "Horror,Thriller",
         "Description": "Three girls are kidnapped by a man with a diagnosed 23 distinct personalities. They must try to esc…",
         "Director": "M. Night Shyamalan",
         "Actors": "James McAvoy, Anya Taylor-Joy, Haley Lu Richardson, Jessica Sula",
         "Year": 2016,
         "Runtime (Minutes)": 117,
         "Rating": 7.3,
         "Votes": 157606,
         "Revenue (Millions)": 138.12,
         "Metascore": 62,
         "_deepnote_index_column": "Split"
        },
        {
         "Rank": 4,
         "Genre": "Animation,Comedy,Family",
         "Description": "In a city of humanoid animals, a hustling theater impresario's attempt to save his theater with a s…",
         "Director": "Christophe Lourdelet",
         "Actors": "Matthew McConaughey,Reese Witherspoon, Seth MacFarlane, Scarlett Johansson",
         "Year": 2016,
         "Runtime (Minutes)": 108,
         "Rating": 7.2,
         "Votes": 60545,
         "Revenue (Millions)": 270.32,
         "Metascore": 59,
         "_deepnote_index_column": "Sing"
        },
        {
         "Rank": 5,
         "Genre": "Action,Adventure,Fantasy",
         "Description": "A secret government agency recruits some of the most dangerous incarcerated super-villains to form …",
         "Director": "David Ayer",
         "Actors": "Will Smith, Jared Leto, Margot Robbie, Viola Davis",
         "Year": 2016,
         "Runtime (Minutes)": 123,
         "Rating": 6.2,
         "Votes": 393727,
         "Revenue (Millions)": 325.02,
         "Metascore": 40,
         "_deepnote_index_column": "Suicide Squad"
        }
       ],
       "rows_bottom": null
      },
      "text/plain": "                         Rank                     Genre  \\\nTitle                                                     \nGuardians of the Galaxy     1   Action,Adventure,Sci-Fi   \nPrometheus                  2  Adventure,Mystery,Sci-Fi   \nSplit                       3           Horror,Thriller   \nSing                        4   Animation,Comedy,Family   \nSuicide Squad               5  Action,Adventure,Fantasy   \n\n                                                               Description  \\\nTitle                                                                        \nGuardians of the Galaxy  A group of intergalactic criminals are forced ...   \nPrometheus               Following clues to the origin of mankind, a te...   \nSplit                    Three girls are kidnapped by a man with a diag...   \nSing                     In a city of humanoid animals, a hustling thea...   \nSuicide Squad            A secret government agency recruits some of th...   \n\n                                     Director  \\\nTitle                                           \nGuardians of the Galaxy            James Gunn   \nPrometheus                       Ridley Scott   \nSplit                      M. Night Shyamalan   \nSing                     Christophe Lourdelet   \nSuicide Squad                      David Ayer   \n\n                                                                    Actors  \\\nTitle                                                                        \nGuardians of the Galaxy  Chris Pratt, Vin Diesel, Bradley Cooper, Zoe S...   \nPrometheus               Noomi Rapace, Logan Marshall-Green, Michael Fa...   \nSplit                    James McAvoy, Anya Taylor-Joy, Haley Lu Richar...   \nSing                     Matthew McConaughey,Reese Witherspoon, Seth Ma...   \nSuicide Squad            Will Smith, Jared Leto, Margot Robbie, Viola D...   \n\n                         Year  Runtime (Minutes)  Rating   Votes  \\\nTitle                                                              \nGuardians of the Galaxy  2014                121     8.1  757074   \nPrometheus               2012                124     7.0  485820   \nSplit                    2016                117     7.3  157606   \nSing                     2016                108     7.2   60545   \nSuicide Squad            2016                123     6.2  393727   \n\n                         Revenue (Millions)  Metascore  \nTitle                                                   \nGuardians of the Galaxy              333.13       76.0  \nPrometheus                           126.46       65.0  \nSplit                                138.12       62.0  \nSing                                 270.32       59.0  \nSuicide Squad                        325.02       40.0  ",
      "text/html": "<div>\n<style scoped>\n    .dataframe tbody tr th:only-of-type {\n        vertical-align: middle;\n    }\n\n    .dataframe tbody tr th {\n        vertical-align: top;\n    }\n\n    .dataframe thead th {\n        text-align: right;\n    }\n</style>\n<table border=\"1\" class=\"dataframe\">\n  <thead>\n    <tr style=\"text-align: right;\">\n      <th></th>\n      <th>Rank</th>\n      <th>Genre</th>\n      <th>Description</th>\n      <th>Director</th>\n      <th>Actors</th>\n      <th>Year</th>\n      <th>Runtime (Minutes)</th>\n      <th>Rating</th>\n      <th>Votes</th>\n      <th>Revenue (Millions)</th>\n      <th>Metascore</th>\n    </tr>\n    <tr>\n      <th>Title</th>\n      <th></th>\n      <th></th>\n      <th></th>\n      <th></th>\n      <th></th>\n      <th></th>\n      <th></th>\n      <th></th>\n      <th></th>\n      <th></th>\n      <th></th>\n    </tr>\n  </thead>\n  <tbody>\n    <tr>\n      <th>Guardians of the Galaxy</th>\n      <td>1</td>\n      <td>Action,Adventure,Sci-Fi</td>\n      <td>A group of intergalactic criminals are forced ...</td>\n      <td>James Gunn</td>\n      <td>Chris Pratt, Vin Diesel, Bradley Cooper, Zoe S...</td>\n      <td>2014</td>\n      <td>121</td>\n      <td>8.1</td>\n      <td>757074</td>\n      <td>333.13</td>\n      <td>76.0</td>\n    </tr>\n    <tr>\n      <th>Prometheus</th>\n      <td>2</td>\n      <td>Adventure,Mystery,Sci-Fi</td>\n      <td>Following clues to the origin of mankind, a te...</td>\n      <td>Ridley Scott</td>\n      <td>Noomi Rapace, Logan Marshall-Green, Michael Fa...</td>\n      <td>2012</td>\n      <td>124</td>\n      <td>7.0</td>\n      <td>485820</td>\n      <td>126.46</td>\n      <td>65.0</td>\n    </tr>\n    <tr>\n      <th>Split</th>\n      <td>3</td>\n      <td>Horror,Thriller</td>\n      <td>Three girls are kidnapped by a man with a diag...</td>\n      <td>M. Night Shyamalan</td>\n      <td>James McAvoy, Anya Taylor-Joy, Haley Lu Richar...</td>\n      <td>2016</td>\n      <td>117</td>\n      <td>7.3</td>\n      <td>157606</td>\n      <td>138.12</td>\n      <td>62.0</td>\n    </tr>\n    <tr>\n      <th>Sing</th>\n      <td>4</td>\n      <td>Animation,Comedy,Family</td>\n      <td>In a city of humanoid animals, a hustling thea...</td>\n      <td>Christophe Lourdelet</td>\n      <td>Matthew McConaughey,Reese Witherspoon, Seth Ma...</td>\n      <td>2016</td>\n      <td>108</td>\n      <td>7.2</td>\n      <td>60545</td>\n      <td>270.32</td>\n      <td>59.0</td>\n    </tr>\n    <tr>\n      <th>Suicide Squad</th>\n      <td>5</td>\n      <td>Action,Adventure,Fantasy</td>\n      <td>A secret government agency recruits some of th...</td>\n      <td>David Ayer</td>\n      <td>Will Smith, Jared Leto, Margot Robbie, Viola D...</td>\n      <td>2016</td>\n      <td>123</td>\n      <td>6.2</td>\n      <td>393727</td>\n      <td>325.02</td>\n      <td>40.0</td>\n    </tr>\n  </tbody>\n</table>\n</div>"
     },
     "metadata": {}
    }
   ]
  },
  {
   "cell_type": "markdown",
   "source": "First thing when we load a dataset is always viewing a sample of rows to see how does it look. Here we can see the names of each column, the index, and examples of values in each row.\n\nPersonally I prefer to use `.sample()` because it yields random entries. Often what happens is that the data-set is neatly ordered by similar rows, meaning when we use `.head()` it will show entries that are very similar. Using `.sample()` gives a better view of the data-set. ",
   "metadata": {
    "id": "DCtU38DnZvCN",
    "cell_id": "00036-4eb35e4b-bab7-43cc-803b-6f938e81554e",
    "deepnote_cell_type": "markdown"
   }
  },
  {
   "cell_type": "code",
   "metadata": {
    "id": "e-DALf4-aruD",
    "colab": {
     "base_uri": "https://localhost:8080/",
     "height": 481
    },
    "executionInfo": {
     "status": "ok",
     "timestamp": 1600737962702,
     "user_tz": -60,
     "elapsed": 473,
     "user": {
      "displayName": "Daniel Anton",
      "photoUrl": "",
      "userId": "07817160354765211624"
     }
    },
    "outputId": "80d501f2-a24c-4e90-a6a1-ebd7e6b6deaf",
    "cell_id": "00037-3508700a-be21-4ad2-bebe-4e0b22cb2829",
    "deepnote_to_be_reexecuted": false,
    "source_hash": "742e33c1",
    "execution_start": 1624549185946,
    "execution_millis": 15,
    "deepnote_cell_type": "code"
   },
   "source": "df_movies.sample(5)",
   "execution_count": null,
   "outputs": [
    {
     "output_type": "execute_result",
     "execution_count": 12,
     "data": {
      "application/vnd.deepnote.dataframe.v2+json": {
       "row_count": 5,
       "column_count": 11,
       "columns": [
        {
         "name": "Rank",
         "dtype": "int64",
         "stats": {
          "unique_count": 5,
          "nan_count": 0,
          "min": "104",
          "max": "881",
          "histogram": [
           {
            "bin_start": 104,
            "bin_end": 181.7,
            "count": 1
           },
           {
            "bin_start": 181.7,
            "bin_end": 259.4,
            "count": 1
           },
           {
            "bin_start": 259.4,
            "bin_end": 337.1,
            "count": 1
           },
           {
            "bin_start": 337.1,
            "bin_end": 414.8,
            "count": 0
           },
           {
            "bin_start": 414.8,
            "bin_end": 492.5,
            "count": 0
           },
           {
            "bin_start": 492.5,
            "bin_end": 570.2,
            "count": 0
           },
           {
            "bin_start": 570.2,
            "bin_end": 647.9,
            "count": 0
           },
           {
            "bin_start": 647.9,
            "bin_end": 725.6,
            "count": 0
           },
           {
            "bin_start": 725.6,
            "bin_end": 803.3000000000001,
            "count": 1
           },
           {
            "bin_start": 803.3000000000001,
            "bin_end": 881,
            "count": 1
           }
          ]
         }
        },
        {
         "name": "Genre",
         "dtype": "object",
         "stats": {
          "unique_count": 5,
          "nan_count": 0,
          "categories": [
           {
            "name": "Action,Adventure,Family",
            "count": 1
           },
           {
            "name": "Crime,Mystery,Thriller",
            "count": 1
           },
           {
            "name": "3 others",
            "count": 3
           }
          ]
         }
        },
        {
         "name": "Description",
         "dtype": "object",
         "stats": {
          "unique_count": 5,
          "nan_count": 0,
          "categories": [
           {
            "name": "The adventures of teenager Max McGrath and his alien companion, Steel, who must harness and combine their tremendous new powers to evolve into the turbo-charged superhero Max Steel.",
            "count": 1
           },
           {
            "name": "A young businessman faces a lawyer trying to prove his innocence by the assassination of his lover.",
            "count": 1
           },
           {
            "name": "3 others",
            "count": 3
           }
          ]
         }
        },
        {
         "name": "Director",
         "dtype": "object",
         "stats": {
          "unique_count": 5,
          "nan_count": 0,
          "categories": [
           {
            "name": "Stewart Hendler",
            "count": 1
           },
           {
            "name": "Oriol Paulo",
            "count": 1
           },
           {
            "name": "3 others",
            "count": 3
           }
          ]
         }
        },
        {
         "name": "Actors",
         "dtype": "object",
         "stats": {
          "unique_count": 5,
          "nan_count": 0,
          "categories": [
           {
            "name": "Ben Winchell, Josh Brener, Maria Bello, Andy Garcia",
            "count": 1
           },
           {
            "name": "Mario Casas, Ana Wagener, José Coronado, Bárbara Lennie",
            "count": 1
           },
           {
            "name": "3 others",
            "count": 3
           }
          ]
         }
        },
        {
         "name": "Year",
         "dtype": "int64",
         "stats": {
          "unique_count": 2,
          "nan_count": 0,
          "min": "2008",
          "max": "2016",
          "histogram": [
           {
            "bin_start": 2008,
            "bin_end": 2008.8,
            "count": 1
           },
           {
            "bin_start": 2008.8,
            "bin_end": 2009.6,
            "count": 0
           },
           {
            "bin_start": 2009.6,
            "bin_end": 2010.4,
            "count": 0
           },
           {
            "bin_start": 2010.4,
            "bin_end": 2011.2,
            "count": 0
           },
           {
            "bin_start": 2011.2,
            "bin_end": 2012,
            "count": 0
           },
           {
            "bin_start": 2012,
            "bin_end": 2012.8,
            "count": 0
           },
           {
            "bin_start": 2012.8,
            "bin_end": 2013.6,
            "count": 0
           },
           {
            "bin_start": 2013.6,
            "bin_end": 2014.4,
            "count": 0
           },
           {
            "bin_start": 2014.4,
            "bin_end": 2015.2,
            "count": 0
           },
           {
            "bin_start": 2015.2,
            "bin_end": 2016,
            "count": 4
           }
          ]
         }
        },
        {
         "name": "Runtime (Minutes)",
         "dtype": "int64",
         "stats": {
          "unique_count": 5,
          "nan_count": 0,
          "min": "92",
          "max": "163",
          "histogram": [
           {
            "bin_start": 92,
            "bin_end": 99.1,
            "count": 2
           },
           {
            "bin_start": 99.1,
            "bin_end": 106.2,
            "count": 1
           },
           {
            "bin_start": 106.2,
            "bin_end": 113.3,
            "count": 0
           },
           {
            "bin_start": 113.3,
            "bin_end": 120.4,
            "count": 1
           },
           {
            "bin_start": 120.4,
            "bin_end": 127.5,
            "count": 0
           },
           {
            "bin_start": 127.5,
            "bin_end": 134.6,
            "count": 0
           },
           {
            "bin_start": 134.6,
            "bin_end": 141.7,
            "count": 0
           },
           {
            "bin_start": 141.7,
            "bin_end": 148.8,
            "count": 0
           },
           {
            "bin_start": 148.8,
            "bin_end": 155.9,
            "count": 0
           },
           {
            "bin_start": 155.9,
            "bin_end": 163,
            "count": 1
           }
          ]
         }
        },
        {
         "name": "Rating",
         "dtype": "float64",
         "stats": {
          "unique_count": 5,
          "nan_count": 0,
          "min": "4.6",
          "max": "7.9",
          "histogram": [
           {
            "bin_start": 4.6,
            "bin_end": 4.93,
            "count": 1
           },
           {
            "bin_start": 4.93,
            "bin_end": 5.26,
            "count": 0
           },
           {
            "bin_start": 5.26,
            "bin_end": 5.59,
            "count": 1
           },
           {
            "bin_start": 5.59,
            "bin_end": 5.92,
            "count": 0
           },
           {
            "bin_start": 5.92,
            "bin_end": 6.25,
            "count": 0
           },
           {
            "bin_start": 6.25,
            "bin_end": 6.58,
            "count": 0
           },
           {
            "bin_start": 6.58,
            "bin_end": 6.91,
            "count": 1
           },
           {
            "bin_start": 6.91,
            "bin_end": 7.24,
            "count": 1
           },
           {
            "bin_start": 7.24,
            "bin_end": 7.57,
            "count": 0
           },
           {
            "bin_start": 7.57,
            "bin_end": 7.9,
            "count": 1
           }
          ]
         }
        },
        {
         "name": "Votes",
         "dtype": "int64",
         "stats": {
          "unique_count": 5,
          "nan_count": 0,
          "min": "7204",
          "max": "67033",
          "histogram": [
           {
            "bin_start": 7204,
            "bin_end": 13186.9,
            "count": 3
           },
           {
            "bin_start": 13186.9,
            "bin_end": 19169.8,
            "count": 0
           },
           {
            "bin_start": 19169.8,
            "bin_end": 25152.699999999997,
            "count": 1
           },
           {
            "bin_start": 25152.699999999997,
            "bin_end": 31135.6,
            "count": 0
           },
           {
            "bin_start": 31135.6,
            "bin_end": 37118.5,
            "count": 0
           },
           {
            "bin_start": 37118.5,
            "bin_end": 43101.399999999994,
            "count": 0
           },
           {
            "bin_start": 43101.399999999994,
            "bin_end": 49084.299999999996,
            "count": 0
           },
           {
            "bin_start": 49084.299999999996,
            "bin_end": 55067.2,
            "count": 0
           },
           {
            "bin_start": 55067.2,
            "bin_end": 61050.1,
            "count": 0
           },
           {
            "bin_start": 61050.1,
            "bin_end": 67033,
            "count": 1
           }
          ]
         }
        },
        {
         "name": "Revenue (Millions)",
         "dtype": "float64",
         "stats": {
          "unique_count": 4,
          "nan_count": 1,
          "min": "0.66",
          "max": "48.24",
          "histogram": [
           {
            "bin_start": 0.66,
            "bin_end": 5.418000000000001,
            "count": 3
           },
           {
            "bin_start": 5.418000000000001,
            "bin_end": 10.176000000000002,
            "count": 0
           },
           {
            "bin_start": 10.176000000000002,
            "bin_end": 14.934000000000003,
            "count": 0
           },
           {
            "bin_start": 14.934000000000003,
            "bin_end": 19.692000000000004,
            "count": 0
           },
           {
            "bin_start": 19.692000000000004,
            "bin_end": 24.450000000000006,
            "count": 0
           },
           {
            "bin_start": 24.450000000000006,
            "bin_end": 29.208000000000006,
            "count": 0
           },
           {
            "bin_start": 29.208000000000006,
            "bin_end": 33.966,
            "count": 0
           },
           {
            "bin_start": 33.966,
            "bin_end": 38.724000000000004,
            "count": 0
           },
           {
            "bin_start": 38.724000000000004,
            "bin_end": 43.482000000000006,
            "count": 0
           },
           {
            "bin_start": 43.482000000000006,
            "bin_end": 48.24,
            "count": 1
           }
          ]
         }
        },
        {
         "name": "Metascore",
         "dtype": "float64",
         "stats": {
          "unique_count": 4,
          "nan_count": 1,
          "min": "22.0",
          "max": "79.0",
          "histogram": [
           {
            "bin_start": 22,
            "bin_end": 27.7,
            "count": 1
           },
           {
            "bin_start": 27.7,
            "bin_end": 33.4,
            "count": 0
           },
           {
            "bin_start": 33.4,
            "bin_end": 39.1,
            "count": 0
           },
           {
            "bin_start": 39.1,
            "bin_end": 44.8,
            "count": 0
           },
           {
            "bin_start": 44.8,
            "bin_end": 50.5,
            "count": 0
           },
           {
            "bin_start": 50.5,
            "bin_end": 56.2,
            "count": 1
           },
           {
            "bin_start": 56.2,
            "bin_end": 61.9,
            "count": 0
           },
           {
            "bin_start": 61.9,
            "bin_end": 67.6,
            "count": 0
           },
           {
            "bin_start": 67.6,
            "bin_end": 73.30000000000001,
            "count": 1
           },
           {
            "bin_start": 73.30000000000001,
            "bin_end": 79,
            "count": 1
           }
          ]
         }
        },
        {
         "name": "_deepnote_index_column",
         "dtype": "object"
        }
       ],
       "rows_top": [
        {
         "Rank": 788,
         "Genre": "Action,Adventure,Family",
         "Description": "The adventures of teenager Max McGrath and his alien companion, Steel, who must harness and combine…",
         "Director": "Stewart Hendler",
         "Actors": "Ben Winchell, Josh Brener, Maria Bello, Andy Garcia",
         "Year": 2016,
         "Runtime (Minutes)": 92,
         "Rating": 4.6,
         "Votes": 11555,
         "Revenue (Millions)": 3.77,
         "Metascore": 22,
         "_deepnote_index_column": "Max Steel"
        },
        {
         "Rank": 104,
         "Genre": "Crime,Mystery,Thriller",
         "Description": "A young businessman faces a lawyer trying to prove his innocence by the assassination of his lover.",
         "Director": "Oriol Paulo",
         "Actors": "Mario Casas, Ana Wagener, José Coronado, Bárbara Lennie",
         "Year": 2016,
         "Runtime (Minutes)": 106,
         "Rating": 7.9,
         "Votes": 7204,
         "Revenue (Millions)": "nan",
         "Metascore": "nan",
         "_deepnote_index_column": "Contratiempo"
        },
        {
         "Rank": 881,
         "Genre": "Action,Adventure,Drama",
         "Description": "Japan is plunged into chaos upon the appearance of a giant monster.",
         "Director": "Hideaki Anno",
         "Actors": "Hiroki Hasegawa, Yutaka Takenouchi,Satomi Ishihara, Ren Ôsugi",
         "Year": 2016,
         "Runtime (Minutes)": 120,
         "Rating": 6.9,
         "Votes": 8365,
         "Revenue (Millions)": 1.91,
         "Metascore": 68,
         "_deepnote_index_column": "Shin Gojira"
        },
        {
         "Rank": 304,
         "Genre": "Comedy,Romance",
         "Description": "After Playboy bunny Shelley is kicked out of the playboy mansion, she finds a job as the house moth…",
         "Director": "Fred Wolf",
         "Actors": "Anna Faris, Colin Hanks, Emma Stone, Kat Dennings",
         "Year": 2008,
         "Runtime (Minutes)": 97,
         "Rating": 5.5,
         "Votes": 67033,
         "Revenue (Millions)": 48.24,
         "Metascore": 55,
         "_deepnote_index_column": "The House Bunny"
        },
        {
         "Rank": 226,
         "Genre": "Drama",
         "Description": "A teenage girl with nothing to lose joins a traveling magazine sales crew, and gets caught up in a …",
         "Director": "Andrea Arnold",
         "Actors": "Sasha Lane, Shia LaBeouf, Riley Keough, McCaul Lombardi",
         "Year": 2016,
         "Runtime (Minutes)": 163,
         "Rating": 7,
         "Votes": 19660,
         "Revenue (Millions)": 0.66,
         "Metascore": 79,
         "_deepnote_index_column": "American Honey"
        }
       ],
       "rows_bottom": null
      },
      "text/plain": "                 Rank                    Genre  \\\nTitle                                            \nMax Steel         788  Action,Adventure,Family   \nContratiempo      104   Crime,Mystery,Thriller   \nShin Gojira       881   Action,Adventure,Drama   \nThe House Bunny   304           Comedy,Romance   \nAmerican Honey    226                    Drama   \n\n                                                       Description  \\\nTitle                                                                \nMax Steel        The adventures of teenager Max McGrath and his...   \nContratiempo     A young businessman faces a lawyer trying to p...   \nShin Gojira      Japan is plunged into chaos upon the appearanc...   \nThe House Bunny  After Playboy bunny Shelley is kicked out of t...   \nAmerican Honey   A teenage girl with nothing to lose joins a tr...   \n\n                        Director  \\\nTitle                              \nMax Steel        Stewart Hendler   \nContratiempo         Oriol Paulo   \nShin Gojira         Hideaki Anno   \nThe House Bunny        Fred Wolf   \nAmerican Honey     Andrea Arnold   \n\n                                                            Actors  Year  \\\nTitle                                                                      \nMax Steel        Ben Winchell, Josh Brener, Maria Bello, Andy G...  2016   \nContratiempo     Mario Casas, Ana Wagener, José Coronado, Bárba...  2016   \nShin Gojira      Hiroki Hasegawa, Yutaka Takenouchi,Satomi Ishi...  2016   \nThe House Bunny  Anna Faris, Colin Hanks, Emma Stone, Kat Dennings  2008   \nAmerican Honey   Sasha Lane, Shia LaBeouf, Riley Keough, McCaul...  2016   \n\n                 Runtime (Minutes)  Rating  Votes  Revenue (Millions)  \\\nTitle                                                                   \nMax Steel                       92     4.6  11555                3.77   \nContratiempo                   106     7.9   7204                 NaN   \nShin Gojira                    120     6.9   8365                1.91   \nThe House Bunny                 97     5.5  67033               48.24   \nAmerican Honey                 163     7.0  19660                0.66   \n\n                 Metascore  \nTitle                       \nMax Steel             22.0  \nContratiempo           NaN  \nShin Gojira           68.0  \nThe House Bunny       55.0  \nAmerican Honey        79.0  ",
      "text/html": "<div>\n<style scoped>\n    .dataframe tbody tr th:only-of-type {\n        vertical-align: middle;\n    }\n\n    .dataframe tbody tr th {\n        vertical-align: top;\n    }\n\n    .dataframe thead th {\n        text-align: right;\n    }\n</style>\n<table border=\"1\" class=\"dataframe\">\n  <thead>\n    <tr style=\"text-align: right;\">\n      <th></th>\n      <th>Rank</th>\n      <th>Genre</th>\n      <th>Description</th>\n      <th>Director</th>\n      <th>Actors</th>\n      <th>Year</th>\n      <th>Runtime (Minutes)</th>\n      <th>Rating</th>\n      <th>Votes</th>\n      <th>Revenue (Millions)</th>\n      <th>Metascore</th>\n    </tr>\n    <tr>\n      <th>Title</th>\n      <th></th>\n      <th></th>\n      <th></th>\n      <th></th>\n      <th></th>\n      <th></th>\n      <th></th>\n      <th></th>\n      <th></th>\n      <th></th>\n      <th></th>\n    </tr>\n  </thead>\n  <tbody>\n    <tr>\n      <th>Max Steel</th>\n      <td>788</td>\n      <td>Action,Adventure,Family</td>\n      <td>The adventures of teenager Max McGrath and his...</td>\n      <td>Stewart Hendler</td>\n      <td>Ben Winchell, Josh Brener, Maria Bello, Andy G...</td>\n      <td>2016</td>\n      <td>92</td>\n      <td>4.6</td>\n      <td>11555</td>\n      <td>3.77</td>\n      <td>22.0</td>\n    </tr>\n    <tr>\n      <th>Contratiempo</th>\n      <td>104</td>\n      <td>Crime,Mystery,Thriller</td>\n      <td>A young businessman faces a lawyer trying to p...</td>\n      <td>Oriol Paulo</td>\n      <td>Mario Casas, Ana Wagener, José Coronado, Bárba...</td>\n      <td>2016</td>\n      <td>106</td>\n      <td>7.9</td>\n      <td>7204</td>\n      <td>NaN</td>\n      <td>NaN</td>\n    </tr>\n    <tr>\n      <th>Shin Gojira</th>\n      <td>881</td>\n      <td>Action,Adventure,Drama</td>\n      <td>Japan is plunged into chaos upon the appearanc...</td>\n      <td>Hideaki Anno</td>\n      <td>Hiroki Hasegawa, Yutaka Takenouchi,Satomi Ishi...</td>\n      <td>2016</td>\n      <td>120</td>\n      <td>6.9</td>\n      <td>8365</td>\n      <td>1.91</td>\n      <td>68.0</td>\n    </tr>\n    <tr>\n      <th>The House Bunny</th>\n      <td>304</td>\n      <td>Comedy,Romance</td>\n      <td>After Playboy bunny Shelley is kicked out of t...</td>\n      <td>Fred Wolf</td>\n      <td>Anna Faris, Colin Hanks, Emma Stone, Kat Dennings</td>\n      <td>2008</td>\n      <td>97</td>\n      <td>5.5</td>\n      <td>67033</td>\n      <td>48.24</td>\n      <td>55.0</td>\n    </tr>\n    <tr>\n      <th>American Honey</th>\n      <td>226</td>\n      <td>Drama</td>\n      <td>A teenage girl with nothing to lose joins a tr...</td>\n      <td>Andrea Arnold</td>\n      <td>Sasha Lane, Shia LaBeouf, Riley Keough, McCaul...</td>\n      <td>2016</td>\n      <td>163</td>\n      <td>7.0</td>\n      <td>19660</td>\n      <td>0.66</td>\n      <td>79.0</td>\n    </tr>\n  </tbody>\n</table>\n</div>"
     },
     "metadata": {}
    }
   ]
  },
  {
   "cell_type": "markdown",
   "source": "---\n\n## Getting more info about the data",
   "metadata": {
    "id": "xmzbWA9tbWtw",
    "cell_id": "00038-86bed0d1-6251-44e1-bcd5-f25a95585c87",
    "deepnote_cell_type": "markdown"
   }
  },
  {
   "cell_type": "markdown",
   "source": "`.info()` should be one of the very first functions you use after loading your data\n\nIt shows essential details, such as number of rows and columns, the number of non-null values, and less imporantly what type of data is in each column (this is only imporant to quickly see if numbers were not accidentally imported as strings).",
   "metadata": {
    "id": "p56cJ8JTbh2i",
    "cell_id": "00039-fc0491a2-50b7-48ed-a698-09e670054791",
    "deepnote_cell_type": "markdown"
   }
  },
  {
   "cell_type": "code",
   "metadata": {
    "id": "xoiwQK-Jbanl",
    "colab": {
     "base_uri": "https://localhost:8080/",
     "height": 323
    },
    "executionInfo": {
     "status": "ok",
     "timestamp": 1600738147072,
     "user_tz": -60,
     "elapsed": 461,
     "user": {
      "displayName": "Daniel Anton",
      "photoUrl": "",
      "userId": "07817160354765211624"
     }
    },
    "outputId": "bd2dc9aa-9d4d-4759-822d-039e5222e781",
    "cell_id": "00040-4a013320-f803-4ae8-ac7a-cc8a7925873c",
    "deepnote_to_be_reexecuted": false,
    "source_hash": "fab2cf23",
    "execution_start": 1624549186002,
    "execution_millis": 9,
    "deepnote_cell_type": "code"
   },
   "source": "df_movies.info() # int is whole number, float is decimal number, object is the rest",
   "execution_count": null,
   "outputs": [
    {
     "name": "stdout",
     "text": "<class 'pandas.core.frame.DataFrame'>\nIndex: 1000 entries, Guardians of the Galaxy to Nine Lives\nData columns (total 11 columns):\n #   Column              Non-Null Count  Dtype  \n---  ------              --------------  -----  \n 0   Rank                1000 non-null   int64  \n 1   Genre               1000 non-null   object \n 2   Description         1000 non-null   object \n 3   Director            1000 non-null   object \n 4   Actors              1000 non-null   object \n 5   Year                1000 non-null   int64  \n 6   Runtime (Minutes)   1000 non-null   int64  \n 7   Rating              1000 non-null   float64\n 8   Votes               1000 non-null   int64  \n 9   Revenue (Millions)  872 non-null    float64\n 10  Metascore           936 non-null    float64\ndtypes: float64(3), int64(4), object(4)\nmemory usage: 93.8+ KB\n",
     "output_type": "stream"
    }
   ]
  },
  {
   "cell_type": "markdown",
   "source": "Notice that `Revenue` and `Metascore` have missing values.\n\nAnother way to obtain number of rows and columns is `.shape` - without `()`. Just remmber it with `()` and when you run it, it will give you error, and that way you remember () are not supposed to be there.\n\n`.shape` will be used often when making models, and reformating the data.",
   "metadata": {
    "id": "O-ThTswkeO-C",
    "cell_id": "00041-506a28e5-56bb-4333-adca-1f887bbdb098",
    "deepnote_cell_type": "markdown"
   }
  },
  {
   "cell_type": "code",
   "metadata": {
    "id": "eWDarAcDeqzK",
    "colab": {
     "base_uri": "https://localhost:8080/",
     "height": 35
    },
    "executionInfo": {
     "status": "ok",
     "timestamp": 1601829126945,
     "user_tz": -60,
     "elapsed": 640,
     "user": {
      "displayName": "Sharmin Rouf",
      "photoUrl": "",
      "userId": "07014860915014612811"
     }
    },
    "outputId": "2eee03bc-6dd2-4edb-e91e-bc8fed20a114",
    "cell_id": "00042-5498482d-ad66-447f-bdb1-f1cc8ae33257",
    "deepnote_to_be_reexecuted": false,
    "source_hash": "231b6961",
    "execution_start": 1624549186003,
    "execution_millis": 8,
    "deepnote_cell_type": "code"
   },
   "source": "df_movies.shape",
   "execution_count": null,
   "outputs": [
    {
     "output_type": "execute_result",
     "execution_count": 14,
     "data": {
      "text/plain": "(1000, 11)"
     },
     "metadata": {}
    }
   ]
  },
  {
   "cell_type": "markdown",
   "source": "---\n\n## Removing duplicates\n\nIt is very imporant to always run this function at the begining to remove any duplicate valuess. Note that some data-sets do contain duplicates as legitimate values, it is important to think if for the current data-set, they have to be removed.\n\nTo do this, we use `df.drop_duplicates()` function.",
   "metadata": {
    "id": "OXErj6lkfU_j",
    "cell_id": "00043-08886217-8fc2-4374-acbd-cf7f3fd20634",
    "deepnote_cell_type": "markdown"
   }
  },
  {
   "cell_type": "code",
   "metadata": {
    "id": "4HJoBhp5hAF8",
    "cell_id": "00044-e7ab1aa6-e97a-4e4c-8f7f-21ca22861547",
    "deepnote_to_be_reexecuted": false,
    "source_hash": "ef4a53ad",
    "execution_start": 1624549186004,
    "execution_millis": 0,
    "deepnote_cell_type": "code"
   },
   "source": "df_movies = df_movies.drop_duplicates()",
   "execution_count": null,
   "outputs": []
  },
  {
   "cell_type": "markdown",
   "source": "Notice that we have say `df_movies = `. This is because using `.drop_duplicates()` creates a copy of the **DataFrame** it is used on. We can either create a new **DataFrame** by calling the variable something else, or we can use the same name to adjust the original.\n\nAlternatively, we can use `inplace=True` parameter, to adjust the original **DataFrame** right away:",
   "metadata": {
    "id": "xMotgbeHhD-R",
    "cell_id": "00045-61caccd9-c19c-4377-a0ea-71ac305e7db0",
    "deepnote_cell_type": "markdown"
   }
  },
  {
   "cell_type": "code",
   "metadata": {
    "id": "sILo0lzcesIE",
    "colab": {
     "base_uri": "https://localhost:8080/",
     "height": 637
    },
    "executionInfo": {
     "status": "ok",
     "timestamp": 1600739160745,
     "user_tz": -60,
     "elapsed": 441,
     "user": {
      "displayName": "Daniel Anton",
      "photoUrl": "",
      "userId": "07817160354765211624"
     }
    },
    "outputId": "07b195cd-0791-4f4d-ccab-745f7fe53e95",
    "cell_id": "00046-a21185e4-c18c-466c-9f8e-70c863f208fc",
    "deepnote_to_be_reexecuted": false,
    "source_hash": "777ef1f8",
    "execution_start": 1624549186035,
    "execution_millis": 0,
    "deepnote_cell_type": "code"
   },
   "source": "df_movies.drop_duplicates(inplace=True)",
   "execution_count": null,
   "outputs": []
  },
  {
   "cell_type": "markdown",
   "source": "---\n\n## Cleaning column names\n\nOften original column names contain symbols, upper and lowercase words, spaces, and typos. To make selecting data by column name easier we clean it up at the begining.",
   "metadata": {
    "id": "dSMYtgariRkm",
    "cell_id": "00047-23b16d67-4f2d-4fc4-a716-51c177c456df",
    "deepnote_cell_type": "markdown"
   }
  },
  {
   "cell_type": "markdown",
   "source": "To print **DataFrame**'s columns, use `df.columns`",
   "metadata": {
    "id": "KMG1ZAiui0IK",
    "cell_id": "00048-3461a0f2-53b5-4f42-9d00-adf4b0404f91",
    "deepnote_cell_type": "markdown"
   }
  },
  {
   "cell_type": "code",
   "metadata": {
    "id": "Y3cPJRRiiS6-",
    "colab": {
     "base_uri": "https://localhost:8080/",
     "height": 85
    },
    "executionInfo": {
     "status": "ok",
     "timestamp": 1600739960889,
     "user_tz": -60,
     "elapsed": 427,
     "user": {
      "displayName": "Daniel Anton",
      "photoUrl": "",
      "userId": "07817160354765211624"
     }
    },
    "outputId": "c503cc0d-fb37-49e5-9b60-bc784a8610f8",
    "cell_id": "00049-aae0df93-2feb-4903-9f81-2d0535a97468",
    "deepnote_to_be_reexecuted": false,
    "source_hash": "93c2a4db",
    "execution_start": 1624549186036,
    "execution_millis": 14,
    "deepnote_cell_type": "code"
   },
   "source": "df_movies.columns",
   "execution_count": null,
   "outputs": [
    {
     "output_type": "execute_result",
     "execution_count": 17,
     "data": {
      "text/plain": "Index(['Rank', 'Genre', 'Description', 'Director', 'Actors', 'Year',\n       'Runtime (Minutes)', 'Rating', 'Votes', 'Revenue (Millions)',\n       'Metascore'],\n      dtype='object')"
     },
     "metadata": {}
    }
   ]
  },
  {
   "cell_type": "markdown",
   "source": "Now we can quickly read all the columns, and copy-paste it if we try to rename change something. It is also useful if you get `Key Error` when trying to select column by its name... which should never happen, because you will learn to clean columns.\n\nLet's rename **Runtime (Minutes)** and **Revenue (Millions)** to something simpler, using `df.rename()` function:",
   "metadata": {
    "id": "f9RJohhNjRpS",
    "cell_id": "00050-d1b71acf-a35b-4764-a83b-97bab99da555",
    "deepnote_cell_type": "markdown"
   }
  },
  {
   "cell_type": "code",
   "metadata": {
    "id": "TrC_JbnUjCPU",
    "colab": {
     "base_uri": "https://localhost:8080/",
     "height": 72
    },
    "executionInfo": {
     "status": "ok",
     "timestamp": 1601849079072,
     "user_tz": -60,
     "elapsed": 636,
     "user": {
      "displayName": "Sharmin Rouf",
      "photoUrl": "",
      "userId": "07014860915014612811"
     }
    },
    "outputId": "b1bdfb0e-79e2-4746-8562-e8e06f632c5c",
    "cell_id": "00051-355a3a4c-fc8a-4368-8b55-a53cfba0c380",
    "deepnote_to_be_reexecuted": false,
    "source_hash": "67afe716",
    "execution_start": 1624549186037,
    "execution_millis": 13,
    "deepnote_cell_type": "code"
   },
   "source": "df_movies.rename(\n    columns={\n                'Runtime (Minutes)': 'Runtime', \n                'Revenue (Millions)': 'Revenue millions',\n            }, \n    inplace=True)\ndf_movies.columns",
   "execution_count": null,
   "outputs": [
    {
     "output_type": "execute_result",
     "execution_count": 18,
     "data": {
      "text/plain": "Index(['Rank', 'Genre', 'Description', 'Director', 'Actors', 'Year', 'Runtime',\n       'Rating', 'Votes', 'Revenue millions', 'Metascore'],\n      dtype='object')"
     },
     "metadata": {}
    }
   ]
  },
  {
   "cell_type": "markdown",
   "source": "Note that we used `inplace = True`, which saves us from using `df_movies = `\n\nNow let's change all letters to a lowercase. The most simplest way is to copy-paste the above obtained list of colum names, and manually change everything to lowercase.",
   "metadata": {
    "id": "Bz8n5-MlkD6s",
    "cell_id": "00052-1d7ce743-bcb6-43aa-85b8-767ccd7f18fd",
    "deepnote_cell_type": "markdown"
   }
  },
  {
   "cell_type": "code",
   "metadata": {
    "id": "QiQGjW2GkYBE",
    "colab": {
     "base_uri": "https://localhost:8080/",
     "height": 72
    },
    "executionInfo": {
     "status": "ok",
     "timestamp": 1601849082506,
     "user_tz": -60,
     "elapsed": 807,
     "user": {
      "displayName": "Sharmin Rouf",
      "photoUrl": "",
      "userId": "07014860915014612811"
     }
    },
    "outputId": "67bb1713-99b3-4eb9-b77e-f1996066789a",
    "cell_id": "00053-c7a9510b-c7be-4d75-9e7d-3238b2840898",
    "deepnote_to_be_reexecuted": false,
    "source_hash": "d591a687",
    "execution_start": 1624549186046,
    "execution_millis": 13,
    "deepnote_cell_type": "code"
   },
   "source": "df_movies.columns = ['rank', 'genre', 'description', 'director', 'actors', 'year', 'runtime', \n                     'rating', 'votes', 'revenue millions', 'metascore']\ndf_movies.columns",
   "execution_count": null,
   "outputs": [
    {
     "output_type": "execute_result",
     "execution_count": 19,
     "data": {
      "text/plain": "Index(['rank', 'genre', 'description', 'director', 'actors', 'year', 'runtime',\n       'rating', 'votes', 'revenue millions', 'metascore'],\n      dtype='object')"
     },
     "metadata": {}
    }
   ]
  },
  {
   "cell_type": "markdown",
   "source": "Alternatively, if there are too many upper-case letters, or too many columns we can use `.lower()` python function.",
   "metadata": {
    "id": "EnMqUrJIkyFI",
    "cell_id": "00054-1a2e12ef-aed0-471d-abc5-09eaf4fac3e1",
    "deepnote_cell_type": "markdown"
   }
  },
  {
   "cell_type": "code",
   "metadata": {
    "id": "2G-uoRzcknaK",
    "colab": {
     "base_uri": "https://localhost:8080/",
     "height": 72
    },
    "executionInfo": {
     "status": "ok",
     "timestamp": 1601849085518,
     "user_tz": -60,
     "elapsed": 755,
     "user": {
      "displayName": "Sharmin Rouf",
      "photoUrl": "",
      "userId": "07014860915014612811"
     }
    },
    "outputId": "f76ea10a-9bd4-4352-cfd9-e777447e8139",
    "cell_id": "00055-3ac055b1-83ea-49d8-ba72-bd57957c949d",
    "deepnote_to_be_reexecuted": false,
    "source_hash": "b776d86d",
    "execution_start": 1624549186055,
    "execution_millis": 19,
    "deepnote_cell_type": "code"
   },
   "source": "df_movies.columns = df_movies.columns.str.replace(\" \", \"_\")\ndf_movies.columns = df_movies.columns.str.lower()",
   "execution_count": null,
   "outputs": []
  },
  {
   "cell_type": "markdown",
   "source": "You should always lowercase, remove special characters, and replace spaces with underscores if you'll be working with a dataset for some time.",
   "metadata": {
    "id": "RWXwM2KxpIog",
    "cell_id": "00056-bac8fb4e-f05f-4082-aba6-435bc7117484",
    "deepnote_cell_type": "markdown"
   }
  },
  {
   "cell_type": "markdown",
   "source": "---\n\n## Missing values\n\nAlso known as non-existent values, often marked as `null` or `None` or `np.nan` or empty space.\n\n3 things can be done:\n\n\n1.   Remove columns with missing values\n2.   Remove rows with missing values\n3.   Replace missing values with actual values, technique known as `inputation`\n\n",
   "metadata": {
    "id": "phYzlMcoplJ5",
    "cell_id": "00057-ecbfa1d6-1ba1-4ac4-b811-36c27e8bbe09",
    "deepnote_cell_type": "markdown"
   }
  },
  {
   "cell_type": "markdown",
   "source": "First, let's check the scale of the missing values. Remember we have already use `df.info()` to get some idea, but let's take it a step further by using `df.isnull()`",
   "metadata": {
    "id": "wr-zkICgrRvo",
    "cell_id": "00058-88d69f1b-63aa-4785-a7d4-c9b9f89cb31e",
    "deepnote_cell_type": "markdown"
   }
  },
  {
   "cell_type": "code",
   "metadata": {
    "id": "2KV3mUcap95b",
    "colab": {
     "base_uri": "https://localhost:8080/",
     "height": 238
    },
    "executionInfo": {
     "status": "ok",
     "timestamp": 1600742453204,
     "user_tz": -60,
     "elapsed": 434,
     "user": {
      "displayName": "Daniel Anton",
      "photoUrl": "",
      "userId": "07817160354765211624"
     }
    },
    "outputId": "fcc3db04-6550-42d2-d6ca-ddcaa39a2b02",
    "cell_id": "00059-68563b2b-74ef-4e6b-b767-ae66f9d77c54",
    "deepnote_to_be_reexecuted": false,
    "source_hash": "7cd185b4",
    "execution_start": 1624549186082,
    "execution_millis": 11,
    "deepnote_cell_type": "code"
   },
   "source": "df_movies.isnull().sum()",
   "execution_count": null,
   "outputs": [
    {
     "output_type": "execute_result",
     "execution_count": 21,
     "data": {
      "text/plain": "rank                  0\ngenre                 0\ndescription           0\ndirector              0\nactors                0\nyear                  0\nruntime               0\nrating                0\nvotes                 0\nrevenue_millions    128\nmetascore            64\ndtype: int64"
     },
     "metadata": {}
    }
   ]
  },
  {
   "cell_type": "markdown",
   "source": "### Removing columns\n\nIf the column contains majority of the missing values (depending on the data-set and problem) but let's say `null > 60%`, then you can consider deleting the column.\n\nIf the column values have no meaning, or have a singular value, consider removing the column too.",
   "metadata": {
    "id": "XV2B9ch6uOeo",
    "cell_id": "00060-6f926c78-e2d6-4e87-a08c-2a19a8de4655",
    "deepnote_cell_type": "markdown"
   }
  },
  {
   "cell_type": "code",
   "metadata": {
    "id": "OUCeJWZJ5f64",
    "colab": {
     "base_uri": "https://localhost:8080/",
     "height": 206
    },
    "executionInfo": {
     "status": "ok",
     "timestamp": 1601830224975,
     "user_tz": -60,
     "elapsed": 705,
     "user": {
      "displayName": "Sharmin Rouf",
      "photoUrl": "",
      "userId": "07014860915014612811"
     }
    },
    "outputId": "618036d3-3e18-4245-d8f9-68285d8ced56",
    "cell_id": "00061-f3655f73-0b40-48ca-89f0-94c06af4e020",
    "deepnote_to_be_reexecuted": false,
    "source_hash": "2c4adcf2",
    "execution_start": 1624549186138,
    "execution_millis": 8,
    "deepnote_cell_type": "code"
   },
   "source": "df_1 = [0, 1, 6, 3, 6]\ndf_2 = [ 7, 2, 1, 7, 6]\n\ndf = list(zip(df_1, df_2))\ncolumn_names = ['apples', 'oranges']\nindex_values = ['Lemur', 'Salmon', \"Kapu\", \"Mato\", \"Rasto\"]\n\ndf = pd.DataFrame(data = df, \n                  columns = column_names, \n                  index = index_values)\ndf",
   "execution_count": null,
   "outputs": [
    {
     "output_type": "execute_result",
     "execution_count": 22,
     "data": {
      "application/vnd.deepnote.dataframe.v2+json": {
       "row_count": 5,
       "column_count": 2,
       "columns": [
        {
         "name": "apples",
         "dtype": "int64",
         "stats": {
          "unique_count": 4,
          "nan_count": 0,
          "min": "0",
          "max": "6",
          "histogram": [
           {
            "bin_start": 0,
            "bin_end": 0.6,
            "count": 1
           },
           {
            "bin_start": 0.6,
            "bin_end": 1.2,
            "count": 1
           },
           {
            "bin_start": 1.2,
            "bin_end": 1.7999999999999998,
            "count": 0
           },
           {
            "bin_start": 1.7999999999999998,
            "bin_end": 2.4,
            "count": 0
           },
           {
            "bin_start": 2.4,
            "bin_end": 3,
            "count": 0
           },
           {
            "bin_start": 3,
            "bin_end": 3.5999999999999996,
            "count": 1
           },
           {
            "bin_start": 3.5999999999999996,
            "bin_end": 4.2,
            "count": 0
           },
           {
            "bin_start": 4.2,
            "bin_end": 4.8,
            "count": 0
           },
           {
            "bin_start": 4.8,
            "bin_end": 5.3999999999999995,
            "count": 0
           },
           {
            "bin_start": 5.3999999999999995,
            "bin_end": 6,
            "count": 2
           }
          ]
         }
        },
        {
         "name": "oranges",
         "dtype": "int64",
         "stats": {
          "unique_count": 4,
          "nan_count": 0,
          "min": "1",
          "max": "7",
          "histogram": [
           {
            "bin_start": 1,
            "bin_end": 1.6,
            "count": 1
           },
           {
            "bin_start": 1.6,
            "bin_end": 2.2,
            "count": 1
           },
           {
            "bin_start": 2.2,
            "bin_end": 2.8,
            "count": 0
           },
           {
            "bin_start": 2.8,
            "bin_end": 3.4,
            "count": 0
           },
           {
            "bin_start": 3.4,
            "bin_end": 4,
            "count": 0
           },
           {
            "bin_start": 4,
            "bin_end": 4.6,
            "count": 0
           },
           {
            "bin_start": 4.6,
            "bin_end": 5.2,
            "count": 0
           },
           {
            "bin_start": 5.2,
            "bin_end": 5.8,
            "count": 0
           },
           {
            "bin_start": 5.8,
            "bin_end": 6.3999999999999995,
            "count": 1
           },
           {
            "bin_start": 6.3999999999999995,
            "bin_end": 7,
            "count": 2
           }
          ]
         }
        },
        {
         "name": "_deepnote_index_column",
         "dtype": "object"
        }
       ],
       "rows_top": [
        {
         "apples": 0,
         "oranges": 7,
         "_deepnote_index_column": "Lemur"
        },
        {
         "apples": 1,
         "oranges": 2,
         "_deepnote_index_column": "Salmon"
        },
        {
         "apples": 6,
         "oranges": 1,
         "_deepnote_index_column": "Kapu"
        },
        {
         "apples": 3,
         "oranges": 7,
         "_deepnote_index_column": "Mato"
        },
        {
         "apples": 6,
         "oranges": 6,
         "_deepnote_index_column": "Rasto"
        }
       ],
       "rows_bottom": null
      },
      "text/plain": "        apples  oranges\nLemur        0        7\nSalmon       1        2\nKapu         6        1\nMato         3        7\nRasto        6        6",
      "text/html": "<div>\n<style scoped>\n    .dataframe tbody tr th:only-of-type {\n        vertical-align: middle;\n    }\n\n    .dataframe tbody tr th {\n        vertical-align: top;\n    }\n\n    .dataframe thead th {\n        text-align: right;\n    }\n</style>\n<table border=\"1\" class=\"dataframe\">\n  <thead>\n    <tr style=\"text-align: right;\">\n      <th></th>\n      <th>apples</th>\n      <th>oranges</th>\n    </tr>\n  </thead>\n  <tbody>\n    <tr>\n      <th>Lemur</th>\n      <td>0</td>\n      <td>7</td>\n    </tr>\n    <tr>\n      <th>Salmon</th>\n      <td>1</td>\n      <td>2</td>\n    </tr>\n    <tr>\n      <th>Kapu</th>\n      <td>6</td>\n      <td>1</td>\n    </tr>\n    <tr>\n      <th>Mato</th>\n      <td>3</td>\n      <td>7</td>\n    </tr>\n    <tr>\n      <th>Rasto</th>\n      <td>6</td>\n      <td>6</td>\n    </tr>\n  </tbody>\n</table>\n</div>"
     },
     "metadata": {}
    }
   ]
  },
  {
   "cell_type": "markdown",
   "source": "To drop the column, use `df.drop()` with `column name`  and `axis = 1` parameters:",
   "metadata": {
    "id": "0jYde2m89clj",
    "cell_id": "00062-a6a9b984-9b68-4f10-862d-c4abaf55ac6b",
    "deepnote_cell_type": "markdown"
   }
  },
  {
   "cell_type": "code",
   "metadata": {
    "id": "z2mWxC3wHQOr",
    "colab": {
     "base_uri": "https://localhost:8080/",
     "height": 206
    },
    "executionInfo": {
     "status": "ok",
     "timestamp": 1601830228159,
     "user_tz": -60,
     "elapsed": 813,
     "user": {
      "displayName": "Sharmin Rouf",
      "photoUrl": "",
      "userId": "07014860915014612811"
     }
    },
    "outputId": "b252b4ae-6df3-40ed-94f0-d895209216f7",
    "cell_id": "00063-37acf5e6-3f10-4c3c-97f6-afc4ec30276e",
    "deepnote_to_be_reexecuted": false,
    "source_hash": "4a194b65",
    "execution_start": 1624549186138,
    "execution_millis": 1,
    "deepnote_cell_type": "code"
   },
   "source": "df.drop(\"apples\",\n        axis=1,\n        inplace=True)\n## if axis = 0 this is rows, axis = 1 is columns",
   "execution_count": null,
   "outputs": []
  },
  {
   "cell_type": "markdown",
   "source": "Notice that `asix = 1`. If you wish to drop a row, you would use `axis = 0`. \n\nTo explain this, if you remmber `.shape` function on `DataFrame`, we get:",
   "metadata": {
    "id": "IQEfbtnd-OOS",
    "cell_id": "00064-cc3241bb-41c0-496e-9511-5a9a67ad15f7",
    "deepnote_cell_type": "markdown"
   }
  },
  {
   "cell_type": "code",
   "metadata": {
    "id": "GP5C8wpc-bFl",
    "colab": {
     "base_uri": "https://localhost:8080/",
     "height": 35
    },
    "executionInfo": {
     "status": "ok",
     "timestamp": 1601830265872,
     "user_tz": -60,
     "elapsed": 708,
     "user": {
      "displayName": "Sharmin Rouf",
      "photoUrl": "",
      "userId": "07014860915014612811"
     }
    },
    "outputId": "b176ac34-1460-4d89-8623-9f22d79b4bfe",
    "cell_id": "00065-e7c31ac1-2a86-4035-bb98-11da2e268631",
    "deepnote_to_be_reexecuted": false,
    "source_hash": "14f60b8f",
    "execution_start": 1624549186139,
    "execution_millis": 7,
    "deepnote_cell_type": "code"
   },
   "source": "df.shape",
   "execution_count": null,
   "outputs": [
    {
     "output_type": "execute_result",
     "execution_count": 24,
     "data": {
      "text/plain": "(5, 1)"
     },
     "metadata": {}
    }
   ]
  },
  {
   "cell_type": "markdown",
   "source": "`5` is number of rows, `2` is number of columns.\n\n`(5,2)` - index `0` contains rows, that is why `axis = 0` affect rows.\n\nLikewise, index `1` contains columns, that is why `axis = 1` affects columns.",
   "metadata": {
    "id": "OIB73D7G-qYi",
    "cell_id": "00066-c9f1db34-db7a-4a0f-97ba-d738e2b7df11",
    "deepnote_cell_type": "markdown"
   }
  },
  {
   "cell_type": "markdown",
   "source": "### Inputation with mean\n\nThe most basic inputation technique is by using mean value of the column. \n\nMore advanced approaches would use selected group of entries to create mean - if an entry with a missing value is a horror genre movie, use only that genre for mean inputation (or use director's list of movies, etc...)\n\nMuch more advanced techniques would create a predictive model out of the data, and would accurately predict the missing values.",
   "metadata": {
    "id": "X6WqZzE_uRgw",
    "cell_id": "00067-b110962d-ff6a-4ca1-b637-45e66165cfd2",
    "deepnote_cell_type": "markdown"
   }
  },
  {
   "cell_type": "markdown",
   "source": "Let's calculate the mean value of the whole column of `revenue_millions`.",
   "metadata": {
    "id": "8-FCVsgU_UKc",
    "cell_id": "00068-4d09f152-2777-4b2a-ac4a-b9812b2e89cc",
    "deepnote_cell_type": "markdown"
   }
  },
  {
   "cell_type": "code",
   "metadata": {
    "id": "8DXNXO6lvUF0",
    "colab": {
     "base_uri": "https://localhost:8080/",
     "height": 35
    },
    "executionInfo": {
     "status": "ok",
     "timestamp": 1601830424315,
     "user_tz": -60,
     "elapsed": 708,
     "user": {
      "displayName": "Sharmin Rouf",
      "photoUrl": "",
      "userId": "07014860915014612811"
     }
    },
    "outputId": "7de554e0-f05f-473a-ae02-d8ca37a5b130",
    "cell_id": "00069-6ddc6402-dcff-40c1-8435-b27e89081048",
    "deepnote_to_be_reexecuted": false,
    "source_hash": "8db344c9",
    "execution_start": 1624549186178,
    "execution_millis": 11,
    "deepnote_cell_type": "code"
   },
   "source": "revenue_mean = df_movies['revenue_millions'].mean()\nrevenue_mean",
   "execution_count": null,
   "outputs": [
    {
     "output_type": "execute_result",
     "execution_count": 25,
     "data": {
      "text/plain": "82.95637614678898"
     },
     "metadata": {}
    }
   ]
  },
  {
   "cell_type": "markdown",
   "source": "Using the mean value, we will use `df.fillna()` with the value we want to replace missing valus with - `revenue_mean` parameter.\n\nWe can use `inplace=True` or we can use `df = df.drop()` approach, they are the same after all.",
   "metadata": {
    "id": "0NAY2F9I_avY",
    "cell_id": "00070-2b70c791-ab17-4a78-ad1c-96bf24b54801",
    "deepnote_cell_type": "markdown"
   }
  },
  {
   "cell_type": "code",
   "metadata": {
    "id": "SLwTSTxsvWLj",
    "cell_id": "00071-0bf2b9df-7476-42c8-88d6-c276ccad57d1",
    "deepnote_to_be_reexecuted": false,
    "source_hash": "6197aa2c",
    "execution_start": 1624549186179,
    "execution_millis": 0,
    "deepnote_cell_type": "code"
   },
   "source": "df_movies['revenue_millions'] = df_movies['revenue_millions'].fillna(revenue_mean) #, inplace=True",
   "execution_count": null,
   "outputs": []
  },
  {
   "cell_type": "markdown",
   "source": "Notice that we used `df_movies['revenue_millions']` not `df_movies`, this is because we only want inpute missing values in the `revenue_millions` column, not the whole data-set. \n\nLet's check the dataset to see if missing values for `revenue_millions` are gone.",
   "metadata": {
    "id": "9dKS113o_5KG",
    "cell_id": "00072-c22d3b32-fbb4-4197-a74f-5c806d8e08f9",
    "deepnote_cell_type": "markdown"
   }
  },
  {
   "cell_type": "code",
   "metadata": {
    "id": "Xq-ROVTzvcnf",
    "colab": {
     "base_uri": "https://localhost:8080/",
     "height": 221
    },
    "executionInfo": {
     "status": "ok",
     "timestamp": 1600999608232,
     "user_tz": -60,
     "elapsed": 428,
     "user": {
      "displayName": "Daniel Anton",
      "photoUrl": "",
      "userId": "07817160354765211624"
     }
    },
    "outputId": "656a338b-f869-4fda-a92e-10f9f8b8ab91",
    "cell_id": "00073-13cba51b-5c8a-414e-afc9-9c863d932127",
    "deepnote_to_be_reexecuted": false,
    "source_hash": "7cd185b4",
    "execution_start": 1624549186179,
    "execution_millis": 10,
    "deepnote_cell_type": "code"
   },
   "source": "df_movies.isnull().sum()",
   "execution_count": null,
   "outputs": [
    {
     "output_type": "execute_result",
     "execution_count": 27,
     "data": {
      "text/plain": "rank                 0\ngenre                0\ndescription          0\ndirector             0\nactors               0\nyear                 0\nruntime              0\nrating               0\nvotes                0\nrevenue_millions     0\nmetascore           64\ndtype: int64"
     },
     "metadata": {}
    }
   ]
  },
  {
   "cell_type": "markdown",
   "source": "#### automatic",
   "metadata": {
    "id": "7WK_LNMbHJy6",
    "cell_id": "00074-7678b87e-717a-484e-907f-f5374edeaf2e",
    "deepnote_cell_type": "markdown"
   }
  },
  {
   "cell_type": "markdown",
   "source": "If we wish to replace all the missing values in the dataset, with the means of their respective columns, use `df.fillna()`. Argument inside `.fillna()` will be `df.mean()` since it returns means of all the columns.",
   "metadata": {
    "id": "JA5gZNFRHM8l",
    "cell_id": "00075-d199917a-294d-4802-876a-586086ec4c15",
    "deepnote_cell_type": "markdown"
   }
  },
  {
   "cell_type": "code",
   "metadata": {
    "tags": [],
    "cell_id": "00070-b874779d-5c19-46d3-8b64-ceca8faf20ea",
    "deepnote_to_be_reexecuted": false,
    "source_hash": "e43b5661",
    "execution_start": 1624549186198,
    "execution_millis": 2,
    "deepnote_cell_type": "code"
   },
   "source": "df_movies.fillna(df_movies.mean(), inplace = True)",
   "execution_count": null,
   "outputs": []
  },
  {
   "cell_type": "markdown",
   "source": "## Understanding variables",
   "metadata": {
    "id": "vybnPHOovmHK",
    "cell_id": "00077-6d897c4a-fbf3-493d-b330-c21afa9de7b8",
    "deepnote_cell_type": "markdown"
   }
  },
  {
   "cell_type": "markdown",
   "source": "`df.describe()` creates a summary of the distribution of continuous variables:",
   "metadata": {
    "id": "_dZpQlJEBQCs",
    "cell_id": "00078-d4283ade-f899-41b7-85be-87324b87d6cf",
    "deepnote_cell_type": "markdown"
   }
  },
  {
   "cell_type": "code",
   "metadata": {
    "tags": [],
    "cell_id": "00073-37f32457-4ac0-48fa-9b92-0f315c04f821",
    "deepnote_to_be_reexecuted": false,
    "source_hash": "be2cab46",
    "execution_start": 1624549780978,
    "execution_millis": 19,
    "deepnote_cell_type": "code"
   },
   "source": "df_movies.sample(2)",
   "execution_count": null,
   "outputs": [
    {
     "output_type": "execute_result",
     "execution_count": 53,
     "data": {
      "application/vnd.deepnote.dataframe.v2+json": {
       "row_count": 2,
       "column_count": 12,
       "columns": [
        {
         "name": "rank",
         "dtype": "int64",
         "stats": {
          "unique_count": 2,
          "nan_count": 0,
          "min": "15",
          "max": "257",
          "histogram": [
           {
            "bin_start": 15,
            "bin_end": 39.2,
            "count": 1
           },
           {
            "bin_start": 39.2,
            "bin_end": 63.4,
            "count": 0
           },
           {
            "bin_start": 63.4,
            "bin_end": 87.6,
            "count": 0
           },
           {
            "bin_start": 87.6,
            "bin_end": 111.8,
            "count": 0
           },
           {
            "bin_start": 111.8,
            "bin_end": 136,
            "count": 0
           },
           {
            "bin_start": 136,
            "bin_end": 160.2,
            "count": 0
           },
           {
            "bin_start": 160.2,
            "bin_end": 184.4,
            "count": 0
           },
           {
            "bin_start": 184.4,
            "bin_end": 208.6,
            "count": 0
           },
           {
            "bin_start": 208.6,
            "bin_end": 232.79999999999998,
            "count": 0
           },
           {
            "bin_start": 232.79999999999998,
            "bin_end": 257,
            "count": 1
           }
          ]
         }
        },
        {
         "name": "genre",
         "dtype": "object",
         "stats": {
          "unique_count": 2,
          "nan_count": 0,
          "categories": [
           {
            "name": "Action,Comedy,Drama",
            "count": 1
           },
           {
            "name": "Action,Adventure,Sci-Fi",
            "count": 1
           }
          ]
         }
        },
        {
         "name": "description",
         "dtype": "object",
         "stats": {
          "unique_count": 2,
          "nan_count": 0,
          "categories": [
           {
            "name": "Gloria is an out-of-work party girl forced to leave her life in New York City, and move back home. When reports surface that a giant creature is destroying Seoul, she gradually comes to the realization that she is somehow connected to this phenomenon.",
            "count": 1
           },
           {
            "name": "A fleet of ships is forced to do battle with an armada of unknown origins in order to discover and thwart their destructive goals.",
            "count": 1
           }
          ]
         }
        },
        {
         "name": "director",
         "dtype": "object",
         "stats": {
          "unique_count": 2,
          "nan_count": 0,
          "categories": [
           {
            "name": "Nacho Vigalondo",
            "count": 1
           },
           {
            "name": "Peter Berg",
            "count": 1
           }
          ]
         }
        },
        {
         "name": "actors",
         "dtype": "object",
         "stats": {
          "unique_count": 2,
          "nan_count": 0,
          "categories": [
           {
            "name": "Anne Hathaway, Jason Sudeikis, Austin Stowell,Tim Blake Nelson",
            "count": 1
           },
           {
            "name": "Alexander Skarsgård, Brooklyn Decker, Liam Neeson,Rihanna",
            "count": 1
           }
          ]
         }
        },
        {
         "name": "year",
         "dtype": "int64",
         "stats": {
          "unique_count": 2,
          "nan_count": 0,
          "min": "2012",
          "max": "2016",
          "histogram": [
           {
            "bin_start": 2012,
            "bin_end": 2012.4,
            "count": 1
           },
           {
            "bin_start": 2012.4,
            "bin_end": 2012.8,
            "count": 0
           },
           {
            "bin_start": 2012.8,
            "bin_end": 2013.2,
            "count": 0
           },
           {
            "bin_start": 2013.2,
            "bin_end": 2013.6,
            "count": 0
           },
           {
            "bin_start": 2013.6,
            "bin_end": 2014,
            "count": 0
           },
           {
            "bin_start": 2014,
            "bin_end": 2014.4,
            "count": 0
           },
           {
            "bin_start": 2014.4,
            "bin_end": 2014.8,
            "count": 0
           },
           {
            "bin_start": 2014.8,
            "bin_end": 2015.2,
            "count": 0
           },
           {
            "bin_start": 2015.2,
            "bin_end": 2015.6,
            "count": 0
           },
           {
            "bin_start": 2015.6,
            "bin_end": 2016,
            "count": 1
           }
          ]
         }
        },
        {
         "name": "runtime",
         "dtype": "int64",
         "stats": {
          "unique_count": 2,
          "nan_count": 0,
          "min": "109",
          "max": "131",
          "histogram": [
           {
            "bin_start": 109,
            "bin_end": 111.2,
            "count": 1
           },
           {
            "bin_start": 111.2,
            "bin_end": 113.4,
            "count": 0
           },
           {
            "bin_start": 113.4,
            "bin_end": 115.6,
            "count": 0
           },
           {
            "bin_start": 115.6,
            "bin_end": 117.8,
            "count": 0
           },
           {
            "bin_start": 117.8,
            "bin_end": 120,
            "count": 0
           },
           {
            "bin_start": 120,
            "bin_end": 122.2,
            "count": 0
           },
           {
            "bin_start": 122.2,
            "bin_end": 124.4,
            "count": 0
           },
           {
            "bin_start": 124.4,
            "bin_end": 126.6,
            "count": 0
           },
           {
            "bin_start": 126.6,
            "bin_end": 128.8,
            "count": 0
           },
           {
            "bin_start": 128.8,
            "bin_end": 131,
            "count": 1
           }
          ]
         }
        },
        {
         "name": "rating",
         "dtype": "float64",
         "stats": {
          "unique_count": 2,
          "nan_count": 0,
          "min": "5.8",
          "max": "6.4",
          "histogram": [
           {
            "bin_start": 5.8,
            "bin_end": 5.859999999999999,
            "count": 1
           },
           {
            "bin_start": 5.859999999999999,
            "bin_end": 5.92,
            "count": 0
           },
           {
            "bin_start": 5.92,
            "bin_end": 5.98,
            "count": 0
           },
           {
            "bin_start": 5.98,
            "bin_end": 6.04,
            "count": 0
           },
           {
            "bin_start": 6.04,
            "bin_end": 6.1,
            "count": 0
           },
           {
            "bin_start": 6.1,
            "bin_end": 6.16,
            "count": 0
           },
           {
            "bin_start": 6.16,
            "bin_end": 6.220000000000001,
            "count": 0
           },
           {
            "bin_start": 6.220000000000001,
            "bin_end": 6.28,
            "count": 0
           },
           {
            "bin_start": 6.28,
            "bin_end": 6.34,
            "count": 0
           },
           {
            "bin_start": 6.34,
            "bin_end": 6.4,
            "count": 1
           }
          ]
         }
        },
        {
         "name": "votes",
         "dtype": "int64",
         "stats": {
          "unique_count": 2,
          "nan_count": 0,
          "min": "8612",
          "max": "210349",
          "histogram": [
           {
            "bin_start": 8612,
            "bin_end": 28785.7,
            "count": 1
           },
           {
            "bin_start": 28785.7,
            "bin_end": 48959.4,
            "count": 0
           },
           {
            "bin_start": 48959.4,
            "bin_end": 69133.1,
            "count": 0
           },
           {
            "bin_start": 69133.1,
            "bin_end": 89306.8,
            "count": 0
           },
           {
            "bin_start": 89306.8,
            "bin_end": 109480.5,
            "count": 0
           },
           {
            "bin_start": 109480.5,
            "bin_end": 129654.20000000001,
            "count": 0
           },
           {
            "bin_start": 129654.20000000001,
            "bin_end": 149827.9,
            "count": 0
           },
           {
            "bin_start": 149827.9,
            "bin_end": 170001.6,
            "count": 0
           },
           {
            "bin_start": 170001.6,
            "bin_end": 190175.30000000002,
            "count": 0
           },
           {
            "bin_start": 190175.30000000002,
            "bin_end": 210349,
            "count": 1
           }
          ]
         }
        },
        {
         "name": "revenue_millions",
         "dtype": "float64",
         "stats": {
          "unique_count": 2,
          "nan_count": 0,
          "min": "2.87",
          "max": "65.17",
          "histogram": [
           {
            "bin_start": 2.87,
            "bin_end": 9.100000000000001,
            "count": 1
           },
           {
            "bin_start": 9.100000000000001,
            "bin_end": 15.330000000000002,
            "count": 0
           },
           {
            "bin_start": 15.330000000000002,
            "bin_end": 21.560000000000002,
            "count": 0
           },
           {
            "bin_start": 21.560000000000002,
            "bin_end": 27.790000000000003,
            "count": 0
           },
           {
            "bin_start": 27.790000000000003,
            "bin_end": 34.02,
            "count": 0
           },
           {
            "bin_start": 34.02,
            "bin_end": 40.25,
            "count": 0
           },
           {
            "bin_start": 40.25,
            "bin_end": 46.48,
            "count": 0
           },
           {
            "bin_start": 46.48,
            "bin_end": 52.71,
            "count": 0
           },
           {
            "bin_start": 52.71,
            "bin_end": 58.940000000000005,
            "count": 0
           },
           {
            "bin_start": 58.940000000000005,
            "bin_end": 65.17,
            "count": 1
           }
          ]
         }
        },
        {
         "name": "metascore",
         "dtype": "float64",
         "stats": {
          "unique_count": 2,
          "nan_count": 0,
          "min": "41.0",
          "max": "70.0",
          "histogram": [
           {
            "bin_start": 41,
            "bin_end": 43.9,
            "count": 1
           },
           {
            "bin_start": 43.9,
            "bin_end": 46.8,
            "count": 0
           },
           {
            "bin_start": 46.8,
            "bin_end": 49.7,
            "count": 0
           },
           {
            "bin_start": 49.7,
            "bin_end": 52.6,
            "count": 0
           },
           {
            "bin_start": 52.6,
            "bin_end": 55.5,
            "count": 0
           },
           {
            "bin_start": 55.5,
            "bin_end": 58.4,
            "count": 0
           },
           {
            "bin_start": 58.4,
            "bin_end": 61.3,
            "count": 0
           },
           {
            "bin_start": 61.3,
            "bin_end": 64.2,
            "count": 0
           },
           {
            "bin_start": 64.2,
            "bin_end": 67.1,
            "count": 0
           },
           {
            "bin_start": 67.1,
            "bin_end": 70,
            "count": 1
           }
          ]
         }
        },
        {
         "name": "rating_category",
         "dtype": "object",
         "stats": {
          "unique_count": 1,
          "nan_count": 0,
          "categories": [
           {
            "name": "bad",
            "count": 2
           }
          ]
         }
        },
        {
         "name": "_deepnote_index_column",
         "dtype": "object"
        }
       ],
       "rows_top": [
        {
         "rank": 15,
         "genre": "Action,Comedy,Drama",
         "description": "Gloria is an out-of-work party girl forced to leave her life in New York City, and move back home. …",
         "director": "Nacho Vigalondo",
         "actors": "Anne Hathaway, Jason Sudeikis, Austin Stowell,Tim Blake Nelson",
         "year": 2016,
         "runtime": 109,
         "rating": 6.4,
         "votes": 8612,
         "revenue_millions": 2.87,
         "metascore": 70,
         "rating_category": "bad",
         "_deepnote_index_column": "Colossal"
        },
        {
         "rank": 257,
         "genre": "Action,Adventure,Sci-Fi",
         "description": "A fleet of ships is forced to do battle with an armada of unknown origins in order to discover and …",
         "director": "Peter Berg",
         "actors": "Alexander Skarsgård, Brooklyn Decker, Liam Neeson,Rihanna",
         "year": 2012,
         "runtime": 131,
         "rating": 5.8,
         "votes": 210349,
         "revenue_millions": 65.17,
         "metascore": 41,
         "rating_category": "bad",
         "_deepnote_index_column": "Battleship"
        }
       ],
       "rows_bottom": null
      },
      "text/plain": "            rank                    genre  \\\nTitle                                       \nColossal      15      Action,Comedy,Drama   \nBattleship   257  Action,Adventure,Sci-Fi   \n\n                                                  description  \\\nTitle                                                           \nColossal    Gloria is an out-of-work party girl forced to ...   \nBattleship  A fleet of ships is forced to do battle with a...   \n\n                   director  \\\nTitle                         \nColossal    Nacho Vigalondo   \nBattleship       Peter Berg   \n\n                                                       actors  year  runtime  \\\nTitle                                                                          \nColossal    Anne Hathaway, Jason Sudeikis, Austin Stowell,...  2016      109   \nBattleship  Alexander Skarsgård, Brooklyn Decker, Liam Nee...  2012      131   \n\n            rating   votes  revenue_millions  metascore rating_category  \nTitle                                                                    \nColossal       6.4    8612              2.87       70.0             bad  \nBattleship     5.8  210349             65.17       41.0             bad  ",
      "text/html": "<div>\n<style scoped>\n    .dataframe tbody tr th:only-of-type {\n        vertical-align: middle;\n    }\n\n    .dataframe tbody tr th {\n        vertical-align: top;\n    }\n\n    .dataframe thead th {\n        text-align: right;\n    }\n</style>\n<table border=\"1\" class=\"dataframe\">\n  <thead>\n    <tr style=\"text-align: right;\">\n      <th></th>\n      <th>rank</th>\n      <th>genre</th>\n      <th>description</th>\n      <th>director</th>\n      <th>actors</th>\n      <th>year</th>\n      <th>runtime</th>\n      <th>rating</th>\n      <th>votes</th>\n      <th>revenue_millions</th>\n      <th>metascore</th>\n      <th>rating_category</th>\n    </tr>\n    <tr>\n      <th>Title</th>\n      <th></th>\n      <th></th>\n      <th></th>\n      <th></th>\n      <th></th>\n      <th></th>\n      <th></th>\n      <th></th>\n      <th></th>\n      <th></th>\n      <th></th>\n      <th></th>\n    </tr>\n  </thead>\n  <tbody>\n    <tr>\n      <th>Colossal</th>\n      <td>15</td>\n      <td>Action,Comedy,Drama</td>\n      <td>Gloria is an out-of-work party girl forced to ...</td>\n      <td>Nacho Vigalondo</td>\n      <td>Anne Hathaway, Jason Sudeikis, Austin Stowell,...</td>\n      <td>2016</td>\n      <td>109</td>\n      <td>6.4</td>\n      <td>8612</td>\n      <td>2.87</td>\n      <td>70.0</td>\n      <td>bad</td>\n    </tr>\n    <tr>\n      <th>Battleship</th>\n      <td>257</td>\n      <td>Action,Adventure,Sci-Fi</td>\n      <td>A fleet of ships is forced to do battle with a...</td>\n      <td>Peter Berg</td>\n      <td>Alexander Skarsgård, Brooklyn Decker, Liam Nee...</td>\n      <td>2012</td>\n      <td>131</td>\n      <td>5.8</td>\n      <td>210349</td>\n      <td>65.17</td>\n      <td>41.0</td>\n      <td>bad</td>\n    </tr>\n  </tbody>\n</table>\n</div>"
     },
     "metadata": {}
    }
   ]
  },
  {
   "cell_type": "code",
   "metadata": {
    "id": "VheewNJLvphG",
    "colab": {
     "base_uri": "https://localhost:8080/",
     "height": 297
    },
    "executionInfo": {
     "status": "ok",
     "timestamp": 1600743450985,
     "user_tz": -60,
     "elapsed": 467,
     "user": {
      "displayName": "Daniel Anton",
      "photoUrl": "",
      "userId": "07817160354765211624"
     }
    },
    "outputId": "b521a23e-e575-495c-d10d-5e2acd6aa871",
    "cell_id": "00079-8f408d72-90d2-45f9-ae35-b80d0e593f5b",
    "deepnote_to_be_reexecuted": false,
    "source_hash": "c4ce3342",
    "execution_start": 1624549186249,
    "execution_millis": 35,
    "deepnote_cell_type": "code"
   },
   "source": "df_movies.describe()",
   "execution_count": null,
   "outputs": [
    {
     "output_type": "execute_result",
     "execution_count": 29,
     "data": {
      "application/vnd.deepnote.dataframe.v2+json": {
       "row_count": 8,
       "column_count": 7,
       "columns": [
        {
         "name": "rank",
         "dtype": "float64",
         "stats": {
          "unique_count": 6,
          "nan_count": 0,
          "min": "1.0",
          "max": "1000.0",
          "histogram": [
           {
            "bin_start": 1,
            "bin_end": 100.9,
            "count": 1
           },
           {
            "bin_start": 100.9,
            "bin_end": 200.8,
            "count": 0
           },
           {
            "bin_start": 200.8,
            "bin_end": 300.70000000000005,
            "count": 2
           },
           {
            "bin_start": 300.70000000000005,
            "bin_end": 400.6,
            "count": 0
           },
           {
            "bin_start": 400.6,
            "bin_end": 500.5,
            "count": 0
           },
           {
            "bin_start": 500.5,
            "bin_end": 600.4000000000001,
            "count": 2
           },
           {
            "bin_start": 600.4000000000001,
            "bin_end": 700.3000000000001,
            "count": 0
           },
           {
            "bin_start": 700.3000000000001,
            "bin_end": 800.2,
            "count": 1
           },
           {
            "bin_start": 800.2,
            "bin_end": 900.1,
            "count": 0
           },
           {
            "bin_start": 900.1,
            "bin_end": 1000,
            "count": 2
           }
          ]
         }
        },
        {
         "name": "year",
         "dtype": "float64",
         "stats": {
          "unique_count": 7,
          "nan_count": 0,
          "min": "3.205961507752267",
          "max": "2016.0",
          "histogram": [
           {
            "bin_start": 3.205961507752267,
            "bin_end": 204.48536535697704,
            "count": 1
           },
           {
            "bin_start": 204.48536535697704,
            "bin_end": 405.7647692062018,
            "count": 0
           },
           {
            "bin_start": 405.7647692062018,
            "bin_end": 607.0441730554265,
            "count": 0
           },
           {
            "bin_start": 607.0441730554265,
            "bin_end": 808.3235769046513,
            "count": 0
           },
           {
            "bin_start": 808.3235769046513,
            "bin_end": 1009.6029807538761,
            "count": 1
           },
           {
            "bin_start": 1009.6029807538761,
            "bin_end": 1210.882384603101,
            "count": 0
           },
           {
            "bin_start": 1210.882384603101,
            "bin_end": 1412.1617884523257,
            "count": 0
           },
           {
            "bin_start": 1412.1617884523257,
            "bin_end": 1613.4411923015505,
            "count": 0
           },
           {
            "bin_start": 1613.4411923015505,
            "bin_end": 1814.7205961507752,
            "count": 0
           },
           {
            "bin_start": 1814.7205961507752,
            "bin_end": 2016,
            "count": 6
           }
          ]
         }
        },
        {
         "name": "runtime",
         "dtype": "float64",
         "stats": {
          "unique_count": 8,
          "nan_count": 0,
          "min": "18.810908172288393",
          "max": "1000.0",
          "histogram": [
           {
            "bin_start": 18.810908172288393,
            "bin_end": 116.92981735505955,
            "count": 5
           },
           {
            "bin_start": 116.92981735505955,
            "bin_end": 215.0487265378307,
            "count": 2
           },
           {
            "bin_start": 215.0487265378307,
            "bin_end": 313.1676357206019,
            "count": 0
           },
           {
            "bin_start": 313.1676357206019,
            "bin_end": 411.28654490337306,
            "count": 0
           },
           {
            "bin_start": 411.28654490337306,
            "bin_end": 509.40545408614423,
            "count": 0
           },
           {
            "bin_start": 509.40545408614423,
            "bin_end": 607.5243632689153,
            "count": 0
           },
           {
            "bin_start": 607.5243632689153,
            "bin_end": 705.6432724516865,
            "count": 0
           },
           {
            "bin_start": 705.6432724516865,
            "bin_end": 803.7621816344576,
            "count": 0
           },
           {
            "bin_start": 803.7621816344576,
            "bin_end": 901.8810908172288,
            "count": 0
           },
           {
            "bin_start": 901.8810908172288,
            "bin_end": 1000,
            "count": 1
           }
          ]
         }
        },
        {
         "name": "rating",
         "dtype": "float64",
         "stats": {
          "unique_count": 8,
          "nan_count": 0,
          "min": "0.9454287892779634",
          "max": "1000.0",
          "histogram": [
           {
            "bin_start": 0.9454287892779634,
            "bin_end": 100.85088591035017,
            "count": 7
           },
           {
            "bin_start": 100.85088591035017,
            "bin_end": 200.75634303142238,
            "count": 0
           },
           {
            "bin_start": 200.75634303142238,
            "bin_end": 300.66180015249455,
            "count": 0
           },
           {
            "bin_start": 300.66180015249455,
            "bin_end": 400.5672572735668,
            "count": 0
           },
           {
            "bin_start": 400.5672572735668,
            "bin_end": 500.472714394639,
            "count": 0
           },
           {
            "bin_start": 500.472714394639,
            "bin_end": 600.3781715157111,
            "count": 0
           },
           {
            "bin_start": 600.3781715157111,
            "bin_end": 700.2836286367833,
            "count": 0
           },
           {
            "bin_start": 700.2836286367833,
            "bin_end": 800.1890857578555,
            "count": 0
           },
           {
            "bin_start": 800.1890857578555,
            "bin_end": 900.0945428789278,
            "count": 0
           },
           {
            "bin_start": 900.0945428789278,
            "bin_end": 1000,
            "count": 1
           }
          ]
         }
        },
        {
         "name": "votes",
         "dtype": "float64",
         "stats": {
          "unique_count": 8,
          "nan_count": 0,
          "min": "61.0",
          "max": "1791916.0",
          "histogram": [
           {
            "bin_start": 61,
            "bin_end": 179246.5,
            "count": 5
           },
           {
            "bin_start": 179246.5,
            "bin_end": 358432,
            "count": 2
           },
           {
            "bin_start": 358432,
            "bin_end": 537617.5,
            "count": 0
           },
           {
            "bin_start": 537617.5,
            "bin_end": 716803,
            "count": 0
           },
           {
            "bin_start": 716803,
            "bin_end": 895988.5,
            "count": 0
           },
           {
            "bin_start": 895988.5,
            "bin_end": 1075174,
            "count": 0
           },
           {
            "bin_start": 1075174,
            "bin_end": 1254359.5,
            "count": 0
           },
           {
            "bin_start": 1254359.5,
            "bin_end": 1433545,
            "count": 0
           },
           {
            "bin_start": 1433545,
            "bin_end": 1612730.5,
            "count": 0
           },
           {
            "bin_start": 1612730.5,
            "bin_end": 1791916,
            "count": 1
           }
          ]
         }
        },
        {
         "name": "revenue_millions",
         "dtype": "float64",
         "stats": {
          "unique_count": 8,
          "nan_count": 0,
          "min": "0.0",
          "max": "1000.0",
          "histogram": [
           {
            "bin_start": 0,
            "bin_end": 100,
            "count": 6
           },
           {
            "bin_start": 100,
            "bin_end": 200,
            "count": 0
           },
           {
            "bin_start": 200,
            "bin_end": 300,
            "count": 0
           },
           {
            "bin_start": 300,
            "bin_end": 400,
            "count": 0
           },
           {
            "bin_start": 400,
            "bin_end": 500,
            "count": 0
           },
           {
            "bin_start": 500,
            "bin_end": 600,
            "count": 0
           },
           {
            "bin_start": 600,
            "bin_end": 700,
            "count": 0
           },
           {
            "bin_start": 700,
            "bin_end": 800,
            "count": 0
           },
           {
            "bin_start": 800,
            "bin_end": 900,
            "count": 0
           },
           {
            "bin_start": 900,
            "bin_end": 1000,
            "count": 2
           }
          ]
         }
        },
        {
         "name": "metascore",
         "dtype": "float64",
         "stats": {
          "unique_count": 7,
          "nan_count": 0,
          "min": "11.0",
          "max": "1000.0",
          "histogram": [
           {
            "bin_start": 11,
            "bin_end": 109.9,
            "count": 7
           },
           {
            "bin_start": 109.9,
            "bin_end": 208.8,
            "count": 0
           },
           {
            "bin_start": 208.8,
            "bin_end": 307.70000000000005,
            "count": 0
           },
           {
            "bin_start": 307.70000000000005,
            "bin_end": 406.6,
            "count": 0
           },
           {
            "bin_start": 406.6,
            "bin_end": 505.5,
            "count": 0
           },
           {
            "bin_start": 505.5,
            "bin_end": 604.4000000000001,
            "count": 0
           },
           {
            "bin_start": 604.4000000000001,
            "bin_end": 703.3000000000001,
            "count": 0
           },
           {
            "bin_start": 703.3000000000001,
            "bin_end": 802.2,
            "count": 0
           },
           {
            "bin_start": 802.2,
            "bin_end": 901.1,
            "count": 0
           },
           {
            "bin_start": 901.1,
            "bin_end": 1000,
            "count": 1
           }
          ]
         }
        },
        {
         "name": "_deepnote_index_column",
         "dtype": "object"
        }
       ],
       "rows_top": [
        {
         "rank": 1000,
         "year": 1000,
         "runtime": 1000,
         "rating": 1000,
         "votes": 1000,
         "revenue_millions": 1000,
         "metascore": 1000,
         "_deepnote_index_column": "count"
        },
        {
         "rank": 500.5,
         "year": 2012.783,
         "runtime": 113.172,
         "rating": 6.723199999999999,
         "votes": 169808.255,
         "revenue_millions": 82.95637614678898,
         "metascore": 58.98504273504273,
         "_deepnote_index_column": "mean"
        },
        {
         "rank": 288.8194360957494,
         "year": 3.205961507752267,
         "runtime": 18.810908172288393,
         "rating": 0.9454287892779634,
         "votes": 188762.6475182208,
         "revenue_millions": 96.41204294886712,
         "metascore": 16.634858253300447,
         "_deepnote_index_column": "std"
        },
        {
         "rank": 1,
         "year": 2006,
         "runtime": 66,
         "rating": 1.9,
         "votes": 61,
         "revenue_millions": 0,
         "metascore": 11,
         "_deepnote_index_column": "min"
        },
        {
         "rank": 250.75,
         "year": 2010,
         "runtime": 100,
         "rating": 6.2,
         "votes": 36309,
         "revenue_millions": 17.4425,
         "metascore": 47.75,
         "_deepnote_index_column": "25%"
        },
        {
         "rank": 500.5,
         "year": 2014,
         "runtime": 111,
         "rating": 6.8,
         "votes": 110799,
         "revenue_millions": 60.375,
         "metascore": 58.98504273504273,
         "_deepnote_index_column": "50%"
        },
        {
         "rank": 750.25,
         "year": 2016,
         "runtime": 123,
         "rating": 7.4,
         "votes": 239909.75,
         "revenue_millions": 99.17750000000001,
         "metascore": 71,
         "_deepnote_index_column": "75%"
        },
        {
         "rank": 1000,
         "year": 2016,
         "runtime": 191,
         "rating": 9,
         "votes": 1791916,
         "revenue_millions": 936.63,
         "metascore": 100,
         "_deepnote_index_column": "max"
        }
       ],
       "rows_bottom": null
      },
      "text/plain": "              rank         year      runtime       rating         votes  \\\ncount  1000.000000  1000.000000  1000.000000  1000.000000  1.000000e+03   \nmean    500.500000  2012.783000   113.172000     6.723200  1.698083e+05   \nstd     288.819436     3.205962    18.810908     0.945429  1.887626e+05   \nmin       1.000000  2006.000000    66.000000     1.900000  6.100000e+01   \n25%     250.750000  2010.000000   100.000000     6.200000  3.630900e+04   \n50%     500.500000  2014.000000   111.000000     6.800000  1.107990e+05   \n75%     750.250000  2016.000000   123.000000     7.400000  2.399098e+05   \nmax    1000.000000  2016.000000   191.000000     9.000000  1.791916e+06   \n\n       revenue_millions    metascore  \ncount       1000.000000  1000.000000  \nmean          82.956376    58.985043  \nstd           96.412043    16.634858  \nmin            0.000000    11.000000  \n25%           17.442500    47.750000  \n50%           60.375000    58.985043  \n75%           99.177500    71.000000  \nmax          936.630000   100.000000  ",
      "text/html": "<div>\n<style scoped>\n    .dataframe tbody tr th:only-of-type {\n        vertical-align: middle;\n    }\n\n    .dataframe tbody tr th {\n        vertical-align: top;\n    }\n\n    .dataframe thead th {\n        text-align: right;\n    }\n</style>\n<table border=\"1\" class=\"dataframe\">\n  <thead>\n    <tr style=\"text-align: right;\">\n      <th></th>\n      <th>rank</th>\n      <th>year</th>\n      <th>runtime</th>\n      <th>rating</th>\n      <th>votes</th>\n      <th>revenue_millions</th>\n      <th>metascore</th>\n    </tr>\n  </thead>\n  <tbody>\n    <tr>\n      <th>count</th>\n      <td>1000.000000</td>\n      <td>1000.000000</td>\n      <td>1000.000000</td>\n      <td>1000.000000</td>\n      <td>1.000000e+03</td>\n      <td>1000.000000</td>\n      <td>1000.000000</td>\n    </tr>\n    <tr>\n      <th>mean</th>\n      <td>500.500000</td>\n      <td>2012.783000</td>\n      <td>113.172000</td>\n      <td>6.723200</td>\n      <td>1.698083e+05</td>\n      <td>82.956376</td>\n      <td>58.985043</td>\n    </tr>\n    <tr>\n      <th>std</th>\n      <td>288.819436</td>\n      <td>3.205962</td>\n      <td>18.810908</td>\n      <td>0.945429</td>\n      <td>1.887626e+05</td>\n      <td>96.412043</td>\n      <td>16.634858</td>\n    </tr>\n    <tr>\n      <th>min</th>\n      <td>1.000000</td>\n      <td>2006.000000</td>\n      <td>66.000000</td>\n      <td>1.900000</td>\n      <td>6.100000e+01</td>\n      <td>0.000000</td>\n      <td>11.000000</td>\n    </tr>\n    <tr>\n      <th>25%</th>\n      <td>250.750000</td>\n      <td>2010.000000</td>\n      <td>100.000000</td>\n      <td>6.200000</td>\n      <td>3.630900e+04</td>\n      <td>17.442500</td>\n      <td>47.750000</td>\n    </tr>\n    <tr>\n      <th>50%</th>\n      <td>500.500000</td>\n      <td>2014.000000</td>\n      <td>111.000000</td>\n      <td>6.800000</td>\n      <td>1.107990e+05</td>\n      <td>60.375000</td>\n      <td>58.985043</td>\n    </tr>\n    <tr>\n      <th>75%</th>\n      <td>750.250000</td>\n      <td>2016.000000</td>\n      <td>123.000000</td>\n      <td>7.400000</td>\n      <td>2.399098e+05</td>\n      <td>99.177500</td>\n      <td>71.000000</td>\n    </tr>\n    <tr>\n      <th>max</th>\n      <td>1000.000000</td>\n      <td>2016.000000</td>\n      <td>191.000000</td>\n      <td>9.000000</td>\n      <td>1.791916e+06</td>\n      <td>936.630000</td>\n      <td>100.000000</td>\n    </tr>\n  </tbody>\n</table>\n</div>"
     },
     "metadata": {}
    }
   ]
  },
  {
   "cell_type": "markdown",
   "source": "`df.describe()` can be used on categorical variables too:",
   "metadata": {
    "id": "ef_xVCT6BcRP",
    "cell_id": "00080-9b4c828e-3ecb-40a4-b4d8-4d7052c20648",
    "deepnote_cell_type": "markdown"
   }
  },
  {
   "cell_type": "code",
   "metadata": {
    "id": "nbJMT6V7vvyX",
    "colab": {
     "base_uri": "https://localhost:8080/",
     "height": 102
    },
    "executionInfo": {
     "status": "ok",
     "timestamp": 1600743476821,
     "user_tz": -60,
     "elapsed": 472,
     "user": {
      "displayName": "Daniel Anton",
      "photoUrl": "",
      "userId": "07817160354765211624"
     }
    },
    "outputId": "43a8460c-1cb6-4290-9ffa-1d5925581bb4",
    "cell_id": "00081-7cab6799-9f95-4418-bbbf-4d02b1c8de70",
    "deepnote_to_be_reexecuted": false,
    "source_hash": "7ffdbeac",
    "execution_start": 1624550145634,
    "execution_millis": 16,
    "deepnote_cell_type": "code"
   },
   "source": "df_movies['description'].describe()",
   "execution_count": null,
   "outputs": [
    {
     "output_type": "execute_result",
     "execution_count": 72,
     "data": {
      "text/plain": "count                                                  1000\nunique                                                 1000\ntop       Caught between a forbidden romance and the exp...\nfreq                                                      1\nName: description, dtype: object"
     },
     "metadata": {}
    }
   ]
  },
  {
   "cell_type": "code",
   "metadata": {
    "tags": [],
    "cell_id": "00077-6c7e817a-e740-4217-bd33-3ce88918f81d",
    "deepnote_to_be_reexecuted": false,
    "source_hash": "93f99e0b",
    "execution_start": 1624549956265,
    "execution_millis": 12,
    "deepnote_cell_type": "code"
   },
   "source": "df_movies['genre'].value_counts().head(10)",
   "execution_count": null,
   "outputs": [
    {
     "output_type": "execute_result",
     "execution_count": 67,
     "data": {
      "text/plain": "Action,Adventure,Sci-Fi       50\nDrama                         48\nComedy,Drama,Romance          35\nComedy                        32\nDrama,Romance                 31\nComedy,Drama                  27\nAnimation,Adventure,Comedy    27\nAction,Adventure,Fantasy      27\nComedy,Romance                26\nCrime,Drama,Thriller          24\nName: genre, dtype: int64"
     },
     "metadata": {}
    }
   ]
  },
  {
   "cell_type": "markdown",
   "source": "This tells us that the genre column has `207 unique values`, the `top value` is Action/Adventure/Sci-Fi, which shows up 50 times (freq).\n\n`df.value_counts()` can tell us the frequency of all values in a column:",
   "metadata": {
    "id": "TmbHTkCcB9qh",
    "cell_id": "00082-1746a67d-77e2-41a3-86c9-e339b6a917f5",
    "deepnote_cell_type": "markdown"
   }
  },
  {
   "cell_type": "markdown",
   "source": "## Correlation between variables\n\n`df.corr()` generates the relationship between each continuous variable.\n\nWhen preparing data for the model, it is important to remove highly correlated variables, this is because if correlation is close to 1 or -1, one variable perfectly explains the other, in other words, one is just a simple multiple of the other one, this means one of the variables would not provide any extra information in the model, it would only make it worse because of including more variables. ( we will talk about this in later lectures, and about `curse of dimmensionality`)",
   "metadata": {
    "id": "t39bqBPqv2iG",
    "cell_id": "00084-ed24ab5f-7b55-4175-97dd-d26d3b2ae66c",
    "deepnote_cell_type": "markdown"
   }
  },
  {
   "cell_type": "markdown",
   "source": "Positive numbers indicate a positive correlation — one goes up the other goes up — and negative numbers represent an inverse correlation — one goes up the other goes down. 1.0 indicates a perfect correlation, -1.0 indicates a perfect negative correlation.",
   "metadata": {
    "id": "k74FK1ZYCU13",
    "cell_id": "00085-c8594450-f959-4170-982f-bde003d2d5d1",
    "deepnote_cell_type": "markdown"
   }
  },
  {
   "cell_type": "code",
   "metadata": {
    "id": "xJjqxrZDv484",
    "colab": {
     "base_uri": "https://localhost:8080/",
     "height": 266
    },
    "executionInfo": {
     "status": "ok",
     "timestamp": 1600743519455,
     "user_tz": -60,
     "elapsed": 400,
     "user": {
      "displayName": "Daniel Anton",
      "photoUrl": "",
      "userId": "07817160354765211624"
     }
    },
    "outputId": "463bca54-962d-46be-dc8f-bec43cf38479",
    "cell_id": "00086-63c55a63-93bc-4455-a0e6-cb2b29089725",
    "deepnote_to_be_reexecuted": false,
    "source_hash": "8222144c",
    "execution_start": 1624550260001,
    "execution_millis": 54,
    "deepnote_cell_type": "code"
   },
   "source": "df_movies.corr()",
   "execution_count": null,
   "outputs": [
    {
     "output_type": "execute_result",
     "execution_count": 73,
     "data": {
      "application/vnd.deepnote.dataframe.v2+json": {
       "row_count": 7,
       "column_count": 7,
       "columns": [
        {
         "name": "rank",
         "dtype": "float64",
         "stats": {
          "unique_count": 7,
          "nan_count": 0,
          "min": "-0.2838760341385045",
          "max": "1.0",
          "histogram": [
           {
            "bin_start": -0.2838760341385045,
            "bin_end": -0.15548843072465404,
            "count": 6
           },
           {
            "bin_start": -0.15548843072465404,
            "bin_end": -0.0271008273108036,
            "count": 0
           },
           {
            "bin_start": -0.0271008273108036,
            "bin_end": 0.10128677610304682,
            "count": 0
           },
           {
            "bin_start": 0.10128677610304682,
            "bin_end": 0.2296743795168973,
            "count": 0
           },
           {
            "bin_start": 0.2296743795168973,
            "bin_end": 0.35806198293074776,
            "count": 0
           },
           {
            "bin_start": 0.35806198293074776,
            "bin_end": 0.4864495863445981,
            "count": 0
           },
           {
            "bin_start": 0.4864495863445981,
            "bin_end": 0.6148371897584486,
            "count": 0
           },
           {
            "bin_start": 0.6148371897584486,
            "bin_end": 0.7432247931722991,
            "count": 0
           },
           {
            "bin_start": 0.7432247931722991,
            "bin_end": 0.8716123965861495,
            "count": 0
           },
           {
            "bin_start": 0.8716123965861495,
            "bin_end": 1,
            "count": 1
           }
          ]
         }
        },
        {
         "name": "year",
         "dtype": "float64",
         "stats": {
          "unique_count": 7,
          "nan_count": 0,
          "min": "-0.4119038190154861",
          "max": "1.0",
          "histogram": [
           {
            "bin_start": -0.4119038190154861,
            "bin_end": -0.27071343711393747,
            "count": 1
           },
           {
            "bin_start": -0.27071343711393747,
            "bin_end": -0.12952305521238888,
            "count": 3
           },
           {
            "bin_start": -0.12952305521238888,
            "bin_end": 0.011667326689159707,
            "count": 2
           },
           {
            "bin_start": 0.011667326689159707,
            "bin_end": 0.15285770859070835,
            "count": 0
           },
           {
            "bin_start": 0.15285770859070835,
            "bin_end": 0.294048090492257,
            "count": 0
           },
           {
            "bin_start": 0.294048090492257,
            "bin_end": 0.43523847239380553,
            "count": 0
           },
           {
            "bin_start": 0.43523847239380553,
            "bin_end": 0.5764288542953542,
            "count": 0
           },
           {
            "bin_start": 0.5764288542953542,
            "bin_end": 0.7176192361969028,
            "count": 0
           },
           {
            "bin_start": 0.7176192361969028,
            "bin_end": 0.8588096180984514,
            "count": 0
           },
           {
            "bin_start": 0.8588096180984514,
            "bin_end": 1,
            "count": 1
           }
          ]
         }
        },
        {
         "name": "runtime",
         "dtype": "float64",
         "stats": {
          "unique_count": 7,
          "nan_count": 0,
          "min": "-0.22173927488469355",
          "max": "1.0",
          "histogram": [
           {
            "bin_start": -0.22173927488469355,
            "bin_end": -0.09956534739622419,
            "count": 2
           },
           {
            "bin_start": -0.09956534739622419,
            "bin_end": 0.022608580092245173,
            "count": 0
           },
           {
            "bin_start": 0.022608580092245173,
            "bin_end": 0.14478250758071456,
            "count": 0
           },
           {
            "bin_start": 0.14478250758071456,
            "bin_end": 0.2669564350691839,
            "count": 2
           },
           {
            "bin_start": 0.2669564350691839,
            "bin_end": 0.3891303625576532,
            "count": 0
           },
           {
            "bin_start": 0.3891303625576532,
            "bin_end": 0.5113042900461227,
            "count": 2
           },
           {
            "bin_start": 0.5113042900461227,
            "bin_end": 0.633478217534592,
            "count": 0
           },
           {
            "bin_start": 0.633478217534592,
            "bin_end": 0.7556521450230613,
            "count": 0
           },
           {
            "bin_start": 0.7556521450230613,
            "bin_end": 0.8778260725115308,
            "count": 0
           },
           {
            "bin_start": 0.8778260725115308,
            "bin_end": 1,
            "count": 1
           }
          ]
         }
        },
        {
         "name": "rating",
         "dtype": "float64",
         "stats": {
          "unique_count": 7,
          "nan_count": 0,
          "min": "-0.2195552054556739",
          "max": "1.0",
          "histogram": [
           {
            "bin_start": -0.2195552054556739,
            "bin_end": -0.0975996849101065,
            "count": 2
           },
           {
            "bin_start": -0.0975996849101065,
            "bin_end": 0.0243558356354609,
            "count": 0
           },
           {
            "bin_start": 0.0243558356354609,
            "bin_end": 0.14631135618102828,
            "count": 0
           },
           {
            "bin_start": 0.14631135618102828,
            "bin_end": 0.26826687672659566,
            "count": 1
           },
           {
            "bin_start": 0.26826687672659566,
            "bin_end": 0.3902223972721631,
            "count": 0
           },
           {
            "bin_start": 0.3902223972721631,
            "bin_end": 0.5121779178177305,
            "count": 2
           },
           {
            "bin_start": 0.5121779178177305,
            "bin_end": 0.6341334383632979,
            "count": 1
           },
           {
            "bin_start": 0.6341334383632979,
            "bin_end": 0.7560889589088653,
            "count": 0
           },
           {
            "bin_start": 0.7560889589088653,
            "bin_end": 0.8780444794544328,
            "count": 0
           },
           {
            "bin_start": 0.8780444794544328,
            "bin_end": 1,
            "count": 1
           }
          ]
         }
        },
        {
         "name": "votes",
         "dtype": "float64",
         "stats": {
          "unique_count": 7,
          "nan_count": 0,
          "min": "-0.4119038190154861",
          "max": "1.0",
          "histogram": [
           {
            "bin_start": -0.4119038190154861,
            "bin_end": -0.27071343711393747,
            "count": 2
           },
           {
            "bin_start": -0.27071343711393747,
            "bin_end": -0.12952305521238888,
            "count": 0
           },
           {
            "bin_start": -0.12952305521238888,
            "bin_end": 0.011667326689159707,
            "count": 0
           },
           {
            "bin_start": 0.011667326689159707,
            "bin_end": 0.15285770859070835,
            "count": 0
           },
           {
            "bin_start": 0.15285770859070835,
            "bin_end": 0.294048090492257,
            "count": 0
           },
           {
            "bin_start": 0.294048090492257,
            "bin_end": 0.43523847239380553,
            "count": 2
           },
           {
            "bin_start": 0.43523847239380553,
            "bin_end": 0.5764288542953542,
            "count": 1
           },
           {
            "bin_start": 0.5764288542953542,
            "bin_end": 0.7176192361969028,
            "count": 1
           },
           {
            "bin_start": 0.7176192361969028,
            "bin_end": 0.8588096180984514,
            "count": 0
           },
           {
            "bin_start": 0.8588096180984514,
            "bin_end": 1,
            "count": 1
           }
          ]
         }
        },
        {
         "name": "revenue_millions",
         "dtype": "float64",
         "stats": {
          "unique_count": 7,
          "nan_count": 0,
          "min": "-0.2529958539941678",
          "max": "1.0",
          "histogram": [
           {
            "bin_start": -0.2529958539941678,
            "bin_end": -0.12769626859475103,
            "count": 1
           },
           {
            "bin_start": -0.12769626859475103,
            "bin_end": -0.0023966831953342593,
            "count": 1
           },
           {
            "bin_start": -0.0023966831953342593,
            "bin_end": 0.12290290220408251,
            "count": 0
           },
           {
            "bin_start": 0.12290290220408251,
            "bin_end": 0.24820248760349928,
            "count": 3
           },
           {
            "bin_start": 0.24820248760349928,
            "bin_end": 0.37350207300291605,
            "count": 0
           },
           {
            "bin_start": 0.37350207300291605,
            "bin_end": 0.4988016584023328,
            "count": 0
           },
           {
            "bin_start": 0.4988016584023328,
            "bin_end": 0.6241012438017496,
            "count": 1
           },
           {
            "bin_start": 0.6241012438017496,
            "bin_end": 0.7494008292011664,
            "count": 0
           },
           {
            "bin_start": 0.7494008292011664,
            "bin_end": 0.8747004146005831,
            "count": 0
           },
           {
            "bin_start": 0.8747004146005831,
            "bin_end": 1,
            "count": 1
           }
          ]
         }
        },
        {
         "name": "metascore",
         "dtype": "float64",
         "stats": {
          "unique_count": 7,
          "nan_count": 0,
          "min": "-0.1851594286194469",
          "max": "1.0",
          "histogram": [
           {
            "bin_start": -0.1851594286194469,
            "bin_end": -0.0666434857575022,
            "count": 2
           },
           {
            "bin_start": -0.0666434857575022,
            "bin_end": 0.05187245710444249,
            "count": 0
           },
           {
            "bin_start": 0.05187245710444249,
            "bin_end": 0.17038839996638722,
            "count": 1
           },
           {
            "bin_start": 0.17038839996638722,
            "bin_end": 0.2889043428283319,
            "count": 1
           },
           {
            "bin_start": 0.2889043428283319,
            "bin_end": 0.40742028569027655,
            "count": 1
           },
           {
            "bin_start": 0.40742028569027655,
            "bin_end": 0.5259362285522213,
            "count": 0
           },
           {
            "bin_start": 0.5259362285522213,
            "bin_end": 0.644452171414166,
            "count": 1
           },
           {
            "bin_start": 0.644452171414166,
            "bin_end": 0.7629681142761107,
            "count": 0
           },
           {
            "bin_start": 0.7629681142761107,
            "bin_end": 0.8814840571380553,
            "count": 0
           },
           {
            "bin_start": 0.8814840571380553,
            "bin_end": 1,
            "count": 1
           }
          ]
         }
        },
        {
         "name": "_deepnote_index_column",
         "dtype": "object"
        }
       ],
       "rows_top": [
        {
         "rank": 1,
         "year": -0.26160516520278254,
         "runtime": -0.22173927488469355,
         "rating": -0.2195552054556739,
         "votes": -0.2838760341385045,
         "revenue_millions": -0.2529958539941678,
         "metascore": -0.1851594286194469,
         "_deepnote_index_column": "rank"
        },
        {
         "rank": -0.26160516520278254,
         "year": 1,
         "runtime": -0.16489980903636048,
         "rating": -0.21121875660350936,
         "votes": -0.4119038190154861,
         "revenue_millions": -0.11756157935728043,
         "metascore": -0.07607732418405733,
         "_deepnote_index_column": "year"
        },
        {
         "rank": -0.22173927488469355,
         "year": -0.16489980903636048,
         "runtime": 1,
         "rating": 0.3922142455250523,
         "votes": 0.4070617420151503,
         "revenue_millions": 0.24783401002441557,
         "metascore": 0.2022393812297936,
         "_deepnote_index_column": "runtime"
        },
        {
         "rank": -0.2195552054556739,
         "year": -0.21121875660350936,
         "runtime": 0.3922142455250523,
         "rating": 1,
         "votes": 0.5115373197657562,
         "revenue_millions": 0.18952736366192663,
         "metascore": 0.6047227166177979,
         "_deepnote_index_column": "rating"
        },
        {
         "rank": -0.2838760341385045,
         "year": -0.4119038190154861,
         "runtime": 0.4070617420151503,
         "rating": 0.5115373197657562,
         "votes": 1,
         "revenue_millions": 0.6079406906219533,
         "metascore": 0.3181163627508304,
         "_deepnote_index_column": "votes"
        },
        {
         "rank": -0.2529958539941678,
         "year": -0.11756157935728043,
         "runtime": 0.24783401002441557,
         "rating": 0.18952736366192663,
         "votes": 0.6079406906219533,
         "revenue_millions": 1,
         "metascore": 0.13230445535796662,
         "_deepnote_index_column": "revenue_millions"
        },
        {
         "rank": -0.1851594286194469,
         "year": -0.07607732418405733,
         "runtime": 0.2022393812297936,
         "rating": 0.6047227166177979,
         "votes": 0.3181163627508304,
         "revenue_millions": 0.13230445535796662,
         "metascore": 1,
         "_deepnote_index_column": "metascore"
        }
       ],
       "rows_bottom": null
      },
      "text/plain": "                      rank      year   runtime    rating     votes  \\\nrank              1.000000 -0.261605 -0.221739 -0.219555 -0.283876   \nyear             -0.261605  1.000000 -0.164900 -0.211219 -0.411904   \nruntime          -0.221739 -0.164900  1.000000  0.392214  0.407062   \nrating           -0.219555 -0.211219  0.392214  1.000000  0.511537   \nvotes            -0.283876 -0.411904  0.407062  0.511537  1.000000   \nrevenue_millions -0.252996 -0.117562  0.247834  0.189527  0.607941   \nmetascore        -0.185159 -0.076077  0.202239  0.604723  0.318116   \n\n                  revenue_millions  metascore  \nrank                     -0.252996  -0.185159  \nyear                     -0.117562  -0.076077  \nruntime                   0.247834   0.202239  \nrating                    0.189527   0.604723  \nvotes                     0.607941   0.318116  \nrevenue_millions          1.000000   0.132304  \nmetascore                 0.132304   1.000000  ",
      "text/html": "<div>\n<style scoped>\n    .dataframe tbody tr th:only-of-type {\n        vertical-align: middle;\n    }\n\n    .dataframe tbody tr th {\n        vertical-align: top;\n    }\n\n    .dataframe thead th {\n        text-align: right;\n    }\n</style>\n<table border=\"1\" class=\"dataframe\">\n  <thead>\n    <tr style=\"text-align: right;\">\n      <th></th>\n      <th>rank</th>\n      <th>year</th>\n      <th>runtime</th>\n      <th>rating</th>\n      <th>votes</th>\n      <th>revenue_millions</th>\n      <th>metascore</th>\n    </tr>\n  </thead>\n  <tbody>\n    <tr>\n      <th>rank</th>\n      <td>1.000000</td>\n      <td>-0.261605</td>\n      <td>-0.221739</td>\n      <td>-0.219555</td>\n      <td>-0.283876</td>\n      <td>-0.252996</td>\n      <td>-0.185159</td>\n    </tr>\n    <tr>\n      <th>year</th>\n      <td>-0.261605</td>\n      <td>1.000000</td>\n      <td>-0.164900</td>\n      <td>-0.211219</td>\n      <td>-0.411904</td>\n      <td>-0.117562</td>\n      <td>-0.076077</td>\n    </tr>\n    <tr>\n      <th>runtime</th>\n      <td>-0.221739</td>\n      <td>-0.164900</td>\n      <td>1.000000</td>\n      <td>0.392214</td>\n      <td>0.407062</td>\n      <td>0.247834</td>\n      <td>0.202239</td>\n    </tr>\n    <tr>\n      <th>rating</th>\n      <td>-0.219555</td>\n      <td>-0.211219</td>\n      <td>0.392214</td>\n      <td>1.000000</td>\n      <td>0.511537</td>\n      <td>0.189527</td>\n      <td>0.604723</td>\n    </tr>\n    <tr>\n      <th>votes</th>\n      <td>-0.283876</td>\n      <td>-0.411904</td>\n      <td>0.407062</td>\n      <td>0.511537</td>\n      <td>1.000000</td>\n      <td>0.607941</td>\n      <td>0.318116</td>\n    </tr>\n    <tr>\n      <th>revenue_millions</th>\n      <td>-0.252996</td>\n      <td>-0.117562</td>\n      <td>0.247834</td>\n      <td>0.189527</td>\n      <td>0.607941</td>\n      <td>1.000000</td>\n      <td>0.132304</td>\n    </tr>\n    <tr>\n      <th>metascore</th>\n      <td>-0.185159</td>\n      <td>-0.076077</td>\n      <td>0.202239</td>\n      <td>0.604723</td>\n      <td>0.318116</td>\n      <td>0.132304</td>\n      <td>1.000000</td>\n    </tr>\n  </tbody>\n</table>\n</div>"
     },
     "metadata": {}
    }
   ]
  },
  {
   "cell_type": "markdown",
   "source": "Looking in the first row, first column we see `rank` has a perfect correlation with itself, which is obvious. \n\nOn the other hand, the correlation between `votes` and `revenue_millions` is 0.6.",
   "metadata": {
    "id": "cWkl3dGVCjZp",
    "cell_id": "00087-a3ee9ea2-4cda-4f64-97d7-90c4fff46271",
    "deepnote_cell_type": "markdown"
   }
  },
  {
   "cell_type": "markdown",
   "source": "## DataFrame selecting, slicing, extracting\n\nSimilar to `lists`, this section shows how to select (`slice`) rows, columns, and ranges from both.",
   "metadata": {
    "id": "mNDUw7S_wAfO",
    "cell_id": "00088-6d805f48-24c7-45c3-8069-d55a2b552eba",
    "deepnote_cell_type": "markdown"
   }
  },
  {
   "cell_type": "markdown",
   "source": "### By column",
   "metadata": {
    "id": "zn8QLxV1wH2H",
    "cell_id": "00089-8ca71abf-cc65-46cf-80cd-4c992dc70154",
    "deepnote_cell_type": "markdown"
   }
  },
  {
   "cell_type": "code",
   "metadata": {
    "id": "YoonXj1HwJqC",
    "colab": {
     "base_uri": "https://localhost:8080/",
     "height": 256
    },
    "executionInfo": {
     "status": "ok",
     "timestamp": 1601849481168,
     "user_tz": -60,
     "elapsed": 576,
     "user": {
      "displayName": "Sharmin Rouf",
      "photoUrl": "",
      "userId": "07014860915014612811"
     }
    },
    "outputId": "dd8c0501-fb79-49aa-c22f-b1a981268e42",
    "cell_id": "00090-79afd6d0-3a1c-4a87-9861-f454559c6c92",
    "deepnote_to_be_reexecuted": false,
    "source_hash": "150b6a32",
    "execution_start": 1624550856569,
    "execution_millis": 13,
    "deepnote_cell_type": "code"
   },
   "source": "genre_col = df_movies['genre']\n\nprint(\"type\", type(genre_col))\ngenre_col",
   "execution_count": null,
   "outputs": [
    {
     "name": "stdout",
     "text": "type <class 'pandas.core.series.Series'>\n",
     "output_type": "stream"
    },
    {
     "output_type": "execute_result",
     "execution_count": 82,
     "data": {
      "text/plain": "Title\nGuardians of the Galaxy     Action,Adventure,Sci-Fi\nPrometheus                 Adventure,Mystery,Sci-Fi\nSplit                               Horror,Thriller\nSing                        Animation,Comedy,Family\nSuicide Squad              Action,Adventure,Fantasy\n                                     ...           \nSecret in Their Eyes            Crime,Drama,Mystery\nHostel: Part II                              Horror\nStep Up 2: The Streets          Drama,Music,Romance\nSearch Party                       Adventure,Comedy\nNine Lives                    Comedy,Family,Fantasy\nName: genre, Length: 1000, dtype: object"
     },
     "metadata": {}
    }
   ]
  },
  {
   "cell_type": "code",
   "metadata": {
    "id": "izsJIF1HwOFe",
    "colab": {
     "base_uri": "https://localhost:8080/",
     "height": 35
    },
    "executionInfo": {
     "status": "ok",
     "timestamp": 1601849369002,
     "user_tz": -60,
     "elapsed": 973,
     "user": {
      "displayName": "Sharmin Rouf",
      "photoUrl": "",
      "userId": "07014860915014612811"
     }
    },
    "outputId": "17761533-89fb-4173-bc28-3f7e03f9fff4",
    "cell_id": "00091-80703652-3c5d-4a4b-bec0-6881a0ee73d7",
    "deepnote_to_be_reexecuted": false,
    "source_hash": "8be778bc",
    "execution_start": 1624550928094,
    "execution_millis": 8,
    "deepnote_cell_type": "code"
   },
   "source": "genre_col = df_movies[['genre']]\n\nprint(\"type\", type(genre_col))",
   "execution_count": null,
   "outputs": [
    {
     "name": "stdout",
     "text": "type <class 'pandas.core.frame.DataFrame'>\n",
     "output_type": "stream"
    }
   ]
  },
  {
   "cell_type": "markdown",
   "source": "If we want to select more columns, just add them to the list.",
   "metadata": {
    "id": "bt8xnozoEZ5G",
    "cell_id": "00092-66a73994-6516-4475-96e1-f7f7fe82d1e2",
    "deepnote_cell_type": "markdown"
   }
  },
  {
   "cell_type": "code",
   "metadata": {
    "id": "hxGG1c2YwQcu",
    "colab": {
     "base_uri": "https://localhost:8080/",
     "height": 238
    },
    "executionInfo": {
     "status": "ok",
     "timestamp": 1601849439327,
     "user_tz": -60,
     "elapsed": 978,
     "user": {
      "displayName": "Sharmin Rouf",
      "photoUrl": "",
      "userId": "07014860915014612811"
     }
    },
    "outputId": "0b25817b-6945-4be2-a968-7c5e8de8a952",
    "cell_id": "00093-b81c72ff-9932-4b84-a436-b729d9e1875d",
    "deepnote_to_be_reexecuted": false,
    "source_hash": "fc5d4043",
    "execution_start": 1624550954132,
    "execution_millis": 13,
    "deepnote_cell_type": "code"
   },
   "source": "subset = df_movies[['genre', 'rating']]\n\nsubset.head()",
   "execution_count": null,
   "outputs": [
    {
     "output_type": "execute_result",
     "execution_count": 88,
     "data": {
      "application/vnd.deepnote.dataframe.v2+json": {
       "row_count": 5,
       "column_count": 2,
       "columns": [
        {
         "name": "genre",
         "dtype": "object",
         "stats": {
          "unique_count": 5,
          "nan_count": 0,
          "categories": [
           {
            "name": "Action,Adventure,Sci-Fi",
            "count": 1
           },
           {
            "name": "Adventure,Mystery,Sci-Fi",
            "count": 1
           },
           {
            "name": "3 others",
            "count": 3
           }
          ]
         }
        },
        {
         "name": "rating",
         "dtype": "float64",
         "stats": {
          "unique_count": 5,
          "nan_count": 0,
          "min": "6.2",
          "max": "8.1",
          "histogram": [
           {
            "bin_start": 6.2,
            "bin_end": 6.390000000000001,
            "count": 1
           },
           {
            "bin_start": 6.390000000000001,
            "bin_end": 6.58,
            "count": 0
           },
           {
            "bin_start": 6.58,
            "bin_end": 6.77,
            "count": 0
           },
           {
            "bin_start": 6.77,
            "bin_end": 6.96,
            "count": 0
           },
           {
            "bin_start": 6.96,
            "bin_end": 7.15,
            "count": 1
           },
           {
            "bin_start": 7.15,
            "bin_end": 7.34,
            "count": 2
           },
           {
            "bin_start": 7.34,
            "bin_end": 7.529999999999999,
            "count": 0
           },
           {
            "bin_start": 7.529999999999999,
            "bin_end": 7.72,
            "count": 0
           },
           {
            "bin_start": 7.72,
            "bin_end": 7.91,
            "count": 0
           },
           {
            "bin_start": 7.91,
            "bin_end": 8.1,
            "count": 1
           }
          ]
         }
        },
        {
         "name": "_deepnote_index_column",
         "dtype": "object"
        }
       ],
       "rows_top": [
        {
         "genre": "Action,Adventure,Sci-Fi",
         "rating": 8.1,
         "_deepnote_index_column": "Guardians of the Galaxy"
        },
        {
         "genre": "Adventure,Mystery,Sci-Fi",
         "rating": 7,
         "_deepnote_index_column": "Prometheus"
        },
        {
         "genre": "Horror,Thriller",
         "rating": 7.3,
         "_deepnote_index_column": "Split"
        },
        {
         "genre": "Animation,Comedy,Family",
         "rating": 7.2,
         "_deepnote_index_column": "Sing"
        },
        {
         "genre": "Action,Adventure,Fantasy",
         "rating": 6.2,
         "_deepnote_index_column": "Suicide Squad"
        }
       ],
       "rows_bottom": null
      },
      "text/plain": "                                            genre  rating\nTitle                                                    \nGuardians of the Galaxy   Action,Adventure,Sci-Fi     8.1\nPrometheus               Adventure,Mystery,Sci-Fi     7.0\nSplit                             Horror,Thriller     7.3\nSing                      Animation,Comedy,Family     7.2\nSuicide Squad            Action,Adventure,Fantasy     6.2",
      "text/html": "<div>\n<style scoped>\n    .dataframe tbody tr th:only-of-type {\n        vertical-align: middle;\n    }\n\n    .dataframe tbody tr th {\n        vertical-align: top;\n    }\n\n    .dataframe thead th {\n        text-align: right;\n    }\n</style>\n<table border=\"1\" class=\"dataframe\">\n  <thead>\n    <tr style=\"text-align: right;\">\n      <th></th>\n      <th>genre</th>\n      <th>rating</th>\n    </tr>\n    <tr>\n      <th>Title</th>\n      <th></th>\n      <th></th>\n    </tr>\n  </thead>\n  <tbody>\n    <tr>\n      <th>Guardians of the Galaxy</th>\n      <td>Action,Adventure,Sci-Fi</td>\n      <td>8.1</td>\n    </tr>\n    <tr>\n      <th>Prometheus</th>\n      <td>Adventure,Mystery,Sci-Fi</td>\n      <td>7.0</td>\n    </tr>\n    <tr>\n      <th>Split</th>\n      <td>Horror,Thriller</td>\n      <td>7.3</td>\n    </tr>\n    <tr>\n      <th>Sing</th>\n      <td>Animation,Comedy,Family</td>\n      <td>7.2</td>\n    </tr>\n    <tr>\n      <th>Suicide Squad</th>\n      <td>Action,Adventure,Fantasy</td>\n      <td>6.2</td>\n    </tr>\n  </tbody>\n</table>\n</div>"
     },
     "metadata": {}
    }
   ]
  },
  {
   "cell_type": "markdown",
   "source": "If you with to select (locate) columns `by index`, we use `df.iloc[what_rows, what_columns]`.\n\nNow, we use classical `list` selecting. \n\n* To select all rows, `what_rows` will be `:`. \n\n*If we want to select all columns until 5th one, we use `:5`",
   "metadata": {
    "id": "NWFC65hvFRiX",
    "cell_id": "00094-29cc2dcd-30a4-43b0-99ca-f3b6bef4c2df",
    "deepnote_cell_type": "markdown"
   }
  },
  {
   "cell_type": "code",
   "metadata": {
    "tags": [],
    "cell_id": "00090-f2520b3c-aaee-47fe-bb80-c4f3b8ab3a71",
    "deepnote_to_be_reexecuted": false,
    "source_hash": "e867cb5e",
    "execution_start": 1624551161177,
    "execution_millis": 37,
    "deepnote_cell_type": "code"
   },
   "source": "df_movies.iloc[1:4]",
   "execution_count": null,
   "outputs": [
    {
     "output_type": "execute_result",
     "execution_count": 100,
     "data": {
      "application/vnd.deepnote.dataframe.v2+json": {
       "row_count": 3,
       "column_count": 12,
       "columns": [
        {
         "name": "rank",
         "dtype": "int64",
         "stats": {
          "unique_count": 3,
          "nan_count": 0,
          "min": "2",
          "max": "4",
          "histogram": [
           {
            "bin_start": 2,
            "bin_end": 2.2,
            "count": 1
           },
           {
            "bin_start": 2.2,
            "bin_end": 2.4,
            "count": 0
           },
           {
            "bin_start": 2.4,
            "bin_end": 2.6,
            "count": 0
           },
           {
            "bin_start": 2.6,
            "bin_end": 2.8,
            "count": 0
           },
           {
            "bin_start": 2.8,
            "bin_end": 3,
            "count": 0
           },
           {
            "bin_start": 3,
            "bin_end": 3.2,
            "count": 1
           },
           {
            "bin_start": 3.2,
            "bin_end": 3.4000000000000004,
            "count": 0
           },
           {
            "bin_start": 3.4000000000000004,
            "bin_end": 3.6,
            "count": 0
           },
           {
            "bin_start": 3.6,
            "bin_end": 3.8,
            "count": 0
           },
           {
            "bin_start": 3.8,
            "bin_end": 4,
            "count": 1
           }
          ]
         }
        },
        {
         "name": "genre",
         "dtype": "object",
         "stats": {
          "unique_count": 3,
          "nan_count": 0,
          "categories": [
           {
            "name": "Adventure,Mystery,Sci-Fi",
            "count": 1
           },
           {
            "name": "Horror,Thriller",
            "count": 1
           },
           {
            "name": "Animation,Comedy,Family",
            "count": 1
           }
          ]
         }
        },
        {
         "name": "description",
         "dtype": "object",
         "stats": {
          "unique_count": 3,
          "nan_count": 0,
          "categories": [
           {
            "name": "Following clues to the origin of mankind, a team finds a structure on a distant moon, but they soon realize they are not alone.",
            "count": 1
           },
           {
            "name": "Three girls are kidnapped by a man with a diagnosed 23 distinct personalities. They must try to escape before the apparent emergence of a frightful new 24th.",
            "count": 1
           },
           {
            "name": "In a city of humanoid animals, a hustling theater impresario's attempt to save his theater with a singing competition becomes grander than he anticipates even as its finalists' find that their lives will never be the same.",
            "count": 1
           }
          ]
         }
        },
        {
         "name": "director",
         "dtype": "object",
         "stats": {
          "unique_count": 3,
          "nan_count": 0,
          "categories": [
           {
            "name": "Ridley Scott",
            "count": 1
           },
           {
            "name": "M. Night Shyamalan",
            "count": 1
           },
           {
            "name": "Christophe Lourdelet",
            "count": 1
           }
          ]
         }
        },
        {
         "name": "actors",
         "dtype": "object",
         "stats": {
          "unique_count": 3,
          "nan_count": 0,
          "categories": [
           {
            "name": "Noomi Rapace, Logan Marshall-Green, Michael Fassbender, Charlize Theron",
            "count": 1
           },
           {
            "name": "James McAvoy, Anya Taylor-Joy, Haley Lu Richardson, Jessica Sula",
            "count": 1
           },
           {
            "name": "Matthew McConaughey,Reese Witherspoon, Seth MacFarlane, Scarlett Johansson",
            "count": 1
           }
          ]
         }
        },
        {
         "name": "year",
         "dtype": "int64",
         "stats": {
          "unique_count": 2,
          "nan_count": 0,
          "min": "2012",
          "max": "2016",
          "histogram": [
           {
            "bin_start": 2012,
            "bin_end": 2012.4,
            "count": 1
           },
           {
            "bin_start": 2012.4,
            "bin_end": 2012.8,
            "count": 0
           },
           {
            "bin_start": 2012.8,
            "bin_end": 2013.2,
            "count": 0
           },
           {
            "bin_start": 2013.2,
            "bin_end": 2013.6,
            "count": 0
           },
           {
            "bin_start": 2013.6,
            "bin_end": 2014,
            "count": 0
           },
           {
            "bin_start": 2014,
            "bin_end": 2014.4,
            "count": 0
           },
           {
            "bin_start": 2014.4,
            "bin_end": 2014.8,
            "count": 0
           },
           {
            "bin_start": 2014.8,
            "bin_end": 2015.2,
            "count": 0
           },
           {
            "bin_start": 2015.2,
            "bin_end": 2015.6,
            "count": 0
           },
           {
            "bin_start": 2015.6,
            "bin_end": 2016,
            "count": 2
           }
          ]
         }
        },
        {
         "name": "runtime",
         "dtype": "int64",
         "stats": {
          "unique_count": 3,
          "nan_count": 0,
          "min": "108",
          "max": "124",
          "histogram": [
           {
            "bin_start": 108,
            "bin_end": 109.6,
            "count": 1
           },
           {
            "bin_start": 109.6,
            "bin_end": 111.2,
            "count": 0
           },
           {
            "bin_start": 111.2,
            "bin_end": 112.8,
            "count": 0
           },
           {
            "bin_start": 112.8,
            "bin_end": 114.4,
            "count": 0
           },
           {
            "bin_start": 114.4,
            "bin_end": 116,
            "count": 0
           },
           {
            "bin_start": 116,
            "bin_end": 117.6,
            "count": 1
           },
           {
            "bin_start": 117.6,
            "bin_end": 119.2,
            "count": 0
           },
           {
            "bin_start": 119.2,
            "bin_end": 120.8,
            "count": 0
           },
           {
            "bin_start": 120.8,
            "bin_end": 122.4,
            "count": 0
           },
           {
            "bin_start": 122.4,
            "bin_end": 124,
            "count": 1
           }
          ]
         }
        },
        {
         "name": "rating",
         "dtype": "float64",
         "stats": {
          "unique_count": 3,
          "nan_count": 0,
          "min": "7.0",
          "max": "7.3",
          "histogram": [
           {
            "bin_start": 7,
            "bin_end": 7.03,
            "count": 1
           },
           {
            "bin_start": 7.03,
            "bin_end": 7.06,
            "count": 0
           },
           {
            "bin_start": 7.06,
            "bin_end": 7.09,
            "count": 0
           },
           {
            "bin_start": 7.09,
            "bin_end": 7.12,
            "count": 0
           },
           {
            "bin_start": 7.12,
            "bin_end": 7.15,
            "count": 0
           },
           {
            "bin_start": 7.15,
            "bin_end": 7.18,
            "count": 0
           },
           {
            "bin_start": 7.18,
            "bin_end": 7.21,
            "count": 1
           },
           {
            "bin_start": 7.21,
            "bin_end": 7.24,
            "count": 0
           },
           {
            "bin_start": 7.24,
            "bin_end": 7.27,
            "count": 0
           },
           {
            "bin_start": 7.27,
            "bin_end": 7.3,
            "count": 1
           }
          ]
         }
        },
        {
         "name": "votes",
         "dtype": "int64",
         "stats": {
          "unique_count": 3,
          "nan_count": 0,
          "min": "60545",
          "max": "485820",
          "histogram": [
           {
            "bin_start": 60545,
            "bin_end": 103072.5,
            "count": 1
           },
           {
            "bin_start": 103072.5,
            "bin_end": 145600,
            "count": 0
           },
           {
            "bin_start": 145600,
            "bin_end": 188127.5,
            "count": 1
           },
           {
            "bin_start": 188127.5,
            "bin_end": 230655,
            "count": 0
           },
           {
            "bin_start": 230655,
            "bin_end": 273182.5,
            "count": 0
           },
           {
            "bin_start": 273182.5,
            "bin_end": 315710,
            "count": 0
           },
           {
            "bin_start": 315710,
            "bin_end": 358237.5,
            "count": 0
           },
           {
            "bin_start": 358237.5,
            "bin_end": 400765,
            "count": 0
           },
           {
            "bin_start": 400765,
            "bin_end": 443292.5,
            "count": 0
           },
           {
            "bin_start": 443292.5,
            "bin_end": 485820,
            "count": 1
           }
          ]
         }
        },
        {
         "name": "revenue_millions",
         "dtype": "float64",
         "stats": {
          "unique_count": 3,
          "nan_count": 0,
          "min": "126.46",
          "max": "270.32",
          "histogram": [
           {
            "bin_start": 126.46,
            "bin_end": 140.846,
            "count": 2
           },
           {
            "bin_start": 140.846,
            "bin_end": 155.232,
            "count": 0
           },
           {
            "bin_start": 155.232,
            "bin_end": 169.618,
            "count": 0
           },
           {
            "bin_start": 169.618,
            "bin_end": 184.004,
            "count": 0
           },
           {
            "bin_start": 184.004,
            "bin_end": 198.39,
            "count": 0
           },
           {
            "bin_start": 198.39,
            "bin_end": 212.776,
            "count": 0
           },
           {
            "bin_start": 212.776,
            "bin_end": 227.162,
            "count": 0
           },
           {
            "bin_start": 227.162,
            "bin_end": 241.548,
            "count": 0
           },
           {
            "bin_start": 241.548,
            "bin_end": 255.93400000000003,
            "count": 0
           },
           {
            "bin_start": 255.93400000000003,
            "bin_end": 270.32,
            "count": 1
           }
          ]
         }
        },
        {
         "name": "metascore",
         "dtype": "float64",
         "stats": {
          "unique_count": 3,
          "nan_count": 0,
          "min": "59.0",
          "max": "65.0",
          "histogram": [
           {
            "bin_start": 59,
            "bin_end": 59.6,
            "count": 1
           },
           {
            "bin_start": 59.6,
            "bin_end": 60.2,
            "count": 0
           },
           {
            "bin_start": 60.2,
            "bin_end": 60.8,
            "count": 0
           },
           {
            "bin_start": 60.8,
            "bin_end": 61.4,
            "count": 0
           },
           {
            "bin_start": 61.4,
            "bin_end": 62,
            "count": 0
           },
           {
            "bin_start": 62,
            "bin_end": 62.6,
            "count": 1
           },
           {
            "bin_start": 62.6,
            "bin_end": 63.2,
            "count": 0
           },
           {
            "bin_start": 63.2,
            "bin_end": 63.8,
            "count": 0
           },
           {
            "bin_start": 63.8,
            "bin_end": 64.4,
            "count": 0
           },
           {
            "bin_start": 64.4,
            "bin_end": 65,
            "count": 1
           }
          ]
         }
        },
        {
         "name": "rating_category",
         "dtype": "object",
         "stats": {
          "unique_count": 1,
          "nan_count": 0,
          "categories": [
           {
            "name": "bad",
            "count": 3
           }
          ]
         }
        },
        {
         "name": "_deepnote_index_column",
         "dtype": "object"
        }
       ],
       "rows_top": [
        {
         "rank": 2,
         "genre": "Adventure,Mystery,Sci-Fi",
         "description": "Following clues to the origin of mankind, a team finds a structure on a distant moon, but they soon…",
         "director": "Ridley Scott",
         "actors": "Noomi Rapace, Logan Marshall-Green, Michael Fassbender, Charlize Theron",
         "year": 2012,
         "runtime": 124,
         "rating": 7,
         "votes": 485820,
         "revenue_millions": 126.46,
         "metascore": 65,
         "rating_category": "bad",
         "_deepnote_index_column": "Prometheus"
        },
        {
         "rank": 3,
         "genre": "Horror,Thriller",
         "description": "Three girls are kidnapped by a man with a diagnosed 23 distinct personalities. They must try to esc…",
         "director": "M. Night Shyamalan",
         "actors": "James McAvoy, Anya Taylor-Joy, Haley Lu Richardson, Jessica Sula",
         "year": 2016,
         "runtime": 117,
         "rating": 7.3,
         "votes": 157606,
         "revenue_millions": 138.12,
         "metascore": 62,
         "rating_category": "bad",
         "_deepnote_index_column": "Split"
        },
        {
         "rank": 4,
         "genre": "Animation,Comedy,Family",
         "description": "In a city of humanoid animals, a hustling theater impresario's attempt to save his theater with a s…",
         "director": "Christophe Lourdelet",
         "actors": "Matthew McConaughey,Reese Witherspoon, Seth MacFarlane, Scarlett Johansson",
         "year": 2016,
         "runtime": 108,
         "rating": 7.2,
         "votes": 60545,
         "revenue_millions": 270.32,
         "metascore": 59,
         "rating_category": "bad",
         "_deepnote_index_column": "Sing"
        }
       ],
       "rows_bottom": null
      },
      "text/plain": "            rank                     genre  \\\nTitle                                        \nPrometheus     2  Adventure,Mystery,Sci-Fi   \nSplit          3           Horror,Thriller   \nSing           4   Animation,Comedy,Family   \n\n                                                  description  \\\nTitle                                                           \nPrometheus  Following clues to the origin of mankind, a te...   \nSplit       Three girls are kidnapped by a man with a diag...   \nSing        In a city of humanoid animals, a hustling thea...   \n\n                        director  \\\nTitle                              \nPrometheus          Ridley Scott   \nSplit         M. Night Shyamalan   \nSing        Christophe Lourdelet   \n\n                                                       actors  year  runtime  \\\nTitle                                                                          \nPrometheus  Noomi Rapace, Logan Marshall-Green, Michael Fa...  2012      124   \nSplit       James McAvoy, Anya Taylor-Joy, Haley Lu Richar...  2016      117   \nSing        Matthew McConaughey,Reese Witherspoon, Seth Ma...  2016      108   \n\n            rating   votes  revenue_millions  metascore rating_category  \nTitle                                                                    \nPrometheus     7.0  485820            126.46       65.0             bad  \nSplit          7.3  157606            138.12       62.0             bad  \nSing           7.2   60545            270.32       59.0             bad  ",
      "text/html": "<div>\n<style scoped>\n    .dataframe tbody tr th:only-of-type {\n        vertical-align: middle;\n    }\n\n    .dataframe tbody tr th {\n        vertical-align: top;\n    }\n\n    .dataframe thead th {\n        text-align: right;\n    }\n</style>\n<table border=\"1\" class=\"dataframe\">\n  <thead>\n    <tr style=\"text-align: right;\">\n      <th></th>\n      <th>rank</th>\n      <th>genre</th>\n      <th>description</th>\n      <th>director</th>\n      <th>actors</th>\n      <th>year</th>\n      <th>runtime</th>\n      <th>rating</th>\n      <th>votes</th>\n      <th>revenue_millions</th>\n      <th>metascore</th>\n      <th>rating_category</th>\n    </tr>\n    <tr>\n      <th>Title</th>\n      <th></th>\n      <th></th>\n      <th></th>\n      <th></th>\n      <th></th>\n      <th></th>\n      <th></th>\n      <th></th>\n      <th></th>\n      <th></th>\n      <th></th>\n      <th></th>\n    </tr>\n  </thead>\n  <tbody>\n    <tr>\n      <th>Prometheus</th>\n      <td>2</td>\n      <td>Adventure,Mystery,Sci-Fi</td>\n      <td>Following clues to the origin of mankind, a te...</td>\n      <td>Ridley Scott</td>\n      <td>Noomi Rapace, Logan Marshall-Green, Michael Fa...</td>\n      <td>2012</td>\n      <td>124</td>\n      <td>7.0</td>\n      <td>485820</td>\n      <td>126.46</td>\n      <td>65.0</td>\n      <td>bad</td>\n    </tr>\n    <tr>\n      <th>Split</th>\n      <td>3</td>\n      <td>Horror,Thriller</td>\n      <td>Three girls are kidnapped by a man with a diag...</td>\n      <td>M. Night Shyamalan</td>\n      <td>James McAvoy, Anya Taylor-Joy, Haley Lu Richar...</td>\n      <td>2016</td>\n      <td>117</td>\n      <td>7.3</td>\n      <td>157606</td>\n      <td>138.12</td>\n      <td>62.0</td>\n      <td>bad</td>\n    </tr>\n    <tr>\n      <th>Sing</th>\n      <td>4</td>\n      <td>Animation,Comedy,Family</td>\n      <td>In a city of humanoid animals, a hustling thea...</td>\n      <td>Christophe Lourdelet</td>\n      <td>Matthew McConaughey,Reese Witherspoon, Seth Ma...</td>\n      <td>2016</td>\n      <td>108</td>\n      <td>7.2</td>\n      <td>60545</td>\n      <td>270.32</td>\n      <td>59.0</td>\n      <td>bad</td>\n    </tr>\n  </tbody>\n</table>\n</div>"
     },
     "metadata": {}
    }
   ]
  },
  {
   "cell_type": "markdown",
   "source": "### By rows",
   "metadata": {
    "id": "pVnLpvzawTYp",
    "cell_id": "00096-aca7c970-c8f6-4f7a-96c4-8d194a841f76",
    "deepnote_cell_type": "markdown"
   }
  },
  {
   "cell_type": "markdown",
   "source": "If you want to locate the row entry by index, use `df.iloc[what_row]`. Notice that unlike locating columns by index, we will only use one parameter",
   "metadata": {
    "id": "iX5znXYLGEpD",
    "cell_id": "00099-b074c0d3-0eb6-4d38-ac77-9d7083ccfd78",
    "deepnote_cell_type": "markdown"
   }
  },
  {
   "cell_type": "code",
   "metadata": {
    "id": "N_dOYCOiwXxU",
    "colab": {
     "base_uri": "https://localhost:8080/",
     "height": 221
    },
    "executionInfo": {
     "status": "ok",
     "timestamp": 1600743656887,
     "user_tz": -60,
     "elapsed": 609,
     "user": {
      "displayName": "Daniel Anton",
      "photoUrl": "",
      "userId": "07817160354765211624"
     }
    },
    "outputId": "63c38668-d554-47f5-bbe6-bf2fb91f0ece",
    "cell_id": "00100-5356f19a-109e-4dfd-97a4-abbbcb39611e",
    "deepnote_to_be_reexecuted": false,
    "source_hash": "3abab874",
    "execution_start": 1624551185800,
    "execution_millis": 7,
    "deepnote_cell_type": "code"
   },
   "source": "prom = df_movies.iloc[0]\nprom",
   "execution_count": null,
   "outputs": [
    {
     "output_type": "execute_result",
     "execution_count": 101,
     "data": {
      "text/plain": "rank                                                                1\ngenre                                         Action,Adventure,Sci-Fi\ndescription         A group of intergalactic criminals are forced ...\ndirector                                                   James Gunn\nactors              Chris Pratt, Vin Diesel, Bradley Cooper, Zoe S...\nyear                                                             2014\nruntime                                                           121\nrating                                                            8.1\nvotes                                                          757074\nrevenue_millions                                               333.13\nmetascore                                                        76.0\nrating_category                                                  good\nName: Guardians of the Galaxy, dtype: object"
     },
     "metadata": {}
    }
   ]
  },
  {
   "cell_type": "markdown",
   "source": "### Conditional selection",
   "metadata": {
    "id": "3AcXwpcgw0LY",
    "cell_id": "00103-e70b5360-9069-45b6-9777-2460929eeaed",
    "deepnote_cell_type": "markdown"
   }
  },
  {
   "cell_type": "code",
   "metadata": {
    "tags": [],
    "cell_id": "00095-db8a9a24-c8ae-4c9a-a2ab-756fd398bd83",
    "deepnote_to_be_reexecuted": false,
    "source_hash": "7c26fd5e",
    "execution_start": 1624551226847,
    "execution_millis": 13,
    "deepnote_cell_type": "code"
   },
   "source": "df_movies.head()",
   "execution_count": null,
   "outputs": [
    {
     "output_type": "execute_result",
     "execution_count": 103,
     "data": {
      "application/vnd.deepnote.dataframe.v2+json": {
       "row_count": 5,
       "column_count": 12,
       "columns": [
        {
         "name": "rank",
         "dtype": "int64",
         "stats": {
          "unique_count": 5,
          "nan_count": 0,
          "min": "1",
          "max": "5",
          "histogram": [
           {
            "bin_start": 1,
            "bin_end": 1.4,
            "count": 1
           },
           {
            "bin_start": 1.4,
            "bin_end": 1.8,
            "count": 0
           },
           {
            "bin_start": 1.8,
            "bin_end": 2.2,
            "count": 1
           },
           {
            "bin_start": 2.2,
            "bin_end": 2.6,
            "count": 0
           },
           {
            "bin_start": 2.6,
            "bin_end": 3,
            "count": 0
           },
           {
            "bin_start": 3,
            "bin_end": 3.4000000000000004,
            "count": 1
           },
           {
            "bin_start": 3.4000000000000004,
            "bin_end": 3.8000000000000003,
            "count": 0
           },
           {
            "bin_start": 3.8000000000000003,
            "bin_end": 4.2,
            "count": 1
           },
           {
            "bin_start": 4.2,
            "bin_end": 4.6,
            "count": 0
           },
           {
            "bin_start": 4.6,
            "bin_end": 5,
            "count": 1
           }
          ]
         }
        },
        {
         "name": "genre",
         "dtype": "object",
         "stats": {
          "unique_count": 5,
          "nan_count": 0,
          "categories": [
           {
            "name": "Action,Adventure,Sci-Fi",
            "count": 1
           },
           {
            "name": "Adventure,Mystery,Sci-Fi",
            "count": 1
           },
           {
            "name": "3 others",
            "count": 3
           }
          ]
         }
        },
        {
         "name": "description",
         "dtype": "object",
         "stats": {
          "unique_count": 5,
          "nan_count": 0,
          "categories": [
           {
            "name": "A group of intergalactic criminals are forced to work together to stop a fanatical warrior from taking control of the universe.",
            "count": 1
           },
           {
            "name": "Following clues to the origin of mankind, a team finds a structure on a distant moon, but they soon realize they are not alone.",
            "count": 1
           },
           {
            "name": "3 others",
            "count": 3
           }
          ]
         }
        },
        {
         "name": "director",
         "dtype": "object",
         "stats": {
          "unique_count": 5,
          "nan_count": 0,
          "categories": [
           {
            "name": "James Gunn",
            "count": 1
           },
           {
            "name": "Ridley Scott",
            "count": 1
           },
           {
            "name": "3 others",
            "count": 3
           }
          ]
         }
        },
        {
         "name": "actors",
         "dtype": "object",
         "stats": {
          "unique_count": 5,
          "nan_count": 0,
          "categories": [
           {
            "name": "Chris Pratt, Vin Diesel, Bradley Cooper, Zoe Saldana",
            "count": 1
           },
           {
            "name": "Noomi Rapace, Logan Marshall-Green, Michael Fassbender, Charlize Theron",
            "count": 1
           },
           {
            "name": "3 others",
            "count": 3
           }
          ]
         }
        },
        {
         "name": "year",
         "dtype": "int64",
         "stats": {
          "unique_count": 3,
          "nan_count": 0,
          "min": "2012",
          "max": "2016",
          "histogram": [
           {
            "bin_start": 2012,
            "bin_end": 2012.4,
            "count": 1
           },
           {
            "bin_start": 2012.4,
            "bin_end": 2012.8,
            "count": 0
           },
           {
            "bin_start": 2012.8,
            "bin_end": 2013.2,
            "count": 0
           },
           {
            "bin_start": 2013.2,
            "bin_end": 2013.6,
            "count": 0
           },
           {
            "bin_start": 2013.6,
            "bin_end": 2014,
            "count": 0
           },
           {
            "bin_start": 2014,
            "bin_end": 2014.4,
            "count": 1
           },
           {
            "bin_start": 2014.4,
            "bin_end": 2014.8,
            "count": 0
           },
           {
            "bin_start": 2014.8,
            "bin_end": 2015.2,
            "count": 0
           },
           {
            "bin_start": 2015.2,
            "bin_end": 2015.6,
            "count": 0
           },
           {
            "bin_start": 2015.6,
            "bin_end": 2016,
            "count": 3
           }
          ]
         }
        },
        {
         "name": "runtime",
         "dtype": "int64",
         "stats": {
          "unique_count": 5,
          "nan_count": 0,
          "min": "108",
          "max": "124",
          "histogram": [
           {
            "bin_start": 108,
            "bin_end": 109.6,
            "count": 1
           },
           {
            "bin_start": 109.6,
            "bin_end": 111.2,
            "count": 0
           },
           {
            "bin_start": 111.2,
            "bin_end": 112.8,
            "count": 0
           },
           {
            "bin_start": 112.8,
            "bin_end": 114.4,
            "count": 0
           },
           {
            "bin_start": 114.4,
            "bin_end": 116,
            "count": 0
           },
           {
            "bin_start": 116,
            "bin_end": 117.6,
            "count": 1
           },
           {
            "bin_start": 117.6,
            "bin_end": 119.2,
            "count": 0
           },
           {
            "bin_start": 119.2,
            "bin_end": 120.8,
            "count": 0
           },
           {
            "bin_start": 120.8,
            "bin_end": 122.4,
            "count": 1
           },
           {
            "bin_start": 122.4,
            "bin_end": 124,
            "count": 2
           }
          ]
         }
        },
        {
         "name": "rating",
         "dtype": "float64",
         "stats": {
          "unique_count": 5,
          "nan_count": 0,
          "min": "6.2",
          "max": "8.1",
          "histogram": [
           {
            "bin_start": 6.2,
            "bin_end": 6.390000000000001,
            "count": 1
           },
           {
            "bin_start": 6.390000000000001,
            "bin_end": 6.58,
            "count": 0
           },
           {
            "bin_start": 6.58,
            "bin_end": 6.77,
            "count": 0
           },
           {
            "bin_start": 6.77,
            "bin_end": 6.96,
            "count": 0
           },
           {
            "bin_start": 6.96,
            "bin_end": 7.15,
            "count": 1
           },
           {
            "bin_start": 7.15,
            "bin_end": 7.34,
            "count": 2
           },
           {
            "bin_start": 7.34,
            "bin_end": 7.529999999999999,
            "count": 0
           },
           {
            "bin_start": 7.529999999999999,
            "bin_end": 7.72,
            "count": 0
           },
           {
            "bin_start": 7.72,
            "bin_end": 7.91,
            "count": 0
           },
           {
            "bin_start": 7.91,
            "bin_end": 8.1,
            "count": 1
           }
          ]
         }
        },
        {
         "name": "votes",
         "dtype": "int64",
         "stats": {
          "unique_count": 5,
          "nan_count": 0,
          "min": "60545",
          "max": "757074",
          "histogram": [
           {
            "bin_start": 60545,
            "bin_end": 130197.9,
            "count": 1
           },
           {
            "bin_start": 130197.9,
            "bin_end": 199850.8,
            "count": 1
           },
           {
            "bin_start": 199850.8,
            "bin_end": 269503.69999999995,
            "count": 0
           },
           {
            "bin_start": 269503.69999999995,
            "bin_end": 339156.6,
            "count": 0
           },
           {
            "bin_start": 339156.6,
            "bin_end": 408809.5,
            "count": 1
           },
           {
            "bin_start": 408809.5,
            "bin_end": 478462.39999999997,
            "count": 0
           },
           {
            "bin_start": 478462.39999999997,
            "bin_end": 548115.2999999999,
            "count": 1
           },
           {
            "bin_start": 548115.2999999999,
            "bin_end": 617768.2,
            "count": 0
           },
           {
            "bin_start": 617768.2,
            "bin_end": 687421.1,
            "count": 0
           },
           {
            "bin_start": 687421.1,
            "bin_end": 757074,
            "count": 1
           }
          ]
         }
        },
        {
         "name": "revenue_millions",
         "dtype": "float64",
         "stats": {
          "unique_count": 5,
          "nan_count": 0,
          "min": "126.46",
          "max": "333.13",
          "histogram": [
           {
            "bin_start": 126.46,
            "bin_end": 147.127,
            "count": 2
           },
           {
            "bin_start": 147.127,
            "bin_end": 167.79399999999998,
            "count": 0
           },
           {
            "bin_start": 167.79399999999998,
            "bin_end": 188.461,
            "count": 0
           },
           {
            "bin_start": 188.461,
            "bin_end": 209.128,
            "count": 0
           },
           {
            "bin_start": 209.128,
            "bin_end": 229.79500000000002,
            "count": 0
           },
           {
            "bin_start": 229.79500000000002,
            "bin_end": 250.462,
            "count": 0
           },
           {
            "bin_start": 250.462,
            "bin_end": 271.129,
            "count": 1
           },
           {
            "bin_start": 271.129,
            "bin_end": 291.796,
            "count": 0
           },
           {
            "bin_start": 291.796,
            "bin_end": 312.463,
            "count": 0
           },
           {
            "bin_start": 312.463,
            "bin_end": 333.13,
            "count": 2
           }
          ]
         }
        },
        {
         "name": "metascore",
         "dtype": "float64",
         "stats": {
          "unique_count": 5,
          "nan_count": 0,
          "min": "40.0",
          "max": "76.0",
          "histogram": [
           {
            "bin_start": 40,
            "bin_end": 43.6,
            "count": 1
           },
           {
            "bin_start": 43.6,
            "bin_end": 47.2,
            "count": 0
           },
           {
            "bin_start": 47.2,
            "bin_end": 50.8,
            "count": 0
           },
           {
            "bin_start": 50.8,
            "bin_end": 54.4,
            "count": 0
           },
           {
            "bin_start": 54.4,
            "bin_end": 58,
            "count": 0
           },
           {
            "bin_start": 58,
            "bin_end": 61.6,
            "count": 1
           },
           {
            "bin_start": 61.6,
            "bin_end": 65.2,
            "count": 2
           },
           {
            "bin_start": 65.2,
            "bin_end": 68.8,
            "count": 0
           },
           {
            "bin_start": 68.8,
            "bin_end": 72.4,
            "count": 0
           },
           {
            "bin_start": 72.4,
            "bin_end": 76,
            "count": 1
           }
          ]
         }
        },
        {
         "name": "rating_category",
         "dtype": "object",
         "stats": {
          "unique_count": 2,
          "nan_count": 0,
          "categories": [
           {
            "name": "bad",
            "count": 4
           },
           {
            "name": "good",
            "count": 1
           }
          ]
         }
        },
        {
         "name": "_deepnote_index_column",
         "dtype": "object"
        }
       ],
       "rows_top": [
        {
         "rank": 1,
         "genre": "Action,Adventure,Sci-Fi",
         "description": "A group of intergalactic criminals are forced to work together to stop a fanatical warrior from tak…",
         "director": "James Gunn",
         "actors": "Chris Pratt, Vin Diesel, Bradley Cooper, Zoe Saldana",
         "year": 2014,
         "runtime": 121,
         "rating": 8.1,
         "votes": 757074,
         "revenue_millions": 333.13,
         "metascore": 76,
         "rating_category": "good",
         "_deepnote_index_column": "Guardians of the Galaxy"
        },
        {
         "rank": 2,
         "genre": "Adventure,Mystery,Sci-Fi",
         "description": "Following clues to the origin of mankind, a team finds a structure on a distant moon, but they soon…",
         "director": "Ridley Scott",
         "actors": "Noomi Rapace, Logan Marshall-Green, Michael Fassbender, Charlize Theron",
         "year": 2012,
         "runtime": 124,
         "rating": 7,
         "votes": 485820,
         "revenue_millions": 126.46,
         "metascore": 65,
         "rating_category": "bad",
         "_deepnote_index_column": "Prometheus"
        },
        {
         "rank": 3,
         "genre": "Horror,Thriller",
         "description": "Three girls are kidnapped by a man with a diagnosed 23 distinct personalities. They must try to esc…",
         "director": "M. Night Shyamalan",
         "actors": "James McAvoy, Anya Taylor-Joy, Haley Lu Richardson, Jessica Sula",
         "year": 2016,
         "runtime": 117,
         "rating": 7.3,
         "votes": 157606,
         "revenue_millions": 138.12,
         "metascore": 62,
         "rating_category": "bad",
         "_deepnote_index_column": "Split"
        },
        {
         "rank": 4,
         "genre": "Animation,Comedy,Family",
         "description": "In a city of humanoid animals, a hustling theater impresario's attempt to save his theater with a s…",
         "director": "Christophe Lourdelet",
         "actors": "Matthew McConaughey,Reese Witherspoon, Seth MacFarlane, Scarlett Johansson",
         "year": 2016,
         "runtime": 108,
         "rating": 7.2,
         "votes": 60545,
         "revenue_millions": 270.32,
         "metascore": 59,
         "rating_category": "bad",
         "_deepnote_index_column": "Sing"
        },
        {
         "rank": 5,
         "genre": "Action,Adventure,Fantasy",
         "description": "A secret government agency recruits some of the most dangerous incarcerated super-villains to form …",
         "director": "David Ayer",
         "actors": "Will Smith, Jared Leto, Margot Robbie, Viola Davis",
         "year": 2016,
         "runtime": 123,
         "rating": 6.2,
         "votes": 393727,
         "revenue_millions": 325.02,
         "metascore": 40,
         "rating_category": "bad",
         "_deepnote_index_column": "Suicide Squad"
        }
       ],
       "rows_bottom": null
      },
      "text/plain": "                         rank                     genre  \\\nTitle                                                     \nGuardians of the Galaxy     1   Action,Adventure,Sci-Fi   \nPrometheus                  2  Adventure,Mystery,Sci-Fi   \nSplit                       3           Horror,Thriller   \nSing                        4   Animation,Comedy,Family   \nSuicide Squad               5  Action,Adventure,Fantasy   \n\n                                                               description  \\\nTitle                                                                        \nGuardians of the Galaxy  A group of intergalactic criminals are forced ...   \nPrometheus               Following clues to the origin of mankind, a te...   \nSplit                    Three girls are kidnapped by a man with a diag...   \nSing                     In a city of humanoid animals, a hustling thea...   \nSuicide Squad            A secret government agency recruits some of th...   \n\n                                     director  \\\nTitle                                           \nGuardians of the Galaxy            James Gunn   \nPrometheus                       Ridley Scott   \nSplit                      M. Night Shyamalan   \nSing                     Christophe Lourdelet   \nSuicide Squad                      David Ayer   \n\n                                                                    actors  \\\nTitle                                                                        \nGuardians of the Galaxy  Chris Pratt, Vin Diesel, Bradley Cooper, Zoe S...   \nPrometheus               Noomi Rapace, Logan Marshall-Green, Michael Fa...   \nSplit                    James McAvoy, Anya Taylor-Joy, Haley Lu Richar...   \nSing                     Matthew McConaughey,Reese Witherspoon, Seth Ma...   \nSuicide Squad            Will Smith, Jared Leto, Margot Robbie, Viola D...   \n\n                         year  runtime  rating   votes  revenue_millions  \\\nTitle                                                                      \nGuardians of the Galaxy  2014      121     8.1  757074            333.13   \nPrometheus               2012      124     7.0  485820            126.46   \nSplit                    2016      117     7.3  157606            138.12   \nSing                     2016      108     7.2   60545            270.32   \nSuicide Squad            2016      123     6.2  393727            325.02   \n\n                         metascore rating_category  \nTitle                                               \nGuardians of the Galaxy       76.0            good  \nPrometheus                    65.0             bad  \nSplit                         62.0             bad  \nSing                          59.0             bad  \nSuicide Squad                 40.0             bad  ",
      "text/html": "<div>\n<style scoped>\n    .dataframe tbody tr th:only-of-type {\n        vertical-align: middle;\n    }\n\n    .dataframe tbody tr th {\n        vertical-align: top;\n    }\n\n    .dataframe thead th {\n        text-align: right;\n    }\n</style>\n<table border=\"1\" class=\"dataframe\">\n  <thead>\n    <tr style=\"text-align: right;\">\n      <th></th>\n      <th>rank</th>\n      <th>genre</th>\n      <th>description</th>\n      <th>director</th>\n      <th>actors</th>\n      <th>year</th>\n      <th>runtime</th>\n      <th>rating</th>\n      <th>votes</th>\n      <th>revenue_millions</th>\n      <th>metascore</th>\n      <th>rating_category</th>\n    </tr>\n    <tr>\n      <th>Title</th>\n      <th></th>\n      <th></th>\n      <th></th>\n      <th></th>\n      <th></th>\n      <th></th>\n      <th></th>\n      <th></th>\n      <th></th>\n      <th></th>\n      <th></th>\n      <th></th>\n    </tr>\n  </thead>\n  <tbody>\n    <tr>\n      <th>Guardians of the Galaxy</th>\n      <td>1</td>\n      <td>Action,Adventure,Sci-Fi</td>\n      <td>A group of intergalactic criminals are forced ...</td>\n      <td>James Gunn</td>\n      <td>Chris Pratt, Vin Diesel, Bradley Cooper, Zoe S...</td>\n      <td>2014</td>\n      <td>121</td>\n      <td>8.1</td>\n      <td>757074</td>\n      <td>333.13</td>\n      <td>76.0</td>\n      <td>good</td>\n    </tr>\n    <tr>\n      <th>Prometheus</th>\n      <td>2</td>\n      <td>Adventure,Mystery,Sci-Fi</td>\n      <td>Following clues to the origin of mankind, a te...</td>\n      <td>Ridley Scott</td>\n      <td>Noomi Rapace, Logan Marshall-Green, Michael Fa...</td>\n      <td>2012</td>\n      <td>124</td>\n      <td>7.0</td>\n      <td>485820</td>\n      <td>126.46</td>\n      <td>65.0</td>\n      <td>bad</td>\n    </tr>\n    <tr>\n      <th>Split</th>\n      <td>3</td>\n      <td>Horror,Thriller</td>\n      <td>Three girls are kidnapped by a man with a diag...</td>\n      <td>M. Night Shyamalan</td>\n      <td>James McAvoy, Anya Taylor-Joy, Haley Lu Richar...</td>\n      <td>2016</td>\n      <td>117</td>\n      <td>7.3</td>\n      <td>157606</td>\n      <td>138.12</td>\n      <td>62.0</td>\n      <td>bad</td>\n    </tr>\n    <tr>\n      <th>Sing</th>\n      <td>4</td>\n      <td>Animation,Comedy,Family</td>\n      <td>In a city of humanoid animals, a hustling thea...</td>\n      <td>Christophe Lourdelet</td>\n      <td>Matthew McConaughey,Reese Witherspoon, Seth Ma...</td>\n      <td>2016</td>\n      <td>108</td>\n      <td>7.2</td>\n      <td>60545</td>\n      <td>270.32</td>\n      <td>59.0</td>\n      <td>bad</td>\n    </tr>\n    <tr>\n      <th>Suicide Squad</th>\n      <td>5</td>\n      <td>Action,Adventure,Fantasy</td>\n      <td>A secret government agency recruits some of th...</td>\n      <td>David Ayer</td>\n      <td>Will Smith, Jared Leto, Margot Robbie, Viola D...</td>\n      <td>2016</td>\n      <td>123</td>\n      <td>6.2</td>\n      <td>393727</td>\n      <td>325.02</td>\n      <td>40.0</td>\n      <td>bad</td>\n    </tr>\n  </tbody>\n</table>\n</div>"
     },
     "metadata": {}
    }
   ]
  },
  {
   "cell_type": "code",
   "metadata": {
    "tags": [],
    "cell_id": "00096-41eaa9f1-8b4a-400e-b0ea-7033a69639e6",
    "deepnote_cell_type": "code"
   },
   "source": "df_movies['director'] == \"Ridley Scott\"",
   "execution_count": null,
   "outputs": []
  },
  {
   "cell_type": "code",
   "metadata": {
    "tags": [],
    "cell_id": "00096-dbd58bdc-c654-4d95-b5d8-ce01b291e7a8",
    "deepnote_to_be_reexecuted": false,
    "source_hash": "b3967f38",
    "execution_start": 1624551308484,
    "execution_millis": 14,
    "deepnote_cell_type": "code"
   },
   "source": "df_movies[df_movies['director'] == \"Ridley Scott\"]",
   "execution_count": null,
   "outputs": [
    {
     "output_type": "execute_result",
     "execution_count": 107,
     "data": {
      "application/vnd.deepnote.dataframe.v2+json": {
       "row_count": 8,
       "column_count": 12,
       "columns": [
        {
         "name": "rank",
         "dtype": "int64",
         "stats": {
          "unique_count": 8,
          "nan_count": 0,
          "min": "2",
          "max": "738",
          "histogram": [
           {
            "bin_start": 2,
            "bin_end": 75.6,
            "count": 1
           },
           {
            "bin_start": 75.6,
            "bin_end": 149.2,
            "count": 1
           },
           {
            "bin_start": 149.2,
            "bin_end": 222.79999999999998,
            "count": 0
           },
           {
            "bin_start": 222.79999999999998,
            "bin_end": 296.4,
            "count": 0
           },
           {
            "bin_start": 296.4,
            "bin_end": 370,
            "count": 0
           },
           {
            "bin_start": 370,
            "bin_end": 443.59999999999997,
            "count": 1
           },
           {
            "bin_start": 443.59999999999997,
            "bin_end": 517.1999999999999,
            "count": 2
           },
           {
            "bin_start": 517.1999999999999,
            "bin_end": 590.8,
            "count": 2
           },
           {
            "bin_start": 590.8,
            "bin_end": 664.4,
            "count": 0
           },
           {
            "bin_start": 664.4,
            "bin_end": 738,
            "count": 1
           }
          ]
         }
        },
        {
         "name": "genre",
         "dtype": "object",
         "stats": {
          "unique_count": 7,
          "nan_count": 0,
          "categories": [
           {
            "name": "Action,Adventure,Drama",
            "count": 2
           },
           {
            "name": "Adventure,Mystery,Sci-Fi",
            "count": 1
           },
           {
            "name": "5 others",
            "count": 5
           }
          ]
         }
        },
        {
         "name": "description",
         "dtype": "object",
         "stats": {
          "unique_count": 8,
          "nan_count": 0,
          "categories": [
           {
            "name": "Following clues to the origin of mankind, a team finds a structure on a distant moon, but they soon realize they are not alone.",
            "count": 1
           },
           {
            "name": "An astronaut becomes stranded on Mars after his team assume him dead, and must rely on his ingenuity to find a way to signal to Earth that he is alive.",
            "count": 1
           },
           {
            "name": "6 others",
            "count": 6
           }
          ]
         }
        },
        {
         "name": "director",
         "dtype": "object",
         "stats": {
          "unique_count": 1,
          "nan_count": 0,
          "categories": [
           {
            "name": "Ridley Scott",
            "count": 8
           }
          ]
         }
        },
        {
         "name": "actors",
         "dtype": "object",
         "stats": {
          "unique_count": 8,
          "nan_count": 0,
          "categories": [
           {
            "name": "Noomi Rapace, Logan Marshall-Green, Michael Fassbender, Charlize Theron",
            "count": 1
           },
           {
            "name": "Matt Damon, Jessica Chastain, Kristen Wiig, Kate Mara",
            "count": 1
           },
           {
            "name": "6 others",
            "count": 6
           }
          ]
         }
        },
        {
         "name": "year",
         "dtype": "int64",
         "stats": {
          "unique_count": 8,
          "nan_count": 0,
          "min": "2006",
          "max": "2015",
          "histogram": [
           {
            "bin_start": 2006,
            "bin_end": 2006.9,
            "count": 1
           },
           {
            "bin_start": 2006.9,
            "bin_end": 2007.8,
            "count": 1
           },
           {
            "bin_start": 2007.8,
            "bin_end": 2008.7,
            "count": 1
           },
           {
            "bin_start": 2008.7,
            "bin_end": 2009.6,
            "count": 0
           },
           {
            "bin_start": 2009.6,
            "bin_end": 2010.5,
            "count": 1
           },
           {
            "bin_start": 2010.5,
            "bin_end": 2011.4,
            "count": 0
           },
           {
            "bin_start": 2011.4,
            "bin_end": 2012.3,
            "count": 1
           },
           {
            "bin_start": 2012.3,
            "bin_end": 2013.2,
            "count": 1
           },
           {
            "bin_start": 2013.2,
            "bin_end": 2014.1,
            "count": 1
           },
           {
            "bin_start": 2014.1,
            "bin_end": 2015,
            "count": 1
           }
          ]
         }
        },
        {
         "name": "runtime",
         "dtype": "int64",
         "stats": {
          "unique_count": 7,
          "nan_count": 0,
          "min": "117",
          "max": "157",
          "histogram": [
           {
            "bin_start": 117,
            "bin_end": 121,
            "count": 2
           },
           {
            "bin_start": 121,
            "bin_end": 125,
            "count": 1
           },
           {
            "bin_start": 125,
            "bin_end": 129,
            "count": 1
           },
           {
            "bin_start": 129,
            "bin_end": 133,
            "count": 0
           },
           {
            "bin_start": 133,
            "bin_end": 137,
            "count": 0
           },
           {
            "bin_start": 137,
            "bin_end": 141,
            "count": 1
           },
           {
            "bin_start": 141,
            "bin_end": 145,
            "count": 1
           },
           {
            "bin_start": 145,
            "bin_end": 149,
            "count": 0
           },
           {
            "bin_start": 149,
            "bin_end": 153,
            "count": 1
           },
           {
            "bin_start": 153,
            "bin_end": 157,
            "count": 1
           }
          ]
         }
        },
        {
         "name": "rating",
         "dtype": "float64",
         "stats": {
          "unique_count": 8,
          "nan_count": 0,
          "min": "5.3",
          "max": "8.0",
          "histogram": [
           {
            "bin_start": 5.3,
            "bin_end": 5.57,
            "count": 1
           },
           {
            "bin_start": 5.57,
            "bin_end": 5.84,
            "count": 0
           },
           {
            "bin_start": 5.84,
            "bin_end": 6.109999999999999,
            "count": 1
           },
           {
            "bin_start": 6.109999999999999,
            "bin_end": 6.38,
            "count": 0
           },
           {
            "bin_start": 6.38,
            "bin_end": 6.65,
            "count": 0
           },
           {
            "bin_start": 6.65,
            "bin_end": 6.92,
            "count": 2
           },
           {
            "bin_start": 6.92,
            "bin_end": 7.1899999999999995,
            "count": 2
           },
           {
            "bin_start": 7.1899999999999995,
            "bin_end": 7.46,
            "count": 0
           },
           {
            "bin_start": 7.46,
            "bin_end": 7.73,
            "count": 0
           },
           {
            "bin_start": 7.73,
            "bin_end": 8,
            "count": 2
           }
          ]
         }
        },
        {
         "name": "votes",
         "dtype": "int64",
         "stats": {
          "unique_count": 8,
          "nan_count": 0,
          "min": "74674",
          "max": "556097",
          "histogram": [
           {
            "bin_start": 74674,
            "bin_end": 122816.3,
            "count": 2
           },
           {
            "bin_start": 122816.3,
            "bin_end": 170958.6,
            "count": 1
           },
           {
            "bin_start": 170958.6,
            "bin_end": 219100.90000000002,
            "count": 1
           },
           {
            "bin_start": 219100.90000000002,
            "bin_end": 267243.2,
            "count": 1
           },
           {
            "bin_start": 267243.2,
            "bin_end": 315385.5,
            "count": 0
           },
           {
            "bin_start": 315385.5,
            "bin_end": 363527.80000000005,
            "count": 1
           },
           {
            "bin_start": 363527.80000000005,
            "bin_end": 411670.10000000003,
            "count": 0
           },
           {
            "bin_start": 411670.10000000003,
            "bin_end": 459812.4,
            "count": 0
           },
           {
            "bin_start": 459812.4,
            "bin_end": 507954.7,
            "count": 1
           },
           {
            "bin_start": 507954.7,
            "bin_end": 556097,
            "count": 1
           }
          ]
         }
        },
        {
         "name": "revenue_millions",
         "dtype": "float64",
         "stats": {
          "unique_count": 8,
          "nan_count": 0,
          "min": "7.46",
          "max": "228.43",
          "histogram": [
           {
            "bin_start": 7.46,
            "bin_end": 29.557000000000002,
            "count": 2
           },
           {
            "bin_start": 29.557000000000002,
            "bin_end": 51.654,
            "count": 1
           },
           {
            "bin_start": 51.654,
            "bin_end": 73.75099999999999,
            "count": 1
           },
           {
            "bin_start": 73.75099999999999,
            "bin_end": 95.848,
            "count": 0
           },
           {
            "bin_start": 95.848,
            "bin_end": 117.94500000000001,
            "count": 1
           },
           {
            "bin_start": 117.94500000000001,
            "bin_end": 140.042,
            "count": 2
           },
           {
            "bin_start": 140.042,
            "bin_end": 162.139,
            "count": 0
           },
           {
            "bin_start": 162.139,
            "bin_end": 184.23600000000002,
            "count": 0
           },
           {
            "bin_start": 184.23600000000002,
            "bin_end": 206.33300000000003,
            "count": 0
           },
           {
            "bin_start": 206.33300000000003,
            "bin_end": 228.43,
            "count": 1
           }
          ]
         }
        },
        {
         "name": "metascore",
         "dtype": "float64",
         "stats": {
          "unique_count": 8,
          "nan_count": 0,
          "min": "47.0",
          "max": "80.0",
          "histogram": [
           {
            "bin_start": 47,
            "bin_end": 50.3,
            "count": 2
           },
           {
            "bin_start": 50.3,
            "bin_end": 53.6,
            "count": 2
           },
           {
            "bin_start": 53.6,
            "bin_end": 56.9,
            "count": 0
           },
           {
            "bin_start": 56.9,
            "bin_end": 60.2,
            "count": 1
           },
           {
            "bin_start": 60.2,
            "bin_end": 63.5,
            "count": 0
           },
           {
            "bin_start": 63.5,
            "bin_end": 66.8,
            "count": 1
           },
           {
            "bin_start": 66.8,
            "bin_end": 70.1,
            "count": 0
           },
           {
            "bin_start": 70.1,
            "bin_end": 73.4,
            "count": 0
           },
           {
            "bin_start": 73.4,
            "bin_end": 76.7,
            "count": 1
           },
           {
            "bin_start": 76.7,
            "bin_end": 80,
            "count": 1
           }
          ]
         }
        },
        {
         "name": "rating_category",
         "dtype": "object",
         "stats": {
          "unique_count": 2,
          "nan_count": 0,
          "categories": [
           {
            "name": "bad",
            "count": 7
           },
           {
            "name": "good",
            "count": 1
           }
          ]
         }
        },
        {
         "name": "_deepnote_index_column",
         "dtype": "object"
        }
       ],
       "rows_top": [
        {
         "rank": 2,
         "genre": "Adventure,Mystery,Sci-Fi",
         "description": "Following clues to the origin of mankind, a team finds a structure on a distant moon, but they soon…",
         "director": "Ridley Scott",
         "actors": "Noomi Rapace, Logan Marshall-Green, Michael Fassbender, Charlize Theron",
         "year": 2012,
         "runtime": 124,
         "rating": 7,
         "votes": 485820,
         "revenue_millions": 126.46,
         "metascore": 65,
         "rating_category": "bad",
         "_deepnote_index_column": "Prometheus"
        },
        {
         "rank": 103,
         "genre": "Adventure,Drama,Sci-Fi",
         "description": "An astronaut becomes stranded on Mars after his team assume him dead, and must rely on his ingenuit…",
         "director": "Ridley Scott",
         "actors": "Matt Damon, Jessica Chastain, Kristen Wiig, Kate Mara",
         "year": 2015,
         "runtime": 144,
         "rating": 8,
         "votes": 556097,
         "revenue_millions": 228.43,
         "metascore": 80,
         "rating_category": "good",
         "_deepnote_index_column": "The Martian"
        },
        {
         "rank": 388,
         "genre": "Action,Adventure,Drama",
         "description": "In 12th century England, Robin and his band of marauders confront corruption in a local village and…",
         "director": "Ridley Scott",
         "actors": "Russell Crowe, Cate Blanchett, Matthew Macfadyen,Max von Sydow",
         "year": 2010,
         "runtime": 140,
         "rating": 6.7,
         "votes": 221117,
         "revenue_millions": 105.22,
         "metascore": 53,
         "rating_category": "bad",
         "_deepnote_index_column": "Robin Hood"
        },
        {
         "rank": 471,
         "genre": "Biography,Crime,Drama",
         "description": "In 1970s America, a detective works to bring down the drug empire of Frank Lucas, a heroin kingpin …",
         "director": "Ridley Scott",
         "actors": "Denzel Washington, Russell Crowe, Chiwetel Ejiofor,Josh Brolin",
         "year": 2007,
         "runtime": 157,
         "rating": 7.8,
         "votes": 337835,
         "revenue_millions": 130.13,
         "metascore": 76,
         "rating_category": "bad",
         "_deepnote_index_column": "American Gangster"
        },
        {
         "rank": 517,
         "genre": "Action,Adventure,Drama",
         "description": "The defiant leader Moses rises up against the Egyptian Pharaoh Ramses, setting 600,000 slaves on a …",
         "director": "Ridley Scott",
         "actors": "Christian Bale, Joel Edgerton, Ben Kingsley, Sigourney Weaver",
         "year": 2014,
         "runtime": 150,
         "rating": 6,
         "votes": 137299,
         "revenue_millions": 65.01,
         "metascore": 52,
         "rating_category": "bad",
         "_deepnote_index_column": "Exodus: Gods and Kings"
        },
        {
         "rank": 522,
         "genre": "Crime,Drama,Thriller",
         "description": "A lawyer finds himself in over his head when he gets involved in drug trafficking.",
         "director": "Ridley Scott",
         "actors": "Michael Fassbender, Penélope Cruz, Cameron Diaz,Javier Bardem",
         "year": 2013,
         "runtime": 117,
         "rating": 5.3,
         "votes": 84927,
         "revenue_millions": 16.97,
         "metascore": 48,
         "rating_category": "bad",
         "_deepnote_index_column": "The Counselor"
        },
        {
         "rank": 531,
         "genre": "Comedy,Drama,Romance",
         "description": "A British investment broker inherits his uncle's chateau and vineyard in Provence, where he spent m…",
         "director": "Ridley Scott",
         "actors": "Russell Crowe, Abbie Cornish, Albert Finney, Marion Cotillard",
         "year": 2006,
         "runtime": 117,
         "rating": 6.9,
         "votes": 74674,
         "revenue_millions": 7.46,
         "metascore": 47,
         "rating_category": "bad",
         "_deepnote_index_column": "A Good Year"
        },
        {
         "rank": 738,
         "genre": "Action,Drama,Romance",
         "description": "A CIA agent on the ground in Jordan hunts down a powerful terrorist leader while being caught betwe…",
         "director": "Ridley Scott",
         "actors": "Leonardo DiCaprio, Russell Crowe, Mark Strong,Golshifteh Farahani",
         "year": 2008,
         "runtime": 128,
         "rating": 7.1,
         "votes": 182305,
         "revenue_millions": 39.38,
         "metascore": 57,
         "rating_category": "bad",
         "_deepnote_index_column": "Body of Lies"
        }
       ],
       "rows_bottom": null
      },
      "text/plain": "                        rank                     genre  \\\nTitle                                                    \nPrometheus                 2  Adventure,Mystery,Sci-Fi   \nThe Martian              103    Adventure,Drama,Sci-Fi   \nRobin Hood               388    Action,Adventure,Drama   \nAmerican Gangster        471     Biography,Crime,Drama   \nExodus: Gods and Kings   517    Action,Adventure,Drama   \nThe Counselor            522      Crime,Drama,Thriller   \nA Good Year              531      Comedy,Drama,Romance   \nBody of Lies             738      Action,Drama,Romance   \n\n                                                              description  \\\nTitle                                                                       \nPrometheus              Following clues to the origin of mankind, a te...   \nThe Martian             An astronaut becomes stranded on Mars after hi...   \nRobin Hood              In 12th century England, Robin and his band of...   \nAmerican Gangster       In 1970s America, a detective works to bring d...   \nExodus: Gods and Kings  The defiant leader Moses rises up against the ...   \nThe Counselor           A lawyer finds himself in over his head when h...   \nA Good Year             A British investment broker inherits his uncle...   \nBody of Lies            A CIA agent on the ground in Jordan hunts down...   \n\n                            director  \\\nTitle                                  \nPrometheus              Ridley Scott   \nThe Martian             Ridley Scott   \nRobin Hood              Ridley Scott   \nAmerican Gangster       Ridley Scott   \nExodus: Gods and Kings  Ridley Scott   \nThe Counselor           Ridley Scott   \nA Good Year             Ridley Scott   \nBody of Lies            Ridley Scott   \n\n                                                                   actors  \\\nTitle                                                                       \nPrometheus              Noomi Rapace, Logan Marshall-Green, Michael Fa...   \nThe Martian             Matt Damon, Jessica Chastain, Kristen Wiig, Ka...   \nRobin Hood              Russell Crowe, Cate Blanchett, Matthew Macfady...   \nAmerican Gangster       Denzel Washington, Russell Crowe, Chiwetel Eji...   \nExodus: Gods and Kings  Christian Bale, Joel Edgerton, Ben Kingsley, S...   \nThe Counselor           Michael Fassbender, Penélope Cruz, Cameron Dia...   \nA Good Year             Russell Crowe, Abbie Cornish, Albert Finney, M...   \nBody of Lies            Leonardo DiCaprio, Russell Crowe, Mark Strong,...   \n\n                        year  runtime  rating   votes  revenue_millions  \\\nTitle                                                                     \nPrometheus              2012      124     7.0  485820            126.46   \nThe Martian             2015      144     8.0  556097            228.43   \nRobin Hood              2010      140     6.7  221117            105.22   \nAmerican Gangster       2007      157     7.8  337835            130.13   \nExodus: Gods and Kings  2014      150     6.0  137299             65.01   \nThe Counselor           2013      117     5.3   84927             16.97   \nA Good Year             2006      117     6.9   74674              7.46   \nBody of Lies            2008      128     7.1  182305             39.38   \n\n                        metascore rating_category  \nTitle                                              \nPrometheus                   65.0             bad  \nThe Martian                  80.0            good  \nRobin Hood                   53.0             bad  \nAmerican Gangster            76.0             bad  \nExodus: Gods and Kings       52.0             bad  \nThe Counselor                48.0             bad  \nA Good Year                  47.0             bad  \nBody of Lies                 57.0             bad  ",
      "text/html": "<div>\n<style scoped>\n    .dataframe tbody tr th:only-of-type {\n        vertical-align: middle;\n    }\n\n    .dataframe tbody tr th {\n        vertical-align: top;\n    }\n\n    .dataframe thead th {\n        text-align: right;\n    }\n</style>\n<table border=\"1\" class=\"dataframe\">\n  <thead>\n    <tr style=\"text-align: right;\">\n      <th></th>\n      <th>rank</th>\n      <th>genre</th>\n      <th>description</th>\n      <th>director</th>\n      <th>actors</th>\n      <th>year</th>\n      <th>runtime</th>\n      <th>rating</th>\n      <th>votes</th>\n      <th>revenue_millions</th>\n      <th>metascore</th>\n      <th>rating_category</th>\n    </tr>\n    <tr>\n      <th>Title</th>\n      <th></th>\n      <th></th>\n      <th></th>\n      <th></th>\n      <th></th>\n      <th></th>\n      <th></th>\n      <th></th>\n      <th></th>\n      <th></th>\n      <th></th>\n      <th></th>\n    </tr>\n  </thead>\n  <tbody>\n    <tr>\n      <th>Prometheus</th>\n      <td>2</td>\n      <td>Adventure,Mystery,Sci-Fi</td>\n      <td>Following clues to the origin of mankind, a te...</td>\n      <td>Ridley Scott</td>\n      <td>Noomi Rapace, Logan Marshall-Green, Michael Fa...</td>\n      <td>2012</td>\n      <td>124</td>\n      <td>7.0</td>\n      <td>485820</td>\n      <td>126.46</td>\n      <td>65.0</td>\n      <td>bad</td>\n    </tr>\n    <tr>\n      <th>The Martian</th>\n      <td>103</td>\n      <td>Adventure,Drama,Sci-Fi</td>\n      <td>An astronaut becomes stranded on Mars after hi...</td>\n      <td>Ridley Scott</td>\n      <td>Matt Damon, Jessica Chastain, Kristen Wiig, Ka...</td>\n      <td>2015</td>\n      <td>144</td>\n      <td>8.0</td>\n      <td>556097</td>\n      <td>228.43</td>\n      <td>80.0</td>\n      <td>good</td>\n    </tr>\n    <tr>\n      <th>Robin Hood</th>\n      <td>388</td>\n      <td>Action,Adventure,Drama</td>\n      <td>In 12th century England, Robin and his band of...</td>\n      <td>Ridley Scott</td>\n      <td>Russell Crowe, Cate Blanchett, Matthew Macfady...</td>\n      <td>2010</td>\n      <td>140</td>\n      <td>6.7</td>\n      <td>221117</td>\n      <td>105.22</td>\n      <td>53.0</td>\n      <td>bad</td>\n    </tr>\n    <tr>\n      <th>American Gangster</th>\n      <td>471</td>\n      <td>Biography,Crime,Drama</td>\n      <td>In 1970s America, a detective works to bring d...</td>\n      <td>Ridley Scott</td>\n      <td>Denzel Washington, Russell Crowe, Chiwetel Eji...</td>\n      <td>2007</td>\n      <td>157</td>\n      <td>7.8</td>\n      <td>337835</td>\n      <td>130.13</td>\n      <td>76.0</td>\n      <td>bad</td>\n    </tr>\n    <tr>\n      <th>Exodus: Gods and Kings</th>\n      <td>517</td>\n      <td>Action,Adventure,Drama</td>\n      <td>The defiant leader Moses rises up against the ...</td>\n      <td>Ridley Scott</td>\n      <td>Christian Bale, Joel Edgerton, Ben Kingsley, S...</td>\n      <td>2014</td>\n      <td>150</td>\n      <td>6.0</td>\n      <td>137299</td>\n      <td>65.01</td>\n      <td>52.0</td>\n      <td>bad</td>\n    </tr>\n    <tr>\n      <th>The Counselor</th>\n      <td>522</td>\n      <td>Crime,Drama,Thriller</td>\n      <td>A lawyer finds himself in over his head when h...</td>\n      <td>Ridley Scott</td>\n      <td>Michael Fassbender, Penélope Cruz, Cameron Dia...</td>\n      <td>2013</td>\n      <td>117</td>\n      <td>5.3</td>\n      <td>84927</td>\n      <td>16.97</td>\n      <td>48.0</td>\n      <td>bad</td>\n    </tr>\n    <tr>\n      <th>A Good Year</th>\n      <td>531</td>\n      <td>Comedy,Drama,Romance</td>\n      <td>A British investment broker inherits his uncle...</td>\n      <td>Ridley Scott</td>\n      <td>Russell Crowe, Abbie Cornish, Albert Finney, M...</td>\n      <td>2006</td>\n      <td>117</td>\n      <td>6.9</td>\n      <td>74674</td>\n      <td>7.46</td>\n      <td>47.0</td>\n      <td>bad</td>\n    </tr>\n    <tr>\n      <th>Body of Lies</th>\n      <td>738</td>\n      <td>Action,Drama,Romance</td>\n      <td>A CIA agent on the ground in Jordan hunts down...</td>\n      <td>Ridley Scott</td>\n      <td>Leonardo DiCaprio, Russell Crowe, Mark Strong,...</td>\n      <td>2008</td>\n      <td>128</td>\n      <td>7.1</td>\n      <td>182305</td>\n      <td>39.38</td>\n      <td>57.0</td>\n      <td>bad</td>\n    </tr>\n  </tbody>\n</table>\n</div>"
     },
     "metadata": {}
    }
   ]
  },
  {
   "cell_type": "code",
   "metadata": {
    "id": "tzFuT-UMxCjn",
    "colab": {
     "base_uri": "https://localhost:8080/",
     "height": 224
    },
    "executionInfo": {
     "status": "ok",
     "timestamp": 1600743816707,
     "user_tz": -60,
     "elapsed": 436,
     "user": {
      "displayName": "Daniel Anton",
      "photoUrl": "",
      "userId": "07817160354765211624"
     }
    },
    "outputId": "54a4eaab-e5fd-422e-d632-5d95ab5562f1",
    "cell_id": "00106-2eb00c62-2fb6-4e12-a4b8-7244cb6d12d3",
    "deepnote_to_be_reexecuted": false,
    "source_hash": "591a694a",
    "execution_start": 1624551394742,
    "execution_millis": 28,
    "deepnote_cell_type": "code"
   },
   "source": "df_movies[df_movies['rating'] >= 8.6]",
   "execution_count": null,
   "outputs": [
    {
     "output_type": "execute_result",
     "execution_count": 111,
     "data": {
      "application/vnd.deepnote.dataframe.v2+json": {
       "row_count": 6,
       "column_count": 12,
       "columns": [
        {
         "name": "rank",
         "dtype": "int64",
         "stats": {
          "unique_count": 6,
          "nan_count": 0,
          "min": "37",
          "max": "250",
          "histogram": [
           {
            "bin_start": 37,
            "bin_end": 58.3,
            "count": 2
           },
           {
            "bin_start": 58.3,
            "bin_end": 79.6,
            "count": 0
           },
           {
            "bin_start": 79.6,
            "bin_end": 100.9,
            "count": 2
           },
           {
            "bin_start": 100.9,
            "bin_end": 122.2,
            "count": 1
           },
           {
            "bin_start": 122.2,
            "bin_end": 143.5,
            "count": 0
           },
           {
            "bin_start": 143.5,
            "bin_end": 164.8,
            "count": 0
           },
           {
            "bin_start": 164.8,
            "bin_end": 186.1,
            "count": 0
           },
           {
            "bin_start": 186.1,
            "bin_end": 207.4,
            "count": 0
           },
           {
            "bin_start": 207.4,
            "bin_end": 228.70000000000002,
            "count": 0
           },
           {
            "bin_start": 228.70000000000002,
            "bin_end": 250,
            "count": 1
           }
          ]
         }
        },
        {
         "name": "genre",
         "dtype": "object",
         "stats": {
          "unique_count": 6,
          "nan_count": 0,
          "categories": [
           {
            "name": "Adventure,Drama,Sci-Fi",
            "count": 1
           },
           {
            "name": "Action,Crime,Drama",
            "count": 1
           },
           {
            "name": "4 others",
            "count": 4
           }
          ]
         }
        },
        {
         "name": "description",
         "dtype": "object",
         "stats": {
          "unique_count": 6,
          "nan_count": 0,
          "categories": [
           {
            "name": "A team of explorers travel through a wormhole in space in an attempt to ensure humanity's survival.",
            "count": 1
           },
           {
            "name": "When the menace known as the Joker wreaks havoc and chaos on the people of Gotham, the Dark Knight must come to terms with one of the greatest psychological tests of his ability to fight injustice.",
            "count": 1
           },
           {
            "name": "4 others",
            "count": 4
           }
          ]
         }
        },
        {
         "name": "director",
         "dtype": "object",
         "stats": {
          "unique_count": 4,
          "nan_count": 0,
          "categories": [
           {
            "name": "Christopher Nolan",
            "count": 3
           },
           {
            "name": "Makoto Shinkai",
            "count": 1
           },
           {
            "name": "2 others",
            "count": 2
           }
          ]
         }
        },
        {
         "name": "actors",
         "dtype": "object",
         "stats": {
          "unique_count": 6,
          "nan_count": 0,
          "categories": [
           {
            "name": "Matthew McConaughey, Anne Hathaway, Jessica Chastain, Mackenzie Foy",
            "count": 1
           },
           {
            "name": "Christian Bale, Heath Ledger, Aaron Eckhart,Michael Caine",
            "count": 1
           },
           {
            "name": "4 others",
            "count": 4
           }
          ]
         }
        },
        {
         "name": "year",
         "dtype": "int64",
         "stats": {
          "unique_count": 5,
          "nan_count": 0,
          "min": "2008",
          "max": "2016",
          "histogram": [
           {
            "bin_start": 2008,
            "bin_end": 2008.8,
            "count": 1
           },
           {
            "bin_start": 2008.8,
            "bin_end": 2009.6,
            "count": 0
           },
           {
            "bin_start": 2009.6,
            "bin_end": 2010.4,
            "count": 1
           },
           {
            "bin_start": 2010.4,
            "bin_end": 2011.2,
            "count": 1
           },
           {
            "bin_start": 2011.2,
            "bin_end": 2012,
            "count": 0
           },
           {
            "bin_start": 2012,
            "bin_end": 2012.8,
            "count": 0
           },
           {
            "bin_start": 2012.8,
            "bin_end": 2013.6,
            "count": 0
           },
           {
            "bin_start": 2013.6,
            "bin_end": 2014.4,
            "count": 1
           },
           {
            "bin_start": 2014.4,
            "bin_end": 2015.2,
            "count": 0
           },
           {
            "bin_start": 2015.2,
            "bin_end": 2016,
            "count": 2
           }
          ]
         }
        },
        {
         "name": "runtime",
         "dtype": "int64",
         "stats": {
          "unique_count": 6,
          "nan_count": 0,
          "min": "106",
          "max": "169",
          "histogram": [
           {
            "bin_start": 106,
            "bin_end": 112.3,
            "count": 2
           },
           {
            "bin_start": 112.3,
            "bin_end": 118.6,
            "count": 0
           },
           {
            "bin_start": 118.6,
            "bin_end": 124.9,
            "count": 0
           },
           {
            "bin_start": 124.9,
            "bin_end": 131.2,
            "count": 0
           },
           {
            "bin_start": 131.2,
            "bin_end": 137.5,
            "count": 0
           },
           {
            "bin_start": 137.5,
            "bin_end": 143.8,
            "count": 0
           },
           {
            "bin_start": 143.8,
            "bin_end": 150.1,
            "count": 1
           },
           {
            "bin_start": 150.1,
            "bin_end": 156.4,
            "count": 1
           },
           {
            "bin_start": 156.4,
            "bin_end": 162.7,
            "count": 1
           },
           {
            "bin_start": 162.7,
            "bin_end": 169,
            "count": 1
           }
          ]
         }
        },
        {
         "name": "rating",
         "dtype": "float64",
         "stats": {
          "unique_count": 3,
          "nan_count": 0,
          "min": "8.6",
          "max": "9.0",
          "histogram": [
           {
            "bin_start": 8.6,
            "bin_end": 8.64,
            "count": 3
           },
           {
            "bin_start": 8.64,
            "bin_end": 8.68,
            "count": 0
           },
           {
            "bin_start": 8.68,
            "bin_end": 8.719999999999999,
            "count": 0
           },
           {
            "bin_start": 8.719999999999999,
            "bin_end": 8.76,
            "count": 0
           },
           {
            "bin_start": 8.76,
            "bin_end": 8.8,
            "count": 0
           },
           {
            "bin_start": 8.8,
            "bin_end": 8.84,
            "count": 2
           },
           {
            "bin_start": 8.84,
            "bin_end": 8.879999999999999,
            "count": 0
           },
           {
            "bin_start": 8.879999999999999,
            "bin_end": 8.92,
            "count": 0
           },
           {
            "bin_start": 8.92,
            "bin_end": 8.96,
            "count": 0
           },
           {
            "bin_start": 8.96,
            "bin_end": 9,
            "count": 1
           }
          ]
         }
        },
        {
         "name": "votes",
         "dtype": "int64",
         "stats": {
          "unique_count": 6,
          "nan_count": 0,
          "min": "34110",
          "max": "1791916",
          "histogram": [
           {
            "bin_start": 34110,
            "bin_end": 209890.6,
            "count": 2
           },
           {
            "bin_start": 209890.6,
            "bin_end": 385671.2,
            "count": 0
           },
           {
            "bin_start": 385671.2,
            "bin_end": 561451.8,
            "count": 1
           },
           {
            "bin_start": 561451.8,
            "bin_end": 737232.4,
            "count": 0
           },
           {
            "bin_start": 737232.4,
            "bin_end": 913013,
            "count": 0
           },
           {
            "bin_start": 913013,
            "bin_end": 1088793.6,
            "count": 1
           },
           {
            "bin_start": 1088793.6,
            "bin_end": 1264574.2,
            "count": 0
           },
           {
            "bin_start": 1264574.2,
            "bin_end": 1440354.8,
            "count": 0
           },
           {
            "bin_start": 1440354.8,
            "bin_end": 1616135.4000000001,
            "count": 1
           },
           {
            "bin_start": 1616135.4000000001,
            "bin_end": 1791916,
            "count": 1
           }
          ]
         }
        },
        {
         "name": "revenue_millions",
         "dtype": "float64",
         "stats": {
          "unique_count": 6,
          "nan_count": 0,
          "min": "4.68",
          "max": "533.32",
          "histogram": [
           {
            "bin_start": 4.68,
            "bin_end": 57.54400000000001,
            "count": 3
           },
           {
            "bin_start": 57.54400000000001,
            "bin_end": 110.40800000000002,
            "count": 0
           },
           {
            "bin_start": 110.40800000000002,
            "bin_end": 163.27200000000005,
            "count": 0
           },
           {
            "bin_start": 163.27200000000005,
            "bin_end": 216.13600000000005,
            "count": 1
           },
           {
            "bin_start": 216.13600000000005,
            "bin_end": 269.00000000000006,
            "count": 0
           },
           {
            "bin_start": 269.00000000000006,
            "bin_end": 321.8640000000001,
            "count": 1
           },
           {
            "bin_start": 321.8640000000001,
            "bin_end": 374.72800000000007,
            "count": 0
           },
           {
            "bin_start": 374.72800000000007,
            "bin_end": 427.5920000000001,
            "count": 0
           },
           {
            "bin_start": 427.5920000000001,
            "bin_end": 480.45600000000013,
            "count": 0
           },
           {
            "bin_start": 480.45600000000013,
            "bin_end": 533.32,
            "count": 1
           }
          ]
         }
        },
        {
         "name": "metascore",
         "dtype": "float64",
         "stats": {
          "unique_count": 5,
          "nan_count": 0,
          "min": "57.0",
          "max": "82.0",
          "histogram": [
           {
            "bin_start": 57,
            "bin_end": 59.5,
            "count": 2
           },
           {
            "bin_start": 59.5,
            "bin_end": 62,
            "count": 0
           },
           {
            "bin_start": 62,
            "bin_end": 64.5,
            "count": 0
           },
           {
            "bin_start": 64.5,
            "bin_end": 67,
            "count": 0
           },
           {
            "bin_start": 67,
            "bin_end": 69.5,
            "count": 0
           },
           {
            "bin_start": 69.5,
            "bin_end": 72,
            "count": 0
           },
           {
            "bin_start": 72,
            "bin_end": 74.5,
            "count": 2
           },
           {
            "bin_start": 74.5,
            "bin_end": 77,
            "count": 0
           },
           {
            "bin_start": 77,
            "bin_end": 79.5,
            "count": 1
           },
           {
            "bin_start": 79.5,
            "bin_end": 82,
            "count": 1
           }
          ]
         }
        },
        {
         "name": "rating_category",
         "dtype": "object",
         "stats": {
          "unique_count": 1,
          "nan_count": 0,
          "categories": [
           {
            "name": "good",
            "count": 6
           }
          ]
         }
        },
        {
         "name": "_deepnote_index_column",
         "dtype": "object"
        }
       ],
       "rows_top": [
        {
         "rank": 37,
         "genre": "Adventure,Drama,Sci-Fi",
         "description": "A team of explorers travel through a wormhole in space in an attempt to ensure humanity's survival.",
         "director": "Christopher Nolan",
         "actors": "Matthew McConaughey, Anne Hathaway, Jessica Chastain, Mackenzie Foy",
         "year": 2014,
         "runtime": 169,
         "rating": 8.6,
         "votes": 1047747,
         "revenue_millions": 187.99,
         "metascore": 74,
         "rating_category": "good",
         "_deepnote_index_column": "Interstellar"
        },
        {
         "rank": 55,
         "genre": "Action,Crime,Drama",
         "description": "When the menace known as the Joker wreaks havoc and chaos on the people of Gotham, the Dark Knight …",
         "director": "Christopher Nolan",
         "actors": "Christian Bale, Heath Ledger, Aaron Eckhart,Michael Caine",
         "year": 2008,
         "runtime": 152,
         "rating": 9,
         "votes": 1791916,
         "revenue_millions": 533.32,
         "metascore": 82,
         "rating_category": "good",
         "_deepnote_index_column": "The Dark Knight"
        },
        {
         "rank": 81,
         "genre": "Action,Adventure,Sci-Fi",
         "description": "A thief, who steals corporate secrets through use of dream-sharing technology, is given the inverse…",
         "director": "Christopher Nolan",
         "actors": "Leonardo DiCaprio, Joseph Gordon-Levitt, Ellen Page, Ken Watanabe",
         "year": 2010,
         "runtime": 148,
         "rating": 8.8,
         "votes": 1583625,
         "revenue_millions": 292.57,
         "metascore": 74,
         "rating_category": "good",
         "_deepnote_index_column": "Inception"
        },
        {
         "rank": 97,
         "genre": "Animation,Drama,Fantasy",
         "description": "Two strangers find themselves linked in a bizarre way. When a connection forms, will distance be th…",
         "director": "Makoto Shinkai",
         "actors": "Ryûnosuke Kamiki, Mone Kamishiraishi, Ryô Narita, Aoi Yuki",
         "year": 2016,
         "runtime": 106,
         "rating": 8.6,
         "votes": 34110,
         "revenue_millions": 4.68,
         "metascore": 79,
         "rating_category": "good",
         "_deepnote_index_column": "Kimi no na wa"
        },
        {
         "rank": 118,
         "genre": "Action,Biography,Drama",
         "description": "Former wrestler Mahavir Singh Phogat and his two wrestler daughters struggle towards glory at the C…",
         "director": "Nitesh Tiwari",
         "actors": "Aamir Khan, Sakshi Tanwar, Fatima Sana Shaikh,Sanya Malhotra",
         "year": 2016,
         "runtime": 161,
         "rating": 8.8,
         "votes": 48969,
         "revenue_millions": 11.15,
         "metascore": 58.98504273504273,
         "rating_category": "good",
         "_deepnote_index_column": "Dangal"
        },
        {
         "rank": 250,
         "genre": "Biography,Comedy,Drama",
         "description": "After he becomes a quadriplegic from a paragliding accident, an aristocrat hires a young man from t…",
         "director": "Olivier Nakache",
         "actors": "François Cluzet, Omar Sy, Anne Le Ny, Audrey Fleurot",
         "year": 2011,
         "runtime": 112,
         "rating": 8.6,
         "votes": 557965,
         "revenue_millions": 13.18,
         "metascore": 57,
         "rating_category": "good",
         "_deepnote_index_column": "The Intouchables"
        }
       ],
       "rows_bottom": null
      },
      "text/plain": "                  rank                    genre  \\\nTitle                                             \nInterstellar        37   Adventure,Drama,Sci-Fi   \nThe Dark Knight     55       Action,Crime,Drama   \nInception           81  Action,Adventure,Sci-Fi   \nKimi no na wa       97  Animation,Drama,Fantasy   \nDangal             118   Action,Biography,Drama   \nThe Intouchables   250   Biography,Comedy,Drama   \n\n                                                        description  \\\nTitle                                                                 \nInterstellar      A team of explorers travel through a wormhole ...   \nThe Dark Knight   When the menace known as the Joker wreaks havo...   \nInception         A thief, who steals corporate secrets through ...   \nKimi no na wa     Two strangers find themselves linked in a biza...   \nDangal            Former wrestler Mahavir Singh Phogat and his t...   \nThe Intouchables  After he becomes a quadriplegic from a paragli...   \n\n                           director  \\\nTitle                                 \nInterstellar      Christopher Nolan   \nThe Dark Knight   Christopher Nolan   \nInception         Christopher Nolan   \nKimi no na wa        Makoto Shinkai   \nDangal                Nitesh Tiwari   \nThe Intouchables    Olivier Nakache   \n\n                                                             actors  year  \\\nTitle                                                                       \nInterstellar      Matthew McConaughey, Anne Hathaway, Jessica Ch...  2014   \nThe Dark Knight   Christian Bale, Heath Ledger, Aaron Eckhart,Mi...  2008   \nInception         Leonardo DiCaprio, Joseph Gordon-Levitt, Ellen...  2010   \nKimi no na wa     Ryûnosuke Kamiki, Mone Kamishiraishi, Ryô Nari...  2016   \nDangal            Aamir Khan, Sakshi Tanwar, Fatima Sana Shaikh,...  2016   \nThe Intouchables  François Cluzet, Omar Sy, Anne Le Ny, Audrey F...  2011   \n\n                  runtime  rating    votes  revenue_millions  metascore  \\\nTitle                                                                     \nInterstellar          169     8.6  1047747            187.99  74.000000   \nThe Dark Knight       152     9.0  1791916            533.32  82.000000   \nInception             148     8.8  1583625            292.57  74.000000   \nKimi no na wa         106     8.6    34110              4.68  79.000000   \nDangal                161     8.8    48969             11.15  58.985043   \nThe Intouchables      112     8.6   557965             13.18  57.000000   \n\n                 rating_category  \nTitle                             \nInterstellar                good  \nThe Dark Knight             good  \nInception                   good  \nKimi no na wa               good  \nDangal                      good  \nThe Intouchables            good  ",
      "text/html": "<div>\n<style scoped>\n    .dataframe tbody tr th:only-of-type {\n        vertical-align: middle;\n    }\n\n    .dataframe tbody tr th {\n        vertical-align: top;\n    }\n\n    .dataframe thead th {\n        text-align: right;\n    }\n</style>\n<table border=\"1\" class=\"dataframe\">\n  <thead>\n    <tr style=\"text-align: right;\">\n      <th></th>\n      <th>rank</th>\n      <th>genre</th>\n      <th>description</th>\n      <th>director</th>\n      <th>actors</th>\n      <th>year</th>\n      <th>runtime</th>\n      <th>rating</th>\n      <th>votes</th>\n      <th>revenue_millions</th>\n      <th>metascore</th>\n      <th>rating_category</th>\n    </tr>\n    <tr>\n      <th>Title</th>\n      <th></th>\n      <th></th>\n      <th></th>\n      <th></th>\n      <th></th>\n      <th></th>\n      <th></th>\n      <th></th>\n      <th></th>\n      <th></th>\n      <th></th>\n      <th></th>\n    </tr>\n  </thead>\n  <tbody>\n    <tr>\n      <th>Interstellar</th>\n      <td>37</td>\n      <td>Adventure,Drama,Sci-Fi</td>\n      <td>A team of explorers travel through a wormhole ...</td>\n      <td>Christopher Nolan</td>\n      <td>Matthew McConaughey, Anne Hathaway, Jessica Ch...</td>\n      <td>2014</td>\n      <td>169</td>\n      <td>8.6</td>\n      <td>1047747</td>\n      <td>187.99</td>\n      <td>74.000000</td>\n      <td>good</td>\n    </tr>\n    <tr>\n      <th>The Dark Knight</th>\n      <td>55</td>\n      <td>Action,Crime,Drama</td>\n      <td>When the menace known as the Joker wreaks havo...</td>\n      <td>Christopher Nolan</td>\n      <td>Christian Bale, Heath Ledger, Aaron Eckhart,Mi...</td>\n      <td>2008</td>\n      <td>152</td>\n      <td>9.0</td>\n      <td>1791916</td>\n      <td>533.32</td>\n      <td>82.000000</td>\n      <td>good</td>\n    </tr>\n    <tr>\n      <th>Inception</th>\n      <td>81</td>\n      <td>Action,Adventure,Sci-Fi</td>\n      <td>A thief, who steals corporate secrets through ...</td>\n      <td>Christopher Nolan</td>\n      <td>Leonardo DiCaprio, Joseph Gordon-Levitt, Ellen...</td>\n      <td>2010</td>\n      <td>148</td>\n      <td>8.8</td>\n      <td>1583625</td>\n      <td>292.57</td>\n      <td>74.000000</td>\n      <td>good</td>\n    </tr>\n    <tr>\n      <th>Kimi no na wa</th>\n      <td>97</td>\n      <td>Animation,Drama,Fantasy</td>\n      <td>Two strangers find themselves linked in a biza...</td>\n      <td>Makoto Shinkai</td>\n      <td>Ryûnosuke Kamiki, Mone Kamishiraishi, Ryô Nari...</td>\n      <td>2016</td>\n      <td>106</td>\n      <td>8.6</td>\n      <td>34110</td>\n      <td>4.68</td>\n      <td>79.000000</td>\n      <td>good</td>\n    </tr>\n    <tr>\n      <th>Dangal</th>\n      <td>118</td>\n      <td>Action,Biography,Drama</td>\n      <td>Former wrestler Mahavir Singh Phogat and his t...</td>\n      <td>Nitesh Tiwari</td>\n      <td>Aamir Khan, Sakshi Tanwar, Fatima Sana Shaikh,...</td>\n      <td>2016</td>\n      <td>161</td>\n      <td>8.8</td>\n      <td>48969</td>\n      <td>11.15</td>\n      <td>58.985043</td>\n      <td>good</td>\n    </tr>\n    <tr>\n      <th>The Intouchables</th>\n      <td>250</td>\n      <td>Biography,Comedy,Drama</td>\n      <td>After he becomes a quadriplegic from a paragli...</td>\n      <td>Olivier Nakache</td>\n      <td>François Cluzet, Omar Sy, Anne Le Ny, Audrey F...</td>\n      <td>2011</td>\n      <td>112</td>\n      <td>8.6</td>\n      <td>557965</td>\n      <td>13.18</td>\n      <td>57.000000</td>\n      <td>good</td>\n    </tr>\n  </tbody>\n</table>\n</div>"
     },
     "metadata": {}
    }
   ]
  },
  {
   "cell_type": "markdown",
   "source": "Conditional operators in pands use `|` for \"or\" and `&` for \"and\".",
   "metadata": {
    "id": "U0PE2ntMxRIt",
    "cell_id": "00107-176fe909-8381-49e3-b4fa-750f51d3c965",
    "deepnote_cell_type": "markdown"
   }
  },
  {
   "cell_type": "code",
   "metadata": {
    "id": "he_Sh2iaxIEO",
    "colab": {
     "base_uri": "https://localhost:8080/",
     "height": 320
    },
    "executionInfo": {
     "status": "ok",
     "timestamp": 1600743850294,
     "user_tz": -60,
     "elapsed": 464,
     "user": {
      "displayName": "Daniel Anton",
      "photoUrl": "",
      "userId": "07817160354765211624"
     }
    },
    "outputId": "41f9687a-4c99-4d60-dbe2-71ed1c812a58",
    "cell_id": "00108-93c02230-4027-4d08-bb73-231ea4f5e48b",
    "deepnote_to_be_reexecuted": false,
    "source_hash": "a1c3b872",
    "execution_start": 1624551493742,
    "execution_millis": 50,
    "deepnote_cell_type": "code"
   },
   "source": "df_movies[(df_movies['director'] == 'Christopher Nolan') | (df_movies['director'] == 'Ridley Scott')].head()\n",
   "execution_count": null,
   "outputs": [
    {
     "output_type": "execute_result",
     "execution_count": 116,
     "data": {
      "application/vnd.deepnote.dataframe.v2+json": {
       "row_count": 5,
       "column_count": 12,
       "columns": [
        {
         "name": "rank",
         "dtype": "int64",
         "stats": {
          "unique_count": 5,
          "nan_count": 0,
          "min": "2",
          "max": "81",
          "histogram": [
           {
            "bin_start": 2,
            "bin_end": 9.9,
            "count": 1
           },
           {
            "bin_start": 9.9,
            "bin_end": 17.8,
            "count": 0
           },
           {
            "bin_start": 17.8,
            "bin_end": 25.700000000000003,
            "count": 0
           },
           {
            "bin_start": 25.700000000000003,
            "bin_end": 33.6,
            "count": 0
           },
           {
            "bin_start": 33.6,
            "bin_end": 41.5,
            "count": 1
           },
           {
            "bin_start": 41.5,
            "bin_end": 49.400000000000006,
            "count": 0
           },
           {
            "bin_start": 49.400000000000006,
            "bin_end": 57.300000000000004,
            "count": 1
           },
           {
            "bin_start": 57.300000000000004,
            "bin_end": 65.2,
            "count": 1
           },
           {
            "bin_start": 65.2,
            "bin_end": 73.10000000000001,
            "count": 0
           },
           {
            "bin_start": 73.10000000000001,
            "bin_end": 81,
            "count": 1
           }
          ]
         }
        },
        {
         "name": "genre",
         "dtype": "object",
         "stats": {
          "unique_count": 5,
          "nan_count": 0,
          "categories": [
           {
            "name": "Adventure,Mystery,Sci-Fi",
            "count": 1
           },
           {
            "name": "Adventure,Drama,Sci-Fi",
            "count": 1
           },
           {
            "name": "3 others",
            "count": 3
           }
          ]
         }
        },
        {
         "name": "description",
         "dtype": "object",
         "stats": {
          "unique_count": 5,
          "nan_count": 0,
          "categories": [
           {
            "name": "Following clues to the origin of mankind, a team finds a structure on a distant moon, but they soon realize they are not alone.",
            "count": 1
           },
           {
            "name": "A team of explorers travel through a wormhole in space in an attempt to ensure humanity's survival.",
            "count": 1
           },
           {
            "name": "3 others",
            "count": 3
           }
          ]
         }
        },
        {
         "name": "director",
         "dtype": "object",
         "stats": {
          "unique_count": 2,
          "nan_count": 0,
          "categories": [
           {
            "name": "Christopher Nolan",
            "count": 4
           },
           {
            "name": "Ridley Scott",
            "count": 1
           }
          ]
         }
        },
        {
         "name": "actors",
         "dtype": "object",
         "stats": {
          "unique_count": 5,
          "nan_count": 0,
          "categories": [
           {
            "name": "Noomi Rapace, Logan Marshall-Green, Michael Fassbender, Charlize Theron",
            "count": 1
           },
           {
            "name": "Matthew McConaughey, Anne Hathaway, Jessica Chastain, Mackenzie Foy",
            "count": 1
           },
           {
            "name": "3 others",
            "count": 3
           }
          ]
         }
        },
        {
         "name": "year",
         "dtype": "int64",
         "stats": {
          "unique_count": 5,
          "nan_count": 0,
          "min": "2006",
          "max": "2014",
          "histogram": [
           {
            "bin_start": 2006,
            "bin_end": 2006.8,
            "count": 1
           },
           {
            "bin_start": 2006.8,
            "bin_end": 2007.6,
            "count": 0
           },
           {
            "bin_start": 2007.6,
            "bin_end": 2008.4,
            "count": 1
           },
           {
            "bin_start": 2008.4,
            "bin_end": 2009.2,
            "count": 0
           },
           {
            "bin_start": 2009.2,
            "bin_end": 2010,
            "count": 0
           },
           {
            "bin_start": 2010,
            "bin_end": 2010.8,
            "count": 1
           },
           {
            "bin_start": 2010.8,
            "bin_end": 2011.6,
            "count": 0
           },
           {
            "bin_start": 2011.6,
            "bin_end": 2012.4,
            "count": 1
           },
           {
            "bin_start": 2012.4,
            "bin_end": 2013.2,
            "count": 0
           },
           {
            "bin_start": 2013.2,
            "bin_end": 2014,
            "count": 1
           }
          ]
         }
        },
        {
         "name": "runtime",
         "dtype": "int64",
         "stats": {
          "unique_count": 5,
          "nan_count": 0,
          "min": "124",
          "max": "169",
          "histogram": [
           {
            "bin_start": 124,
            "bin_end": 128.5,
            "count": 1
           },
           {
            "bin_start": 128.5,
            "bin_end": 133,
            "count": 1
           },
           {
            "bin_start": 133,
            "bin_end": 137.5,
            "count": 0
           },
           {
            "bin_start": 137.5,
            "bin_end": 142,
            "count": 0
           },
           {
            "bin_start": 142,
            "bin_end": 146.5,
            "count": 0
           },
           {
            "bin_start": 146.5,
            "bin_end": 151,
            "count": 1
           },
           {
            "bin_start": 151,
            "bin_end": 155.5,
            "count": 1
           },
           {
            "bin_start": 155.5,
            "bin_end": 160,
            "count": 0
           },
           {
            "bin_start": 160,
            "bin_end": 164.5,
            "count": 0
           },
           {
            "bin_start": 164.5,
            "bin_end": 169,
            "count": 1
           }
          ]
         }
        },
        {
         "name": "rating",
         "dtype": "float64",
         "stats": {
          "unique_count": 5,
          "nan_count": 0,
          "min": "7.0",
          "max": "9.0",
          "histogram": [
           {
            "bin_start": 7,
            "bin_end": 7.2,
            "count": 1
           },
           {
            "bin_start": 7.2,
            "bin_end": 7.4,
            "count": 0
           },
           {
            "bin_start": 7.4,
            "bin_end": 7.6,
            "count": 0
           },
           {
            "bin_start": 7.6,
            "bin_end": 7.8,
            "count": 0
           },
           {
            "bin_start": 7.8,
            "bin_end": 8,
            "count": 0
           },
           {
            "bin_start": 8,
            "bin_end": 8.2,
            "count": 0
           },
           {
            "bin_start": 8.2,
            "bin_end": 8.4,
            "count": 0
           },
           {
            "bin_start": 8.4,
            "bin_end": 8.6,
            "count": 1
           },
           {
            "bin_start": 8.6,
            "bin_end": 8.8,
            "count": 1
           },
           {
            "bin_start": 8.8,
            "bin_end": 9,
            "count": 2
           }
          ]
         }
        },
        {
         "name": "votes",
         "dtype": "int64",
         "stats": {
          "unique_count": 5,
          "nan_count": 0,
          "min": "485820",
          "max": "1791916",
          "histogram": [
           {
            "bin_start": 485820,
            "bin_end": 616429.6,
            "count": 1
           },
           {
            "bin_start": 616429.6,
            "bin_end": 747039.2,
            "count": 0
           },
           {
            "bin_start": 747039.2,
            "bin_end": 877648.8,
            "count": 0
           },
           {
            "bin_start": 877648.8,
            "bin_end": 1008258.4,
            "count": 1
           },
           {
            "bin_start": 1008258.4,
            "bin_end": 1138868,
            "count": 1
           },
           {
            "bin_start": 1138868,
            "bin_end": 1269477.6,
            "count": 0
           },
           {
            "bin_start": 1269477.6,
            "bin_end": 1400087.2000000002,
            "count": 0
           },
           {
            "bin_start": 1400087.2000000002,
            "bin_end": 1530696.8,
            "count": 0
           },
           {
            "bin_start": 1530696.8,
            "bin_end": 1661306.4000000001,
            "count": 1
           },
           {
            "bin_start": 1661306.4000000001,
            "bin_end": 1791916,
            "count": 1
           }
          ]
         }
        },
        {
         "name": "revenue_millions",
         "dtype": "float64",
         "stats": {
          "unique_count": 5,
          "nan_count": 0,
          "min": "53.08",
          "max": "533.32",
          "histogram": [
           {
            "bin_start": 53.08,
            "bin_end": 101.10400000000001,
            "count": 1
           },
           {
            "bin_start": 101.10400000000001,
            "bin_end": 149.12800000000001,
            "count": 1
           },
           {
            "bin_start": 149.12800000000001,
            "bin_end": 197.15200000000004,
            "count": 1
           },
           {
            "bin_start": 197.15200000000004,
            "bin_end": 245.17600000000004,
            "count": 0
           },
           {
            "bin_start": 245.17600000000004,
            "bin_end": 293.20000000000005,
            "count": 1
           },
           {
            "bin_start": 293.20000000000005,
            "bin_end": 341.22400000000005,
            "count": 0
           },
           {
            "bin_start": 341.22400000000005,
            "bin_end": 389.24800000000005,
            "count": 0
           },
           {
            "bin_start": 389.24800000000005,
            "bin_end": 437.27200000000005,
            "count": 0
           },
           {
            "bin_start": 437.27200000000005,
            "bin_end": 485.29600000000005,
            "count": 0
           },
           {
            "bin_start": 485.29600000000005,
            "bin_end": 533.32,
            "count": 1
           }
          ]
         }
        },
        {
         "name": "metascore",
         "dtype": "float64",
         "stats": {
          "unique_count": 4,
          "nan_count": 0,
          "min": "65.0",
          "max": "82.0",
          "histogram": [
           {
            "bin_start": 65,
            "bin_end": 66.7,
            "count": 2
           },
           {
            "bin_start": 66.7,
            "bin_end": 68.4,
            "count": 0
           },
           {
            "bin_start": 68.4,
            "bin_end": 70.1,
            "count": 0
           },
           {
            "bin_start": 70.1,
            "bin_end": 71.8,
            "count": 0
           },
           {
            "bin_start": 71.8,
            "bin_end": 73.5,
            "count": 0
           },
           {
            "bin_start": 73.5,
            "bin_end": 75.2,
            "count": 2
           },
           {
            "bin_start": 75.2,
            "bin_end": 76.9,
            "count": 0
           },
           {
            "bin_start": 76.9,
            "bin_end": 78.6,
            "count": 0
           },
           {
            "bin_start": 78.6,
            "bin_end": 80.3,
            "count": 0
           },
           {
            "bin_start": 80.3,
            "bin_end": 82,
            "count": 1
           }
          ]
         }
        },
        {
         "name": "rating_category",
         "dtype": "object",
         "stats": {
          "unique_count": 2,
          "nan_count": 0,
          "categories": [
           {
            "name": "good",
            "count": 4
           },
           {
            "name": "bad",
            "count": 1
           }
          ]
         }
        },
        {
         "name": "_deepnote_index_column",
         "dtype": "object"
        }
       ],
       "rows_top": [
        {
         "rank": 2,
         "genre": "Adventure,Mystery,Sci-Fi",
         "description": "Following clues to the origin of mankind, a team finds a structure on a distant moon, but they soon…",
         "director": "Ridley Scott",
         "actors": "Noomi Rapace, Logan Marshall-Green, Michael Fassbender, Charlize Theron",
         "year": 2012,
         "runtime": 124,
         "rating": 7,
         "votes": 485820,
         "revenue_millions": 126.46,
         "metascore": 65,
         "rating_category": "bad",
         "_deepnote_index_column": "Prometheus"
        },
        {
         "rank": 37,
         "genre": "Adventure,Drama,Sci-Fi",
         "description": "A team of explorers travel through a wormhole in space in an attempt to ensure humanity's survival.",
         "director": "Christopher Nolan",
         "actors": "Matthew McConaughey, Anne Hathaway, Jessica Chastain, Mackenzie Foy",
         "year": 2014,
         "runtime": 169,
         "rating": 8.6,
         "votes": 1047747,
         "revenue_millions": 187.99,
         "metascore": 74,
         "rating_category": "good",
         "_deepnote_index_column": "Interstellar"
        },
        {
         "rank": 55,
         "genre": "Action,Crime,Drama",
         "description": "When the menace known as the Joker wreaks havoc and chaos on the people of Gotham, the Dark Knight …",
         "director": "Christopher Nolan",
         "actors": "Christian Bale, Heath Ledger, Aaron Eckhart,Michael Caine",
         "year": 2008,
         "runtime": 152,
         "rating": 9,
         "votes": 1791916,
         "revenue_millions": 533.32,
         "metascore": 82,
         "rating_category": "good",
         "_deepnote_index_column": "The Dark Knight"
        },
        {
         "rank": 65,
         "genre": "Drama,Mystery,Sci-Fi",
         "description": "Two stage magicians engage in competitive one-upmanship in an attempt to create the ultimate stage …",
         "director": "Christopher Nolan",
         "actors": "Christian Bale, Hugh Jackman, Scarlett Johansson, Michael Caine",
         "year": 2006,
         "runtime": 130,
         "rating": 8.5,
         "votes": 913152,
         "revenue_millions": 53.08,
         "metascore": 66,
         "rating_category": "good",
         "_deepnote_index_column": "The Prestige"
        },
        {
         "rank": 81,
         "genre": "Action,Adventure,Sci-Fi",
         "description": "A thief, who steals corporate secrets through use of dream-sharing technology, is given the inverse…",
         "director": "Christopher Nolan",
         "actors": "Leonardo DiCaprio, Joseph Gordon-Levitt, Ellen Page, Ken Watanabe",
         "year": 2010,
         "runtime": 148,
         "rating": 8.8,
         "votes": 1583625,
         "revenue_millions": 292.57,
         "metascore": 74,
         "rating_category": "good",
         "_deepnote_index_column": "Inception"
        }
       ],
       "rows_bottom": null
      },
      "text/plain": "                 rank                     genre  \\\nTitle                                             \nPrometheus          2  Adventure,Mystery,Sci-Fi   \nInterstellar       37    Adventure,Drama,Sci-Fi   \nThe Dark Knight    55        Action,Crime,Drama   \nThe Prestige       65      Drama,Mystery,Sci-Fi   \nInception          81   Action,Adventure,Sci-Fi   \n\n                                                       description  \\\nTitle                                                                \nPrometheus       Following clues to the origin of mankind, a te...   \nInterstellar     A team of explorers travel through a wormhole ...   \nThe Dark Knight  When the menace known as the Joker wreaks havo...   \nThe Prestige     Two stage magicians engage in competitive one-...   \nInception        A thief, who steals corporate secrets through ...   \n\n                          director  \\\nTitle                                \nPrometheus            Ridley Scott   \nInterstellar     Christopher Nolan   \nThe Dark Knight  Christopher Nolan   \nThe Prestige     Christopher Nolan   \nInception        Christopher Nolan   \n\n                                                            actors  year  \\\nTitle                                                                      \nPrometheus       Noomi Rapace, Logan Marshall-Green, Michael Fa...  2012   \nInterstellar     Matthew McConaughey, Anne Hathaway, Jessica Ch...  2014   \nThe Dark Knight  Christian Bale, Heath Ledger, Aaron Eckhart,Mi...  2008   \nThe Prestige     Christian Bale, Hugh Jackman, Scarlett Johanss...  2006   \nInception        Leonardo DiCaprio, Joseph Gordon-Levitt, Ellen...  2010   \n\n                 runtime  rating    votes  revenue_millions  metascore  \\\nTitle                                                                    \nPrometheus           124     7.0   485820            126.46       65.0   \nInterstellar         169     8.6  1047747            187.99       74.0   \nThe Dark Knight      152     9.0  1791916            533.32       82.0   \nThe Prestige         130     8.5   913152             53.08       66.0   \nInception            148     8.8  1583625            292.57       74.0   \n\n                rating_category  \nTitle                            \nPrometheus                  bad  \nInterstellar               good  \nThe Dark Knight            good  \nThe Prestige               good  \nInception                  good  ",
      "text/html": "<div>\n<style scoped>\n    .dataframe tbody tr th:only-of-type {\n        vertical-align: middle;\n    }\n\n    .dataframe tbody tr th {\n        vertical-align: top;\n    }\n\n    .dataframe thead th {\n        text-align: right;\n    }\n</style>\n<table border=\"1\" class=\"dataframe\">\n  <thead>\n    <tr style=\"text-align: right;\">\n      <th></th>\n      <th>rank</th>\n      <th>genre</th>\n      <th>description</th>\n      <th>director</th>\n      <th>actors</th>\n      <th>year</th>\n      <th>runtime</th>\n      <th>rating</th>\n      <th>votes</th>\n      <th>revenue_millions</th>\n      <th>metascore</th>\n      <th>rating_category</th>\n    </tr>\n    <tr>\n      <th>Title</th>\n      <th></th>\n      <th></th>\n      <th></th>\n      <th></th>\n      <th></th>\n      <th></th>\n      <th></th>\n      <th></th>\n      <th></th>\n      <th></th>\n      <th></th>\n      <th></th>\n    </tr>\n  </thead>\n  <tbody>\n    <tr>\n      <th>Prometheus</th>\n      <td>2</td>\n      <td>Adventure,Mystery,Sci-Fi</td>\n      <td>Following clues to the origin of mankind, a te...</td>\n      <td>Ridley Scott</td>\n      <td>Noomi Rapace, Logan Marshall-Green, Michael Fa...</td>\n      <td>2012</td>\n      <td>124</td>\n      <td>7.0</td>\n      <td>485820</td>\n      <td>126.46</td>\n      <td>65.0</td>\n      <td>bad</td>\n    </tr>\n    <tr>\n      <th>Interstellar</th>\n      <td>37</td>\n      <td>Adventure,Drama,Sci-Fi</td>\n      <td>A team of explorers travel through a wormhole ...</td>\n      <td>Christopher Nolan</td>\n      <td>Matthew McConaughey, Anne Hathaway, Jessica Ch...</td>\n      <td>2014</td>\n      <td>169</td>\n      <td>8.6</td>\n      <td>1047747</td>\n      <td>187.99</td>\n      <td>74.0</td>\n      <td>good</td>\n    </tr>\n    <tr>\n      <th>The Dark Knight</th>\n      <td>55</td>\n      <td>Action,Crime,Drama</td>\n      <td>When the menace known as the Joker wreaks havo...</td>\n      <td>Christopher Nolan</td>\n      <td>Christian Bale, Heath Ledger, Aaron Eckhart,Mi...</td>\n      <td>2008</td>\n      <td>152</td>\n      <td>9.0</td>\n      <td>1791916</td>\n      <td>533.32</td>\n      <td>82.0</td>\n      <td>good</td>\n    </tr>\n    <tr>\n      <th>The Prestige</th>\n      <td>65</td>\n      <td>Drama,Mystery,Sci-Fi</td>\n      <td>Two stage magicians engage in competitive one-...</td>\n      <td>Christopher Nolan</td>\n      <td>Christian Bale, Hugh Jackman, Scarlett Johanss...</td>\n      <td>2006</td>\n      <td>130</td>\n      <td>8.5</td>\n      <td>913152</td>\n      <td>53.08</td>\n      <td>66.0</td>\n      <td>good</td>\n    </tr>\n    <tr>\n      <th>Inception</th>\n      <td>81</td>\n      <td>Action,Adventure,Sci-Fi</td>\n      <td>A thief, who steals corporate secrets through ...</td>\n      <td>Christopher Nolan</td>\n      <td>Leonardo DiCaprio, Joseph Gordon-Levitt, Ellen...</td>\n      <td>2010</td>\n      <td>148</td>\n      <td>8.8</td>\n      <td>1583625</td>\n      <td>292.57</td>\n      <td>74.0</td>\n      <td>good</td>\n    </tr>\n  </tbody>\n</table>\n</div>"
     },
     "metadata": {}
    }
   ]
  },
  {
   "cell_type": "code",
   "metadata": {
    "id": "rV-J17SLxZYI",
    "colab": {
     "base_uri": "https://localhost:8080/",
     "height": 320
    },
    "executionInfo": {
     "status": "ok",
     "timestamp": 1600743910908,
     "user_tz": -60,
     "elapsed": 452,
     "user": {
      "displayName": "Daniel Anton",
      "photoUrl": "",
      "userId": "07817160354765211624"
     }
    },
    "outputId": "11537930-8ae2-43ea-ff89-15a76e70da8a",
    "cell_id": "00109-b4cdc078-fa30-4714-ab8e-5c2c4de2e06a",
    "deepnote_to_be_reexecuted": false,
    "source_hash": "c0baa3a3",
    "execution_start": 1624551560229,
    "execution_millis": 55,
    "deepnote_cell_type": "code"
   },
   "source": "list_of_directors = ['Christopher Nolan', 'Ridley Scott']\ndf_movies[df_movies['director'].isin(list_of_directors)].head()",
   "execution_count": null,
   "outputs": [
    {
     "output_type": "execute_result",
     "execution_count": 118,
     "data": {
      "application/vnd.deepnote.dataframe.v2+json": {
       "row_count": 5,
       "column_count": 12,
       "columns": [
        {
         "name": "rank",
         "dtype": "int64",
         "stats": {
          "unique_count": 5,
          "nan_count": 0,
          "min": "2",
          "max": "81",
          "histogram": [
           {
            "bin_start": 2,
            "bin_end": 9.9,
            "count": 1
           },
           {
            "bin_start": 9.9,
            "bin_end": 17.8,
            "count": 0
           },
           {
            "bin_start": 17.8,
            "bin_end": 25.700000000000003,
            "count": 0
           },
           {
            "bin_start": 25.700000000000003,
            "bin_end": 33.6,
            "count": 0
           },
           {
            "bin_start": 33.6,
            "bin_end": 41.5,
            "count": 1
           },
           {
            "bin_start": 41.5,
            "bin_end": 49.400000000000006,
            "count": 0
           },
           {
            "bin_start": 49.400000000000006,
            "bin_end": 57.300000000000004,
            "count": 1
           },
           {
            "bin_start": 57.300000000000004,
            "bin_end": 65.2,
            "count": 1
           },
           {
            "bin_start": 65.2,
            "bin_end": 73.10000000000001,
            "count": 0
           },
           {
            "bin_start": 73.10000000000001,
            "bin_end": 81,
            "count": 1
           }
          ]
         }
        },
        {
         "name": "genre",
         "dtype": "object",
         "stats": {
          "unique_count": 5,
          "nan_count": 0,
          "categories": [
           {
            "name": "Adventure,Mystery,Sci-Fi",
            "count": 1
           },
           {
            "name": "Adventure,Drama,Sci-Fi",
            "count": 1
           },
           {
            "name": "3 others",
            "count": 3
           }
          ]
         }
        },
        {
         "name": "description",
         "dtype": "object",
         "stats": {
          "unique_count": 5,
          "nan_count": 0,
          "categories": [
           {
            "name": "Following clues to the origin of mankind, a team finds a structure on a distant moon, but they soon realize they are not alone.",
            "count": 1
           },
           {
            "name": "A team of explorers travel through a wormhole in space in an attempt to ensure humanity's survival.",
            "count": 1
           },
           {
            "name": "3 others",
            "count": 3
           }
          ]
         }
        },
        {
         "name": "director",
         "dtype": "object",
         "stats": {
          "unique_count": 2,
          "nan_count": 0,
          "categories": [
           {
            "name": "Christopher Nolan",
            "count": 4
           },
           {
            "name": "Ridley Scott",
            "count": 1
           }
          ]
         }
        },
        {
         "name": "actors",
         "dtype": "object",
         "stats": {
          "unique_count": 5,
          "nan_count": 0,
          "categories": [
           {
            "name": "Noomi Rapace, Logan Marshall-Green, Michael Fassbender, Charlize Theron",
            "count": 1
           },
           {
            "name": "Matthew McConaughey, Anne Hathaway, Jessica Chastain, Mackenzie Foy",
            "count": 1
           },
           {
            "name": "3 others",
            "count": 3
           }
          ]
         }
        },
        {
         "name": "year",
         "dtype": "int64",
         "stats": {
          "unique_count": 5,
          "nan_count": 0,
          "min": "2006",
          "max": "2014",
          "histogram": [
           {
            "bin_start": 2006,
            "bin_end": 2006.8,
            "count": 1
           },
           {
            "bin_start": 2006.8,
            "bin_end": 2007.6,
            "count": 0
           },
           {
            "bin_start": 2007.6,
            "bin_end": 2008.4,
            "count": 1
           },
           {
            "bin_start": 2008.4,
            "bin_end": 2009.2,
            "count": 0
           },
           {
            "bin_start": 2009.2,
            "bin_end": 2010,
            "count": 0
           },
           {
            "bin_start": 2010,
            "bin_end": 2010.8,
            "count": 1
           },
           {
            "bin_start": 2010.8,
            "bin_end": 2011.6,
            "count": 0
           },
           {
            "bin_start": 2011.6,
            "bin_end": 2012.4,
            "count": 1
           },
           {
            "bin_start": 2012.4,
            "bin_end": 2013.2,
            "count": 0
           },
           {
            "bin_start": 2013.2,
            "bin_end": 2014,
            "count": 1
           }
          ]
         }
        },
        {
         "name": "runtime",
         "dtype": "int64",
         "stats": {
          "unique_count": 5,
          "nan_count": 0,
          "min": "124",
          "max": "169",
          "histogram": [
           {
            "bin_start": 124,
            "bin_end": 128.5,
            "count": 1
           },
           {
            "bin_start": 128.5,
            "bin_end": 133,
            "count": 1
           },
           {
            "bin_start": 133,
            "bin_end": 137.5,
            "count": 0
           },
           {
            "bin_start": 137.5,
            "bin_end": 142,
            "count": 0
           },
           {
            "bin_start": 142,
            "bin_end": 146.5,
            "count": 0
           },
           {
            "bin_start": 146.5,
            "bin_end": 151,
            "count": 1
           },
           {
            "bin_start": 151,
            "bin_end": 155.5,
            "count": 1
           },
           {
            "bin_start": 155.5,
            "bin_end": 160,
            "count": 0
           },
           {
            "bin_start": 160,
            "bin_end": 164.5,
            "count": 0
           },
           {
            "bin_start": 164.5,
            "bin_end": 169,
            "count": 1
           }
          ]
         }
        },
        {
         "name": "rating",
         "dtype": "float64",
         "stats": {
          "unique_count": 5,
          "nan_count": 0,
          "min": "7.0",
          "max": "9.0",
          "histogram": [
           {
            "bin_start": 7,
            "bin_end": 7.2,
            "count": 1
           },
           {
            "bin_start": 7.2,
            "bin_end": 7.4,
            "count": 0
           },
           {
            "bin_start": 7.4,
            "bin_end": 7.6,
            "count": 0
           },
           {
            "bin_start": 7.6,
            "bin_end": 7.8,
            "count": 0
           },
           {
            "bin_start": 7.8,
            "bin_end": 8,
            "count": 0
           },
           {
            "bin_start": 8,
            "bin_end": 8.2,
            "count": 0
           },
           {
            "bin_start": 8.2,
            "bin_end": 8.4,
            "count": 0
           },
           {
            "bin_start": 8.4,
            "bin_end": 8.6,
            "count": 1
           },
           {
            "bin_start": 8.6,
            "bin_end": 8.8,
            "count": 1
           },
           {
            "bin_start": 8.8,
            "bin_end": 9,
            "count": 2
           }
          ]
         }
        },
        {
         "name": "votes",
         "dtype": "int64",
         "stats": {
          "unique_count": 5,
          "nan_count": 0,
          "min": "485820",
          "max": "1791916",
          "histogram": [
           {
            "bin_start": 485820,
            "bin_end": 616429.6,
            "count": 1
           },
           {
            "bin_start": 616429.6,
            "bin_end": 747039.2,
            "count": 0
           },
           {
            "bin_start": 747039.2,
            "bin_end": 877648.8,
            "count": 0
           },
           {
            "bin_start": 877648.8,
            "bin_end": 1008258.4,
            "count": 1
           },
           {
            "bin_start": 1008258.4,
            "bin_end": 1138868,
            "count": 1
           },
           {
            "bin_start": 1138868,
            "bin_end": 1269477.6,
            "count": 0
           },
           {
            "bin_start": 1269477.6,
            "bin_end": 1400087.2000000002,
            "count": 0
           },
           {
            "bin_start": 1400087.2000000002,
            "bin_end": 1530696.8,
            "count": 0
           },
           {
            "bin_start": 1530696.8,
            "bin_end": 1661306.4000000001,
            "count": 1
           },
           {
            "bin_start": 1661306.4000000001,
            "bin_end": 1791916,
            "count": 1
           }
          ]
         }
        },
        {
         "name": "revenue_millions",
         "dtype": "float64",
         "stats": {
          "unique_count": 5,
          "nan_count": 0,
          "min": "53.08",
          "max": "533.32",
          "histogram": [
           {
            "bin_start": 53.08,
            "bin_end": 101.10400000000001,
            "count": 1
           },
           {
            "bin_start": 101.10400000000001,
            "bin_end": 149.12800000000001,
            "count": 1
           },
           {
            "bin_start": 149.12800000000001,
            "bin_end": 197.15200000000004,
            "count": 1
           },
           {
            "bin_start": 197.15200000000004,
            "bin_end": 245.17600000000004,
            "count": 0
           },
           {
            "bin_start": 245.17600000000004,
            "bin_end": 293.20000000000005,
            "count": 1
           },
           {
            "bin_start": 293.20000000000005,
            "bin_end": 341.22400000000005,
            "count": 0
           },
           {
            "bin_start": 341.22400000000005,
            "bin_end": 389.24800000000005,
            "count": 0
           },
           {
            "bin_start": 389.24800000000005,
            "bin_end": 437.27200000000005,
            "count": 0
           },
           {
            "bin_start": 437.27200000000005,
            "bin_end": 485.29600000000005,
            "count": 0
           },
           {
            "bin_start": 485.29600000000005,
            "bin_end": 533.32,
            "count": 1
           }
          ]
         }
        },
        {
         "name": "metascore",
         "dtype": "float64",
         "stats": {
          "unique_count": 4,
          "nan_count": 0,
          "min": "65.0",
          "max": "82.0",
          "histogram": [
           {
            "bin_start": 65,
            "bin_end": 66.7,
            "count": 2
           },
           {
            "bin_start": 66.7,
            "bin_end": 68.4,
            "count": 0
           },
           {
            "bin_start": 68.4,
            "bin_end": 70.1,
            "count": 0
           },
           {
            "bin_start": 70.1,
            "bin_end": 71.8,
            "count": 0
           },
           {
            "bin_start": 71.8,
            "bin_end": 73.5,
            "count": 0
           },
           {
            "bin_start": 73.5,
            "bin_end": 75.2,
            "count": 2
           },
           {
            "bin_start": 75.2,
            "bin_end": 76.9,
            "count": 0
           },
           {
            "bin_start": 76.9,
            "bin_end": 78.6,
            "count": 0
           },
           {
            "bin_start": 78.6,
            "bin_end": 80.3,
            "count": 0
           },
           {
            "bin_start": 80.3,
            "bin_end": 82,
            "count": 1
           }
          ]
         }
        },
        {
         "name": "rating_category",
         "dtype": "object",
         "stats": {
          "unique_count": 2,
          "nan_count": 0,
          "categories": [
           {
            "name": "good",
            "count": 4
           },
           {
            "name": "bad",
            "count": 1
           }
          ]
         }
        },
        {
         "name": "_deepnote_index_column",
         "dtype": "object"
        }
       ],
       "rows_top": [
        {
         "rank": 2,
         "genre": "Adventure,Mystery,Sci-Fi",
         "description": "Following clues to the origin of mankind, a team finds a structure on a distant moon, but they soon…",
         "director": "Ridley Scott",
         "actors": "Noomi Rapace, Logan Marshall-Green, Michael Fassbender, Charlize Theron",
         "year": 2012,
         "runtime": 124,
         "rating": 7,
         "votes": 485820,
         "revenue_millions": 126.46,
         "metascore": 65,
         "rating_category": "bad",
         "_deepnote_index_column": "Prometheus"
        },
        {
         "rank": 37,
         "genre": "Adventure,Drama,Sci-Fi",
         "description": "A team of explorers travel through a wormhole in space in an attempt to ensure humanity's survival.",
         "director": "Christopher Nolan",
         "actors": "Matthew McConaughey, Anne Hathaway, Jessica Chastain, Mackenzie Foy",
         "year": 2014,
         "runtime": 169,
         "rating": 8.6,
         "votes": 1047747,
         "revenue_millions": 187.99,
         "metascore": 74,
         "rating_category": "good",
         "_deepnote_index_column": "Interstellar"
        },
        {
         "rank": 55,
         "genre": "Action,Crime,Drama",
         "description": "When the menace known as the Joker wreaks havoc and chaos on the people of Gotham, the Dark Knight …",
         "director": "Christopher Nolan",
         "actors": "Christian Bale, Heath Ledger, Aaron Eckhart,Michael Caine",
         "year": 2008,
         "runtime": 152,
         "rating": 9,
         "votes": 1791916,
         "revenue_millions": 533.32,
         "metascore": 82,
         "rating_category": "good",
         "_deepnote_index_column": "The Dark Knight"
        },
        {
         "rank": 65,
         "genre": "Drama,Mystery,Sci-Fi",
         "description": "Two stage magicians engage in competitive one-upmanship in an attempt to create the ultimate stage …",
         "director": "Christopher Nolan",
         "actors": "Christian Bale, Hugh Jackman, Scarlett Johansson, Michael Caine",
         "year": 2006,
         "runtime": 130,
         "rating": 8.5,
         "votes": 913152,
         "revenue_millions": 53.08,
         "metascore": 66,
         "rating_category": "good",
         "_deepnote_index_column": "The Prestige"
        },
        {
         "rank": 81,
         "genre": "Action,Adventure,Sci-Fi",
         "description": "A thief, who steals corporate secrets through use of dream-sharing technology, is given the inverse…",
         "director": "Christopher Nolan",
         "actors": "Leonardo DiCaprio, Joseph Gordon-Levitt, Ellen Page, Ken Watanabe",
         "year": 2010,
         "runtime": 148,
         "rating": 8.8,
         "votes": 1583625,
         "revenue_millions": 292.57,
         "metascore": 74,
         "rating_category": "good",
         "_deepnote_index_column": "Inception"
        }
       ],
       "rows_bottom": null
      },
      "text/plain": "                 rank                     genre  \\\nTitle                                             \nPrometheus          2  Adventure,Mystery,Sci-Fi   \nInterstellar       37    Adventure,Drama,Sci-Fi   \nThe Dark Knight    55        Action,Crime,Drama   \nThe Prestige       65      Drama,Mystery,Sci-Fi   \nInception          81   Action,Adventure,Sci-Fi   \n\n                                                       description  \\\nTitle                                                                \nPrometheus       Following clues to the origin of mankind, a te...   \nInterstellar     A team of explorers travel through a wormhole ...   \nThe Dark Knight  When the menace known as the Joker wreaks havo...   \nThe Prestige     Two stage magicians engage in competitive one-...   \nInception        A thief, who steals corporate secrets through ...   \n\n                          director  \\\nTitle                                \nPrometheus            Ridley Scott   \nInterstellar     Christopher Nolan   \nThe Dark Knight  Christopher Nolan   \nThe Prestige     Christopher Nolan   \nInception        Christopher Nolan   \n\n                                                            actors  year  \\\nTitle                                                                      \nPrometheus       Noomi Rapace, Logan Marshall-Green, Michael Fa...  2012   \nInterstellar     Matthew McConaughey, Anne Hathaway, Jessica Ch...  2014   \nThe Dark Knight  Christian Bale, Heath Ledger, Aaron Eckhart,Mi...  2008   \nThe Prestige     Christian Bale, Hugh Jackman, Scarlett Johanss...  2006   \nInception        Leonardo DiCaprio, Joseph Gordon-Levitt, Ellen...  2010   \n\n                 runtime  rating    votes  revenue_millions  metascore  \\\nTitle                                                                    \nPrometheus           124     7.0   485820            126.46       65.0   \nInterstellar         169     8.6  1047747            187.99       74.0   \nThe Dark Knight      152     9.0  1791916            533.32       82.0   \nThe Prestige         130     8.5   913152             53.08       66.0   \nInception            148     8.8  1583625            292.57       74.0   \n\n                rating_category  \nTitle                            \nPrometheus                  bad  \nInterstellar               good  \nThe Dark Knight            good  \nThe Prestige               good  \nInception                  good  ",
      "text/html": "<div>\n<style scoped>\n    .dataframe tbody tr th:only-of-type {\n        vertical-align: middle;\n    }\n\n    .dataframe tbody tr th {\n        vertical-align: top;\n    }\n\n    .dataframe thead th {\n        text-align: right;\n    }\n</style>\n<table border=\"1\" class=\"dataframe\">\n  <thead>\n    <tr style=\"text-align: right;\">\n      <th></th>\n      <th>rank</th>\n      <th>genre</th>\n      <th>description</th>\n      <th>director</th>\n      <th>actors</th>\n      <th>year</th>\n      <th>runtime</th>\n      <th>rating</th>\n      <th>votes</th>\n      <th>revenue_millions</th>\n      <th>metascore</th>\n      <th>rating_category</th>\n    </tr>\n    <tr>\n      <th>Title</th>\n      <th></th>\n      <th></th>\n      <th></th>\n      <th></th>\n      <th></th>\n      <th></th>\n      <th></th>\n      <th></th>\n      <th></th>\n      <th></th>\n      <th></th>\n      <th></th>\n    </tr>\n  </thead>\n  <tbody>\n    <tr>\n      <th>Prometheus</th>\n      <td>2</td>\n      <td>Adventure,Mystery,Sci-Fi</td>\n      <td>Following clues to the origin of mankind, a te...</td>\n      <td>Ridley Scott</td>\n      <td>Noomi Rapace, Logan Marshall-Green, Michael Fa...</td>\n      <td>2012</td>\n      <td>124</td>\n      <td>7.0</td>\n      <td>485820</td>\n      <td>126.46</td>\n      <td>65.0</td>\n      <td>bad</td>\n    </tr>\n    <tr>\n      <th>Interstellar</th>\n      <td>37</td>\n      <td>Adventure,Drama,Sci-Fi</td>\n      <td>A team of explorers travel through a wormhole ...</td>\n      <td>Christopher Nolan</td>\n      <td>Matthew McConaughey, Anne Hathaway, Jessica Ch...</td>\n      <td>2014</td>\n      <td>169</td>\n      <td>8.6</td>\n      <td>1047747</td>\n      <td>187.99</td>\n      <td>74.0</td>\n      <td>good</td>\n    </tr>\n    <tr>\n      <th>The Dark Knight</th>\n      <td>55</td>\n      <td>Action,Crime,Drama</td>\n      <td>When the menace known as the Joker wreaks havo...</td>\n      <td>Christopher Nolan</td>\n      <td>Christian Bale, Heath Ledger, Aaron Eckhart,Mi...</td>\n      <td>2008</td>\n      <td>152</td>\n      <td>9.0</td>\n      <td>1791916</td>\n      <td>533.32</td>\n      <td>82.0</td>\n      <td>good</td>\n    </tr>\n    <tr>\n      <th>The Prestige</th>\n      <td>65</td>\n      <td>Drama,Mystery,Sci-Fi</td>\n      <td>Two stage magicians engage in competitive one-...</td>\n      <td>Christopher Nolan</td>\n      <td>Christian Bale, Hugh Jackman, Scarlett Johanss...</td>\n      <td>2006</td>\n      <td>130</td>\n      <td>8.5</td>\n      <td>913152</td>\n      <td>53.08</td>\n      <td>66.0</td>\n      <td>good</td>\n    </tr>\n    <tr>\n      <th>Inception</th>\n      <td>81</td>\n      <td>Action,Adventure,Sci-Fi</td>\n      <td>A thief, who steals corporate secrets through ...</td>\n      <td>Christopher Nolan</td>\n      <td>Leonardo DiCaprio, Joseph Gordon-Levitt, Ellen...</td>\n      <td>2010</td>\n      <td>148</td>\n      <td>8.8</td>\n      <td>1583625</td>\n      <td>292.57</td>\n      <td>74.0</td>\n      <td>good</td>\n    </tr>\n  </tbody>\n</table>\n</div>"
     },
     "metadata": {}
    }
   ]
  },
  {
   "cell_type": "code",
   "metadata": {
    "id": "vevyDE3axdqz",
    "colab": {
     "base_uri": "https://localhost:8080/",
     "height": 272
    },
    "executionInfo": {
     "status": "ok",
     "timestamp": 1600743931055,
     "user_tz": -60,
     "elapsed": 533,
     "user": {
      "displayName": "Daniel Anton",
      "photoUrl": "",
      "userId": "07817160354765211624"
     }
    },
    "outputId": "7ce551eb-4a73-4b3a-f361-0b1e2fece5a0",
    "cell_id": "00110-57035668-aa5d-4685-97b4-0a7635523bf2",
    "deepnote_to_be_reexecuted": false,
    "source_hash": "25381b08",
    "execution_start": 1624551663062,
    "execution_millis": 21,
    "deepnote_cell_type": "code"
   },
   "source": "df_movies[\n    ((df_movies['year'] >= 2005) & (df_movies['year'] <= 2010))\n    & (df_movies['rating'] > 8.0)\n    & (df_movies['revenue_millions'] < df_movies['revenue_millions'].quantile(0.25))\n]",
   "execution_count": null,
   "outputs": [
    {
     "output_type": "execute_result",
     "execution_count": 120,
     "data": {
      "application/vnd.deepnote.dataframe.v2+json": {
       "row_count": 4,
       "column_count": 12,
       "columns": [
        {
         "name": "rank",
         "dtype": "int64",
         "stats": {
          "unique_count": 4,
          "nan_count": 0,
          "min": "431",
          "max": "992",
          "histogram": [
           {
            "bin_start": 431,
            "bin_end": 487.1,
            "count": 2
           },
           {
            "bin_start": 487.1,
            "bin_end": 543.2,
            "count": 0
           },
           {
            "bin_start": 543.2,
            "bin_end": 599.3,
            "count": 0
           },
           {
            "bin_start": 599.3,
            "bin_end": 655.4,
            "count": 0
           },
           {
            "bin_start": 655.4,
            "bin_end": 711.5,
            "count": 0
           },
           {
            "bin_start": 711.5,
            "bin_end": 767.6,
            "count": 1
           },
           {
            "bin_start": 767.6,
            "bin_end": 823.7,
            "count": 0
           },
           {
            "bin_start": 823.7,
            "bin_end": 879.8,
            "count": 0
           },
           {
            "bin_start": 879.8,
            "bin_end": 935.9000000000001,
            "count": 0
           },
           {
            "bin_start": 935.9000000000001,
            "bin_end": 992,
            "count": 1
           }
          ]
         }
        },
        {
         "name": "genre",
         "dtype": "object",
         "stats": {
          "unique_count": 4,
          "nan_count": 0,
          "categories": [
           {
            "name": "Comedy,Drama",
            "count": 1
           },
           {
            "name": "Drama,Thriller",
            "count": 1
           },
           {
            "name": "2 others",
            "count": 2
           }
          ]
         }
        },
        {
         "name": "description",
         "dtype": "object",
         "stats": {
          "unique_count": 4,
          "nan_count": 0,
          "categories": [
           {
            "name": "Two friends are searching for their long lost companion. They revisit their college days and recall the memories of their friend who inspired them to think differently, even as the rest of the world called them \"idiots\".",
            "count": 1
           },
           {
            "name": "In 1984 East Berlin, an agent of the secret police, conducting surveillance on a writer and his lover, finds himself becoming increasingly absorbed by their lives.",
            "count": 1
           },
           {
            "name": "2 others",
            "count": 2
           }
          ]
         }
        },
        {
         "name": "director",
         "dtype": "object",
         "stats": {
          "unique_count": 4,
          "nan_count": 0,
          "categories": [
           {
            "name": "Rajkumar Hirani",
            "count": 1
           },
           {
            "name": "Florian Henckel von Donnersmarck",
            "count": 1
           },
           {
            "name": "2 others",
            "count": 2
           }
          ]
         }
        },
        {
         "name": "actors",
         "dtype": "object",
         "stats": {
          "unique_count": 4,
          "nan_count": 0,
          "categories": [
           {
            "name": "Aamir Khan, Madhavan, Mona Singh, Sharman Joshi",
            "count": 1
           },
           {
            "name": "Ulrich Mühe, Martina Gedeck,Sebastian Koch, Ulrich Tukur",
            "count": 1
           },
           {
            "name": "2 others",
            "count": 2
           }
          ]
         }
        },
        {
         "name": "year",
         "dtype": "int64",
         "stats": {
          "unique_count": 4,
          "nan_count": 0,
          "min": "2006",
          "max": "2010",
          "histogram": [
           {
            "bin_start": 2006,
            "bin_end": 2006.4,
            "count": 1
           },
           {
            "bin_start": 2006.4,
            "bin_end": 2006.8,
            "count": 0
           },
           {
            "bin_start": 2006.8,
            "bin_end": 2007.2,
            "count": 1
           },
           {
            "bin_start": 2007.2,
            "bin_end": 2007.6,
            "count": 0
           },
           {
            "bin_start": 2007.6,
            "bin_end": 2008,
            "count": 0
           },
           {
            "bin_start": 2008,
            "bin_end": 2008.4,
            "count": 0
           },
           {
            "bin_start": 2008.4,
            "bin_end": 2008.8,
            "count": 0
           },
           {
            "bin_start": 2008.8,
            "bin_end": 2009.2,
            "count": 1
           },
           {
            "bin_start": 2009.2,
            "bin_end": 2009.6,
            "count": 0
           },
           {
            "bin_start": 2009.6,
            "bin_end": 2010,
            "count": 1
           }
          ]
         }
        },
        {
         "name": "runtime",
         "dtype": "int64",
         "stats": {
          "unique_count": 4,
          "nan_count": 0,
          "min": "131",
          "max": "170",
          "histogram": [
           {
            "bin_start": 131,
            "bin_end": 134.9,
            "count": 1
           },
           {
            "bin_start": 134.9,
            "bin_end": 138.8,
            "count": 1
           },
           {
            "bin_start": 138.8,
            "bin_end": 142.7,
            "count": 0
           },
           {
            "bin_start": 142.7,
            "bin_end": 146.6,
            "count": 0
           },
           {
            "bin_start": 146.6,
            "bin_end": 150.5,
            "count": 0
           },
           {
            "bin_start": 150.5,
            "bin_end": 154.4,
            "count": 0
           },
           {
            "bin_start": 154.4,
            "bin_end": 158.3,
            "count": 0
           },
           {
            "bin_start": 158.3,
            "bin_end": 162.2,
            "count": 0
           },
           {
            "bin_start": 162.2,
            "bin_end": 166.1,
            "count": 1
           },
           {
            "bin_start": 166.1,
            "bin_end": 170,
            "count": 1
           }
          ]
         }
        },
        {
         "name": "rating",
         "dtype": "float64",
         "stats": {
          "unique_count": 3,
          "nan_count": 0,
          "min": "8.2",
          "max": "8.5",
          "histogram": [
           {
            "bin_start": 8.2,
            "bin_end": 8.229999999999999,
            "count": 1
           },
           {
            "bin_start": 8.229999999999999,
            "bin_end": 8.26,
            "count": 0
           },
           {
            "bin_start": 8.26,
            "bin_end": 8.29,
            "count": 0
           },
           {
            "bin_start": 8.29,
            "bin_end": 8.32,
            "count": 0
           },
           {
            "bin_start": 8.32,
            "bin_end": 8.35,
            "count": 0
           },
           {
            "bin_start": 8.35,
            "bin_end": 8.379999999999999,
            "count": 0
           },
           {
            "bin_start": 8.379999999999999,
            "bin_end": 8.41,
            "count": 1
           },
           {
            "bin_start": 8.41,
            "bin_end": 8.44,
            "count": 0
           },
           {
            "bin_start": 8.44,
            "bin_end": 8.47,
            "count": 0
           },
           {
            "bin_start": 8.47,
            "bin_end": 8.5,
            "count": 2
           }
          ]
         }
        },
        {
         "name": "votes",
         "dtype": "int64",
         "stats": {
          "unique_count": 4,
          "nan_count": 0,
          "min": "92863",
          "max": "278103",
          "histogram": [
           {
            "bin_start": 92863,
            "bin_end": 111387,
            "count": 2
           },
           {
            "bin_start": 111387,
            "bin_end": 129911,
            "count": 0
           },
           {
            "bin_start": 129911,
            "bin_end": 148435,
            "count": 0
           },
           {
            "bin_start": 148435,
            "bin_end": 166959,
            "count": 0
           },
           {
            "bin_start": 166959,
            "bin_end": 185483,
            "count": 0
           },
           {
            "bin_start": 185483,
            "bin_end": 204007,
            "count": 0
           },
           {
            "bin_start": 204007,
            "bin_end": 222531,
            "count": 0
           },
           {
            "bin_start": 222531,
            "bin_end": 241055,
            "count": 1
           },
           {
            "bin_start": 241055,
            "bin_end": 259579,
            "count": 0
           },
           {
            "bin_start": 259579,
            "bin_end": 278103,
            "count": 1
           }
          ]
         }
        },
        {
         "name": "revenue_millions",
         "dtype": "float64",
         "stats": {
          "unique_count": 4,
          "nan_count": 0,
          "min": "1.2",
          "max": "11.28",
          "histogram": [
           {
            "bin_start": 1.2,
            "bin_end": 2.208,
            "count": 1
           },
           {
            "bin_start": 2.208,
            "bin_end": 3.216,
            "count": 0
           },
           {
            "bin_start": 3.216,
            "bin_end": 4.224,
            "count": 0
           },
           {
            "bin_start": 4.224,
            "bin_end": 5.232,
            "count": 0
           },
           {
            "bin_start": 5.232,
            "bin_end": 6.24,
            "count": 0
           },
           {
            "bin_start": 6.24,
            "bin_end": 7.248,
            "count": 2
           },
           {
            "bin_start": 7.248,
            "bin_end": 8.256,
            "count": 0
           },
           {
            "bin_start": 8.256,
            "bin_end": 9.264,
            "count": 0
           },
           {
            "bin_start": 9.264,
            "bin_end": 10.271999999999998,
            "count": 0
           },
           {
            "bin_start": 10.271999999999998,
            "bin_end": 11.28,
            "count": 1
           }
          ]
         }
        },
        {
         "name": "metascore",
         "dtype": "float64",
         "stats": {
          "unique_count": 4,
          "nan_count": 0,
          "min": "42.0",
          "max": "89.0",
          "histogram": [
           {
            "bin_start": 42,
            "bin_end": 46.7,
            "count": 1
           },
           {
            "bin_start": 46.7,
            "bin_end": 51.4,
            "count": 0
           },
           {
            "bin_start": 51.4,
            "bin_end": 56.1,
            "count": 0
           },
           {
            "bin_start": 56.1,
            "bin_end": 60.8,
            "count": 0
           },
           {
            "bin_start": 60.8,
            "bin_end": 65.5,
            "count": 0
           },
           {
            "bin_start": 65.5,
            "bin_end": 70.2,
            "count": 1
           },
           {
            "bin_start": 70.2,
            "bin_end": 74.9,
            "count": 0
           },
           {
            "bin_start": 74.9,
            "bin_end": 79.6,
            "count": 0
           },
           {
            "bin_start": 79.6,
            "bin_end": 84.30000000000001,
            "count": 1
           },
           {
            "bin_start": 84.30000000000001,
            "bin_end": 89,
            "count": 1
           }
          ]
         }
        },
        {
         "name": "rating_category",
         "dtype": "object",
         "stats": {
          "unique_count": 1,
          "nan_count": 0,
          "categories": [
           {
            "name": "good",
            "count": 4
           }
          ]
         }
        },
        {
         "name": "_deepnote_index_column",
         "dtype": "object"
        }
       ],
       "rows_top": [
        {
         "rank": 431,
         "genre": "Comedy,Drama",
         "description": "Two friends are searching for their long lost companion. They revisit their college days and recall…",
         "director": "Rajkumar Hirani",
         "actors": "Aamir Khan, Madhavan, Mona Singh, Sharman Joshi",
         "year": 2009,
         "runtime": 170,
         "rating": 8.4,
         "votes": 238789,
         "revenue_millions": 6.52,
         "metascore": 67,
         "rating_category": "good",
         "_deepnote_index_column": "3 Idiots"
        },
        {
         "rank": 477,
         "genre": "Drama,Thriller",
         "description": "In 1984 East Berlin, an agent of the secret police, conducting surveillance on a writer and his lov…",
         "director": "Florian Henckel von Donnersmarck",
         "actors": "Ulrich Mühe, Martina Gedeck,Sebastian Koch, Ulrich Tukur",
         "year": 2006,
         "runtime": 137,
         "rating": 8.5,
         "votes": 278103,
         "revenue_millions": 11.28,
         "metascore": 89,
         "rating_category": "good",
         "_deepnote_index_column": "The Lives of Others"
        },
        {
         "rank": 714,
         "genre": "Drama,Mystery,War",
         "description": "Twins journey to the Middle East to discover their family history, and fulfill their mother's last …",
         "director": "Denis Villeneuve",
         "actors": "Lubna Azabal, Mélissa Désormeaux-Poulin, Maxim Gaudette, Mustafa Kamel",
         "year": 2010,
         "runtime": 131,
         "rating": 8.2,
         "votes": 92863,
         "revenue_millions": 6.86,
         "metascore": 80,
         "rating_category": "good",
         "_deepnote_index_column": "Incendies"
        },
        {
         "rank": 992,
         "genre": "Drama,Family,Music",
         "description": "An eight-year-old boy is thought to be a lazy trouble-maker, until the new art teacher has the pati…",
         "director": "Aamir Khan",
         "actors": "Darsheel Safary, Aamir Khan, Tanay Chheda, Sachet Engineer",
         "year": 2007,
         "runtime": 165,
         "rating": 8.5,
         "votes": 102697,
         "revenue_millions": 1.2,
         "metascore": 42,
         "rating_category": "good",
         "_deepnote_index_column": "Taare Zameen Par"
        }
       ],
       "rows_bottom": null
      },
      "text/plain": "                     rank               genre  \\\nTitle                                           \n3 Idiots              431        Comedy,Drama   \nThe Lives of Others   477      Drama,Thriller   \nIncendies             714   Drama,Mystery,War   \nTaare Zameen Par      992  Drama,Family,Music   \n\n                                                           description  \\\nTitle                                                                    \n3 Idiots             Two friends are searching for their long lost ...   \nThe Lives of Others  In 1984 East Berlin, an agent of the secret po...   \nIncendies            Twins journey to the Middle East to discover t...   \nTaare Zameen Par     An eight-year-old boy is thought to be a lazy ...   \n\n                                             director  \\\nTitle                                                   \n3 Idiots                              Rajkumar Hirani   \nThe Lives of Others  Florian Henckel von Donnersmarck   \nIncendies                            Denis Villeneuve   \nTaare Zameen Par                           Aamir Khan   \n\n                                                                actors  year  \\\nTitle                                                                          \n3 Idiots               Aamir Khan, Madhavan, Mona Singh, Sharman Joshi  2009   \nThe Lives of Others  Ulrich Mühe, Martina Gedeck,Sebastian Koch, Ul...  2006   \nIncendies            Lubna Azabal, Mélissa Désormeaux-Poulin, Maxim...  2010   \nTaare Zameen Par     Darsheel Safary, Aamir Khan, Tanay Chheda, Sac...  2007   \n\n                     runtime  rating   votes  revenue_millions  metascore  \\\nTitle                                                                       \n3 Idiots                 170     8.4  238789              6.52       67.0   \nThe Lives of Others      137     8.5  278103             11.28       89.0   \nIncendies                131     8.2   92863              6.86       80.0   \nTaare Zameen Par         165     8.5  102697              1.20       42.0   \n\n                    rating_category  \nTitle                                \n3 Idiots                       good  \nThe Lives of Others            good  \nIncendies                      good  \nTaare Zameen Par               good  ",
      "text/html": "<div>\n<style scoped>\n    .dataframe tbody tr th:only-of-type {\n        vertical-align: middle;\n    }\n\n    .dataframe tbody tr th {\n        vertical-align: top;\n    }\n\n    .dataframe thead th {\n        text-align: right;\n    }\n</style>\n<table border=\"1\" class=\"dataframe\">\n  <thead>\n    <tr style=\"text-align: right;\">\n      <th></th>\n      <th>rank</th>\n      <th>genre</th>\n      <th>description</th>\n      <th>director</th>\n      <th>actors</th>\n      <th>year</th>\n      <th>runtime</th>\n      <th>rating</th>\n      <th>votes</th>\n      <th>revenue_millions</th>\n      <th>metascore</th>\n      <th>rating_category</th>\n    </tr>\n    <tr>\n      <th>Title</th>\n      <th></th>\n      <th></th>\n      <th></th>\n      <th></th>\n      <th></th>\n      <th></th>\n      <th></th>\n      <th></th>\n      <th></th>\n      <th></th>\n      <th></th>\n      <th></th>\n    </tr>\n  </thead>\n  <tbody>\n    <tr>\n      <th>3 Idiots</th>\n      <td>431</td>\n      <td>Comedy,Drama</td>\n      <td>Two friends are searching for their long lost ...</td>\n      <td>Rajkumar Hirani</td>\n      <td>Aamir Khan, Madhavan, Mona Singh, Sharman Joshi</td>\n      <td>2009</td>\n      <td>170</td>\n      <td>8.4</td>\n      <td>238789</td>\n      <td>6.52</td>\n      <td>67.0</td>\n      <td>good</td>\n    </tr>\n    <tr>\n      <th>The Lives of Others</th>\n      <td>477</td>\n      <td>Drama,Thriller</td>\n      <td>In 1984 East Berlin, an agent of the secret po...</td>\n      <td>Florian Henckel von Donnersmarck</td>\n      <td>Ulrich Mühe, Martina Gedeck,Sebastian Koch, Ul...</td>\n      <td>2006</td>\n      <td>137</td>\n      <td>8.5</td>\n      <td>278103</td>\n      <td>11.28</td>\n      <td>89.0</td>\n      <td>good</td>\n    </tr>\n    <tr>\n      <th>Incendies</th>\n      <td>714</td>\n      <td>Drama,Mystery,War</td>\n      <td>Twins journey to the Middle East to discover t...</td>\n      <td>Denis Villeneuve</td>\n      <td>Lubna Azabal, Mélissa Désormeaux-Poulin, Maxim...</td>\n      <td>2010</td>\n      <td>131</td>\n      <td>8.2</td>\n      <td>92863</td>\n      <td>6.86</td>\n      <td>80.0</td>\n      <td>good</td>\n    </tr>\n    <tr>\n      <th>Taare Zameen Par</th>\n      <td>992</td>\n      <td>Drama,Family,Music</td>\n      <td>An eight-year-old boy is thought to be a lazy ...</td>\n      <td>Aamir Khan</td>\n      <td>Darsheel Safary, Aamir Khan, Tanay Chheda, Sac...</td>\n      <td>2007</td>\n      <td>165</td>\n      <td>8.5</td>\n      <td>102697</td>\n      <td>1.20</td>\n      <td>42.0</td>\n      <td>good</td>\n    </tr>\n  </tbody>\n</table>\n</div>"
     },
     "metadata": {}
    }
   ]
  },
  {
   "cell_type": "markdown",
   "source": "## Applying functions",
   "metadata": {
    "id": "p3jGqcSFxjIh",
    "cell_id": "00111-c77d3bc3-cddb-44cc-b450-431e74c35f8d",
    "deepnote_cell_type": "markdown"
   }
  },
  {
   "cell_type": "code",
   "metadata": {
    "id": "txnlHuIhxlAH",
    "cell_id": "00112-d1b1f448-7121-42b4-b001-c4fe614f041e",
    "deepnote_to_be_reexecuted": false,
    "source_hash": "4de43d74",
    "execution_start": 1624551913994,
    "execution_millis": 1,
    "deepnote_cell_type": "code"
   },
   "source": "def rating_function(row):\n    if row >= 8.0:\n        return \"good\"\n    else:\n        return \"bad\"",
   "execution_count": null,
   "outputs": []
  },
  {
   "cell_type": "code",
   "metadata": {
    "id": "kyxtDjtoxqyZ",
    "colab": {
     "base_uri": "https://localhost:8080/",
     "height": 176
    },
    "executionInfo": {
     "status": "ok",
     "timestamp": 1600743982345,
     "user_tz": -60,
     "elapsed": 603,
     "user": {
      "displayName": "Daniel Anton",
      "photoUrl": "",
      "userId": "07817160354765211624"
     }
    },
    "outputId": "29bbb3bd-b7e6-466f-9421-774d00b7ffe8",
    "cell_id": "00113-3eae58ab-c3ea-4fbb-a0b3-87ca4cd50a5c",
    "deepnote_to_be_reexecuted": false,
    "source_hash": "23dbd690",
    "execution_start": 1624551959247,
    "execution_millis": 22,
    "deepnote_cell_type": "code"
   },
   "source": "df_movies[\"my_rating_category\"] = df_movies[\"rating\"].apply(rating_function)\n\n# movies_df[\"rating_category\"] = movies_df[\"rating\"].apply(lambda x: 'good' if x >= 8.0 else 'bad')\n\ndf_movies.head(2)",
   "execution_count": null,
   "outputs": [
    {
     "output_type": "execute_result",
     "execution_count": 132,
     "data": {
      "application/vnd.deepnote.dataframe.v2+json": {
       "row_count": 2,
       "column_count": 13,
       "columns": [
        {
         "name": "rank",
         "dtype": "int64",
         "stats": {
          "unique_count": 2,
          "nan_count": 0,
          "min": "1",
          "max": "2",
          "histogram": [
           {
            "bin_start": 1,
            "bin_end": 1.1,
            "count": 1
           },
           {
            "bin_start": 1.1,
            "bin_end": 1.2,
            "count": 0
           },
           {
            "bin_start": 1.2,
            "bin_end": 1.3,
            "count": 0
           },
           {
            "bin_start": 1.3,
            "bin_end": 1.4,
            "count": 0
           },
           {
            "bin_start": 1.4,
            "bin_end": 1.5,
            "count": 0
           },
           {
            "bin_start": 1.5,
            "bin_end": 1.6,
            "count": 0
           },
           {
            "bin_start": 1.6,
            "bin_end": 1.7000000000000002,
            "count": 0
           },
           {
            "bin_start": 1.7000000000000002,
            "bin_end": 1.8,
            "count": 0
           },
           {
            "bin_start": 1.8,
            "bin_end": 1.9,
            "count": 0
           },
           {
            "bin_start": 1.9,
            "bin_end": 2,
            "count": 1
           }
          ]
         }
        },
        {
         "name": "genre",
         "dtype": "object",
         "stats": {
          "unique_count": 2,
          "nan_count": 0,
          "categories": [
           {
            "name": "Action,Adventure,Sci-Fi",
            "count": 1
           },
           {
            "name": "Adventure,Mystery,Sci-Fi",
            "count": 1
           }
          ]
         }
        },
        {
         "name": "description",
         "dtype": "object",
         "stats": {
          "unique_count": 2,
          "nan_count": 0,
          "categories": [
           {
            "name": "A group of intergalactic criminals are forced to work together to stop a fanatical warrior from taking control of the universe.",
            "count": 1
           },
           {
            "name": "Following clues to the origin of mankind, a team finds a structure on a distant moon, but they soon realize they are not alone.",
            "count": 1
           }
          ]
         }
        },
        {
         "name": "director",
         "dtype": "object",
         "stats": {
          "unique_count": 2,
          "nan_count": 0,
          "categories": [
           {
            "name": "James Gunn",
            "count": 1
           },
           {
            "name": "Ridley Scott",
            "count": 1
           }
          ]
         }
        },
        {
         "name": "actors",
         "dtype": "object",
         "stats": {
          "unique_count": 2,
          "nan_count": 0,
          "categories": [
           {
            "name": "Chris Pratt, Vin Diesel, Bradley Cooper, Zoe Saldana",
            "count": 1
           },
           {
            "name": "Noomi Rapace, Logan Marshall-Green, Michael Fassbender, Charlize Theron",
            "count": 1
           }
          ]
         }
        },
        {
         "name": "year",
         "dtype": "int64",
         "stats": {
          "unique_count": 2,
          "nan_count": 0,
          "min": "2012",
          "max": "2014",
          "histogram": [
           {
            "bin_start": 2012,
            "bin_end": 2012.2,
            "count": 1
           },
           {
            "bin_start": 2012.2,
            "bin_end": 2012.4,
            "count": 0
           },
           {
            "bin_start": 2012.4,
            "bin_end": 2012.6,
            "count": 0
           },
           {
            "bin_start": 2012.6,
            "bin_end": 2012.8,
            "count": 0
           },
           {
            "bin_start": 2012.8,
            "bin_end": 2013,
            "count": 0
           },
           {
            "bin_start": 2013,
            "bin_end": 2013.2,
            "count": 0
           },
           {
            "bin_start": 2013.2,
            "bin_end": 2013.4,
            "count": 0
           },
           {
            "bin_start": 2013.4,
            "bin_end": 2013.6,
            "count": 0
           },
           {
            "bin_start": 2013.6,
            "bin_end": 2013.8,
            "count": 0
           },
           {
            "bin_start": 2013.8,
            "bin_end": 2014,
            "count": 1
           }
          ]
         }
        },
        {
         "name": "runtime",
         "dtype": "int64",
         "stats": {
          "unique_count": 2,
          "nan_count": 0,
          "min": "121",
          "max": "124",
          "histogram": [
           {
            "bin_start": 121,
            "bin_end": 121.3,
            "count": 1
           },
           {
            "bin_start": 121.3,
            "bin_end": 121.6,
            "count": 0
           },
           {
            "bin_start": 121.6,
            "bin_end": 121.9,
            "count": 0
           },
           {
            "bin_start": 121.9,
            "bin_end": 122.2,
            "count": 0
           },
           {
            "bin_start": 122.2,
            "bin_end": 122.5,
            "count": 0
           },
           {
            "bin_start": 122.5,
            "bin_end": 122.8,
            "count": 0
           },
           {
            "bin_start": 122.8,
            "bin_end": 123.1,
            "count": 0
           },
           {
            "bin_start": 123.1,
            "bin_end": 123.4,
            "count": 0
           },
           {
            "bin_start": 123.4,
            "bin_end": 123.7,
            "count": 0
           },
           {
            "bin_start": 123.7,
            "bin_end": 124,
            "count": 1
           }
          ]
         }
        },
        {
         "name": "rating",
         "dtype": "float64",
         "stats": {
          "unique_count": 2,
          "nan_count": 0,
          "min": "7.0",
          "max": "8.1",
          "histogram": [
           {
            "bin_start": 7,
            "bin_end": 7.11,
            "count": 1
           },
           {
            "bin_start": 7.11,
            "bin_end": 7.22,
            "count": 0
           },
           {
            "bin_start": 7.22,
            "bin_end": 7.33,
            "count": 0
           },
           {
            "bin_start": 7.33,
            "bin_end": 7.4399999999999995,
            "count": 0
           },
           {
            "bin_start": 7.4399999999999995,
            "bin_end": 7.55,
            "count": 0
           },
           {
            "bin_start": 7.55,
            "bin_end": 7.66,
            "count": 0
           },
           {
            "bin_start": 7.66,
            "bin_end": 7.77,
            "count": 0
           },
           {
            "bin_start": 7.77,
            "bin_end": 7.88,
            "count": 0
           },
           {
            "bin_start": 7.88,
            "bin_end": 7.989999999999999,
            "count": 0
           },
           {
            "bin_start": 7.989999999999999,
            "bin_end": 8.1,
            "count": 1
           }
          ]
         }
        },
        {
         "name": "votes",
         "dtype": "int64",
         "stats": {
          "unique_count": 2,
          "nan_count": 0,
          "min": "485820",
          "max": "757074",
          "histogram": [
           {
            "bin_start": 485820,
            "bin_end": 512945.4,
            "count": 1
           },
           {
            "bin_start": 512945.4,
            "bin_end": 540070.8,
            "count": 0
           },
           {
            "bin_start": 540070.8,
            "bin_end": 567196.2,
            "count": 0
           },
           {
            "bin_start": 567196.2,
            "bin_end": 594321.6,
            "count": 0
           },
           {
            "bin_start": 594321.6,
            "bin_end": 621447,
            "count": 0
           },
           {
            "bin_start": 621447,
            "bin_end": 648572.4,
            "count": 0
           },
           {
            "bin_start": 648572.4,
            "bin_end": 675697.8,
            "count": 0
           },
           {
            "bin_start": 675697.8,
            "bin_end": 702823.2,
            "count": 0
           },
           {
            "bin_start": 702823.2,
            "bin_end": 729948.6,
            "count": 0
           },
           {
            "bin_start": 729948.6,
            "bin_end": 757074,
            "count": 1
           }
          ]
         }
        },
        {
         "name": "revenue_millions",
         "dtype": "float64",
         "stats": {
          "unique_count": 2,
          "nan_count": 0,
          "min": "126.46",
          "max": "333.13",
          "histogram": [
           {
            "bin_start": 126.46,
            "bin_end": 147.127,
            "count": 1
           },
           {
            "bin_start": 147.127,
            "bin_end": 167.79399999999998,
            "count": 0
           },
           {
            "bin_start": 167.79399999999998,
            "bin_end": 188.461,
            "count": 0
           },
           {
            "bin_start": 188.461,
            "bin_end": 209.128,
            "count": 0
           },
           {
            "bin_start": 209.128,
            "bin_end": 229.79500000000002,
            "count": 0
           },
           {
            "bin_start": 229.79500000000002,
            "bin_end": 250.462,
            "count": 0
           },
           {
            "bin_start": 250.462,
            "bin_end": 271.129,
            "count": 0
           },
           {
            "bin_start": 271.129,
            "bin_end": 291.796,
            "count": 0
           },
           {
            "bin_start": 291.796,
            "bin_end": 312.463,
            "count": 0
           },
           {
            "bin_start": 312.463,
            "bin_end": 333.13,
            "count": 1
           }
          ]
         }
        },
        {
         "name": "metascore",
         "dtype": "float64",
         "stats": {
          "unique_count": 2,
          "nan_count": 0,
          "min": "65.0",
          "max": "76.0",
          "histogram": [
           {
            "bin_start": 65,
            "bin_end": 66.1,
            "count": 1
           },
           {
            "bin_start": 66.1,
            "bin_end": 67.2,
            "count": 0
           },
           {
            "bin_start": 67.2,
            "bin_end": 68.3,
            "count": 0
           },
           {
            "bin_start": 68.3,
            "bin_end": 69.4,
            "count": 0
           },
           {
            "bin_start": 69.4,
            "bin_end": 70.5,
            "count": 0
           },
           {
            "bin_start": 70.5,
            "bin_end": 71.6,
            "count": 0
           },
           {
            "bin_start": 71.6,
            "bin_end": 72.7,
            "count": 0
           },
           {
            "bin_start": 72.7,
            "bin_end": 73.8,
            "count": 0
           },
           {
            "bin_start": 73.8,
            "bin_end": 74.9,
            "count": 0
           },
           {
            "bin_start": 74.9,
            "bin_end": 76,
            "count": 1
           }
          ]
         }
        },
        {
         "name": "rating_category",
         "dtype": "object",
         "stats": {
          "unique_count": 2,
          "nan_count": 0,
          "categories": [
           {
            "name": "good",
            "count": 1
           },
           {
            "name": "bad",
            "count": 1
           }
          ]
         }
        },
        {
         "name": "my_rating_category",
         "dtype": "object",
         "stats": {
          "unique_count": 2,
          "nan_count": 0,
          "categories": [
           {
            "name": "good",
            "count": 1
           },
           {
            "name": "bad",
            "count": 1
           }
          ]
         }
        },
        {
         "name": "_deepnote_index_column",
         "dtype": "object"
        }
       ],
       "rows_top": [
        {
         "rank": 1,
         "genre": "Action,Adventure,Sci-Fi",
         "description": "A group of intergalactic criminals are forced to work together to stop a fanatical warrior from tak…",
         "director": "James Gunn",
         "actors": "Chris Pratt, Vin Diesel, Bradley Cooper, Zoe Saldana",
         "year": 2014,
         "runtime": 121,
         "rating": 8.1,
         "votes": 757074,
         "revenue_millions": 333.13,
         "metascore": 76,
         "rating_category": "good",
         "my_rating_category": "good",
         "_deepnote_index_column": "Guardians of the Galaxy"
        },
        {
         "rank": 2,
         "genre": "Adventure,Mystery,Sci-Fi",
         "description": "Following clues to the origin of mankind, a team finds a structure on a distant moon, but they soon…",
         "director": "Ridley Scott",
         "actors": "Noomi Rapace, Logan Marshall-Green, Michael Fassbender, Charlize Theron",
         "year": 2012,
         "runtime": 124,
         "rating": 7,
         "votes": 485820,
         "revenue_millions": 126.46,
         "metascore": 65,
         "rating_category": "bad",
         "my_rating_category": "bad",
         "_deepnote_index_column": "Prometheus"
        }
       ],
       "rows_bottom": null
      },
      "text/plain": "                         rank                     genre  \\\nTitle                                                     \nGuardians of the Galaxy     1   Action,Adventure,Sci-Fi   \nPrometheus                  2  Adventure,Mystery,Sci-Fi   \n\n                                                               description  \\\nTitle                                                                        \nGuardians of the Galaxy  A group of intergalactic criminals are forced ...   \nPrometheus               Following clues to the origin of mankind, a te...   \n\n                             director  \\\nTitle                                   \nGuardians of the Galaxy    James Gunn   \nPrometheus               Ridley Scott   \n\n                                                                    actors  \\\nTitle                                                                        \nGuardians of the Galaxy  Chris Pratt, Vin Diesel, Bradley Cooper, Zoe S...   \nPrometheus               Noomi Rapace, Logan Marshall-Green, Michael Fa...   \n\n                         year  runtime  rating   votes  revenue_millions  \\\nTitle                                                                      \nGuardians of the Galaxy  2014      121     8.1  757074            333.13   \nPrometheus               2012      124     7.0  485820            126.46   \n\n                         metascore rating_category my_rating_category  \nTitle                                                                  \nGuardians of the Galaxy       76.0            good               good  \nPrometheus                    65.0             bad                bad  ",
      "text/html": "<div>\n<style scoped>\n    .dataframe tbody tr th:only-of-type {\n        vertical-align: middle;\n    }\n\n    .dataframe tbody tr th {\n        vertical-align: top;\n    }\n\n    .dataframe thead th {\n        text-align: right;\n    }\n</style>\n<table border=\"1\" class=\"dataframe\">\n  <thead>\n    <tr style=\"text-align: right;\">\n      <th></th>\n      <th>rank</th>\n      <th>genre</th>\n      <th>description</th>\n      <th>director</th>\n      <th>actors</th>\n      <th>year</th>\n      <th>runtime</th>\n      <th>rating</th>\n      <th>votes</th>\n      <th>revenue_millions</th>\n      <th>metascore</th>\n      <th>rating_category</th>\n      <th>my_rating_category</th>\n    </tr>\n    <tr>\n      <th>Title</th>\n      <th></th>\n      <th></th>\n      <th></th>\n      <th></th>\n      <th></th>\n      <th></th>\n      <th></th>\n      <th></th>\n      <th></th>\n      <th></th>\n      <th></th>\n      <th></th>\n      <th></th>\n    </tr>\n  </thead>\n  <tbody>\n    <tr>\n      <th>Guardians of the Galaxy</th>\n      <td>1</td>\n      <td>Action,Adventure,Sci-Fi</td>\n      <td>A group of intergalactic criminals are forced ...</td>\n      <td>James Gunn</td>\n      <td>Chris Pratt, Vin Diesel, Bradley Cooper, Zoe S...</td>\n      <td>2014</td>\n      <td>121</td>\n      <td>8.1</td>\n      <td>757074</td>\n      <td>333.13</td>\n      <td>76.0</td>\n      <td>good</td>\n      <td>good</td>\n    </tr>\n    <tr>\n      <th>Prometheus</th>\n      <td>2</td>\n      <td>Adventure,Mystery,Sci-Fi</td>\n      <td>Following clues to the origin of mankind, a te...</td>\n      <td>Ridley Scott</td>\n      <td>Noomi Rapace, Logan Marshall-Green, Michael Fa...</td>\n      <td>2012</td>\n      <td>124</td>\n      <td>7.0</td>\n      <td>485820</td>\n      <td>126.46</td>\n      <td>65.0</td>\n      <td>bad</td>\n      <td>bad</td>\n    </tr>\n  </tbody>\n</table>\n</div>"
     },
     "metadata": {}
    }
   ]
  },
  {
   "cell_type": "markdown",
   "source": "<a style='text-decoration:none;line-height:16px;display:flex;color:#5B5B62;padding:10px;justify-content:end;' href='https://deepnote.com?utm_source=created-in-deepnote-cell&projectId=7d3ce7c8-a514-49e4-9ba4-a5899ac52ea5' target=\"_blank\">\n<img alt='Created in deepnote.com' style='display:inline;max-height:16px;margin:0px;margin-right:7.5px;' src='data:image/svg+xml;base64,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' > </img>\nCreated in <span style='font-weight:600;margin-left:4px;'>Deepnote</span></a>",
   "metadata": {
    "tags": [],
    "created_in_deepnote_cell": true,
    "deepnote_cell_type": "markdown"
   }
  }
 ],
 "nbformat": 4,
 "nbformat_minor": 0,
 "metadata": {
  "colab": {
   "name": "lesson_2 - pandas.ipynb",
   "provenance": [],
   "collapsed_sections": [],
   "toc_visible": true
  },
  "kernelspec": {
   "name": "python3",
   "display_name": "Python 3"
  },
  "deepnote_notebook_id": "8c803555-7a72-43f2-bbbb-0ee6bb14412b",
  "deepnote": {},
  "deepnote_execution_queue": []
 }
}